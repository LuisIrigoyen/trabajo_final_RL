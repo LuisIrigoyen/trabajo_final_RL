{
  "nbformat": 4,
  "nbformat_minor": 0,
  "metadata": {
    "colab": {
      "provenance": [],
      "gpuType": "A100",
      "machine_shape": "hm",
      "include_colab_link": true
    },
    "kernelspec": {
      "name": "python3",
      "display_name": "Python 3"
    },
    "language_info": {
      "name": "python"
    },
    "accelerator": "GPU"
  },
  "cells": [
    {
      "cell_type": "markdown",
      "metadata": {
        "id": "view-in-github",
        "colab_type": "text"
      },
      "source": [
        "<a href=\"https://colab.research.google.com/github/LuisIrigoyen/trabajo_final_RL/blob/main/proyecto_final_APR_V07_en_colab.ipynb\" target=\"_parent\"><img src=\"https://colab.research.google.com/assets/colab-badge.svg\" alt=\"Open In Colab\"/></a>"
      ]
    },
    {
      "cell_type": "code",
      "source": [],
      "metadata": {
        "id": "wVXkh8rCNl45"
      },
      "execution_count": null,
      "outputs": []
    },
    {
      "cell_type": "markdown",
      "source": [
        "## 1.2. Localizar entorno de trabajo: Google colab o local"
      ],
      "metadata": {
        "id": "D89Ue2uZNtzn"
      }
    },
    {
      "cell_type": "code",
      "execution_count": 1,
      "metadata": {
        "id": "7EQ46sNGLj22"
      },
      "outputs": [],
      "source": [
        "# ATENCIÓN!! Modificar ruta relativa a la práctica si es distinta (drive_root)\n",
        "mount='/content/gdrive'\n",
        "drive_root = mount + \"/My Drive/08_MIAR/actividades/proyecto practico\"\n",
        "\n",
        "try:\n",
        "  from google.colab import drive\n",
        "  IN_COLAB=True\n",
        "except:\n",
        "  IN_COLAB=False\n"
      ]
    },
    {
      "cell_type": "markdown",
      "source": [
        "## 1.3. Montar carpeta de datos local (solo Colab)"
      ],
      "metadata": {
        "id": "6on2PNxZN51A"
      }
    },
    {
      "cell_type": "code",
      "source": [
        "# Switch to the directory on the Google Drive that you want to use\n",
        "import os\n",
        "if IN_COLAB:\n",
        "  print(\"We're running Colab\")\n",
        "\n",
        "  if IN_COLAB:\n",
        "    # Mount the Google Drive at mount\n",
        "    print(\"Colab: mounting Google drive on \", mount)\n",
        "\n",
        "    drive.mount(mount)\n",
        "\n",
        "    # Create drive_root if it doesn't exist\n",
        "    create_drive_root = True\n",
        "    if create_drive_root:\n",
        "      print(\"\\nColab: making sure \", drive_root, \" exists.\")\n",
        "      os.makedirs(drive_root, exist_ok=True)\n",
        "\n",
        "    # Change to the directory\n",
        "    print(\"\\nColab: Changing directory to \", drive_root)\n",
        "    %cd $drive_root\n",
        "# Verify we're in the correct working directory\n",
        "%pwd\n",
        "print(\"Archivos en el directorio: \")\n",
        "print(os.listdir())"
      ],
      "metadata": {
        "colab": {
          "base_uri": "https://localhost:8080/"
        },
        "id": "inTxnmr0MKCH",
        "outputId": "beb4694c-ffca-4112-e6a9-486e9be9030d"
      },
      "execution_count": 2,
      "outputs": [
        {
          "output_type": "stream",
          "name": "stdout",
          "text": [
            "We're running Colab\n",
            "Colab: mounting Google drive on  /content/gdrive\n",
            "Drive already mounted at /content/gdrive; to attempt to forcibly remount, call drive.mount(\"/content/gdrive\", force_remount=True).\n",
            "\n",
            "Colab: making sure  /content/gdrive/My Drive/08_MIAR/actividades/proyecto practico  exists.\n",
            "\n",
            "Colab: Changing directory to  /content/gdrive/My Drive/08_MIAR/actividades/proyecto practico\n",
            "/content/gdrive/My Drive/08_MIAR/actividades/proyecto practico\n",
            "Archivos en el directorio: \n",
            "['dqn_models', 'checkpoints', 'dqn_05_weights.h5f.data-00000-of-00001', 'dqn_05_weights.h5f.index', 'dqn_06_weights.h5f.index', 'checkpoint', 'dqn_06_weights.h5f.data-00000-of-00001']\n"
          ]
        }
      ]
    },
    {
      "cell_type": "markdown",
      "source": [
        "## 1.4. Instalar librerías necesarias"
      ],
      "metadata": {
        "id": "MYrJ03QWN9Hw"
      }
    },
    {
      "cell_type": "code",
      "source": [
        "if IN_COLAB:\n",
        "  %pip install gym==0.17.3\n",
        "  %pip install git+https://github.com/Kojoley/atari-py.git\n",
        "  %pip install keras-rl2==1.0.5\n",
        "  %pip install tensorflow==2.12  #2.8\n",
        "else:\n",
        "  %pip install gym==0.17.3\n",
        "  %pip install git+https://github.com/Kojoley/atari-py.git\n",
        "  %pip install pyglet==1.5.0\n",
        "  %pip install h5py==3.1.0\n",
        "  %pip install Pillow==9.5.0\n",
        "  %pip install keras-rl3\n",
        "  %pip install Keras==2.2.4\n",
        "  %pip install tensorflow==2.10.1\n",
        "  %pip install torch==2.0.1\n",
        "  %pip install agents==1.4.0"
      ],
      "metadata": {
        "colab": {
          "base_uri": "https://localhost:8080/"
        },
        "id": "zSbNMsl4MTo3",
        "outputId": "147f534a-3f90-43da-8de6-99bd0cb13753"
      },
      "execution_count": 3,
      "outputs": [
        {
          "output_type": "stream",
          "name": "stdout",
          "text": [
            "Requirement already satisfied: gym==0.17.3 in /usr/local/lib/python3.11/dist-packages (0.17.3)\n",
            "Requirement already satisfied: scipy in /usr/local/lib/python3.11/dist-packages (from gym==0.17.3) (1.15.3)\n",
            "Requirement already satisfied: numpy>=1.10.4 in /usr/local/lib/python3.11/dist-packages (from gym==0.17.3) (1.23.5)\n",
            "Requirement already satisfied: pyglet<=1.5.0,>=1.4.0 in /usr/local/lib/python3.11/dist-packages (from gym==0.17.3) (1.5.0)\n",
            "Requirement already satisfied: cloudpickle<1.7.0,>=1.2.0 in /usr/local/lib/python3.11/dist-packages (from gym==0.17.3) (1.6.0)\n",
            "Requirement already satisfied: future in /usr/local/lib/python3.11/dist-packages (from pyglet<=1.5.0,>=1.4.0->gym==0.17.3) (1.0.0)\n",
            "Collecting git+https://github.com/Kojoley/atari-py.git\n",
            "  Cloning https://github.com/Kojoley/atari-py.git to /tmp/pip-req-build-t9f7lvdv\n",
            "  Running command git clone --filter=blob:none --quiet https://github.com/Kojoley/atari-py.git /tmp/pip-req-build-t9f7lvdv\n",
            "  Resolved https://github.com/Kojoley/atari-py.git to commit 86a1e05c0a95e9e6233c3a413521fdb34ca8a089\n",
            "  Preparing metadata (setup.py) ... \u001b[?25l\u001b[?25hdone\n",
            "Requirement already satisfied: numpy in /usr/local/lib/python3.11/dist-packages (from atari-py==1.2.2) (1.23.5)\n",
            "Requirement already satisfied: keras-rl2==1.0.5 in /usr/local/lib/python3.11/dist-packages (1.0.5)\n",
            "Requirement already satisfied: tensorflow in /usr/local/lib/python3.11/dist-packages (from keras-rl2==1.0.5) (2.12.0)\n",
            "Requirement already satisfied: absl-py>=1.0.0 in /usr/local/lib/python3.11/dist-packages (from tensorflow->keras-rl2==1.0.5) (1.4.0)\n",
            "Requirement already satisfied: astunparse>=1.6.0 in /usr/local/lib/python3.11/dist-packages (from tensorflow->keras-rl2==1.0.5) (1.6.3)\n",
            "Requirement already satisfied: flatbuffers>=2.0 in /usr/local/lib/python3.11/dist-packages (from tensorflow->keras-rl2==1.0.5) (25.2.10)\n",
            "Requirement already satisfied: gast<=0.4.0,>=0.2.1 in /usr/local/lib/python3.11/dist-packages (from tensorflow->keras-rl2==1.0.5) (0.4.0)\n",
            "Requirement already satisfied: google-pasta>=0.1.1 in /usr/local/lib/python3.11/dist-packages (from tensorflow->keras-rl2==1.0.5) (0.2.0)\n",
            "Requirement already satisfied: grpcio<2.0,>=1.24.3 in /usr/local/lib/python3.11/dist-packages (from tensorflow->keras-rl2==1.0.5) (1.73.0)\n",
            "Requirement already satisfied: h5py>=2.9.0 in /usr/local/lib/python3.11/dist-packages (from tensorflow->keras-rl2==1.0.5) (3.14.0)\n",
            "Requirement already satisfied: jax>=0.3.15 in /usr/local/lib/python3.11/dist-packages (from tensorflow->keras-rl2==1.0.5) (0.4.30)\n",
            "Requirement already satisfied: keras<2.13,>=2.12.0 in /usr/local/lib/python3.11/dist-packages (from tensorflow->keras-rl2==1.0.5) (2.12.0)\n",
            "Requirement already satisfied: libclang>=13.0.0 in /usr/local/lib/python3.11/dist-packages (from tensorflow->keras-rl2==1.0.5) (18.1.1)\n",
            "Requirement already satisfied: numpy<1.24,>=1.22 in /usr/local/lib/python3.11/dist-packages (from tensorflow->keras-rl2==1.0.5) (1.23.5)\n",
            "Requirement already satisfied: opt-einsum>=2.3.2 in /usr/local/lib/python3.11/dist-packages (from tensorflow->keras-rl2==1.0.5) (3.4.0)\n",
            "Requirement already satisfied: packaging in /usr/local/lib/python3.11/dist-packages (from tensorflow->keras-rl2==1.0.5) (24.2)\n",
            "Requirement already satisfied: protobuf!=4.21.0,!=4.21.1,!=4.21.2,!=4.21.3,!=4.21.4,!=4.21.5,<5.0.0dev,>=3.20.3 in /usr/local/lib/python3.11/dist-packages (from tensorflow->keras-rl2==1.0.5) (4.25.8)\n",
            "Requirement already satisfied: setuptools in /usr/local/lib/python3.11/dist-packages (from tensorflow->keras-rl2==1.0.5) (75.2.0)\n",
            "Requirement already satisfied: six>=1.12.0 in /usr/local/lib/python3.11/dist-packages (from tensorflow->keras-rl2==1.0.5) (1.17.0)\n",
            "Requirement already satisfied: tensorboard<2.13,>=2.12 in /usr/local/lib/python3.11/dist-packages (from tensorflow->keras-rl2==1.0.5) (2.12.3)\n",
            "Requirement already satisfied: tensorflow-estimator<2.13,>=2.12.0 in /usr/local/lib/python3.11/dist-packages (from tensorflow->keras-rl2==1.0.5) (2.12.0)\n",
            "Requirement already satisfied: termcolor>=1.1.0 in /usr/local/lib/python3.11/dist-packages (from tensorflow->keras-rl2==1.0.5) (3.1.0)\n",
            "Requirement already satisfied: typing-extensions>=3.6.6 in /usr/local/lib/python3.11/dist-packages (from tensorflow->keras-rl2==1.0.5) (4.14.0)\n",
            "Requirement already satisfied: wrapt<1.15,>=1.11.0 in /usr/local/lib/python3.11/dist-packages (from tensorflow->keras-rl2==1.0.5) (1.14.1)\n",
            "Requirement already satisfied: tensorflow-io-gcs-filesystem>=0.23.1 in /usr/local/lib/python3.11/dist-packages (from tensorflow->keras-rl2==1.0.5) (0.37.1)\n",
            "Requirement already satisfied: wheel<1.0,>=0.23.0 in /usr/local/lib/python3.11/dist-packages (from astunparse>=1.6.0->tensorflow->keras-rl2==1.0.5) (0.45.1)\n",
            "Requirement already satisfied: jaxlib<=0.4.30,>=0.4.27 in /usr/local/lib/python3.11/dist-packages (from jax>=0.3.15->tensorflow->keras-rl2==1.0.5) (0.4.30)\n",
            "Requirement already satisfied: ml-dtypes>=0.2.0 in /usr/local/lib/python3.11/dist-packages (from jax>=0.3.15->tensorflow->keras-rl2==1.0.5) (0.4.1)\n",
            "Requirement already satisfied: scipy>=1.9 in /usr/local/lib/python3.11/dist-packages (from jax>=0.3.15->tensorflow->keras-rl2==1.0.5) (1.15.3)\n",
            "Requirement already satisfied: google-auth<3,>=1.6.3 in /usr/local/lib/python3.11/dist-packages (from tensorboard<2.13,>=2.12->tensorflow->keras-rl2==1.0.5) (2.38.0)\n",
            "Requirement already satisfied: google-auth-oauthlib<1.1,>=0.5 in /usr/local/lib/python3.11/dist-packages (from tensorboard<2.13,>=2.12->tensorflow->keras-rl2==1.0.5) (1.0.0)\n",
            "Requirement already satisfied: markdown>=2.6.8 in /usr/local/lib/python3.11/dist-packages (from tensorboard<2.13,>=2.12->tensorflow->keras-rl2==1.0.5) (3.8)\n",
            "Requirement already satisfied: requests<3,>=2.21.0 in /usr/local/lib/python3.11/dist-packages (from tensorboard<2.13,>=2.12->tensorflow->keras-rl2==1.0.5) (2.32.3)\n",
            "Requirement already satisfied: tensorboard-data-server<0.8.0,>=0.7.0 in /usr/local/lib/python3.11/dist-packages (from tensorboard<2.13,>=2.12->tensorflow->keras-rl2==1.0.5) (0.7.2)\n",
            "Requirement already satisfied: werkzeug>=1.0.1 in /usr/local/lib/python3.11/dist-packages (from tensorboard<2.13,>=2.12->tensorflow->keras-rl2==1.0.5) (3.1.3)\n",
            "Requirement already satisfied: cachetools<6.0,>=2.0.0 in /usr/local/lib/python3.11/dist-packages (from google-auth<3,>=1.6.3->tensorboard<2.13,>=2.12->tensorflow->keras-rl2==1.0.5) (5.5.2)\n",
            "Requirement already satisfied: pyasn1-modules>=0.2.1 in /usr/local/lib/python3.11/dist-packages (from google-auth<3,>=1.6.3->tensorboard<2.13,>=2.12->tensorflow->keras-rl2==1.0.5) (0.4.2)\n",
            "Requirement already satisfied: rsa<5,>=3.1.4 in /usr/local/lib/python3.11/dist-packages (from google-auth<3,>=1.6.3->tensorboard<2.13,>=2.12->tensorflow->keras-rl2==1.0.5) (4.9.1)\n",
            "Requirement already satisfied: requests-oauthlib>=0.7.0 in /usr/local/lib/python3.11/dist-packages (from google-auth-oauthlib<1.1,>=0.5->tensorboard<2.13,>=2.12->tensorflow->keras-rl2==1.0.5) (2.0.0)\n",
            "Requirement already satisfied: charset-normalizer<4,>=2 in /usr/local/lib/python3.11/dist-packages (from requests<3,>=2.21.0->tensorboard<2.13,>=2.12->tensorflow->keras-rl2==1.0.5) (3.4.2)\n",
            "Requirement already satisfied: idna<4,>=2.5 in /usr/local/lib/python3.11/dist-packages (from requests<3,>=2.21.0->tensorboard<2.13,>=2.12->tensorflow->keras-rl2==1.0.5) (3.10)\n",
            "Requirement already satisfied: urllib3<3,>=1.21.1 in /usr/local/lib/python3.11/dist-packages (from requests<3,>=2.21.0->tensorboard<2.13,>=2.12->tensorflow->keras-rl2==1.0.5) (2.4.0)\n",
            "Requirement already satisfied: certifi>=2017.4.17 in /usr/local/lib/python3.11/dist-packages (from requests<3,>=2.21.0->tensorboard<2.13,>=2.12->tensorflow->keras-rl2==1.0.5) (2025.4.26)\n",
            "Requirement already satisfied: MarkupSafe>=2.1.1 in /usr/local/lib/python3.11/dist-packages (from werkzeug>=1.0.1->tensorboard<2.13,>=2.12->tensorflow->keras-rl2==1.0.5) (3.0.2)\n",
            "Requirement already satisfied: pyasn1<0.7.0,>=0.6.1 in /usr/local/lib/python3.11/dist-packages (from pyasn1-modules>=0.2.1->google-auth<3,>=1.6.3->tensorboard<2.13,>=2.12->tensorflow->keras-rl2==1.0.5) (0.6.1)\n",
            "Requirement already satisfied: oauthlib>=3.0.0 in /usr/local/lib/python3.11/dist-packages (from requests-oauthlib>=0.7.0->google-auth-oauthlib<1.1,>=0.5->tensorboard<2.13,>=2.12->tensorflow->keras-rl2==1.0.5) (3.2.2)\n",
            "Requirement already satisfied: tensorflow==2.12 in /usr/local/lib/python3.11/dist-packages (2.12.0)\n",
            "Requirement already satisfied: absl-py>=1.0.0 in /usr/local/lib/python3.11/dist-packages (from tensorflow==2.12) (1.4.0)\n",
            "Requirement already satisfied: astunparse>=1.6.0 in /usr/local/lib/python3.11/dist-packages (from tensorflow==2.12) (1.6.3)\n",
            "Requirement already satisfied: flatbuffers>=2.0 in /usr/local/lib/python3.11/dist-packages (from tensorflow==2.12) (25.2.10)\n",
            "Requirement already satisfied: gast<=0.4.0,>=0.2.1 in /usr/local/lib/python3.11/dist-packages (from tensorflow==2.12) (0.4.0)\n",
            "Requirement already satisfied: google-pasta>=0.1.1 in /usr/local/lib/python3.11/dist-packages (from tensorflow==2.12) (0.2.0)\n",
            "Requirement already satisfied: grpcio<2.0,>=1.24.3 in /usr/local/lib/python3.11/dist-packages (from tensorflow==2.12) (1.73.0)\n",
            "Requirement already satisfied: h5py>=2.9.0 in /usr/local/lib/python3.11/dist-packages (from tensorflow==2.12) (3.14.0)\n",
            "Requirement already satisfied: jax>=0.3.15 in /usr/local/lib/python3.11/dist-packages (from tensorflow==2.12) (0.4.30)\n",
            "Requirement already satisfied: keras<2.13,>=2.12.0 in /usr/local/lib/python3.11/dist-packages (from tensorflow==2.12) (2.12.0)\n",
            "Requirement already satisfied: libclang>=13.0.0 in /usr/local/lib/python3.11/dist-packages (from tensorflow==2.12) (18.1.1)\n",
            "Requirement already satisfied: numpy<1.24,>=1.22 in /usr/local/lib/python3.11/dist-packages (from tensorflow==2.12) (1.23.5)\n",
            "Requirement already satisfied: opt-einsum>=2.3.2 in /usr/local/lib/python3.11/dist-packages (from tensorflow==2.12) (3.4.0)\n",
            "Requirement already satisfied: packaging in /usr/local/lib/python3.11/dist-packages (from tensorflow==2.12) (24.2)\n",
            "Requirement already satisfied: protobuf!=4.21.0,!=4.21.1,!=4.21.2,!=4.21.3,!=4.21.4,!=4.21.5,<5.0.0dev,>=3.20.3 in /usr/local/lib/python3.11/dist-packages (from tensorflow==2.12) (4.25.8)\n",
            "Requirement already satisfied: setuptools in /usr/local/lib/python3.11/dist-packages (from tensorflow==2.12) (75.2.0)\n",
            "Requirement already satisfied: six>=1.12.0 in /usr/local/lib/python3.11/dist-packages (from tensorflow==2.12) (1.17.0)\n",
            "Requirement already satisfied: tensorboard<2.13,>=2.12 in /usr/local/lib/python3.11/dist-packages (from tensorflow==2.12) (2.12.3)\n",
            "Requirement already satisfied: tensorflow-estimator<2.13,>=2.12.0 in /usr/local/lib/python3.11/dist-packages (from tensorflow==2.12) (2.12.0)\n",
            "Requirement already satisfied: termcolor>=1.1.0 in /usr/local/lib/python3.11/dist-packages (from tensorflow==2.12) (3.1.0)\n",
            "Requirement already satisfied: typing-extensions>=3.6.6 in /usr/local/lib/python3.11/dist-packages (from tensorflow==2.12) (4.14.0)\n",
            "Requirement already satisfied: wrapt<1.15,>=1.11.0 in /usr/local/lib/python3.11/dist-packages (from tensorflow==2.12) (1.14.1)\n",
            "Requirement already satisfied: tensorflow-io-gcs-filesystem>=0.23.1 in /usr/local/lib/python3.11/dist-packages (from tensorflow==2.12) (0.37.1)\n",
            "Requirement already satisfied: wheel<1.0,>=0.23.0 in /usr/local/lib/python3.11/dist-packages (from astunparse>=1.6.0->tensorflow==2.12) (0.45.1)\n",
            "Requirement already satisfied: jaxlib<=0.4.30,>=0.4.27 in /usr/local/lib/python3.11/dist-packages (from jax>=0.3.15->tensorflow==2.12) (0.4.30)\n",
            "Requirement already satisfied: ml-dtypes>=0.2.0 in /usr/local/lib/python3.11/dist-packages (from jax>=0.3.15->tensorflow==2.12) (0.4.1)\n",
            "Requirement already satisfied: scipy>=1.9 in /usr/local/lib/python3.11/dist-packages (from jax>=0.3.15->tensorflow==2.12) (1.15.3)\n",
            "Requirement already satisfied: google-auth<3,>=1.6.3 in /usr/local/lib/python3.11/dist-packages (from tensorboard<2.13,>=2.12->tensorflow==2.12) (2.38.0)\n",
            "Requirement already satisfied: google-auth-oauthlib<1.1,>=0.5 in /usr/local/lib/python3.11/dist-packages (from tensorboard<2.13,>=2.12->tensorflow==2.12) (1.0.0)\n",
            "Requirement already satisfied: markdown>=2.6.8 in /usr/local/lib/python3.11/dist-packages (from tensorboard<2.13,>=2.12->tensorflow==2.12) (3.8)\n",
            "Requirement already satisfied: requests<3,>=2.21.0 in /usr/local/lib/python3.11/dist-packages (from tensorboard<2.13,>=2.12->tensorflow==2.12) (2.32.3)\n",
            "Requirement already satisfied: tensorboard-data-server<0.8.0,>=0.7.0 in /usr/local/lib/python3.11/dist-packages (from tensorboard<2.13,>=2.12->tensorflow==2.12) (0.7.2)\n",
            "Requirement already satisfied: werkzeug>=1.0.1 in /usr/local/lib/python3.11/dist-packages (from tensorboard<2.13,>=2.12->tensorflow==2.12) (3.1.3)\n",
            "Requirement already satisfied: cachetools<6.0,>=2.0.0 in /usr/local/lib/python3.11/dist-packages (from google-auth<3,>=1.6.3->tensorboard<2.13,>=2.12->tensorflow==2.12) (5.5.2)\n",
            "Requirement already satisfied: pyasn1-modules>=0.2.1 in /usr/local/lib/python3.11/dist-packages (from google-auth<3,>=1.6.3->tensorboard<2.13,>=2.12->tensorflow==2.12) (0.4.2)\n",
            "Requirement already satisfied: rsa<5,>=3.1.4 in /usr/local/lib/python3.11/dist-packages (from google-auth<3,>=1.6.3->tensorboard<2.13,>=2.12->tensorflow==2.12) (4.9.1)\n",
            "Requirement already satisfied: requests-oauthlib>=0.7.0 in /usr/local/lib/python3.11/dist-packages (from google-auth-oauthlib<1.1,>=0.5->tensorboard<2.13,>=2.12->tensorflow==2.12) (2.0.0)\n",
            "Requirement already satisfied: charset-normalizer<4,>=2 in /usr/local/lib/python3.11/dist-packages (from requests<3,>=2.21.0->tensorboard<2.13,>=2.12->tensorflow==2.12) (3.4.2)\n",
            "Requirement already satisfied: idna<4,>=2.5 in /usr/local/lib/python3.11/dist-packages (from requests<3,>=2.21.0->tensorboard<2.13,>=2.12->tensorflow==2.12) (3.10)\n",
            "Requirement already satisfied: urllib3<3,>=1.21.1 in /usr/local/lib/python3.11/dist-packages (from requests<3,>=2.21.0->tensorboard<2.13,>=2.12->tensorflow==2.12) (2.4.0)\n",
            "Requirement already satisfied: certifi>=2017.4.17 in /usr/local/lib/python3.11/dist-packages (from requests<3,>=2.21.0->tensorboard<2.13,>=2.12->tensorflow==2.12) (2025.4.26)\n",
            "Requirement already satisfied: MarkupSafe>=2.1.1 in /usr/local/lib/python3.11/dist-packages (from werkzeug>=1.0.1->tensorboard<2.13,>=2.12->tensorflow==2.12) (3.0.2)\n",
            "Requirement already satisfied: pyasn1<0.7.0,>=0.6.1 in /usr/local/lib/python3.11/dist-packages (from pyasn1-modules>=0.2.1->google-auth<3,>=1.6.3->tensorboard<2.13,>=2.12->tensorflow==2.12) (0.6.1)\n",
            "Requirement already satisfied: oauthlib>=3.0.0 in /usr/local/lib/python3.11/dist-packages (from requests-oauthlib>=0.7.0->google-auth-oauthlib<1.1,>=0.5->tensorboard<2.13,>=2.12->tensorflow==2.12) (3.2.2)\n"
          ]
        }
      ]
    },
    {
      "cell_type": "markdown",
      "source": [
        "## **PARTE 3**. Desarrollo y preguntas\n",
        "Importar librerías"
      ],
      "metadata": {
        "id": "mS60Dk-KO5e3"
      }
    },
    {
      "cell_type": "code",
      "source": [
        "from __future__ import division\n",
        "\n",
        "from PIL import Image\n",
        "import numpy as np\n",
        "import gym\n",
        "\n",
        "from tensorflow.keras.models import Sequential\n",
        "from tensorflow.keras.layers import Dense, Activation, Flatten, Convolution2D, Permute, BatchNormalization\n",
        "#from tensorflow.keras.optimizers import Adam\n",
        "import tensorflow.keras.backend as K\n",
        "\n",
        "from rl.agents.dqn import DQNAgent\n",
        "from rl.policy import LinearAnnealedPolicy, BoltzmannQPolicy, EpsGreedyQPolicy\n",
        "from rl.memory import SequentialMemory\n",
        "from rl.core import Processor\n",
        "from rl.callbacks import FileLogger, ModelIntervalCheckpoint"
      ],
      "metadata": {
        "id": "RX-2z9T1NPp_"
      },
      "execution_count": 4,
      "outputs": []
    },
    {
      "cell_type": "markdown",
      "source": [
        "#### Configuración base"
      ],
      "metadata": {
        "id": "NqJbsVR7POZA"
      }
    },
    {
      "cell_type": "code",
      "source": [
        "INPUT_SHAPE = (84, 84)\n",
        "WINDOW_LENGTH = 4\n",
        "\n",
        "env_name = 'SpaceInvaders-v0'\n",
        "env = gym.make(env_name)\n",
        "\n",
        "np.random.seed(123)\n",
        "env.seed(123)\n",
        "nb_actions = env.action_space.n\n",
        "\n",
        "#--- nuevo -- ejfm\n",
        "height, width, channels = env.observation_space.shape\n",
        "obs = env.reset()\n",
        "print(height, width, channels)\n",
        "print(\"Forma de la observación:\", obs.shape)  # Debe ser (height, width, channels)\n",
        "env.unwrapped.get_action_meanings()"
      ],
      "metadata": {
        "colab": {
          "base_uri": "https://localhost:8080/"
        },
        "id": "0FlafEtvOKR4",
        "outputId": "2420dd0c-8c70-4352-cae8-f4be2a777f8d"
      },
      "execution_count": 5,
      "outputs": [
        {
          "output_type": "stream",
          "name": "stdout",
          "text": [
            "210 160 3\n",
            "Forma de la observación: (210, 160, 3)\n"
          ]
        },
        {
          "output_type": "execute_result",
          "data": {
            "text/plain": [
              "['NOOP', 'FIRE', 'RIGHT', 'LEFT', 'RIGHTFIRE', 'LEFTFIRE']"
            ]
          },
          "metadata": {},
          "execution_count": 5
        }
      ]
    },
    {
      "cell_type": "code",
      "source": [
        "class AtariProcessor(Processor):\n",
        "    def process_observation(self, observation):\n",
        "        assert observation.ndim == 3  # (height, width, channel)\n",
        "        img = Image.fromarray(observation)\n",
        "        img = img.resize(INPUT_SHAPE).convert('L')\n",
        "        processed_observation = np.array(img)\n",
        "        assert processed_observation.shape == INPUT_SHAPE\n",
        "        return processed_observation.astype('uint8')\n",
        "\n",
        "    def process_state_batch(self, batch):\n",
        "\n",
        "        # ejfm -- modificado\n",
        "        # Agrega la dimensión de canales (axis=-1) si no está presente\n",
        "        if batch.ndim == 4:                         # Forma: (batch_size, window_length, h, w)\n",
        "            batch = np.expand_dims(batch, axis=-1)  # Nueva forma: (batch_size, window_length, h, w, 1)\n",
        "            processed_batch = batch.astype('float32') / 255.\n",
        "        return processed_batch\n",
        "\n",
        "    def process_reward(self, reward):\n",
        "        return np.clip(reward, -1., 1.)"
      ],
      "metadata": {
        "id": "YSGPGszsOOAw"
      },
      "execution_count": 6,
      "outputs": []
    },
    {
      "cell_type": "markdown",
      "source": [
        "## 1. EJFM Implementación de la red neuronal"
      ],
      "metadata": {
        "id": "Sg54U9vFZEBQ"
      }
    },
    {
      "cell_type": "code",
      "source": [
        "# Habilita estas opciones ANTES de crear el modelo\n",
        "import tensorflow as tf\n",
        "\n",
        "physical_devices = tf.config.list_physical_devices('GPU')\n",
        "if physical_devices:\n",
        "    tf.config.experimental.set_memory_growth(physical_devices[0], True)\n",
        "    tf.config.optimizer.set_jit(True)  # Habilita XLA para aceleración\n",
        "\n",
        "# Aceleración XLA (compilación optimizada)\n",
        "tf.config.optimizer.set_jit(True)"
      ],
      "metadata": {
        "id": "apBzlkW9FOWg"
      },
      "execution_count": 7,
      "outputs": []
    },
    {
      "cell_type": "code",
      "source": [
        "def build_model(height, width, channels, actions):\n",
        "    model = Sequential()\n",
        "\n",
        "    model.add(Convolution2D(32, (8, 8), strides=4, padding='same', input_shape=(4,84,84,1)))\n",
        "    model.add(Activation('relu'))\n",
        "\n",
        "    model.add(Convolution2D(64, (4, 4), strides=2, padding='same'))\n",
        "    model.add(Activation('relu'))\n",
        "\n",
        "    model.add(Flatten())\n",
        "\n",
        "    model.add(Dense(256))\n",
        "    model.add(Activation('relu'))\n",
        "\n",
        "    # Capa de salida\n",
        "    model.add(Dense(actions, activation='linear'))\n",
        "\n",
        "    return model"
      ],
      "metadata": {
        "id": "JhwO3z2oPVq3"
      },
      "execution_count": 19,
      "outputs": []
    },
    {
      "cell_type": "code",
      "source": [
        "model = build_model(84, 84, 1, nb_actions)\n",
        "model.summary()"
      ],
      "metadata": {
        "id": "3eBwiHKuZ6J_",
        "colab": {
          "base_uri": "https://localhost:8080/"
        },
        "outputId": "8e743406-6cfb-477b-fc49-ea20c1911f29"
      },
      "execution_count": 20,
      "outputs": [
        {
          "output_type": "stream",
          "name": "stdout",
          "text": [
            "Model: \"sequential_1\"\n",
            "_________________________________________________________________\n",
            " Layer (type)                Output Shape              Param #   \n",
            "=================================================================\n",
            " conv2d_2 (Conv2D)           (None, 4, 21, 21, 32)     2080      \n",
            "                                                                 \n",
            " activation_3 (Activation)   (None, 4, 21, 21, 32)     0         \n",
            "                                                                 \n",
            " conv2d_3 (Conv2D)           (None, 4, 11, 11, 64)     32832     \n",
            "                                                                 \n",
            " activation_4 (Activation)   (None, 4, 11, 11, 64)     0         \n",
            "                                                                 \n",
            " flatten_1 (Flatten)         (None, 30976)             0         \n",
            "                                                                 \n",
            " dense_4 (Dense)             (None, 256)               7930112   \n",
            "                                                                 \n",
            " activation_5 (Activation)   (None, 256)               0         \n",
            "                                                                 \n",
            " dense_5 (Dense)             (None, 6)                 1542      \n",
            "                                                                 \n",
            "=================================================================\n",
            "Total params: 7,966,566\n",
            "Trainable params: 7,966,566\n",
            "Non-trainable params: 0\n",
            "_________________________________________________________________\n"
          ]
        }
      ]
    },
    {
      "cell_type": "markdown",
      "source": [
        "## 2. EJFM Implementación de la solución DQN"
      ],
      "metadata": {
        "id": "KwJoe_1sZOX4"
      }
    },
    {
      "cell_type": "code",
      "source": [
        "from rl.agents import DQNAgent\n",
        "from rl.memory import SequentialMemory\n",
        "from rl.policy import LinearAnnealedPolicy, EpsGreedyQPolicy"
      ],
      "metadata": {
        "id": "_EDlLcIIPUsf"
      },
      "execution_count": 10,
      "outputs": []
    },
    {
      "cell_type": "code",
      "source": [
        "def build_agent(model, actions):\n",
        "    policy = LinearAnnealedPolicy(\n",
        "        EpsGreedyQPolicy(),\n",
        "        attr='eps',\n",
        "        value_max=1.0,\n",
        "        value_min=0.2,\n",
        "        value_test=0.1,\n",
        "        nb_steps=200000)\n",
        "\n",
        "    memory = SequentialMemory(limit=200000, window_length=4)\n",
        "\n",
        "    dqn = DQNAgent(model=model,\n",
        "                   memory=memory,\n",
        "                   policy=policy,\n",
        "                   enable_double_dqn=True,\n",
        "                   enable_dueling_network=True,\n",
        "                   dueling_type='avg',\n",
        "                   nb_actions=nb_actions,\n",
        "                   batch_size=32,\n",
        "                   target_model_update=10000,\n",
        "                   processor=AtariProcessor(),\n",
        "                   nb_steps_warmup=20000\n",
        "                  )\n",
        "    return dqn"
      ],
      "metadata": {
        "id": "7FbbInVqR0sg"
      },
      "execution_count": 28,
      "outputs": []
    },
    {
      "cell_type": "code",
      "source": [
        "from rl.callbacks import ModelIntervalCheckpoint\n",
        "\n",
        "# Guardar el modelo cada 10,000 pasos\n",
        "checkpoint_callback = ModelIntervalCheckpoint(\n",
        "    filepath='checkpoints/dqn_v07_weights_{step}.h5f',\n",
        "    interval=10000,\n",
        "    verbose=1\n",
        ")"
      ],
      "metadata": {
        "id": "-TmOagBXbWr4"
      },
      "execution_count": 29,
      "outputs": []
    },
    {
      "cell_type": "code",
      "source": [
        "import os\n",
        "os.makedirs(\"checkpoints\", exist_ok=True)"
      ],
      "metadata": {
        "id": "9ztUDcBVbdtJ"
      },
      "execution_count": 30,
      "outputs": []
    },
    {
      "cell_type": "code",
      "source": [
        "from keras.optimizers import Adam\n",
        "\n",
        "dqn = build_agent(model, nb_actions)\n",
        "dqn.compile(Adam(learning_rate=0.0005, epsilon=1e-4))\n"
      ],
      "metadata": {
        "id": "V-jxyOrdR0cg"
      },
      "execution_count": 31,
      "outputs": []
    },
    {
      "cell_type": "code",
      "source": [
        "from datetime import datetime\n",
        "\n",
        "print(f\"⏱ Tiempo de inicio: {datetime.now().strftime('%H:%M:%S')}\")\n",
        "\n",
        "dqn.fit(env, nb_steps=200000, visualize=False, verbose=2,callbacks=[checkpoint_callback])\n",
        "\n",
        "print(f\"⏱ Tiempo de fin: {datetime.now().strftime('%H:%M:%S')}\")\n",
        "\n",
        "# Guardando modelo\n",
        "dqn.save_weights('dqn_07_weights.h5f')\n"
      ],
      "metadata": {
        "colab": {
          "base_uri": "https://localhost:8080/"
        },
        "id": "AR2u9_7LR0WI",
        "outputId": "bd080859-f191-422e-b6e3-89f915dea7d4"
      },
      "execution_count": 33,
      "outputs": [
        {
          "output_type": "stream",
          "name": "stdout",
          "text": [
            "⏱ Tiempo de inicio: 12:28:29\n",
            "Training for 200000 steps ...\n",
            "    694/200000: episode: 1, duration: 3.297s, episode steps: 694, steps per second: 210, episode reward:  8.000, mean reward:  0.012 [ 0.000,  1.000], mean action: 2.481 [0.000, 5.000],  loss: --, mean_q: --, mean_eps: --\n",
            "   1762/200000: episode: 2, duration: 5.017s, episode steps: 1068, steps per second: 213, episode reward: 16.000, mean reward:  0.015 [ 0.000,  1.000], mean action: 2.487 [0.000, 5.000],  loss: --, mean_q: --, mean_eps: --\n",
            "   2555/200000: episode: 3, duration: 3.834s, episode steps: 793, steps per second: 207, episode reward:  8.000, mean reward:  0.010 [ 0.000,  1.000], mean action: 2.448 [0.000, 5.000],  loss: --, mean_q: --, mean_eps: --\n",
            "   3254/200000: episode: 4, duration: 3.403s, episode steps: 699, steps per second: 205, episode reward: 11.000, mean reward:  0.016 [ 0.000,  1.000], mean action: 2.406 [0.000, 5.000],  loss: --, mean_q: --, mean_eps: --\n",
            "   3951/200000: episode: 5, duration: 3.345s, episode steps: 697, steps per second: 208, episode reward: 11.000, mean reward:  0.016 [ 0.000,  1.000], mean action: 2.527 [0.000, 5.000],  loss: --, mean_q: --, mean_eps: --\n",
            "   4728/200000: episode: 6, duration: 3.769s, episode steps: 777, steps per second: 206, episode reward: 13.000, mean reward:  0.017 [ 0.000,  1.000], mean action: 2.529 [0.000, 5.000],  loss: --, mean_q: --, mean_eps: --\n",
            "   5371/200000: episode: 7, duration: 3.142s, episode steps: 643, steps per second: 205, episode reward:  6.000, mean reward:  0.009 [ 0.000,  1.000], mean action: 2.474 [0.000, 5.000],  loss: --, mean_q: --, mean_eps: --\n",
            "   6473/200000: episode: 8, duration: 5.207s, episode steps: 1102, steps per second: 212, episode reward: 12.000, mean reward:  0.011 [ 0.000,  1.000], mean action: 2.557 [0.000, 5.000],  loss: --, mean_q: --, mean_eps: --\n",
            "   7141/200000: episode: 9, duration: 3.155s, episode steps: 668, steps per second: 212, episode reward:  8.000, mean reward:  0.012 [ 0.000,  1.000], mean action: 2.469 [0.000, 5.000],  loss: --, mean_q: --, mean_eps: --\n",
            "   7790/200000: episode: 10, duration: 3.144s, episode steps: 649, steps per second: 206, episode reward: 11.000, mean reward:  0.017 [ 0.000,  1.000], mean action: 2.515 [0.000, 5.000],  loss: --, mean_q: --, mean_eps: --\n",
            "   8201/200000: episode: 11, duration: 1.985s, episode steps: 411, steps per second: 207, episode reward:  7.000, mean reward:  0.017 [ 0.000,  1.000], mean action: 2.550 [0.000, 5.000],  loss: --, mean_q: --, mean_eps: --\n",
            "   8718/200000: episode: 12, duration: 2.446s, episode steps: 517, steps per second: 211, episode reward:  6.000, mean reward:  0.012 [ 0.000,  1.000], mean action: 2.455 [0.000, 5.000],  loss: --, mean_q: --, mean_eps: --\n",
            "Step 40000: saving model to checkpoints/dqn_v07_weights_40000.h5f\n",
            "   9559/200000: episode: 13, duration: 4.043s, episode steps: 841, steps per second: 208, episode reward: 12.000, mean reward:  0.014 [ 0.000,  1.000], mean action: 2.501 [0.000, 5.000],  loss: --, mean_q: --, mean_eps: --\n",
            "  10391/200000: episode: 14, duration: 4.046s, episode steps: 832, steps per second: 206, episode reward:  8.000, mean reward:  0.010 [ 0.000,  1.000], mean action: 2.518 [0.000, 5.000],  loss: --, mean_q: --, mean_eps: --\n",
            "  11028/200000: episode: 15, duration: 3.013s, episode steps: 637, steps per second: 211, episode reward:  9.000, mean reward:  0.014 [ 0.000,  1.000], mean action: 2.562 [0.000, 5.000],  loss: --, mean_q: --, mean_eps: --\n",
            "  11859/200000: episode: 16, duration: 3.888s, episode steps: 831, steps per second: 214, episode reward: 12.000, mean reward:  0.014 [ 0.000,  1.000], mean action: 2.519 [0.000, 5.000],  loss: --, mean_q: --, mean_eps: --\n",
            "  12412/200000: episode: 17, duration: 2.595s, episode steps: 553, steps per second: 213, episode reward:  8.000, mean reward:  0.014 [ 0.000,  1.000], mean action: 2.586 [0.000, 5.000],  loss: --, mean_q: --, mean_eps: --\n",
            "  13137/200000: episode: 18, duration: 3.474s, episode steps: 725, steps per second: 209, episode reward:  8.000, mean reward:  0.011 [ 0.000,  1.000], mean action: 2.432 [0.000, 5.000],  loss: --, mean_q: --, mean_eps: --\n",
            "  13992/200000: episode: 19, duration: 3.970s, episode steps: 855, steps per second: 215, episode reward: 17.000, mean reward:  0.020 [ 0.000,  1.000], mean action: 2.601 [0.000, 5.000],  loss: --, mean_q: --, mean_eps: --\n",
            "  14369/200000: episode: 20, duration: 1.760s, episode steps: 377, steps per second: 214, episode reward:  5.000, mean reward:  0.013 [ 0.000,  1.000], mean action: 2.578 [0.000, 5.000],  loss: --, mean_q: --, mean_eps: --\n",
            "  14801/200000: episode: 21, duration: 2.012s, episode steps: 432, steps per second: 215, episode reward:  5.000, mean reward:  0.012 [ 0.000,  1.000], mean action: 2.558 [0.000, 5.000],  loss: --, mean_q: --, mean_eps: --\n",
            "  15999/200000: episode: 22, duration: 5.676s, episode steps: 1198, steps per second: 211, episode reward: 16.000, mean reward:  0.013 [ 0.000,  1.000], mean action: 2.512 [0.000, 5.000],  loss: --, mean_q: --, mean_eps: --\n",
            "  16892/200000: episode: 23, duration: 4.175s, episode steps: 893, steps per second: 214, episode reward: 15.000, mean reward:  0.017 [ 0.000,  1.000], mean action: 2.543 [0.000, 5.000],  loss: --, mean_q: --, mean_eps: --\n",
            "  17577/200000: episode: 24, duration: 3.214s, episode steps: 685, steps per second: 213, episode reward:  7.000, mean reward:  0.010 [ 0.000,  1.000], mean action: 2.549 [0.000, 5.000],  loss: --, mean_q: --, mean_eps: --\n",
            "  18275/200000: episode: 25, duration: 3.333s, episode steps: 698, steps per second: 209, episode reward:  8.000, mean reward:  0.011 [ 0.000,  1.000], mean action: 2.415 [0.000, 5.000],  loss: --, mean_q: --, mean_eps: --\n",
            "Step 50000: saving model to checkpoints/dqn_v07_weights_50000.h5f\n",
            "  18827/200000: episode: 26, duration: 2.721s, episode steps: 552, steps per second: 203, episode reward:  8.000, mean reward:  0.014 [ 0.000,  1.000], mean action: 2.505 [0.000, 5.000],  loss: --, mean_q: --, mean_eps: --\n",
            "  19662/200000: episode: 27, duration: 3.913s, episode steps: 835, steps per second: 213, episode reward: 13.000, mean reward:  0.016 [ 0.000,  1.000], mean action: 2.503 [0.000, 5.000],  loss: --, mean_q: --, mean_eps: --\n",
            "  20205/200000: episode: 28, duration: 27.853s, episode steps: 543, steps per second:  19, episode reward:  7.000, mean reward:  0.013 [ 0.000,  1.000], mean action: 2.626 [0.000, 5.000],  loss: 0.008006, mean_q: 0.104212, mean_eps: 0.919590\n",
            "  20688/200000: episode: 29, duration: 62.021s, episode steps: 483, steps per second:   8, episode reward:  3.000, mean reward:  0.006 [ 0.000,  1.000], mean action: 2.520 [0.000, 5.000],  loss: 0.006261, mean_q: 0.094239, mean_eps: 0.918216\n",
            "  21591/200000: episode: 30, duration: 116.533s, episode steps: 903, steps per second:   8, episode reward: 18.000, mean reward:  0.020 [ 0.000,  1.000], mean action: 2.550 [0.000, 5.000],  loss: 0.006961, mean_q: 0.093968, mean_eps: 0.915444\n",
            "  22336/200000: episode: 31, duration: 95.188s, episode steps: 745, steps per second:   8, episode reward: 10.000, mean reward:  0.013 [ 0.000,  1.000], mean action: 2.426 [0.000, 5.000],  loss: 0.006426, mean_q: 0.087955, mean_eps: 0.912148\n",
            "  22760/200000: episode: 32, duration: 54.554s, episode steps: 424, steps per second:   8, episode reward:  5.000, mean reward:  0.012 [ 0.000,  1.000], mean action: 2.488 [0.000, 5.000],  loss: 0.007159, mean_q: 0.091354, mean_eps: 0.909810\n",
            "  23487/200000: episode: 33, duration: 93.757s, episode steps: 727, steps per second:   8, episode reward: 13.000, mean reward:  0.018 [ 0.000,  1.000], mean action: 2.580 [0.000, 5.000],  loss: 0.006744, mean_q: 0.093022, mean_eps: 0.907508\n",
            "  23877/200000: episode: 34, duration: 50.230s, episode steps: 390, steps per second:   8, episode reward:  7.000, mean reward:  0.018 [ 0.000,  1.000], mean action: 2.423 [0.000, 5.000],  loss: 0.006663, mean_q: 0.092462, mean_eps: 0.905274\n",
            "  24374/200000: episode: 35, duration: 64.010s, episode steps: 497, steps per second:   8, episode reward:  3.000, mean reward:  0.006 [ 0.000,  1.000], mean action: 2.588 [0.000, 5.000],  loss: 0.005680, mean_q: 0.088427, mean_eps: 0.903500\n",
            "  25130/200000: episode: 36, duration: 96.836s, episode steps: 756, steps per second:   8, episode reward: 11.000, mean reward:  0.015 [ 0.000,  1.000], mean action: 2.497 [0.000, 5.000],  loss: 0.006877, mean_q: 0.091251, mean_eps: 0.900994\n",
            "  25638/200000: episode: 37, duration: 65.213s, episode steps: 508, steps per second:   8, episode reward:  8.000, mean reward:  0.016 [ 0.000,  1.000], mean action: 2.594 [0.000, 5.000],  loss: 0.005924, mean_q: 0.088849, mean_eps: 0.898466\n",
            "  26014/200000: episode: 38, duration: 48.177s, episode steps: 376, steps per second:   8, episode reward:  6.000, mean reward:  0.016 [ 0.000,  1.000], mean action: 2.574 [0.000, 5.000],  loss: 0.006235, mean_q: 0.094196, mean_eps: 0.896698\n",
            "  26519/200000: episode: 39, duration: 64.416s, episode steps: 505, steps per second:   8, episode reward:  6.000, mean reward:  0.012 [ 0.000,  1.000], mean action: 2.408 [0.000, 5.000],  loss: 0.006453, mean_q: 0.092044, mean_eps: 0.894936\n",
            "  27155/200000: episode: 40, duration: 81.544s, episode steps: 636, steps per second:   8, episode reward:  7.000, mean reward:  0.011 [ 0.000,  1.000], mean action: 2.575 [0.000, 5.000],  loss: 0.005979, mean_q: 0.092451, mean_eps: 0.892654\n",
            "  27916/200000: episode: 41, duration: 97.958s, episode steps: 761, steps per second:   8, episode reward:  8.000, mean reward:  0.011 [ 0.000,  1.000], mean action: 2.498 [0.000, 5.000],  loss: 0.005905, mean_q: 0.089209, mean_eps: 0.889860\n",
            "  28539/200000: episode: 42, duration: 80.112s, episode steps: 623, steps per second:   8, episode reward:  9.000, mean reward:  0.014 [ 0.000,  1.000], mean action: 2.507 [0.000, 5.000],  loss: 0.006282, mean_q: 0.093623, mean_eps: 0.887092\n",
            "Step 60000: saving model to checkpoints/dqn_v07_weights_60000.h5f\n",
            "  29157/200000: episode: 43, duration: 79.554s, episode steps: 618, steps per second:   8, episode reward:  7.000, mean reward:  0.011 [ 0.000,  1.000], mean action: 2.516 [0.000, 5.000],  loss: 0.005883, mean_q: 0.092397, mean_eps: 0.884610\n",
            "  29641/200000: episode: 44, duration: 62.016s, episode steps: 484, steps per second:   8, episode reward:  4.000, mean reward:  0.008 [ 0.000,  1.000], mean action: 2.331 [0.000, 5.000],  loss: 0.006015, mean_q: 0.095277, mean_eps: 0.882406\n",
            "  30280/200000: episode: 45, duration: 81.988s, episode steps: 639, steps per second:   8, episode reward:  8.000, mean reward:  0.013 [ 0.000,  1.000], mean action: 2.388 [0.000, 5.000],  loss: 0.006445, mean_q: 0.115772, mean_eps: 0.880160\n",
            "  30767/200000: episode: 46, duration: 62.292s, episode steps: 487, steps per second:   8, episode reward:  9.000, mean reward:  0.018 [ 0.000,  1.000], mean action: 2.452 [0.000, 5.000],  loss: 0.006220, mean_q: 0.136176, mean_eps: 0.877908\n",
            "  31542/200000: episode: 47, duration: 98.986s, episode steps: 775, steps per second:   8, episode reward:  9.000, mean reward:  0.012 [ 0.000,  1.000], mean action: 2.366 [0.000, 5.000],  loss: 0.006471, mean_q: 0.135554, mean_eps: 0.875384\n",
            "  32007/200000: episode: 48, duration: 59.517s, episode steps: 465, steps per second:   8, episode reward:  9.000, mean reward:  0.019 [ 0.000,  1.000], mean action: 2.465 [0.000, 5.000],  loss: 0.006698, mean_q: 0.137194, mean_eps: 0.872904\n",
            "  32609/200000: episode: 49, duration: 77.137s, episode steps: 602, steps per second:   8, episode reward:  9.000, mean reward:  0.015 [ 0.000,  1.000], mean action: 2.596 [0.000, 5.000],  loss: 0.006074, mean_q: 0.137462, mean_eps: 0.870770\n",
            "  33122/200000: episode: 50, duration: 65.707s, episode steps: 513, steps per second:   8, episode reward:  5.000, mean reward:  0.010 [ 0.000,  1.000], mean action: 2.591 [0.000, 5.000],  loss: 0.005748, mean_q: 0.131349, mean_eps: 0.868540\n",
            "  33795/200000: episode: 51, duration: 86.037s, episode steps: 673, steps per second:   8, episode reward: 10.000, mean reward:  0.015 [ 0.000,  1.000], mean action: 2.429 [0.000, 5.000],  loss: 0.005379, mean_q: 0.131879, mean_eps: 0.866168\n",
            "  34427/200000: episode: 52, duration: 80.748s, episode steps: 632, steps per second:   8, episode reward:  8.000, mean reward:  0.013 [ 0.000,  1.000], mean action: 2.457 [0.000, 5.000],  loss: 0.005693, mean_q: 0.132202, mean_eps: 0.863558\n",
            "  34948/200000: episode: 53, duration: 66.619s, episode steps: 521, steps per second:   8, episode reward:  6.000, mean reward:  0.012 [ 0.000,  1.000], mean action: 2.393 [0.000, 5.000],  loss: 0.005267, mean_q: 0.127161, mean_eps: 0.861252\n",
            "  35716/200000: episode: 54, duration: 98.387s, episode steps: 768, steps per second:   8, episode reward:  6.000, mean reward:  0.008 [ 0.000,  1.000], mean action: 2.424 [0.000, 5.000],  loss: 0.005040, mean_q: 0.129115, mean_eps: 0.858674\n",
            "  36421/200000: episode: 55, duration: 90.372s, episode steps: 705, steps per second:   8, episode reward: 13.000, mean reward:  0.018 [ 0.000,  1.000], mean action: 2.582 [0.000, 5.000],  loss: 0.004968, mean_q: 0.127768, mean_eps: 0.855728\n",
            "  36814/200000: episode: 56, duration: 50.350s, episode steps: 393, steps per second:   8, episode reward:  3.000, mean reward:  0.008 [ 0.000,  1.000], mean action: 2.710 [0.000, 5.000],  loss: 0.005206, mean_q: 0.127453, mean_eps: 0.853532\n",
            "  37612/200000: episode: 57, duration: 102.107s, episode steps: 798, steps per second:   8, episode reward: 11.000, mean reward:  0.014 [ 0.000,  1.000], mean action: 2.472 [0.000, 5.000],  loss: 0.004639, mean_q: 0.126671, mean_eps: 0.851150\n",
            "  38515/200000: episode: 58, duration: 115.406s, episode steps: 903, steps per second:   8, episode reward: 12.000, mean reward:  0.013 [ 0.000,  1.000], mean action: 2.506 [0.000, 5.000],  loss: 0.004801, mean_q: 0.125184, mean_eps: 0.847748\n",
            "Step 70000: saving model to checkpoints/dqn_v07_weights_70000.h5f\n",
            "  39061/200000: episode: 59, duration: 70.195s, episode steps: 546, steps per second:   8, episode reward:  8.000, mean reward:  0.015 [ 0.000,  1.000], mean action: 2.423 [0.000, 5.000],  loss: 0.004920, mean_q: 0.129638, mean_eps: 0.844850\n",
            "  39587/200000: episode: 60, duration: 67.896s, episode steps: 526, steps per second:   8, episode reward:  4.000, mean reward:  0.008 [ 0.000,  1.000], mean action: 2.567 [0.000, 5.000],  loss: 0.004677, mean_q: 0.128354, mean_eps: 0.842706\n",
            "  40448/200000: episode: 61, duration: 110.498s, episode steps: 861, steps per second:   8, episode reward: 13.000, mean reward:  0.015 [ 0.000,  1.000], mean action: 2.488 [0.000, 5.000],  loss: 0.006149, mean_q: 0.162533, mean_eps: 0.839932\n",
            "  40795/200000: episode: 62, duration: 44.559s, episode steps: 347, steps per second:   8, episode reward:  4.000, mean reward:  0.012 [ 0.000,  1.000], mean action: 2.876 [0.000, 5.000],  loss: 0.006426, mean_q: 0.188061, mean_eps: 0.837516\n",
            "  41173/200000: episode: 63, duration: 48.643s, episode steps: 378, steps per second:   8, episode reward:  4.000, mean reward:  0.011 [ 0.000,  1.000], mean action: 2.516 [0.000, 5.000],  loss: 0.006685, mean_q: 0.182489, mean_eps: 0.836066\n",
            "  41563/200000: episode: 64, duration: 50.092s, episode steps: 390, steps per second:   8, episode reward:  8.000, mean reward:  0.021 [ 0.000,  1.000], mean action: 2.441 [0.000, 5.000],  loss: 0.006457, mean_q: 0.182345, mean_eps: 0.834530\n",
            "  42101/200000: episode: 65, duration: 69.036s, episode steps: 538, steps per second:   8, episode reward:  8.000, mean reward:  0.015 [ 0.000,  1.000], mean action: 2.494 [0.000, 5.000],  loss: 0.006136, mean_q: 0.179600, mean_eps: 0.832674\n",
            "  42883/200000: episode: 66, duration: 100.296s, episode steps: 782, steps per second:   8, episode reward: 10.000, mean reward:  0.013 [ 0.000,  1.000], mean action: 2.468 [0.000, 5.000],  loss: 0.005968, mean_q: 0.182263, mean_eps: 0.830034\n",
            "  43277/200000: episode: 67, duration: 50.557s, episode steps: 394, steps per second:   8, episode reward:  7.000, mean reward:  0.018 [ 0.000,  1.000], mean action: 2.508 [0.000, 5.000],  loss: 0.005751, mean_q: 0.173183, mean_eps: 0.827682\n",
            "  44015/200000: episode: 68, duration: 94.697s, episode steps: 738, steps per second:   8, episode reward:  8.000, mean reward:  0.011 [ 0.000,  1.000], mean action: 2.514 [0.000, 5.000],  loss: 0.005415, mean_q: 0.178073, mean_eps: 0.825418\n",
            "  44561/200000: episode: 69, duration: 70.093s, episode steps: 546, steps per second:   8, episode reward:  5.000, mean reward:  0.009 [ 0.000,  1.000], mean action: 2.489 [0.000, 5.000],  loss: 0.005946, mean_q: 0.179967, mean_eps: 0.822850\n",
            "  45846/200000: episode: 70, duration: 165.383s, episode steps: 1285, steps per second:   8, episode reward: 21.000, mean reward:  0.016 [ 0.000,  1.000], mean action: 2.602 [0.000, 5.000],  loss: 0.004962, mean_q: 0.174764, mean_eps: 0.819188\n",
            "  46688/200000: episode: 71, duration: 107.949s, episode steps: 842, steps per second:   8, episode reward:  9.000, mean reward:  0.011 [ 0.000,  1.000], mean action: 2.584 [0.000, 5.000],  loss: 0.005343, mean_q: 0.178780, mean_eps: 0.814934\n",
            "  47342/200000: episode: 72, duration: 84.011s, episode steps: 654, steps per second:   8, episode reward: 10.000, mean reward:  0.015 [ 0.000,  1.000], mean action: 2.375 [0.000, 5.000],  loss: 0.004671, mean_q: 0.173379, mean_eps: 0.811942\n",
            "  48259/200000: episode: 73, duration: 117.672s, episode steps: 917, steps per second:   8, episode reward: 15.000, mean reward:  0.016 [ 0.000,  1.000], mean action: 2.316 [0.000, 5.000],  loss: 0.005273, mean_q: 0.176419, mean_eps: 0.808800\n",
            "Step 80000: saving model to checkpoints/dqn_v07_weights_80000.h5f\n",
            "  48907/200000: episode: 74, duration: 83.286s, episode steps: 648, steps per second:   8, episode reward:  5.000, mean reward:  0.008 [ 0.000,  1.000], mean action: 2.545 [0.000, 5.000],  loss: 0.005179, mean_q: 0.175684, mean_eps: 0.805670\n",
            "  50012/200000: episode: 75, duration: 141.870s, episode steps: 1105, steps per second:   8, episode reward: 18.000, mean reward:  0.016 [ 0.000,  1.000], mean action: 2.533 [0.000, 5.000],  loss: 0.004800, mean_q: 0.174099, mean_eps: 0.802164\n",
            "  50606/200000: episode: 76, duration: 76.137s, episode steps: 594, steps per second:   8, episode reward:  7.000, mean reward:  0.012 [ 0.000,  1.000], mean action: 2.606 [0.000, 5.000],  loss: 0.008005, mean_q: 0.236149, mean_eps: 0.798766\n",
            "  51559/200000: episode: 77, duration: 122.367s, episode steps: 953, steps per second:   8, episode reward: 12.000, mean reward:  0.013 [ 0.000,  1.000], mean action: 2.429 [0.000, 5.000],  loss: 0.007676, mean_q: 0.234472, mean_eps: 0.795672\n",
            "  52228/200000: episode: 78, duration: 85.962s, episode steps: 669, steps per second:   8, episode reward: 10.000, mean reward:  0.015 [ 0.000,  1.000], mean action: 2.610 [0.000, 5.000],  loss: 0.007066, mean_q: 0.232418, mean_eps: 0.792428\n",
            "  53034/200000: episode: 79, duration: 103.367s, episode steps: 806, steps per second:   8, episode reward: 13.000, mean reward:  0.016 [ 0.000,  1.000], mean action: 2.476 [0.000, 5.000],  loss: 0.006324, mean_q: 0.225883, mean_eps: 0.789478\n",
            "  53408/200000: episode: 80, duration: 48.078s, episode steps: 374, steps per second:   8, episode reward:  5.000, mean reward:  0.013 [ 0.000,  1.000], mean action: 2.607 [0.000, 5.000],  loss: 0.006276, mean_q: 0.228343, mean_eps: 0.787118\n",
            "  54371/200000: episode: 81, duration: 123.458s, episode steps: 963, steps per second:   8, episode reward: 17.000, mean reward:  0.018 [ 0.000,  1.000], mean action: 2.565 [0.000, 5.000],  loss: 0.005817, mean_q: 0.225882, mean_eps: 0.784444\n",
            "  55362/200000: episode: 82, duration: 127.348s, episode steps: 991, steps per second:   8, episode reward: 18.000, mean reward:  0.018 [ 0.000,  1.000], mean action: 2.437 [0.000, 5.000],  loss: 0.005465, mean_q: 0.222632, mean_eps: 0.780536\n",
            "  55985/200000: episode: 83, duration: 79.944s, episode steps: 623, steps per second:   8, episode reward:  9.000, mean reward:  0.014 [ 0.000,  1.000], mean action: 2.502 [0.000, 5.000],  loss: 0.005559, mean_q: 0.223155, mean_eps: 0.777308\n",
            "  56609/200000: episode: 84, duration: 80.188s, episode steps: 624, steps per second:   8, episode reward:  7.000, mean reward:  0.011 [ 0.000,  1.000], mean action: 2.391 [0.000, 5.000],  loss: 0.005032, mean_q: 0.218694, mean_eps: 0.774814\n",
            "  57416/200000: episode: 85, duration: 103.693s, episode steps: 807, steps per second:   8, episode reward: 10.000, mean reward:  0.012 [ 0.000,  1.000], mean action: 2.590 [0.000, 5.000],  loss: 0.005067, mean_q: 0.216304, mean_eps: 0.771952\n",
            "  57819/200000: episode: 86, duration: 51.838s, episode steps: 403, steps per second:   8, episode reward:  5.000, mean reward:  0.012 [ 0.000,  1.000], mean action: 2.395 [0.000, 5.000],  loss: 0.005131, mean_q: 0.218298, mean_eps: 0.769532\n",
            "  58649/200000: episode: 87, duration: 107.020s, episode steps: 830, steps per second:   8, episode reward: 14.000, mean reward:  0.017 [ 0.000,  1.000], mean action: 2.451 [0.000, 5.000],  loss: 0.004955, mean_q: 0.219484, mean_eps: 0.767066\n",
            "Step 90000: saving model to checkpoints/dqn_v07_weights_90000.h5f\n",
            "  59393/200000: episode: 88, duration: 96.516s, episode steps: 744, steps per second:   8, episode reward: 11.000, mean reward:  0.015 [ 0.000,  1.000], mean action: 2.343 [0.000, 5.000],  loss: 0.004884, mean_q: 0.217971, mean_eps: 0.763918\n",
            "  60010/200000: episode: 89, duration: 79.784s, episode steps: 617, steps per second:   8, episode reward:  9.000, mean reward:  0.015 [ 0.000,  1.000], mean action: 2.470 [0.000, 5.000],  loss: 0.004800, mean_q: 0.216263, mean_eps: 0.761196\n",
            "  60380/200000: episode: 90, duration: 47.922s, episode steps: 370, steps per second:   8, episode reward:  4.000, mean reward:  0.011 [ 0.000,  1.000], mean action: 2.600 [0.000, 5.000],  loss: 0.008598, mean_q: 0.267450, mean_eps: 0.759222\n",
            "  61082/200000: episode: 91, duration: 91.097s, episode steps: 702, steps per second:   8, episode reward: 10.000, mean reward:  0.014 [ 0.000,  1.000], mean action: 2.550 [0.000, 5.000],  loss: 0.008048, mean_q: 0.260341, mean_eps: 0.757078\n",
            "  61477/200000: episode: 92, duration: 51.250s, episode steps: 395, steps per second:   8, episode reward:  8.000, mean reward:  0.020 [ 0.000,  1.000], mean action: 2.524 [0.000, 5.000],  loss: 0.008495, mean_q: 0.266100, mean_eps: 0.754884\n",
            "  62120/200000: episode: 93, duration: 83.188s, episode steps: 643, steps per second:   8, episode reward:  9.000, mean reward:  0.014 [ 0.000,  1.000], mean action: 2.563 [0.000, 5.000],  loss: 0.007259, mean_q: 0.267075, mean_eps: 0.752808\n",
            "  62925/200000: episode: 94, duration: 103.626s, episode steps: 805, steps per second:   8, episode reward: 13.000, mean reward:  0.016 [ 0.000,  1.000], mean action: 2.569 [0.000, 5.000],  loss: 0.006482, mean_q: 0.258046, mean_eps: 0.749912\n",
            "  63324/200000: episode: 95, duration: 51.442s, episode steps: 399, steps per second:   8, episode reward:  5.000, mean reward:  0.013 [ 0.000,  1.000], mean action: 2.461 [0.000, 5.000],  loss: 0.006458, mean_q: 0.258046, mean_eps: 0.747504\n",
            "  64167/200000: episode: 96, duration: 108.715s, episode steps: 843, steps per second:   8, episode reward: 12.000, mean reward:  0.014 [ 0.000,  1.000], mean action: 2.445 [0.000, 5.000],  loss: 0.006215, mean_q: 0.258437, mean_eps: 0.745020\n",
            "  64906/200000: episode: 97, duration: 95.365s, episode steps: 739, steps per second:   8, episode reward: 14.000, mean reward:  0.019 [ 0.000,  1.000], mean action: 2.495 [0.000, 5.000],  loss: 0.005431, mean_q: 0.247361, mean_eps: 0.741856\n",
            "  65590/200000: episode: 98, duration: 88.820s, episode steps: 684, steps per second:   8, episode reward:  9.000, mean reward:  0.013 [ 0.000,  1.000], mean action: 2.684 [0.000, 5.000],  loss: 0.005713, mean_q: 0.251407, mean_eps: 0.739010\n",
            "  66083/200000: episode: 99, duration: 63.823s, episode steps: 493, steps per second:   8, episode reward:  3.000, mean reward:  0.006 [ 0.000,  1.000], mean action: 2.566 [0.000, 5.000],  loss: 0.005554, mean_q: 0.252983, mean_eps: 0.736656\n",
            "  66902/200000: episode: 100, duration: 106.725s, episode steps: 819, steps per second:   8, episode reward: 12.000, mean reward:  0.015 [ 0.000,  1.000], mean action: 2.729 [0.000, 5.000],  loss: 0.005124, mean_q: 0.252000, mean_eps: 0.734032\n",
            "  68095/200000: episode: 101, duration: 154.770s, episode steps: 1193, steps per second:   8, episode reward: 14.000, mean reward:  0.012 [ 0.000,  1.000], mean action: 2.565 [0.000, 5.000],  loss: 0.005468, mean_q: 0.249826, mean_eps: 0.730008\n",
            "  68712/200000: episode: 102, duration: 80.018s, episode steps: 617, steps per second:   8, episode reward: 11.000, mean reward:  0.018 [ 0.000,  1.000], mean action: 2.428 [0.000, 5.000],  loss: 0.005135, mean_q: 0.252107, mean_eps: 0.726388\n",
            "Step 100000: saving model to checkpoints/dqn_v07_weights_100000.h5f\n",
            "  69290/200000: episode: 103, duration: 75.254s, episode steps: 578, steps per second:   8, episode reward:  4.000, mean reward:  0.007 [ 0.000,  1.000], mean action: 2.424 [0.000, 5.000],  loss: 0.005137, mean_q: 0.250495, mean_eps: 0.723998\n",
            "  70257/200000: episode: 104, duration: 125.440s, episode steps: 967, steps per second:   8, episode reward: 20.000, mean reward:  0.021 [ 0.000,  1.000], mean action: 2.450 [0.000, 5.000],  loss: 0.006183, mean_q: 0.265139, mean_eps: 0.720908\n",
            "  70952/200000: episode: 105, duration: 89.745s, episode steps: 695, steps per second:   8, episode reward: 11.000, mean reward:  0.016 [ 0.000,  1.000], mean action: 2.581 [0.000, 5.000],  loss: 0.009128, mean_q: 0.299141, mean_eps: 0.717584\n",
            "  71492/200000: episode: 106, duration: 69.922s, episode steps: 540, steps per second:   8, episode reward:  9.000, mean reward:  0.017 [ 0.000,  1.000], mean action: 2.496 [0.000, 5.000],  loss: 0.008328, mean_q: 0.295396, mean_eps: 0.715114\n",
            "  72283/200000: episode: 107, duration: 102.103s, episode steps: 791, steps per second:   8, episode reward:  8.000, mean reward:  0.010 [ 0.000,  1.000], mean action: 2.472 [0.000, 5.000],  loss: 0.007803, mean_q: 0.293083, mean_eps: 0.712452\n",
            "  73310/200000: episode: 108, duration: 132.638s, episode steps: 1027, steps per second:   8, episode reward: 18.000, mean reward:  0.018 [ 0.000,  1.000], mean action: 2.317 [0.000, 5.000],  loss: 0.007336, mean_q: 0.295753, mean_eps: 0.708816\n",
            "  73989/200000: episode: 109, duration: 88.043s, episode steps: 679, steps per second:   8, episode reward: 11.000, mean reward:  0.016 [ 0.000,  1.000], mean action: 2.383 [0.000, 5.000],  loss: 0.007464, mean_q: 0.295668, mean_eps: 0.705404\n",
            "  74503/200000: episode: 110, duration: 66.644s, episode steps: 514, steps per second:   8, episode reward: 11.000, mean reward:  0.021 [ 0.000,  1.000], mean action: 2.414 [0.000, 5.000],  loss: 0.006920, mean_q: 0.296396, mean_eps: 0.703018\n",
            "  75115/200000: episode: 111, duration: 79.135s, episode steps: 612, steps per second:   8, episode reward:  7.000, mean reward:  0.011 [ 0.000,  1.000], mean action: 2.623 [0.000, 5.000],  loss: 0.006787, mean_q: 0.293826, mean_eps: 0.700766\n",
            "  75471/200000: episode: 112, duration: 46.073s, episode steps: 356, steps per second:   8, episode reward:  4.000, mean reward:  0.011 [ 0.000,  1.000], mean action: 2.427 [0.000, 5.000],  loss: 0.006216, mean_q: 0.292981, mean_eps: 0.698830\n",
            "  76384/200000: episode: 113, duration: 118.681s, episode steps: 913, steps per second:   8, episode reward: 16.000, mean reward:  0.018 [ 0.000,  1.000], mean action: 2.473 [0.000, 5.000],  loss: 0.006455, mean_q: 0.291085, mean_eps: 0.696292\n",
            "  77019/200000: episode: 114, duration: 82.435s, episode steps: 635, steps per second:   8, episode reward:  9.000, mean reward:  0.014 [ 0.000,  1.000], mean action: 2.602 [0.000, 5.000],  loss: 0.006195, mean_q: 0.291871, mean_eps: 0.693196\n",
            "  77888/200000: episode: 115, duration: 112.362s, episode steps: 869, steps per second:   8, episode reward: 15.000, mean reward:  0.017 [ 0.000,  1.000], mean action: 2.703 [0.000, 5.000],  loss: 0.005726, mean_q: 0.292042, mean_eps: 0.690188\n",
            "Step 110000: saving model to checkpoints/dqn_v07_weights_110000.h5f\n",
            "  78770/200000: episode: 116, duration: 114.062s, episode steps: 882, steps per second:   8, episode reward: 15.000, mean reward:  0.017 [ 0.000,  1.000], mean action: 2.408 [0.000, 5.000],  loss: 0.006050, mean_q: 0.293275, mean_eps: 0.686686\n",
            "  79919/200000: episode: 117, duration: 148.127s, episode steps: 1149, steps per second:   8, episode reward: 19.000, mean reward:  0.017 [ 0.000,  1.000], mean action: 2.498 [0.000, 5.000],  loss: 0.005736, mean_q: 0.293470, mean_eps: 0.682624\n",
            "  80591/200000: episode: 118, duration: 86.910s, episode steps: 672, steps per second:   8, episode reward:  6.000, mean reward:  0.009 [ 0.000,  1.000], mean action: 2.439 [0.000, 5.000],  loss: 0.009794, mean_q: 0.341198, mean_eps: 0.678982\n",
            "  81211/200000: episode: 119, duration: 80.214s, episode steps: 620, steps per second:   8, episode reward:  6.000, mean reward:  0.010 [ 0.000,  1.000], mean action: 2.566 [0.000, 5.000],  loss: 0.009339, mean_q: 0.342749, mean_eps: 0.676398\n",
            "  82105/200000: episode: 120, duration: 115.798s, episode steps: 894, steps per second:   8, episode reward: 16.000, mean reward:  0.018 [ 0.000,  1.000], mean action: 2.587 [0.000, 5.000],  loss: 0.008296, mean_q: 0.338418, mean_eps: 0.673370\n",
            "  82651/200000: episode: 121, duration: 70.610s, episode steps: 546, steps per second:   8, episode reward:  7.000, mean reward:  0.013 [ 0.000,  1.000], mean action: 2.502 [0.000, 5.000],  loss: 0.008103, mean_q: 0.334913, mean_eps: 0.670490\n",
            "  83216/200000: episode: 122, duration: 73.166s, episode steps: 565, steps per second:   8, episode reward: 11.000, mean reward:  0.019 [ 0.000,  1.000], mean action: 2.582 [0.000, 5.000],  loss: 0.007677, mean_q: 0.334512, mean_eps: 0.668268\n",
            "  83940/200000: episode: 123, duration: 94.122s, episode steps: 724, steps per second:   8, episode reward: 14.000, mean reward:  0.019 [ 0.000,  1.000], mean action: 2.546 [0.000, 5.000],  loss: 0.007810, mean_q: 0.341072, mean_eps: 0.665690\n",
            "  85053/200000: episode: 124, duration: 145.044s, episode steps: 1113, steps per second:   8, episode reward: 20.000, mean reward:  0.018 [ 0.000,  1.000], mean action: 2.482 [0.000, 5.000],  loss: 0.007359, mean_q: 0.332330, mean_eps: 0.662016\n",
            "  85655/200000: episode: 125, duration: 78.334s, episode steps: 602, steps per second:   8, episode reward: 10.000, mean reward:  0.017 [ 0.000,  1.000], mean action: 2.417 [0.000, 5.000],  loss: 0.007588, mean_q: 0.336592, mean_eps: 0.658586\n",
            "  86181/200000: episode: 126, duration: 68.569s, episode steps: 526, steps per second:   8, episode reward:  4.000, mean reward:  0.008 [ 0.000,  1.000], mean action: 2.508 [0.000, 5.000],  loss: 0.006681, mean_q: 0.334813, mean_eps: 0.656330\n",
            "  86760/200000: episode: 127, duration: 75.412s, episode steps: 579, steps per second:   8, episode reward:  9.000, mean reward:  0.016 [ 0.000,  1.000], mean action: 2.539 [0.000, 5.000],  loss: 0.006900, mean_q: 0.333594, mean_eps: 0.654120\n",
            "  87151/200000: episode: 128, duration: 50.809s, episode steps: 391, steps per second:   8, episode reward:  1.000, mean reward:  0.003 [ 0.000,  1.000], mean action: 2.271 [0.000, 5.000],  loss: 0.006869, mean_q: 0.328702, mean_eps: 0.652180\n",
            "  88241/200000: episode: 129, duration: 141.516s, episode steps: 1090, steps per second:   8, episode reward: 15.000, mean reward:  0.014 [ 0.000,  1.000], mean action: 2.578 [0.000, 5.000],  loss: 0.006437, mean_q: 0.336782, mean_eps: 0.649218\n",
            "Step 120000: saving model to checkpoints/dqn_v07_weights_120000.h5f\n",
            "  88855/200000: episode: 130, duration: 79.864s, episode steps: 614, steps per second:   8, episode reward: 10.000, mean reward:  0.016 [ 0.000,  1.000], mean action: 2.565 [0.000, 5.000],  loss: 0.005985, mean_q: 0.337944, mean_eps: 0.645810\n",
            "  89467/200000: episode: 131, duration: 79.501s, episode steps: 612, steps per second:   8, episode reward:  5.000, mean reward:  0.008 [ 0.000,  1.000], mean action: 2.704 [0.000, 5.000],  loss: 0.006103, mean_q: 0.329359, mean_eps: 0.643358\n",
            "  90364/200000: episode: 132, duration: 116.486s, episode steps: 897, steps per second:   8, episode reward: 13.000, mean reward:  0.014 [ 0.000,  1.000], mean action: 2.715 [0.000, 5.000],  loss: 0.007858, mean_q: 0.346824, mean_eps: 0.640340\n",
            "  90957/200000: episode: 133, duration: 77.025s, episode steps: 593, steps per second:   8, episode reward:  5.000, mean reward:  0.008 [ 0.000,  1.000], mean action: 2.589 [0.000, 5.000],  loss: 0.009824, mean_q: 0.361043, mean_eps: 0.637360\n",
            "  91481/200000: episode: 134, duration: 68.022s, episode steps: 524, steps per second:   8, episode reward:  7.000, mean reward:  0.013 [ 0.000,  1.000], mean action: 2.523 [0.000, 5.000],  loss: 0.008777, mean_q: 0.368977, mean_eps: 0.635126\n",
            "  91832/200000: episode: 135, duration: 45.675s, episode steps: 351, steps per second:   8, episode reward:  4.000, mean reward:  0.011 [ 0.000,  1.000], mean action: 2.328 [0.000, 5.000],  loss: 0.008924, mean_q: 0.358470, mean_eps: 0.633376\n",
            "  92240/200000: episode: 136, duration: 53.021s, episode steps: 408, steps per second:   8, episode reward:  3.000, mean reward:  0.007 [ 0.000,  1.000], mean action: 2.201 [0.000, 5.000],  loss: 0.008657, mean_q: 0.359134, mean_eps: 0.631858\n",
            "  92991/200000: episode: 137, duration: 97.571s, episode steps: 751, steps per second:   8, episode reward: 13.000, mean reward:  0.017 [ 0.000,  1.000], mean action: 2.622 [0.000, 5.000],  loss: 0.008091, mean_q: 0.362053, mean_eps: 0.629540\n",
            "  93487/200000: episode: 138, duration: 64.385s, episode steps: 496, steps per second:   8, episode reward:  7.000, mean reward:  0.014 [ 0.000,  1.000], mean action: 2.369 [0.000, 5.000],  loss: 0.007748, mean_q: 0.358644, mean_eps: 0.627046\n",
            "  93991/200000: episode: 139, duration: 65.449s, episode steps: 504, steps per second:   8, episode reward:  8.000, mean reward:  0.016 [ 0.000,  1.000], mean action: 2.325 [0.000, 5.000],  loss: 0.007714, mean_q: 0.359979, mean_eps: 0.625046\n",
            "  94589/200000: episode: 140, duration: 77.808s, episode steps: 598, steps per second:   8, episode reward: 10.000, mean reward:  0.017 [ 0.000,  1.000], mean action: 2.811 [0.000, 5.000],  loss: 0.007365, mean_q: 0.360767, mean_eps: 0.622842\n",
            "  95308/200000: episode: 141, duration: 93.228s, episode steps: 719, steps per second:   8, episode reward:  9.000, mean reward:  0.013 [ 0.000,  1.000], mean action: 2.370 [0.000, 5.000],  loss: 0.007208, mean_q: 0.358289, mean_eps: 0.620208\n",
            "  95910/200000: episode: 142, duration: 78.154s, episode steps: 602, steps per second:   8, episode reward: 13.000, mean reward:  0.022 [ 0.000,  1.000], mean action: 2.233 [0.000, 5.000],  loss: 0.006752, mean_q: 0.361729, mean_eps: 0.617566\n",
            "  96601/200000: episode: 143, duration: 89.813s, episode steps: 691, steps per second:   8, episode reward: 11.000, mean reward:  0.016 [ 0.000,  1.000], mean action: 2.402 [0.000, 5.000],  loss: 0.006702, mean_q: 0.356748, mean_eps: 0.614980\n",
            "  97159/200000: episode: 144, duration: 72.645s, episode steps: 558, steps per second:   8, episode reward:  7.000, mean reward:  0.013 [ 0.000,  1.000], mean action: 2.505 [0.000, 5.000],  loss: 0.006957, mean_q: 0.364264, mean_eps: 0.612482\n",
            "  97762/200000: episode: 145, duration: 78.284s, episode steps: 603, steps per second:   8, episode reward:  5.000, mean reward:  0.008 [ 0.000,  1.000], mean action: 2.507 [0.000, 5.000],  loss: 0.006949, mean_q: 0.360508, mean_eps: 0.610160\n",
            "  98144/200000: episode: 146, duration: 49.654s, episode steps: 382, steps per second:   8, episode reward:  7.000, mean reward:  0.018 [ 0.000,  1.000], mean action: 2.736 [0.000, 5.000],  loss: 0.006756, mean_q: 0.354422, mean_eps: 0.608190\n",
            "Step 130000: saving model to checkpoints/dqn_v07_weights_130000.h5f\n",
            "  99005/200000: episode: 147, duration: 111.746s, episode steps: 861, steps per second:   8, episode reward: 14.000, mean reward:  0.016 [ 0.000,  1.000], mean action: 2.533 [0.000, 5.000],  loss: 0.006231, mean_q: 0.357501, mean_eps: 0.605704\n",
            "  99699/200000: episode: 148, duration: 90.103s, episode steps: 694, steps per second:   8, episode reward: 13.000, mean reward:  0.019 [ 0.000,  1.000], mean action: 2.441 [0.000, 5.000],  loss: 0.006099, mean_q: 0.358545, mean_eps: 0.602594\n",
            " 100352/200000: episode: 149, duration: 84.921s, episode steps: 653, steps per second:   8, episode reward: 14.000, mean reward:  0.021 [ 0.000,  1.000], mean action: 2.626 [0.000, 5.000],  loss: 0.008095, mean_q: 0.372737, mean_eps: 0.599900\n",
            " 100818/200000: episode: 150, duration: 60.509s, episode steps: 466, steps per second:   8, episode reward:  9.000, mean reward:  0.019 [ 0.000,  1.000], mean action: 2.509 [0.000, 5.000],  loss: 0.009651, mean_q: 0.387261, mean_eps: 0.597662\n",
            " 101554/200000: episode: 151, duration: 95.591s, episode steps: 736, steps per second:   8, episode reward: 16.000, mean reward:  0.022 [ 0.000,  1.000], mean action: 2.576 [0.000, 5.000],  loss: 0.009336, mean_q: 0.394308, mean_eps: 0.595258\n",
            " 102334/200000: episode: 152, duration: 101.316s, episode steps: 780, steps per second:   8, episode reward:  6.000, mean reward:  0.008 [ 0.000,  1.000], mean action: 2.412 [0.000, 5.000],  loss: 0.009339, mean_q: 0.384954, mean_eps: 0.592226\n",
            " 102830/200000: episode: 153, duration: 64.548s, episode steps: 496, steps per second:   8, episode reward:  6.000, mean reward:  0.012 [ 0.000,  1.000], mean action: 2.252 [0.000, 5.000],  loss: 0.008306, mean_q: 0.387848, mean_eps: 0.589674\n",
            " 103396/200000: episode: 154, duration: 73.585s, episode steps: 566, steps per second:   8, episode reward:  9.000, mean reward:  0.016 [ 0.000,  1.000], mean action: 2.470 [0.000, 5.000],  loss: 0.007779, mean_q: 0.378592, mean_eps: 0.587550\n",
            " 104174/200000: episode: 155, duration: 101.100s, episode steps: 778, steps per second:   8, episode reward: 12.000, mean reward:  0.015 [ 0.000,  1.000], mean action: 2.420 [0.000, 5.000],  loss: 0.007905, mean_q: 0.377399, mean_eps: 0.584862\n",
            " 104796/200000: episode: 156, duration: 80.856s, episode steps: 622, steps per second:   8, episode reward: 11.000, mean reward:  0.018 [ 0.000,  1.000], mean action: 2.439 [0.000, 5.000],  loss: 0.008082, mean_q: 0.389882, mean_eps: 0.582062\n",
            " 105781/200000: episode: 157, duration: 127.871s, episode steps: 985, steps per second:   8, episode reward: 17.000, mean reward:  0.017 [ 0.000,  1.000], mean action: 2.468 [0.000, 5.000],  loss: 0.008106, mean_q: 0.378654, mean_eps: 0.578848\n",
            " 106762/200000: episode: 158, duration: 127.498s, episode steps: 981, steps per second:   8, episode reward: 18.000, mean reward:  0.018 [ 0.000,  1.000], mean action: 2.489 [0.000, 5.000],  loss: 0.007187, mean_q: 0.381258, mean_eps: 0.574916\n",
            " 107449/200000: episode: 159, duration: 89.437s, episode steps: 687, steps per second:   8, episode reward:  9.000, mean reward:  0.013 [ 0.000,  1.000], mean action: 2.531 [0.000, 5.000],  loss: 0.006787, mean_q: 0.377483, mean_eps: 0.571580\n",
            " 107895/200000: episode: 160, duration: 58.086s, episode steps: 446, steps per second:   8, episode reward:  6.000, mean reward:  0.013 [ 0.000,  1.000], mean action: 2.446 [0.000, 5.000],  loss: 0.007149, mean_q: 0.390126, mean_eps: 0.569314\n",
            " 108500/200000: episode: 161, duration: 78.831s, episode steps: 605, steps per second:   8, episode reward:  8.000, mean reward:  0.013 [ 0.000,  1.000], mean action: 2.522 [0.000, 5.000],  loss: 0.006903, mean_q: 0.381527, mean_eps: 0.567212\n",
            "Step 140000: saving model to checkpoints/dqn_v07_weights_140000.h5f\n",
            " 109394/200000: episode: 162, duration: 116.434s, episode steps: 894, steps per second:   8, episode reward: 18.000, mean reward:  0.020 [ 0.000,  1.000], mean action: 2.559 [0.000, 5.000],  loss: 0.006508, mean_q: 0.380175, mean_eps: 0.564214\n",
            " 110347/200000: episode: 163, duration: 124.202s, episode steps: 953, steps per second:   8, episode reward: 23.000, mean reward:  0.024 [ 0.000,  1.000], mean action: 2.570 [0.000, 5.000],  loss: 0.008744, mean_q: 0.405297, mean_eps: 0.560520\n",
            " 110934/200000: episode: 164, duration: 76.668s, episode steps: 587, steps per second:   8, episode reward: 10.000, mean reward:  0.017 [ 0.000,  1.000], mean action: 2.622 [0.000, 5.000],  loss: 0.011757, mean_q: 0.430094, mean_eps: 0.557440\n",
            " 111606/200000: episode: 165, duration: 87.541s, episode steps: 672, steps per second:   8, episode reward: 12.000, mean reward:  0.018 [ 0.000,  1.000], mean action: 2.696 [0.000, 5.000],  loss: 0.010769, mean_q: 0.430612, mean_eps: 0.554922\n",
            " 112227/200000: episode: 166, duration: 81.180s, episode steps: 621, steps per second:   8, episode reward:  6.000, mean reward:  0.010 [ 0.000,  1.000], mean action: 2.295 [0.000, 5.000],  loss: 0.009962, mean_q: 0.429035, mean_eps: 0.552336\n",
            " 112818/200000: episode: 167, duration: 76.933s, episode steps: 591, steps per second:   8, episode reward: 10.000, mean reward:  0.017 [ 0.000,  1.000], mean action: 2.650 [0.000, 5.000],  loss: 0.008855, mean_q: 0.418667, mean_eps: 0.549912\n",
            " 113478/200000: episode: 168, duration: 85.840s, episode steps: 660, steps per second:   8, episode reward: 10.000, mean reward:  0.015 [ 0.000,  1.000], mean action: 2.485 [0.000, 5.000],  loss: 0.009364, mean_q: 0.426325, mean_eps: 0.547410\n",
            " 114015/200000: episode: 169, duration: 69.864s, episode steps: 537, steps per second:   8, episode reward:  4.000, mean reward:  0.007 [ 0.000,  1.000], mean action: 2.577 [0.000, 5.000],  loss: 0.008568, mean_q: 0.415714, mean_eps: 0.545016\n",
            " 115010/200000: episode: 170, duration: 129.449s, episode steps: 995, steps per second:   8, episode reward: 17.000, mean reward:  0.017 [ 0.000,  1.000], mean action: 2.435 [0.000, 5.000],  loss: 0.008689, mean_q: 0.430443, mean_eps: 0.541952\n",
            " 115659/200000: episode: 171, duration: 84.275s, episode steps: 649, steps per second:   8, episode reward: 16.000, mean reward:  0.025 [ 0.000,  1.000], mean action: 2.331 [0.000, 5.000],  loss: 0.008221, mean_q: 0.423306, mean_eps: 0.538664\n",
            " 116049/200000: episode: 172, duration: 50.814s, episode steps: 390, steps per second:   8, episode reward:  5.000, mean reward:  0.013 [ 0.000,  1.000], mean action: 2.426 [0.000, 5.000],  loss: 0.008964, mean_q: 0.440414, mean_eps: 0.536586\n",
            " 116572/200000: episode: 173, duration: 68.043s, episode steps: 523, steps per second:   8, episode reward:  9.000, mean reward:  0.017 [ 0.000,  1.000], mean action: 2.543 [0.000, 5.000],  loss: 0.008318, mean_q: 0.424198, mean_eps: 0.534760\n",
            " 117540/200000: episode: 174, duration: 126.176s, episode steps: 968, steps per second:   8, episode reward: 15.000, mean reward:  0.015 [ 0.000,  1.000], mean action: 2.601 [0.000, 5.000],  loss: 0.007872, mean_q: 0.425291, mean_eps: 0.531778\n",
            " 118641/200000: episode: 175, duration: 143.417s, episode steps: 1101, steps per second:   8, episode reward: 23.000, mean reward:  0.021 [ 0.000,  1.000], mean action: 2.594 [0.000, 5.000],  loss: 0.008323, mean_q: 0.428274, mean_eps: 0.527640\n",
            "Step 150000: saving model to checkpoints/dqn_v07_weights_150000.h5f\n",
            " 119950/200000: episode: 176, duration: 170.442s, episode steps: 1309, steps per second:   8, episode reward: 18.000, mean reward:  0.014 [ 0.000,  1.000], mean action: 2.278 [0.000, 5.000],  loss: 0.007924, mean_q: 0.422787, mean_eps: 0.522820\n",
            " 120461/200000: episode: 177, duration: 66.647s, episode steps: 511, steps per second:   8, episode reward:  7.000, mean reward:  0.014 [ 0.000,  1.000], mean action: 2.673 [0.000, 5.000],  loss: 0.012467, mean_q: 0.483312, mean_eps: 0.519180\n",
            " 121149/200000: episode: 178, duration: 89.686s, episode steps: 688, steps per second:   8, episode reward: 13.000, mean reward:  0.019 [ 0.000,  1.000], mean action: 2.552 [0.000, 5.000],  loss: 0.013012, mean_q: 0.485112, mean_eps: 0.516782\n",
            " 121964/200000: episode: 179, duration: 107.066s, episode steps: 815, steps per second:   8, episode reward: 15.000, mean reward:  0.018 [ 0.000,  1.000], mean action: 2.528 [0.000, 5.000],  loss: 0.011010, mean_q: 0.483794, mean_eps: 0.513776\n",
            " 122460/200000: episode: 180, duration: 65.240s, episode steps: 496, steps per second:   8, episode reward:  8.000, mean reward:  0.016 [ 0.000,  1.000], mean action: 2.331 [0.000, 5.000],  loss: 0.010544, mean_q: 0.484659, mean_eps: 0.511154\n",
            " 122970/200000: episode: 181, duration: 67.061s, episode steps: 510, steps per second:   8, episode reward: 10.000, mean reward:  0.020 [ 0.000,  1.000], mean action: 2.704 [0.000, 5.000],  loss: 0.010371, mean_q: 0.478379, mean_eps: 0.509142\n",
            " 123671/200000: episode: 182, duration: 91.808s, episode steps: 701, steps per second:   8, episode reward: 15.000, mean reward:  0.021 [ 0.000,  1.000], mean action: 2.611 [0.000, 5.000],  loss: 0.011024, mean_q: 0.487155, mean_eps: 0.506720\n",
            " 124615/200000: episode: 183, duration: 123.793s, episode steps: 944, steps per second:   8, episode reward: 25.000, mean reward:  0.026 [ 0.000,  1.000], mean action: 2.742 [0.000, 5.000],  loss: 0.009658, mean_q: 0.480636, mean_eps: 0.503430\n",
            " 125158/200000: episode: 184, duration: 71.495s, episode steps: 543, steps per second:   8, episode reward: 10.000, mean reward:  0.018 [ 0.000,  1.000], mean action: 2.422 [0.000, 5.000],  loss: 0.009443, mean_q: 0.484337, mean_eps: 0.500456\n",
            " 125926/200000: episode: 185, duration: 101.198s, episode steps: 768, steps per second:   8, episode reward:  8.000, mean reward:  0.010 [ 0.000,  1.000], mean action: 2.544 [0.000, 5.000],  loss: 0.008871, mean_q: 0.481441, mean_eps: 0.497834\n",
            " 126472/200000: episode: 186, duration: 71.578s, episode steps: 546, steps per second:   8, episode reward:  8.000, mean reward:  0.015 [ 0.000,  1.000], mean action: 2.377 [0.000, 5.000],  loss: 0.009094, mean_q: 0.476007, mean_eps: 0.495206\n",
            " 127112/200000: episode: 187, duration: 83.713s, episode steps: 640, steps per second:   8, episode reward: 12.000, mean reward:  0.019 [ 0.000,  1.000], mean action: 2.698 [0.000, 5.000],  loss: 0.008952, mean_q: 0.478866, mean_eps: 0.492834\n",
            " 127625/200000: episode: 188, duration: 66.972s, episode steps: 513, steps per second:   8, episode reward: 11.000, mean reward:  0.021 [ 0.000,  1.000], mean action: 2.524 [0.000, 5.000],  loss: 0.008292, mean_q: 0.475281, mean_eps: 0.490528\n",
            " 128025/200000: episode: 189, duration: 52.331s, episode steps: 400, steps per second:   8, episode reward:  8.000, mean reward:  0.020 [ 0.000,  1.000], mean action: 2.925 [0.000, 5.000],  loss: 0.008431, mean_q: 0.476855, mean_eps: 0.488702\n",
            "Step 160000: saving model to checkpoints/dqn_v07_weights_160000.h5f\n",
            " 128918/200000: episode: 190, duration: 116.799s, episode steps: 893, steps per second:   8, episode reward: 16.000, mean reward:  0.018 [ 0.000,  1.000], mean action: 2.485 [0.000, 5.000],  loss: 0.008708, mean_q: 0.480645, mean_eps: 0.486116\n",
            " 129323/200000: episode: 191, duration: 53.057s, episode steps: 405, steps per second:   8, episode reward:  8.000, mean reward:  0.020 [ 0.000,  1.000], mean action: 3.017 [0.000, 5.000],  loss: 0.008704, mean_q: 0.474460, mean_eps: 0.483520\n",
            " 130400/200000: episode: 192, duration: 140.966s, episode steps: 1077, steps per second:   8, episode reward: 19.000, mean reward:  0.018 [ 0.000,  1.000], mean action: 2.618 [0.000, 5.000],  loss: 0.010818, mean_q: 0.494680, mean_eps: 0.480556\n",
            " 130930/200000: episode: 193, duration: 69.530s, episode steps: 530, steps per second:   8, episode reward:  7.000, mean reward:  0.013 [ 0.000,  1.000], mean action: 2.636 [0.000, 5.000],  loss: 0.014349, mean_q: 0.526244, mean_eps: 0.477342\n",
            " 131332/200000: episode: 194, duration: 53.145s, episode steps: 402, steps per second:   8, episode reward:  6.000, mean reward:  0.015 [ 0.000,  1.000], mean action: 2.848 [0.000, 5.000],  loss: 0.011530, mean_q: 0.514967, mean_eps: 0.475478\n",
            " 132249/200000: episode: 195, duration: 120.757s, episode steps: 917, steps per second:   8, episode reward: 11.000, mean reward:  0.012 [ 0.000,  1.000], mean action: 2.739 [0.000, 5.000],  loss: 0.011948, mean_q: 0.522678, mean_eps: 0.472840\n",
            " 133268/200000: episode: 196, duration: 133.746s, episode steps: 1019, steps per second:   8, episode reward: 27.000, mean reward:  0.026 [ 0.000,  1.000], mean action: 2.541 [0.000, 5.000],  loss: 0.011643, mean_q: 0.521460, mean_eps: 0.468968\n",
            " 134218/200000: episode: 197, duration: 125.625s, episode steps: 950, steps per second:   8, episode reward: 19.000, mean reward:  0.020 [ 0.000,  1.000], mean action: 2.614 [0.000, 5.000],  loss: 0.010735, mean_q: 0.516513, mean_eps: 0.465030\n",
            " 134878/200000: episode: 198, duration: 86.415s, episode steps: 660, steps per second:   8, episode reward: 12.000, mean reward:  0.018 [ 0.000,  1.000], mean action: 2.336 [0.000, 5.000],  loss: 0.010890, mean_q: 0.516705, mean_eps: 0.461810\n",
            " 135446/200000: episode: 199, duration: 74.335s, episode steps: 568, steps per second:   8, episode reward:  7.000, mean reward:  0.012 [ 0.000,  1.000], mean action: 2.746 [0.000, 5.000],  loss: 0.009697, mean_q: 0.513788, mean_eps: 0.459354\n",
            " 135924/200000: episode: 200, duration: 62.742s, episode steps: 478, steps per second:   8, episode reward:  6.000, mean reward:  0.013 [ 0.000,  1.000], mean action: 2.797 [0.000, 5.000],  loss: 0.009380, mean_q: 0.516703, mean_eps: 0.457262\n",
            " 136972/200000: episode: 201, duration: 138.120s, episode steps: 1048, steps per second:   8, episode reward: 22.000, mean reward:  0.021 [ 0.000,  1.000], mean action: 2.639 [0.000, 5.000],  loss: 0.009853, mean_q: 0.512347, mean_eps: 0.454210\n",
            " 137583/200000: episode: 202, duration: 81.149s, episode steps: 611, steps per second:   8, episode reward: 12.000, mean reward:  0.020 [ 0.000,  1.000], mean action: 2.954 [0.000, 5.000],  loss: 0.009798, mean_q: 0.515324, mean_eps: 0.450892\n",
            " 138119/200000: episode: 203, duration: 71.167s, episode steps: 536, steps per second:   8, episode reward:  6.000, mean reward:  0.011 [ 0.000,  1.000], mean action: 2.771 [0.000, 5.000],  loss: 0.009340, mean_q: 0.513431, mean_eps: 0.448598\n",
            "Step 170000: saving model to checkpoints/dqn_v07_weights_170000.h5f\n",
            " 138808/200000: episode: 204, duration: 91.606s, episode steps: 689, steps per second:   8, episode reward: 10.000, mean reward:  0.015 [ 0.000,  1.000], mean action: 2.425 [0.000, 5.000],  loss: 0.009882, mean_q: 0.514577, mean_eps: 0.446148\n",
            " 139363/200000: episode: 205, duration: 73.771s, episode steps: 555, steps per second:   8, episode reward:  6.000, mean reward:  0.011 [ 0.000,  1.000], mean action: 2.668 [0.000, 5.000],  loss: 0.009186, mean_q: 0.519977, mean_eps: 0.443660\n",
            " 139848/200000: episode: 206, duration: 64.438s, episode steps: 485, steps per second:   8, episode reward:  5.000, mean reward:  0.010 [ 0.000,  1.000], mean action: 2.553 [0.000, 5.000],  loss: 0.009066, mean_q: 0.513153, mean_eps: 0.441580\n",
            " 140197/200000: episode: 207, duration: 46.575s, episode steps: 349, steps per second:   7, episode reward:  6.000, mean reward:  0.017 [ 0.000,  1.000], mean action: 2.590 [0.000, 5.000],  loss: 0.011610, mean_q: 0.541284, mean_eps: 0.439912\n",
            " 140792/200000: episode: 208, duration: 79.270s, episode steps: 595, steps per second:   8, episode reward: 10.000, mean reward:  0.017 [ 0.000,  1.000], mean action: 2.854 [0.000, 5.000],  loss: 0.014313, mean_q: 0.560160, mean_eps: 0.438024\n",
            " 141637/200000: episode: 209, duration: 112.269s, episode steps: 845, steps per second:   8, episode reward: 15.000, mean reward:  0.018 [ 0.000,  1.000], mean action: 2.612 [0.000, 5.000],  loss: 0.013538, mean_q: 0.558508, mean_eps: 0.435144\n",
            " 142300/200000: episode: 210, duration: 87.084s, episode steps: 663, steps per second:   8, episode reward:  7.000, mean reward:  0.011 [ 0.000,  1.000], mean action: 2.790 [0.000, 5.000],  loss: 0.013322, mean_q: 0.554061, mean_eps: 0.432128\n",
            " 142799/200000: episode: 211, duration: 66.023s, episode steps: 499, steps per second:   8, episode reward:  6.000, mean reward:  0.012 [ 0.000,  1.000], mean action: 2.633 [0.000, 5.000],  loss: 0.012489, mean_q: 0.562493, mean_eps: 0.429804\n",
            " 143350/200000: episode: 212, duration: 73.299s, episode steps: 551, steps per second:   8, episode reward:  9.000, mean reward:  0.016 [ 0.000,  1.000], mean action: 2.604 [0.000, 5.000],  loss: 0.012902, mean_q: 0.565902, mean_eps: 0.427704\n",
            " 144042/200000: episode: 213, duration: 92.129s, episode steps: 692, steps per second:   8, episode reward: 14.000, mean reward:  0.020 [ 0.000,  1.000], mean action: 2.480 [0.000, 5.000],  loss: 0.011013, mean_q: 0.562158, mean_eps: 0.425218\n",
            " 144795/200000: episode: 214, duration: 100.350s, episode steps: 753, steps per second:   8, episode reward: 14.000, mean reward:  0.019 [ 0.000,  1.000], mean action: 2.461 [0.000, 5.000],  loss: 0.010613, mean_q: 0.556426, mean_eps: 0.422328\n",
            " 145309/200000: episode: 215, duration: 68.242s, episode steps: 514, steps per second:   8, episode reward: 10.000, mean reward:  0.019 [ 0.000,  1.000], mean action: 2.733 [0.000, 5.000],  loss: 0.010312, mean_q: 0.560600, mean_eps: 0.419794\n",
            " 145750/200000: episode: 216, duration: 57.958s, episode steps: 441, steps per second:   8, episode reward:  5.000, mean reward:  0.011 [ 0.000,  1.000], mean action: 2.397 [0.000, 5.000],  loss: 0.010409, mean_q: 0.545224, mean_eps: 0.417884\n",
            " 146717/200000: episode: 217, duration: 127.239s, episode steps: 967, steps per second:   8, episode reward: 21.000, mean reward:  0.022 [ 0.000,  1.000], mean action: 2.607 [0.000, 5.000],  loss: 0.010456, mean_q: 0.558926, mean_eps: 0.415068\n",
            " 147353/200000: episode: 218, duration: 84.247s, episode steps: 636, steps per second:   8, episode reward: 15.000, mean reward:  0.024 [ 0.000,  1.000], mean action: 2.568 [0.000, 5.000],  loss: 0.009672, mean_q: 0.552434, mean_eps: 0.411862\n",
            " 148429/200000: episode: 219, duration: 141.475s, episode steps: 1076, steps per second:   8, episode reward: 19.000, mean reward:  0.018 [ 0.000,  1.000], mean action: 2.732 [0.000, 5.000],  loss: 0.009981, mean_q: 0.554215, mean_eps: 0.408438\n",
            "Step 180000: saving model to checkpoints/dqn_v07_weights_180000.h5f\n",
            " 148949/200000: episode: 220, duration: 69.499s, episode steps: 520, steps per second:   7, episode reward:  7.000, mean reward:  0.013 [ 0.000,  1.000], mean action: 2.573 [0.000, 5.000],  loss: 0.009784, mean_q: 0.553951, mean_eps: 0.405246\n",
            " 149888/200000: episode: 221, duration: 124.942s, episode steps: 939, steps per second:   8, episode reward: 13.000, mean reward:  0.014 [ 0.000,  1.000], mean action: 2.496 [0.000, 5.000],  loss: 0.009597, mean_q: 0.556061, mean_eps: 0.402328\n",
            " 150545/200000: episode: 222, duration: 86.324s, episode steps: 657, steps per second:   8, episode reward: 10.000, mean reward:  0.015 [ 0.000,  1.000], mean action: 2.508 [0.000, 5.000],  loss: 0.013317, mean_q: 0.583819, mean_eps: 0.399136\n",
            " 151603/200000: episode: 223, duration: 139.326s, episode steps: 1058, steps per second:   8, episode reward: 19.000, mean reward:  0.018 [ 0.000,  1.000], mean action: 2.489 [0.000, 5.000],  loss: 0.014940, mean_q: 0.589190, mean_eps: 0.395706\n",
            " 152238/200000: episode: 224, duration: 83.753s, episode steps: 635, steps per second:   8, episode reward:  8.000, mean reward:  0.013 [ 0.000,  1.000], mean action: 2.513 [0.000, 5.000],  loss: 0.012920, mean_q: 0.577470, mean_eps: 0.392320\n",
            " 152619/200000: episode: 225, duration: 50.209s, episode steps: 381, steps per second:   8, episode reward:  8.000, mean reward:  0.021 [ 0.000,  1.000], mean action: 2.281 [0.000, 5.000],  loss: 0.014372, mean_q: 0.580825, mean_eps: 0.390288\n",
            " 153183/200000: episode: 226, duration: 74.360s, episode steps: 564, steps per second:   8, episode reward:  9.000, mean reward:  0.016 [ 0.000,  1.000], mean action: 2.379 [0.000, 5.000],  loss: 0.012330, mean_q: 0.575313, mean_eps: 0.388398\n",
            " 154605/200000: episode: 227, duration: 188.107s, episode steps: 1422, steps per second:   8, episode reward: 30.000, mean reward:  0.021 [ 0.000,  1.000], mean action: 2.492 [0.000, 5.000],  loss: 0.011791, mean_q: 0.581714, mean_eps: 0.384426\n",
            " 155440/200000: episode: 228, duration: 110.806s, episode steps: 835, steps per second:   8, episode reward: 14.000, mean reward:  0.017 [ 0.000,  1.000], mean action: 2.411 [0.000, 5.000],  loss: 0.011609, mean_q: 0.578890, mean_eps: 0.379912\n",
            " 156340/200000: episode: 229, duration: 119.215s, episode steps: 900, steps per second:   8, episode reward: 16.000, mean reward:  0.018 [ 0.000,  1.000], mean action: 2.281 [0.000, 5.000],  loss: 0.012101, mean_q: 0.575692, mean_eps: 0.376442\n",
            " 156892/200000: episode: 230, duration: 73.140s, episode steps: 552, steps per second:   8, episode reward:  9.000, mean reward:  0.016 [ 0.000,  1.000], mean action: 2.491 [0.000, 5.000],  loss: 0.010042, mean_q: 0.572135, mean_eps: 0.373538\n",
            " 157226/200000: episode: 231, duration: 44.398s, episode steps: 334, steps per second:   8, episode reward:  5.000, mean reward:  0.015 [ 0.000,  1.000], mean action: 2.539 [0.000, 5.000],  loss: 0.009956, mean_q: 0.576048, mean_eps: 0.371766\n",
            " 158166/200000: episode: 232, duration: 126.674s, episode steps: 940, steps per second:   7, episode reward: 15.000, mean reward:  0.016 [ 0.000,  1.000], mean action: 2.753 [0.000, 5.000],  loss: 0.010748, mean_q: 0.573335, mean_eps: 0.369218\n",
            "Step 190000: saving model to checkpoints/dqn_v07_weights_190000.h5f\n",
            " 158780/200000: episode: 233, duration: 82.885s, episode steps: 614, steps per second:   7, episode reward:  8.000, mean reward:  0.013 [ 0.000,  1.000], mean action: 2.676 [0.000, 5.000],  loss: 0.009943, mean_q: 0.574012, mean_eps: 0.366110\n",
            " 159557/200000: episode: 234, duration: 104.695s, episode steps: 777, steps per second:   7, episode reward: 13.000, mean reward:  0.017 [ 0.000,  1.000], mean action: 2.708 [0.000, 5.000],  loss: 0.011131, mean_q: 0.577995, mean_eps: 0.363328\n",
            " 160023/200000: episode: 235, duration: 62.510s, episode steps: 466, steps per second:   7, episode reward: 10.000, mean reward:  0.021 [ 0.000,  1.000], mean action: 2.498 [0.000, 5.000],  loss: 0.009568, mean_q: 0.576573, mean_eps: 0.360842\n",
            " 160418/200000: episode: 236, duration: 53.209s, episode steps: 395, steps per second:   7, episode reward:  6.000, mean reward:  0.015 [ 0.000,  1.000], mean action: 2.200 [0.000, 5.000],  loss: 0.015334, mean_q: 0.646367, mean_eps: 0.359120\n",
            " 160951/200000: episode: 237, duration: 71.472s, episode steps: 533, steps per second:   7, episode reward:  7.000, mean reward:  0.013 [ 0.000,  1.000], mean action: 2.675 [0.000, 5.000],  loss: 0.013795, mean_q: 0.636833, mean_eps: 0.357264\n",
            " 161657/200000: episode: 238, duration: 94.764s, episode steps: 706, steps per second:   7, episode reward: 15.000, mean reward:  0.021 [ 0.000,  1.000], mean action: 2.899 [0.000, 5.000],  loss: 0.014227, mean_q: 0.637233, mean_eps: 0.354786\n",
            " 162150/200000: episode: 239, duration: 66.326s, episode steps: 493, steps per second:   7, episode reward: 10.000, mean reward:  0.020 [ 0.000,  1.000], mean action: 2.351 [0.000, 5.000],  loss: 0.015804, mean_q: 0.636378, mean_eps: 0.352388\n",
            " 162781/200000: episode: 240, duration: 85.240s, episode steps: 631, steps per second:   7, episode reward: 10.000, mean reward:  0.016 [ 0.000,  1.000], mean action: 2.158 [0.000, 5.000],  loss: 0.013793, mean_q: 0.628720, mean_eps: 0.350140\n",
            " 163621/200000: episode: 241, duration: 113.589s, episode steps: 840, steps per second:   7, episode reward: 12.000, mean reward:  0.014 [ 0.000,  1.000], mean action: 2.777 [0.000, 5.000],  loss: 0.013541, mean_q: 0.630209, mean_eps: 0.347198\n",
            " 164258/200000: episode: 242, duration: 84.489s, episode steps: 637, steps per second:   8, episode reward: 10.000, mean reward:  0.016 [ 0.000,  1.000], mean action: 2.807 [0.000, 5.000],  loss: 0.012470, mean_q: 0.639485, mean_eps: 0.344244\n",
            " 164865/200000: episode: 243, duration: 80.032s, episode steps: 607, steps per second:   8, episode reward: 10.000, mean reward:  0.016 [ 0.000,  1.000], mean action: 2.275 [0.000, 5.000],  loss: 0.012244, mean_q: 0.632495, mean_eps: 0.341756\n",
            " 165558/200000: episode: 244, duration: 91.301s, episode steps: 693, steps per second:   8, episode reward: 11.000, mean reward:  0.016 [ 0.000,  1.000], mean action: 2.799 [0.000, 5.000],  loss: 0.011708, mean_q: 0.633017, mean_eps: 0.339156\n",
            " 166325/200000: episode: 245, duration: 101.187s, episode steps: 767, steps per second:   8, episode reward: 15.000, mean reward:  0.020 [ 0.000,  1.000], mean action: 2.420 [0.000, 5.000],  loss: 0.011233, mean_q: 0.629004, mean_eps: 0.336236\n",
            " 167053/200000: episode: 246, duration: 95.910s, episode steps: 728, steps per second:   8, episode reward: 12.000, mean reward:  0.016 [ 0.000,  1.000], mean action: 2.474 [0.000, 5.000],  loss: 0.011666, mean_q: 0.630926, mean_eps: 0.333246\n",
            " 167561/200000: episode: 247, duration: 66.976s, episode steps: 508, steps per second:   8, episode reward:  6.000, mean reward:  0.012 [ 0.000,  1.000], mean action: 2.380 [0.000, 5.000],  loss: 0.011589, mean_q: 0.622389, mean_eps: 0.330774\n",
            " 168166/200000: episode: 248, duration: 79.786s, episode steps: 605, steps per second:   8, episode reward: 10.000, mean reward:  0.017 [ 0.000,  1.000], mean action: 2.402 [0.000, 5.000],  loss: 0.012146, mean_q: 0.632138, mean_eps: 0.328548\n",
            "Step 200000: saving model to checkpoints/dqn_v07_weights_200000.h5f\n",
            " 168872/200000: episode: 249, duration: 93.213s, episode steps: 706, steps per second:   8, episode reward: 14.000, mean reward:  0.020 [ 0.000,  1.000], mean action: 2.513 [0.000, 5.000],  loss: 0.011202, mean_q: 0.627330, mean_eps: 0.325926\n",
            " 169826/200000: episode: 250, duration: 125.499s, episode steps: 954, steps per second:   8, episode reward: 20.000, mean reward:  0.021 [ 0.000,  1.000], mean action: 2.321 [0.000, 5.000],  loss: 0.011299, mean_q: 0.625892, mean_eps: 0.322606\n",
            " 170546/200000: episode: 251, duration: 95.563s, episode steps: 720, steps per second:   8, episode reward: 11.000, mean reward:  0.015 [ 0.000,  1.000], mean action: 2.503 [0.000, 5.000],  loss: 0.014957, mean_q: 0.655859, mean_eps: 0.319258\n",
            " 171454/200000: episode: 252, duration: 120.604s, episode steps: 908, steps per second:   8, episode reward: 21.000, mean reward:  0.023 [ 0.000,  1.000], mean action: 2.546 [0.000, 5.000],  loss: 0.014299, mean_q: 0.660398, mean_eps: 0.316002\n",
            " 172372/200000: episode: 253, duration: 122.242s, episode steps: 918, steps per second:   8, episode reward: 17.000, mean reward:  0.019 [ 0.000,  1.000], mean action: 2.187 [0.000, 5.000],  loss: 0.012651, mean_q: 0.656339, mean_eps: 0.312350\n",
            " 173182/200000: episode: 254, duration: 107.703s, episode steps: 810, steps per second:   8, episode reward: 13.000, mean reward:  0.016 [ 0.000,  1.000], mean action: 2.302 [0.000, 5.000],  loss: 0.013682, mean_q: 0.656579, mean_eps: 0.308894\n",
            " 173894/200000: episode: 255, duration: 94.798s, episode steps: 712, steps per second:   8, episode reward: 10.000, mean reward:  0.014 [ 0.000,  1.000], mean action: 2.017 [0.000, 5.000],  loss: 0.012149, mean_q: 0.661979, mean_eps: 0.305850\n",
            " 174718/200000: episode: 256, duration: 109.603s, episode steps: 824, steps per second:   8, episode reward: 15.000, mean reward:  0.018 [ 0.000,  1.000], mean action: 2.559 [0.000, 5.000],  loss: 0.012840, mean_q: 0.665004, mean_eps: 0.302778\n",
            " 175614/200000: episode: 257, duration: 119.457s, episode steps: 896, steps per second:   8, episode reward: 23.000, mean reward:  0.026 [ 0.000,  1.000], mean action: 2.494 [0.000, 5.000],  loss: 0.011930, mean_q: 0.663544, mean_eps: 0.299338\n",
            " 176551/200000: episode: 258, duration: 124.763s, episode steps: 937, steps per second:   8, episode reward: 19.000, mean reward:  0.020 [ 0.000,  1.000], mean action: 2.279 [0.000, 5.000],  loss: 0.012047, mean_q: 0.655430, mean_eps: 0.295672\n",
            " 177212/200000: episode: 259, duration: 88.317s, episode steps: 661, steps per second:   7, episode reward:  6.000, mean reward:  0.009 [ 0.000,  1.000], mean action: 1.613 [0.000, 5.000],  loss: 0.010630, mean_q: 0.653569, mean_eps: 0.292476\n",
            " 177727/200000: episode: 260, duration: 68.660s, episode steps: 515, steps per second:   8, episode reward: 10.000, mean reward:  0.019 [ 0.000,  1.000], mean action: 2.227 [0.000, 5.000],  loss: 0.010477, mean_q: 0.645579, mean_eps: 0.290124\n",
            " 178670/200000: episode: 261, duration: 125.449s, episode steps: 943, steps per second:   8, episode reward: 17.000, mean reward:  0.018 [ 0.000,  1.000], mean action: 2.557 [0.000, 5.000],  loss: 0.010210, mean_q: 0.656567, mean_eps: 0.287208\n",
            "Step 210000: saving model to checkpoints/dqn_v07_weights_210000.h5f\n",
            " 179185/200000: episode: 262, duration: 68.570s, episode steps: 515, steps per second:   8, episode reward:  8.000, mean reward:  0.016 [ 0.000,  1.000], mean action: 2.709 [0.000, 5.000],  loss: 0.009896, mean_q: 0.653361, mean_eps: 0.284292\n",
            " 180465/200000: episode: 263, duration: 170.172s, episode steps: 1280, steps per second:   8, episode reward: 23.000, mean reward:  0.018 [ 0.000,  1.000], mean action: 2.784 [0.000, 5.000],  loss: 0.010990, mean_q: 0.663594, mean_eps: 0.280702\n",
            " 181339/200000: episode: 264, duration: 116.651s, episode steps: 874, steps per second:   7, episode reward: 10.000, mean reward:  0.011 [ 0.000,  1.000], mean action: 2.779 [0.000, 5.000],  loss: 0.013290, mean_q: 0.698896, mean_eps: 0.276394\n",
            " 181861/200000: episode: 265, duration: 69.692s, episode steps: 522, steps per second:   7, episode reward: 10.000, mean reward:  0.019 [ 0.000,  1.000], mean action: 2.780 [0.000, 5.000],  loss: 0.012475, mean_q: 0.684019, mean_eps: 0.273602\n",
            " 182582/200000: episode: 266, duration: 96.451s, episode steps: 721, steps per second:   7, episode reward: 14.000, mean reward:  0.019 [ 0.000,  1.000], mean action: 2.775 [0.000, 5.000],  loss: 0.014758, mean_q: 0.692242, mean_eps: 0.271116\n",
            " 183060/200000: episode: 267, duration: 63.764s, episode steps: 478, steps per second:   7, episode reward:  6.000, mean reward:  0.013 [ 0.000,  1.000], mean action: 2.255 [0.000, 5.000],  loss: 0.011704, mean_q: 0.688360, mean_eps: 0.268718\n",
            " 183692/200000: episode: 268, duration: 84.623s, episode steps: 632, steps per second:   7, episode reward:  8.000, mean reward:  0.013 [ 0.000,  1.000], mean action: 2.486 [0.000, 5.000],  loss: 0.012437, mean_q: 0.687438, mean_eps: 0.266498\n",
            " 184594/200000: episode: 269, duration: 121.080s, episode steps: 902, steps per second:   7, episode reward: 18.000, mean reward:  0.020 [ 0.000,  1.000], mean action: 2.323 [0.000, 5.000],  loss: 0.011575, mean_q: 0.683926, mean_eps: 0.263430\n",
            " 185541/200000: episode: 270, duration: 126.351s, episode steps: 947, steps per second:   7, episode reward: 21.000, mean reward:  0.022 [ 0.000,  1.000], mean action: 2.650 [0.000, 5.000],  loss: 0.010854, mean_q: 0.680939, mean_eps: 0.259732\n",
            " 186368/200000: episode: 271, duration: 110.651s, episode steps: 827, steps per second:   7, episode reward: 17.000, mean reward:  0.021 [ 0.000,  1.000], mean action: 2.686 [0.000, 5.000],  loss: 0.010578, mean_q: 0.689882, mean_eps: 0.256184\n",
            " 187168/200000: episode: 272, duration: 107.048s, episode steps: 800, steps per second:   7, episode reward: 19.000, mean reward:  0.024 [ 0.000,  1.000], mean action: 2.450 [0.000, 5.000],  loss: 0.010211, mean_q: 0.680880, mean_eps: 0.252930\n",
            " 188251/200000: episode: 273, duration: 144.586s, episode steps: 1083, steps per second:   7, episode reward: 19.000, mean reward:  0.018 [ 0.000,  1.000], mean action: 2.480 [0.000, 5.000],  loss: 0.010423, mean_q: 0.689082, mean_eps: 0.249164\n",
            " 188643/200000: episode: 274, duration: 52.316s, episode steps: 392, steps per second:   7, episode reward:  7.000, mean reward:  0.018 [ 0.000,  1.000], mean action: 2.355 [0.000, 5.000],  loss: 0.009158, mean_q: 0.684387, mean_eps: 0.246214\n",
            "Step 220000: saving model to checkpoints/dqn_v07_weights_220000.h5f\n",
            " 189168/200000: episode: 275, duration: 70.281s, episode steps: 525, steps per second:   7, episode reward:  9.000, mean reward:  0.017 [ 0.000,  1.000], mean action: 2.709 [0.000, 5.000],  loss: 0.010290, mean_q: 0.683651, mean_eps: 0.244380\n",
            " 189634/200000: episode: 276, duration: 62.372s, episode steps: 466, steps per second:   7, episode reward:  4.000, mean reward:  0.009 [ 0.000,  1.000], mean action: 2.627 [0.000, 5.000],  loss: 0.009624, mean_q: 0.681715, mean_eps: 0.242398\n",
            " 190501/200000: episode: 277, duration: 115.610s, episode steps: 867, steps per second:   7, episode reward: 17.000, mean reward:  0.020 [ 0.000,  1.000], mean action: 2.636 [0.000, 5.000],  loss: 0.012469, mean_q: 0.703314, mean_eps: 0.239732\n",
            " 190991/200000: episode: 278, duration: 65.266s, episode steps: 490, steps per second:   8, episode reward: 11.000, mean reward:  0.022 [ 0.000,  1.000], mean action: 2.278 [0.000, 5.000],  loss: 0.014358, mean_q: 0.709300, mean_eps: 0.237018\n",
            " 191704/200000: episode: 279, duration: 95.233s, episode steps: 713, steps per second:   7, episode reward: 12.000, mean reward:  0.017 [ 0.000,  1.000], mean action: 2.328 [0.000, 5.000],  loss: 0.014155, mean_q: 0.713441, mean_eps: 0.234612\n",
            " 192761/200000: episode: 280, duration: 141.102s, episode steps: 1057, steps per second:   7, episode reward: 18.000, mean reward:  0.017 [ 0.000,  1.000], mean action: 2.301 [0.000, 5.000],  loss: 0.012439, mean_q: 0.713662, mean_eps: 0.231072\n",
            " 193258/200000: episode: 281, duration: 66.311s, episode steps: 497, steps per second:   7, episode reward: 10.000, mean reward:  0.020 [ 0.000,  1.000], mean action: 2.519 [0.000, 5.000],  loss: 0.011626, mean_q: 0.703863, mean_eps: 0.227964\n",
            " 193848/200000: episode: 282, duration: 78.748s, episode steps: 590, steps per second:   7, episode reward: 11.000, mean reward:  0.019 [ 0.000,  1.000], mean action: 1.934 [0.000, 5.000],  loss: 0.011718, mean_q: 0.714371, mean_eps: 0.225790\n",
            " 194394/200000: episode: 283, duration: 72.961s, episode steps: 546, steps per second:   7, episode reward:  9.000, mean reward:  0.016 [ 0.000,  1.000], mean action: 2.529 [0.000, 5.000],  loss: 0.011745, mean_q: 0.702167, mean_eps: 0.223518\n",
            " 194912/200000: episode: 284, duration: 69.138s, episode steps: 518, steps per second:   7, episode reward:  7.000, mean reward:  0.014 [ 0.000,  1.000], mean action: 2.270 [0.000, 5.000],  loss: 0.010532, mean_q: 0.707837, mean_eps: 0.221390\n",
            " 195506/200000: episode: 285, duration: 79.187s, episode steps: 594, steps per second:   8, episode reward:  9.000, mean reward:  0.015 [ 0.000,  1.000], mean action: 2.695 [0.000, 5.000],  loss: 0.010942, mean_q: 0.702284, mean_eps: 0.219166\n",
            " 196380/200000: episode: 286, duration: 116.661s, episode steps: 874, steps per second:   7, episode reward: 22.000, mean reward:  0.025 [ 0.000,  1.000], mean action: 2.299 [0.000, 5.000],  loss: 0.011171, mean_q: 0.700965, mean_eps: 0.216230\n",
            " 197057/200000: episode: 287, duration: 90.215s, episode steps: 677, steps per second:   8, episode reward: 10.000, mean reward:  0.015 [ 0.000,  1.000], mean action: 2.065 [0.000, 5.000],  loss: 0.010182, mean_q: 0.699089, mean_eps: 0.213128\n",
            " 197587/200000: episode: 288, duration: 71.035s, episode steps: 530, steps per second:   7, episode reward:  7.000, mean reward:  0.013 [ 0.000,  1.000], mean action: 2.964 [0.000, 5.000],  loss: 0.009967, mean_q: 0.702359, mean_eps: 0.210714\n",
            " 198241/200000: episode: 289, duration: 87.178s, episode steps: 654, steps per second:   8, episode reward: 16.000, mean reward:  0.024 [ 0.000,  1.000], mean action: 2.503 [0.000, 5.000],  loss: 0.010129, mean_q: 0.702452, mean_eps: 0.208346\n",
            "Step 230000: saving model to checkpoints/dqn_v07_weights_230000.h5f\n",
            " 199094/200000: episode: 290, duration: 113.900s, episode steps: 853, steps per second:   7, episode reward: 11.000, mean reward:  0.013 [ 0.000,  1.000], mean action: 2.596 [0.000, 5.000],  loss: 0.009585, mean_q: 0.700445, mean_eps: 0.205332\n",
            "done, took 23634.880 seconds\n",
            "⏱ Tiempo de fin: 19:02:24\n",
            "[WARNING] dqn_07_weights.h5f.index already exists - overwrite? [y/n]y\n",
            "[TIP] Next time specify overwrite=True!\n"
          ]
        }
      ]
    },
    {
      "cell_type": "code",
      "source": [
        "# Testing part to calculate the mean reward\n",
        "#weights_filename = 'dqn_{}_weights.h5f'.format(env_name)\n",
        "weights_filename = 'dqn_07_weights.h5f'.format(env_name)\n",
        "dqn.load_weights(weights_filename)\n",
        "dqn.test(env, nb_episodes=10, visualize=False)"
      ],
      "metadata": {
        "id": "WSVcMgOsR0Nv",
        "colab": {
          "base_uri": "https://localhost:8080/"
        },
        "outputId": "d434d76a-56f8-424d-c88b-8f425681ddb5"
      },
      "execution_count": 34,
      "outputs": [
        {
          "output_type": "stream",
          "name": "stdout",
          "text": [
            "Testing for 10 episodes ...\n",
            "Episode 1: reward: 11.000, steps: 880\n",
            "Episode 2: reward: 6.000, steps: 507\n",
            "Episode 3: reward: 12.000, steps: 703\n",
            "Episode 4: reward: 20.000, steps: 883\n",
            "Episode 5: reward: 23.000, steps: 940\n",
            "Episode 6: reward: 12.000, steps: 718\n",
            "Episode 7: reward: 15.000, steps: 963\n",
            "Episode 8: reward: 24.000, steps: 1166\n",
            "Episode 9: reward: 9.000, steps: 638\n",
            "Episode 10: reward: 15.000, steps: 865\n"
          ]
        },
        {
          "output_type": "execute_result",
          "data": {
            "text/plain": [
              "<keras.callbacks.History at 0x79b130533cd0>"
            ]
          },
          "metadata": {},
          "execution_count": 34
        }
      ]
    },
    {
      "cell_type": "code",
      "source": [
        "from google.colab import drive\n",
        "import shutil\n",
        "import glob  # <-- ¡Falta este import!\n",
        "import os\n",
        "\n",
        "# 1. Montar Google Drive\n",
        "#drive.mount('/content/drive')\n",
        "\n",
        "# 2. Crear directorio en Drive si no existe\n",
        "os.makedirs('/content/gdrive/MyDrive/Colab_Outputs', exist_ok=True)\n",
        "\n",
        "# 3. Buscar y copiar todos los archivos coincidentes\n",
        "archivos = glob.glob('dqn_07_weights.h5f.*')  # Encuentra todos los archivos con ese patrón\n",
        "\n",
        "for archivo in archivos:\n",
        "    shutil.copy(\n",
        "        archivo,\n",
        "        f'/content/gdrive/MyDrive/Colab_Outputs/{os.path.basename(archivo)}'\n",
        "    )\n",
        "    print(f\"¡Archivo {archivo} copiado a Drive!\")\n",
        "\n",
        "# 4. Buscar y copiar todos los archivos coincidentes\n",
        "archivos = glob.glob('checkpoints/dqn_v07_weights*')  # Encuentra todos los archivos con ese patrón\n",
        "\n",
        "for archivo in archivos:\n",
        "    shutil.copy(\n",
        "        archivo,\n",
        "        f'/content/gdrive/MyDrive/Colab_Outputs/{os.path.basename(archivo)}'\n",
        "    )\n",
        "\n",
        "print(\"✅ ¡Todos los archivos copiados!\")"
      ],
      "metadata": {
        "colab": {
          "base_uri": "https://localhost:8080/"
        },
        "id": "0UPDMrWP-lGP",
        "outputId": "a21fe3ea-7995-4cc3-8322-08a526ea47c3"
      },
      "execution_count": 35,
      "outputs": [
        {
          "output_type": "stream",
          "name": "stdout",
          "text": [
            "¡Archivo dqn_07_weights.h5f.data-00000-of-00001 copiado a Drive!\n",
            "¡Archivo dqn_07_weights.h5f.index copiado a Drive!\n",
            "✅ ¡Todos los archivos copiados!\n"
          ]
        }
      ]
    }
  ]
}