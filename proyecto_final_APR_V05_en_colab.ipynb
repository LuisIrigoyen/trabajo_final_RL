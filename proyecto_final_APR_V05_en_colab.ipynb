{
  "nbformat": 4,
  "nbformat_minor": 0,
  "metadata": {
    "colab": {
      "provenance": [],
      "gpuType": "T4",
      "include_colab_link": true
    },
    "kernelspec": {
      "name": "python3",
      "display_name": "Python 3"
    },
    "language_info": {
      "name": "python"
    },
    "accelerator": "GPU"
  },
  "cells": [
    {
      "cell_type": "markdown",
      "metadata": {
        "id": "view-in-github",
        "colab_type": "text"
      },
      "source": [
        "<a href=\"https://colab.research.google.com/github/LuisIrigoyen/trabajo_final_RL/blob/main/proyecto_final_APR_V05_en_colab.ipynb\" target=\"_parent\"><img src=\"https://colab.research.google.com/assets/colab-badge.svg\" alt=\"Open In Colab\"/></a>"
      ]
    },
    {
      "cell_type": "code",
      "source": [],
      "metadata": {
        "id": "wVXkh8rCNl45"
      },
      "execution_count": null,
      "outputs": []
    },
    {
      "cell_type": "markdown",
      "source": [
        "## 1.2. Localizar entorno de trabajo: Google colab o local"
      ],
      "metadata": {
        "id": "D89Ue2uZNtzn"
      }
    },
    {
      "cell_type": "code",
      "execution_count": 1,
      "metadata": {
        "id": "7EQ46sNGLj22"
      },
      "outputs": [],
      "source": [
        "# ATENCIÓN!! Modificar ruta relativa a la práctica si es distinta (drive_root)\n",
        "mount='/content/gdrive'\n",
        "drive_root = mount + \"/My Drive/08_MIAR/actividades/proyecto practico\"\n",
        "\n",
        "try:\n",
        "  from google.colab import drive\n",
        "  IN_COLAB=True\n",
        "except:\n",
        "  IN_COLAB=False\n"
      ]
    },
    {
      "cell_type": "markdown",
      "source": [
        "## 1.3. Montar carpeta de datos local (solo Colab)"
      ],
      "metadata": {
        "id": "6on2PNxZN51A"
      }
    },
    {
      "cell_type": "code",
      "source": [
        "# Switch to the directory on the Google Drive that you want to use\n",
        "import os\n",
        "if IN_COLAB:\n",
        "  print(\"We're running Colab\")\n",
        "\n",
        "  if IN_COLAB:\n",
        "    # Mount the Google Drive at mount\n",
        "    print(\"Colab: mounting Google drive on \", mount)\n",
        "\n",
        "    drive.mount(mount)\n",
        "\n",
        "    # Create drive_root if it doesn't exist\n",
        "    create_drive_root = True\n",
        "    if create_drive_root:\n",
        "      print(\"\\nColab: making sure \", drive_root, \" exists.\")\n",
        "      os.makedirs(drive_root, exist_ok=True)\n",
        "\n",
        "    # Change to the directory\n",
        "    print(\"\\nColab: Changing directory to \", drive_root)\n",
        "    %cd $drive_root\n",
        "# Verify we're in the correct working directory\n",
        "%pwd\n",
        "print(\"Archivos en el directorio: \")\n",
        "print(os.listdir())"
      ],
      "metadata": {
        "colab": {
          "base_uri": "https://localhost:8080/"
        },
        "id": "inTxnmr0MKCH",
        "outputId": "040e6965-b792-475f-b556-2e0e2acfc023"
      },
      "execution_count": 2,
      "outputs": [
        {
          "output_type": "stream",
          "name": "stdout",
          "text": [
            "We're running Colab\n",
            "Colab: mounting Google drive on  /content/gdrive\n",
            "Mounted at /content/gdrive\n",
            "\n",
            "Colab: making sure  /content/gdrive/My Drive/08_MIAR/actividades/proyecto practico  exists.\n",
            "\n",
            "Colab: Changing directory to  /content/gdrive/My Drive/08_MIAR/actividades/proyecto practico\n",
            "/content/gdrive/My Drive/08_MIAR/actividades/proyecto practico\n",
            "Archivos en el directorio: \n",
            "['dqn_models']\n"
          ]
        }
      ]
    },
    {
      "cell_type": "markdown",
      "source": [
        "## 1.4. Instalar librerías necesarias"
      ],
      "metadata": {
        "id": "MYrJ03QWN9Hw"
      }
    },
    {
      "cell_type": "code",
      "source": [
        "if IN_COLAB:\n",
        "  %pip install gym==0.17.3\n",
        "  %pip install git+https://github.com/Kojoley/atari-py.git\n",
        "  %pip install keras-rl2==1.0.5\n",
        "  %pip install tensorflow==2.12  #2.8\n",
        "else:\n",
        "  %pip install gym==0.17.3\n",
        "  %pip install git+https://github.com/Kojoley/atari-py.git\n",
        "  %pip install pyglet==1.5.0\n",
        "  %pip install h5py==3.1.0\n",
        "  %pip install Pillow==9.5.0\n",
        "  %pip install keras-rl2==1.0.5\n",
        "  %pip install Keras==2.2.4\n",
        "  %pip install tensorflow==2.5.3\n",
        "  %pip install torch==2.0.1\n",
        "  %pip install agents==1.4.0"
      ],
      "metadata": {
        "colab": {
          "base_uri": "https://localhost:8080/"
        },
        "id": "zSbNMsl4MTo3",
        "outputId": "3f6c16ff-7157-40aa-ff5a-fa85f204db07"
      },
      "execution_count": 2,
      "outputs": [
        {
          "output_type": "stream",
          "name": "stdout",
          "text": [
            "Requirement already satisfied: gym==0.17.3 in /usr/local/lib/python3.11/dist-packages (0.17.3)\n",
            "Requirement already satisfied: scipy in /usr/local/lib/python3.11/dist-packages (from gym==0.17.3) (1.15.3)\n",
            "Requirement already satisfied: numpy>=1.10.4 in /usr/local/lib/python3.11/dist-packages (from gym==0.17.3) (1.23.5)\n",
            "Requirement already satisfied: pyglet<=1.5.0,>=1.4.0 in /usr/local/lib/python3.11/dist-packages (from gym==0.17.3) (1.5.0)\n",
            "Requirement already satisfied: cloudpickle<1.7.0,>=1.2.0 in /usr/local/lib/python3.11/dist-packages (from gym==0.17.3) (1.6.0)\n",
            "Requirement already satisfied: future in /usr/local/lib/python3.11/dist-packages (from pyglet<=1.5.0,>=1.4.0->gym==0.17.3) (1.0.0)\n",
            "Collecting git+https://github.com/Kojoley/atari-py.git\n",
            "  Cloning https://github.com/Kojoley/atari-py.git to /tmp/pip-req-build-nxnddkz5\n",
            "  Running command git clone --filter=blob:none --quiet https://github.com/Kojoley/atari-py.git /tmp/pip-req-build-nxnddkz5\n",
            "  Resolved https://github.com/Kojoley/atari-py.git to commit 86a1e05c0a95e9e6233c3a413521fdb34ca8a089\n",
            "  Preparing metadata (setup.py) ... \u001b[?25l\u001b[?25hdone\n",
            "Requirement already satisfied: numpy in /usr/local/lib/python3.11/dist-packages (from atari-py==1.2.2) (1.23.5)\n",
            "Requirement already satisfied: keras-rl2==1.0.5 in /usr/local/lib/python3.11/dist-packages (1.0.5)\n",
            "Requirement already satisfied: tensorflow in /usr/local/lib/python3.11/dist-packages (from keras-rl2==1.0.5) (2.12.0)\n",
            "Requirement already satisfied: absl-py>=1.0.0 in /usr/local/lib/python3.11/dist-packages (from tensorflow->keras-rl2==1.0.5) (1.4.0)\n",
            "Requirement already satisfied: astunparse>=1.6.0 in /usr/local/lib/python3.11/dist-packages (from tensorflow->keras-rl2==1.0.5) (1.6.3)\n",
            "Requirement already satisfied: flatbuffers>=2.0 in /usr/local/lib/python3.11/dist-packages (from tensorflow->keras-rl2==1.0.5) (25.2.10)\n",
            "Requirement already satisfied: gast<=0.4.0,>=0.2.1 in /usr/local/lib/python3.11/dist-packages (from tensorflow->keras-rl2==1.0.5) (0.4.0)\n",
            "Requirement already satisfied: google-pasta>=0.1.1 in /usr/local/lib/python3.11/dist-packages (from tensorflow->keras-rl2==1.0.5) (0.2.0)\n",
            "Requirement already satisfied: grpcio<2.0,>=1.24.3 in /usr/local/lib/python3.11/dist-packages (from tensorflow->keras-rl2==1.0.5) (1.72.1)\n",
            "Requirement already satisfied: h5py>=2.9.0 in /usr/local/lib/python3.11/dist-packages (from tensorflow->keras-rl2==1.0.5) (3.13.0)\n",
            "Requirement already satisfied: jax>=0.3.15 in /usr/local/lib/python3.11/dist-packages (from tensorflow->keras-rl2==1.0.5) (0.4.30)\n",
            "Requirement already satisfied: keras<2.13,>=2.12.0 in /usr/local/lib/python3.11/dist-packages (from tensorflow->keras-rl2==1.0.5) (2.12.0)\n",
            "Requirement already satisfied: libclang>=13.0.0 in /usr/local/lib/python3.11/dist-packages (from tensorflow->keras-rl2==1.0.5) (18.1.1)\n",
            "Requirement already satisfied: numpy<1.24,>=1.22 in /usr/local/lib/python3.11/dist-packages (from tensorflow->keras-rl2==1.0.5) (1.23.5)\n",
            "Requirement already satisfied: opt-einsum>=2.3.2 in /usr/local/lib/python3.11/dist-packages (from tensorflow->keras-rl2==1.0.5) (3.4.0)\n",
            "Requirement already satisfied: packaging in /usr/local/lib/python3.11/dist-packages (from tensorflow->keras-rl2==1.0.5) (24.2)\n",
            "Requirement already satisfied: protobuf!=4.21.0,!=4.21.1,!=4.21.2,!=4.21.3,!=4.21.4,!=4.21.5,<5.0.0dev,>=3.20.3 in /usr/local/lib/python3.11/dist-packages (from tensorflow->keras-rl2==1.0.5) (4.25.8)\n",
            "Requirement already satisfied: setuptools in /usr/local/lib/python3.11/dist-packages (from tensorflow->keras-rl2==1.0.5) (75.2.0)\n",
            "Requirement already satisfied: six>=1.12.0 in /usr/local/lib/python3.11/dist-packages (from tensorflow->keras-rl2==1.0.5) (1.17.0)\n",
            "Requirement already satisfied: tensorboard<2.13,>=2.12 in /usr/local/lib/python3.11/dist-packages (from tensorflow->keras-rl2==1.0.5) (2.12.3)\n",
            "Requirement already satisfied: tensorflow-estimator<2.13,>=2.12.0 in /usr/local/lib/python3.11/dist-packages (from tensorflow->keras-rl2==1.0.5) (2.12.0)\n",
            "Requirement already satisfied: termcolor>=1.1.0 in /usr/local/lib/python3.11/dist-packages (from tensorflow->keras-rl2==1.0.5) (3.1.0)\n",
            "Requirement already satisfied: typing-extensions>=3.6.6 in /usr/local/lib/python3.11/dist-packages (from tensorflow->keras-rl2==1.0.5) (4.14.0)\n",
            "Requirement already satisfied: wrapt<1.15,>=1.11.0 in /usr/local/lib/python3.11/dist-packages (from tensorflow->keras-rl2==1.0.5) (1.14.1)\n",
            "Requirement already satisfied: tensorflow-io-gcs-filesystem>=0.23.1 in /usr/local/lib/python3.11/dist-packages (from tensorflow->keras-rl2==1.0.5) (0.37.1)\n",
            "Requirement already satisfied: wheel<1.0,>=0.23.0 in /usr/local/lib/python3.11/dist-packages (from astunparse>=1.6.0->tensorflow->keras-rl2==1.0.5) (0.45.1)\n",
            "Requirement already satisfied: jaxlib<=0.4.30,>=0.4.27 in /usr/local/lib/python3.11/dist-packages (from jax>=0.3.15->tensorflow->keras-rl2==1.0.5) (0.4.30)\n",
            "Requirement already satisfied: ml-dtypes>=0.2.0 in /usr/local/lib/python3.11/dist-packages (from jax>=0.3.15->tensorflow->keras-rl2==1.0.5) (0.4.1)\n",
            "Requirement already satisfied: scipy>=1.9 in /usr/local/lib/python3.11/dist-packages (from jax>=0.3.15->tensorflow->keras-rl2==1.0.5) (1.15.3)\n",
            "Requirement already satisfied: google-auth<3,>=1.6.3 in /usr/local/lib/python3.11/dist-packages (from tensorboard<2.13,>=2.12->tensorflow->keras-rl2==1.0.5) (2.38.0)\n",
            "Requirement already satisfied: google-auth-oauthlib<1.1,>=0.5 in /usr/local/lib/python3.11/dist-packages (from tensorboard<2.13,>=2.12->tensorflow->keras-rl2==1.0.5) (1.0.0)\n",
            "Requirement already satisfied: markdown>=2.6.8 in /usr/local/lib/python3.11/dist-packages (from tensorboard<2.13,>=2.12->tensorflow->keras-rl2==1.0.5) (3.8)\n",
            "Requirement already satisfied: requests<3,>=2.21.0 in /usr/local/lib/python3.11/dist-packages (from tensorboard<2.13,>=2.12->tensorflow->keras-rl2==1.0.5) (2.32.3)\n",
            "Requirement already satisfied: tensorboard-data-server<0.8.0,>=0.7.0 in /usr/local/lib/python3.11/dist-packages (from tensorboard<2.13,>=2.12->tensorflow->keras-rl2==1.0.5) (0.7.2)\n",
            "Requirement already satisfied: werkzeug>=1.0.1 in /usr/local/lib/python3.11/dist-packages (from tensorboard<2.13,>=2.12->tensorflow->keras-rl2==1.0.5) (3.1.3)\n",
            "Requirement already satisfied: cachetools<6.0,>=2.0.0 in /usr/local/lib/python3.11/dist-packages (from google-auth<3,>=1.6.3->tensorboard<2.13,>=2.12->tensorflow->keras-rl2==1.0.5) (5.5.2)\n",
            "Requirement already satisfied: pyasn1-modules>=0.2.1 in /usr/local/lib/python3.11/dist-packages (from google-auth<3,>=1.6.3->tensorboard<2.13,>=2.12->tensorflow->keras-rl2==1.0.5) (0.4.2)\n",
            "Requirement already satisfied: rsa<5,>=3.1.4 in /usr/local/lib/python3.11/dist-packages (from google-auth<3,>=1.6.3->tensorboard<2.13,>=2.12->tensorflow->keras-rl2==1.0.5) (4.9.1)\n",
            "Requirement already satisfied: requests-oauthlib>=0.7.0 in /usr/local/lib/python3.11/dist-packages (from google-auth-oauthlib<1.1,>=0.5->tensorboard<2.13,>=2.12->tensorflow->keras-rl2==1.0.5) (2.0.0)\n",
            "Requirement already satisfied: charset-normalizer<4,>=2 in /usr/local/lib/python3.11/dist-packages (from requests<3,>=2.21.0->tensorboard<2.13,>=2.12->tensorflow->keras-rl2==1.0.5) (3.4.2)\n",
            "Requirement already satisfied: idna<4,>=2.5 in /usr/local/lib/python3.11/dist-packages (from requests<3,>=2.21.0->tensorboard<2.13,>=2.12->tensorflow->keras-rl2==1.0.5) (3.10)\n",
            "Requirement already satisfied: urllib3<3,>=1.21.1 in /usr/local/lib/python3.11/dist-packages (from requests<3,>=2.21.0->tensorboard<2.13,>=2.12->tensorflow->keras-rl2==1.0.5) (2.4.0)\n",
            "Requirement already satisfied: certifi>=2017.4.17 in /usr/local/lib/python3.11/dist-packages (from requests<3,>=2.21.0->tensorboard<2.13,>=2.12->tensorflow->keras-rl2==1.0.5) (2025.4.26)\n",
            "Requirement already satisfied: MarkupSafe>=2.1.1 in /usr/local/lib/python3.11/dist-packages (from werkzeug>=1.0.1->tensorboard<2.13,>=2.12->tensorflow->keras-rl2==1.0.5) (3.0.2)\n",
            "Requirement already satisfied: pyasn1<0.7.0,>=0.6.1 in /usr/local/lib/python3.11/dist-packages (from pyasn1-modules>=0.2.1->google-auth<3,>=1.6.3->tensorboard<2.13,>=2.12->tensorflow->keras-rl2==1.0.5) (0.6.1)\n",
            "Requirement already satisfied: oauthlib>=3.0.0 in /usr/local/lib/python3.11/dist-packages (from requests-oauthlib>=0.7.0->google-auth-oauthlib<1.1,>=0.5->tensorboard<2.13,>=2.12->tensorflow->keras-rl2==1.0.5) (3.2.2)\n",
            "Requirement already satisfied: tensorflow==2.12 in /usr/local/lib/python3.11/dist-packages (2.12.0)\n",
            "Requirement already satisfied: absl-py>=1.0.0 in /usr/local/lib/python3.11/dist-packages (from tensorflow==2.12) (1.4.0)\n",
            "Requirement already satisfied: astunparse>=1.6.0 in /usr/local/lib/python3.11/dist-packages (from tensorflow==2.12) (1.6.3)\n",
            "Requirement already satisfied: flatbuffers>=2.0 in /usr/local/lib/python3.11/dist-packages (from tensorflow==2.12) (25.2.10)\n",
            "Requirement already satisfied: gast<=0.4.0,>=0.2.1 in /usr/local/lib/python3.11/dist-packages (from tensorflow==2.12) (0.4.0)\n",
            "Requirement already satisfied: google-pasta>=0.1.1 in /usr/local/lib/python3.11/dist-packages (from tensorflow==2.12) (0.2.0)\n",
            "Requirement already satisfied: grpcio<2.0,>=1.24.3 in /usr/local/lib/python3.11/dist-packages (from tensorflow==2.12) (1.72.1)\n",
            "Requirement already satisfied: h5py>=2.9.0 in /usr/local/lib/python3.11/dist-packages (from tensorflow==2.12) (3.13.0)\n",
            "Requirement already satisfied: jax>=0.3.15 in /usr/local/lib/python3.11/dist-packages (from tensorflow==2.12) (0.4.30)\n",
            "Requirement already satisfied: keras<2.13,>=2.12.0 in /usr/local/lib/python3.11/dist-packages (from tensorflow==2.12) (2.12.0)\n",
            "Requirement already satisfied: libclang>=13.0.0 in /usr/local/lib/python3.11/dist-packages (from tensorflow==2.12) (18.1.1)\n",
            "Requirement already satisfied: numpy<1.24,>=1.22 in /usr/local/lib/python3.11/dist-packages (from tensorflow==2.12) (1.23.5)\n",
            "Requirement already satisfied: opt-einsum>=2.3.2 in /usr/local/lib/python3.11/dist-packages (from tensorflow==2.12) (3.4.0)\n",
            "Requirement already satisfied: packaging in /usr/local/lib/python3.11/dist-packages (from tensorflow==2.12) (24.2)\n",
            "Requirement already satisfied: protobuf!=4.21.0,!=4.21.1,!=4.21.2,!=4.21.3,!=4.21.4,!=4.21.5,<5.0.0dev,>=3.20.3 in /usr/local/lib/python3.11/dist-packages (from tensorflow==2.12) (4.25.8)\n",
            "Requirement already satisfied: setuptools in /usr/local/lib/python3.11/dist-packages (from tensorflow==2.12) (75.2.0)\n",
            "Requirement already satisfied: six>=1.12.0 in /usr/local/lib/python3.11/dist-packages (from tensorflow==2.12) (1.17.0)\n",
            "Requirement already satisfied: tensorboard<2.13,>=2.12 in /usr/local/lib/python3.11/dist-packages (from tensorflow==2.12) (2.12.3)\n",
            "Requirement already satisfied: tensorflow-estimator<2.13,>=2.12.0 in /usr/local/lib/python3.11/dist-packages (from tensorflow==2.12) (2.12.0)\n",
            "Requirement already satisfied: termcolor>=1.1.0 in /usr/local/lib/python3.11/dist-packages (from tensorflow==2.12) (3.1.0)\n",
            "Requirement already satisfied: typing-extensions>=3.6.6 in /usr/local/lib/python3.11/dist-packages (from tensorflow==2.12) (4.14.0)\n",
            "Requirement already satisfied: wrapt<1.15,>=1.11.0 in /usr/local/lib/python3.11/dist-packages (from tensorflow==2.12) (1.14.1)\n",
            "Requirement already satisfied: tensorflow-io-gcs-filesystem>=0.23.1 in /usr/local/lib/python3.11/dist-packages (from tensorflow==2.12) (0.37.1)\n",
            "Requirement already satisfied: wheel<1.0,>=0.23.0 in /usr/local/lib/python3.11/dist-packages (from astunparse>=1.6.0->tensorflow==2.12) (0.45.1)\n",
            "Requirement already satisfied: jaxlib<=0.4.30,>=0.4.27 in /usr/local/lib/python3.11/dist-packages (from jax>=0.3.15->tensorflow==2.12) (0.4.30)\n",
            "Requirement already satisfied: ml-dtypes>=0.2.0 in /usr/local/lib/python3.11/dist-packages (from jax>=0.3.15->tensorflow==2.12) (0.4.1)\n",
            "Requirement already satisfied: scipy>=1.9 in /usr/local/lib/python3.11/dist-packages (from jax>=0.3.15->tensorflow==2.12) (1.15.3)\n",
            "Requirement already satisfied: google-auth<3,>=1.6.3 in /usr/local/lib/python3.11/dist-packages (from tensorboard<2.13,>=2.12->tensorflow==2.12) (2.38.0)\n",
            "Requirement already satisfied: google-auth-oauthlib<1.1,>=0.5 in /usr/local/lib/python3.11/dist-packages (from tensorboard<2.13,>=2.12->tensorflow==2.12) (1.0.0)\n",
            "Requirement already satisfied: markdown>=2.6.8 in /usr/local/lib/python3.11/dist-packages (from tensorboard<2.13,>=2.12->tensorflow==2.12) (3.8)\n",
            "Requirement already satisfied: requests<3,>=2.21.0 in /usr/local/lib/python3.11/dist-packages (from tensorboard<2.13,>=2.12->tensorflow==2.12) (2.32.3)\n",
            "Requirement already satisfied: tensorboard-data-server<0.8.0,>=0.7.0 in /usr/local/lib/python3.11/dist-packages (from tensorboard<2.13,>=2.12->tensorflow==2.12) (0.7.2)\n",
            "Requirement already satisfied: werkzeug>=1.0.1 in /usr/local/lib/python3.11/dist-packages (from tensorboard<2.13,>=2.12->tensorflow==2.12) (3.1.3)\n",
            "Requirement already satisfied: cachetools<6.0,>=2.0.0 in /usr/local/lib/python3.11/dist-packages (from google-auth<3,>=1.6.3->tensorboard<2.13,>=2.12->tensorflow==2.12) (5.5.2)\n",
            "Requirement already satisfied: pyasn1-modules>=0.2.1 in /usr/local/lib/python3.11/dist-packages (from google-auth<3,>=1.6.3->tensorboard<2.13,>=2.12->tensorflow==2.12) (0.4.2)\n",
            "Requirement already satisfied: rsa<5,>=3.1.4 in /usr/local/lib/python3.11/dist-packages (from google-auth<3,>=1.6.3->tensorboard<2.13,>=2.12->tensorflow==2.12) (4.9.1)\n",
            "Requirement already satisfied: requests-oauthlib>=0.7.0 in /usr/local/lib/python3.11/dist-packages (from google-auth-oauthlib<1.1,>=0.5->tensorboard<2.13,>=2.12->tensorflow==2.12) (2.0.0)\n",
            "Requirement already satisfied: charset-normalizer<4,>=2 in /usr/local/lib/python3.11/dist-packages (from requests<3,>=2.21.0->tensorboard<2.13,>=2.12->tensorflow==2.12) (3.4.2)\n",
            "Requirement already satisfied: idna<4,>=2.5 in /usr/local/lib/python3.11/dist-packages (from requests<3,>=2.21.0->tensorboard<2.13,>=2.12->tensorflow==2.12) (3.10)\n",
            "Requirement already satisfied: urllib3<3,>=1.21.1 in /usr/local/lib/python3.11/dist-packages (from requests<3,>=2.21.0->tensorboard<2.13,>=2.12->tensorflow==2.12) (2.4.0)\n",
            "Requirement already satisfied: certifi>=2017.4.17 in /usr/local/lib/python3.11/dist-packages (from requests<3,>=2.21.0->tensorboard<2.13,>=2.12->tensorflow==2.12) (2025.4.26)\n",
            "Requirement already satisfied: MarkupSafe>=2.1.1 in /usr/local/lib/python3.11/dist-packages (from werkzeug>=1.0.1->tensorboard<2.13,>=2.12->tensorflow==2.12) (3.0.2)\n",
            "Requirement already satisfied: pyasn1<0.7.0,>=0.6.1 in /usr/local/lib/python3.11/dist-packages (from pyasn1-modules>=0.2.1->google-auth<3,>=1.6.3->tensorboard<2.13,>=2.12->tensorflow==2.12) (0.6.1)\n",
            "Requirement already satisfied: oauthlib>=3.0.0 in /usr/local/lib/python3.11/dist-packages (from requests-oauthlib>=0.7.0->google-auth-oauthlib<1.1,>=0.5->tensorboard<2.13,>=2.12->tensorflow==2.12) (3.2.2)\n"
          ]
        }
      ]
    },
    {
      "cell_type": "markdown",
      "source": [
        "## **PARTE 3**. Desarrollo y preguntas\n",
        "Importar librerías"
      ],
      "metadata": {
        "id": "mS60Dk-KO5e3"
      }
    },
    {
      "cell_type": "code",
      "source": [
        "from __future__ import division\n",
        "\n",
        "from PIL import Image\n",
        "import numpy as np\n",
        "import gym\n",
        "\n",
        "from tensorflow.keras.models import Sequential\n",
        "from tensorflow.keras.layers import Dense, Activation, Flatten, Convolution2D, Permute, BatchNormalization\n",
        "#from tensorflow.keras.optimizers import Adam\n",
        "import tensorflow.keras.backend as K\n",
        "\n",
        "from rl.agents.dqn import DQNAgent\n",
        "from rl.policy import LinearAnnealedPolicy, BoltzmannQPolicy, EpsGreedyQPolicy\n",
        "from rl.memory import SequentialMemory\n",
        "from rl.core import Processor\n",
        "from rl.callbacks import FileLogger, ModelIntervalCheckpoint"
      ],
      "metadata": {
        "id": "RX-2z9T1NPp_"
      },
      "execution_count": 3,
      "outputs": []
    },
    {
      "cell_type": "markdown",
      "source": [
        "#### Configuración base"
      ],
      "metadata": {
        "id": "NqJbsVR7POZA"
      }
    },
    {
      "cell_type": "code",
      "source": [
        "INPUT_SHAPE = (84, 84)\n",
        "WINDOW_LENGTH = 4\n",
        "\n",
        "env_name = 'SpaceInvaders-v0'\n",
        "env = gym.make(env_name)\n",
        "\n",
        "np.random.seed(123)\n",
        "env.seed(123)\n",
        "nb_actions = env.action_space.n\n",
        "\n",
        "#--- nuevo -- ejfm\n",
        "height, width, channels = env.observation_space.shape\n",
        "obs = env.reset()\n",
        "print(height, width, channels)\n",
        "print(\"Forma de la observación:\", obs.shape)  # Debe ser (height, width, channels)\n",
        "env.unwrapped.get_action_meanings()"
      ],
      "metadata": {
        "colab": {
          "base_uri": "https://localhost:8080/"
        },
        "id": "0FlafEtvOKR4",
        "outputId": "ccade2e7-90f0-4204-a79d-c83daf1ecf95"
      },
      "execution_count": 4,
      "outputs": [
        {
          "output_type": "stream",
          "name": "stdout",
          "text": [
            "210 160 3\n",
            "Forma de la observación: (210, 160, 3)\n"
          ]
        },
        {
          "output_type": "execute_result",
          "data": {
            "text/plain": [
              "['NOOP', 'FIRE', 'RIGHT', 'LEFT', 'RIGHTFIRE', 'LEFTFIRE']"
            ]
          },
          "metadata": {},
          "execution_count": 4
        }
      ]
    },
    {
      "cell_type": "code",
      "source": [
        "class AtariProcessor(Processor):\n",
        "    def process_observation(self, observation):\n",
        "        assert observation.ndim == 3  # (height, width, channel)\n",
        "        img = Image.fromarray(observation)\n",
        "        img = img.resize(INPUT_SHAPE).convert('L')\n",
        "        processed_observation = np.array(img)\n",
        "        assert processed_observation.shape == INPUT_SHAPE\n",
        "        return processed_observation.astype('uint8')\n",
        "\n",
        "    def process_state_batch(self, batch):\n",
        "\n",
        "        # ejfm -- modificado\n",
        "        # Agrega la dimensión de canales (axis=-1) si no está presente\n",
        "        if batch.ndim == 4:                         # Forma: (batch_size, window_length, h, w)\n",
        "            batch = np.expand_dims(batch, axis=-1)  # Nueva forma: (batch_size, window_length, h, w, 1)\n",
        "            processed_batch = batch.astype('float32') / 255.\n",
        "        return processed_batch\n",
        "\n",
        "    def process_reward(self, reward):\n",
        "        return np.clip(reward, -1., 1.)"
      ],
      "metadata": {
        "id": "YSGPGszsOOAw"
      },
      "execution_count": 5,
      "outputs": []
    },
    {
      "cell_type": "markdown",
      "source": [
        "## 1. EJFM Implementación de la red neuronal"
      ],
      "metadata": {
        "id": "Sg54U9vFZEBQ"
      }
    },
    {
      "cell_type": "code",
      "source": [
        "def build_model(height, width, channels, actions):\n",
        "    model = Sequential()\n",
        "\n",
        "    # Capa 1: Conv2D con BatchNorm y ReLU\n",
        "    model.add(Convolution2D(32, (8, 8), strides=(4, 4), padding='same', input_shape=(4,84,84,1)))\n",
        "    model.add(BatchNormalization())\n",
        "    model.add(Activation('relu'))\n",
        "\n",
        "    # Capa 2: Conv2D con BatchNorm y ReLU\n",
        "    model.add(Convolution2D(64, (4, 4), strides=(2, 2), padding='same'))\n",
        "    model.add(BatchNormalization())\n",
        "    model.add(Activation('relu'))\n",
        "\n",
        "    # Capa 3: Conv2D con BatchNorm y ReLU\n",
        "    model.add(Convolution2D(64, (3, 3), strides=(1, 1), padding='same'))\n",
        "    model.add(BatchNormalization())\n",
        "    model.add(Activation('relu'))\n",
        "\n",
        "    # Aplanar + Capas Dense\n",
        "    model.add(Flatten())\n",
        "\n",
        "    # Capa Fully Connected con Dropout\n",
        "    model.add(Dense(512))\n",
        "    model.add(BatchNormalization())\n",
        "    model.add(Activation('relu'))\n",
        "    # model.add(Dropout(0.3))  # Opcional para evitar overfitting\n",
        "\n",
        "    # Capa de salida\n",
        "    model.add(Dense(actions, activation='linear'))\n",
        "\n",
        "    return model"
      ],
      "metadata": {
        "id": "JhwO3z2oPVq3"
      },
      "execution_count": 6,
      "outputs": []
    },
    {
      "cell_type": "code",
      "source": [
        "model = build_model(84, 84, 1, nb_actions)\n",
        "model.summary()"
      ],
      "metadata": {
        "id": "3eBwiHKuZ6J_",
        "colab": {
          "base_uri": "https://localhost:8080/"
        },
        "outputId": "f9bb4944-c3c5-4b3d-e869-b6a78f610282"
      },
      "execution_count": 7,
      "outputs": [
        {
          "output_type": "stream",
          "name": "stderr",
          "text": [
            "WARNING:tensorflow:From /usr/local/lib/python3.11/dist-packages/keras/layers/normalization/batch_normalization.py:581: _colocate_with (from tensorflow.python.framework.ops) is deprecated and will be removed in a future version.\n",
            "Instructions for updating:\n",
            "Colocations handled automatically by placer.\n"
          ]
        },
        {
          "output_type": "stream",
          "name": "stdout",
          "text": [
            "Model: \"sequential\"\n",
            "_________________________________________________________________\n",
            " Layer (type)                Output Shape              Param #   \n",
            "=================================================================\n",
            " conv2d (Conv2D)             (None, 4, 21, 21, 32)     2080      \n",
            "                                                                 \n",
            " batch_normalization (BatchN  (None, 4, 21, 21, 32)    128       \n",
            " ormalization)                                                   \n",
            "                                                                 \n",
            " activation (Activation)     (None, 4, 21, 21, 32)     0         \n",
            "                                                                 \n",
            " conv2d_1 (Conv2D)           (None, 4, 11, 11, 64)     32832     \n",
            "                                                                 \n",
            " batch_normalization_1 (Batc  (None, 4, 11, 11, 64)    256       \n",
            " hNormalization)                                                 \n",
            "                                                                 \n",
            " activation_1 (Activation)   (None, 4, 11, 11, 64)     0         \n",
            "                                                                 \n",
            " conv2d_2 (Conv2D)           (None, 4, 11, 11, 64)     36928     \n",
            "                                                                 \n",
            " batch_normalization_2 (Batc  (None, 4, 11, 11, 64)    256       \n",
            " hNormalization)                                                 \n",
            "                                                                 \n",
            " activation_2 (Activation)   (None, 4, 11, 11, 64)     0         \n",
            "                                                                 \n",
            " flatten (Flatten)           (None, 30976)             0         \n",
            "                                                                 \n",
            " dense (Dense)               (None, 512)               15860224  \n",
            "                                                                 \n",
            " batch_normalization_3 (Batc  (None, 512)              2048      \n",
            " hNormalization)                                                 \n",
            "                                                                 \n",
            " activation_3 (Activation)   (None, 512)               0         \n",
            "                                                                 \n",
            " dense_1 (Dense)             (None, 6)                 3078      \n",
            "                                                                 \n",
            "=================================================================\n",
            "Total params: 15,937,830\n",
            "Trainable params: 15,936,486\n",
            "Non-trainable params: 1,344\n",
            "_________________________________________________________________\n"
          ]
        }
      ]
    },
    {
      "cell_type": "markdown",
      "source": [
        "## 2. EJFM Implementación de la solución DQN"
      ],
      "metadata": {
        "id": "KwJoe_1sZOX4"
      }
    },
    {
      "cell_type": "code",
      "source": [
        "from rl.agents import DQNAgent\n",
        "from rl.memory import SequentialMemory\n",
        "from rl.policy import LinearAnnealedPolicy, EpsGreedyQPolicy"
      ],
      "metadata": {
        "id": "_EDlLcIIPUsf"
      },
      "execution_count": 8,
      "outputs": []
    },
    {
      "cell_type": "code",
      "source": [
        "def build_agent(model, actions):\n",
        "    policy = LinearAnnealedPolicy(EpsGreedyQPolicy(), attr='eps', value_max=1., value_min=0.01, value_test=0.005, nb_steps=200000)\n",
        "    memory = SequentialMemory(limit=500000, window_length=4)\n",
        "    dqn = DQNAgent(model=model, memory=memory, policy=policy,\n",
        "                  enable_dueling_network=True, dueling_type='avg',\n",
        "                   nb_actions=nb_actions, nb_steps_warmup=100000,\n",
        "                   batch_size=64,  # 32 o 64 si tienes suficiente RAM\n",
        "                   processor=AtariProcessor()\n",
        "                  )\n",
        "    return dqn"
      ],
      "metadata": {
        "id": "7FbbInVqR0sg"
      },
      "execution_count": 9,
      "outputs": []
    },
    {
      "cell_type": "code",
      "source": [
        "from rl.callbacks import ModelIntervalCheckpoint\n",
        "\n",
        "# Guardar el modelo cada 50,000 pasos\n",
        "checkpoint_callback = ModelIntervalCheckpoint(\n",
        "    filepath='checkpoints/dqn_weights_{step}.h5f',\n",
        "    interval=50000,  # cada 50,000 pasos\n",
        "    verbose=1\n",
        ")"
      ],
      "metadata": {
        "id": "-TmOagBXbWr4"
      },
      "execution_count": 10,
      "outputs": []
    },
    {
      "cell_type": "code",
      "source": [
        "import os\n",
        "os.makedirs(\"checkpoints\", exist_ok=True)"
      ],
      "metadata": {
        "id": "9ztUDcBVbdtJ"
      },
      "execution_count": 11,
      "outputs": []
    },
    {
      "cell_type": "code",
      "source": [
        "from keras.optimizers import Adam  # ¡Usar keras, NO tf.keras!\n",
        "\n",
        "dqn = build_agent(model, nb_actions)\n",
        "dqn.compile(Adam(learning_rate=1e-4))\n"
      ],
      "metadata": {
        "id": "V-jxyOrdR0cg"
      },
      "execution_count": 12,
      "outputs": []
    },
    {
      "cell_type": "code",
      "source": [
        "from datetime import datetime\n",
        "\n",
        "print(f\"⏱ Tiempo de inicio: {datetime.now().strftime('%H:%M:%S')}\")\n",
        "\n",
        "dqn.fit(env, nb_steps=200000, visualize=False, verbose=2,callbacks=[checkpoint_callback])\n",
        "\n",
        "print(f\"⏱ Tiempo de fin: {datetime.now().strftime('%H:%M:%S')}\")\n",
        "\n",
        "# Guardando modelo\n",
        "dqn.save_weights('dqn_04_weights.h5f')\n"
      ],
      "metadata": {
        "colab": {
          "base_uri": "https://localhost:8080/"
        },
        "id": "AR2u9_7LR0WI",
        "outputId": "ecc666e3-cf90-4a64-ddf7-ded6c024e9a5"
      },
      "execution_count": null,
      "outputs": [
        {
          "output_type": "stream",
          "name": "stdout",
          "text": [
            "⏱ Tiempo de inicio: 12:21:49\n",
            "Training for 200000 steps ...\n"
          ]
        },
        {
          "output_type": "stream",
          "name": "stderr",
          "text": [
            "/usr/local/lib/python3.11/dist-packages/keras/engine/training_v1.py:2359: UserWarning: `Model.state_updates` will be removed in a future version. This property should not be used in TensorFlow 2.0, as `updates` are applied automatically.\n",
            "  updates=self.state_updates,\n"
          ]
        },
        {
          "output_type": "stream",
          "name": "stdout",
          "text": [
            "    674/200000: episode: 1, duration: 9.434s, episode steps: 674, steps per second:  71, episode reward: 10.000, mean reward:  0.015 [ 0.000,  1.000], mean action: 2.487 [0.000, 5.000],  loss: --, mean_q: --, mean_eps: --\n",
            "   1257/200000: episode: 2, duration: 6.909s, episode steps: 583, steps per second:  84, episode reward:  7.000, mean reward:  0.012 [ 0.000,  1.000], mean action: 2.389 [0.000, 5.000],  loss: --, mean_q: --, mean_eps: --\n",
            "   2167/200000: episode: 3, duration: 11.839s, episode steps: 910, steps per second:  77, episode reward: 15.000, mean reward:  0.016 [ 0.000,  1.000], mean action: 2.388 [0.000, 5.000],  loss: --, mean_q: --, mean_eps: --\n",
            "   3215/200000: episode: 4, duration: 13.533s, episode steps: 1048, steps per second:  77, episode reward: 21.000, mean reward:  0.020 [ 0.000,  1.000], mean action: 2.442 [0.000, 5.000],  loss: --, mean_q: --, mean_eps: --\n",
            "   3688/200000: episode: 5, duration: 6.792s, episode steps: 473, steps per second:  70, episode reward:  7.000, mean reward:  0.015 [ 0.000,  1.000], mean action: 2.493 [0.000, 5.000],  loss: --, mean_q: --, mean_eps: --\n",
            "   4079/200000: episode: 6, duration: 4.590s, episode steps: 391, steps per second:  85, episode reward:  6.000, mean reward:  0.015 [ 0.000,  1.000], mean action: 2.402 [0.000, 5.000],  loss: --, mean_q: --, mean_eps: --\n",
            "   4870/200000: episode: 7, duration: 10.520s, episode steps: 791, steps per second:  75, episode reward:  8.000, mean reward:  0.010 [ 0.000,  1.000], mean action: 2.504 [0.000, 5.000],  loss: --, mean_q: --, mean_eps: --\n",
            "   6128/200000: episode: 8, duration: 16.108s, episode steps: 1258, steps per second:  78, episode reward: 22.000, mean reward:  0.017 [ 0.000,  1.000], mean action: 2.440 [0.000, 5.000],  loss: --, mean_q: --, mean_eps: --\n",
            "   7424/200000: episode: 9, duration: 16.395s, episode steps: 1296, steps per second:  79, episode reward: 21.000, mean reward:  0.016 [ 0.000,  1.000], mean action: 2.435 [0.000, 5.000],  loss: --, mean_q: --, mean_eps: --\n",
            "   7942/200000: episode: 10, duration: 7.306s, episode steps: 518, steps per second:  71, episode reward:  4.000, mean reward:  0.008 [ 0.000,  1.000], mean action: 2.442 [0.000, 5.000],  loss: --, mean_q: --, mean_eps: --\n",
            "   8594/200000: episode: 11, duration: 8.086s, episode steps: 652, steps per second:  81, episode reward:  6.000, mean reward:  0.009 [ 0.000,  1.000], mean action: 2.434 [0.000, 5.000],  loss: --, mean_q: --, mean_eps: --\n",
            "   9569/200000: episode: 12, duration: 12.323s, episode steps: 975, steps per second:  79, episode reward: 14.000, mean reward:  0.014 [ 0.000,  1.000], mean action: 2.479 [0.000, 5.000],  loss: --, mean_q: --, mean_eps: --\n",
            "  10412/200000: episode: 13, duration: 11.201s, episode steps: 843, steps per second:  75, episode reward: 12.000, mean reward:  0.014 [ 0.000,  1.000], mean action: 2.412 [0.000, 5.000],  loss: --, mean_q: --, mean_eps: --\n",
            "  10756/200000: episode: 14, duration: 5.099s, episode steps: 344, steps per second:  67, episode reward:  2.000, mean reward:  0.006 [ 0.000,  1.000], mean action: 2.517 [0.000, 5.000],  loss: --, mean_q: --, mean_eps: --\n",
            "  11779/200000: episode: 15, duration: 13.112s, episode steps: 1023, steps per second:  78, episode reward: 16.000, mean reward:  0.016 [ 0.000,  1.000], mean action: 2.348 [0.000, 5.000],  loss: --, mean_q: --, mean_eps: --\n",
            "  12536/200000: episode: 16, duration: 9.094s, episode steps: 757, steps per second:  83, episode reward:  8.000, mean reward:  0.011 [ 0.000,  1.000], mean action: 2.474 [0.000, 5.000],  loss: --, mean_q: --, mean_eps: --\n",
            "  12995/200000: episode: 17, duration: 6.476s, episode steps: 459, steps per second:  71, episode reward:  5.000, mean reward:  0.011 [ 0.000,  1.000], mean action: 2.512 [0.000, 5.000],  loss: --, mean_q: --, mean_eps: --\n",
            "  14183/200000: episode: 18, duration: 15.013s, episode steps: 1188, steps per second:  79, episode reward: 20.000, mean reward:  0.017 [ 0.000,  1.000], mean action: 2.491 [0.000, 5.000],  loss: --, mean_q: --, mean_eps: --\n",
            "  15081/200000: episode: 19, duration: 11.713s, episode steps: 898, steps per second:  77, episode reward: 13.000, mean reward:  0.014 [ 0.000,  1.000], mean action: 2.420 [0.000, 5.000],  loss: --, mean_q: --, mean_eps: --\n",
            "  15769/200000: episode: 20, duration: 8.025s, episode steps: 688, steps per second:  86, episode reward: 10.000, mean reward:  0.015 [ 0.000,  1.000], mean action: 2.453 [0.000, 5.000],  loss: --, mean_q: --, mean_eps: --\n",
            "  16458/200000: episode: 21, duration: 9.250s, episode steps: 689, steps per second:  74, episode reward:  9.000, mean reward:  0.013 [ 0.000,  1.000], mean action: 2.334 [0.000, 5.000],  loss: --, mean_q: --, mean_eps: --\n",
            "  17163/200000: episode: 22, duration: 9.398s, episode steps: 705, steps per second:  75, episode reward: 10.000, mean reward:  0.014 [ 0.000,  1.000], mean action: 2.481 [0.000, 5.000],  loss: --, mean_q: --, mean_eps: --\n",
            "  18272/200000: episode: 23, duration: 14.192s, episode steps: 1109, steps per second:  78, episode reward: 24.000, mean reward:  0.022 [ 0.000,  1.000], mean action: 2.400 [0.000, 5.000],  loss: --, mean_q: --, mean_eps: --\n",
            "  19196/200000: episode: 24, duration: 12.084s, episode steps: 924, steps per second:  76, episode reward: 19.000, mean reward:  0.021 [ 0.000,  1.000], mean action: 2.328 [0.000, 5.000],  loss: --, mean_q: --, mean_eps: --\n",
            "  19792/200000: episode: 25, duration: 7.065s, episode steps: 596, steps per second:  84, episode reward:  8.000, mean reward:  0.013 [ 0.000,  1.000], mean action: 2.423 [0.000, 5.000],  loss: --, mean_q: --, mean_eps: --\n",
            "  20785/200000: episode: 26, duration: 12.928s, episode steps: 993, steps per second:  77, episode reward: 20.000, mean reward:  0.020 [ 0.000,  1.000], mean action: 2.365 [0.000, 5.000],  loss: --, mean_q: --, mean_eps: --\n",
            "  21559/200000: episode: 27, duration: 10.307s, episode steps: 774, steps per second:  75, episode reward: 11.000, mean reward:  0.014 [ 0.000,  1.000], mean action: 2.318 [0.000, 5.000],  loss: --, mean_q: --, mean_eps: --\n",
            "  22862/200000: episode: 28, duration: 16.468s, episode steps: 1303, steps per second:  79, episode reward: 24.000, mean reward:  0.018 [ 0.000,  1.000], mean action: 2.315 [0.000, 5.000],  loss: --, mean_q: --, mean_eps: --\n",
            "  23417/200000: episode: 29, duration: 7.637s, episode steps: 555, steps per second:  73, episode reward:  9.000, mean reward:  0.016 [ 0.000,  1.000], mean action: 2.377 [0.000, 5.000],  loss: --, mean_q: --, mean_eps: --\n",
            "  24249/200000: episode: 30, duration: 10.952s, episode steps: 832, steps per second:  76, episode reward: 10.000, mean reward:  0.012 [ 0.000,  1.000], mean action: 2.292 [0.000, 5.000],  loss: --, mean_q: --, mean_eps: --\n",
            "  24738/200000: episode: 31, duration: 5.784s, episode steps: 489, steps per second:  85, episode reward:  6.000, mean reward:  0.012 [ 0.000,  1.000], mean action: 2.479 [0.000, 5.000],  loss: --, mean_q: --, mean_eps: --\n",
            "  25358/200000: episode: 32, duration: 8.447s, episode steps: 620, steps per second:  73, episode reward:  7.000, mean reward:  0.011 [ 0.000,  1.000], mean action: 2.329 [0.000, 5.000],  loss: --, mean_q: --, mean_eps: --\n",
            "  26009/200000: episode: 33, duration: 7.655s, episode steps: 651, steps per second:  85, episode reward:  7.000, mean reward:  0.011 [ 0.000,  1.000], mean action: 2.333 [0.000, 5.000],  loss: --, mean_q: --, mean_eps: --\n",
            "  26865/200000: episode: 34, duration: 11.095s, episode steps: 856, steps per second:  77, episode reward: 11.000, mean reward:  0.013 [ 0.000,  1.000], mean action: 2.326 [0.000, 5.000],  loss: --, mean_q: --, mean_eps: --\n",
            "  27567/200000: episode: 35, duration: 9.254s, episode steps: 702, steps per second:  76, episode reward:  8.000, mean reward:  0.011 [ 0.000,  1.000], mean action: 2.295 [0.000, 5.000],  loss: --, mean_q: --, mean_eps: --\n",
            "  28188/200000: episode: 36, duration: 7.395s, episode steps: 621, steps per second:  84, episode reward: 10.000, mean reward:  0.016 [ 0.000,  1.000], mean action: 2.435 [0.000, 5.000],  loss: --, mean_q: --, mean_eps: --\n",
            "  29160/200000: episode: 37, duration: 12.336s, episode steps: 972, steps per second:  79, episode reward: 15.000, mean reward:  0.015 [ 0.000,  1.000], mean action: 2.348 [0.000, 5.000],  loss: --, mean_q: --, mean_eps: --\n",
            "  29974/200000: episode: 38, duration: 10.639s, episode steps: 814, steps per second:  77, episode reward: 10.000, mean reward:  0.012 [ 0.000,  1.000], mean action: 2.382 [0.000, 5.000],  loss: --, mean_q: --, mean_eps: --\n",
            "  30706/200000: episode: 39, duration: 9.770s, episode steps: 732, steps per second:  75, episode reward:  8.000, mean reward:  0.011 [ 0.000,  1.000], mean action: 2.276 [0.000, 5.000],  loss: --, mean_q: --, mean_eps: --\n",
            "  31360/200000: episode: 40, duration: 8.223s, episode steps: 654, steps per second:  80, episode reward: 10.000, mean reward:  0.015 [ 0.000,  1.000], mean action: 2.333 [0.000, 5.000],  loss: --, mean_q: --, mean_eps: --\n",
            "  31862/200000: episode: 41, duration: 6.391s, episode steps: 502, steps per second:  79, episode reward:  8.000, mean reward:  0.016 [ 0.000,  1.000], mean action: 2.373 [0.000, 5.000],  loss: --, mean_q: --, mean_eps: --\n",
            "  32591/200000: episode: 42, duration: 9.596s, episode steps: 729, steps per second:  76, episode reward: 10.000, mean reward:  0.014 [ 0.000,  1.000], mean action: 2.294 [0.000, 5.000],  loss: --, mean_q: --, mean_eps: --\n",
            "  33488/200000: episode: 43, duration: 11.389s, episode steps: 897, steps per second:  79, episode reward: 20.000, mean reward:  0.022 [ 0.000,  1.000], mean action: 2.327 [0.000, 5.000],  loss: --, mean_q: --, mean_eps: --\n",
            "  34421/200000: episode: 44, duration: 11.291s, episode steps: 933, steps per second:  83, episode reward: 18.000, mean reward:  0.019 [ 0.000,  1.000], mean action: 2.253 [0.000, 5.000],  loss: --, mean_q: --, mean_eps: --\n",
            "  35058/200000: episode: 45, duration: 8.300s, episode steps: 637, steps per second:  77, episode reward:  8.000, mean reward:  0.013 [ 0.000,  1.000], mean action: 2.209 [0.000, 5.000],  loss: --, mean_q: --, mean_eps: --\n",
            "  36127/200000: episode: 46, duration: 13.572s, episode steps: 1069, steps per second:  79, episode reward: 20.000, mean reward:  0.019 [ 0.000,  1.000], mean action: 2.278 [0.000, 5.000],  loss: --, mean_q: --, mean_eps: --\n",
            "  36932/200000: episode: 47, duration: 10.469s, episode steps: 805, steps per second:  77, episode reward: 13.000, mean reward:  0.016 [ 0.000,  1.000], mean action: 2.361 [0.000, 5.000],  loss: --, mean_q: --, mean_eps: --\n",
            "  38005/200000: episode: 48, duration: 13.667s, episode steps: 1073, steps per second:  79, episode reward: 23.000, mean reward:  0.021 [ 0.000,  1.000], mean action: 2.267 [0.000, 5.000],  loss: --, mean_q: --, mean_eps: --\n",
            "  38506/200000: episode: 49, duration: 5.948s, episode steps: 501, steps per second:  84, episode reward:  8.000, mean reward:  0.016 [ 0.000,  1.000], mean action: 2.242 [0.000, 5.000],  loss: --, mean_q: --, mean_eps: --\n",
            "  39180/200000: episode: 50, duration: 8.934s, episode steps: 674, steps per second:  75, episode reward:  8.000, mean reward:  0.012 [ 0.000,  1.000], mean action: 2.323 [0.000, 5.000],  loss: --, mean_q: --, mean_eps: --\n",
            "  39728/200000: episode: 51, duration: 7.586s, episode steps: 548, steps per second:  72, episode reward:  6.000, mean reward:  0.011 [ 0.000,  1.000], mean action: 2.407 [0.000, 5.000],  loss: --, mean_q: --, mean_eps: --\n",
            "  40430/200000: episode: 52, duration: 8.486s, episode steps: 702, steps per second:  83, episode reward:  8.000, mean reward:  0.011 [ 0.000,  1.000], mean action: 2.293 [0.000, 5.000],  loss: --, mean_q: --, mean_eps: --\n",
            "  41371/200000: episode: 53, duration: 12.144s, episode steps: 941, steps per second:  77, episode reward: 20.000, mean reward:  0.021 [ 0.000,  1.000], mean action: 2.395 [0.000, 5.000],  loss: --, mean_q: --, mean_eps: --\n",
            "  42108/200000: episode: 54, duration: 9.708s, episode steps: 737, steps per second:  76, episode reward: 11.000, mean reward:  0.015 [ 0.000,  1.000], mean action: 2.277 [0.000, 5.000],  loss: --, mean_q: --, mean_eps: --\n",
            "  42749/200000: episode: 55, duration: 8.408s, episode steps: 641, steps per second:  76, episode reward: 10.000, mean reward:  0.016 [ 0.000,  1.000], mean action: 2.287 [0.000, 5.000],  loss: --, mean_q: --, mean_eps: --\n",
            "  43407/200000: episode: 56, duration: 8.140s, episode steps: 658, steps per second:  81, episode reward:  7.000, mean reward:  0.011 [ 0.000,  1.000], mean action: 2.255 [0.000, 5.000],  loss: --, mean_q: --, mean_eps: --\n",
            "  44061/200000: episode: 57, duration: 8.827s, episode steps: 654, steps per second:  74, episode reward: 10.000, mean reward:  0.015 [ 0.000,  1.000], mean action: 2.193 [0.000, 5.000],  loss: --, mean_q: --, mean_eps: --\n",
            "  44659/200000: episode: 58, duration: 7.046s, episode steps: 598, steps per second:  85, episode reward:  5.000, mean reward:  0.008 [ 0.000,  1.000], mean action: 2.279 [0.000, 5.000],  loss: --, mean_q: --, mean_eps: --\n",
            "  45054/200000: episode: 59, duration: 5.702s, episode steps: 395, steps per second:  69, episode reward:  6.000, mean reward:  0.015 [ 0.000,  1.000], mean action: 2.210 [0.000, 5.000],  loss: --, mean_q: --, mean_eps: --\n",
            "  45755/200000: episode: 60, duration: 8.654s, episode steps: 701, steps per second:  81, episode reward: 11.000, mean reward:  0.016 [ 0.000,  1.000], mean action: 2.235 [0.000, 5.000],  loss: --, mean_q: --, mean_eps: --\n",
            "  46721/200000: episode: 61, duration: 11.994s, episode steps: 966, steps per second:  81, episode reward: 14.000, mean reward:  0.014 [ 0.000,  1.000], mean action: 2.276 [0.000, 5.000],  loss: --, mean_q: --, mean_eps: --\n",
            "  47490/200000: episode: 62, duration: 10.071s, episode steps: 769, steps per second:  76, episode reward: 11.000, mean reward:  0.014 [ 0.000,  1.000], mean action: 2.235 [0.000, 5.000],  loss: --, mean_q: --, mean_eps: --\n",
            "  47995/200000: episode: 63, duration: 6.968s, episode steps: 505, steps per second:  72, episode reward:  8.000, mean reward:  0.016 [ 0.000,  1.000], mean action: 2.216 [0.000, 5.000],  loss: --, mean_q: --, mean_eps: --\n",
            "  48582/200000: episode: 64, duration: 6.954s, episode steps: 587, steps per second:  84, episode reward: 10.000, mean reward:  0.017 [ 0.000,  1.000], mean action: 2.112 [0.000, 5.000],  loss: --, mean_q: --, mean_eps: --\n",
            "  49668/200000: episode: 65, duration: 13.932s, episode steps: 1086, steps per second:  78, episode reward: 21.000, mean reward:  0.019 [ 0.000,  1.000], mean action: 2.287 [0.000, 5.000],  loss: --, mean_q: --, mean_eps: --\n",
            "Step 50000: saving model to checkpoints/dqn_weights_50000.h5f\n",
            "  50299/200000: episode: 66, duration: 8.856s, episode steps: 631, steps per second:  71, episode reward:  9.000, mean reward:  0.014 [ 0.000,  1.000], mean action: 2.223 [0.000, 5.000],  loss: --, mean_q: --, mean_eps: --\n",
            "  50681/200000: episode: 67, duration: 4.512s, episode steps: 382, steps per second:  85, episode reward:  6.000, mean reward:  0.016 [ 0.000,  1.000], mean action: 2.217 [0.000, 5.000],  loss: --, mean_q: --, mean_eps: --\n",
            "  51415/200000: episode: 68, duration: 9.729s, episode steps: 734, steps per second:  75, episode reward:  5.000, mean reward:  0.007 [ 0.000,  1.000], mean action: 2.196 [0.000, 5.000],  loss: --, mean_q: --, mean_eps: --\n",
            "  51930/200000: episode: 69, duration: 6.714s, episode steps: 515, steps per second:  77, episode reward:  9.000, mean reward:  0.017 [ 0.000,  1.000], mean action: 2.142 [0.000, 5.000],  loss: --, mean_q: --, mean_eps: --\n",
            "  52955/200000: episode: 70, duration: 13.056s, episode steps: 1025, steps per second:  79, episode reward: 23.000, mean reward:  0.022 [ 0.000,  1.000], mean action: 2.225 [0.000, 5.000],  loss: --, mean_q: --, mean_eps: --\n",
            "  53565/200000: episode: 71, duration: 7.780s, episode steps: 610, steps per second:  78, episode reward:  6.000, mean reward:  0.010 [ 0.000,  1.000], mean action: 2.167 [0.000, 5.000],  loss: --, mean_q: --, mean_eps: --\n",
            "  54577/200000: episode: 72, duration: 13.037s, episode steps: 1012, steps per second:  78, episode reward: 21.000, mean reward:  0.021 [ 0.000,  1.000], mean action: 2.202 [0.000, 5.000],  loss: --, mean_q: --, mean_eps: --\n",
            "  55098/200000: episode: 73, duration: 7.252s, episode steps: 521, steps per second:  72, episode reward: 11.000, mean reward:  0.021 [ 0.000,  1.000], mean action: 2.215 [0.000, 5.000],  loss: --, mean_q: --, mean_eps: --\n",
            "  55690/200000: episode: 74, duration: 6.974s, episode steps: 592, steps per second:  85, episode reward:  5.000, mean reward:  0.008 [ 0.000,  1.000], mean action: 2.108 [0.000, 5.000],  loss: --, mean_q: --, mean_eps: --\n",
            "  56288/200000: episode: 75, duration: 8.119s, episode steps: 598, steps per second:  74, episode reward:  2.000, mean reward:  0.003 [ 0.000,  1.000], mean action: 2.237 [0.000, 5.000],  loss: --, mean_q: --, mean_eps: --\n",
            "  57111/200000: episode: 76, duration: 10.647s, episode steps: 823, steps per second:  77, episode reward: 18.000, mean reward:  0.022 [ 0.000,  1.000], mean action: 2.225 [0.000, 5.000],  loss: --, mean_q: --, mean_eps: --\n",
            "  58181/200000: episode: 77, duration: 13.832s, episode steps: 1070, steps per second:  77, episode reward: 13.000, mean reward:  0.012 [ 0.000,  1.000], mean action: 2.209 [0.000, 5.000],  loss: --, mean_q: --, mean_eps: --\n",
            "  58802/200000: episode: 78, duration: 7.367s, episode steps: 621, steps per second:  84, episode reward:  5.000, mean reward:  0.008 [ 0.000,  1.000], mean action: 2.087 [0.000, 5.000],  loss: --, mean_q: --, mean_eps: --\n",
            "  59417/200000: episode: 79, duration: 8.327s, episode steps: 615, steps per second:  74, episode reward:  7.000, mean reward:  0.011 [ 0.000,  1.000], mean action: 2.233 [0.000, 5.000],  loss: --, mean_q: --, mean_eps: --\n",
            "  59872/200000: episode: 80, duration: 5.396s, episode steps: 455, steps per second:  84, episode reward:  9.000, mean reward:  0.020 [ 0.000,  1.000], mean action: 2.077 [0.000, 5.000],  loss: --, mean_q: --, mean_eps: --\n",
            "  60456/200000: episode: 81, duration: 8.126s, episode steps: 584, steps per second:  72, episode reward:  8.000, mean reward:  0.014 [ 0.000,  1.000], mean action: 2.241 [0.000, 5.000],  loss: --, mean_q: --, mean_eps: --\n",
            "  61159/200000: episode: 82, duration: 8.997s, episode steps: 703, steps per second:  78, episode reward:  7.000, mean reward:  0.010 [ 0.000,  1.000], mean action: 2.114 [0.000, 5.000],  loss: --, mean_q: --, mean_eps: --\n",
            "  62000/200000: episode: 83, duration: 10.428s, episode steps: 841, steps per second:  81, episode reward:  9.000, mean reward:  0.011 [ 0.000,  1.000], mean action: 2.153 [0.000, 5.000],  loss: --, mean_q: --, mean_eps: --\n",
            "  62650/200000: episode: 84, duration: 8.743s, episode steps: 650, steps per second:  74, episode reward: 10.000, mean reward:  0.015 [ 0.000,  1.000], mean action: 2.142 [0.000, 5.000],  loss: --, mean_q: --, mean_eps: --\n",
            "  63139/200000: episode: 85, duration: 6.063s, episode steps: 489, steps per second:  81, episode reward:  2.000, mean reward:  0.004 [ 0.000,  1.000], mean action: 2.233 [0.000, 5.000],  loss: --, mean_q: --, mean_eps: --\n",
            "  63843/200000: episode: 86, duration: 9.286s, episode steps: 704, steps per second:  76, episode reward: 10.000, mean reward:  0.014 [ 0.000,  1.000], mean action: 2.189 [0.000, 5.000],  loss: --, mean_q: --, mean_eps: --\n",
            "  64282/200000: episode: 87, duration: 6.218s, episode steps: 439, steps per second:  71, episode reward:  5.000, mean reward:  0.011 [ 0.000,  1.000], mean action: 2.191 [0.000, 5.000],  loss: --, mean_q: --, mean_eps: --\n",
            "  65195/200000: episode: 88, duration: 11.144s, episode steps: 913, steps per second:  82, episode reward: 18.000, mean reward:  0.020 [ 0.000,  1.000], mean action: 2.139 [0.000, 5.000],  loss: --, mean_q: --, mean_eps: --\n",
            "  65924/200000: episode: 89, duration: 9.436s, episode steps: 729, steps per second:  77, episode reward:  4.000, mean reward:  0.005 [ 0.000,  1.000], mean action: 2.062 [0.000, 5.000],  loss: --, mean_q: --, mean_eps: --\n",
            "  66670/200000: episode: 90, duration: 9.698s, episode steps: 746, steps per second:  77, episode reward: 11.000, mean reward:  0.015 [ 0.000,  1.000], mean action: 2.021 [0.000, 5.000],  loss: --, mean_q: --, mean_eps: --\n",
            "  67491/200000: episode: 91, duration: 10.723s, episode steps: 821, steps per second:  77, episode reward: 15.000, mean reward:  0.018 [ 0.000,  1.000], mean action: 2.111 [0.000, 5.000],  loss: --, mean_q: --, mean_eps: --\n",
            "  68118/200000: episode: 92, duration: 7.343s, episode steps: 627, steps per second:  85, episode reward:  7.000, mean reward:  0.011 [ 0.000,  1.000], mean action: 2.228 [0.000, 5.000],  loss: --, mean_q: --, mean_eps: --\n",
            "  68621/200000: episode: 93, duration: 6.982s, episode steps: 503, steps per second:  72, episode reward:  8.000, mean reward:  0.016 [ 0.000,  1.000], mean action: 2.074 [0.000, 5.000],  loss: --, mean_q: --, mean_eps: --\n",
            "  69271/200000: episode: 94, duration: 7.592s, episode steps: 650, steps per second:  86, episode reward: 14.000, mean reward:  0.022 [ 0.000,  1.000], mean action: 2.074 [0.000, 5.000],  loss: --, mean_q: --, mean_eps: --\n",
            "  69759/200000: episode: 95, duration: 6.768s, episode steps: 488, steps per second:  72, episode reward:  8.000, mean reward:  0.016 [ 0.000,  1.000], mean action: 1.941 [0.000, 5.000],  loss: --, mean_q: --, mean_eps: --\n",
            "  70706/200000: episode: 96, duration: 12.323s, episode steps: 947, steps per second:  77, episode reward: 15.000, mean reward:  0.016 [ 0.000,  1.000], mean action: 2.189 [0.000, 5.000],  loss: --, mean_q: --, mean_eps: --\n",
            "  71124/200000: episode: 97, duration: 4.912s, episode steps: 418, steps per second:  85, episode reward:  7.000, mean reward:  0.017 [ 0.000,  1.000], mean action: 2.093 [0.000, 5.000],  loss: --, mean_q: --, mean_eps: --\n",
            "  72056/200000: episode: 98, duration: 11.935s, episode steps: 932, steps per second:  78, episode reward: 19.000, mean reward:  0.020 [ 0.000,  1.000], mean action: 2.069 [0.000, 5.000],  loss: --, mean_q: --, mean_eps: --\n",
            "  73048/200000: episode: 99, duration: 12.804s, episode steps: 992, steps per second:  77, episode reward: 19.000, mean reward:  0.019 [ 0.000,  1.000], mean action: 2.081 [0.000, 5.000],  loss: --, mean_q: --, mean_eps: --\n",
            "  74026/200000: episode: 100, duration: 12.550s, episode steps: 978, steps per second:  78, episode reward: 16.000, mean reward:  0.016 [ 0.000,  1.000], mean action: 2.170 [0.000, 5.000],  loss: --, mean_q: --, mean_eps: --\n",
            "  74643/200000: episode: 101, duration: 8.301s, episode steps: 617, steps per second:  74, episode reward:  9.000, mean reward:  0.015 [ 0.000,  1.000], mean action: 2.214 [0.000, 5.000],  loss: --, mean_q: --, mean_eps: --\n",
            "  75528/200000: episode: 102, duration: 10.867s, episode steps: 885, steps per second:  81, episode reward: 16.000, mean reward:  0.018 [ 0.000,  1.000], mean action: 2.092 [0.000, 5.000],  loss: --, mean_q: --, mean_eps: --\n",
            "  76243/200000: episode: 103, duration: 9.059s, episode steps: 715, steps per second:  79, episode reward: 14.000, mean reward:  0.020 [ 0.000,  1.000], mean action: 2.039 [0.000, 5.000],  loss: --, mean_q: --, mean_eps: --\n",
            "  76879/200000: episode: 104, duration: 8.572s, episode steps: 636, steps per second:  74, episode reward:  8.000, mean reward:  0.013 [ 0.000,  1.000], mean action: 2.020 [0.000, 5.000],  loss: --, mean_q: --, mean_eps: --\n",
            "  77484/200000: episode: 105, duration: 7.142s, episode steps: 605, steps per second:  85, episode reward:  9.000, mean reward:  0.015 [ 0.000,  1.000], mean action: 2.124 [0.000, 5.000],  loss: --, mean_q: --, mean_eps: --\n",
            "  78877/200000: episode: 106, duration: 18.434s, episode steps: 1393, steps per second:  76, episode reward: 21.000, mean reward:  0.015 [ 0.000,  1.000], mean action: 2.117 [0.000, 5.000],  loss: --, mean_q: --, mean_eps: --\n",
            "  79831/200000: episode: 107, duration: 12.204s, episode steps: 954, steps per second:  78, episode reward: 18.000, mean reward:  0.019 [ 0.000,  1.000], mean action: 2.027 [0.000, 5.000],  loss: --, mean_q: --, mean_eps: --\n",
            "  80530/200000: episode: 108, duration: 8.359s, episode steps: 699, steps per second:  84, episode reward: 15.000, mean reward:  0.021 [ 0.000,  1.000], mean action: 2.113 [0.000, 5.000],  loss: --, mean_q: --, mean_eps: --\n",
            "  80918/200000: episode: 109, duration: 5.593s, episode steps: 388, steps per second:  69, episode reward:  4.000, mean reward:  0.010 [ 0.000,  1.000], mean action: 2.036 [0.000, 5.000],  loss: --, mean_q: --, mean_eps: --\n",
            "  82033/200000: episode: 110, duration: 14.184s, episode steps: 1115, steps per second:  79, episode reward: 22.000, mean reward:  0.020 [ 0.000,  1.000], mean action: 2.283 [0.000, 5.000],  loss: --, mean_q: --, mean_eps: --\n",
            "  82667/200000: episode: 111, duration: 7.569s, episode steps: 634, steps per second:  84, episode reward: 12.000, mean reward:  0.019 [ 0.000,  1.000], mean action: 1.902 [0.000, 5.000],  loss: --, mean_q: --, mean_eps: --\n",
            "  83056/200000: episode: 112, duration: 5.695s, episode steps: 389, steps per second:  68, episode reward:  4.000, mean reward:  0.010 [ 0.000,  1.000], mean action: 2.098 [0.000, 5.000],  loss: --, mean_q: --, mean_eps: --\n",
            "  83644/200000: episode: 113, duration: 6.968s, episode steps: 588, steps per second:  84, episode reward:  5.000, mean reward:  0.009 [ 0.000,  1.000], mean action: 2.022 [0.000, 5.000],  loss: --, mean_q: --, mean_eps: --\n",
            "  84391/200000: episode: 114, duration: 9.888s, episode steps: 747, steps per second:  76, episode reward:  7.000, mean reward:  0.009 [ 0.000,  1.000], mean action: 2.086 [0.000, 5.000],  loss: --, mean_q: --, mean_eps: --\n",
            "  84953/200000: episode: 115, duration: 7.739s, episode steps: 562, steps per second:  73, episode reward: 11.000, mean reward:  0.020 [ 0.000,  1.000], mean action: 1.835 [0.000, 5.000],  loss: --, mean_q: --, mean_eps: --\n",
            "  85494/200000: episode: 116, duration: 6.447s, episode steps: 541, steps per second:  84, episode reward:  3.000, mean reward:  0.006 [ 0.000,  1.000], mean action: 1.902 [0.000, 5.000],  loss: --, mean_q: --, mean_eps: --\n",
            "  85857/200000: episode: 117, duration: 5.083s, episode steps: 363, steps per second:  71, episode reward:  3.000, mean reward:  0.008 [ 0.000,  1.000], mean action: 2.152 [0.000, 5.000],  loss: --, mean_q: --, mean_eps: --\n",
            "  86510/200000: episode: 118, duration: 8.169s, episode steps: 653, steps per second:  80, episode reward:  4.000, mean reward:  0.006 [ 0.000,  1.000], mean action: 1.891 [0.000, 5.000],  loss: --, mean_q: --, mean_eps: --\n",
            "  87026/200000: episode: 119, duration: 7.146s, episode steps: 516, steps per second:  72, episode reward:  7.000, mean reward:  0.014 [ 0.000,  1.000], mean action: 2.010 [0.000, 5.000],  loss: --, mean_q: --, mean_eps: --\n",
            "  87764/200000: episode: 120, duration: 8.708s, episode steps: 738, steps per second:  85, episode reward: 17.000, mean reward:  0.023 [ 0.000,  1.000], mean action: 2.047 [0.000, 5.000],  loss: --, mean_q: --, mean_eps: --\n",
            "  88798/200000: episode: 121, duration: 13.177s, episode steps: 1034, steps per second:  78, episode reward: 22.000, mean reward:  0.021 [ 0.000,  1.000], mean action: 2.033 [0.000, 5.000],  loss: --, mean_q: --, mean_eps: --\n",
            "  89569/200000: episode: 122, duration: 10.139s, episode steps: 771, steps per second:  76, episode reward: 15.000, mean reward:  0.019 [ 0.000,  1.000], mean action: 2.006 [0.000, 5.000],  loss: --, mean_q: --, mean_eps: --\n",
            "  89935/200000: episode: 123, duration: 4.883s, episode steps: 366, steps per second:  75, episode reward:  1.000, mean reward:  0.003 [ 0.000,  1.000], mean action: 1.839 [0.000, 5.000],  loss: --, mean_q: --, mean_eps: --\n",
            "  90314/200000: episode: 124, duration: 4.968s, episode steps: 379, steps per second:  76, episode reward:  6.000, mean reward:  0.016 [ 0.000,  1.000], mean action: 2.158 [0.000, 5.000],  loss: --, mean_q: --, mean_eps: --\n",
            "  91000/200000: episode: 125, duration: 8.923s, episode steps: 686, steps per second:  77, episode reward: 11.000, mean reward:  0.016 [ 0.000,  1.000], mean action: 2.101 [0.000, 5.000],  loss: --, mean_q: --, mean_eps: --\n",
            "  91519/200000: episode: 126, duration: 6.398s, episode steps: 519, steps per second:  81, episode reward:  5.000, mean reward:  0.010 [ 0.000,  1.000], mean action: 2.050 [0.000, 5.000],  loss: --, mean_q: --, mean_eps: --\n",
            "  92425/200000: episode: 127, duration: 11.717s, episode steps: 906, steps per second:  77, episode reward: 15.000, mean reward:  0.017 [ 0.000,  1.000], mean action: 1.999 [0.000, 5.000],  loss: --, mean_q: --, mean_eps: --\n",
            "  93150/200000: episode: 128, duration: 9.527s, episode steps: 725, steps per second:  76, episode reward: 16.000, mean reward:  0.022 [ 0.000,  1.000], mean action: 1.993 [0.000, 5.000],  loss: --, mean_q: --, mean_eps: --\n",
            "  94183/200000: episode: 129, duration: 13.203s, episode steps: 1033, steps per second:  78, episode reward: 19.000, mean reward:  0.018 [ 0.000,  1.000], mean action: 1.974 [0.000, 5.000],  loss: --, mean_q: --, mean_eps: --\n",
            "  94605/200000: episode: 130, duration: 5.013s, episode steps: 422, steps per second:  84, episode reward:  6.000, mean reward:  0.014 [ 0.000,  1.000], mean action: 1.818 [0.000, 5.000],  loss: --, mean_q: --, mean_eps: --\n",
            "  95166/200000: episode: 131, duration: 7.584s, episode steps: 561, steps per second:  74, episode reward:  7.000, mean reward:  0.012 [ 0.000,  1.000], mean action: 1.920 [0.000, 5.000],  loss: --, mean_q: --, mean_eps: --\n",
            "  95644/200000: episode: 132, duration: 5.588s, episode steps: 478, steps per second:  86, episode reward:  2.000, mean reward:  0.004 [ 0.000,  1.000], mean action: 1.908 [0.000, 5.000],  loss: --, mean_q: --, mean_eps: --\n",
            "  96245/200000: episode: 133, duration: 8.111s, episode steps: 601, steps per second:  74, episode reward:  7.000, mean reward:  0.012 [ 0.000,  1.000], mean action: 2.007 [0.000, 5.000],  loss: --, mean_q: --, mean_eps: --\n",
            "  96935/200000: episode: 134, duration: 8.061s, episode steps: 690, steps per second:  86, episode reward:  5.000, mean reward:  0.007 [ 0.000,  1.000], mean action: 2.062 [0.000, 5.000],  loss: --, mean_q: --, mean_eps: --\n",
            "  98267/200000: episode: 135, duration: 17.651s, episode steps: 1332, steps per second:  75, episode reward: 18.000, mean reward:  0.014 [ 0.000,  1.000], mean action: 2.101 [0.000, 5.000],  loss: --, mean_q: --, mean_eps: --\n",
            "  98880/200000: episode: 136, duration: 7.332s, episode steps: 613, steps per second:  84, episode reward:  5.000, mean reward:  0.008 [ 0.000,  1.000], mean action: 1.909 [0.000, 5.000],  loss: --, mean_q: --, mean_eps: --\n",
            "  99493/200000: episode: 137, duration: 8.191s, episode steps: 613, steps per second:  75, episode reward:  8.000, mean reward:  0.013 [ 0.000,  1.000], mean action: 2.054 [0.000, 5.000],  loss: --, mean_q: --, mean_eps: --\n",
            "Step 100000: saving model to checkpoints/dqn_weights_100000.h5f\n"
          ]
        },
        {
          "output_type": "stream",
          "name": "stderr",
          "text": [
            "/usr/local/lib/python3.11/dist-packages/keras/engine/training_v1.py:2359: UserWarning: `Model.state_updates` will be removed in a future version. This property should not be used in TensorFlow 2.0, as `updates` are applied automatically.\n",
            "  updates=self.state_updates,\n"
          ]
        },
        {
          "output_type": "stream",
          "name": "stdout",
          "text": [
            " 100055/200000: episode: 138, duration: 63.811s, episode steps: 562, steps per second:   9, episode reward:  7.000, mean reward:  0.012 [ 0.000,  1.000], mean action: 1.847 [0.000, 5.000],  loss: 1.037317, mean_q: 0.712366, mean_eps: 0.504864\n",
            " 100863/200000: episode: 139, duration: 816.212s, episode steps: 808, steps per second:   1, episode reward: 15.000, mean reward:  0.019 [ 0.000,  1.000], mean action: 2.750 [0.000, 5.000],  loss: 0.035497, mean_q: 0.232979, mean_eps: 0.502730\n",
            " 101527/200000: episode: 140, duration: 676.585s, episode steps: 664, steps per second:   1, episode reward:  9.000, mean reward:  0.014 [ 0.000,  1.000], mean action: 2.340 [0.000, 5.000],  loss: 0.016327, mean_q: 0.151324, mean_eps: 0.499087\n",
            " 102249/200000: episode: 141, duration: 738.904s, episode steps: 722, steps per second:   1, episode reward:  9.000, mean reward:  0.012 [ 0.000,  1.000], mean action: 2.413 [0.000, 5.000],  loss: 0.014113, mean_q: 0.138919, mean_eps: 0.495657\n",
            " 103189/200000: episode: 142, duration: 957.452s, episode steps: 940, steps per second:   1, episode reward: 16.000, mean reward:  0.017 [ 0.000,  1.000], mean action: 2.494 [0.000, 5.000],  loss: 0.011802, mean_q: 0.122742, mean_eps: 0.491543\n",
            " 103714/200000: episode: 143, duration: 536.738s, episode steps: 525, steps per second:   1, episode reward:  5.000, mean reward:  0.010 [ 0.000,  1.000], mean action: 2.630 [0.000, 5.000],  loss: 0.010732, mean_q: 0.115514, mean_eps: 0.487918\n",
            " 104396/200000: episode: 144, duration: 701.214s, episode steps: 682, steps per second:   1, episode reward:  8.000, mean reward:  0.012 [ 0.000,  1.000], mean action: 2.465 [0.000, 5.000],  loss: 0.011246, mean_q: 0.111761, mean_eps: 0.484930\n",
            " 105628/200000: episode: 145, duration: 1255.515s, episode steps: 1232, steps per second:   1, episode reward: 19.000, mean reward:  0.015 [ 0.000,  1.000], mean action: 2.599 [0.000, 5.000],  loss: 0.010168, mean_q: 0.103232, mean_eps: 0.480193\n",
            " 106366/200000: episode: 146, duration: 754.210s, episode steps: 738, steps per second:   1, episode reward: 11.000, mean reward:  0.015 [ 0.000,  1.000], mean action: 2.428 [0.000, 5.000],  loss: 0.009570, mean_q: 0.096284, mean_eps: 0.475317\n",
            " 107064/200000: episode: 147, duration: 719.615s, episode steps: 698, steps per second:   1, episode reward: 11.000, mean reward:  0.016 [ 0.000,  1.000], mean action: 2.646 [0.000, 5.000],  loss: 0.009050, mean_q: 0.089469, mean_eps: 0.471763\n",
            " 107460/200000: episode: 148, duration: 407.977s, episode steps: 396, steps per second:   1, episode reward:  4.000, mean reward:  0.010 [ 0.000,  1.000], mean action: 2.356 [0.000, 5.000],  loss: 0.008871, mean_q: 0.088205, mean_eps: 0.469056\n",
            " 108161/200000: episode: 149, duration: 715.942s, episode steps: 701, steps per second:   1, episode reward:  8.000, mean reward:  0.011 [ 0.000,  1.000], mean action: 2.382 [0.000, 5.000],  loss: 0.009410, mean_q: 0.088838, mean_eps: 0.466341\n",
            " 108733/200000: episode: 150, duration: 585.493s, episode steps: 572, steps per second:   1, episode reward:  7.000, mean reward:  0.012 [ 0.000,  1.000], mean action: 2.290 [0.000, 5.000],  loss: 0.009570, mean_q: 0.089880, mean_eps: 0.463190\n",
            " 109340/200000: episode: 151, duration: 624.456s, episode steps: 607, steps per second:   1, episode reward:  7.000, mean reward:  0.012 [ 0.000,  1.000], mean action: 2.504 [0.000, 5.000],  loss: 0.008732, mean_q: 0.081391, mean_eps: 0.460272\n",
            " 110102/200000: episode: 152, duration: 783.987s, episode steps: 762, steps per second:   1, episode reward:  4.000, mean reward:  0.005 [ 0.000,  1.000], mean action: 2.307 [0.000, 5.000],  loss: 0.008504, mean_q: 0.091481, mean_eps: 0.456884\n",
            " 110514/200000: episode: 153, duration: 422.306s, episode steps: 412, steps per second:   1, episode reward:  3.000, mean reward:  0.007 [ 0.000,  1.000], mean action: 2.502 [0.000, 5.000],  loss: 0.009019, mean_q: 0.183188, mean_eps: 0.453978\n",
            " 111398/200000: episode: 154, duration: 909.831s, episode steps: 884, steps per second:   1, episode reward:  9.000, mean reward:  0.010 [ 0.000,  1.000], mean action: 2.631 [0.000, 5.000],  loss: 0.008616, mean_q: 0.179381, mean_eps: 0.450770\n",
            " 111792/200000: episode: 155, duration: 406.368s, episode steps: 394, steps per second:   1, episode reward:  6.000, mean reward:  0.015 [ 0.000,  1.000], mean action: 2.541 [0.000, 5.000],  loss: 0.008723, mean_q: 0.180007, mean_eps: 0.447607\n",
            " 112326/200000: episode: 156, duration: 551.423s, episode steps: 534, steps per second:   1, episode reward:  6.000, mean reward:  0.011 [ 0.000,  1.000], mean action: 2.742 [0.000, 5.000],  loss: 0.008542, mean_q: 0.177766, mean_eps: 0.445310\n",
            " 112970/200000: episode: 157, duration: 665.944s, episode steps: 644, steps per second:   1, episode reward:  7.000, mean reward:  0.011 [ 0.000,  1.000], mean action: 2.418 [0.000, 5.000],  loss: 0.008421, mean_q: 0.177252, mean_eps: 0.442395\n",
            " 113800/200000: episode: 158, duration: 847.721s, episode steps: 830, steps per second:   1, episode reward: 11.000, mean reward:  0.013 [ 0.000,  1.000], mean action: 2.280 [0.000, 5.000],  loss: 0.008013, mean_q: 0.174319, mean_eps: 0.438747\n",
            " 114347/200000: episode: 159, duration: 560.461s, episode steps: 547, steps per second:   1, episode reward:  5.000, mean reward:  0.009 [ 0.000,  1.000], mean action: 2.388 [0.000, 5.000],  loss: 0.007481, mean_q: 0.172891, mean_eps: 0.435339\n",
            " 115331/200000: episode: 160, duration: 1014.622s, episode steps: 984, steps per second:   1, episode reward: 23.000, mean reward:  0.023 [ 0.000,  1.000], mean action: 2.367 [0.000, 5.000],  loss: 0.007899, mean_q: 0.173455, mean_eps: 0.431549\n",
            " 116224/200000: episode: 161, duration: 915.604s, episode steps: 893, steps per second:   1, episode reward: 14.000, mean reward:  0.016 [ 0.000,  1.000], mean action: 2.666 [0.000, 5.000],  loss: 0.007487, mean_q: 0.171514, mean_eps: 0.426904\n",
            " 116808/200000: episode: 162, duration: 599.677s, episode steps: 584, steps per second:   1, episode reward:  6.000, mean reward:  0.010 [ 0.000,  1.000], mean action: 2.803 [0.000, 5.000],  loss: 0.008362, mean_q: 0.176728, mean_eps: 0.423248\n",
            " 117384/200000: episode: 163, duration: 590.059s, episode steps: 576, steps per second:   1, episode reward: 10.000, mean reward:  0.017 [ 0.000,  1.000], mean action: 2.752 [0.000, 5.000],  loss: 0.007299, mean_q: 0.173186, mean_eps: 0.420377\n",
            " 117999/200000: episode: 164, duration: 628.169s, episode steps: 615, steps per second:   1, episode reward: 14.000, mean reward:  0.023 [ 0.000,  1.000], mean action: 2.707 [0.000, 5.000],  loss: 0.007110, mean_q: 0.173813, mean_eps: 0.417430\n",
            " 118840/200000: episode: 165, duration: 870.655s, episode steps: 841, steps per second:   1, episode reward: 20.000, mean reward:  0.024 [ 0.000,  1.000], mean action: 2.282 [0.000, 5.000],  loss: 0.007265, mean_q: 0.173524, mean_eps: 0.413826\n",
            " 119381/200000: episode: 166, duration: 554.656s, episode steps: 541, steps per second:   1, episode reward:  8.000, mean reward:  0.015 [ 0.000,  1.000], mean action: 2.183 [0.000, 5.000],  loss: 0.006847, mean_q: 0.170376, mean_eps: 0.410406\n",
            " 120022/200000: episode: 167, duration: 664.461s, episode steps: 641, steps per second:   1, episode reward:  7.000, mean reward:  0.011 [ 0.000,  1.000], mean action: 2.090 [0.000, 5.000],  loss: 0.006878, mean_q: 0.174094, mean_eps: 0.407480\n",
            " 120501/200000: episode: 168, duration: 508.756s, episode steps: 479, steps per second:   1, episode reward:  8.000, mean reward:  0.017 [ 0.000,  1.000], mean action: 2.541 [0.000, 5.000],  loss: 0.008336, mean_q: 0.283220, mean_eps: 0.404708\n",
            " 121267/200000: episode: 169, duration: 810.972s, episode steps: 766, steps per second:   1, episode reward: 10.000, mean reward:  0.013 [ 0.000,  1.000], mean action: 2.732 [0.000, 5.000],  loss: 0.007896, mean_q: 0.280602, mean_eps: 0.401627\n",
            " 122181/200000: episode: 170, duration: 957.293s, episode steps: 914, steps per second:   1, episode reward: 15.000, mean reward:  0.016 [ 0.000,  1.000], mean action: 2.467 [0.000, 5.000],  loss: 0.007434, mean_q: 0.279416, mean_eps: 0.397469\n",
            " 122575/200000: episode: 171, duration: 406.540s, episode steps: 394, steps per second:   1, episode reward:  5.000, mean reward:  0.013 [ 0.000,  1.000], mean action: 2.523 [0.000, 5.000],  loss: 0.007217, mean_q: 0.278191, mean_eps: 0.394231\n",
            " 123008/200000: episode: 172, duration: 448.912s, episode steps: 433, steps per second:   1, episode reward:  6.000, mean reward:  0.014 [ 0.000,  1.000], mean action: 2.476 [0.000, 5.000],  loss: 0.007175, mean_q: 0.280778, mean_eps: 0.392185\n",
            " 124441/200000: episode: 173, duration: 1474.295s, episode steps: 1433, steps per second:   1, episode reward: 27.000, mean reward:  0.019 [ 0.000,  1.000], mean action: 2.482 [0.000, 5.000],  loss: 0.007013, mean_q: 0.279946, mean_eps: 0.387566\n",
            " 125940/200000: episode: 174, duration: 1539.122s, episode steps: 1499, steps per second:   1, episode reward: 31.000, mean reward:  0.021 [ 0.000,  1.000], mean action: 2.308 [0.000, 5.000],  loss: 0.006897, mean_q: 0.282474, mean_eps: 0.380309\n",
            " 126578/200000: episode: 175, duration: 655.532s, episode steps: 638, steps per second:   1, episode reward: 12.000, mean reward:  0.019 [ 0.000,  1.000], mean action: 2.560 [0.000, 5.000],  loss: 0.007009, mean_q: 0.284878, mean_eps: 0.375020\n",
            " 127218/200000: episode: 176, duration: 654.380s, episode steps: 640, steps per second:   1, episode reward: 11.000, mean reward:  0.017 [ 0.000,  1.000], mean action: 2.655 [0.000, 5.000],  loss: 0.006663, mean_q: 0.281643, mean_eps: 0.371857\n",
            " 127878/200000: episode: 177, duration: 677.900s, episode steps: 660, steps per second:   1, episode reward: 13.000, mean reward:  0.020 [ 0.000,  1.000], mean action: 2.485 [0.000, 5.000],  loss: 0.006930, mean_q: 0.285190, mean_eps: 0.368640\n",
            " 128845/200000: episode: 178, duration: 988.695s, episode steps: 967, steps per second:   1, episode reward: 15.000, mean reward:  0.016 [ 0.000,  1.000], mean action: 2.083 [0.000, 5.000],  loss: 0.006640, mean_q: 0.282400, mean_eps: 0.364613\n",
            " 129789/200000: episode: 179, duration: 980.274s, episode steps: 944, steps per second:   1, episode reward: 16.000, mean reward:  0.017 [ 0.000,  1.000], mean action: 2.449 [0.000, 5.000],  loss: 0.006666, mean_q: 0.286396, mean_eps: 0.359883\n",
            " 130645/200000: episode: 180, duration: 952.117s, episode steps: 856, steps per second:   1, episode reward: 12.000, mean reward:  0.014 [ 0.000,  1.000], mean action: 2.467 [0.000, 5.000],  loss: 0.007477, mean_q: 0.384983, mean_eps: 0.355428\n",
            " 131547/200000: episode: 181, duration: 983.605s, episode steps: 902, steps per second:   1, episode reward: 16.000, mean reward:  0.018 [ 0.000,  1.000], mean action: 2.427 [0.000, 5.000],  loss: 0.007498, mean_q: 0.420097, mean_eps: 0.351077\n",
            " 132051/200000: episode: 182, duration: 525.611s, episode steps: 504, steps per second:   1, episode reward:  3.000, mean reward:  0.006 [ 0.000,  1.000], mean action: 2.710 [0.000, 5.000],  loss: 0.007279, mean_q: 0.418742, mean_eps: 0.347597\n",
            " 132585/200000: episode: 183, duration: 552.144s, episode steps: 534, steps per second:   1, episode reward:  5.000, mean reward:  0.009 [ 0.000,  1.000], mean action: 2.408 [0.000, 5.000],  loss: 0.007005, mean_q: 0.420563, mean_eps: 0.345028\n",
            " 133267/200000: episode: 184, duration: 715.543s, episode steps: 682, steps per second:   1, episode reward:  8.000, mean reward:  0.012 [ 0.000,  1.000], mean action: 2.365 [0.000, 5.000],  loss: 0.007005, mean_q: 0.418331, mean_eps: 0.342019\n",
            " 134080/200000: episode: 185, duration: 850.023s, episode steps: 813, steps per second:   1, episode reward:  9.000, mean reward:  0.011 [ 0.000,  1.000], mean action: 2.245 [0.000, 5.000],  loss: 0.006642, mean_q: 0.420059, mean_eps: 0.338319\n",
            " 134461/200000: episode: 186, duration: 390.060s, episode steps: 381, steps per second:   1, episode reward:  3.000, mean reward:  0.008 [ 0.000,  1.000], mean action: 2.483 [0.000, 5.000],  loss: 0.006526, mean_q: 0.418500, mean_eps: 0.335363\n",
            " 135154/200000: episode: 187, duration: 730.756s, episode steps: 693, steps per second:   1, episode reward: 11.000, mean reward:  0.016 [ 0.000,  1.000], mean action: 2.352 [0.000, 5.000],  loss: 0.006401, mean_q: 0.418034, mean_eps: 0.332705\n",
            " 135813/200000: episode: 188, duration: 702.597s, episode steps: 659, steps per second:   1, episode reward:  9.000, mean reward:  0.014 [ 0.000,  1.000], mean action: 2.259 [0.000, 5.000],  loss: 0.006305, mean_q: 0.420005, mean_eps: 0.329359\n",
            " 136454/200000: episode: 189, duration: 696.595s, episode steps: 641, steps per second:   1, episode reward:  6.000, mean reward:  0.009 [ 0.000,  1.000], mean action: 2.719 [0.000, 5.000],  loss: 0.006682, mean_q: 0.419740, mean_eps: 0.326142\n",
            " 136817/200000: episode: 190, duration: 369.498s, episode steps: 363, steps per second:   1, episode reward:  7.000, mean reward:  0.019 [ 0.000,  1.000], mean action: 2.631 [0.000, 5.000],  loss: 0.006256, mean_q: 0.416829, mean_eps: 0.323657\n",
            " 137348/200000: episode: 191, duration: 533.137s, episode steps: 531, steps per second:   1, episode reward:  8.000, mean reward:  0.015 [ 0.000,  1.000], mean action: 2.659 [0.000, 5.000],  loss: 0.006175, mean_q: 0.421757, mean_eps: 0.321444\n",
            " 138149/200000: episode: 192, duration: 834.486s, episode steps: 801, steps per second:   1, episode reward:  9.000, mean reward:  0.011 [ 0.000,  1.000], mean action: 2.524 [0.000, 5.000],  loss: 0.006212, mean_q: 0.419310, mean_eps: 0.318147\n",
            " 138906/200000: episode: 193, duration: 772.405s, episode steps: 757, steps per second:   1, episode reward: 13.000, mean reward:  0.017 [ 0.000,  1.000], mean action: 2.653 [0.000, 5.000],  loss: 0.005964, mean_q: 0.419530, mean_eps: 0.314291\n",
            " 139311/200000: episode: 194, duration: 413.309s, episode steps: 405, steps per second:   1, episode reward:  6.000, mean reward:  0.015 [ 0.000,  1.000], mean action: 2.432 [0.000, 5.000],  loss: 0.005674, mean_q: 0.418890, mean_eps: 0.311415\n",
            " 139722/200000: episode: 195, duration: 423.266s, episode steps: 411, steps per second:   1, episode reward:  6.000, mean reward:  0.015 [ 0.000,  1.000], mean action: 2.219 [0.000, 5.000],  loss: 0.005512, mean_q: 0.415267, mean_eps: 0.309396\n",
            " 140352/200000: episode: 196, duration: 660.885s, episode steps: 630, steps per second:   1, episode reward:  8.000, mean reward:  0.013 [ 0.000,  1.000], mean action: 2.587 [0.000, 5.000],  loss: 0.006889, mean_q: 0.479378, mean_eps: 0.306819\n",
            " 140805/200000: episode: 197, duration: 457.322s, episode steps: 453, steps per second:   1, episode reward:  7.000, mean reward:  0.015 [ 0.000,  1.000], mean action: 2.587 [0.000, 5.000],  loss: 0.007447, mean_q: 0.528010, mean_eps: 0.304139\n",
            " 141499/200000: episode: 198, duration: 705.697s, episode steps: 694, steps per second:   1, episode reward: 12.000, mean reward:  0.017 [ 0.000,  1.000], mean action: 2.473 [0.000, 5.000],  loss: 0.006902, mean_q: 0.527545, mean_eps: 0.301300\n",
            " 142727/200000: episode: 199, duration: 1253.451s, episode steps: 1228, steps per second:   1, episode reward: 17.000, mean reward:  0.014 [ 0.000,  1.000], mean action: 2.559 [0.000, 5.000],  loss: 0.006724, mean_q: 0.524445, mean_eps: 0.296543\n"
          ]
        }
      ]
    },
    {
      "cell_type": "code",
      "source": [
        "# Testing part to calculate the mean reward\n",
        "#weights_filename = 'dqn_{}_weights.h5f'.format(env_name)\n",
        "weights_filename = 'dqn_04_weights.h5f'.format(env_name)\n",
        "dqn.load_weights(weights_filename)\n",
        "dqn.test(env, nb_episodes=10, visualize=False)"
      ],
      "metadata": {
        "id": "WSVcMgOsR0Nv"
      },
      "execution_count": null,
      "outputs": []
    },
    {
      "cell_type": "code",
      "source": [
        "from google.colab import drive\n",
        "import shutil\n",
        "\n",
        "# 1. Montar Google Drive\n",
        "#drive.mount('/content/drive')\n",
        "\n",
        "# 2. Copiar archivo (ej: modelo entrenado)\n",
        "shutil.copy(\n",
        "    'dqn_04_weights.h5f',  # Ruta en Colab\n",
        "    '/content/drive/MyDrive/Colab_Outputs/dqn_04_weights.h5f'  # Ruta en Drive\n",
        ")\n",
        "\n",
        "print(\"¡Archivo copiado a Drive!\")"
      ],
      "metadata": {
        "id": "3Xhh-2NERz-n"
      },
      "execution_count": null,
      "outputs": []
    }
  ]
}