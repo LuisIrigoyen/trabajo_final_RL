{
  "cells": [
    {
      "cell_type": "markdown",
      "metadata": {
        "id": "view-in-github",
        "colab_type": "text"
      },
      "source": [
        "<a href=\"https://colab.research.google.com/github/LuisIrigoyen/trabajo_final_RL/blob/pruebas_LuisIrigoyen/Modelo_14_NoisyLinear_V3_proyecto_final_APR_V01_en_colab.ipynb\" target=\"_parent\"><img src=\"https://colab.research.google.com/assets/colab-badge.svg\" alt=\"Open In Colab\"/></a>"
      ]
    },
    {
      "cell_type": "markdown",
      "metadata": {
        "id": "D89Ue2uZNtzn"
      },
      "source": [
        "## 1.2. Localizar entorno de trabajo: Google colab o local"
      ]
    },
    {
      "cell_type": "markdown",
      "metadata": {
        "id": "piJ-XjXrzhdZ"
      },
      "source": [
        "- Igual que 12, cambio paramétro: dqn.compile(optimizer=Adam(learning_rate=0.0001)\n",
        "- luego se modificó a dqn.compile(optimizer=Adam(learning_rate=1e-4)\n",
        "- se cambió policy = BoltzmannQPolicy() a policy = EpsGreedyQPolicy(eps=0.0)"
      ]
    },
    {
      "cell_type": "code",
      "execution_count": null,
      "metadata": {
        "id": "7EQ46sNGLj22"
      },
      "outputs": [],
      "source": [
        "# ATENCIÓN!! Modificar ruta relativa a la práctica si es distinta (drive_root)\n",
        "mount='/content/gdrive'\n",
        "drive_root = mount + \"/My Drive/MODELO 14/\"\n",
        "\n",
        "try:\n",
        "  from google.colab import drive\n",
        "  IN_COLAB=True\n",
        "except:\n",
        "  IN_COLAB=False"
      ]
    },
    {
      "cell_type": "markdown",
      "metadata": {
        "id": "6on2PNxZN51A"
      },
      "source": [
        "## 1.3. Montar carpeta de datos local (solo Colab)"
      ]
    },
    {
      "cell_type": "code",
      "execution_count": null,
      "metadata": {
        "colab": {
          "base_uri": "https://localhost:8080/"
        },
        "id": "inTxnmr0MKCH",
        "outputId": "e133f0b9-1c45-4daa-b5ec-a618fea5d9c8"
      },
      "outputs": [
        {
          "name": "stdout",
          "output_type": "stream",
          "text": [
            "We're running Colab\n",
            "Colab: mounting Google drive on  /content/gdrive\n",
            "Drive already mounted at /content/gdrive; to attempt to forcibly remount, call drive.mount(\"/content/gdrive\", force_remount=True).\n",
            "\n",
            "Colab: making sure  /content/gdrive/My Drive/MODELO 14/  exists.\n",
            "\n",
            "Colab: Changing directory to  /content/gdrive/My Drive/MODELO 14/\n",
            "/content/gdrive/My Drive/MODELO 14\n",
            "Archivos en el directorio: \n",
            "['logs', 'checkpoints', 'memory_noisy.pkl']\n"
          ]
        }
      ],
      "source": [
        "# Switch to the directory on the Google Drive that you want to use\n",
        "import os\n",
        "if IN_COLAB:\n",
        "  print(\"We're running Colab\")\n",
        "\n",
        "  if IN_COLAB:\n",
        "    # Mount the Google Drive at mount\n",
        "    print(\"Colab: mounting Google drive on \", mount)\n",
        "\n",
        "    drive.mount(mount)\n",
        "\n",
        "    # Create drive_root if it doesn't exist\n",
        "    create_drive_root = True\n",
        "    if create_drive_root:\n",
        "      print(\"\\nColab: making sure \", drive_root, \" exists.\")\n",
        "      os.makedirs(drive_root, exist_ok=True)\n",
        "\n",
        "    # Change to the directory\n",
        "    print(\"\\nColab: Changing directory to \", drive_root)\n",
        "    %cd $drive_root\n",
        "# Verify we're in the correct working directory\n",
        "%pwd\n",
        "print(\"Archivos en el directorio: \")\n",
        "print(os.listdir())"
      ]
    },
    {
      "cell_type": "markdown",
      "metadata": {
        "id": "MYrJ03QWN9Hw"
      },
      "source": [
        "## 1.4. Instalar librerías necesarias"
      ]
    },
    {
      "cell_type": "code",
      "execution_count": null,
      "metadata": {
        "colab": {
          "base_uri": "https://localhost:8080/"
        },
        "id": "zSbNMsl4MTo3",
        "outputId": "0676f2a8-36fa-4cfc-d4cb-dac6214f4c5a"
      },
      "outputs": [
        {
          "name": "stdout",
          "output_type": "stream",
          "text": [
            "Requirement already satisfied: gym==0.17.3 in /usr/local/lib/python3.11/dist-packages (0.17.3)\n",
            "Requirement already satisfied: scipy in /usr/local/lib/python3.11/dist-packages (from gym==0.17.3) (1.15.3)\n",
            "Requirement already satisfied: numpy>=1.10.4 in /usr/local/lib/python3.11/dist-packages (from gym==0.17.3) (1.23.5)\n",
            "Requirement already satisfied: pyglet<=1.5.0,>=1.4.0 in /usr/local/lib/python3.11/dist-packages (from gym==0.17.3) (1.5.0)\n",
            "Requirement already satisfied: cloudpickle<1.7.0,>=1.2.0 in /usr/local/lib/python3.11/dist-packages (from gym==0.17.3) (1.6.0)\n",
            "Requirement already satisfied: future in /usr/local/lib/python3.11/dist-packages (from pyglet<=1.5.0,>=1.4.0->gym==0.17.3) (1.0.0)\n",
            "Collecting git+https://github.com/Kojoley/atari-py.git\n",
            "  Cloning https://github.com/Kojoley/atari-py.git to /tmp/pip-req-build-uu4h7b1_\n",
            "  Running command git clone --filter=blob:none --quiet https://github.com/Kojoley/atari-py.git /tmp/pip-req-build-uu4h7b1_\n",
            "  Resolved https://github.com/Kojoley/atari-py.git to commit 86a1e05c0a95e9e6233c3a413521fdb34ca8a089\n",
            "  Preparing metadata (setup.py) ... \u001b[?25l\u001b[?25hdone\n",
            "Requirement already satisfied: numpy in /usr/local/lib/python3.11/dist-packages (from atari-py==1.2.2) (1.23.5)\n",
            "Requirement already satisfied: keras-rl2==1.0.5 in /usr/local/lib/python3.11/dist-packages (1.0.5)\n",
            "Requirement already satisfied: tensorflow in /usr/local/lib/python3.11/dist-packages (from keras-rl2==1.0.5) (2.12.0)\n",
            "Requirement already satisfied: absl-py>=1.0.0 in /usr/local/lib/python3.11/dist-packages (from tensorflow->keras-rl2==1.0.5) (1.4.0)\n",
            "Requirement already satisfied: astunparse>=1.6.0 in /usr/local/lib/python3.11/dist-packages (from tensorflow->keras-rl2==1.0.5) (1.6.3)\n",
            "Requirement already satisfied: flatbuffers>=2.0 in /usr/local/lib/python3.11/dist-packages (from tensorflow->keras-rl2==1.0.5) (25.2.10)\n",
            "Requirement already satisfied: gast<=0.4.0,>=0.2.1 in /usr/local/lib/python3.11/dist-packages (from tensorflow->keras-rl2==1.0.5) (0.4.0)\n",
            "Requirement already satisfied: google-pasta>=0.1.1 in /usr/local/lib/python3.11/dist-packages (from tensorflow->keras-rl2==1.0.5) (0.2.0)\n",
            "Requirement already satisfied: grpcio<2.0,>=1.24.3 in /usr/local/lib/python3.11/dist-packages (from tensorflow->keras-rl2==1.0.5) (1.73.1)\n",
            "Requirement already satisfied: h5py>=2.9.0 in /usr/local/lib/python3.11/dist-packages (from tensorflow->keras-rl2==1.0.5) (3.14.0)\n",
            "Requirement already satisfied: jax>=0.3.15 in /usr/local/lib/python3.11/dist-packages (from tensorflow->keras-rl2==1.0.5) (0.4.30)\n",
            "Requirement already satisfied: keras<2.13,>=2.12.0 in /usr/local/lib/python3.11/dist-packages (from tensorflow->keras-rl2==1.0.5) (2.12.0)\n",
            "Requirement already satisfied: libclang>=13.0.0 in /usr/local/lib/python3.11/dist-packages (from tensorflow->keras-rl2==1.0.5) (18.1.1)\n",
            "Requirement already satisfied: numpy<1.24,>=1.22 in /usr/local/lib/python3.11/dist-packages (from tensorflow->keras-rl2==1.0.5) (1.23.5)\n",
            "Requirement already satisfied: opt-einsum>=2.3.2 in /usr/local/lib/python3.11/dist-packages (from tensorflow->keras-rl2==1.0.5) (3.4.0)\n",
            "Requirement already satisfied: packaging in /usr/local/lib/python3.11/dist-packages (from tensorflow->keras-rl2==1.0.5) (24.2)\n",
            "Requirement already satisfied: protobuf!=4.21.0,!=4.21.1,!=4.21.2,!=4.21.3,!=4.21.4,!=4.21.5,<5.0.0dev,>=3.20.3 in /usr/local/lib/python3.11/dist-packages (from tensorflow->keras-rl2==1.0.5) (4.25.8)\n",
            "Requirement already satisfied: setuptools in /usr/local/lib/python3.11/dist-packages (from tensorflow->keras-rl2==1.0.5) (75.2.0)\n",
            "Requirement already satisfied: six>=1.12.0 in /usr/local/lib/python3.11/dist-packages (from tensorflow->keras-rl2==1.0.5) (1.17.0)\n",
            "Requirement already satisfied: tensorboard<2.13,>=2.12 in /usr/local/lib/python3.11/dist-packages (from tensorflow->keras-rl2==1.0.5) (2.12.3)\n",
            "Requirement already satisfied: tensorflow-estimator<2.13,>=2.12.0 in /usr/local/lib/python3.11/dist-packages (from tensorflow->keras-rl2==1.0.5) (2.12.0)\n",
            "Requirement already satisfied: termcolor>=1.1.0 in /usr/local/lib/python3.11/dist-packages (from tensorflow->keras-rl2==1.0.5) (3.1.0)\n",
            "Requirement already satisfied: typing-extensions>=3.6.6 in /usr/local/lib/python3.11/dist-packages (from tensorflow->keras-rl2==1.0.5) (4.14.0)\n",
            "Requirement already satisfied: wrapt<1.15,>=1.11.0 in /usr/local/lib/python3.11/dist-packages (from tensorflow->keras-rl2==1.0.5) (1.14.1)\n",
            "Requirement already satisfied: tensorflow-io-gcs-filesystem>=0.23.1 in /usr/local/lib/python3.11/dist-packages (from tensorflow->keras-rl2==1.0.5) (0.37.1)\n",
            "Requirement already satisfied: wheel<1.0,>=0.23.0 in /usr/local/lib/python3.11/dist-packages (from astunparse>=1.6.0->tensorflow->keras-rl2==1.0.5) (0.45.1)\n",
            "Requirement already satisfied: jaxlib<=0.4.30,>=0.4.27 in /usr/local/lib/python3.11/dist-packages (from jax>=0.3.15->tensorflow->keras-rl2==1.0.5) (0.4.30)\n",
            "Requirement already satisfied: ml-dtypes>=0.2.0 in /usr/local/lib/python3.11/dist-packages (from jax>=0.3.15->tensorflow->keras-rl2==1.0.5) (0.4.1)\n",
            "Requirement already satisfied: scipy>=1.9 in /usr/local/lib/python3.11/dist-packages (from jax>=0.3.15->tensorflow->keras-rl2==1.0.5) (1.15.3)\n",
            "Requirement already satisfied: google-auth<3,>=1.6.3 in /usr/local/lib/python3.11/dist-packages (from tensorboard<2.13,>=2.12->tensorflow->keras-rl2==1.0.5) (2.38.0)\n",
            "Requirement already satisfied: google-auth-oauthlib<1.1,>=0.5 in /usr/local/lib/python3.11/dist-packages (from tensorboard<2.13,>=2.12->tensorflow->keras-rl2==1.0.5) (1.0.0)\n",
            "Requirement already satisfied: markdown>=2.6.8 in /usr/local/lib/python3.11/dist-packages (from tensorboard<2.13,>=2.12->tensorflow->keras-rl2==1.0.5) (3.8.2)\n",
            "Requirement already satisfied: requests<3,>=2.21.0 in /usr/local/lib/python3.11/dist-packages (from tensorboard<2.13,>=2.12->tensorflow->keras-rl2==1.0.5) (2.32.3)\n",
            "Requirement already satisfied: tensorboard-data-server<0.8.0,>=0.7.0 in /usr/local/lib/python3.11/dist-packages (from tensorboard<2.13,>=2.12->tensorflow->keras-rl2==1.0.5) (0.7.2)\n",
            "Requirement already satisfied: werkzeug>=1.0.1 in /usr/local/lib/python3.11/dist-packages (from tensorboard<2.13,>=2.12->tensorflow->keras-rl2==1.0.5) (3.1.3)\n",
            "Requirement already satisfied: cachetools<6.0,>=2.0.0 in /usr/local/lib/python3.11/dist-packages (from google-auth<3,>=1.6.3->tensorboard<2.13,>=2.12->tensorflow->keras-rl2==1.0.5) (5.5.2)\n",
            "Requirement already satisfied: pyasn1-modules>=0.2.1 in /usr/local/lib/python3.11/dist-packages (from google-auth<3,>=1.6.3->tensorboard<2.13,>=2.12->tensorflow->keras-rl2==1.0.5) (0.4.2)\n",
            "Requirement already satisfied: rsa<5,>=3.1.4 in /usr/local/lib/python3.11/dist-packages (from google-auth<3,>=1.6.3->tensorboard<2.13,>=2.12->tensorflow->keras-rl2==1.0.5) (4.9.1)\n",
            "Requirement already satisfied: requests-oauthlib>=0.7.0 in /usr/local/lib/python3.11/dist-packages (from google-auth-oauthlib<1.1,>=0.5->tensorboard<2.13,>=2.12->tensorflow->keras-rl2==1.0.5) (2.0.0)\n",
            "Requirement already satisfied: charset-normalizer<4,>=2 in /usr/local/lib/python3.11/dist-packages (from requests<3,>=2.21.0->tensorboard<2.13,>=2.12->tensorflow->keras-rl2==1.0.5) (3.4.2)\n",
            "Requirement already satisfied: idna<4,>=2.5 in /usr/local/lib/python3.11/dist-packages (from requests<3,>=2.21.0->tensorboard<2.13,>=2.12->tensorflow->keras-rl2==1.0.5) (3.10)\n",
            "Requirement already satisfied: urllib3<3,>=1.21.1 in /usr/local/lib/python3.11/dist-packages (from requests<3,>=2.21.0->tensorboard<2.13,>=2.12->tensorflow->keras-rl2==1.0.5) (2.4.0)\n",
            "Requirement already satisfied: certifi>=2017.4.17 in /usr/local/lib/python3.11/dist-packages (from requests<3,>=2.21.0->tensorboard<2.13,>=2.12->tensorflow->keras-rl2==1.0.5) (2025.6.15)\n",
            "Requirement already satisfied: MarkupSafe>=2.1.1 in /usr/local/lib/python3.11/dist-packages (from werkzeug>=1.0.1->tensorboard<2.13,>=2.12->tensorflow->keras-rl2==1.0.5) (3.0.2)\n",
            "Requirement already satisfied: pyasn1<0.7.0,>=0.6.1 in /usr/local/lib/python3.11/dist-packages (from pyasn1-modules>=0.2.1->google-auth<3,>=1.6.3->tensorboard<2.13,>=2.12->tensorflow->keras-rl2==1.0.5) (0.6.1)\n",
            "Requirement already satisfied: oauthlib>=3.0.0 in /usr/local/lib/python3.11/dist-packages (from requests-oauthlib>=0.7.0->google-auth-oauthlib<1.1,>=0.5->tensorboard<2.13,>=2.12->tensorflow->keras-rl2==1.0.5) (3.3.1)\n",
            "Requirement already satisfied: tensorflow==2.12 in /usr/local/lib/python3.11/dist-packages (2.12.0)\n",
            "Requirement already satisfied: absl-py>=1.0.0 in /usr/local/lib/python3.11/dist-packages (from tensorflow==2.12) (1.4.0)\n",
            "Requirement already satisfied: astunparse>=1.6.0 in /usr/local/lib/python3.11/dist-packages (from tensorflow==2.12) (1.6.3)\n",
            "Requirement already satisfied: flatbuffers>=2.0 in /usr/local/lib/python3.11/dist-packages (from tensorflow==2.12) (25.2.10)\n",
            "Requirement already satisfied: gast<=0.4.0,>=0.2.1 in /usr/local/lib/python3.11/dist-packages (from tensorflow==2.12) (0.4.0)\n",
            "Requirement already satisfied: google-pasta>=0.1.1 in /usr/local/lib/python3.11/dist-packages (from tensorflow==2.12) (0.2.0)\n",
            "Requirement already satisfied: grpcio<2.0,>=1.24.3 in /usr/local/lib/python3.11/dist-packages (from tensorflow==2.12) (1.73.1)\n",
            "Requirement already satisfied: h5py>=2.9.0 in /usr/local/lib/python3.11/dist-packages (from tensorflow==2.12) (3.14.0)\n",
            "Requirement already satisfied: jax>=0.3.15 in /usr/local/lib/python3.11/dist-packages (from tensorflow==2.12) (0.4.30)\n",
            "Requirement already satisfied: keras<2.13,>=2.12.0 in /usr/local/lib/python3.11/dist-packages (from tensorflow==2.12) (2.12.0)\n",
            "Requirement already satisfied: libclang>=13.0.0 in /usr/local/lib/python3.11/dist-packages (from tensorflow==2.12) (18.1.1)\n",
            "Requirement already satisfied: numpy<1.24,>=1.22 in /usr/local/lib/python3.11/dist-packages (from tensorflow==2.12) (1.23.5)\n",
            "Requirement already satisfied: opt-einsum>=2.3.2 in /usr/local/lib/python3.11/dist-packages (from tensorflow==2.12) (3.4.0)\n",
            "Requirement already satisfied: packaging in /usr/local/lib/python3.11/dist-packages (from tensorflow==2.12) (24.2)\n",
            "Requirement already satisfied: protobuf!=4.21.0,!=4.21.1,!=4.21.2,!=4.21.3,!=4.21.4,!=4.21.5,<5.0.0dev,>=3.20.3 in /usr/local/lib/python3.11/dist-packages (from tensorflow==2.12) (4.25.8)\n",
            "Requirement already satisfied: setuptools in /usr/local/lib/python3.11/dist-packages (from tensorflow==2.12) (75.2.0)\n",
            "Requirement already satisfied: six>=1.12.0 in /usr/local/lib/python3.11/dist-packages (from tensorflow==2.12) (1.17.0)\n",
            "Requirement already satisfied: tensorboard<2.13,>=2.12 in /usr/local/lib/python3.11/dist-packages (from tensorflow==2.12) (2.12.3)\n",
            "Requirement already satisfied: tensorflow-estimator<2.13,>=2.12.0 in /usr/local/lib/python3.11/dist-packages (from tensorflow==2.12) (2.12.0)\n",
            "Requirement already satisfied: termcolor>=1.1.0 in /usr/local/lib/python3.11/dist-packages (from tensorflow==2.12) (3.1.0)\n",
            "Requirement already satisfied: typing-extensions>=3.6.6 in /usr/local/lib/python3.11/dist-packages (from tensorflow==2.12) (4.14.0)\n",
            "Requirement already satisfied: wrapt<1.15,>=1.11.0 in /usr/local/lib/python3.11/dist-packages (from tensorflow==2.12) (1.14.1)\n",
            "Requirement already satisfied: tensorflow-io-gcs-filesystem>=0.23.1 in /usr/local/lib/python3.11/dist-packages (from tensorflow==2.12) (0.37.1)\n",
            "Requirement already satisfied: wheel<1.0,>=0.23.0 in /usr/local/lib/python3.11/dist-packages (from astunparse>=1.6.0->tensorflow==2.12) (0.45.1)\n",
            "Requirement already satisfied: jaxlib<=0.4.30,>=0.4.27 in /usr/local/lib/python3.11/dist-packages (from jax>=0.3.15->tensorflow==2.12) (0.4.30)\n",
            "Requirement already satisfied: ml-dtypes>=0.2.0 in /usr/local/lib/python3.11/dist-packages (from jax>=0.3.15->tensorflow==2.12) (0.4.1)\n",
            "Requirement already satisfied: scipy>=1.9 in /usr/local/lib/python3.11/dist-packages (from jax>=0.3.15->tensorflow==2.12) (1.15.3)\n",
            "Requirement already satisfied: google-auth<3,>=1.6.3 in /usr/local/lib/python3.11/dist-packages (from tensorboard<2.13,>=2.12->tensorflow==2.12) (2.38.0)\n",
            "Requirement already satisfied: google-auth-oauthlib<1.1,>=0.5 in /usr/local/lib/python3.11/dist-packages (from tensorboard<2.13,>=2.12->tensorflow==2.12) (1.0.0)\n",
            "Requirement already satisfied: markdown>=2.6.8 in /usr/local/lib/python3.11/dist-packages (from tensorboard<2.13,>=2.12->tensorflow==2.12) (3.8.2)\n",
            "Requirement already satisfied: requests<3,>=2.21.0 in /usr/local/lib/python3.11/dist-packages (from tensorboard<2.13,>=2.12->tensorflow==2.12) (2.32.3)\n",
            "Requirement already satisfied: tensorboard-data-server<0.8.0,>=0.7.0 in /usr/local/lib/python3.11/dist-packages (from tensorboard<2.13,>=2.12->tensorflow==2.12) (0.7.2)\n",
            "Requirement already satisfied: werkzeug>=1.0.1 in /usr/local/lib/python3.11/dist-packages (from tensorboard<2.13,>=2.12->tensorflow==2.12) (3.1.3)\n",
            "Requirement already satisfied: cachetools<6.0,>=2.0.0 in /usr/local/lib/python3.11/dist-packages (from google-auth<3,>=1.6.3->tensorboard<2.13,>=2.12->tensorflow==2.12) (5.5.2)\n",
            "Requirement already satisfied: pyasn1-modules>=0.2.1 in /usr/local/lib/python3.11/dist-packages (from google-auth<3,>=1.6.3->tensorboard<2.13,>=2.12->tensorflow==2.12) (0.4.2)\n",
            "Requirement already satisfied: rsa<5,>=3.1.4 in /usr/local/lib/python3.11/dist-packages (from google-auth<3,>=1.6.3->tensorboard<2.13,>=2.12->tensorflow==2.12) (4.9.1)\n",
            "Requirement already satisfied: requests-oauthlib>=0.7.0 in /usr/local/lib/python3.11/dist-packages (from google-auth-oauthlib<1.1,>=0.5->tensorboard<2.13,>=2.12->tensorflow==2.12) (2.0.0)\n",
            "Requirement already satisfied: charset-normalizer<4,>=2 in /usr/local/lib/python3.11/dist-packages (from requests<3,>=2.21.0->tensorboard<2.13,>=2.12->tensorflow==2.12) (3.4.2)\n",
            "Requirement already satisfied: idna<4,>=2.5 in /usr/local/lib/python3.11/dist-packages (from requests<3,>=2.21.0->tensorboard<2.13,>=2.12->tensorflow==2.12) (3.10)\n",
            "Requirement already satisfied: urllib3<3,>=1.21.1 in /usr/local/lib/python3.11/dist-packages (from requests<3,>=2.21.0->tensorboard<2.13,>=2.12->tensorflow==2.12) (2.4.0)\n",
            "Requirement already satisfied: certifi>=2017.4.17 in /usr/local/lib/python3.11/dist-packages (from requests<3,>=2.21.0->tensorboard<2.13,>=2.12->tensorflow==2.12) (2025.6.15)\n",
            "Requirement already satisfied: MarkupSafe>=2.1.1 in /usr/local/lib/python3.11/dist-packages (from werkzeug>=1.0.1->tensorboard<2.13,>=2.12->tensorflow==2.12) (3.0.2)\n",
            "Requirement already satisfied: pyasn1<0.7.0,>=0.6.1 in /usr/local/lib/python3.11/dist-packages (from pyasn1-modules>=0.2.1->google-auth<3,>=1.6.3->tensorboard<2.13,>=2.12->tensorflow==2.12) (0.6.1)\n",
            "Requirement already satisfied: oauthlib>=3.0.0 in /usr/local/lib/python3.11/dist-packages (from requests-oauthlib>=0.7.0->google-auth-oauthlib<1.1,>=0.5->tensorboard<2.13,>=2.12->tensorflow==2.12) (3.3.1)\n"
          ]
        }
      ],
      "source": [
        "if IN_COLAB:\n",
        "  %pip install gym==0.17.3\n",
        "  %pip install git+https://github.com/Kojoley/atari-py.git\n",
        "  %pip install keras-rl2==1.0.5\n",
        "  %pip install tensorflow==2.12  #2.8\n",
        "else:\n",
        "  %pip install gym==0.17.3\n",
        "  %pip install git+https://github.com/Kojoley/atari-py.git\n",
        "  %pip install pyglet==1.5.0\n",
        "  %pip install h5py==3.1.0\n",
        "  %pip install Pillow==9.5.0\n",
        "  %pip install keras-rl2==1.0.5\n",
        "  %pip install Keras==2.2.4\n",
        "  %pip install tensorflow==2.5.3\n",
        "  %pip install torch==2.0.1\n",
        "  %pip install agents==1.4.0"
      ]
    },
    {
      "cell_type": "markdown",
      "metadata": {
        "id": "mS60Dk-KO5e3"
      },
      "source": [
        "## **PARTE 3**. Desarrollo y preguntas\n",
        "Importar librerías"
      ]
    },
    {
      "cell_type": "code",
      "execution_count": null,
      "metadata": {
        "id": "RX-2z9T1NPp_"
      },
      "outputs": [],
      "source": [
        "from __future__ import division\n",
        "\n",
        "from PIL import Image\n",
        "import numpy as np\n",
        "import gym\n",
        "\n",
        "from tensorflow.keras.models import Sequential\n",
        "from tensorflow.keras.layers import Dense, Activation, Flatten, Convolution2D, Permute\n",
        "#from tensorflow.keras.optimizers import Adam\n",
        "import tensorflow.keras.backend as K\n",
        "\n",
        "from rl.agents.dqn import DQNAgent\n",
        "from rl.policy import LinearAnnealedPolicy, BoltzmannQPolicy, EpsGreedyQPolicy\n",
        "from rl.memory import SequentialMemory\n",
        "from rl.core import Processor\n",
        "from rl.callbacks import FileLogger, ModelIntervalCheckpoint"
      ]
    },
    {
      "cell_type": "markdown",
      "metadata": {
        "id": "NqJbsVR7POZA"
      },
      "source": [
        "#### Configuración base"
      ]
    },
    {
      "cell_type": "code",
      "execution_count": null,
      "metadata": {
        "colab": {
          "base_uri": "https://localhost:8080/"
        },
        "id": "0FlafEtvOKR4",
        "outputId": "1e587169-883a-4880-924b-e5ed0216aaca"
      },
      "outputs": [
        {
          "name": "stdout",
          "output_type": "stream",
          "text": [
            "210 160 3\n",
            "Forma de la observación: (210, 160, 3)\n"
          ]
        },
        {
          "data": {
            "text/plain": [
              "['NOOP', 'FIRE', 'RIGHT', 'LEFT', 'RIGHTFIRE', 'LEFTFIRE']"
            ]
          },
          "execution_count": 5,
          "metadata": {},
          "output_type": "execute_result"
        }
      ],
      "source": [
        "INPUT_SHAPE = (84, 84)\n",
        "WINDOW_LENGTH = 4\n",
        "\n",
        "env_name = 'SpaceInvaders-v0'\n",
        "env = gym.make(env_name)\n",
        "\n",
        "np.random.seed(123)\n",
        "env.seed(123)\n",
        "nb_actions = env.action_space.n\n",
        "\n",
        "#--- nuevo -- ejfm\n",
        "height, width, channels = env.observation_space.shape\n",
        "obs = env.reset()\n",
        "print(height, width, channels)\n",
        "print(\"Forma de la observación:\", obs.shape)  # Debe ser (height, width, channels)\n",
        "env.unwrapped.get_action_meanings()"
      ]
    },
    {
      "cell_type": "code",
      "execution_count": null,
      "metadata": {
        "id": "YSGPGszsOOAw"
      },
      "outputs": [],
      "source": [
        "class AtariProcessor(Processor):\n",
        "    def process_observation(self, observation):\n",
        "        assert observation.ndim == 3  # (height, width, channel)\n",
        "        img = Image.fromarray(observation)\n",
        "        img = img.resize(INPUT_SHAPE).convert('L')\n",
        "        processed_observation = np.array(img)\n",
        "        assert processed_observation.shape == INPUT_SHAPE\n",
        "        return processed_observation.astype('uint8')\n",
        "\n",
        "    def process_state_batch(self, batch):\n",
        "        # Convertir a float y escalar\n",
        "        # Linea Agregada\n",
        "        if isinstance(batch, list):\n",
        "          batch = np.array(batch)\n",
        "\n",
        "        batch = batch.astype('float32') / 255.\n",
        "\n",
        "        # 👇 Elimina el canal innecesario si existe (forma (B, 4, 84, 84, 1))\n",
        "        if batch.ndim == 5 and batch.shape[-1] == 1:\n",
        "            batch = np.squeeze(batch, axis=-1)\n",
        "\n",
        "        return batch\n",
        "\n",
        "    def process_reward(self, reward):\n",
        "        return np.clip(reward, -1., 1.)\n"
      ]
    },
    {
      "cell_type": "markdown",
      "metadata": {
        "id": "Sg54U9vFZEBQ"
      },
      "source": [
        "## 1. EJFM Implementación de la red neuronal"
      ]
    },
    {
      "cell_type": "code",
      "execution_count": null,
      "metadata": {
        "id": "aiE1_aXXmQM7"
      },
      "outputs": [],
      "source": [
        "import tensorflow as tf\n",
        "\n",
        "class NoisyDense(tf.keras.layers.Layer):\n",
        "    def __init__(self, units, sigma_init=0.017, **kwargs):\n",
        "        super(NoisyDense, self).__init__(**kwargs)\n",
        "        self.units = units\n",
        "        self.sigma_init = sigma_init\n",
        "\n",
        "    def build(self, input_shape):\n",
        "        input_dim = int(input_shape[-1])\n",
        "        self.mu_W = self.add_weight(\"mu_W\", shape=(input_dim, self.units),\n",
        "                                    initializer='random_uniform', trainable=True)\n",
        "        self.sigma_W = self.add_weight(\"sigma_W\", shape=(input_dim, self.units),\n",
        "                                       initializer=tf.keras.initializers.Constant(self.sigma_init), trainable=True)\n",
        "        self.mu_b = self.add_weight(\"mu_b\", shape=(self.units,),\n",
        "                                    initializer='zeros', trainable=True)\n",
        "        self.sigma_b = self.add_weight(\"sigma_b\", shape=(self.units,),\n",
        "                                       initializer=tf.keras.initializers.Constant(self.sigma_init), trainable=True)\n",
        "\n",
        "    def call(self, x):\n",
        "        epsilon_W = tf.random.normal((x.shape[-1], self.units))\n",
        "        epsilon_b = tf.random.normal((self.units,))\n",
        "        W = self.mu_W + self.sigma_W * epsilon_W\n",
        "        b = self.mu_b + self.sigma_b * epsilon_b\n",
        "        return tf.matmul(x, W) + b\n",
        "\n",
        "    def get_config(self):\n",
        "        config = super(NoisyDense, self).get_config()\n",
        "        config.update({\n",
        "            \"units\": self.units,\n",
        "            \"sigma_init\": self.sigma_init\n",
        "        })\n",
        "        return config\n"
      ]
    },
    {
      "cell_type": "code",
      "execution_count": null,
      "metadata": {
        "colab": {
          "base_uri": "https://localhost:8080/"
        },
        "id": "pygz71TLmV2t",
        "outputId": "04cef643-b542-45d5-c37e-d62b4c3e4888"
      },
      "outputs": [
        {
          "name": "stdout",
          "output_type": "stream",
          "text": [
            "Model: \"model\"\n",
            "_________________________________________________________________\n",
            " Layer (type)                Output Shape              Param #   \n",
            "=================================================================\n",
            " input_1 (InputLayer)        [(None, 4, 84, 84)]       0         \n",
            "                                                                 \n",
            " permute (Permute)           (None, 84, 84, 4)         0         \n",
            "                                                                 \n",
            " conv2d (Conv2D)             (None, 20, 20, 32)        8224      \n",
            "                                                                 \n",
            " conv2d_1 (Conv2D)           (None, 9, 9, 64)          32832     \n",
            "                                                                 \n",
            " conv2d_2 (Conv2D)           (None, 7, 7, 64)          36928     \n",
            "                                                                 \n",
            " flatten (Flatten)           (None, 3136)              0         \n",
            "                                                                 \n",
            " noisy_dense (NoisyDense)    (None, 512)               3212288   \n",
            "                                                                 \n",
            " activation (Activation)     (None, 512)               0         \n",
            "                                                                 \n",
            " noisy_dense_1 (NoisyDense)  (None, 6)                 6156      \n",
            "                                                                 \n",
            "=================================================================\n",
            "Total params: 3,296,428\n",
            "Trainable params: 3,296,428\n",
            "Non-trainable params: 0\n",
            "_________________________________________________________________\n"
          ]
        }
      ],
      "source": [
        "from tensorflow.keras.models import Model\n",
        "from tensorflow.keras.layers import Input, Permute, Convolution2D, Flatten, Activation\n",
        "\n",
        "input_layer = Input(shape=(WINDOW_LENGTH,) + INPUT_SHAPE)\n",
        "perm = Permute((2, 3, 1))(input_layer)  # Canal al final\n",
        "conv1 = Convolution2D(32, (8, 8), strides=(4, 4), activation='relu')(perm)\n",
        "conv2 = Convolution2D(64, (4, 4), strides=(2, 2), activation='relu')(conv1)\n",
        "conv3 = Convolution2D(64, (3, 3), strides=(1, 1), activation='relu')(conv2)\n",
        "flat = Flatten()(conv3)\n",
        "\n",
        "noisy1 = NoisyDense(512)(flat)\n",
        "noisy1 = Activation('relu')(noisy1)\n",
        "output_layer = NoisyDense(nb_actions)(noisy1)\n",
        "\n",
        "model = Model(inputs=input_layer, outputs=output_layer)\n",
        "model.summary()\n"
      ]
    },
    {
      "cell_type": "code",
      "execution_count": null,
      "metadata": {
        "id": "_H6vbJsFsnKi"
      },
      "outputs": [],
      "source": [
        "# Registrar la capa personalizada (una sola vez en todo el código)\n",
        "from tensorflow.keras.utils import get_custom_objects\n",
        "get_custom_objects().update({'NoisyDense': NoisyDense})"
      ]
    },
    {
      "cell_type": "markdown",
      "metadata": {
        "id": "KwJoe_1sZOX4"
      },
      "source": [
        "## 2. EJFM Implementación de la solución DQN"
      ]
    },
    {
      "cell_type": "markdown",
      "metadata": {
        "id": "mANAV3rVJXt7"
      },
      "source": [
        "### Ejecución Inicial\n",
        "\n"
      ]
    },
    {
      "cell_type": "code",
      "execution_count": null,
      "metadata": {
        "colab": {
          "base_uri": "https://localhost:8080/"
        },
        "id": "KU6UKvVYXESO",
        "outputId": "388b961d-f2d6-4e88-ee5a-d50e9c4f3c3d"
      },
      "outputs": [
        {
          "name": "stdout",
          "output_type": "stream",
          "text": [
            "Cargando memoria desde archivo...\n"
          ]
        }
      ],
      "source": [
        "####### Solución DQN #######\n",
        "\n",
        "import os\n",
        "import pickle\n",
        "\n",
        "# INTENTAR CARGAR LA MEMORIA\n",
        "memory_file = 'memory_noisy.pkl'\n",
        "if os.path.exists(memory_file):\n",
        "    print(\"Cargando memoria desde archivo...\")\n",
        "    with open(memory_file, 'rb') as f:\n",
        "        memory = pickle.load(f)\n",
        "else:\n",
        "    print(\"Creando nueva memoria...\")\n",
        "    memory = SequentialMemory(limit=1000000, window_length=4)\n",
        "\n",
        "# Crear política como de costumbre\n",
        "#policy = BoltzmannQPolicy()\n",
        "policy = EpsGreedyQPolicy(eps=0.0)\n",
        "\n",
        "# Crear agente\n",
        "dqn = DQNAgent(model=model, nb_actions=nb_actions, policy=policy, memory=memory,\n",
        "               processor=AtariProcessor(), nb_steps_warmup=50000, gamma=0.99,\n",
        "               target_model_update=10000, train_interval=4, delta_clip=5)\n",
        "\n",
        "# Compilar agente\n",
        "#dqn.compile(optimizer='adam', metrics=['mae'])\n",
        "#dqn.compile(optimizer=Adam(learning_rate=0.0001), metrics=['mae'])\n",
        "\n",
        "from tensorflow.keras.optimizers.legacy import Adam     # ← incluye get_updates\n",
        "# Compilar agente\n",
        "dqn.compile(optimizer=Adam(learning_rate=1e-4), metrics=['mae'])"
      ]
    },
    {
      "cell_type": "code",
      "execution_count": null,
      "metadata": {
        "id": "SEmhFU4mYzh-"
      },
      "outputs": [],
      "source": [
        "####### Crear directorios  logs y checkpoints #######\n",
        "\n",
        "import os\n",
        "log_dir = os.path.join(drive_root, \"logs\")\n",
        "checkpoint_dir = os.path.join(drive_root, \"checkpoints\")\n",
        "os.makedirs(log_dir, exist_ok=True)\n",
        "os.makedirs(checkpoint_dir, exist_ok=True)\n",
        "\n",
        "# Función para restaurar pesos más adelante\n",
        "import re\n",
        "\n",
        "def load_latest_weights(agent, checkpoint_dir, prefix=\"dqn_noisy_weights_\"):\n",
        "    \"\"\"\n",
        "    Busca el checkpoint más reciente, carga los pesos y retorna info útil.\n",
        "\n",
        "    Parámetros:\n",
        "        agent: el agente DQN ya creado y compilado.\n",
        "        checkpoint_dir: carpeta con los archivos de pesos.\n",
        "        prefix: prefijo de los archivos de pesos.\n",
        "\n",
        "    Retorna:\n",
        "        (ruta_archivo, pasos_entrenados) o (None, 0) si no se encuentra nada.\n",
        "    \"\"\"\n",
        "    files = [f for f in os.listdir(checkpoint_dir) if f.endswith(\".h5\")]\n",
        "    pattern = re.compile(rf\"{re.escape(prefix)}(\\d+)\\.h5\")\n",
        "\n",
        "    candidates = []\n",
        "    for f in files:\n",
        "        match = pattern.match(f)\n",
        "        if match:\n",
        "            step = int(match.group(1))\n",
        "            candidates.append((step, f))\n",
        "\n",
        "    if not candidates:\n",
        "        print(\"⚠️ No se encontraron checkpoints en:\", checkpoint_dir)\n",
        "        return None, 0\n",
        "\n",
        "    # Escoger el de mayor número de pasos\n",
        "    latest_step, latest_file = max(candidates, key=lambda x: x[0])\n",
        "    latest_path = os.path.join(checkpoint_dir, latest_file)\n",
        "\n",
        "    print(f\"✅ Cargando pesos desde: {latest_path} (pasos entrenados: {latest_step})\")\n",
        "    agent.load_weights(latest_path)\n",
        "    return latest_path, latest_step\n"
      ]
    },
    {
      "cell_type": "code",
      "execution_count": null,
      "metadata": {
        "colab": {
          "base_uri": "https://localhost:8080/"
        },
        "id": "n4rsQm4_zc5J",
        "outputId": "80eca353-dd61-425e-93ce-3304ee982f54"
      },
      "outputs": [
        {
          "name": "stdout",
          "output_type": "stream",
          "text": [
            "✅ Cargando pesos desde: /content/gdrive/My Drive/MODELO 14/checkpoints/dqn_noisy_weights_300000.h5 (pasos entrenados: 300000)\n"
          ]
        }
      ],
      "source": [
        "# Cargar pesos anteriores si existen\n",
        "_, trained_steps = load_latest_weights(dqn, checkpoint_dir)\n",
        "\n",
        "# Definir pasos a entrenar\n",
        "steps_to_train = 100000\n",
        "total_steps = trained_steps + steps_to_train\n",
        "\n",
        "# Crear paths y callbacks dinámicos\n",
        "log_path = os.path.join(log_dir, f\"dqn_noisy_log_{trained_steps}_{total_steps}.json\")\n",
        "checkpoint_path = os.path.join(checkpoint_dir, f\"dqn_noisy_weights_{total_steps}.h5\")\n",
        "\n",
        "logger_callback = FileLogger(log_path, interval=100)\n",
        "checkpoint_callback = ModelIntervalCheckpoint(checkpoint_path, interval=10000)"
      ]
    },
    {
      "cell_type": "markdown",
      "metadata": {
        "id": "Qj8CoQ2mhISX"
      },
      "source": [
        "### Primera **Ejecución**"
      ]
    },
    {
      "cell_type": "code",
      "execution_count": null,
      "metadata": {
        "colab": {
          "base_uri": "https://localhost:8080/"
        },
        "id": "LLbFoBPFXGcV",
        "outputId": "5826091a-8abd-4536-9e72-57953c0b91cf"
      },
      "outputs": [
        {
          "name": "stdout",
          "output_type": "stream",
          "text": [
            "✅ Cargando pesos desde: /content/gdrive/My Drive/MODELO 14/checkpoints/dqn_noisy_weights_300000.h5 (pasos entrenados: 300000)\n",
            "Training for 100000 steps ...\n"
          ]
        },
        {
          "name": "stderr",
          "output_type": "stream",
          "text": [
            "/usr/local/lib/python3.11/dist-packages/keras/engine/training_v1.py:2359: UserWarning: `Model.state_updates` will be removed in a future version. This property should not be used in TensorFlow 2.0, as `updates` are applied automatically.\n",
            "  updates=self.state_updates,\n"
          ]
        },
        {
          "name": "stdout",
          "output_type": "stream",
          "text": [
            "   692/100000: episode: 1, duration: 25.534s, episode steps: 692, steps per second:  27, episode reward:  7.000, mean reward:  0.010 [ 0.000,  1.000], mean action: 1.955 [0.000, 5.000],  loss: --, mae: --, mean_q: --\n",
            "  1204/100000: episode: 2, duration: 20.017s, episode steps: 512, steps per second:  26, episode reward:  8.000, mean reward:  0.016 [ 0.000,  1.000], mean action: 1.910 [0.000, 5.000],  loss: --, mae: --, mean_q: --\n",
            "  1745/100000: episode: 3, duration: 20.341s, episode steps: 541, steps per second:  27, episode reward: 11.000, mean reward:  0.020 [ 0.000,  1.000], mean action: 2.091 [0.000, 5.000],  loss: --, mae: --, mean_q: --\n",
            "  2075/100000: episode: 4, duration: 12.344s, episode steps: 330, steps per second:  27, episode reward:  4.000, mean reward:  0.012 [ 0.000,  1.000], mean action: 1.988 [0.000, 5.000],  loss: --, mae: --, mean_q: --\n",
            "  2390/100000: episode: 5, duration: 13.829s, episode steps: 315, steps per second:  23, episode reward:  4.000, mean reward:  0.013 [ 0.000,  1.000], mean action: 1.743 [0.000, 5.000],  loss: --, mae: --, mean_q: --\n",
            "  2750/100000: episode: 6, duration: 13.309s, episode steps: 360, steps per second:  27, episode reward:  2.000, mean reward:  0.006 [ 0.000,  1.000], mean action: 1.792 [0.000, 5.000],  loss: --, mae: --, mean_q: --\n",
            "  3530/100000: episode: 7, duration: 28.553s, episode steps: 780, steps per second:  27, episode reward:  7.000, mean reward:  0.009 [ 0.000,  1.000], mean action: 1.965 [0.000, 5.000],  loss: --, mae: --, mean_q: --\n",
            "  3966/100000: episode: 8, duration: 15.764s, episode steps: 436, steps per second:  28, episode reward:  6.000, mean reward:  0.014 [ 0.000,  1.000], mean action: 2.014 [0.000, 5.000],  loss: --, mae: --, mean_q: --\n",
            "  4632/100000: episode: 9, duration: 24.877s, episode steps: 666, steps per second:  27, episode reward: 11.000, mean reward:  0.017 [ 0.000,  1.000], mean action: 1.869 [0.000, 5.000],  loss: --, mae: --, mean_q: --\n",
            "  5628/100000: episode: 10, duration: 35.536s, episode steps: 996, steps per second:  28, episode reward: 20.000, mean reward:  0.020 [ 0.000,  1.000], mean action: 1.915 [0.000, 5.000],  loss: --, mae: --, mean_q: --\n",
            "  6142/100000: episode: 11, duration: 20.016s, episode steps: 514, steps per second:  26, episode reward:  4.000, mean reward:  0.008 [ 0.000,  1.000], mean action: 1.924 [0.000, 5.000],  loss: --, mae: --, mean_q: --\n",
            "  7111/100000: episode: 12, duration: 34.672s, episode steps: 969, steps per second:  28, episode reward: 11.000, mean reward:  0.011 [ 0.000,  1.000], mean action: 1.771 [0.000, 5.000],  loss: --, mae: --, mean_q: --\n",
            "  8079/100000: episode: 13, duration: 36.318s, episode steps: 968, steps per second:  27, episode reward: 14.000, mean reward:  0.014 [ 0.000,  1.000], mean action: 1.765 [0.000, 5.000],  loss: --, mae: --, mean_q: --\n",
            "  8509/100000: episode: 14, duration: 15.619s, episode steps: 430, steps per second:  28, episode reward:  7.000, mean reward:  0.016 [ 0.000,  1.000], mean action: 2.000 [0.000, 5.000],  loss: --, mae: --, mean_q: --\n",
            "  9749/100000: episode: 15, duration: 51.074s, episode steps: 1240, steps per second:  24, episode reward: 27.000, mean reward:  0.022 [ 0.000,  1.000], mean action: 1.919 [0.000, 5.000],  loss: --, mae: --, mean_q: --\n",
            " 10685/100000: episode: 16, duration: 35.618s, episode steps: 936, steps per second:  26, episode reward: 16.000, mean reward:  0.017 [ 0.000,  1.000], mean action: 1.887 [0.000, 5.000],  loss: --, mae: --, mean_q: --\n",
            " 11310/100000: episode: 17, duration: 21.831s, episode steps: 625, steps per second:  29, episode reward:  9.000, mean reward:  0.014 [ 0.000,  1.000], mean action: 2.232 [0.000, 5.000],  loss: --, mae: --, mean_q: --\n",
            " 12431/100000: episode: 18, duration: 41.245s, episode steps: 1121, steps per second:  27, episode reward: 23.000, mean reward:  0.021 [ 0.000,  1.000], mean action: 1.842 [0.000, 5.000],  loss: --, mae: --, mean_q: --\n",
            " 13133/100000: episode: 19, duration: 25.998s, episode steps: 702, steps per second:  27, episode reward: 11.000, mean reward:  0.016 [ 0.000,  1.000], mean action: 1.754 [0.000, 5.000],  loss: --, mae: --, mean_q: --\n",
            " 13649/100000: episode: 20, duration: 18.457s, episode steps: 516, steps per second:  28, episode reward:  5.000, mean reward:  0.010 [ 0.000,  1.000], mean action: 2.027 [0.000, 5.000],  loss: --, mae: --, mean_q: --\n",
            " 14651/100000: episode: 21, duration: 37.387s, episode steps: 1002, steps per second:  27, episode reward: 17.000, mean reward:  0.017 [ 0.000,  1.000], mean action: 2.045 [0.000, 5.000],  loss: --, mae: --, mean_q: --\n",
            " 15419/100000: episode: 22, duration: 28.198s, episode steps: 768, steps per second:  27, episode reward: 10.000, mean reward:  0.013 [ 0.000,  1.000], mean action: 2.016 [0.000, 5.000],  loss: --, mae: --, mean_q: --\n",
            " 16394/100000: episode: 23, duration: 36.186s, episode steps: 975, steps per second:  27, episode reward: 22.000, mean reward:  0.023 [ 0.000,  1.000], mean action: 1.786 [0.000, 5.000],  loss: --, mae: --, mean_q: --\n",
            " 17444/100000: episode: 24, duration: 37.760s, episode steps: 1050, steps per second:  28, episode reward: 19.000, mean reward:  0.018 [ 0.000,  1.000], mean action: 1.960 [0.000, 5.000],  loss: --, mae: --, mean_q: --\n",
            " 17959/100000: episode: 25, duration: 20.082s, episode steps: 515, steps per second:  26, episode reward: 11.000, mean reward:  0.021 [ 0.000,  1.000], mean action: 2.155 [0.000, 5.000],  loss: --, mae: --, mean_q: --\n",
            " 18614/100000: episode: 26, duration: 22.929s, episode steps: 655, steps per second:  29, episode reward:  8.000, mean reward:  0.012 [ 0.000,  1.000], mean action: 1.846 [0.000, 5.000],  loss: --, mae: --, mean_q: --\n",
            " 19545/100000: episode: 27, duration: 35.322s, episode steps: 931, steps per second:  26, episode reward: 13.000, mean reward:  0.014 [ 0.000,  1.000], mean action: 2.137 [0.000, 5.000],  loss: --, mae: --, mean_q: --\n",
            " 20553/100000: episode: 28, duration: 37.522s, episode steps: 1008, steps per second:  27, episode reward: 15.000, mean reward:  0.015 [ 0.000,  1.000], mean action: 2.013 [0.000, 5.000],  loss: --, mae: --, mean_q: --\n",
            " 21595/100000: episode: 29, duration: 38.118s, episode steps: 1042, steps per second:  27, episode reward: 22.000, mean reward:  0.021 [ 0.000,  1.000], mean action: 1.950 [0.000, 5.000],  loss: --, mae: --, mean_q: --\n",
            " 22250/100000: episode: 30, duration: 24.573s, episode steps: 655, steps per second:  27, episode reward: 15.000, mean reward:  0.023 [ 0.000,  1.000], mean action: 1.922 [0.000, 5.000],  loss: --, mae: --, mean_q: --\n",
            " 22761/100000: episode: 31, duration: 18.188s, episode steps: 511, steps per second:  28, episode reward:  8.000, mean reward:  0.016 [ 0.000,  1.000], mean action: 2.033 [0.000, 5.000],  loss: --, mae: --, mean_q: --\n",
            " 23210/100000: episode: 32, duration: 16.300s, episode steps: 449, steps per second:  28, episode reward:  7.000, mean reward:  0.016 [ 0.000,  1.000], mean action: 1.964 [0.000, 5.000],  loss: --, mae: --, mean_q: --\n",
            " 23802/100000: episode: 33, duration: 22.570s, episode steps: 592, steps per second:  26, episode reward:  4.000, mean reward:  0.007 [ 0.000,  1.000], mean action: 1.929 [0.000, 5.000],  loss: --, mae: --, mean_q: --\n",
            " 24615/100000: episode: 34, duration: 29.723s, episode steps: 813, steps per second:  27, episode reward: 14.000, mean reward:  0.017 [ 0.000,  1.000], mean action: 2.028 [0.000, 5.000],  loss: --, mae: --, mean_q: --\n",
            " 25282/100000: episode: 35, duration: 25.047s, episode steps: 667, steps per second:  27, episode reward: 11.000, mean reward:  0.016 [ 0.000,  1.000], mean action: 1.826 [0.000, 5.000],  loss: --, mae: --, mean_q: --\n",
            " 26450/100000: episode: 36, duration: 47.656s, episode steps: 1168, steps per second:  25, episode reward: 24.000, mean reward:  0.021 [ 0.000,  1.000], mean action: 2.146 [0.000, 5.000],  loss: --, mae: --, mean_q: --\n",
            " 27403/100000: episode: 37, duration: 34.385s, episode steps: 953, steps per second:  28, episode reward: 10.000, mean reward:  0.010 [ 0.000,  1.000], mean action: 1.905 [0.000, 5.000],  loss: --, mae: --, mean_q: --\n",
            " 27905/100000: episode: 38, duration: 19.580s, episode steps: 502, steps per second:  26, episode reward: 10.000, mean reward:  0.020 [ 0.000,  1.000], mean action: 1.946 [0.000, 5.000],  loss: --, mae: --, mean_q: --\n",
            " 28574/100000: episode: 39, duration: 23.924s, episode steps: 669, steps per second:  28, episode reward:  7.000, mean reward:  0.010 [ 0.000,  1.000], mean action: 1.837 [0.000, 5.000],  loss: --, mae: --, mean_q: --\n",
            " 29506/100000: episode: 40, duration: 34.783s, episode steps: 932, steps per second:  27, episode reward: 12.000, mean reward:  0.013 [ 0.000,  1.000], mean action: 1.735 [0.000, 5.000],  loss: --, mae: --, mean_q: --\n",
            " 30442/100000: episode: 41, duration: 36.782s, episode steps: 936, steps per second:  25, episode reward: 14.000, mean reward:  0.015 [ 0.000,  1.000], mean action: 1.923 [0.000, 5.000],  loss: --, mae: --, mean_q: --\n",
            " 30870/100000: episode: 42, duration: 16.261s, episode steps: 428, steps per second:  26, episode reward:  7.000, mean reward:  0.016 [ 0.000,  1.000], mean action: 2.157 [0.000, 5.000],  loss: --, mae: --, mean_q: --\n",
            " 31705/100000: episode: 43, duration: 30.363s, episode steps: 835, steps per second:  28, episode reward: 21.000, mean reward:  0.025 [ 0.000,  1.000], mean action: 1.981 [0.000, 5.000],  loss: --, mae: --, mean_q: --\n",
            " 33066/100000: episode: 44, duration: 49.080s, episode steps: 1361, steps per second:  28, episode reward: 20.000, mean reward:  0.015 [ 0.000,  1.000], mean action: 1.924 [0.000, 5.000],  loss: --, mae: --, mean_q: --\n",
            " 33757/100000: episode: 45, duration: 25.866s, episode steps: 691, steps per second:  27, episode reward: 10.000, mean reward:  0.014 [ 0.000,  1.000], mean action: 1.973 [0.000, 5.000],  loss: --, mae: --, mean_q: --\n",
            " 34269/100000: episode: 46, duration: 19.432s, episode steps: 512, steps per second:  26, episode reward:  7.000, mean reward:  0.014 [ 0.000,  1.000], mean action: 2.234 [0.000, 5.000],  loss: --, mae: --, mean_q: --\n",
            " 34910/100000: episode: 47, duration: 23.437s, episode steps: 641, steps per second:  27, episode reward: 14.000, mean reward:  0.022 [ 0.000,  1.000], mean action: 2.371 [0.000, 5.000],  loss: --, mae: --, mean_q: --\n",
            " 35876/100000: episode: 48, duration: 36.402s, episode steps: 966, steps per second:  27, episode reward: 15.000, mean reward:  0.016 [ 0.000,  1.000], mean action: 1.992 [0.000, 5.000],  loss: --, mae: --, mean_q: --\n",
            " 36231/100000: episode: 49, duration: 13.213s, episode steps: 355, steps per second:  27, episode reward:  5.000, mean reward:  0.014 [ 0.000,  1.000], mean action: 2.025 [0.000, 5.000],  loss: --, mae: --, mean_q: --\n",
            " 36903/100000: episode: 50, duration: 24.202s, episode steps: 672, steps per second:  28, episode reward: 12.000, mean reward:  0.018 [ 0.000,  1.000], mean action: 1.991 [0.000, 5.000],  loss: --, mae: --, mean_q: --\n",
            " 37261/100000: episode: 51, duration: 12.663s, episode steps: 358, steps per second:  28, episode reward:  4.000, mean reward:  0.011 [ 0.000,  1.000], mean action: 1.953 [0.000, 5.000],  loss: --, mae: --, mean_q: --\n",
            " 37754/100000: episode: 52, duration: 19.355s, episode steps: 493, steps per second:  25, episode reward: 10.000, mean reward:  0.020 [ 0.000,  1.000], mean action: 1.982 [0.000, 5.000],  loss: --, mae: --, mean_q: --\n",
            " 38367/100000: episode: 53, duration: 21.508s, episode steps: 613, steps per second:  29, episode reward: 14.000, mean reward:  0.023 [ 0.000,  1.000], mean action: 2.186 [0.000, 5.000],  loss: --, mae: --, mean_q: --\n",
            " 38984/100000: episode: 54, duration: 23.498s, episode steps: 617, steps per second:  26, episode reward: 13.000, mean reward:  0.021 [ 0.000,  1.000], mean action: 1.989 [0.000, 5.000],  loss: --, mae: --, mean_q: --\n",
            " 39971/100000: episode: 55, duration: 36.284s, episode steps: 987, steps per second:  27, episode reward: 20.000, mean reward:  0.020 [ 0.000,  1.000], mean action: 2.016 [0.000, 5.000],  loss: --, mae: --, mean_q: --\n",
            " 40431/100000: episode: 56, duration: 18.167s, episode steps: 460, steps per second:  25, episode reward:  6.000, mean reward:  0.013 [ 0.000,  1.000], mean action: 1.854 [0.000, 5.000],  loss: --, mae: --, mean_q: --\n",
            " 40932/100000: episode: 57, duration: 17.912s, episode steps: 501, steps per second:  28, episode reward:  4.000, mean reward:  0.008 [ 0.000,  1.000], mean action: 2.086 [0.000, 5.000],  loss: --, mae: --, mean_q: --\n",
            " 41551/100000: episode: 58, duration: 23.404s, episode steps: 619, steps per second:  26, episode reward: 10.000, mean reward:  0.016 [ 0.000,  1.000], mean action: 1.887 [0.000, 5.000],  loss: --, mae: --, mean_q: --\n",
            " 42047/100000: episode: 59, duration: 20.662s, episode steps: 496, steps per second:  24, episode reward: 13.000, mean reward:  0.026 [ 0.000,  1.000], mean action: 2.171 [0.000, 5.000],  loss: --, mae: --, mean_q: --\n",
            " 42729/100000: episode: 60, duration: 25.422s, episode steps: 682, steps per second:  27, episode reward: 12.000, mean reward:  0.018 [ 0.000,  1.000], mean action: 1.831 [0.000, 5.000],  loss: --, mae: --, mean_q: --\n",
            " 43463/100000: episode: 61, duration: 27.063s, episode steps: 734, steps per second:  27, episode reward: 12.000, mean reward:  0.016 [ 0.000,  1.000], mean action: 1.958 [0.000, 5.000],  loss: --, mae: --, mean_q: --\n",
            " 44518/100000: episode: 62, duration: 37.770s, episode steps: 1055, steps per second:  28, episode reward: 20.000, mean reward:  0.019 [ 0.000,  1.000], mean action: 1.894 [0.000, 5.000],  loss: --, mae: --, mean_q: --\n",
            " 45207/100000: episode: 63, duration: 25.364s, episode steps: 689, steps per second:  27, episode reward:  7.000, mean reward:  0.010 [ 0.000,  1.000], mean action: 1.826 [0.000, 5.000],  loss: --, mae: --, mean_q: --\n",
            " 45981/100000: episode: 64, duration: 28.441s, episode steps: 774, steps per second:  27, episode reward: 16.000, mean reward:  0.021 [ 0.000,  1.000], mean action: 1.681 [0.000, 5.000],  loss: --, mae: --, mean_q: --\n",
            " 46599/100000: episode: 65, duration: 23.478s, episode steps: 618, steps per second:  26, episode reward:  7.000, mean reward:  0.011 [ 0.000,  1.000], mean action: 1.832 [0.000, 5.000],  loss: --, mae: --, mean_q: --\n",
            " 46958/100000: episode: 66, duration: 13.270s, episode steps: 359, steps per second:  27, episode reward:  7.000, mean reward:  0.019 [ 0.000,  1.000], mean action: 1.903 [0.000, 5.000],  loss: --, mae: --, mean_q: --\n",
            " 47483/100000: episode: 67, duration: 18.742s, episode steps: 525, steps per second:  28, episode reward: 12.000, mean reward:  0.023 [ 0.000,  1.000], mean action: 2.080 [0.000, 5.000],  loss: --, mae: --, mean_q: --\n",
            " 48587/100000: episode: 68, duration: 40.749s, episode steps: 1104, steps per second:  27, episode reward: 24.000, mean reward:  0.022 [ 0.000,  1.000], mean action: 1.997 [0.000, 5.000],  loss: --, mae: --, mean_q: --\n",
            " 49403/100000: episode: 69, duration: 29.789s, episode steps: 816, steps per second:  27, episode reward: 18.000, mean reward:  0.022 [ 0.000,  1.000], mean action: 1.971 [0.000, 5.000],  loss: --, mae: --, mean_q: --\n"
          ]
        },
        {
          "name": "stderr",
          "output_type": "stream",
          "text": [
            "/usr/local/lib/python3.11/dist-packages/keras/engine/training_v1.py:2359: UserWarning: `Model.state_updates` will be removed in a future version. This property should not be used in TensorFlow 2.0, as `updates` are applied automatically.\n",
            "  updates=self.state_updates,\n"
          ]
        },
        {
          "name": "stdout",
          "output_type": "stream",
          "text": [
            " 50219/100000: episode: 70, duration: 49.047s, episode steps: 816, steps per second:  17, episode reward: 14.000, mean reward:  0.017 [ 0.000,  1.000], mean action: 1.876 [0.000, 5.000],  loss: 0.005934, mae: 0.348982, mean_q: 0.427113\n",
            " 51061/100000: episode: 71, duration: 89.454s, episode steps: 842, steps per second:   9, episode reward: 16.000, mean reward:  0.019 [ 0.000,  1.000], mean action: 2.239 [0.000, 5.000],  loss: 0.007393, mae: 0.355361, mean_q: 0.434212\n",
            " 51783/100000: episode: 72, duration: 77.943s, episode steps: 722, steps per second:   9, episode reward: 10.000, mean reward:  0.014 [ 0.000,  1.000], mean action: 2.820 [0.000, 5.000],  loss: 0.007817, mae: 0.356981, mean_q: 0.436377\n",
            " 52169/100000: episode: 73, duration: 41.341s, episode steps: 386, steps per second:   9, episode reward:  4.000, mean reward:  0.010 [ 0.000,  1.000], mean action: 2.777 [0.000, 5.000],  loss: 0.007326, mae: 0.349557, mean_q: 0.427131\n",
            " 52657/100000: episode: 74, duration: 51.821s, episode steps: 488, steps per second:   9, episode reward:  6.000, mean reward:  0.012 [ 0.000,  1.000], mean action: 2.332 [0.000, 5.000],  loss: 0.010137, mae: 0.357140, mean_q: 0.435409\n",
            " 54067/100000: episode: 75, duration: 151.065s, episode steps: 1410, steps per second:   9, episode reward: 15.000, mean reward:  0.011 [ 0.000,  1.000], mean action: 2.969 [0.000, 5.000],  loss: 0.007418, mae: 0.353925, mean_q: 0.433391\n",
            " 54452/100000: episode: 76, duration: 41.536s, episode steps: 385, steps per second:   9, episode reward:  6.000, mean reward:  0.016 [ 0.000,  1.000], mean action: 2.486 [0.000, 5.000],  loss: 0.009193, mae: 0.358519, mean_q: 0.436790\n",
            " 55078/100000: episode: 77, duration: 67.381s, episode steps: 626, steps per second:   9, episode reward: 13.000, mean reward:  0.021 [ 0.000,  1.000], mean action: 2.797 [0.000, 5.000],  loss: 0.008061, mae: 0.356244, mean_q: 0.436142\n",
            " 55844/100000: episode: 78, duration: 83.917s, episode steps: 766, steps per second:   9, episode reward: 10.000, mean reward:  0.013 [ 0.000,  1.000], mean action: 2.097 [0.000, 5.000],  loss: 0.007842, mae: 0.354270, mean_q: 0.432650\n",
            " 56976/100000: episode: 79, duration: 120.595s, episode steps: 1132, steps per second:   9, episode reward: 11.000, mean reward:  0.010 [ 0.000,  1.000], mean action: 2.468 [0.000, 5.000],  loss: 0.009051, mae: 0.359859, mean_q: 0.439295\n",
            " 57370/100000: episode: 80, duration: 42.364s, episode steps: 394, steps per second:   9, episode reward:  4.000, mean reward:  0.010 [ 0.000,  1.000], mean action: 1.985 [0.000, 5.000],  loss: 0.006674, mae: 0.350552, mean_q: 0.429363\n",
            " 57902/100000: episode: 81, duration: 57.550s, episode steps: 532, steps per second:   9, episode reward:  4.000, mean reward:  0.008 [ 0.000,  1.000], mean action: 2.415 [0.000, 5.000],  loss: 0.008646, mae: 0.350864, mean_q: 0.427284\n",
            " 58758/100000: episode: 82, duration: 92.386s, episode steps: 856, steps per second:   9, episode reward: 12.000, mean reward:  0.014 [ 0.000,  1.000], mean action: 2.092 [0.000, 5.000],  loss: 0.008142, mae: 0.353186, mean_q: 0.432212\n",
            " 59473/100000: episode: 83, duration: 77.651s, episode steps: 715, steps per second:   9, episode reward: 11.000, mean reward:  0.015 [ 0.000,  1.000], mean action: 1.715 [0.000, 5.000],  loss: 0.008460, mae: 0.357549, mean_q: 0.436812\n",
            " 59869/100000: episode: 84, duration: 42.737s, episode steps: 396, steps per second:   9, episode reward:  7.000, mean reward:  0.018 [ 0.000,  1.000], mean action: 2.136 [0.000, 5.000],  loss: 0.007860, mae: 0.357606, mean_q: 0.436071\n",
            " 60392/100000: episode: 85, duration: 57.318s, episode steps: 523, steps per second:   9, episode reward:  6.000, mean reward:  0.011 [ 0.000,  1.000], mean action: 2.390 [0.000, 5.000],  loss: 0.008187, mae: 0.371681, mean_q: 0.453862\n",
            " 61084/100000: episode: 86, duration: 74.131s, episode steps: 692, steps per second:   9, episode reward: 10.000, mean reward:  0.014 [ 0.000,  1.000], mean action: 2.689 [0.000, 5.000],  loss: 0.008156, mae: 0.378628, mean_q: 0.461413\n",
            " 61520/100000: episode: 87, duration: 46.403s, episode steps: 436, steps per second:   9, episode reward:  7.000, mean reward:  0.016 [ 0.000,  1.000], mean action: 2.771 [0.000, 5.000],  loss: 0.007637, mae: 0.372516, mean_q: 0.455737\n",
            " 62297/100000: episode: 88, duration: 93.284s, episode steps: 777, steps per second:   8, episode reward: 12.000, mean reward:  0.015 [ 0.000,  1.000], mean action: 1.664 [0.000, 5.000],  loss: 0.008899, mae: 0.375815, mean_q: 0.458845\n",
            " 62972/100000: episode: 89, duration: 73.295s, episode steps: 675, steps per second:   9, episode reward: 10.000, mean reward:  0.015 [ 0.000,  1.000], mean action: 2.873 [0.000, 5.000],  loss: 0.007123, mae: 0.376065, mean_q: 0.459558\n",
            " 63329/100000: episode: 90, duration: 38.890s, episode steps: 357, steps per second:   9, episode reward:  5.000, mean reward:  0.014 [ 0.000,  1.000], mean action: 3.291 [0.000, 5.000],  loss: 0.006746, mae: 0.373901, mean_q: 0.457123\n",
            " 63717/100000: episode: 91, duration: 41.785s, episode steps: 388, steps per second:   9, episode reward:  5.000, mean reward:  0.013 [ 0.000,  1.000], mean action: 2.082 [0.000, 5.000],  loss: 0.006386, mae: 0.367210, mean_q: 0.450524\n",
            " 64223/100000: episode: 92, duration: 54.350s, episode steps: 506, steps per second:   9, episode reward:  7.000, mean reward:  0.014 [ 0.000,  1.000], mean action: 2.208 [0.000, 5.000],  loss: 0.007584, mae: 0.372646, mean_q: 0.455056\n",
            " 65598/100000: episode: 93, duration: 146.254s, episode steps: 1375, steps per second:   9, episode reward: 21.000, mean reward:  0.015 [ 0.000,  1.000], mean action: 2.302 [0.000, 5.000],  loss: 0.008231, mae: 0.375570, mean_q: 0.458022\n",
            " 66618/100000: episode: 94, duration: 109.656s, episode steps: 1020, steps per second:   9, episode reward: 24.000, mean reward:  0.024 [ 0.000,  1.000], mean action: 3.005 [0.000, 5.000],  loss: 0.008794, mae: 0.380962, mean_q: 0.463890\n",
            " 67033/100000: episode: 95, duration: 44.193s, episode steps: 415, steps per second:   9, episode reward:  5.000, mean reward:  0.012 [ 0.000,  1.000], mean action: 1.655 [0.000, 5.000],  loss: 0.007258, mae: 0.366091, mean_q: 0.447527\n",
            " 67398/100000: episode: 96, duration: 39.312s, episode steps: 365, steps per second:   9, episode reward:  4.000, mean reward:  0.011 [ 0.000,  1.000], mean action: 2.532 [0.000, 5.000],  loss: 0.008796, mae: 0.373875, mean_q: 0.455682\n",
            " 67768/100000: episode: 97, duration: 40.222s, episode steps: 370, steps per second:   9, episode reward:  6.000, mean reward:  0.016 [ 0.000,  1.000], mean action: 3.497 [0.000, 5.000],  loss: 0.006889, mae: 0.369556, mean_q: 0.452333\n",
            " 68683/100000: episode: 98, duration: 98.191s, episode steps: 915, steps per second:   9, episode reward: 13.000, mean reward:  0.014 [ 0.000,  1.000], mean action: 2.744 [0.000, 5.000],  loss: 0.008827, mae: 0.377508, mean_q: 0.460381\n",
            " 69320/100000: episode: 99, duration: 68.555s, episode steps: 637, steps per second:   9, episode reward: 10.000, mean reward:  0.016 [ 0.000,  1.000], mean action: 2.513 [0.000, 5.000],  loss: 0.009365, mae: 0.379638, mean_q: 0.461756\n",
            " 69984/100000: episode: 100, duration: 71.429s, episode steps: 664, steps per second:   9, episode reward:  8.000, mean reward:  0.012 [ 0.000,  1.000], mean action: 2.235 [0.000, 5.000],  loss: 0.008256, mae: 0.377745, mean_q: 0.459844\n",
            " 70426/100000: episode: 101, duration: 48.691s, episode steps: 442, steps per second:   9, episode reward:  7.000, mean reward:  0.016 [ 0.000,  1.000], mean action: 2.645 [0.000, 5.000],  loss: 0.006556, mae: 0.391175, mean_q: 0.477809\n",
            " 70928/100000: episode: 102, duration: 53.869s, episode steps: 502, steps per second:   9, episode reward: 10.000, mean reward:  0.020 [ 0.000,  1.000], mean action: 2.962 [0.000, 5.000],  loss: 0.007332, mae: 0.388657, mean_q: 0.473697\n",
            " 71807/100000: episode: 103, duration: 94.587s, episode steps: 879, steps per second:   9, episode reward: 14.000, mean reward:  0.016 [ 0.000,  1.000], mean action: 2.746 [0.000, 5.000],  loss: 0.008091, mae: 0.394549, mean_q: 0.481036\n",
            " 72413/100000: episode: 104, duration: 65.795s, episode steps: 606, steps per second:   9, episode reward:  5.000, mean reward:  0.008 [ 0.000,  1.000], mean action: 2.036 [0.000, 5.000],  loss: 0.007317, mae: 0.391682, mean_q: 0.477710\n",
            " 73192/100000: episode: 105, duration: 83.864s, episode steps: 779, steps per second:   9, episode reward:  9.000, mean reward:  0.012 [ 0.000,  1.000], mean action: 2.118 [0.000, 5.000],  loss: 0.008484, mae: 0.392397, mean_q: 0.478467\n",
            " 74053/100000: episode: 106, duration: 91.614s, episode steps: 861, steps per second:   9, episode reward: 14.000, mean reward:  0.016 [ 0.000,  1.000], mean action: 2.719 [0.000, 5.000],  loss: 0.009129, mae: 0.399438, mean_q: 0.486879\n",
            " 74713/100000: episode: 107, duration: 70.959s, episode steps: 660, steps per second:   9, episode reward: 14.000, mean reward:  0.021 [ 0.000,  1.000], mean action: 3.348 [0.000, 5.000],  loss: 0.008263, mae: 0.393648, mean_q: 0.479519\n",
            " 75219/100000: episode: 108, duration: 54.346s, episode steps: 506, steps per second:   9, episode reward:  8.000, mean reward:  0.016 [ 0.000,  1.000], mean action: 2.800 [0.000, 5.000],  loss: 0.008185, mae: 0.394756, mean_q: 0.481062\n",
            " 76020/100000: episode: 109, duration: 85.649s, episode steps: 801, steps per second:   9, episode reward: 14.000, mean reward:  0.017 [ 0.000,  1.000], mean action: 2.476 [0.000, 5.000],  loss: 0.008398, mae: 0.394230, mean_q: 0.481828\n",
            " 76356/100000: episode: 110, duration: 37.186s, episode steps: 336, steps per second:   9, episode reward:  5.000, mean reward:  0.015 [ 0.000,  1.000], mean action: 2.688 [0.000, 5.000],  loss: 0.007572, mae: 0.391622, mean_q: 0.479720\n",
            " 76765/100000: episode: 111, duration: 44.180s, episode steps: 409, steps per second:   9, episode reward:  3.000, mean reward:  0.007 [ 0.000,  1.000], mean action: 2.961 [0.000, 5.000],  loss: 0.008684, mae: 0.394007, mean_q: 0.482804\n",
            " 77255/100000: episode: 112, duration: 53.103s, episode steps: 490, steps per second:   9, episode reward:  5.000, mean reward:  0.010 [ 0.000,  1.000], mean action: 2.406 [0.000, 5.000],  loss: 0.006890, mae: 0.384921, mean_q: 0.470263\n",
            " 78447/100000: episode: 113, duration: 128.645s, episode steps: 1192, steps per second:   9, episode reward: 29.000, mean reward:  0.024 [ 0.000,  1.000], mean action: 3.016 [0.000, 5.000],  loss: 0.008142, mae: 0.393051, mean_q: 0.481327\n",
            " 79774/100000: episode: 114, duration: 142.077s, episode steps: 1327, steps per second:   9, episode reward: 29.000, mean reward:  0.022 [ 0.000,  1.000], mean action: 2.323 [0.000, 5.000],  loss: 0.009414, mae: 0.396377, mean_q: 0.482279\n",
            " 80559/100000: episode: 115, duration: 87.203s, episode steps: 785, steps per second:   9, episode reward: 13.000, mean reward:  0.017 [ 0.000,  1.000], mean action: 3.020 [0.000, 5.000],  loss: 0.007355, mae: 0.403550, mean_q: 0.492819\n",
            " 81227/100000: episode: 116, duration: 72.076s, episode steps: 668, steps per second:   9, episode reward: 14.000, mean reward:  0.021 [ 0.000,  1.000], mean action: 2.231 [0.000, 5.000],  loss: 0.007786, mae: 0.413262, mean_q: 0.505486\n",
            " 81600/100000: episode: 117, duration: 40.644s, episode steps: 373, steps per second:   9, episode reward:  7.000, mean reward:  0.019 [ 0.000,  1.000], mean action: 2.520 [0.000, 5.000],  loss: 0.007274, mae: 0.414980, mean_q: 0.510337\n",
            " 82039/100000: episode: 118, duration: 46.459s, episode steps: 439, steps per second:   9, episode reward:  5.000, mean reward:  0.011 [ 0.000,  1.000], mean action: 2.246 [0.000, 5.000],  loss: 0.008720, mae: 0.418167, mean_q: 0.510502\n",
            " 82431/100000: episode: 119, duration: 42.046s, episode steps: 392, steps per second:   9, episode reward:  6.000, mean reward:  0.015 [ 0.000,  1.000], mean action: 2.760 [0.000, 5.000],  loss: 0.008648, mae: 0.421587, mean_q: 0.514102\n",
            " 83156/100000: episode: 120, duration: 78.582s, episode steps: 725, steps per second:   9, episode reward: 12.000, mean reward:  0.017 [ 0.000,  1.000], mean action: 2.639 [0.000, 5.000],  loss: 0.008039, mae: 0.417836, mean_q: 0.510901\n",
            " 84092/100000: episode: 121, duration: 101.426s, episode steps: 936, steps per second:   9, episode reward: 12.000, mean reward:  0.013 [ 0.000,  1.000], mean action: 2.478 [0.000, 5.000],  loss: 0.009109, mae: 0.420625, mean_q: 0.514873\n",
            " 84932/100000: episode: 122, duration: 90.677s, episode steps: 840, steps per second:   9, episode reward: 17.000, mean reward:  0.020 [ 0.000,  1.000], mean action: 2.371 [0.000, 5.000],  loss: 0.008268, mae: 0.412304, mean_q: 0.504649\n",
            " 85425/100000: episode: 123, duration: 53.851s, episode steps: 493, steps per second:   9, episode reward:  6.000, mean reward:  0.012 [ 0.000,  1.000], mean action: 1.830 [0.000, 5.000],  loss: 0.006821, mae: 0.407237, mean_q: 0.496978\n",
            " 85779/100000: episode: 124, duration: 38.551s, episode steps: 354, steps per second:   9, episode reward:  6.000, mean reward:  0.017 [ 0.000,  1.000], mean action: 2.215 [0.000, 5.000],  loss: 0.007771, mae: 0.408719, mean_q: 0.498007\n",
            " 87323/100000: episode: 125, duration: 166.197s, episode steps: 1544, steps per second:   9, episode reward: 30.000, mean reward:  0.019 [ 0.000,  1.000], mean action: 2.848 [0.000, 5.000],  loss: 0.008305, mae: 0.415340, mean_q: 0.506325\n",
            " 87945/100000: episode: 126, duration: 67.655s, episode steps: 622, steps per second:   9, episode reward: 11.000, mean reward:  0.018 [ 0.000,  1.000], mean action: 2.362 [0.000, 5.000],  loss: 0.009122, mae: 0.417635, mean_q: 0.508797\n",
            " 88820/100000: episode: 127, duration: 94.044s, episode steps: 875, steps per second:   9, episode reward: 16.000, mean reward:  0.018 [ 0.000,  1.000], mean action: 2.358 [0.000, 5.000],  loss: 0.008251, mae: 0.414400, mean_q: 0.504902\n",
            " 90239/100000: episode: 128, duration: 154.571s, episode steps: 1419, steps per second:   9, episode reward: 27.000, mean reward:  0.019 [ 0.000,  1.000], mean action: 2.668 [0.000, 5.000],  loss: 0.008934, mae: 0.425865, mean_q: 0.519636\n",
            " 90641/100000: episode: 129, duration: 43.872s, episode steps: 402, steps per second:   9, episode reward:  5.000, mean reward:  0.012 [ 0.000,  1.000], mean action: 3.055 [0.000, 5.000],  loss: 0.008714, mae: 0.456233, mean_q: 0.557702\n",
            " 91555/100000: episode: 130, duration: 97.993s, episode steps: 914, steps per second:   9, episode reward: 13.000, mean reward:  0.014 [ 0.000,  1.000], mean action: 2.108 [0.000, 5.000],  loss: 0.008890, mae: 0.454111, mean_q: 0.553294\n",
            " 92424/100000: episode: 131, duration: 92.855s, episode steps: 869, steps per second:   9, episode reward: 16.000, mean reward:  0.018 [ 0.000,  1.000], mean action: 2.193 [0.000, 5.000],  loss: 0.009311, mae: 0.453869, mean_q: 0.553700\n",
            " 93057/100000: episode: 132, duration: 68.683s, episode steps: 633, steps per second:   9, episode reward:  9.000, mean reward:  0.014 [ 0.000,  1.000], mean action: 2.371 [0.000, 5.000],  loss: 0.008522, mae: 0.451178, mean_q: 0.551914\n",
            " 93637/100000: episode: 133, duration: 63.162s, episode steps: 580, steps per second:   9, episode reward:  7.000, mean reward:  0.012 [ 0.000,  1.000], mean action: 1.633 [0.000, 5.000],  loss: 0.007599, mae: 0.449369, mean_q: 0.548205\n",
            " 94152/100000: episode: 134, duration: 56.044s, episode steps: 515, steps per second:   9, episode reward:  8.000, mean reward:  0.016 [ 0.000,  1.000], mean action: 2.384 [0.000, 5.000],  loss: 0.009061, mae: 0.461343, mean_q: 0.562555\n",
            " 94538/100000: episode: 135, duration: 41.824s, episode steps: 386, steps per second:   9, episode reward:  5.000, mean reward:  0.013 [ 0.000,  1.000], mean action: 2.490 [0.000, 5.000],  loss: 0.008874, mae: 0.455803, mean_q: 0.554905\n",
            " 95027/100000: episode: 136, duration: 53.196s, episode steps: 489, steps per second:   9, episode reward:  7.000, mean reward:  0.014 [ 0.000,  1.000], mean action: 2.229 [0.000, 5.000],  loss: 0.007870, mae: 0.455911, mean_q: 0.554532\n",
            " 95899/100000: episode: 137, duration: 92.947s, episode steps: 872, steps per second:   9, episode reward: 12.000, mean reward:  0.014 [ 0.000,  1.000], mean action: 2.257 [0.000, 5.000],  loss: 0.009492, mae: 0.455181, mean_q: 0.554622\n",
            " 96467/100000: episode: 138, duration: 62.828s, episode steps: 568, steps per second:   9, episode reward:  7.000, mean reward:  0.012 [ 0.000,  1.000], mean action: 2.475 [0.000, 5.000],  loss: 0.009402, mae: 0.456732, mean_q: 0.557200\n",
            " 96911/100000: episode: 139, duration: 47.612s, episode steps: 444, steps per second:   9, episode reward:  6.000, mean reward:  0.014 [ 0.000,  1.000], mean action: 1.466 [0.000, 5.000],  loss: 0.006996, mae: 0.442384, mean_q: 0.539595\n",
            " 97503/100000: episode: 140, duration: 64.395s, episode steps: 592, steps per second:   9, episode reward: 10.000, mean reward:  0.017 [ 0.000,  1.000], mean action: 2.115 [0.000, 5.000],  loss: 0.010234, mae: 0.452454, mean_q: 0.549947\n",
            " 97951/100000: episode: 141, duration: 47.848s, episode steps: 448, steps per second:   9, episode reward:  5.000, mean reward:  0.011 [ 0.000,  1.000], mean action: 3.205 [0.000, 5.000],  loss: 0.009468, mae: 0.450323, mean_q: 0.547343\n",
            " 98766/100000: episode: 142, duration: 89.772s, episode steps: 815, steps per second:   9, episode reward: 22.000, mean reward:  0.027 [ 0.000,  1.000], mean action: 2.464 [0.000, 5.000],  loss: 0.008503, mae: 0.454698, mean_q: 0.553630\n",
            " 99416/100000: episode: 143, duration: 70.660s, episode steps: 650, steps per second:   9, episode reward: 12.000, mean reward:  0.018 [ 0.000,  1.000], mean action: 2.303 [0.000, 5.000],  loss: 0.009428, mae: 0.456531, mean_q: 0.556275\n",
            "done, took 7269.344 seconds\n"
          ]
        }
      ],
      "source": [
        "# Cargar último checkpoint\n",
        "latest_path, trained_steps = load_latest_weights(dqn, checkpoint_dir)\n",
        "\n",
        "# Entrenar agente\n",
        "dqn.fit(env, nb_steps=100000, visualize=False, verbose=2,\n",
        "        callbacks=[checkpoint_callback, logger_callback])\n",
        "\n",
        "# Guardar pesos finales en formato .h5 (compatible con load_weights)\n",
        "dqn.save_weights(os.path.join(checkpoint_dir, f\"dqn_noisy_weights_{total_steps}.h5\"), overwrite=True)\n",
        "\n",
        "# GUARDAR LA MEMORIA DE EXPERIENCIA\n",
        "import pickle\n",
        "with open('memory_noisy.pkl', 'wb') as f:\n",
        "    pickle.dump(memory, f)"
      ]
    },
    {
      "cell_type": "code",
      "execution_count": null,
      "metadata": {
        "colab": {
          "base_uri": "https://localhost:8080/"
        },
        "id": "hcqrLtRxi23X",
        "outputId": "4f7f4ad0-4ae7-4643-ec9e-7a57d33f6ee0"
      },
      "outputs": [
        {
          "name": "stdout",
          "output_type": "stream",
          "text": [
            "Esperando 60 segundos...\n",
            "¡Tiempo de espera terminado!\n"
          ]
        }
      ],
      "source": [
        "import time\n",
        "\n",
        "print(\"Esperando 60 segundos...\")\n",
        "time.sleep(60)\n",
        "print(\"¡Tiempo de espera terminado!\")"
      ]
    },
    {
      "cell_type": "code",
      "execution_count": null,
      "metadata": {
        "colab": {
          "base_uri": "https://localhost:8080/"
        },
        "id": "fuVSBuiyi56X",
        "outputId": "544f2af7-0134-498c-e028-c6fbec3280fd"
      },
      "outputs": [
        {
          "name": "stdout",
          "output_type": "stream",
          "text": [
            "✅ Cargando pesos desde: /content/gdrive/My Drive/MODELO 14/checkpoints/dqn_noisy_weights_400000.h5 (pasos entrenados: 400000)\n",
            "Testing for 10 episodes ...\n",
            "Episode 1: reward: 5.000, steps: 624\n",
            "Episode 2: reward: 5.000, steps: 354\n",
            "Episode 3: reward: 4.000, steps: 348\n",
            "Episode 4: reward: 5.000, steps: 513\n",
            "Episode 5: reward: 8.000, steps: 598\n",
            "Episode 6: reward: 16.000, steps: 1266\n",
            "Episode 7: reward: 12.000, steps: 522\n",
            "Episode 8: reward: 6.000, steps: 514\n",
            "Episode 9: reward: 9.000, steps: 587\n",
            "Episode 10: reward: 21.000, steps: 1277\n"
          ]
        }
      ],
      "source": [
        "# Testear desde último checkpoint\n",
        "latest_path, trained_steps = load_latest_weights(dqn, checkpoint_dir)\n",
        "if latest_path:\n",
        "    dqn.test(env, nb_episodes=10, visualize=False)"
      ]
    },
    {
      "cell_type": "markdown",
      "metadata": {
        "id": "CMKpo4cgDXND"
      },
      "source": [
        "### Parte 2"
      ]
    },
    {
      "cell_type": "code",
      "execution_count": null,
      "metadata": {
        "colab": {
          "background_save": true,
          "base_uri": "https://localhost:8080/"
        },
        "id": "8_fQUrYHDVG2",
        "outputId": "8e9f4b6c-2186-4c99-dcef-d6c8d86d5fe3"
      },
      "outputs": [
        {
          "name": "stdout",
          "output_type": "stream",
          "text": [
            "✅ Cargando pesos desde: /content/gdrive/My Drive/MODELO 14/checkpoints/dqn_noisy_weights_400000.h5 (pasos entrenados: 400000)\n",
            "Training for 100000 steps ...\n",
            "  1076/100000: episode: 1, duration: 40.485s, episode steps: 1076, steps per second:  27, episode reward: 13.000, mean reward:  0.012 [ 0.000,  1.000], mean action: 2.063 [0.000, 5.000],  loss: --, mae: --, mean_q: --\n",
            "  1491/100000: episode: 2, duration: 16.716s, episode steps: 415, steps per second:  25, episode reward:  6.000, mean reward:  0.014 [ 0.000,  1.000], mean action: 1.855 [0.000, 5.000],  loss: --, mae: --, mean_q: --\n",
            "  2263/100000: episode: 3, duration: 29.898s, episode steps: 772, steps per second:  26, episode reward: 16.000, mean reward:  0.021 [ 0.000,  1.000], mean action: 2.053 [0.000, 5.000],  loss: --, mae: --, mean_q: --\n",
            "  2998/100000: episode: 4, duration: 28.286s, episode steps: 735, steps per second:  26, episode reward:  9.000, mean reward:  0.012 [ 0.000,  1.000], mean action: 2.211 [0.000, 5.000],  loss: --, mae: --, mean_q: --\n",
            "  3406/100000: episode: 5, duration: 15.398s, episode steps: 408, steps per second:  26, episode reward:  6.000, mean reward:  0.015 [ 0.000,  1.000], mean action: 2.051 [0.000, 5.000],  loss: --, mae: --, mean_q: --\n",
            "  4067/100000: episode: 6, duration: 25.155s, episode steps: 661, steps per second:  26, episode reward:  8.000, mean reward:  0.012 [ 0.000,  1.000], mean action: 1.932 [0.000, 5.000],  loss: --, mae: --, mean_q: --\n",
            "  4573/100000: episode: 7, duration: 19.017s, episode steps: 506, steps per second:  27, episode reward:  6.000, mean reward:  0.012 [ 0.000,  1.000], mean action: 2.002 [0.000, 5.000],  loss: --, mae: --, mean_q: --\n",
            "  5077/100000: episode: 8, duration: 18.510s, episode steps: 504, steps per second:  27, episode reward:  6.000, mean reward:  0.012 [ 0.000,  1.000], mean action: 1.806 [0.000, 5.000],  loss: --, mae: --, mean_q: --\n",
            "  5762/100000: episode: 9, duration: 32.708s, episode steps: 685, steps per second:  21, episode reward:  9.000, mean reward:  0.013 [ 0.000,  1.000], mean action: 1.880 [0.000, 5.000],  loss: --, mae: --, mean_q: --\n",
            "  6387/100000: episode: 10, duration: 24.097s, episode steps: 625, steps per second:  26, episode reward: 11.000, mean reward:  0.018 [ 0.000,  1.000], mean action: 2.058 [0.000, 5.000],  loss: --, mae: --, mean_q: --\n",
            "  6764/100000: episode: 11, duration: 14.395s, episode steps: 377, steps per second:  26, episode reward:  5.000, mean reward:  0.013 [ 0.000,  1.000], mean action: 1.809 [0.000, 5.000],  loss: --, mae: --, mean_q: --\n",
            "  7116/100000: episode: 12, duration: 13.515s, episode steps: 352, steps per second:  26, episode reward:  4.000, mean reward:  0.011 [ 0.000,  1.000], mean action: 3.003 [0.000, 5.000],  loss: --, mae: --, mean_q: --\n",
            "  7847/100000: episode: 13, duration: 27.862s, episode steps: 731, steps per second:  26, episode reward: 16.000, mean reward:  0.022 [ 0.000,  1.000], mean action: 2.781 [0.000, 5.000],  loss: --, mae: --, mean_q: --\n",
            "  8198/100000: episode: 14, duration: 13.458s, episode steps: 351, steps per second:  26, episode reward:  4.000, mean reward:  0.011 [ 0.000,  1.000], mean action: 2.920 [0.000, 5.000],  loss: --, mae: --, mean_q: --\n",
            "  8577/100000: episode: 15, duration: 14.412s, episode steps: 379, steps per second:  26, episode reward:  5.000, mean reward:  0.013 [ 0.000,  1.000], mean action: 2.113 [0.000, 5.000],  loss: --, mae: --, mean_q: --\n",
            "  9106/100000: episode: 16, duration: 20.142s, episode steps: 529, steps per second:  26, episode reward:  8.000, mean reward:  0.015 [ 0.000,  1.000], mean action: 1.728 [0.000, 5.000],  loss: --, mae: --, mean_q: --\n",
            "  9619/100000: episode: 17, duration: 19.909s, episode steps: 513, steps per second:  26, episode reward:  8.000, mean reward:  0.016 [ 0.000,  1.000], mean action: 1.975 [0.000, 5.000],  loss: --, mae: --, mean_q: --\n",
            " 10260/100000: episode: 18, duration: 25.228s, episode steps: 641, steps per second:  25, episode reward:  7.000, mean reward:  0.011 [ 0.000,  1.000], mean action: 2.081 [0.000, 5.000],  loss: --, mae: --, mean_q: --\n",
            " 11382/100000: episode: 19, duration: 42.279s, episode steps: 1122, steps per second:  27, episode reward: 18.000, mean reward:  0.016 [ 0.000,  1.000], mean action: 2.361 [0.000, 5.000],  loss: --, mae: --, mean_q: --\n",
            " 11717/100000: episode: 20, duration: 12.795s, episode steps: 335, steps per second:  26, episode reward:  5.000, mean reward:  0.015 [ 0.000,  1.000], mean action: 2.621 [0.000, 5.000],  loss: --, mae: --, mean_q: --\n",
            " 12257/100000: episode: 21, duration: 20.033s, episode steps: 540, steps per second:  27, episode reward:  5.000, mean reward:  0.009 [ 0.000,  1.000], mean action: 1.804 [0.000, 5.000],  loss: --, mae: --, mean_q: --\n",
            " 13034/100000: episode: 22, duration: 29.328s, episode steps: 777, steps per second:  26, episode reward: 16.000, mean reward:  0.021 [ 0.000,  1.000], mean action: 2.326 [0.000, 5.000],  loss: --, mae: --, mean_q: --\n",
            " 13562/100000: episode: 23, duration: 20.836s, episode steps: 528, steps per second:  25, episode reward:  6.000, mean reward:  0.011 [ 0.000,  1.000], mean action: 2.004 [0.000, 5.000],  loss: --, mae: --, mean_q: --\n",
            " 14066/100000: episode: 24, duration: 18.660s, episode steps: 504, steps per second:  27, episode reward:  4.000, mean reward:  0.008 [ 0.000,  1.000], mean action: 2.171 [0.000, 5.000],  loss: --, mae: --, mean_q: --\n",
            " 15004/100000: episode: 25, duration: 36.292s, episode steps: 938, steps per second:  26, episode reward: 11.000, mean reward:  0.012 [ 0.000,  1.000], mean action: 1.888 [0.000, 5.000],  loss: --, mae: --, mean_q: --\n",
            " 15504/100000: episode: 26, duration: 19.134s, episode steps: 500, steps per second:  26, episode reward:  9.000, mean reward:  0.018 [ 0.000,  1.000], mean action: 1.700 [0.000, 5.000],  loss: --, mae: --, mean_q: --\n",
            " 16139/100000: episode: 27, duration: 24.554s, episode steps: 635, steps per second:  26, episode reward:  6.000, mean reward:  0.009 [ 0.000,  1.000], mean action: 2.279 [0.000, 5.000],  loss: --, mae: --, mean_q: --\n",
            " 16771/100000: episode: 28, duration: 22.759s, episode steps: 632, steps per second:  28, episode reward:  9.000, mean reward:  0.014 [ 0.000,  1.000], mean action: 1.799 [0.000, 5.000],  loss: --, mae: --, mean_q: --\n",
            " 17517/100000: episode: 29, duration: 28.298s, episode steps: 746, steps per second:  26, episode reward: 13.000, mean reward:  0.017 [ 0.000,  1.000], mean action: 1.918 [0.000, 5.000],  loss: --, mae: --, mean_q: --\n",
            " 18040/100000: episode: 30, duration: 20.995s, episode steps: 523, steps per second:  25, episode reward:  8.000, mean reward:  0.015 [ 0.000,  1.000], mean action: 1.698 [0.000, 5.000],  loss: --, mae: --, mean_q: --\n",
            " 18522/100000: episode: 31, duration: 17.859s, episode steps: 482, steps per second:  27, episode reward:  6.000, mean reward:  0.012 [ 0.000,  1.000], mean action: 1.880 [0.000, 5.000],  loss: --, mae: --, mean_q: --\n",
            " 18840/100000: episode: 32, duration: 12.369s, episode steps: 318, steps per second:  26, episode reward:  5.000, mean reward:  0.016 [ 0.000,  1.000], mean action: 1.733 [0.000, 5.000],  loss: --, mae: --, mean_q: --\n",
            " 19341/100000: episode: 33, duration: 18.507s, episode steps: 501, steps per second:  27, episode reward:  7.000, mean reward:  0.014 [ 0.000,  1.000], mean action: 1.864 [0.000, 5.000],  loss: --, mae: --, mean_q: --\n",
            " 19896/100000: episode: 34, duration: 22.040s, episode steps: 555, steps per second:  25, episode reward:  6.000, mean reward:  0.011 [ 0.000,  1.000], mean action: 1.780 [0.000, 5.000],  loss: --, mae: --, mean_q: --\n",
            " 20392/100000: episode: 35, duration: 19.043s, episode steps: 496, steps per second:  26, episode reward:  7.000, mean reward:  0.014 [ 0.000,  1.000], mean action: 1.980 [0.000, 5.000],  loss: --, mae: --, mean_q: --\n",
            " 20982/100000: episode: 36, duration: 23.169s, episode steps: 590, steps per second:  25, episode reward:  8.000, mean reward:  0.014 [ 0.000,  1.000], mean action: 1.783 [0.000, 5.000],  loss: --, mae: --, mean_q: --\n",
            " 21463/100000: episode: 37, duration: 21.880s, episode steps: 481, steps per second:  22, episode reward: 12.000, mean reward:  0.025 [ 0.000,  1.000], mean action: 1.902 [0.000, 5.000],  loss: --, mae: --, mean_q: --\n",
            " 22139/100000: episode: 38, duration: 26.116s, episode steps: 676, steps per second:  26, episode reward: 10.000, mean reward:  0.015 [ 0.000,  1.000], mean action: 1.954 [0.000, 5.000],  loss: --, mae: --, mean_q: --\n",
            " 22738/100000: episode: 39, duration: 23.369s, episode steps: 599, steps per second:  26, episode reward:  7.000, mean reward:  0.012 [ 0.000,  1.000], mean action: 1.778 [0.000, 5.000],  loss: --, mae: --, mean_q: --\n",
            " 23165/100000: episode: 40, duration: 16.139s, episode steps: 427, steps per second:  26, episode reward:  3.000, mean reward:  0.007 [ 0.000,  1.000], mean action: 1.501 [0.000, 5.000],  loss: --, mae: --, mean_q: --\n",
            " 23834/100000: episode: 41, duration: 25.177s, episode steps: 669, steps per second:  27, episode reward: 12.000, mean reward:  0.018 [ 0.000,  1.000], mean action: 2.468 [0.000, 5.000],  loss: --, mae: --, mean_q: --\n",
            " 24676/100000: episode: 42, duration: 32.115s, episode steps: 842, steps per second:  26, episode reward: 15.000, mean reward:  0.018 [ 0.000,  1.000], mean action: 2.151 [0.000, 5.000],  loss: --, mae: --, mean_q: --\n",
            " 25444/100000: episode: 43, duration: 29.105s, episode steps: 768, steps per second:  26, episode reward: 11.000, mean reward:  0.014 [ 0.000,  1.000], mean action: 2.210 [0.000, 5.000],  loss: --, mae: --, mean_q: --\n",
            " 25935/100000: episode: 44, duration: 18.102s, episode steps: 491, steps per second:  27, episode reward:  4.000, mean reward:  0.008 [ 0.000,  1.000], mean action: 1.633 [0.000, 5.000],  loss: --, mae: --, mean_q: --\n",
            " 26435/100000: episode: 45, duration: 20.098s, episode steps: 500, steps per second:  25, episode reward:  7.000, mean reward:  0.014 [ 0.000,  1.000], mean action: 1.960 [0.000, 5.000],  loss: --, mae: --, mean_q: --\n",
            " 27365/100000: episode: 46, duration: 34.406s, episode steps: 930, steps per second:  27, episode reward: 13.000, mean reward:  0.014 [ 0.000,  1.000], mean action: 1.859 [0.000, 5.000],  loss: --, mae: --, mean_q: --\n",
            " 28308/100000: episode: 47, duration: 36.722s, episode steps: 943, steps per second:  26, episode reward: 15.000, mean reward:  0.016 [ 0.000,  1.000], mean action: 2.080 [0.000, 5.000],  loss: --, mae: --, mean_q: --\n",
            " 28979/100000: episode: 48, duration: 24.728s, episode steps: 671, steps per second:  27, episode reward:  9.000, mean reward:  0.013 [ 0.000,  1.000], mean action: 2.183 [0.000, 5.000],  loss: --, mae: --, mean_q: --\n",
            " 29750/100000: episode: 49, duration: 29.950s, episode steps: 771, steps per second:  26, episode reward: 14.000, mean reward:  0.018 [ 0.000,  1.000], mean action: 2.237 [0.000, 5.000],  loss: --, mae: --, mean_q: --\n",
            " 30177/100000: episode: 50, duration: 17.733s, episode steps: 427, steps per second:  24, episode reward:  4.000, mean reward:  0.009 [ 0.000,  1.000], mean action: 1.604 [0.000, 5.000],  loss: --, mae: --, mean_q: --\n",
            " 30707/100000: episode: 51, duration: 19.645s, episode steps: 530, steps per second:  27, episode reward:  7.000, mean reward:  0.013 [ 0.000,  1.000], mean action: 1.911 [0.000, 5.000],  loss: --, mae: --, mean_q: --\n",
            " 31206/100000: episode: 52, duration: 20.084s, episode steps: 499, steps per second:  25, episode reward:  6.000, mean reward:  0.012 [ 0.000,  1.000], mean action: 2.074 [0.000, 5.000],  loss: --, mae: --, mean_q: --\n",
            " 31693/100000: episode: 53, duration: 17.990s, episode steps: 487, steps per second:  27, episode reward:  8.000, mean reward:  0.016 [ 0.000,  1.000], mean action: 1.828 [0.000, 5.000],  loss: --, mae: --, mean_q: --\n",
            " 32333/100000: episode: 54, duration: 24.697s, episode steps: 640, steps per second:  26, episode reward: 12.000, mean reward:  0.019 [ 0.000,  1.000], mean action: 1.852 [0.000, 5.000],  loss: --, mae: --, mean_q: --\n",
            " 32910/100000: episode: 55, duration: 20.879s, episode steps: 577, steps per second:  28, episode reward:  8.000, mean reward:  0.014 [ 0.000,  1.000], mean action: 2.484 [0.000, 5.000],  loss: --, mae: --, mean_q: --\n",
            " 33572/100000: episode: 56, duration: 25.598s, episode steps: 662, steps per second:  26, episode reward: 11.000, mean reward:  0.017 [ 0.000,  1.000], mean action: 2.121 [0.000, 5.000],  loss: --, mae: --, mean_q: --\n",
            " 34365/100000: episode: 57, duration: 30.409s, episode steps: 793, steps per second:  26, episode reward: 10.000, mean reward:  0.013 [ 0.000,  1.000], mean action: 2.202 [0.000, 5.000],  loss: --, mae: --, mean_q: --\n",
            " 35244/100000: episode: 58, duration: 34.057s, episode steps: 879, steps per second:  26, episode reward: 14.000, mean reward:  0.016 [ 0.000,  1.000], mean action: 1.995 [0.000, 5.000],  loss: --, mae: --, mean_q: --\n",
            " 35908/100000: episode: 59, duration: 24.329s, episode steps: 664, steps per second:  27, episode reward:  9.000, mean reward:  0.014 [ 0.000,  1.000], mean action: 2.077 [0.000, 5.000],  loss: --, mae: --, mean_q: --\n",
            " 36952/100000: episode: 60, duration: 40.235s, episode steps: 1044, steps per second:  26, episode reward: 11.000, mean reward:  0.011 [ 0.000,  1.000], mean action: 2.275 [0.000, 5.000],  loss: --, mae: --, mean_q: --\n",
            " 37443/100000: episode: 61, duration: 22.560s, episode steps: 491, steps per second:  22, episode reward:  4.000, mean reward:  0.008 [ 0.000,  1.000], mean action: 1.747 [0.000, 5.000],  loss: --, mae: --, mean_q: --\n",
            " 38037/100000: episode: 62, duration: 22.576s, episode steps: 594, steps per second:  26, episode reward:  8.000, mean reward:  0.013 [ 0.000,  1.000], mean action: 1.828 [0.000, 5.000],  loss: --, mae: --, mean_q: --\n",
            " 38579/100000: episode: 63, duration: 21.361s, episode steps: 542, steps per second:  25, episode reward:  7.000, mean reward:  0.013 [ 0.000,  1.000], mean action: 2.212 [0.000, 5.000],  loss: --, mae: --, mean_q: --\n",
            " 38940/100000: episode: 64, duration: 13.437s, episode steps: 361, steps per second:  27, episode reward:  4.000, mean reward:  0.011 [ 0.000,  1.000], mean action: 2.820 [0.000, 5.000],  loss: --, mae: --, mean_q: --\n",
            " 39996/100000: episode: 65, duration: 39.406s, episode steps: 1056, steps per second:  27, episode reward: 16.000, mean reward:  0.015 [ 0.000,  1.000], mean action: 2.220 [0.000, 5.000],  loss: --, mae: --, mean_q: --\n",
            " 40393/100000: episode: 66, duration: 16.765s, episode steps: 397, steps per second:  24, episode reward:  5.000, mean reward:  0.013 [ 0.000,  1.000], mean action: 2.028 [0.000, 5.000],  loss: --, mae: --, mean_q: --\n",
            " 40850/100000: episode: 67, duration: 17.630s, episode steps: 457, steps per second:  26, episode reward:  5.000, mean reward:  0.011 [ 0.000,  1.000], mean action: 1.864 [0.000, 5.000],  loss: --, mae: --, mean_q: --\n",
            " 41375/100000: episode: 68, duration: 19.286s, episode steps: 525, steps per second:  27, episode reward:  7.000, mean reward:  0.013 [ 0.000,  1.000], mean action: 1.657 [0.000, 5.000],  loss: --, mae: --, mean_q: --\n",
            " 41868/100000: episode: 69, duration: 19.500s, episode steps: 493, steps per second:  25, episode reward:  5.000, mean reward:  0.010 [ 0.000,  1.000], mean action: 1.897 [0.000, 5.000],  loss: --, mae: --, mean_q: --\n",
            " 42530/100000: episode: 70, duration: 24.266s, episode steps: 662, steps per second:  27, episode reward: 11.000, mean reward:  0.017 [ 0.000,  1.000], mean action: 2.089 [0.000, 5.000],  loss: --, mae: --, mean_q: --\n",
            " 43026/100000: episode: 71, duration: 19.942s, episode steps: 496, steps per second:  25, episode reward:  6.000, mean reward:  0.012 [ 0.000,  1.000], mean action: 2.075 [0.000, 5.000],  loss: --, mae: --, mean_q: --\n",
            " 43555/100000: episode: 72, duration: 19.346s, episode steps: 529, steps per second:  27, episode reward:  7.000, mean reward:  0.013 [ 0.000,  1.000], mean action: 1.629 [0.000, 5.000],  loss: --, mae: --, mean_q: --\n",
            " 44038/100000: episode: 73, duration: 17.952s, episode steps: 483, steps per second:  27, episode reward: 11.000, mean reward:  0.023 [ 0.000,  1.000], mean action: 1.975 [0.000, 5.000],  loss: --, mae: --, mean_q: --\n",
            " 44664/100000: episode: 74, duration: 24.245s, episode steps: 626, steps per second:  26, episode reward:  7.000, mean reward:  0.011 [ 0.000,  1.000], mean action: 1.941 [0.000, 5.000],  loss: --, mae: --, mean_q: --\n",
            " 45186/100000: episode: 75, duration: 19.896s, episode steps: 522, steps per second:  26, episode reward:  5.000, mean reward:  0.010 [ 0.000,  1.000], mean action: 1.695 [0.000, 5.000],  loss: --, mae: --, mean_q: --\n",
            " 45615/100000: episode: 76, duration: 17.011s, episode steps: 429, steps per second:  25, episode reward:  6.000, mean reward:  0.014 [ 0.000,  1.000], mean action: 1.650 [0.000, 5.000],  loss: --, mae: --, mean_q: --\n",
            " 46377/100000: episode: 77, duration: 29.469s, episode steps: 762, steps per second:  26, episode reward:  8.000, mean reward:  0.010 [ 0.000,  1.000], mean action: 1.866 [0.000, 5.000],  loss: --, mae: --, mean_q: --\n",
            " 46874/100000: episode: 78, duration: 18.281s, episode steps: 497, steps per second:  27, episode reward:  8.000, mean reward:  0.016 [ 0.000,  1.000], mean action: 1.911 [0.000, 5.000],  loss: --, mae: --, mean_q: --\n",
            " 47417/100000: episode: 79, duration: 21.014s, episode steps: 543, steps per second:  26, episode reward:  6.000, mean reward:  0.011 [ 0.000,  1.000], mean action: 2.013 [0.000, 5.000],  loss: --, mae: --, mean_q: --\n",
            " 48164/100000: episode: 80, duration: 28.532s, episode steps: 747, steps per second:  26, episode reward: 14.000, mean reward:  0.019 [ 0.000,  1.000], mean action: 2.307 [0.000, 5.000],  loss: --, mae: --, mean_q: --\n",
            " 48656/100000: episode: 81, duration: 18.715s, episode steps: 492, steps per second:  26, episode reward:  7.000, mean reward:  0.014 [ 0.000,  1.000], mean action: 1.939 [0.000, 5.000],  loss: --, mae: --, mean_q: --\n",
            " 49276/100000: episode: 82, duration: 24.128s, episode steps: 620, steps per second:  26, episode reward:  9.000, mean reward:  0.015 [ 0.000,  1.000], mean action: 1.955 [0.000, 5.000],  loss: --, mae: --, mean_q: --\n",
            " 49698/100000: episode: 83, duration: 16.029s, episode steps: 422, steps per second:  26, episode reward:  6.000, mean reward:  0.014 [ 0.000,  1.000], mean action: 1.604 [0.000, 5.000],  loss: --, mae: --, mean_q: --\n",
            " 50081/100000: episode: 84, duration: 20.671s, episode steps: 383, steps per second:  19, episode reward:  7.000, mean reward:  0.018 [ 0.000,  1.000], mean action: 2.211 [0.000, 5.000],  loss: 0.011899, mae: 0.470821, mean_q: 0.573258\n",
            " 50941/100000: episode: 85, duration: 97.307s, episode steps: 860, steps per second:   9, episode reward: 16.000, mean reward:  0.019 [ 0.000,  1.000], mean action: 2.340 [0.000, 5.000],  loss: 0.007585, mae: 0.461467, mean_q: 0.562377\n",
            " 51898/100000: episode: 86, duration: 107.066s, episode steps: 957, steps per second:   9, episode reward: 21.000, mean reward:  0.022 [ 0.000,  1.000], mean action: 2.358 [0.000, 5.000],  loss: 0.009140, mae: 0.467093, mean_q: 0.570690\n",
            " 52591/100000: episode: 87, duration: 76.434s, episode steps: 693, steps per second:   9, episode reward:  8.000, mean reward:  0.012 [ 0.000,  1.000], mean action: 3.017 [0.000, 5.000],  loss: 0.007295, mae: 0.458989, mean_q: 0.560965\n",
            " 53512/100000: episode: 88, duration: 104.002s, episode steps: 921, steps per second:   9, episode reward:  9.000, mean reward:  0.010 [ 0.000,  1.000], mean action: 2.106 [0.000, 5.000],  loss: 0.009211, mae: 0.461244, mean_q: 0.562269\n",
            " 54105/100000: episode: 89, duration: 65.685s, episode steps: 593, steps per second:   9, episode reward:  7.000, mean reward:  0.012 [ 0.000,  1.000], mean action: 2.467 [0.000, 5.000],  loss: 0.009200, mae: 0.462206, mean_q: 0.564263\n",
            " 55223/100000: episode: 90, duration: 123.467s, episode steps: 1118, steps per second:   9, episode reward: 16.000, mean reward:  0.014 [ 0.000,  1.000], mean action: 2.846 [0.000, 5.000],  loss: 0.008655, mae: 0.464034, mean_q: 0.567455\n",
            " 55820/100000: episode: 91, duration: 66.908s, episode steps: 597, steps per second:   9, episode reward:  8.000, mean reward:  0.013 [ 0.000,  1.000], mean action: 2.057 [0.000, 5.000],  loss: 0.010149, mae: 0.460136, mean_q: 0.560733\n",
            " 56495/100000: episode: 92, duration: 75.792s, episode steps: 675, steps per second:   9, episode reward:  7.000, mean reward:  0.010 [ 0.000,  1.000], mean action: 2.673 [0.000, 5.000],  loss: 0.008323, mae: 0.463082, mean_q: 0.563850\n",
            " 57172/100000: episode: 93, duration: 75.467s, episode steps: 677, steps per second:   9, episode reward:  8.000, mean reward:  0.012 [ 0.000,  1.000], mean action: 2.211 [0.000, 5.000],  loss: 0.008929, mae: 0.461572, mean_q: 0.562346\n",
            " 57842/100000: episode: 94, duration: 74.216s, episode steps: 670, steps per second:   9, episode reward:  6.000, mean reward:  0.009 [ 0.000,  1.000], mean action: 2.372 [0.000, 5.000],  loss: 0.009541, mae: 0.459924, mean_q: 0.560101\n",
            " 58258/100000: episode: 95, duration: 47.257s, episode steps: 416, steps per second:   9, episode reward:  6.000, mean reward:  0.014 [ 0.000,  1.000], mean action: 2.421 [0.000, 5.000],  loss: 0.006777, mae: 0.463308, mean_q: 0.565211\n",
            " 58901/100000: episode: 96, duration: 71.137s, episode steps: 643, steps per second:   9, episode reward:  7.000, mean reward:  0.011 [ 0.000,  1.000], mean action: 2.331 [0.000, 5.000],  loss: 0.008379, mae: 0.458121, mean_q: 0.557797\n",
            " 59413/100000: episode: 97, duration: 56.788s, episode steps: 512, steps per second:   9, episode reward:  7.000, mean reward:  0.014 [ 0.000,  1.000], mean action: 2.385 [0.000, 5.000],  loss: 0.009820, mae: 0.456300, mean_q: 0.555221\n",
            " 60363/100000: episode: 98, duration: 107.343s, episode steps: 950, steps per second:   9, episode reward: 16.000, mean reward:  0.017 [ 0.000,  1.000], mean action: 2.587 [0.000, 5.000],  loss: 0.007927, mae: 0.462458, mean_q: 0.563792\n",
            " 60825/100000: episode: 99, duration: 51.254s, episode steps: 462, steps per second:   9, episode reward:  5.000, mean reward:  0.011 [ 0.000,  1.000], mean action: 2.439 [0.000, 5.000],  loss: 0.009051, mae: 0.485600, mean_q: 0.591528\n",
            " 61614/100000: episode: 100, duration: 89.306s, episode steps: 789, steps per second:   9, episode reward:  8.000, mean reward:  0.010 [ 0.000,  1.000], mean action: 2.454 [0.000, 5.000],  loss: 0.008279, mae: 0.470730, mean_q: 0.573296\n",
            " 63069/100000: episode: 101, duration: 162.651s, episode steps: 1455, steps per second:   9, episode reward: 28.000, mean reward:  0.019 [ 0.000,  1.000], mean action: 2.470 [0.000, 5.000],  loss: 0.008650, mae: 0.474167, mean_q: 0.577257\n",
            " 63612/100000: episode: 102, duration: 62.469s, episode steps: 543, steps per second:   9, episode reward:  3.000, mean reward:  0.006 [ 0.000,  1.000], mean action: 2.599 [0.000, 5.000],  loss: 0.008878, mae: 0.475196, mean_q: 0.578964\n",
            " 64276/100000: episode: 103, duration: 75.236s, episode steps: 664, steps per second:   9, episode reward:  8.000, mean reward:  0.012 [ 0.000,  1.000], mean action: 2.116 [0.000, 5.000],  loss: 0.008952, mae: 0.474760, mean_q: 0.579468\n",
            " 65375/100000: episode: 104, duration: 124.278s, episode steps: 1099, steps per second:   9, episode reward: 12.000, mean reward:  0.011 [ 0.000,  1.000], mean action: 2.945 [0.000, 5.000],  loss: 0.008650, mae: 0.472862, mean_q: 0.577605\n",
            " 65918/100000: episode: 105, duration: 60.998s, episode steps: 543, steps per second:   9, episode reward:  3.000, mean reward:  0.006 [ 0.000,  1.000], mean action: 2.663 [0.000, 5.000],  loss: 0.007641, mae: 0.472467, mean_q: 0.576403\n",
            " 66255/100000: episode: 106, duration: 38.547s, episode steps: 337, steps per second:   9, episode reward:  5.000, mean reward:  0.015 [ 0.000,  1.000], mean action: 2.724 [0.000, 5.000],  loss: 0.008179, mae: 0.477123, mean_q: 0.582622\n",
            " 66883/100000: episode: 107, duration: 70.382s, episode steps: 628, steps per second:   9, episode reward:  9.000, mean reward:  0.014 [ 0.000,  1.000], mean action: 2.600 [0.000, 5.000],  loss: 0.009653, mae: 0.473603, mean_q: 0.575088\n",
            " 67270/100000: episode: 108, duration: 43.159s, episode steps: 387, steps per second:   9, episode reward:  6.000, mean reward:  0.016 [ 0.000,  1.000], mean action: 2.481 [0.000, 5.000],  loss: 0.009257, mae: 0.477810, mean_q: 0.582364\n",
            " 67778/100000: episode: 109, duration: 56.855s, episode steps: 508, steps per second:   9, episode reward: 12.000, mean reward:  0.024 [ 0.000,  1.000], mean action: 2.795 [0.000, 5.000],  loss: 0.009232, mae: 0.477890, mean_q: 0.582140\n",
            " 68275/100000: episode: 110, duration: 56.319s, episode steps: 497, steps per second:   9, episode reward: 10.000, mean reward:  0.020 [ 0.000,  1.000], mean action: 3.040 [0.000, 5.000],  loss: 0.009591, mae: 0.479855, mean_q: 0.584684\n",
            " 68928/100000: episode: 111, duration: 74.999s, episode steps: 653, steps per second:   9, episode reward: 14.000, mean reward:  0.021 [ 0.000,  1.000], mean action: 2.632 [0.000, 5.000],  loss: 0.008246, mae: 0.477007, mean_q: 0.580493\n",
            " 69828/100000: episode: 112, duration: 100.678s, episode steps: 900, steps per second:   9, episode reward: 12.000, mean reward:  0.013 [ 0.000,  1.000], mean action: 3.036 [0.000, 5.000],  loss: 0.008559, mae: 0.473447, mean_q: 0.576109\n",
            " 70534/100000: episode: 113, duration: 81.460s, episode steps: 706, steps per second:   9, episode reward:  7.000, mean reward:  0.010 [ 0.000,  1.000], mean action: 1.401 [0.000, 5.000],  loss: 0.008510, mae: 0.493796, mean_q: 0.603009\n",
            " 71167/100000: episode: 114, duration: 70.872s, episode steps: 633, steps per second:   9, episode reward:  7.000, mean reward:  0.011 [ 0.000,  1.000], mean action: 1.657 [0.000, 5.000],  loss: 0.008433, mae: 0.496612, mean_q: 0.604471\n",
            " 71549/100000: episode: 115, duration: 43.096s, episode steps: 382, steps per second:   9, episode reward:  6.000, mean reward:  0.016 [ 0.000,  1.000], mean action: 2.034 [0.000, 5.000],  loss: 0.006885, mae: 0.503441, mean_q: 0.613772\n",
            " 72217/100000: episode: 116, duration: 74.428s, episode steps: 668, steps per second:   9, episode reward: 10.000, mean reward:  0.015 [ 0.000,  1.000], mean action: 2.216 [0.000, 5.000],  loss: 0.008412, mae: 0.500870, mean_q: 0.608064\n",
            " 72898/100000: episode: 117, duration: 77.774s, episode steps: 681, steps per second:   9, episode reward:  8.000, mean reward:  0.012 [ 0.000,  1.000], mean action: 2.768 [0.000, 5.000],  loss: 0.008482, mae: 0.507184, mean_q: 0.616137\n",
            " 73363/100000: episode: 118, duration: 51.950s, episode steps: 465, steps per second:   9, episode reward:  6.000, mean reward:  0.013 [ 0.000,  1.000], mean action: 2.578 [0.000, 5.000],  loss: 0.006982, mae: 0.488520, mean_q: 0.595833\n",
            " 74074/100000: episode: 119, duration: 79.438s, episode steps: 711, steps per second:   9, episode reward: 12.000, mean reward:  0.017 [ 0.000,  1.000], mean action: 2.107 [0.000, 5.000],  loss: 0.008092, mae: 0.492733, mean_q: 0.599812\n",
            " 74472/100000: episode: 120, duration: 44.461s, episode steps: 398, steps per second:   9, episode reward:  6.000, mean reward:  0.015 [ 0.000,  1.000], mean action: 2.259 [0.000, 5.000],  loss: 0.007806, mae: 0.496978, mean_q: 0.604216\n",
            " 75126/100000: episode: 121, duration: 74.370s, episode steps: 654, steps per second:   9, episode reward: 15.000, mean reward:  0.023 [ 0.000,  1.000], mean action: 2.035 [0.000, 5.000],  loss: 0.008591, mae: 0.495557, mean_q: 0.602529\n",
            " 75480/100000: episode: 122, duration: 39.539s, episode steps: 354, steps per second:   9, episode reward:  7.000, mean reward:  0.020 [ 0.000,  1.000], mean action: 2.435 [0.000, 5.000],  loss: 0.008128, mae: 0.496719, mean_q: 0.604331\n",
            " 76092/100000: episode: 123, duration: 68.315s, episode steps: 612, steps per second:   9, episode reward: 15.000, mean reward:  0.025 [ 0.000,  1.000], mean action: 2.737 [0.000, 5.000],  loss: 0.007520, mae: 0.491449, mean_q: 0.597383\n",
            " 76675/100000: episode: 124, duration: 65.281s, episode steps: 583, steps per second:   9, episode reward:  7.000, mean reward:  0.012 [ 0.000,  1.000], mean action: 2.995 [0.000, 5.000],  loss: 0.008430, mae: 0.510695, mean_q: 0.620977\n",
            " 77030/100000: episode: 125, duration: 40.201s, episode steps: 355, steps per second:   9, episode reward:  4.000, mean reward:  0.011 [ 0.000,  1.000], mean action: 2.485 [0.000, 5.000],  loss: 0.008238, mae: 0.499984, mean_q: 0.606971\n",
            " 77576/100000: episode: 126, duration: 61.036s, episode steps: 546, steps per second:   9, episode reward:  7.000, mean reward:  0.013 [ 0.000,  1.000], mean action: 1.788 [0.000, 5.000],  loss: 0.008128, mae: 0.496410, mean_q: 0.603047\n",
            " 78488/100000: episode: 127, duration: 103.443s, episode steps: 912, steps per second:   9, episode reward: 13.000, mean reward:  0.014 [ 0.000,  1.000], mean action: 1.615 [0.000, 5.000],  loss: 0.006993, mae: 0.498802, mean_q: 0.606901\n",
            " 78987/100000: episode: 128, duration: 56.318s, episode steps: 499, steps per second:   9, episode reward:  6.000, mean reward:  0.012 [ 0.000,  1.000], mean action: 1.814 [0.000, 5.000],  loss: 0.006706, mae: 0.490488, mean_q: 0.595898\n",
            " 79867/100000: episode: 129, duration: 98.860s, episode steps: 880, steps per second:   9, episode reward: 13.000, mean reward:  0.015 [ 0.000,  1.000], mean action: 1.609 [0.000, 5.000],  loss: 0.009429, mae: 0.507323, mean_q: 0.616447\n",
            " 81252/100000: episode: 130, duration: 156.443s, episode steps: 1385, steps per second:   9, episode reward: 19.000, mean reward:  0.014 [ 0.000,  1.000], mean action: 1.957 [0.000, 5.000],  loss: 0.008129, mae: 0.513245, mean_q: 0.625092\n",
            " 82191/100000: episode: 131, duration: 105.889s, episode steps: 939, steps per second:   9, episode reward: 24.000, mean reward:  0.026 [ 0.000,  1.000], mean action: 2.766 [0.000, 5.000],  loss: 0.008151, mae: 0.510499, mean_q: 0.621662\n",
            " 82719/100000: episode: 132, duration: 58.646s, episode steps: 528, steps per second:   9, episode reward:  9.000, mean reward:  0.017 [ 0.000,  1.000], mean action: 2.235 [0.000, 5.000],  loss: 0.008832, mae: 0.508237, mean_q: 0.618874\n",
            " 83327/100000: episode: 133, duration: 68.871s, episode steps: 608, steps per second:   9, episode reward: 10.000, mean reward:  0.016 [ 0.000,  1.000], mean action: 2.211 [0.000, 5.000],  loss: 0.007944, mae: 0.507657, mean_q: 0.617901\n",
            " 84310/100000: episode: 134, duration: 112.454s, episode steps: 983, steps per second:   9, episode reward: 19.000, mean reward:  0.019 [ 0.000,  1.000], mean action: 2.148 [0.000, 5.000],  loss: 0.009110, mae: 0.510699, mean_q: 0.622029\n",
            " 84745/100000: episode: 135, duration: 48.051s, episode steps: 435, steps per second:   9, episode reward:  7.000, mean reward:  0.016 [ 0.000,  1.000], mean action: 2.237 [0.000, 5.000],  loss: 0.007841, mae: 0.504246, mean_q: 0.613866\n",
            " 86015/100000: episode: 136, duration: 141.782s, episode steps: 1270, steps per second:   9, episode reward: 19.000, mean reward:  0.015 [ 0.000,  1.000], mean action: 2.361 [0.000, 5.000],  loss: 0.008875, mae: 0.513624, mean_q: 0.623806\n",
            " 86810/100000: episode: 137, duration: 87.617s, episode steps: 795, steps per second:   9, episode reward: 16.000, mean reward:  0.020 [ 0.000,  1.000], mean action: 2.312 [0.000, 5.000],  loss: 0.009645, mae: 0.514073, mean_q: 0.624038\n",
            " 87913/100000: episode: 138, duration: 122.350s, episode steps: 1103, steps per second:   9, episode reward: 19.000, mean reward:  0.017 [ 0.000,  1.000], mean action: 2.765 [0.000, 5.000],  loss: 0.007674, mae: 0.507886, mean_q: 0.617990\n",
            " 88687/100000: episode: 139, duration: 85.240s, episode steps: 774, steps per second:   9, episode reward:  9.000, mean reward:  0.012 [ 0.000,  1.000], mean action: 2.745 [0.000, 5.000],  loss: 0.008503, mae: 0.514025, mean_q: 0.624958\n",
            " 89098/100000: episode: 140, duration: 46.198s, episode steps: 411, steps per second:   9, episode reward:  5.000, mean reward:  0.012 [ 0.000,  1.000], mean action: 2.725 [0.000, 5.000],  loss: 0.009352, mae: 0.514189, mean_q: 0.626408\n",
            " 89707/100000: episode: 141, duration: 67.826s, episode steps: 609, steps per second:   9, episode reward:  7.000, mean reward:  0.011 [ 0.000,  1.000], mean action: 2.452 [0.000, 5.000],  loss: 0.007358, mae: 0.503031, mean_q: 0.612390\n",
            " 90396/100000: episode: 142, duration: 76.937s, episode steps: 689, steps per second:   9, episode reward:  8.000, mean reward:  0.012 [ 0.000,  1.000], mean action: 2.694 [0.000, 5.000],  loss: 0.008467, mae: 0.521951, mean_q: 0.635922\n",
            " 90792/100000: episode: 143, duration: 45.513s, episode steps: 396, steps per second:   9, episode reward:  6.000, mean reward:  0.015 [ 0.000,  1.000], mean action: 2.573 [0.000, 5.000],  loss: 0.008776, mae: 0.541605, mean_q: 0.659118\n",
            " 91317/100000: episode: 144, duration: 58.222s, episode steps: 525, steps per second:   9, episode reward:  7.000, mean reward:  0.013 [ 0.000,  1.000], mean action: 1.688 [0.000, 5.000],  loss: 0.008812, mae: 0.535225, mean_q: 0.651342\n",
            " 92133/100000: episode: 145, duration: 91.719s, episode steps: 816, steps per second:   9, episode reward: 13.000, mean reward:  0.016 [ 0.000,  1.000], mean action: 1.917 [0.000, 5.000],  loss: 0.008269, mae: 0.529614, mean_q: 0.645069\n",
            " 92537/100000: episode: 146, duration: 45.505s, episode steps: 404, steps per second:   9, episode reward:  6.000, mean reward:  0.015 [ 0.000,  1.000], mean action: 1.936 [0.000, 5.000],  loss: 0.011380, mae: 0.539993, mean_q: 0.655800\n",
            " 93394/100000: episode: 147, duration: 95.825s, episode steps: 857, steps per second:   9, episode reward: 11.000, mean reward:  0.013 [ 0.000,  1.000], mean action: 2.635 [0.000, 5.000],  loss: 0.009026, mae: 0.536574, mean_q: 0.654693\n",
            " 94079/100000: episode: 148, duration: 77.302s, episode steps: 685, steps per second:   9, episode reward: 15.000, mean reward:  0.022 [ 0.000,  1.000], mean action: 2.334 [0.000, 5.000],  loss: 0.008717, mae: 0.537750, mean_q: 0.654065\n",
            " 94869/100000: episode: 149, duration: 87.508s, episode steps: 790, steps per second:   9, episode reward: 14.000, mean reward:  0.018 [ 0.000,  1.000], mean action: 2.300 [0.000, 5.000],  loss: 0.010053, mae: 0.529123, mean_q: 0.643357\n",
            " 95495/100000: episode: 150, duration: 69.239s, episode steps: 626, steps per second:   9, episode reward: 10.000, mean reward:  0.016 [ 0.000,  1.000], mean action: 2.804 [0.000, 5.000],  loss: 0.008347, mae: 0.533234, mean_q: 0.648501\n",
            " 96180/100000: episode: 151, duration: 78.002s, episode steps: 685, steps per second:   9, episode reward: 11.000, mean reward:  0.016 [ 0.000,  1.000], mean action: 1.442 [0.000, 5.000],  loss: 0.008990, mae: 0.533165, mean_q: 0.649106\n",
            " 96794/100000: episode: 152, duration: 68.782s, episode steps: 614, steps per second:   9, episode reward:  7.000, mean reward:  0.011 [ 0.000,  1.000], mean action: 2.493 [0.000, 5.000],  loss: 0.009341, mae: 0.532711, mean_q: 0.648096\n",
            " 97441/100000: episode: 153, duration: 71.894s, episode steps: 647, steps per second:   9, episode reward:  9.000, mean reward:  0.014 [ 0.000,  1.000], mean action: 2.470 [0.000, 5.000],  loss: 0.007976, mae: 0.530775, mean_q: 0.645549\n",
            " 98466/100000: episode: 154, duration: 113.842s, episode steps: 1025, steps per second:   9, episode reward: 23.000, mean reward:  0.022 [ 0.000,  1.000], mean action: 1.918 [0.000, 5.000],  loss: 0.008925, mae: 0.527187, mean_q: 0.641228\n",
            " 99424/100000: episode: 155, duration: 107.134s, episode steps: 958, steps per second:   9, episode reward: 10.000, mean reward:  0.010 [ 0.000,  1.000], mean action: 1.690 [0.000, 5.000],  loss: 0.010070, mae: 0.532430, mean_q: 0.647334\n",
            "done, took 7535.155 seconds\n",
            "Entrenamiento hasta 500000 pasos completado y guardado.\n"
          ]
        }
      ],
      "source": [
        "# Cargar pesos anteriores si existen\n",
        "latest_path, trained_steps = load_latest_weights(dqn, checkpoint_dir)\n",
        "if latest_path:\n",
        "    dqn.load_weights(latest_path)\n",
        "else:\n",
        "    trained_steps = 0\n",
        "\n",
        "# Definir pasos a entrenar\n",
        "steps_to_train = 100000\n",
        "total_steps = trained_steps + steps_to_train\n",
        "\n",
        "# Crear paths y callbacks dinámicos\n",
        "log_path = os.path.join(log_dir, f\"dqn_noisy_log_{trained_steps}_{total_steps}.json\")\n",
        "checkpoint_path = os.path.join(checkpoint_dir, f\"dqn_noisy_weights_{total_steps}.h5\")\n",
        "\n",
        "logger_callback = FileLogger(log_path, interval=100)\n",
        "checkpoint_callback = ModelIntervalCheckpoint(checkpoint_path, interval=10000)\n",
        "\n",
        "# Entrenar agente\n",
        "dqn.fit(env, nb_steps=steps_to_train, visualize=False, verbose=2,\n",
        "        callbacks=[checkpoint_callback, logger_callback])\n",
        "\n",
        "# Guardar pesos finales\n",
        "dqn.save_weights(checkpoint_path, overwrite=True)\n",
        "\n",
        "# Guardar la memoria de experiencia\n",
        "import pickle\n",
        "with open('memory_noisy.pkl', 'wb') as f:\n",
        "    pickle.dump(memory, f)\n",
        "\n",
        "print(f\"Entrenamiento hasta {total_steps} pasos completado y guardado.\")"
      ]
    },
    {
      "cell_type": "code",
      "execution_count": null,
      "metadata": {
        "colab": {
          "background_save": true,
          "base_uri": "https://localhost:8080/"
        },
        "id": "9x6-wgiTDbRz",
        "outputId": "89e68ddb-3d69-4cdd-a016-5becdf80227f"
      },
      "outputs": [
        {
          "name": "stdout",
          "output_type": "stream",
          "text": [
            "Esperando 60 segundos...\n",
            "¡Tiempo de espera terminado!\n"
          ]
        }
      ],
      "source": [
        "import time\n",
        "\n",
        "print(\"Esperando 60 segundos...\")\n",
        "time.sleep(60)\n",
        "print(\"¡Tiempo de espera terminado!\")"
      ]
    },
    {
      "cell_type": "code",
      "execution_count": null,
      "metadata": {
        "colab": {
          "background_save": true
        },
        "id": "4Fvp-zjUDenQ",
        "outputId": "abd26b6c-5364-49d7-82f6-2c10c13241dd"
      },
      "outputs": [
        {
          "name": "stdout",
          "output_type": "stream",
          "text": [
            "✅ Cargando pesos desde: /content/gdrive/My Drive/MODELO 14/checkpoints/dqn_noisy_weights_500000.h5 (pasos entrenados: 500000)\n",
            "Testing for 10 episodes ...\n",
            "Episode 1: reward: 13.000, steps: 793\n",
            "Episode 2: reward: 16.000, steps: 1277\n",
            "Episode 3: reward: 7.000, steps: 658\n",
            "Episode 4: reward: 12.000, steps: 837\n",
            "Episode 5: reward: 6.000, steps: 684\n",
            "Episode 6: reward: 12.000, steps: 840\n",
            "Episode 7: reward: 13.000, steps: 873\n",
            "Episode 8: reward: 6.000, steps: 697\n",
            "Episode 9: reward: 13.000, steps: 825\n",
            "Episode 10: reward: 11.000, steps: 805\n"
          ]
        }
      ],
      "source": [
        "# Testear desde último checkpoint\n",
        "latest_path, trained_steps = load_latest_weights(dqn, checkpoint_dir)\n",
        "if latest_path:\n",
        "    dqn.test(env, nb_episodes=10, visualize=False)"
      ]
    },
    {
      "cell_type": "markdown",
      "metadata": {
        "id": "YUDYGUBohiiG"
      },
      "source": [
        "Parte 3"
      ]
    },
    {
      "cell_type": "code",
      "execution_count": null,
      "metadata": {
        "colab": {
          "background_save": true,
          "base_uri": "https://localhost:8080/"
        },
        "id": "gYx2dGVThmiH",
        "outputId": "0229bf79-679c-4341-9a28-56c9e26c30e9"
      },
      "outputs": [
        {
          "name": "stdout",
          "output_type": "stream",
          "text": [
            "✅ Cargando pesos desde: /content/gdrive/My Drive/MODELO 14/checkpoints/dqn_noisy_weights_500000.h5 (pasos entrenados: 500000)\n",
            "Training for 100000 steps ...\n",
            "   952/100000: episode: 1, duration: 37.268s, episode steps: 952, steps per second:  26, episode reward: 15.000, mean reward:  0.016 [ 0.000,  1.000], mean action: 2.321 [0.000, 5.000],  loss: --, mae: --, mean_q: --\n",
            "  1754/100000: episode: 2, duration: 29.867s, episode steps: 802, steps per second:  27, episode reward: 11.000, mean reward:  0.014 [ 0.000,  1.000], mean action: 2.458 [0.000, 5.000],  loss: --, mae: --, mean_q: --\n",
            "  2514/100000: episode: 3, duration: 34.790s, episode steps: 760, steps per second:  22, episode reward:  8.000, mean reward:  0.011 [ 0.000,  1.000], mean action: 2.262 [0.000, 5.000],  loss: --, mae: --, mean_q: --\n",
            "  3334/100000: episode: 4, duration: 30.523s, episode steps: 820, steps per second:  27, episode reward: 11.000, mean reward:  0.013 [ 0.000,  1.000], mean action: 2.504 [0.000, 5.000],  loss: --, mae: --, mean_q: --\n",
            "  4210/100000: episode: 5, duration: 32.803s, episode steps: 876, steps per second:  27, episode reward: 13.000, mean reward:  0.015 [ 0.000,  1.000], mean action: 1.932 [0.000, 5.000],  loss: --, mae: --, mean_q: --\n",
            "  5040/100000: episode: 6, duration: 31.903s, episode steps: 830, steps per second:  26, episode reward: 16.000, mean reward:  0.019 [ 0.000,  1.000], mean action: 2.294 [0.000, 5.000],  loss: --, mae: --, mean_q: --\n",
            "  5802/100000: episode: 7, duration: 28.578s, episode steps: 762, steps per second:  27, episode reward:  8.000, mean reward:  0.010 [ 0.000,  1.000], mean action: 2.262 [0.000, 5.000],  loss: --, mae: --, mean_q: --\n",
            "  6950/100000: episode: 8, duration: 44.839s, episode steps: 1148, steps per second:  26, episode reward: 18.000, mean reward:  0.016 [ 0.000,  1.000], mean action: 2.260 [0.000, 5.000],  loss: --, mae: --, mean_q: --\n",
            "  7733/100000: episode: 9, duration: 29.111s, episode steps: 783, steps per second:  27, episode reward:  9.000, mean reward:  0.011 [ 0.000,  1.000], mean action: 2.512 [0.000, 5.000],  loss: --, mae: --, mean_q: --\n",
            "  8413/100000: episode: 10, duration: 25.963s, episode steps: 680, steps per second:  26, episode reward:  6.000, mean reward:  0.009 [ 0.000,  1.000], mean action: 2.329 [0.000, 5.000],  loss: --, mae: --, mean_q: --\n",
            "  9433/100000: episode: 11, duration: 38.674s, episode steps: 1020, steps per second:  26, episode reward: 16.000, mean reward:  0.016 [ 0.000,  1.000], mean action: 2.310 [0.000, 5.000],  loss: --, mae: --, mean_q: --\n",
            " 10222/100000: episode: 12, duration: 29.687s, episode steps: 789, steps per second:  27, episode reward: 14.000, mean reward:  0.018 [ 0.000,  1.000], mean action: 2.369 [0.000, 5.000],  loss: --, mae: --, mean_q: --\n",
            " 10909/100000: episode: 13, duration: 26.065s, episode steps: 687, steps per second:  26, episode reward:  7.000, mean reward:  0.010 [ 0.000,  1.000], mean action: 1.974 [0.000, 5.000],  loss: --, mae: --, mean_q: --\n",
            " 11852/100000: episode: 14, duration: 34.780s, episode steps: 943, steps per second:  27, episode reward: 15.000, mean reward:  0.016 [ 0.000,  1.000], mean action: 2.147 [0.000, 5.000],  loss: --, mae: --, mean_q: --\n",
            " 13616/100000: episode: 15, duration: 68.345s, episode steps: 1764, steps per second:  26, episode reward: 14.000, mean reward:  0.008 [ 0.000,  1.000], mean action: 2.486 [0.000, 5.000],  loss: --, mae: --, mean_q: --\n",
            " 14276/100000: episode: 16, duration: 25.278s, episode steps: 660, steps per second:  26, episode reward:  8.000, mean reward:  0.012 [ 0.000,  1.000], mean action: 2.226 [0.000, 5.000],  loss: --, mae: --, mean_q: --\n",
            " 15466/100000: episode: 17, duration: 44.465s, episode steps: 1190, steps per second:  27, episode reward: 17.000, mean reward:  0.014 [ 0.000,  1.000], mean action: 2.353 [0.000, 5.000],  loss: --, mae: --, mean_q: --\n",
            " 16297/100000: episode: 18, duration: 32.315s, episode steps: 831, steps per second:  26, episode reward: 12.000, mean reward:  0.014 [ 0.000,  1.000], mean action: 2.226 [0.000, 5.000],  loss: --, mae: --, mean_q: --\n",
            " 16911/100000: episode: 19, duration: 22.047s, episode steps: 614, steps per second:  28, episode reward:  7.000, mean reward:  0.011 [ 0.000,  1.000], mean action: 1.987 [0.000, 5.000],  loss: --, mae: --, mean_q: --\n",
            " 17697/100000: episode: 20, duration: 29.288s, episode steps: 786, steps per second:  27, episode reward: 11.000, mean reward:  0.014 [ 0.000,  1.000], mean action: 2.406 [0.000, 5.000],  loss: --, mae: --, mean_q: --\n",
            " 19114/100000: episode: 21, duration: 61.440s, episode steps: 1417, steps per second:  23, episode reward: 19.000, mean reward:  0.013 [ 0.000,  1.000], mean action: 2.504 [0.000, 5.000],  loss: --, mae: --, mean_q: --\n",
            " 20113/100000: episode: 22, duration: 38.268s, episode steps: 999, steps per second:  26, episode reward: 13.000, mean reward:  0.013 [ 0.000,  1.000], mean action: 1.932 [0.000, 5.000],  loss: --, mae: --, mean_q: --\n",
            " 20765/100000: episode: 23, duration: 24.314s, episode steps: 652, steps per second:  27, episode reward: 10.000, mean reward:  0.015 [ 0.000,  1.000], mean action: 1.931 [0.000, 5.000],  loss: --, mae: --, mean_q: --\n",
            " 21409/100000: episode: 24, duration: 24.749s, episode steps: 644, steps per second:  26, episode reward:  7.000, mean reward:  0.011 [ 0.000,  1.000], mean action: 2.154 [0.000, 5.000],  loss: --, mae: --, mean_q: --\n",
            " 22292/100000: episode: 25, duration: 32.594s, episode steps: 883, steps per second:  27, episode reward: 14.000, mean reward:  0.016 [ 0.000,  1.000], mean action: 2.197 [0.000, 5.000],  loss: --, mae: --, mean_q: --\n",
            " 22944/100000: episode: 26, duration: 24.807s, episode steps: 652, steps per second:  26, episode reward:  7.000, mean reward:  0.011 [ 0.000,  1.000], mean action: 2.282 [0.000, 5.000],  loss: --, mae: --, mean_q: --\n",
            " 23570/100000: episode: 27, duration: 24.034s, episode steps: 626, steps per second:  26, episode reward:  9.000, mean reward:  0.014 [ 0.000,  1.000], mean action: 2.487 [0.000, 5.000],  loss: --, mae: --, mean_q: --\n",
            " 24209/100000: episode: 28, duration: 24.757s, episode steps: 639, steps per second:  26, episode reward:  7.000, mean reward:  0.011 [ 0.000,  1.000], mean action: 2.131 [0.000, 5.000],  loss: --, mae: --, mean_q: --\n",
            " 25028/100000: episode: 29, duration: 31.878s, episode steps: 819, steps per second:  26, episode reward: 10.000, mean reward:  0.012 [ 0.000,  1.000], mean action: 2.385 [0.000, 5.000],  loss: --, mae: --, mean_q: --\n",
            " 25853/100000: episode: 30, duration: 30.727s, episode steps: 825, steps per second:  27, episode reward: 12.000, mean reward:  0.015 [ 0.000,  1.000], mean action: 2.402 [0.000, 5.000],  loss: --, mae: --, mean_q: --\n",
            " 26730/100000: episode: 31, duration: 33.999s, episode steps: 877, steps per second:  26, episode reward: 12.000, mean reward:  0.014 [ 0.000,  1.000], mean action: 2.304 [0.000, 5.000],  loss: --, mae: --, mean_q: --\n",
            " 27531/100000: episode: 32, duration: 29.802s, episode steps: 801, steps per second:  27, episode reward: 11.000, mean reward:  0.014 [ 0.000,  1.000], mean action: 2.437 [0.000, 5.000],  loss: --, mae: --, mean_q: --\n",
            " 28340/100000: episode: 33, duration: 29.960s, episode steps: 809, steps per second:  27, episode reward: 14.000, mean reward:  0.017 [ 0.000,  1.000], mean action: 2.554 [0.000, 5.000],  loss: --, mae: --, mean_q: --\n",
            " 29016/100000: episode: 34, duration: 25.789s, episode steps: 676, steps per second:  26, episode reward:  9.000, mean reward:  0.013 [ 0.000,  1.000], mean action: 1.941 [0.000, 5.000],  loss: --, mae: --, mean_q: --\n",
            " 29691/100000: episode: 35, duration: 25.680s, episode steps: 675, steps per second:  26, episode reward:  8.000, mean reward:  0.012 [ 0.000,  1.000], mean action: 2.016 [0.000, 5.000],  loss: --, mae: --, mean_q: --\n",
            " 30507/100000: episode: 36, duration: 31.639s, episode steps: 816, steps per second:  26, episode reward: 11.000, mean reward:  0.013 [ 0.000,  1.000], mean action: 2.321 [0.000, 5.000],  loss: --, mae: --, mean_q: --\n",
            " 31682/100000: episode: 37, duration: 45.300s, episode steps: 1175, steps per second:  26, episode reward: 17.000, mean reward:  0.014 [ 0.000,  1.000], mean action: 2.209 [0.000, 5.000],  loss: --, mae: --, mean_q: --\n",
            " 32359/100000: episode: 38, duration: 25.578s, episode steps: 677, steps per second:  26, episode reward:  7.000, mean reward:  0.010 [ 0.000,  1.000], mean action: 1.979 [0.000, 5.000],  loss: --, mae: --, mean_q: --\n",
            " 33171/100000: episode: 39, duration: 30.110s, episode steps: 812, steps per second:  27, episode reward: 11.000, mean reward:  0.014 [ 0.000,  1.000], mean action: 2.409 [0.000, 5.000],  loss: --, mae: --, mean_q: --\n",
            " 33922/100000: episode: 40, duration: 28.125s, episode steps: 751, steps per second:  27, episode reward: 15.000, mean reward:  0.020 [ 0.000,  1.000], mean action: 1.663 [0.000, 5.000],  loss: --, mae: --, mean_q: --\n",
            " 35193/100000: episode: 41, duration: 48.612s, episode steps: 1271, steps per second:  26, episode reward: 16.000, mean reward:  0.013 [ 0.000,  1.000], mean action: 2.176 [0.000, 5.000],  loss: --, mae: --, mean_q: --\n",
            " 35586/100000: episode: 42, duration: 14.681s, episode steps: 393, steps per second:  27, episode reward:  8.000, mean reward:  0.020 [ 0.000,  1.000], mean action: 1.720 [0.000, 5.000],  loss: --, mae: --, mean_q: --\n",
            " 36390/100000: episode: 43, duration: 29.811s, episode steps: 804, steps per second:  27, episode reward: 10.000, mean reward:  0.012 [ 0.000,  1.000], mean action: 2.504 [0.000, 5.000],  loss: --, mae: --, mean_q: --\n",
            " 37246/100000: episode: 44, duration: 35.675s, episode steps: 856, steps per second:  24, episode reward: 12.000, mean reward:  0.014 [ 0.000,  1.000], mean action: 2.258 [0.000, 5.000],  loss: --, mae: --, mean_q: --\n",
            " 38816/100000: episode: 45, duration: 58.466s, episode steps: 1570, steps per second:  27, episode reward: 14.000, mean reward:  0.009 [ 0.000,  1.000], mean action: 2.236 [0.000, 5.000],  loss: --, mae: --, mean_q: --\n",
            " 39598/100000: episode: 46, duration: 29.036s, episode steps: 782, steps per second:  27, episode reward: 12.000, mean reward:  0.015 [ 0.000,  1.000], mean action: 1.734 [0.000, 5.000],  loss: --, mae: --, mean_q: --\n",
            " 40567/100000: episode: 47, duration: 37.717s, episode steps: 969, steps per second:  26, episode reward: 17.000, mean reward:  0.018 [ 0.000,  1.000], mean action: 2.543 [0.000, 5.000],  loss: --, mae: --, mean_q: --\n",
            " 41380/100000: episode: 48, duration: 30.046s, episode steps: 813, steps per second:  27, episode reward: 11.000, mean reward:  0.014 [ 0.000,  1.000], mean action: 2.474 [0.000, 5.000],  loss: --, mae: --, mean_q: --\n",
            " 42402/100000: episode: 49, duration: 38.653s, episode steps: 1022, steps per second:  26, episode reward: 16.000, mean reward:  0.016 [ 0.000,  1.000], mean action: 2.210 [0.000, 5.000],  loss: --, mae: --, mean_q: --\n",
            " 43065/100000: episode: 50, duration: 27.144s, episode steps: 663, steps per second:  24, episode reward:  6.000, mean reward:  0.009 [ 0.000,  1.000], mean action: 1.935 [0.000, 5.000],  loss: --, mae: --, mean_q: --\n",
            " 43949/100000: episode: 51, duration: 32.538s, episode steps: 884, steps per second:  27, episode reward: 12.000, mean reward:  0.014 [ 0.000,  1.000], mean action: 2.421 [0.000, 5.000],  loss: --, mae: --, mean_q: --\n",
            " 44608/100000: episode: 52, duration: 25.030s, episode steps: 659, steps per second:  26, episode reward:  6.000, mean reward:  0.009 [ 0.000,  1.000], mean action: 2.349 [0.000, 5.000],  loss: --, mae: --, mean_q: --\n",
            " 45300/100000: episode: 53, duration: 26.173s, episode steps: 692, steps per second:  26, episode reward:  8.000, mean reward:  0.012 [ 0.000,  1.000], mean action: 2.074 [0.000, 5.000],  loss: --, mae: --, mean_q: --\n",
            " 46013/100000: episode: 54, duration: 26.972s, episode steps: 713, steps per second:  26, episode reward:  6.000, mean reward:  0.008 [ 0.000,  1.000], mean action: 2.029 [0.000, 5.000],  loss: --, mae: --, mean_q: --\n",
            " 47376/100000: episode: 55, duration: 50.094s, episode steps: 1363, steps per second:  27, episode reward: 21.000, mean reward:  0.015 [ 0.000,  1.000], mean action: 2.437 [0.000, 5.000],  loss: --, mae: --, mean_q: --\n",
            " 48379/100000: episode: 56, duration: 38.054s, episode steps: 1003, steps per second:  26, episode reward: 17.000, mean reward:  0.017 [ 0.000,  1.000], mean action: 2.115 [0.000, 5.000],  loss: --, mae: --, mean_q: --\n",
            " 49184/100000: episode: 57, duration: 31.756s, episode steps: 805, steps per second:  25, episode reward: 17.000, mean reward:  0.021 [ 0.000,  1.000], mean action: 2.288 [0.000, 5.000],  loss: --, mae: --, mean_q: --\n",
            " 50043/100000: episode: 58, duration: 37.497s, episode steps: 859, steps per second:  23, episode reward: 12.000, mean reward:  0.014 [ 0.000,  1.000], mean action: 2.226 [0.000, 5.000],  loss: 0.006026, mae: 0.529672, mean_q: 0.649995\n",
            " 50684/100000: episode: 59, duration: 74.710s, episode steps: 641, steps per second:   9, episode reward:  9.000, mean reward:  0.014 [ 0.000,  1.000], mean action: 2.833 [0.000, 5.000],  loss: 0.008427, mae: 0.550036, mean_q: 0.668810\n",
            " 51645/100000: episode: 60, duration: 112.684s, episode steps: 961, steps per second:   9, episode reward: 22.000, mean reward:  0.023 [ 0.000,  1.000], mean action: 2.447 [0.000, 5.000],  loss: 0.008820, mae: 0.552150, mean_q: 0.672095\n",
            " 52200/100000: episode: 61, duration: 63.006s, episode steps: 555, steps per second:   9, episode reward:  7.000, mean reward:  0.013 [ 0.000,  1.000], mean action: 2.510 [0.000, 5.000],  loss: 0.007691, mae: 0.538434, mean_q: 0.656458\n",
            " 52730/100000: episode: 62, duration: 61.719s, episode steps: 530, steps per second:   9, episode reward:  8.000, mean reward:  0.015 [ 0.000,  1.000], mean action: 1.668 [0.000, 5.000],  loss: 0.008061, mae: 0.546162, mean_q: 0.664284\n",
            " 53244/100000: episode: 63, duration: 58.452s, episode steps: 514, steps per second:   9, episode reward:  8.000, mean reward:  0.016 [ 0.000,  1.000], mean action: 2.105 [0.000, 5.000],  loss: 0.007518, mae: 0.546075, mean_q: 0.664430\n",
            " 53840/100000: episode: 64, duration: 70.192s, episode steps: 596, steps per second:   8, episode reward:  4.000, mean reward:  0.007 [ 0.000,  1.000], mean action: 2.087 [0.000, 5.000],  loss: 0.009050, mae: 0.545146, mean_q: 0.662738\n",
            " 54445/100000: episode: 65, duration: 69.533s, episode steps: 605, steps per second:   9, episode reward:  8.000, mean reward:  0.013 [ 0.000,  1.000], mean action: 2.615 [0.000, 5.000],  loss: 0.009146, mae: 0.551780, mean_q: 0.671946\n",
            " 55084/100000: episode: 66, duration: 74.381s, episode steps: 639, steps per second:   9, episode reward: 11.000, mean reward:  0.017 [ 0.000,  1.000], mean action: 1.703 [0.000, 5.000],  loss: 0.007415, mae: 0.535804, mean_q: 0.652484\n",
            " 55764/100000: episode: 67, duration: 79.349s, episode steps: 680, steps per second:   9, episode reward: 10.000, mean reward:  0.015 [ 0.000,  1.000], mean action: 2.337 [0.000, 5.000],  loss: 0.008617, mae: 0.552027, mean_q: 0.673263\n",
            " 56255/100000: episode: 68, duration: 57.240s, episode steps: 491, steps per second:   9, episode reward:  7.000, mean reward:  0.014 [ 0.000,  1.000], mean action: 2.104 [0.000, 5.000],  loss: 0.009001, mae: 0.555492, mean_q: 0.675062\n",
            " 56646/100000: episode: 69, duration: 44.419s, episode steps: 391, steps per second:   9, episode reward:  8.000, mean reward:  0.020 [ 0.000,  1.000], mean action: 2.235 [0.000, 5.000],  loss: 0.008572, mae: 0.551411, mean_q: 0.668542\n",
            " 57280/100000: episode: 70, duration: 72.455s, episode steps: 634, steps per second:   9, episode reward:  7.000, mean reward:  0.011 [ 0.000,  1.000], mean action: 4.021 [0.000, 5.000],  loss: 0.009211, mae: 0.547332, mean_q: 0.667103\n",
            " 57895/100000: episode: 71, duration: 71.963s, episode steps: 615, steps per second:   9, episode reward:  6.000, mean reward:  0.010 [ 0.000,  1.000], mean action: 2.859 [0.000, 5.000],  loss: 0.009978, mae: 0.554975, mean_q: 0.673491\n",
            " 58532/100000: episode: 72, duration: 74.660s, episode steps: 637, steps per second:   9, episode reward:  8.000, mean reward:  0.013 [ 0.000,  1.000], mean action: 3.116 [0.000, 5.000],  loss: 0.009113, mae: 0.552529, mean_q: 0.669858\n",
            " 59061/100000: episode: 73, duration: 60.336s, episode steps: 529, steps per second:   9, episode reward:  8.000, mean reward:  0.015 [ 0.000,  1.000], mean action: 2.174 [0.000, 5.000],  loss: 0.008122, mae: 0.541718, mean_q: 0.659326\n",
            " 59908/100000: episode: 74, duration: 98.650s, episode steps: 847, steps per second:   9, episode reward: 12.000, mean reward:  0.014 [ 0.000,  1.000], mean action: 3.464 [0.000, 5.000],  loss: 0.009594, mae: 0.549945, mean_q: 0.668805\n",
            " 60727/100000: episode: 75, duration: 95.291s, episode steps: 819, steps per second:   9, episode reward: 10.000, mean reward:  0.012 [ 0.000,  1.000], mean action: 2.468 [0.000, 5.000],  loss: 0.008523, mae: 0.556027, mean_q: 0.677626\n",
            " 61389/100000: episode: 76, duration: 78.546s, episode steps: 662, steps per second:   8, episode reward:  9.000, mean reward:  0.014 [ 0.000,  1.000], mean action: 1.844 [0.000, 5.000],  loss: 0.010023, mae: 0.560315, mean_q: 0.682472\n",
            " 62070/100000: episode: 77, duration: 78.399s, episode steps: 681, steps per second:   9, episode reward: 10.000, mean reward:  0.015 [ 0.000,  1.000], mean action: 2.261 [0.000, 5.000],  loss: 0.008683, mae: 0.561815, mean_q: 0.683342\n",
            " 62926/100000: episode: 78, duration: 98.186s, episode steps: 856, steps per second:   9, episode reward: 12.000, mean reward:  0.014 [ 0.000,  1.000], mean action: 2.808 [0.000, 5.000],  loss: 0.007769, mae: 0.567726, mean_q: 0.692723\n",
            " 63636/100000: episode: 79, duration: 82.863s, episode steps: 710, steps per second:   9, episode reward: 15.000, mean reward:  0.021 [ 0.000,  1.000], mean action: 2.420 [0.000, 5.000],  loss: 0.008720, mae: 0.560569, mean_q: 0.682950\n",
            " 64131/100000: episode: 80, duration: 56.397s, episode steps: 495, steps per second:   9, episode reward:  7.000, mean reward:  0.014 [ 0.000,  1.000], mean action: 2.287 [0.000, 5.000],  loss: 0.008096, mae: 0.563356, mean_q: 0.685485\n",
            " 64932/100000: episode: 81, duration: 94.111s, episode steps: 801, steps per second:   9, episode reward: 15.000, mean reward:  0.019 [ 0.000,  1.000], mean action: 2.463 [0.000, 5.000],  loss: 0.008038, mae: 0.559265, mean_q: 0.680380\n",
            " 65290/100000: episode: 82, duration: 41.051s, episode steps: 358, steps per second:   9, episode reward:  5.000, mean reward:  0.014 [ 0.000,  1.000], mean action: 2.589 [0.000, 5.000],  loss: 0.007911, mae: 0.559801, mean_q: 0.680608\n",
            " 65817/100000: episode: 83, duration: 59.546s, episode steps: 527, steps per second:   9, episode reward:  5.000, mean reward:  0.009 [ 0.000,  1.000], mean action: 3.008 [0.000, 5.000],  loss: 0.006909, mae: 0.570030, mean_q: 0.694546\n",
            " 66623/100000: episode: 84, duration: 92.799s, episode steps: 806, steps per second:   9, episode reward: 10.000, mean reward:  0.012 [ 0.000,  1.000], mean action: 2.386 [0.000, 5.000],  loss: 0.007804, mae: 0.559815, mean_q: 0.681348\n",
            " 67262/100000: episode: 85, duration: 74.282s, episode steps: 639, steps per second:   9, episode reward:  9.000, mean reward:  0.014 [ 0.000,  1.000], mean action: 2.463 [0.000, 5.000],  loss: 0.007804, mae: 0.560854, mean_q: 0.682537\n",
            " 67848/100000: episode: 86, duration: 67.175s, episode steps: 586, steps per second:   9, episode reward: 10.000, mean reward:  0.017 [ 0.000,  1.000], mean action: 2.609 [0.000, 5.000],  loss: 0.007798, mae: 0.565384, mean_q: 0.687451\n",
            " 68238/100000: episode: 87, duration: 45.982s, episode steps: 390, steps per second:   8, episode reward:  8.000, mean reward:  0.021 [ 0.000,  1.000], mean action: 2.300 [0.000, 5.000],  loss: 0.009453, mae: 0.563061, mean_q: 0.684535\n",
            " 69499/100000: episode: 88, duration: 144.981s, episode steps: 1261, steps per second:   9, episode reward: 19.000, mean reward:  0.015 [ 0.000,  1.000], mean action: 2.803 [0.000, 5.000],  loss: 0.008788, mae: 0.565387, mean_q: 0.686330\n",
            " 71021/100000: episode: 89, duration: 176.338s, episode steps: 1522, steps per second:   9, episode reward: 25.000, mean reward:  0.016 [ 0.000,  1.000], mean action: 2.212 [0.000, 5.000],  loss: 0.008316, mae: 0.575675, mean_q: 0.699952\n",
            " 71656/100000: episode: 90, duration: 71.650s, episode steps: 635, steps per second:   9, episode reward: 10.000, mean reward:  0.016 [ 0.000,  1.000], mean action: 2.732 [0.000, 5.000],  loss: 0.007783, mae: 0.578043, mean_q: 0.702081\n",
            " 72286/100000: episode: 91, duration: 74.622s, episode steps: 630, steps per second:   8, episode reward:  7.000, mean reward:  0.011 [ 0.000,  1.000], mean action: 2.151 [0.000, 5.000],  loss: 0.009315, mae: 0.580832, mean_q: 0.704859\n",
            " 72937/100000: episode: 92, duration: 74.139s, episode steps: 651, steps per second:   9, episode reward: 11.000, mean reward:  0.017 [ 0.000,  1.000], mean action: 1.972 [0.000, 5.000],  loss: 0.009058, mae: 0.588223, mean_q: 0.713774\n",
            " 73972/100000: episode: 93, duration: 119.882s, episode steps: 1035, steps per second:   9, episode reward: 17.000, mean reward:  0.016 [ 0.000,  1.000], mean action: 2.746 [0.000, 5.000],  loss: 0.008212, mae: 0.585059, mean_q: 0.710221\n",
            " 74629/100000: episode: 94, duration: 74.052s, episode steps: 657, steps per second:   9, episode reward: 11.000, mean reward:  0.017 [ 0.000,  1.000], mean action: 2.956 [0.000, 5.000],  loss: 0.008252, mae: 0.584434, mean_q: 0.710824\n",
            " 75120/100000: episode: 95, duration: 56.114s, episode steps: 491, steps per second:   9, episode reward:  8.000, mean reward:  0.016 [ 0.000,  1.000], mean action: 2.458 [0.000, 5.000],  loss: 0.009267, mae: 0.587013, mean_q: 0.712040\n",
            " 75952/100000: episode: 96, duration: 96.616s, episode steps: 832, steps per second:   9, episode reward: 15.000, mean reward:  0.018 [ 0.000,  1.000], mean action: 2.879 [0.000, 5.000],  loss: 0.008983, mae: 0.588886, mean_q: 0.715525\n",
            " 76637/100000: episode: 97, duration: 78.934s, episode steps: 685, steps per second:   9, episode reward: 11.000, mean reward:  0.016 [ 0.000,  1.000], mean action: 2.418 [0.000, 5.000],  loss: 0.006793, mae: 0.586173, mean_q: 0.711846\n",
            " 77329/100000: episode: 98, duration: 79.478s, episode steps: 692, steps per second:   9, episode reward: 12.000, mean reward:  0.017 [ 0.000,  1.000], mean action: 1.357 [0.000, 5.000],  loss: 0.008535, mae: 0.585088, mean_q: 0.711817\n",
            " 77850/100000: episode: 99, duration: 59.969s, episode steps: 521, steps per second:   9, episode reward: 10.000, mean reward:  0.019 [ 0.000,  1.000], mean action: 2.138 [0.000, 5.000],  loss: 0.008307, mae: 0.585419, mean_q: 0.709991\n",
            " 78634/100000: episode: 100, duration: 90.069s, episode steps: 784, steps per second:   9, episode reward: 13.000, mean reward:  0.017 [ 0.000,  1.000], mean action: 2.358 [0.000, 5.000],  loss: 0.009705, mae: 0.589646, mean_q: 0.714236\n",
            " 79471/100000: episode: 101, duration: 97.327s, episode steps: 837, steps per second:   9, episode reward: 12.000, mean reward:  0.014 [ 0.000,  1.000], mean action: 1.805 [0.000, 5.000],  loss: 0.008627, mae: 0.583206, mean_q: 0.708934\n",
            " 80094/100000: episode: 102, duration: 71.536s, episode steps: 623, steps per second:   9, episode reward: 12.000, mean reward:  0.019 [ 0.000,  1.000], mean action: 2.047 [0.000, 5.000],  loss: 0.009867, mae: 0.589177, mean_q: 0.715939\n",
            " 80746/100000: episode: 103, duration: 74.999s, episode steps: 652, steps per second:   9, episode reward:  9.000, mean reward:  0.014 [ 0.000,  1.000], mean action: 2.500 [0.000, 5.000],  loss: 0.008707, mae: 0.606860, mean_q: 0.737675\n",
            " 81420/100000: episode: 104, duration: 78.145s, episode steps: 674, steps per second:   9, episode reward:  8.000, mean reward:  0.012 [ 0.000,  1.000], mean action: 2.239 [0.000, 5.000],  loss: 0.009415, mae: 0.615863, mean_q: 0.747461\n",
            " 82106/100000: episode: 105, duration: 78.401s, episode steps: 686, steps per second:   9, episode reward: 14.000, mean reward:  0.020 [ 0.000,  1.000], mean action: 1.426 [0.000, 5.000],  loss: 0.009049, mae: 0.610445, mean_q: 0.741610\n",
            " 82783/100000: episode: 106, duration: 78.798s, episode steps: 677, steps per second:   9, episode reward: 10.000, mean reward:  0.015 [ 0.000,  1.000], mean action: 2.409 [0.000, 5.000],  loss: 0.007835, mae: 0.608616, mean_q: 0.739862\n",
            " 84001/100000: episode: 107, duration: 138.236s, episode steps: 1218, steps per second:   9, episode reward: 11.000, mean reward:  0.009 [ 0.000,  1.000], mean action: 2.883 [0.000, 5.000],  loss: 0.008123, mae: 0.608865, mean_q: 0.741363\n",
            " 84368/100000: episode: 108, duration: 41.859s, episode steps: 367, steps per second:   9, episode reward:  5.000, mean reward:  0.014 [ 0.000,  1.000], mean action: 2.106 [0.000, 5.000],  loss: 0.008712, mae: 0.612362, mean_q: 0.744441\n",
            " 84743/100000: episode: 109, duration: 44.145s, episode steps: 375, steps per second:   8, episode reward:  5.000, mean reward:  0.013 [ 0.000,  1.000], mean action: 2.189 [0.000, 5.000],  loss: 0.007776, mae: 0.624214, mean_q: 0.760019\n",
            " 85398/100000: episode: 110, duration: 75.920s, episode steps: 655, steps per second:   9, episode reward:  6.000, mean reward:  0.009 [ 0.000,  1.000], mean action: 1.844 [0.000, 5.000],  loss: 0.009600, mae: 0.609959, mean_q: 0.740879\n",
            " 86252/100000: episode: 111, duration: 98.118s, episode steps: 854, steps per second:   9, episode reward: 12.000, mean reward:  0.014 [ 0.000,  1.000], mean action: 2.624 [0.000, 5.000],  loss: 0.008401, mae: 0.610793, mean_q: 0.743630\n",
            " 86856/100000: episode: 112, duration: 68.996s, episode steps: 604, steps per second:   9, episode reward:  6.000, mean reward:  0.010 [ 0.000,  1.000], mean action: 2.738 [0.000, 5.000],  loss: 0.009966, mae: 0.615879, mean_q: 0.747822\n",
            " 87411/100000: episode: 113, duration: 63.290s, episode steps: 555, steps per second:   9, episode reward:  7.000, mean reward:  0.013 [ 0.000,  1.000], mean action: 2.622 [0.000, 5.000],  loss: 0.007822, mae: 0.612146, mean_q: 0.744095\n",
            " 88007/100000: episode: 114, duration: 69.294s, episode steps: 596, steps per second:   9, episode reward:  6.000, mean reward:  0.010 [ 0.000,  1.000], mean action: 3.057 [0.000, 5.000],  loss: 0.010247, mae: 0.613671, mean_q: 0.744244\n",
            " 88868/100000: episode: 115, duration: 98.591s, episode steps: 861, steps per second:   9, episode reward: 14.000, mean reward:  0.016 [ 0.000,  1.000], mean action: 2.631 [0.000, 5.000],  loss: 0.008510, mae: 0.609260, mean_q: 0.740716\n",
            " 89312/100000: episode: 116, duration: 50.408s, episode steps: 444, steps per second:   9, episode reward: 10.000, mean reward:  0.023 [ 0.000,  1.000], mean action: 1.953 [0.000, 5.000],  loss: 0.008751, mae: 0.620559, mean_q: 0.753751\n",
            " 89694/100000: episode: 117, duration: 46.381s, episode steps: 382, steps per second:   8, episode reward:  6.000, mean reward:  0.016 [ 0.000,  1.000], mean action: 2.175 [0.000, 5.000],  loss: 0.008980, mae: 0.618698, mean_q: 0.751061\n",
            " 90452/100000: episode: 118, duration: 86.207s, episode steps: 758, steps per second:   9, episode reward: 12.000, mean reward:  0.016 [ 0.000,  1.000], mean action: 2.445 [0.000, 5.000],  loss: 0.009039, mae: 0.621360, mean_q: 0.755371\n",
            " 91602/100000: episode: 119, duration: 133.269s, episode steps: 1150, steps per second:   9, episode reward: 17.000, mean reward:  0.015 [ 0.000,  1.000], mean action: 2.436 [0.000, 5.000],  loss: 0.009703, mae: 0.636163, mean_q: 0.773711\n",
            " 92137/100000: episode: 120, duration: 60.206s, episode steps: 535, steps per second:   9, episode reward:  6.000, mean reward:  0.011 [ 0.000,  1.000], mean action: 2.316 [0.000, 5.000],  loss: 0.010781, mae: 0.640380, mean_q: 0.778524\n",
            " 92921/100000: episode: 121, duration: 91.571s, episode steps: 784, steps per second:   9, episode reward: 11.000, mean reward:  0.014 [ 0.000,  1.000], mean action: 2.111 [0.000, 5.000],  loss: 0.011088, mae: 0.643985, mean_q: 0.782477\n",
            " 93547/100000: episode: 122, duration: 70.897s, episode steps: 626, steps per second:   9, episode reward: 13.000, mean reward:  0.021 [ 0.000,  1.000], mean action: 2.173 [0.000, 5.000],  loss: 0.008612, mae: 0.637789, mean_q: 0.774888\n",
            " 94326/100000: episode: 123, duration: 89.672s, episode steps: 779, steps per second:   9, episode reward: 20.000, mean reward:  0.026 [ 0.000,  1.000], mean action: 2.187 [0.000, 5.000],  loss: 0.009017, mae: 0.630504, mean_q: 0.765935\n",
            " 94813/100000: episode: 124, duration: 58.036s, episode steps: 487, steps per second:   8, episode reward: 10.000, mean reward:  0.021 [ 0.000,  1.000], mean action: 1.733 [0.000, 5.000],  loss: 0.007525, mae: 0.636133, mean_q: 0.773362\n",
            " 95185/100000: episode: 125, duration: 42.590s, episode steps: 372, steps per second:   9, episode reward:  7.000, mean reward:  0.019 [ 0.000,  1.000], mean action: 1.866 [0.000, 5.000],  loss: 0.009109, mae: 0.632909, mean_q: 0.768422\n",
            " 95718/100000: episode: 126, duration: 60.020s, episode steps: 533, steps per second:   9, episode reward: 10.000, mean reward:  0.019 [ 0.000,  1.000], mean action: 2.169 [0.000, 5.000],  loss: 0.009082, mae: 0.627721, mean_q: 0.762076\n",
            " 96279/100000: episode: 127, duration: 66.096s, episode steps: 561, steps per second:   8, episode reward: 11.000, mean reward:  0.020 [ 0.000,  1.000], mean action: 2.399 [0.000, 5.000],  loss: 0.010166, mae: 0.645706, mean_q: 0.784186\n",
            " 97136/100000: episode: 128, duration: 97.519s, episode steps: 857, steps per second:   9, episode reward: 17.000, mean reward:  0.020 [ 0.000,  1.000], mean action: 2.314 [0.000, 5.000],  loss: 0.008563, mae: 0.631225, mean_q: 0.767563\n",
            " 97799/100000: episode: 129, duration: 77.770s, episode steps: 663, steps per second:   9, episode reward: 10.000, mean reward:  0.015 [ 0.000,  1.000], mean action: 2.538 [0.000, 5.000],  loss: 0.008787, mae: 0.626158, mean_q: 0.761122\n",
            " 98301/100000: episode: 130, duration: 56.692s, episode steps: 502, steps per second:   9, episode reward:  9.000, mean reward:  0.018 [ 0.000,  1.000], mean action: 2.454 [0.000, 5.000],  loss: 0.009544, mae: 0.638938, mean_q: 0.777111\n",
            " 98888/100000: episode: 131, duration: 66.845s, episode steps: 587, steps per second:   9, episode reward:  7.000, mean reward:  0.012 [ 0.000,  1.000], mean action: 1.954 [0.000, 5.000],  loss: 0.009046, mae: 0.631133, mean_q: 0.766587\n",
            " 99724/100000: episode: 132, duration: 97.619s, episode steps: 836, steps per second:   9, episode reward: 12.000, mean reward:  0.014 [ 0.000,  1.000], mean action: 1.560 [0.000, 5.000],  loss: 0.007739, mae: 0.636750, mean_q: 0.774857\n",
            "done, took 7684.923 seconds\n",
            "Entrenamiento hasta 600000 pasos completado y guardado.\n"
          ]
        }
      ],
      "source": [
        "# Cargar pesos anteriores si existen\n",
        "latest_path, trained_steps = load_latest_weights(dqn, checkpoint_dir)\n",
        "if latest_path:\n",
        "    dqn.load_weights(latest_path)\n",
        "else:\n",
        "    trained_steps = 0\n",
        "\n",
        "# Definir pasos a entrenar\n",
        "steps_to_train = 100000\n",
        "total_steps = trained_steps + steps_to_train\n",
        "\n",
        "# Crear paths y callbacks dinámicos\n",
        "log_path = os.path.join(log_dir, f\"dqn_noisy_log_{trained_steps}_{total_steps}.json\")\n",
        "checkpoint_path = os.path.join(checkpoint_dir, f\"dqn_noisy_weights_{total_steps}.h5\")\n",
        "\n",
        "logger_callback = FileLogger(log_path, interval=100)\n",
        "checkpoint_callback = ModelIntervalCheckpoint(checkpoint_path, interval=10000)\n",
        "\n",
        "# Entrenar agente\n",
        "dqn.fit(env, nb_steps=steps_to_train, visualize=False, verbose=2,\n",
        "        callbacks=[checkpoint_callback, logger_callback])\n",
        "\n",
        "# Guardar pesos finales\n",
        "dqn.save_weights(checkpoint_path, overwrite=True)\n",
        "\n",
        "# Guardar la memoria de experiencia\n",
        "import pickle\n",
        "with open('memory_noisy.pkl', 'wb') as f:\n",
        "    pickle.dump(memory, f)\n",
        "\n",
        "print(f\"Entrenamiento hasta {total_steps} pasos completado y guardado.\")"
      ]
    },
    {
      "cell_type": "code",
      "execution_count": null,
      "metadata": {
        "colab": {
          "background_save": true
        },
        "id": "f-su6JzKhq6e",
        "outputId": "b28fceb2-32f4-4c06-95ea-6fd4e1fcd472"
      },
      "outputs": [
        {
          "name": "stdout",
          "output_type": "stream",
          "text": [
            "Esperando 60 segundos...\n",
            "¡Tiempo de espera terminado!\n"
          ]
        }
      ],
      "source": [
        "import time\n",
        "\n",
        "print(\"Esperando 60 segundos...\")\n",
        "time.sleep(60)\n",
        "print(\"¡Tiempo de espera terminado!\")"
      ]
    },
    {
      "cell_type": "code",
      "execution_count": null,
      "metadata": {
        "id": "eFjQX9b6huX7"
      },
      "outputs": [],
      "source": [
        "# Testear desde último checkpoint\n",
        "latest_path, trained_steps = load_latest_weights(dqn, checkpoint_dir)\n",
        "if latest_path:\n",
        "    dqn.test(env, nb_episodes=10, visualize=False)"
      ]
    }
  ],
  "metadata": {
    "colab": {
      "provenance": [],
      "include_colab_link": true
    },
    "kernelspec": {
      "display_name": "Python 3",
      "name": "python3"
    },
    "language_info": {
      "name": "python"
    }
  },
  "nbformat": 4,
  "nbformat_minor": 0
}