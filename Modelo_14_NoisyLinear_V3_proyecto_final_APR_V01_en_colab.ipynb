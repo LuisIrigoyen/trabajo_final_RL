{
  "cells": [
    {
      "cell_type": "markdown",
      "metadata": {
        "id": "view-in-github",
        "colab_type": "text"
      },
      "source": [
        "<a href=\"https://colab.research.google.com/github/LuisIrigoyen/trabajo_final_RL/blob/pruebas_LuisIrigoyen/Modelo_14_NoisyLinear_V3_proyecto_final_APR_V01_en_colab.ipynb\" target=\"_parent\"><img src=\"https://colab.research.google.com/assets/colab-badge.svg\" alt=\"Open In Colab\"/></a>"
      ]
    },
    {
      "cell_type": "markdown",
      "metadata": {
        "id": "D89Ue2uZNtzn"
      },
      "source": [
        "## 1.2. Localizar entorno de trabajo: Google colab o local"
      ]
    },
    {
      "cell_type": "markdown",
      "metadata": {
        "id": "piJ-XjXrzhdZ"
      },
      "source": [
        "- Igual que 12, cambio paramétro: dqn.compile(optimizer=Adam(learning_rate=0.0001)\n",
        "- luego se modificó a dqn.compile(optimizer=Adam(learning_rate=1e-4)\n",
        "- se cambió policy = BoltzmannQPolicy() a policy = EpsGreedyQPolicy(eps=0.0)"
      ]
    },
    {
      "cell_type": "code",
      "execution_count": null,
      "metadata": {
        "id": "7EQ46sNGLj22"
      },
      "outputs": [],
      "source": [
        "# ATENCIÓN!! Modificar ruta relativa a la práctica si es distinta (drive_root)\n",
        "mount='/content/gdrive'\n",
        "drive_root = mount + \"/My Drive/MODELO 14/\"\n",
        "\n",
        "try:\n",
        "  from google.colab import drive\n",
        "  IN_COLAB=True\n",
        "except:\n",
        "  IN_COLAB=False"
      ]
    },
    {
      "cell_type": "markdown",
      "metadata": {
        "id": "6on2PNxZN51A"
      },
      "source": [
        "## 1.3. Montar carpeta de datos local (solo Colab)"
      ]
    },
    {
      "cell_type": "code",
      "execution_count": null,
      "metadata": {
        "colab": {
          "base_uri": "https://localhost:8080/"
        },
        "id": "inTxnmr0MKCH",
        "outputId": "fea0a8e9-16aa-4dc7-bfeb-ed78c3255ef4"
      },
      "outputs": [
        {
          "output_type": "stream",
          "name": "stdout",
          "text": [
            "We're running Colab\n",
            "Colab: mounting Google drive on  /content/gdrive\n",
            "Drive already mounted at /content/gdrive; to attempt to forcibly remount, call drive.mount(\"/content/gdrive\", force_remount=True).\n",
            "\n",
            "Colab: making sure  /content/gdrive/My Drive/MODELO 14/  exists.\n",
            "\n",
            "Colab: Changing directory to  /content/gdrive/My Drive/MODELO 14/\n",
            "/content/gdrive/My Drive/MODELO 14\n",
            "Archivos en el directorio: \n",
            "['logs', 'checkpoints', 'memory_noisy.pkl']\n"
          ]
        }
      ],
      "source": [
        "# Switch to the directory on the Google Drive that you want to use\n",
        "import os\n",
        "if IN_COLAB:\n",
        "  print(\"We're running Colab\")\n",
        "\n",
        "  if IN_COLAB:\n",
        "    # Mount the Google Drive at mount\n",
        "    print(\"Colab: mounting Google drive on \", mount)\n",
        "\n",
        "    drive.mount(mount)\n",
        "\n",
        "    # Create drive_root if it doesn't exist\n",
        "    create_drive_root = True\n",
        "    if create_drive_root:\n",
        "      print(\"\\nColab: making sure \", drive_root, \" exists.\")\n",
        "      os.makedirs(drive_root, exist_ok=True)\n",
        "\n",
        "    # Change to the directory\n",
        "    print(\"\\nColab: Changing directory to \", drive_root)\n",
        "    %cd $drive_root\n",
        "# Verify we're in the correct working directory\n",
        "%pwd\n",
        "print(\"Archivos en el directorio: \")\n",
        "print(os.listdir())"
      ]
    },
    {
      "cell_type": "markdown",
      "metadata": {
        "id": "MYrJ03QWN9Hw"
      },
      "source": [
        "## 1.4. Instalar librerías necesarias"
      ]
    },
    {
      "cell_type": "code",
      "execution_count": null,
      "metadata": {
        "colab": {
          "base_uri": "https://localhost:8080/"
        },
        "id": "zSbNMsl4MTo3",
        "outputId": "80938af7-ff72-4909-b04f-abbf08ad9db1"
      },
      "outputs": [
        {
          "output_type": "stream",
          "name": "stdout",
          "text": [
            "Requirement already satisfied: gym==0.17.3 in /usr/local/lib/python3.11/dist-packages (0.17.3)\n",
            "Requirement already satisfied: scipy in /usr/local/lib/python3.11/dist-packages (from gym==0.17.3) (1.15.3)\n",
            "Requirement already satisfied: numpy>=1.10.4 in /usr/local/lib/python3.11/dist-packages (from gym==0.17.3) (1.23.5)\n",
            "Requirement already satisfied: pyglet<=1.5.0,>=1.4.0 in /usr/local/lib/python3.11/dist-packages (from gym==0.17.3) (1.5.0)\n",
            "Requirement already satisfied: cloudpickle<1.7.0,>=1.2.0 in /usr/local/lib/python3.11/dist-packages (from gym==0.17.3) (1.6.0)\n",
            "Requirement already satisfied: future in /usr/local/lib/python3.11/dist-packages (from pyglet<=1.5.0,>=1.4.0->gym==0.17.3) (1.0.0)\n",
            "Collecting git+https://github.com/Kojoley/atari-py.git\n",
            "  Cloning https://github.com/Kojoley/atari-py.git to /tmp/pip-req-build-eolfz9cv\n",
            "  Running command git clone --filter=blob:none --quiet https://github.com/Kojoley/atari-py.git /tmp/pip-req-build-eolfz9cv\n",
            "  Resolved https://github.com/Kojoley/atari-py.git to commit 86a1e05c0a95e9e6233c3a413521fdb34ca8a089\n",
            "  Preparing metadata (setup.py) ... \u001b[?25l\u001b[?25hdone\n",
            "Requirement already satisfied: numpy in /usr/local/lib/python3.11/dist-packages (from atari-py==1.2.2) (1.23.5)\n",
            "Requirement already satisfied: keras-rl2==1.0.5 in /usr/local/lib/python3.11/dist-packages (1.0.5)\n",
            "Requirement already satisfied: tensorflow in /usr/local/lib/python3.11/dist-packages (from keras-rl2==1.0.5) (2.12.0)\n",
            "Requirement already satisfied: absl-py>=1.0.0 in /usr/local/lib/python3.11/dist-packages (from tensorflow->keras-rl2==1.0.5) (1.4.0)\n",
            "Requirement already satisfied: astunparse>=1.6.0 in /usr/local/lib/python3.11/dist-packages (from tensorflow->keras-rl2==1.0.5) (1.6.3)\n",
            "Requirement already satisfied: flatbuffers>=2.0 in /usr/local/lib/python3.11/dist-packages (from tensorflow->keras-rl2==1.0.5) (25.2.10)\n",
            "Requirement already satisfied: gast<=0.4.0,>=0.2.1 in /usr/local/lib/python3.11/dist-packages (from tensorflow->keras-rl2==1.0.5) (0.4.0)\n",
            "Requirement already satisfied: google-pasta>=0.1.1 in /usr/local/lib/python3.11/dist-packages (from tensorflow->keras-rl2==1.0.5) (0.2.0)\n",
            "Requirement already satisfied: grpcio<2.0,>=1.24.3 in /usr/local/lib/python3.11/dist-packages (from tensorflow->keras-rl2==1.0.5) (1.73.1)\n",
            "Requirement already satisfied: h5py>=2.9.0 in /usr/local/lib/python3.11/dist-packages (from tensorflow->keras-rl2==1.0.5) (3.14.0)\n",
            "Requirement already satisfied: jax>=0.3.15 in /usr/local/lib/python3.11/dist-packages (from tensorflow->keras-rl2==1.0.5) (0.4.30)\n",
            "Requirement already satisfied: keras<2.13,>=2.12.0 in /usr/local/lib/python3.11/dist-packages (from tensorflow->keras-rl2==1.0.5) (2.12.0)\n",
            "Requirement already satisfied: libclang>=13.0.0 in /usr/local/lib/python3.11/dist-packages (from tensorflow->keras-rl2==1.0.5) (18.1.1)\n",
            "Requirement already satisfied: numpy<1.24,>=1.22 in /usr/local/lib/python3.11/dist-packages (from tensorflow->keras-rl2==1.0.5) (1.23.5)\n",
            "Requirement already satisfied: opt-einsum>=2.3.2 in /usr/local/lib/python3.11/dist-packages (from tensorflow->keras-rl2==1.0.5) (3.4.0)\n",
            "Requirement already satisfied: packaging in /usr/local/lib/python3.11/dist-packages (from tensorflow->keras-rl2==1.0.5) (24.2)\n",
            "Requirement already satisfied: protobuf!=4.21.0,!=4.21.1,!=4.21.2,!=4.21.3,!=4.21.4,!=4.21.5,<5.0.0dev,>=3.20.3 in /usr/local/lib/python3.11/dist-packages (from tensorflow->keras-rl2==1.0.5) (4.25.8)\n",
            "Requirement already satisfied: setuptools in /usr/local/lib/python3.11/dist-packages (from tensorflow->keras-rl2==1.0.5) (75.2.0)\n",
            "Requirement already satisfied: six>=1.12.0 in /usr/local/lib/python3.11/dist-packages (from tensorflow->keras-rl2==1.0.5) (1.17.0)\n",
            "Requirement already satisfied: tensorboard<2.13,>=2.12 in /usr/local/lib/python3.11/dist-packages (from tensorflow->keras-rl2==1.0.5) (2.12.3)\n",
            "Requirement already satisfied: tensorflow-estimator<2.13,>=2.12.0 in /usr/local/lib/python3.11/dist-packages (from tensorflow->keras-rl2==1.0.5) (2.12.0)\n",
            "Requirement already satisfied: termcolor>=1.1.0 in /usr/local/lib/python3.11/dist-packages (from tensorflow->keras-rl2==1.0.5) (3.1.0)\n",
            "Requirement already satisfied: typing-extensions>=3.6.6 in /usr/local/lib/python3.11/dist-packages (from tensorflow->keras-rl2==1.0.5) (4.14.0)\n",
            "Requirement already satisfied: wrapt<1.15,>=1.11.0 in /usr/local/lib/python3.11/dist-packages (from tensorflow->keras-rl2==1.0.5) (1.14.1)\n",
            "Requirement already satisfied: tensorflow-io-gcs-filesystem>=0.23.1 in /usr/local/lib/python3.11/dist-packages (from tensorflow->keras-rl2==1.0.5) (0.37.1)\n",
            "Requirement already satisfied: wheel<1.0,>=0.23.0 in /usr/local/lib/python3.11/dist-packages (from astunparse>=1.6.0->tensorflow->keras-rl2==1.0.5) (0.45.1)\n",
            "Requirement already satisfied: jaxlib<=0.4.30,>=0.4.27 in /usr/local/lib/python3.11/dist-packages (from jax>=0.3.15->tensorflow->keras-rl2==1.0.5) (0.4.30)\n",
            "Requirement already satisfied: ml-dtypes>=0.2.0 in /usr/local/lib/python3.11/dist-packages (from jax>=0.3.15->tensorflow->keras-rl2==1.0.5) (0.4.1)\n",
            "Requirement already satisfied: scipy>=1.9 in /usr/local/lib/python3.11/dist-packages (from jax>=0.3.15->tensorflow->keras-rl2==1.0.5) (1.15.3)\n",
            "Requirement already satisfied: google-auth<3,>=1.6.3 in /usr/local/lib/python3.11/dist-packages (from tensorboard<2.13,>=2.12->tensorflow->keras-rl2==1.0.5) (2.38.0)\n",
            "Requirement already satisfied: google-auth-oauthlib<1.1,>=0.5 in /usr/local/lib/python3.11/dist-packages (from tensorboard<2.13,>=2.12->tensorflow->keras-rl2==1.0.5) (1.0.0)\n",
            "Requirement already satisfied: markdown>=2.6.8 in /usr/local/lib/python3.11/dist-packages (from tensorboard<2.13,>=2.12->tensorflow->keras-rl2==1.0.5) (3.8.2)\n",
            "Requirement already satisfied: requests<3,>=2.21.0 in /usr/local/lib/python3.11/dist-packages (from tensorboard<2.13,>=2.12->tensorflow->keras-rl2==1.0.5) (2.32.3)\n",
            "Requirement already satisfied: tensorboard-data-server<0.8.0,>=0.7.0 in /usr/local/lib/python3.11/dist-packages (from tensorboard<2.13,>=2.12->tensorflow->keras-rl2==1.0.5) (0.7.2)\n",
            "Requirement already satisfied: werkzeug>=1.0.1 in /usr/local/lib/python3.11/dist-packages (from tensorboard<2.13,>=2.12->tensorflow->keras-rl2==1.0.5) (3.1.3)\n",
            "Requirement already satisfied: cachetools<6.0,>=2.0.0 in /usr/local/lib/python3.11/dist-packages (from google-auth<3,>=1.6.3->tensorboard<2.13,>=2.12->tensorflow->keras-rl2==1.0.5) (5.5.2)\n",
            "Requirement already satisfied: pyasn1-modules>=0.2.1 in /usr/local/lib/python3.11/dist-packages (from google-auth<3,>=1.6.3->tensorboard<2.13,>=2.12->tensorflow->keras-rl2==1.0.5) (0.4.2)\n",
            "Requirement already satisfied: rsa<5,>=3.1.4 in /usr/local/lib/python3.11/dist-packages (from google-auth<3,>=1.6.3->tensorboard<2.13,>=2.12->tensorflow->keras-rl2==1.0.5) (4.9.1)\n",
            "Requirement already satisfied: requests-oauthlib>=0.7.0 in /usr/local/lib/python3.11/dist-packages (from google-auth-oauthlib<1.1,>=0.5->tensorboard<2.13,>=2.12->tensorflow->keras-rl2==1.0.5) (2.0.0)\n",
            "Requirement already satisfied: charset-normalizer<4,>=2 in /usr/local/lib/python3.11/dist-packages (from requests<3,>=2.21.0->tensorboard<2.13,>=2.12->tensorflow->keras-rl2==1.0.5) (3.4.2)\n",
            "Requirement already satisfied: idna<4,>=2.5 in /usr/local/lib/python3.11/dist-packages (from requests<3,>=2.21.0->tensorboard<2.13,>=2.12->tensorflow->keras-rl2==1.0.5) (3.10)\n",
            "Requirement already satisfied: urllib3<3,>=1.21.1 in /usr/local/lib/python3.11/dist-packages (from requests<3,>=2.21.0->tensorboard<2.13,>=2.12->tensorflow->keras-rl2==1.0.5) (2.4.0)\n",
            "Requirement already satisfied: certifi>=2017.4.17 in /usr/local/lib/python3.11/dist-packages (from requests<3,>=2.21.0->tensorboard<2.13,>=2.12->tensorflow->keras-rl2==1.0.5) (2025.6.15)\n",
            "Requirement already satisfied: MarkupSafe>=2.1.1 in /usr/local/lib/python3.11/dist-packages (from werkzeug>=1.0.1->tensorboard<2.13,>=2.12->tensorflow->keras-rl2==1.0.5) (3.0.2)\n",
            "Requirement already satisfied: pyasn1<0.7.0,>=0.6.1 in /usr/local/lib/python3.11/dist-packages (from pyasn1-modules>=0.2.1->google-auth<3,>=1.6.3->tensorboard<2.13,>=2.12->tensorflow->keras-rl2==1.0.5) (0.6.1)\n",
            "Requirement already satisfied: oauthlib>=3.0.0 in /usr/local/lib/python3.11/dist-packages (from requests-oauthlib>=0.7.0->google-auth-oauthlib<1.1,>=0.5->tensorboard<2.13,>=2.12->tensorflow->keras-rl2==1.0.5) (3.3.1)\n",
            "Requirement already satisfied: tensorflow==2.12 in /usr/local/lib/python3.11/dist-packages (2.12.0)\n",
            "Requirement already satisfied: absl-py>=1.0.0 in /usr/local/lib/python3.11/dist-packages (from tensorflow==2.12) (1.4.0)\n",
            "Requirement already satisfied: astunparse>=1.6.0 in /usr/local/lib/python3.11/dist-packages (from tensorflow==2.12) (1.6.3)\n",
            "Requirement already satisfied: flatbuffers>=2.0 in /usr/local/lib/python3.11/dist-packages (from tensorflow==2.12) (25.2.10)\n",
            "Requirement already satisfied: gast<=0.4.0,>=0.2.1 in /usr/local/lib/python3.11/dist-packages (from tensorflow==2.12) (0.4.0)\n",
            "Requirement already satisfied: google-pasta>=0.1.1 in /usr/local/lib/python3.11/dist-packages (from tensorflow==2.12) (0.2.0)\n",
            "Requirement already satisfied: grpcio<2.0,>=1.24.3 in /usr/local/lib/python3.11/dist-packages (from tensorflow==2.12) (1.73.1)\n",
            "Requirement already satisfied: h5py>=2.9.0 in /usr/local/lib/python3.11/dist-packages (from tensorflow==2.12) (3.14.0)\n",
            "Requirement already satisfied: jax>=0.3.15 in /usr/local/lib/python3.11/dist-packages (from tensorflow==2.12) (0.4.30)\n",
            "Requirement already satisfied: keras<2.13,>=2.12.0 in /usr/local/lib/python3.11/dist-packages (from tensorflow==2.12) (2.12.0)\n",
            "Requirement already satisfied: libclang>=13.0.0 in /usr/local/lib/python3.11/dist-packages (from tensorflow==2.12) (18.1.1)\n",
            "Requirement already satisfied: numpy<1.24,>=1.22 in /usr/local/lib/python3.11/dist-packages (from tensorflow==2.12) (1.23.5)\n",
            "Requirement already satisfied: opt-einsum>=2.3.2 in /usr/local/lib/python3.11/dist-packages (from tensorflow==2.12) (3.4.0)\n",
            "Requirement already satisfied: packaging in /usr/local/lib/python3.11/dist-packages (from tensorflow==2.12) (24.2)\n",
            "Requirement already satisfied: protobuf!=4.21.0,!=4.21.1,!=4.21.2,!=4.21.3,!=4.21.4,!=4.21.5,<5.0.0dev,>=3.20.3 in /usr/local/lib/python3.11/dist-packages (from tensorflow==2.12) (4.25.8)\n",
            "Requirement already satisfied: setuptools in /usr/local/lib/python3.11/dist-packages (from tensorflow==2.12) (75.2.0)\n",
            "Requirement already satisfied: six>=1.12.0 in /usr/local/lib/python3.11/dist-packages (from tensorflow==2.12) (1.17.0)\n",
            "Requirement already satisfied: tensorboard<2.13,>=2.12 in /usr/local/lib/python3.11/dist-packages (from tensorflow==2.12) (2.12.3)\n",
            "Requirement already satisfied: tensorflow-estimator<2.13,>=2.12.0 in /usr/local/lib/python3.11/dist-packages (from tensorflow==2.12) (2.12.0)\n",
            "Requirement already satisfied: termcolor>=1.1.0 in /usr/local/lib/python3.11/dist-packages (from tensorflow==2.12) (3.1.0)\n",
            "Requirement already satisfied: typing-extensions>=3.6.6 in /usr/local/lib/python3.11/dist-packages (from tensorflow==2.12) (4.14.0)\n",
            "Requirement already satisfied: wrapt<1.15,>=1.11.0 in /usr/local/lib/python3.11/dist-packages (from tensorflow==2.12) (1.14.1)\n",
            "Requirement already satisfied: tensorflow-io-gcs-filesystem>=0.23.1 in /usr/local/lib/python3.11/dist-packages (from tensorflow==2.12) (0.37.1)\n",
            "Requirement already satisfied: wheel<1.0,>=0.23.0 in /usr/local/lib/python3.11/dist-packages (from astunparse>=1.6.0->tensorflow==2.12) (0.45.1)\n",
            "Requirement already satisfied: jaxlib<=0.4.30,>=0.4.27 in /usr/local/lib/python3.11/dist-packages (from jax>=0.3.15->tensorflow==2.12) (0.4.30)\n",
            "Requirement already satisfied: ml-dtypes>=0.2.0 in /usr/local/lib/python3.11/dist-packages (from jax>=0.3.15->tensorflow==2.12) (0.4.1)\n",
            "Requirement already satisfied: scipy>=1.9 in /usr/local/lib/python3.11/dist-packages (from jax>=0.3.15->tensorflow==2.12) (1.15.3)\n",
            "Requirement already satisfied: google-auth<3,>=1.6.3 in /usr/local/lib/python3.11/dist-packages (from tensorboard<2.13,>=2.12->tensorflow==2.12) (2.38.0)\n",
            "Requirement already satisfied: google-auth-oauthlib<1.1,>=0.5 in /usr/local/lib/python3.11/dist-packages (from tensorboard<2.13,>=2.12->tensorflow==2.12) (1.0.0)\n",
            "Requirement already satisfied: markdown>=2.6.8 in /usr/local/lib/python3.11/dist-packages (from tensorboard<2.13,>=2.12->tensorflow==2.12) (3.8.2)\n",
            "Requirement already satisfied: requests<3,>=2.21.0 in /usr/local/lib/python3.11/dist-packages (from tensorboard<2.13,>=2.12->tensorflow==2.12) (2.32.3)\n",
            "Requirement already satisfied: tensorboard-data-server<0.8.0,>=0.7.0 in /usr/local/lib/python3.11/dist-packages (from tensorboard<2.13,>=2.12->tensorflow==2.12) (0.7.2)\n",
            "Requirement already satisfied: werkzeug>=1.0.1 in /usr/local/lib/python3.11/dist-packages (from tensorboard<2.13,>=2.12->tensorflow==2.12) (3.1.3)\n",
            "Requirement already satisfied: cachetools<6.0,>=2.0.0 in /usr/local/lib/python3.11/dist-packages (from google-auth<3,>=1.6.3->tensorboard<2.13,>=2.12->tensorflow==2.12) (5.5.2)\n",
            "Requirement already satisfied: pyasn1-modules>=0.2.1 in /usr/local/lib/python3.11/dist-packages (from google-auth<3,>=1.6.3->tensorboard<2.13,>=2.12->tensorflow==2.12) (0.4.2)\n",
            "Requirement already satisfied: rsa<5,>=3.1.4 in /usr/local/lib/python3.11/dist-packages (from google-auth<3,>=1.6.3->tensorboard<2.13,>=2.12->tensorflow==2.12) (4.9.1)\n",
            "Requirement already satisfied: requests-oauthlib>=0.7.0 in /usr/local/lib/python3.11/dist-packages (from google-auth-oauthlib<1.1,>=0.5->tensorboard<2.13,>=2.12->tensorflow==2.12) (2.0.0)\n",
            "Requirement already satisfied: charset-normalizer<4,>=2 in /usr/local/lib/python3.11/dist-packages (from requests<3,>=2.21.0->tensorboard<2.13,>=2.12->tensorflow==2.12) (3.4.2)\n",
            "Requirement already satisfied: idna<4,>=2.5 in /usr/local/lib/python3.11/dist-packages (from requests<3,>=2.21.0->tensorboard<2.13,>=2.12->tensorflow==2.12) (3.10)\n",
            "Requirement already satisfied: urllib3<3,>=1.21.1 in /usr/local/lib/python3.11/dist-packages (from requests<3,>=2.21.0->tensorboard<2.13,>=2.12->tensorflow==2.12) (2.4.0)\n",
            "Requirement already satisfied: certifi>=2017.4.17 in /usr/local/lib/python3.11/dist-packages (from requests<3,>=2.21.0->tensorboard<2.13,>=2.12->tensorflow==2.12) (2025.6.15)\n",
            "Requirement already satisfied: MarkupSafe>=2.1.1 in /usr/local/lib/python3.11/dist-packages (from werkzeug>=1.0.1->tensorboard<2.13,>=2.12->tensorflow==2.12) (3.0.2)\n",
            "Requirement already satisfied: pyasn1<0.7.0,>=0.6.1 in /usr/local/lib/python3.11/dist-packages (from pyasn1-modules>=0.2.1->google-auth<3,>=1.6.3->tensorboard<2.13,>=2.12->tensorflow==2.12) (0.6.1)\n",
            "Requirement already satisfied: oauthlib>=3.0.0 in /usr/local/lib/python3.11/dist-packages (from requests-oauthlib>=0.7.0->google-auth-oauthlib<1.1,>=0.5->tensorboard<2.13,>=2.12->tensorflow==2.12) (3.3.1)\n"
          ]
        }
      ],
      "source": [
        "if IN_COLAB:\n",
        "  %pip install gym==0.17.3\n",
        "  %pip install git+https://github.com/Kojoley/atari-py.git\n",
        "  %pip install keras-rl2==1.0.5\n",
        "  %pip install tensorflow==2.12  #2.8\n",
        "else:\n",
        "  %pip install gym==0.17.3\n",
        "  %pip install git+https://github.com/Kojoley/atari-py.git\n",
        "  %pip install pyglet==1.5.0\n",
        "  %pip install h5py==3.1.0\n",
        "  %pip install Pillow==9.5.0\n",
        "  %pip install keras-rl2==1.0.5\n",
        "  %pip install Keras==2.2.4\n",
        "  %pip install tensorflow==2.5.3\n",
        "  %pip install torch==2.0.1\n",
        "  %pip install agents==1.4.0"
      ]
    },
    {
      "cell_type": "markdown",
      "metadata": {
        "id": "mS60Dk-KO5e3"
      },
      "source": [
        "## **PARTE 3**. Desarrollo y preguntas\n",
        "Importar librerías"
      ]
    },
    {
      "cell_type": "code",
      "execution_count": null,
      "metadata": {
        "id": "RX-2z9T1NPp_"
      },
      "outputs": [],
      "source": [
        "from __future__ import division\n",
        "\n",
        "from PIL import Image\n",
        "import numpy as np\n",
        "import gym\n",
        "\n",
        "from tensorflow.keras.models import Sequential\n",
        "from tensorflow.keras.layers import Dense, Activation, Flatten, Convolution2D, Permute\n",
        "#from tensorflow.keras.optimizers import Adam\n",
        "import tensorflow.keras.backend as K\n",
        "\n",
        "from rl.agents.dqn import DQNAgent\n",
        "from rl.policy import LinearAnnealedPolicy, BoltzmannQPolicy, EpsGreedyQPolicy\n",
        "from rl.memory import SequentialMemory\n",
        "from rl.core import Processor\n",
        "from rl.callbacks import FileLogger, ModelIntervalCheckpoint"
      ]
    },
    {
      "cell_type": "markdown",
      "metadata": {
        "id": "NqJbsVR7POZA"
      },
      "source": [
        "#### Configuración base"
      ]
    },
    {
      "cell_type": "code",
      "execution_count": null,
      "metadata": {
        "colab": {
          "base_uri": "https://localhost:8080/"
        },
        "id": "0FlafEtvOKR4",
        "outputId": "c687f631-14b7-47fc-8c35-fd436cbccbfd"
      },
      "outputs": [
        {
          "output_type": "stream",
          "name": "stdout",
          "text": [
            "210 160 3\n",
            "Forma de la observación: (210, 160, 3)\n"
          ]
        },
        {
          "output_type": "execute_result",
          "data": {
            "text/plain": [
              "['NOOP', 'FIRE', 'RIGHT', 'LEFT', 'RIGHTFIRE', 'LEFTFIRE']"
            ]
          },
          "metadata": {},
          "execution_count": 5
        }
      ],
      "source": [
        "INPUT_SHAPE = (84, 84)\n",
        "WINDOW_LENGTH = 4\n",
        "\n",
        "env_name = 'SpaceInvaders-v0'\n",
        "env = gym.make(env_name)\n",
        "\n",
        "np.random.seed(123)\n",
        "env.seed(123)\n",
        "nb_actions = env.action_space.n\n",
        "\n",
        "#--- nuevo -- ejfm\n",
        "height, width, channels = env.observation_space.shape\n",
        "obs = env.reset()\n",
        "print(height, width, channels)\n",
        "print(\"Forma de la observación:\", obs.shape)  # Debe ser (height, width, channels)\n",
        "env.unwrapped.get_action_meanings()"
      ]
    },
    {
      "cell_type": "code",
      "execution_count": null,
      "metadata": {
        "id": "YSGPGszsOOAw"
      },
      "outputs": [],
      "source": [
        "class AtariProcessor(Processor):\n",
        "    def process_observation(self, observation):\n",
        "        assert observation.ndim == 3  # (height, width, channel)\n",
        "        img = Image.fromarray(observation)\n",
        "        img = img.resize(INPUT_SHAPE).convert('L')\n",
        "        processed_observation = np.array(img)\n",
        "        assert processed_observation.shape == INPUT_SHAPE\n",
        "        return processed_observation.astype('uint8')\n",
        "\n",
        "    def process_state_batch(self, batch):\n",
        "        # Convertir a float y escalar\n",
        "        # Linea Agregada\n",
        "        if isinstance(batch, list):\n",
        "          batch = np.array(batch)\n",
        "\n",
        "        batch = batch.astype('float32') / 255.\n",
        "\n",
        "        # 👇 Elimina el canal innecesario si existe (forma (B, 4, 84, 84, 1))\n",
        "        if batch.ndim == 5 and batch.shape[-1] == 1:\n",
        "            batch = np.squeeze(batch, axis=-1)\n",
        "\n",
        "        return batch\n",
        "\n",
        "    def process_reward(self, reward):\n",
        "        return np.clip(reward, -1., 1.)\n"
      ]
    },
    {
      "cell_type": "markdown",
      "metadata": {
        "id": "Sg54U9vFZEBQ"
      },
      "source": [
        "## 1. EJFM Implementación de la red neuronal"
      ]
    },
    {
      "cell_type": "code",
      "execution_count": null,
      "metadata": {
        "id": "aiE1_aXXmQM7"
      },
      "outputs": [],
      "source": [
        "import tensorflow as tf\n",
        "\n",
        "class NoisyDense(tf.keras.layers.Layer):\n",
        "    def __init__(self, units, sigma_init=0.017, **kwargs):\n",
        "        super(NoisyDense, self).__init__(**kwargs)\n",
        "        self.units = units\n",
        "        self.sigma_init = sigma_init\n",
        "\n",
        "    def build(self, input_shape):\n",
        "        input_dim = int(input_shape[-1])\n",
        "        self.mu_W = self.add_weight(\"mu_W\", shape=(input_dim, self.units),\n",
        "                                    initializer='random_uniform', trainable=True)\n",
        "        self.sigma_W = self.add_weight(\"sigma_W\", shape=(input_dim, self.units),\n",
        "                                       initializer=tf.keras.initializers.Constant(self.sigma_init), trainable=True)\n",
        "        self.mu_b = self.add_weight(\"mu_b\", shape=(self.units,),\n",
        "                                    initializer='zeros', trainable=True)\n",
        "        self.sigma_b = self.add_weight(\"sigma_b\", shape=(self.units,),\n",
        "                                       initializer=tf.keras.initializers.Constant(self.sigma_init), trainable=True)\n",
        "\n",
        "    def call(self, x):\n",
        "        epsilon_W = tf.random.normal((x.shape[-1], self.units))\n",
        "        epsilon_b = tf.random.normal((self.units,))\n",
        "        W = self.mu_W + self.sigma_W * epsilon_W\n",
        "        b = self.mu_b + self.sigma_b * epsilon_b\n",
        "        return tf.matmul(x, W) + b\n",
        "\n",
        "    def get_config(self):\n",
        "        config = super(NoisyDense, self).get_config()\n",
        "        config.update({\n",
        "            \"units\": self.units,\n",
        "            \"sigma_init\": self.sigma_init\n",
        "        })\n",
        "        return config\n"
      ]
    },
    {
      "cell_type": "code",
      "execution_count": null,
      "metadata": {
        "colab": {
          "base_uri": "https://localhost:8080/"
        },
        "id": "pygz71TLmV2t",
        "outputId": "205b8564-1501-4fd5-a50d-cc366ff81cf4"
      },
      "outputs": [
        {
          "output_type": "stream",
          "name": "stdout",
          "text": [
            "Model: \"model\"\n",
            "_________________________________________________________________\n",
            " Layer (type)                Output Shape              Param #   \n",
            "=================================================================\n",
            " input_1 (InputLayer)        [(None, 4, 84, 84)]       0         \n",
            "                                                                 \n",
            " permute (Permute)           (None, 84, 84, 4)         0         \n",
            "                                                                 \n",
            " conv2d (Conv2D)             (None, 20, 20, 32)        8224      \n",
            "                                                                 \n",
            " conv2d_1 (Conv2D)           (None, 9, 9, 64)          32832     \n",
            "                                                                 \n",
            " conv2d_2 (Conv2D)           (None, 7, 7, 64)          36928     \n",
            "                                                                 \n",
            " flatten (Flatten)           (None, 3136)              0         \n",
            "                                                                 \n",
            " noisy_dense (NoisyDense)    (None, 512)               3212288   \n",
            "                                                                 \n",
            " activation (Activation)     (None, 512)               0         \n",
            "                                                                 \n",
            " noisy_dense_1 (NoisyDense)  (None, 6)                 6156      \n",
            "                                                                 \n",
            "=================================================================\n",
            "Total params: 3,296,428\n",
            "Trainable params: 3,296,428\n",
            "Non-trainable params: 0\n",
            "_________________________________________________________________\n"
          ]
        }
      ],
      "source": [
        "from tensorflow.keras.models import Model\n",
        "from tensorflow.keras.layers import Input, Permute, Convolution2D, Flatten, Activation\n",
        "\n",
        "input_layer = Input(shape=(WINDOW_LENGTH,) + INPUT_SHAPE)\n",
        "perm = Permute((2, 3, 1))(input_layer)  # Canal al final\n",
        "conv1 = Convolution2D(32, (8, 8), strides=(4, 4), activation='relu')(perm)\n",
        "conv2 = Convolution2D(64, (4, 4), strides=(2, 2), activation='relu')(conv1)\n",
        "conv3 = Convolution2D(64, (3, 3), strides=(1, 1), activation='relu')(conv2)\n",
        "flat = Flatten()(conv3)\n",
        "\n",
        "noisy1 = NoisyDense(512)(flat)\n",
        "noisy1 = Activation('relu')(noisy1)\n",
        "output_layer = NoisyDense(nb_actions)(noisy1)\n",
        "\n",
        "model = Model(inputs=input_layer, outputs=output_layer)\n",
        "model.summary()\n"
      ]
    },
    {
      "cell_type": "code",
      "execution_count": null,
      "metadata": {
        "id": "_H6vbJsFsnKi"
      },
      "outputs": [],
      "source": [
        "# Registrar la capa personalizada (una sola vez en todo el código)\n",
        "from tensorflow.keras.utils import get_custom_objects\n",
        "get_custom_objects().update({'NoisyDense': NoisyDense})"
      ]
    },
    {
      "cell_type": "markdown",
      "metadata": {
        "id": "KwJoe_1sZOX4"
      },
      "source": [
        "## 2. EJFM Implementación de la solución DQN"
      ]
    },
    {
      "cell_type": "markdown",
      "metadata": {
        "id": "mANAV3rVJXt7"
      },
      "source": [
        "### Ejecución Inicial\n",
        "\n"
      ]
    },
    {
      "cell_type": "code",
      "execution_count": null,
      "metadata": {
        "colab": {
          "base_uri": "https://localhost:8080/"
        },
        "id": "KU6UKvVYXESO",
        "outputId": "ddf07558-b884-48fc-f383-f972c124c206"
      },
      "outputs": [
        {
          "output_type": "stream",
          "name": "stdout",
          "text": [
            "Cargando memoria desde archivo...\n"
          ]
        }
      ],
      "source": [
        "####### Solución DQN #######\n",
        "\n",
        "import os\n",
        "import pickle\n",
        "\n",
        "# INTENTAR CARGAR LA MEMORIA\n",
        "memory_file = 'memory_noisy.pkl'\n",
        "if os.path.exists(memory_file):\n",
        "    print(\"Cargando memoria desde archivo...\")\n",
        "    with open(memory_file, 'rb') as f:\n",
        "        memory = pickle.load(f)\n",
        "else:\n",
        "    print(\"Creando nueva memoria...\")\n",
        "    memory = SequentialMemory(limit=1000000, window_length=4)\n",
        "\n",
        "# Crear política como de costumbre\n",
        "#policy = BoltzmannQPolicy()\n",
        "policy = EpsGreedyQPolicy(eps=0.0)\n",
        "\n",
        "# Crear agente\n",
        "dqn = DQNAgent(model=model, nb_actions=nb_actions, policy=policy, memory=memory,\n",
        "               processor=AtariProcessor(), nb_steps_warmup=50000, gamma=0.99,\n",
        "               target_model_update=10000, train_interval=4, delta_clip=5)\n",
        "\n",
        "# Compilar agente\n",
        "#dqn.compile(optimizer='adam', metrics=['mae'])\n",
        "#dqn.compile(optimizer=Adam(learning_rate=0.0001), metrics=['mae'])\n",
        "\n",
        "from tensorflow.keras.optimizers.legacy import Adam     # ← incluye get_updates\n",
        "# Compilar agente\n",
        "dqn.compile(optimizer=Adam(learning_rate=1e-4), metrics=['mae'])"
      ]
    },
    {
      "cell_type": "code",
      "execution_count": null,
      "metadata": {
        "id": "SEmhFU4mYzh-"
      },
      "outputs": [],
      "source": [
        "####### Crear directorios  logs y checkpoints #######\n",
        "\n",
        "import os\n",
        "log_dir = os.path.join(drive_root, \"logs\")\n",
        "checkpoint_dir = os.path.join(drive_root, \"checkpoints\")\n",
        "os.makedirs(log_dir, exist_ok=True)\n",
        "os.makedirs(checkpoint_dir, exist_ok=True)\n",
        "\n",
        "# Función para restaurar pesos más adelante\n",
        "import re\n",
        "\n",
        "def load_latest_weights(agent, checkpoint_dir, prefix=\"dqn_noisy_weights_\"):\n",
        "    \"\"\"\n",
        "    Busca el checkpoint más reciente, carga los pesos y retorna info útil.\n",
        "\n",
        "    Parámetros:\n",
        "        agent: el agente DQN ya creado y compilado.\n",
        "        checkpoint_dir: carpeta con los archivos de pesos.\n",
        "        prefix: prefijo de los archivos de pesos.\n",
        "\n",
        "    Retorna:\n",
        "        (ruta_archivo, pasos_entrenados) o (None, 0) si no se encuentra nada.\n",
        "    \"\"\"\n",
        "    files = [f for f in os.listdir(checkpoint_dir) if f.endswith(\".h5\")]\n",
        "    pattern = re.compile(rf\"{re.escape(prefix)}(\\d+)\\.h5\")\n",
        "\n",
        "    candidates = []\n",
        "    for f in files:\n",
        "        match = pattern.match(f)\n",
        "        if match:\n",
        "            step = int(match.group(1))\n",
        "            candidates.append((step, f))\n",
        "\n",
        "    if not candidates:\n",
        "        print(\"⚠️ No se encontraron checkpoints en:\", checkpoint_dir)\n",
        "        return None, 0\n",
        "\n",
        "    # Escoger el de mayor número de pasos\n",
        "    latest_step, latest_file = max(candidates, key=lambda x: x[0])\n",
        "    latest_path = os.path.join(checkpoint_dir, latest_file)\n",
        "\n",
        "    print(f\"✅ Cargando pesos desde: {latest_path} (pasos entrenados: {latest_step})\")\n",
        "    agent.load_weights(latest_path)\n",
        "    return latest_path, latest_step\n"
      ]
    },
    {
      "cell_type": "code",
      "execution_count": null,
      "metadata": {
        "colab": {
          "base_uri": "https://localhost:8080/"
        },
        "id": "n4rsQm4_zc5J",
        "outputId": "297ebdff-30d0-40da-9971-82d4776b1cf5"
      },
      "outputs": [
        {
          "output_type": "stream",
          "name": "stdout",
          "text": [
            "✅ Cargando pesos desde: /content/gdrive/My Drive/MODELO 14/checkpoints/dqn_noisy_weights_900000.h5 (pasos entrenados: 900000)\n"
          ]
        }
      ],
      "source": [
        "# Cargar pesos anteriores si existen\n",
        "_, trained_steps = load_latest_weights(dqn, checkpoint_dir)\n",
        "\n",
        "# Definir pasos a entrenar\n",
        "steps_to_train = 100000\n",
        "total_steps = trained_steps + steps_to_train\n",
        "\n",
        "# Crear paths y callbacks dinámicos\n",
        "log_path = os.path.join(log_dir, f\"dqn_noisy_log_{trained_steps}_{total_steps}.json\")\n",
        "checkpoint_path = os.path.join(checkpoint_dir, f\"dqn_noisy_weights_{total_steps}.h5\")\n",
        "\n",
        "logger_callback = FileLogger(log_path, interval=100)\n",
        "checkpoint_callback = ModelIntervalCheckpoint(checkpoint_path, interval=10000)"
      ]
    },
    {
      "cell_type": "markdown",
      "metadata": {
        "id": "Qj8CoQ2mhISX"
      },
      "source": [
        "### Primera **Ejecución**"
      ]
    },
    {
      "cell_type": "code",
      "execution_count": null,
      "metadata": {
        "colab": {
          "base_uri": "https://localhost:8080/"
        },
        "id": "LLbFoBPFXGcV",
        "outputId": "62b508e4-14b6-4430-ea17-ff59a624ec2d"
      },
      "outputs": [
        {
          "output_type": "stream",
          "name": "stdout",
          "text": [
            "✅ Cargando pesos desde: /content/gdrive/My Drive/MODELO 14/checkpoints/dqn_noisy_weights_900000.h5 (pasos entrenados: 900000)\n",
            "Training for 100000 steps ...\n"
          ]
        },
        {
          "output_type": "stream",
          "name": "stderr",
          "text": [
            "/usr/local/lib/python3.11/dist-packages/keras/engine/training_v1.py:2359: UserWarning: `Model.state_updates` will be removed in a future version. This property should not be used in TensorFlow 2.0, as `updates` are applied automatically.\n",
            "  updates=self.state_updates,\n"
          ]
        },
        {
          "output_type": "stream",
          "name": "stdout",
          "text": [
            "   520/100000: episode: 1, duration: 5.540s, episode steps: 520, steps per second:  94, episode reward: 14.000, mean reward:  0.027 [ 0.000,  1.000], mean action: 2.308 [0.000, 5.000],  loss: --, mae: --, mean_q: --\n",
            "  1530/100000: episode: 2, duration: 10.808s, episode steps: 1010, steps per second:  93, episode reward: 28.000, mean reward:  0.028 [ 0.000,  1.000], mean action: 2.081 [0.000, 5.000],  loss: --, mae: --, mean_q: --\n",
            "  3034/100000: episode: 3, duration: 16.236s, episode steps: 1504, steps per second:  93, episode reward: 35.000, mean reward:  0.023 [ 0.000,  1.000], mean action: 2.041 [0.000, 5.000],  loss: --, mae: --, mean_q: --\n",
            "  3696/100000: episode: 4, duration: 7.761s, episode steps: 662, steps per second:  85, episode reward: 15.000, mean reward:  0.023 [ 0.000,  1.000], mean action: 2.269 [0.000, 5.000],  loss: --, mae: --, mean_q: --\n",
            "  4351/100000: episode: 5, duration: 6.897s, episode steps: 655, steps per second:  95, episode reward: 17.000, mean reward:  0.026 [ 0.000,  1.000], mean action: 1.960 [0.000, 5.000],  loss: --, mae: --, mean_q: --\n",
            "  5299/100000: episode: 6, duration: 10.034s, episode steps: 948, steps per second:  94, episode reward: 22.000, mean reward:  0.023 [ 0.000,  1.000], mean action: 2.296 [0.000, 5.000],  loss: --, mae: --, mean_q: --\n",
            "  6041/100000: episode: 7, duration: 8.111s, episode steps: 742, steps per second:  91, episode reward: 19.000, mean reward:  0.026 [ 0.000,  1.000], mean action: 2.243 [0.000, 5.000],  loss: --, mae: --, mean_q: --\n",
            "  6683/100000: episode: 8, duration: 6.692s, episode steps: 642, steps per second:  96, episode reward: 11.000, mean reward:  0.017 [ 0.000,  1.000], mean action: 2.422 [0.000, 5.000],  loss: --, mae: --, mean_q: --\n",
            "  7534/100000: episode: 9, duration: 9.377s, episode steps: 851, steps per second:  91, episode reward: 20.000, mean reward:  0.024 [ 0.000,  1.000], mean action: 2.130 [0.000, 5.000],  loss: --, mae: --, mean_q: --\n",
            "  8188/100000: episode: 10, duration: 7.256s, episode steps: 654, steps per second:  90, episode reward: 16.000, mean reward:  0.024 [ 0.000,  1.000], mean action: 2.497 [0.000, 5.000],  loss: --, mae: --, mean_q: --\n",
            "  9111/100000: episode: 11, duration: 9.862s, episode steps: 923, steps per second:  94, episode reward: 20.000, mean reward:  0.022 [ 0.000,  1.000], mean action: 2.285 [0.000, 5.000],  loss: --, mae: --, mean_q: --\n",
            "  9805/100000: episode: 12, duration: 7.620s, episode steps: 694, steps per second:  91, episode reward: 17.000, mean reward:  0.024 [ 0.000,  1.000], mean action: 2.157 [0.000, 5.000],  loss: --, mae: --, mean_q: --\n",
            " 10492/100000: episode: 13, duration: 7.253s, episode steps: 687, steps per second:  95, episode reward: 12.000, mean reward:  0.017 [ 0.000,  1.000], mean action: 2.397 [0.000, 5.000],  loss: --, mae: --, mean_q: --\n",
            " 11064/100000: episode: 14, duration: 6.168s, episode steps: 572, steps per second:  93, episode reward: 11.000, mean reward:  0.019 [ 0.000,  1.000], mean action: 2.568 [0.000, 5.000],  loss: --, mae: --, mean_q: --\n",
            " 11709/100000: episode: 15, duration: 7.064s, episode steps: 645, steps per second:  91, episode reward: 15.000, mean reward:  0.023 [ 0.000,  1.000], mean action: 2.202 [0.000, 5.000],  loss: --, mae: --, mean_q: --\n",
            " 12641/100000: episode: 16, duration: 9.756s, episode steps: 932, steps per second:  96, episode reward: 21.000, mean reward:  0.023 [ 0.000,  1.000], mean action: 2.278 [0.000, 5.000],  loss: --, mae: --, mean_q: --\n",
            " 13337/100000: episode: 17, duration: 7.426s, episode steps: 696, steps per second:  94, episode reward: 12.000, mean reward:  0.017 [ 0.000,  1.000], mean action: 2.227 [0.000, 5.000],  loss: --, mae: --, mean_q: --\n",
            " 14738/100000: episode: 18, duration: 14.786s, episode steps: 1401, steps per second:  95, episode reward: 30.000, mean reward:  0.021 [ 0.000,  1.000], mean action: 2.219 [0.000, 5.000],  loss: --, mae: --, mean_q: --\n",
            " 15514/100000: episode: 19, duration: 8.337s, episode steps: 776, steps per second:  93, episode reward: 21.000, mean reward:  0.027 [ 0.000,  1.000], mean action: 2.070 [0.000, 5.000],  loss: --, mae: --, mean_q: --\n",
            " 16627/100000: episode: 20, duration: 11.853s, episode steps: 1113, steps per second:  94, episode reward: 32.000, mean reward:  0.029 [ 0.000,  1.000], mean action: 2.140 [0.000, 5.000],  loss: --, mae: --, mean_q: --\n",
            " 17322/100000: episode: 21, duration: 7.208s, episode steps: 695, steps per second:  96, episode reward: 20.000, mean reward:  0.029 [ 0.000,  1.000], mean action: 1.866 [0.000, 5.000],  loss: --, mae: --, mean_q: --\n",
            " 18493/100000: episode: 22, duration: 12.335s, episode steps: 1171, steps per second:  95, episode reward: 26.000, mean reward:  0.022 [ 0.000,  1.000], mean action: 2.290 [0.000, 5.000],  loss: --, mae: --, mean_q: --\n",
            " 19348/100000: episode: 23, duration: 9.070s, episode steps: 855, steps per second:  94, episode reward: 22.000, mean reward:  0.026 [ 0.000,  1.000], mean action: 2.277 [0.000, 5.000],  loss: --, mae: --, mean_q: --\n",
            " 20094/100000: episode: 24, duration: 8.490s, episode steps: 746, steps per second:  88, episode reward: 21.000, mean reward:  0.028 [ 0.000,  1.000], mean action: 2.127 [0.000, 5.000],  loss: --, mae: --, mean_q: --\n",
            " 20693/100000: episode: 25, duration: 6.292s, episode steps: 599, steps per second:  95, episode reward:  9.000, mean reward:  0.015 [ 0.000,  1.000], mean action: 2.387 [0.000, 5.000],  loss: --, mae: --, mean_q: --\n",
            " 21532/100000: episode: 26, duration: 8.851s, episode steps: 839, steps per second:  95, episode reward: 21.000, mean reward:  0.025 [ 0.000,  1.000], mean action: 2.100 [0.000, 5.000],  loss: --, mae: --, mean_q: --\n",
            " 22049/100000: episode: 27, duration: 5.382s, episode steps: 517, steps per second:  96, episode reward: 11.000, mean reward:  0.021 [ 0.000,  1.000], mean action: 2.329 [0.000, 5.000],  loss: --, mae: --, mean_q: --\n",
            " 22697/100000: episode: 28, duration: 6.941s, episode steps: 648, steps per second:  93, episode reward: 12.000, mean reward:  0.019 [ 0.000,  1.000], mean action: 2.079 [0.000, 5.000],  loss: --, mae: --, mean_q: --\n",
            " 23474/100000: episode: 29, duration: 7.998s, episode steps: 777, steps per second:  97, episode reward: 22.000, mean reward:  0.028 [ 0.000,  1.000], mean action: 2.457 [0.000, 5.000],  loss: --, mae: --, mean_q: --\n",
            " 24284/100000: episode: 30, duration: 8.513s, episode steps: 810, steps per second:  95, episode reward: 26.000, mean reward:  0.032 [ 0.000,  1.000], mean action: 2.570 [0.000, 5.000],  loss: --, mae: --, mean_q: --\n",
            " 25172/100000: episode: 31, duration: 9.312s, episode steps: 888, steps per second:  95, episode reward: 19.000, mean reward:  0.021 [ 0.000,  1.000], mean action: 2.119 [0.000, 5.000],  loss: --, mae: --, mean_q: --\n",
            " 26316/100000: episode: 32, duration: 12.055s, episode steps: 1144, steps per second:  95, episode reward: 31.000, mean reward:  0.027 [ 0.000,  1.000], mean action: 2.134 [0.000, 5.000],  loss: --, mae: --, mean_q: --\n",
            " 27444/100000: episode: 33, duration: 11.832s, episode steps: 1128, steps per second:  95, episode reward: 21.000, mean reward:  0.019 [ 0.000,  1.000], mean action: 2.033 [0.000, 5.000],  loss: --, mae: --, mean_q: --\n",
            " 28181/100000: episode: 34, duration: 7.558s, episode steps: 737, steps per second:  98, episode reward: 16.000, mean reward:  0.022 [ 0.000,  1.000], mean action: 2.194 [0.000, 5.000],  loss: --, mae: --, mean_q: --\n",
            " 28905/100000: episode: 35, duration: 7.929s, episode steps: 724, steps per second:  91, episode reward: 20.000, mean reward:  0.028 [ 0.000,  1.000], mean action: 2.289 [0.000, 5.000],  loss: --, mae: --, mean_q: --\n",
            " 29426/100000: episode: 36, duration: 5.419s, episode steps: 521, steps per second:  96, episode reward:  9.000, mean reward:  0.017 [ 0.000,  1.000], mean action: 1.990 [0.000, 5.000],  loss: --, mae: --, mean_q: --\n",
            " 29966/100000: episode: 37, duration: 5.844s, episode steps: 540, steps per second:  92, episode reward: 11.000, mean reward:  0.020 [ 0.000,  1.000], mean action: 2.333 [0.000, 5.000],  loss: --, mae: --, mean_q: --\n",
            " 30636/100000: episode: 38, duration: 7.624s, episode steps: 670, steps per second:  88, episode reward: 13.000, mean reward:  0.019 [ 0.000,  1.000], mean action: 2.107 [0.000, 5.000],  loss: --, mae: --, mean_q: --\n",
            " 31301/100000: episode: 39, duration: 7.070s, episode steps: 665, steps per second:  94, episode reward: 15.000, mean reward:  0.023 [ 0.000,  1.000], mean action: 2.203 [0.000, 5.000],  loss: --, mae: --, mean_q: --\n",
            " 32163/100000: episode: 40, duration: 9.120s, episode steps: 862, steps per second:  95, episode reward: 20.000, mean reward:  0.023 [ 0.000,  1.000], mean action: 2.087 [0.000, 5.000],  loss: --, mae: --, mean_q: --\n",
            " 32990/100000: episode: 41, duration: 8.792s, episode steps: 827, steps per second:  94, episode reward: 21.000, mean reward:  0.025 [ 0.000,  1.000], mean action: 2.282 [0.000, 5.000],  loss: --, mae: --, mean_q: --\n",
            " 33784/100000: episode: 42, duration: 8.503s, episode steps: 794, steps per second:  93, episode reward: 17.000, mean reward:  0.021 [ 0.000,  1.000], mean action: 2.228 [0.000, 5.000],  loss: --, mae: --, mean_q: --\n",
            " 34899/100000: episode: 43, duration: 11.626s, episode steps: 1115, steps per second:  96, episode reward: 24.000, mean reward:  0.022 [ 0.000,  1.000], mean action: 2.336 [0.000, 5.000],  loss: --, mae: --, mean_q: --\n",
            " 35574/100000: episode: 44, duration: 7.032s, episode steps: 675, steps per second:  96, episode reward: 13.000, mean reward:  0.019 [ 0.000,  1.000], mean action: 2.161 [0.000, 5.000],  loss: --, mae: --, mean_q: --\n",
            " 36418/100000: episode: 45, duration: 8.963s, episode steps: 844, steps per second:  94, episode reward: 22.000, mean reward:  0.026 [ 0.000,  1.000], mean action: 2.441 [0.000, 5.000],  loss: --, mae: --, mean_q: --\n",
            " 37251/100000: episode: 46, duration: 8.821s, episode steps: 833, steps per second:  94, episode reward: 21.000, mean reward:  0.025 [ 0.000,  1.000], mean action: 2.084 [0.000, 5.000],  loss: --, mae: --, mean_q: --\n",
            " 37873/100000: episode: 47, duration: 6.486s, episode steps: 622, steps per second:  96, episode reward: 16.000, mean reward:  0.026 [ 0.000,  1.000], mean action: 2.561 [0.000, 5.000],  loss: --, mae: --, mean_q: --\n",
            " 38636/100000: episode: 48, duration: 8.111s, episode steps: 763, steps per second:  94, episode reward: 17.000, mean reward:  0.022 [ 0.000,  1.000], mean action: 1.946 [0.000, 5.000],  loss: --, mae: --, mean_q: --\n",
            " 39824/100000: episode: 49, duration: 12.489s, episode steps: 1188, steps per second:  95, episode reward: 20.000, mean reward:  0.017 [ 0.000,  1.000], mean action: 2.091 [0.000, 5.000],  loss: --, mae: --, mean_q: --\n",
            " 40647/100000: episode: 50, duration: 9.843s, episode steps: 823, steps per second:  84, episode reward: 19.000, mean reward:  0.023 [ 0.000,  1.000], mean action: 2.164 [0.000, 5.000],  loss: --, mae: --, mean_q: --\n",
            " 42090/100000: episode: 51, duration: 15.239s, episode steps: 1443, steps per second:  95, episode reward: 27.000, mean reward:  0.019 [ 0.000,  1.000], mean action: 1.974 [0.000, 5.000],  loss: --, mae: --, mean_q: --\n",
            " 42969/100000: episode: 52, duration: 9.194s, episode steps: 879, steps per second:  96, episode reward: 22.000, mean reward:  0.025 [ 0.000,  1.000], mean action: 2.232 [0.000, 5.000],  loss: --, mae: --, mean_q: --\n",
            " 43704/100000: episode: 53, duration: 7.603s, episode steps: 735, steps per second:  97, episode reward: 17.000, mean reward:  0.023 [ 0.000,  1.000], mean action: 1.882 [0.000, 5.000],  loss: --, mae: --, mean_q: --\n",
            " 44670/100000: episode: 54, duration: 10.219s, episode steps: 966, steps per second:  95, episode reward: 22.000, mean reward:  0.023 [ 0.000,  1.000], mean action: 2.071 [0.000, 5.000],  loss: --, mae: --, mean_q: --\n",
            " 46413/100000: episode: 55, duration: 18.522s, episode steps: 1743, steps per second:  94, episode reward: 36.000, mean reward:  0.021 [ 0.000,  1.000], mean action: 1.986 [0.000, 5.000],  loss: --, mae: --, mean_q: --\n",
            " 47439/100000: episode: 56, duration: 10.645s, episode steps: 1026, steps per second:  96, episode reward: 19.000, mean reward:  0.019 [ 0.000,  1.000], mean action: 2.129 [0.000, 5.000],  loss: --, mae: --, mean_q: --\n",
            " 48254/100000: episode: 57, duration: 8.691s, episode steps: 815, steps per second:  94, episode reward: 22.000, mean reward:  0.027 [ 0.000,  1.000], mean action: 2.069 [0.000, 5.000],  loss: --, mae: --, mean_q: --\n",
            " 48912/100000: episode: 58, duration: 7.100s, episode steps: 658, steps per second:  93, episode reward: 18.000, mean reward:  0.027 [ 0.000,  1.000], mean action: 2.271 [0.000, 5.000],  loss: --, mae: --, mean_q: --\n",
            " 49878/100000: episode: 59, duration: 10.001s, episode steps: 966, steps per second:  97, episode reward: 17.000, mean reward:  0.018 [ 0.000,  1.000], mean action: 2.638 [0.000, 5.000],  loss: --, mae: --, mean_q: --\n"
          ]
        },
        {
          "output_type": "stream",
          "name": "stderr",
          "text": [
            "/usr/local/lib/python3.11/dist-packages/keras/engine/training_v1.py:2359: UserWarning: `Model.state_updates` will be removed in a future version. This property should not be used in TensorFlow 2.0, as `updates` are applied automatically.\n",
            "  updates=self.state_updates,\n"
          ]
        },
        {
          "output_type": "stream",
          "name": "stdout",
          "text": [
            " 50541/100000: episode: 60, duration: 26.127s, episode steps: 663, steps per second:  25, episode reward: 11.000, mean reward:  0.017 [ 0.000,  1.000], mean action: 2.385 [0.000, 5.000],  loss: 0.008427, mae: 0.856112, mean_q: 1.041659\n",
            " 51934/100000: episode: 61, duration: 61.098s, episode steps: 1393, steps per second:  23, episode reward: 22.000, mean reward:  0.016 [ 0.000,  1.000], mean action: 2.169 [0.000, 5.000],  loss: 0.008610, mae: 0.847622, mean_q: 1.030363\n",
            " 52569/100000: episode: 62, duration: 28.179s, episode steps: 635, steps per second:  23, episode reward: 13.000, mean reward:  0.020 [ 0.000,  1.000], mean action: 2.808 [0.000, 5.000],  loss: 0.007872, mae: 0.842190, mean_q: 1.024394\n",
            " 53193/100000: episode: 63, duration: 27.576s, episode steps: 624, steps per second:  23, episode reward: 16.000, mean reward:  0.026 [ 0.000,  1.000], mean action: 3.154 [0.000, 5.000],  loss: 0.008859, mae: 0.855168, mean_q: 1.039259\n",
            " 53946/100000: episode: 64, duration: 33.343s, episode steps: 753, steps per second:  23, episode reward: 12.000, mean reward:  0.016 [ 0.000,  1.000], mean action: 2.695 [0.000, 5.000],  loss: 0.008357, mae: 0.858998, mean_q: 1.044507\n",
            " 54594/100000: episode: 65, duration: 29.065s, episode steps: 648, steps per second:  22, episode reward: 16.000, mean reward:  0.025 [ 0.000,  1.000], mean action: 2.026 [0.000, 5.000],  loss: 0.009548, mae: 0.865069, mean_q: 1.050982\n",
            " 55524/100000: episode: 66, duration: 40.876s, episode steps: 930, steps per second:  23, episode reward: 14.000, mean reward:  0.015 [ 0.000,  1.000], mean action: 1.614 [0.000, 5.000],  loss: 0.009984, mae: 0.859799, mean_q: 1.044479\n",
            " 56617/100000: episode: 67, duration: 48.254s, episode steps: 1093, steps per second:  23, episode reward: 25.000, mean reward:  0.023 [ 0.000,  1.000], mean action: 2.758 [0.000, 5.000],  loss: 0.009679, mae: 0.861029, mean_q: 1.048181\n",
            " 57613/100000: episode: 68, duration: 44.317s, episode steps: 996, steps per second:  22, episode reward: 22.000, mean reward:  0.022 [ 0.000,  1.000], mean action: 2.844 [0.000, 5.000],  loss: 0.009036, mae: 0.846799, mean_q: 1.029711\n",
            " 58004/100000: episode: 69, duration: 17.443s, episode steps: 391, steps per second:  22, episode reward:  7.000, mean reward:  0.018 [ 0.000,  1.000], mean action: 2.212 [0.000, 5.000],  loss: 0.008954, mae: 0.858377, mean_q: 1.043628\n",
            " 58869/100000: episode: 70, duration: 38.776s, episode steps: 865, steps per second:  22, episode reward: 16.000, mean reward:  0.018 [ 0.000,  1.000], mean action: 2.288 [0.000, 5.000],  loss: 0.008506, mae: 0.852892, mean_q: 1.036275\n",
            " 59940/100000: episode: 71, duration: 47.320s, episode steps: 1071, steps per second:  23, episode reward: 20.000, mean reward:  0.019 [ 0.000,  1.000], mean action: 2.188 [0.000, 5.000],  loss: 0.010278, mae: 0.857923, mean_q: 1.041083\n",
            " 60604/100000: episode: 72, duration: 30.155s, episode steps: 664, steps per second:  22, episode reward: 11.000, mean reward:  0.017 [ 0.000,  1.000], mean action: 2.291 [0.000, 5.000],  loss: 0.008862, mae: 0.859224, mean_q: 1.044750\n",
            " 61276/100000: episode: 73, duration: 29.718s, episode steps: 672, steps per second:  23, episode reward: 12.000, mean reward:  0.018 [ 0.000,  1.000], mean action: 2.423 [0.000, 5.000],  loss: 0.008532, mae: 0.858572, mean_q: 1.043032\n",
            " 62169/100000: episode: 74, duration: 39.290s, episode steps: 893, steps per second:  23, episode reward: 22.000, mean reward:  0.025 [ 0.000,  1.000], mean action: 2.524 [0.000, 5.000],  loss: 0.009076, mae: 0.857726, mean_q: 1.041758\n",
            " 62862/100000: episode: 75, duration: 30.516s, episode steps: 693, steps per second:  23, episode reward: 15.000, mean reward:  0.022 [ 0.000,  1.000], mean action: 2.169 [0.000, 5.000],  loss: 0.008576, mae: 0.863032, mean_q: 1.048501\n",
            " 63455/100000: episode: 76, duration: 26.164s, episode steps: 593, steps per second:  23, episode reward: 12.000, mean reward:  0.020 [ 0.000,  1.000], mean action: 2.270 [0.000, 5.000],  loss: 0.008562, mae: 0.866676, mean_q: 1.052261\n",
            " 64109/100000: episode: 77, duration: 28.831s, episode steps: 654, steps per second:  23, episode reward: 12.000, mean reward:  0.018 [ 0.000,  1.000], mean action: 1.922 [0.000, 5.000],  loss: 0.008416, mae: 0.863978, mean_q: 1.050034\n",
            " 64728/100000: episode: 78, duration: 27.388s, episode steps: 619, steps per second:  23, episode reward: 11.000, mean reward:  0.018 [ 0.000,  1.000], mean action: 2.229 [0.000, 5.000],  loss: 0.009287, mae: 0.857454, mean_q: 1.043450\n",
            " 65319/100000: episode: 79, duration: 26.191s, episode steps: 591, steps per second:  23, episode reward: 11.000, mean reward:  0.019 [ 0.000,  1.000], mean action: 2.631 [0.000, 5.000],  loss: 0.008582, mae: 0.859735, mean_q: 1.042974\n",
            " 66383/100000: episode: 80, duration: 46.959s, episode steps: 1064, steps per second:  23, episode reward: 23.000, mean reward:  0.022 [ 0.000,  1.000], mean action: 2.138 [0.000, 5.000],  loss: 0.009159, mae: 0.856952, mean_q: 1.040185\n",
            " 67001/100000: episode: 81, duration: 27.688s, episode steps: 618, steps per second:  22, episode reward: 12.000, mean reward:  0.019 [ 0.000,  1.000], mean action: 2.173 [0.000, 5.000],  loss: 0.008028, mae: 0.864313, mean_q: 1.049532\n",
            " 68609/100000: episode: 82, duration: 71.271s, episode steps: 1608, steps per second:  23, episode reward: 17.000, mean reward:  0.011 [ 0.000,  1.000], mean action: 2.108 [0.000, 5.000],  loss: 0.009691, mae: 0.860451, mean_q: 1.044829\n",
            " 70116/100000: episode: 83, duration: 67.662s, episode steps: 1507, steps per second:  22, episode reward: 30.000, mean reward:  0.020 [ 0.000,  1.000], mean action: 2.466 [0.000, 5.000],  loss: 0.010427, mae: 0.864746, mean_q: 1.051391\n",
            " 70728/100000: episode: 84, duration: 27.210s, episode steps: 612, steps per second:  22, episode reward: 11.000, mean reward:  0.018 [ 0.000,  1.000], mean action: 1.864 [0.000, 5.000],  loss: 0.008967, mae: 0.858746, mean_q: 1.042943\n",
            " 71467/100000: episode: 85, duration: 32.649s, episode steps: 739, steps per second:  23, episode reward: 13.000, mean reward:  0.018 [ 0.000,  1.000], mean action: 2.505 [0.000, 5.000],  loss: 0.009125, mae: 0.852007, mean_q: 1.034498\n",
            " 72137/100000: episode: 86, duration: 29.884s, episode steps: 670, steps per second:  22, episode reward: 12.000, mean reward:  0.018 [ 0.000,  1.000], mean action: 2.678 [0.000, 5.000],  loss: 0.008763, mae: 0.856904, mean_q: 1.042133\n",
            " 73117/100000: episode: 87, duration: 43.368s, episode steps: 980, steps per second:  23, episode reward: 24.000, mean reward:  0.024 [ 0.000,  1.000], mean action: 2.926 [0.000, 5.000],  loss: 0.008836, mae: 0.872112, mean_q: 1.062430\n",
            " 73874/100000: episode: 88, duration: 33.586s, episode steps: 757, steps per second:  23, episode reward: 15.000, mean reward:  0.020 [ 0.000,  1.000], mean action: 2.007 [0.000, 5.000],  loss: 0.009495, mae: 0.849505, mean_q: 1.032381\n",
            " 74540/100000: episode: 89, duration: 29.615s, episode steps: 666, steps per second:  22, episode reward:  9.000, mean reward:  0.014 [ 0.000,  1.000], mean action: 1.701 [0.000, 5.000],  loss: 0.009317, mae: 0.872574, mean_q: 1.060374\n",
            " 75417/100000: episode: 90, duration: 39.104s, episode steps: 877, steps per second:  22, episode reward: 18.000, mean reward:  0.021 [ 0.000,  1.000], mean action: 2.365 [0.000, 5.000],  loss: 0.009336, mae: 0.867243, mean_q: 1.053519\n",
            " 76487/100000: episode: 91, duration: 47.766s, episode steps: 1070, steps per second:  22, episode reward: 23.000, mean reward:  0.021 [ 0.000,  1.000], mean action: 2.771 [0.000, 5.000],  loss: 0.009399, mae: 0.850101, mean_q: 1.033539\n",
            " 77193/100000: episode: 92, duration: 31.953s, episode steps: 706, steps per second:  22, episode reward: 12.000, mean reward:  0.017 [ 0.000,  1.000], mean action: 2.072 [0.000, 5.000],  loss: 0.009166, mae: 0.859846, mean_q: 1.046850\n",
            " 77703/100000: episode: 93, duration: 22.829s, episode steps: 510, steps per second:  22, episode reward:  6.000, mean reward:  0.012 [ 0.000,  1.000], mean action: 1.841 [0.000, 5.000],  loss: 0.009734, mae: 0.868951, mean_q: 1.057394\n",
            " 78280/100000: episode: 94, duration: 25.894s, episode steps: 577, steps per second:  22, episode reward:  9.000, mean reward:  0.016 [ 0.000,  1.000], mean action: 2.880 [0.000, 5.000],  loss: 0.009575, mae: 0.856800, mean_q: 1.041905\n",
            " 79086/100000: episode: 95, duration: 36.156s, episode steps: 806, steps per second:  22, episode reward: 15.000, mean reward:  0.019 [ 0.000,  1.000], mean action: 2.052 [0.000, 5.000],  loss: 0.009459, mae: 0.860100, mean_q: 1.044849\n",
            " 79732/100000: episode: 96, duration: 28.969s, episode steps: 646, steps per second:  22, episode reward: 11.000, mean reward:  0.017 [ 0.000,  1.000], mean action: 1.802 [0.000, 5.000],  loss: 0.008879, mae: 0.850482, mean_q: 1.032149\n",
            " 80449/100000: episode: 97, duration: 32.982s, episode steps: 717, steps per second:  22, episode reward: 13.000, mean reward:  0.018 [ 0.000,  1.000], mean action: 2.297 [0.000, 5.000],  loss: 0.008561, mae: 0.875997, mean_q: 1.064351\n",
            " 81075/100000: episode: 98, duration: 27.877s, episode steps: 626, steps per second:  22, episode reward: 10.000, mean reward:  0.016 [ 0.000,  1.000], mean action: 2.243 [0.000, 5.000],  loss: 0.009653, mae: 0.883918, mean_q: 1.074914\n",
            " 81955/100000: episode: 99, duration: 39.542s, episode steps: 880, steps per second:  22, episode reward: 19.000, mean reward:  0.022 [ 0.000,  1.000], mean action: 2.059 [0.000, 5.000],  loss: 0.009163, mae: 0.888538, mean_q: 1.080502\n",
            " 82575/100000: episode: 100, duration: 27.744s, episode steps: 620, steps per second:  22, episode reward: 10.000, mean reward:  0.016 [ 0.000,  1.000], mean action: 2.540 [0.000, 5.000],  loss: 0.010108, mae: 0.890066, mean_q: 1.081270\n",
            " 83384/100000: episode: 101, duration: 36.384s, episode steps: 809, steps per second:  22, episode reward: 20.000, mean reward:  0.025 [ 0.000,  1.000], mean action: 2.566 [0.000, 5.000],  loss: 0.009317, mae: 0.897040, mean_q: 1.090978\n",
            " 84200/100000: episode: 102, duration: 36.815s, episode steps: 816, steps per second:  22, episode reward: 18.000, mean reward:  0.022 [ 0.000,  1.000], mean action: 1.793 [0.000, 5.000],  loss: 0.009638, mae: 0.881623, mean_q: 1.070369\n",
            " 84563/100000: episode: 103, duration: 16.364s, episode steps: 363, steps per second:  22, episode reward:  5.000, mean reward:  0.014 [ 0.000,  1.000], mean action: 2.424 [0.000, 5.000],  loss: 0.009642, mae: 0.869055, mean_q: 1.055905\n",
            " 85497/100000: episode: 104, duration: 42.269s, episode steps: 934, steps per second:  22, episode reward: 17.000, mean reward:  0.018 [ 0.000,  1.000], mean action: 1.865 [0.000, 5.000],  loss: 0.009310, mae: 0.892794, mean_q: 1.084945\n",
            " 86178/100000: episode: 105, duration: 30.675s, episode steps: 681, steps per second:  22, episode reward: 15.000, mean reward:  0.022 [ 0.000,  1.000], mean action: 2.420 [0.000, 5.000],  loss: 0.008643, mae: 0.878241, mean_q: 1.067200\n",
            " 87105/100000: episode: 106, duration: 41.572s, episode steps: 927, steps per second:  22, episode reward: 23.000, mean reward:  0.025 [ 0.000,  1.000], mean action: 2.278 [0.000, 5.000],  loss: 0.009495, mae: 0.882221, mean_q: 1.071809\n",
            " 87793/100000: episode: 107, duration: 30.730s, episode steps: 688, steps per second:  22, episode reward: 15.000, mean reward:  0.022 [ 0.000,  1.000], mean action: 2.135 [0.000, 5.000],  loss: 0.010143, mae: 0.886521, mean_q: 1.076978\n",
            " 88393/100000: episode: 108, duration: 27.258s, episode steps: 600, steps per second:  22, episode reward: 12.000, mean reward:  0.020 [ 0.000,  1.000], mean action: 2.558 [0.000, 5.000],  loss: 0.009508, mae: 0.881653, mean_q: 1.070294\n",
            " 89245/100000: episode: 109, duration: 38.217s, episode steps: 852, steps per second:  22, episode reward: 17.000, mean reward:  0.020 [ 0.000,  1.000], mean action: 1.928 [0.000, 5.000],  loss: 0.007860, mae: 0.880864, mean_q: 1.069517\n",
            " 89924/100000: episode: 110, duration: 30.545s, episode steps: 679, steps per second:  22, episode reward: 13.000, mean reward:  0.019 [ 0.000,  1.000], mean action: 2.206 [0.000, 5.000],  loss: 0.008300, mae: 0.885963, mean_q: 1.077087\n",
            " 90692/100000: episode: 111, duration: 35.715s, episode steps: 768, steps per second:  22, episode reward: 20.000, mean reward:  0.026 [ 0.000,  1.000], mean action: 2.910 [0.000, 5.000],  loss: 0.010102, mae: 0.897379, mean_q: 1.091044\n",
            " 91421/100000: episode: 112, duration: 33.053s, episode steps: 729, steps per second:  22, episode reward: 20.000, mean reward:  0.027 [ 0.000,  1.000], mean action: 1.632 [0.000, 5.000],  loss: 0.009856, mae: 0.899183, mean_q: 1.092013\n",
            " 92318/100000: episode: 113, duration: 40.286s, episode steps: 897, steps per second:  22, episode reward: 21.000, mean reward:  0.023 [ 0.000,  1.000], mean action: 1.837 [0.000, 5.000],  loss: 0.010602, mae: 0.909260, mean_q: 1.104557\n",
            " 92845/100000: episode: 114, duration: 23.900s, episode steps: 527, steps per second:  22, episode reward:  8.000, mean reward:  0.015 [ 0.000,  1.000], mean action: 2.421 [0.000, 5.000],  loss: 0.009845, mae: 0.905771, mean_q: 1.102915\n",
            " 93533/100000: episode: 115, duration: 31.253s, episode steps: 688, steps per second:  22, episode reward: 14.000, mean reward:  0.020 [ 0.000,  1.000], mean action: 2.230 [0.000, 5.000],  loss: 0.010155, mae: 0.900419, mean_q: 1.093583\n",
            " 94200/100000: episode: 116, duration: 30.037s, episode steps: 667, steps per second:  22, episode reward: 16.000, mean reward:  0.024 [ 0.000,  1.000], mean action: 2.526 [0.000, 5.000],  loss: 0.009926, mae: 0.914331, mean_q: 1.110068\n",
            " 94757/100000: episode: 117, duration: 25.282s, episode steps: 557, steps per second:  22, episode reward: 11.000, mean reward:  0.020 [ 0.000,  1.000], mean action: 2.417 [0.000, 5.000],  loss: 0.010964, mae: 0.909954, mean_q: 1.103031\n",
            " 95438/100000: episode: 118, duration: 30.872s, episode steps: 681, steps per second:  22, episode reward: 11.000, mean reward:  0.016 [ 0.000,  1.000], mean action: 1.949 [0.000, 5.000],  loss: 0.011189, mae: 0.913064, mean_q: 1.108697\n",
            " 96522/100000: episode: 119, duration: 48.690s, episode steps: 1084, steps per second:  22, episode reward: 25.000, mean reward:  0.023 [ 0.000,  1.000], mean action: 2.352 [0.000, 5.000],  loss: 0.009743, mae: 0.903313, mean_q: 1.096289\n",
            " 97179/100000: episode: 120, duration: 29.612s, episode steps: 657, steps per second:  22, episode reward: 13.000, mean reward:  0.020 [ 0.000,  1.000], mean action: 2.932 [0.000, 5.000],  loss: 0.009161, mae: 0.913282, mean_q: 1.108885\n",
            " 97808/100000: episode: 121, duration: 28.851s, episode steps: 629, steps per second:  22, episode reward: 12.000, mean reward:  0.019 [ 0.000,  1.000], mean action: 2.943 [0.000, 5.000],  loss: 0.010426, mae: 0.904607, mean_q: 1.097242\n",
            " 98480/100000: episode: 122, duration: 30.689s, episode steps: 672, steps per second:  22, episode reward: 14.000, mean reward:  0.021 [ 0.000,  1.000], mean action: 1.978 [0.000, 5.000],  loss: 0.009681, mae: 0.899641, mean_q: 1.091619\n",
            " 99144/100000: episode: 123, duration: 30.381s, episode steps: 664, steps per second:  22, episode reward:  9.000, mean reward:  0.014 [ 0.000,  1.000], mean action: 1.471 [0.000, 5.000],  loss: 0.009575, mae: 0.903835, mean_q: 1.097005\n",
            "done, took 2772.044 seconds\n"
          ]
        }
      ],
      "source": [
        "# Cargar último checkpoint\n",
        "latest_path, trained_steps = load_latest_weights(dqn, checkpoint_dir)\n",
        "\n",
        "# Entrenar agente\n",
        "dqn.fit(env, nb_steps=100000, visualize=False, verbose=2,\n",
        "        callbacks=[checkpoint_callback, logger_callback])\n",
        "\n",
        "# Guardar pesos finales en formato .h5 (compatible con load_weights)\n",
        "dqn.save_weights(os.path.join(checkpoint_dir, f\"dqn_noisy_weights_{total_steps}.h5\"), overwrite=True)\n"
      ]
    },
    {
      "cell_type": "code",
      "source": [
        "# GUARDAR LA MEMORIA DE EXPERIENCIA\n",
        "import pickle\n",
        "with open('memory_noisy.pkl', 'wb') as f:\n",
        "    pickle.dump(memory, f)"
      ],
      "metadata": {
        "id": "zjGTF8LotNz9"
      },
      "execution_count": null,
      "outputs": []
    },
    {
      "cell_type": "code",
      "execution_count": null,
      "metadata": {
        "id": "hcqrLtRxi23X",
        "colab": {
          "base_uri": "https://localhost:8080/"
        },
        "outputId": "10897769-7e62-41b2-baf3-6ca0784e365d"
      },
      "outputs": [
        {
          "output_type": "stream",
          "name": "stdout",
          "text": [
            "Esperando 60 segundos...\n",
            "¡Tiempo de espera terminado!\n"
          ]
        }
      ],
      "source": [
        "import time\n",
        "\n",
        "print(\"Esperando 60 segundos...\")\n",
        "time.sleep(60)\n",
        "print(\"¡Tiempo de espera terminado!\")"
      ]
    },
    {
      "cell_type": "code",
      "execution_count": null,
      "metadata": {
        "id": "fuVSBuiyi56X",
        "colab": {
          "base_uri": "https://localhost:8080/"
        },
        "outputId": "859f4a88-82b7-4290-f3e7-8d9835b8abe7"
      },
      "outputs": [
        {
          "output_type": "stream",
          "name": "stdout",
          "text": [
            "✅ Cargando pesos desde: /content/gdrive/My Drive/MODELO 14/checkpoints/dqn_noisy_weights_1000000.h5 (pasos entrenados: 1000000)\n",
            "Testing for 10 episodes ...\n",
            "Episode 1: reward: 14.000, steps: 777\n",
            "Episode 2: reward: 27.000, steps: 1068\n",
            "Episode 3: reward: 15.000, steps: 750\n",
            "Episode 4: reward: 12.000, steps: 484\n",
            "Episode 5: reward: 10.000, steps: 601\n",
            "Episode 6: reward: 15.000, steps: 666\n",
            "Episode 7: reward: 16.000, steps: 731\n",
            "Episode 8: reward: 20.000, steps: 1022\n",
            "Episode 9: reward: 12.000, steps: 559\n",
            "Episode 10: reward: 22.000, steps: 924\n"
          ]
        }
      ],
      "source": [
        "# Testear desde último checkpoint\n",
        "latest_path, trained_steps = load_latest_weights(dqn, checkpoint_dir)\n",
        "if latest_path:\n",
        "    dqn.test(env, nb_episodes=10, visualize=False)"
      ]
    },
    {
      "cell_type": "markdown",
      "metadata": {
        "id": "CMKpo4cgDXND"
      },
      "source": [
        "### Parte 2"
      ]
    },
    {
      "cell_type": "code",
      "execution_count": null,
      "metadata": {
        "id": "8_fQUrYHDVG2",
        "colab": {
          "base_uri": "https://localhost:8080/"
        },
        "outputId": "71dcc97b-e85a-49d6-ec01-998fcb5b8e8e"
      },
      "outputs": [
        {
          "output_type": "stream",
          "name": "stdout",
          "text": [
            "✅ Cargando pesos desde: /content/gdrive/My Drive/MODELO 14/checkpoints/dqn_noisy_weights_1000000.h5 (pasos entrenados: 1000000)\n",
            "Training for 100000 steps ...\n",
            "   623/100000: episode: 1, duration: 7.017s, episode steps: 623, steps per second:  89, episode reward: 10.000, mean reward:  0.016 [ 0.000,  1.000], mean action: 2.681 [0.000, 5.000],  loss: --, mae: --, mean_q: --\n",
            "  1278/100000: episode: 2, duration: 7.013s, episode steps: 655, steps per second:  93, episode reward: 13.000, mean reward:  0.020 [ 0.000,  1.000], mean action: 2.724 [0.000, 5.000],  loss: --, mae: --, mean_q: --\n",
            "  1992/100000: episode: 3, duration: 7.925s, episode steps: 714, steps per second:  90, episode reward: 15.000, mean reward:  0.021 [ 0.000,  1.000], mean action: 3.099 [0.000, 5.000],  loss: --, mae: --, mean_q: --\n",
            "  2908/100000: episode: 4, duration: 10.093s, episode steps: 916, steps per second:  91, episode reward: 22.000, mean reward:  0.024 [ 0.000,  1.000], mean action: 3.198 [0.000, 5.000],  loss: --, mae: --, mean_q: --\n",
            "  3461/100000: episode: 5, duration: 5.909s, episode steps: 553, steps per second:  94, episode reward:  9.000, mean reward:  0.016 [ 0.000,  1.000], mean action: 2.792 [0.000, 5.000],  loss: --, mae: --, mean_q: --\n",
            "  4296/100000: episode: 6, duration: 9.278s, episode steps: 835, steps per second:  90, episode reward: 22.000, mean reward:  0.026 [ 0.000,  1.000], mean action: 3.022 [0.000, 5.000],  loss: --, mae: --, mean_q: --\n",
            "  5230/100000: episode: 7, duration: 10.310s, episode steps: 934, steps per second:  91, episode reward: 20.000, mean reward:  0.021 [ 0.000,  1.000], mean action: 3.192 [0.000, 5.000],  loss: --, mae: --, mean_q: --\n",
            "  6032/100000: episode: 8, duration: 8.596s, episode steps: 802, steps per second:  93, episode reward: 22.000, mean reward:  0.027 [ 0.000,  1.000], mean action: 2.719 [0.000, 5.000],  loss: --, mae: --, mean_q: --\n",
            "  6870/100000: episode: 9, duration: 9.183s, episode steps: 838, steps per second:  91, episode reward: 22.000, mean reward:  0.026 [ 0.000,  1.000], mean action: 2.800 [0.000, 5.000],  loss: --, mae: --, mean_q: --\n",
            "  7484/100000: episode: 10, duration: 6.746s, episode steps: 614, steps per second:  91, episode reward: 10.000, mean reward:  0.016 [ 0.000,  1.000], mean action: 2.681 [0.000, 5.000],  loss: --, mae: --, mean_q: --\n",
            "  8224/100000: episode: 11, duration: 8.060s, episode steps: 740, steps per second:  92, episode reward: 19.000, mean reward:  0.026 [ 0.000,  1.000], mean action: 3.266 [0.000, 5.000],  loss: --, mae: --, mean_q: --\n",
            "  8983/100000: episode: 12, duration: 8.325s, episode steps: 759, steps per second:  91, episode reward: 16.000, mean reward:  0.021 [ 0.000,  1.000], mean action: 3.258 [0.000, 5.000],  loss: --, mae: --, mean_q: --\n",
            "  9849/100000: episode: 13, duration: 9.445s, episode steps: 866, steps per second:  92, episode reward: 18.000, mean reward:  0.021 [ 0.000,  1.000], mean action: 2.677 [0.000, 5.000],  loss: --, mae: --, mean_q: --\n",
            " 10550/100000: episode: 14, duration: 7.497s, episode steps: 701, steps per second:  94, episode reward: 13.000, mean reward:  0.019 [ 0.000,  1.000], mean action: 3.237 [0.000, 5.000],  loss: --, mae: --, mean_q: --\n",
            " 11475/100000: episode: 15, duration: 9.996s, episode steps: 925, steps per second:  93, episode reward: 22.000, mean reward:  0.024 [ 0.000,  1.000], mean action: 3.095 [0.000, 5.000],  loss: --, mae: --, mean_q: --\n",
            " 12286/100000: episode: 16, duration: 8.730s, episode steps: 811, steps per second:  93, episode reward: 15.000, mean reward:  0.018 [ 0.000,  1.000], mean action: 3.065 [0.000, 5.000],  loss: --, mae: --, mean_q: --\n",
            " 13016/100000: episode: 17, duration: 7.660s, episode steps: 730, steps per second:  95, episode reward: 16.000, mean reward:  0.022 [ 0.000,  1.000], mean action: 2.485 [0.000, 5.000],  loss: --, mae: --, mean_q: --\n",
            " 13836/100000: episode: 18, duration: 8.949s, episode steps: 820, steps per second:  92, episode reward: 20.000, mean reward:  0.024 [ 0.000,  1.000], mean action: 2.949 [0.000, 5.000],  loss: --, mae: --, mean_q: --\n",
            " 14774/100000: episode: 19, duration: 10.129s, episode steps: 938, steps per second:  93, episode reward: 24.000, mean reward:  0.026 [ 0.000,  1.000], mean action: 3.136 [0.000, 5.000],  loss: --, mae: --, mean_q: --\n",
            " 15516/100000: episode: 20, duration: 8.027s, episode steps: 742, steps per second:  92, episode reward: 18.000, mean reward:  0.024 [ 0.000,  1.000], mean action: 3.322 [0.000, 5.000],  loss: --, mae: --, mean_q: --\n",
            " 16225/100000: episode: 21, duration: 7.721s, episode steps: 709, steps per second:  92, episode reward: 15.000, mean reward:  0.021 [ 0.000,  1.000], mean action: 2.818 [0.000, 5.000],  loss: --, mae: --, mean_q: --\n",
            " 17060/100000: episode: 22, duration: 8.945s, episode steps: 835, steps per second:  93, episode reward: 18.000, mean reward:  0.022 [ 0.000,  1.000], mean action: 2.837 [0.000, 5.000],  loss: --, mae: --, mean_q: --\n",
            " 17828/100000: episode: 23, duration: 8.039s, episode steps: 768, steps per second:  96, episode reward: 17.000, mean reward:  0.022 [ 0.000,  1.000], mean action: 2.542 [0.000, 5.000],  loss: --, mae: --, mean_q: --\n",
            " 18781/100000: episode: 24, duration: 10.201s, episode steps: 953, steps per second:  93, episode reward: 18.000, mean reward:  0.019 [ 0.000,  1.000], mean action: 3.142 [0.000, 5.000],  loss: --, mae: --, mean_q: --\n",
            " 19696/100000: episode: 25, duration: 9.745s, episode steps: 915, steps per second:  94, episode reward: 25.000, mean reward:  0.027 [ 0.000,  1.000], mean action: 3.199 [0.000, 5.000],  loss: --, mae: --, mean_q: --\n",
            " 20267/100000: episode: 26, duration: 6.958s, episode steps: 571, steps per second:  82, episode reward: 12.000, mean reward:  0.021 [ 0.000,  1.000], mean action: 3.102 [0.000, 5.000],  loss: --, mae: --, mean_q: --\n",
            " 21685/100000: episode: 27, duration: 15.155s, episode steps: 1418, steps per second:  94, episode reward: 31.000, mean reward:  0.022 [ 0.000,  1.000], mean action: 2.877 [0.000, 5.000],  loss: --, mae: --, mean_q: --\n",
            " 22446/100000: episode: 28, duration: 7.885s, episode steps: 761, steps per second:  97, episode reward: 21.000, mean reward:  0.028 [ 0.000,  1.000], mean action: 2.874 [0.000, 5.000],  loss: --, mae: --, mean_q: --\n",
            " 23225/100000: episode: 29, duration: 8.440s, episode steps: 779, steps per second:  92, episode reward: 19.000, mean reward:  0.024 [ 0.000,  1.000], mean action: 3.027 [0.000, 5.000],  loss: --, mae: --, mean_q: --\n",
            " 23938/100000: episode: 30, duration: 7.668s, episode steps: 713, steps per second:  93, episode reward: 15.000, mean reward:  0.021 [ 0.000,  1.000], mean action: 2.609 [0.000, 5.000],  loss: --, mae: --, mean_q: --\n",
            " 24637/100000: episode: 31, duration: 7.381s, episode steps: 699, steps per second:  95, episode reward: 15.000, mean reward:  0.021 [ 0.000,  1.000], mean action: 2.694 [0.000, 5.000],  loss: --, mae: --, mean_q: --\n",
            " 25900/100000: episode: 32, duration: 13.381s, episode steps: 1263, steps per second:  94, episode reward: 31.000, mean reward:  0.025 [ 0.000,  1.000], mean action: 2.977 [0.000, 5.000],  loss: --, mae: --, mean_q: --\n",
            " 26609/100000: episode: 33, duration: 7.658s, episode steps: 709, steps per second:  93, episode reward: 16.000, mean reward:  0.023 [ 0.000,  1.000], mean action: 3.147 [0.000, 5.000],  loss: --, mae: --, mean_q: --\n",
            " 27761/100000: episode: 34, duration: 12.257s, episode steps: 1152, steps per second:  94, episode reward: 25.000, mean reward:  0.022 [ 0.000,  1.000], mean action: 2.717 [0.000, 5.000],  loss: --, mae: --, mean_q: --\n",
            " 28307/100000: episode: 35, duration: 5.699s, episode steps: 546, steps per second:  96, episode reward: 10.000, mean reward:  0.018 [ 0.000,  1.000], mean action: 2.484 [0.000, 5.000],  loss: --, mae: --, mean_q: --\n",
            " 29083/100000: episode: 36, duration: 8.267s, episode steps: 776, steps per second:  94, episode reward: 16.000, mean reward:  0.021 [ 0.000,  1.000], mean action: 2.622 [0.000, 5.000],  loss: --, mae: --, mean_q: --\n",
            " 29789/100000: episode: 37, duration: 7.395s, episode steps: 706, steps per second:  95, episode reward: 12.000, mean reward:  0.017 [ 0.000,  1.000], mean action: 3.115 [0.000, 5.000],  loss: --, mae: --, mean_q: --\n",
            " 30752/100000: episode: 38, duration: 11.069s, episode steps: 963, steps per second:  87, episode reward: 21.000, mean reward:  0.022 [ 0.000,  1.000], mean action: 2.791 [0.000, 5.000],  loss: --, mae: --, mean_q: --\n",
            " 31769/100000: episode: 39, duration: 10.804s, episode steps: 1017, steps per second:  94, episode reward: 21.000, mean reward:  0.021 [ 0.000,  1.000], mean action: 2.622 [0.000, 5.000],  loss: --, mae: --, mean_q: --\n",
            " 32510/100000: episode: 40, duration: 7.909s, episode steps: 741, steps per second:  94, episode reward: 16.000, mean reward:  0.022 [ 0.000,  1.000], mean action: 2.694 [0.000, 5.000],  loss: --, mae: --, mean_q: --\n",
            " 33295/100000: episode: 41, duration: 8.255s, episode steps: 785, steps per second:  95, episode reward: 20.000, mean reward:  0.025 [ 0.000,  1.000], mean action: 3.092 [0.000, 5.000],  loss: --, mae: --, mean_q: --\n",
            " 33909/100000: episode: 42, duration: 6.634s, episode steps: 614, steps per second:  93, episode reward: 13.000, mean reward:  0.021 [ 0.000,  1.000], mean action: 3.050 [0.000, 5.000],  loss: --, mae: --, mean_q: --\n",
            " 34740/100000: episode: 43, duration: 8.891s, episode steps: 831, steps per second:  93, episode reward: 22.000, mean reward:  0.026 [ 0.000,  1.000], mean action: 2.799 [0.000, 5.000],  loss: --, mae: --, mean_q: --\n",
            " 35386/100000: episode: 44, duration: 6.737s, episode steps: 646, steps per second:  96, episode reward: 10.000, mean reward:  0.015 [ 0.000,  1.000], mean action: 2.641 [0.000, 5.000],  loss: --, mae: --, mean_q: --\n",
            " 36091/100000: episode: 45, duration: 7.612s, episode steps: 705, steps per second:  93, episode reward: 13.000, mean reward:  0.018 [ 0.000,  1.000], mean action: 2.912 [0.000, 5.000],  loss: --, mae: --, mean_q: --\n",
            " 37222/100000: episode: 46, duration: 11.972s, episode steps: 1131, steps per second:  94, episode reward: 27.000, mean reward:  0.024 [ 0.000,  1.000], mean action: 3.136 [0.000, 5.000],  loss: --, mae: --, mean_q: --\n",
            " 38154/100000: episode: 47, duration: 10.175s, episode steps: 932, steps per second:  92, episode reward: 23.000, mean reward:  0.025 [ 0.000,  1.000], mean action: 3.217 [0.000, 5.000],  loss: --, mae: --, mean_q: --\n",
            " 39082/100000: episode: 48, duration: 9.766s, episode steps: 928, steps per second:  95, episode reward: 19.000, mean reward:  0.020 [ 0.000,  1.000], mean action: 2.770 [0.000, 5.000],  loss: --, mae: --, mean_q: --\n",
            " 39650/100000: episode: 49, duration: 6.184s, episode steps: 568, steps per second:  92, episode reward:  9.000, mean reward:  0.016 [ 0.000,  1.000], mean action: 2.530 [0.000, 5.000],  loss: --, mae: --, mean_q: --\n",
            " 40579/100000: episode: 50, duration: 10.589s, episode steps: 929, steps per second:  88, episode reward: 25.000, mean reward:  0.027 [ 0.000,  1.000], mean action: 3.128 [0.000, 5.000],  loss: --, mae: --, mean_q: --\n",
            " 41579/100000: episode: 51, duration: 10.497s, episode steps: 1000, steps per second:  95, episode reward: 30.000, mean reward:  0.030 [ 0.000,  1.000], mean action: 3.178 [0.000, 5.000],  loss: --, mae: --, mean_q: --\n",
            " 42206/100000: episode: 52, duration: 6.768s, episode steps: 627, steps per second:  93, episode reward: 15.000, mean reward:  0.024 [ 0.000,  1.000], mean action: 3.298 [0.000, 5.000],  loss: --, mae: --, mean_q: --\n",
            " 42924/100000: episode: 53, duration: 7.671s, episode steps: 718, steps per second:  94, episode reward: 16.000, mean reward:  0.022 [ 0.000,  1.000], mean action: 2.806 [0.000, 5.000],  loss: --, mae: --, mean_q: --\n",
            " 43637/100000: episode: 54, duration: 7.454s, episode steps: 713, steps per second:  96, episode reward: 12.000, mean reward:  0.017 [ 0.000,  1.000], mean action: 2.672 [0.000, 5.000],  loss: --, mae: --, mean_q: --\n",
            " 44268/100000: episode: 55, duration: 6.831s, episode steps: 631, steps per second:  92, episode reward: 10.000, mean reward:  0.016 [ 0.000,  1.000], mean action: 2.599 [0.000, 5.000],  loss: --, mae: --, mean_q: --\n",
            " 45187/100000: episode: 56, duration: 9.627s, episode steps: 919, steps per second:  95, episode reward: 18.000, mean reward:  0.020 [ 0.000,  1.000], mean action: 2.964 [0.000, 5.000],  loss: --, mae: --, mean_q: --\n",
            " 46122/100000: episode: 57, duration: 9.947s, episode steps: 935, steps per second:  94, episode reward: 21.000, mean reward:  0.022 [ 0.000,  1.000], mean action: 3.074 [0.000, 5.000],  loss: --, mae: --, mean_q: --\n",
            " 47108/100000: episode: 58, duration: 10.504s, episode steps: 986, steps per second:  94, episode reward: 26.000, mean reward:  0.026 [ 0.000,  1.000], mean action: 2.898 [0.000, 5.000],  loss: --, mae: --, mean_q: --\n",
            " 47689/100000: episode: 59, duration: 6.381s, episode steps: 581, steps per second:  91, episode reward: 11.000, mean reward:  0.019 [ 0.000,  1.000], mean action: 2.843 [0.000, 5.000],  loss: --, mae: --, mean_q: --\n",
            " 48826/100000: episode: 60, duration: 11.923s, episode steps: 1137, steps per second:  95, episode reward: 28.000, mean reward:  0.025 [ 0.000,  1.000], mean action: 3.183 [0.000, 5.000],  loss: --, mae: --, mean_q: --\n",
            " 50077/100000: episode: 61, duration: 16.650s, episode steps: 1251, steps per second:  75, episode reward: 31.000, mean reward:  0.025 [ 0.000,  1.000], mean action: 2.663 [0.000, 5.000],  loss: 0.012953, mae: 0.897557, mean_q: 1.090110\n",
            " 50812/100000: episode: 62, duration: 34.462s, episode steps: 735, steps per second:  21, episode reward: 16.000, mean reward:  0.022 [ 0.000,  1.000], mean action: 2.390 [0.000, 5.000],  loss: 0.010164, mae: 0.920298, mean_q: 1.117811\n",
            " 51908/100000: episode: 63, duration: 51.572s, episode steps: 1096, steps per second:  21, episode reward: 14.000, mean reward:  0.013 [ 0.000,  1.000], mean action: 2.321 [0.000, 5.000],  loss: 0.010384, mae: 0.921756, mean_q: 1.118880\n",
            " 52510/100000: episode: 64, duration: 28.514s, episode steps: 602, steps per second:  21, episode reward: 10.000, mean reward:  0.017 [ 0.000,  1.000], mean action: 2.319 [0.000, 5.000],  loss: 0.009440, mae: 0.920419, mean_q: 1.117024\n",
            " 52968/100000: episode: 65, duration: 21.703s, episode steps: 458, steps per second:  21, episode reward:  5.000, mean reward:  0.011 [ 0.000,  1.000], mean action: 2.308 [0.000, 5.000],  loss: 0.011009, mae: 0.930217, mean_q: 1.130150\n",
            " 54245/100000: episode: 66, duration: 60.147s, episode steps: 1277, steps per second:  21, episode reward: 29.000, mean reward:  0.023 [ 0.000,  1.000], mean action: 2.122 [0.000, 5.000],  loss: 0.009902, mae: 0.916999, mean_q: 1.112102\n",
            " 54748/100000: episode: 67, duration: 23.683s, episode steps: 503, steps per second:  21, episode reward:  8.000, mean reward:  0.016 [ 0.000,  1.000], mean action: 2.328 [0.000, 5.000],  loss: 0.008752, mae: 0.914095, mean_q: 1.109585\n",
            " 55397/100000: episode: 68, duration: 30.750s, episode steps: 649, steps per second:  21, episode reward: 11.000, mean reward:  0.017 [ 0.000,  1.000], mean action: 2.769 [0.000, 5.000],  loss: 0.009195, mae: 0.922928, mean_q: 1.120472\n",
            " 56039/100000: episode: 69, duration: 30.183s, episode steps: 642, steps per second:  21, episode reward: 12.000, mean reward:  0.019 [ 0.000,  1.000], mean action: 2.260 [0.000, 5.000],  loss: 0.009606, mae: 0.931224, mean_q: 1.130968\n",
            " 56602/100000: episode: 70, duration: 26.644s, episode steps: 563, steps per second:  21, episode reward:  8.000, mean reward:  0.014 [ 0.000,  1.000], mean action: 2.584 [0.000, 5.000],  loss: 0.011195, mae: 0.928141, mean_q: 1.126795\n",
            " 57968/100000: episode: 71, duration: 65.039s, episode steps: 1366, steps per second:  21, episode reward: 23.000, mean reward:  0.017 [ 0.000,  1.000], mean action: 1.816 [0.000, 5.000],  loss: 0.009589, mae: 0.916517, mean_q: 1.113190\n",
            " 59116/100000: episode: 72, duration: 54.406s, episode steps: 1148, steps per second:  21, episode reward: 29.000, mean reward:  0.025 [ 0.000,  1.000], mean action: 2.346 [0.000, 5.000],  loss: 0.010629, mae: 0.922846, mean_q: 1.120283\n",
            " 59864/100000: episode: 73, duration: 35.538s, episode steps: 748, steps per second:  21, episode reward: 13.000, mean reward:  0.017 [ 0.000,  1.000], mean action: 2.500 [0.000, 5.000],  loss: 0.010299, mae: 0.930171, mean_q: 1.129762\n",
            " 60512/100000: episode: 74, duration: 31.912s, episode steps: 648, steps per second:  20, episode reward:  8.000, mean reward:  0.012 [ 0.000,  1.000], mean action: 2.474 [0.000, 5.000],  loss: 0.009861, mae: 0.925722, mean_q: 1.123781\n",
            " 61013/100000: episode: 75, duration: 24.103s, episode steps: 501, steps per second:  21, episode reward: 10.000, mean reward:  0.020 [ 0.000,  1.000], mean action: 2.255 [0.000, 5.000],  loss: 0.009456, mae: 0.929152, mean_q: 1.127221\n",
            " 61475/100000: episode: 76, duration: 21.992s, episode steps: 462, steps per second:  21, episode reward:  7.000, mean reward:  0.015 [ 0.000,  1.000], mean action: 2.173 [0.000, 5.000],  loss: 0.010532, mae: 0.931562, mean_q: 1.129059\n",
            " 62455/100000: episode: 77, duration: 46.417s, episode steps: 980, steps per second:  21, episode reward: 20.000, mean reward:  0.020 [ 0.000,  1.000], mean action: 2.610 [0.000, 5.000],  loss: 0.009961, mae: 0.941795, mean_q: 1.144470\n",
            " 63065/100000: episode: 78, duration: 28.984s, episode steps: 610, steps per second:  21, episode reward: 12.000, mean reward:  0.020 [ 0.000,  1.000], mean action: 2.243 [0.000, 5.000],  loss: 0.009026, mae: 0.939423, mean_q: 1.140207\n",
            " 63557/100000: episode: 79, duration: 23.368s, episode steps: 492, steps per second:  21, episode reward: 10.000, mean reward:  0.020 [ 0.000,  1.000], mean action: 2.417 [0.000, 5.000],  loss: 0.010824, mae: 0.952920, mean_q: 1.158816\n",
            " 64083/100000: episode: 80, duration: 24.809s, episode steps: 526, steps per second:  21, episode reward:  9.000, mean reward:  0.017 [ 0.000,  1.000], mean action: 2.462 [0.000, 5.000],  loss: 0.010238, mae: 0.943315, mean_q: 1.145807\n",
            " 64980/100000: episode: 81, duration: 42.637s, episode steps: 897, steps per second:  21, episode reward: 20.000, mean reward:  0.022 [ 0.000,  1.000], mean action: 3.036 [0.000, 5.000],  loss: 0.009679, mae: 0.933015, mean_q: 1.132438\n",
            " 66092/100000: episode: 82, duration: 52.955s, episode steps: 1112, steps per second:  21, episode reward: 21.000, mean reward:  0.019 [ 0.000,  1.000], mean action: 2.222 [0.000, 5.000],  loss: 0.010501, mae: 0.937472, mean_q: 1.137340\n",
            " 67079/100000: episode: 83, duration: 46.763s, episode steps: 987, steps per second:  21, episode reward: 16.000, mean reward:  0.016 [ 0.000,  1.000], mean action: 2.377 [0.000, 5.000],  loss: 0.009244, mae: 0.935541, mean_q: 1.135631\n",
            " 67943/100000: episode: 84, duration: 40.637s, episode steps: 864, steps per second:  21, episode reward: 16.000, mean reward:  0.019 [ 0.000,  1.000], mean action: 2.058 [0.000, 5.000],  loss: 0.009134, mae: 0.937221, mean_q: 1.137557\n",
            " 68925/100000: episode: 85, duration: 47.006s, episode steps: 982, steps per second:  21, episode reward: 18.000, mean reward:  0.018 [ 0.000,  1.000], mean action: 2.351 [0.000, 5.000],  loss: 0.009679, mae: 0.942968, mean_q: 1.145761\n",
            " 69741/100000: episode: 86, duration: 38.840s, episode steps: 816, steps per second:  21, episode reward: 20.000, mean reward:  0.025 [ 0.000,  1.000], mean action: 2.532 [0.000, 5.000],  loss: 0.010136, mae: 0.946542, mean_q: 1.150095\n",
            " 70543/100000: episode: 87, duration: 39.133s, episode steps: 802, steps per second:  20, episode reward: 17.000, mean reward:  0.021 [ 0.000,  1.000], mean action: 2.450 [0.000, 5.000],  loss: 0.009502, mae: 0.925759, mean_q: 1.124282\n",
            " 71245/100000: episode: 88, duration: 33.525s, episode steps: 702, steps per second:  21, episode reward: 12.000, mean reward:  0.017 [ 0.000,  1.000], mean action: 2.504 [0.000, 5.000],  loss: 0.009308, mae: 0.945495, mean_q: 1.148603\n",
            " 72386/100000: episode: 89, duration: 54.232s, episode steps: 1141, steps per second:  21, episode reward: 27.000, mean reward:  0.024 [ 0.000,  1.000], mean action: 1.928 [0.000, 5.000],  loss: 0.009251, mae: 0.937340, mean_q: 1.137017\n",
            " 72968/100000: episode: 90, duration: 28.024s, episode steps: 582, steps per second:  21, episode reward: 11.000, mean reward:  0.019 [ 0.000,  1.000], mean action: 3.107 [0.000, 5.000],  loss: 0.009403, mae: 0.949032, mean_q: 1.150700\n",
            " 73837/100000: episode: 91, duration: 41.990s, episode steps: 869, steps per second:  21, episode reward: 16.000, mean reward:  0.018 [ 0.000,  1.000], mean action: 2.704 [0.000, 5.000],  loss: 0.010248, mae: 0.945165, mean_q: 1.147686\n",
            " 74530/100000: episode: 92, duration: 33.361s, episode steps: 693, steps per second:  21, episode reward: 15.000, mean reward:  0.022 [ 0.000,  1.000], mean action: 2.309 [0.000, 5.000],  loss: 0.009575, mae: 0.937906, mean_q: 1.138661\n",
            " 75248/100000: episode: 93, duration: 34.560s, episode steps: 718, steps per second:  21, episode reward: 12.000, mean reward:  0.017 [ 0.000,  1.000], mean action: 2.061 [0.000, 5.000],  loss: 0.011209, mae: 0.948760, mean_q: 1.152184\n",
            " 75932/100000: episode: 94, duration: 33.104s, episode steps: 684, steps per second:  21, episode reward: 16.000, mean reward:  0.023 [ 0.000,  1.000], mean action: 1.886 [0.000, 5.000],  loss: 0.011044, mae: 0.944570, mean_q: 1.146431\n",
            " 76536/100000: episode: 95, duration: 29.186s, episode steps: 604, steps per second:  21, episode reward: 10.000, mean reward:  0.017 [ 0.000,  1.000], mean action: 2.803 [0.000, 5.000],  loss: 0.009442, mae: 0.946775, mean_q: 1.148737\n",
            " 77000/100000: episode: 96, duration: 22.500s, episode steps: 464, steps per second:  21, episode reward:  9.000, mean reward:  0.019 [ 0.000,  1.000], mean action: 2.284 [0.000, 5.000],  loss: 0.011117, mae: 0.942866, mean_q: 1.142872\n",
            " 77763/100000: episode: 97, duration: 36.747s, episode steps: 763, steps per second:  21, episode reward: 13.000, mean reward:  0.017 [ 0.000,  1.000], mean action: 2.318 [0.000, 5.000],  loss: 0.009232, mae: 0.952104, mean_q: 1.155152\n",
            " 78757/100000: episode: 98, duration: 47.692s, episode steps: 994, steps per second:  21, episode reward: 20.000, mean reward:  0.020 [ 0.000,  1.000], mean action: 2.362 [0.000, 5.000],  loss: 0.009812, mae: 0.937049, mean_q: 1.136541\n",
            " 79332/100000: episode: 99, duration: 28.152s, episode steps: 575, steps per second:  20, episode reward:  9.000, mean reward:  0.016 [ 0.000,  1.000], mean action: 2.250 [0.000, 5.000],  loss: 0.010366, mae: 0.955027, mean_q: 1.158928\n",
            " 80147/100000: episode: 100, duration: 41.238s, episode steps: 815, steps per second:  20, episode reward: 14.000, mean reward:  0.017 [ 0.000,  1.000], mean action: 1.653 [0.000, 5.000],  loss: 0.009442, mae: 0.951398, mean_q: 1.154020\n",
            " 80793/100000: episode: 101, duration: 31.094s, episode steps: 646, steps per second:  21, episode reward:  9.000, mean reward:  0.014 [ 0.000,  1.000], mean action: 1.981 [0.000, 5.000],  loss: 0.010596, mae: 0.958433, mean_q: 1.161399\n",
            " 81343/100000: episode: 102, duration: 26.530s, episode steps: 550, steps per second:  21, episode reward:  8.000, mean reward:  0.015 [ 0.000,  1.000], mean action: 1.820 [0.000, 5.000],  loss: 0.010085, mae: 0.963339, mean_q: 1.168737\n",
            " 81992/100000: episode: 103, duration: 31.188s, episode steps: 649, steps per second:  21, episode reward: 11.000, mean reward:  0.017 [ 0.000,  1.000], mean action: 2.374 [0.000, 5.000],  loss: 0.008400, mae: 0.963352, mean_q: 1.168579\n",
            " 82836/100000: episode: 104, duration: 40.694s, episode steps: 844, steps per second:  21, episode reward: 15.000, mean reward:  0.018 [ 0.000,  1.000], mean action: 2.177 [0.000, 5.000],  loss: 0.009581, mae: 0.963375, mean_q: 1.167857\n",
            " 83532/100000: episode: 105, duration: 34.141s, episode steps: 696, steps per second:  20, episode reward: 15.000, mean reward:  0.022 [ 0.000,  1.000], mean action: 2.049 [0.000, 5.000],  loss: 0.009410, mae: 0.951352, mean_q: 1.153694\n",
            " 84159/100000: episode: 106, duration: 30.970s, episode steps: 627, steps per second:  20, episode reward:  8.000, mean reward:  0.013 [ 0.000,  1.000], mean action: 2.475 [0.000, 5.000],  loss: 0.008970, mae: 0.950363, mean_q: 1.152623\n",
            " 84680/100000: episode: 107, duration: 25.583s, episode steps: 521, steps per second:  20, episode reward:  8.000, mean reward:  0.015 [ 0.000,  1.000], mean action: 2.965 [0.000, 5.000],  loss: 0.010337, mae: 0.980401, mean_q: 1.189501\n",
            " 85711/100000: episode: 108, duration: 50.017s, episode steps: 1031, steps per second:  21, episode reward: 24.000, mean reward:  0.023 [ 0.000,  1.000], mean action: 2.494 [0.000, 5.000],  loss: 0.010160, mae: 0.964180, mean_q: 1.169529\n",
            " 86434/100000: episode: 109, duration: 35.286s, episode steps: 723, steps per second:  20, episode reward: 16.000, mean reward:  0.022 [ 0.000,  1.000], mean action: 1.797 [0.000, 5.000],  loss: 0.009155, mae: 0.963721, mean_q: 1.168773\n",
            " 87545/100000: episode: 110, duration: 54.229s, episode steps: 1111, steps per second:  20, episode reward: 22.000, mean reward:  0.020 [ 0.000,  1.000], mean action: 2.400 [0.000, 5.000],  loss: 0.010001, mae: 0.960871, mean_q: 1.166664\n",
            " 88456/100000: episode: 111, duration: 44.828s, episode steps: 911, steps per second:  20, episode reward: 16.000, mean reward:  0.018 [ 0.000,  1.000], mean action: 2.544 [0.000, 5.000],  loss: 0.010731, mae: 0.966652, mean_q: 1.172365\n",
            " 89470/100000: episode: 112, duration: 49.820s, episode steps: 1014, steps per second:  20, episode reward: 16.000, mean reward:  0.016 [ 0.000,  1.000], mean action: 2.193 [0.000, 5.000],  loss: 0.009586, mae: 0.969867, mean_q: 1.175928\n",
            " 90025/100000: episode: 113, duration: 27.579s, episode steps: 555, steps per second:  20, episode reward:  8.000, mean reward:  0.014 [ 0.000,  1.000], mean action: 2.196 [0.000, 5.000],  loss: 0.009877, mae: 0.960730, mean_q: 1.165503\n",
            " 90892/100000: episode: 114, duration: 42.018s, episode steps: 867, steps per second:  21, episode reward: 22.000, mean reward:  0.025 [ 0.000,  1.000], mean action: 1.880 [0.000, 5.000],  loss: 0.008105, mae: 0.995305, mean_q: 1.208217\n",
            " 91545/100000: episode: 115, duration: 31.805s, episode steps: 653, steps per second:  21, episode reward:  9.000, mean reward:  0.014 [ 0.000,  1.000], mean action: 1.838 [0.000, 5.000],  loss: 0.009430, mae: 0.985801, mean_q: 1.194660\n",
            " 92230/100000: episode: 116, duration: 33.287s, episode steps: 685, steps per second:  21, episode reward: 10.000, mean reward:  0.015 [ 0.000,  1.000], mean action: 2.346 [0.000, 5.000],  loss: 0.010087, mae: 1.016017, mean_q: 1.232646\n",
            " 93545/100000: episode: 117, duration: 64.191s, episode steps: 1315, steps per second:  20, episode reward: 30.000, mean reward:  0.023 [ 0.000,  1.000], mean action: 2.464 [0.000, 5.000],  loss: 0.010621, mae: 0.999574, mean_q: 1.212532\n",
            " 94422/100000: episode: 118, duration: 42.984s, episode steps: 877, steps per second:  20, episode reward: 16.000, mean reward:  0.018 [ 0.000,  1.000], mean action: 2.056 [0.000, 5.000],  loss: 0.010473, mae: 1.007771, mean_q: 1.223456\n",
            " 95489/100000: episode: 119, duration: 52.188s, episode steps: 1067, steps per second:  20, episode reward: 18.000, mean reward:  0.017 [ 0.000,  1.000], mean action: 2.091 [0.000, 5.000],  loss: 0.009760, mae: 0.990259, mean_q: 1.201542\n",
            " 96160/100000: episode: 120, duration: 32.992s, episode steps: 671, steps per second:  20, episode reward: 10.000, mean reward:  0.015 [ 0.000,  1.000], mean action: 2.219 [0.000, 5.000],  loss: 0.010153, mae: 1.025633, mean_q: 1.243512\n",
            " 96987/100000: episode: 121, duration: 40.514s, episode steps: 827, steps per second:  20, episode reward: 17.000, mean reward:  0.021 [ 0.000,  1.000], mean action: 2.306 [0.000, 5.000],  loss: 0.010412, mae: 1.006526, mean_q: 1.220005\n",
            " 97648/100000: episode: 122, duration: 33.077s, episode steps: 661, steps per second:  20, episode reward:  8.000, mean reward:  0.012 [ 0.000,  1.000], mean action: 2.649 [0.000, 5.000],  loss: 0.008712, mae: 0.998046, mean_q: 1.211696\n",
            " 98342/100000: episode: 123, duration: 34.591s, episode steps: 694, steps per second:  20, episode reward: 14.000, mean reward:  0.020 [ 0.000,  1.000], mean action: 2.549 [0.000, 5.000],  loss: 0.010297, mae: 1.004078, mean_q: 1.220403\n",
            " 99402/100000: episode: 124, duration: 52.489s, episode steps: 1060, steps per second:  20, episode reward: 20.000, mean reward:  0.019 [ 0.000,  1.000], mean action: 2.921 [0.000, 5.000],  loss: 0.008699, mae: 0.997740, mean_q: 1.211512\n",
            "done, took 2951.252 seconds\n"
          ]
        }
      ],
      "source": [
        "# Cargar pesos anteriores si existen\n",
        "latest_path, trained_steps = load_latest_weights(dqn, checkpoint_dir)\n",
        "if latest_path:\n",
        "    dqn.load_weights(latest_path)\n",
        "else:\n",
        "    trained_steps = 0\n",
        "\n",
        "# Definir pasos a entrenar\n",
        "steps_to_train = 100000\n",
        "total_steps = trained_steps + steps_to_train\n",
        "\n",
        "# Crear paths y callbacks dinámicos\n",
        "log_path = os.path.join(log_dir, f\"dqn_noisy_log_{trained_steps}_{total_steps}.json\")\n",
        "checkpoint_path = os.path.join(checkpoint_dir, f\"dqn_noisy_weights_{total_steps}.h5\")\n",
        "\n",
        "logger_callback = FileLogger(log_path, interval=100)\n",
        "checkpoint_callback = ModelIntervalCheckpoint(checkpoint_path, interval=10000)\n",
        "\n",
        "# Entrenar agente\n",
        "dqn.fit(env, nb_steps=steps_to_train, visualize=False, verbose=2,\n",
        "        callbacks=[checkpoint_callback, logger_callback])\n",
        "\n",
        "# Guardar pesos finales\n",
        "dqn.save_weights(checkpoint_path, overwrite=True)"
      ]
    },
    {
      "cell_type": "code",
      "source": [
        "# Guardar la memoria de experiencia\n",
        "import pickle\n",
        "with open('memory_noisy.pkl', 'wb') as f:\n",
        "    pickle.dump(memory, f)\n",
        "\n",
        "print(f\"Entrenamiento hasta {total_steps} pasos completado y guardado.\")"
      ],
      "metadata": {
        "id": "UTo4DseitUK3",
        "colab": {
          "base_uri": "https://localhost:8080/"
        },
        "outputId": "333d1c59-f808-45c2-ec38-5875068da6c3"
      },
      "execution_count": null,
      "outputs": [
        {
          "output_type": "stream",
          "name": "stdout",
          "text": [
            "Entrenamiento hasta 1100000 pasos completado y guardado.\n"
          ]
        }
      ]
    },
    {
      "cell_type": "code",
      "execution_count": null,
      "metadata": {
        "id": "9x6-wgiTDbRz",
        "colab": {
          "base_uri": "https://localhost:8080/"
        },
        "outputId": "8ef5c2ee-4b1a-4c6c-b56f-768dd6f8172f"
      },
      "outputs": [
        {
          "output_type": "stream",
          "name": "stdout",
          "text": [
            "Esperando 60 segundos...\n",
            "¡Tiempo de espera terminado!\n"
          ]
        }
      ],
      "source": [
        "import time\n",
        "\n",
        "print(\"Esperando 60 segundos...\")\n",
        "time.sleep(60)\n",
        "print(\"¡Tiempo de espera terminado!\")"
      ]
    },
    {
      "cell_type": "code",
      "execution_count": null,
      "metadata": {
        "id": "4Fvp-zjUDenQ",
        "colab": {
          "base_uri": "https://localhost:8080/"
        },
        "outputId": "c5db2337-f373-4982-c0f8-6f09a8191a0a"
      },
      "outputs": [
        {
          "output_type": "stream",
          "name": "stdout",
          "text": [
            "✅ Cargando pesos desde: /content/gdrive/My Drive/MODELO 14/checkpoints/dqn_noisy_weights_1100000.h5 (pasos entrenados: 1100000)\n",
            "Testing for 10 episodes ...\n",
            "Episode 1: reward: 22.000, steps: 1099\n",
            "Episode 2: reward: 14.000, steps: 732\n",
            "Episode 3: reward: 14.000, steps: 688\n",
            "Episode 4: reward: 16.000, steps: 888\n",
            "Episode 5: reward: 10.000, steps: 654\n",
            "Episode 6: reward: 12.000, steps: 676\n",
            "Episode 7: reward: 11.000, steps: 612\n",
            "Episode 8: reward: 11.000, steps: 678\n",
            "Episode 9: reward: 11.000, steps: 562\n",
            "Episode 10: reward: 10.000, steps: 526\n"
          ]
        }
      ],
      "source": [
        "# Testear desde último checkpoint\n",
        "latest_path, trained_steps = load_latest_weights(dqn, checkpoint_dir)\n",
        "if latest_path:\n",
        "    dqn.test(env, nb_episodes=10, visualize=False)"
      ]
    },
    {
      "cell_type": "markdown",
      "metadata": {
        "id": "YUDYGUBohiiG"
      },
      "source": [
        "Parte 3"
      ]
    },
    {
      "cell_type": "code",
      "execution_count": null,
      "metadata": {
        "id": "gYx2dGVThmiH",
        "colab": {
          "base_uri": "https://localhost:8080/"
        },
        "outputId": "89020d00-a793-4679-bb6b-a1fc2c08f182"
      },
      "outputs": [
        {
          "output_type": "stream",
          "name": "stdout",
          "text": [
            "✅ Cargando pesos desde: /content/gdrive/My Drive/MODELO 14/checkpoints/dqn_noisy_weights_1100000.h5 (pasos entrenados: 1100000)\n",
            "Training for 100000 steps ...\n",
            "  1122/100000: episode: 1, duration: 12.463s, episode steps: 1122, steps per second:  90, episode reward: 28.000, mean reward:  0.025 [ 0.000,  1.000], mean action: 1.758 [0.000, 5.000],  loss: --, mae: --, mean_q: --\n",
            "  1751/100000: episode: 2, duration: 7.016s, episode steps: 629, steps per second:  90, episode reward: 10.000, mean reward:  0.016 [ 0.000,  1.000], mean action: 1.808 [0.000, 5.000],  loss: --, mae: --, mean_q: --\n",
            "  2403/100000: episode: 3, duration: 7.126s, episode steps: 652, steps per second:  91, episode reward:  9.000, mean reward:  0.014 [ 0.000,  1.000], mean action: 1.913 [0.000, 5.000],  loss: --, mae: --, mean_q: --\n",
            "  3778/100000: episode: 4, duration: 15.175s, episode steps: 1375, steps per second:  91, episode reward: 26.000, mean reward:  0.019 [ 0.000,  1.000], mean action: 1.731 [0.000, 5.000],  loss: --, mae: --, mean_q: --\n",
            "  4420/100000: episode: 5, duration: 7.152s, episode steps: 642, steps per second:  90, episode reward: 10.000, mean reward:  0.016 [ 0.000,  1.000], mean action: 1.774 [0.000, 5.000],  loss: --, mae: --, mean_q: --\n",
            "  5624/100000: episode: 6, duration: 13.105s, episode steps: 1204, steps per second:  92, episode reward: 29.000, mean reward:  0.024 [ 0.000,  1.000], mean action: 1.799 [0.000, 5.000],  loss: --, mae: --, mean_q: --\n",
            "  6242/100000: episode: 7, duration: 6.750s, episode steps: 618, steps per second:  92, episode reward: 10.000, mean reward:  0.016 [ 0.000,  1.000], mean action: 1.828 [0.000, 5.000],  loss: --, mae: --, mean_q: --\n",
            "  6899/100000: episode: 8, duration: 7.270s, episode steps: 657, steps per second:  90, episode reward: 12.000, mean reward:  0.018 [ 0.000,  1.000], mean action: 1.654 [0.000, 5.000],  loss: --, mae: --, mean_q: --\n",
            "  7608/100000: episode: 9, duration: 7.963s, episode steps: 709, steps per second:  89, episode reward: 15.000, mean reward:  0.021 [ 0.000,  1.000], mean action: 1.953 [0.000, 5.000],  loss: --, mae: --, mean_q: --\n",
            "  8444/100000: episode: 10, duration: 9.093s, episode steps: 836, steps per second:  92, episode reward: 14.000, mean reward:  0.017 [ 0.000,  1.000], mean action: 1.658 [0.000, 5.000],  loss: --, mae: --, mean_q: --\n",
            "  9140/100000: episode: 11, duration: 7.756s, episode steps: 696, steps per second:  90, episode reward: 11.000, mean reward:  0.016 [ 0.000,  1.000], mean action: 1.874 [0.000, 5.000],  loss: --, mae: --, mean_q: --\n",
            "  9812/100000: episode: 12, duration: 7.504s, episode steps: 672, steps per second:  90, episode reward: 10.000, mean reward:  0.015 [ 0.000,  1.000], mean action: 1.896 [0.000, 5.000],  loss: --, mae: --, mean_q: --\n",
            " 10491/100000: episode: 13, duration: 7.493s, episode steps: 679, steps per second:  91, episode reward: 17.000, mean reward:  0.025 [ 0.000,  1.000], mean action: 1.798 [0.000, 5.000],  loss: --, mae: --, mean_q: --\n",
            " 11167/100000: episode: 14, duration: 7.558s, episode steps: 676, steps per second:  89, episode reward: 13.000, mean reward:  0.019 [ 0.000,  1.000], mean action: 2.000 [0.000, 5.000],  loss: --, mae: --, mean_q: --\n",
            " 11840/100000: episode: 15, duration: 7.298s, episode steps: 673, steps per second:  92, episode reward: 13.000, mean reward:  0.019 [ 0.000,  1.000], mean action: 1.982 [0.000, 5.000],  loss: --, mae: --, mean_q: --\n",
            " 12910/100000: episode: 16, duration: 11.738s, episode steps: 1070, steps per second:  91, episode reward: 22.000, mean reward:  0.021 [ 0.000,  1.000], mean action: 2.074 [0.000, 5.000],  loss: --, mae: --, mean_q: --\n",
            " 13829/100000: episode: 17, duration: 10.288s, episode steps: 919, steps per second:  89, episode reward: 21.000, mean reward:  0.023 [ 0.000,  1.000], mean action: 1.819 [0.000, 5.000],  loss: --, mae: --, mean_q: --\n",
            " 14444/100000: episode: 18, duration: 6.940s, episode steps: 615, steps per second:  89, episode reward:  9.000, mean reward:  0.015 [ 0.000,  1.000], mean action: 1.927 [0.000, 5.000],  loss: --, mae: --, mean_q: --\n",
            " 15521/100000: episode: 19, duration: 12.093s, episode steps: 1077, steps per second:  89, episode reward: 23.000, mean reward:  0.021 [ 0.000,  1.000], mean action: 1.754 [0.000, 5.000],  loss: --, mae: --, mean_q: --\n",
            " 16212/100000: episode: 20, duration: 7.386s, episode steps: 691, steps per second:  94, episode reward: 14.000, mean reward:  0.020 [ 0.000,  1.000], mean action: 1.981 [0.000, 5.000],  loss: --, mae: --, mean_q: --\n",
            " 17055/100000: episode: 21, duration: 9.088s, episode steps: 843, steps per second:  93, episode reward: 17.000, mean reward:  0.020 [ 0.000,  1.000], mean action: 1.771 [0.000, 5.000],  loss: --, mae: --, mean_q: --\n",
            " 17677/100000: episode: 22, duration: 6.626s, episode steps: 622, steps per second:  94, episode reward: 11.000, mean reward:  0.018 [ 0.000,  1.000], mean action: 1.921 [0.000, 5.000],  loss: --, mae: --, mean_q: --\n",
            " 18806/100000: episode: 23, duration: 12.022s, episode steps: 1129, steps per second:  94, episode reward: 25.000, mean reward:  0.022 [ 0.000,  1.000], mean action: 1.669 [0.000, 5.000],  loss: --, mae: --, mean_q: --\n",
            " 19377/100000: episode: 24, duration: 6.192s, episode steps: 571, steps per second:  92, episode reward:  7.000, mean reward:  0.012 [ 0.000,  1.000], mean action: 1.965 [0.000, 5.000],  loss: --, mae: --, mean_q: --\n",
            " 20086/100000: episode: 25, duration: 8.407s, episode steps: 709, steps per second:  84, episode reward: 12.000, mean reward:  0.017 [ 0.000,  1.000], mean action: 1.691 [0.000, 5.000],  loss: --, mae: --, mean_q: --\n",
            " 21199/100000: episode: 26, duration: 11.928s, episode steps: 1113, steps per second:  93, episode reward: 24.000, mean reward:  0.022 [ 0.000,  1.000], mean action: 1.873 [0.000, 5.000],  loss: --, mae: --, mean_q: --\n",
            " 21903/100000: episode: 27, duration: 7.681s, episode steps: 704, steps per second:  92, episode reward: 16.000, mean reward:  0.023 [ 0.000,  1.000], mean action: 1.751 [0.000, 5.000],  loss: --, mae: --, mean_q: --\n",
            " 22579/100000: episode: 28, duration: 7.227s, episode steps: 676, steps per second:  94, episode reward: 15.000, mean reward:  0.022 [ 0.000,  1.000], mean action: 1.747 [0.000, 5.000],  loss: --, mae: --, mean_q: --\n",
            " 23406/100000: episode: 29, duration: 8.815s, episode steps: 827, steps per second:  94, episode reward: 21.000, mean reward:  0.025 [ 0.000,  1.000], mean action: 1.696 [0.000, 5.000],  loss: --, mae: --, mean_q: --\n",
            " 24451/100000: episode: 30, duration: 11.180s, episode steps: 1045, steps per second:  93, episode reward: 24.000, mean reward:  0.023 [ 0.000,  1.000], mean action: 1.772 [0.000, 5.000],  loss: --, mae: --, mean_q: --\n",
            " 25153/100000: episode: 31, duration: 7.675s, episode steps: 702, steps per second:  91, episode reward: 15.000, mean reward:  0.021 [ 0.000,  1.000], mean action: 1.815 [0.000, 5.000],  loss: --, mae: --, mean_q: --\n",
            " 26228/100000: episode: 32, duration: 11.457s, episode steps: 1075, steps per second:  94, episode reward: 22.000, mean reward:  0.020 [ 0.000,  1.000], mean action: 1.873 [0.000, 5.000],  loss: --, mae: --, mean_q: --\n",
            " 26901/100000: episode: 33, duration: 7.049s, episode steps: 673, steps per second:  95, episode reward: 10.000, mean reward:  0.015 [ 0.000,  1.000], mean action: 1.640 [0.000, 5.000],  loss: --, mae: --, mean_q: --\n",
            " 27393/100000: episode: 34, duration: 5.486s, episode steps: 492, steps per second:  90, episode reward: 10.000, mean reward:  0.020 [ 0.000,  1.000], mean action: 1.732 [0.000, 5.000],  loss: --, mae: --, mean_q: --\n",
            " 28113/100000: episode: 35, duration: 7.607s, episode steps: 720, steps per second:  95, episode reward: 15.000, mean reward:  0.021 [ 0.000,  1.000], mean action: 1.765 [0.000, 5.000],  loss: --, mae: --, mean_q: --\n",
            " 29103/100000: episode: 36, duration: 10.687s, episode steps: 990, steps per second:  93, episode reward: 19.000, mean reward:  0.019 [ 0.000,  1.000], mean action: 1.691 [0.000, 5.000],  loss: --, mae: --, mean_q: --\n",
            " 29753/100000: episode: 37, duration: 6.995s, episode steps: 650, steps per second:  93, episode reward: 11.000, mean reward:  0.017 [ 0.000,  1.000], mean action: 1.746 [0.000, 5.000],  loss: --, mae: --, mean_q: --\n",
            " 30914/100000: episode: 38, duration: 13.180s, episode steps: 1161, steps per second:  88, episode reward: 22.000, mean reward:  0.019 [ 0.000,  1.000], mean action: 1.765 [0.000, 5.000],  loss: --, mae: --, mean_q: --\n",
            " 31694/100000: episode: 39, duration: 8.217s, episode steps: 780, steps per second:  95, episode reward: 19.000, mean reward:  0.024 [ 0.000,  1.000], mean action: 1.728 [0.000, 5.000],  loss: --, mae: --, mean_q: --\n",
            " 32387/100000: episode: 40, duration: 7.498s, episode steps: 693, steps per second:  92, episode reward: 15.000, mean reward:  0.022 [ 0.000,  1.000], mean action: 1.821 [0.000, 5.000],  loss: --, mae: --, mean_q: --\n",
            " 32899/100000: episode: 41, duration: 5.424s, episode steps: 512, steps per second:  94, episode reward: 10.000, mean reward:  0.020 [ 0.000,  1.000], mean action: 1.842 [0.000, 5.000],  loss: --, mae: --, mean_q: --\n",
            " 34082/100000: episode: 42, duration: 12.703s, episode steps: 1183, steps per second:  93, episode reward: 22.000, mean reward:  0.019 [ 0.000,  1.000], mean action: 1.519 [0.000, 5.000],  loss: --, mae: --, mean_q: --\n",
            " 34702/100000: episode: 43, duration: 6.734s, episode steps: 620, steps per second:  92, episode reward: 10.000, mean reward:  0.016 [ 0.000,  1.000], mean action: 1.903 [0.000, 5.000],  loss: --, mae: --, mean_q: --\n",
            " 36013/100000: episode: 44, duration: 13.924s, episode steps: 1311, steps per second:  94, episode reward: 27.000, mean reward:  0.021 [ 0.000,  1.000], mean action: 1.887 [0.000, 5.000],  loss: --, mae: --, mean_q: --\n",
            " 37149/100000: episode: 45, duration: 12.217s, episode steps: 1136, steps per second:  93, episode reward: 24.000, mean reward:  0.021 [ 0.000,  1.000], mean action: 1.639 [0.000, 5.000],  loss: --, mae: --, mean_q: --\n",
            " 37931/100000: episode: 46, duration: 8.344s, episode steps: 782, steps per second:  94, episode reward: 15.000, mean reward:  0.019 [ 0.000,  1.000], mean action: 1.665 [0.000, 5.000],  loss: --, mae: --, mean_q: --\n",
            " 39190/100000: episode: 47, duration: 13.807s, episode steps: 1259, steps per second:  91, episode reward: 31.000, mean reward:  0.025 [ 0.000,  1.000], mean action: 1.760 [0.000, 5.000],  loss: --, mae: --, mean_q: --\n",
            " 40068/100000: episode: 48, duration: 9.994s, episode steps: 878, steps per second:  88, episode reward: 20.000, mean reward:  0.023 [ 0.000,  1.000], mean action: 1.708 [0.000, 5.000],  loss: --, mae: --, mean_q: --\n",
            " 40707/100000: episode: 49, duration: 6.937s, episode steps: 639, steps per second:  92, episode reward: 10.000, mean reward:  0.016 [ 0.000,  1.000], mean action: 1.750 [0.000, 5.000],  loss: --, mae: --, mean_q: --\n",
            " 41360/100000: episode: 50, duration: 6.957s, episode steps: 653, steps per second:  94, episode reward: 12.000, mean reward:  0.018 [ 0.000,  1.000], mean action: 1.779 [0.000, 5.000],  loss: --, mae: --, mean_q: --\n",
            " 42035/100000: episode: 51, duration: 7.211s, episode steps: 675, steps per second:  94, episode reward: 15.000, mean reward:  0.022 [ 0.000,  1.000], mean action: 1.720 [0.000, 5.000],  loss: --, mae: --, mean_q: --\n",
            " 42663/100000: episode: 52, duration: 6.807s, episode steps: 628, steps per second:  92, episode reward: 11.000, mean reward:  0.018 [ 0.000,  1.000], mean action: 1.866 [0.000, 5.000],  loss: --, mae: --, mean_q: --\n",
            " 43456/100000: episode: 53, duration: 8.501s, episode steps: 793, steps per second:  93, episode reward: 18.000, mean reward:  0.023 [ 0.000,  1.000], mean action: 1.762 [0.000, 5.000],  loss: --, mae: --, mean_q: --\n",
            " 44409/100000: episode: 54, duration: 10.152s, episode steps: 953, steps per second:  94, episode reward: 22.000, mean reward:  0.023 [ 0.000,  1.000], mean action: 1.878 [0.000, 5.000],  loss: --, mae: --, mean_q: --\n",
            " 45100/100000: episode: 55, duration: 7.439s, episode steps: 691, steps per second:  93, episode reward: 11.000, mean reward:  0.016 [ 0.000,  1.000], mean action: 1.777 [0.000, 5.000],  loss: --, mae: --, mean_q: --\n",
            " 45998/100000: episode: 56, duration: 9.388s, episode steps: 898, steps per second:  96, episode reward: 19.000, mean reward:  0.021 [ 0.000,  1.000], mean action: 1.830 [0.000, 5.000],  loss: --, mae: --, mean_q: --\n",
            " 46697/100000: episode: 57, duration: 7.545s, episode steps: 699, steps per second:  93, episode reward: 13.000, mean reward:  0.019 [ 0.000,  1.000], mean action: 1.810 [0.000, 5.000],  loss: --, mae: --, mean_q: --\n",
            " 47451/100000: episode: 58, duration: 8.179s, episode steps: 754, steps per second:  92, episode reward: 15.000, mean reward:  0.020 [ 0.000,  1.000], mean action: 1.928 [0.000, 5.000],  loss: --, mae: --, mean_q: --\n",
            " 48144/100000: episode: 59, duration: 7.308s, episode steps: 693, steps per second:  95, episode reward: 15.000, mean reward:  0.022 [ 0.000,  1.000], mean action: 1.638 [0.000, 5.000],  loss: --, mae: --, mean_q: --\n",
            " 49383/100000: episode: 60, duration: 13.243s, episode steps: 1239, steps per second:  94, episode reward: 23.000, mean reward:  0.019 [ 0.000,  1.000], mean action: 2.051 [0.000, 5.000],  loss: --, mae: --, mean_q: --\n",
            " 50103/100000: episode: 61, duration: 12.565s, episode steps: 720, steps per second:  57, episode reward: 13.000, mean reward:  0.018 [ 0.000,  1.000], mean action: 1.712 [0.000, 5.000],  loss: 0.008729, mae: 1.029701, mean_q: 1.251678\n",
            " 50773/100000: episode: 62, duration: 34.049s, episode steps: 670, steps per second:  20, episode reward: 12.000, mean reward:  0.018 [ 0.000,  1.000], mean action: 1.727 [0.000, 5.000],  loss: 0.009591, mae: 1.012520, mean_q: 1.228696\n",
            " 51728/100000: episode: 63, duration: 48.226s, episode steps: 955, steps per second:  20, episode reward: 17.000, mean reward:  0.018 [ 0.000,  1.000], mean action: 2.339 [0.000, 5.000],  loss: 0.009258, mae: 1.001027, mean_q: 1.214226\n",
            " 52436/100000: episode: 64, duration: 36.054s, episode steps: 708, steps per second:  20, episode reward: 15.000, mean reward:  0.021 [ 0.000,  1.000], mean action: 2.427 [0.000, 5.000],  loss: 0.011105, mae: 1.035948, mean_q: 1.255187\n",
            " 53266/100000: episode: 65, duration: 41.909s, episode steps: 830, steps per second:  20, episode reward: 15.000, mean reward:  0.018 [ 0.000,  1.000], mean action: 1.746 [0.000, 5.000],  loss: 0.009994, mae: 1.023546, mean_q: 1.241782\n",
            " 54072/100000: episode: 66, duration: 40.831s, episode steps: 806, steps per second:  20, episode reward: 16.000, mean reward:  0.020 [ 0.000,  1.000], mean action: 2.453 [0.000, 5.000],  loss: 0.010947, mae: 1.022502, mean_q: 1.239484\n",
            " 54985/100000: episode: 67, duration: 46.388s, episode steps: 913, steps per second:  20, episode reward: 17.000, mean reward:  0.019 [ 0.000,  1.000], mean action: 2.559 [0.000, 5.000],  loss: 0.008965, mae: 1.011171, mean_q: 1.227235\n",
            " 55625/100000: episode: 68, duration: 32.589s, episode steps: 640, steps per second:  20, episode reward:  9.000, mean reward:  0.014 [ 0.000,  1.000], mean action: 2.467 [0.000, 5.000],  loss: 0.012724, mae: 1.026486, mean_q: 1.245505\n",
            " 56315/100000: episode: 69, duration: 34.800s, episode steps: 690, steps per second:  20, episode reward: 12.000, mean reward:  0.017 [ 0.000,  1.000], mean action: 2.294 [0.000, 5.000],  loss: 0.010453, mae: 1.017737, mean_q: 1.234727\n",
            " 56995/100000: episode: 70, duration: 34.283s, episode steps: 680, steps per second:  20, episode reward: 10.000, mean reward:  0.015 [ 0.000,  1.000], mean action: 2.001 [0.000, 5.000],  loss: 0.010668, mae: 1.039529, mean_q: 1.262281\n",
            " 57670/100000: episode: 71, duration: 34.020s, episode steps: 675, steps per second:  20, episode reward: 10.000, mean reward:  0.015 [ 0.000,  1.000], mean action: 2.361 [0.000, 5.000],  loss: 0.010465, mae: 1.023841, mean_q: 1.242614\n",
            " 58343/100000: episode: 72, duration: 33.680s, episode steps: 673, steps per second:  20, episode reward: 14.000, mean reward:  0.021 [ 0.000,  1.000], mean action: 1.820 [0.000, 5.000],  loss: 0.010023, mae: 1.013657, mean_q: 1.230465\n",
            " 59028/100000: episode: 73, duration: 34.320s, episode steps: 685, steps per second:  20, episode reward: 15.000, mean reward:  0.022 [ 0.000,  1.000], mean action: 2.391 [0.000, 5.000],  loss: 0.010573, mae: 1.023570, mean_q: 1.242324\n",
            " 60194/100000: episode: 74, duration: 58.973s, episode steps: 1166, steps per second:  20, episode reward: 26.000, mean reward:  0.022 [ 0.000,  1.000], mean action: 2.352 [0.000, 5.000],  loss: 0.010557, mae: 1.020481, mean_q: 1.237383\n",
            " 60685/100000: episode: 75, duration: 24.614s, episode steps: 491, steps per second:  20, episode reward:  9.000, mean reward:  0.018 [ 0.000,  1.000], mean action: 1.603 [0.000, 5.000],  loss: 0.011088, mae: 1.040898, mean_q: 1.263215\n",
            " 61320/100000: episode: 76, duration: 31.932s, episode steps: 635, steps per second:  20, episode reward:  9.000, mean reward:  0.014 [ 0.000,  1.000], mean action: 1.921 [0.000, 5.000],  loss: 0.009911, mae: 1.026798, mean_q: 1.245575\n",
            " 62212/100000: episode: 77, duration: 44.690s, episode steps: 892, steps per second:  20, episode reward: 18.000, mean reward:  0.020 [ 0.000,  1.000], mean action: 2.409 [0.000, 5.000],  loss: 0.009905, mae: 1.038395, mean_q: 1.260121\n",
            " 63506/100000: episode: 78, duration: 64.872s, episode steps: 1294, steps per second:  20, episode reward: 14.000, mean reward:  0.011 [ 0.000,  1.000], mean action: 1.988 [0.000, 5.000],  loss: 0.010495, mae: 1.043008, mean_q: 1.264895\n",
            " 64203/100000: episode: 79, duration: 34.844s, episode steps: 697, steps per second:  20, episode reward: 14.000, mean reward:  0.020 [ 0.000,  1.000], mean action: 2.953 [0.000, 5.000],  loss: 0.009559, mae: 1.035007, mean_q: 1.255459\n",
            " 64962/100000: episode: 80, duration: 38.051s, episode steps: 759, steps per second:  20, episode reward: 17.000, mean reward:  0.022 [ 0.000,  1.000], mean action: 2.476 [0.000, 5.000],  loss: 0.009745, mae: 1.037494, mean_q: 1.259476\n",
            " 65700/100000: episode: 81, duration: 37.094s, episode steps: 738, steps per second:  20, episode reward: 16.000, mean reward:  0.022 [ 0.000,  1.000], mean action: 2.255 [0.000, 5.000],  loss: 0.009676, mae: 1.016021, mean_q: 1.234011\n",
            " 66399/100000: episode: 82, duration: 34.884s, episode steps: 699, steps per second:  20, episode reward:  9.000, mean reward:  0.013 [ 0.000,  1.000], mean action: 2.541 [0.000, 5.000],  loss: 0.009789, mae: 1.024565, mean_q: 1.245429\n",
            " 67279/100000: episode: 83, duration: 44.583s, episode steps: 880, steps per second:  20, episode reward: 14.000, mean reward:  0.016 [ 0.000,  1.000], mean action: 2.522 [0.000, 5.000],  loss: 0.010316, mae: 1.026270, mean_q: 1.246966\n",
            " 67948/100000: episode: 84, duration: 34.933s, episode steps: 669, steps per second:  19, episode reward: 13.000, mean reward:  0.019 [ 0.000,  1.000], mean action: 2.230 [0.000, 5.000],  loss: 0.009428, mae: 1.030557, mean_q: 1.250469\n",
            " 68532/100000: episode: 85, duration: 30.163s, episode steps: 584, steps per second:  19, episode reward:  8.000, mean reward:  0.014 [ 0.000,  1.000], mean action: 3.152 [0.000, 5.000],  loss: 0.011326, mae: 1.041913, mean_q: 1.264726\n",
            " 69550/100000: episode: 86, duration: 52.048s, episode steps: 1018, steps per second:  20, episode reward: 22.000, mean reward:  0.022 [ 0.000,  1.000], mean action: 2.577 [0.000, 5.000],  loss: 0.010290, mae: 1.040020, mean_q: 1.262513\n",
            " 70468/100000: episode: 87, duration: 47.204s, episode steps: 918, steps per second:  19, episode reward: 21.000, mean reward:  0.023 [ 0.000,  1.000], mean action: 2.448 [0.000, 5.000],  loss: 0.011009, mae: 1.052565, mean_q: 1.278266\n",
            " 70978/100000: episode: 88, duration: 25.923s, episode steps: 510, steps per second:  20, episode reward: 10.000, mean reward:  0.020 [ 0.000,  1.000], mean action: 2.112 [0.000, 5.000],  loss: 0.009569, mae: 1.065018, mean_q: 1.294954\n",
            " 71707/100000: episode: 89, duration: 36.920s, episode steps: 729, steps per second:  20, episode reward: 14.000, mean reward:  0.019 [ 0.000,  1.000], mean action: 1.742 [0.000, 5.000],  loss: 0.010867, mae: 1.071702, mean_q: 1.302087\n",
            " 72672/100000: episode: 90, duration: 49.057s, episode steps: 965, steps per second:  20, episode reward: 20.000, mean reward:  0.021 [ 0.000,  1.000], mean action: 2.209 [0.000, 5.000],  loss: 0.011233, mae: 1.065806, mean_q: 1.293849\n",
            " 73745/100000: episode: 91, duration: 54.723s, episode steps: 1073, steps per second:  20, episode reward: 29.000, mean reward:  0.027 [ 0.000,  1.000], mean action: 2.267 [0.000, 5.000],  loss: 0.009821, mae: 1.067081, mean_q: 1.296333\n",
            " 74462/100000: episode: 92, duration: 36.440s, episode steps: 717, steps per second:  20, episode reward: 13.000, mean reward:  0.018 [ 0.000,  1.000], mean action: 2.855 [0.000, 5.000],  loss: 0.010249, mae: 1.059202, mean_q: 1.285887\n",
            " 75039/100000: episode: 93, duration: 29.198s, episode steps: 577, steps per second:  20, episode reward:  9.000, mean reward:  0.016 [ 0.000,  1.000], mean action: 2.399 [0.000, 5.000],  loss: 0.011273, mae: 1.055385, mean_q: 1.280220\n",
            " 75732/100000: episode: 94, duration: 35.183s, episode steps: 693, steps per second:  20, episode reward: 12.000, mean reward:  0.017 [ 0.000,  1.000], mean action: 2.687 [0.000, 5.000],  loss: 0.010905, mae: 1.078973, mean_q: 1.309767\n",
            " 76396/100000: episode: 95, duration: 33.953s, episode steps: 664, steps per second:  20, episode reward: 14.000, mean reward:  0.021 [ 0.000,  1.000], mean action: 2.553 [0.000, 5.000],  loss: 0.009494, mae: 1.053134, mean_q: 1.279601\n",
            " 77214/100000: episode: 96, duration: 41.724s, episode steps: 818, steps per second:  20, episode reward: 19.000, mean reward:  0.023 [ 0.000,  1.000], mean action: 2.121 [0.000, 5.000],  loss: 0.010500, mae: 1.066329, mean_q: 1.292770\n",
            " 77826/100000: episode: 97, duration: 31.132s, episode steps: 612, steps per second:  20, episode reward: 10.000, mean reward:  0.016 [ 0.000,  1.000], mean action: 1.827 [0.000, 5.000],  loss: 0.011636, mae: 1.055744, mean_q: 1.279448\n",
            " 78522/100000: episode: 98, duration: 35.349s, episode steps: 696, steps per second:  20, episode reward: 16.000, mean reward:  0.023 [ 0.000,  1.000], mean action: 2.214 [0.000, 5.000],  loss: 0.010056, mae: 1.070725, mean_q: 1.297421\n",
            " 79226/100000: episode: 99, duration: 35.788s, episode steps: 704, steps per second:  20, episode reward: 14.000, mean reward:  0.020 [ 0.000,  1.000], mean action: 2.210 [0.000, 5.000],  loss: 0.009779, mae: 1.054652, mean_q: 1.277431\n",
            " 79837/100000: episode: 100, duration: 31.061s, episode steps: 611, steps per second:  20, episode reward: 10.000, mean reward:  0.016 [ 0.000,  1.000], mean action: 2.390 [0.000, 5.000],  loss: 0.011311, mae: 1.058809, mean_q: 1.288155\n",
            " 80464/100000: episode: 101, duration: 32.721s, episode steps: 627, steps per second:  19, episode reward:  9.000, mean reward:  0.014 [ 0.000,  1.000], mean action: 2.188 [0.000, 5.000],  loss: 0.010108, mae: 1.077542, mean_q: 1.311438\n",
            " 81284/100000: episode: 102, duration: 42.021s, episode steps: 820, steps per second:  20, episode reward: 18.000, mean reward:  0.022 [ 0.000,  1.000], mean action: 2.868 [0.000, 5.000],  loss: 0.011725, mae: 1.119495, mean_q: 1.357511\n",
            " 81982/100000: episode: 103, duration: 35.792s, episode steps: 698, steps per second:  20, episode reward: 10.000, mean reward:  0.014 [ 0.000,  1.000], mean action: 2.676 [0.000, 5.000],  loss: 0.009845, mae: 1.100501, mean_q: 1.334331\n",
            " 82621/100000: episode: 104, duration: 32.586s, episode steps: 639, steps per second:  20, episode reward: 10.000, mean reward:  0.016 [ 0.000,  1.000], mean action: 2.516 [0.000, 5.000],  loss: 0.009569, mae: 1.092403, mean_q: 1.325849\n",
            " 83294/100000: episode: 105, duration: 34.017s, episode steps: 673, steps per second:  20, episode reward: 10.000, mean reward:  0.015 [ 0.000,  1.000], mean action: 2.348 [0.000, 5.000],  loss: 0.010239, mae: 1.093621, mean_q: 1.327190\n",
            " 83744/100000: episode: 106, duration: 22.891s, episode steps: 450, steps per second:  20, episode reward:  7.000, mean reward:  0.016 [ 0.000,  1.000], mean action: 2.360 [0.000, 5.000],  loss: 0.011111, mae: 1.085027, mean_q: 1.315391\n",
            " 84627/100000: episode: 107, duration: 45.092s, episode steps: 883, steps per second:  20, episode reward: 19.000, mean reward:  0.022 [ 0.000,  1.000], mean action: 2.700 [0.000, 5.000],  loss: 0.010884, mae: 1.093904, mean_q: 1.326852\n",
            " 85267/100000: episode: 108, duration: 32.961s, episode steps: 640, steps per second:  19, episode reward: 11.000, mean reward:  0.017 [ 0.000,  1.000], mean action: 2.753 [0.000, 5.000],  loss: 0.011568, mae: 1.101618, mean_q: 1.335880\n",
            " 85798/100000: episode: 109, duration: 27.396s, episode steps: 531, steps per second:  19, episode reward:  9.000, mean reward:  0.017 [ 0.000,  1.000], mean action: 2.290 [0.000, 5.000],  loss: 0.009965, mae: 1.106754, mean_q: 1.344360\n",
            " 86596/100000: episode: 110, duration: 41.526s, episode steps: 798, steps per second:  19, episode reward: 18.000, mean reward:  0.023 [ 0.000,  1.000], mean action: 1.915 [0.000, 5.000],  loss: 0.010193, mae: 1.092754, mean_q: 1.325237\n",
            " 87407/100000: episode: 111, duration: 42.121s, episode steps: 811, steps per second:  19, episode reward: 18.000, mean reward:  0.022 [ 0.000,  1.000], mean action: 2.547 [0.000, 5.000],  loss: 0.010668, mae: 1.098270, mean_q: 1.333159\n",
            " 88186/100000: episode: 112, duration: 40.265s, episode steps: 779, steps per second:  19, episode reward: 18.000, mean reward:  0.023 [ 0.000,  1.000], mean action: 2.955 [0.000, 5.000],  loss: 0.010718, mae: 1.106915, mean_q: 1.343198\n",
            " 89283/100000: episode: 113, duration: 56.826s, episode steps: 1097, steps per second:  19, episode reward: 21.000, mean reward:  0.019 [ 0.000,  1.000], mean action: 2.521 [0.000, 5.000],  loss: 0.009436, mae: 1.097189, mean_q: 1.331273\n",
            " 89824/100000: episode: 114, duration: 28.454s, episode steps: 541, steps per second:  19, episode reward:  9.000, mean reward:  0.017 [ 0.000,  1.000], mean action: 2.416 [0.000, 5.000],  loss: 0.009147, mae: 1.088611, mean_q: 1.319155\n",
            " 90658/100000: episode: 115, duration: 44.385s, episode steps: 834, steps per second:  19, episode reward: 18.000, mean reward:  0.022 [ 0.000,  1.000], mean action: 2.198 [0.000, 5.000],  loss: 0.011448, mae: 1.130674, mean_q: 1.371578\n",
            " 91362/100000: episode: 116, duration: 36.534s, episode steps: 704, steps per second:  19, episode reward: 13.000, mean reward:  0.018 [ 0.000,  1.000], mean action: 1.812 [0.000, 5.000],  loss: 0.011115, mae: 1.129803, mean_q: 1.369405\n",
            " 92343/100000: episode: 117, duration: 50.421s, episode steps: 981, steps per second:  19, episode reward: 23.000, mean reward:  0.023 [ 0.000,  1.000], mean action: 2.130 [0.000, 5.000],  loss: 0.010917, mae: 1.139633, mean_q: 1.381595\n",
            " 92880/100000: episode: 118, duration: 28.003s, episode steps: 537, steps per second:  19, episode reward:  9.000, mean reward:  0.017 [ 0.000,  1.000], mean action: 2.562 [0.000, 5.000],  loss: 0.013011, mae: 1.155454, mean_q: 1.399385\n",
            " 93601/100000: episode: 119, duration: 37.366s, episode steps: 721, steps per second:  19, episode reward: 14.000, mean reward:  0.019 [ 0.000,  1.000], mean action: 1.867 [0.000, 5.000],  loss: 0.010511, mae: 1.145235, mean_q: 1.388155\n",
            " 94577/100000: episode: 120, duration: 51.096s, episode steps: 976, steps per second:  19, episode reward: 20.000, mean reward:  0.020 [ 0.000,  1.000], mean action: 2.123 [0.000, 5.000],  loss: 0.011252, mae: 1.150639, mean_q: 1.394252\n",
            " 95297/100000: episode: 121, duration: 37.924s, episode steps: 720, steps per second:  19, episode reward: 17.000, mean reward:  0.024 [ 0.000,  1.000], mean action: 2.021 [0.000, 5.000],  loss: 0.010359, mae: 1.141442, mean_q: 1.384393\n",
            " 95763/100000: episode: 122, duration: 24.347s, episode steps: 466, steps per second:  19, episode reward:  9.000, mean reward:  0.019 [ 0.000,  1.000], mean action: 2.833 [0.000, 5.000],  loss: 0.010864, mae: 1.133761, mean_q: 1.375269\n",
            " 96594/100000: episode: 123, duration: 43.452s, episode steps: 831, steps per second:  19, episode reward: 19.000, mean reward:  0.023 [ 0.000,  1.000], mean action: 1.758 [0.000, 5.000],  loss: 0.010424, mae: 1.149832, mean_q: 1.393268\n",
            " 97142/100000: episode: 124, duration: 28.542s, episode steps: 548, steps per second:  19, episode reward:  8.000, mean reward:  0.015 [ 0.000,  1.000], mean action: 2.266 [0.000, 5.000],  loss: 0.011374, mae: 1.137147, mean_q: 1.378629\n",
            " 98180/100000: episode: 125, duration: 54.799s, episode steps: 1038, steps per second:  19, episode reward: 22.000, mean reward:  0.021 [ 0.000,  1.000], mean action: 1.908 [0.000, 5.000],  loss: 0.011252, mae: 1.154991, mean_q: 1.399941\n",
            " 98823/100000: episode: 126, duration: 34.502s, episode steps: 643, steps per second:  19, episode reward: 14.000, mean reward:  0.022 [ 0.000,  1.000], mean action: 1.891 [0.000, 5.000],  loss: 0.010801, mae: 1.149485, mean_q: 1.394298\n",
            " 99522/100000: episode: 127, duration: 37.059s, episode steps: 699, steps per second:  19, episode reward: 13.000, mean reward:  0.019 [ 0.000,  1.000], mean action: 1.760 [0.000, 5.000],  loss: 0.010145, mae: 1.127277, mean_q: 1.366749\n",
            "done, took 3105.354 seconds\n"
          ]
        }
      ],
      "source": [
        "# Cargar pesos anteriores si existen\n",
        "latest_path, trained_steps = load_latest_weights(dqn, checkpoint_dir)\n",
        "if latest_path:\n",
        "    dqn.load_weights(latest_path)\n",
        "else:\n",
        "    trained_steps = 0\n",
        "\n",
        "# Definir pasos a entrenar\n",
        "steps_to_train = 100000\n",
        "total_steps = trained_steps + steps_to_train\n",
        "\n",
        "# Crear paths y callbacks dinámicos\n",
        "log_path = os.path.join(log_dir, f\"dqn_noisy_log_{trained_steps}_{total_steps}.json\")\n",
        "checkpoint_path = os.path.join(checkpoint_dir, f\"dqn_noisy_weights_{total_steps}.h5\")\n",
        "\n",
        "logger_callback = FileLogger(log_path, interval=100)\n",
        "checkpoint_callback = ModelIntervalCheckpoint(checkpoint_path, interval=10000)\n",
        "\n",
        "# Entrenar agente\n",
        "dqn.fit(env, nb_steps=steps_to_train, visualize=False, verbose=2,\n",
        "        callbacks=[checkpoint_callback, logger_callback])\n",
        "\n",
        "# Guardar pesos finales\n",
        "dqn.save_weights(checkpoint_path, overwrite=True)"
      ]
    },
    {
      "cell_type": "code",
      "source": [
        "# Guardar la memoria de experiencia\n",
        "import pickle\n",
        "with open('memory_noisy.pkl', 'wb') as f:\n",
        "    pickle.dump(memory, f)\n",
        "\n",
        "print(f\"Entrenamiento hasta {total_steps} pasos completado y guardado.\")"
      ],
      "metadata": {
        "id": "nzvOIt6MtYvB",
        "colab": {
          "base_uri": "https://localhost:8080/"
        },
        "outputId": "1d723a79-dfcb-4e4f-f6a8-526fad4c0927"
      },
      "execution_count": null,
      "outputs": [
        {
          "output_type": "stream",
          "name": "stdout",
          "text": [
            "Entrenamiento hasta 1200000 pasos completado y guardado.\n"
          ]
        }
      ]
    },
    {
      "cell_type": "code",
      "execution_count": null,
      "metadata": {
        "id": "f-su6JzKhq6e",
        "colab": {
          "base_uri": "https://localhost:8080/"
        },
        "outputId": "028691f8-0bfe-4e80-e2bd-872358cedb9b"
      },
      "outputs": [
        {
          "output_type": "stream",
          "name": "stdout",
          "text": [
            "Esperando 60 segundos...\n",
            "¡Tiempo de espera terminado!\n"
          ]
        }
      ],
      "source": [
        "import time\n",
        "\n",
        "print(\"Esperando 60 segundos...\")\n",
        "time.sleep(60)\n",
        "print(\"¡Tiempo de espera terminado!\")"
      ]
    },
    {
      "cell_type": "code",
      "execution_count": null,
      "metadata": {
        "id": "eFjQX9b6huX7",
        "colab": {
          "base_uri": "https://localhost:8080/"
        },
        "outputId": "ffa159be-8d9a-4242-b1cf-7228092e7b0d"
      },
      "outputs": [
        {
          "output_type": "stream",
          "name": "stdout",
          "text": [
            "✅ Cargando pesos desde: /content/gdrive/My Drive/MODELO 14/checkpoints/dqn_noisy_weights_1200000.h5 (pasos entrenados: 1200000)\n",
            "Testing for 10 episodes ...\n",
            "Episode 1: reward: 10.000, steps: 593\n",
            "Episode 2: reward: 22.000, steps: 1022\n",
            "Episode 3: reward: 21.000, steps: 1032\n",
            "Episode 4: reward: 9.000, steps: 641\n",
            "Episode 5: reward: 19.000, steps: 1056\n",
            "Episode 6: reward: 8.000, steps: 640\n",
            "Episode 7: reward: 11.000, steps: 541\n",
            "Episode 8: reward: 7.000, steps: 482\n",
            "Episode 9: reward: 21.000, steps: 871\n",
            "Episode 10: reward: 7.000, steps: 623\n"
          ]
        }
      ],
      "source": [
        "# Testear desde último checkpoint\n",
        "latest_path, trained_steps = load_latest_weights(dqn, checkpoint_dir)\n",
        "if latest_path:\n",
        "    dqn.test(env, nb_episodes=10, visualize=False)"
      ]
    },
    {
      "cell_type": "markdown",
      "source": [
        "Parte 4"
      ],
      "metadata": {
        "id": "ODmg-2FNCaBf"
      }
    },
    {
      "cell_type": "code",
      "source": [
        "# Cargar pesos anteriores si existen\n",
        "latest_path, trained_steps = load_latest_weights(dqn, checkpoint_dir)\n",
        "if latest_path:\n",
        "    dqn.load_weights(latest_path)\n",
        "else:\n",
        "    trained_steps = 0\n",
        "\n",
        "# Definir pasos a entrenar\n",
        "steps_to_train = 100000\n",
        "total_steps = trained_steps + steps_to_train\n",
        "\n",
        "# Crear paths y callbacks dinámicos\n",
        "log_path = os.path.join(log_dir, f\"dqn_noisy_log_{trained_steps}_{total_steps}.json\")\n",
        "checkpoint_path = os.path.join(checkpoint_dir, f\"dqn_noisy_weights_{total_steps}.h5\")\n",
        "\n",
        "logger_callback = FileLogger(log_path, interval=100)\n",
        "checkpoint_callback = ModelIntervalCheckpoint(checkpoint_path, interval=10000)\n",
        "\n",
        "# Entrenar agente\n",
        "dqn.fit(env, nb_steps=steps_to_train, visualize=False, verbose=2,\n",
        "        callbacks=[checkpoint_callback, logger_callback])\n",
        "\n",
        "# Guardar pesos finales\n",
        "dqn.save_weights(checkpoint_path, overwrite=True)"
      ],
      "metadata": {
        "colab": {
          "base_uri": "https://localhost:8080/"
        },
        "id": "vXMthbmOCWUD",
        "outputId": "0fb4143a-fca6-49ee-a2ab-c1b050afff3b"
      },
      "execution_count": null,
      "outputs": [
        {
          "output_type": "stream",
          "name": "stdout",
          "text": [
            "✅ Cargando pesos desde: /content/gdrive/My Drive/MODELO 14/checkpoints/dqn_noisy_weights_1200000.h5 (pasos entrenados: 1200000)\n",
            "Training for 100000 steps ...\n",
            "   884/100000: episode: 1, duration: 9.702s, episode steps: 884, steps per second:  91, episode reward: 17.000, mean reward:  0.019 [ 0.000,  1.000], mean action: 3.191 [0.000, 5.000],  loss: --, mae: --, mean_q: --\n",
            "  1893/100000: episode: 2, duration: 10.936s, episode steps: 1009, steps per second:  92, episode reward: 20.000, mean reward:  0.020 [ 0.000,  1.000], mean action: 3.139 [0.000, 5.000],  loss: --, mae: --, mean_q: --\n",
            "  3023/100000: episode: 3, duration: 12.162s, episode steps: 1130, steps per second:  93, episode reward: 27.000, mean reward:  0.024 [ 0.000,  1.000], mean action: 3.092 [0.000, 5.000],  loss: --, mae: --, mean_q: --\n",
            "  3676/100000: episode: 4, duration: 6.957s, episode steps: 653, steps per second:  94, episode reward:  8.000, mean reward:  0.012 [ 0.000,  1.000], mean action: 3.029 [0.000, 5.000],  loss: --, mae: --, mean_q: --\n",
            "  4412/100000: episode: 5, duration: 8.031s, episode steps: 736, steps per second:  92, episode reward: 11.000, mean reward:  0.015 [ 0.000,  1.000], mean action: 3.215 [0.000, 5.000],  loss: --, mae: --, mean_q: --\n",
            "  5157/100000: episode: 6, duration: 7.977s, episode steps: 745, steps per second:  93, episode reward: 16.000, mean reward:  0.021 [ 0.000,  1.000], mean action: 3.030 [0.000, 5.000],  loss: --, mae: --, mean_q: --\n",
            "  5823/100000: episode: 7, duration: 7.107s, episode steps: 666, steps per second:  94, episode reward: 11.000, mean reward:  0.017 [ 0.000,  1.000], mean action: 2.935 [0.000, 5.000],  loss: --, mae: --, mean_q: --\n",
            "  6541/100000: episode: 8, duration: 7.866s, episode steps: 718, steps per second:  91, episode reward: 13.000, mean reward:  0.018 [ 0.000,  1.000], mean action: 3.102 [0.000, 5.000],  loss: --, mae: --, mean_q: --\n",
            "  7394/100000: episode: 9, duration: 9.049s, episode steps: 853, steps per second:  94, episode reward: 17.000, mean reward:  0.020 [ 0.000,  1.000], mean action: 3.023 [0.000, 5.000],  loss: --, mae: --, mean_q: --\n",
            "  7839/100000: episode: 10, duration: 4.910s, episode steps: 445, steps per second:  91, episode reward:  9.000, mean reward:  0.020 [ 0.000,  1.000], mean action: 3.126 [0.000, 5.000],  loss: --, mae: --, mean_q: --\n",
            "  8382/100000: episode: 11, duration: 5.769s, episode steps: 543, steps per second:  94, episode reward:  7.000, mean reward:  0.013 [ 0.000,  1.000], mean action: 3.206 [0.000, 5.000],  loss: --, mae: --, mean_q: --\n",
            "  9141/100000: episode: 12, duration: 8.360s, episode steps: 759, steps per second:  91, episode reward: 15.000, mean reward:  0.020 [ 0.000,  1.000], mean action: 3.075 [0.000, 5.000],  loss: --, mae: --, mean_q: --\n",
            "  9987/100000: episode: 13, duration: 9.423s, episode steps: 846, steps per second:  90, episode reward: 17.000, mean reward:  0.020 [ 0.000,  1.000], mean action: 3.092 [0.000, 5.000],  loss: --, mae: --, mean_q: --\n",
            " 10806/100000: episode: 14, duration: 8.749s, episode steps: 819, steps per second:  94, episode reward: 17.000, mean reward:  0.021 [ 0.000,  1.000], mean action: 3.219 [0.000, 5.000],  loss: --, mae: --, mean_q: --\n",
            " 11263/100000: episode: 15, duration: 5.200s, episode steps: 457, steps per second:  88, episode reward:  8.000, mean reward:  0.018 [ 0.000,  1.000], mean action: 3.151 [0.000, 5.000],  loss: --, mae: --, mean_q: --\n",
            " 11935/100000: episode: 16, duration: 7.101s, episode steps: 672, steps per second:  95, episode reward:  9.000, mean reward:  0.013 [ 0.000,  1.000], mean action: 3.052 [0.000, 5.000],  loss: --, mae: --, mean_q: --\n",
            " 12592/100000: episode: 17, duration: 7.232s, episode steps: 657, steps per second:  91, episode reward:  7.000, mean reward:  0.011 [ 0.000,  1.000], mean action: 3.065 [0.000, 5.000],  loss: --, mae: --, mean_q: --\n",
            " 13047/100000: episode: 18, duration: 4.849s, episode steps: 455, steps per second:  94, episode reward:  8.000, mean reward:  0.018 [ 0.000,  1.000], mean action: 3.119 [0.000, 5.000],  loss: --, mae: --, mean_q: --\n",
            " 13700/100000: episode: 19, duration: 7.247s, episode steps: 653, steps per second:  90, episode reward:  9.000, mean reward:  0.014 [ 0.000,  1.000], mean action: 3.188 [0.000, 5.000],  loss: --, mae: --, mean_q: --\n",
            " 14558/100000: episode: 20, duration: 9.310s, episode steps: 858, steps per second:  92, episode reward: 19.000, mean reward:  0.022 [ 0.000,  1.000], mean action: 3.204 [0.000, 5.000],  loss: --, mae: --, mean_q: --\n",
            " 15595/100000: episode: 21, duration: 11.148s, episode steps: 1037, steps per second:  93, episode reward: 20.000, mean reward:  0.019 [ 0.000,  1.000], mean action: 2.980 [0.000, 5.000],  loss: --, mae: --, mean_q: --\n",
            " 16153/100000: episode: 22, duration: 6.115s, episode steps: 558, steps per second:  91, episode reward:  8.000, mean reward:  0.014 [ 0.000,  1.000], mean action: 3.174 [0.000, 5.000],  loss: --, mae: --, mean_q: --\n",
            " 16967/100000: episode: 23, duration: 8.985s, episode steps: 814, steps per second:  91, episode reward: 15.000, mean reward:  0.018 [ 0.000,  1.000], mean action: 3.028 [0.000, 5.000],  loss: --, mae: --, mean_q: --\n",
            " 17620/100000: episode: 24, duration: 7.024s, episode steps: 653, steps per second:  93, episode reward:  8.000, mean reward:  0.012 [ 0.000,  1.000], mean action: 3.029 [0.000, 5.000],  loss: --, mae: --, mean_q: --\n",
            " 18403/100000: episode: 25, duration: 8.636s, episode steps: 783, steps per second:  91, episode reward: 17.000, mean reward:  0.022 [ 0.000,  1.000], mean action: 3.102 [0.000, 5.000],  loss: --, mae: --, mean_q: --\n",
            " 19544/100000: episode: 26, duration: 12.402s, episode steps: 1141, steps per second:  92, episode reward: 23.000, mean reward:  0.020 [ 0.000,  1.000], mean action: 3.061 [0.000, 5.000],  loss: --, mae: --, mean_q: --\n",
            " 20093/100000: episode: 27, duration: 6.551s, episode steps: 549, steps per second:  84, episode reward:  7.000, mean reward:  0.013 [ 0.000,  1.000], mean action: 3.129 [0.000, 5.000],  loss: --, mae: --, mean_q: --\n",
            " 20697/100000: episode: 28, duration: 6.675s, episode steps: 604, steps per second:  90, episode reward:  7.000, mean reward:  0.012 [ 0.000,  1.000], mean action: 3.113 [0.000, 5.000],  loss: --, mae: --, mean_q: --\n",
            " 21341/100000: episode: 29, duration: 6.783s, episode steps: 644, steps per second:  95, episode reward:  8.000, mean reward:  0.012 [ 0.000,  1.000], mean action: 3.165 [0.000, 5.000],  loss: --, mae: --, mean_q: --\n",
            " 22061/100000: episode: 30, duration: 7.858s, episode steps: 720, steps per second:  92, episode reward: 11.000, mean reward:  0.015 [ 0.000,  1.000], mean action: 3.097 [0.000, 5.000],  loss: --, mae: --, mean_q: --\n",
            " 22816/100000: episode: 31, duration: 8.165s, episode steps: 755, steps per second:  92, episode reward: 13.000, mean reward:  0.017 [ 0.000,  1.000], mean action: 3.045 [0.000, 5.000],  loss: --, mae: --, mean_q: --\n",
            " 23443/100000: episode: 32, duration: 6.613s, episode steps: 627, steps per second:  95, episode reward:  9.000, mean reward:  0.014 [ 0.000,  1.000], mean action: 3.067 [0.000, 5.000],  loss: --, mae: --, mean_q: --\n",
            " 24031/100000: episode: 33, duration: 6.488s, episode steps: 588, steps per second:  91, episode reward:  7.000, mean reward:  0.012 [ 0.000,  1.000], mean action: 3.002 [0.000, 5.000],  loss: --, mae: --, mean_q: --\n",
            " 24649/100000: episode: 34, duration: 6.524s, episode steps: 618, steps per second:  95, episode reward:  7.000, mean reward:  0.011 [ 0.000,  1.000], mean action: 3.220 [0.000, 5.000],  loss: --, mae: --, mean_q: --\n",
            " 25236/100000: episode: 35, duration: 6.469s, episode steps: 587, steps per second:  91, episode reward:  6.000, mean reward:  0.010 [ 0.000,  1.000], mean action: 3.129 [0.000, 5.000],  loss: --, mae: --, mean_q: --\n",
            " 26207/100000: episode: 36, duration: 10.387s, episode steps: 971, steps per second:  93, episode reward: 21.000, mean reward:  0.022 [ 0.000,  1.000], mean action: 3.100 [0.000, 5.000],  loss: --, mae: --, mean_q: --\n",
            " 26703/100000: episode: 37, duration: 5.331s, episode steps: 496, steps per second:  93, episode reward: 10.000, mean reward:  0.020 [ 0.000,  1.000], mean action: 3.085 [0.000, 5.000],  loss: --, mae: --, mean_q: --\n",
            " 27263/100000: episode: 38, duration: 6.003s, episode steps: 560, steps per second:  93, episode reward:  8.000, mean reward:  0.014 [ 0.000,  1.000], mean action: 3.225 [0.000, 5.000],  loss: --, mae: --, mean_q: --\n",
            " 27994/100000: episode: 39, duration: 7.873s, episode steps: 731, steps per second:  93, episode reward: 13.000, mean reward:  0.018 [ 0.000,  1.000], mean action: 3.041 [0.000, 5.000],  loss: --, mae: --, mean_q: --\n",
            " 28600/100000: episode: 40, duration: 6.383s, episode steps: 606, steps per second:  95, episode reward:  9.000, mean reward:  0.015 [ 0.000,  1.000], mean action: 3.206 [0.000, 5.000],  loss: --, mae: --, mean_q: --\n",
            " 29224/100000: episode: 41, duration: 6.642s, episode steps: 624, steps per second:  94, episode reward:  8.000, mean reward:  0.013 [ 0.000,  1.000], mean action: 3.154 [0.000, 5.000],  loss: --, mae: --, mean_q: --\n",
            " 29968/100000: episode: 42, duration: 7.885s, episode steps: 744, steps per second:  94, episode reward: 17.000, mean reward:  0.023 [ 0.000,  1.000], mean action: 3.196 [0.000, 5.000],  loss: --, mae: --, mean_q: --\n",
            " 30613/100000: episode: 43, duration: 7.939s, episode steps: 645, steps per second:  81, episode reward:  8.000, mean reward:  0.012 [ 0.000,  1.000], mean action: 3.208 [0.000, 5.000],  loss: --, mae: --, mean_q: --\n",
            " 31399/100000: episode: 44, duration: 8.559s, episode steps: 786, steps per second:  92, episode reward: 17.000, mean reward:  0.022 [ 0.000,  1.000], mean action: 3.228 [0.000, 5.000],  loss: --, mae: --, mean_q: --\n",
            " 32518/100000: episode: 45, duration: 11.967s, episode steps: 1119, steps per second:  94, episode reward: 24.000, mean reward:  0.021 [ 0.000,  1.000], mean action: 3.073 [0.000, 5.000],  loss: --, mae: --, mean_q: --\n",
            " 33244/100000: episode: 46, duration: 7.695s, episode steps: 726, steps per second:  94, episode reward: 11.000, mean reward:  0.015 [ 0.000,  1.000], mean action: 3.136 [0.000, 5.000],  loss: --, mae: --, mean_q: --\n",
            " 34038/100000: episode: 47, duration: 8.350s, episode steps: 794, steps per second:  95, episode reward: 18.000, mean reward:  0.023 [ 0.000,  1.000], mean action: 3.021 [0.000, 5.000],  loss: --, mae: --, mean_q: --\n",
            " 34871/100000: episode: 48, duration: 9.027s, episode steps: 833, steps per second:  92, episode reward: 16.000, mean reward:  0.019 [ 0.000,  1.000], mean action: 3.161 [0.000, 5.000],  loss: --, mae: --, mean_q: --\n",
            " 35647/100000: episode: 49, duration: 8.307s, episode steps: 776, steps per second:  93, episode reward: 18.000, mean reward:  0.023 [ 0.000,  1.000], mean action: 3.160 [0.000, 5.000],  loss: --, mae: --, mean_q: --\n",
            " 36249/100000: episode: 50, duration: 6.543s, episode steps: 602, steps per second:  92, episode reward:  7.000, mean reward:  0.012 [ 0.000,  1.000], mean action: 3.135 [0.000, 5.000],  loss: --, mae: --, mean_q: --\n",
            " 37205/100000: episode: 51, duration: 10.224s, episode steps: 956, steps per second:  94, episode reward: 27.000, mean reward:  0.028 [ 0.000,  1.000], mean action: 3.126 [0.000, 5.000],  loss: --, mae: --, mean_q: --\n",
            " 37755/100000: episode: 52, duration: 5.770s, episode steps: 550, steps per second:  95, episode reward:  8.000, mean reward:  0.015 [ 0.000,  1.000], mean action: 3.204 [0.000, 5.000],  loss: --, mae: --, mean_q: --\n",
            " 38988/100000: episode: 53, duration: 12.970s, episode steps: 1233, steps per second:  95, episode reward: 27.000, mean reward:  0.022 [ 0.000,  1.000], mean action: 3.067 [0.000, 5.000],  loss: --, mae: --, mean_q: --\n",
            " 40009/100000: episode: 54, duration: 11.595s, episode steps: 1021, steps per second:  88, episode reward: 20.000, mean reward:  0.020 [ 0.000,  1.000], mean action: 3.062 [0.000, 5.000],  loss: --, mae: --, mean_q: --\n",
            " 40685/100000: episode: 55, duration: 7.264s, episode steps: 676, steps per second:  93, episode reward:  8.000, mean reward:  0.012 [ 0.000,  1.000], mean action: 3.124 [0.000, 5.000],  loss: --, mae: --, mean_q: --\n",
            " 41376/100000: episode: 56, duration: 7.150s, episode steps: 691, steps per second:  97, episode reward: 12.000, mean reward:  0.017 [ 0.000,  1.000], mean action: 3.156 [0.000, 5.000],  loss: --, mae: --, mean_q: --\n",
            " 41987/100000: episode: 57, duration: 6.586s, episode steps: 611, steps per second:  93, episode reward:  8.000, mean reward:  0.013 [ 0.000,  1.000], mean action: 3.000 [0.000, 5.000],  loss: --, mae: --, mean_q: --\n",
            " 42722/100000: episode: 58, duration: 7.668s, episode steps: 735, steps per second:  96, episode reward: 12.000, mean reward:  0.016 [ 0.000,  1.000], mean action: 3.121 [0.000, 5.000],  loss: --, mae: --, mean_q: --\n",
            " 43129/100000: episode: 59, duration: 4.373s, episode steps: 407, steps per second:  93, episode reward:  7.000, mean reward:  0.017 [ 0.000,  1.000], mean action: 3.400 [0.000, 5.000],  loss: --, mae: --, mean_q: --\n",
            " 43796/100000: episode: 60, duration: 6.925s, episode steps: 667, steps per second:  96, episode reward: 13.000, mean reward:  0.019 [ 0.000,  1.000], mean action: 2.787 [0.000, 5.000],  loss: --, mae: --, mean_q: --\n",
            " 44366/100000: episode: 61, duration: 6.063s, episode steps: 570, steps per second:  94, episode reward:  8.000, mean reward:  0.014 [ 0.000,  1.000], mean action: 3.219 [0.000, 5.000],  loss: --, mae: --, mean_q: --\n",
            " 45120/100000: episode: 62, duration: 7.855s, episode steps: 754, steps per second:  96, episode reward: 15.000, mean reward:  0.020 [ 0.000,  1.000], mean action: 3.109 [0.000, 5.000],  loss: --, mae: --, mean_q: --\n",
            " 45704/100000: episode: 63, duration: 6.259s, episode steps: 584, steps per second:  93, episode reward:  8.000, mean reward:  0.014 [ 0.000,  1.000], mean action: 3.034 [0.000, 5.000],  loss: --, mae: --, mean_q: --\n",
            " 46145/100000: episode: 64, duration: 4.687s, episode steps: 441, steps per second:  94, episode reward:  8.000, mean reward:  0.018 [ 0.000,  1.000], mean action: 3.193 [0.000, 5.000],  loss: --, mae: --, mean_q: --\n",
            " 46768/100000: episode: 65, duration: 6.878s, episode steps: 623, steps per second:  91, episode reward:  8.000, mean reward:  0.013 [ 0.000,  1.000], mean action: 3.136 [0.000, 5.000],  loss: --, mae: --, mean_q: --\n",
            " 47451/100000: episode: 66, duration: 7.119s, episode steps: 683, steps per second:  96, episode reward: 11.000, mean reward:  0.016 [ 0.000,  1.000], mean action: 2.928 [0.000, 5.000],  loss: --, mae: --, mean_q: --\n",
            " 48019/100000: episode: 67, duration: 6.124s, episode steps: 568, steps per second:  93, episode reward:  7.000, mean reward:  0.012 [ 0.000,  1.000], mean action: 3.245 [0.000, 5.000],  loss: --, mae: --, mean_q: --\n",
            " 48975/100000: episode: 68, duration: 10.137s, episode steps: 956, steps per second:  94, episode reward: 21.000, mean reward:  0.022 [ 0.000,  1.000], mean action: 3.210 [0.000, 5.000],  loss: --, mae: --, mean_q: --\n",
            " 49720/100000: episode: 69, duration: 7.730s, episode steps: 745, steps per second:  96, episode reward: 15.000, mean reward:  0.020 [ 0.000,  1.000], mean action: 3.091 [0.000, 5.000],  loss: --, mae: --, mean_q: --\n",
            " 50278/100000: episode: 70, duration: 17.953s, episode steps: 558, steps per second:  31, episode reward:  8.000, mean reward:  0.014 [ 0.000,  1.000], mean action: 2.946 [0.000, 5.000],  loss: 0.011603, mae: 1.154637, mean_q: 1.400472\n",
            " 50924/100000: episode: 71, duration: 32.741s, episode steps: 646, steps per second:  20, episode reward:  9.000, mean reward:  0.014 [ 0.000,  1.000], mean action: 2.105 [0.000, 5.000],  loss: 0.010695, mae: 1.149378, mean_q: 1.391449\n",
            " 51555/100000: episode: 72, duration: 32.157s, episode steps: 631, steps per second:  20, episode reward: 10.000, mean reward:  0.016 [ 0.000,  1.000], mean action: 1.979 [0.000, 5.000],  loss: 0.009987, mae: 1.168095, mean_q: 1.415461\n",
            " 52525/100000: episode: 73, duration: 48.883s, episode steps: 970, steps per second:  20, episode reward: 27.000, mean reward:  0.028 [ 0.000,  1.000], mean action: 1.982 [0.000, 5.000],  loss: 0.010030, mae: 1.133683, mean_q: 1.374580\n",
            " 53659/100000: episode: 74, duration: 57.258s, episode steps: 1134, steps per second:  20, episode reward: 20.000, mean reward:  0.018 [ 0.000,  1.000], mean action: 2.630 [0.000, 5.000],  loss: 0.011451, mae: 1.150074, mean_q: 1.393638\n",
            " 54613/100000: episode: 75, duration: 48.244s, episode steps: 954, steps per second:  20, episode reward: 20.000, mean reward:  0.021 [ 0.000,  1.000], mean action: 2.196 [0.000, 5.000],  loss: 0.011380, mae: 1.154857, mean_q: 1.399127\n",
            " 55118/100000: episode: 76, duration: 25.700s, episode steps: 505, steps per second:  20, episode reward:  8.000, mean reward:  0.016 [ 0.000,  1.000], mean action: 2.519 [0.000, 5.000],  loss: 0.011047, mae: 1.144151, mean_q: 1.385781\n",
            " 55874/100000: episode: 77, duration: 38.565s, episode steps: 756, steps per second:  20, episode reward: 15.000, mean reward:  0.020 [ 0.000,  1.000], mean action: 2.410 [0.000, 5.000],  loss: 0.010485, mae: 1.160903, mean_q: 1.408202\n",
            " 56997/100000: episode: 78, duration: 57.261s, episode steps: 1123, steps per second:  20, episode reward: 25.000, mean reward:  0.022 [ 0.000,  1.000], mean action: 2.508 [0.000, 5.000],  loss: 0.010930, mae: 1.161245, mean_q: 1.408409\n",
            " 57680/100000: episode: 79, duration: 34.673s, episode steps: 683, steps per second:  20, episode reward: 15.000, mean reward:  0.022 [ 0.000,  1.000], mean action: 2.296 [0.000, 5.000],  loss: 0.010592, mae: 1.144125, mean_q: 1.385058\n",
            " 58121/100000: episode: 80, duration: 22.458s, episode steps: 441, steps per second:  20, episode reward:  7.000, mean reward:  0.016 [ 0.000,  1.000], mean action: 2.270 [0.000, 5.000],  loss: 0.010986, mae: 1.168561, mean_q: 1.413599\n",
            " 58914/100000: episode: 81, duration: 40.154s, episode steps: 793, steps per second:  20, episode reward: 19.000, mean reward:  0.024 [ 0.000,  1.000], mean action: 2.028 [0.000, 5.000],  loss: 0.011045, mae: 1.181833, mean_q: 1.430666\n",
            " 60166/100000: episode: 82, duration: 64.426s, episode steps: 1252, steps per second:  19, episode reward: 23.000, mean reward:  0.018 [ 0.000,  1.000], mean action: 2.768 [0.000, 5.000],  loss: 0.010455, mae: 1.140608, mean_q: 1.381409\n",
            " 60810/100000: episode: 83, duration: 32.688s, episode steps: 644, steps per second:  20, episode reward: 11.000, mean reward:  0.017 [ 0.000,  1.000], mean action: 2.194 [0.000, 5.000],  loss: 0.010528, mae: 1.155099, mean_q: 1.399918\n",
            " 61330/100000: episode: 84, duration: 26.416s, episode steps: 520, steps per second:  20, episode reward: 10.000, mean reward:  0.019 [ 0.000,  1.000], mean action: 2.433 [0.000, 5.000],  loss: 0.011451, mae: 1.182445, mean_q: 1.431534\n",
            " 61776/100000: episode: 85, duration: 22.664s, episode steps: 446, steps per second:  20, episode reward:  8.000, mean reward:  0.018 [ 0.000,  1.000], mean action: 1.740 [0.000, 5.000],  loss: 0.008937, mae: 1.173363, mean_q: 1.421730\n",
            " 62332/100000: episode: 86, duration: 28.457s, episode steps: 556, steps per second:  20, episode reward:  9.000, mean reward:  0.016 [ 0.000,  1.000], mean action: 1.906 [0.000, 5.000],  loss: 0.011119, mae: 1.157486, mean_q: 1.402205\n",
            " 63034/100000: episode: 87, duration: 35.677s, episode steps: 702, steps per second:  20, episode reward: 15.000, mean reward:  0.021 [ 0.000,  1.000], mean action: 2.128 [0.000, 5.000],  loss: 0.012190, mae: 1.165812, mean_q: 1.412354\n",
            " 63449/100000: episode: 88, duration: 20.976s, episode steps: 415, steps per second:  20, episode reward:  7.000, mean reward:  0.017 [ 0.000,  1.000], mean action: 2.253 [0.000, 5.000],  loss: 0.011319, mae: 1.139080, mean_q: 1.379416\n",
            " 63935/100000: episode: 89, duration: 24.729s, episode steps: 486, steps per second:  20, episode reward:  8.000, mean reward:  0.016 [ 0.000,  1.000], mean action: 2.733 [0.000, 5.000],  loss: 0.009207, mae: 1.158160, mean_q: 1.404580\n",
            " 64399/100000: episode: 90, duration: 23.529s, episode steps: 464, steps per second:  20, episode reward:  9.000, mean reward:  0.019 [ 0.000,  1.000], mean action: 1.998 [0.000, 5.000],  loss: 0.010088, mae: 1.157945, mean_q: 1.403589\n",
            " 65038/100000: episode: 91, duration: 32.545s, episode steps: 639, steps per second:  20, episode reward: 11.000, mean reward:  0.017 [ 0.000,  1.000], mean action: 2.357 [0.000, 5.000],  loss: 0.010497, mae: 1.152937, mean_q: 1.396702\n",
            " 65769/100000: episode: 92, duration: 37.109s, episode steps: 731, steps per second:  20, episode reward: 13.000, mean reward:  0.018 [ 0.000,  1.000], mean action: 2.341 [0.000, 5.000],  loss: 0.011275, mae: 1.167022, mean_q: 1.414045\n",
            " 66313/100000: episode: 93, duration: 27.539s, episode steps: 544, steps per second:  20, episode reward:  9.000, mean reward:  0.017 [ 0.000,  1.000], mean action: 2.564 [0.000, 5.000],  loss: 0.010814, mae: 1.155789, mean_q: 1.403147\n",
            " 66774/100000: episode: 94, duration: 23.567s, episode steps: 461, steps per second:  20, episode reward:  7.000, mean reward:  0.015 [ 0.000,  1.000], mean action: 1.905 [0.000, 5.000],  loss: 0.009380, mae: 1.158068, mean_q: 1.405842\n",
            " 67315/100000: episode: 95, duration: 27.432s, episode steps: 541, steps per second:  20, episode reward:  9.000, mean reward:  0.017 [ 0.000,  1.000], mean action: 2.543 [0.000, 5.000],  loss: 0.010803, mae: 1.166712, mean_q: 1.414125\n",
            " 68022/100000: episode: 96, duration: 35.732s, episode steps: 707, steps per second:  20, episode reward: 18.000, mean reward:  0.025 [ 0.000,  1.000], mean action: 2.174 [0.000, 5.000],  loss: 0.009760, mae: 1.154700, mean_q: 1.399352\n",
            " 69185/100000: episode: 97, duration: 58.819s, episode steps: 1163, steps per second:  20, episode reward: 35.000, mean reward:  0.030 [ 0.000,  1.000], mean action: 1.901 [0.000, 5.000],  loss: 0.011231, mae: 1.166443, mean_q: 1.412933\n",
            " 70083/100000: episode: 98, duration: 45.846s, episode steps: 898, steps per second:  20, episode reward: 18.000, mean reward:  0.020 [ 0.000,  1.000], mean action: 2.269 [0.000, 5.000],  loss: 0.010501, mae: 1.159197, mean_q: 1.403103\n",
            " 71146/100000: episode: 99, duration: 53.523s, episode steps: 1063, steps per second:  20, episode reward: 22.000, mean reward:  0.021 [ 0.000,  1.000], mean action: 2.481 [0.000, 5.000],  loss: 0.011330, mae: 1.201081, mean_q: 1.452913\n",
            " 71629/100000: episode: 100, duration: 24.468s, episode steps: 483, steps per second:  20, episode reward: 11.000, mean reward:  0.023 [ 0.000,  1.000], mean action: 2.567 [0.000, 5.000],  loss: 0.010816, mae: 1.181593, mean_q: 1.429993\n",
            " 72254/100000: episode: 101, duration: 31.411s, episode steps: 625, steps per second:  20, episode reward:  9.000, mean reward:  0.014 [ 0.000,  1.000], mean action: 1.605 [0.000, 5.000],  loss: 0.010854, mae: 1.184436, mean_q: 1.432948\n",
            " 73002/100000: episode: 102, duration: 38.927s, episode steps: 748, steps per second:  19, episode reward: 17.000, mean reward:  0.023 [ 0.000,  1.000], mean action: 1.241 [0.000, 5.000],  loss: 0.010230, mae: 1.196715, mean_q: 1.449682\n",
            " 73738/100000: episode: 103, duration: 37.668s, episode steps: 736, steps per second:  20, episode reward: 17.000, mean reward:  0.023 [ 0.000,  1.000], mean action: 2.182 [0.000, 5.000],  loss: 0.009565, mae: 1.180871, mean_q: 1.430558\n",
            " 74401/100000: episode: 104, duration: 33.633s, episode steps: 663, steps per second:  20, episode reward: 13.000, mean reward:  0.020 [ 0.000,  1.000], mean action: 2.321 [0.000, 5.000],  loss: 0.008868, mae: 1.178712, mean_q: 1.429560\n",
            " 74932/100000: episode: 105, duration: 26.996s, episode steps: 531, steps per second:  20, episode reward: 10.000, mean reward:  0.019 [ 0.000,  1.000], mean action: 1.981 [0.000, 5.000],  loss: 0.011133, mae: 1.200358, mean_q: 1.454858\n",
            " 75772/100000: episode: 106, duration: 42.681s, episode steps: 840, steps per second:  20, episode reward: 22.000, mean reward:  0.026 [ 0.000,  1.000], mean action: 1.987 [0.000, 5.000],  loss: 0.010557, mae: 1.196222, mean_q: 1.449525\n",
            " 76413/100000: episode: 107, duration: 32.436s, episode steps: 641, steps per second:  20, episode reward: 15.000, mean reward:  0.023 [ 0.000,  1.000], mean action: 2.588 [0.000, 5.000],  loss: 0.008958, mae: 1.187503, mean_q: 1.440007\n",
            " 77161/100000: episode: 108, duration: 37.742s, episode steps: 748, steps per second:  20, episode reward: 18.000, mean reward:  0.024 [ 0.000,  1.000], mean action: 1.922 [0.000, 5.000],  loss: 0.009694, mae: 1.174302, mean_q: 1.422252\n",
            " 78057/100000: episode: 109, duration: 45.337s, episode steps: 896, steps per second:  20, episode reward: 22.000, mean reward:  0.025 [ 0.000,  1.000], mean action: 2.334 [0.000, 5.000],  loss: 0.010383, mae: 1.179289, mean_q: 1.428280\n",
            " 79094/100000: episode: 110, duration: 52.173s, episode steps: 1037, steps per second:  20, episode reward: 22.000, mean reward:  0.021 [ 0.000,  1.000], mean action: 2.752 [0.000, 5.000],  loss: 0.010428, mae: 1.196075, mean_q: 1.450079\n",
            " 79669/100000: episode: 111, duration: 29.093s, episode steps: 575, steps per second:  20, episode reward: 11.000, mean reward:  0.019 [ 0.000,  1.000], mean action: 2.061 [0.000, 5.000],  loss: 0.011181, mae: 1.171750, mean_q: 1.417918\n",
            " 81345/100000: episode: 112, duration: 85.073s, episode steps: 1676, steps per second:  20, episode reward: 32.000, mean reward:  0.019 [ 0.000,  1.000], mean action: 1.658 [0.000, 5.000],  loss: 0.010440, mae: 1.207487, mean_q: 1.463646\n",
            " 82045/100000: episode: 113, duration: 35.516s, episode steps: 700, steps per second:  20, episode reward: 14.000, mean reward:  0.020 [ 0.000,  1.000], mean action: 2.387 [0.000, 5.000],  loss: 0.011240, mae: 1.210924, mean_q: 1.466775\n",
            " 82919/100000: episode: 114, duration: 43.743s, episode steps: 874, steps per second:  20, episode reward: 20.000, mean reward:  0.023 [ 0.000,  1.000], mean action: 2.374 [0.000, 5.000],  loss: 0.011266, mae: 1.209145, mean_q: 1.464946\n",
            " 83592/100000: episode: 115, duration: 33.802s, episode steps: 673, steps per second:  20, episode reward: 12.000, mean reward:  0.018 [ 0.000,  1.000], mean action: 2.235 [0.000, 5.000],  loss: 0.010817, mae: 1.210306, mean_q: 1.467135\n",
            " 84142/100000: episode: 116, duration: 27.582s, episode steps: 550, steps per second:  20, episode reward: 11.000, mean reward:  0.020 [ 0.000,  1.000], mean action: 2.691 [0.000, 5.000],  loss: 0.010550, mae: 1.194498, mean_q: 1.446119\n",
            " 84847/100000: episode: 117, duration: 35.258s, episode steps: 705, steps per second:  20, episode reward: 15.000, mean reward:  0.021 [ 0.000,  1.000], mean action: 2.916 [0.000, 5.000],  loss: 0.010770, mae: 1.199874, mean_q: 1.455327\n",
            " 85767/100000: episode: 118, duration: 45.651s, episode steps: 920, steps per second:  20, episode reward: 22.000, mean reward:  0.024 [ 0.000,  1.000], mean action: 2.645 [0.000, 5.000],  loss: 0.010920, mae: 1.208667, mean_q: 1.464263\n",
            " 86313/100000: episode: 119, duration: 27.340s, episode steps: 546, steps per second:  20, episode reward: 10.000, mean reward:  0.018 [ 0.000,  1.000], mean action: 2.676 [0.000, 5.000],  loss: 0.010048, mae: 1.203916, mean_q: 1.458338\n",
            " 87048/100000: episode: 120, duration: 37.854s, episode steps: 735, steps per second:  19, episode reward: 12.000, mean reward:  0.016 [ 0.000,  1.000], mean action: 1.905 [0.000, 5.000],  loss: 0.009911, mae: 1.188915, mean_q: 1.439303\n",
            " 87549/100000: episode: 121, duration: 25.445s, episode steps: 501, steps per second:  20, episode reward: 10.000, mean reward:  0.020 [ 0.000,  1.000], mean action: 2.519 [0.000, 5.000],  loss: 0.009450, mae: 1.198674, mean_q: 1.451414\n",
            " 88090/100000: episode: 122, duration: 27.216s, episode steps: 541, steps per second:  20, episode reward: 10.000, mean reward:  0.018 [ 0.000,  1.000], mean action: 1.946 [0.000, 5.000],  loss: 0.010845, mae: 1.179847, mean_q: 1.428031\n",
            " 88843/100000: episode: 123, duration: 37.414s, episode steps: 753, steps per second:  20, episode reward: 17.000, mean reward:  0.023 [ 0.000,  1.000], mean action: 2.430 [0.000, 5.000],  loss: 0.009310, mae: 1.199495, mean_q: 1.453312\n",
            " 89220/100000: episode: 124, duration: 18.999s, episode steps: 377, steps per second:  20, episode reward:  5.000, mean reward:  0.013 [ 0.000,  1.000], mean action: 2.565 [0.000, 5.000],  loss: 0.009598, mae: 1.205578, mean_q: 1.461111\n",
            " 89998/100000: episode: 125, duration: 39.409s, episode steps: 778, steps per second:  20, episode reward: 16.000, mean reward:  0.021 [ 0.000,  1.000], mean action: 2.307 [0.000, 5.000],  loss: 0.010806, mae: 1.203103, mean_q: 1.458002\n",
            " 90429/100000: episode: 126, duration: 22.641s, episode steps: 431, steps per second:  19, episode reward:  7.000, mean reward:  0.016 [ 0.000,  1.000], mean action: 1.619 [0.000, 5.000],  loss: 0.010316, mae: 1.216318, mean_q: 1.474418\n",
            " 91185/100000: episode: 127, duration: 38.091s, episode steps: 756, steps per second:  20, episode reward: 17.000, mean reward:  0.022 [ 0.000,  1.000], mean action: 2.433 [0.000, 5.000],  loss: 0.011021, mae: 1.213638, mean_q: 1.468941\n",
            " 91882/100000: episode: 128, duration: 34.853s, episode steps: 697, steps per second:  20, episode reward: 15.000, mean reward:  0.022 [ 0.000,  1.000], mean action: 2.537 [0.000, 5.000],  loss: 0.010520, mae: 1.198659, mean_q: 1.451400\n",
            " 92391/100000: episode: 129, duration: 25.654s, episode steps: 509, steps per second:  20, episode reward: 10.000, mean reward:  0.020 [ 0.000,  1.000], mean action: 1.839 [0.000, 5.000],  loss: 0.007839, mae: 1.195093, mean_q: 1.447015\n",
            " 93372/100000: episode: 130, duration: 49.125s, episode steps: 981, steps per second:  20, episode reward: 22.000, mean reward:  0.022 [ 0.000,  1.000], mean action: 2.479 [0.000, 5.000],  loss: 0.010922, mae: 1.219621, mean_q: 1.477912\n",
            " 94065/100000: episode: 131, duration: 34.480s, episode steps: 693, steps per second:  20, episode reward: 16.000, mean reward:  0.023 [ 0.000,  1.000], mean action: 2.039 [0.000, 5.000],  loss: 0.010858, mae: 1.209480, mean_q: 1.465179\n",
            " 94560/100000: episode: 132, duration: 24.708s, episode steps: 495, steps per second:  20, episode reward:  8.000, mean reward:  0.016 [ 0.000,  1.000], mean action: 2.691 [0.000, 5.000],  loss: 0.011266, mae: 1.220108, mean_q: 1.478507\n",
            " 95083/100000: episode: 133, duration: 26.164s, episode steps: 523, steps per second:  20, episode reward: 11.000, mean reward:  0.021 [ 0.000,  1.000], mean action: 2.172 [0.000, 5.000],  loss: 0.011480, mae: 1.190271, mean_q: 1.440820\n",
            " 95541/100000: episode: 134, duration: 22.968s, episode steps: 458, steps per second:  20, episode reward:  8.000, mean reward:  0.017 [ 0.000,  1.000], mean action: 1.969 [0.000, 5.000],  loss: 0.010056, mae: 1.221168, mean_q: 1.478332\n",
            " 96204/100000: episode: 135, duration: 33.106s, episode steps: 663, steps per second:  20, episode reward: 12.000, mean reward:  0.018 [ 0.000,  1.000], mean action: 2.466 [0.000, 5.000],  loss: 0.010222, mae: 1.204033, mean_q: 1.458676\n",
            " 96773/100000: episode: 136, duration: 28.266s, episode steps: 569, steps per second:  20, episode reward: 10.000, mean reward:  0.018 [ 0.000,  1.000], mean action: 2.112 [0.000, 5.000],  loss: 0.010096, mae: 1.219590, mean_q: 1.478061\n",
            " 97269/100000: episode: 137, duration: 24.781s, episode steps: 496, steps per second:  20, episode reward: 10.000, mean reward:  0.020 [ 0.000,  1.000], mean action: 2.740 [0.000, 5.000],  loss: 0.011095, mae: 1.201194, mean_q: 1.452872\n",
            " 97997/100000: episode: 138, duration: 36.265s, episode steps: 728, steps per second:  20, episode reward: 17.000, mean reward:  0.023 [ 0.000,  1.000], mean action: 1.989 [0.000, 5.000],  loss: 0.010568, mae: 1.192698, mean_q: 1.444552\n",
            " 98459/100000: episode: 139, duration: 23.141s, episode steps: 462, steps per second:  20, episode reward:  9.000, mean reward:  0.019 [ 0.000,  1.000], mean action: 2.169 [0.000, 5.000],  loss: 0.010956, mae: 1.191541, mean_q: 1.442721\n",
            " 98925/100000: episode: 140, duration: 23.531s, episode steps: 466, steps per second:  20, episode reward:  8.000, mean reward:  0.017 [ 0.000,  1.000], mean action: 2.303 [0.000, 5.000],  loss: 0.009740, mae: 1.193186, mean_q: 1.446187\n",
            " 99623/100000: episode: 141, duration: 34.660s, episode steps: 698, steps per second:  20, episode reward: 14.000, mean reward:  0.020 [ 0.000,  1.000], mean action: 2.857 [0.000, 5.000],  loss: 0.011156, mae: 1.215144, mean_q: 1.472441\n",
            "done, took 3069.399 seconds\n"
          ]
        }
      ]
    },
    {
      "cell_type": "code",
      "source": [
        "# Guardar la memoria de experiencia\n",
        "import pickle\n",
        "with open('memory_noisy.pkl', 'wb') as f:\n",
        "    pickle.dump(memory, f)\n",
        "\n",
        "print(f\"Entrenamiento hasta {total_steps} pasos completado y guardado.\")"
      ],
      "metadata": {
        "colab": {
          "base_uri": "https://localhost:8080/"
        },
        "id": "AYxB8A1HChA1",
        "outputId": "4a8c6ae0-a4fa-4f0e-e7b0-529bc892c36d"
      },
      "execution_count": null,
      "outputs": [
        {
          "output_type": "stream",
          "name": "stdout",
          "text": [
            "Entrenamiento hasta 1300000 pasos completado y guardado.\n"
          ]
        }
      ]
    },
    {
      "cell_type": "code",
      "source": [
        "import time\n",
        "\n",
        "print(\"Esperando 60 segundos...\")\n",
        "time.sleep(60)\n",
        "print(\"¡Tiempo de espera terminado!\")"
      ],
      "metadata": {
        "colab": {
          "base_uri": "https://localhost:8080/"
        },
        "id": "zX5IjeOMCjBf",
        "outputId": "6a5da10b-6af0-4457-a236-7eec30764d40"
      },
      "execution_count": null,
      "outputs": [
        {
          "output_type": "stream",
          "name": "stdout",
          "text": [
            "Esperando 60 segundos...\n",
            "¡Tiempo de espera terminado!\n"
          ]
        }
      ]
    },
    {
      "cell_type": "code",
      "source": [
        "# Testear desde último checkpoint\n",
        "latest_path, trained_steps = load_latest_weights(dqn, checkpoint_dir)\n",
        "if latest_path:\n",
        "    dqn.test(env, nb_episodes=10, visualize=False)"
      ],
      "metadata": {
        "colab": {
          "base_uri": "https://localhost:8080/"
        },
        "id": "ZrqJ4hU-Cky8",
        "outputId": "32aaa7f2-1b1c-4b0e-d8f4-1fdae3b24a5e"
      },
      "execution_count": null,
      "outputs": [
        {
          "output_type": "stream",
          "name": "stdout",
          "text": [
            "✅ Cargando pesos desde: /content/gdrive/My Drive/MODELO 14/checkpoints/dqn_noisy_weights_1300000.h5 (pasos entrenados: 1300000)\n",
            "Testing for 10 episodes ...\n",
            "Episode 1: reward: 12.000, steps: 651\n",
            "Episode 2: reward: 29.000, steps: 1225\n",
            "Episode 3: reward: 13.000, steps: 617\n",
            "Episode 4: reward: 14.000, steps: 717\n",
            "Episode 5: reward: 14.000, steps: 687\n",
            "Episode 6: reward: 8.000, steps: 538\n",
            "Episode 7: reward: 9.000, steps: 568\n",
            "Episode 8: reward: 6.000, steps: 479\n",
            "Episode 9: reward: 11.000, steps: 536\n",
            "Episode 10: reward: 23.000, steps: 1078\n"
          ]
        }
      ]
    },
    {
      "cell_type": "markdown",
      "source": [
        "Parte 5"
      ],
      "metadata": {
        "id": "GMi5lzqKDXap"
      }
    },
    {
      "cell_type": "code",
      "source": [
        "# Cargar pesos anteriores si existen\n",
        "latest_path, trained_steps = load_latest_weights(dqn, checkpoint_dir)\n",
        "if latest_path:\n",
        "    dqn.load_weights(latest_path)\n",
        "else:\n",
        "    trained_steps = 0\n",
        "\n",
        "# Definir pasos a entrenar\n",
        "steps_to_train = 100000\n",
        "total_steps = trained_steps + steps_to_train\n",
        "\n",
        "# Crear paths y callbacks dinámicos\n",
        "log_path = os.path.join(log_dir, f\"dqn_noisy_log_{trained_steps}_{total_steps}.json\")\n",
        "checkpoint_path = os.path.join(checkpoint_dir, f\"dqn_noisy_weights_{total_steps}.h5\")\n",
        "\n",
        "logger_callback = FileLogger(log_path, interval=100)\n",
        "checkpoint_callback = ModelIntervalCheckpoint(checkpoint_path, interval=10000)\n",
        "\n",
        "# Entrenar agente\n",
        "dqn.fit(env, nb_steps=steps_to_train, visualize=False, verbose=2,\n",
        "        callbacks=[checkpoint_callback, logger_callback])\n",
        "\n",
        "# Guardar pesos finales\n",
        "dqn.save_weights(checkpoint_path, overwrite=True)"
      ],
      "metadata": {
        "colab": {
          "base_uri": "https://localhost:8080/"
        },
        "id": "WkedrlXQEaFR",
        "outputId": "7de73ce2-c613-4da1-f1c3-5c16ea3b7b9c"
      },
      "execution_count": null,
      "outputs": [
        {
          "output_type": "stream",
          "name": "stdout",
          "text": [
            "✅ Cargando pesos desde: /content/gdrive/My Drive/MODELO 14/checkpoints/dqn_noisy_weights_1300000.h5 (pasos entrenados: 1300000)\n",
            "Training for 100000 steps ...\n",
            "   622/100000: episode: 1, duration: 6.955s, episode steps: 622, steps per second:  89, episode reward: 16.000, mean reward:  0.026 [ 0.000,  1.000], mean action: 2.543 [0.000, 5.000],  loss: --, mae: --, mean_q: --\n",
            "  1525/100000: episode: 2, duration: 9.920s, episode steps: 903, steps per second:  91, episode reward: 21.000, mean reward:  0.023 [ 0.000,  1.000], mean action: 2.288 [0.000, 5.000],  loss: --, mae: --, mean_q: --\n",
            "  2250/100000: episode: 3, duration: 7.882s, episode steps: 725, steps per second:  92, episode reward: 15.000, mean reward:  0.021 [ 0.000,  1.000], mean action: 2.588 [0.000, 5.000],  loss: --, mae: --, mean_q: --\n",
            "  3102/100000: episode: 4, duration: 9.504s, episode steps: 852, steps per second:  90, episode reward: 24.000, mean reward:  0.028 [ 0.000,  1.000], mean action: 2.221 [0.000, 5.000],  loss: --, mae: --, mean_q: --\n",
            "  3797/100000: episode: 5, duration: 7.786s, episode steps: 695, steps per second:  89, episode reward: 15.000, mean reward:  0.022 [ 0.000,  1.000], mean action: 2.347 [0.000, 5.000],  loss: --, mae: --, mean_q: --\n",
            "  4632/100000: episode: 6, duration: 9.204s, episode steps: 835, steps per second:  91, episode reward: 19.000, mean reward:  0.023 [ 0.000,  1.000], mean action: 2.280 [0.000, 5.000],  loss: --, mae: --, mean_q: --\n",
            "  5507/100000: episode: 7, duration: 9.702s, episode steps: 875, steps per second:  90, episode reward: 20.000, mean reward:  0.023 [ 0.000,  1.000], mean action: 2.624 [0.000, 5.000],  loss: --, mae: --, mean_q: --\n",
            "  6254/100000: episode: 8, duration: 8.411s, episode steps: 747, steps per second:  89, episode reward: 14.000, mean reward:  0.019 [ 0.000,  1.000], mean action: 2.400 [0.000, 5.000],  loss: --, mae: --, mean_q: --\n",
            "  6897/100000: episode: 9, duration: 7.244s, episode steps: 643, steps per second:  89, episode reward: 16.000, mean reward:  0.025 [ 0.000,  1.000], mean action: 2.719 [0.000, 5.000],  loss: --, mae: --, mean_q: --\n",
            "  7695/100000: episode: 10, duration: 8.955s, episode steps: 798, steps per second:  89, episode reward: 18.000, mean reward:  0.023 [ 0.000,  1.000], mean action: 2.411 [0.000, 5.000],  loss: --, mae: --, mean_q: --\n",
            "  8247/100000: episode: 11, duration: 6.157s, episode steps: 552, steps per second:  90, episode reward: 11.000, mean reward:  0.020 [ 0.000,  1.000], mean action: 2.449 [0.000, 5.000],  loss: --, mae: --, mean_q: --\n",
            "  9169/100000: episode: 12, duration: 9.959s, episode steps: 922, steps per second:  93, episode reward: 23.000, mean reward:  0.025 [ 0.000,  1.000], mean action: 2.318 [0.000, 5.000],  loss: --, mae: --, mean_q: --\n",
            "  9669/100000: episode: 13, duration: 5.705s, episode steps: 500, steps per second:  88, episode reward: 11.000, mean reward:  0.022 [ 0.000,  1.000], mean action: 2.508 [0.000, 5.000],  loss: --, mae: --, mean_q: --\n",
            " 10291/100000: episode: 14, duration: 6.874s, episode steps: 622, steps per second:  90, episode reward: 12.000, mean reward:  0.019 [ 0.000,  1.000], mean action: 2.744 [0.000, 5.000],  loss: --, mae: --, mean_q: --\n",
            " 10863/100000: episode: 15, duration: 6.379s, episode steps: 572, steps per second:  90, episode reward: 10.000, mean reward:  0.017 [ 0.000,  1.000], mean action: 2.500 [0.000, 5.000],  loss: --, mae: --, mean_q: --\n",
            " 11521/100000: episode: 16, duration: 7.275s, episode steps: 658, steps per second:  90, episode reward: 14.000, mean reward:  0.021 [ 0.000,  1.000], mean action: 2.474 [0.000, 5.000],  loss: --, mae: --, mean_q: --\n",
            " 12399/100000: episode: 17, duration: 9.653s, episode steps: 878, steps per second:  91, episode reward: 25.000, mean reward:  0.028 [ 0.000,  1.000], mean action: 2.418 [0.000, 5.000],  loss: --, mae: --, mean_q: --\n",
            " 13504/100000: episode: 18, duration: 12.289s, episode steps: 1105, steps per second:  90, episode reward: 27.000, mean reward:  0.024 [ 0.000,  1.000], mean action: 2.463 [0.000, 5.000],  loss: --, mae: --, mean_q: --\n",
            " 14192/100000: episode: 19, duration: 7.709s, episode steps: 688, steps per second:  89, episode reward: 18.000, mean reward:  0.026 [ 0.000,  1.000], mean action: 2.440 [0.000, 5.000],  loss: --, mae: --, mean_q: --\n",
            " 15383/100000: episode: 20, duration: 13.091s, episode steps: 1191, steps per second:  91, episode reward: 29.000, mean reward:  0.024 [ 0.000,  1.000], mean action: 2.336 [0.000, 5.000],  loss: --, mae: --, mean_q: --\n",
            " 16149/100000: episode: 21, duration: 8.447s, episode steps: 766, steps per second:  91, episode reward: 18.000, mean reward:  0.023 [ 0.000,  1.000], mean action: 2.249 [0.000, 5.000],  loss: --, mae: --, mean_q: --\n",
            " 16633/100000: episode: 22, duration: 5.697s, episode steps: 484, steps per second:  85, episode reward: 11.000, mean reward:  0.023 [ 0.000,  1.000], mean action: 2.740 [0.000, 5.000],  loss: --, mae: --, mean_q: --\n",
            " 17150/100000: episode: 23, duration: 5.628s, episode steps: 517, steps per second:  92, episode reward:  9.000, mean reward:  0.017 [ 0.000,  1.000], mean action: 2.493 [0.000, 5.000],  loss: --, mae: --, mean_q: --\n",
            " 17639/100000: episode: 24, duration: 5.545s, episode steps: 489, steps per second:  88, episode reward:  9.000, mean reward:  0.018 [ 0.000,  1.000], mean action: 2.701 [0.000, 5.000],  loss: --, mae: --, mean_q: --\n",
            " 18291/100000: episode: 25, duration: 7.130s, episode steps: 652, steps per second:  91, episode reward: 14.000, mean reward:  0.021 [ 0.000,  1.000], mean action: 2.528 [0.000, 5.000],  loss: --, mae: --, mean_q: --\n",
            " 18811/100000: episode: 26, duration: 5.964s, episode steps: 520, steps per second:  87, episode reward: 10.000, mean reward:  0.019 [ 0.000,  1.000], mean action: 2.685 [0.000, 5.000],  loss: --, mae: --, mean_q: --\n",
            " 19587/100000: episode: 27, duration: 8.562s, episode steps: 776, steps per second:  91, episode reward: 18.000, mean reward:  0.023 [ 0.000,  1.000], mean action: 2.510 [0.000, 5.000],  loss: --, mae: --, mean_q: --\n",
            " 20122/100000: episode: 28, duration: 6.744s, episode steps: 535, steps per second:  79, episode reward: 11.000, mean reward:  0.021 [ 0.000,  1.000], mean action: 2.594 [0.000, 5.000],  loss: --, mae: --, mean_q: --\n",
            " 20956/100000: episode: 29, duration: 9.360s, episode steps: 834, steps per second:  89, episode reward: 13.000, mean reward:  0.016 [ 0.000,  1.000], mean action: 2.065 [0.000, 5.000],  loss: --, mae: --, mean_q: --\n",
            " 21939/100000: episode: 30, duration: 10.927s, episode steps: 983, steps per second:  90, episode reward: 22.000, mean reward:  0.022 [ 0.000,  1.000], mean action: 2.491 [0.000, 5.000],  loss: --, mae: --, mean_q: --\n",
            " 22509/100000: episode: 31, duration: 6.313s, episode steps: 570, steps per second:  90, episode reward:  7.000, mean reward:  0.012 [ 0.000,  1.000], mean action: 2.186 [0.000, 5.000],  loss: --, mae: --, mean_q: --\n",
            " 23173/100000: episode: 32, duration: 7.561s, episode steps: 664, steps per second:  88, episode reward: 14.000, mean reward:  0.021 [ 0.000,  1.000], mean action: 2.422 [0.000, 5.000],  loss: --, mae: --, mean_q: --\n",
            " 24134/100000: episode: 33, duration: 10.428s, episode steps: 961, steps per second:  92, episode reward: 23.000, mean reward:  0.024 [ 0.000,  1.000], mean action: 2.489 [0.000, 5.000],  loss: --, mae: --, mean_q: --\n",
            " 25036/100000: episode: 34, duration: 9.764s, episode steps: 902, steps per second:  92, episode reward: 22.000, mean reward:  0.024 [ 0.000,  1.000], mean action: 2.441 [0.000, 5.000],  loss: --, mae: --, mean_q: --\n",
            " 25754/100000: episode: 35, duration: 7.978s, episode steps: 718, steps per second:  90, episode reward: 15.000, mean reward:  0.021 [ 0.000,  1.000], mean action: 2.599 [0.000, 5.000],  loss: --, mae: --, mean_q: --\n",
            " 27157/100000: episode: 36, duration: 15.031s, episode steps: 1403, steps per second:  93, episode reward: 30.000, mean reward:  0.021 [ 0.000,  1.000], mean action: 2.528 [0.000, 5.000],  loss: --, mae: --, mean_q: --\n",
            " 27866/100000: episode: 37, duration: 7.794s, episode steps: 709, steps per second:  91, episode reward: 15.000, mean reward:  0.021 [ 0.000,  1.000], mean action: 2.386 [0.000, 5.000],  loss: --, mae: --, mean_q: --\n",
            " 28567/100000: episode: 38, duration: 7.512s, episode steps: 701, steps per second:  93, episode reward: 15.000, mean reward:  0.021 [ 0.000,  1.000], mean action: 2.541 [0.000, 5.000],  loss: --, mae: --, mean_q: --\n",
            " 29557/100000: episode: 39, duration: 10.967s, episode steps: 990, steps per second:  90, episode reward: 22.000, mean reward:  0.022 [ 0.000,  1.000], mean action: 2.665 [0.000, 5.000],  loss: --, mae: --, mean_q: --\n",
            " 30262/100000: episode: 40, duration: 8.332s, episode steps: 705, steps per second:  85, episode reward: 16.000, mean reward:  0.023 [ 0.000,  1.000], mean action: 2.285 [0.000, 5.000],  loss: --, mae: --, mean_q: --\n",
            " 30838/100000: episode: 41, duration: 6.205s, episode steps: 576, steps per second:  93, episode reward:  9.000, mean reward:  0.016 [ 0.000,  1.000], mean action: 2.398 [0.000, 5.000],  loss: --, mae: --, mean_q: --\n",
            " 32643/100000: episode: 42, duration: 19.764s, episode steps: 1805, steps per second:  91, episode reward: 31.000, mean reward:  0.017 [ 0.000,  1.000], mean action: 2.140 [0.000, 5.000],  loss: --, mae: --, mean_q: --\n",
            " 33533/100000: episode: 43, duration: 9.731s, episode steps: 890, steps per second:  91, episode reward: 19.000, mean reward:  0.021 [ 0.000,  1.000], mean action: 2.375 [0.000, 5.000],  loss: --, mae: --, mean_q: --\n",
            " 34378/100000: episode: 44, duration: 8.994s, episode steps: 845, steps per second:  94, episode reward: 18.000, mean reward:  0.021 [ 0.000,  1.000], mean action: 2.467 [0.000, 5.000],  loss: --, mae: --, mean_q: --\n",
            " 35074/100000: episode: 45, duration: 7.664s, episode steps: 696, steps per second:  91, episode reward: 15.000, mean reward:  0.022 [ 0.000,  1.000], mean action: 2.441 [0.000, 5.000],  loss: --, mae: --, mean_q: --\n",
            " 35888/100000: episode: 46, duration: 9.172s, episode steps: 814, steps per second:  89, episode reward: 24.000, mean reward:  0.029 [ 0.000,  1.000], mean action: 2.407 [0.000, 5.000],  loss: --, mae: --, mean_q: --\n",
            " 36427/100000: episode: 47, duration: 5.994s, episode steps: 539, steps per second:  90, episode reward: 11.000, mean reward:  0.020 [ 0.000,  1.000], mean action: 2.609 [0.000, 5.000],  loss: --, mae: --, mean_q: --\n",
            " 37114/100000: episode: 48, duration: 8.033s, episode steps: 687, steps per second:  86, episode reward: 17.000, mean reward:  0.025 [ 0.000,  1.000], mean action: 2.515 [0.000, 5.000],  loss: --, mae: --, mean_q: --\n",
            " 37639/100000: episode: 49, duration: 5.820s, episode steps: 525, steps per second:  90, episode reward: 11.000, mean reward:  0.021 [ 0.000,  1.000], mean action: 2.370 [0.000, 5.000],  loss: --, mae: --, mean_q: --\n",
            " 38323/100000: episode: 50, duration: 7.715s, episode steps: 684, steps per second:  89, episode reward: 15.000, mean reward:  0.022 [ 0.000,  1.000], mean action: 2.273 [0.000, 5.000],  loss: --, mae: --, mean_q: --\n",
            " 39391/100000: episode: 51, duration: 11.945s, episode steps: 1068, steps per second:  89, episode reward: 28.000, mean reward:  0.026 [ 0.000,  1.000], mean action: 2.375 [0.000, 5.000],  loss: --, mae: --, mean_q: --\n",
            " 39836/100000: episode: 52, duration: 4.926s, episode steps: 445, steps per second:  90, episode reward:  9.000, mean reward:  0.020 [ 0.000,  1.000], mean action: 2.746 [0.000, 5.000],  loss: --, mae: --, mean_q: --\n",
            " 40466/100000: episode: 53, duration: 7.949s, episode steps: 630, steps per second:  79, episode reward: 12.000, mean reward:  0.019 [ 0.000,  1.000], mean action: 2.867 [0.000, 5.000],  loss: --, mae: --, mean_q: --\n",
            " 41430/100000: episode: 54, duration: 10.577s, episode steps: 964, steps per second:  91, episode reward: 21.000, mean reward:  0.022 [ 0.000,  1.000], mean action: 2.672 [0.000, 5.000],  loss: --, mae: --, mean_q: --\n",
            " 42334/100000: episode: 55, duration: 9.809s, episode steps: 904, steps per second:  92, episode reward: 23.000, mean reward:  0.025 [ 0.000,  1.000], mean action: 2.212 [0.000, 5.000],  loss: --, mae: --, mean_q: --\n",
            " 42773/100000: episode: 56, duration: 4.888s, episode steps: 439, steps per second:  90, episode reward:  6.000, mean reward:  0.014 [ 0.000,  1.000], mean action: 2.727 [0.000, 5.000],  loss: --, mae: --, mean_q: --\n",
            " 43700/100000: episode: 57, duration: 9.796s, episode steps: 927, steps per second:  95, episode reward: 21.000, mean reward:  0.023 [ 0.000,  1.000], mean action: 2.275 [0.000, 5.000],  loss: --, mae: --, mean_q: --\n",
            " 44615/100000: episode: 58, duration: 9.728s, episode steps: 915, steps per second:  94, episode reward: 21.000, mean reward:  0.023 [ 0.000,  1.000], mean action: 2.460 [0.000, 5.000],  loss: --, mae: --, mean_q: --\n",
            " 45185/100000: episode: 59, duration: 6.349s, episode steps: 570, steps per second:  90, episode reward: 11.000, mean reward:  0.019 [ 0.000,  1.000], mean action: 2.625 [0.000, 5.000],  loss: --, mae: --, mean_q: --\n",
            " 46110/100000: episode: 60, duration: 9.913s, episode steps: 925, steps per second:  93, episode reward: 19.000, mean reward:  0.021 [ 0.000,  1.000], mean action: 2.537 [0.000, 5.000],  loss: --, mae: --, mean_q: --\n",
            " 46714/100000: episode: 61, duration: 6.473s, episode steps: 604, steps per second:  93, episode reward: 12.000, mean reward:  0.020 [ 0.000,  1.000], mean action: 2.618 [0.000, 5.000],  loss: --, mae: --, mean_q: --\n",
            " 47346/100000: episode: 62, duration: 6.820s, episode steps: 632, steps per second:  93, episode reward: 15.000, mean reward:  0.024 [ 0.000,  1.000], mean action: 2.441 [0.000, 5.000],  loss: --, mae: --, mean_q: --\n",
            " 48339/100000: episode: 63, duration: 10.712s, episode steps: 993, steps per second:  93, episode reward: 19.000, mean reward:  0.019 [ 0.000,  1.000], mean action: 2.230 [0.000, 5.000],  loss: --, mae: --, mean_q: --\n",
            " 48865/100000: episode: 64, duration: 5.746s, episode steps: 526, steps per second:  92, episode reward: 11.000, mean reward:  0.021 [ 0.000,  1.000], mean action: 2.534 [0.000, 5.000],  loss: --, mae: --, mean_q: --\n",
            " 49300/100000: episode: 65, duration: 4.626s, episode steps: 435, steps per second:  94, episode reward:  9.000, mean reward:  0.021 [ 0.000,  1.000], mean action: 2.800 [0.000, 5.000],  loss: --, mae: --, mean_q: --\n",
            " 50068/100000: episode: 66, duration: 11.699s, episode steps: 768, steps per second:  66, episode reward: 12.000, mean reward:  0.016 [ 0.000,  1.000], mean action: 1.868 [0.000, 5.000],  loss: 0.007647, mae: 1.211089, mean_q: 1.467952\n",
            " 50680/100000: episode: 67, duration: 30.949s, episode steps: 612, steps per second:  20, episode reward: 11.000, mean reward:  0.018 [ 0.000,  1.000], mean action: 2.275 [0.000, 5.000],  loss: 0.010938, mae: 1.220842, mean_q: 1.478793\n",
            " 51326/100000: episode: 68, duration: 32.388s, episode steps: 646, steps per second:  20, episode reward: 12.000, mean reward:  0.019 [ 0.000,  1.000], mean action: 2.576 [0.000, 5.000],  loss: 0.011188, mae: 1.208902, mean_q: 1.462951\n",
            " 51837/100000: episode: 69, duration: 25.699s, episode steps: 511, steps per second:  20, episode reward:  9.000, mean reward:  0.018 [ 0.000,  1.000], mean action: 2.564 [0.000, 5.000],  loss: 0.010950, mae: 1.223976, mean_q: 1.480767\n",
            " 53218/100000: episode: 70, duration: 68.478s, episode steps: 1381, steps per second:  20, episode reward: 32.000, mean reward:  0.023 [ 0.000,  1.000], mean action: 2.412 [0.000, 5.000],  loss: 0.011192, mae: 1.228790, mean_q: 1.487530\n",
            " 54311/100000: episode: 71, duration: 53.908s, episode steps: 1093, steps per second:  20, episode reward: 30.000, mean reward:  0.027 [ 0.000,  1.000], mean action: 2.760 [0.000, 5.000],  loss: 0.010690, mae: 1.213230, mean_q: 1.469831\n",
            " 55083/100000: episode: 72, duration: 37.960s, episode steps: 772, steps per second:  20, episode reward: 19.000, mean reward:  0.025 [ 0.000,  1.000], mean action: 1.966 [0.000, 5.000],  loss: 0.011407, mae: 1.219452, mean_q: 1.476347\n",
            " 56132/100000: episode: 73, duration: 52.471s, episode steps: 1049, steps per second:  20, episode reward: 26.000, mean reward:  0.025 [ 0.000,  1.000], mean action: 2.197 [0.000, 5.000],  loss: 0.010144, mae: 1.202558, mean_q: 1.455600\n",
            " 56653/100000: episode: 74, duration: 25.999s, episode steps: 521, steps per second:  20, episode reward: 10.000, mean reward:  0.019 [ 0.000,  1.000], mean action: 2.397 [0.000, 5.000],  loss: 0.010548, mae: 1.239894, mean_q: 1.501979\n",
            " 57252/100000: episode: 75, duration: 29.363s, episode steps: 599, steps per second:  20, episode reward: 12.000, mean reward:  0.020 [ 0.000,  1.000], mean action: 2.703 [0.000, 5.000],  loss: 0.011194, mae: 1.218294, mean_q: 1.474413\n",
            " 58204/100000: episode: 76, duration: 46.576s, episode steps: 952, steps per second:  20, episode reward: 22.000, mean reward:  0.023 [ 0.000,  1.000], mean action: 2.253 [0.000, 5.000],  loss: 0.009871, mae: 1.236137, mean_q: 1.495627\n",
            " 58738/100000: episode: 77, duration: 26.104s, episode steps: 534, steps per second:  20, episode reward: 10.000, mean reward:  0.019 [ 0.000,  1.000], mean action: 1.695 [0.000, 5.000],  loss: 0.011359, mae: 1.227687, mean_q: 1.485103\n",
            " 59254/100000: episode: 78, duration: 25.084s, episode steps: 516, steps per second:  21, episode reward:  8.000, mean reward:  0.016 [ 0.000,  1.000], mean action: 2.754 [0.000, 5.000],  loss: 0.010127, mae: 1.224104, mean_q: 1.483230\n",
            " 59797/100000: episode: 79, duration: 26.323s, episode steps: 543, steps per second:  21, episode reward: 11.000, mean reward:  0.020 [ 0.000,  1.000], mean action: 2.376 [0.000, 5.000],  loss: 0.011531, mae: 1.232303, mean_q: 1.492217\n",
            " 61215/100000: episode: 80, duration: 71.369s, episode steps: 1418, steps per second:  20, episode reward: 34.000, mean reward:  0.024 [ 0.000,  1.000], mean action: 2.710 [0.000, 5.000],  loss: 0.011153, mae: 1.249729, mean_q: 1.514173\n",
            " 61846/100000: episode: 81, duration: 31.868s, episode steps: 631, steps per second:  20, episode reward: 10.000, mean reward:  0.016 [ 0.000,  1.000], mean action: 2.423 [0.000, 5.000],  loss: 0.012229, mae: 1.232385, mean_q: 1.491006\n",
            " 62376/100000: episode: 82, duration: 26.184s, episode steps: 530, steps per second:  20, episode reward: 10.000, mean reward:  0.019 [ 0.000,  1.000], mean action: 2.496 [0.000, 5.000],  loss: 0.010818, mae: 1.240180, mean_q: 1.501705\n",
            " 63112/100000: episode: 83, duration: 36.552s, episode steps: 736, steps per second:  20, episode reward: 17.000, mean reward:  0.023 [ 0.000,  1.000], mean action: 2.007 [0.000, 5.000],  loss: 0.010363, mae: 1.241902, mean_q: 1.504120\n",
            " 63898/100000: episode: 84, duration: 38.645s, episode steps: 786, steps per second:  20, episode reward: 20.000, mean reward:  0.025 [ 0.000,  1.000], mean action: 1.967 [0.000, 5.000],  loss: 0.010714, mae: 1.246901, mean_q: 1.510649\n",
            " 65006/100000: episode: 85, duration: 54.110s, episode steps: 1108, steps per second:  20, episode reward: 23.000, mean reward:  0.021 [ 0.000,  1.000], mean action: 2.218 [0.000, 5.000],  loss: 0.010035, mae: 1.243555, mean_q: 1.506578\n",
            " 65766/100000: episode: 86, duration: 37.675s, episode steps: 760, steps per second:  20, episode reward: 19.000, mean reward:  0.025 [ 0.000,  1.000], mean action: 1.659 [0.000, 5.000],  loss: 0.009954, mae: 1.230237, mean_q: 1.488983\n",
            " 66458/100000: episode: 87, duration: 33.966s, episode steps: 692, steps per second:  20, episode reward: 15.000, mean reward:  0.022 [ 0.000,  1.000], mean action: 2.205 [0.000, 5.000],  loss: 0.010463, mae: 1.237842, mean_q: 1.498453\n",
            " 67054/100000: episode: 88, duration: 29.195s, episode steps: 596, steps per second:  20, episode reward:  8.000, mean reward:  0.013 [ 0.000,  1.000], mean action: 1.933 [0.000, 5.000],  loss: 0.010622, mae: 1.243387, mean_q: 1.504896\n",
            " 67582/100000: episode: 89, duration: 25.688s, episode steps: 528, steps per second:  21, episode reward: 11.000, mean reward:  0.021 [ 0.000,  1.000], mean action: 2.104 [0.000, 5.000],  loss: 0.009424, mae: 1.237724, mean_q: 1.498028\n",
            " 68090/100000: episode: 90, duration: 24.816s, episode steps: 508, steps per second:  20, episode reward: 10.000, mean reward:  0.020 [ 0.000,  1.000], mean action: 1.998 [0.000, 5.000],  loss: 0.011349, mae: 1.255326, mean_q: 1.518370\n",
            " 68917/100000: episode: 91, duration: 40.306s, episode steps: 827, steps per second:  21, episode reward: 19.000, mean reward:  0.023 [ 0.000,  1.000], mean action: 2.618 [0.000, 5.000],  loss: 0.010203, mae: 1.247045, mean_q: 1.511534\n",
            " 69427/100000: episode: 92, duration: 24.746s, episode steps: 510, steps per second:  21, episode reward: 10.000, mean reward:  0.020 [ 0.000,  1.000], mean action: 2.696 [0.000, 5.000],  loss: 0.011359, mae: 1.237707, mean_q: 1.499281\n",
            " 69954/100000: episode: 93, duration: 25.780s, episode steps: 527, steps per second:  20, episode reward: 11.000, mean reward:  0.021 [ 0.000,  1.000], mean action: 1.888 [0.000, 5.000],  loss: 0.011783, mae: 1.239507, mean_q: 1.502592\n",
            " 70607/100000: episode: 94, duration: 32.674s, episode steps: 653, steps per second:  20, episode reward: 12.000, mean reward:  0.018 [ 0.000,  1.000], mean action: 2.046 [0.000, 5.000],  loss: 0.011561, mae: 1.277125, mean_q: 1.547383\n",
            " 71051/100000: episode: 95, duration: 21.787s, episode steps: 444, steps per second:  20, episode reward:  7.000, mean reward:  0.016 [ 0.000,  1.000], mean action: 2.881 [0.000, 5.000],  loss: 0.010947, mae: 1.271392, mean_q: 1.540421\n",
            " 71587/100000: episode: 96, duration: 25.976s, episode steps: 536, steps per second:  21, episode reward: 10.000, mean reward:  0.019 [ 0.000,  1.000], mean action: 2.496 [0.000, 5.000],  loss: 0.011931, mae: 1.311040, mean_q: 1.587501\n",
            " 72301/100000: episode: 97, duration: 34.922s, episode steps: 714, steps per second:  20, episode reward: 16.000, mean reward:  0.022 [ 0.000,  1.000], mean action: 2.059 [0.000, 5.000],  loss: 0.009816, mae: 1.283654, mean_q: 1.554855\n",
            " 73245/100000: episode: 98, duration: 46.006s, episode steps: 944, steps per second:  21, episode reward: 27.000, mean reward:  0.029 [ 0.000,  1.000], mean action: 1.934 [0.000, 5.000],  loss: 0.010260, mae: 1.299644, mean_q: 1.573276\n",
            " 73745/100000: episode: 99, duration: 24.333s, episode steps: 500, steps per second:  21, episode reward: 11.000, mean reward:  0.022 [ 0.000,  1.000], mean action: 2.240 [0.000, 5.000],  loss: 0.009510, mae: 1.278544, mean_q: 1.546635\n",
            " 74286/100000: episode: 100, duration: 26.255s, episode steps: 541, steps per second:  21, episode reward: 10.000, mean reward:  0.018 [ 0.000,  1.000], mean action: 2.087 [0.000, 5.000],  loss: 0.011408, mae: 1.273282, mean_q: 1.538900\n",
            " 74746/100000: episode: 101, duration: 22.473s, episode steps: 460, steps per second:  20, episode reward:  8.000, mean reward:  0.017 [ 0.000,  1.000], mean action: 1.667 [0.000, 5.000],  loss: 0.011652, mae: 1.272732, mean_q: 1.541017\n",
            " 75298/100000: episode: 102, duration: 26.920s, episode steps: 552, steps per second:  21, episode reward: 11.000, mean reward:  0.020 [ 0.000,  1.000], mean action: 1.708 [0.000, 5.000],  loss: 0.010163, mae: 1.271986, mean_q: 1.541393\n",
            " 75793/100000: episode: 103, duration: 24.486s, episode steps: 495, steps per second:  20, episode reward: 10.000, mean reward:  0.020 [ 0.000,  1.000], mean action: 2.440 [0.000, 5.000],  loss: 0.012910, mae: 1.273907, mean_q: 1.542028\n",
            " 76501/100000: episode: 104, duration: 34.233s, episode steps: 708, steps per second:  21, episode reward: 18.000, mean reward:  0.025 [ 0.000,  1.000], mean action: 2.021 [0.000, 5.000],  loss: 0.010243, mae: 1.293375, mean_q: 1.567207\n",
            " 77184/100000: episode: 105, duration: 33.091s, episode steps: 683, steps per second:  21, episode reward: 15.000, mean reward:  0.022 [ 0.000,  1.000], mean action: 2.763 [0.000, 5.000],  loss: 0.010696, mae: 1.292063, mean_q: 1.566309\n",
            " 77888/100000: episode: 106, duration: 34.148s, episode steps: 704, steps per second:  21, episode reward: 16.000, mean reward:  0.023 [ 0.000,  1.000], mean action: 1.841 [0.000, 5.000],  loss: 0.010836, mae: 1.287711, mean_q: 1.558748\n",
            " 78538/100000: episode: 107, duration: 31.560s, episode steps: 650, steps per second:  21, episode reward: 15.000, mean reward:  0.023 [ 0.000,  1.000], mean action: 2.258 [0.000, 5.000],  loss: 0.010112, mae: 1.296332, mean_q: 1.569841\n",
            " 79035/100000: episode: 108, duration: 23.952s, episode steps: 497, steps per second:  21, episode reward: 11.000, mean reward:  0.022 [ 0.000,  1.000], mean action: 2.026 [0.000, 5.000],  loss: 0.011387, mae: 1.317271, mean_q: 1.593606\n",
            " 79663/100000: episode: 109, duration: 30.254s, episode steps: 628, steps per second:  21, episode reward: 12.000, mean reward:  0.019 [ 0.000,  1.000], mean action: 2.963 [0.000, 5.000],  loss: 0.010623, mae: 1.286906, mean_q: 1.558396\n",
            " 80168/100000: episode: 110, duration: 25.244s, episode steps: 505, steps per second:  20, episode reward: 11.000, mean reward:  0.022 [ 0.000,  1.000], mean action: 2.545 [0.000, 5.000],  loss: 0.009907, mae: 1.310243, mean_q: 1.588472\n",
            " 80814/100000: episode: 111, duration: 31.461s, episode steps: 646, steps per second:  21, episode reward: 12.000, mean reward:  0.019 [ 0.000,  1.000], mean action: 2.381 [0.000, 5.000],  loss: 0.011217, mae: 1.314840, mean_q: 1.591358\n",
            " 81536/100000: episode: 112, duration: 35.107s, episode steps: 722, steps per second:  21, episode reward: 15.000, mean reward:  0.021 [ 0.000,  1.000], mean action: 2.301 [0.000, 5.000],  loss: 0.010604, mae: 1.311932, mean_q: 1.587202\n",
            " 82904/100000: episode: 113, duration: 66.622s, episode steps: 1368, steps per second:  21, episode reward: 31.000, mean reward:  0.023 [ 0.000,  1.000], mean action: 2.405 [0.000, 5.000],  loss: 0.010839, mae: 1.309814, mean_q: 1.585613\n",
            " 83746/100000: episode: 114, duration: 41.152s, episode steps: 842, steps per second:  20, episode reward: 22.000, mean reward:  0.026 [ 0.000,  1.000], mean action: 2.612 [0.000, 5.000],  loss: 0.010689, mae: 1.305585, mean_q: 1.579843\n",
            " 84280/100000: episode: 115, duration: 25.972s, episode steps: 534, steps per second:  21, episode reward: 10.000, mean reward:  0.019 [ 0.000,  1.000], mean action: 2.062 [0.000, 5.000],  loss: 0.011077, mae: 1.301314, mean_q: 1.573850\n",
            " 84934/100000: episode: 116, duration: 32.292s, episode steps: 654, steps per second:  20, episode reward: 15.000, mean reward:  0.023 [ 0.000,  1.000], mean action: 1.971 [0.000, 5.000],  loss: 0.011032, mae: 1.315863, mean_q: 1.591077\n",
            " 85597/100000: episode: 117, duration: 32.306s, episode steps: 663, steps per second:  21, episode reward: 13.000, mean reward:  0.020 [ 0.000,  1.000], mean action: 2.247 [0.000, 5.000],  loss: 0.009617, mae: 1.308042, mean_q: 1.583830\n",
            " 86907/100000: episode: 118, duration: 63.244s, episode steps: 1310, steps per second:  21, episode reward: 33.000, mean reward:  0.025 [ 0.000,  1.000], mean action: 2.225 [0.000, 5.000],  loss: 0.011090, mae: 1.311993, mean_q: 1.588517\n",
            " 87647/100000: episode: 119, duration: 35.219s, episode steps: 740, steps per second:  21, episode reward: 23.000, mean reward:  0.031 [ 0.000,  1.000], mean action: 2.208 [0.000, 5.000],  loss: 0.010380, mae: 1.309724, mean_q: 1.586044\n",
            " 88366/100000: episode: 120, duration: 34.615s, episode steps: 719, steps per second:  21, episode reward: 15.000, mean reward:  0.021 [ 0.000,  1.000], mean action: 1.974 [0.000, 5.000],  loss: 0.009519, mae: 1.318502, mean_q: 1.596251\n",
            " 89014/100000: episode: 121, duration: 30.970s, episode steps: 648, steps per second:  21, episode reward: 16.000, mean reward:  0.025 [ 0.000,  1.000], mean action: 2.177 [0.000, 5.000],  loss: 0.010964, mae: 1.331096, mean_q: 1.609142\n",
            " 89447/100000: episode: 122, duration: 20.803s, episode steps: 433, steps per second:  21, episode reward:  8.000, mean reward:  0.018 [ 0.000,  1.000], mean action: 2.000 [0.000, 5.000],  loss: 0.010888, mae: 1.304532, mean_q: 1.578346\n",
            " 90119/100000: episode: 123, duration: 33.095s, episode steps: 672, steps per second:  20, episode reward: 12.000, mean reward:  0.018 [ 0.000,  1.000], mean action: 2.100 [0.000, 5.000],  loss: 0.010914, mae: 1.325760, mean_q: 1.602747\n",
            " 90574/100000: episode: 124, duration: 21.871s, episode steps: 455, steps per second:  21, episode reward:  7.000, mean reward:  0.015 [ 0.000,  1.000], mean action: 2.618 [0.000, 5.000],  loss: 0.010364, mae: 1.312161, mean_q: 1.587311\n",
            " 91653/100000: episode: 125, duration: 51.611s, episode steps: 1079, steps per second:  21, episode reward: 28.000, mean reward:  0.026 [ 0.000,  1.000], mean action: 2.102 [0.000, 5.000],  loss: 0.012305, mae: 1.328561, mean_q: 1.606975\n",
            " 92480/100000: episode: 126, duration: 39.676s, episode steps: 827, steps per second:  21, episode reward: 18.000, mean reward:  0.022 [ 0.000,  1.000], mean action: 1.548 [0.000, 5.000],  loss: 0.009654, mae: 1.304741, mean_q: 1.578714\n",
            " 92973/100000: episode: 127, duration: 23.599s, episode steps: 493, steps per second:  21, episode reward:  8.000, mean reward:  0.016 [ 0.000,  1.000], mean action: 2.361 [0.000, 5.000],  loss: 0.011671, mae: 1.330045, mean_q: 1.609337\n",
            " 93798/100000: episode: 128, duration: 39.607s, episode steps: 825, steps per second:  21, episode reward: 16.000, mean reward:  0.019 [ 0.000,  1.000], mean action: 2.615 [0.000, 5.000],  loss: 0.009689, mae: 1.314407, mean_q: 1.591872\n",
            " 94515/100000: episode: 129, duration: 34.791s, episode steps: 717, steps per second:  21, episode reward: 17.000, mean reward:  0.024 [ 0.000,  1.000], mean action: 2.357 [0.000, 5.000],  loss: 0.011507, mae: 1.312516, mean_q: 1.589399\n",
            " 95085/100000: episode: 130, duration: 27.637s, episode steps: 570, steps per second:  21, episode reward: 10.000, mean reward:  0.018 [ 0.000,  1.000], mean action: 1.826 [0.000, 5.000],  loss: 0.011877, mae: 1.339630, mean_q: 1.619368\n",
            " 95771/100000: episode: 131, duration: 33.080s, episode steps: 686, steps per second:  21, episode reward: 16.000, mean reward:  0.023 [ 0.000,  1.000], mean action: 2.611 [0.000, 5.000],  loss: 0.011375, mae: 1.317115, mean_q: 1.595182\n",
            " 96689/100000: episode: 132, duration: 44.378s, episode steps: 918, steps per second:  21, episode reward: 19.000, mean reward:  0.021 [ 0.000,  1.000], mean action: 1.844 [0.000, 5.000],  loss: 0.010797, mae: 1.324011, mean_q: 1.602486\n",
            " 97464/100000: episode: 133, duration: 37.573s, episode steps: 775, steps per second:  21, episode reward: 18.000, mean reward:  0.023 [ 0.000,  1.000], mean action: 2.321 [0.000, 5.000],  loss: 0.011597, mae: 1.327735, mean_q: 1.606769\n",
            " 97970/100000: episode: 134, duration: 24.768s, episode steps: 506, steps per second:  20, episode reward: 10.000, mean reward:  0.020 [ 0.000,  1.000], mean action: 1.502 [0.000, 5.000],  loss: 0.011574, mae: 1.327525, mean_q: 1.606827\n",
            " 98851/100000: episode: 135, duration: 43.202s, episode steps: 881, steps per second:  20, episode reward: 16.000, mean reward:  0.018 [ 0.000,  1.000], mean action: 1.941 [0.000, 5.000],  loss: 0.010018, mae: 1.295535, mean_q: 1.567888\n",
            " 99403/100000: episode: 136, duration: 27.232s, episode steps: 552, steps per second:  20, episode reward: 10.000, mean reward:  0.018 [ 0.000,  1.000], mean action: 1.413 [0.000, 5.000],  loss: 0.011617, mae: 1.339105, mean_q: 1.621239\n",
            "done, took 2999.589 seconds\n"
          ]
        }
      ]
    },
    {
      "cell_type": "code",
      "source": [
        "# Guardar la memoria de experiencia\n",
        "import pickle\n",
        "with open('memory_noisy.pkl', 'wb') as f:\n",
        "    pickle.dump(memory, f)\n",
        "\n",
        "print(f\"Entrenamiento hasta {total_steps} pasos completado y guardado.\")"
      ],
      "metadata": {
        "colab": {
          "base_uri": "https://localhost:8080/"
        },
        "id": "pcVZ5qWhEigl",
        "outputId": "9ed258a2-3eb6-4c51-de2b-07584f795dc8"
      },
      "execution_count": null,
      "outputs": [
        {
          "output_type": "stream",
          "name": "stdout",
          "text": [
            "Entrenamiento hasta 1400000 pasos completado y guardado.\n"
          ]
        }
      ]
    },
    {
      "cell_type": "code",
      "source": [
        "import time\n",
        "\n",
        "print(\"Esperando 60 segundos...\")\n",
        "time.sleep(60)\n",
        "print(\"¡Tiempo de espera terminado!\")"
      ],
      "metadata": {
        "colab": {
          "base_uri": "https://localhost:8080/"
        },
        "id": "6gwG2xfJEkH8",
        "outputId": "fb953505-2640-4e38-cfa4-abf9a85c28da"
      },
      "execution_count": null,
      "outputs": [
        {
          "output_type": "stream",
          "name": "stdout",
          "text": [
            "Esperando 60 segundos...\n",
            "¡Tiempo de espera terminado!\n"
          ]
        }
      ]
    },
    {
      "cell_type": "code",
      "source": [
        "# Testear desde último checkpoint\n",
        "latest_path, trained_steps = load_latest_weights(dqn, checkpoint_dir)\n",
        "if latest_path:\n",
        "    dqn.test(env, nb_episodes=10, visualize=False)"
      ],
      "metadata": {
        "colab": {
          "base_uri": "https://localhost:8080/"
        },
        "id": "SZTdkCy2Enc8",
        "outputId": "f1dbb5e5-0931-4e4e-b25a-926d1502d4d5"
      },
      "execution_count": null,
      "outputs": [
        {
          "output_type": "stream",
          "name": "stdout",
          "text": [
            "✅ Cargando pesos desde: /content/gdrive/My Drive/MODELO 14/checkpoints/dqn_noisy_weights_1400000.h5 (pasos entrenados: 1400000)\n",
            "Testing for 10 episodes ...\n",
            "Episode 1: reward: 8.000, steps: 521\n",
            "Episode 2: reward: 8.000, steps: 524\n",
            "Episode 3: reward: 11.000, steps: 534\n",
            "Episode 4: reward: 8.000, steps: 549\n",
            "Episode 5: reward: 18.000, steps: 733\n",
            "Episode 6: reward: 11.000, steps: 561\n",
            "Episode 7: reward: 8.000, steps: 462\n",
            "Episode 8: reward: 29.000, steps: 1161\n",
            "Episode 9: reward: 10.000, steps: 560\n",
            "Episode 10: reward: 17.000, steps: 668\n"
          ]
        }
      ]
    },
    {
      "cell_type": "markdown",
      "source": [
        "Parte 6"
      ],
      "metadata": {
        "id": "rJN2IHeUEpxD"
      }
    },
    {
      "cell_type": "code",
      "source": [
        "# Cargar pesos anteriores si existen\n",
        "latest_path, trained_steps = load_latest_weights(dqn, checkpoint_dir)\n",
        "if latest_path:\n",
        "    dqn.load_weights(latest_path)\n",
        "else:\n",
        "    trained_steps = 0\n",
        "\n",
        "# Definir pasos a entrenar\n",
        "steps_to_train = 100000\n",
        "total_steps = trained_steps + steps_to_train\n",
        "\n",
        "# Crear paths y callbacks dinámicos\n",
        "log_path = os.path.join(log_dir, f\"dqn_noisy_log_{trained_steps}_{total_steps}.json\")\n",
        "checkpoint_path = os.path.join(checkpoint_dir, f\"dqn_noisy_weights_{total_steps}.h5\")\n",
        "\n",
        "logger_callback = FileLogger(log_path, interval=100)\n",
        "checkpoint_callback = ModelIntervalCheckpoint(checkpoint_path, interval=10000)\n",
        "\n",
        "# Entrenar agente\n",
        "dqn.fit(env, nb_steps=steps_to_train, visualize=False, verbose=2,\n",
        "        callbacks=[checkpoint_callback, logger_callback])\n",
        "\n",
        "# Guardar pesos finales\n",
        "dqn.save_weights(checkpoint_path, overwrite=True)"
      ],
      "metadata": {
        "colab": {
          "base_uri": "https://localhost:8080/"
        },
        "id": "BKCRsRmZEr9Q",
        "outputId": "c3151a45-15dd-45e3-84c6-1c9e1fc8ea0f"
      },
      "execution_count": null,
      "outputs": [
        {
          "output_type": "stream",
          "name": "stdout",
          "text": [
            "✅ Cargando pesos desde: /content/gdrive/My Drive/MODELO 14/checkpoints/dqn_noisy_weights_1400000.h5 (pasos entrenados: 1400000)\n",
            "Training for 100000 steps ...\n",
            "   648/100000: episode: 1, duration: 7.311s, episode steps: 648, steps per second:  89, episode reward: 15.000, mean reward:  0.023 [ 0.000,  1.000], mean action: 2.086 [0.000, 5.000],  loss: --, mae: --, mean_q: --\n",
            "  1371/100000: episode: 2, duration: 7.943s, episode steps: 723, steps per second:  91, episode reward: 16.000, mean reward:  0.022 [ 0.000,  1.000], mean action: 2.165 [0.000, 5.000],  loss: --, mae: --, mean_q: --\n",
            "  1890/100000: episode: 3, duration: 5.680s, episode steps: 519, steps per second:  91, episode reward: 11.000, mean reward:  0.021 [ 0.000,  1.000], mean action: 2.027 [0.000, 5.000],  loss: --, mae: --, mean_q: --\n",
            "  2258/100000: episode: 4, duration: 3.955s, episode steps: 368, steps per second:  93, episode reward:  5.000, mean reward:  0.014 [ 0.000,  1.000], mean action: 2.171 [0.000, 5.000],  loss: --, mae: --, mean_q: --\n",
            "  2885/100000: episode: 5, duration: 7.107s, episode steps: 627, steps per second:  88, episode reward: 14.000, mean reward:  0.022 [ 0.000,  1.000], mean action: 2.139 [0.000, 5.000],  loss: --, mae: --, mean_q: --\n",
            "  3524/100000: episode: 6, duration: 6.930s, episode steps: 639, steps per second:  92, episode reward: 11.000, mean reward:  0.017 [ 0.000,  1.000], mean action: 2.177 [0.000, 5.000],  loss: --, mae: --, mean_q: --\n",
            "  4060/100000: episode: 7, duration: 6.100s, episode steps: 536, steps per second:  88, episode reward: 11.000, mean reward:  0.021 [ 0.000,  1.000], mean action: 2.155 [0.000, 5.000],  loss: --, mae: --, mean_q: --\n",
            "  4804/100000: episode: 8, duration: 8.210s, episode steps: 744, steps per second:  91, episode reward: 15.000, mean reward:  0.020 [ 0.000,  1.000], mean action: 1.754 [0.000, 5.000],  loss: --, mae: --, mean_q: --\n",
            "  5260/100000: episode: 9, duration: 5.055s, episode steps: 456, steps per second:  90, episode reward:  7.000, mean reward:  0.015 [ 0.000,  1.000], mean action: 2.204 [0.000, 5.000],  loss: --, mae: --, mean_q: --\n",
            "  5725/100000: episode: 10, duration: 5.073s, episode steps: 465, steps per second:  92, episode reward: 11.000, mean reward:  0.024 [ 0.000,  1.000], mean action: 2.312 [0.000, 5.000],  loss: --, mae: --, mean_q: --\n",
            "  7094/100000: episode: 11, duration: 15.049s, episode steps: 1369, steps per second:  91, episode reward: 32.000, mean reward:  0.023 [ 0.000,  1.000], mean action: 2.121 [0.000, 5.000],  loss: --, mae: --, mean_q: --\n",
            "  7704/100000: episode: 12, duration: 6.751s, episode steps: 610, steps per second:  90, episode reward: 13.000, mean reward:  0.021 [ 0.000,  1.000], mean action: 2.107 [0.000, 5.000],  loss: --, mae: --, mean_q: --\n",
            "  8401/100000: episode: 13, duration: 7.888s, episode steps: 697, steps per second:  88, episode reward: 17.000, mean reward:  0.024 [ 0.000,  1.000], mean action: 1.956 [0.000, 5.000],  loss: --, mae: --, mean_q: --\n",
            "  8937/100000: episode: 14, duration: 6.006s, episode steps: 536, steps per second:  89, episode reward: 11.000, mean reward:  0.021 [ 0.000,  1.000], mean action: 2.323 [0.000, 5.000],  loss: --, mae: --, mean_q: --\n",
            "  9799/100000: episode: 15, duration: 9.569s, episode steps: 862, steps per second:  90, episode reward: 17.000, mean reward:  0.020 [ 0.000,  1.000], mean action: 2.193 [0.000, 5.000],  loss: --, mae: --, mean_q: --\n",
            " 10348/100000: episode: 16, duration: 6.034s, episode steps: 549, steps per second:  91, episode reward: 10.000, mean reward:  0.018 [ 0.000,  1.000], mean action: 2.211 [0.000, 5.000],  loss: --, mae: --, mean_q: --\n",
            " 10807/100000: episode: 17, duration: 5.198s, episode steps: 459, steps per second:  88, episode reward: 10.000, mean reward:  0.022 [ 0.000,  1.000], mean action: 2.100 [0.000, 5.000],  loss: --, mae: --, mean_q: --\n",
            " 11514/100000: episode: 18, duration: 7.550s, episode steps: 707, steps per second:  94, episode reward: 17.000, mean reward:  0.024 [ 0.000,  1.000], mean action: 2.266 [0.000, 5.000],  loss: --, mae: --, mean_q: --\n",
            " 12002/100000: episode: 19, duration: 5.498s, episode steps: 488, steps per second:  89, episode reward:  9.000, mean reward:  0.018 [ 0.000,  1.000], mean action: 2.246 [0.000, 5.000],  loss: --, mae: --, mean_q: --\n",
            " 12755/100000: episode: 20, duration: 8.134s, episode steps: 753, steps per second:  93, episode reward: 17.000, mean reward:  0.023 [ 0.000,  1.000], mean action: 2.178 [0.000, 5.000],  loss: --, mae: --, mean_q: --\n",
            " 13228/100000: episode: 21, duration: 5.359s, episode steps: 473, steps per second:  88, episode reward: 10.000, mean reward:  0.021 [ 0.000,  1.000], mean action: 2.383 [0.000, 5.000],  loss: --, mae: --, mean_q: --\n",
            " 13939/100000: episode: 22, duration: 7.652s, episode steps: 711, steps per second:  93, episode reward: 17.000, mean reward:  0.024 [ 0.000,  1.000], mean action: 2.208 [0.000, 5.000],  loss: --, mae: --, mean_q: --\n",
            " 14616/100000: episode: 23, duration: 7.443s, episode steps: 677, steps per second:  91, episode reward: 16.000, mean reward:  0.024 [ 0.000,  1.000], mean action: 2.204 [0.000, 5.000],  loss: --, mae: --, mean_q: --\n",
            " 15492/100000: episode: 24, duration: 9.688s, episode steps: 876, steps per second:  90, episode reward: 23.000, mean reward:  0.026 [ 0.000,  1.000], mean action: 2.144 [0.000, 5.000],  loss: --, mae: --, mean_q: --\n",
            " 16200/100000: episode: 25, duration: 7.644s, episode steps: 708, steps per second:  93, episode reward: 16.000, mean reward:  0.023 [ 0.000,  1.000], mean action: 1.944 [0.000, 5.000],  loss: --, mae: --, mean_q: --\n",
            " 17172/100000: episode: 26, duration: 10.696s, episode steps: 972, steps per second:  91, episode reward: 15.000, mean reward:  0.015 [ 0.000,  1.000], mean action: 2.058 [0.000, 5.000],  loss: --, mae: --, mean_q: --\n",
            " 18369/100000: episode: 27, duration: 13.066s, episode steps: 1197, steps per second:  92, episode reward: 31.000, mean reward:  0.026 [ 0.000,  1.000], mean action: 1.928 [0.000, 5.000],  loss: --, mae: --, mean_q: --\n",
            " 18939/100000: episode: 28, duration: 6.305s, episode steps: 570, steps per second:  90, episode reward:  9.000, mean reward:  0.016 [ 0.000,  1.000], mean action: 2.186 [0.000, 5.000],  loss: --, mae: --, mean_q: --\n",
            " 19573/100000: episode: 29, duration: 6.870s, episode steps: 634, steps per second:  92, episode reward: 16.000, mean reward:  0.025 [ 0.000,  1.000], mean action: 2.017 [0.000, 5.000],  loss: --, mae: --, mean_q: --\n",
            " 20301/100000: episode: 30, duration: 8.791s, episode steps: 728, steps per second:  83, episode reward: 15.000, mean reward:  0.021 [ 0.000,  1.000], mean action: 2.067 [0.000, 5.000],  loss: --, mae: --, mean_q: --\n",
            " 21063/100000: episode: 31, duration: 8.388s, episode steps: 762, steps per second:  91, episode reward: 16.000, mean reward:  0.021 [ 0.000,  1.000], mean action: 1.991 [0.000, 5.000],  loss: --, mae: --, mean_q: --\n",
            " 21586/100000: episode: 32, duration: 5.690s, episode steps: 523, steps per second:  92, episode reward: 10.000, mean reward:  0.019 [ 0.000,  1.000], mean action: 2.147 [0.000, 5.000],  loss: --, mae: --, mean_q: --\n",
            " 22312/100000: episode: 33, duration: 8.029s, episode steps: 726, steps per second:  90, episode reward: 16.000, mean reward:  0.022 [ 0.000,  1.000], mean action: 2.025 [0.000, 5.000],  loss: --, mae: --, mean_q: --\n",
            " 23384/100000: episode: 34, duration: 11.333s, episode steps: 1072, steps per second:  95, episode reward: 26.000, mean reward:  0.024 [ 0.000,  1.000], mean action: 1.969 [0.000, 5.000],  loss: --, mae: --, mean_q: --\n",
            " 23817/100000: episode: 35, duration: 4.664s, episode steps: 433, steps per second:  93, episode reward:  8.000, mean reward:  0.018 [ 0.000,  1.000], mean action: 2.323 [0.000, 5.000],  loss: --, mae: --, mean_q: --\n",
            " 24756/100000: episode: 36, duration: 10.139s, episode steps: 939, steps per second:  93, episode reward: 23.000, mean reward:  0.024 [ 0.000,  1.000], mean action: 1.859 [0.000, 5.000],  loss: --, mae: --, mean_q: --\n",
            " 25290/100000: episode: 37, duration: 5.543s, episode steps: 534, steps per second:  96, episode reward: 12.000, mean reward:  0.022 [ 0.000,  1.000], mean action: 2.200 [0.000, 5.000],  loss: --, mae: --, mean_q: --\n",
            " 26006/100000: episode: 38, duration: 7.734s, episode steps: 716, steps per second:  93, episode reward: 17.000, mean reward:  0.024 [ 0.000,  1.000], mean action: 2.047 [0.000, 5.000],  loss: --, mae: --, mean_q: --\n",
            " 26963/100000: episode: 39, duration: 10.105s, episode steps: 957, steps per second:  95, episode reward: 23.000, mean reward:  0.024 [ 0.000,  1.000], mean action: 2.126 [0.000, 5.000],  loss: --, mae: --, mean_q: --\n",
            " 27906/100000: episode: 40, duration: 9.891s, episode steps: 943, steps per second:  95, episode reward: 20.000, mean reward:  0.021 [ 0.000,  1.000], mean action: 2.078 [0.000, 5.000],  loss: --, mae: --, mean_q: --\n",
            " 28630/100000: episode: 41, duration: 8.000s, episode steps: 724, steps per second:  91, episode reward: 17.000, mean reward:  0.023 [ 0.000,  1.000], mean action: 2.097 [0.000, 5.000],  loss: --, mae: --, mean_q: --\n",
            " 29286/100000: episode: 42, duration: 6.935s, episode steps: 656, steps per second:  95, episode reward: 15.000, mean reward:  0.023 [ 0.000,  1.000], mean action: 2.005 [0.000, 5.000],  loss: --, mae: --, mean_q: --\n",
            " 29740/100000: episode: 43, duration: 5.013s, episode steps: 454, steps per second:  91, episode reward:  9.000, mean reward:  0.020 [ 0.000,  1.000], mean action: 2.220 [0.000, 5.000],  loss: --, mae: --, mean_q: --\n",
            " 30276/100000: episode: 44, duration: 6.353s, episode steps: 536, steps per second:  84, episode reward: 11.000, mean reward:  0.021 [ 0.000,  1.000], mean action: 2.054 [0.000, 5.000],  loss: --, mae: --, mean_q: --\n",
            " 30979/100000: episode: 45, duration: 7.641s, episode steps: 703, steps per second:  92, episode reward: 15.000, mean reward:  0.021 [ 0.000,  1.000], mean action: 2.134 [0.000, 5.000],  loss: --, mae: --, mean_q: --\n",
            " 31922/100000: episode: 46, duration: 10.164s, episode steps: 943, steps per second:  93, episode reward: 26.000, mean reward:  0.028 [ 0.000,  1.000], mean action: 2.210 [0.000, 5.000],  loss: --, mae: --, mean_q: --\n",
            " 32447/100000: episode: 47, duration: 5.503s, episode steps: 525, steps per second:  95, episode reward: 11.000, mean reward:  0.021 [ 0.000,  1.000], mean action: 2.044 [0.000, 5.000],  loss: --, mae: --, mean_q: --\n",
            " 32855/100000: episode: 48, duration: 4.423s, episode steps: 408, steps per second:  92, episode reward:  5.000, mean reward:  0.012 [ 0.000,  1.000], mean action: 2.154 [0.000, 5.000],  loss: --, mae: --, mean_q: --\n",
            " 33339/100000: episode: 49, duration: 5.195s, episode steps: 484, steps per second:  93, episode reward: 10.000, mean reward:  0.021 [ 0.000,  1.000], mean action: 2.056 [0.000, 5.000],  loss: --, mae: --, mean_q: --\n",
            " 33883/100000: episode: 50, duration: 5.728s, episode steps: 544, steps per second:  95, episode reward: 11.000, mean reward:  0.020 [ 0.000,  1.000], mean action: 2.564 [0.000, 5.000],  loss: --, mae: --, mean_q: --\n",
            " 34823/100000: episode: 51, duration: 10.159s, episode steps: 940, steps per second:  93, episode reward: 17.000, mean reward:  0.018 [ 0.000,  1.000], mean action: 1.979 [0.000, 5.000],  loss: --, mae: --, mean_q: --\n",
            " 35795/100000: episode: 52, duration: 10.525s, episode steps: 972, steps per second:  92, episode reward: 29.000, mean reward:  0.030 [ 0.000,  1.000], mean action: 2.070 [0.000, 5.000],  loss: --, mae: --, mean_q: --\n",
            " 36412/100000: episode: 53, duration: 6.744s, episode steps: 617, steps per second:  91, episode reward: 12.000, mean reward:  0.019 [ 0.000,  1.000], mean action: 2.147 [0.000, 5.000],  loss: --, mae: --, mean_q: --\n",
            " 37396/100000: episode: 54, duration: 10.468s, episode steps: 984, steps per second:  94, episode reward: 23.000, mean reward:  0.023 [ 0.000,  1.000], mean action: 2.190 [0.000, 5.000],  loss: --, mae: --, mean_q: --\n",
            " 37929/100000: episode: 55, duration: 5.855s, episode steps: 533, steps per second:  91, episode reward: 11.000, mean reward:  0.021 [ 0.000,  1.000], mean action: 2.257 [0.000, 5.000],  loss: --, mae: --, mean_q: --\n",
            " 38592/100000: episode: 56, duration: 6.949s, episode steps: 663, steps per second:  95, episode reward: 14.000, mean reward:  0.021 [ 0.000,  1.000], mean action: 2.183 [0.000, 5.000],  loss: --, mae: --, mean_q: --\n",
            " 39131/100000: episode: 57, duration: 6.003s, episode steps: 539, steps per second:  90, episode reward: 12.000, mean reward:  0.022 [ 0.000,  1.000], mean action: 2.117 [0.000, 5.000],  loss: --, mae: --, mean_q: --\n",
            " 39567/100000: episode: 58, duration: 4.610s, episode steps: 436, steps per second:  95, episode reward:  7.000, mean reward:  0.016 [ 0.000,  1.000], mean action: 2.548 [0.000, 5.000],  loss: --, mae: --, mean_q: --\n",
            " 40268/100000: episode: 59, duration: 8.304s, episode steps: 701, steps per second:  84, episode reward: 16.000, mean reward:  0.023 [ 0.000,  1.000], mean action: 1.869 [0.000, 5.000],  loss: --, mae: --, mean_q: --\n",
            " 41002/100000: episode: 60, duration: 7.757s, episode steps: 734, steps per second:  95, episode reward: 18.000, mean reward:  0.025 [ 0.000,  1.000], mean action: 1.871 [0.000, 5.000],  loss: --, mae: --, mean_q: --\n",
            " 42253/100000: episode: 61, duration: 13.260s, episode steps: 1251, steps per second:  94, episode reward: 30.000, mean reward:  0.024 [ 0.000,  1.000], mean action: 1.915 [0.000, 5.000],  loss: --, mae: --, mean_q: --\n",
            " 42769/100000: episode: 62, duration: 5.437s, episode steps: 516, steps per second:  95, episode reward:  9.000, mean reward:  0.017 [ 0.000,  1.000], mean action: 2.333 [0.000, 5.000],  loss: --, mae: --, mean_q: --\n",
            " 43261/100000: episode: 63, duration: 5.134s, episode steps: 492, steps per second:  96, episode reward:  9.000, mean reward:  0.018 [ 0.000,  1.000], mean action: 2.327 [0.000, 5.000],  loss: --, mae: --, mean_q: --\n",
            " 43784/100000: episode: 64, duration: 5.654s, episode steps: 523, steps per second:  92, episode reward:  8.000, mean reward:  0.015 [ 0.000,  1.000], mean action: 2.507 [0.000, 5.000],  loss: --, mae: --, mean_q: --\n",
            " 44616/100000: episode: 65, duration: 8.679s, episode steps: 832, steps per second:  96, episode reward: 22.000, mean reward:  0.026 [ 0.000,  1.000], mean action: 1.987 [0.000, 5.000],  loss: --, mae: --, mean_q: --\n",
            " 45314/100000: episode: 66, duration: 7.463s, episode steps: 698, steps per second:  94, episode reward: 17.000, mean reward:  0.024 [ 0.000,  1.000], mean action: 1.842 [0.000, 5.000],  loss: --, mae: --, mean_q: --\n",
            " 46085/100000: episode: 67, duration: 8.356s, episode steps: 771, steps per second:  92, episode reward: 16.000, mean reward:  0.021 [ 0.000,  1.000], mean action: 2.100 [0.000, 5.000],  loss: --, mae: --, mean_q: --\n",
            " 46906/100000: episode: 68, duration: 8.582s, episode steps: 821, steps per second:  96, episode reward: 16.000, mean reward:  0.019 [ 0.000,  1.000], mean action: 2.278 [0.000, 5.000],  loss: --, mae: --, mean_q: --\n",
            " 47419/100000: episode: 69, duration: 5.610s, episode steps: 513, steps per second:  91, episode reward: 12.000, mean reward:  0.023 [ 0.000,  1.000], mean action: 2.119 [0.000, 5.000],  loss: --, mae: --, mean_q: --\n",
            " 48357/100000: episode: 70, duration: 10.047s, episode steps: 938, steps per second:  93, episode reward: 20.000, mean reward:  0.021 [ 0.000,  1.000], mean action: 2.022 [0.000, 5.000],  loss: --, mae: --, mean_q: --\n",
            " 49314/100000: episode: 71, duration: 10.209s, episode steps: 957, steps per second:  94, episode reward: 21.000, mean reward:  0.022 [ 0.000,  1.000], mean action: 1.972 [0.000, 5.000],  loss: --, mae: --, mean_q: --\n",
            " 49727/100000: episode: 72, duration: 4.547s, episode steps: 413, steps per second:  91, episode reward:  7.000, mean reward:  0.017 [ 0.000,  1.000], mean action: 2.235 [0.000, 5.000],  loss: --, mae: --, mean_q: --\n",
            " 50634/100000: episode: 73, duration: 33.779s, episode steps: 907, steps per second:  27, episode reward: 23.000, mean reward:  0.025 [ 0.000,  1.000], mean action: 1.713 [0.000, 5.000],  loss: 0.010170, mae: 1.333975, mean_q: 1.616032\n",
            " 51373/100000: episode: 74, duration: 35.237s, episode steps: 739, steps per second:  21, episode reward: 16.000, mean reward:  0.022 [ 0.000,  1.000], mean action: 2.340 [0.000, 5.000],  loss: 0.010572, mae: 1.314974, mean_q: 1.590679\n",
            " 51897/100000: episode: 75, duration: 24.864s, episode steps: 524, steps per second:  21, episode reward:  8.000, mean reward:  0.015 [ 0.000,  1.000], mean action: 2.120 [0.000, 5.000],  loss: 0.010955, mae: 1.327118, mean_q: 1.608305\n",
            " 52348/100000: episode: 76, duration: 21.741s, episode steps: 451, steps per second:  21, episode reward:  8.000, mean reward:  0.018 [ 0.000,  1.000], mean action: 2.898 [0.000, 5.000],  loss: 0.012617, mae: 1.359602, mean_q: 1.644688\n",
            " 52960/100000: episode: 77, duration: 29.433s, episode steps: 612, steps per second:  21, episode reward: 13.000, mean reward:  0.021 [ 0.000,  1.000], mean action: 2.222 [0.000, 5.000],  loss: 0.011879, mae: 1.347339, mean_q: 1.629634\n",
            " 53650/100000: episode: 78, duration: 33.271s, episode steps: 690, steps per second:  21, episode reward: 15.000, mean reward:  0.022 [ 0.000,  1.000], mean action: 2.345 [0.000, 5.000],  loss: 0.011205, mae: 1.334071, mean_q: 1.614780\n",
            " 54331/100000: episode: 79, duration: 32.873s, episode steps: 681, steps per second:  21, episode reward: 17.000, mean reward:  0.025 [ 0.000,  1.000], mean action: 1.680 [0.000, 5.000],  loss: 0.011317, mae: 1.321773, mean_q: 1.598455\n",
            " 54963/100000: episode: 80, duration: 30.224s, episode steps: 632, steps per second:  21, episode reward: 14.000, mean reward:  0.022 [ 0.000,  1.000], mean action: 3.043 [0.000, 5.000],  loss: 0.010122, mae: 1.328753, mean_q: 1.611695\n",
            " 55916/100000: episode: 81, duration: 45.682s, episode steps: 953, steps per second:  21, episode reward: 23.000, mean reward:  0.024 [ 0.000,  1.000], mean action: 2.116 [0.000, 5.000],  loss: 0.010885, mae: 1.311380, mean_q: 1.587438\n",
            " 56682/100000: episode: 82, duration: 36.468s, episode steps: 766, steps per second:  21, episode reward: 17.000, mean reward:  0.022 [ 0.000,  1.000], mean action: 2.614 [0.000, 5.000],  loss: 0.011062, mae: 1.331995, mean_q: 1.614262\n",
            " 57468/100000: episode: 83, duration: 37.392s, episode steps: 786, steps per second:  21, episode reward: 18.000, mean reward:  0.023 [ 0.000,  1.000], mean action: 1.873 [0.000, 5.000],  loss: 0.011292, mae: 1.321609, mean_q: 1.598159\n",
            " 58194/100000: episode: 84, duration: 34.815s, episode steps: 726, steps per second:  21, episode reward: 18.000, mean reward:  0.025 [ 0.000,  1.000], mean action: 2.110 [0.000, 5.000],  loss: 0.011743, mae: 1.330475, mean_q: 1.609820\n",
            " 58987/100000: episode: 85, duration: 38.158s, episode steps: 793, steps per second:  21, episode reward: 18.000, mean reward:  0.023 [ 0.000,  1.000], mean action: 1.962 [0.000, 5.000],  loss: 0.011096, mae: 1.325760, mean_q: 1.603514\n",
            " 59554/100000: episode: 86, duration: 27.183s, episode steps: 567, steps per second:  21, episode reward:  8.000, mean reward:  0.014 [ 0.000,  1.000], mean action: 2.279 [0.000, 5.000],  loss: 0.010881, mae: 1.325662, mean_q: 1.606244\n",
            " 60121/100000: episode: 87, duration: 28.031s, episode steps: 567, steps per second:  20, episode reward: 10.000, mean reward:  0.018 [ 0.000,  1.000], mean action: 2.071 [0.000, 5.000],  loss: 0.009869, mae: 1.320084, mean_q: 1.597985\n",
            " 60797/100000: episode: 88, duration: 31.901s, episode steps: 676, steps per second:  21, episode reward: 16.000, mean reward:  0.024 [ 0.000,  1.000], mean action: 2.257 [0.000, 5.000],  loss: 0.010404, mae: 1.361308, mean_q: 1.647083\n",
            " 61331/100000: episode: 89, duration: 25.265s, episode steps: 534, steps per second:  21, episode reward: 12.000, mean reward:  0.022 [ 0.000,  1.000], mean action: 2.629 [0.000, 5.000],  loss: 0.011790, mae: 1.368811, mean_q: 1.655033\n",
            " 62343/100000: episode: 90, duration: 48.514s, episode steps: 1012, steps per second:  21, episode reward: 22.000, mean reward:  0.022 [ 0.000,  1.000], mean action: 2.848 [0.000, 5.000],  loss: 0.010734, mae: 1.362964, mean_q: 1.650801\n",
            " 63191/100000: episode: 91, duration: 40.600s, episode steps: 848, steps per second:  21, episode reward: 19.000, mean reward:  0.022 [ 0.000,  1.000], mean action: 2.072 [0.000, 5.000],  loss: 0.010803, mae: 1.358549, mean_q: 1.643709\n",
            " 64118/100000: episode: 92, duration: 44.004s, episode steps: 927, steps per second:  21, episode reward: 27.000, mean reward:  0.029 [ 0.000,  1.000], mean action: 2.531 [0.000, 5.000],  loss: 0.010714, mae: 1.366080, mean_q: 1.654087\n",
            " 64884/100000: episode: 93, duration: 37.024s, episode steps: 766, steps per second:  21, episode reward: 18.000, mean reward:  0.023 [ 0.000,  1.000], mean action: 2.236 [0.000, 5.000],  loss: 0.010670, mae: 1.372339, mean_q: 1.661845\n",
            " 65875/100000: episode: 94, duration: 47.614s, episode steps: 991, steps per second:  21, episode reward: 23.000, mean reward:  0.023 [ 0.000,  1.000], mean action: 2.690 [0.000, 5.000],  loss: 0.010807, mae: 1.343147, mean_q: 1.624970\n",
            " 66539/100000: episode: 95, duration: 31.954s, episode steps: 664, steps per second:  21, episode reward: 16.000, mean reward:  0.024 [ 0.000,  1.000], mean action: 1.914 [0.000, 5.000],  loss: 0.011100, mae: 1.352651, mean_q: 1.638281\n",
            " 67052/100000: episode: 96, duration: 24.584s, episode steps: 513, steps per second:  21, episode reward:  8.000, mean reward:  0.016 [ 0.000,  1.000], mean action: 2.070 [0.000, 5.000],  loss: 0.010899, mae: 1.361757, mean_q: 1.648558\n",
            " 67565/100000: episode: 97, duration: 24.440s, episode steps: 513, steps per second:  21, episode reward: 12.000, mean reward:  0.023 [ 0.000,  1.000], mean action: 2.146 [0.000, 5.000],  loss: 0.011727, mae: 1.365142, mean_q: 1.651119\n",
            " 68443/100000: episode: 98, duration: 41.986s, episode steps: 878, steps per second:  21, episode reward: 21.000, mean reward:  0.024 [ 0.000,  1.000], mean action: 2.673 [0.000, 5.000],  loss: 0.010055, mae: 1.340170, mean_q: 1.622940\n",
            " 69366/100000: episode: 99, duration: 44.710s, episode steps: 923, steps per second:  21, episode reward: 20.000, mean reward:  0.022 [ 0.000,  1.000], mean action: 2.690 [0.000, 5.000],  loss: 0.009996, mae: 1.357785, mean_q: 1.644238\n",
            " 70116/100000: episode: 100, duration: 37.450s, episode steps: 750, steps per second:  20, episode reward: 16.000, mean reward:  0.021 [ 0.000,  1.000], mean action: 2.237 [0.000, 5.000],  loss: 0.011319, mae: 1.376422, mean_q: 1.666354\n",
            " 70551/100000: episode: 101, duration: 21.040s, episode steps: 435, steps per second:  21, episode reward:  7.000, mean reward:  0.016 [ 0.000,  1.000], mean action: 2.582 [0.000, 5.000],  loss: 0.011946, mae: 1.397347, mean_q: 1.690926\n",
            " 71952/100000: episode: 102, duration: 67.877s, episode steps: 1401, steps per second:  21, episode reward: 32.000, mean reward:  0.023 [ 0.000,  1.000], mean action: 2.315 [0.000, 5.000],  loss: 0.011260, mae: 1.408983, mean_q: 1.706299\n",
            " 72660/100000: episode: 103, duration: 34.201s, episode steps: 708, steps per second:  21, episode reward: 17.000, mean reward:  0.024 [ 0.000,  1.000], mean action: 2.315 [0.000, 5.000],  loss: 0.011150, mae: 1.397597, mean_q: 1.691685\n",
            " 73516/100000: episode: 104, duration: 41.413s, episode steps: 856, steps per second:  21, episode reward: 19.000, mean reward:  0.022 [ 0.000,  1.000], mean action: 2.065 [0.000, 5.000],  loss: 0.010535, mae: 1.390323, mean_q: 1.684024\n",
            " 74527/100000: episode: 105, duration: 48.434s, episode steps: 1011, steps per second:  21, episode reward: 27.000, mean reward:  0.027 [ 0.000,  1.000], mean action: 2.303 [0.000, 5.000],  loss: 0.010932, mae: 1.394578, mean_q: 1.689304\n",
            " 75506/100000: episode: 106, duration: 47.319s, episode steps: 979, steps per second:  21, episode reward: 19.000, mean reward:  0.019 [ 0.000,  1.000], mean action: 1.788 [0.000, 5.000],  loss: 0.010411, mae: 1.401702, mean_q: 1.696742\n",
            " 76298/100000: episode: 107, duration: 38.645s, episode steps: 792, steps per second:  20, episode reward: 18.000, mean reward:  0.023 [ 0.000,  1.000], mean action: 2.215 [0.000, 5.000],  loss: 0.013011, mae: 1.389662, mean_q: 1.681058\n",
            " 77300/100000: episode: 108, duration: 48.464s, episode steps: 1002, steps per second:  21, episode reward: 18.000, mean reward:  0.018 [ 0.000,  1.000], mean action: 1.844 [0.000, 5.000],  loss: 0.010963, mae: 1.379425, mean_q: 1.670224\n",
            " 77855/100000: episode: 109, duration: 26.847s, episode steps: 555, steps per second:  21, episode reward: 11.000, mean reward:  0.020 [ 0.000,  1.000], mean action: 2.551 [0.000, 5.000],  loss: 0.011426, mae: 1.404555, mean_q: 1.700039\n",
            " 78519/100000: episode: 110, duration: 31.815s, episode steps: 664, steps per second:  21, episode reward: 15.000, mean reward:  0.023 [ 0.000,  1.000], mean action: 1.919 [0.000, 5.000],  loss: 0.010795, mae: 1.397704, mean_q: 1.692424\n",
            " 79284/100000: episode: 111, duration: 36.886s, episode steps: 765, steps per second:  21, episode reward: 21.000, mean reward:  0.027 [ 0.000,  1.000], mean action: 2.529 [0.000, 5.000],  loss: 0.011648, mae: 1.384745, mean_q: 1.675301\n",
            " 79929/100000: episode: 112, duration: 31.116s, episode steps: 645, steps per second:  21, episode reward: 16.000, mean reward:  0.025 [ 0.000,  1.000], mean action: 2.195 [0.000, 5.000],  loss: 0.011799, mae: 1.394333, mean_q: 1.685581\n",
            " 80686/100000: episode: 113, duration: 37.121s, episode steps: 757, steps per second:  20, episode reward: 20.000, mean reward:  0.026 [ 0.000,  1.000], mean action: 2.136 [0.000, 5.000],  loss: 0.011301, mae: 1.433023, mean_q: 1.735163\n",
            " 81715/100000: episode: 114, duration: 49.297s, episode steps: 1029, steps per second:  21, episode reward: 26.000, mean reward:  0.025 [ 0.000,  1.000], mean action: 2.085 [0.000, 5.000],  loss: 0.010615, mae: 1.415869, mean_q: 1.713550\n",
            " 82260/100000: episode: 115, duration: 26.179s, episode steps: 545, steps per second:  21, episode reward: 10.000, mean reward:  0.018 [ 0.000,  1.000], mean action: 2.591 [0.000, 5.000],  loss: 0.012837, mae: 1.431153, mean_q: 1.729761\n",
            " 82881/100000: episode: 116, duration: 29.759s, episode steps: 621, steps per second:  21, episode reward: 14.000, mean reward:  0.023 [ 0.000,  1.000], mean action: 2.353 [0.000, 5.000],  loss: 0.011444, mae: 1.422312, mean_q: 1.718499\n",
            " 83625/100000: episode: 117, duration: 35.471s, episode steps: 744, steps per second:  21, episode reward: 20.000, mean reward:  0.027 [ 0.000,  1.000], mean action: 1.925 [0.000, 5.000],  loss: 0.011479, mae: 1.418543, mean_q: 1.713719\n",
            " 84313/100000: episode: 118, duration: 32.823s, episode steps: 688, steps per second:  21, episode reward: 17.000, mean reward:  0.025 [ 0.000,  1.000], mean action: 2.475 [0.000, 5.000],  loss: 0.010745, mae: 1.416878, mean_q: 1.714237\n",
            " 84884/100000: episode: 119, duration: 27.375s, episode steps: 571, steps per second:  21, episode reward: 11.000, mean reward:  0.019 [ 0.000,  1.000], mean action: 2.637 [0.000, 5.000],  loss: 0.010872, mae: 1.443166, mean_q: 1.746356\n",
            " 85690/100000: episode: 120, duration: 39.060s, episode steps: 806, steps per second:  21, episode reward: 16.000, mean reward:  0.020 [ 0.000,  1.000], mean action: 2.763 [0.000, 5.000],  loss: 0.009999, mae: 1.396949, mean_q: 1.690551\n",
            " 86400/100000: episode: 121, duration: 34.617s, episode steps: 710, steps per second:  21, episode reward: 16.000, mean reward:  0.023 [ 0.000,  1.000], mean action: 2.659 [0.000, 5.000],  loss: 0.010345, mae: 1.405426, mean_q: 1.699958\n",
            " 87170/100000: episode: 122, duration: 37.040s, episode steps: 770, steps per second:  21, episode reward: 18.000, mean reward:  0.023 [ 0.000,  1.000], mean action: 2.016 [0.000, 5.000],  loss: 0.010237, mae: 1.428550, mean_q: 1.727449\n",
            " 87601/100000: episode: 123, duration: 21.134s, episode steps: 431, steps per second:  20, episode reward:  8.000, mean reward:  0.019 [ 0.000,  1.000], mean action: 2.872 [0.000, 5.000],  loss: 0.010454, mae: 1.417883, mean_q: 1.715873\n",
            " 88226/100000: episode: 124, duration: 29.848s, episode steps: 625, steps per second:  21, episode reward: 15.000, mean reward:  0.024 [ 0.000,  1.000], mean action: 2.582 [0.000, 5.000],  loss: 0.010941, mae: 1.415296, mean_q: 1.711594\n",
            " 88810/100000: episode: 125, duration: 27.791s, episode steps: 584, steps per second:  21, episode reward:  9.000, mean reward:  0.015 [ 0.000,  1.000], mean action: 2.137 [0.000, 5.000],  loss: 0.011241, mae: 1.417608, mean_q: 1.713992\n",
            " 89594/100000: episode: 126, duration: 37.671s, episode steps: 784, steps per second:  21, episode reward: 15.000, mean reward:  0.019 [ 0.000,  1.000], mean action: 1.693 [0.000, 5.000],  loss: 0.012357, mae: 1.418905, mean_q: 1.715972\n",
            " 90316/100000: episode: 127, duration: 35.852s, episode steps: 722, steps per second:  20, episode reward: 18.000, mean reward:  0.025 [ 0.000,  1.000], mean action: 2.163 [0.000, 5.000],  loss: 0.010649, mae: 1.402764, mean_q: 1.698598\n",
            " 91314/100000: episode: 128, duration: 48.157s, episode steps: 998, steps per second:  21, episode reward: 23.000, mean reward:  0.023 [ 0.000,  1.000], mean action: 1.909 [0.000, 5.000],  loss: 0.011375, mae: 1.445620, mean_q: 1.749313\n",
            " 92237/100000: episode: 129, duration: 44.309s, episode steps: 923, steps per second:  21, episode reward: 17.000, mean reward:  0.018 [ 0.000,  1.000], mean action: 1.826 [0.000, 5.000],  loss: 0.011976, mae: 1.448646, mean_q: 1.750821\n",
            " 93406/100000: episode: 130, duration: 56.276s, episode steps: 1169, steps per second:  21, episode reward: 22.000, mean reward:  0.019 [ 0.000,  1.000], mean action: 1.819 [0.000, 5.000],  loss: 0.011308, mae: 1.454533, mean_q: 1.759374\n",
            " 94372/100000: episode: 131, duration: 46.358s, episode steps: 966, steps per second:  21, episode reward: 27.000, mean reward:  0.028 [ 0.000,  1.000], mean action: 2.395 [0.000, 5.000],  loss: 0.011044, mae: 1.457748, mean_q: 1.763434\n",
            " 95186/100000: episode: 132, duration: 39.277s, episode steps: 814, steps per second:  21, episode reward: 24.000, mean reward:  0.029 [ 0.000,  1.000], mean action: 2.039 [0.000, 5.000],  loss: 0.011437, mae: 1.451964, mean_q: 1.754388\n",
            " 96463/100000: episode: 133, duration: 61.115s, episode steps: 1277, steps per second:  21, episode reward: 27.000, mean reward:  0.021 [ 0.000,  1.000], mean action: 2.168 [0.000, 5.000],  loss: 0.010523, mae: 1.457238, mean_q: 1.762494\n",
            " 97388/100000: episode: 134, duration: 44.147s, episode steps: 925, steps per second:  21, episode reward: 22.000, mean reward:  0.024 [ 0.000,  1.000], mean action: 1.465 [0.000, 5.000],  loss: 0.009732, mae: 1.461137, mean_q: 1.767014\n",
            " 98467/100000: episode: 135, duration: 51.908s, episode steps: 1079, steps per second:  21, episode reward: 24.000, mean reward:  0.022 [ 0.000,  1.000], mean action: 1.484 [0.000, 5.000],  loss: 0.011404, mae: 1.445040, mean_q: 1.747721\n",
            " 99423/100000: episode: 136, duration: 45.860s, episode steps: 956, steps per second:  21, episode reward: 20.000, mean reward:  0.021 [ 0.000,  1.000], mean action: 1.941 [0.000, 5.000],  loss: 0.010968, mae: 1.453525, mean_q: 1.758708\n",
            "done, took 2951.388 seconds\n"
          ]
        }
      ]
    },
    {
      "cell_type": "code",
      "source": [
        "# Guardar la memoria de experiencia\n",
        "import pickle\n",
        "with open('memory_noisy.pkl', 'wb') as f:\n",
        "    pickle.dump(memory, f)\n",
        "\n",
        "print(f\"Entrenamiento hasta {total_steps} pasos completado y guardado.\")"
      ],
      "metadata": {
        "colab": {
          "base_uri": "https://localhost:8080/"
        },
        "id": "8HOZdrDnEvfp",
        "outputId": "c08b6db1-c97a-4a15-cd6b-a6e493cc4afb"
      },
      "execution_count": null,
      "outputs": [
        {
          "output_type": "stream",
          "name": "stdout",
          "text": [
            "Entrenamiento hasta 1500000 pasos completado y guardado.\n"
          ]
        }
      ]
    },
    {
      "cell_type": "code",
      "source": [
        "import time\n",
        "\n",
        "print(\"Esperando 60 segundos...\")\n",
        "time.sleep(60)\n",
        "print(\"¡Tiempo de espera terminado!\")"
      ],
      "metadata": {
        "colab": {
          "base_uri": "https://localhost:8080/"
        },
        "id": "YdwtpcxtExd5",
        "outputId": "ac7d54be-9428-4f12-cee8-f9abb06215ae"
      },
      "execution_count": null,
      "outputs": [
        {
          "output_type": "stream",
          "name": "stdout",
          "text": [
            "Esperando 60 segundos...\n",
            "¡Tiempo de espera terminado!\n"
          ]
        }
      ]
    },
    {
      "cell_type": "code",
      "source": [
        "# Testear desde último checkpoint\n",
        "latest_path, trained_steps = load_latest_weights(dqn, checkpoint_dir)\n",
        "if latest_path:\n",
        "    dqn.test(env, nb_episodes=10, visualize=False)"
      ],
      "metadata": {
        "colab": {
          "base_uri": "https://localhost:8080/"
        },
        "id": "dS6bhAMVEzoA",
        "outputId": "1b3c678f-432f-444e-d407-0198353286c6"
      },
      "execution_count": null,
      "outputs": [
        {
          "output_type": "stream",
          "name": "stdout",
          "text": [
            "✅ Cargando pesos desde: /content/gdrive/My Drive/MODELO 14/checkpoints/dqn_noisy_weights_1500000.h5 (pasos entrenados: 1500000)\n",
            "Testing for 10 episodes ...\n",
            "Episode 1: reward: 28.000, steps: 1213\n",
            "Episode 2: reward: 35.000, steps: 1513\n",
            "Episode 3: reward: 16.000, steps: 719\n",
            "Episode 4: reward: 12.000, steps: 588\n",
            "Episode 5: reward: 19.000, steps: 820\n",
            "Episode 6: reward: 25.000, steps: 925\n",
            "Episode 7: reward: 29.000, steps: 1524\n",
            "Episode 8: reward: 16.000, steps: 742\n",
            "Episode 9: reward: 18.000, steps: 886\n",
            "Episode 10: reward: 25.000, steps: 1118\n"
          ]
        }
      ]
    },
    {
      "cell_type": "markdown",
      "source": [
        "Parte 7"
      ],
      "metadata": {
        "id": "fITn7MIwE0a2"
      }
    },
    {
      "cell_type": "code",
      "source": [
        "# Cargar pesos anteriores si existen\n",
        "latest_path, trained_steps = load_latest_weights(dqn, checkpoint_dir)\n",
        "if latest_path:\n",
        "    dqn.load_weights(latest_path)\n",
        "else:\n",
        "    trained_steps = 0\n",
        "\n",
        "# Definir pasos a entrenar\n",
        "steps_to_train = 100000\n",
        "total_steps = trained_steps + steps_to_train\n",
        "\n",
        "# Crear paths y callbacks dinámicos\n",
        "log_path = os.path.join(log_dir, f\"dqn_noisy_log_{trained_steps}_{total_steps}.json\")\n",
        "checkpoint_path = os.path.join(checkpoint_dir, f\"dqn_noisy_weights_{total_steps}.h5\")\n",
        "\n",
        "logger_callback = FileLogger(log_path, interval=100)\n",
        "checkpoint_callback = ModelIntervalCheckpoint(checkpoint_path, interval=10000)\n",
        "\n",
        "# Entrenar agente\n",
        "dqn.fit(env, nb_steps=steps_to_train, visualize=False, verbose=2,\n",
        "        callbacks=[checkpoint_callback, logger_callback])\n",
        "\n",
        "# Guardar pesos finales\n",
        "dqn.save_weights(checkpoint_path, overwrite=True)"
      ],
      "metadata": {
        "colab": {
          "base_uri": "https://localhost:8080/"
        },
        "id": "xeoEKTIjE6Ae",
        "outputId": "f1440c64-5579-4eb8-9386-0d077c6777b7"
      },
      "execution_count": null,
      "outputs": [
        {
          "output_type": "stream",
          "name": "stdout",
          "text": [
            "✅ Cargando pesos desde: /content/gdrive/My Drive/MODELO 14/checkpoints/dqn_noisy_weights_1500000.h5 (pasos entrenados: 1500000)\n",
            "Training for 100000 steps ...\n",
            "  1082/100000: episode: 1, duration: 11.868s, episode steps: 1082, steps per second:  91, episode reward: 24.000, mean reward:  0.022 [ 0.000,  1.000], mean action: 1.689 [0.000, 5.000],  loss: --, mae: --, mean_q: --\n",
            "  1688/100000: episode: 2, duration: 6.886s, episode steps: 606, steps per second:  88, episode reward: 11.000, mean reward:  0.018 [ 0.000,  1.000], mean action: 1.926 [0.000, 5.000],  loss: --, mae: --, mean_q: --\n",
            "  2599/100000: episode: 3, duration: 9.938s, episode steps: 911, steps per second:  92, episode reward: 18.000, mean reward:  0.020 [ 0.000,  1.000], mean action: 1.708 [0.000, 5.000],  loss: --, mae: --, mean_q: --\n",
            "  3377/100000: episode: 4, duration: 8.628s, episode steps: 778, steps per second:  90, episode reward: 21.000, mean reward:  0.027 [ 0.000,  1.000], mean action: 1.684 [0.000, 5.000],  loss: --, mae: --, mean_q: --\n",
            "  3930/100000: episode: 5, duration: 6.221s, episode steps: 553, steps per second:  89, episode reward: 11.000, mean reward:  0.020 [ 0.000,  1.000], mean action: 2.098 [0.000, 5.000],  loss: --, mae: --, mean_q: --\n",
            "  4884/100000: episode: 6, duration: 10.665s, episode steps: 954, steps per second:  89, episode reward: 18.000, mean reward:  0.019 [ 0.000,  1.000], mean action: 1.648 [0.000, 5.000],  loss: --, mae: --, mean_q: --\n",
            "  5684/100000: episode: 7, duration: 8.830s, episode steps: 800, steps per second:  91, episode reward: 16.000, mean reward:  0.020 [ 0.000,  1.000], mean action: 1.740 [0.000, 5.000],  loss: --, mae: --, mean_q: --\n",
            "  6314/100000: episode: 8, duration: 7.055s, episode steps: 630, steps per second:  89, episode reward: 12.000, mean reward:  0.019 [ 0.000,  1.000], mean action: 1.933 [0.000, 5.000],  loss: --, mae: --, mean_q: --\n",
            "  7018/100000: episode: 9, duration: 7.742s, episode steps: 704, steps per second:  91, episode reward: 17.000, mean reward:  0.024 [ 0.000,  1.000], mean action: 1.781 [0.000, 5.000],  loss: --, mae: --, mean_q: --\n",
            "  7747/100000: episode: 10, duration: 8.062s, episode steps: 729, steps per second:  90, episode reward: 16.000, mean reward:  0.022 [ 0.000,  1.000], mean action: 1.748 [0.000, 5.000],  loss: --, mae: --, mean_q: --\n",
            "  8458/100000: episode: 11, duration: 7.927s, episode steps: 711, steps per second:  90, episode reward: 16.000, mean reward:  0.023 [ 0.000,  1.000], mean action: 1.827 [0.000, 5.000],  loss: --, mae: --, mean_q: --\n",
            "  9142/100000: episode: 12, duration: 7.548s, episode steps: 684, steps per second:  91, episode reward: 15.000, mean reward:  0.022 [ 0.000,  1.000], mean action: 1.651 [0.000, 5.000],  loss: --, mae: --, mean_q: --\n",
            " 10055/100000: episode: 13, duration: 10.260s, episode steps: 913, steps per second:  89, episode reward: 17.000, mean reward:  0.019 [ 0.000,  1.000], mean action: 1.629 [0.000, 5.000],  loss: --, mae: --, mean_q: --\n",
            " 10805/100000: episode: 14, duration: 8.485s, episode steps: 750, steps per second:  88, episode reward: 17.000, mean reward:  0.023 [ 0.000,  1.000], mean action: 1.657 [0.000, 5.000],  loss: --, mae: --, mean_q: --\n",
            " 11584/100000: episode: 15, duration: 8.730s, episode steps: 779, steps per second:  89, episode reward: 15.000, mean reward:  0.019 [ 0.000,  1.000], mean action: 1.755 [0.000, 5.000],  loss: --, mae: --, mean_q: --\n",
            " 12135/100000: episode: 16, duration: 6.275s, episode steps: 551, steps per second:  88, episode reward: 10.000, mean reward:  0.018 [ 0.000,  1.000], mean action: 2.071 [0.000, 5.000],  loss: --, mae: --, mean_q: --\n",
            " 13036/100000: episode: 17, duration: 10.124s, episode steps: 901, steps per second:  89, episode reward: 18.000, mean reward:  0.020 [ 0.000,  1.000], mean action: 1.791 [0.000, 5.000],  loss: --, mae: --, mean_q: --\n",
            " 13788/100000: episode: 18, duration: 8.192s, episode steps: 752, steps per second:  92, episode reward: 15.000, mean reward:  0.020 [ 0.000,  1.000], mean action: 1.697 [0.000, 5.000],  loss: --, mae: --, mean_q: --\n",
            " 14543/100000: episode: 19, duration: 8.564s, episode steps: 755, steps per second:  88, episode reward: 16.000, mean reward:  0.021 [ 0.000,  1.000], mean action: 1.638 [0.000, 5.000],  loss: --, mae: --, mean_q: --\n",
            " 15271/100000: episode: 20, duration: 8.047s, episode steps: 728, steps per second:  90, episode reward: 16.000, mean reward:  0.022 [ 0.000,  1.000], mean action: 1.816 [0.000, 5.000],  loss: --, mae: --, mean_q: --\n",
            " 15881/100000: episode: 21, duration: 6.768s, episode steps: 610, steps per second:  90, episode reward: 12.000, mean reward:  0.020 [ 0.000,  1.000], mean action: 1.738 [0.000, 5.000],  loss: --, mae: --, mean_q: --\n",
            " 16437/100000: episode: 22, duration: 6.207s, episode steps: 556, steps per second:  90, episode reward: 12.000, mean reward:  0.022 [ 0.000,  1.000], mean action: 1.917 [0.000, 5.000],  loss: --, mae: --, mean_q: --\n",
            " 17613/100000: episode: 23, duration: 13.209s, episode steps: 1176, steps per second:  89, episode reward: 27.000, mean reward:  0.023 [ 0.000,  1.000], mean action: 1.477 [0.000, 5.000],  loss: --, mae: --, mean_q: --\n",
            " 18606/100000: episode: 24, duration: 10.853s, episode steps: 993, steps per second:  91, episode reward: 23.000, mean reward:  0.023 [ 0.000,  1.000], mean action: 1.600 [0.000, 5.000],  loss: --, mae: --, mean_q: --\n",
            " 19369/100000: episode: 25, duration: 8.354s, episode steps: 763, steps per second:  91, episode reward: 16.000, mean reward:  0.021 [ 0.000,  1.000], mean action: 1.616 [0.000, 5.000],  loss: --, mae: --, mean_q: --\n",
            " 20048/100000: episode: 26, duration: 8.381s, episode steps: 679, steps per second:  81, episode reward: 16.000, mean reward:  0.024 [ 0.000,  1.000], mean action: 1.847 [0.000, 5.000],  loss: --, mae: --, mean_q: --\n",
            " 20775/100000: episode: 27, duration: 7.794s, episode steps: 727, steps per second:  93, episode reward: 16.000, mean reward:  0.022 [ 0.000,  1.000], mean action: 1.799 [0.000, 5.000],  loss: --, mae: --, mean_q: --\n",
            " 21760/100000: episode: 28, duration: 10.557s, episode steps: 985, steps per second:  93, episode reward: 22.000, mean reward:  0.022 [ 0.000,  1.000], mean action: 1.550 [0.000, 5.000],  loss: --, mae: --, mean_q: --\n",
            " 22389/100000: episode: 29, duration: 6.870s, episode steps: 629, steps per second:  92, episode reward: 12.000, mean reward:  0.019 [ 0.000,  1.000], mean action: 1.525 [0.000, 5.000],  loss: --, mae: --, mean_q: --\n",
            " 23301/100000: episode: 30, duration: 9.875s, episode steps: 912, steps per second:  92, episode reward: 17.000, mean reward:  0.019 [ 0.000,  1.000], mean action: 1.512 [0.000, 5.000],  loss: --, mae: --, mean_q: --\n",
            " 24441/100000: episode: 31, duration: 12.485s, episode steps: 1140, steps per second:  91, episode reward: 32.000, mean reward:  0.028 [ 0.000,  1.000], mean action: 1.600 [0.000, 5.000],  loss: --, mae: --, mean_q: --\n",
            " 25165/100000: episode: 32, duration: 7.825s, episode steps: 724, steps per second:  93, episode reward: 19.000, mean reward:  0.026 [ 0.000,  1.000], mean action: 1.877 [0.000, 5.000],  loss: --, mae: --, mean_q: --\n",
            " 25872/100000: episode: 33, duration: 7.797s, episode steps: 707, steps per second:  91, episode reward: 14.000, mean reward:  0.020 [ 0.000,  1.000], mean action: 1.581 [0.000, 5.000],  loss: --, mae: --, mean_q: --\n",
            " 26423/100000: episode: 34, duration: 5.991s, episode steps: 551, steps per second:  92, episode reward: 10.000, mean reward:  0.018 [ 0.000,  1.000], mean action: 2.198 [0.000, 5.000],  loss: --, mae: --, mean_q: --\n",
            " 27154/100000: episode: 35, duration: 8.181s, episode steps: 731, steps per second:  89, episode reward: 16.000, mean reward:  0.022 [ 0.000,  1.000], mean action: 1.932 [0.000, 5.000],  loss: --, mae: --, mean_q: --\n",
            " 28236/100000: episode: 36, duration: 11.838s, episode steps: 1082, steps per second:  91, episode reward: 23.000, mean reward:  0.021 [ 0.000,  1.000], mean action: 1.604 [0.000, 5.000],  loss: --, mae: --, mean_q: --\n",
            " 28943/100000: episode: 37, duration: 7.623s, episode steps: 707, steps per second:  93, episode reward: 15.000, mean reward:  0.021 [ 0.000,  1.000], mean action: 1.826 [0.000, 5.000],  loss: --, mae: --, mean_q: --\n",
            " 29765/100000: episode: 38, duration: 9.119s, episode steps: 822, steps per second:  90, episode reward: 17.000, mean reward:  0.021 [ 0.000,  1.000], mean action: 1.534 [0.000, 5.000],  loss: --, mae: --, mean_q: --\n",
            " 30317/100000: episode: 39, duration: 7.807s, episode steps: 552, steps per second:  71, episode reward: 11.000, mean reward:  0.020 [ 0.000,  1.000], mean action: 2.208 [0.000, 5.000],  loss: --, mae: --, mean_q: --\n",
            " 31011/100000: episode: 40, duration: 7.275s, episode steps: 694, steps per second:  95, episode reward: 17.000, mean reward:  0.024 [ 0.000,  1.000], mean action: 1.850 [0.000, 5.000],  loss: --, mae: --, mean_q: --\n",
            " 31506/100000: episode: 41, duration: 5.446s, episode steps: 495, steps per second:  91, episode reward:  8.000, mean reward:  0.016 [ 0.000,  1.000], mean action: 2.145 [0.000, 5.000],  loss: --, mae: --, mean_q: --\n",
            " 32217/100000: episode: 42, duration: 7.509s, episode steps: 711, steps per second:  95, episode reward: 16.000, mean reward:  0.023 [ 0.000,  1.000], mean action: 1.897 [0.000, 5.000],  loss: --, mae: --, mean_q: --\n",
            " 33282/100000: episode: 43, duration: 11.383s, episode steps: 1065, steps per second:  94, episode reward: 24.000, mean reward:  0.023 [ 0.000,  1.000], mean action: 1.537 [0.000, 5.000],  loss: --, mae: --, mean_q: --\n",
            " 34033/100000: episode: 44, duration: 8.131s, episode steps: 751, steps per second:  92, episode reward: 16.000, mean reward:  0.021 [ 0.000,  1.000], mean action: 1.609 [0.000, 5.000],  loss: --, mae: --, mean_q: --\n",
            " 34950/100000: episode: 45, duration: 9.959s, episode steps: 917, steps per second:  92, episode reward: 22.000, mean reward:  0.024 [ 0.000,  1.000], mean action: 1.636 [0.000, 5.000],  loss: --, mae: --, mean_q: --\n",
            " 35596/100000: episode: 46, duration: 6.893s, episode steps: 646, steps per second:  94, episode reward: 12.000, mean reward:  0.019 [ 0.000,  1.000], mean action: 1.952 [0.000, 5.000],  loss: --, mae: --, mean_q: --\n",
            " 36444/100000: episode: 47, duration: 9.163s, episode steps: 848, steps per second:  93, episode reward: 20.000, mean reward:  0.024 [ 0.000,  1.000], mean action: 1.534 [0.000, 5.000],  loss: --, mae: --, mean_q: --\n",
            " 37162/100000: episode: 48, duration: 7.625s, episode steps: 718, steps per second:  94, episode reward: 15.000, mean reward:  0.021 [ 0.000,  1.000], mean action: 1.812 [0.000, 5.000],  loss: --, mae: --, mean_q: --\n",
            " 37967/100000: episode: 49, duration: 8.631s, episode steps: 805, steps per second:  93, episode reward: 23.000, mean reward:  0.029 [ 0.000,  1.000], mean action: 1.672 [0.000, 5.000],  loss: --, mae: --, mean_q: --\n",
            " 39052/100000: episode: 50, duration: 11.640s, episode steps: 1085, steps per second:  93, episode reward: 27.000, mean reward:  0.025 [ 0.000,  1.000], mean action: 1.663 [0.000, 5.000],  loss: --, mae: --, mean_q: --\n",
            " 40023/100000: episode: 51, duration: 11.148s, episode steps: 971, steps per second:  87, episode reward: 18.000, mean reward:  0.019 [ 0.000,  1.000], mean action: 1.697 [0.000, 5.000],  loss: --, mae: --, mean_q: --\n",
            " 40889/100000: episode: 52, duration: 9.343s, episode steps: 866, steps per second:  93, episode reward: 21.000, mean reward:  0.024 [ 0.000,  1.000], mean action: 1.658 [0.000, 5.000],  loss: --, mae: --, mean_q: --\n",
            " 41663/100000: episode: 53, duration: 8.191s, episode steps: 774, steps per second:  94, episode reward: 20.000, mean reward:  0.026 [ 0.000,  1.000], mean action: 1.708 [0.000, 5.000],  loss: --, mae: --, mean_q: --\n",
            " 42208/100000: episode: 54, duration: 6.010s, episode steps: 545, steps per second:  91, episode reward: 12.000, mean reward:  0.022 [ 0.000,  1.000], mean action: 2.213 [0.000, 5.000],  loss: --, mae: --, mean_q: --\n",
            " 42858/100000: episode: 55, duration: 7.066s, episode steps: 650, steps per second:  92, episode reward: 12.000, mean reward:  0.018 [ 0.000,  1.000], mean action: 1.840 [0.000, 5.000],  loss: --, mae: --, mean_q: --\n",
            " 43924/100000: episode: 56, duration: 11.496s, episode steps: 1066, steps per second:  93, episode reward: 27.000, mean reward:  0.025 [ 0.000,  1.000], mean action: 1.525 [0.000, 5.000],  loss: --, mae: --, mean_q: --\n",
            " 45168/100000: episode: 57, duration: 13.459s, episode steps: 1244, steps per second:  92, episode reward: 27.000, mean reward:  0.022 [ 0.000,  1.000], mean action: 1.564 [0.000, 5.000],  loss: --, mae: --, mean_q: --\n",
            " 45884/100000: episode: 58, duration: 7.853s, episode steps: 716, steps per second:  91, episode reward: 16.000, mean reward:  0.022 [ 0.000,  1.000], mean action: 1.793 [0.000, 5.000],  loss: --, mae: --, mean_q: --\n",
            " 46651/100000: episode: 59, duration: 8.279s, episode steps: 767, steps per second:  93, episode reward: 16.000, mean reward:  0.021 [ 0.000,  1.000], mean action: 1.983 [0.000, 5.000],  loss: --, mae: --, mean_q: --\n",
            " 47289/100000: episode: 60, duration: 6.916s, episode steps: 638, steps per second:  92, episode reward: 12.000, mean reward:  0.019 [ 0.000,  1.000], mean action: 1.959 [0.000, 5.000],  loss: --, mae: --, mean_q: --\n",
            " 48101/100000: episode: 61, duration: 9.436s, episode steps: 812, steps per second:  86, episode reward: 19.000, mean reward:  0.023 [ 0.000,  1.000], mean action: 1.488 [0.000, 5.000],  loss: --, mae: --, mean_q: --\n",
            " 48877/100000: episode: 62, duration: 8.938s, episode steps: 776, steps per second:  87, episode reward: 18.000, mean reward:  0.023 [ 0.000,  1.000], mean action: 1.606 [0.000, 5.000],  loss: --, mae: --, mean_q: --\n",
            " 49336/100000: episode: 63, duration: 5.333s, episode steps: 459, steps per second:  86, episode reward:  7.000, mean reward:  0.015 [ 0.000,  1.000], mean action: 2.057 [0.000, 5.000],  loss: --, mae: --, mean_q: --\n",
            " 50077/100000: episode: 64, duration: 11.556s, episode steps: 741, steps per second:  64, episode reward: 15.000, mean reward:  0.020 [ 0.000,  1.000], mean action: 1.741 [0.000, 5.000],  loss: 0.012202, mae: 1.493580, mean_q: 1.809024\n",
            " 50586/100000: episode: 65, duration: 23.676s, episode steps: 509, steps per second:  21, episode reward:  6.000, mean reward:  0.012 [ 0.000,  1.000], mean action: 2.925 [0.000, 5.000],  loss: 0.012445, mae: 1.439342, mean_q: 1.743144\n",
            " 51842/100000: episode: 66, duration: 58.787s, episode steps: 1256, steps per second:  21, episode reward: 32.000, mean reward:  0.025 [ 0.000,  1.000], mean action: 2.033 [0.000, 5.000],  loss: 0.011177, mae: 1.446413, mean_q: 1.751674\n",
            " 52553/100000: episode: 67, duration: 33.224s, episode steps: 711, steps per second:  21, episode reward: 16.000, mean reward:  0.023 [ 0.000,  1.000], mean action: 1.916 [0.000, 5.000],  loss: 0.012375, mae: 1.434147, mean_q: 1.735775\n",
            " 53348/100000: episode: 68, duration: 37.474s, episode steps: 795, steps per second:  21, episode reward: 17.000, mean reward:  0.021 [ 0.000,  1.000], mean action: 2.448 [0.000, 5.000],  loss: 0.011848, mae: 1.447990, mean_q: 1.750867\n",
            " 54345/100000: episode: 69, duration: 46.813s, episode steps: 997, steps per second:  21, episode reward: 25.000, mean reward:  0.025 [ 0.000,  1.000], mean action: 2.256 [0.000, 5.000],  loss: 0.011797, mae: 1.437105, mean_q: 1.737650\n",
            " 54966/100000: episode: 70, duration: 28.754s, episode steps: 621, steps per second:  22, episode reward: 12.000, mean reward:  0.019 [ 0.000,  1.000], mean action: 1.931 [0.000, 5.000],  loss: 0.011528, mae: 1.427085, mean_q: 1.725987\n",
            " 55528/100000: episode: 71, duration: 26.822s, episode steps: 562, steps per second:  21, episode reward: 12.000, mean reward:  0.021 [ 0.000,  1.000], mean action: 1.589 [0.000, 5.000],  loss: 0.013083, mae: 1.445392, mean_q: 1.748232\n",
            " 56410/100000: episode: 72, duration: 42.000s, episode steps: 882, steps per second:  21, episode reward: 16.000, mean reward:  0.018 [ 0.000,  1.000], mean action: 2.276 [0.000, 5.000],  loss: 0.011576, mae: 1.438250, mean_q: 1.742312\n",
            " 57325/100000: episode: 73, duration: 43.269s, episode steps: 915, steps per second:  21, episode reward: 20.000, mean reward:  0.022 [ 0.000,  1.000], mean action: 1.468 [0.000, 5.000],  loss: 0.010617, mae: 1.425417, mean_q: 1.725555\n",
            " 58500/100000: episode: 74, duration: 55.220s, episode steps: 1175, steps per second:  21, episode reward: 24.000, mean reward:  0.020 [ 0.000,  1.000], mean action: 2.443 [0.000, 5.000],  loss: 0.011227, mae: 1.442340, mean_q: 1.744929\n",
            " 59332/100000: episode: 75, duration: 39.569s, episode steps: 832, steps per second:  21, episode reward: 22.000, mean reward:  0.026 [ 0.000,  1.000], mean action: 1.588 [0.000, 5.000],  loss: 0.010453, mae: 1.436828, mean_q: 1.738138\n",
            " 60543/100000: episode: 76, duration: 58.165s, episode steps: 1211, steps per second:  21, episode reward: 26.000, mean reward:  0.021 [ 0.000,  1.000], mean action: 1.732 [0.000, 5.000],  loss: 0.011356, mae: 1.447627, mean_q: 1.751092\n",
            " 61091/100000: episode: 77, duration: 25.895s, episode steps: 548, steps per second:  21, episode reward: 12.000, mean reward:  0.022 [ 0.000,  1.000], mean action: 2.931 [0.000, 5.000],  loss: 0.012183, mae: 1.487789, mean_q: 1.800101\n",
            " 61632/100000: episode: 78, duration: 25.815s, episode steps: 541, steps per second:  21, episode reward: 10.000, mean reward:  0.018 [ 0.000,  1.000], mean action: 2.287 [0.000, 5.000],  loss: 0.011698, mae: 1.477300, mean_q: 1.787294\n",
            " 63178/100000: episode: 79, duration: 73.424s, episode steps: 1546, steps per second:  21, episode reward: 31.000, mean reward:  0.020 [ 0.000,  1.000], mean action: 1.808 [0.000, 5.000],  loss: 0.011648, mae: 1.473650, mean_q: 1.782824\n",
            " 63968/100000: episode: 80, duration: 36.988s, episode steps: 790, steps per second:  21, episode reward: 19.000, mean reward:  0.024 [ 0.000,  1.000], mean action: 1.609 [0.000, 5.000],  loss: 0.011775, mae: 1.473671, mean_q: 1.783515\n",
            " 64553/100000: episode: 81, duration: 27.559s, episode steps: 585, steps per second:  21, episode reward: 12.000, mean reward:  0.021 [ 0.000,  1.000], mean action: 1.773 [0.000, 5.000],  loss: 0.011902, mae: 1.471051, mean_q: 1.780424\n",
            " 65582/100000: episode: 82, duration: 48.379s, episode steps: 1029, steps per second:  21, episode reward: 18.000, mean reward:  0.017 [ 0.000,  1.000], mean action: 2.044 [0.000, 5.000],  loss: 0.011332, mae: 1.459939, mean_q: 1.768517\n",
            " 66262/100000: episode: 83, duration: 32.585s, episode steps: 680, steps per second:  21, episode reward: 15.000, mean reward:  0.022 [ 0.000,  1.000], mean action: 2.763 [0.000, 5.000],  loss: 0.010606, mae: 1.462629, mean_q: 1.770609\n",
            " 66899/100000: episode: 84, duration: 29.972s, episode steps: 637, steps per second:  21, episode reward: 12.000, mean reward:  0.019 [ 0.000,  1.000], mean action: 2.730 [0.000, 5.000],  loss: 0.011276, mae: 1.456000, mean_q: 1.763893\n",
            " 67442/100000: episode: 85, duration: 25.785s, episode steps: 543, steps per second:  21, episode reward:  7.000, mean reward:  0.013 [ 0.000,  1.000], mean action: 1.880 [0.000, 5.000],  loss: 0.011330, mae: 1.473687, mean_q: 1.781282\n",
            " 68069/100000: episode: 86, duration: 29.905s, episode steps: 627, steps per second:  21, episode reward: 12.000, mean reward:  0.019 [ 0.000,  1.000], mean action: 2.123 [0.000, 5.000],  loss: 0.011984, mae: 1.453849, mean_q: 1.759109\n",
            " 69362/100000: episode: 87, duration: 61.434s, episode steps: 1293, steps per second:  21, episode reward: 26.000, mean reward:  0.020 [ 0.000,  1.000], mean action: 1.698 [0.000, 5.000],  loss: 0.011811, mae: 1.458770, mean_q: 1.764934\n",
            " 69753/100000: episode: 88, duration: 18.480s, episode steps: 391, steps per second:  21, episode reward:  9.000, mean reward:  0.023 [ 0.000,  1.000], mean action: 2.090 [0.000, 5.000],  loss: 0.010947, mae: 1.446553, mean_q: 1.750966\n",
            " 70327/100000: episode: 89, duration: 28.010s, episode steps: 574, steps per second:  20, episode reward: 11.000, mean reward:  0.019 [ 0.000,  1.000], mean action: 2.568 [0.000, 5.000],  loss: 0.011300, mae: 1.489323, mean_q: 1.802799\n",
            " 71332/100000: episode: 90, duration: 47.322s, episode steps: 1005, steps per second:  21, episode reward: 23.000, mean reward:  0.023 [ 0.000,  1.000], mean action: 2.104 [0.000, 5.000],  loss: 0.011620, mae: 1.526931, mean_q: 1.847514\n",
            " 71984/100000: episode: 91, duration: 30.991s, episode steps: 652, steps per second:  21, episode reward: 12.000, mean reward:  0.018 [ 0.000,  1.000], mean action: 1.986 [0.000, 5.000],  loss: 0.011533, mae: 1.500586, mean_q: 1.815250\n",
            " 72709/100000: episode: 92, duration: 34.238s, episode steps: 725, steps per second:  21, episode reward: 13.000, mean reward:  0.018 [ 0.000,  1.000], mean action: 2.201 [0.000, 5.000],  loss: 0.012293, mae: 1.494704, mean_q: 1.807904\n",
            " 73544/100000: episode: 93, duration: 39.506s, episode steps: 835, steps per second:  21, episode reward: 18.000, mean reward:  0.022 [ 0.000,  1.000], mean action: 1.461 [0.000, 5.000],  loss: 0.011535, mae: 1.504791, mean_q: 1.820934\n",
            " 74351/100000: episode: 94, duration: 37.908s, episode steps: 807, steps per second:  21, episode reward: 17.000, mean reward:  0.021 [ 0.000,  1.000], mean action: 1.466 [0.000, 5.000],  loss: 0.012358, mae: 1.496338, mean_q: 1.810482\n",
            " 75127/100000: episode: 95, duration: 35.617s, episode steps: 776, steps per second:  22, episode reward: 16.000, mean reward:  0.021 [ 0.000,  1.000], mean action: 2.214 [0.000, 5.000],  loss: 0.010809, mae: 1.505737, mean_q: 1.823056\n",
            " 75744/100000: episode: 96, duration: 28.286s, episode steps: 617, steps per second:  22, episode reward: 16.000, mean reward:  0.026 [ 0.000,  1.000], mean action: 1.571 [0.000, 5.000],  loss: 0.010478, mae: 1.505191, mean_q: 1.822754\n",
            " 76425/100000: episode: 97, duration: 31.549s, episode steps: 681, steps per second:  22, episode reward: 15.000, mean reward:  0.022 [ 0.000,  1.000], mean action: 2.079 [0.000, 5.000],  loss: 0.010936, mae: 1.497616, mean_q: 1.812396\n",
            " 76969/100000: episode: 98, duration: 24.969s, episode steps: 544, steps per second:  22, episode reward: 11.000, mean reward:  0.020 [ 0.000,  1.000], mean action: 2.947 [0.000, 5.000],  loss: 0.013460, mae: 1.543273, mean_q: 1.866376\n",
            " 77670/100000: episode: 99, duration: 32.169s, episode steps: 701, steps per second:  22, episode reward: 14.000, mean reward:  0.020 [ 0.000,  1.000], mean action: 1.863 [0.000, 5.000],  loss: 0.010828, mae: 1.501309, mean_q: 1.817039\n",
            " 78449/100000: episode: 100, duration: 36.095s, episode steps: 779, steps per second:  22, episode reward: 17.000, mean reward:  0.022 [ 0.000,  1.000], mean action: 2.277 [0.000, 5.000],  loss: 0.010879, mae: 1.511665, mean_q: 1.828182\n",
            " 79096/100000: episode: 101, duration: 30.003s, episode steps: 647, steps per second:  22, episode reward: 15.000, mean reward:  0.023 [ 0.000,  1.000], mean action: 2.255 [0.000, 5.000],  loss: 0.011706, mae: 1.503350, mean_q: 1.819007\n",
            " 79756/100000: episode: 102, duration: 30.432s, episode steps: 660, steps per second:  22, episode reward: 13.000, mean reward:  0.020 [ 0.000,  1.000], mean action: 2.185 [0.000, 5.000],  loss: 0.010979, mae: 1.496620, mean_q: 1.809749\n",
            " 80398/100000: episode: 103, duration: 30.473s, episode steps: 642, steps per second:  21, episode reward: 12.000, mean reward:  0.019 [ 0.000,  1.000], mean action: 1.474 [0.000, 5.000],  loss: 0.011452, mae: 1.505907, mean_q: 1.821946\n",
            " 81093/100000: episode: 104, duration: 32.188s, episode steps: 695, steps per second:  22, episode reward: 15.000, mean reward:  0.022 [ 0.000,  1.000], mean action: 2.260 [0.000, 5.000],  loss: 0.011515, mae: 1.528550, mean_q: 1.848819\n",
            " 81836/100000: episode: 105, duration: 34.293s, episode steps: 743, steps per second:  22, episode reward: 17.000, mean reward:  0.023 [ 0.000,  1.000], mean action: 2.016 [0.000, 5.000],  loss: 0.010547, mae: 1.526639, mean_q: 1.847166\n",
            " 82544/100000: episode: 106, duration: 32.846s, episode steps: 708, steps per second:  22, episode reward: 15.000, mean reward:  0.021 [ 0.000,  1.000], mean action: 2.030 [0.000, 5.000],  loss: 0.010491, mae: 1.502529, mean_q: 1.817417\n",
            " 83247/100000: episode: 107, duration: 32.578s, episode steps: 703, steps per second:  22, episode reward: 17.000, mean reward:  0.024 [ 0.000,  1.000], mean action: 2.055 [0.000, 5.000],  loss: 0.011651, mae: 1.527399, mean_q: 1.847700\n",
            " 83726/100000: episode: 108, duration: 22.185s, episode steps: 479, steps per second:  22, episode reward:  8.000, mean reward:  0.017 [ 0.000,  1.000], mean action: 2.384 [0.000, 5.000],  loss: 0.010127, mae: 1.525947, mean_q: 1.845690\n",
            " 84403/100000: episode: 109, duration: 31.289s, episode steps: 677, steps per second:  22, episode reward: 15.000, mean reward:  0.022 [ 0.000,  1.000], mean action: 1.750 [0.000, 5.000],  loss: 0.011509, mae: 1.525133, mean_q: 1.845206\n",
            " 84975/100000: episode: 110, duration: 26.359s, episode steps: 572, steps per second:  22, episode reward: 12.000, mean reward:  0.021 [ 0.000,  1.000], mean action: 2.075 [0.000, 5.000],  loss: 0.011028, mae: 1.510071, mean_q: 1.825501\n",
            " 85646/100000: episode: 111, duration: 30.986s, episode steps: 671, steps per second:  22, episode reward: 15.000, mean reward:  0.022 [ 0.000,  1.000], mean action: 1.404 [0.000, 5.000],  loss: 0.010333, mae: 1.538295, mean_q: 1.862422\n",
            " 86391/100000: episode: 112, duration: 34.548s, episode steps: 745, steps per second:  22, episode reward: 16.000, mean reward:  0.021 [ 0.000,  1.000], mean action: 1.597 [0.000, 5.000],  loss: 0.010722, mae: 1.512693, mean_q: 1.829618\n",
            " 87221/100000: episode: 113, duration: 38.727s, episode steps: 830, steps per second:  21, episode reward: 18.000, mean reward:  0.022 [ 0.000,  1.000], mean action: 2.006 [0.000, 5.000],  loss: 0.011484, mae: 1.511826, mean_q: 1.828486\n",
            " 88186/100000: episode: 114, duration: 45.021s, episode steps: 965, steps per second:  21, episode reward: 14.000, mean reward:  0.015 [ 0.000,  1.000], mean action: 1.743 [0.000, 5.000],  loss: 0.011571, mae: 1.511418, mean_q: 1.827853\n",
            " 88817/100000: episode: 115, duration: 29.284s, episode steps: 631, steps per second:  22, episode reward: 13.000, mean reward:  0.021 [ 0.000,  1.000], mean action: 2.214 [0.000, 5.000],  loss: 0.011345, mae: 1.553862, mean_q: 1.878819\n",
            " 89517/100000: episode: 116, duration: 32.795s, episode steps: 700, steps per second:  21, episode reward: 15.000, mean reward:  0.021 [ 0.000,  1.000], mean action: 2.186 [0.000, 5.000],  loss: 0.012376, mae: 1.544766, mean_q: 1.866740\n",
            " 90225/100000: episode: 117, duration: 33.811s, episode steps: 708, steps per second:  21, episode reward: 16.000, mean reward:  0.023 [ 0.000,  1.000], mean action: 2.387 [0.000, 5.000],  loss: 0.010764, mae: 1.522778, mean_q: 1.841864\n",
            " 91242/100000: episode: 118, duration: 47.286s, episode steps: 1017, steps per second:  22, episode reward: 24.000, mean reward:  0.024 [ 0.000,  1.000], mean action: 1.701 [0.000, 5.000],  loss: 0.011416, mae: 1.546981, mean_q: 1.869861\n",
            " 91946/100000: episode: 119, duration: 32.908s, episode steps: 704, steps per second:  21, episode reward: 17.000, mean reward:  0.024 [ 0.000,  1.000], mean action: 2.270 [0.000, 5.000],  loss: 0.010416, mae: 1.540394, mean_q: 1.863193\n",
            " 92499/100000: episode: 120, duration: 25.568s, episode steps: 553, steps per second:  22, episode reward: 11.000, mean reward:  0.020 [ 0.000,  1.000], mean action: 2.298 [0.000, 5.000],  loss: 0.011746, mae: 1.553373, mean_q: 1.876594\n",
            " 93068/100000: episode: 121, duration: 26.629s, episode steps: 569, steps per second:  21, episode reward: 10.000, mean reward:  0.018 [ 0.000,  1.000], mean action: 1.522 [0.000, 5.000],  loss: 0.012527, mae: 1.541475, mean_q: 1.863420\n",
            " 93951/100000: episode: 122, duration: 41.117s, episode steps: 883, steps per second:  21, episode reward: 25.000, mean reward:  0.028 [ 0.000,  1.000], mean action: 1.943 [0.000, 5.000],  loss: 0.010933, mae: 1.548201, mean_q: 1.872749\n",
            " 95020/100000: episode: 123, duration: 49.579s, episode steps: 1069, steps per second:  22, episode reward: 27.000, mean reward:  0.025 [ 0.000,  1.000], mean action: 1.921 [0.000, 5.000],  loss: 0.012006, mae: 1.571794, mean_q: 1.899220\n",
            " 95570/100000: episode: 124, duration: 25.628s, episode steps: 550, steps per second:  21, episode reward: 10.000, mean reward:  0.018 [ 0.000,  1.000], mean action: 1.887 [0.000, 5.000],  loss: 0.012769, mae: 1.564336, mean_q: 1.889184\n",
            " 96118/100000: episode: 125, duration: 25.729s, episode steps: 548, steps per second:  21, episode reward: 10.000, mean reward:  0.018 [ 0.000,  1.000], mean action: 2.387 [0.000, 5.000],  loss: 0.010717, mae: 1.541717, mean_q: 1.862619\n",
            " 97006/100000: episode: 126, duration: 41.412s, episode steps: 888, steps per second:  21, episode reward: 22.000, mean reward:  0.025 [ 0.000,  1.000], mean action: 1.811 [0.000, 5.000],  loss: 0.013051, mae: 1.549828, mean_q: 1.872218\n",
            " 98036/100000: episode: 127, duration: 48.272s, episode steps: 1030, steps per second:  21, episode reward: 26.000, mean reward:  0.025 [ 0.000,  1.000], mean action: 2.274 [0.000, 5.000],  loss: 0.012125, mae: 1.551836, mean_q: 1.874420\n",
            " 98965/100000: episode: 128, duration: 43.628s, episode steps: 929, steps per second:  21, episode reward: 24.000, mean reward:  0.026 [ 0.000,  1.000], mean action: 1.811 [0.000, 5.000],  loss: 0.011860, mae: 1.572398, mean_q: 1.900862\n",
            " 99496/100000: episode: 129, duration: 24.700s, episode steps: 531, steps per second:  21, episode reward: 12.000, mean reward:  0.023 [ 0.000,  1.000], mean action: 2.083 [0.000, 5.000],  loss: 0.010573, mae: 1.563423, mean_q: 1.888108\n",
            " 99946/100000: episode: 130, duration: 20.958s, episode steps: 450, steps per second:  21, episode reward: 10.000, mean reward:  0.022 [ 0.000,  1.000], mean action: 2.104 [0.000, 5.000],  loss: 0.013750, mae: 1.564573, mean_q: 1.890325\n",
            "done, took 2897.768 seconds\n"
          ]
        }
      ]
    },
    {
      "cell_type": "code",
      "source": [
        "# Guardar la memoria de experiencia\n",
        "import pickle\n",
        "with open('memory_noisy.pkl', 'wb') as f:\n",
        "    pickle.dump(memory, f)\n",
        "\n",
        "print(f\"Entrenamiento hasta {total_steps} pasos completado y guardado.\")"
      ],
      "metadata": {
        "colab": {
          "base_uri": "https://localhost:8080/"
        },
        "id": "l0pFFu-ZE6OM",
        "outputId": "189bee6b-31f3-4866-fe2a-68b099576b59"
      },
      "execution_count": null,
      "outputs": [
        {
          "output_type": "stream",
          "name": "stdout",
          "text": [
            "Entrenamiento hasta 1600000 pasos completado y guardado.\n"
          ]
        }
      ]
    },
    {
      "cell_type": "code",
      "source": [
        "import time\n",
        "\n",
        "print(\"Esperando 60 segundos...\")\n",
        "time.sleep(60)\n",
        "print(\"¡Tiempo de espera terminado!\")"
      ],
      "metadata": {
        "colab": {
          "base_uri": "https://localhost:8080/"
        },
        "id": "bTgn9Lw7E6aM",
        "outputId": "ec90379e-f78f-4345-f57f-13fe93d4e9c0"
      },
      "execution_count": null,
      "outputs": [
        {
          "output_type": "stream",
          "name": "stdout",
          "text": [
            "Esperando 60 segundos...\n",
            "¡Tiempo de espera terminado!\n"
          ]
        }
      ]
    },
    {
      "cell_type": "code",
      "source": [
        "# Testear desde último checkpoint\n",
        "latest_path, trained_steps = load_latest_weights(dqn, checkpoint_dir)\n",
        "if latest_path:\n",
        "    dqn.test(env, nb_episodes=10, visualize=False)"
      ],
      "metadata": {
        "colab": {
          "base_uri": "https://localhost:8080/"
        },
        "id": "kNp9PGiiE6nc",
        "outputId": "b0328ccb-2d04-4f28-dd35-1d7c21865955"
      },
      "execution_count": null,
      "outputs": [
        {
          "output_type": "stream",
          "name": "stdout",
          "text": [
            "✅ Cargando pesos desde: /content/gdrive/My Drive/MODELO 14/checkpoints/dqn_noisy_weights_1600000.h5 (pasos entrenados: 1600000)\n",
            "Testing for 10 episodes ...\n",
            "Episode 1: reward: 10.000, steps: 487\n",
            "Episode 2: reward: 18.000, steps: 785\n",
            "Episode 3: reward: 17.000, steps: 599\n",
            "Episode 4: reward: 20.000, steps: 839\n",
            "Episode 5: reward: 34.000, steps: 1117\n",
            "Episode 6: reward: 20.000, steps: 838\n",
            "Episode 7: reward: 26.000, steps: 938\n",
            "Episode 8: reward: 26.000, steps: 1090\n",
            "Episode 9: reward: 25.000, steps: 962\n",
            "Episode 10: reward: 16.000, steps: 661\n"
          ]
        }
      ]
    },
    {
      "cell_type": "markdown",
      "source": [
        "Parte 8"
      ],
      "metadata": {
        "id": "2p23bv26E6-y"
      }
    },
    {
      "cell_type": "code",
      "source": [
        "# Cargar pesos anteriores si existen\n",
        "latest_path, trained_steps = load_latest_weights(dqn, checkpoint_dir)\n",
        "if latest_path:\n",
        "    dqn.load_weights(latest_path)\n",
        "else:\n",
        "    trained_steps = 0\n",
        "\n",
        "# Definir pasos a entrenar\n",
        "steps_to_train = 100000\n",
        "total_steps = trained_steps + steps_to_train\n",
        "\n",
        "# Crear paths y callbacks dinámicos\n",
        "log_path = os.path.join(log_dir, f\"dqn_noisy_log_{trained_steps}_{total_steps}.json\")\n",
        "checkpoint_path = os.path.join(checkpoint_dir, f\"dqn_noisy_weights_{total_steps}.h5\")\n",
        "\n",
        "logger_callback = FileLogger(log_path, interval=100)\n",
        "checkpoint_callback = ModelIntervalCheckpoint(checkpoint_path, interval=10000)\n",
        "\n",
        "# Entrenar agente\n",
        "dqn.fit(env, nb_steps=steps_to_train, visualize=False, verbose=2,\n",
        "        callbacks=[checkpoint_callback, logger_callback])\n",
        "\n",
        "# Guardar pesos finales\n",
        "dqn.save_weights(checkpoint_path, overwrite=True)"
      ],
      "metadata": {
        "colab": {
          "base_uri": "https://localhost:8080/"
        },
        "id": "iXVoj_TWE8Fu",
        "outputId": "67d91108-54c4-494c-d846-34a88aa87efd"
      },
      "execution_count": null,
      "outputs": [
        {
          "output_type": "stream",
          "name": "stdout",
          "text": [
            "✅ Cargando pesos desde: /content/gdrive/My Drive/MODELO 14/checkpoints/dqn_noisy_weights_1600000.h5 (pasos entrenados: 1600000)\n",
            "Training for 100000 steps ...\n",
            "  1143/100000: episode: 1, duration: 12.265s, episode steps: 1143, steps per second:  93, episode reward: 31.000, mean reward:  0.027 [ 0.000,  1.000], mean action: 2.224 [0.000, 5.000],  loss: --, mae: --, mean_q: --\n",
            "  2002/100000: episode: 2, duration: 9.247s, episode steps: 859, steps per second:  93, episode reward: 23.000, mean reward:  0.027 [ 0.000,  1.000], mean action: 2.242 [0.000, 5.000],  loss: --, mae: --, mean_q: --\n",
            "  2831/100000: episode: 3, duration: 9.005s, episode steps: 829, steps per second:  92, episode reward: 20.000, mean reward:  0.024 [ 0.000,  1.000], mean action: 1.948 [0.000, 5.000],  loss: --, mae: --, mean_q: --\n",
            "  4278/100000: episode: 4, duration: 15.354s, episode steps: 1447, steps per second:  94, episode reward: 41.000, mean reward:  0.028 [ 0.000,  1.000], mean action: 1.758 [0.000, 5.000],  loss: --, mae: --, mean_q: --\n",
            "  5140/100000: episode: 5, duration: 9.123s, episode steps: 862, steps per second:  94, episode reward: 22.000, mean reward:  0.026 [ 0.000,  1.000], mean action: 1.892 [0.000, 5.000],  loss: --, mae: --, mean_q: --\n",
            "  6204/100000: episode: 6, duration: 11.069s, episode steps: 1064, steps per second:  96, episode reward: 26.000, mean reward:  0.024 [ 0.000,  1.000], mean action: 1.926 [0.000, 5.000],  loss: --, mae: --, mean_q: --\n",
            "  7009/100000: episode: 7, duration: 8.419s, episode steps: 805, steps per second:  96, episode reward: 25.000, mean reward:  0.031 [ 0.000,  1.000], mean action: 2.117 [0.000, 5.000],  loss: --, mae: --, mean_q: --\n",
            "  7859/100000: episode: 8, duration: 8.977s, episode steps: 850, steps per second:  95, episode reward: 25.000, mean reward:  0.029 [ 0.000,  1.000], mean action: 2.419 [0.000, 5.000],  loss: --, mae: --, mean_q: --\n",
            "  8891/100000: episode: 9, duration: 11.007s, episode steps: 1032, steps per second:  94, episode reward: 23.000, mean reward:  0.022 [ 0.000,  1.000], mean action: 2.229 [0.000, 5.000],  loss: --, mae: --, mean_q: --\n",
            "  9931/100000: episode: 10, duration: 10.967s, episode steps: 1040, steps per second:  95, episode reward: 25.000, mean reward:  0.024 [ 0.000,  1.000], mean action: 1.934 [0.000, 5.000],  loss: --, mae: --, mean_q: --\n",
            " 11139/100000: episode: 11, duration: 13.065s, episode steps: 1208, steps per second:  92, episode reward: 30.000, mean reward:  0.025 [ 0.000,  1.000], mean action: 2.100 [0.000, 5.000],  loss: --, mae: --, mean_q: --\n",
            " 11786/100000: episode: 12, duration: 6.912s, episode steps: 647, steps per second:  94, episode reward: 16.000, mean reward:  0.025 [ 0.000,  1.000], mean action: 2.321 [0.000, 5.000],  loss: --, mae: --, mean_q: --\n",
            " 12628/100000: episode: 13, duration: 9.171s, episode steps: 842, steps per second:  92, episode reward: 23.000, mean reward:  0.027 [ 0.000,  1.000], mean action: 2.053 [0.000, 5.000],  loss: --, mae: --, mean_q: --\n",
            " 13730/100000: episode: 14, duration: 11.945s, episode steps: 1102, steps per second:  92, episode reward: 31.000, mean reward:  0.028 [ 0.000,  1.000], mean action: 1.997 [0.000, 5.000],  loss: --, mae: --, mean_q: --\n",
            " 14872/100000: episode: 15, duration: 12.025s, episode steps: 1142, steps per second:  95, episode reward: 29.000, mean reward:  0.025 [ 0.000,  1.000], mean action: 1.882 [0.000, 5.000],  loss: --, mae: --, mean_q: --\n",
            " 15659/100000: episode: 16, duration: 8.089s, episode steps: 787, steps per second:  97, episode reward: 19.000, mean reward:  0.024 [ 0.000,  1.000], mean action: 2.268 [0.000, 5.000],  loss: --, mae: --, mean_q: --\n",
            " 16479/100000: episode: 17, duration: 8.685s, episode steps: 820, steps per second:  94, episode reward: 26.000, mean reward:  0.032 [ 0.000,  1.000], mean action: 2.327 [0.000, 5.000],  loss: --, mae: --, mean_q: --\n",
            " 17346/100000: episode: 18, duration: 9.177s, episode steps: 867, steps per second:  94, episode reward: 26.000, mean reward:  0.030 [ 0.000,  1.000], mean action: 2.439 [0.000, 5.000],  loss: --, mae: --, mean_q: --\n",
            " 18413/100000: episode: 19, duration: 11.661s, episode steps: 1067, steps per second:  92, episode reward: 23.000, mean reward:  0.022 [ 0.000,  1.000], mean action: 1.845 [0.000, 5.000],  loss: --, mae: --, mean_q: --\n",
            " 19043/100000: episode: 20, duration: 6.606s, episode steps: 630, steps per second:  95, episode reward: 17.000, mean reward:  0.027 [ 0.000,  1.000], mean action: 2.144 [0.000, 5.000],  loss: --, mae: --, mean_q: --\n",
            " 19998/100000: episode: 21, duration: 10.052s, episode steps: 955, steps per second:  95, episode reward: 27.000, mean reward:  0.028 [ 0.000,  1.000], mean action: 2.195 [0.000, 5.000],  loss: --, mae: --, mean_q: --\n",
            " 20809/100000: episode: 22, duration: 9.346s, episode steps: 811, steps per second:  87, episode reward: 22.000, mean reward:  0.027 [ 0.000,  1.000], mean action: 2.052 [0.000, 5.000],  loss: --, mae: --, mean_q: --\n",
            " 22064/100000: episode: 23, duration: 13.046s, episode steps: 1255, steps per second:  96, episode reward: 30.000, mean reward:  0.024 [ 0.000,  1.000], mean action: 1.899 [0.000, 5.000],  loss: --, mae: --, mean_q: --\n",
            " 22963/100000: episode: 24, duration: 9.311s, episode steps: 899, steps per second:  97, episode reward: 23.000, mean reward:  0.026 [ 0.000,  1.000], mean action: 1.980 [0.000, 5.000],  loss: --, mae: --, mean_q: --\n",
            " 23872/100000: episode: 25, duration: 9.465s, episode steps: 909, steps per second:  96, episode reward: 23.000, mean reward:  0.025 [ 0.000,  1.000], mean action: 2.245 [0.000, 5.000],  loss: --, mae: --, mean_q: --\n",
            " 24616/100000: episode: 26, duration: 7.831s, episode steps: 744, steps per second:  95, episode reward: 16.000, mean reward:  0.022 [ 0.000,  1.000], mean action: 1.988 [0.000, 5.000],  loss: --, mae: --, mean_q: --\n",
            " 25516/100000: episode: 27, duration: 9.402s, episode steps: 900, steps per second:  96, episode reward: 23.000, mean reward:  0.026 [ 0.000,  1.000], mean action: 2.236 [0.000, 5.000],  loss: --, mae: --, mean_q: --\n",
            " 26033/100000: episode: 28, duration: 5.269s, episode steps: 517, steps per second:  98, episode reward: 12.000, mean reward:  0.023 [ 0.000,  1.000], mean action: 2.126 [0.000, 5.000],  loss: --, mae: --, mean_q: --\n",
            " 27005/100000: episode: 29, duration: 10.146s, episode steps: 972, steps per second:  96, episode reward: 24.000, mean reward:  0.025 [ 0.000,  1.000], mean action: 2.335 [0.000, 5.000],  loss: --, mae: --, mean_q: --\n",
            " 27766/100000: episode: 30, duration: 7.824s, episode steps: 761, steps per second:  97, episode reward: 23.000, mean reward:  0.030 [ 0.000,  1.000], mean action: 2.093 [0.000, 5.000],  loss: --, mae: --, mean_q: --\n",
            " 28558/100000: episode: 31, duration: 8.197s, episode steps: 792, steps per second:  97, episode reward: 19.000, mean reward:  0.024 [ 0.000,  1.000], mean action: 2.138 [0.000, 5.000],  loss: --, mae: --, mean_q: --\n",
            " 28987/100000: episode: 32, duration: 4.476s, episode steps: 429, steps per second:  96, episode reward:  9.000, mean reward:  0.021 [ 0.000,  1.000], mean action: 2.270 [0.000, 5.000],  loss: --, mae: --, mean_q: --\n",
            " 29735/100000: episode: 33, duration: 7.734s, episode steps: 748, steps per second:  97, episode reward: 19.000, mean reward:  0.025 [ 0.000,  1.000], mean action: 2.083 [0.000, 5.000],  loss: --, mae: --, mean_q: --\n",
            " 30415/100000: episode: 34, duration: 7.833s, episode steps: 680, steps per second:  87, episode reward: 22.000, mean reward:  0.032 [ 0.000,  1.000], mean action: 1.996 [0.000, 5.000],  loss: --, mae: --, mean_q: --\n",
            " 31265/100000: episode: 35, duration: 8.660s, episode steps: 850, steps per second:  98, episode reward: 20.000, mean reward:  0.024 [ 0.000,  1.000], mean action: 2.028 [0.000, 5.000],  loss: --, mae: --, mean_q: --\n",
            " 32905/100000: episode: 36, duration: 17.038s, episode steps: 1640, steps per second:  96, episode reward: 36.000, mean reward:  0.022 [ 0.000,  1.000], mean action: 2.043 [0.000, 5.000],  loss: --, mae: --, mean_q: --\n",
            " 33443/100000: episode: 37, duration: 5.499s, episode steps: 538, steps per second:  98, episode reward:  9.000, mean reward:  0.017 [ 0.000,  1.000], mean action: 1.848 [0.000, 5.000],  loss: --, mae: --, mean_q: --\n",
            " 34316/100000: episode: 38, duration: 9.131s, episode steps: 873, steps per second:  96, episode reward: 22.000, mean reward:  0.025 [ 0.000,  1.000], mean action: 2.385 [0.000, 5.000],  loss: --, mae: --, mean_q: --\n",
            " 35086/100000: episode: 39, duration: 7.922s, episode steps: 770, steps per second:  97, episode reward: 23.000, mean reward:  0.030 [ 0.000,  1.000], mean action: 2.022 [0.000, 5.000],  loss: --, mae: --, mean_q: --\n",
            " 35707/100000: episode: 40, duration: 6.485s, episode steps: 621, steps per second:  96, episode reward: 15.000, mean reward:  0.024 [ 0.000,  1.000], mean action: 2.043 [0.000, 5.000],  loss: --, mae: --, mean_q: --\n",
            " 36513/100000: episode: 41, duration: 8.523s, episode steps: 806, steps per second:  95, episode reward: 20.000, mean reward:  0.025 [ 0.000,  1.000], mean action: 1.955 [0.000, 5.000],  loss: --, mae: --, mean_q: --\n",
            " 37295/100000: episode: 42, duration: 8.179s, episode steps: 782, steps per second:  96, episode reward: 19.000, mean reward:  0.024 [ 0.000,  1.000], mean action: 2.256 [0.000, 5.000],  loss: --, mae: --, mean_q: --\n",
            " 38065/100000: episode: 43, duration: 8.097s, episode steps: 770, steps per second:  95, episode reward: 22.000, mean reward:  0.029 [ 0.000,  1.000], mean action: 2.348 [0.000, 5.000],  loss: --, mae: --, mean_q: --\n",
            " 38449/100000: episode: 44, duration: 3.903s, episode steps: 384, steps per second:  98, episode reward:  7.000, mean reward:  0.018 [ 0.000,  1.000], mean action: 2.016 [0.000, 5.000],  loss: --, mae: --, mean_q: --\n",
            " 39146/100000: episode: 45, duration: 7.469s, episode steps: 697, steps per second:  93, episode reward: 14.000, mean reward:  0.020 [ 0.000,  1.000], mean action: 1.910 [0.000, 5.000],  loss: --, mae: --, mean_q: --\n",
            " 40213/100000: episode: 46, duration: 11.710s, episode steps: 1067, steps per second:  91, episode reward: 29.000, mean reward:  0.027 [ 0.000,  1.000], mean action: 1.849 [0.000, 5.000],  loss: --, mae: --, mean_q: --\n",
            " 41604/100000: episode: 47, duration: 14.472s, episode steps: 1391, steps per second:  96, episode reward: 32.000, mean reward:  0.023 [ 0.000,  1.000], mean action: 1.771 [0.000, 5.000],  loss: --, mae: --, mean_q: --\n",
            " 42101/100000: episode: 48, duration: 5.187s, episode steps: 497, steps per second:  96, episode reward:  9.000, mean reward:  0.018 [ 0.000,  1.000], mean action: 2.237 [0.000, 5.000],  loss: --, mae: --, mean_q: --\n",
            " 43115/100000: episode: 49, duration: 10.606s, episode steps: 1014, steps per second:  96, episode reward: 22.000, mean reward:  0.022 [ 0.000,  1.000], mean action: 2.295 [0.000, 5.000],  loss: --, mae: --, mean_q: --\n",
            " 43909/100000: episode: 50, duration: 8.412s, episode steps: 794, steps per second:  94, episode reward: 20.000, mean reward:  0.025 [ 0.000,  1.000], mean action: 2.285 [0.000, 5.000],  loss: --, mae: --, mean_q: --\n",
            " 44540/100000: episode: 51, duration: 6.486s, episode steps: 631, steps per second:  97, episode reward: 16.000, mean reward:  0.025 [ 0.000,  1.000], mean action: 1.849 [0.000, 5.000],  loss: --, mae: --, mean_q: --\n",
            " 45926/100000: episode: 52, duration: 14.407s, episode steps: 1386, steps per second:  96, episode reward: 33.000, mean reward:  0.024 [ 0.000,  1.000], mean action: 1.965 [0.000, 5.000],  loss: --, mae: --, mean_q: --\n",
            " 47056/100000: episode: 53, duration: 11.708s, episode steps: 1130, steps per second:  97, episode reward: 26.000, mean reward:  0.023 [ 0.000,  1.000], mean action: 1.973 [0.000, 5.000],  loss: --, mae: --, mean_q: --\n",
            " 47957/100000: episode: 54, duration: 9.428s, episode steps: 901, steps per second:  96, episode reward: 22.000, mean reward:  0.024 [ 0.000,  1.000], mean action: 1.750 [0.000, 5.000],  loss: --, mae: --, mean_q: --\n",
            " 48912/100000: episode: 55, duration: 10.162s, episode steps: 955, steps per second:  94, episode reward: 28.000, mean reward:  0.029 [ 0.000,  1.000], mean action: 1.884 [0.000, 5.000],  loss: --, mae: --, mean_q: --\n",
            " 50299/100000: episode: 56, duration: 25.743s, episode steps: 1387, steps per second:  54, episode reward: 32.000, mean reward:  0.023 [ 0.000,  1.000], mean action: 1.818 [0.000, 5.000],  loss: 0.012976, mae: 1.524543, mean_q: 1.839937\n",
            " 50948/100000: episode: 57, duration: 29.810s, episode steps: 649, steps per second:  22, episode reward: 16.000, mean reward:  0.025 [ 0.000,  1.000], mean action: 2.328 [0.000, 5.000],  loss: 0.011536, mae: 1.554968, mean_q: 1.877468\n",
            " 51619/100000: episode: 58, duration: 31.162s, episode steps: 671, steps per second:  22, episode reward: 19.000, mean reward:  0.028 [ 0.000,  1.000], mean action: 2.358 [0.000, 5.000],  loss: 0.011408, mae: 1.549321, mean_q: 1.871282\n",
            " 52184/100000: episode: 59, duration: 26.233s, episode steps: 565, steps per second:  22, episode reward: 12.000, mean reward:  0.021 [ 0.000,  1.000], mean action: 2.414 [0.000, 5.000],  loss: 0.012714, mae: 1.541388, mean_q: 1.860274\n",
            " 52684/100000: episode: 60, duration: 23.179s, episode steps: 500, steps per second:  22, episode reward: 12.000, mean reward:  0.024 [ 0.000,  1.000], mean action: 2.234 [0.000, 5.000],  loss: 0.012624, mae: 1.558092, mean_q: 1.880079\n",
            " 53412/100000: episode: 61, duration: 33.867s, episode steps: 728, steps per second:  21, episode reward: 18.000, mean reward:  0.025 [ 0.000,  1.000], mean action: 1.775 [0.000, 5.000],  loss: 0.012639, mae: 1.554430, mean_q: 1.877388\n",
            " 54091/100000: episode: 62, duration: 31.307s, episode steps: 679, steps per second:  22, episode reward: 18.000, mean reward:  0.027 [ 0.000,  1.000], mean action: 1.482 [0.000, 5.000],  loss: 0.013776, mae: 1.570882, mean_q: 1.896907\n",
            " 54846/100000: episode: 63, duration: 34.686s, episode steps: 755, steps per second:  22, episode reward: 21.000, mean reward:  0.028 [ 0.000,  1.000], mean action: 2.591 [0.000, 5.000],  loss: 0.012390, mae: 1.548836, mean_q: 1.868957\n",
            " 55635/100000: episode: 64, duration: 36.204s, episode steps: 789, steps per second:  22, episode reward: 19.000, mean reward:  0.024 [ 0.000,  1.000], mean action: 2.276 [0.000, 5.000],  loss: 0.012849, mae: 1.570815, mean_q: 1.893823\n",
            " 56528/100000: episode: 65, duration: 41.599s, episode steps: 893, steps per second:  21, episode reward: 20.000, mean reward:  0.022 [ 0.000,  1.000], mean action: 1.497 [0.000, 5.000],  loss: 0.013126, mae: 1.549483, mean_q: 1.869576\n",
            " 57594/100000: episode: 66, duration: 49.335s, episode steps: 1066, steps per second:  22, episode reward: 23.000, mean reward:  0.022 [ 0.000,  1.000], mean action: 2.146 [0.000, 5.000],  loss: 0.012637, mae: 1.539933, mean_q: 1.859466\n",
            " 58221/100000: episode: 67, duration: 29.006s, episode steps: 627, steps per second:  22, episode reward: 11.000, mean reward:  0.018 [ 0.000,  1.000], mean action: 1.896 [0.000, 5.000],  loss: 0.013110, mae: 1.578877, mean_q: 1.906653\n",
            " 58802/100000: episode: 68, duration: 26.593s, episode steps: 581, steps per second:  22, episode reward:  9.000, mean reward:  0.015 [ 0.000,  1.000], mean action: 1.606 [0.000, 5.000],  loss: 0.011869, mae: 1.559424, mean_q: 1.881887\n",
            " 59505/100000: episode: 69, duration: 32.429s, episode steps: 703, steps per second:  22, episode reward: 16.000, mean reward:  0.023 [ 0.000,  1.000], mean action: 1.622 [0.000, 5.000],  loss: 0.011677, mae: 1.559194, mean_q: 1.881903\n",
            " 60642/100000: episode: 70, duration: 53.071s, episode steps: 1137, steps per second:  21, episode reward: 28.000, mean reward:  0.025 [ 0.000,  1.000], mean action: 1.869 [0.000, 5.000],  loss: 0.011715, mae: 1.569739, mean_q: 1.896561\n",
            " 61311/100000: episode: 71, duration: 30.894s, episode steps: 669, steps per second:  22, episode reward: 15.000, mean reward:  0.022 [ 0.000,  1.000], mean action: 1.719 [0.000, 5.000],  loss: 0.011407, mae: 1.579231, mean_q: 1.907062\n",
            " 62127/100000: episode: 72, duration: 37.468s, episode steps: 816, steps per second:  22, episode reward: 17.000, mean reward:  0.021 [ 0.000,  1.000], mean action: 1.637 [0.000, 5.000],  loss: 0.013099, mae: 1.579889, mean_q: 1.908922\n",
            " 62660/100000: episode: 73, duration: 24.684s, episode steps: 533, steps per second:  22, episode reward: 10.000, mean reward:  0.019 [ 0.000,  1.000], mean action: 2.880 [0.000, 5.000],  loss: 0.012428, mae: 1.598760, mean_q: 1.929535\n",
            " 63501/100000: episode: 74, duration: 39.058s, episode steps: 841, steps per second:  22, episode reward: 24.000, mean reward:  0.029 [ 0.000,  1.000], mean action: 1.696 [0.000, 5.000],  loss: 0.011260, mae: 1.567328, mean_q: 1.892735\n",
            " 64200/100000: episode: 75, duration: 32.333s, episode steps: 699, steps per second:  22, episode reward: 15.000, mean reward:  0.021 [ 0.000,  1.000], mean action: 1.156 [0.000, 5.000],  loss: 0.009916, mae: 1.580358, mean_q: 1.909094\n",
            " 64717/100000: episode: 76, duration: 24.150s, episode steps: 517, steps per second:  21, episode reward:  9.000, mean reward:  0.017 [ 0.000,  1.000], mean action: 2.108 [0.000, 5.000],  loss: 0.011935, mae: 1.581332, mean_q: 1.910534\n",
            " 65531/100000: episode: 77, duration: 37.601s, episode steps: 814, steps per second:  22, episode reward: 18.000, mean reward:  0.022 [ 0.000,  1.000], mean action: 2.360 [0.000, 5.000],  loss: 0.012959, mae: 1.578790, mean_q: 1.903997\n",
            " 65923/100000: episode: 78, duration: 18.158s, episode steps: 392, steps per second:  22, episode reward:  6.000, mean reward:  0.015 [ 0.000,  1.000], mean action: 1.793 [0.000, 5.000],  loss: 0.011970, mae: 1.567414, mean_q: 1.891999\n",
            " 66438/100000: episode: 79, duration: 24.143s, episode steps: 515, steps per second:  21, episode reward: 11.000, mean reward:  0.021 [ 0.000,  1.000], mean action: 1.948 [0.000, 5.000],  loss: 0.011755, mae: 1.587282, mean_q: 1.917064\n",
            " 66997/100000: episode: 80, duration: 26.033s, episode steps: 559, steps per second:  21, episode reward: 11.000, mean reward:  0.020 [ 0.000,  1.000], mean action: 2.225 [0.000, 5.000],  loss: 0.013452, mae: 1.555327, mean_q: 1.875987\n",
            " 67588/100000: episode: 81, duration: 27.665s, episode steps: 591, steps per second:  21, episode reward: 11.000, mean reward:  0.019 [ 0.000,  1.000], mean action: 2.195 [0.000, 5.000],  loss: 0.011991, mae: 1.576793, mean_q: 1.901963\n",
            " 68253/100000: episode: 82, duration: 31.034s, episode steps: 665, steps per second:  21, episode reward: 17.000, mean reward:  0.026 [ 0.000,  1.000], mean action: 2.251 [0.000, 5.000],  loss: 0.011437, mae: 1.614972, mean_q: 1.949539\n",
            " 69045/100000: episode: 83, duration: 36.910s, episode steps: 792, steps per second:  21, episode reward: 20.000, mean reward:  0.025 [ 0.000,  1.000], mean action: 2.682 [0.000, 5.000],  loss: 0.012239, mae: 1.573021, mean_q: 1.900271\n",
            " 69957/100000: episode: 84, duration: 42.692s, episode steps: 912, steps per second:  21, episode reward: 23.000, mean reward:  0.025 [ 0.000,  1.000], mean action: 2.440 [0.000, 5.000],  loss: 0.012342, mae: 1.589513, mean_q: 1.919741\n",
            " 70630/100000: episode: 85, duration: 31.970s, episode steps: 673, steps per second:  21, episode reward: 14.000, mean reward:  0.021 [ 0.000,  1.000], mean action: 2.318 [0.000, 5.000],  loss: 0.013014, mae: 1.610136, mean_q: 1.945598\n",
            " 71240/100000: episode: 86, duration: 28.430s, episode steps: 610, steps per second:  21, episode reward: 13.000, mean reward:  0.021 [ 0.000,  1.000], mean action: 2.262 [0.000, 5.000],  loss: 0.012935, mae: 1.640040, mean_q: 1.980868\n",
            " 71891/100000: episode: 87, duration: 30.285s, episode steps: 651, steps per second:  21, episode reward: 12.000, mean reward:  0.018 [ 0.000,  1.000], mean action: 2.492 [0.000, 5.000],  loss: 0.012281, mae: 1.609777, mean_q: 1.945350\n",
            " 72624/100000: episode: 88, duration: 34.056s, episode steps: 733, steps per second:  22, episode reward: 20.000, mean reward:  0.027 [ 0.000,  1.000], mean action: 2.367 [0.000, 5.000],  loss: 0.012742, mae: 1.605251, mean_q: 1.937952\n",
            " 73128/100000: episode: 89, duration: 23.510s, episode steps: 504, steps per second:  21, episode reward: 11.000, mean reward:  0.022 [ 0.000,  1.000], mean action: 3.030 [0.000, 5.000],  loss: 0.013224, mae: 1.614276, mean_q: 1.950796\n",
            " 73802/100000: episode: 90, duration: 31.549s, episode steps: 674, steps per second:  21, episode reward: 17.000, mean reward:  0.025 [ 0.000,  1.000], mean action: 2.687 [0.000, 5.000],  loss: 0.010980, mae: 1.621058, mean_q: 1.959185\n",
            " 74728/100000: episode: 91, duration: 43.260s, episode steps: 926, steps per second:  21, episode reward: 23.000, mean reward:  0.025 [ 0.000,  1.000], mean action: 2.243 [0.000, 5.000],  loss: 0.012871, mae: 1.613182, mean_q: 1.947406\n",
            " 75679/100000: episode: 92, duration: 44.241s, episode steps: 951, steps per second:  21, episode reward: 29.000, mean reward:  0.030 [ 0.000,  1.000], mean action: 1.881 [0.000, 5.000],  loss: 0.011289, mae: 1.630471, mean_q: 1.970865\n",
            " 76242/100000: episode: 93, duration: 26.275s, episode steps: 563, steps per second:  21, episode reward: 12.000, mean reward:  0.021 [ 0.000,  1.000], mean action: 1.709 [0.000, 5.000],  loss: 0.011215, mae: 1.590861, mean_q: 1.921852\n",
            " 76834/100000: episode: 94, duration: 28.392s, episode steps: 592, steps per second:  21, episode reward: 12.000, mean reward:  0.020 [ 0.000,  1.000], mean action: 2.718 [0.000, 5.000],  loss: 0.011476, mae: 1.600888, mean_q: 1.932484\n",
            " 77551/100000: episode: 95, duration: 34.319s, episode steps: 717, steps per second:  21, episode reward: 16.000, mean reward:  0.022 [ 0.000,  1.000], mean action: 2.315 [0.000, 5.000],  loss: 0.012331, mae: 1.615074, mean_q: 1.950089\n",
            " 78068/100000: episode: 96, duration: 24.765s, episode steps: 517, steps per second:  21, episode reward:  9.000, mean reward:  0.017 [ 0.000,  1.000], mean action: 2.232 [0.000, 5.000],  loss: 0.012065, mae: 1.620929, mean_q: 1.958322\n",
            " 78695/100000: episode: 97, duration: 30.010s, episode steps: 627, steps per second:  21, episode reward: 12.000, mean reward:  0.019 [ 0.000,  1.000], mean action: 1.984 [0.000, 5.000],  loss: 0.013092, mae: 1.622374, mean_q: 1.958573\n",
            " 80318/100000: episode: 98, duration: 77.681s, episode steps: 1623, steps per second:  21, episode reward: 41.000, mean reward:  0.025 [ 0.000,  1.000], mean action: 1.857 [0.000, 5.000],  loss: 0.012345, mae: 1.617822, mean_q: 1.954303\n",
            " 81328/100000: episode: 99, duration: 47.620s, episode steps: 1010, steps per second:  21, episode reward: 22.000, mean reward:  0.022 [ 0.000,  1.000], mean action: 2.230 [0.000, 5.000],  loss: 0.011272, mae: 1.628956, mean_q: 1.967472\n",
            " 81705/100000: episode: 100, duration: 17.822s, episode steps: 377, steps per second:  21, episode reward:  9.000, mean reward:  0.024 [ 0.000,  1.000], mean action: 2.973 [0.000, 5.000],  loss: 0.011295, mae: 1.654272, mean_q: 1.998980\n",
            " 83085/100000: episode: 101, duration: 65.735s, episode steps: 1380, steps per second:  21, episode reward: 32.000, mean reward:  0.023 [ 0.000,  1.000], mean action: 2.264 [0.000, 5.000],  loss: 0.011633, mae: 1.616760, mean_q: 1.951925\n",
            " 83853/100000: episode: 102, duration: 36.285s, episode steps: 768, steps per second:  21, episode reward: 19.000, mean reward:  0.025 [ 0.000,  1.000], mean action: 2.349 [0.000, 5.000],  loss: 0.011393, mae: 1.638096, mean_q: 1.977750\n",
            " 84703/100000: episode: 103, duration: 40.046s, episode steps: 850, steps per second:  21, episode reward: 18.000, mean reward:  0.021 [ 0.000,  1.000], mean action: 2.228 [0.000, 5.000],  loss: 0.012895, mae: 1.630428, mean_q: 1.968227\n",
            " 85272/100000: episode: 104, duration: 26.975s, episode steps: 569, steps per second:  21, episode reward:  8.000, mean reward:  0.014 [ 0.000,  1.000], mean action: 2.028 [0.000, 5.000],  loss: 0.012305, mae: 1.632333, mean_q: 1.969136\n",
            " 86018/100000: episode: 105, duration: 35.108s, episode steps: 746, steps per second:  21, episode reward: 19.000, mean reward:  0.025 [ 0.000,  1.000], mean action: 2.129 [0.000, 5.000],  loss: 0.011295, mae: 1.646982, mean_q: 1.988469\n",
            " 87196/100000: episode: 106, duration: 55.563s, episode steps: 1178, steps per second:  21, episode reward: 33.000, mean reward:  0.028 [ 0.000,  1.000], mean action: 1.673 [0.000, 5.000],  loss: 0.012526, mae: 1.609753, mean_q: 1.942784\n",
            " 87743/100000: episode: 107, duration: 25.570s, episode steps: 547, steps per second:  21, episode reward: 11.000, mean reward:  0.020 [ 0.000,  1.000], mean action: 1.905 [0.000, 5.000],  loss: 0.012531, mae: 1.638271, mean_q: 1.977528\n",
            " 88282/100000: episode: 108, duration: 25.049s, episode steps: 539, steps per second:  22, episode reward: 11.000, mean reward:  0.020 [ 0.000,  1.000], mean action: 2.106 [0.000, 5.000],  loss: 0.011417, mae: 1.623301, mean_q: 1.960865\n",
            " 89304/100000: episode: 109, duration: 47.967s, episode steps: 1022, steps per second:  21, episode reward: 22.000, mean reward:  0.022 [ 0.000,  1.000], mean action: 2.314 [0.000, 5.000],  loss: 0.011389, mae: 1.646449, mean_q: 1.988273\n",
            " 89818/100000: episode: 110, duration: 24.388s, episode steps: 514, steps per second:  21, episode reward: 10.000, mean reward:  0.019 [ 0.000,  1.000], mean action: 1.862 [0.000, 5.000],  loss: 0.012600, mae: 1.612084, mean_q: 1.945551\n",
            " 90351/100000: episode: 111, duration: 25.772s, episode steps: 533, steps per second:  21, episode reward: 12.000, mean reward:  0.023 [ 0.000,  1.000], mean action: 1.816 [0.000, 5.000],  loss: 0.011819, mae: 1.665229, mean_q: 2.010142\n",
            " 90962/100000: episode: 112, duration: 28.495s, episode steps: 611, steps per second:  21, episode reward: 13.000, mean reward:  0.021 [ 0.000,  1.000], mean action: 2.167 [0.000, 5.000],  loss: 0.013534, mae: 1.673909, mean_q: 2.020326\n",
            " 91501/100000: episode: 113, duration: 25.565s, episode steps: 539, steps per second:  21, episode reward: 13.000, mean reward:  0.024 [ 0.000,  1.000], mean action: 1.816 [0.000, 5.000],  loss: 0.011078, mae: 1.669817, mean_q: 2.017585\n",
            " 92154/100000: episode: 114, duration: 30.596s, episode steps: 653, steps per second:  21, episode reward: 12.000, mean reward:  0.018 [ 0.000,  1.000], mean action: 1.603 [0.000, 5.000],  loss: 0.014127, mae: 1.686636, mean_q: 2.035836\n",
            " 92927/100000: episode: 115, duration: 36.235s, episode steps: 773, steps per second:  21, episode reward: 23.000, mean reward:  0.030 [ 0.000,  1.000], mean action: 2.405 [0.000, 5.000],  loss: 0.011526, mae: 1.685306, mean_q: 2.034571\n",
            " 93660/100000: episode: 116, duration: 34.322s, episode steps: 733, steps per second:  21, episode reward: 21.000, mean reward:  0.029 [ 0.000,  1.000], mean action: 1.546 [0.000, 5.000],  loss: 0.012288, mae: 1.680019, mean_q: 2.028097\n",
            " 94393/100000: episode: 117, duration: 34.701s, episode steps: 733, steps per second:  21, episode reward: 14.000, mean reward:  0.019 [ 0.000,  1.000], mean action: 1.295 [0.000, 5.000],  loss: 0.012566, mae: 1.680464, mean_q: 2.029035\n",
            " 95015/100000: episode: 118, duration: 29.168s, episode steps: 622, steps per second:  21, episode reward: 15.000, mean reward:  0.024 [ 0.000,  1.000], mean action: 2.479 [0.000, 5.000],  loss: 0.012067, mae: 1.678490, mean_q: 2.028338\n",
            " 95614/100000: episode: 119, duration: 28.122s, episode steps: 599, steps per second:  21, episode reward: 17.000, mean reward:  0.028 [ 0.000,  1.000], mean action: 2.285 [0.000, 5.000],  loss: 0.011330, mae: 1.686414, mean_q: 2.035746\n",
            " 96428/100000: episode: 120, duration: 38.536s, episode steps: 814, steps per second:  21, episode reward: 17.000, mean reward:  0.021 [ 0.000,  1.000], mean action: 1.486 [0.000, 5.000],  loss: 0.012452, mae: 1.646524, mean_q: 1.986135\n",
            " 97032/100000: episode: 121, duration: 28.529s, episode steps: 604, steps per second:  21, episode reward: 11.000, mean reward:  0.018 [ 0.000,  1.000], mean action: 1.887 [0.000, 5.000],  loss: 0.013027, mae: 1.678043, mean_q: 2.024222\n",
            " 97773/100000: episode: 122, duration: 35.012s, episode steps: 741, steps per second:  21, episode reward: 22.000, mean reward:  0.030 [ 0.000,  1.000], mean action: 2.038 [0.000, 5.000],  loss: 0.012171, mae: 1.675223, mean_q: 2.021636\n",
            " 98225/100000: episode: 123, duration: 21.220s, episode steps: 452, steps per second:  21, episode reward: 11.000, mean reward:  0.024 [ 0.000,  1.000], mean action: 2.650 [0.000, 5.000],  loss: 0.011852, mae: 1.673944, mean_q: 2.018701\n",
            " 98759/100000: episode: 124, duration: 24.957s, episode steps: 534, steps per second:  21, episode reward: 11.000, mean reward:  0.021 [ 0.000,  1.000], mean action: 1.846 [0.000, 5.000],  loss: 0.012367, mae: 1.656331, mean_q: 1.998299\n",
            " 99517/100000: episode: 125, duration: 35.693s, episode steps: 758, steps per second:  21, episode reward: 18.000, mean reward:  0.024 [ 0.000,  1.000], mean action: 2.282 [0.000, 5.000],  loss: 0.013862, mae: 1.702976, mean_q: 2.056276\n",
            "done, took 2870.701 seconds\n"
          ]
        }
      ]
    },
    {
      "cell_type": "code",
      "source": [
        "# Guardar la memoria de experiencia\n",
        "import pickle\n",
        "with open('memory_noisy.pkl', 'wb') as f:\n",
        "    pickle.dump(memory, f)\n",
        "\n",
        "print(f\"Entrenamiento hasta {total_steps} pasos completado y guardado.\")"
      ],
      "metadata": {
        "colab": {
          "base_uri": "https://localhost:8080/"
        },
        "id": "da1LfLoIE8TX",
        "outputId": "96f00705-fa89-4b58-ed42-0bf80aba3403"
      },
      "execution_count": null,
      "outputs": [
        {
          "output_type": "stream",
          "name": "stdout",
          "text": [
            "Entrenamiento hasta 1700000 pasos completado y guardado.\n"
          ]
        }
      ]
    },
    {
      "cell_type": "code",
      "source": [
        "import time\n",
        "\n",
        "print(\"Esperando 60 segundos...\")\n",
        "time.sleep(60)\n",
        "print(\"¡Tiempo de espera terminado!\")"
      ],
      "metadata": {
        "colab": {
          "base_uri": "https://localhost:8080/"
        },
        "id": "7pP3jhpZE8sI",
        "outputId": "23b0d89b-5866-4c73-fcc5-8a4e4a2c783a"
      },
      "execution_count": null,
      "outputs": [
        {
          "output_type": "stream",
          "name": "stdout",
          "text": [
            "Esperando 60 segundos...\n",
            "¡Tiempo de espera terminado!\n"
          ]
        }
      ]
    },
    {
      "cell_type": "code",
      "source": [
        "# Testear desde último checkpoint\n",
        "latest_path, trained_steps = load_latest_weights(dqn, checkpoint_dir)\n",
        "if latest_path:\n",
        "    dqn.test(env, nb_episodes=10, visualize=False)"
      ],
      "metadata": {
        "colab": {
          "base_uri": "https://localhost:8080/"
        },
        "id": "D5IzSJfoE87u",
        "outputId": "ae4cc6a1-8215-4d35-c024-3c374106a996"
      },
      "execution_count": null,
      "outputs": [
        {
          "output_type": "stream",
          "name": "stdout",
          "text": [
            "✅ Cargando pesos desde: /content/gdrive/My Drive/MODELO 14/checkpoints/dqn_noisy_weights_1700000.h5 (pasos entrenados: 1700000)\n",
            "Testing for 10 episodes ...\n",
            "Episode 1: reward: 37.000, steps: 1422\n",
            "Episode 2: reward: 19.000, steps: 672\n",
            "Episode 3: reward: 7.000, steps: 406\n",
            "Episode 4: reward: 22.000, steps: 714\n",
            "Episode 5: reward: 17.000, steps: 688\n",
            "Episode 6: reward: 26.000, steps: 1066\n",
            "Episode 7: reward: 30.000, steps: 1011\n",
            "Episode 8: reward: 11.000, steps: 699\n",
            "Episode 9: reward: 27.000, steps: 1134\n",
            "Episode 10: reward: 32.000, steps: 1337\n"
          ]
        }
      ]
    },
    {
      "cell_type": "markdown",
      "source": [
        "Parte 9"
      ],
      "metadata": {
        "id": "rcri2LT_E9eg"
      }
    },
    {
      "cell_type": "code",
      "source": [
        "# Cargar pesos anteriores si existen\n",
        "latest_path, trained_steps = load_latest_weights(dqn, checkpoint_dir)\n",
        "if latest_path:\n",
        "    dqn.load_weights(latest_path)\n",
        "else:\n",
        "    trained_steps = 0\n",
        "\n",
        "# Definir pasos a entrenar\n",
        "steps_to_train = 100000\n",
        "total_steps = trained_steps + steps_to_train\n",
        "\n",
        "# Crear paths y callbacks dinámicos\n",
        "log_path = os.path.join(log_dir, f\"dqn_noisy_log_{trained_steps}_{total_steps}.json\")\n",
        "checkpoint_path = os.path.join(checkpoint_dir, f\"dqn_noisy_weights_{total_steps}.h5\")\n",
        "\n",
        "logger_callback = FileLogger(log_path, interval=100)\n",
        "checkpoint_callback = ModelIntervalCheckpoint(checkpoint_path, interval=10000)\n",
        "\n",
        "# Entrenar agente\n",
        "dqn.fit(env, nb_steps=steps_to_train, visualize=False, verbose=2,\n",
        "        callbacks=[checkpoint_callback, logger_callback])\n",
        "\n",
        "# Guardar pesos finales\n",
        "dqn.save_weights(checkpoint_path, overwrite=True)"
      ],
      "metadata": {
        "colab": {
          "base_uri": "https://localhost:8080/"
        },
        "id": "6stg9lSfE-3O",
        "outputId": "533a82b9-51d3-46f6-e043-a0598b780e9e"
      },
      "execution_count": null,
      "outputs": [
        {
          "output_type": "stream",
          "name": "stdout",
          "text": [
            "✅ Cargando pesos desde: /content/gdrive/My Drive/MODELO 14/checkpoints/dqn_noisy_weights_1700000.h5 (pasos entrenados: 1700000)\n",
            "Training for 100000 steps ...\n",
            "   951/100000: episode: 1, duration: 10.163s, episode steps: 951, steps per second:  94, episode reward: 23.000, mean reward:  0.024 [ 0.000,  1.000], mean action: 2.592 [0.000, 5.000],  loss: --, mae: --, mean_q: --\n",
            "  1584/100000: episode: 2, duration: 6.852s, episode steps: 633, steps per second:  92, episode reward: 17.000, mean reward:  0.027 [ 0.000,  1.000], mean action: 2.319 [0.000, 5.000],  loss: --, mae: --, mean_q: --\n",
            "  2619/100000: episode: 3, duration: 11.234s, episode steps: 1035, steps per second:  92, episode reward: 28.000, mean reward:  0.027 [ 0.000,  1.000], mean action: 2.329 [0.000, 5.000],  loss: --, mae: --, mean_q: --\n",
            "  3379/100000: episode: 4, duration: 8.274s, episode steps: 760, steps per second:  92, episode reward: 18.000, mean reward:  0.024 [ 0.000,  1.000], mean action: 2.449 [0.000, 5.000],  loss: --, mae: --, mean_q: --\n",
            "  3985/100000: episode: 5, duration: 6.391s, episode steps: 606, steps per second:  95, episode reward: 12.000, mean reward:  0.020 [ 0.000,  1.000], mean action: 2.363 [0.000, 5.000],  loss: --, mae: --, mean_q: --\n",
            "  4627/100000: episode: 6, duration: 6.866s, episode steps: 642, steps per second:  93, episode reward: 16.000, mean reward:  0.025 [ 0.000,  1.000], mean action: 2.481 [0.000, 5.000],  loss: --, mae: --, mean_q: --\n",
            "  5504/100000: episode: 7, duration: 9.087s, episode steps: 877, steps per second:  97, episode reward: 21.000, mean reward:  0.024 [ 0.000,  1.000], mean action: 2.387 [0.000, 5.000],  loss: --, mae: --, mean_q: --\n",
            "  6204/100000: episode: 8, duration: 7.553s, episode steps: 700, steps per second:  93, episode reward: 15.000, mean reward:  0.021 [ 0.000,  1.000], mean action: 2.334 [0.000, 5.000],  loss: --, mae: --, mean_q: --\n",
            "  6925/100000: episode: 9, duration: 7.790s, episode steps: 721, steps per second:  93, episode reward: 20.000, mean reward:  0.028 [ 0.000,  1.000], mean action: 2.223 [0.000, 5.000],  loss: --, mae: --, mean_q: --\n",
            "  7844/100000: episode: 10, duration: 9.755s, episode steps: 919, steps per second:  94, episode reward: 19.000, mean reward:  0.021 [ 0.000,  1.000], mean action: 2.310 [0.000, 5.000],  loss: --, mae: --, mean_q: --\n",
            "  8818/100000: episode: 11, duration: 10.521s, episode steps: 974, steps per second:  93, episode reward: 32.000, mean reward:  0.033 [ 0.000,  1.000], mean action: 2.601 [0.000, 5.000],  loss: --, mae: --, mean_q: --\n",
            "  9719/100000: episode: 12, duration: 9.639s, episode steps: 901, steps per second:  93, episode reward: 24.000, mean reward:  0.027 [ 0.000,  1.000], mean action: 2.216 [0.000, 5.000],  loss: --, mae: --, mean_q: --\n",
            " 10296/100000: episode: 13, duration: 6.061s, episode steps: 577, steps per second:  95, episode reward: 15.000, mean reward:  0.026 [ 0.000,  1.000], mean action: 2.149 [0.000, 5.000],  loss: --, mae: --, mean_q: --\n",
            " 10962/100000: episode: 14, duration: 7.237s, episode steps: 666, steps per second:  92, episode reward: 17.000, mean reward:  0.026 [ 0.000,  1.000], mean action: 2.339 [0.000, 5.000],  loss: --, mae: --, mean_q: --\n",
            " 12210/100000: episode: 15, duration: 13.308s, episode steps: 1248, steps per second:  94, episode reward: 26.000, mean reward:  0.021 [ 0.000,  1.000], mean action: 2.296 [0.000, 5.000],  loss: --, mae: --, mean_q: --\n",
            " 13124/100000: episode: 16, duration: 9.925s, episode steps: 914, steps per second:  92, episode reward: 27.000, mean reward:  0.030 [ 0.000,  1.000], mean action: 2.503 [0.000, 5.000],  loss: --, mae: --, mean_q: --\n",
            " 14006/100000: episode: 17, duration: 9.400s, episode steps: 882, steps per second:  94, episode reward: 22.000, mean reward:  0.025 [ 0.000,  1.000], mean action: 2.241 [0.000, 5.000],  loss: --, mae: --, mean_q: --\n",
            " 14760/100000: episode: 18, duration: 8.029s, episode steps: 754, steps per second:  94, episode reward: 16.000, mean reward:  0.021 [ 0.000,  1.000], mean action: 2.564 [0.000, 5.000],  loss: --, mae: --, mean_q: --\n",
            " 15758/100000: episode: 19, duration: 10.752s, episode steps: 998, steps per second:  93, episode reward: 28.000, mean reward:  0.028 [ 0.000,  1.000], mean action: 2.280 [0.000, 5.000],  loss: --, mae: --, mean_q: --\n",
            " 16384/100000: episode: 20, duration: 6.739s, episode steps: 626, steps per second:  93, episode reward: 16.000, mean reward:  0.026 [ 0.000,  1.000], mean action: 2.390 [0.000, 5.000],  loss: --, mae: --, mean_q: --\n",
            " 17086/100000: episode: 21, duration: 7.466s, episode steps: 702, steps per second:  94, episode reward: 15.000, mean reward:  0.021 [ 0.000,  1.000], mean action: 2.383 [0.000, 5.000],  loss: --, mae: --, mean_q: --\n",
            " 18066/100000: episode: 22, duration: 10.448s, episode steps: 980, steps per second:  94, episode reward: 23.000, mean reward:  0.023 [ 0.000,  1.000], mean action: 2.522 [0.000, 5.000],  loss: --, mae: --, mean_q: --\n",
            " 19374/100000: episode: 23, duration: 13.793s, episode steps: 1308, steps per second:  95, episode reward: 28.000, mean reward:  0.021 [ 0.000,  1.000], mean action: 2.225 [0.000, 5.000],  loss: --, mae: --, mean_q: --\n",
            " 20190/100000: episode: 24, duration: 9.382s, episode steps: 816, steps per second:  87, episode reward: 20.000, mean reward:  0.025 [ 0.000,  1.000], mean action: 2.527 [0.000, 5.000],  loss: --, mae: --, mean_q: --\n",
            " 20678/100000: episode: 25, duration: 5.043s, episode steps: 488, steps per second:  97, episode reward:  8.000, mean reward:  0.016 [ 0.000,  1.000], mean action: 2.172 [0.000, 5.000],  loss: --, mae: --, mean_q: --\n",
            " 21482/100000: episode: 26, duration: 8.484s, episode steps: 804, steps per second:  95, episode reward: 20.000, mean reward:  0.025 [ 0.000,  1.000], mean action: 2.251 [0.000, 5.000],  loss: --, mae: --, mean_q: --\n",
            " 22319/100000: episode: 27, duration: 8.627s, episode steps: 837, steps per second:  97, episode reward: 23.000, mean reward:  0.027 [ 0.000,  1.000], mean action: 2.559 [0.000, 5.000],  loss: --, mae: --, mean_q: --\n",
            " 22839/100000: episode: 28, duration: 5.451s, episode steps: 520, steps per second:  95, episode reward:  8.000, mean reward:  0.015 [ 0.000,  1.000], mean action: 2.712 [0.000, 5.000],  loss: --, mae: --, mean_q: --\n",
            " 23612/100000: episode: 29, duration: 8.197s, episode steps: 773, steps per second:  94, episode reward: 17.000, mean reward:  0.022 [ 0.000,  1.000], mean action: 2.462 [0.000, 5.000],  loss: --, mae: --, mean_q: --\n",
            " 24452/100000: episode: 30, duration: 8.709s, episode steps: 840, steps per second:  96, episode reward: 23.000, mean reward:  0.027 [ 0.000,  1.000], mean action: 2.455 [0.000, 5.000],  loss: --, mae: --, mean_q: --\n",
            " 25311/100000: episode: 31, duration: 9.070s, episode steps: 859, steps per second:  95, episode reward: 20.000, mean reward:  0.023 [ 0.000,  1.000], mean action: 2.186 [0.000, 5.000],  loss: --, mae: --, mean_q: --\n",
            " 26352/100000: episode: 32, duration: 11.024s, episode steps: 1041, steps per second:  94, episode reward: 30.000, mean reward:  0.029 [ 0.000,  1.000], mean action: 2.770 [0.000, 5.000],  loss: --, mae: --, mean_q: --\n",
            " 27155/100000: episode: 33, duration: 8.493s, episode steps: 803, steps per second:  95, episode reward: 15.000, mean reward:  0.019 [ 0.000,  1.000], mean action: 2.448 [0.000, 5.000],  loss: --, mae: --, mean_q: --\n",
            " 27986/100000: episode: 34, duration: 8.850s, episode steps: 831, steps per second:  94, episode reward: 24.000, mean reward:  0.029 [ 0.000,  1.000], mean action: 2.309 [0.000, 5.000],  loss: --, mae: --, mean_q: --\n",
            " 28582/100000: episode: 35, duration: 6.531s, episode steps: 596, steps per second:  91, episode reward: 20.000, mean reward:  0.034 [ 0.000,  1.000], mean action: 2.404 [0.000, 5.000],  loss: --, mae: --, mean_q: --\n",
            " 29647/100000: episode: 36, duration: 11.469s, episode steps: 1065, steps per second:  93, episode reward: 27.000, mean reward:  0.025 [ 0.000,  1.000], mean action: 2.698 [0.000, 5.000],  loss: --, mae: --, mean_q: --\n",
            " 30460/100000: episode: 37, duration: 9.335s, episode steps: 813, steps per second:  87, episode reward: 20.000, mean reward:  0.025 [ 0.000,  1.000], mean action: 2.721 [0.000, 5.000],  loss: --, mae: --, mean_q: --\n",
            " 31225/100000: episode: 38, duration: 8.294s, episode steps: 765, steps per second:  92, episode reward: 18.000, mean reward:  0.024 [ 0.000,  1.000], mean action: 2.280 [0.000, 5.000],  loss: --, mae: --, mean_q: --\n",
            " 31839/100000: episode: 39, duration: 6.522s, episode steps: 614, steps per second:  94, episode reward: 18.000, mean reward:  0.029 [ 0.000,  1.000], mean action: 2.616 [0.000, 5.000],  loss: --, mae: --, mean_q: --\n",
            " 32533/100000: episode: 40, duration: 7.286s, episode steps: 694, steps per second:  95, episode reward: 16.000, mean reward:  0.023 [ 0.000,  1.000], mean action: 2.830 [0.000, 5.000],  loss: --, mae: --, mean_q: --\n",
            " 33280/100000: episode: 41, duration: 8.040s, episode steps: 747, steps per second:  93, episode reward: 20.000, mean reward:  0.027 [ 0.000,  1.000], mean action: 2.329 [0.000, 5.000],  loss: --, mae: --, mean_q: --\n",
            " 34533/100000: episode: 42, duration: 13.243s, episode steps: 1253, steps per second:  95, episode reward: 34.000, mean reward:  0.027 [ 0.000,  1.000], mean action: 2.431 [0.000, 5.000],  loss: --, mae: --, mean_q: --\n",
            " 35622/100000: episode: 43, duration: 11.541s, episode steps: 1089, steps per second:  94, episode reward: 28.000, mean reward:  0.026 [ 0.000,  1.000], mean action: 2.558 [0.000, 5.000],  loss: --, mae: --, mean_q: --\n",
            " 36309/100000: episode: 44, duration: 7.187s, episode steps: 687, steps per second:  96, episode reward: 12.000, mean reward:  0.017 [ 0.000,  1.000], mean action: 2.373 [0.000, 5.000],  loss: --, mae: --, mean_q: --\n",
            " 37265/100000: episode: 45, duration: 10.135s, episode steps: 956, steps per second:  94, episode reward: 22.000, mean reward:  0.023 [ 0.000,  1.000], mean action: 2.612 [0.000, 5.000],  loss: --, mae: --, mean_q: --\n",
            " 37794/100000: episode: 46, duration: 5.553s, episode steps: 529, steps per second:  95, episode reward: 11.000, mean reward:  0.021 [ 0.000,  1.000], mean action: 2.197 [0.000, 5.000],  loss: --, mae: --, mean_q: --\n",
            " 38320/100000: episode: 47, duration: 5.651s, episode steps: 526, steps per second:  93, episode reward:  9.000, mean reward:  0.017 [ 0.000,  1.000], mean action: 2.144 [0.000, 5.000],  loss: --, mae: --, mean_q: --\n",
            " 39147/100000: episode: 48, duration: 8.753s, episode steps: 827, steps per second:  94, episode reward: 21.000, mean reward:  0.025 [ 0.000,  1.000], mean action: 2.222 [0.000, 5.000],  loss: --, mae: --, mean_q: --\n",
            " 39780/100000: episode: 49, duration: 6.581s, episode steps: 633, steps per second:  96, episode reward: 16.000, mean reward:  0.025 [ 0.000,  1.000], mean action: 2.434 [0.000, 5.000],  loss: --, mae: --, mean_q: --\n",
            " 40747/100000: episode: 50, duration: 11.077s, episode steps: 967, steps per second:  87, episode reward: 22.000, mean reward:  0.023 [ 0.000,  1.000], mean action: 2.929 [0.000, 5.000],  loss: --, mae: --, mean_q: --\n",
            " 41268/100000: episode: 51, duration: 5.542s, episode steps: 521, steps per second:  94, episode reward: 10.000, mean reward:  0.019 [ 0.000,  1.000], mean action: 2.263 [0.000, 5.000],  loss: --, mae: --, mean_q: --\n",
            " 42157/100000: episode: 52, duration: 9.591s, episode steps: 889, steps per second:  93, episode reward: 22.000, mean reward:  0.025 [ 0.000,  1.000], mean action: 2.354 [0.000, 5.000],  loss: --, mae: --, mean_q: --\n",
            " 42812/100000: episode: 53, duration: 7.131s, episode steps: 655, steps per second:  92, episode reward: 17.000, mean reward:  0.026 [ 0.000,  1.000], mean action: 2.569 [0.000, 5.000],  loss: --, mae: --, mean_q: --\n",
            " 43824/100000: episode: 54, duration: 10.910s, episode steps: 1012, steps per second:  93, episode reward: 26.000, mean reward:  0.026 [ 0.000,  1.000], mean action: 2.153 [0.000, 5.000],  loss: --, mae: --, mean_q: --\n",
            " 44787/100000: episode: 55, duration: 10.166s, episode steps: 963, steps per second:  95, episode reward: 21.000, mean reward:  0.022 [ 0.000,  1.000], mean action: 2.567 [0.000, 5.000],  loss: --, mae: --, mean_q: --\n",
            " 45656/100000: episode: 56, duration: 9.323s, episode steps: 869, steps per second:  93, episode reward: 23.000, mean reward:  0.026 [ 0.000,  1.000], mean action: 2.322 [0.000, 5.000],  loss: --, mae: --, mean_q: --\n",
            " 46465/100000: episode: 57, duration: 8.821s, episode steps: 809, steps per second:  92, episode reward: 21.000, mean reward:  0.026 [ 0.000,  1.000], mean action: 2.153 [0.000, 5.000],  loss: --, mae: --, mean_q: --\n",
            " 47084/100000: episode: 58, duration: 6.579s, episode steps: 619, steps per second:  94, episode reward: 14.000, mean reward:  0.023 [ 0.000,  1.000], mean action: 2.355 [0.000, 5.000],  loss: --, mae: --, mean_q: --\n",
            " 48001/100000: episode: 59, duration: 9.938s, episode steps: 917, steps per second:  92, episode reward: 20.000, mean reward:  0.022 [ 0.000,  1.000], mean action: 2.194 [0.000, 5.000],  loss: --, mae: --, mean_q: --\n",
            " 49377/100000: episode: 60, duration: 14.762s, episode steps: 1376, steps per second:  93, episode reward: 22.000, mean reward:  0.016 [ 0.000,  1.000], mean action: 2.057 [0.000, 5.000],  loss: --, mae: --, mean_q: --\n",
            " 50127/100000: episode: 61, duration: 13.523s, episode steps: 750, steps per second:  55, episode reward: 22.000, mean reward:  0.029 [ 0.000,  1.000], mean action: 2.308 [0.000, 5.000],  loss: 0.009171, mae: 1.672292, mean_q: 2.020016\n",
            " 50905/100000: episode: 62, duration: 37.516s, episode steps: 778, steps per second:  21, episode reward: 18.000, mean reward:  0.023 [ 0.000,  1.000], mean action: 2.458 [0.000, 5.000],  loss: 0.012996, mae: 1.731671, mean_q: 2.090658\n",
            " 51826/100000: episode: 63, duration: 44.125s, episode steps: 921, steps per second:  21, episode reward: 25.000, mean reward:  0.027 [ 0.000,  1.000], mean action: 2.218 [0.000, 5.000],  loss: 0.013345, mae: 1.712690, mean_q: 2.065044\n",
            " 52502/100000: episode: 64, duration: 32.487s, episode steps: 676, steps per second:  21, episode reward: 22.000, mean reward:  0.033 [ 0.000,  1.000], mean action: 2.040 [0.000, 5.000],  loss: 0.012665, mae: 1.717818, mean_q: 2.072282\n",
            " 53744/100000: episode: 65, duration: 60.887s, episode steps: 1242, steps per second:  20, episode reward: 29.000, mean reward:  0.023 [ 0.000,  1.000], mean action: 1.576 [0.000, 5.000],  loss: 0.013376, mae: 1.724017, mean_q: 2.079571\n",
            " 54358/100000: episode: 66, duration: 29.858s, episode steps: 614, steps per second:  21, episode reward:  9.000, mean reward:  0.015 [ 0.000,  1.000], mean action: 1.857 [0.000, 5.000],  loss: 0.011914, mae: 1.708106, mean_q: 2.060783\n",
            " 55415/100000: episode: 67, duration: 50.955s, episode steps: 1057, steps per second:  21, episode reward: 26.000, mean reward:  0.025 [ 0.000,  1.000], mean action: 2.202 [0.000, 5.000],  loss: 0.014093, mae: 1.714040, mean_q: 2.067537\n",
            " 56034/100000: episode: 68, duration: 30.232s, episode steps: 619, steps per second:  20, episode reward: 18.000, mean reward:  0.029 [ 0.000,  1.000], mean action: 2.643 [0.000, 5.000],  loss: 0.013103, mae: 1.725849, mean_q: 2.081925\n",
            " 56930/100000: episode: 69, duration: 43.226s, episode steps: 896, steps per second:  21, episode reward: 21.000, mean reward:  0.023 [ 0.000,  1.000], mean action: 1.593 [0.000, 5.000],  loss: 0.012625, mae: 1.724200, mean_q: 2.080246\n",
            " 57474/100000: episode: 70, duration: 26.292s, episode steps: 544, steps per second:  21, episode reward: 11.000, mean reward:  0.020 [ 0.000,  1.000], mean action: 1.439 [0.000, 5.000],  loss: 0.013211, mae: 1.705030, mean_q: 2.056007\n",
            " 58388/100000: episode: 71, duration: 44.364s, episode steps: 914, steps per second:  21, episode reward: 22.000, mean reward:  0.024 [ 0.000,  1.000], mean action: 1.523 [0.000, 5.000],  loss: 0.012939, mae: 1.728807, mean_q: 2.085436\n",
            " 59097/100000: episode: 72, duration: 34.279s, episode steps: 709, steps per second:  21, episode reward: 17.000, mean reward:  0.024 [ 0.000,  1.000], mean action: 2.360 [0.000, 5.000],  loss: 0.012680, mae: 1.705011, mean_q: 2.056258\n",
            " 59977/100000: episode: 73, duration: 42.295s, episode steps: 880, steps per second:  21, episode reward: 24.000, mean reward:  0.027 [ 0.000,  1.000], mean action: 2.316 [0.000, 5.000],  loss: 0.015556, mae: 1.731713, mean_q: 2.087975\n",
            " 60547/100000: episode: 74, duration: 27.975s, episode steps: 570, steps per second:  20, episode reward: 11.000, mean reward:  0.019 [ 0.000,  1.000], mean action: 2.207 [0.000, 5.000],  loss: 0.013172, mae: 1.800039, mean_q: 2.171122\n",
            " 61468/100000: episode: 75, duration: 44.501s, episode steps: 921, steps per second:  21, episode reward: 23.000, mean reward:  0.025 [ 0.000,  1.000], mean action: 2.145 [0.000, 5.000],  loss: 0.014017, mae: 1.778925, mean_q: 2.146466\n",
            " 62294/100000: episode: 76, duration: 40.313s, episode steps: 826, steps per second:  20, episode reward: 22.000, mean reward:  0.027 [ 0.000,  1.000], mean action: 2.621 [0.000, 5.000],  loss: 0.011964, mae: 1.772078, mean_q: 2.138472\n",
            " 63221/100000: episode: 77, duration: 44.739s, episode steps: 927, steps per second:  21, episode reward: 18.000, mean reward:  0.019 [ 0.000,  1.000], mean action: 1.889 [0.000, 5.000],  loss: 0.013781, mae: 1.770498, mean_q: 2.137368\n",
            " 64308/100000: episode: 78, duration: 52.571s, episode steps: 1087, steps per second:  21, episode reward: 29.000, mean reward:  0.027 [ 0.000,  1.000], mean action: 1.959 [0.000, 5.000],  loss: 0.012822, mae: 1.771932, mean_q: 2.141228\n",
            " 65282/100000: episode: 79, duration: 47.091s, episode steps: 974, steps per second:  21, episode reward: 28.000, mean reward:  0.029 [ 0.000,  1.000], mean action: 2.752 [0.000, 5.000],  loss: 0.012286, mae: 1.778790, mean_q: 2.148803\n",
            " 66464/100000: episode: 80, duration: 57.370s, episode steps: 1182, steps per second:  21, episode reward: 26.000, mean reward:  0.022 [ 0.000,  1.000], mean action: 2.101 [0.000, 5.000],  loss: 0.012956, mae: 1.778782, mean_q: 2.147045\n",
            " 67251/100000: episode: 81, duration: 38.175s, episode steps: 787, steps per second:  21, episode reward: 21.000, mean reward:  0.027 [ 0.000,  1.000], mean action: 2.446 [0.000, 5.000],  loss: 0.013011, mae: 1.759960, mean_q: 2.123939\n",
            " 67948/100000: episode: 82, duration: 33.847s, episode steps: 697, steps per second:  21, episode reward: 17.000, mean reward:  0.024 [ 0.000,  1.000], mean action: 1.747 [0.000, 5.000],  loss: 0.013748, mae: 1.789890, mean_q: 2.160532\n",
            " 68515/100000: episode: 83, duration: 27.456s, episode steps: 567, steps per second:  21, episode reward: 15.000, mean reward:  0.026 [ 0.000,  1.000], mean action: 2.229 [0.000, 5.000],  loss: 0.011750, mae: 1.747112, mean_q: 2.107764\n",
            " 69767/100000: episode: 84, duration: 60.242s, episode steps: 1252, steps per second:  21, episode reward: 32.000, mean reward:  0.026 [ 0.000,  1.000], mean action: 1.676 [0.000, 5.000],  loss: 0.012668, mae: 1.779957, mean_q: 2.149797\n",
            " 70316/100000: episode: 85, duration: 27.338s, episode steps: 549, steps per second:  20, episode reward: 11.000, mean reward:  0.020 [ 0.000,  1.000], mean action: 1.995 [0.000, 5.000],  loss: 0.013960, mae: 1.787260, mean_q: 2.156525\n",
            " 71839/100000: episode: 86, duration: 73.468s, episode steps: 1523, steps per second:  21, episode reward: 29.000, mean reward:  0.019 [ 0.000,  1.000], mean action: 1.921 [0.000, 5.000],  loss: 0.013029, mae: 1.779539, mean_q: 2.147549\n",
            " 72557/100000: episode: 87, duration: 34.862s, episode steps: 718, steps per second:  21, episode reward: 14.000, mean reward:  0.019 [ 0.000,  1.000], mean action: 2.309 [0.000, 5.000],  loss: 0.013455, mae: 1.756697, mean_q: 2.119028\n",
            " 73209/100000: episode: 88, duration: 31.425s, episode steps: 652, steps per second:  21, episode reward: 12.000, mean reward:  0.018 [ 0.000,  1.000], mean action: 2.140 [0.000, 5.000],  loss: 0.013287, mae: 1.768157, mean_q: 2.133248\n",
            " 74095/100000: episode: 89, duration: 43.279s, episode steps: 886, steps per second:  20, episode reward: 25.000, mean reward:  0.028 [ 0.000,  1.000], mean action: 1.572 [0.000, 5.000],  loss: 0.013662, mae: 1.773422, mean_q: 2.139902\n",
            " 74759/100000: episode: 90, duration: 32.020s, episode steps: 664, steps per second:  21, episode reward: 17.000, mean reward:  0.026 [ 0.000,  1.000], mean action: 1.479 [0.000, 5.000],  loss: 0.013692, mae: 1.768479, mean_q: 2.136169\n",
            " 75302/100000: episode: 91, duration: 27.230s, episode steps: 543, steps per second:  20, episode reward: 10.000, mean reward:  0.018 [ 0.000,  1.000], mean action: 3.096 [0.000, 5.000],  loss: 0.011966, mae: 1.762583, mean_q: 2.128162\n",
            " 75964/100000: episode: 92, duration: 32.621s, episode steps: 662, steps per second:  20, episode reward: 12.000, mean reward:  0.018 [ 0.000,  1.000], mean action: 2.520 [0.000, 5.000],  loss: 0.013158, mae: 1.797749, mean_q: 2.170287\n",
            " 76579/100000: episode: 93, duration: 29.979s, episode steps: 615, steps per second:  21, episode reward: 16.000, mean reward:  0.026 [ 0.000,  1.000], mean action: 2.472 [0.000, 5.000],  loss: 0.013768, mae: 1.781896, mean_q: 2.150299\n",
            " 77320/100000: episode: 94, duration: 36.022s, episode steps: 741, steps per second:  21, episode reward: 18.000, mean reward:  0.024 [ 0.000,  1.000], mean action: 1.672 [0.000, 5.000],  loss: 0.014317, mae: 1.797603, mean_q: 2.169564\n",
            " 78031/100000: episode: 95, duration: 34.444s, episode steps: 711, steps per second:  21, episode reward: 14.000, mean reward:  0.020 [ 0.000,  1.000], mean action: 2.447 [0.000, 5.000],  loss: 0.012478, mae: 1.773794, mean_q: 2.140117\n",
            " 78519/100000: episode: 96, duration: 23.641s, episode steps: 488, steps per second:  21, episode reward:  7.000, mean reward:  0.014 [ 0.000,  1.000], mean action: 1.512 [0.000, 5.000],  loss: 0.013142, mae: 1.753580, mean_q: 2.119538\n",
            " 79001/100000: episode: 97, duration: 23.393s, episode steps: 482, steps per second:  21, episode reward: 11.000, mean reward:  0.023 [ 0.000,  1.000], mean action: 2.459 [0.000, 5.000],  loss: 0.011937, mae: 1.772753, mean_q: 2.140928\n",
            " 79621/100000: episode: 98, duration: 30.044s, episode steps: 620, steps per second:  21, episode reward: 12.000, mean reward:  0.019 [ 0.000,  1.000], mean action: 2.377 [0.000, 5.000],  loss: 0.013514, mae: 1.798274, mean_q: 2.170573\n",
            " 80362/100000: episode: 99, duration: 37.032s, episode steps: 741, steps per second:  20, episode reward: 18.000, mean reward:  0.024 [ 0.000,  1.000], mean action: 2.252 [0.000, 5.000],  loss: 0.013038, mae: 1.823139, mean_q: 2.202066\n",
            " 81483/100000: episode: 100, duration: 54.610s, episode steps: 1121, steps per second:  21, episode reward: 30.000, mean reward:  0.027 [ 0.000,  1.000], mean action: 1.672 [0.000, 5.000],  loss: 0.012813, mae: 1.810779, mean_q: 2.187422\n",
            " 82403/100000: episode: 101, duration: 44.896s, episode steps: 920, steps per second:  20, episode reward: 23.000, mean reward:  0.025 [ 0.000,  1.000], mean action: 2.193 [0.000, 5.000],  loss: 0.013281, mae: 1.822359, mean_q: 2.200521\n",
            " 83275/100000: episode: 102, duration: 42.471s, episode steps: 872, steps per second:  21, episode reward: 22.000, mean reward:  0.025 [ 0.000,  1.000], mean action: 2.764 [0.000, 5.000],  loss: 0.013880, mae: 1.818367, mean_q: 2.195769\n",
            " 84441/100000: episode: 103, duration: 56.901s, episode steps: 1166, steps per second:  20, episode reward: 28.000, mean reward:  0.024 [ 0.000,  1.000], mean action: 2.654 [0.000, 5.000],  loss: 0.014043, mae: 1.820439, mean_q: 2.198084\n",
            " 85079/100000: episode: 104, duration: 31.414s, episode steps: 638, steps per second:  20, episode reward: 14.000, mean reward:  0.022 [ 0.000,  1.000], mean action: 2.202 [0.000, 5.000],  loss: 0.013417, mae: 1.816722, mean_q: 2.193360\n",
            " 85933/100000: episode: 105, duration: 41.825s, episode steps: 854, steps per second:  20, episode reward: 25.000, mean reward:  0.029 [ 0.000,  1.000], mean action: 2.424 [0.000, 5.000],  loss: 0.012573, mae: 1.826960, mean_q: 2.205624\n",
            " 86592/100000: episode: 106, duration: 32.369s, episode steps: 659, steps per second:  20, episode reward: 16.000, mean reward:  0.024 [ 0.000,  1.000], mean action: 2.351 [0.000, 5.000],  loss: 0.012758, mae: 1.804184, mean_q: 2.178231\n",
            " 87305/100000: episode: 107, duration: 35.096s, episode steps: 713, steps per second:  20, episode reward: 21.000, mean reward:  0.029 [ 0.000,  1.000], mean action: 2.400 [0.000, 5.000],  loss: 0.012703, mae: 1.805405, mean_q: 2.179258\n",
            " 87875/100000: episode: 108, duration: 27.808s, episode steps: 570, steps per second:  20, episode reward: 10.000, mean reward:  0.018 [ 0.000,  1.000], mean action: 2.079 [0.000, 5.000],  loss: 0.013663, mae: 1.824976, mean_q: 2.201228\n",
            " 88571/100000: episode: 109, duration: 34.029s, episode steps: 696, steps per second:  20, episode reward: 18.000, mean reward:  0.026 [ 0.000,  1.000], mean action: 2.671 [0.000, 5.000],  loss: 0.012949, mae: 1.807649, mean_q: 2.182575\n",
            " 89326/100000: episode: 110, duration: 37.233s, episode steps: 755, steps per second:  20, episode reward: 19.000, mean reward:  0.025 [ 0.000,  1.000], mean action: 2.266 [0.000, 5.000],  loss: 0.013995, mae: 1.808655, mean_q: 2.183696\n",
            " 89832/100000: episode: 111, duration: 24.894s, episode steps: 506, steps per second:  20, episode reward:  9.000, mean reward:  0.018 [ 0.000,  1.000], mean action: 2.510 [0.000, 5.000],  loss: 0.012950, mae: 1.811202, mean_q: 2.185960\n",
            " 90568/100000: episode: 112, duration: 37.205s, episode steps: 736, steps per second:  20, episode reward: 18.000, mean reward:  0.024 [ 0.000,  1.000], mean action: 2.067 [0.000, 5.000],  loss: 0.013395, mae: 1.852054, mean_q: 2.233999\n",
            " 90946/100000: episode: 113, duration: 18.611s, episode steps: 378, steps per second:  20, episode reward:  6.000, mean reward:  0.016 [ 0.000,  1.000], mean action: 2.444 [0.000, 5.000],  loss: 0.014150, mae: 1.833761, mean_q: 2.213481\n",
            " 91865/100000: episode: 114, duration: 44.768s, episode steps: 919, steps per second:  21, episode reward: 25.000, mean reward:  0.027 [ 0.000,  1.000], mean action: 2.092 [0.000, 5.000],  loss: 0.012895, mae: 1.820185, mean_q: 2.197483\n",
            " 92443/100000: episode: 115, duration: 28.110s, episode steps: 578, steps per second:  21, episode reward: 13.000, mean reward:  0.022 [ 0.000,  1.000], mean action: 2.166 [0.000, 5.000],  loss: 0.014335, mae: 1.813519, mean_q: 2.187899\n",
            " 93179/100000: episode: 116, duration: 35.970s, episode steps: 736, steps per second:  20, episode reward: 20.000, mean reward:  0.027 [ 0.000,  1.000], mean action: 2.473 [0.000, 5.000],  loss: 0.012605, mae: 1.812868, mean_q: 2.188626\n",
            " 93674/100000: episode: 117, duration: 24.286s, episode steps: 495, steps per second:  20, episode reward: 11.000, mean reward:  0.022 [ 0.000,  1.000], mean action: 2.107 [0.000, 5.000],  loss: 0.012571, mae: 1.813499, mean_q: 2.189388\n",
            " 94327/100000: episode: 118, duration: 31.913s, episode steps: 653, steps per second:  20, episode reward: 19.000, mean reward:  0.029 [ 0.000,  1.000], mean action: 1.855 [0.000, 5.000],  loss: 0.014241, mae: 1.822213, mean_q: 2.199271\n",
            " 95189/100000: episode: 119, duration: 42.412s, episode steps: 862, steps per second:  20, episode reward: 24.000, mean reward:  0.028 [ 0.000,  1.000], mean action: 2.182 [0.000, 5.000],  loss: 0.013881, mae: 1.828057, mean_q: 2.206914\n",
            " 95739/100000: episode: 120, duration: 26.883s, episode steps: 550, steps per second:  20, episode reward: 12.000, mean reward:  0.022 [ 0.000,  1.000], mean action: 2.247 [0.000, 5.000],  loss: 0.013114, mae: 1.787033, mean_q: 2.157830\n",
            " 96360/100000: episode: 121, duration: 30.342s, episode steps: 621, steps per second:  20, episode reward: 12.000, mean reward:  0.019 [ 0.000,  1.000], mean action: 1.937 [0.000, 5.000],  loss: 0.011776, mae: 1.808951, mean_q: 2.183680\n",
            " 97037/100000: episode: 122, duration: 33.428s, episode steps: 677, steps per second:  20, episode reward: 17.000, mean reward:  0.025 [ 0.000,  1.000], mean action: 2.802 [0.000, 5.000],  loss: 0.013461, mae: 1.842321, mean_q: 2.221870\n",
            " 97856/100000: episode: 123, duration: 40.885s, episode steps: 819, steps per second:  20, episode reward: 20.000, mean reward:  0.024 [ 0.000,  1.000], mean action: 2.284 [0.000, 5.000],  loss: 0.013492, mae: 1.827732, mean_q: 2.205761\n",
            " 98718/100000: episode: 124, duration: 43.065s, episode steps: 862, steps per second:  20, episode reward: 24.000, mean reward:  0.028 [ 0.000,  1.000], mean action: 3.223 [0.000, 5.000],  loss: 0.013874, mae: 1.817097, mean_q: 2.192736\n",
            " 99411/100000: episode: 125, duration: 34.536s, episode steps: 693, steps per second:  20, episode reward: 15.000, mean reward:  0.022 [ 0.000,  1.000], mean action: 2.602 [0.000, 5.000],  loss: 0.013846, mae: 1.819110, mean_q: 2.193709\n",
            "done, took 2976.177 seconds\n"
          ]
        }
      ]
    },
    {
      "cell_type": "code",
      "source": [
        "# Guardar la memoria de experiencia\n",
        "import pickle\n",
        "with open('memory_noisy.pkl', 'wb') as f:\n",
        "    pickle.dump(memory, f)\n",
        "\n",
        "print(f\"Entrenamiento hasta {total_steps} pasos completado y guardado.\")"
      ],
      "metadata": {
        "colab": {
          "base_uri": "https://localhost:8080/"
        },
        "id": "o6p-nwteE_G1",
        "outputId": "78152c65-6675-4cb8-f388-7b2b7d410f42"
      },
      "execution_count": null,
      "outputs": [
        {
          "output_type": "stream",
          "name": "stdout",
          "text": [
            "Entrenamiento hasta 1800000 pasos completado y guardado.\n"
          ]
        }
      ]
    },
    {
      "cell_type": "code",
      "source": [
        "import time\n",
        "\n",
        "print(\"Esperando 60 segundos...\")\n",
        "time.sleep(60)\n",
        "print(\"¡Tiempo de espera terminado!\")"
      ],
      "metadata": {
        "colab": {
          "base_uri": "https://localhost:8080/"
        },
        "id": "OFMq3uSGE_WK",
        "outputId": "088da955-4883-4791-f5a8-92ec4e7fcbdf"
      },
      "execution_count": null,
      "outputs": [
        {
          "output_type": "stream",
          "name": "stdout",
          "text": [
            "Esperando 60 segundos...\n",
            "¡Tiempo de espera terminado!\n"
          ]
        }
      ]
    },
    {
      "cell_type": "code",
      "source": [
        "# Testear desde último checkpoint\n",
        "latest_path, trained_steps = load_latest_weights(dqn, checkpoint_dir)\n",
        "if latest_path:\n",
        "    dqn.test(env, nb_episodes=10, visualize=False)"
      ],
      "metadata": {
        "colab": {
          "base_uri": "https://localhost:8080/"
        },
        "id": "aaVRQKUWE_oM",
        "outputId": "e9fe6f8b-0b7d-4c9f-bd16-145019a2f599"
      },
      "execution_count": null,
      "outputs": [
        {
          "output_type": "stream",
          "name": "stdout",
          "text": [
            "✅ Cargando pesos desde: /content/gdrive/My Drive/MODELO 14/checkpoints/dqn_noisy_weights_1800000.h5 (pasos entrenados: 1800000)\n",
            "Testing for 10 episodes ...\n",
            "Episode 1: reward: 26.000, steps: 997\n",
            "Episode 2: reward: 16.000, steps: 665\n",
            "Episode 3: reward: 11.000, steps: 568\n",
            "Episode 4: reward: 15.000, steps: 550\n",
            "Episode 5: reward: 25.000, steps: 770\n",
            "Episode 6: reward: 26.000, steps: 949\n",
            "Episode 7: reward: 30.000, steps: 1111\n",
            "Episode 8: reward: 20.000, steps: 789\n",
            "Episode 9: reward: 18.000, steps: 740\n",
            "Episode 10: reward: 13.000, steps: 670\n"
          ]
        }
      ]
    },
    {
      "cell_type": "markdown",
      "source": [
        "Parte 10"
      ],
      "metadata": {
        "id": "-S2vcHPCE_-U"
      }
    },
    {
      "cell_type": "code",
      "source": [
        "# Cargar pesos anteriores si existen\n",
        "latest_path, trained_steps = load_latest_weights(dqn, checkpoint_dir)\n",
        "if latest_path:\n",
        "    dqn.load_weights(latest_path)\n",
        "else:\n",
        "    trained_steps = 0\n",
        "\n",
        "# Definir pasos a entrenar\n",
        "steps_to_train = 100000\n",
        "total_steps = trained_steps + steps_to_train\n",
        "\n",
        "# Crear paths y callbacks dinámicos\n",
        "log_path = os.path.join(log_dir, f\"dqn_noisy_log_{trained_steps}_{total_steps}.json\")\n",
        "checkpoint_path = os.path.join(checkpoint_dir, f\"dqn_noisy_weights_{total_steps}.h5\")\n",
        "\n",
        "logger_callback = FileLogger(log_path, interval=100)\n",
        "checkpoint_callback = ModelIntervalCheckpoint(checkpoint_path, interval=10000)\n",
        "\n",
        "# Entrenar agente\n",
        "dqn.fit(env, nb_steps=steps_to_train, visualize=False, verbose=2,\n",
        "        callbacks=[checkpoint_callback, logger_callback])\n",
        "\n",
        "# Guardar pesos finales\n",
        "dqn.save_weights(checkpoint_path, overwrite=True)"
      ],
      "metadata": {
        "colab": {
          "base_uri": "https://localhost:8080/"
        },
        "id": "51CDdKVAFBSW",
        "outputId": "88155478-972f-4ec1-aa30-a6e3213c7a2b"
      },
      "execution_count": 50,
      "outputs": [
        {
          "output_type": "stream",
          "name": "stdout",
          "text": [
            "✅ Cargando pesos desde: /content/gdrive/My Drive/MODELO 14/checkpoints/dqn_noisy_weights_1800000.h5 (pasos entrenados: 1800000)\n",
            "Training for 100000 steps ...\n",
            "   957/100000: episode: 1, duration: 10.726s, episode steps: 957, steps per second:  89, episode reward: 26.000, mean reward:  0.027 [ 0.000,  1.000], mean action: 2.447 [0.000, 5.000],  loss: --, mae: --, mean_q: --\n",
            "  1446/100000: episode: 2, duration: 5.543s, episode steps: 489, steps per second:  88, episode reward: 10.000, mean reward:  0.020 [ 0.000,  1.000], mean action: 3.025 [0.000, 5.000],  loss: --, mae: --, mean_q: --\n",
            "  2326/100000: episode: 3, duration: 9.764s, episode steps: 880, steps per second:  90, episode reward: 26.000, mean reward:  0.030 [ 0.000,  1.000], mean action: 2.431 [0.000, 5.000],  loss: --, mae: --, mean_q: --\n",
            "  3163/100000: episode: 4, duration: 9.306s, episode steps: 837, steps per second:  90, episode reward: 20.000, mean reward:  0.024 [ 0.000,  1.000], mean action: 2.265 [0.000, 5.000],  loss: --, mae: --, mean_q: --\n",
            "  4050/100000: episode: 5, duration: 9.796s, episode steps: 887, steps per second:  91, episode reward: 25.000, mean reward:  0.028 [ 0.000,  1.000], mean action: 2.409 [0.000, 5.000],  loss: --, mae: --, mean_q: --\n",
            "  4924/100000: episode: 6, duration: 9.619s, episode steps: 874, steps per second:  91, episode reward: 29.000, mean reward:  0.033 [ 0.000,  1.000], mean action: 2.571 [0.000, 5.000],  loss: --, mae: --, mean_q: --\n",
            "  5789/100000: episode: 7, duration: 9.483s, episode steps: 865, steps per second:  91, episode reward: 23.000, mean reward:  0.027 [ 0.000,  1.000], mean action: 2.732 [0.000, 5.000],  loss: --, mae: --, mean_q: --\n",
            "  6170/100000: episode: 8, duration: 4.480s, episode steps: 381, steps per second:  85, episode reward: 10.000, mean reward:  0.026 [ 0.000,  1.000], mean action: 2.787 [0.000, 5.000],  loss: --, mae: --, mean_q: --\n",
            "  6687/100000: episode: 9, duration: 5.656s, episode steps: 517, steps per second:  91, episode reward: 12.000, mean reward:  0.023 [ 0.000,  1.000], mean action: 2.762 [0.000, 5.000],  loss: --, mae: --, mean_q: --\n",
            "  7434/100000: episode: 10, duration: 8.401s, episode steps: 747, steps per second:  89, episode reward: 19.000, mean reward:  0.025 [ 0.000,  1.000], mean action: 2.954 [0.000, 5.000],  loss: --, mae: --, mean_q: --\n",
            "  8404/100000: episode: 11, duration: 10.790s, episode steps: 970, steps per second:  90, episode reward: 30.000, mean reward:  0.031 [ 0.000,  1.000], mean action: 2.516 [0.000, 5.000],  loss: --, mae: --, mean_q: --\n",
            "  9087/100000: episode: 12, duration: 7.514s, episode steps: 683, steps per second:  91, episode reward: 16.000, mean reward:  0.023 [ 0.000,  1.000], mean action: 2.662 [0.000, 5.000],  loss: --, mae: --, mean_q: --\n",
            "  9836/100000: episode: 13, duration: 8.416s, episode steps: 749, steps per second:  89, episode reward: 17.000, mean reward:  0.023 [ 0.000,  1.000], mean action: 2.619 [0.000, 5.000],  loss: --, mae: --, mean_q: --\n",
            " 10452/100000: episode: 14, duration: 6.806s, episode steps: 616, steps per second:  91, episode reward: 17.000, mean reward:  0.028 [ 0.000,  1.000], mean action: 2.557 [0.000, 5.000],  loss: --, mae: --, mean_q: --\n",
            " 11306/100000: episode: 15, duration: 9.600s, episode steps: 854, steps per second:  89, episode reward: 22.000, mean reward:  0.026 [ 0.000,  1.000], mean action: 2.303 [0.000, 5.000],  loss: --, mae: --, mean_q: --\n",
            " 11844/100000: episode: 16, duration: 6.150s, episode steps: 538, steps per second:  87, episode reward: 12.000, mean reward:  0.022 [ 0.000,  1.000], mean action: 2.721 [0.000, 5.000],  loss: --, mae: --, mean_q: --\n",
            " 12555/100000: episode: 17, duration: 7.839s, episode steps: 711, steps per second:  91, episode reward: 16.000, mean reward:  0.023 [ 0.000,  1.000], mean action: 2.428 [0.000, 5.000],  loss: --, mae: --, mean_q: --\n",
            " 13047/100000: episode: 18, duration: 5.660s, episode steps: 492, steps per second:  87, episode reward: 10.000, mean reward:  0.020 [ 0.000,  1.000], mean action: 2.661 [0.000, 5.000],  loss: --, mae: --, mean_q: --\n",
            " 14088/100000: episode: 19, duration: 11.430s, episode steps: 1041, steps per second:  91, episode reward: 27.000, mean reward:  0.026 [ 0.000,  1.000], mean action: 2.634 [0.000, 5.000],  loss: --, mae: --, mean_q: --\n",
            " 14756/100000: episode: 20, duration: 7.300s, episode steps: 668, steps per second:  92, episode reward: 15.000, mean reward:  0.022 [ 0.000,  1.000], mean action: 2.373 [0.000, 5.000],  loss: --, mae: --, mean_q: --\n",
            " 15555/100000: episode: 21, duration: 8.786s, episode steps: 799, steps per second:  91, episode reward: 22.000, mean reward:  0.028 [ 0.000,  1.000], mean action: 2.700 [0.000, 5.000],  loss: --, mae: --, mean_q: --\n",
            " 16379/100000: episode: 22, duration: 9.044s, episode steps: 824, steps per second:  91, episode reward: 26.000, mean reward:  0.032 [ 0.000,  1.000], mean action: 2.482 [0.000, 5.000],  loss: --, mae: --, mean_q: --\n",
            " 17420/100000: episode: 23, duration: 11.384s, episode steps: 1041, steps per second:  91, episode reward: 27.000, mean reward:  0.026 [ 0.000,  1.000], mean action: 2.554 [0.000, 5.000],  loss: --, mae: --, mean_q: --\n",
            " 17963/100000: episode: 24, duration: 6.192s, episode steps: 543, steps per second:  88, episode reward: 14.000, mean reward:  0.026 [ 0.000,  1.000], mean action: 2.637 [0.000, 5.000],  loss: --, mae: --, mean_q: --\n",
            " 18885/100000: episode: 25, duration: 10.250s, episode steps: 922, steps per second:  90, episode reward: 27.000, mean reward:  0.029 [ 0.000,  1.000], mean action: 2.129 [0.000, 5.000],  loss: --, mae: --, mean_q: --\n",
            " 19693/100000: episode: 26, duration: 8.849s, episode steps: 808, steps per second:  91, episode reward: 18.000, mean reward:  0.022 [ 0.000,  1.000], mean action: 2.436 [0.000, 5.000],  loss: --, mae: --, mean_q: --\n",
            " 20367/100000: episode: 27, duration: 8.381s, episode steps: 674, steps per second:  80, episode reward: 21.000, mean reward:  0.031 [ 0.000,  1.000], mean action: 2.639 [0.000, 5.000],  loss: --, mae: --, mean_q: --\n",
            " 21037/100000: episode: 28, duration: 7.538s, episode steps: 670, steps per second:  89, episode reward: 16.000, mean reward:  0.024 [ 0.000,  1.000], mean action: 2.475 [0.000, 5.000],  loss: --, mae: --, mean_q: --\n",
            " 21964/100000: episode: 29, duration: 10.087s, episode steps: 927, steps per second:  92, episode reward: 24.000, mean reward:  0.026 [ 0.000,  1.000], mean action: 2.663 [0.000, 5.000],  loss: --, mae: --, mean_q: --\n",
            " 23256/100000: episode: 30, duration: 14.387s, episode steps: 1292, steps per second:  90, episode reward: 32.000, mean reward:  0.025 [ 0.000,  1.000], mean action: 2.298 [0.000, 5.000],  loss: --, mae: --, mean_q: --\n",
            " 23908/100000: episode: 31, duration: 7.147s, episode steps: 652, steps per second:  91, episode reward: 18.000, mean reward:  0.028 [ 0.000,  1.000], mean action: 2.687 [0.000, 5.000],  loss: --, mae: --, mean_q: --\n",
            " 25185/100000: episode: 32, duration: 14.157s, episode steps: 1277, steps per second:  90, episode reward: 33.000, mean reward:  0.026 [ 0.000,  1.000], mean action: 2.324 [0.000, 5.000],  loss: --, mae: --, mean_q: --\n",
            " 25900/100000: episode: 33, duration: 7.884s, episode steps: 715, steps per second:  91, episode reward: 13.000, mean reward:  0.018 [ 0.000,  1.000], mean action: 2.978 [0.000, 5.000],  loss: --, mae: --, mean_q: --\n",
            " 26405/100000: episode: 34, duration: 5.449s, episode steps: 505, steps per second:  93, episode reward: 12.000, mean reward:  0.024 [ 0.000,  1.000], mean action: 2.790 [0.000, 5.000],  loss: --, mae: --, mean_q: --\n",
            " 27119/100000: episode: 35, duration: 7.805s, episode steps: 714, steps per second:  91, episode reward: 14.000, mean reward:  0.020 [ 0.000,  1.000], mean action: 2.721 [0.000, 5.000],  loss: --, mae: --, mean_q: --\n",
            " 27801/100000: episode: 36, duration: 7.307s, episode steps: 682, steps per second:  93, episode reward: 16.000, mean reward:  0.023 [ 0.000,  1.000], mean action: 2.301 [0.000, 5.000],  loss: --, mae: --, mean_q: --\n",
            " 28669/100000: episode: 37, duration: 9.459s, episode steps: 868, steps per second:  92, episode reward: 28.000, mean reward:  0.032 [ 0.000,  1.000], mean action: 2.379 [0.000, 5.000],  loss: --, mae: --, mean_q: --\n",
            " 29501/100000: episode: 38, duration: 9.204s, episode steps: 832, steps per second:  90, episode reward: 16.000, mean reward:  0.019 [ 0.000,  1.000], mean action: 2.429 [0.000, 5.000],  loss: --, mae: --, mean_q: --\n",
            " 30133/100000: episode: 39, duration: 6.915s, episode steps: 632, steps per second:  91, episode reward: 16.000, mean reward:  0.025 [ 0.000,  1.000], mean action: 2.418 [0.000, 5.000],  loss: --, mae: --, mean_q: --\n",
            " 30869/100000: episode: 40, duration: 8.156s, episode steps: 736, steps per second:  90, episode reward: 19.000, mean reward:  0.026 [ 0.000,  1.000], mean action: 2.591 [0.000, 5.000],  loss: --, mae: --, mean_q: --\n",
            " 31758/100000: episode: 41, duration: 9.783s, episode steps: 889, steps per second:  91, episode reward: 25.000, mean reward:  0.028 [ 0.000,  1.000], mean action: 2.443 [0.000, 5.000],  loss: --, mae: --, mean_q: --\n",
            " 32630/100000: episode: 42, duration: 9.548s, episode steps: 872, steps per second:  91, episode reward: 27.000, mean reward:  0.031 [ 0.000,  1.000], mean action: 2.381 [0.000, 5.000],  loss: --, mae: --, mean_q: --\n",
            " 33116/100000: episode: 43, duration: 5.417s, episode steps: 486, steps per second:  90, episode reward: 12.000, mean reward:  0.025 [ 0.000,  1.000], mean action: 2.654 [0.000, 5.000],  loss: --, mae: --, mean_q: --\n",
            " 33912/100000: episode: 44, duration: 8.597s, episode steps: 796, steps per second:  93, episode reward: 20.000, mean reward:  0.025 [ 0.000,  1.000], mean action: 2.475 [0.000, 5.000],  loss: --, mae: --, mean_q: --\n",
            " 34732/100000: episode: 45, duration: 8.653s, episode steps: 820, steps per second:  95, episode reward: 21.000, mean reward:  0.026 [ 0.000,  1.000], mean action: 2.282 [0.000, 5.000],  loss: --, mae: --, mean_q: --\n",
            " 35619/100000: episode: 46, duration: 9.511s, episode steps: 887, steps per second:  93, episode reward: 26.000, mean reward:  0.029 [ 0.000,  1.000], mean action: 2.626 [0.000, 5.000],  loss: --, mae: --, mean_q: --\n",
            " 36248/100000: episode: 47, duration: 6.800s, episode steps: 629, steps per second:  93, episode reward: 16.000, mean reward:  0.025 [ 0.000,  1.000], mean action: 2.488 [0.000, 5.000],  loss: --, mae: --, mean_q: --\n",
            " 37272/100000: episode: 48, duration: 10.870s, episode steps: 1024, steps per second:  94, episode reward: 28.000, mean reward:  0.027 [ 0.000,  1.000], mean action: 2.245 [0.000, 5.000],  loss: --, mae: --, mean_q: --\n",
            " 37949/100000: episode: 49, duration: 7.318s, episode steps: 677, steps per second:  93, episode reward: 15.000, mean reward:  0.022 [ 0.000,  1.000], mean action: 2.341 [0.000, 5.000],  loss: --, mae: --, mean_q: --\n",
            " 38663/100000: episode: 50, duration: 7.767s, episode steps: 714, steps per second:  92, episode reward: 16.000, mean reward:  0.022 [ 0.000,  1.000], mean action: 2.422 [0.000, 5.000],  loss: --, mae: --, mean_q: --\n",
            " 39374/100000: episode: 51, duration: 7.528s, episode steps: 711, steps per second:  94, episode reward: 19.000, mean reward:  0.027 [ 0.000,  1.000], mean action: 2.646 [0.000, 5.000],  loss: --, mae: --, mean_q: --\n",
            " 40114/100000: episode: 52, duration: 8.712s, episode steps: 740, steps per second:  85, episode reward: 16.000, mean reward:  0.022 [ 0.000,  1.000], mean action: 2.528 [0.000, 5.000],  loss: --, mae: --, mean_q: --\n",
            " 40708/100000: episode: 53, duration: 6.320s, episode steps: 594, steps per second:  94, episode reward: 13.000, mean reward:  0.022 [ 0.000,  1.000], mean action: 2.791 [0.000, 5.000],  loss: --, mae: --, mean_q: --\n",
            " 41806/100000: episode: 54, duration: 11.646s, episode steps: 1098, steps per second:  94, episode reward: 26.000, mean reward:  0.024 [ 0.000,  1.000], mean action: 2.515 [0.000, 5.000],  loss: --, mae: --, mean_q: --\n",
            " 42592/100000: episode: 55, duration: 8.523s, episode steps: 786, steps per second:  92, episode reward: 24.000, mean reward:  0.031 [ 0.000,  1.000], mean action: 2.573 [0.000, 5.000],  loss: --, mae: --, mean_q: --\n",
            " 43364/100000: episode: 56, duration: 8.325s, episode steps: 772, steps per second:  93, episode reward: 16.000, mean reward:  0.021 [ 0.000,  1.000], mean action: 2.334 [0.000, 5.000],  loss: --, mae: --, mean_q: --\n",
            " 44143/100000: episode: 57, duration: 8.169s, episode steps: 779, steps per second:  95, episode reward: 20.000, mean reward:  0.026 [ 0.000,  1.000], mean action: 2.556 [0.000, 5.000],  loss: --, mae: --, mean_q: --\n",
            " 44943/100000: episode: 58, duration: 8.732s, episode steps: 800, steps per second:  92, episode reward: 26.000, mean reward:  0.033 [ 0.000,  1.000], mean action: 2.396 [0.000, 5.000],  loss: --, mae: --, mean_q: --\n",
            " 45676/100000: episode: 59, duration: 7.976s, episode steps: 733, steps per second:  92, episode reward: 17.000, mean reward:  0.023 [ 0.000,  1.000], mean action: 2.083 [0.000, 5.000],  loss: --, mae: --, mean_q: --\n",
            " 46331/100000: episode: 60, duration: 6.871s, episode steps: 655, steps per second:  95, episode reward: 20.000, mean reward:  0.031 [ 0.000,  1.000], mean action: 2.843 [0.000, 5.000],  loss: --, mae: --, mean_q: --\n",
            " 47211/100000: episode: 61, duration: 9.398s, episode steps: 880, steps per second:  94, episode reward: 24.000, mean reward:  0.027 [ 0.000,  1.000], mean action: 2.744 [0.000, 5.000],  loss: --, mae: --, mean_q: --\n",
            " 47992/100000: episode: 62, duration: 8.284s, episode steps: 781, steps per second:  94, episode reward: 19.000, mean reward:  0.024 [ 0.000,  1.000], mean action: 2.653 [0.000, 5.000],  loss: --, mae: --, mean_q: --\n",
            " 48741/100000: episode: 63, duration: 7.828s, episode steps: 749, steps per second:  96, episode reward: 17.000, mean reward:  0.023 [ 0.000,  1.000], mean action: 2.474 [0.000, 5.000],  loss: --, mae: --, mean_q: --\n",
            " 49443/100000: episode: 64, duration: 7.550s, episode steps: 702, steps per second:  93, episode reward: 17.000, mean reward:  0.024 [ 0.000,  1.000], mean action: 2.682 [0.000, 5.000],  loss: --, mae: --, mean_q: --\n",
            " 50045/100000: episode: 65, duration: 8.744s, episode steps: 602, steps per second:  69, episode reward: 14.000, mean reward:  0.023 [ 0.000,  1.000], mean action: 2.651 [0.000, 5.000],  loss: 0.008602, mae: 1.770824, mean_q: 2.135254\n",
            " 50774/100000: episode: 66, duration: 36.885s, episode steps: 729, steps per second:  20, episode reward: 23.000, mean reward:  0.032 [ 0.000,  1.000], mean action: 2.298 [0.000, 5.000],  loss: 0.012031, mae: 1.791836, mean_q: 2.162140\n",
            " 51541/100000: episode: 67, duration: 38.905s, episode steps: 767, steps per second:  20, episode reward: 17.000, mean reward:  0.022 [ 0.000,  1.000], mean action: 2.486 [0.000, 5.000],  loss: 0.014700, mae: 1.837661, mean_q: 2.217119\n",
            " 52418/100000: episode: 68, duration: 43.652s, episode steps: 877, steps per second:  20, episode reward: 24.000, mean reward:  0.027 [ 0.000,  1.000], mean action: 2.265 [0.000, 5.000],  loss: 0.014499, mae: 1.844377, mean_q: 2.226009\n",
            " 53051/100000: episode: 69, duration: 31.661s, episode steps: 633, steps per second:  20, episode reward: 18.000, mean reward:  0.028 [ 0.000,  1.000], mean action: 2.882 [0.000, 5.000],  loss: 0.012803, mae: 1.837878, mean_q: 2.219582\n",
            " 53837/100000: episode: 70, duration: 38.942s, episode steps: 786, steps per second:  20, episode reward: 22.000, mean reward:  0.028 [ 0.000,  1.000], mean action: 2.457 [0.000, 5.000],  loss: 0.013819, mae: 1.815565, mean_q: 2.192151\n",
            " 54752/100000: episode: 71, duration: 45.333s, episode steps: 915, steps per second:  20, episode reward: 27.000, mean reward:  0.030 [ 0.000,  1.000], mean action: 2.457 [0.000, 5.000],  loss: 0.013886, mae: 1.836265, mean_q: 2.217005\n",
            " 55369/100000: episode: 72, duration: 30.754s, episode steps: 617, steps per second:  20, episode reward: 14.000, mean reward:  0.023 [ 0.000,  1.000], mean action: 2.582 [0.000, 5.000],  loss: 0.013503, mae: 1.854603, mean_q: 2.239524\n",
            " 55993/100000: episode: 73, duration: 31.040s, episode steps: 624, steps per second:  20, episode reward: 16.000, mean reward:  0.026 [ 0.000,  1.000], mean action: 2.272 [0.000, 5.000],  loss: 0.012534, mae: 1.811348, mean_q: 2.185872\n",
            " 56635/100000: episode: 74, duration: 31.705s, episode steps: 642, steps per second:  20, episode reward: 16.000, mean reward:  0.025 [ 0.000,  1.000], mean action: 1.992 [0.000, 5.000],  loss: 0.014352, mae: 1.826095, mean_q: 2.203577\n",
            " 57485/100000: episode: 75, duration: 42.480s, episode steps: 850, steps per second:  20, episode reward: 22.000, mean reward:  0.026 [ 0.000,  1.000], mean action: 1.836 [0.000, 5.000],  loss: 0.014372, mae: 1.841807, mean_q: 2.223968\n",
            " 58108/100000: episode: 76, duration: 31.055s, episode steps: 623, steps per second:  20, episode reward: 11.000, mean reward:  0.018 [ 0.000,  1.000], mean action: 3.035 [0.000, 5.000],  loss: 0.013768, mae: 1.852308, mean_q: 2.234436\n",
            " 58923/100000: episode: 77, duration: 40.787s, episode steps: 815, steps per second:  20, episode reward: 22.000, mean reward:  0.027 [ 0.000,  1.000], mean action: 2.442 [0.000, 5.000],  loss: 0.013838, mae: 1.843592, mean_q: 2.223189\n",
            " 59658/100000: episode: 78, duration: 36.725s, episode steps: 735, steps per second:  20, episode reward: 21.000, mean reward:  0.029 [ 0.000,  1.000], mean action: 2.192 [0.000, 5.000],  loss: 0.014115, mae: 1.842257, mean_q: 2.222380\n",
            " 60564/100000: episode: 79, duration: 45.823s, episode steps: 906, steps per second:  20, episode reward: 24.000, mean reward:  0.026 [ 0.000,  1.000], mean action: 1.859 [0.000, 5.000],  loss: 0.013380, mae: 1.857354, mean_q: 2.240560\n",
            " 61315/100000: episode: 80, duration: 37.004s, episode steps: 751, steps per second:  20, episode reward: 19.000, mean reward:  0.025 [ 0.000,  1.000], mean action: 2.407 [0.000, 5.000],  loss: 0.012710, mae: 1.854555, mean_q: 2.238768\n",
            " 62117/100000: episode: 81, duration: 40.004s, episode steps: 802, steps per second:  20, episode reward: 20.000, mean reward:  0.025 [ 0.000,  1.000], mean action: 2.401 [0.000, 5.000],  loss: 0.013802, mae: 1.846239, mean_q: 2.228004\n",
            " 62730/100000: episode: 82, duration: 30.598s, episode steps: 613, steps per second:  20, episode reward: 13.000, mean reward:  0.021 [ 0.000,  1.000], mean action: 2.883 [0.000, 5.000],  loss: 0.013788, mae: 1.856324, mean_q: 2.241288\n",
            " 63203/100000: episode: 83, duration: 23.708s, episode steps: 473, steps per second:  20, episode reward: 13.000, mean reward:  0.027 [ 0.000,  1.000], mean action: 2.514 [0.000, 5.000],  loss: 0.013529, mae: 1.871742, mean_q: 2.258044\n",
            " 63822/100000: episode: 84, duration: 31.205s, episode steps: 619, steps per second:  20, episode reward: 13.000, mean reward:  0.021 [ 0.000,  1.000], mean action: 2.286 [0.000, 5.000],  loss: 0.013977, mae: 1.854326, mean_q: 2.239490\n",
            " 64740/100000: episode: 85, duration: 45.548s, episode steps: 918, steps per second:  20, episode reward: 25.000, mean reward:  0.027 [ 0.000,  1.000], mean action: 2.705 [0.000, 5.000],  loss: 0.013017, mae: 1.845386, mean_q: 2.228468\n",
            " 65775/100000: episode: 86, duration: 51.671s, episode steps: 1035, steps per second:  20, episode reward: 30.000, mean reward:  0.029 [ 0.000,  1.000], mean action: 2.099 [0.000, 5.000],  loss: 0.012538, mae: 1.844111, mean_q: 2.226677\n",
            " 66397/100000: episode: 87, duration: 30.808s, episode steps: 622, steps per second:  20, episode reward: 21.000, mean reward:  0.034 [ 0.000,  1.000], mean action: 2.484 [0.000, 5.000],  loss: 0.016111, mae: 1.866152, mean_q: 2.250818\n",
            " 67471/100000: episode: 88, duration: 53.522s, episode steps: 1074, steps per second:  20, episode reward: 26.000, mean reward:  0.024 [ 0.000,  1.000], mean action: 2.452 [0.000, 5.000],  loss: 0.014405, mae: 1.843509, mean_q: 2.223492\n",
            " 68129/100000: episode: 89, duration: 32.584s, episode steps: 658, steps per second:  20, episode reward: 19.000, mean reward:  0.029 [ 0.000,  1.000], mean action: 2.705 [0.000, 5.000],  loss: 0.012982, mae: 1.862698, mean_q: 2.247631\n",
            " 69119/100000: episode: 90, duration: 49.490s, episode steps: 990, steps per second:  20, episode reward: 29.000, mean reward:  0.029 [ 0.000,  1.000], mean action: 1.961 [0.000, 5.000],  loss: 0.013679, mae: 1.837717, mean_q: 2.218384\n",
            " 69944/100000: episode: 91, duration: 41.221s, episode steps: 825, steps per second:  20, episode reward: 20.000, mean reward:  0.024 [ 0.000,  1.000], mean action: 2.310 [0.000, 5.000],  loss: 0.013983, mae: 1.854594, mean_q: 2.239210\n",
            " 70648/100000: episode: 92, duration: 36.162s, episode steps: 704, steps per second:  19, episode reward: 18.000, mean reward:  0.026 [ 0.000,  1.000], mean action: 2.736 [0.000, 5.000],  loss: 0.013870, mae: 1.844634, mean_q: 2.225815\n",
            " 71377/100000: episode: 93, duration: 36.237s, episode steps: 729, steps per second:  20, episode reward: 16.000, mean reward:  0.022 [ 0.000,  1.000], mean action: 2.257 [0.000, 5.000],  loss: 0.014103, mae: 1.873234, mean_q: 2.259042\n",
            " 72249/100000: episode: 94, duration: 43.499s, episode steps: 872, steps per second:  20, episode reward: 22.000, mean reward:  0.025 [ 0.000,  1.000], mean action: 2.486 [0.000, 5.000],  loss: 0.014621, mae: 1.866392, mean_q: 2.252710\n",
            " 72870/100000: episode: 95, duration: 30.964s, episode steps: 621, steps per second:  20, episode reward: 18.000, mean reward:  0.029 [ 0.000,  1.000], mean action: 2.145 [0.000, 5.000],  loss: 0.013727, mae: 1.886366, mean_q: 2.277126\n",
            " 73641/100000: episode: 96, duration: 38.798s, episode steps: 771, steps per second:  20, episode reward: 17.000, mean reward:  0.022 [ 0.000,  1.000], mean action: 2.438 [0.000, 5.000],  loss: 0.012961, mae: 1.862776, mean_q: 2.247679\n",
            " 74645/100000: episode: 97, duration: 50.083s, episode steps: 1004, steps per second:  20, episode reward: 24.000, mean reward:  0.024 [ 0.000,  1.000], mean action: 1.752 [0.000, 5.000],  loss: 0.013349, mae: 1.864506, mean_q: 2.249765\n",
            " 75464/100000: episode: 98, duration: 41.237s, episode steps: 819, steps per second:  20, episode reward: 20.000, mean reward:  0.024 [ 0.000,  1.000], mean action: 1.938 [0.000, 5.000],  loss: 0.012983, mae: 1.865665, mean_q: 2.251201\n",
            " 76016/100000: episode: 99, duration: 28.206s, episode steps: 552, steps per second:  20, episode reward: 14.000, mean reward:  0.025 [ 0.000,  1.000], mean action: 3.011 [0.000, 5.000],  loss: 0.015676, mae: 1.852700, mean_q: 2.234121\n",
            " 76589/100000: episode: 100, duration: 28.879s, episode steps: 573, steps per second:  20, episode reward: 10.000, mean reward:  0.017 [ 0.000,  1.000], mean action: 1.667 [0.000, 5.000],  loss: 0.013007, mae: 1.857203, mean_q: 2.241802\n",
            " 77707/100000: episode: 101, duration: 56.545s, episode steps: 1118, steps per second:  20, episode reward: 25.000, mean reward:  0.022 [ 0.000,  1.000], mean action: 2.514 [0.000, 5.000],  loss: 0.013435, mae: 1.858721, mean_q: 2.243885\n",
            " 78598/100000: episode: 102, duration: 45.278s, episode steps: 891, steps per second:  20, episode reward: 19.000, mean reward:  0.021 [ 0.000,  1.000], mean action: 2.621 [0.000, 5.000],  loss: 0.013774, mae: 1.864297, mean_q: 2.250859\n",
            " 79207/100000: episode: 103, duration: 30.791s, episode steps: 609, steps per second:  20, episode reward: 10.000, mean reward:  0.016 [ 0.000,  1.000], mean action: 2.568 [0.000, 5.000],  loss: 0.012328, mae: 1.869272, mean_q: 2.254990\n",
            " 80288/100000: episode: 104, duration: 55.697s, episode steps: 1081, steps per second:  19, episode reward: 28.000, mean reward:  0.026 [ 0.000,  1.000], mean action: 2.068 [0.000, 5.000],  loss: 0.012880, mae: 1.878989, mean_q: 2.267945\n",
            " 80910/100000: episode: 105, duration: 31.646s, episode steps: 622, steps per second:  20, episode reward: 14.000, mean reward:  0.023 [ 0.000,  1.000], mean action: 2.592 [0.000, 5.000],  loss: 0.012748, mae: 1.871997, mean_q: 2.259737\n",
            " 81789/100000: episode: 106, duration: 44.725s, episode steps: 879, steps per second:  20, episode reward: 19.000, mean reward:  0.022 [ 0.000,  1.000], mean action: 2.581 [0.000, 5.000],  loss: 0.012609, mae: 1.879963, mean_q: 2.271216\n",
            " 82590/100000: episode: 107, duration: 40.377s, episode steps: 801, steps per second:  20, episode reward: 22.000, mean reward:  0.027 [ 0.000,  1.000], mean action: 2.635 [0.000, 5.000],  loss: 0.013731, mae: 1.887647, mean_q: 2.277154\n",
            " 83351/100000: episode: 108, duration: 37.892s, episode steps: 761, steps per second:  20, episode reward: 21.000, mean reward:  0.028 [ 0.000,  1.000], mean action: 1.959 [0.000, 5.000],  loss: 0.013526, mae: 1.903425, mean_q: 2.298450\n",
            " 84005/100000: episode: 109, duration: 32.667s, episode steps: 654, steps per second:  20, episode reward: 15.000, mean reward:  0.023 [ 0.000,  1.000], mean action: 2.046 [0.000, 5.000],  loss: 0.013652, mae: 1.888977, mean_q: 2.279828\n",
            " 85342/100000: episode: 110, duration: 67.105s, episode steps: 1337, steps per second:  20, episode reward: 33.000, mean reward:  0.025 [ 0.000,  1.000], mean action: 2.740 [0.000, 5.000],  loss: 0.013642, mae: 1.883691, mean_q: 2.274512\n",
            " 86287/100000: episode: 111, duration: 47.140s, episode steps: 945, steps per second:  20, episode reward: 28.000, mean reward:  0.030 [ 0.000,  1.000], mean action: 2.763 [0.000, 5.000],  loss: 0.012756, mae: 1.869635, mean_q: 2.256870\n",
            " 86964/100000: episode: 112, duration: 33.994s, episode steps: 677, steps per second:  20, episode reward: 14.000, mean reward:  0.021 [ 0.000,  1.000], mean action: 2.232 [0.000, 5.000],  loss: 0.013317, mae: 1.897231, mean_q: 2.290543\n",
            " 88104/100000: episode: 113, duration: 57.484s, episode steps: 1140, steps per second:  20, episode reward: 26.000, mean reward:  0.023 [ 0.000,  1.000], mean action: 1.638 [0.000, 5.000],  loss: 0.013205, mae: 1.861170, mean_q: 2.246018\n",
            " 88475/100000: episode: 114, duration: 18.681s, episode steps: 371, steps per second:  20, episode reward:  8.000, mean reward:  0.022 [ 0.000,  1.000], mean action: 2.253 [0.000, 5.000],  loss: 0.014770, mae: 1.879146, mean_q: 2.267432\n",
            " 89186/100000: episode: 115, duration: 35.685s, episode steps: 711, steps per second:  20, episode reward: 13.000, mean reward:  0.018 [ 0.000,  1.000], mean action: 2.741 [0.000, 5.000],  loss: 0.013302, mae: 1.875463, mean_q: 2.263882\n",
            " 89888/100000: episode: 116, duration: 35.061s, episode steps: 702, steps per second:  20, episode reward: 15.000, mean reward:  0.021 [ 0.000,  1.000], mean action: 2.030 [0.000, 5.000],  loss: 0.014532, mae: 1.888852, mean_q: 2.279426\n",
            " 90735/100000: episode: 117, duration: 43.301s, episode steps: 847, steps per second:  20, episode reward: 21.000, mean reward:  0.025 [ 0.000,  1.000], mean action: 2.777 [0.000, 5.000],  loss: 0.012323, mae: 1.886869, mean_q: 2.278123\n",
            " 91387/100000: episode: 118, duration: 32.948s, episode steps: 652, steps per second:  20, episode reward: 17.000, mean reward:  0.026 [ 0.000,  1.000], mean action: 3.092 [0.000, 5.000],  loss: 0.013706, mae: 1.882952, mean_q: 2.274407\n",
            " 91874/100000: episode: 119, duration: 26.082s, episode steps: 487, steps per second:  19, episode reward: 10.000, mean reward:  0.021 [ 0.000,  1.000], mean action: 2.990 [0.000, 5.000],  loss: 0.013179, mae: 1.912097, mean_q: 2.308292\n",
            " 92408/100000: episode: 120, duration: 27.466s, episode steps: 534, steps per second:  19, episode reward: 11.000, mean reward:  0.021 [ 0.000,  1.000], mean action: 2.654 [0.000, 5.000],  loss: 0.012081, mae: 1.891059, mean_q: 2.284162\n",
            " 92970/100000: episode: 121, duration: 28.981s, episode steps: 562, steps per second:  19, episode reward: 11.000, mean reward:  0.020 [ 0.000,  1.000], mean action: 2.201 [0.000, 5.000],  loss: 0.013033, mae: 1.887350, mean_q: 2.278179\n",
            " 93540/100000: episode: 122, duration: 29.257s, episode steps: 570, steps per second:  19, episode reward: 10.000, mean reward:  0.018 [ 0.000,  1.000], mean action: 1.688 [0.000, 5.000],  loss: 0.013459, mae: 1.885276, mean_q: 2.277916\n",
            " 94329/100000: episode: 123, duration: 40.317s, episode steps: 789, steps per second:  20, episode reward: 21.000, mean reward:  0.027 [ 0.000,  1.000], mean action: 2.498 [0.000, 5.000],  loss: 0.013869, mae: 1.899584, mean_q: 2.294408\n",
            " 95157/100000: episode: 124, duration: 41.813s, episode steps: 828, steps per second:  20, episode reward: 21.000, mean reward:  0.025 [ 0.000,  1.000], mean action: 2.034 [0.000, 5.000],  loss: 0.012847, mae: 1.889415, mean_q: 2.280183\n",
            " 95925/100000: episode: 125, duration: 38.761s, episode steps: 768, steps per second:  20, episode reward: 20.000, mean reward:  0.026 [ 0.000,  1.000], mean action: 2.025 [0.000, 5.000],  loss: 0.012974, mae: 1.891854, mean_q: 2.283473\n",
            " 96580/100000: episode: 126, duration: 33.370s, episode steps: 655, steps per second:  20, episode reward: 15.000, mean reward:  0.023 [ 0.000,  1.000], mean action: 2.301 [0.000, 5.000],  loss: 0.012753, mae: 1.874315, mean_q: 2.261747\n",
            " 97150/100000: episode: 127, duration: 28.990s, episode steps: 570, steps per second:  20, episode reward: 17.000, mean reward:  0.030 [ 0.000,  1.000], mean action: 2.337 [0.000, 5.000],  loss: 0.014447, mae: 1.904521, mean_q: 2.299732\n",
            " 97839/100000: episode: 128, duration: 34.860s, episode steps: 689, steps per second:  20, episode reward: 16.000, mean reward:  0.023 [ 0.000,  1.000], mean action: 2.702 [0.000, 5.000],  loss: 0.014212, mae: 1.916017, mean_q: 2.313139\n",
            " 98819/100000: episode: 129, duration: 49.506s, episode steps: 980, steps per second:  20, episode reward: 28.000, mean reward:  0.029 [ 0.000,  1.000], mean action: 1.890 [0.000, 5.000],  loss: 0.012535, mae: 1.893365, mean_q: 2.287862\n",
            " 99599/100000: episode: 130, duration: 39.555s, episode steps: 780, steps per second:  20, episode reward: 18.000, mean reward:  0.023 [ 0.000,  1.000], mean action: 2.074 [0.000, 5.000],  loss: 0.015399, mae: 1.887244, mean_q: 2.279924\n",
            "done, took 3066.067 seconds\n"
          ]
        }
      ]
    },
    {
      "cell_type": "code",
      "source": [
        "# Guardar la memoria de experiencia\n",
        "import pickle\n",
        "with open('memory_noisy.pkl', 'wb') as f:\n",
        "    pickle.dump(memory, f)\n",
        "\n",
        "print(f\"Entrenamiento hasta {total_steps} pasos completado y guardado.\")"
      ],
      "metadata": {
        "id": "pa8rDtcVFBi_",
        "colab": {
          "base_uri": "https://localhost:8080/"
        },
        "outputId": "42bf2227-c996-4f35-e278-edfc1aa1b4b8"
      },
      "execution_count": 51,
      "outputs": [
        {
          "output_type": "stream",
          "name": "stdout",
          "text": [
            "Entrenamiento hasta 1900000 pasos completado y guardado.\n"
          ]
        }
      ]
    },
    {
      "cell_type": "code",
      "source": [
        "import time\n",
        "\n",
        "print(\"Esperando 60 segundos...\")\n",
        "time.sleep(60)\n",
        "print(\"¡Tiempo de espera terminado!\")"
      ],
      "metadata": {
        "id": "IKHeA7-tFBxR"
      },
      "execution_count": null,
      "outputs": []
    },
    {
      "cell_type": "code",
      "source": [
        "# Testear desde último checkpoint\n",
        "latest_path, trained_steps = load_latest_weights(dqn, checkpoint_dir)\n",
        "if latest_path:\n",
        "    dqn.test(env, nb_episodes=10, visualize=False)"
      ],
      "metadata": {
        "id": "qSQZd9K6FCA2",
        "colab": {
          "base_uri": "https://localhost:8080/"
        },
        "outputId": "e35f8136-0638-4858-c95b-3ccdf19e7724"
      },
      "execution_count": 53,
      "outputs": [
        {
          "output_type": "stream",
          "name": "stdout",
          "text": [
            "✅ Cargando pesos desde: /content/gdrive/My Drive/MODELO 14/checkpoints/dqn_noisy_weights_1900000.h5 (pasos entrenados: 1900000)\n",
            "Testing for 10 episodes ...\n",
            "Episode 1: reward: 13.000, steps: 509\n",
            "Episode 2: reward: 17.000, steps: 689\n",
            "Episode 3: reward: 13.000, steps: 499\n",
            "Episode 4: reward: 27.000, steps: 897\n",
            "Episode 5: reward: 12.000, steps: 579\n",
            "Episode 6: reward: 15.000, steps: 752\n",
            "Episode 7: reward: 13.000, steps: 688\n",
            "Episode 8: reward: 30.000, steps: 1257\n",
            "Episode 9: reward: 16.000, steps: 579\n",
            "Episode 10: reward: 25.000, steps: 863\n"
          ]
        }
      ]
    },
    {
      "cell_type": "markdown",
      "source": [
        "Parte 11"
      ],
      "metadata": {
        "id": "L1aYLRfaFCpa"
      }
    },
    {
      "cell_type": "code",
      "source": [
        "# Cargar pesos anteriores si existen\n",
        "latest_path, trained_steps = load_latest_weights(dqn, checkpoint_dir)\n",
        "if latest_path:\n",
        "    dqn.load_weights(latest_path)\n",
        "else:\n",
        "    trained_steps = 0\n",
        "\n",
        "# Definir pasos a entrenar\n",
        "steps_to_train = 100000\n",
        "total_steps = trained_steps + steps_to_train\n",
        "\n",
        "# Crear paths y callbacks dinámicos\n",
        "log_path = os.path.join(log_dir, f\"dqn_noisy_log_{trained_steps}_{total_steps}.json\")\n",
        "checkpoint_path = os.path.join(checkpoint_dir, f\"dqn_noisy_weights_{total_steps}.h5\")\n",
        "\n",
        "logger_callback = FileLogger(log_path, interval=100)\n",
        "checkpoint_callback = ModelIntervalCheckpoint(checkpoint_path, interval=10000)\n",
        "\n",
        "# Entrenar agente\n",
        "dqn.fit(env, nb_steps=steps_to_train, visualize=False, verbose=2,\n",
        "        callbacks=[checkpoint_callback, logger_callback])\n",
        "\n",
        "# Guardar pesos finales\n",
        "dqn.save_weights(checkpoint_path, overwrite=True)"
      ],
      "metadata": {
        "id": "txtlGBLYFD3M",
        "colab": {
          "base_uri": "https://localhost:8080/"
        },
        "outputId": "a4204285-ae20-431f-eeb4-7394b9ee1e6b"
      },
      "execution_count": 54,
      "outputs": [
        {
          "output_type": "stream",
          "name": "stdout",
          "text": [
            "✅ Cargando pesos desde: /content/gdrive/My Drive/MODELO 14/checkpoints/dqn_noisy_weights_1900000.h5 (pasos entrenados: 1900000)\n",
            "Training for 100000 steps ...\n",
            "   693/100000: episode: 1, duration: 7.443s, episode steps: 693, steps per second:  93, episode reward: 19.000, mean reward:  0.027 [ 0.000,  1.000], mean action: 1.749 [0.000, 5.000],  loss: --, mae: --, mean_q: --\n",
            "  1547/100000: episode: 2, duration: 8.892s, episode steps: 854, steps per second:  96, episode reward: 21.000, mean reward:  0.025 [ 0.000,  1.000], mean action: 1.957 [0.000, 5.000],  loss: --, mae: --, mean_q: --\n",
            "  2459/100000: episode: 3, duration: 9.466s, episode steps: 912, steps per second:  96, episode reward: 25.000, mean reward:  0.027 [ 0.000,  1.000], mean action: 1.830 [0.000, 5.000],  loss: --, mae: --, mean_q: --\n",
            "  3302/100000: episode: 4, duration: 8.963s, episode steps: 843, steps per second:  94, episode reward: 21.000, mean reward:  0.025 [ 0.000,  1.000], mean action: 2.006 [0.000, 5.000],  loss: --, mae: --, mean_q: --\n",
            "  4185/100000: episode: 5, duration: 9.367s, episode steps: 883, steps per second:  94, episode reward: 21.000, mean reward:  0.024 [ 0.000,  1.000], mean action: 1.536 [0.000, 5.000],  loss: --, mae: --, mean_q: --\n",
            "  5150/100000: episode: 6, duration: 10.087s, episode steps: 965, steps per second:  96, episode reward: 29.000, mean reward:  0.030 [ 0.000,  1.000], mean action: 1.565 [0.000, 5.000],  loss: --, mae: --, mean_q: --\n",
            "  5828/100000: episode: 7, duration: 7.064s, episode steps: 678, steps per second:  96, episode reward: 15.000, mean reward:  0.022 [ 0.000,  1.000], mean action: 1.586 [0.000, 5.000],  loss: --, mae: --, mean_q: --\n",
            "  6795/100000: episode: 8, duration: 10.201s, episode steps: 967, steps per second:  95, episode reward: 20.000, mean reward:  0.021 [ 0.000,  1.000], mean action: 1.937 [0.000, 5.000],  loss: --, mae: --, mean_q: --\n",
            "  7470/100000: episode: 9, duration: 7.027s, episode steps: 675, steps per second:  96, episode reward: 15.000, mean reward:  0.022 [ 0.000,  1.000], mean action: 1.801 [0.000, 5.000],  loss: --, mae: --, mean_q: --\n",
            "  8211/100000: episode: 10, duration: 7.924s, episode steps: 741, steps per second:  94, episode reward: 15.000, mean reward:  0.020 [ 0.000,  1.000], mean action: 1.779 [0.000, 5.000],  loss: --, mae: --, mean_q: --\n",
            "  9272/100000: episode: 11, duration: 11.053s, episode steps: 1061, steps per second:  96, episode reward: 27.000, mean reward:  0.025 [ 0.000,  1.000], mean action: 1.631 [0.000, 5.000],  loss: --, mae: --, mean_q: --\n",
            " 10583/100000: episode: 12, duration: 13.706s, episode steps: 1311, steps per second:  96, episode reward: 29.000, mean reward:  0.022 [ 0.000,  1.000], mean action: 2.054 [0.000, 5.000],  loss: --, mae: --, mean_q: --\n",
            " 11414/100000: episode: 13, duration: 8.938s, episode steps: 831, steps per second:  93, episode reward: 21.000, mean reward:  0.025 [ 0.000,  1.000], mean action: 1.610 [0.000, 5.000],  loss: --, mae: --, mean_q: --\n",
            " 12229/100000: episode: 14, duration: 8.386s, episode steps: 815, steps per second:  97, episode reward: 18.000, mean reward:  0.022 [ 0.000,  1.000], mean action: 1.739 [0.000, 5.000],  loss: --, mae: --, mean_q: --\n",
            " 13081/100000: episode: 15, duration: 8.989s, episode steps: 852, steps per second:  95, episode reward: 26.000, mean reward:  0.031 [ 0.000,  1.000], mean action: 1.644 [0.000, 5.000],  loss: --, mae: --, mean_q: --\n",
            " 13660/100000: episode: 16, duration: 6.178s, episode steps: 579, steps per second:  94, episode reward: 13.000, mean reward:  0.022 [ 0.000,  1.000], mean action: 1.748 [0.000, 5.000],  loss: --, mae: --, mean_q: --\n",
            " 14598/100000: episode: 17, duration: 9.844s, episode steps: 938, steps per second:  95, episode reward: 22.000, mean reward:  0.023 [ 0.000,  1.000], mean action: 1.875 [0.000, 5.000],  loss: --, mae: --, mean_q: --\n",
            " 15249/100000: episode: 18, duration: 7.252s, episode steps: 651, steps per second:  90, episode reward: 15.000, mean reward:  0.023 [ 0.000,  1.000], mean action: 1.831 [0.000, 5.000],  loss: --, mae: --, mean_q: --\n",
            " 15878/100000: episode: 19, duration: 6.875s, episode steps: 629, steps per second:  91, episode reward: 16.000, mean reward:  0.025 [ 0.000,  1.000], mean action: 1.693 [0.000, 5.000],  loss: --, mae: --, mean_q: --\n",
            " 17090/100000: episode: 20, duration: 13.135s, episode steps: 1212, steps per second:  92, episode reward: 27.000, mean reward:  0.022 [ 0.000,  1.000], mean action: 1.900 [0.000, 5.000],  loss: --, mae: --, mean_q: --\n",
            " 17597/100000: episode: 21, duration: 5.537s, episode steps: 507, steps per second:  92, episode reward: 12.000, mean reward:  0.024 [ 0.000,  1.000], mean action: 1.736 [0.000, 5.000],  loss: --, mae: --, mean_q: --\n",
            " 18079/100000: episode: 22, duration: 5.061s, episode steps: 482, steps per second:  95, episode reward: 15.000, mean reward:  0.031 [ 0.000,  1.000], mean action: 1.730 [0.000, 5.000],  loss: --, mae: --, mean_q: --\n",
            " 19313/100000: episode: 23, duration: 12.912s, episode steps: 1234, steps per second:  96, episode reward: 30.000, mean reward:  0.024 [ 0.000,  1.000], mean action: 1.934 [0.000, 5.000],  loss: --, mae: --, mean_q: --\n",
            " 20235/100000: episode: 24, duration: 10.981s, episode steps: 922, steps per second:  84, episode reward: 27.000, mean reward:  0.029 [ 0.000,  1.000], mean action: 1.791 [0.000, 5.000],  loss: --, mae: --, mean_q: --\n",
            " 20661/100000: episode: 25, duration: 4.595s, episode steps: 426, steps per second:  93, episode reward: 10.000, mean reward:  0.023 [ 0.000,  1.000], mean action: 1.469 [0.000, 5.000],  loss: --, mae: --, mean_q: --\n",
            " 21575/100000: episode: 26, duration: 9.638s, episode steps: 914, steps per second:  95, episode reward: 28.000, mean reward:  0.031 [ 0.000,  1.000], mean action: 1.893 [0.000, 5.000],  loss: --, mae: --, mean_q: --\n",
            " 22049/100000: episode: 27, duration: 5.250s, episode steps: 474, steps per second:  90, episode reward:  8.000, mean reward:  0.017 [ 0.000,  1.000], mean action: 1.848 [0.000, 5.000],  loss: --, mae: --, mean_q: --\n",
            " 22763/100000: episode: 28, duration: 7.538s, episode steps: 714, steps per second:  95, episode reward: 15.000, mean reward:  0.021 [ 0.000,  1.000], mean action: 1.749 [0.000, 5.000],  loss: --, mae: --, mean_q: --\n",
            " 23571/100000: episode: 29, duration: 8.718s, episode steps: 808, steps per second:  93, episode reward: 21.000, mean reward:  0.026 [ 0.000,  1.000], mean action: 2.009 [0.000, 5.000],  loss: --, mae: --, mean_q: --\n",
            " 24306/100000: episode: 30, duration: 8.079s, episode steps: 735, steps per second:  91, episode reward: 18.000, mean reward:  0.024 [ 0.000,  1.000], mean action: 1.770 [0.000, 5.000],  loss: --, mae: --, mean_q: --\n",
            " 25178/100000: episode: 31, duration: 9.135s, episode steps: 872, steps per second:  95, episode reward: 26.000, mean reward:  0.030 [ 0.000,  1.000], mean action: 1.753 [0.000, 5.000],  loss: --, mae: --, mean_q: --\n",
            " 25869/100000: episode: 32, duration: 7.449s, episode steps: 691, steps per second:  93, episode reward: 15.000, mean reward:  0.022 [ 0.000,  1.000], mean action: 1.916 [0.000, 5.000],  loss: --, mae: --, mean_q: --\n",
            " 26389/100000: episode: 33, duration: 5.504s, episode steps: 520, steps per second:  94, episode reward: 13.000, mean reward:  0.025 [ 0.000,  1.000], mean action: 1.767 [0.000, 5.000],  loss: --, mae: --, mean_q: --\n",
            " 26765/100000: episode: 34, duration: 4.212s, episode steps: 376, steps per second:  89, episode reward:  6.000, mean reward:  0.016 [ 0.000,  1.000], mean action: 1.742 [0.000, 5.000],  loss: --, mae: --, mean_q: --\n",
            " 27416/100000: episode: 35, duration: 6.801s, episode steps: 651, steps per second:  96, episode reward: 15.000, mean reward:  0.023 [ 0.000,  1.000], mean action: 1.659 [0.000, 5.000],  loss: --, mae: --, mean_q: --\n",
            " 28189/100000: episode: 36, duration: 8.291s, episode steps: 773, steps per second:  93, episode reward: 18.000, mean reward:  0.023 [ 0.000,  1.000], mean action: 2.018 [0.000, 5.000],  loss: --, mae: --, mean_q: --\n",
            " 28931/100000: episode: 37, duration: 7.707s, episode steps: 742, steps per second:  96, episode reward: 18.000, mean reward:  0.024 [ 0.000,  1.000], mean action: 1.646 [0.000, 5.000],  loss: --, mae: --, mean_q: --\n",
            " 29939/100000: episode: 38, duration: 10.659s, episode steps: 1008, steps per second:  95, episode reward: 27.000, mean reward:  0.027 [ 0.000,  1.000], mean action: 2.004 [0.000, 5.000],  loss: --, mae: --, mean_q: --\n",
            " 30447/100000: episode: 39, duration: 6.401s, episode steps: 508, steps per second:  79, episode reward: 12.000, mean reward:  0.024 [ 0.000,  1.000], mean action: 1.573 [0.000, 5.000],  loss: --, mae: --, mean_q: --\n",
            " 31347/100000: episode: 40, duration: 9.525s, episode steps: 900, steps per second:  94, episode reward: 18.000, mean reward:  0.020 [ 0.000,  1.000], mean action: 2.100 [0.000, 5.000],  loss: --, mae: --, mean_q: --\n",
            " 32081/100000: episode: 41, duration: 7.720s, episode steps: 734, steps per second:  95, episode reward: 21.000, mean reward:  0.029 [ 0.000,  1.000], mean action: 2.005 [0.000, 5.000],  loss: --, mae: --, mean_q: --\n",
            " 33071/100000: episode: 42, duration: 10.598s, episode steps: 990, steps per second:  93, episode reward: 27.000, mean reward:  0.027 [ 0.000,  1.000], mean action: 1.696 [0.000, 5.000],  loss: --, mae: --, mean_q: --\n",
            " 34088/100000: episode: 43, duration: 10.810s, episode steps: 1017, steps per second:  94, episode reward: 29.000, mean reward:  0.029 [ 0.000,  1.000], mean action: 2.018 [0.000, 5.000],  loss: --, mae: --, mean_q: --\n",
            " 35225/100000: episode: 44, duration: 12.066s, episode steps: 1137, steps per second:  94, episode reward: 29.000, mean reward:  0.026 [ 0.000,  1.000], mean action: 1.904 [0.000, 5.000],  loss: --, mae: --, mean_q: --\n",
            " 36213/100000: episode: 45, duration: 10.430s, episode steps: 988, steps per second:  95, episode reward: 24.000, mean reward:  0.024 [ 0.000,  1.000], mean action: 1.841 [0.000, 5.000],  loss: --, mae: --, mean_q: --\n",
            " 37004/100000: episode: 46, duration: 8.209s, episode steps: 791, steps per second:  96, episode reward: 22.000, mean reward:  0.028 [ 0.000,  1.000], mean action: 1.595 [0.000, 5.000],  loss: --, mae: --, mean_q: --\n",
            " 37892/100000: episode: 47, duration: 9.454s, episode steps: 888, steps per second:  94, episode reward: 21.000, mean reward:  0.024 [ 0.000,  1.000], mean action: 1.946 [0.000, 5.000],  loss: --, mae: --, mean_q: --\n",
            " 38508/100000: episode: 48, duration: 6.472s, episode steps: 616, steps per second:  95, episode reward: 16.000, mean reward:  0.026 [ 0.000,  1.000], mean action: 1.935 [0.000, 5.000],  loss: --, mae: --, mean_q: --\n",
            " 38887/100000: episode: 49, duration: 4.107s, episode steps: 379, steps per second:  92, episode reward:  6.000, mean reward:  0.016 [ 0.000,  1.000], mean action: 1.720 [0.000, 5.000],  loss: --, mae: --, mean_q: --\n",
            " 39476/100000: episode: 50, duration: 6.041s, episode steps: 589, steps per second:  98, episode reward: 13.000, mean reward:  0.022 [ 0.000,  1.000], mean action: 1.528 [0.000, 5.000],  loss: --, mae: --, mean_q: --\n",
            " 40177/100000: episode: 51, duration: 8.278s, episode steps: 701, steps per second:  85, episode reward: 15.000, mean reward:  0.021 [ 0.000,  1.000], mean action: 2.117 [0.000, 5.000],  loss: --, mae: --, mean_q: --\n",
            " 41100/100000: episode: 52, duration: 9.974s, episode steps: 923, steps per second:  93, episode reward: 30.000, mean reward:  0.033 [ 0.000,  1.000], mean action: 2.125 [0.000, 5.000],  loss: --, mae: --, mean_q: --\n",
            " 41689/100000: episode: 53, duration: 6.111s, episode steps: 589, steps per second:  96, episode reward: 12.000, mean reward:  0.020 [ 0.000,  1.000], mean action: 1.713 [0.000, 5.000],  loss: --, mae: --, mean_q: --\n",
            " 42574/100000: episode: 54, duration: 9.420s, episode steps: 885, steps per second:  94, episode reward: 20.000, mean reward:  0.023 [ 0.000,  1.000], mean action: 1.786 [0.000, 5.000],  loss: --, mae: --, mean_q: --\n",
            " 43272/100000: episode: 55, duration: 7.378s, episode steps: 698, steps per second:  95, episode reward: 19.000, mean reward:  0.027 [ 0.000,  1.000], mean action: 1.509 [0.000, 5.000],  loss: --, mae: --, mean_q: --\n",
            " 43862/100000: episode: 56, duration: 6.245s, episode steps: 590, steps per second:  94, episode reward: 15.000, mean reward:  0.025 [ 0.000,  1.000], mean action: 1.476 [0.000, 5.000],  loss: --, mae: --, mean_q: --\n",
            " 44794/100000: episode: 57, duration: 9.838s, episode steps: 932, steps per second:  95, episode reward: 22.000, mean reward:  0.024 [ 0.000,  1.000], mean action: 2.005 [0.000, 5.000],  loss: --, mae: --, mean_q: --\n",
            " 45915/100000: episode: 58, duration: 11.875s, episode steps: 1121, steps per second:  94, episode reward: 27.000, mean reward:  0.024 [ 0.000,  1.000], mean action: 1.864 [0.000, 5.000],  loss: --, mae: --, mean_q: --\n",
            " 46432/100000: episode: 59, duration: 5.384s, episode steps: 517, steps per second:  96, episode reward: 14.000, mean reward:  0.027 [ 0.000,  1.000], mean action: 1.634 [0.000, 5.000],  loss: --, mae: --, mean_q: --\n",
            " 46905/100000: episode: 60, duration: 5.033s, episode steps: 473, steps per second:  94, episode reward: 13.000, mean reward:  0.027 [ 0.000,  1.000], mean action: 1.632 [0.000, 5.000],  loss: --, mae: --, mean_q: --\n",
            " 47769/100000: episode: 61, duration: 9.002s, episode steps: 864, steps per second:  96, episode reward: 20.000, mean reward:  0.023 [ 0.000,  1.000], mean action: 1.850 [0.000, 5.000],  loss: --, mae: --, mean_q: --\n",
            " 48679/100000: episode: 62, duration: 9.695s, episode steps: 910, steps per second:  94, episode reward: 27.000, mean reward:  0.030 [ 0.000,  1.000], mean action: 1.914 [0.000, 5.000],  loss: --, mae: --, mean_q: --\n",
            " 49381/100000: episode: 63, duration: 7.456s, episode steps: 702, steps per second:  94, episode reward: 11.000, mean reward:  0.016 [ 0.000,  1.000], mean action: 1.795 [0.000, 5.000],  loss: --, mae: --, mean_q: --\n",
            " 50405/100000: episode: 64, duration: 28.085s, episode steps: 1024, steps per second:  36, episode reward: 27.000, mean reward:  0.026 [ 0.000,  1.000], mean action: 1.992 [0.000, 5.000],  loss: 0.013861, mae: 1.930277, mean_q: 2.332223\n",
            " 51284/100000: episode: 65, duration: 46.140s, episode steps: 879, steps per second:  19, episode reward: 26.000, mean reward:  0.030 [ 0.000,  1.000], mean action: 2.637 [0.000, 5.000],  loss: 0.014503, mae: 1.915554, mean_q: 2.312608\n",
            " 52029/100000: episode: 66, duration: 38.036s, episode steps: 745, steps per second:  20, episode reward: 16.000, mean reward:  0.021 [ 0.000,  1.000], mean action: 2.365 [0.000, 5.000],  loss: 0.014866, mae: 1.941194, mean_q: 2.344085\n",
            " 53010/100000: episode: 67, duration: 50.058s, episode steps: 981, steps per second:  20, episode reward: 24.000, mean reward:  0.024 [ 0.000,  1.000], mean action: 1.628 [0.000, 5.000],  loss: 0.013571, mae: 1.892504, mean_q: 2.286859\n",
            " 53693/100000: episode: 68, duration: 34.765s, episode steps: 683, steps per second:  20, episode reward: 14.000, mean reward:  0.020 [ 0.000,  1.000], mean action: 1.933 [0.000, 5.000],  loss: 0.013986, mae: 1.961492, mean_q: 2.369211\n",
            " 54543/100000: episode: 69, duration: 43.066s, episode steps: 850, steps per second:  20, episode reward: 20.000, mean reward:  0.024 [ 0.000,  1.000], mean action: 2.420 [0.000, 5.000],  loss: 0.014435, mae: 1.926943, mean_q: 2.327090\n",
            " 55029/100000: episode: 70, duration: 24.796s, episode steps: 486, steps per second:  20, episode reward: 12.000, mean reward:  0.025 [ 0.000,  1.000], mean action: 3.029 [0.000, 5.000],  loss: 0.012906, mae: 1.926213, mean_q: 2.326045\n",
            " 56185/100000: episode: 71, duration: 58.421s, episode steps: 1156, steps per second:  20, episode reward: 32.000, mean reward:  0.028 [ 0.000,  1.000], mean action: 2.026 [0.000, 5.000],  loss: 0.014364, mae: 1.939248, mean_q: 2.339904\n",
            " 56881/100000: episode: 72, duration: 35.173s, episode steps: 696, steps per second:  20, episode reward: 22.000, mean reward:  0.032 [ 0.000,  1.000], mean action: 2.540 [0.000, 5.000],  loss: 0.014487, mae: 1.931162, mean_q: 2.332232\n",
            " 57816/100000: episode: 73, duration: 47.329s, episode steps: 935, steps per second:  20, episode reward: 22.000, mean reward:  0.024 [ 0.000,  1.000], mean action: 2.000 [0.000, 5.000],  loss: 0.013302, mae: 1.936350, mean_q: 2.337624\n",
            " 58315/100000: episode: 74, duration: 25.213s, episode steps: 499, steps per second:  20, episode reward: 10.000, mean reward:  0.020 [ 0.000,  1.000], mean action: 2.224 [0.000, 5.000],  loss: 0.012960, mae: 1.920646, mean_q: 2.319448\n",
            " 59077/100000: episode: 75, duration: 38.632s, episode steps: 762, steps per second:  20, episode reward: 22.000, mean reward:  0.029 [ 0.000,  1.000], mean action: 2.349 [0.000, 5.000],  loss: 0.013350, mae: 1.921638, mean_q: 2.318740\n",
            " 59567/100000: episode: 76, duration: 24.519s, episode steps: 490, steps per second:  20, episode reward: 10.000, mean reward:  0.020 [ 0.000,  1.000], mean action: 2.655 [0.000, 5.000],  loss: 0.015854, mae: 1.919554, mean_q: 2.317386\n",
            " 60420/100000: episode: 77, duration: 44.115s, episode steps: 853, steps per second:  19, episode reward: 22.000, mean reward:  0.026 [ 0.000,  1.000], mean action: 1.964 [0.000, 5.000],  loss: 0.015500, mae: 1.926889, mean_q: 2.325618\n",
            " 61748/100000: episode: 78, duration: 67.382s, episode steps: 1328, steps per second:  20, episode reward: 32.000, mean reward:  0.024 [ 0.000,  1.000], mean action: 1.974 [0.000, 5.000],  loss: 0.013170, mae: 1.929812, mean_q: 2.329527\n",
            " 62468/100000: episode: 79, duration: 36.694s, episode steps: 720, steps per second:  20, episode reward: 15.000, mean reward:  0.021 [ 0.000,  1.000], mean action: 2.022 [0.000, 5.000],  loss: 0.014154, mae: 1.912016, mean_q: 2.307450\n",
            " 63165/100000: episode: 80, duration: 35.509s, episode steps: 697, steps per second:  20, episode reward: 21.000, mean reward:  0.030 [ 0.000,  1.000], mean action: 2.653 [0.000, 5.000],  loss: 0.015523, mae: 1.925407, mean_q: 2.323231\n",
            " 64071/100000: episode: 81, duration: 46.084s, episode steps: 906, steps per second:  20, episode reward: 20.000, mean reward:  0.022 [ 0.000,  1.000], mean action: 2.111 [0.000, 5.000],  loss: 0.015331, mae: 1.918059, mean_q: 2.314528\n",
            " 65027/100000: episode: 82, duration: 48.660s, episode steps: 956, steps per second:  20, episode reward: 23.000, mean reward:  0.024 [ 0.000,  1.000], mean action: 2.040 [0.000, 5.000],  loss: 0.015030, mae: 1.922909, mean_q: 2.319159\n",
            " 65626/100000: episode: 83, duration: 30.352s, episode steps: 599, steps per second:  20, episode reward: 12.000, mean reward:  0.020 [ 0.000,  1.000], mean action: 2.027 [0.000, 5.000],  loss: 0.013953, mae: 1.931276, mean_q: 2.330936\n",
            " 66322/100000: episode: 84, duration: 35.837s, episode steps: 696, steps per second:  19, episode reward: 17.000, mean reward:  0.024 [ 0.000,  1.000], mean action: 2.381 [0.000, 5.000],  loss: 0.013819, mae: 1.920228, mean_q: 2.318592\n",
            " 66863/100000: episode: 85, duration: 27.971s, episode steps: 541, steps per second:  19, episode reward: 13.000, mean reward:  0.024 [ 0.000,  1.000], mean action: 2.405 [0.000, 5.000],  loss: 0.014131, mae: 1.942736, mean_q: 2.345445\n",
            " 67436/100000: episode: 86, duration: 29.318s, episode steps: 573, steps per second:  20, episode reward: 12.000, mean reward:  0.021 [ 0.000,  1.000], mean action: 2.859 [0.000, 5.000],  loss: 0.013480, mae: 1.914439, mean_q: 2.312614\n",
            " 68442/100000: episode: 87, duration: 51.272s, episode steps: 1006, steps per second:  20, episode reward: 29.000, mean reward:  0.029 [ 0.000,  1.000], mean action: 2.230 [0.000, 5.000],  loss: 0.014093, mae: 1.913422, mean_q: 2.308079\n",
            " 68998/100000: episode: 88, duration: 28.506s, episode steps: 556, steps per second:  20, episode reward: 12.000, mean reward:  0.022 [ 0.000,  1.000], mean action: 2.755 [0.000, 5.000],  loss: 0.015642, mae: 1.921815, mean_q: 2.318902\n",
            " 69829/100000: episode: 89, duration: 42.614s, episode steps: 831, steps per second:  20, episode reward: 18.000, mean reward:  0.022 [ 0.000,  1.000], mean action: 1.876 [0.000, 5.000],  loss: 0.013958, mae: 1.918259, mean_q: 2.314925\n",
            " 71252/100000: episode: 90, duration: 73.023s, episode steps: 1423, steps per second:  19, episode reward: 32.000, mean reward:  0.022 [ 0.000,  1.000], mean action: 1.836 [0.000, 5.000],  loss: 0.013743, mae: 1.915737, mean_q: 2.311919\n",
            " 72215/100000: episode: 91, duration: 48.919s, episode steps: 963, steps per second:  20, episode reward: 21.000, mean reward:  0.022 [ 0.000,  1.000], mean action: 2.271 [0.000, 5.000],  loss: 0.013893, mae: 1.931670, mean_q: 2.334194\n",
            " 72641/100000: episode: 92, duration: 21.884s, episode steps: 426, steps per second:  19, episode reward: 10.000, mean reward:  0.023 [ 0.000,  1.000], mean action: 2.667 [0.000, 5.000],  loss: 0.014983, mae: 1.946701, mean_q: 2.349664\n",
            " 73586/100000: episode: 93, duration: 47.874s, episode steps: 945, steps per second:  20, episode reward: 19.000, mean reward:  0.020 [ 0.000,  1.000], mean action: 2.321 [0.000, 5.000],  loss: 0.015311, mae: 1.932761, mean_q: 2.332540\n",
            " 74278/100000: episode: 94, duration: 34.997s, episode steps: 692, steps per second:  20, episode reward: 16.000, mean reward:  0.023 [ 0.000,  1.000], mean action: 3.111 [0.000, 5.000],  loss: 0.013780, mae: 1.919042, mean_q: 2.316883\n",
            " 75099/100000: episode: 95, duration: 41.982s, episode steps: 821, steps per second:  20, episode reward: 21.000, mean reward:  0.026 [ 0.000,  1.000], mean action: 2.040 [0.000, 5.000],  loss: 0.014306, mae: 1.938668, mean_q: 2.340211\n",
            " 75897/100000: episode: 96, duration: 40.668s, episode steps: 798, steps per second:  20, episode reward: 23.000, mean reward:  0.029 [ 0.000,  1.000], mean action: 2.382 [0.000, 5.000],  loss: 0.012854, mae: 1.902013, mean_q: 2.297804\n",
            " 76574/100000: episode: 97, duration: 34.508s, episode steps: 677, steps per second:  20, episode reward: 16.000, mean reward:  0.024 [ 0.000,  1.000], mean action: 2.705 [0.000, 5.000],  loss: 0.016204, mae: 1.937050, mean_q: 2.338236\n",
            " 77590/100000: episode: 98, duration: 52.058s, episode steps: 1016, steps per second:  20, episode reward: 25.000, mean reward:  0.025 [ 0.000,  1.000], mean action: 2.187 [0.000, 5.000],  loss: 0.015912, mae: 1.923688, mean_q: 2.321693\n",
            " 78697/100000: episode: 99, duration: 56.739s, episode steps: 1107, steps per second:  20, episode reward: 32.000, mean reward:  0.029 [ 0.000,  1.000], mean action: 2.212 [0.000, 5.000],  loss: 0.013282, mae: 1.908827, mean_q: 2.303677\n",
            " 79419/100000: episode: 100, duration: 36.779s, episode steps: 722, steps per second:  20, episode reward: 15.000, mean reward:  0.021 [ 0.000,  1.000], mean action: 1.881 [0.000, 5.000],  loss: 0.014216, mae: 1.934745, mean_q: 2.334068\n",
            " 80977/100000: episode: 101, duration: 80.477s, episode steps: 1558, steps per second:  19, episode reward: 41.000, mean reward:  0.026 [ 0.000,  1.000], mean action: 2.080 [0.000, 5.000],  loss: 0.012874, mae: 1.942472, mean_q: 2.344934\n",
            " 81682/100000: episode: 102, duration: 36.730s, episode steps: 705, steps per second:  19, episode reward: 16.000, mean reward:  0.023 [ 0.000,  1.000], mean action: 2.130 [0.000, 5.000],  loss: 0.012627, mae: 1.937932, mean_q: 2.338230\n",
            " 82389/100000: episode: 103, duration: 36.350s, episode steps: 707, steps per second:  19, episode reward: 19.000, mean reward:  0.027 [ 0.000,  1.000], mean action: 2.315 [0.000, 5.000],  loss: 0.013420, mae: 1.946170, mean_q: 2.348338\n",
            " 83158/100000: episode: 104, duration: 39.401s, episode steps: 769, steps per second:  20, episode reward: 25.000, mean reward:  0.033 [ 0.000,  1.000], mean action: 2.501 [0.000, 5.000],  loss: 0.013355, mae: 1.931518, mean_q: 2.331027\n",
            " 84229/100000: episode: 105, duration: 54.860s, episode steps: 1071, steps per second:  20, episode reward: 30.000, mean reward:  0.028 [ 0.000,  1.000], mean action: 2.132 [0.000, 5.000],  loss: 0.013754, mae: 1.947910, mean_q: 2.352004\n",
            " 85138/100000: episode: 106, duration: 46.707s, episode steps: 909, steps per second:  19, episode reward: 23.000, mean reward:  0.025 [ 0.000,  1.000], mean action: 2.234 [0.000, 5.000],  loss: 0.014601, mae: 1.945111, mean_q: 2.348112\n",
            " 86131/100000: episode: 107, duration: 51.329s, episode steps: 993, steps per second:  19, episode reward: 31.000, mean reward:  0.031 [ 0.000,  1.000], mean action: 2.407 [0.000, 5.000],  loss: 0.014395, mae: 1.954231, mean_q: 2.358138\n",
            " 87007/100000: episode: 108, duration: 45.131s, episode steps: 876, steps per second:  19, episode reward: 24.000, mean reward:  0.027 [ 0.000,  1.000], mean action: 2.537 [0.000, 5.000],  loss: 0.014167, mae: 1.953618, mean_q: 2.360215\n",
            " 87665/100000: episode: 109, duration: 33.916s, episode steps: 658, steps per second:  19, episode reward: 12.000, mean reward:  0.018 [ 0.000,  1.000], mean action: 2.018 [0.000, 5.000],  loss: 0.015521, mae: 1.934435, mean_q: 2.334318\n",
            " 88375/100000: episode: 110, duration: 36.296s, episode steps: 710, steps per second:  20, episode reward: 17.000, mean reward:  0.024 [ 0.000,  1.000], mean action: 1.989 [0.000, 5.000],  loss: 0.014450, mae: 1.937277, mean_q: 2.337228\n",
            " 89305/100000: episode: 111, duration: 47.629s, episode steps: 930, steps per second:  20, episode reward: 25.000, mean reward:  0.027 [ 0.000,  1.000], mean action: 1.912 [0.000, 5.000],  loss: 0.014454, mae: 1.949354, mean_q: 2.351741\n",
            " 90134/100000: episode: 112, duration: 44.467s, episode steps: 829, steps per second:  19, episode reward: 25.000, mean reward:  0.030 [ 0.000,  1.000], mean action: 2.165 [0.000, 5.000],  loss: 0.013405, mae: 1.945450, mean_q: 2.349549\n",
            " 91313/100000: episode: 113, duration: 60.751s, episode steps: 1179, steps per second:  19, episode reward: 32.000, mean reward:  0.027 [ 0.000,  1.000], mean action: 2.082 [0.000, 5.000],  loss: 0.014320, mae: 1.935512, mean_q: 2.338470\n",
            " 92350/100000: episode: 114, duration: 53.412s, episode steps: 1037, steps per second:  19, episode reward: 29.000, mean reward:  0.028 [ 0.000,  1.000], mean action: 2.120 [0.000, 5.000],  loss: 0.015029, mae: 1.934117, mean_q: 2.336441\n",
            " 93463/100000: episode: 115, duration: 57.456s, episode steps: 1113, steps per second:  19, episode reward: 25.000, mean reward:  0.022 [ 0.000,  1.000], mean action: 1.918 [0.000, 5.000],  loss: 0.015207, mae: 1.950786, mean_q: 2.355488\n",
            " 94191/100000: episode: 116, duration: 37.808s, episode steps: 728, steps per second:  19, episode reward: 21.000, mean reward:  0.029 [ 0.000,  1.000], mean action: 2.460 [0.000, 5.000],  loss: 0.015797, mae: 1.949232, mean_q: 2.353970\n",
            " 94800/100000: episode: 117, duration: 31.708s, episode steps: 609, steps per second:  19, episode reward: 15.000, mean reward:  0.025 [ 0.000,  1.000], mean action: 2.266 [0.000, 5.000],  loss: 0.013542, mae: 1.970439, mean_q: 2.382759\n",
            " 95768/100000: episode: 118, duration: 50.463s, episode steps: 968, steps per second:  19, episode reward: 26.000, mean reward:  0.027 [ 0.000,  1.000], mean action: 2.415 [0.000, 5.000],  loss: 0.014250, mae: 1.934588, mean_q: 2.339579\n",
            " 96486/100000: episode: 119, duration: 37.531s, episode steps: 718, steps per second:  19, episode reward: 13.000, mean reward:  0.018 [ 0.000,  1.000], mean action: 2.379 [0.000, 5.000],  loss: 0.013822, mae: 1.956712, mean_q: 2.365478\n",
            " 97126/100000: episode: 120, duration: 32.952s, episode steps: 640, steps per second:  19, episode reward: 22.000, mean reward:  0.034 [ 0.000,  1.000], mean action: 2.356 [0.000, 5.000],  loss: 0.015840, mae: 1.939661, mean_q: 2.342884\n",
            " 98468/100000: episode: 121, duration: 69.344s, episode steps: 1342, steps per second:  19, episode reward: 26.000, mean reward:  0.019 [ 0.000,  1.000], mean action: 1.868 [0.000, 5.000],  loss: 0.014243, mae: 1.947991, mean_q: 2.352014\n",
            " 99211/100000: episode: 122, duration: 38.165s, episode steps: 743, steps per second:  19, episode reward: 18.000, mean reward:  0.024 [ 0.000,  1.000], mean action: 2.655 [0.000, 5.000],  loss: 0.013911, mae: 1.932071, mean_q: 2.335742\n",
            " 99941/100000: episode: 123, duration: 38.039s, episode steps: 730, steps per second:  19, episode reward: 17.000, mean reward:  0.023 [ 0.000,  1.000], mean action: 2.258 [0.000, 5.000],  loss: 0.015380, mae: 1.945373, mean_q: 2.349879\n",
            "done, took 3099.345 seconds\n"
          ]
        }
      ]
    },
    {
      "cell_type": "code",
      "source": [
        "# Guardar la memoria de experiencia\n",
        "import pickle\n",
        "with open('memory_noisy.pkl', 'wb') as f:\n",
        "    pickle.dump(memory, f)\n",
        "\n",
        "print(f\"Entrenamiento hasta {total_steps} pasos completado y guardado.\")"
      ],
      "metadata": {
        "id": "cWruzsodFEGJ",
        "colab": {
          "base_uri": "https://localhost:8080/"
        },
        "outputId": "cd7ddaf9-920d-4ea0-b8fb-41d472e82743"
      },
      "execution_count": 55,
      "outputs": [
        {
          "output_type": "stream",
          "name": "stdout",
          "text": [
            "Entrenamiento hasta 2000000 pasos completado y guardado.\n"
          ]
        }
      ]
    },
    {
      "cell_type": "code",
      "source": [
        "import time\n",
        "\n",
        "print(\"Esperando 60 segundos...\")\n",
        "time.sleep(60)\n",
        "print(\"¡Tiempo de espera terminado!\")"
      ],
      "metadata": {
        "id": "BjAGDUt1FEVa",
        "colab": {
          "base_uri": "https://localhost:8080/"
        },
        "outputId": "0d20c656-4dc3-4963-a6f6-73ff1cd49077"
      },
      "execution_count": 56,
      "outputs": [
        {
          "output_type": "stream",
          "name": "stdout",
          "text": [
            "Esperando 60 segundos...\n",
            "¡Tiempo de espera terminado!\n"
          ]
        }
      ]
    },
    {
      "cell_type": "code",
      "source": [
        "# Testear desde último checkpoint\n",
        "latest_path, trained_steps = load_latest_weights(dqn, checkpoint_dir)\n",
        "if latest_path:\n",
        "    dqn.test(env, nb_episodes=10, visualize=False)"
      ],
      "metadata": {
        "id": "tWZDm8wKFEnp",
        "colab": {
          "base_uri": "https://localhost:8080/"
        },
        "outputId": "31ca3118-511a-425b-b23b-097eb42e175e"
      },
      "execution_count": 57,
      "outputs": [
        {
          "output_type": "stream",
          "name": "stdout",
          "text": [
            "✅ Cargando pesos desde: /content/gdrive/My Drive/MODELO 14/checkpoints/dqn_noisy_weights_2000000.h5 (pasos entrenados: 2000000)\n",
            "Testing for 10 episodes ...\n",
            "Episode 1: reward: 25.000, steps: 920\n",
            "Episode 2: reward: 25.000, steps: 767\n",
            "Episode 3: reward: 21.000, steps: 688\n",
            "Episode 4: reward: 33.000, steps: 1188\n",
            "Episode 5: reward: 29.000, steps: 940\n",
            "Episode 6: reward: 33.000, steps: 1274\n",
            "Episode 7: reward: 20.000, steps: 815\n",
            "Episode 8: reward: 30.000, steps: 1009\n",
            "Episode 9: reward: 22.000, steps: 816\n",
            "Episode 10: reward: 15.000, steps: 670\n"
          ]
        }
      ]
    },
    {
      "cell_type": "markdown",
      "source": [
        "test final"
      ],
      "metadata": {
        "id": "tEUuCaBYnUrd"
      }
    },
    {
      "cell_type": "code",
      "source": [
        "# Testear desde último checkpoint\n",
        "latest_path, trained_steps = load_latest_weights(dqn, checkpoint_dir)\n",
        "if latest_path:\n",
        "    dqn.test(env, nb_episodes=50, visualize=False)"
      ],
      "metadata": {
        "id": "dIHPNhbJnWPC",
        "colab": {
          "base_uri": "https://localhost:8080/"
        },
        "outputId": "c1392ca4-fbf5-4fb5-d57c-0e6beaf1757f"
      },
      "execution_count": 58,
      "outputs": [
        {
          "output_type": "stream",
          "name": "stdout",
          "text": [
            "✅ Cargando pesos desde: /content/gdrive/My Drive/MODELO 14/checkpoints/dqn_noisy_weights_2000000.h5 (pasos entrenados: 2000000)\n",
            "Testing for 50 episodes ...\n",
            "Episode 1: reward: 25.000, steps: 850\n",
            "Episode 2: reward: 22.000, steps: 894\n",
            "Episode 3: reward: 23.000, steps: 889\n",
            "Episode 4: reward: 31.000, steps: 1294\n",
            "Episode 5: reward: 26.000, steps: 945\n",
            "Episode 6: reward: 29.000, steps: 1144\n",
            "Episode 7: reward: 36.000, steps: 1234\n",
            "Episode 8: reward: 23.000, steps: 971\n",
            "Episode 9: reward: 17.000, steps: 731\n",
            "Episode 10: reward: 24.000, steps: 891\n",
            "Episode 11: reward: 23.000, steps: 762\n",
            "Episode 12: reward: 8.000, steps: 429\n",
            "Episode 13: reward: 16.000, steps: 667\n",
            "Episode 14: reward: 24.000, steps: 838\n",
            "Episode 15: reward: 20.000, steps: 754\n",
            "Episode 16: reward: 20.000, steps: 904\n",
            "Episode 17: reward: 23.000, steps: 1024\n",
            "Episode 18: reward: 15.000, steps: 743\n",
            "Episode 19: reward: 24.000, steps: 837\n",
            "Episode 20: reward: 25.000, steps: 919\n",
            "Episode 21: reward: 24.000, steps: 1084\n",
            "Episode 22: reward: 17.000, steps: 614\n",
            "Episode 23: reward: 22.000, steps: 846\n",
            "Episode 24: reward: 18.000, steps: 794\n",
            "Episode 25: reward: 33.000, steps: 1156\n",
            "Episode 26: reward: 20.000, steps: 812\n",
            "Episode 27: reward: 8.000, steps: 361\n",
            "Episode 28: reward: 27.000, steps: 863\n",
            "Episode 29: reward: 16.000, steps: 692\n",
            "Episode 30: reward: 35.000, steps: 1256\n",
            "Episode 31: reward: 26.000, steps: 906\n",
            "Episode 32: reward: 16.000, steps: 642\n",
            "Episode 33: reward: 21.000, steps: 747\n",
            "Episode 34: reward: 20.000, steps: 812\n",
            "Episode 35: reward: 16.000, steps: 628\n",
            "Episode 36: reward: 27.000, steps: 966\n",
            "Episode 37: reward: 16.000, steps: 677\n",
            "Episode 38: reward: 9.000, steps: 499\n",
            "Episode 39: reward: 24.000, steps: 823\n",
            "Episode 40: reward: 15.000, steps: 487\n",
            "Episode 41: reward: 25.000, steps: 836\n",
            "Episode 42: reward: 25.000, steps: 773\n",
            "Episode 43: reward: 18.000, steps: 655\n",
            "Episode 44: reward: 17.000, steps: 621\n",
            "Episode 45: reward: 25.000, steps: 848\n",
            "Episode 46: reward: 22.000, steps: 851\n",
            "Episode 47: reward: 27.000, steps: 829\n",
            "Episode 48: reward: 21.000, steps: 952\n",
            "Episode 49: reward: 22.000, steps: 913\n",
            "Episode 50: reward: 16.000, steps: 614\n"
          ]
        }
      ]
    }
  ],
  "metadata": {
    "colab": {
      "provenance": [],
      "machine_shape": "hm",
      "gpuType": "T4",
      "include_colab_link": true
    },
    "kernelspec": {
      "display_name": "Python 3",
      "name": "python3"
    },
    "language_info": {
      "name": "python"
    },
    "accelerator": "GPU"
  },
  "nbformat": 4,
  "nbformat_minor": 0
}