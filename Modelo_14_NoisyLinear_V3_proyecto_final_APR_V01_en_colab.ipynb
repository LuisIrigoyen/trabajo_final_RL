{
  "cells": [
    {
      "cell_type": "markdown",
      "metadata": {
        "id": "view-in-github",
        "colab_type": "text"
      },
      "source": [
        "<a href=\"https://colab.research.google.com/github/LuisIrigoyen/trabajo_final_RL/blob/pruebas_LuisIrigoyen/Modelo_14_NoisyLinear_V3_proyecto_final_APR_V01_en_colab.ipynb\" target=\"_parent\"><img src=\"https://colab.research.google.com/assets/colab-badge.svg\" alt=\"Open In Colab\"/></a>"
      ]
    },
    {
      "cell_type": "markdown",
      "metadata": {
        "id": "D89Ue2uZNtzn"
      },
      "source": [
        "## 1.2. Localizar entorno de trabajo: Google colab o local"
      ]
    },
    {
      "cell_type": "markdown",
      "metadata": {
        "id": "piJ-XjXrzhdZ"
      },
      "source": [
        "- Igual que 12, cambio paramétro: dqn.compile(optimizer=Adam(learning_rate=0.0001)\n",
        "- luego se modificó a dqn.compile(optimizer=Adam(learning_rate=1e-4)\n",
        "- se cambió policy = BoltzmannQPolicy() a policy = EpsGreedyQPolicy(eps=0.0)"
      ]
    },
    {
      "cell_type": "code",
      "execution_count": null,
      "metadata": {
        "id": "7EQ46sNGLj22"
      },
      "outputs": [],
      "source": [
        "# ATENCIÓN!! Modificar ruta relativa a la práctica si es distinta (drive_root)\n",
        "mount='/content/gdrive'\n",
        "drive_root = mount + \"/My Drive/MODELO 14/\"\n",
        "\n",
        "try:\n",
        "  from google.colab import drive\n",
        "  IN_COLAB=True\n",
        "except:\n",
        "  IN_COLAB=False"
      ]
    },
    {
      "cell_type": "markdown",
      "metadata": {
        "id": "6on2PNxZN51A"
      },
      "source": [
        "## 1.3. Montar carpeta de datos local (solo Colab)"
      ]
    },
    {
      "cell_type": "code",
      "execution_count": null,
      "metadata": {
        "colab": {
          "base_uri": "https://localhost:8080/"
        },
        "id": "inTxnmr0MKCH",
        "outputId": "e850ebb5-cee5-415f-edeb-55892abab4a2"
      },
      "outputs": [
        {
          "output_type": "stream",
          "name": "stdout",
          "text": [
            "We're running Colab\n",
            "Colab: mounting Google drive on  /content/gdrive\n",
            "Drive already mounted at /content/gdrive; to attempt to forcibly remount, call drive.mount(\"/content/gdrive\", force_remount=True).\n",
            "\n",
            "Colab: making sure  /content/gdrive/My Drive/MODELO 14/  exists.\n",
            "\n",
            "Colab: Changing directory to  /content/gdrive/My Drive/MODELO 14/\n",
            "/content/gdrive/My Drive/MODELO 14\n",
            "Archivos en el directorio: \n",
            "['logs', 'checkpoints', 'memory_noisy.pkl']\n"
          ]
        }
      ],
      "source": [
        "# Switch to the directory on the Google Drive that you want to use\n",
        "import os\n",
        "if IN_COLAB:\n",
        "  print(\"We're running Colab\")\n",
        "\n",
        "  if IN_COLAB:\n",
        "    # Mount the Google Drive at mount\n",
        "    print(\"Colab: mounting Google drive on \", mount)\n",
        "\n",
        "    drive.mount(mount)\n",
        "\n",
        "    # Create drive_root if it doesn't exist\n",
        "    create_drive_root = True\n",
        "    if create_drive_root:\n",
        "      print(\"\\nColab: making sure \", drive_root, \" exists.\")\n",
        "      os.makedirs(drive_root, exist_ok=True)\n",
        "\n",
        "    # Change to the directory\n",
        "    print(\"\\nColab: Changing directory to \", drive_root)\n",
        "    %cd $drive_root\n",
        "# Verify we're in the correct working directory\n",
        "%pwd\n",
        "print(\"Archivos en el directorio: \")\n",
        "print(os.listdir())"
      ]
    },
    {
      "cell_type": "markdown",
      "metadata": {
        "id": "MYrJ03QWN9Hw"
      },
      "source": [
        "## 1.4. Instalar librerías necesarias"
      ]
    },
    {
      "cell_type": "code",
      "execution_count": null,
      "metadata": {
        "colab": {
          "base_uri": "https://localhost:8080/"
        },
        "id": "zSbNMsl4MTo3",
        "outputId": "77cad7a4-8c9a-4341-a07d-2e2e5da5d8a7"
      },
      "outputs": [
        {
          "output_type": "stream",
          "name": "stdout",
          "text": [
            "Requirement already satisfied: gym==0.17.3 in /usr/local/lib/python3.11/dist-packages (0.17.3)\n",
            "Requirement already satisfied: scipy in /usr/local/lib/python3.11/dist-packages (from gym==0.17.3) (1.15.3)\n",
            "Requirement already satisfied: numpy>=1.10.4 in /usr/local/lib/python3.11/dist-packages (from gym==0.17.3) (1.23.5)\n",
            "Requirement already satisfied: pyglet<=1.5.0,>=1.4.0 in /usr/local/lib/python3.11/dist-packages (from gym==0.17.3) (1.5.0)\n",
            "Requirement already satisfied: cloudpickle<1.7.0,>=1.2.0 in /usr/local/lib/python3.11/dist-packages (from gym==0.17.3) (1.6.0)\n",
            "Requirement already satisfied: future in /usr/local/lib/python3.11/dist-packages (from pyglet<=1.5.0,>=1.4.0->gym==0.17.3) (1.0.0)\n",
            "Collecting git+https://github.com/Kojoley/atari-py.git\n",
            "  Cloning https://github.com/Kojoley/atari-py.git to /tmp/pip-req-build-c9ojmid1\n",
            "  Running command git clone --filter=blob:none --quiet https://github.com/Kojoley/atari-py.git /tmp/pip-req-build-c9ojmid1\n",
            "  Resolved https://github.com/Kojoley/atari-py.git to commit 86a1e05c0a95e9e6233c3a413521fdb34ca8a089\n",
            "  Preparing metadata (setup.py) ... \u001b[?25l\u001b[?25hdone\n",
            "Requirement already satisfied: numpy in /usr/local/lib/python3.11/dist-packages (from atari-py==1.2.2) (1.23.5)\n",
            "Requirement already satisfied: keras-rl2==1.0.5 in /usr/local/lib/python3.11/dist-packages (1.0.5)\n",
            "Requirement already satisfied: tensorflow in /usr/local/lib/python3.11/dist-packages (from keras-rl2==1.0.5) (2.12.0)\n",
            "Requirement already satisfied: absl-py>=1.0.0 in /usr/local/lib/python3.11/dist-packages (from tensorflow->keras-rl2==1.0.5) (1.4.0)\n",
            "Requirement already satisfied: astunparse>=1.6.0 in /usr/local/lib/python3.11/dist-packages (from tensorflow->keras-rl2==1.0.5) (1.6.3)\n",
            "Requirement already satisfied: flatbuffers>=2.0 in /usr/local/lib/python3.11/dist-packages (from tensorflow->keras-rl2==1.0.5) (25.2.10)\n",
            "Requirement already satisfied: gast<=0.4.0,>=0.2.1 in /usr/local/lib/python3.11/dist-packages (from tensorflow->keras-rl2==1.0.5) (0.4.0)\n",
            "Requirement already satisfied: google-pasta>=0.1.1 in /usr/local/lib/python3.11/dist-packages (from tensorflow->keras-rl2==1.0.5) (0.2.0)\n",
            "Requirement already satisfied: grpcio<2.0,>=1.24.3 in /usr/local/lib/python3.11/dist-packages (from tensorflow->keras-rl2==1.0.5) (1.73.1)\n",
            "Requirement already satisfied: h5py>=2.9.0 in /usr/local/lib/python3.11/dist-packages (from tensorflow->keras-rl2==1.0.5) (3.14.0)\n",
            "Requirement already satisfied: jax>=0.3.15 in /usr/local/lib/python3.11/dist-packages (from tensorflow->keras-rl2==1.0.5) (0.4.30)\n",
            "Requirement already satisfied: keras<2.13,>=2.12.0 in /usr/local/lib/python3.11/dist-packages (from tensorflow->keras-rl2==1.0.5) (2.12.0)\n",
            "Requirement already satisfied: libclang>=13.0.0 in /usr/local/lib/python3.11/dist-packages (from tensorflow->keras-rl2==1.0.5) (18.1.1)\n",
            "Requirement already satisfied: numpy<1.24,>=1.22 in /usr/local/lib/python3.11/dist-packages (from tensorflow->keras-rl2==1.0.5) (1.23.5)\n",
            "Requirement already satisfied: opt-einsum>=2.3.2 in /usr/local/lib/python3.11/dist-packages (from tensorflow->keras-rl2==1.0.5) (3.4.0)\n",
            "Requirement already satisfied: packaging in /usr/local/lib/python3.11/dist-packages (from tensorflow->keras-rl2==1.0.5) (24.2)\n",
            "Requirement already satisfied: protobuf!=4.21.0,!=4.21.1,!=4.21.2,!=4.21.3,!=4.21.4,!=4.21.5,<5.0.0dev,>=3.20.3 in /usr/local/lib/python3.11/dist-packages (from tensorflow->keras-rl2==1.0.5) (4.25.8)\n",
            "Requirement already satisfied: setuptools in /usr/local/lib/python3.11/dist-packages (from tensorflow->keras-rl2==1.0.5) (75.2.0)\n",
            "Requirement already satisfied: six>=1.12.0 in /usr/local/lib/python3.11/dist-packages (from tensorflow->keras-rl2==1.0.5) (1.17.0)\n",
            "Requirement already satisfied: tensorboard<2.13,>=2.12 in /usr/local/lib/python3.11/dist-packages (from tensorflow->keras-rl2==1.0.5) (2.12.3)\n",
            "Requirement already satisfied: tensorflow-estimator<2.13,>=2.12.0 in /usr/local/lib/python3.11/dist-packages (from tensorflow->keras-rl2==1.0.5) (2.12.0)\n",
            "Requirement already satisfied: termcolor>=1.1.0 in /usr/local/lib/python3.11/dist-packages (from tensorflow->keras-rl2==1.0.5) (3.1.0)\n",
            "Requirement already satisfied: typing-extensions>=3.6.6 in /usr/local/lib/python3.11/dist-packages (from tensorflow->keras-rl2==1.0.5) (4.14.0)\n",
            "Requirement already satisfied: wrapt<1.15,>=1.11.0 in /usr/local/lib/python3.11/dist-packages (from tensorflow->keras-rl2==1.0.5) (1.14.1)\n",
            "Requirement already satisfied: tensorflow-io-gcs-filesystem>=0.23.1 in /usr/local/lib/python3.11/dist-packages (from tensorflow->keras-rl2==1.0.5) (0.37.1)\n",
            "Requirement already satisfied: wheel<1.0,>=0.23.0 in /usr/local/lib/python3.11/dist-packages (from astunparse>=1.6.0->tensorflow->keras-rl2==1.0.5) (0.45.1)\n",
            "Requirement already satisfied: jaxlib<=0.4.30,>=0.4.27 in /usr/local/lib/python3.11/dist-packages (from jax>=0.3.15->tensorflow->keras-rl2==1.0.5) (0.4.30)\n",
            "Requirement already satisfied: ml-dtypes>=0.2.0 in /usr/local/lib/python3.11/dist-packages (from jax>=0.3.15->tensorflow->keras-rl2==1.0.5) (0.4.1)\n",
            "Requirement already satisfied: scipy>=1.9 in /usr/local/lib/python3.11/dist-packages (from jax>=0.3.15->tensorflow->keras-rl2==1.0.5) (1.15.3)\n",
            "Requirement already satisfied: google-auth<3,>=1.6.3 in /usr/local/lib/python3.11/dist-packages (from tensorboard<2.13,>=2.12->tensorflow->keras-rl2==1.0.5) (2.38.0)\n",
            "Requirement already satisfied: google-auth-oauthlib<1.1,>=0.5 in /usr/local/lib/python3.11/dist-packages (from tensorboard<2.13,>=2.12->tensorflow->keras-rl2==1.0.5) (1.0.0)\n",
            "Requirement already satisfied: markdown>=2.6.8 in /usr/local/lib/python3.11/dist-packages (from tensorboard<2.13,>=2.12->tensorflow->keras-rl2==1.0.5) (3.8.2)\n",
            "Requirement already satisfied: requests<3,>=2.21.0 in /usr/local/lib/python3.11/dist-packages (from tensorboard<2.13,>=2.12->tensorflow->keras-rl2==1.0.5) (2.32.3)\n",
            "Requirement already satisfied: tensorboard-data-server<0.8.0,>=0.7.0 in /usr/local/lib/python3.11/dist-packages (from tensorboard<2.13,>=2.12->tensorflow->keras-rl2==1.0.5) (0.7.2)\n",
            "Requirement already satisfied: werkzeug>=1.0.1 in /usr/local/lib/python3.11/dist-packages (from tensorboard<2.13,>=2.12->tensorflow->keras-rl2==1.0.5) (3.1.3)\n",
            "Requirement already satisfied: cachetools<6.0,>=2.0.0 in /usr/local/lib/python3.11/dist-packages (from google-auth<3,>=1.6.3->tensorboard<2.13,>=2.12->tensorflow->keras-rl2==1.0.5) (5.5.2)\n",
            "Requirement already satisfied: pyasn1-modules>=0.2.1 in /usr/local/lib/python3.11/dist-packages (from google-auth<3,>=1.6.3->tensorboard<2.13,>=2.12->tensorflow->keras-rl2==1.0.5) (0.4.2)\n",
            "Requirement already satisfied: rsa<5,>=3.1.4 in /usr/local/lib/python3.11/dist-packages (from google-auth<3,>=1.6.3->tensorboard<2.13,>=2.12->tensorflow->keras-rl2==1.0.5) (4.9.1)\n",
            "Requirement already satisfied: requests-oauthlib>=0.7.0 in /usr/local/lib/python3.11/dist-packages (from google-auth-oauthlib<1.1,>=0.5->tensorboard<2.13,>=2.12->tensorflow->keras-rl2==1.0.5) (2.0.0)\n",
            "Requirement already satisfied: charset-normalizer<4,>=2 in /usr/local/lib/python3.11/dist-packages (from requests<3,>=2.21.0->tensorboard<2.13,>=2.12->tensorflow->keras-rl2==1.0.5) (3.4.2)\n",
            "Requirement already satisfied: idna<4,>=2.5 in /usr/local/lib/python3.11/dist-packages (from requests<3,>=2.21.0->tensorboard<2.13,>=2.12->tensorflow->keras-rl2==1.0.5) (3.10)\n",
            "Requirement already satisfied: urllib3<3,>=1.21.1 in /usr/local/lib/python3.11/dist-packages (from requests<3,>=2.21.0->tensorboard<2.13,>=2.12->tensorflow->keras-rl2==1.0.5) (2.4.0)\n",
            "Requirement already satisfied: certifi>=2017.4.17 in /usr/local/lib/python3.11/dist-packages (from requests<3,>=2.21.0->tensorboard<2.13,>=2.12->tensorflow->keras-rl2==1.0.5) (2025.6.15)\n",
            "Requirement already satisfied: MarkupSafe>=2.1.1 in /usr/local/lib/python3.11/dist-packages (from werkzeug>=1.0.1->tensorboard<2.13,>=2.12->tensorflow->keras-rl2==1.0.5) (3.0.2)\n",
            "Requirement already satisfied: pyasn1<0.7.0,>=0.6.1 in /usr/local/lib/python3.11/dist-packages (from pyasn1-modules>=0.2.1->google-auth<3,>=1.6.3->tensorboard<2.13,>=2.12->tensorflow->keras-rl2==1.0.5) (0.6.1)\n",
            "Requirement already satisfied: oauthlib>=3.0.0 in /usr/local/lib/python3.11/dist-packages (from requests-oauthlib>=0.7.0->google-auth-oauthlib<1.1,>=0.5->tensorboard<2.13,>=2.12->tensorflow->keras-rl2==1.0.5) (3.3.1)\n",
            "Requirement already satisfied: tensorflow==2.12 in /usr/local/lib/python3.11/dist-packages (2.12.0)\n",
            "Requirement already satisfied: absl-py>=1.0.0 in /usr/local/lib/python3.11/dist-packages (from tensorflow==2.12) (1.4.0)\n",
            "Requirement already satisfied: astunparse>=1.6.0 in /usr/local/lib/python3.11/dist-packages (from tensorflow==2.12) (1.6.3)\n",
            "Requirement already satisfied: flatbuffers>=2.0 in /usr/local/lib/python3.11/dist-packages (from tensorflow==2.12) (25.2.10)\n",
            "Requirement already satisfied: gast<=0.4.0,>=0.2.1 in /usr/local/lib/python3.11/dist-packages (from tensorflow==2.12) (0.4.0)\n",
            "Requirement already satisfied: google-pasta>=0.1.1 in /usr/local/lib/python3.11/dist-packages (from tensorflow==2.12) (0.2.0)\n",
            "Requirement already satisfied: grpcio<2.0,>=1.24.3 in /usr/local/lib/python3.11/dist-packages (from tensorflow==2.12) (1.73.1)\n",
            "Requirement already satisfied: h5py>=2.9.0 in /usr/local/lib/python3.11/dist-packages (from tensorflow==2.12) (3.14.0)\n",
            "Requirement already satisfied: jax>=0.3.15 in /usr/local/lib/python3.11/dist-packages (from tensorflow==2.12) (0.4.30)\n",
            "Requirement already satisfied: keras<2.13,>=2.12.0 in /usr/local/lib/python3.11/dist-packages (from tensorflow==2.12) (2.12.0)\n",
            "Requirement already satisfied: libclang>=13.0.0 in /usr/local/lib/python3.11/dist-packages (from tensorflow==2.12) (18.1.1)\n",
            "Requirement already satisfied: numpy<1.24,>=1.22 in /usr/local/lib/python3.11/dist-packages (from tensorflow==2.12) (1.23.5)\n",
            "Requirement already satisfied: opt-einsum>=2.3.2 in /usr/local/lib/python3.11/dist-packages (from tensorflow==2.12) (3.4.0)\n",
            "Requirement already satisfied: packaging in /usr/local/lib/python3.11/dist-packages (from tensorflow==2.12) (24.2)\n",
            "Requirement already satisfied: protobuf!=4.21.0,!=4.21.1,!=4.21.2,!=4.21.3,!=4.21.4,!=4.21.5,<5.0.0dev,>=3.20.3 in /usr/local/lib/python3.11/dist-packages (from tensorflow==2.12) (4.25.8)\n",
            "Requirement already satisfied: setuptools in /usr/local/lib/python3.11/dist-packages (from tensorflow==2.12) (75.2.0)\n",
            "Requirement already satisfied: six>=1.12.0 in /usr/local/lib/python3.11/dist-packages (from tensorflow==2.12) (1.17.0)\n",
            "Requirement already satisfied: tensorboard<2.13,>=2.12 in /usr/local/lib/python3.11/dist-packages (from tensorflow==2.12) (2.12.3)\n",
            "Requirement already satisfied: tensorflow-estimator<2.13,>=2.12.0 in /usr/local/lib/python3.11/dist-packages (from tensorflow==2.12) (2.12.0)\n",
            "Requirement already satisfied: termcolor>=1.1.0 in /usr/local/lib/python3.11/dist-packages (from tensorflow==2.12) (3.1.0)\n",
            "Requirement already satisfied: typing-extensions>=3.6.6 in /usr/local/lib/python3.11/dist-packages (from tensorflow==2.12) (4.14.0)\n",
            "Requirement already satisfied: wrapt<1.15,>=1.11.0 in /usr/local/lib/python3.11/dist-packages (from tensorflow==2.12) (1.14.1)\n",
            "Requirement already satisfied: tensorflow-io-gcs-filesystem>=0.23.1 in /usr/local/lib/python3.11/dist-packages (from tensorflow==2.12) (0.37.1)\n",
            "Requirement already satisfied: wheel<1.0,>=0.23.0 in /usr/local/lib/python3.11/dist-packages (from astunparse>=1.6.0->tensorflow==2.12) (0.45.1)\n",
            "Requirement already satisfied: jaxlib<=0.4.30,>=0.4.27 in /usr/local/lib/python3.11/dist-packages (from jax>=0.3.15->tensorflow==2.12) (0.4.30)\n",
            "Requirement already satisfied: ml-dtypes>=0.2.0 in /usr/local/lib/python3.11/dist-packages (from jax>=0.3.15->tensorflow==2.12) (0.4.1)\n",
            "Requirement already satisfied: scipy>=1.9 in /usr/local/lib/python3.11/dist-packages (from jax>=0.3.15->tensorflow==2.12) (1.15.3)\n",
            "Requirement already satisfied: google-auth<3,>=1.6.3 in /usr/local/lib/python3.11/dist-packages (from tensorboard<2.13,>=2.12->tensorflow==2.12) (2.38.0)\n",
            "Requirement already satisfied: google-auth-oauthlib<1.1,>=0.5 in /usr/local/lib/python3.11/dist-packages (from tensorboard<2.13,>=2.12->tensorflow==2.12) (1.0.0)\n",
            "Requirement already satisfied: markdown>=2.6.8 in /usr/local/lib/python3.11/dist-packages (from tensorboard<2.13,>=2.12->tensorflow==2.12) (3.8.2)\n",
            "Requirement already satisfied: requests<3,>=2.21.0 in /usr/local/lib/python3.11/dist-packages (from tensorboard<2.13,>=2.12->tensorflow==2.12) (2.32.3)\n",
            "Requirement already satisfied: tensorboard-data-server<0.8.0,>=0.7.0 in /usr/local/lib/python3.11/dist-packages (from tensorboard<2.13,>=2.12->tensorflow==2.12) (0.7.2)\n",
            "Requirement already satisfied: werkzeug>=1.0.1 in /usr/local/lib/python3.11/dist-packages (from tensorboard<2.13,>=2.12->tensorflow==2.12) (3.1.3)\n",
            "Requirement already satisfied: cachetools<6.0,>=2.0.0 in /usr/local/lib/python3.11/dist-packages (from google-auth<3,>=1.6.3->tensorboard<2.13,>=2.12->tensorflow==2.12) (5.5.2)\n",
            "Requirement already satisfied: pyasn1-modules>=0.2.1 in /usr/local/lib/python3.11/dist-packages (from google-auth<3,>=1.6.3->tensorboard<2.13,>=2.12->tensorflow==2.12) (0.4.2)\n",
            "Requirement already satisfied: rsa<5,>=3.1.4 in /usr/local/lib/python3.11/dist-packages (from google-auth<3,>=1.6.3->tensorboard<2.13,>=2.12->tensorflow==2.12) (4.9.1)\n",
            "Requirement already satisfied: requests-oauthlib>=0.7.0 in /usr/local/lib/python3.11/dist-packages (from google-auth-oauthlib<1.1,>=0.5->tensorboard<2.13,>=2.12->tensorflow==2.12) (2.0.0)\n",
            "Requirement already satisfied: charset-normalizer<4,>=2 in /usr/local/lib/python3.11/dist-packages (from requests<3,>=2.21.0->tensorboard<2.13,>=2.12->tensorflow==2.12) (3.4.2)\n",
            "Requirement already satisfied: idna<4,>=2.5 in /usr/local/lib/python3.11/dist-packages (from requests<3,>=2.21.0->tensorboard<2.13,>=2.12->tensorflow==2.12) (3.10)\n",
            "Requirement already satisfied: urllib3<3,>=1.21.1 in /usr/local/lib/python3.11/dist-packages (from requests<3,>=2.21.0->tensorboard<2.13,>=2.12->tensorflow==2.12) (2.4.0)\n",
            "Requirement already satisfied: certifi>=2017.4.17 in /usr/local/lib/python3.11/dist-packages (from requests<3,>=2.21.0->tensorboard<2.13,>=2.12->tensorflow==2.12) (2025.6.15)\n",
            "Requirement already satisfied: MarkupSafe>=2.1.1 in /usr/local/lib/python3.11/dist-packages (from werkzeug>=1.0.1->tensorboard<2.13,>=2.12->tensorflow==2.12) (3.0.2)\n",
            "Requirement already satisfied: pyasn1<0.7.0,>=0.6.1 in /usr/local/lib/python3.11/dist-packages (from pyasn1-modules>=0.2.1->google-auth<3,>=1.6.3->tensorboard<2.13,>=2.12->tensorflow==2.12) (0.6.1)\n",
            "Requirement already satisfied: oauthlib>=3.0.0 in /usr/local/lib/python3.11/dist-packages (from requests-oauthlib>=0.7.0->google-auth-oauthlib<1.1,>=0.5->tensorboard<2.13,>=2.12->tensorflow==2.12) (3.3.1)\n"
          ]
        }
      ],
      "source": [
        "if IN_COLAB:\n",
        "  %pip install gym==0.17.3\n",
        "  %pip install git+https://github.com/Kojoley/atari-py.git\n",
        "  %pip install keras-rl2==1.0.5\n",
        "  %pip install tensorflow==2.12  #2.8\n",
        "else:\n",
        "  %pip install gym==0.17.3\n",
        "  %pip install git+https://github.com/Kojoley/atari-py.git\n",
        "  %pip install pyglet==1.5.0\n",
        "  %pip install h5py==3.1.0\n",
        "  %pip install Pillow==9.5.0\n",
        "  %pip install keras-rl2==1.0.5\n",
        "  %pip install Keras==2.2.4\n",
        "  %pip install tensorflow==2.5.3\n",
        "  %pip install torch==2.0.1\n",
        "  %pip install agents==1.4.0"
      ]
    },
    {
      "cell_type": "markdown",
      "metadata": {
        "id": "mS60Dk-KO5e3"
      },
      "source": [
        "## **PARTE 3**. Desarrollo y preguntas\n",
        "Importar librerías"
      ]
    },
    {
      "cell_type": "code",
      "execution_count": null,
      "metadata": {
        "id": "RX-2z9T1NPp_"
      },
      "outputs": [],
      "source": [
        "from __future__ import division\n",
        "\n",
        "from PIL import Image\n",
        "import numpy as np\n",
        "import gym\n",
        "\n",
        "from tensorflow.keras.models import Sequential\n",
        "from tensorflow.keras.layers import Dense, Activation, Flatten, Convolution2D, Permute\n",
        "#from tensorflow.keras.optimizers import Adam\n",
        "import tensorflow.keras.backend as K\n",
        "\n",
        "from rl.agents.dqn import DQNAgent\n",
        "from rl.policy import LinearAnnealedPolicy, BoltzmannQPolicy, EpsGreedyQPolicy\n",
        "from rl.memory import SequentialMemory\n",
        "from rl.core import Processor\n",
        "from rl.callbacks import FileLogger, ModelIntervalCheckpoint"
      ]
    },
    {
      "cell_type": "markdown",
      "metadata": {
        "id": "NqJbsVR7POZA"
      },
      "source": [
        "#### Configuración base"
      ]
    },
    {
      "cell_type": "code",
      "execution_count": null,
      "metadata": {
        "colab": {
          "base_uri": "https://localhost:8080/"
        },
        "id": "0FlafEtvOKR4",
        "outputId": "ea0185ee-77e3-47ce-927a-5944f2ae39ef"
      },
      "outputs": [
        {
          "output_type": "stream",
          "name": "stdout",
          "text": [
            "210 160 3\n",
            "Forma de la observación: (210, 160, 3)\n"
          ]
        },
        {
          "output_type": "execute_result",
          "data": {
            "text/plain": [
              "['NOOP', 'FIRE', 'RIGHT', 'LEFT', 'RIGHTFIRE', 'LEFTFIRE']"
            ]
          },
          "metadata": {},
          "execution_count": 5
        }
      ],
      "source": [
        "INPUT_SHAPE = (84, 84)\n",
        "WINDOW_LENGTH = 4\n",
        "\n",
        "env_name = 'SpaceInvaders-v0'\n",
        "env = gym.make(env_name)\n",
        "\n",
        "np.random.seed(123)\n",
        "env.seed(123)\n",
        "nb_actions = env.action_space.n\n",
        "\n",
        "#--- nuevo -- ejfm\n",
        "height, width, channels = env.observation_space.shape\n",
        "obs = env.reset()\n",
        "print(height, width, channels)\n",
        "print(\"Forma de la observación:\", obs.shape)  # Debe ser (height, width, channels)\n",
        "env.unwrapped.get_action_meanings()"
      ]
    },
    {
      "cell_type": "code",
      "execution_count": null,
      "metadata": {
        "id": "YSGPGszsOOAw"
      },
      "outputs": [],
      "source": [
        "class AtariProcessor(Processor):\n",
        "    def process_observation(self, observation):\n",
        "        assert observation.ndim == 3  # (height, width, channel)\n",
        "        img = Image.fromarray(observation)\n",
        "        img = img.resize(INPUT_SHAPE).convert('L')\n",
        "        processed_observation = np.array(img)\n",
        "        assert processed_observation.shape == INPUT_SHAPE\n",
        "        return processed_observation.astype('uint8')\n",
        "\n",
        "    def process_state_batch(self, batch):\n",
        "        # Convertir a float y escalar\n",
        "        # Linea Agregada\n",
        "        if isinstance(batch, list):\n",
        "          batch = np.array(batch)\n",
        "\n",
        "        batch = batch.astype('float32') / 255.\n",
        "\n",
        "        # 👇 Elimina el canal innecesario si existe (forma (B, 4, 84, 84, 1))\n",
        "        if batch.ndim == 5 and batch.shape[-1] == 1:\n",
        "            batch = np.squeeze(batch, axis=-1)\n",
        "\n",
        "        return batch\n",
        "\n",
        "    def process_reward(self, reward):\n",
        "        return np.clip(reward, -1., 1.)\n"
      ]
    },
    {
      "cell_type": "markdown",
      "metadata": {
        "id": "Sg54U9vFZEBQ"
      },
      "source": [
        "## 1. EJFM Implementación de la red neuronal"
      ]
    },
    {
      "cell_type": "code",
      "execution_count": null,
      "metadata": {
        "id": "aiE1_aXXmQM7"
      },
      "outputs": [],
      "source": [
        "import tensorflow as tf\n",
        "\n",
        "class NoisyDense(tf.keras.layers.Layer):\n",
        "    def __init__(self, units, sigma_init=0.017, **kwargs):\n",
        "        super(NoisyDense, self).__init__(**kwargs)\n",
        "        self.units = units\n",
        "        self.sigma_init = sigma_init\n",
        "\n",
        "    def build(self, input_shape):\n",
        "        input_dim = int(input_shape[-1])\n",
        "        self.mu_W = self.add_weight(\"mu_W\", shape=(input_dim, self.units),\n",
        "                                    initializer='random_uniform', trainable=True)\n",
        "        self.sigma_W = self.add_weight(\"sigma_W\", shape=(input_dim, self.units),\n",
        "                                       initializer=tf.keras.initializers.Constant(self.sigma_init), trainable=True)\n",
        "        self.mu_b = self.add_weight(\"mu_b\", shape=(self.units,),\n",
        "                                    initializer='zeros', trainable=True)\n",
        "        self.sigma_b = self.add_weight(\"sigma_b\", shape=(self.units,),\n",
        "                                       initializer=tf.keras.initializers.Constant(self.sigma_init), trainable=True)\n",
        "\n",
        "    def call(self, x):\n",
        "        epsilon_W = tf.random.normal((x.shape[-1], self.units))\n",
        "        epsilon_b = tf.random.normal((self.units,))\n",
        "        W = self.mu_W + self.sigma_W * epsilon_W\n",
        "        b = self.mu_b + self.sigma_b * epsilon_b\n",
        "        return tf.matmul(x, W) + b\n",
        "\n",
        "    def get_config(self):\n",
        "        config = super(NoisyDense, self).get_config()\n",
        "        config.update({\n",
        "            \"units\": self.units,\n",
        "            \"sigma_init\": self.sigma_init\n",
        "        })\n",
        "        return config\n"
      ]
    },
    {
      "cell_type": "code",
      "execution_count": null,
      "metadata": {
        "colab": {
          "base_uri": "https://localhost:8080/"
        },
        "id": "pygz71TLmV2t",
        "outputId": "60f235c3-a05b-4fde-e261-a487c1b80e51"
      },
      "outputs": [
        {
          "output_type": "stream",
          "name": "stdout",
          "text": [
            "Model: \"model\"\n",
            "_________________________________________________________________\n",
            " Layer (type)                Output Shape              Param #   \n",
            "=================================================================\n",
            " input_1 (InputLayer)        [(None, 4, 84, 84)]       0         \n",
            "                                                                 \n",
            " permute (Permute)           (None, 84, 84, 4)         0         \n",
            "                                                                 \n",
            " conv2d (Conv2D)             (None, 20, 20, 32)        8224      \n",
            "                                                                 \n",
            " conv2d_1 (Conv2D)           (None, 9, 9, 64)          32832     \n",
            "                                                                 \n",
            " conv2d_2 (Conv2D)           (None, 7, 7, 64)          36928     \n",
            "                                                                 \n",
            " flatten (Flatten)           (None, 3136)              0         \n",
            "                                                                 \n",
            " noisy_dense (NoisyDense)    (None, 512)               3212288   \n",
            "                                                                 \n",
            " activation (Activation)     (None, 512)               0         \n",
            "                                                                 \n",
            " noisy_dense_1 (NoisyDense)  (None, 6)                 6156      \n",
            "                                                                 \n",
            "=================================================================\n",
            "Total params: 3,296,428\n",
            "Trainable params: 3,296,428\n",
            "Non-trainable params: 0\n",
            "_________________________________________________________________\n"
          ]
        }
      ],
      "source": [
        "from tensorflow.keras.models import Model\n",
        "from tensorflow.keras.layers import Input, Permute, Convolution2D, Flatten, Activation\n",
        "\n",
        "input_layer = Input(shape=(WINDOW_LENGTH,) + INPUT_SHAPE)\n",
        "perm = Permute((2, 3, 1))(input_layer)  # Canal al final\n",
        "conv1 = Convolution2D(32, (8, 8), strides=(4, 4), activation='relu')(perm)\n",
        "conv2 = Convolution2D(64, (4, 4), strides=(2, 2), activation='relu')(conv1)\n",
        "conv3 = Convolution2D(64, (3, 3), strides=(1, 1), activation='relu')(conv2)\n",
        "flat = Flatten()(conv3)\n",
        "\n",
        "noisy1 = NoisyDense(512)(flat)\n",
        "noisy1 = Activation('relu')(noisy1)\n",
        "output_layer = NoisyDense(nb_actions)(noisy1)\n",
        "\n",
        "model = Model(inputs=input_layer, outputs=output_layer)\n",
        "model.summary()\n"
      ]
    },
    {
      "cell_type": "code",
      "execution_count": null,
      "metadata": {
        "id": "_H6vbJsFsnKi"
      },
      "outputs": [],
      "source": [
        "# Registrar la capa personalizada (una sola vez en todo el código)\n",
        "from tensorflow.keras.utils import get_custom_objects\n",
        "get_custom_objects().update({'NoisyDense': NoisyDense})"
      ]
    },
    {
      "cell_type": "markdown",
      "metadata": {
        "id": "KwJoe_1sZOX4"
      },
      "source": [
        "## 2. EJFM Implementación de la solución DQN"
      ]
    },
    {
      "cell_type": "markdown",
      "metadata": {
        "id": "mANAV3rVJXt7"
      },
      "source": [
        "### Ejecución Inicial\n",
        "\n"
      ]
    },
    {
      "cell_type": "code",
      "execution_count": null,
      "metadata": {
        "colab": {
          "base_uri": "https://localhost:8080/"
        },
        "id": "KU6UKvVYXESO",
        "outputId": "d941b0b0-b621-402f-e8e6-725637401864"
      },
      "outputs": [
        {
          "output_type": "stream",
          "name": "stdout",
          "text": [
            "Cargando memoria desde archivo...\n"
          ]
        }
      ],
      "source": [
        "####### Solución DQN #######\n",
        "\n",
        "import os\n",
        "import pickle\n",
        "\n",
        "# INTENTAR CARGAR LA MEMORIA\n",
        "memory_file = 'memory_noisy.pkl'\n",
        "if os.path.exists(memory_file):\n",
        "    print(\"Cargando memoria desde archivo...\")\n",
        "    with open(memory_file, 'rb') as f:\n",
        "        memory = pickle.load(f)\n",
        "else:\n",
        "    print(\"Creando nueva memoria...\")\n",
        "    memory = SequentialMemory(limit=1000000, window_length=4)\n",
        "\n",
        "# Crear política como de costumbre\n",
        "#policy = BoltzmannQPolicy()\n",
        "policy = EpsGreedyQPolicy(eps=0.0)\n",
        "\n",
        "# Crear agente\n",
        "dqn = DQNAgent(model=model, nb_actions=nb_actions, policy=policy, memory=memory,\n",
        "               processor=AtariProcessor(), nb_steps_warmup=50000, gamma=0.99,\n",
        "               target_model_update=10000, train_interval=4, delta_clip=5)\n",
        "\n",
        "# Compilar agente\n",
        "#dqn.compile(optimizer='adam', metrics=['mae'])\n",
        "#dqn.compile(optimizer=Adam(learning_rate=0.0001), metrics=['mae'])\n",
        "\n",
        "from tensorflow.keras.optimizers.legacy import Adam     # ← incluye get_updates\n",
        "# Compilar agente\n",
        "dqn.compile(optimizer=Adam(learning_rate=1e-4), metrics=['mae'])"
      ]
    },
    {
      "cell_type": "code",
      "execution_count": null,
      "metadata": {
        "id": "SEmhFU4mYzh-"
      },
      "outputs": [],
      "source": [
        "####### Crear directorios  logs y checkpoints #######\n",
        "\n",
        "import os\n",
        "log_dir = os.path.join(drive_root, \"logs\")\n",
        "checkpoint_dir = os.path.join(drive_root, \"checkpoints\")\n",
        "os.makedirs(log_dir, exist_ok=True)\n",
        "os.makedirs(checkpoint_dir, exist_ok=True)\n",
        "\n",
        "# Función para restaurar pesos más adelante\n",
        "import re\n",
        "\n",
        "def load_latest_weights(agent, checkpoint_dir, prefix=\"dqn_noisy_weights_\"):\n",
        "    \"\"\"\n",
        "    Busca el checkpoint más reciente, carga los pesos y retorna info útil.\n",
        "\n",
        "    Parámetros:\n",
        "        agent: el agente DQN ya creado y compilado.\n",
        "        checkpoint_dir: carpeta con los archivos de pesos.\n",
        "        prefix: prefijo de los archivos de pesos.\n",
        "\n",
        "    Retorna:\n",
        "        (ruta_archivo, pasos_entrenados) o (None, 0) si no se encuentra nada.\n",
        "    \"\"\"\n",
        "    files = [f for f in os.listdir(checkpoint_dir) if f.endswith(\".h5\")]\n",
        "    pattern = re.compile(rf\"{re.escape(prefix)}(\\d+)\\.h5\")\n",
        "\n",
        "    candidates = []\n",
        "    for f in files:\n",
        "        match = pattern.match(f)\n",
        "        if match:\n",
        "            step = int(match.group(1))\n",
        "            candidates.append((step, f))\n",
        "\n",
        "    if not candidates:\n",
        "        print(\"⚠️ No se encontraron checkpoints en:\", checkpoint_dir)\n",
        "        return None, 0\n",
        "\n",
        "    # Escoger el de mayor número de pasos\n",
        "    latest_step, latest_file = max(candidates, key=lambda x: x[0])\n",
        "    latest_path = os.path.join(checkpoint_dir, latest_file)\n",
        "\n",
        "    print(f\"✅ Cargando pesos desde: {latest_path} (pasos entrenados: {latest_step})\")\n",
        "    agent.load_weights(latest_path)\n",
        "    return latest_path, latest_step\n"
      ]
    },
    {
      "cell_type": "code",
      "execution_count": null,
      "metadata": {
        "colab": {
          "base_uri": "https://localhost:8080/"
        },
        "id": "n4rsQm4_zc5J",
        "outputId": "2b2a03ad-7f49-4720-bcdc-993b0391babc"
      },
      "outputs": [
        {
          "output_type": "stream",
          "name": "stdout",
          "text": [
            "✅ Cargando pesos desde: /content/gdrive/My Drive/MODELO 14/checkpoints/dqn_noisy_weights_800000.h5 (pasos entrenados: 800000)\n"
          ]
        }
      ],
      "source": [
        "# Cargar pesos anteriores si existen\n",
        "_, trained_steps = load_latest_weights(dqn, checkpoint_dir)\n",
        "\n",
        "# Definir pasos a entrenar\n",
        "steps_to_train = 100000\n",
        "total_steps = trained_steps + steps_to_train\n",
        "\n",
        "# Crear paths y callbacks dinámicos\n",
        "log_path = os.path.join(log_dir, f\"dqn_noisy_log_{trained_steps}_{total_steps}.json\")\n",
        "checkpoint_path = os.path.join(checkpoint_dir, f\"dqn_noisy_weights_{total_steps}.h5\")\n",
        "\n",
        "logger_callback = FileLogger(log_path, interval=100)\n",
        "checkpoint_callback = ModelIntervalCheckpoint(checkpoint_path, interval=10000)"
      ]
    },
    {
      "cell_type": "markdown",
      "metadata": {
        "id": "Qj8CoQ2mhISX"
      },
      "source": [
        "### Primera **Ejecución**"
      ]
    },
    {
      "cell_type": "code",
      "execution_count": null,
      "metadata": {
        "colab": {
          "base_uri": "https://localhost:8080/"
        },
        "id": "LLbFoBPFXGcV",
        "outputId": "ee747ea3-924c-4f61-e017-c0f842fbfafd"
      },
      "outputs": [
        {
          "output_type": "stream",
          "name": "stdout",
          "text": [
            "✅ Cargando pesos desde: /content/gdrive/My Drive/MODELO 14/checkpoints/dqn_noisy_weights_800000.h5 (pasos entrenados: 800000)\n",
            "Training for 100000 steps ...\n"
          ]
        },
        {
          "output_type": "stream",
          "name": "stderr",
          "text": [
            "/usr/local/lib/python3.11/dist-packages/keras/engine/training_v1.py:2359: UserWarning: `Model.state_updates` will be removed in a future version. This property should not be used in TensorFlow 2.0, as `updates` are applied automatically.\n",
            "  updates=self.state_updates,\n"
          ]
        },
        {
          "output_type": "stream",
          "name": "stdout",
          "text": [
            "   851/100000: episode: 1, duration: 33.101s, episode steps: 851, steps per second:  26, episode reward: 15.000, mean reward:  0.018 [ 0.000,  1.000], mean action: 1.777 [0.000, 5.000],  loss: --, mae: --, mean_q: --\n",
            "  1790/100000: episode: 2, duration: 38.502s, episode steps: 939, steps per second:  24, episode reward: 23.000, mean reward:  0.024 [ 0.000,  1.000], mean action: 1.691 [0.000, 5.000],  loss: --, mae: --, mean_q: --\n",
            "  2307/100000: episode: 3, duration: 18.706s, episode steps: 517, steps per second:  28, episode reward: 12.000, mean reward:  0.023 [ 0.000,  1.000], mean action: 1.892 [0.000, 5.000],  loss: --, mae: --, mean_q: --\n",
            "  2810/100000: episode: 4, duration: 18.872s, episode steps: 503, steps per second:  27, episode reward: 12.000, mean reward:  0.024 [ 0.000,  1.000], mean action: 2.368 [0.000, 5.000],  loss: --, mae: --, mean_q: --\n",
            "  3415/100000: episode: 5, duration: 22.698s, episode steps: 605, steps per second:  27, episode reward: 13.000, mean reward:  0.021 [ 0.000,  1.000], mean action: 1.899 [0.000, 5.000],  loss: --, mae: --, mean_q: --\n",
            "  4333/100000: episode: 6, duration: 35.857s, episode steps: 918, steps per second:  26, episode reward: 13.000, mean reward:  0.014 [ 0.000,  1.000], mean action: 2.001 [0.000, 5.000],  loss: --, mae: --, mean_q: --\n",
            "  4974/100000: episode: 7, duration: 23.090s, episode steps: 641, steps per second:  28, episode reward: 12.000, mean reward:  0.019 [ 0.000,  1.000], mean action: 2.101 [0.000, 5.000],  loss: --, mae: --, mean_q: --\n",
            "  5688/100000: episode: 8, duration: 27.016s, episode steps: 714, steps per second:  26, episode reward: 15.000, mean reward:  0.021 [ 0.000,  1.000], mean action: 1.999 [0.000, 5.000],  loss: --, mae: --, mean_q: --\n",
            "  6300/100000: episode: 9, duration: 25.537s, episode steps: 612, steps per second:  24, episode reward: 13.000, mean reward:  0.021 [ 0.000,  1.000], mean action: 2.015 [0.000, 5.000],  loss: --, mae: --, mean_q: --\n",
            "  6837/100000: episode: 10, duration: 19.453s, episode steps: 537, steps per second:  28, episode reward: 13.000, mean reward:  0.024 [ 0.000,  1.000], mean action: 1.845 [0.000, 5.000],  loss: --, mae: --, mean_q: --\n",
            "  7758/100000: episode: 11, duration: 35.172s, episode steps: 921, steps per second:  26, episode reward: 18.000, mean reward:  0.020 [ 0.000,  1.000], mean action: 1.964 [0.000, 5.000],  loss: --, mae: --, mean_q: --\n",
            "  8377/100000: episode: 12, duration: 22.514s, episode steps: 619, steps per second:  27, episode reward: 12.000, mean reward:  0.019 [ 0.000,  1.000], mean action: 1.893 [0.000, 5.000],  loss: --, mae: --, mean_q: --\n",
            "  9674/100000: episode: 13, duration: 49.605s, episode steps: 1297, steps per second:  26, episode reward: 29.000, mean reward:  0.022 [ 0.000,  1.000], mean action: 1.702 [0.000, 5.000],  loss: --, mae: --, mean_q: --\n",
            " 10375/100000: episode: 14, duration: 27.551s, episode steps: 701, steps per second:  25, episode reward: 15.000, mean reward:  0.021 [ 0.000,  1.000], mean action: 1.795 [0.000, 5.000],  loss: --, mae: --, mean_q: --\n",
            " 11024/100000: episode: 15, duration: 24.235s, episode steps: 649, steps per second:  27, episode reward: 14.000, mean reward:  0.022 [ 0.000,  1.000], mean action: 1.946 [0.000, 5.000],  loss: --, mae: --, mean_q: --\n",
            " 11701/100000: episode: 16, duration: 25.810s, episode steps: 677, steps per second:  26, episode reward: 12.000, mean reward:  0.018 [ 0.000,  1.000], mean action: 2.031 [0.000, 5.000],  loss: --, mae: --, mean_q: --\n",
            " 12096/100000: episode: 17, duration: 14.789s, episode steps: 395, steps per second:  27, episode reward:  8.000, mean reward:  0.020 [ 0.000,  1.000], mean action: 1.625 [0.000, 5.000],  loss: --, mae: --, mean_q: --\n",
            " 12929/100000: episode: 18, duration: 30.799s, episode steps: 833, steps per second:  27, episode reward: 16.000, mean reward:  0.019 [ 0.000,  1.000], mean action: 1.756 [0.000, 5.000],  loss: --, mae: --, mean_q: --\n",
            " 14067/100000: episode: 19, duration: 42.648s, episode steps: 1138, steps per second:  27, episode reward: 22.000, mean reward:  0.019 [ 0.000,  1.000], mean action: 1.870 [0.000, 5.000],  loss: --, mae: --, mean_q: --\n",
            " 14701/100000: episode: 20, duration: 26.238s, episode steps: 634, steps per second:  24, episode reward: 14.000, mean reward:  0.022 [ 0.000,  1.000], mean action: 1.830 [0.000, 5.000],  loss: --, mae: --, mean_q: --\n",
            " 15660/100000: episode: 21, duration: 34.916s, episode steps: 959, steps per second:  27, episode reward: 24.000, mean reward:  0.025 [ 0.000,  1.000], mean action: 1.789 [0.000, 5.000],  loss: --, mae: --, mean_q: --\n",
            " 16269/100000: episode: 22, duration: 26.563s, episode steps: 609, steps per second:  23, episode reward: 12.000, mean reward:  0.020 [ 0.000,  1.000], mean action: 2.002 [0.000, 5.000],  loss: --, mae: --, mean_q: --\n",
            " 16940/100000: episode: 23, duration: 25.615s, episode steps: 671, steps per second:  26, episode reward: 15.000, mean reward:  0.022 [ 0.000,  1.000], mean action: 2.060 [0.000, 5.000],  loss: --, mae: --, mean_q: --\n",
            " 17907/100000: episode: 24, duration: 35.276s, episode steps: 967, steps per second:  27, episode reward: 20.000, mean reward:  0.021 [ 0.000,  1.000], mean action: 1.903 [0.000, 5.000],  loss: --, mae: --, mean_q: --\n",
            " 18753/100000: episode: 25, duration: 33.612s, episode steps: 846, steps per second:  25, episode reward: 17.000, mean reward:  0.020 [ 0.000,  1.000], mean action: 1.642 [0.000, 5.000],  loss: --, mae: --, mean_q: --\n",
            " 19568/100000: episode: 26, duration: 31.581s, episode steps: 815, steps per second:  26, episode reward: 15.000, mean reward:  0.018 [ 0.000,  1.000], mean action: 1.782 [0.000, 5.000],  loss: --, mae: --, mean_q: --\n",
            " 20069/100000: episode: 27, duration: 19.286s, episode steps: 501, steps per second:  26, episode reward: 11.000, mean reward:  0.022 [ 0.000,  1.000], mean action: 1.956 [0.000, 5.000],  loss: --, mae: --, mean_q: --\n",
            " 21081/100000: episode: 28, duration: 38.665s, episode steps: 1012, steps per second:  26, episode reward: 22.000, mean reward:  0.022 [ 0.000,  1.000], mean action: 1.947 [0.000, 5.000],  loss: --, mae: --, mean_q: --\n",
            " 21601/100000: episode: 29, duration: 18.885s, episode steps: 520, steps per second:  28, episode reward: 11.000, mean reward:  0.021 [ 0.000,  1.000], mean action: 1.985 [0.000, 5.000],  loss: --, mae: --, mean_q: --\n",
            " 22148/100000: episode: 30, duration: 21.068s, episode steps: 547, steps per second:  26, episode reward: 11.000, mean reward:  0.020 [ 0.000,  1.000], mean action: 1.978 [0.000, 5.000],  loss: --, mae: --, mean_q: --\n",
            " 22643/100000: episode: 31, duration: 20.411s, episode steps: 495, steps per second:  24, episode reward: 12.000, mean reward:  0.024 [ 0.000,  1.000], mean action: 1.828 [0.000, 5.000],  loss: --, mae: --, mean_q: --\n",
            " 23304/100000: episode: 32, duration: 25.260s, episode steps: 661, steps per second:  26, episode reward: 14.000, mean reward:  0.021 [ 0.000,  1.000], mean action: 2.206 [0.000, 5.000],  loss: --, mae: --, mean_q: --\n",
            " 23794/100000: episode: 33, duration: 17.858s, episode steps: 490, steps per second:  27, episode reward: 12.000, mean reward:  0.024 [ 0.000,  1.000], mean action: 1.939 [0.000, 5.000],  loss: --, mae: --, mean_q: --\n",
            " 24207/100000: episode: 34, duration: 15.328s, episode steps: 413, steps per second:  27, episode reward:  9.000, mean reward:  0.022 [ 0.000,  1.000], mean action: 1.990 [0.000, 5.000],  loss: --, mae: --, mean_q: --\n",
            " 24704/100000: episode: 35, duration: 18.079s, episode steps: 497, steps per second:  27, episode reward: 12.000, mean reward:  0.024 [ 0.000,  1.000], mean action: 1.934 [0.000, 5.000],  loss: --, mae: --, mean_q: --\n",
            " 25905/100000: episode: 36, duration: 45.737s, episode steps: 1201, steps per second:  26, episode reward: 20.000, mean reward:  0.017 [ 0.000,  1.000], mean action: 1.863 [0.000, 5.000],  loss: --, mae: --, mean_q: --\n",
            " 26461/100000: episode: 37, duration: 20.927s, episode steps: 556, steps per second:  27, episode reward: 12.000, mean reward:  0.022 [ 0.000,  1.000], mean action: 2.052 [0.000, 5.000],  loss: --, mae: --, mean_q: --\n",
            " 27476/100000: episode: 38, duration: 40.411s, episode steps: 1015, steps per second:  25, episode reward: 23.000, mean reward:  0.023 [ 0.000,  1.000], mean action: 1.674 [0.000, 5.000],  loss: --, mae: --, mean_q: --\n",
            " 28327/100000: episode: 39, duration: 31.502s, episode steps: 851, steps per second:  27, episode reward: 15.000, mean reward:  0.018 [ 0.000,  1.000], mean action: 1.859 [0.000, 5.000],  loss: --, mae: --, mean_q: --\n",
            " 28864/100000: episode: 40, duration: 20.326s, episode steps: 537, steps per second:  26, episode reward: 11.000, mean reward:  0.020 [ 0.000,  1.000], mean action: 2.043 [0.000, 5.000],  loss: --, mae: --, mean_q: --\n",
            " 29695/100000: episode: 41, duration: 31.721s, episode steps: 831, steps per second:  26, episode reward: 16.000, mean reward:  0.019 [ 0.000,  1.000], mean action: 1.578 [0.000, 5.000],  loss: --, mae: --, mean_q: --\n",
            " 30659/100000: episode: 42, duration: 35.422s, episode steps: 964, steps per second:  27, episode reward: 21.000, mean reward:  0.022 [ 0.000,  1.000], mean action: 2.000 [0.000, 5.000],  loss: --, mae: --, mean_q: --\n",
            " 31154/100000: episode: 43, duration: 20.235s, episode steps: 495, steps per second:  24, episode reward: 11.000, mean reward:  0.022 [ 0.000,  1.000], mean action: 2.184 [0.000, 5.000],  loss: --, mae: --, mean_q: --\n",
            " 31667/100000: episode: 44, duration: 19.991s, episode steps: 513, steps per second:  26, episode reward: 12.000, mean reward:  0.023 [ 0.000,  1.000], mean action: 2.096 [0.000, 5.000],  loss: --, mae: --, mean_q: --\n",
            " 32528/100000: episode: 45, duration: 31.720s, episode steps: 861, steps per second:  27, episode reward: 16.000, mean reward:  0.019 [ 0.000,  1.000], mean action: 1.627 [0.000, 5.000],  loss: --, mae: --, mean_q: --\n",
            " 33064/100000: episode: 46, duration: 20.945s, episode steps: 536, steps per second:  26, episode reward: 11.000, mean reward:  0.021 [ 0.000,  1.000], mean action: 2.084 [0.000, 5.000],  loss: --, mae: --, mean_q: --\n",
            " 34162/100000: episode: 47, duration: 40.382s, episode steps: 1098, steps per second:  27, episode reward: 21.000, mean reward:  0.019 [ 0.000,  1.000], mean action: 2.005 [0.000, 5.000],  loss: --, mae: --, mean_q: --\n",
            " 35000/100000: episode: 48, duration: 32.023s, episode steps: 838, steps per second:  26, episode reward: 15.000, mean reward:  0.018 [ 0.000,  1.000], mean action: 1.826 [0.000, 5.000],  loss: --, mae: --, mean_q: --\n",
            " 35906/100000: episode: 49, duration: 34.989s, episode steps: 906, steps per second:  26, episode reward: 16.000, mean reward:  0.018 [ 0.000,  1.000], mean action: 1.904 [0.000, 5.000],  loss: --, mae: --, mean_q: --\n",
            " 36668/100000: episode: 50, duration: 28.543s, episode steps: 762, steps per second:  27, episode reward: 12.000, mean reward:  0.016 [ 0.000,  1.000], mean action: 1.895 [0.000, 5.000],  loss: --, mae: --, mean_q: --\n",
            " 37186/100000: episode: 51, duration: 20.504s, episode steps: 518, steps per second:  25, episode reward: 12.000, mean reward:  0.023 [ 0.000,  1.000], mean action: 1.985 [0.000, 5.000],  loss: --, mae: --, mean_q: --\n",
            " 38013/100000: episode: 52, duration: 30.671s, episode steps: 827, steps per second:  27, episode reward: 15.000, mean reward:  0.018 [ 0.000,  1.000], mean action: 1.865 [0.000, 5.000],  loss: --, mae: --, mean_q: --\n",
            " 38528/100000: episode: 53, duration: 18.768s, episode steps: 515, steps per second:  27, episode reward: 12.000, mean reward:  0.023 [ 0.000,  1.000], mean action: 1.858 [0.000, 5.000],  loss: --, mae: --, mean_q: --\n",
            " 39436/100000: episode: 54, duration: 35.093s, episode steps: 908, steps per second:  26, episode reward: 17.000, mean reward:  0.019 [ 0.000,  1.000], mean action: 1.932 [0.000, 5.000],  loss: --, mae: --, mean_q: --\n",
            " 40075/100000: episode: 55, duration: 25.581s, episode steps: 639, steps per second:  25, episode reward: 12.000, mean reward:  0.019 [ 0.000,  1.000], mean action: 1.989 [0.000, 5.000],  loss: --, mae: --, mean_q: --\n",
            " 40881/100000: episode: 56, duration: 31.101s, episode steps: 806, steps per second:  26, episode reward: 15.000, mean reward:  0.019 [ 0.000,  1.000], mean action: 2.012 [0.000, 5.000],  loss: --, mae: --, mean_q: --\n",
            " 41507/100000: episode: 57, duration: 22.403s, episode steps: 626, steps per second:  28, episode reward: 14.000, mean reward:  0.022 [ 0.000,  1.000], mean action: 1.847 [0.000, 5.000],  loss: --, mae: --, mean_q: --\n",
            " 42218/100000: episode: 58, duration: 26.778s, episode steps: 711, steps per second:  27, episode reward: 14.000, mean reward:  0.020 [ 0.000,  1.000], mean action: 2.096 [0.000, 5.000],  loss: --, mae: --, mean_q: --\n",
            " 42729/100000: episode: 59, duration: 19.565s, episode steps: 511, steps per second:  26, episode reward: 12.000, mean reward:  0.023 [ 0.000,  1.000], mean action: 1.791 [0.000, 5.000],  loss: --, mae: --, mean_q: --\n",
            " 43329/100000: episode: 60, duration: 22.071s, episode steps: 600, steps per second:  27, episode reward: 11.000, mean reward:  0.018 [ 0.000,  1.000], mean action: 2.332 [0.000, 5.000],  loss: --, mae: --, mean_q: --\n",
            " 44054/100000: episode: 61, duration: 27.275s, episode steps: 725, steps per second:  27, episode reward: 15.000, mean reward:  0.021 [ 0.000,  1.000], mean action: 2.059 [0.000, 5.000],  loss: --, mae: --, mean_q: --\n",
            " 45091/100000: episode: 62, duration: 41.127s, episode steps: 1037, steps per second:  25, episode reward: 20.000, mean reward:  0.019 [ 0.000,  1.000], mean action: 1.889 [0.000, 5.000],  loss: --, mae: --, mean_q: --\n",
            " 45791/100000: episode: 63, duration: 26.541s, episode steps: 700, steps per second:  26, episode reward: 16.000, mean reward:  0.023 [ 0.000,  1.000], mean action: 1.794 [0.000, 5.000],  loss: --, mae: --, mean_q: --\n",
            " 46637/100000: episode: 64, duration: 31.259s, episode steps: 846, steps per second:  27, episode reward: 18.000, mean reward:  0.021 [ 0.000,  1.000], mean action: 1.927 [0.000, 5.000],  loss: --, mae: --, mean_q: --\n",
            " 47337/100000: episode: 65, duration: 26.457s, episode steps: 700, steps per second:  26, episode reward: 15.000, mean reward:  0.021 [ 0.000,  1.000], mean action: 1.886 [0.000, 5.000],  loss: --, mae: --, mean_q: --\n",
            " 48178/100000: episode: 66, duration: 31.023s, episode steps: 841, steps per second:  27, episode reward: 17.000, mean reward:  0.020 [ 0.000,  1.000], mean action: 1.855 [0.000, 5.000],  loss: --, mae: --, mean_q: --\n",
            " 48826/100000: episode: 67, duration: 26.650s, episode steps: 648, steps per second:  24, episode reward: 15.000, mean reward:  0.023 [ 0.000,  1.000], mean action: 1.792 [0.000, 5.000],  loss: --, mae: --, mean_q: --\n",
            " 49732/100000: episode: 68, duration: 33.078s, episode steps: 906, steps per second:  27, episode reward: 19.000, mean reward:  0.021 [ 0.000,  1.000], mean action: 1.659 [0.000, 5.000],  loss: --, mae: --, mean_q: --\n"
          ]
        },
        {
          "output_type": "stream",
          "name": "stderr",
          "text": [
            "/usr/local/lib/python3.11/dist-packages/keras/engine/training_v1.py:2359: UserWarning: `Model.state_updates` will be removed in a future version. This property should not be used in TensorFlow 2.0, as `updates` are applied automatically.\n",
            "  updates=self.state_updates,\n"
          ]
        },
        {
          "output_type": "stream",
          "name": "stdout",
          "text": [
            " 51066/100000: episode: 69, duration: 137.926s, episode steps: 1334, steps per second:  10, episode reward: 23.000, mean reward:  0.017 [ 0.000,  1.000], mean action: 1.973 [0.000, 5.000],  loss: 0.009461, mae: 0.737726, mean_q: 0.897028\n",
            " 51849/100000: episode: 70, duration: 89.803s, episode steps: 783, steps per second:   9, episode reward: 19.000, mean reward:  0.024 [ 0.000,  1.000], mean action: 2.332 [0.000, 5.000],  loss: 0.008562, mae: 0.730732, mean_q: 0.888229\n",
            " 53152/100000: episode: 71, duration: 151.863s, episode steps: 1303, steps per second:   9, episode reward: 24.000, mean reward:  0.018 [ 0.000,  1.000], mean action: 2.568 [0.000, 5.000],  loss: 0.008750, mae: 0.742240, mean_q: 0.901246\n",
            " 53943/100000: episode: 72, duration: 92.891s, episode steps: 791, steps per second:   9, episode reward: 12.000, mean reward:  0.015 [ 0.000,  1.000], mean action: 2.153 [0.000, 5.000],  loss: 0.009233, mae: 0.733336, mean_q: 0.890420\n",
            " 54745/100000: episode: 73, duration: 91.583s, episode steps: 802, steps per second:   9, episode reward: 13.000, mean reward:  0.016 [ 0.000,  1.000], mean action: 2.209 [0.000, 5.000],  loss: 0.008313, mae: 0.726542, mean_q: 0.883484\n",
            " 55744/100000: episode: 74, duration: 115.660s, episode steps: 999, steps per second:   9, episode reward: 21.000, mean reward:  0.021 [ 0.000,  1.000], mean action: 2.223 [0.000, 5.000],  loss: 0.008018, mae: 0.733838, mean_q: 0.893235\n",
            " 56135/100000: episode: 75, duration: 44.839s, episode steps: 391, steps per second:   9, episode reward:  8.000, mean reward:  0.020 [ 0.000,  1.000], mean action: 1.547 [0.000, 5.000],  loss: 0.009929, mae: 0.736115, mean_q: 0.895125\n",
            " 56782/100000: episode: 76, duration: 76.180s, episode steps: 647, steps per second:   8, episode reward: 11.000, mean reward:  0.017 [ 0.000,  1.000], mean action: 2.359 [0.000, 5.000],  loss: 0.008375, mae: 0.739433, mean_q: 0.898345\n",
            " 57718/100000: episode: 77, duration: 107.959s, episode steps: 936, steps per second:   9, episode reward: 16.000, mean reward:  0.017 [ 0.000,  1.000], mean action: 2.092 [0.000, 5.000],  loss: 0.009234, mae: 0.740317, mean_q: 0.899631\n",
            " 58556/100000: episode: 78, duration: 98.056s, episode steps: 838, steps per second:   9, episode reward: 17.000, mean reward:  0.020 [ 0.000,  1.000], mean action: 1.449 [0.000, 5.000],  loss: 0.007595, mae: 0.730420, mean_q: 0.888499\n",
            " 59796/100000: episode: 79, duration: 145.807s, episode steps: 1240, steps per second:   9, episode reward: 23.000, mean reward:  0.019 [ 0.000,  1.000], mean action: 2.456 [0.000, 5.000],  loss: 0.008310, mae: 0.742536, mean_q: 0.902526\n",
            " 60706/100000: episode: 80, duration: 104.982s, episode steps: 910, steps per second:   9, episode reward: 19.000, mean reward:  0.021 [ 0.000,  1.000], mean action: 1.899 [0.000, 5.000],  loss: 0.008806, mae: 0.758866, mean_q: 0.921684\n",
            " 61568/100000: episode: 81, duration: 102.765s, episode steps: 862, steps per second:   8, episode reward: 14.000, mean reward:  0.016 [ 0.000,  1.000], mean action: 2.758 [0.000, 5.000],  loss: 0.010062, mae: 0.771309, mean_q: 0.938484\n",
            " 62987/100000: episode: 82, duration: 163.805s, episode steps: 1419, steps per second:   9, episode reward: 26.000, mean reward:  0.018 [ 0.000,  1.000], mean action: 2.001 [0.000, 5.000],  loss: 0.008729, mae: 0.766834, mean_q: 0.931809\n",
            " 64075/100000: episode: 83, duration: 126.669s, episode steps: 1088, steps per second:   9, episode reward: 22.000, mean reward:  0.020 [ 0.000,  1.000], mean action: 2.447 [0.000, 5.000],  loss: 0.008194, mae: 0.760287, mean_q: 0.923407\n",
            " 64910/100000: episode: 84, duration: 97.201s, episode steps: 835, steps per second:   9, episode reward: 17.000, mean reward:  0.020 [ 0.000,  1.000], mean action: 1.986 [0.000, 5.000],  loss: 0.008600, mae: 0.750882, mean_q: 0.911757\n",
            " 65580/100000: episode: 85, duration: 79.919s, episode steps: 670, steps per second:   8, episode reward: 12.000, mean reward:  0.018 [ 0.000,  1.000], mean action: 2.487 [0.000, 5.000],  loss: 0.009148, mae: 0.761775, mean_q: 0.925675\n",
            " 66416/100000: episode: 86, duration: 97.675s, episode steps: 836, steps per second:   9, episode reward: 16.000, mean reward:  0.019 [ 0.000,  1.000], mean action: 2.343 [0.000, 5.000],  loss: 0.009556, mae: 0.763624, mean_q: 0.928874\n",
            " 67170/100000: episode: 87, duration: 89.794s, episode steps: 754, steps per second:   8, episode reward: 16.000, mean reward:  0.021 [ 0.000,  1.000], mean action: 2.041 [0.000, 5.000],  loss: 0.009495, mae: 0.772351, mean_q: 0.937872\n",
            " 68092/100000: episode: 88, duration: 113.073s, episode steps: 922, steps per second:   8, episode reward: 15.000, mean reward:  0.016 [ 0.000,  1.000], mean action: 2.068 [0.000, 5.000],  loss: 0.009146, mae: 0.773746, mean_q: 0.940191\n",
            " 68753/100000: episode: 89, duration: 78.238s, episode steps: 661, steps per second:   8, episode reward: 12.000, mean reward:  0.018 [ 0.000,  1.000], mean action: 2.493 [0.000, 5.000],  loss: 0.009725, mae: 0.765575, mean_q: 0.930311\n",
            " 69273/100000: episode: 90, duration: 61.517s, episode steps: 520, steps per second:   8, episode reward:  6.000, mean reward:  0.012 [ 0.000,  1.000], mean action: 3.023 [0.000, 5.000],  loss: 0.009574, mae: 0.771502, mean_q: 0.938155\n",
            " 69949/100000: episode: 91, duration: 80.076s, episode steps: 676, steps per second:   8, episode reward: 13.000, mean reward:  0.019 [ 0.000,  1.000], mean action: 2.080 [0.000, 5.000],  loss: 0.010067, mae: 0.765682, mean_q: 0.929980\n",
            " 70681/100000: episode: 92, duration: 86.547s, episode steps: 732, steps per second:   8, episode reward: 14.000, mean reward:  0.019 [ 0.000,  1.000], mean action: 2.294 [0.000, 5.000],  loss: 0.008983, mae: 0.786661, mean_q: 0.955247\n",
            " 72358/100000: episode: 93, duration: 196.484s, episode steps: 1677, steps per second:   9, episode reward: 27.000, mean reward:  0.016 [ 0.000,  1.000], mean action: 2.299 [0.000, 5.000],  loss: 0.009204, mae: 0.792892, mean_q: 0.963367\n",
            " 73403/100000: episode: 94, duration: 124.244s, episode steps: 1045, steps per second:   8, episode reward: 16.000, mean reward:  0.015 [ 0.000,  1.000], mean action: 2.447 [0.000, 5.000],  loss: 0.010011, mae: 0.787075, mean_q: 0.955520\n",
            " 74156/100000: episode: 95, duration: 87.340s, episode steps: 753, steps per second:   9, episode reward: 12.000, mean reward:  0.016 [ 0.000,  1.000], mean action: 2.190 [0.000, 5.000],  loss: 0.010438, mae: 0.795586, mean_q: 0.965403\n",
            " 74847/100000: episode: 96, duration: 82.770s, episode steps: 691, steps per second:   8, episode reward: 13.000, mean reward:  0.019 [ 0.000,  1.000], mean action: 2.784 [0.000, 5.000],  loss: 0.009278, mae: 0.786900, mean_q: 0.955051\n",
            " 75778/100000: episode: 97, duration: 111.725s, episode steps: 931, steps per second:   8, episode reward: 18.000, mean reward:  0.019 [ 0.000,  1.000], mean action: 1.743 [0.000, 5.000],  loss: 0.010591, mae: 0.787517, mean_q: 0.955023\n",
            " 76846/100000: episode: 98, duration: 125.692s, episode steps: 1068, steps per second:   8, episode reward: 20.000, mean reward:  0.019 [ 0.000,  1.000], mean action: 2.441 [0.000, 5.000],  loss: 0.009259, mae: 0.786132, mean_q: 0.954448\n",
            " 77500/100000: episode: 99, duration: 78.118s, episode steps: 654, steps per second:   8, episode reward: 12.000, mean reward:  0.018 [ 0.000,  1.000], mean action: 1.934 [0.000, 5.000],  loss: 0.009768, mae: 0.796521, mean_q: 0.967461\n",
            " 78158/100000: episode: 100, duration: 77.858s, episode steps: 658, steps per second:   8, episode reward: 12.000, mean reward:  0.018 [ 0.000,  1.000], mean action: 2.327 [0.000, 5.000],  loss: 0.010464, mae: 0.792940, mean_q: 0.962393\n",
            " 78973/100000: episode: 101, duration: 95.770s, episode steps: 815, steps per second:   9, episode reward: 15.000, mean reward:  0.018 [ 0.000,  1.000], mean action: 1.842 [0.000, 5.000],  loss: 0.009652, mae: 0.797540, mean_q: 0.968015\n",
            " 79661/100000: episode: 102, duration: 80.840s, episode steps: 688, steps per second:   9, episode reward: 12.000, mean reward:  0.017 [ 0.000,  1.000], mean action: 1.715 [0.000, 5.000],  loss: 0.009125, mae: 0.791241, mean_q: 0.961914\n",
            " 80718/100000: episode: 103, duration: 126.024s, episode steps: 1057, steps per second:   8, episode reward: 24.000, mean reward:  0.023 [ 0.000,  1.000], mean action: 2.078 [0.000, 5.000],  loss: 0.009087, mae: 0.800590, mean_q: 0.974086\n",
            " 81382/100000: episode: 104, duration: 76.254s, episode steps: 664, steps per second:   9, episode reward: 11.000, mean reward:  0.017 [ 0.000,  1.000], mean action: 1.788 [0.000, 5.000],  loss: 0.008289, mae: 0.805691, mean_q: 0.979742\n",
            " 82422/100000: episode: 105, duration: 123.686s, episode steps: 1040, steps per second:   8, episode reward: 16.000, mean reward:  0.015 [ 0.000,  1.000], mean action: 2.250 [0.000, 5.000],  loss: 0.009253, mae: 0.816678, mean_q: 0.993822\n",
            " 83308/100000: episode: 106, duration: 104.875s, episode steps: 886, steps per second:   8, episode reward: 21.000, mean reward:  0.024 [ 0.000,  1.000], mean action: 1.940 [0.000, 5.000],  loss: 0.009010, mae: 0.812502, mean_q: 0.987877\n",
            " 83979/100000: episode: 107, duration: 78.985s, episode steps: 671, steps per second:   8, episode reward: 12.000, mean reward:  0.018 [ 0.000,  1.000], mean action: 2.097 [0.000, 5.000],  loss: 0.009822, mae: 0.823447, mean_q: 0.999381\n",
            " 84527/100000: episode: 108, duration: 66.522s, episode steps: 548, steps per second:   8, episode reward: 10.000, mean reward:  0.018 [ 0.000,  1.000], mean action: 2.321 [0.000, 5.000],  loss: 0.010657, mae: 0.823859, mean_q: 1.000617\n",
            " 85434/100000: episode: 109, duration: 105.829s, episode steps: 907, steps per second:   9, episode reward: 17.000, mean reward:  0.019 [ 0.000,  1.000], mean action: 2.447 [0.000, 5.000],  loss: 0.010090, mae: 0.815297, mean_q: 0.990161\n",
            " 86358/100000: episode: 110, duration: 111.214s, episode steps: 924, steps per second:   8, episode reward: 19.000, mean reward:  0.021 [ 0.000,  1.000], mean action: 1.705 [0.000, 5.000],  loss: 0.009439, mae: 0.806745, mean_q: 0.980138\n",
            " 87188/100000: episode: 111, duration: 97.955s, episode steps: 830, steps per second:   8, episode reward: 16.000, mean reward:  0.019 [ 0.000,  1.000], mean action: 2.155 [0.000, 5.000],  loss: 0.009311, mae: 0.812124, mean_q: 0.986246\n",
            " 87755/100000: episode: 112, duration: 68.667s, episode steps: 567, steps per second:   8, episode reward: 10.000, mean reward:  0.018 [ 0.000,  1.000], mean action: 2.035 [0.000, 5.000],  loss: 0.008271, mae: 0.820880, mean_q: 0.999819\n",
            " 88425/100000: episode: 113, duration: 78.219s, episode steps: 670, steps per second:   9, episode reward: 12.000, mean reward:  0.018 [ 0.000,  1.000], mean action: 1.600 [0.000, 5.000],  loss: 0.009173, mae: 0.805646, mean_q: 0.979482\n",
            " 89367/100000: episode: 114, duration: 112.475s, episode steps: 942, steps per second:   8, episode reward: 18.000, mean reward:  0.019 [ 0.000,  1.000], mean action: 1.753 [0.000, 5.000],  loss: 0.009366, mae: 0.813866, mean_q: 0.989246\n",
            " 90150/100000: episode: 115, duration: 93.369s, episode steps: 783, steps per second:   8, episode reward: 16.000, mean reward:  0.020 [ 0.000,  1.000], mean action: 1.792 [0.000, 5.000],  loss: 0.008937, mae: 0.804206, mean_q: 0.977440\n",
            " 91002/100000: episode: 116, duration: 102.095s, episode steps: 852, steps per second:   8, episode reward: 12.000, mean reward:  0.014 [ 0.000,  1.000], mean action: 2.265 [0.000, 5.000],  loss: 0.008515, mae: 0.825236, mean_q: 1.003276\n",
            " 92320/100000: episode: 117, duration: 157.785s, episode steps: 1318, steps per second:   8, episode reward: 30.000, mean reward:  0.023 [ 0.000,  1.000], mean action: 2.367 [0.000, 5.000],  loss: 0.008889, mae: 0.830297, mean_q: 1.008594\n",
            " 92858/100000: episode: 118, duration: 64.473s, episode steps: 538, steps per second:   8, episode reward: 10.000, mean reward:  0.019 [ 0.000,  1.000], mean action: 2.175 [0.000, 5.000],  loss: 0.009778, mae: 0.815991, mean_q: 0.991960\n",
            " 93921/100000: episode: 119, duration: 127.811s, episode steps: 1063, steps per second:   8, episode reward: 21.000, mean reward:  0.020 [ 0.000,  1.000], mean action: 2.661 [0.000, 5.000],  loss: 0.008718, mae: 0.827770, mean_q: 1.006627\n",
            " 94414/100000: episode: 120, duration: 57.904s, episode steps: 493, steps per second:   9, episode reward:  8.000, mean reward:  0.016 [ 0.000,  1.000], mean action: 1.777 [0.000, 5.000],  loss: 0.009730, mae: 0.842545, mean_q: 1.026409\n",
            " 95324/100000: episode: 121, duration: 110.142s, episode steps: 910, steps per second:   8, episode reward: 18.000, mean reward:  0.020 [ 0.000,  1.000], mean action: 2.232 [0.000, 5.000],  loss: 0.010030, mae: 0.828733, mean_q: 1.008231\n",
            " 96058/100000: episode: 122, duration: 86.904s, episode steps: 734, steps per second:   8, episode reward: 17.000, mean reward:  0.023 [ 0.000,  1.000], mean action: 2.232 [0.000, 5.000],  loss: 0.008868, mae: 0.833959, mean_q: 1.013307\n",
            " 96532/100000: episode: 123, duration: 58.591s, episode steps: 474, steps per second:   8, episode reward:  9.000, mean reward:  0.019 [ 0.000,  1.000], mean action: 2.532 [0.000, 5.000],  loss: 0.009102, mae: 0.816639, mean_q: 0.993470\n",
            " 97285/100000: episode: 124, duration: 91.138s, episode steps: 753, steps per second:   8, episode reward: 20.000, mean reward:  0.027 [ 0.000,  1.000], mean action: 2.406 [0.000, 5.000],  loss: 0.009048, mae: 0.829459, mean_q: 1.008181\n",
            " 98169/100000: episode: 125, duration: 106.306s, episode steps: 884, steps per second:   8, episode reward: 18.000, mean reward:  0.020 [ 0.000,  1.000], mean action: 1.669 [0.000, 5.000],  loss: 0.009136, mae: 0.831718, mean_q: 1.010928\n",
            " 98978/100000: episode: 126, duration: 97.059s, episode steps: 809, steps per second:   8, episode reward: 15.000, mean reward:  0.019 [ 0.000,  1.000], mean action: 1.973 [0.000, 5.000],  loss: 0.008568, mae: 0.817514, mean_q: 0.992916\n",
            " 99682/100000: episode: 127, duration: 85.814s, episode steps: 704, steps per second:   8, episode reward: 14.000, mean reward:  0.020 [ 0.000,  1.000], mean action: 3.009 [0.000, 5.000],  loss: 0.009131, mae: 0.813935, mean_q: 0.988827\n",
            "done, took 7820.234 seconds\n"
          ]
        }
      ],
      "source": [
        "# Cargar último checkpoint\n",
        "latest_path, trained_steps = load_latest_weights(dqn, checkpoint_dir)\n",
        "\n",
        "# Entrenar agente\n",
        "dqn.fit(env, nb_steps=100000, visualize=False, verbose=2,\n",
        "        callbacks=[checkpoint_callback, logger_callback])\n",
        "\n",
        "# Guardar pesos finales en formato .h5 (compatible con load_weights)\n",
        "dqn.save_weights(os.path.join(checkpoint_dir, f\"dqn_noisy_weights_{total_steps}.h5\"), overwrite=True)\n"
      ]
    },
    {
      "cell_type": "code",
      "source": [
        "# GUARDAR LA MEMORIA DE EXPERIENCIA\n",
        "import pickle\n",
        "with open('memory_noisy.pkl', 'wb') as f:\n",
        "    pickle.dump(memory, f)"
      ],
      "metadata": {
        "id": "zjGTF8LotNz9"
      },
      "execution_count": null,
      "outputs": []
    },
    {
      "cell_type": "code",
      "execution_count": null,
      "metadata": {
        "id": "hcqrLtRxi23X"
      },
      "outputs": [],
      "source": [
        "import time\n",
        "\n",
        "print(\"Esperando 60 segundos...\")\n",
        "time.sleep(60)\n",
        "print(\"¡Tiempo de espera terminado!\")"
      ]
    },
    {
      "cell_type": "code",
      "execution_count": null,
      "metadata": {
        "id": "fuVSBuiyi56X"
      },
      "outputs": [],
      "source": [
        "# Testear desde último checkpoint\n",
        "latest_path, trained_steps = load_latest_weights(dqn, checkpoint_dir)\n",
        "if latest_path:\n",
        "    dqn.test(env, nb_episodes=10, visualize=False)"
      ]
    },
    {
      "cell_type": "markdown",
      "metadata": {
        "id": "CMKpo4cgDXND"
      },
      "source": [
        "### Parte 2"
      ]
    },
    {
      "cell_type": "code",
      "execution_count": null,
      "metadata": {
        "id": "8_fQUrYHDVG2"
      },
      "outputs": [],
      "source": [
        "# Cargar pesos anteriores si existen\n",
        "latest_path, trained_steps = load_latest_weights(dqn, checkpoint_dir)\n",
        "if latest_path:\n",
        "    dqn.load_weights(latest_path)\n",
        "else:\n",
        "    trained_steps = 0\n",
        "\n",
        "# Definir pasos a entrenar\n",
        "steps_to_train = 100000\n",
        "total_steps = trained_steps + steps_to_train\n",
        "\n",
        "# Crear paths y callbacks dinámicos\n",
        "log_path = os.path.join(log_dir, f\"dqn_noisy_log_{trained_steps}_{total_steps}.json\")\n",
        "checkpoint_path = os.path.join(checkpoint_dir, f\"dqn_noisy_weights_{total_steps}.h5\")\n",
        "\n",
        "logger_callback = FileLogger(log_path, interval=100)\n",
        "checkpoint_callback = ModelIntervalCheckpoint(checkpoint_path, interval=10000)\n",
        "\n",
        "# Entrenar agente\n",
        "dqn.fit(env, nb_steps=steps_to_train, visualize=False, verbose=2,\n",
        "        callbacks=[checkpoint_callback, logger_callback])\n",
        "\n",
        "# Guardar pesos finales\n",
        "dqn.save_weights(checkpoint_path, overwrite=True)"
      ]
    },
    {
      "cell_type": "code",
      "source": [
        "# Guardar la memoria de experiencia\n",
        "import pickle\n",
        "with open('memory_noisy.pkl', 'wb') as f:\n",
        "    pickle.dump(memory, f)\n",
        "\n",
        "print(f\"Entrenamiento hasta {total_steps} pasos completado y guardado.\")"
      ],
      "metadata": {
        "id": "UTo4DseitUK3"
      },
      "execution_count": null,
      "outputs": []
    },
    {
      "cell_type": "code",
      "execution_count": null,
      "metadata": {
        "id": "9x6-wgiTDbRz"
      },
      "outputs": [],
      "source": [
        "import time\n",
        "\n",
        "print(\"Esperando 60 segundos...\")\n",
        "time.sleep(60)\n",
        "print(\"¡Tiempo de espera terminado!\")"
      ]
    },
    {
      "cell_type": "code",
      "execution_count": null,
      "metadata": {
        "id": "4Fvp-zjUDenQ"
      },
      "outputs": [],
      "source": [
        "# Testear desde último checkpoint\n",
        "latest_path, trained_steps = load_latest_weights(dqn, checkpoint_dir)\n",
        "if latest_path:\n",
        "    dqn.test(env, nb_episodes=10, visualize=False)"
      ]
    },
    {
      "cell_type": "markdown",
      "metadata": {
        "id": "YUDYGUBohiiG"
      },
      "source": [
        "Parte 3"
      ]
    },
    {
      "cell_type": "code",
      "execution_count": null,
      "metadata": {
        "id": "gYx2dGVThmiH"
      },
      "outputs": [],
      "source": [
        "# Cargar pesos anteriores si existen\n",
        "latest_path, trained_steps = load_latest_weights(dqn, checkpoint_dir)\n",
        "if latest_path:\n",
        "    dqn.load_weights(latest_path)\n",
        "else:\n",
        "    trained_steps = 0\n",
        "\n",
        "# Definir pasos a entrenar\n",
        "steps_to_train = 100000\n",
        "total_steps = trained_steps + steps_to_train\n",
        "\n",
        "# Crear paths y callbacks dinámicos\n",
        "log_path = os.path.join(log_dir, f\"dqn_noisy_log_{trained_steps}_{total_steps}.json\")\n",
        "checkpoint_path = os.path.join(checkpoint_dir, f\"dqn_noisy_weights_{total_steps}.h5\")\n",
        "\n",
        "logger_callback = FileLogger(log_path, interval=100)\n",
        "checkpoint_callback = ModelIntervalCheckpoint(checkpoint_path, interval=10000)\n",
        "\n",
        "# Entrenar agente\n",
        "dqn.fit(env, nb_steps=steps_to_train, visualize=False, verbose=2,\n",
        "        callbacks=[checkpoint_callback, logger_callback])\n",
        "\n",
        "# Guardar pesos finales\n",
        "dqn.save_weights(checkpoint_path, overwrite=True)"
      ]
    },
    {
      "cell_type": "code",
      "source": [
        "# Guardar la memoria de experiencia\n",
        "import pickle\n",
        "with open('memory_noisy.pkl', 'wb') as f:\n",
        "    pickle.dump(memory, f)\n",
        "\n",
        "print(f\"Entrenamiento hasta {total_steps} pasos completado y guardado.\")"
      ],
      "metadata": {
        "id": "nzvOIt6MtYvB"
      },
      "execution_count": null,
      "outputs": []
    },
    {
      "cell_type": "code",
      "execution_count": null,
      "metadata": {
        "id": "f-su6JzKhq6e"
      },
      "outputs": [],
      "source": [
        "import time\n",
        "\n",
        "print(\"Esperando 60 segundos...\")\n",
        "time.sleep(60)\n",
        "print(\"¡Tiempo de espera terminado!\")"
      ]
    },
    {
      "cell_type": "code",
      "execution_count": null,
      "metadata": {
        "id": "eFjQX9b6huX7"
      },
      "outputs": [],
      "source": [
        "# Testear desde último checkpoint\n",
        "latest_path, trained_steps = load_latest_weights(dqn, checkpoint_dir)\n",
        "if latest_path:\n",
        "    dqn.test(env, nb_episodes=10, visualize=False)"
      ]
    }
  ],
  "metadata": {
    "colab": {
      "provenance": [],
      "include_colab_link": true
    },
    "kernelspec": {
      "display_name": "Python 3",
      "name": "python3"
    },
    "language_info": {
      "name": "python"
    }
  },
  "nbformat": 4,
  "nbformat_minor": 0
}