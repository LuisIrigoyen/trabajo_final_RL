{
  "cells": [
    {
      "cell_type": "markdown",
      "metadata": {
        "id": "view-in-github",
        "colab_type": "text"
      },
      "source": [
        "<a href=\"https://colab.research.google.com/github/LuisIrigoyen/trabajo_final_RL/blob/pruebas_LuisIrigoyen/Modelo_14_NoisyLinear_V3_proyecto_final_APR_V01_en_colab.ipynb\" target=\"_parent\"><img src=\"https://colab.research.google.com/assets/colab-badge.svg\" alt=\"Open In Colab\"/></a>"
      ]
    },
    {
      "cell_type": "markdown",
      "metadata": {
        "id": "D89Ue2uZNtzn"
      },
      "source": [
        "## 1.2. Localizar entorno de trabajo: Google colab o local"
      ]
    },
    {
      "cell_type": "markdown",
      "metadata": {
        "id": "piJ-XjXrzhdZ"
      },
      "source": [
        "- Igual que 12, cambio paramétro: dqn.compile(optimizer=Adam(learning_rate=0.0001)\n",
        "- luego se modificó a dqn.compile(optimizer=Adam(learning_rate=1e-4)\n",
        "- se cambió policy = BoltzmannQPolicy() a policy = EpsGreedyQPolicy(eps=0.0)"
      ]
    },
    {
      "cell_type": "code",
      "execution_count": 12,
      "metadata": {
        "id": "7EQ46sNGLj22"
      },
      "outputs": [],
      "source": [
        "# ATENCIÓN!! Modificar ruta relativa a la práctica si es distinta (drive_root)\n",
        "mount='/content/gdrive'\n",
        "drive_root = mount + \"/My Drive/MODELO 14/\"\n",
        "\n",
        "try:\n",
        "  from google.colab import drive\n",
        "  IN_COLAB=True\n",
        "except:\n",
        "  IN_COLAB=False"
      ]
    },
    {
      "cell_type": "markdown",
      "metadata": {
        "id": "6on2PNxZN51A"
      },
      "source": [
        "## 1.3. Montar carpeta de datos local (solo Colab)"
      ]
    },
    {
      "cell_type": "code",
      "execution_count": 13,
      "metadata": {
        "id": "inTxnmr0MKCH",
        "colab": {
          "base_uri": "https://localhost:8080/"
        },
        "outputId": "61885450-fc83-4e0b-91a5-da05160baf43"
      },
      "outputs": [
        {
          "output_type": "stream",
          "name": "stdout",
          "text": [
            "We're running Colab\n",
            "Colab: mounting Google drive on  /content/gdrive\n",
            "Drive already mounted at /content/gdrive; to attempt to forcibly remount, call drive.mount(\"/content/gdrive\", force_remount=True).\n",
            "\n",
            "Colab: making sure  /content/gdrive/My Drive/MODELO 14/  exists.\n",
            "\n",
            "Colab: Changing directory to  /content/gdrive/My Drive/MODELO 14/\n",
            "/content/gdrive/My Drive/MODELO 14\n",
            "Archivos en el directorio: \n",
            "['logs', 'checkpoints']\n"
          ]
        }
      ],
      "source": [
        "# Switch to the directory on the Google Drive that you want to use\n",
        "import os\n",
        "if IN_COLAB:\n",
        "  print(\"We're running Colab\")\n",
        "\n",
        "  if IN_COLAB:\n",
        "    # Mount the Google Drive at mount\n",
        "    print(\"Colab: mounting Google drive on \", mount)\n",
        "\n",
        "    drive.mount(mount)\n",
        "\n",
        "    # Create drive_root if it doesn't exist\n",
        "    create_drive_root = True\n",
        "    if create_drive_root:\n",
        "      print(\"\\nColab: making sure \", drive_root, \" exists.\")\n",
        "      os.makedirs(drive_root, exist_ok=True)\n",
        "\n",
        "    # Change to the directory\n",
        "    print(\"\\nColab: Changing directory to \", drive_root)\n",
        "    %cd $drive_root\n",
        "# Verify we're in the correct working directory\n",
        "%pwd\n",
        "print(\"Archivos en el directorio: \")\n",
        "print(os.listdir())"
      ]
    },
    {
      "cell_type": "markdown",
      "metadata": {
        "id": "MYrJ03QWN9Hw"
      },
      "source": [
        "## 1.4. Instalar librerías necesarias"
      ]
    },
    {
      "cell_type": "code",
      "execution_count": 14,
      "metadata": {
        "id": "zSbNMsl4MTo3",
        "colab": {
          "base_uri": "https://localhost:8080/"
        },
        "outputId": "eb84ded2-2a7e-40dc-9200-265481d4efbf"
      },
      "outputs": [
        {
          "output_type": "stream",
          "name": "stdout",
          "text": [
            "Requirement already satisfied: gym==0.17.3 in /usr/local/lib/python3.11/dist-packages (0.17.3)\n",
            "Requirement already satisfied: scipy in /usr/local/lib/python3.11/dist-packages (from gym==0.17.3) (1.15.3)\n",
            "Requirement already satisfied: numpy>=1.10.4 in /usr/local/lib/python3.11/dist-packages (from gym==0.17.3) (1.23.5)\n",
            "Requirement already satisfied: pyglet<=1.5.0,>=1.4.0 in /usr/local/lib/python3.11/dist-packages (from gym==0.17.3) (1.5.0)\n",
            "Requirement already satisfied: cloudpickle<1.7.0,>=1.2.0 in /usr/local/lib/python3.11/dist-packages (from gym==0.17.3) (1.6.0)\n",
            "Requirement already satisfied: future in /usr/local/lib/python3.11/dist-packages (from pyglet<=1.5.0,>=1.4.0->gym==0.17.3) (1.0.0)\n",
            "Collecting git+https://github.com/Kojoley/atari-py.git\n",
            "  Cloning https://github.com/Kojoley/atari-py.git to /tmp/pip-req-build-y1e5e9p9\n",
            "  Running command git clone --filter=blob:none --quiet https://github.com/Kojoley/atari-py.git /tmp/pip-req-build-y1e5e9p9\n",
            "  Resolved https://github.com/Kojoley/atari-py.git to commit 86a1e05c0a95e9e6233c3a413521fdb34ca8a089\n",
            "  Preparing metadata (setup.py) ... \u001b[?25l\u001b[?25hdone\n",
            "Requirement already satisfied: numpy in /usr/local/lib/python3.11/dist-packages (from atari-py==1.2.2) (1.23.5)\n",
            "Requirement already satisfied: keras-rl2==1.0.5 in /usr/local/lib/python3.11/dist-packages (1.0.5)\n",
            "Requirement already satisfied: tensorflow in /usr/local/lib/python3.11/dist-packages (from keras-rl2==1.0.5) (2.12.0)\n",
            "Requirement already satisfied: absl-py>=1.0.0 in /usr/local/lib/python3.11/dist-packages (from tensorflow->keras-rl2==1.0.5) (1.4.0)\n",
            "Requirement already satisfied: astunparse>=1.6.0 in /usr/local/lib/python3.11/dist-packages (from tensorflow->keras-rl2==1.0.5) (1.6.3)\n",
            "Requirement already satisfied: flatbuffers>=2.0 in /usr/local/lib/python3.11/dist-packages (from tensorflow->keras-rl2==1.0.5) (25.2.10)\n",
            "Requirement already satisfied: gast<=0.4.0,>=0.2.1 in /usr/local/lib/python3.11/dist-packages (from tensorflow->keras-rl2==1.0.5) (0.4.0)\n",
            "Requirement already satisfied: google-pasta>=0.1.1 in /usr/local/lib/python3.11/dist-packages (from tensorflow->keras-rl2==1.0.5) (0.2.0)\n",
            "Requirement already satisfied: grpcio<2.0,>=1.24.3 in /usr/local/lib/python3.11/dist-packages (from tensorflow->keras-rl2==1.0.5) (1.73.1)\n",
            "Requirement already satisfied: h5py>=2.9.0 in /usr/local/lib/python3.11/dist-packages (from tensorflow->keras-rl2==1.0.5) (3.14.0)\n",
            "Requirement already satisfied: jax>=0.3.15 in /usr/local/lib/python3.11/dist-packages (from tensorflow->keras-rl2==1.0.5) (0.4.30)\n",
            "Requirement already satisfied: keras<2.13,>=2.12.0 in /usr/local/lib/python3.11/dist-packages (from tensorflow->keras-rl2==1.0.5) (2.12.0)\n",
            "Requirement already satisfied: libclang>=13.0.0 in /usr/local/lib/python3.11/dist-packages (from tensorflow->keras-rl2==1.0.5) (18.1.1)\n",
            "Requirement already satisfied: numpy<1.24,>=1.22 in /usr/local/lib/python3.11/dist-packages (from tensorflow->keras-rl2==1.0.5) (1.23.5)\n",
            "Requirement already satisfied: opt-einsum>=2.3.2 in /usr/local/lib/python3.11/dist-packages (from tensorflow->keras-rl2==1.0.5) (3.4.0)\n",
            "Requirement already satisfied: packaging in /usr/local/lib/python3.11/dist-packages (from tensorflow->keras-rl2==1.0.5) (24.2)\n",
            "Requirement already satisfied: protobuf!=4.21.0,!=4.21.1,!=4.21.2,!=4.21.3,!=4.21.4,!=4.21.5,<5.0.0dev,>=3.20.3 in /usr/local/lib/python3.11/dist-packages (from tensorflow->keras-rl2==1.0.5) (4.25.8)\n",
            "Requirement already satisfied: setuptools in /usr/local/lib/python3.11/dist-packages (from tensorflow->keras-rl2==1.0.5) (75.2.0)\n",
            "Requirement already satisfied: six>=1.12.0 in /usr/local/lib/python3.11/dist-packages (from tensorflow->keras-rl2==1.0.5) (1.17.0)\n",
            "Requirement already satisfied: tensorboard<2.13,>=2.12 in /usr/local/lib/python3.11/dist-packages (from tensorflow->keras-rl2==1.0.5) (2.12.3)\n",
            "Requirement already satisfied: tensorflow-estimator<2.13,>=2.12.0 in /usr/local/lib/python3.11/dist-packages (from tensorflow->keras-rl2==1.0.5) (2.12.0)\n",
            "Requirement already satisfied: termcolor>=1.1.0 in /usr/local/lib/python3.11/dist-packages (from tensorflow->keras-rl2==1.0.5) (3.1.0)\n",
            "Requirement already satisfied: typing-extensions>=3.6.6 in /usr/local/lib/python3.11/dist-packages (from tensorflow->keras-rl2==1.0.5) (4.14.0)\n",
            "Requirement already satisfied: wrapt<1.15,>=1.11.0 in /usr/local/lib/python3.11/dist-packages (from tensorflow->keras-rl2==1.0.5) (1.14.1)\n",
            "Requirement already satisfied: tensorflow-io-gcs-filesystem>=0.23.1 in /usr/local/lib/python3.11/dist-packages (from tensorflow->keras-rl2==1.0.5) (0.37.1)\n",
            "Requirement already satisfied: wheel<1.0,>=0.23.0 in /usr/local/lib/python3.11/dist-packages (from astunparse>=1.6.0->tensorflow->keras-rl2==1.0.5) (0.45.1)\n",
            "Requirement already satisfied: jaxlib<=0.4.30,>=0.4.27 in /usr/local/lib/python3.11/dist-packages (from jax>=0.3.15->tensorflow->keras-rl2==1.0.5) (0.4.30)\n",
            "Requirement already satisfied: ml-dtypes>=0.2.0 in /usr/local/lib/python3.11/dist-packages (from jax>=0.3.15->tensorflow->keras-rl2==1.0.5) (0.4.1)\n",
            "Requirement already satisfied: scipy>=1.9 in /usr/local/lib/python3.11/dist-packages (from jax>=0.3.15->tensorflow->keras-rl2==1.0.5) (1.15.3)\n",
            "Requirement already satisfied: google-auth<3,>=1.6.3 in /usr/local/lib/python3.11/dist-packages (from tensorboard<2.13,>=2.12->tensorflow->keras-rl2==1.0.5) (2.38.0)\n",
            "Requirement already satisfied: google-auth-oauthlib<1.1,>=0.5 in /usr/local/lib/python3.11/dist-packages (from tensorboard<2.13,>=2.12->tensorflow->keras-rl2==1.0.5) (1.0.0)\n",
            "Requirement already satisfied: markdown>=2.6.8 in /usr/local/lib/python3.11/dist-packages (from tensorboard<2.13,>=2.12->tensorflow->keras-rl2==1.0.5) (3.8.2)\n",
            "Requirement already satisfied: requests<3,>=2.21.0 in /usr/local/lib/python3.11/dist-packages (from tensorboard<2.13,>=2.12->tensorflow->keras-rl2==1.0.5) (2.32.3)\n",
            "Requirement already satisfied: tensorboard-data-server<0.8.0,>=0.7.0 in /usr/local/lib/python3.11/dist-packages (from tensorboard<2.13,>=2.12->tensorflow->keras-rl2==1.0.5) (0.7.2)\n",
            "Requirement already satisfied: werkzeug>=1.0.1 in /usr/local/lib/python3.11/dist-packages (from tensorboard<2.13,>=2.12->tensorflow->keras-rl2==1.0.5) (3.1.3)\n",
            "Requirement already satisfied: cachetools<6.0,>=2.0.0 in /usr/local/lib/python3.11/dist-packages (from google-auth<3,>=1.6.3->tensorboard<2.13,>=2.12->tensorflow->keras-rl2==1.0.5) (5.5.2)\n",
            "Requirement already satisfied: pyasn1-modules>=0.2.1 in /usr/local/lib/python3.11/dist-packages (from google-auth<3,>=1.6.3->tensorboard<2.13,>=2.12->tensorflow->keras-rl2==1.0.5) (0.4.2)\n",
            "Requirement already satisfied: rsa<5,>=3.1.4 in /usr/local/lib/python3.11/dist-packages (from google-auth<3,>=1.6.3->tensorboard<2.13,>=2.12->tensorflow->keras-rl2==1.0.5) (4.9.1)\n",
            "Requirement already satisfied: requests-oauthlib>=0.7.0 in /usr/local/lib/python3.11/dist-packages (from google-auth-oauthlib<1.1,>=0.5->tensorboard<2.13,>=2.12->tensorflow->keras-rl2==1.0.5) (2.0.0)\n",
            "Requirement already satisfied: charset-normalizer<4,>=2 in /usr/local/lib/python3.11/dist-packages (from requests<3,>=2.21.0->tensorboard<2.13,>=2.12->tensorflow->keras-rl2==1.0.5) (3.4.2)\n",
            "Requirement already satisfied: idna<4,>=2.5 in /usr/local/lib/python3.11/dist-packages (from requests<3,>=2.21.0->tensorboard<2.13,>=2.12->tensorflow->keras-rl2==1.0.5) (3.10)\n",
            "Requirement already satisfied: urllib3<3,>=1.21.1 in /usr/local/lib/python3.11/dist-packages (from requests<3,>=2.21.0->tensorboard<2.13,>=2.12->tensorflow->keras-rl2==1.0.5) (2.4.0)\n",
            "Requirement already satisfied: certifi>=2017.4.17 in /usr/local/lib/python3.11/dist-packages (from requests<3,>=2.21.0->tensorboard<2.13,>=2.12->tensorflow->keras-rl2==1.0.5) (2025.6.15)\n",
            "Requirement already satisfied: MarkupSafe>=2.1.1 in /usr/local/lib/python3.11/dist-packages (from werkzeug>=1.0.1->tensorboard<2.13,>=2.12->tensorflow->keras-rl2==1.0.5) (3.0.2)\n",
            "Requirement already satisfied: pyasn1<0.7.0,>=0.6.1 in /usr/local/lib/python3.11/dist-packages (from pyasn1-modules>=0.2.1->google-auth<3,>=1.6.3->tensorboard<2.13,>=2.12->tensorflow->keras-rl2==1.0.5) (0.6.1)\n",
            "Requirement already satisfied: oauthlib>=3.0.0 in /usr/local/lib/python3.11/dist-packages (from requests-oauthlib>=0.7.0->google-auth-oauthlib<1.1,>=0.5->tensorboard<2.13,>=2.12->tensorflow->keras-rl2==1.0.5) (3.3.1)\n",
            "Requirement already satisfied: tensorflow==2.12 in /usr/local/lib/python3.11/dist-packages (2.12.0)\n",
            "Requirement already satisfied: absl-py>=1.0.0 in /usr/local/lib/python3.11/dist-packages (from tensorflow==2.12) (1.4.0)\n",
            "Requirement already satisfied: astunparse>=1.6.0 in /usr/local/lib/python3.11/dist-packages (from tensorflow==2.12) (1.6.3)\n",
            "Requirement already satisfied: flatbuffers>=2.0 in /usr/local/lib/python3.11/dist-packages (from tensorflow==2.12) (25.2.10)\n",
            "Requirement already satisfied: gast<=0.4.0,>=0.2.1 in /usr/local/lib/python3.11/dist-packages (from tensorflow==2.12) (0.4.0)\n",
            "Requirement already satisfied: google-pasta>=0.1.1 in /usr/local/lib/python3.11/dist-packages (from tensorflow==2.12) (0.2.0)\n",
            "Requirement already satisfied: grpcio<2.0,>=1.24.3 in /usr/local/lib/python3.11/dist-packages (from tensorflow==2.12) (1.73.1)\n",
            "Requirement already satisfied: h5py>=2.9.0 in /usr/local/lib/python3.11/dist-packages (from tensorflow==2.12) (3.14.0)\n",
            "Requirement already satisfied: jax>=0.3.15 in /usr/local/lib/python3.11/dist-packages (from tensorflow==2.12) (0.4.30)\n",
            "Requirement already satisfied: keras<2.13,>=2.12.0 in /usr/local/lib/python3.11/dist-packages (from tensorflow==2.12) (2.12.0)\n",
            "Requirement already satisfied: libclang>=13.0.0 in /usr/local/lib/python3.11/dist-packages (from tensorflow==2.12) (18.1.1)\n",
            "Requirement already satisfied: numpy<1.24,>=1.22 in /usr/local/lib/python3.11/dist-packages (from tensorflow==2.12) (1.23.5)\n",
            "Requirement already satisfied: opt-einsum>=2.3.2 in /usr/local/lib/python3.11/dist-packages (from tensorflow==2.12) (3.4.0)\n",
            "Requirement already satisfied: packaging in /usr/local/lib/python3.11/dist-packages (from tensorflow==2.12) (24.2)\n",
            "Requirement already satisfied: protobuf!=4.21.0,!=4.21.1,!=4.21.2,!=4.21.3,!=4.21.4,!=4.21.5,<5.0.0dev,>=3.20.3 in /usr/local/lib/python3.11/dist-packages (from tensorflow==2.12) (4.25.8)\n",
            "Requirement already satisfied: setuptools in /usr/local/lib/python3.11/dist-packages (from tensorflow==2.12) (75.2.0)\n",
            "Requirement already satisfied: six>=1.12.0 in /usr/local/lib/python3.11/dist-packages (from tensorflow==2.12) (1.17.0)\n",
            "Requirement already satisfied: tensorboard<2.13,>=2.12 in /usr/local/lib/python3.11/dist-packages (from tensorflow==2.12) (2.12.3)\n",
            "Requirement already satisfied: tensorflow-estimator<2.13,>=2.12.0 in /usr/local/lib/python3.11/dist-packages (from tensorflow==2.12) (2.12.0)\n",
            "Requirement already satisfied: termcolor>=1.1.0 in /usr/local/lib/python3.11/dist-packages (from tensorflow==2.12) (3.1.0)\n",
            "Requirement already satisfied: typing-extensions>=3.6.6 in /usr/local/lib/python3.11/dist-packages (from tensorflow==2.12) (4.14.0)\n",
            "Requirement already satisfied: wrapt<1.15,>=1.11.0 in /usr/local/lib/python3.11/dist-packages (from tensorflow==2.12) (1.14.1)\n",
            "Requirement already satisfied: tensorflow-io-gcs-filesystem>=0.23.1 in /usr/local/lib/python3.11/dist-packages (from tensorflow==2.12) (0.37.1)\n",
            "Requirement already satisfied: wheel<1.0,>=0.23.0 in /usr/local/lib/python3.11/dist-packages (from astunparse>=1.6.0->tensorflow==2.12) (0.45.1)\n",
            "Requirement already satisfied: jaxlib<=0.4.30,>=0.4.27 in /usr/local/lib/python3.11/dist-packages (from jax>=0.3.15->tensorflow==2.12) (0.4.30)\n",
            "Requirement already satisfied: ml-dtypes>=0.2.0 in /usr/local/lib/python3.11/dist-packages (from jax>=0.3.15->tensorflow==2.12) (0.4.1)\n",
            "Requirement already satisfied: scipy>=1.9 in /usr/local/lib/python3.11/dist-packages (from jax>=0.3.15->tensorflow==2.12) (1.15.3)\n",
            "Requirement already satisfied: google-auth<3,>=1.6.3 in /usr/local/lib/python3.11/dist-packages (from tensorboard<2.13,>=2.12->tensorflow==2.12) (2.38.0)\n",
            "Requirement already satisfied: google-auth-oauthlib<1.1,>=0.5 in /usr/local/lib/python3.11/dist-packages (from tensorboard<2.13,>=2.12->tensorflow==2.12) (1.0.0)\n",
            "Requirement already satisfied: markdown>=2.6.8 in /usr/local/lib/python3.11/dist-packages (from tensorboard<2.13,>=2.12->tensorflow==2.12) (3.8.2)\n",
            "Requirement already satisfied: requests<3,>=2.21.0 in /usr/local/lib/python3.11/dist-packages (from tensorboard<2.13,>=2.12->tensorflow==2.12) (2.32.3)\n",
            "Requirement already satisfied: tensorboard-data-server<0.8.0,>=0.7.0 in /usr/local/lib/python3.11/dist-packages (from tensorboard<2.13,>=2.12->tensorflow==2.12) (0.7.2)\n",
            "Requirement already satisfied: werkzeug>=1.0.1 in /usr/local/lib/python3.11/dist-packages (from tensorboard<2.13,>=2.12->tensorflow==2.12) (3.1.3)\n",
            "Requirement already satisfied: cachetools<6.0,>=2.0.0 in /usr/local/lib/python3.11/dist-packages (from google-auth<3,>=1.6.3->tensorboard<2.13,>=2.12->tensorflow==2.12) (5.5.2)\n",
            "Requirement already satisfied: pyasn1-modules>=0.2.1 in /usr/local/lib/python3.11/dist-packages (from google-auth<3,>=1.6.3->tensorboard<2.13,>=2.12->tensorflow==2.12) (0.4.2)\n",
            "Requirement already satisfied: rsa<5,>=3.1.4 in /usr/local/lib/python3.11/dist-packages (from google-auth<3,>=1.6.3->tensorboard<2.13,>=2.12->tensorflow==2.12) (4.9.1)\n",
            "Requirement already satisfied: requests-oauthlib>=0.7.0 in /usr/local/lib/python3.11/dist-packages (from google-auth-oauthlib<1.1,>=0.5->tensorboard<2.13,>=2.12->tensorflow==2.12) (2.0.0)\n",
            "Requirement already satisfied: charset-normalizer<4,>=2 in /usr/local/lib/python3.11/dist-packages (from requests<3,>=2.21.0->tensorboard<2.13,>=2.12->tensorflow==2.12) (3.4.2)\n",
            "Requirement already satisfied: idna<4,>=2.5 in /usr/local/lib/python3.11/dist-packages (from requests<3,>=2.21.0->tensorboard<2.13,>=2.12->tensorflow==2.12) (3.10)\n",
            "Requirement already satisfied: urllib3<3,>=1.21.1 in /usr/local/lib/python3.11/dist-packages (from requests<3,>=2.21.0->tensorboard<2.13,>=2.12->tensorflow==2.12) (2.4.0)\n",
            "Requirement already satisfied: certifi>=2017.4.17 in /usr/local/lib/python3.11/dist-packages (from requests<3,>=2.21.0->tensorboard<2.13,>=2.12->tensorflow==2.12) (2025.6.15)\n",
            "Requirement already satisfied: MarkupSafe>=2.1.1 in /usr/local/lib/python3.11/dist-packages (from werkzeug>=1.0.1->tensorboard<2.13,>=2.12->tensorflow==2.12) (3.0.2)\n",
            "Requirement already satisfied: pyasn1<0.7.0,>=0.6.1 in /usr/local/lib/python3.11/dist-packages (from pyasn1-modules>=0.2.1->google-auth<3,>=1.6.3->tensorboard<2.13,>=2.12->tensorflow==2.12) (0.6.1)\n",
            "Requirement already satisfied: oauthlib>=3.0.0 in /usr/local/lib/python3.11/dist-packages (from requests-oauthlib>=0.7.0->google-auth-oauthlib<1.1,>=0.5->tensorboard<2.13,>=2.12->tensorflow==2.12) (3.3.1)\n"
          ]
        }
      ],
      "source": [
        "if IN_COLAB:\n",
        "  %pip install gym==0.17.3\n",
        "  %pip install git+https://github.com/Kojoley/atari-py.git\n",
        "  %pip install keras-rl2==1.0.5\n",
        "  %pip install tensorflow==2.12  #2.8\n",
        "else:\n",
        "  %pip install gym==0.17.3\n",
        "  %pip install git+https://github.com/Kojoley/atari-py.git\n",
        "  %pip install pyglet==1.5.0\n",
        "  %pip install h5py==3.1.0\n",
        "  %pip install Pillow==9.5.0\n",
        "  %pip install keras-rl2==1.0.5\n",
        "  %pip install Keras==2.2.4\n",
        "  %pip install tensorflow==2.5.3\n",
        "  %pip install torch==2.0.1\n",
        "  %pip install agents==1.4.0"
      ]
    },
    {
      "cell_type": "markdown",
      "metadata": {
        "id": "mS60Dk-KO5e3"
      },
      "source": [
        "## **PARTE 3**. Desarrollo y preguntas\n",
        "Importar librerías"
      ]
    },
    {
      "cell_type": "code",
      "execution_count": 15,
      "metadata": {
        "id": "RX-2z9T1NPp_"
      },
      "outputs": [],
      "source": [
        "from __future__ import division\n",
        "\n",
        "from PIL import Image\n",
        "import numpy as np\n",
        "import gym\n",
        "\n",
        "from tensorflow.keras.models import Sequential\n",
        "from tensorflow.keras.layers import Dense, Activation, Flatten, Convolution2D, Permute\n",
        "#from tensorflow.keras.optimizers import Adam\n",
        "import tensorflow.keras.backend as K\n",
        "\n",
        "from rl.agents.dqn import DQNAgent\n",
        "from rl.policy import LinearAnnealedPolicy, BoltzmannQPolicy, EpsGreedyQPolicy\n",
        "from rl.memory import SequentialMemory\n",
        "from rl.core import Processor\n",
        "from rl.callbacks import FileLogger, ModelIntervalCheckpoint"
      ]
    },
    {
      "cell_type": "markdown",
      "metadata": {
        "id": "NqJbsVR7POZA"
      },
      "source": [
        "#### Configuración base"
      ]
    },
    {
      "cell_type": "code",
      "execution_count": 16,
      "metadata": {
        "id": "0FlafEtvOKR4",
        "colab": {
          "base_uri": "https://localhost:8080/"
        },
        "outputId": "e20cb83a-9a06-45bf-965c-6ec3ca027804"
      },
      "outputs": [
        {
          "output_type": "stream",
          "name": "stdout",
          "text": [
            "210 160 3\n",
            "Forma de la observación: (210, 160, 3)\n"
          ]
        },
        {
          "output_type": "execute_result",
          "data": {
            "text/plain": [
              "['NOOP', 'FIRE', 'RIGHT', 'LEFT', 'RIGHTFIRE', 'LEFTFIRE']"
            ]
          },
          "metadata": {},
          "execution_count": 16
        }
      ],
      "source": [
        "INPUT_SHAPE = (84, 84)\n",
        "WINDOW_LENGTH = 4\n",
        "\n",
        "env_name = 'SpaceInvaders-v0'\n",
        "env = gym.make(env_name)\n",
        "\n",
        "np.random.seed(123)\n",
        "env.seed(123)\n",
        "nb_actions = env.action_space.n\n",
        "\n",
        "#--- nuevo -- ejfm\n",
        "height, width, channels = env.observation_space.shape\n",
        "obs = env.reset()\n",
        "print(height, width, channels)\n",
        "print(\"Forma de la observación:\", obs.shape)  # Debe ser (height, width, channels)\n",
        "env.unwrapped.get_action_meanings()"
      ]
    },
    {
      "cell_type": "code",
      "execution_count": 17,
      "metadata": {
        "id": "YSGPGszsOOAw"
      },
      "outputs": [],
      "source": [
        "class AtariProcessor(Processor):\n",
        "    def process_observation(self, observation):\n",
        "        assert observation.ndim == 3  # (height, width, channel)\n",
        "        img = Image.fromarray(observation)\n",
        "        img = img.resize(INPUT_SHAPE).convert('L')\n",
        "        processed_observation = np.array(img)\n",
        "        assert processed_observation.shape == INPUT_SHAPE\n",
        "        return processed_observation.astype('uint8')\n",
        "\n",
        "    def process_state_batch(self, batch):\n",
        "        # Convertir a float y escalar\n",
        "        # Linea Agregada\n",
        "        if isinstance(batch, list):\n",
        "          batch = np.array(batch)\n",
        "\n",
        "        batch = batch.astype('float32') / 255.\n",
        "\n",
        "        # 👇 Elimina el canal innecesario si existe (forma (B, 4, 84, 84, 1))\n",
        "        if batch.ndim == 5 and batch.shape[-1] == 1:\n",
        "            batch = np.squeeze(batch, axis=-1)\n",
        "\n",
        "        return batch\n",
        "\n",
        "    def process_reward(self, reward):\n",
        "        return np.clip(reward, -1., 1.)\n"
      ]
    },
    {
      "cell_type": "markdown",
      "metadata": {
        "id": "Sg54U9vFZEBQ"
      },
      "source": [
        "## 1. EJFM Implementación de la red neuronal"
      ]
    },
    {
      "cell_type": "code",
      "execution_count": 18,
      "metadata": {
        "id": "aiE1_aXXmQM7"
      },
      "outputs": [],
      "source": [
        "import tensorflow as tf\n",
        "\n",
        "class NoisyDense(tf.keras.layers.Layer):\n",
        "    def __init__(self, units, sigma_init=0.017, **kwargs):\n",
        "        super(NoisyDense, self).__init__(**kwargs)\n",
        "        self.units = units\n",
        "        self.sigma_init = sigma_init\n",
        "\n",
        "    def build(self, input_shape):\n",
        "        input_dim = int(input_shape[-1])\n",
        "        self.mu_W = self.add_weight(\"mu_W\", shape=(input_dim, self.units),\n",
        "                                    initializer='random_uniform', trainable=True)\n",
        "        self.sigma_W = self.add_weight(\"sigma_W\", shape=(input_dim, self.units),\n",
        "                                       initializer=tf.keras.initializers.Constant(self.sigma_init), trainable=True)\n",
        "        self.mu_b = self.add_weight(\"mu_b\", shape=(self.units,),\n",
        "                                    initializer='zeros', trainable=True)\n",
        "        self.sigma_b = self.add_weight(\"sigma_b\", shape=(self.units,),\n",
        "                                       initializer=tf.keras.initializers.Constant(self.sigma_init), trainable=True)\n",
        "\n",
        "    def call(self, x):\n",
        "        epsilon_W = tf.random.normal((x.shape[-1], self.units))\n",
        "        epsilon_b = tf.random.normal((self.units,))\n",
        "        W = self.mu_W + self.sigma_W * epsilon_W\n",
        "        b = self.mu_b + self.sigma_b * epsilon_b\n",
        "        return tf.matmul(x, W) + b\n",
        "\n",
        "    def get_config(self):\n",
        "        config = super(NoisyDense, self).get_config()\n",
        "        config.update({\n",
        "            \"units\": self.units,\n",
        "            \"sigma_init\": self.sigma_init\n",
        "        })\n",
        "        return config\n"
      ]
    },
    {
      "cell_type": "code",
      "execution_count": 19,
      "metadata": {
        "id": "pygz71TLmV2t",
        "colab": {
          "base_uri": "https://localhost:8080/"
        },
        "outputId": "f7bd47e6-bd70-4611-ba69-fa6c6f3943b3"
      },
      "outputs": [
        {
          "output_type": "stream",
          "name": "stdout",
          "text": [
            "Model: \"model_1\"\n",
            "_________________________________________________________________\n",
            " Layer (type)                Output Shape              Param #   \n",
            "=================================================================\n",
            " input_2 (InputLayer)        [(None, 4, 84, 84)]       0         \n",
            "                                                                 \n",
            " permute_1 (Permute)         (None, 84, 84, 4)         0         \n",
            "                                                                 \n",
            " conv2d_3 (Conv2D)           (None, 20, 20, 32)        8224      \n",
            "                                                                 \n",
            " conv2d_4 (Conv2D)           (None, 9, 9, 64)          32832     \n",
            "                                                                 \n",
            " conv2d_5 (Conv2D)           (None, 7, 7, 64)          36928     \n",
            "                                                                 \n",
            " flatten_1 (Flatten)         (None, 3136)              0         \n",
            "                                                                 \n",
            " noisy_dense_2 (NoisyDense)  (None, 512)               3212288   \n",
            "                                                                 \n",
            " activation_1 (Activation)   (None, 512)               0         \n",
            "                                                                 \n",
            " noisy_dense_3 (NoisyDense)  (None, 6)                 6156      \n",
            "                                                                 \n",
            "=================================================================\n",
            "Total params: 3,296,428\n",
            "Trainable params: 3,296,428\n",
            "Non-trainable params: 0\n",
            "_________________________________________________________________\n"
          ]
        }
      ],
      "source": [
        "from tensorflow.keras.models import Model\n",
        "from tensorflow.keras.layers import Input, Permute, Convolution2D, Flatten, Activation\n",
        "\n",
        "input_layer = Input(shape=(WINDOW_LENGTH,) + INPUT_SHAPE)\n",
        "perm = Permute((2, 3, 1))(input_layer)  # Canal al final\n",
        "conv1 = Convolution2D(32, (8, 8), strides=(4, 4), activation='relu')(perm)\n",
        "conv2 = Convolution2D(64, (4, 4), strides=(2, 2), activation='relu')(conv1)\n",
        "conv3 = Convolution2D(64, (3, 3), strides=(1, 1), activation='relu')(conv2)\n",
        "flat = Flatten()(conv3)\n",
        "\n",
        "noisy1 = NoisyDense(512)(flat)\n",
        "noisy1 = Activation('relu')(noisy1)\n",
        "output_layer = NoisyDense(nb_actions)(noisy1)\n",
        "\n",
        "model = Model(inputs=input_layer, outputs=output_layer)\n",
        "model.summary()\n"
      ]
    },
    {
      "cell_type": "code",
      "execution_count": 20,
      "metadata": {
        "id": "_H6vbJsFsnKi"
      },
      "outputs": [],
      "source": [
        "# Registrar la capa personalizada (una sola vez en todo el código)\n",
        "from tensorflow.keras.utils import get_custom_objects\n",
        "get_custom_objects().update({'NoisyDense': NoisyDense})"
      ]
    },
    {
      "cell_type": "markdown",
      "metadata": {
        "id": "KwJoe_1sZOX4"
      },
      "source": [
        "## 2. EJFM Implementación de la solución DQN"
      ]
    },
    {
      "cell_type": "markdown",
      "metadata": {
        "id": "mANAV3rVJXt7"
      },
      "source": [
        "### Ejecución Inicial\n",
        "\n"
      ]
    },
    {
      "cell_type": "code",
      "execution_count": 21,
      "metadata": {
        "id": "KU6UKvVYXESO",
        "colab": {
          "base_uri": "https://localhost:8080/"
        },
        "outputId": "1e9cead0-5c3d-4bbf-840b-c8edfe67eb7b"
      },
      "outputs": [
        {
          "output_type": "stream",
          "name": "stdout",
          "text": [
            "Creando nueva memoria...\n"
          ]
        }
      ],
      "source": [
        "####### Solución DQN #######\n",
        "\n",
        "import os\n",
        "import pickle\n",
        "\n",
        "# INTENTAR CARGAR LA MEMORIA\n",
        "memory_file = 'memory_noisy.pkl'\n",
        "if os.path.exists(memory_file):\n",
        "    print(\"Cargando memoria desde archivo...\")\n",
        "    with open(memory_file, 'rb') as f:\n",
        "        memory = pickle.load(f)\n",
        "else:\n",
        "    print(\"Creando nueva memoria...\")\n",
        "    memory = SequentialMemory(limit=1000000, window_length=4)\n",
        "\n",
        "# Crear política como de costumbre\n",
        "#policy = BoltzmannQPolicy()\n",
        "policy = EpsGreedyQPolicy(eps=0.0)\n",
        "\n",
        "# Crear agente\n",
        "dqn = DQNAgent(model=model, nb_actions=nb_actions, policy=policy, memory=memory,\n",
        "               processor=AtariProcessor(), nb_steps_warmup=50000, gamma=0.99,\n",
        "               target_model_update=10000, train_interval=4, delta_clip=5)\n",
        "\n",
        "# Compilar agente\n",
        "#dqn.compile(optimizer='adam', metrics=['mae'])\n",
        "#dqn.compile(optimizer=Adam(learning_rate=0.0001), metrics=['mae'])\n",
        "\n",
        "from tensorflow.keras.optimizers.legacy import Adam     # ← incluye get_updates\n",
        "# Compilar agente\n",
        "dqn.compile(optimizer=Adam(learning_rate=1e-4), metrics=['mae'])"
      ]
    },
    {
      "cell_type": "code",
      "execution_count": 22,
      "metadata": {
        "id": "SEmhFU4mYzh-"
      },
      "outputs": [],
      "source": [
        "####### Crear directorios  logs y checkpoints #######\n",
        "\n",
        "import os\n",
        "log_dir = os.path.join(drive_root, \"logs\")\n",
        "checkpoint_dir = os.path.join(drive_root, \"checkpoints\")\n",
        "os.makedirs(log_dir, exist_ok=True)\n",
        "os.makedirs(checkpoint_dir, exist_ok=True)\n",
        "\n",
        "# Función para restaurar pesos más adelante\n",
        "import re\n",
        "\n",
        "def load_latest_weights(agent, checkpoint_dir, prefix=\"dqn_noisy_weights_\"):\n",
        "    \"\"\"\n",
        "    Busca el checkpoint más reciente, carga los pesos y retorna info útil.\n",
        "\n",
        "    Parámetros:\n",
        "        agent: el agente DQN ya creado y compilado.\n",
        "        checkpoint_dir: carpeta con los archivos de pesos.\n",
        "        prefix: prefijo de los archivos de pesos.\n",
        "\n",
        "    Retorna:\n",
        "        (ruta_archivo, pasos_entrenados) o (None, 0) si no se encuentra nada.\n",
        "    \"\"\"\n",
        "    files = [f for f in os.listdir(checkpoint_dir) if f.endswith(\".h5\")]\n",
        "    pattern = re.compile(rf\"{re.escape(prefix)}(\\d+)\\.h5\")\n",
        "\n",
        "    candidates = []\n",
        "    for f in files:\n",
        "        match = pattern.match(f)\n",
        "        if match:\n",
        "            step = int(match.group(1))\n",
        "            candidates.append((step, f))\n",
        "\n",
        "    if not candidates:\n",
        "        print(\"⚠️ No se encontraron checkpoints en:\", checkpoint_dir)\n",
        "        return None, 0\n",
        "\n",
        "    # Escoger el de mayor número de pasos\n",
        "    latest_step, latest_file = max(candidates, key=lambda x: x[0])\n",
        "    latest_path = os.path.join(checkpoint_dir, latest_file)\n",
        "\n",
        "    print(f\"✅ Cargando pesos desde: {latest_path} (pasos entrenados: {latest_step})\")\n",
        "    agent.load_weights(latest_path)\n",
        "    return latest_path, latest_step\n"
      ]
    },
    {
      "cell_type": "code",
      "execution_count": 23,
      "metadata": {
        "id": "n4rsQm4_zc5J",
        "colab": {
          "base_uri": "https://localhost:8080/"
        },
        "outputId": "0372f665-722a-424a-8e99-c430eb86c44a"
      },
      "outputs": [
        {
          "output_type": "stream",
          "name": "stdout",
          "text": [
            "⚠️ No se encontraron checkpoints en: /content/gdrive/My Drive/MODELO 14/checkpoints\n"
          ]
        }
      ],
      "source": [
        "# Cargar pesos anteriores si existen\n",
        "_, trained_steps = load_latest_weights(dqn, checkpoint_dir)\n",
        "\n",
        "# Definir pasos a entrenar\n",
        "steps_to_train = 100000\n",
        "total_steps = trained_steps + steps_to_train\n",
        "\n",
        "# Crear paths y callbacks dinámicos\n",
        "log_path = os.path.join(log_dir, f\"dqn_noisy_log_{trained_steps}_{total_steps}.json\")\n",
        "checkpoint_path = os.path.join(checkpoint_dir, f\"dqn_noisy_weights_{total_steps}.h5\")\n",
        "\n",
        "logger_callback = FileLogger(log_path, interval=100)\n",
        "checkpoint_callback = ModelIntervalCheckpoint(checkpoint_path, interval=10000)"
      ]
    },
    {
      "cell_type": "markdown",
      "metadata": {
        "id": "Qj8CoQ2mhISX"
      },
      "source": [
        "### Primera **Ejecución**"
      ]
    },
    {
      "cell_type": "code",
      "execution_count": 24,
      "metadata": {
        "id": "LLbFoBPFXGcV",
        "colab": {
          "base_uri": "https://localhost:8080/"
        },
        "outputId": "ac6bdbe0-818a-4af9-e463-1add58f8bc5d"
      },
      "outputs": [
        {
          "output_type": "stream",
          "name": "stdout",
          "text": [
            "⚠️ No se encontraron checkpoints en: /content/gdrive/My Drive/MODELO 14/checkpoints\n",
            "Training for 100000 steps ...\n"
          ]
        },
        {
          "output_type": "stream",
          "name": "stderr",
          "text": [
            "/usr/local/lib/python3.11/dist-packages/keras/engine/training_v1.py:2359: UserWarning: `Model.state_updates` will be removed in a future version. This property should not be used in TensorFlow 2.0, as `updates` are applied automatically.\n",
            "  updates=self.state_updates,\n"
          ]
        },
        {
          "output_type": "stream",
          "name": "stdout",
          "text": [
            "   746/100000: episode: 1, duration: 39.176s, episode steps: 746, steps per second:  19, episode reward: 11.000, mean reward:  0.015 [ 0.000,  1.000], mean action: 1.740 [0.000, 5.000],  loss: --, mae: --, mean_q: --\n",
            "  1162/100000: episode: 2, duration: 15.444s, episode steps: 416, steps per second:  27, episode reward:  4.000, mean reward:  0.010 [ 0.000,  1.000], mean action: 1.752 [0.000, 5.000],  loss: --, mae: --, mean_q: --\n",
            "  1786/100000: episode: 3, duration: 23.816s, episode steps: 624, steps per second:  26, episode reward:  4.000, mean reward:  0.006 [ 0.000,  1.000], mean action: 1.739 [0.000, 5.000],  loss: --, mae: --, mean_q: --\n",
            "  2516/100000: episode: 4, duration: 26.780s, episode steps: 730, steps per second:  27, episode reward: 10.000, mean reward:  0.014 [ 0.000,  1.000], mean action: 1.774 [0.000, 5.000],  loss: --, mae: --, mean_q: --\n",
            "  3165/100000: episode: 5, duration: 25.870s, episode steps: 649, steps per second:  25, episode reward:  7.000, mean reward:  0.011 [ 0.000,  1.000], mean action: 1.669 [0.000, 5.000],  loss: --, mae: --, mean_q: --\n",
            "  4032/100000: episode: 6, duration: 34.348s, episode steps: 867, steps per second:  25, episode reward: 16.000, mean reward:  0.018 [ 0.000,  1.000], mean action: 1.912 [0.000, 5.000],  loss: --, mae: --, mean_q: --\n",
            "  4667/100000: episode: 7, duration: 22.836s, episode steps: 635, steps per second:  28, episode reward:  7.000, mean reward:  0.011 [ 0.000,  1.000], mean action: 1.683 [0.000, 5.000],  loss: --, mae: --, mean_q: --\n",
            "  5295/100000: episode: 8, duration: 23.882s, episode steps: 628, steps per second:  26, episode reward: 13.000, mean reward:  0.021 [ 0.000,  1.000], mean action: 1.756 [0.000, 5.000],  loss: --, mae: --, mean_q: --\n",
            "  6047/100000: episode: 9, duration: 28.177s, episode steps: 752, steps per second:  27, episode reward:  8.000, mean reward:  0.011 [ 0.000,  1.000], mean action: 1.781 [0.000, 5.000],  loss: --, mae: --, mean_q: --\n",
            "  6668/100000: episode: 10, duration: 23.914s, episode steps: 621, steps per second:  26, episode reward:  4.000, mean reward:  0.006 [ 0.000,  1.000], mean action: 1.734 [0.000, 5.000],  loss: --, mae: --, mean_q: --\n",
            "  7170/100000: episode: 11, duration: 19.955s, episode steps: 502, steps per second:  25, episode reward:  9.000, mean reward:  0.018 [ 0.000,  1.000], mean action: 1.685 [0.000, 5.000],  loss: --, mae: --, mean_q: --\n",
            "  7611/100000: episode: 12, duration: 16.274s, episode steps: 441, steps per second:  27, episode reward:  4.000, mean reward:  0.009 [ 0.000,  1.000], mean action: 1.671 [0.000, 5.000],  loss: --, mae: --, mean_q: --\n",
            "  8699/100000: episode: 13, duration: 40.902s, episode steps: 1088, steps per second:  27, episode reward: 23.000, mean reward:  0.021 [ 0.000,  1.000], mean action: 1.729 [0.000, 5.000],  loss: --, mae: --, mean_q: --\n",
            "  9318/100000: episode: 14, duration: 23.839s, episode steps: 619, steps per second:  26, episode reward:  8.000, mean reward:  0.013 [ 0.000,  1.000], mean action: 1.687 [0.000, 5.000],  loss: --, mae: --, mean_q: --\n",
            " 10154/100000: episode: 15, duration: 31.081s, episode steps: 836, steps per second:  27, episode reward: 12.000, mean reward:  0.014 [ 0.000,  1.000], mean action: 1.739 [0.000, 5.000],  loss: --, mae: --, mean_q: --\n",
            " 11085/100000: episode: 16, duration: 37.652s, episode steps: 931, steps per second:  25, episode reward: 14.000, mean reward:  0.015 [ 0.000,  1.000], mean action: 1.844 [0.000, 5.000],  loss: --, mae: --, mean_q: --\n",
            " 12050/100000: episode: 17, duration: 35.213s, episode steps: 965, steps per second:  27, episode reward: 15.000, mean reward:  0.016 [ 0.000,  1.000], mean action: 1.754 [0.000, 5.000],  loss: --, mae: --, mean_q: --\n",
            " 13084/100000: episode: 18, duration: 39.215s, episode steps: 1034, steps per second:  26, episode reward: 13.000, mean reward:  0.013 [ 0.000,  1.000], mean action: 1.839 [0.000, 5.000],  loss: --, mae: --, mean_q: --\n",
            " 14179/100000: episode: 19, duration: 41.168s, episode steps: 1095, steps per second:  27, episode reward: 17.000, mean reward:  0.016 [ 0.000,  1.000], mean action: 1.914 [0.000, 5.000],  loss: --, mae: --, mean_q: --\n",
            " 14905/100000: episode: 20, duration: 29.103s, episode steps: 726, steps per second:  25, episode reward:  9.000, mean reward:  0.012 [ 0.000,  1.000], mean action: 1.719 [0.000, 5.000],  loss: --, mae: --, mean_q: --\n",
            " 15647/100000: episode: 21, duration: 27.880s, episode steps: 742, steps per second:  27, episode reward: 11.000, mean reward:  0.015 [ 0.000,  1.000], mean action: 1.827 [0.000, 5.000],  loss: --, mae: --, mean_q: --\n",
            " 16535/100000: episode: 22, duration: 32.631s, episode steps: 888, steps per second:  27, episode reward: 18.000, mean reward:  0.020 [ 0.000,  1.000], mean action: 1.852 [0.000, 5.000],  loss: --, mae: --, mean_q: --\n",
            " 17491/100000: episode: 23, duration: 36.665s, episode steps: 956, steps per second:  26, episode reward: 16.000, mean reward:  0.017 [ 0.000,  1.000], mean action: 1.842 [0.000, 5.000],  loss: --, mae: --, mean_q: --\n",
            " 18111/100000: episode: 24, duration: 23.422s, episode steps: 620, steps per second:  26, episode reward: 10.000, mean reward:  0.016 [ 0.000,  1.000], mean action: 1.747 [0.000, 5.000],  loss: --, mae: --, mean_q: --\n",
            " 18720/100000: episode: 25, duration: 22.268s, episode steps: 609, steps per second:  27, episode reward:  8.000, mean reward:  0.013 [ 0.000,  1.000], mean action: 1.770 [0.000, 5.000],  loss: --, mae: --, mean_q: --\n",
            " 19728/100000: episode: 26, duration: 40.040s, episode steps: 1008, steps per second:  25, episode reward: 11.000, mean reward:  0.011 [ 0.000,  1.000], mean action: 1.792 [0.000, 5.000],  loss: --, mae: --, mean_q: --\n",
            " 20890/100000: episode: 27, duration: 44.224s, episode steps: 1162, steps per second:  26, episode reward:  8.000, mean reward:  0.007 [ 0.000,  1.000], mean action: 1.911 [0.000, 5.000],  loss: --, mae: --, mean_q: --\n",
            " 21875/100000: episode: 28, duration: 37.554s, episode steps: 985, steps per second:  26, episode reward: 14.000, mean reward:  0.014 [ 0.000,  1.000], mean action: 1.789 [0.000, 5.000],  loss: --, mae: --, mean_q: --\n",
            " 22954/100000: episode: 29, duration: 40.304s, episode steps: 1079, steps per second:  27, episode reward: 17.000, mean reward:  0.016 [ 0.000,  1.000], mean action: 1.858 [0.000, 5.000],  loss: --, mae: --, mean_q: --\n",
            " 23752/100000: episode: 30, duration: 31.733s, episode steps: 798, steps per second:  25, episode reward: 10.000, mean reward:  0.013 [ 0.000,  1.000], mean action: 1.794 [0.000, 5.000],  loss: --, mae: --, mean_q: --\n",
            " 24522/100000: episode: 31, duration: 28.749s, episode steps: 770, steps per second:  27, episode reward: 10.000, mean reward:  0.013 [ 0.000,  1.000], mean action: 1.777 [0.000, 5.000],  loss: --, mae: --, mean_q: --\n",
            " 25241/100000: episode: 32, duration: 27.097s, episode steps: 719, steps per second:  27, episode reward: 10.000, mean reward:  0.014 [ 0.000,  1.000], mean action: 1.680 [0.000, 5.000],  loss: --, mae: --, mean_q: --\n",
            " 26007/100000: episode: 33, duration: 28.667s, episode steps: 766, steps per second:  27, episode reward: 15.000, mean reward:  0.020 [ 0.000,  1.000], mean action: 1.705 [0.000, 5.000],  loss: --, mae: --, mean_q: --\n",
            " 26746/100000: episode: 34, duration: 27.766s, episode steps: 739, steps per second:  27, episode reward: 11.000, mean reward:  0.015 [ 0.000,  1.000], mean action: 1.842 [0.000, 5.000],  loss: --, mae: --, mean_q: --\n",
            " 27395/100000: episode: 35, duration: 26.387s, episode steps: 649, steps per second:  25, episode reward:  9.000, mean reward:  0.014 [ 0.000,  1.000], mean action: 1.773 [0.000, 5.000],  loss: --, mae: --, mean_q: --\n",
            " 28018/100000: episode: 36, duration: 22.376s, episode steps: 623, steps per second:  28, episode reward:  7.000, mean reward:  0.011 [ 0.000,  1.000], mean action: 1.732 [0.000, 5.000],  loss: --, mae: --, mean_q: --\n",
            " 28801/100000: episode: 37, duration: 29.126s, episode steps: 783, steps per second:  27, episode reward: 11.000, mean reward:  0.014 [ 0.000,  1.000], mean action: 1.762 [0.000, 5.000],  loss: --, mae: --, mean_q: --\n",
            " 29997/100000: episode: 38, duration: 45.183s, episode steps: 1196, steps per second:  26, episode reward: 18.000, mean reward:  0.015 [ 0.000,  1.000], mean action: 1.843 [0.000, 5.000],  loss: --, mae: --, mean_q: --\n",
            " 30854/100000: episode: 39, duration: 33.025s, episode steps: 857, steps per second:  26, episode reward: 15.000, mean reward:  0.018 [ 0.000,  1.000], mean action: 1.734 [0.000, 5.000],  loss: --, mae: --, mean_q: --\n",
            " 31766/100000: episode: 40, duration: 35.306s, episode steps: 912, steps per second:  26, episode reward: 15.000, mean reward:  0.016 [ 0.000,  1.000], mean action: 1.837 [0.000, 5.000],  loss: --, mae: --, mean_q: --\n",
            " 32375/100000: episode: 41, duration: 23.496s, episode steps: 609, steps per second:  26, episode reward:  8.000, mean reward:  0.013 [ 0.000,  1.000], mean action: 1.851 [0.000, 5.000],  loss: --, mae: --, mean_q: --\n",
            " 32974/100000: episode: 42, duration: 21.427s, episode steps: 599, steps per second:  28, episode reward:  8.000, mean reward:  0.013 [ 0.000,  1.000], mean action: 1.815 [0.000, 5.000],  loss: --, mae: --, mean_q: --\n",
            " 33819/100000: episode: 43, duration: 32.618s, episode steps: 845, steps per second:  26, episode reward: 11.000, mean reward:  0.013 [ 0.000,  1.000], mean action: 1.791 [0.000, 5.000],  loss: --, mae: --, mean_q: --\n",
            " 34443/100000: episode: 44, duration: 22.723s, episode steps: 624, steps per second:  27, episode reward:  7.000, mean reward:  0.011 [ 0.000,  1.000], mean action: 1.769 [0.000, 5.000],  loss: --, mae: --, mean_q: --\n",
            " 34847/100000: episode: 45, duration: 15.002s, episode steps: 404, steps per second:  27, episode reward:  3.000, mean reward:  0.007 [ 0.000,  1.000], mean action: 1.700 [0.000, 5.000],  loss: --, mae: --, mean_q: --\n",
            " 35542/100000: episode: 46, duration: 26.346s, episode steps: 695, steps per second:  26, episode reward:  9.000, mean reward:  0.013 [ 0.000,  1.000], mean action: 1.832 [0.000, 5.000],  loss: --, mae: --, mean_q: --\n",
            " 36120/100000: episode: 47, duration: 24.485s, episode steps: 578, steps per second:  24, episode reward:  9.000, mean reward:  0.016 [ 0.000,  1.000], mean action: 1.908 [0.000, 5.000],  loss: --, mae: --, mean_q: --\n",
            " 36876/100000: episode: 48, duration: 28.349s, episode steps: 756, steps per second:  27, episode reward:  9.000, mean reward:  0.012 [ 0.000,  1.000], mean action: 1.807 [0.000, 5.000],  loss: --, mae: --, mean_q: --\n",
            " 37587/100000: episode: 49, duration: 26.911s, episode steps: 711, steps per second:  26, episode reward: 11.000, mean reward:  0.015 [ 0.000,  1.000], mean action: 1.677 [0.000, 5.000],  loss: --, mae: --, mean_q: --\n",
            " 37975/100000: episode: 50, duration: 14.482s, episode steps: 388, steps per second:  27, episode reward: 10.000, mean reward:  0.026 [ 0.000,  1.000], mean action: 1.698 [0.000, 5.000],  loss: --, mae: --, mean_q: --\n",
            " 38370/100000: episode: 51, duration: 14.781s, episode steps: 395, steps per second:  27, episode reward:  8.000, mean reward:  0.020 [ 0.000,  1.000], mean action: 1.699 [0.000, 5.000],  loss: --, mae: --, mean_q: --\n",
            " 39015/100000: episode: 52, duration: 22.914s, episode steps: 645, steps per second:  28, episode reward: 11.000, mean reward:  0.017 [ 0.000,  1.000], mean action: 1.763 [0.000, 5.000],  loss: --, mae: --, mean_q: --\n",
            " 39768/100000: episode: 53, duration: 28.233s, episode steps: 753, steps per second:  27, episode reward: 10.000, mean reward:  0.013 [ 0.000,  1.000], mean action: 1.786 [0.000, 5.000],  loss: --, mae: --, mean_q: --\n",
            " 40176/100000: episode: 54, duration: 18.965s, episode steps: 408, steps per second:  22, episode reward:  5.000, mean reward:  0.012 [ 0.000,  1.000], mean action: 1.652 [0.000, 5.000],  loss: --, mae: --, mean_q: --\n",
            " 41010/100000: episode: 55, duration: 31.053s, episode steps: 834, steps per second:  27, episode reward: 16.000, mean reward:  0.019 [ 0.000,  1.000], mean action: 1.795 [0.000, 5.000],  loss: --, mae: --, mean_q: --\n",
            " 42207/100000: episode: 56, duration: 44.550s, episode steps: 1197, steps per second:  27, episode reward: 16.000, mean reward:  0.013 [ 0.000,  1.000], mean action: 1.863 [0.000, 5.000],  loss: --, mae: --, mean_q: --\n",
            " 43074/100000: episode: 57, duration: 32.253s, episode steps: 867, steps per second:  27, episode reward: 13.000, mean reward:  0.015 [ 0.000,  1.000], mean action: 1.721 [0.000, 5.000],  loss: --, mae: --, mean_q: --\n",
            " 43691/100000: episode: 58, duration: 23.729s, episode steps: 617, steps per second:  26, episode reward:  7.000, mean reward:  0.011 [ 0.000,  1.000], mean action: 1.784 [0.000, 5.000],  loss: --, mae: --, mean_q: --\n",
            " 44265/100000: episode: 59, duration: 22.284s, episode steps: 574, steps per second:  26, episode reward:  2.000, mean reward:  0.003 [ 0.000,  1.000], mean action: 1.826 [0.000, 5.000],  loss: --, mae: --, mean_q: --\n",
            " 45445/100000: episode: 60, duration: 45.556s, episode steps: 1180, steps per second:  26, episode reward: 12.000, mean reward:  0.010 [ 0.000,  1.000], mean action: 1.903 [0.000, 5.000],  loss: --, mae: --, mean_q: --\n",
            " 46347/100000: episode: 61, duration: 33.559s, episode steps: 902, steps per second:  27, episode reward: 14.000, mean reward:  0.016 [ 0.000,  1.000], mean action: 1.853 [0.000, 5.000],  loss: --, mae: --, mean_q: --\n",
            " 47259/100000: episode: 62, duration: 33.459s, episode steps: 912, steps per second:  27, episode reward: 12.000, mean reward:  0.013 [ 0.000,  1.000], mean action: 1.830 [0.000, 5.000],  loss: --, mae: --, mean_q: --\n",
            " 48450/100000: episode: 63, duration: 45.439s, episode steps: 1191, steps per second:  26, episode reward: 18.000, mean reward:  0.015 [ 0.000,  1.000], mean action: 1.842 [0.000, 5.000],  loss: --, mae: --, mean_q: --\n",
            " 49103/100000: episode: 64, duration: 25.999s, episode steps: 653, steps per second:  25, episode reward:  6.000, mean reward:  0.009 [ 0.000,  1.000], mean action: 1.871 [0.000, 5.000],  loss: --, mae: --, mean_q: --\n",
            " 49763/100000: episode: 65, duration: 25.050s, episode steps: 660, steps per second:  26, episode reward:  7.000, mean reward:  0.011 [ 0.000,  1.000], mean action: 1.741 [0.000, 5.000],  loss: --, mae: --, mean_q: --\n"
          ]
        },
        {
          "output_type": "stream",
          "name": "stderr",
          "text": [
            "/usr/local/lib/python3.11/dist-packages/keras/engine/training_v1.py:2359: UserWarning: `Model.state_updates` will be removed in a future version. This property should not be used in TensorFlow 2.0, as `updates` are applied automatically.\n",
            "  updates=self.state_updates,\n"
          ]
        },
        {
          "output_type": "stream",
          "name": "stdout",
          "text": [
            " 50445/100000: episode: 66, duration: 57.161s, episode steps: 682, steps per second:  12, episode reward:  7.000, mean reward:  0.010 [ 0.000,  1.000], mean action: 2.136 [0.000, 5.000],  loss: 0.007439, mae: 0.039451, mean_q: 0.070467\n",
            " 51373/100000: episode: 67, duration: 99.220s, episode steps: 928, steps per second:   9, episode reward: 18.000, mean reward:  0.019 [ 0.000,  1.000], mean action: 2.548 [0.000, 5.000],  loss: 0.007328, mae: 0.043818, mean_q: 0.068972\n",
            " 52035/100000: episode: 68, duration: 69.276s, episode steps: 662, steps per second:  10, episode reward: 13.000, mean reward:  0.020 [ 0.000,  1.000], mean action: 2.890 [0.000, 5.000],  loss: 0.006923, mae: 0.041489, mean_q: 0.063502\n",
            " 53295/100000: episode: 69, duration: 132.624s, episode steps: 1260, steps per second:  10, episode reward: 26.000, mean reward:  0.021 [ 0.000,  1.000], mean action: 3.087 [0.000, 5.000],  loss: 0.006974, mae: 0.044237, mean_q: 0.065819\n",
            " 53997/100000: episode: 70, duration: 73.971s, episode steps: 702, steps per second:   9, episode reward: 10.000, mean reward:  0.014 [ 0.000,  1.000], mean action: 2.360 [0.000, 5.000],  loss: 0.006021, mae: 0.041638, mean_q: 0.060717\n",
            " 54583/100000: episode: 71, duration: 63.087s, episode steps: 586, steps per second:   9, episode reward:  6.000, mean reward:  0.010 [ 0.000,  1.000], mean action: 2.522 [0.000, 5.000],  loss: 0.007109, mae: 0.042227, mean_q: 0.058120\n",
            " 55256/100000: episode: 72, duration: 70.504s, episode steps: 673, steps per second:  10, episode reward: 13.000, mean reward:  0.019 [ 0.000,  1.000], mean action: 2.358 [0.000, 5.000],  loss: 0.008641, mae: 0.050604, mean_q: 0.072135\n",
            " 55937/100000: episode: 73, duration: 73.194s, episode steps: 681, steps per second:   9, episode reward:  7.000, mean reward:  0.010 [ 0.000,  1.000], mean action: 2.495 [0.000, 5.000],  loss: 0.006510, mae: 0.042131, mean_q: 0.059734\n",
            " 56721/100000: episode: 74, duration: 82.499s, episode steps: 784, steps per second:  10, episode reward:  9.000, mean reward:  0.011 [ 0.000,  1.000], mean action: 2.511 [0.000, 5.000],  loss: 0.006392, mae: 0.042805, mean_q: 0.060739\n",
            " 57329/100000: episode: 75, duration: 62.685s, episode steps: 608, steps per second:  10, episode reward:  7.000, mean reward:  0.012 [ 0.000,  1.000], mean action: 2.235 [0.000, 5.000],  loss: 0.006652, mae: 0.042639, mean_q: 0.060122\n",
            " 57943/100000: episode: 76, duration: 66.695s, episode steps: 614, steps per second:   9, episode reward: 12.000, mean reward:  0.020 [ 0.000,  1.000], mean action: 2.145 [0.000, 5.000],  loss: 0.006768, mae: 0.043944, mean_q: 0.061400\n",
            " 58633/100000: episode: 77, duration: 71.845s, episode steps: 690, steps per second:  10, episode reward: 15.000, mean reward:  0.022 [ 0.000,  1.000], mean action: 2.165 [0.000, 5.000],  loss: 0.007804, mae: 0.045435, mean_q: 0.060688\n",
            " 59565/100000: episode: 78, duration: 99.122s, episode steps: 932, steps per second:   9, episode reward: 16.000, mean reward:  0.017 [ 0.000,  1.000], mean action: 2.273 [0.000, 5.000],  loss: 0.007230, mae: 0.046841, mean_q: 0.061378\n",
            " 60374/100000: episode: 79, duration: 85.209s, episode steps: 809, steps per second:   9, episode reward: 10.000, mean reward:  0.012 [ 0.000,  1.000], mean action: 3.138 [0.000, 5.000],  loss: 0.007924, mae: 0.050510, mean_q: 0.067496\n",
            " 60783/100000: episode: 80, duration: 44.441s, episode steps: 409, steps per second:   9, episode reward:  3.000, mean reward:  0.007 [ 0.000,  1.000], mean action: 2.154 [0.000, 5.000],  loss: 0.007787, mae: 0.060343, mean_q: 0.080616\n",
            " 61478/100000: episode: 81, duration: 72.320s, episode steps: 695, steps per second:  10, episode reward: 15.000, mean reward:  0.022 [ 0.000,  1.000], mean action: 2.306 [0.000, 5.000],  loss: 0.006603, mae: 0.058552, mean_q: 0.079153\n",
            " 62235/100000: episode: 82, duration: 77.569s, episode steps: 757, steps per second:  10, episode reward:  8.000, mean reward:  0.011 [ 0.000,  1.000], mean action: 3.067 [0.000, 5.000],  loss: 0.006698, mae: 0.059414, mean_q: 0.078417\n",
            " 63128/100000: episode: 83, duration: 95.669s, episode steps: 893, steps per second:   9, episode reward: 15.000, mean reward:  0.017 [ 0.000,  1.000], mean action: 2.834 [0.000, 5.000],  loss: 0.006454, mae: 0.059394, mean_q: 0.078655\n",
            " 63895/100000: episode: 84, duration: 80.506s, episode steps: 767, steps per second:  10, episode reward: 11.000, mean reward:  0.014 [ 0.000,  1.000], mean action: 1.737 [0.000, 5.000],  loss: 0.006426, mae: 0.058115, mean_q: 0.077147\n",
            " 64695/100000: episode: 85, duration: 85.560s, episode steps: 800, steps per second:   9, episode reward:  6.000, mean reward:  0.007 [ 0.000,  1.000], mean action: 2.371 [0.000, 5.000],  loss: 0.006424, mae: 0.060366, mean_q: 0.079253\n",
            " 65338/100000: episode: 86, duration: 66.583s, episode steps: 643, steps per second:  10, episode reward:  6.000, mean reward:  0.009 [ 0.000,  1.000], mean action: 3.065 [0.000, 5.000],  loss: 0.006162, mae: 0.059168, mean_q: 0.078192\n",
            " 65868/100000: episode: 87, duration: 57.437s, episode steps: 530, steps per second:   9, episode reward:  8.000, mean reward:  0.015 [ 0.000,  1.000], mean action: 2.642 [0.000, 5.000],  loss: 0.007075, mae: 0.059586, mean_q: 0.078518\n",
            " 66711/100000: episode: 88, duration: 89.075s, episode steps: 843, steps per second:   9, episode reward: 16.000, mean reward:  0.019 [ 0.000,  1.000], mean action: 2.543 [0.000, 5.000],  loss: 0.007229, mae: 0.059844, mean_q: 0.079443\n",
            " 67104/100000: episode: 89, duration: 41.402s, episode steps: 393, steps per second:   9, episode reward:  6.000, mean reward:  0.015 [ 0.000,  1.000], mean action: 2.445 [0.000, 5.000],  loss: 0.007986, mae: 0.062317, mean_q: 0.081497\n",
            " 67599/100000: episode: 90, duration: 52.586s, episode steps: 495, steps per second:   9, episode reward:  7.000, mean reward:  0.014 [ 0.000,  1.000], mean action: 2.857 [0.000, 5.000],  loss: 0.007058, mae: 0.061656, mean_q: 0.081977\n",
            " 68496/100000: episode: 91, duration: 94.836s, episode steps: 897, steps per second:   9, episode reward: 11.000, mean reward:  0.012 [ 0.000,  1.000], mean action: 2.631 [0.000, 5.000],  loss: 0.005951, mae: 0.058750, mean_q: 0.078097\n",
            " 69307/100000: episode: 92, duration: 86.523s, episode steps: 811, steps per second:   9, episode reward: 15.000, mean reward:  0.018 [ 0.000,  1.000], mean action: 2.143 [0.000, 5.000],  loss: 0.006650, mae: 0.057761, mean_q: 0.077213\n",
            " 69938/100000: episode: 93, duration: 66.429s, episode steps: 631, steps per second:   9, episode reward:  7.000, mean reward:  0.011 [ 0.000,  1.000], mean action: 2.632 [0.000, 5.000],  loss: 0.006849, mae: 0.059747, mean_q: 0.078235\n",
            " 71035/100000: episode: 94, duration: 117.276s, episode steps: 1097, steps per second:   9, episode reward: 22.000, mean reward:  0.020 [ 0.000,  1.000], mean action: 2.919 [0.000, 5.000],  loss: 0.006292, mae: 0.069409, mean_q: 0.091116\n",
            " 71722/100000: episode: 95, duration: 71.565s, episode steps: 687, steps per second:  10, episode reward: 14.000, mean reward:  0.020 [ 0.000,  1.000], mean action: 2.662 [0.000, 5.000],  loss: 0.006664, mae: 0.072735, mean_q: 0.094942\n",
            " 72248/100000: episode: 96, duration: 55.694s, episode steps: 526, steps per second:   9, episode reward:  7.000, mean reward:  0.013 [ 0.000,  1.000], mean action: 2.895 [0.000, 5.000],  loss: 0.007164, mae: 0.075650, mean_q: 0.099560\n",
            " 73223/100000: episode: 97, duration: 103.739s, episode steps: 975, steps per second:   9, episode reward: 13.000, mean reward:  0.013 [ 0.000,  1.000], mean action: 2.865 [0.000, 5.000],  loss: 0.007614, mae: 0.075157, mean_q: 0.098784\n",
            " 73887/100000: episode: 98, duration: 69.849s, episode steps: 664, steps per second:  10, episode reward: 15.000, mean reward:  0.023 [ 0.000,  1.000], mean action: 2.072 [0.000, 5.000],  loss: 0.006665, mae: 0.071934, mean_q: 0.093554\n",
            " 74697/100000: episode: 99, duration: 86.695s, episode steps: 810, steps per second:   9, episode reward: 10.000, mean reward:  0.012 [ 0.000,  1.000], mean action: 2.747 [0.000, 5.000],  loss: 0.007059, mae: 0.075383, mean_q: 0.097021\n",
            " 75954/100000: episode: 100, duration: 133.944s, episode steps: 1257, steps per second:   9, episode reward: 24.000, mean reward:  0.019 [ 0.000,  1.000], mean action: 2.053 [0.000, 5.000],  loss: 0.006724, mae: 0.073059, mean_q: 0.093521\n",
            " 77099/100000: episode: 101, duration: 119.871s, episode steps: 1145, steps per second:  10, episode reward: 18.000, mean reward:  0.016 [ 0.000,  1.000], mean action: 2.400 [0.000, 5.000],  loss: 0.006080, mae: 0.071388, mean_q: 0.092319\n",
            " 77779/100000: episode: 102, duration: 73.061s, episode steps: 680, steps per second:   9, episode reward: 14.000, mean reward:  0.021 [ 0.000,  1.000], mean action: 2.363 [0.000, 5.000],  loss: 0.007651, mae: 0.077070, mean_q: 0.099068\n",
            " 78435/100000: episode: 103, duration: 68.931s, episode steps: 656, steps per second:  10, episode reward: 11.000, mean reward:  0.017 [ 0.000,  1.000], mean action: 1.953 [0.000, 5.000],  loss: 0.008687, mae: 0.077600, mean_q: 0.100522\n",
            " 79655/100000: episode: 104, duration: 129.596s, episode steps: 1220, steps per second:   9, episode reward: 19.000, mean reward:  0.016 [ 0.000,  1.000], mean action: 2.383 [0.000, 5.000],  loss: 0.006460, mae: 0.072308, mean_q: 0.094382\n",
            " 80290/100000: episode: 105, duration: 67.826s, episode steps: 635, steps per second:   9, episode reward: 13.000, mean reward:  0.020 [ 0.000,  1.000], mean action: 2.365 [0.000, 5.000],  loss: 0.006223, mae: 0.082463, mean_q: 0.108182\n",
            " 80670/100000: episode: 106, duration: 39.245s, episode steps: 380, steps per second:  10, episode reward:  4.000, mean reward:  0.011 [ 0.000,  1.000], mean action: 2.100 [0.000, 5.000],  loss: 0.006092, mae: 0.102036, mean_q: 0.133387\n",
            " 81620/100000: episode: 107, duration: 102.430s, episode steps: 950, steps per second:   9, episode reward: 22.000, mean reward:  0.023 [ 0.000,  1.000], mean action: 2.524 [0.000, 5.000],  loss: 0.006607, mae: 0.104279, mean_q: 0.135228\n",
            " 82188/100000: episode: 108, duration: 59.712s, episode steps: 568, steps per second:  10, episode reward:  8.000, mean reward:  0.014 [ 0.000,  1.000], mean action: 2.257 [0.000, 5.000],  loss: 0.007914, mae: 0.110084, mean_q: 0.141192\n",
            " 82540/100000: episode: 109, duration: 36.685s, episode steps: 352, steps per second:  10, episode reward:  4.000, mean reward:  0.011 [ 0.000,  1.000], mean action: 2.528 [0.000, 5.000],  loss: 0.007428, mae: 0.104671, mean_q: 0.135848\n",
            " 83033/100000: episode: 110, duration: 53.953s, episode steps: 493, steps per second:   9, episode reward:  4.000, mean reward:  0.008 [ 0.000,  1.000], mean action: 1.414 [0.000, 5.000],  loss: 0.008217, mae: 0.111853, mean_q: 0.142173\n",
            " 83943/100000: episode: 111, duration: 95.832s, episode steps: 910, steps per second:   9, episode reward: 16.000, mean reward:  0.018 [ 0.000,  1.000], mean action: 1.911 [0.000, 5.000],  loss: 0.007996, mae: 0.108482, mean_q: 0.137701\n",
            " 84991/100000: episode: 112, duration: 110.455s, episode steps: 1048, steps per second:   9, episode reward: 14.000, mean reward:  0.013 [ 0.000,  1.000], mean action: 2.839 [0.000, 5.000],  loss: 0.007924, mae: 0.109455, mean_q: 0.140468\n",
            " 85511/100000: episode: 113, duration: 54.652s, episode steps: 520, steps per second:  10, episode reward:  5.000, mean reward:  0.010 [ 0.000,  1.000], mean action: 2.523 [0.000, 5.000],  loss: 0.005261, mae: 0.100511, mean_q: 0.129882\n",
            " 86135/100000: episode: 114, duration: 66.131s, episode steps: 624, steps per second:   9, episode reward: 10.000, mean reward:  0.016 [ 0.000,  1.000], mean action: 2.872 [0.000, 5.000],  loss: 0.007562, mae: 0.106157, mean_q: 0.137385\n",
            " 86598/100000: episode: 115, duration: 49.921s, episode steps: 463, steps per second:   9, episode reward:  7.000, mean reward:  0.015 [ 0.000,  1.000], mean action: 2.404 [0.000, 5.000],  loss: 0.004952, mae: 0.102755, mean_q: 0.131967\n",
            " 87269/100000: episode: 116, duration: 70.077s, episode steps: 671, steps per second:  10, episode reward:  8.000, mean reward:  0.012 [ 0.000,  1.000], mean action: 3.097 [0.000, 5.000],  loss: 0.007040, mae: 0.107233, mean_q: 0.136599\n",
            " 87777/100000: episode: 117, duration: 53.834s, episode steps: 508, steps per second:   9, episode reward:  7.000, mean reward:  0.014 [ 0.000,  1.000], mean action: 1.581 [0.000, 5.000],  loss: 0.006896, mae: 0.105530, mean_q: 0.133350\n",
            " 88466/100000: episode: 118, duration: 73.951s, episode steps: 689, steps per second:   9, episode reward: 14.000, mean reward:  0.020 [ 0.000,  1.000], mean action: 2.804 [0.000, 5.000],  loss: 0.007593, mae: 0.108007, mean_q: 0.137568\n",
            " 89159/100000: episode: 119, duration: 74.826s, episode steps: 693, steps per second:   9, episode reward: 15.000, mean reward:  0.022 [ 0.000,  1.000], mean action: 2.620 [0.000, 5.000],  loss: 0.005883, mae: 0.103885, mean_q: 0.133412\n",
            " 90138/100000: episode: 120, duration: 105.288s, episode steps: 979, steps per second:   9, episode reward: 21.000, mean reward:  0.021 [ 0.000,  1.000], mean action: 2.441 [0.000, 5.000],  loss: 0.008311, mae: 0.110173, mean_q: 0.139395\n",
            " 91156/100000: episode: 121, duration: 107.527s, episode steps: 1018, steps per second:   9, episode reward: 16.000, mean reward:  0.016 [ 0.000,  1.000], mean action: 2.467 [0.000, 5.000],  loss: 0.005944, mae: 0.118359, mean_q: 0.152176\n",
            " 92567/100000: episode: 122, duration: 150.267s, episode steps: 1411, steps per second:   9, episode reward: 26.000, mean reward:  0.018 [ 0.000,  1.000], mean action: 3.274 [0.000, 5.000],  loss: 0.007414, mae: 0.123254, mean_q: 0.157335\n",
            " 93362/100000: episode: 123, duration: 83.966s, episode steps: 795, steps per second:   9, episode reward:  9.000, mean reward:  0.011 [ 0.000,  1.000], mean action: 3.059 [0.000, 5.000],  loss: 0.008410, mae: 0.123830, mean_q: 0.156944\n",
            " 93743/100000: episode: 124, duration: 42.220s, episode steps: 381, steps per second:   9, episode reward:  9.000, mean reward:  0.024 [ 0.000,  1.000], mean action: 1.339 [0.000, 5.000],  loss: 0.006603, mae: 0.116625, mean_q: 0.151538\n",
            " 94435/100000: episode: 125, duration: 72.388s, episode steps: 692, steps per second:  10, episode reward:  8.000, mean reward:  0.012 [ 0.000,  1.000], mean action: 2.001 [0.000, 5.000],  loss: 0.007149, mae: 0.120184, mean_q: 0.153047\n",
            " 95127/100000: episode: 126, duration: 72.873s, episode steps: 692, steps per second:   9, episode reward: 17.000, mean reward:  0.025 [ 0.000,  1.000], mean action: 1.949 [0.000, 5.000],  loss: 0.006795, mae: 0.120984, mean_q: 0.153363\n",
            " 95624/100000: episode: 127, duration: 54.842s, episode steps: 497, steps per second:   9, episode reward:  4.000, mean reward:  0.008 [ 0.000,  1.000], mean action: 2.374 [0.000, 5.000],  loss: 0.008743, mae: 0.126244, mean_q: 0.161182\n",
            " 96109/100000: episode: 128, duration: 51.822s, episode steps: 485, steps per second:   9, episode reward:  5.000, mean reward:  0.010 [ 0.000,  1.000], mean action: 2.334 [0.000, 5.000],  loss: 0.007084, mae: 0.121394, mean_q: 0.153651\n",
            " 97233/100000: episode: 129, duration: 119.196s, episode steps: 1124, steps per second:   9, episode reward: 26.000, mean reward:  0.023 [ 0.000,  1.000], mean action: 1.987 [0.000, 5.000],  loss: 0.008576, mae: 0.126213, mean_q: 0.159197\n",
            " 97813/100000: episode: 130, duration: 60.312s, episode steps: 580, steps per second:  10, episode reward:  5.000, mean reward:  0.009 [ 0.000,  1.000], mean action: 2.352 [0.000, 5.000],  loss: 0.007199, mae: 0.121447, mean_q: 0.152410\n",
            " 98639/100000: episode: 131, duration: 86.534s, episode steps: 826, steps per second:  10, episode reward: 12.000, mean reward:  0.015 [ 0.000,  1.000], mean action: 2.251 [0.000, 5.000],  loss: 0.007280, mae: 0.123720, mean_q: 0.155645\n",
            " 99265/100000: episode: 132, duration: 68.663s, episode steps: 626, steps per second:   9, episode reward:  7.000, mean reward:  0.011 [ 0.000,  1.000], mean action: 1.748 [0.000, 5.000],  loss: 0.007910, mae: 0.121780, mean_q: 0.154028\n",
            " 99787/100000: episode: 133, duration: 55.270s, episode steps: 522, steps per second:   9, episode reward:  5.000, mean reward:  0.010 [ 0.000,  1.000], mean action: 2.854 [0.000, 5.000],  loss: 0.007947, mae: 0.124215, mean_q: 0.155902\n",
            "done, took 7215.459 seconds\n"
          ]
        }
      ],
      "source": [
        "# Cargar último checkpoint\n",
        "latest_path, trained_steps = load_latest_weights(dqn, checkpoint_dir)\n",
        "\n",
        "# Entrenar agente\n",
        "dqn.fit(env, nb_steps=100000, visualize=False, verbose=2,\n",
        "        callbacks=[checkpoint_callback, logger_callback])\n",
        "\n",
        "# Guardar pesos finales en formato .h5 (compatible con load_weights)\n",
        "dqn.save_weights(os.path.join(checkpoint_dir, f\"dqn_noisy_weights_{total_steps}.h5\"), overwrite=True)\n",
        "\n",
        "# GUARDAR LA MEMORIA DE EXPERIENCIA\n",
        "import pickle\n",
        "with open('memory_noisy.pkl', 'wb') as f:\n",
        "    pickle.dump(memory, f)"
      ]
    },
    {
      "cell_type": "code",
      "execution_count": 25,
      "metadata": {
        "id": "hcqrLtRxi23X",
        "colab": {
          "base_uri": "https://localhost:8080/"
        },
        "outputId": "f93c7392-8077-4ac2-b5cc-eeb86a598f8c"
      },
      "outputs": [
        {
          "output_type": "stream",
          "name": "stdout",
          "text": [
            "Esperando 60 segundos...\n",
            "¡Tiempo de espera terminado!\n"
          ]
        }
      ],
      "source": [
        "import time\n",
        "\n",
        "print(\"Esperando 60 segundos...\")\n",
        "time.sleep(60)\n",
        "print(\"¡Tiempo de espera terminado!\")"
      ]
    },
    {
      "cell_type": "code",
      "execution_count": 26,
      "metadata": {
        "id": "fuVSBuiyi56X",
        "colab": {
          "base_uri": "https://localhost:8080/"
        },
        "outputId": "0920c330-9386-4a02-a44e-20122ab75b1e"
      },
      "outputs": [
        {
          "output_type": "stream",
          "name": "stdout",
          "text": [
            "✅ Cargando pesos desde: /content/gdrive/My Drive/MODELO 14/checkpoints/dqn_noisy_weights_100000.h5 (pasos entrenados: 100000)\n",
            "Testing for 10 episodes ...\n",
            "Episode 1: reward: 7.000, steps: 529\n",
            "Episode 2: reward: 9.000, steps: 626\n",
            "Episode 3: reward: 5.000, steps: 523\n",
            "Episode 4: reward: 3.000, steps: 523\n",
            "Episode 5: reward: 5.000, steps: 477\n",
            "Episode 6: reward: 10.000, steps: 483\n",
            "Episode 7: reward: 6.000, steps: 507\n",
            "Episode 8: reward: 14.000, steps: 804\n",
            "Episode 9: reward: 10.000, steps: 660\n",
            "Episode 10: reward: 6.000, steps: 623\n"
          ]
        }
      ],
      "source": [
        "# Testear desde último checkpoint\n",
        "latest_path, trained_steps = load_latest_weights(dqn, checkpoint_dir)\n",
        "if latest_path:\n",
        "    dqn.test(env, nb_episodes=10, visualize=False)"
      ]
    },
    {
      "cell_type": "markdown",
      "metadata": {
        "id": "CMKpo4cgDXND"
      },
      "source": [
        "### Parte 2"
      ]
    },
    {
      "cell_type": "code",
      "execution_count": null,
      "metadata": {
        "colab": {
          "base_uri": "https://localhost:8080/"
        },
        "id": "8_fQUrYHDVG2",
        "outputId": "825489d3-8337-4c95-b3fa-e79034483cdb"
      },
      "outputs": [
        {
          "output_type": "stream",
          "name": "stdout",
          "text": [
            "✅ Cargando pesos desde: /content/gdrive/My Drive/MODELO 14/checkpoints/dqn_noisy_weights_100000.h5 (pasos entrenados: 100000)\n",
            "Training for 100000 steps ...\n",
            "  1157/100000: episode: 1, duration: 43.063s, episode steps: 1157, steps per second:  27, episode reward: 23.000, mean reward:  0.020 [ 0.000,  1.000], mean action: 3.219 [0.000, 5.000],  loss: --, mae: --, mean_q: --\n",
            "  1789/100000: episode: 2, duration: 22.616s, episode steps: 632, steps per second:  28, episode reward:  9.000, mean reward:  0.014 [ 0.000,  1.000], mean action: 3.071 [0.000, 5.000],  loss: --, mae: --, mean_q: --\n",
            "  3055/100000: episode: 3, duration: 48.318s, episode steps: 1266, steps per second:  26, episode reward: 13.000, mean reward:  0.010 [ 0.000,  1.000], mean action: 3.092 [0.000, 5.000],  loss: --, mae: --, mean_q: --\n",
            "  3979/100000: episode: 4, duration: 33.947s, episode steps: 924, steps per second:  27, episode reward: 14.000, mean reward:  0.015 [ 0.000,  1.000], mean action: 3.053 [0.000, 5.000],  loss: --, mae: --, mean_q: --\n",
            "  4440/100000: episode: 5, duration: 19.855s, episode steps: 461, steps per second:  23, episode reward:  3.000, mean reward:  0.007 [ 0.000,  1.000], mean action: 3.334 [0.000, 5.000],  loss: --, mae: --, mean_q: --\n",
            "  5141/100000: episode: 6, duration: 25.185s, episode steps: 701, steps per second:  28, episode reward: 10.000, mean reward:  0.014 [ 0.000,  1.000], mean action: 3.011 [0.000, 5.000],  loss: --, mae: --, mean_q: --\n",
            "  5953/100000: episode: 7, duration: 31.312s, episode steps: 812, steps per second:  26, episode reward: 16.000, mean reward:  0.020 [ 0.000,  1.000], mean action: 2.767 [0.000, 5.000],  loss: --, mae: --, mean_q: --\n",
            "  6481/100000: episode: 8, duration: 19.587s, episode steps: 528, steps per second:  27, episode reward:  8.000, mean reward:  0.015 [ 0.000,  1.000], mean action: 2.807 [0.000, 5.000],  loss: --, mae: --, mean_q: --\n",
            "  6928/100000: episode: 9, duration: 16.402s, episode steps: 447, steps per second:  27, episode reward:  4.000, mean reward:  0.009 [ 0.000,  1.000], mean action: 3.244 [0.000, 5.000],  loss: --, mae: --, mean_q: --\n",
            "  7749/100000: episode: 10, duration: 30.477s, episode steps: 821, steps per second:  27, episode reward: 18.000, mean reward:  0.022 [ 0.000,  1.000], mean action: 3.061 [0.000, 5.000],  loss: --, mae: --, mean_q: --\n",
            "  8397/100000: episode: 11, duration: 24.799s, episode steps: 648, steps per second:  26, episode reward: 14.000, mean reward:  0.022 [ 0.000,  1.000], mean action: 3.350 [0.000, 5.000],  loss: --, mae: --, mean_q: --\n",
            "  9036/100000: episode: 12, duration: 29.337s, episode steps: 639, steps per second:  22, episode reward:  9.000, mean reward:  0.014 [ 0.000,  1.000], mean action: 3.383 [0.000, 5.000],  loss: --, mae: --, mean_q: --\n",
            "  9948/100000: episode: 13, duration: 35.640s, episode steps: 912, steps per second:  26, episode reward: 13.000, mean reward:  0.014 [ 0.000,  1.000], mean action: 3.089 [0.000, 5.000],  loss: --, mae: --, mean_q: --\n",
            " 10646/100000: episode: 14, duration: 26.179s, episode steps: 698, steps per second:  27, episode reward:  9.000, mean reward:  0.013 [ 0.000,  1.000], mean action: 2.754 [0.000, 5.000],  loss: --, mae: --, mean_q: --\n",
            " 11733/100000: episode: 15, duration: 40.806s, episode steps: 1087, steps per second:  27, episode reward: 17.000, mean reward:  0.016 [ 0.000,  1.000], mean action: 2.985 [0.000, 5.000],  loss: --, mae: --, mean_q: --\n",
            " 12372/100000: episode: 16, duration: 24.437s, episode steps: 639, steps per second:  26, episode reward: 10.000, mean reward:  0.016 [ 0.000,  1.000], mean action: 3.377 [0.000, 5.000],  loss: --, mae: --, mean_q: --\n",
            " 13145/100000: episode: 17, duration: 28.842s, episode steps: 773, steps per second:  27, episode reward: 11.000, mean reward:  0.014 [ 0.000,  1.000], mean action: 2.748 [0.000, 5.000],  loss: --, mae: --, mean_q: --\n",
            " 14174/100000: episode: 18, duration: 39.303s, episode steps: 1029, steps per second:  26, episode reward: 18.000, mean reward:  0.017 [ 0.000,  1.000], mean action: 3.258 [0.000, 5.000],  loss: --, mae: --, mean_q: --\n",
            " 14648/100000: episode: 19, duration: 18.708s, episode steps: 474, steps per second:  25, episode reward:  6.000, mean reward:  0.013 [ 0.000,  1.000], mean action: 3.344 [0.000, 5.000],  loss: --, mae: --, mean_q: --\n",
            " 15270/100000: episode: 20, duration: 23.267s, episode steps: 622, steps per second:  27, episode reward: 13.000, mean reward:  0.021 [ 0.000,  1.000], mean action: 3.468 [0.000, 5.000],  loss: --, mae: --, mean_q: --\n",
            " 16166/100000: episode: 21, duration: 33.505s, episode steps: 896, steps per second:  27, episode reward: 11.000, mean reward:  0.012 [ 0.000,  1.000], mean action: 3.013 [0.000, 5.000],  loss: --, mae: --, mean_q: --\n",
            " 16870/100000: episode: 22, duration: 26.604s, episode steps: 704, steps per second:  26, episode reward: 12.000, mean reward:  0.017 [ 0.000,  1.000], mean action: 2.768 [0.000, 5.000],  loss: --, mae: --, mean_q: --\n",
            " 17431/100000: episode: 23, duration: 20.191s, episode steps: 561, steps per second:  28, episode reward:  8.000, mean reward:  0.014 [ 0.000,  1.000], mean action: 3.210 [0.000, 5.000],  loss: --, mae: --, mean_q: --\n",
            " 18171/100000: episode: 24, duration: 27.866s, episode steps: 740, steps per second:  27, episode reward:  9.000, mean reward:  0.012 [ 0.000,  1.000], mean action: 3.238 [0.000, 5.000],  loss: --, mae: --, mean_q: --\n",
            " 19064/100000: episode: 25, duration: 34.175s, episode steps: 893, steps per second:  26, episode reward: 18.000, mean reward:  0.020 [ 0.000,  1.000], mean action: 3.024 [0.000, 5.000],  loss: --, mae: --, mean_q: --\n",
            " 19811/100000: episode: 26, duration: 29.944s, episode steps: 747, steps per second:  25, episode reward: 10.000, mean reward:  0.013 [ 0.000,  1.000], mean action: 3.282 [0.000, 5.000],  loss: --, mae: --, mean_q: --\n",
            " 20458/100000: episode: 27, duration: 24.099s, episode steps: 647, steps per second:  27, episode reward: 13.000, mean reward:  0.020 [ 0.000,  1.000], mean action: 3.161 [0.000, 5.000],  loss: --, mae: --, mean_q: --\n",
            " 21228/100000: episode: 28, duration: 28.968s, episode steps: 770, steps per second:  27, episode reward: 16.000, mean reward:  0.021 [ 0.000,  1.000], mean action: 3.205 [0.000, 5.000],  loss: --, mae: --, mean_q: --\n",
            " 22188/100000: episode: 29, duration: 35.914s, episode steps: 960, steps per second:  27, episode reward: 16.000, mean reward:  0.017 [ 0.000,  1.000], mean action: 3.075 [0.000, 5.000],  loss: --, mae: --, mean_q: --\n",
            " 22724/100000: episode: 30, duration: 19.670s, episode steps: 536, steps per second:  27, episode reward:  7.000, mean reward:  0.013 [ 0.000,  1.000], mean action: 2.765 [0.000, 5.000],  loss: --, mae: --, mean_q: --\n",
            " 23663/100000: episode: 31, duration: 35.583s, episode steps: 939, steps per second:  26, episode reward: 18.000, mean reward:  0.019 [ 0.000,  1.000], mean action: 3.151 [0.000, 5.000],  loss: --, mae: --, mean_q: --\n",
            " 24413/100000: episode: 32, duration: 29.942s, episode steps: 750, steps per second:  25, episode reward: 13.000, mean reward:  0.017 [ 0.000,  1.000], mean action: 3.033 [0.000, 5.000],  loss: --, mae: --, mean_q: --\n",
            " 25432/100000: episode: 33, duration: 38.609s, episode steps: 1019, steps per second:  26, episode reward: 17.000, mean reward:  0.017 [ 0.000,  1.000], mean action: 3.316 [0.000, 5.000],  loss: --, mae: --, mean_q: --\n",
            " 26394/100000: episode: 34, duration: 35.061s, episode steps: 962, steps per second:  27, episode reward: 17.000, mean reward:  0.018 [ 0.000,  1.000], mean action: 2.922 [0.000, 5.000],  loss: --, mae: --, mean_q: --\n",
            " 27255/100000: episode: 35, duration: 32.256s, episode steps: 861, steps per second:  27, episode reward: 16.000, mean reward:  0.019 [ 0.000,  1.000], mean action: 3.100 [0.000, 5.000],  loss: --, mae: --, mean_q: --\n",
            " 27827/100000: episode: 36, duration: 21.660s, episode steps: 572, steps per second:  26, episode reward:  9.000, mean reward:  0.016 [ 0.000,  1.000], mean action: 2.988 [0.000, 5.000],  loss: --, mae: --, mean_q: --\n",
            " 28360/100000: episode: 37, duration: 19.233s, episode steps: 533, steps per second:  28, episode reward:  5.000, mean reward:  0.009 [ 0.000,  1.000], mean action: 3.326 [0.000, 5.000],  loss: --, mae: --, mean_q: --\n",
            " 29665/100000: episode: 38, duration: 51.787s, episode steps: 1305, steps per second:  25, episode reward: 16.000, mean reward:  0.012 [ 0.000,  1.000], mean action: 3.153 [0.000, 5.000],  loss: --, mae: --, mean_q: --\n",
            " 30734/100000: episode: 39, duration: 40.967s, episode steps: 1069, steps per second:  26, episode reward: 19.000, mean reward:  0.018 [ 0.000,  1.000], mean action: 3.065 [0.000, 5.000],  loss: --, mae: --, mean_q: --\n",
            " 31085/100000: episode: 40, duration: 12.946s, episode steps: 351, steps per second:  27, episode reward:  4.000, mean reward:  0.011 [ 0.000,  1.000], mean action: 3.000 [0.000, 5.000],  loss: --, mae: --, mean_q: --\n",
            " 32366/100000: episode: 41, duration: 47.446s, episode steps: 1281, steps per second:  27, episode reward: 14.000, mean reward:  0.011 [ 0.000,  1.000], mean action: 3.235 [0.000, 5.000],  loss: --, mae: --, mean_q: --\n",
            " 33000/100000: episode: 42, duration: 24.267s, episode steps: 634, steps per second:  26, episode reward:  4.000, mean reward:  0.006 [ 0.000,  1.000], mean action: 3.164 [0.000, 5.000],  loss: --, mae: --, mean_q: --\n",
            " 33705/100000: episode: 43, duration: 25.548s, episode steps: 705, steps per second:  28, episode reward:  8.000, mean reward:  0.011 [ 0.000,  1.000], mean action: 2.848 [0.000, 5.000],  loss: --, mae: --, mean_q: --\n",
            " 34336/100000: episode: 44, duration: 25.428s, episode steps: 631, steps per second:  25, episode reward:  8.000, mean reward:  0.013 [ 0.000,  1.000], mean action: 3.254 [0.000, 5.000],  loss: --, mae: --, mean_q: --\n",
            " 35282/100000: episode: 45, duration: 35.993s, episode steps: 946, steps per second:  26, episode reward: 16.000, mean reward:  0.017 [ 0.000,  1.000], mean action: 3.093 [0.000, 5.000],  loss: --, mae: --, mean_q: --\n",
            " 35939/100000: episode: 46, duration: 23.490s, episode steps: 657, steps per second:  28, episode reward:  9.000, mean reward:  0.014 [ 0.000,  1.000], mean action: 3.047 [0.000, 5.000],  loss: --, mae: --, mean_q: --\n",
            " 36375/100000: episode: 47, duration: 16.566s, episode steps: 436, steps per second:  26, episode reward:  6.000, mean reward:  0.014 [ 0.000,  1.000], mean action: 3.213 [0.000, 5.000],  loss: --, mae: --, mean_q: --\n",
            " 37020/100000: episode: 48, duration: 24.114s, episode steps: 645, steps per second:  27, episode reward: 15.000, mean reward:  0.023 [ 0.000,  1.000], mean action: 3.011 [0.000, 5.000],  loss: --, mae: --, mean_q: --\n",
            " 37659/100000: episode: 49, duration: 24.436s, episode steps: 639, steps per second:  26, episode reward: 10.000, mean reward:  0.016 [ 0.000,  1.000], mean action: 3.116 [0.000, 5.000],  loss: --, mae: --, mean_q: --\n",
            " 38966/100000: episode: 50, duration: 47.916s, episode steps: 1307, steps per second:  27, episode reward: 24.000, mean reward:  0.018 [ 0.000,  1.000], mean action: 2.897 [0.000, 5.000],  loss: --, mae: --, mean_q: --\n",
            " 39760/100000: episode: 51, duration: 31.431s, episode steps: 794, steps per second:  25, episode reward: 17.000, mean reward:  0.021 [ 0.000,  1.000], mean action: 2.917 [0.000, 5.000],  loss: --, mae: --, mean_q: --\n",
            " 40863/100000: episode: 52, duration: 42.167s, episode steps: 1103, steps per second:  26, episode reward: 24.000, mean reward:  0.022 [ 0.000,  1.000], mean action: 2.761 [0.000, 5.000],  loss: --, mae: --, mean_q: --\n",
            " 41558/100000: episode: 53, duration: 26.531s, episode steps: 695, steps per second:  26, episode reward: 13.000, mean reward:  0.019 [ 0.000,  1.000], mean action: 3.187 [0.000, 5.000],  loss: --, mae: --, mean_q: --\n",
            " 42303/100000: episode: 54, duration: 27.880s, episode steps: 745, steps per second:  27, episode reward: 20.000, mean reward:  0.027 [ 0.000,  1.000], mean action: 2.835 [0.000, 5.000],  loss: --, mae: --, mean_q: --\n",
            " 42937/100000: episode: 55, duration: 24.228s, episode steps: 634, steps per second:  26, episode reward:  5.000, mean reward:  0.008 [ 0.000,  1.000], mean action: 3.412 [0.000, 5.000],  loss: --, mae: --, mean_q: --\n",
            " 44072/100000: episode: 56, duration: 44.180s, episode steps: 1135, steps per second:  26, episode reward: 15.000, mean reward:  0.013 [ 0.000,  1.000], mean action: 2.823 [0.000, 5.000],  loss: --, mae: --, mean_q: --\n",
            " 44995/100000: episode: 57, duration: 33.663s, episode steps: 923, steps per second:  27, episode reward: 17.000, mean reward:  0.018 [ 0.000,  1.000], mean action: 3.164 [0.000, 5.000],  loss: --, mae: --, mean_q: --\n",
            " 45489/100000: episode: 58, duration: 19.674s, episode steps: 494, steps per second:  25, episode reward:  1.000, mean reward:  0.002 [ 0.000,  1.000], mean action: 3.285 [0.000, 5.000],  loss: --, mae: --, mean_q: --\n",
            " 46400/100000: episode: 59, duration: 33.349s, episode steps: 911, steps per second:  27, episode reward: 12.000, mean reward:  0.013 [ 0.000,  1.000], mean action: 3.289 [0.000, 5.000],  loss: --, mae: --, mean_q: --\n",
            " 47162/100000: episode: 60, duration: 28.468s, episode steps: 762, steps per second:  27, episode reward: 11.000, mean reward:  0.014 [ 0.000,  1.000], mean action: 3.302 [0.000, 5.000],  loss: --, mae: --, mean_q: --\n",
            " 47938/100000: episode: 61, duration: 28.948s, episode steps: 776, steps per second:  27, episode reward: 15.000, mean reward:  0.019 [ 0.000,  1.000], mean action: 2.920 [0.000, 5.000],  loss: --, mae: --, mean_q: --\n",
            " 48637/100000: episode: 62, duration: 26.400s, episode steps: 699, steps per second:  26, episode reward: 13.000, mean reward:  0.019 [ 0.000,  1.000], mean action: 3.223 [0.000, 5.000],  loss: --, mae: --, mean_q: --\n",
            " 49875/100000: episode: 63, duration: 47.522s, episode steps: 1238, steps per second:  26, episode reward: 17.000, mean reward:  0.014 [ 0.000,  1.000], mean action: 3.019 [0.000, 5.000],  loss: --, mae: --, mean_q: --\n",
            " 50371/100000: episode: 64, duration: 46.532s, episode steps: 496, steps per second:  11, episode reward:  8.000, mean reward:  0.016 [ 0.000,  1.000], mean action: 2.456 [0.000, 5.000],  loss: 0.005785, mae: 0.133542, mean_q: 0.168557\n",
            " 51415/100000: episode: 65, duration: 113.919s, episode steps: 1044, steps per second:   9, episode reward: 17.000, mean reward:  0.016 [ 0.000,  1.000], mean action: 2.308 [0.000, 5.000],  loss: 0.007767, mae: 0.137348, mean_q: 0.172836\n",
            " 52415/100000: episode: 66, duration: 105.923s, episode steps: 1000, steps per second:   9, episode reward: 19.000, mean reward:  0.019 [ 0.000,  1.000], mean action: 2.176 [0.000, 5.000],  loss: 0.008106, mae: 0.139301, mean_q: 0.174611\n",
            " 53832/100000: episode: 67, duration: 153.489s, episode steps: 1417, steps per second:   9, episode reward: 22.000, mean reward:  0.016 [ 0.000,  1.000], mean action: 2.956 [0.000, 5.000],  loss: 0.007431, mae: 0.138910, mean_q: 0.175685\n",
            " 54309/100000: episode: 68, duration: 50.140s, episode steps: 477, steps per second:  10, episode reward: 11.000, mean reward:  0.023 [ 0.000,  1.000], mean action: 1.690 [0.000, 5.000],  loss: 0.006800, mae: 0.137151, mean_q: 0.172374\n",
            " 55067/100000: episode: 69, duration: 82.618s, episode steps: 758, steps per second:   9, episode reward:  9.000, mean reward:  0.012 [ 0.000,  1.000], mean action: 2.232 [0.000, 5.000],  loss: 0.007469, mae: 0.139126, mean_q: 0.176680\n",
            " 56018/100000: episode: 70, duration: 101.638s, episode steps: 951, steps per second:   9, episode reward: 15.000, mean reward:  0.016 [ 0.000,  1.000], mean action: 2.326 [0.000, 5.000],  loss: 0.007432, mae: 0.137837, mean_q: 0.173668\n",
            " 57026/100000: episode: 71, duration: 109.672s, episode steps: 1008, steps per second:   9, episode reward: 25.000, mean reward:  0.025 [ 0.000,  1.000], mean action: 1.716 [0.000, 5.000],  loss: 0.007764, mae: 0.140411, mean_q: 0.176426\n",
            " 57649/100000: episode: 72, duration: 67.035s, episode steps: 623, steps per second:   9, episode reward:  8.000, mean reward:  0.013 [ 0.000,  1.000], mean action: 2.586 [0.000, 5.000],  loss: 0.007206, mae: 0.139013, mean_q: 0.174473\n",
            " 58351/100000: episode: 73, duration: 74.619s, episode steps: 702, steps per second:   9, episode reward: 12.000, mean reward:  0.017 [ 0.000,  1.000], mean action: 2.477 [0.000, 5.000],  loss: 0.007910, mae: 0.141019, mean_q: 0.176478\n",
            " 59423/100000: episode: 74, duration: 116.286s, episode steps: 1072, steps per second:   9, episode reward: 17.000, mean reward:  0.016 [ 0.000,  1.000], mean action: 2.760 [0.000, 5.000],  loss: 0.007056, mae: 0.138060, mean_q: 0.173422\n",
            " 60648/100000: episode: 75, duration: 134.751s, episode steps: 1225, steps per second:   9, episode reward: 21.000, mean reward:  0.017 [ 0.000,  1.000], mean action: 2.526 [0.000, 5.000],  loss: 0.007691, mae: 0.145036, mean_q: 0.181663\n",
            " 61631/100000: episode: 76, duration: 104.138s, episode steps: 983, steps per second:   9, episode reward: 19.000, mean reward:  0.019 [ 0.000,  1.000], mean action: 2.870 [0.000, 5.000],  loss: 0.006968, mae: 0.150163, mean_q: 0.190164\n",
            " 61993/100000: episode: 77, duration: 41.070s, episode steps: 362, steps per second:   9, episode reward:  4.000, mean reward:  0.011 [ 0.000,  1.000], mean action: 2.950 [0.000, 5.000],  loss: 0.007575, mae: 0.149837, mean_q: 0.187700\n",
            " 62697/100000: episode: 78, duration: 74.542s, episode steps: 704, steps per second:   9, episode reward: 10.000, mean reward:  0.014 [ 0.000,  1.000], mean action: 2.540 [0.000, 5.000],  loss: 0.008530, mae: 0.152571, mean_q: 0.192353\n",
            " 63418/100000: episode: 79, duration: 77.675s, episode steps: 721, steps per second:   9, episode reward: 17.000, mean reward:  0.024 [ 0.000,  1.000], mean action: 1.996 [0.000, 5.000],  loss: 0.007191, mae: 0.151093, mean_q: 0.190444\n",
            " 64096/100000: episode: 80, duration: 73.959s, episode steps: 678, steps per second:   9, episode reward:  9.000, mean reward:  0.013 [ 0.000,  1.000], mean action: 2.277 [0.000, 5.000],  loss: 0.007077, mae: 0.148697, mean_q: 0.186928\n",
            " 65155/100000: episode: 81, duration: 113.513s, episode steps: 1059, steps per second:   9, episode reward: 19.000, mean reward:  0.018 [ 0.000,  1.000], mean action: 2.890 [0.000, 5.000],  loss: 0.007299, mae: 0.150422, mean_q: 0.188249\n",
            " 66408/100000: episode: 82, duration: 136.072s, episode steps: 1253, steps per second:   9, episode reward: 24.000, mean reward:  0.019 [ 0.000,  1.000], mean action: 2.265 [0.000, 5.000],  loss: 0.007789, mae: 0.151676, mean_q: 0.189615\n",
            " 67161/100000: episode: 83, duration: 80.143s, episode steps: 753, steps per second:   9, episode reward: 13.000, mean reward:  0.017 [ 0.000,  1.000], mean action: 1.756 [0.000, 5.000],  loss: 0.006968, mae: 0.150788, mean_q: 0.190312\n",
            " 67833/100000: episode: 84, duration: 74.583s, episode steps: 672, steps per second:   9, episode reward: 13.000, mean reward:  0.019 [ 0.000,  1.000], mean action: 1.164 [0.000, 5.000],  loss: 0.008315, mae: 0.153527, mean_q: 0.193810\n",
            " 68251/100000: episode: 85, duration: 45.220s, episode steps: 418, steps per second:   9, episode reward:  6.000, mean reward:  0.014 [ 0.000,  1.000], mean action: 1.981 [0.000, 5.000],  loss: 0.007849, mae: 0.152657, mean_q: 0.191322\n",
            " 69242/100000: episode: 86, duration: 107.271s, episode steps: 991, steps per second:   9, episode reward: 20.000, mean reward:  0.020 [ 0.000,  1.000], mean action: 2.379 [0.000, 5.000],  loss: 0.007999, mae: 0.151723, mean_q: 0.189527\n",
            " 69642/100000: episode: 87, duration: 43.023s, episode steps: 400, steps per second:   9, episode reward:  5.000, mean reward:  0.013 [ 0.000,  1.000], mean action: 2.397 [0.000, 5.000],  loss: 0.006626, mae: 0.150726, mean_q: 0.188610\n"
          ]
        }
      ],
      "source": [
        "# Cargar pesos anteriores si existen\n",
        "latest_path, trained_steps = load_latest_weights(dqn, checkpoint_dir)\n",
        "if latest_path:\n",
        "    dqn.load_weights(latest_path)\n",
        "else:\n",
        "    trained_steps = 0\n",
        "\n",
        "# Definir pasos a entrenar\n",
        "steps_to_train = 100000\n",
        "total_steps = trained_steps + steps_to_train\n",
        "\n",
        "# Crear paths y callbacks dinámicos\n",
        "log_path = os.path.join(log_dir, f\"dqn_noisy_log_{trained_steps}_{total_steps}.json\")\n",
        "checkpoint_path = os.path.join(checkpoint_dir, f\"dqn_noisy_weights_{total_steps}.h5\")\n",
        "\n",
        "logger_callback = FileLogger(log_path, interval=100)\n",
        "checkpoint_callback = ModelIntervalCheckpoint(checkpoint_path, interval=10000)\n",
        "\n",
        "# Entrenar agente\n",
        "dqn.fit(env, nb_steps=steps_to_train, visualize=False, verbose=2,\n",
        "        callbacks=[checkpoint_callback, logger_callback])\n",
        "\n",
        "# Guardar pesos finales\n",
        "dqn.save_weights(checkpoint_path, overwrite=True)\n",
        "\n",
        "# Guardar la memoria de experiencia\n",
        "import pickle\n",
        "with open('memory_noisy.pkl', 'wb') as f:\n",
        "    pickle.dump(memory, f)\n",
        "\n",
        "print(f\"Entrenamiento hasta {total_steps} pasos completado y guardado.\")"
      ]
    },
    {
      "cell_type": "code",
      "execution_count": null,
      "metadata": {
        "id": "9x6-wgiTDbRz"
      },
      "outputs": [],
      "source": [
        "import time\n",
        "\n",
        "print(\"Esperando 60 segundos...\")\n",
        "time.sleep(60)\n",
        "print(\"¡Tiempo de espera terminado!\")"
      ]
    },
    {
      "cell_type": "code",
      "execution_count": null,
      "metadata": {
        "id": "4Fvp-zjUDenQ"
      },
      "outputs": [],
      "source": [
        "# Testear desde último checkpoint\n",
        "latest_path, trained_steps = load_latest_weights(dqn, checkpoint_dir)\n",
        "if latest_path:\n",
        "    dqn.test(env, nb_episodes=10, visualize=False)"
      ]
    }
  ],
  "metadata": {
    "colab": {
      "provenance": [],
      "include_colab_link": true
    },
    "kernelspec": {
      "display_name": "Python 3",
      "name": "python3"
    },
    "language_info": {
      "name": "python"
    }
  },
  "nbformat": 4,
  "nbformat_minor": 0
}