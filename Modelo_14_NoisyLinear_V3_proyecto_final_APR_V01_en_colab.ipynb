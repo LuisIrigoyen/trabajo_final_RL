{
  "cells": [
    {
      "cell_type": "markdown",
      "metadata": {
        "id": "view-in-github",
        "colab_type": "text"
      },
      "source": [
        "<a href=\"https://colab.research.google.com/github/LuisIrigoyen/trabajo_final_RL/blob/pruebas_LuisIrigoyen/Modelo_14_NoisyLinear_V3_proyecto_final_APR_V01_en_colab.ipynb\" target=\"_parent\"><img src=\"https://colab.research.google.com/assets/colab-badge.svg\" alt=\"Open In Colab\"/></a>"
      ]
    },
    {
      "cell_type": "markdown",
      "metadata": {
        "id": "D89Ue2uZNtzn"
      },
      "source": [
        "## 1.2. Localizar entorno de trabajo: Google colab o local"
      ]
    },
    {
      "cell_type": "markdown",
      "source": [
        "- Igual que 12, cambio paramétro: dqn.compile(optimizer=Adam(learning_rate=0.0001)\n",
        "- luego se modificó a dqn.compile(optimizer=Adam(learning_rate=1e-4)\n",
        "- se cambió policy = BoltzmannQPolicy() a policy = EpsGreedyQPolicy(eps=0.0)"
      ],
      "metadata": {
        "id": "piJ-XjXrzhdZ"
      }
    },
    {
      "cell_type": "code",
      "execution_count": 17,
      "metadata": {
        "id": "7EQ46sNGLj22"
      },
      "outputs": [],
      "source": [
        "# ATENCIÓN!! Modificar ruta relativa a la práctica si es distinta (drive_root)\n",
        "mount='/content/gdrive'\n",
        "drive_root = mount + \"/My Drive/MODELO 14/\"\n",
        "\n",
        "try:\n",
        "  from google.colab import drive\n",
        "  IN_COLAB=True\n",
        "except:\n",
        "  IN_COLAB=False"
      ]
    },
    {
      "cell_type": "markdown",
      "metadata": {
        "id": "6on2PNxZN51A"
      },
      "source": [
        "## 1.3. Montar carpeta de datos local (solo Colab)"
      ]
    },
    {
      "cell_type": "code",
      "execution_count": 18,
      "metadata": {
        "id": "inTxnmr0MKCH",
        "colab": {
          "base_uri": "https://localhost:8080/"
        },
        "outputId": "3be3102e-2ae2-429d-c4f0-b80fd2b287c5"
      },
      "outputs": [
        {
          "output_type": "stream",
          "name": "stdout",
          "text": [
            "We're running Colab\n",
            "Colab: mounting Google drive on  /content/gdrive\n",
            "Drive already mounted at /content/gdrive; to attempt to forcibly remount, call drive.mount(\"/content/gdrive\", force_remount=True).\n",
            "\n",
            "Colab: making sure  /content/gdrive/My Drive/MODELO 14/  exists.\n",
            "\n",
            "Colab: Changing directory to  /content/gdrive/My Drive/MODELO 14/\n",
            "/content/gdrive/My Drive/MODELO 14\n",
            "Archivos en el directorio: \n",
            "['logs', 'checkpoints']\n"
          ]
        }
      ],
      "source": [
        "# Switch to the directory on the Google Drive that you want to use\n",
        "import os\n",
        "if IN_COLAB:\n",
        "  print(\"We're running Colab\")\n",
        "\n",
        "  if IN_COLAB:\n",
        "    # Mount the Google Drive at mount\n",
        "    print(\"Colab: mounting Google drive on \", mount)\n",
        "\n",
        "    drive.mount(mount)\n",
        "\n",
        "    # Create drive_root if it doesn't exist\n",
        "    create_drive_root = True\n",
        "    if create_drive_root:\n",
        "      print(\"\\nColab: making sure \", drive_root, \" exists.\")\n",
        "      os.makedirs(drive_root, exist_ok=True)\n",
        "\n",
        "    # Change to the directory\n",
        "    print(\"\\nColab: Changing directory to \", drive_root)\n",
        "    %cd $drive_root\n",
        "# Verify we're in the correct working directory\n",
        "%pwd\n",
        "print(\"Archivos en el directorio: \")\n",
        "print(os.listdir())"
      ]
    },
    {
      "cell_type": "markdown",
      "metadata": {
        "id": "MYrJ03QWN9Hw"
      },
      "source": [
        "## 1.4. Instalar librerías necesarias"
      ]
    },
    {
      "cell_type": "code",
      "execution_count": 19,
      "metadata": {
        "colab": {
          "base_uri": "https://localhost:8080/"
        },
        "id": "zSbNMsl4MTo3",
        "outputId": "cc3206b5-6252-447c-b98c-f89ebc96f04f"
      },
      "outputs": [
        {
          "output_type": "stream",
          "name": "stdout",
          "text": [
            "Requirement already satisfied: gym==0.17.3 in /usr/local/lib/python3.11/dist-packages (0.17.3)\n",
            "Requirement already satisfied: scipy in /usr/local/lib/python3.11/dist-packages (from gym==0.17.3) (1.15.3)\n",
            "Requirement already satisfied: numpy>=1.10.4 in /usr/local/lib/python3.11/dist-packages (from gym==0.17.3) (1.23.5)\n",
            "Requirement already satisfied: pyglet<=1.5.0,>=1.4.0 in /usr/local/lib/python3.11/dist-packages (from gym==0.17.3) (1.5.0)\n",
            "Requirement already satisfied: cloudpickle<1.7.0,>=1.2.0 in /usr/local/lib/python3.11/dist-packages (from gym==0.17.3) (1.6.0)\n",
            "Requirement already satisfied: future in /usr/local/lib/python3.11/dist-packages (from pyglet<=1.5.0,>=1.4.0->gym==0.17.3) (1.0.0)\n",
            "Collecting git+https://github.com/Kojoley/atari-py.git\n",
            "  Cloning https://github.com/Kojoley/atari-py.git to /tmp/pip-req-build-1qued_n1\n",
            "  Running command git clone --filter=blob:none --quiet https://github.com/Kojoley/atari-py.git /tmp/pip-req-build-1qued_n1\n",
            "  Resolved https://github.com/Kojoley/atari-py.git to commit 86a1e05c0a95e9e6233c3a413521fdb34ca8a089\n",
            "  Preparing metadata (setup.py) ... \u001b[?25l\u001b[?25hdone\n",
            "Requirement already satisfied: numpy in /usr/local/lib/python3.11/dist-packages (from atari-py==1.2.2) (1.23.5)\n",
            "Requirement already satisfied: keras-rl2==1.0.5 in /usr/local/lib/python3.11/dist-packages (1.0.5)\n",
            "Requirement already satisfied: tensorflow in /usr/local/lib/python3.11/dist-packages (from keras-rl2==1.0.5) (2.12.0)\n",
            "Requirement already satisfied: absl-py>=1.0.0 in /usr/local/lib/python3.11/dist-packages (from tensorflow->keras-rl2==1.0.5) (1.4.0)\n",
            "Requirement already satisfied: astunparse>=1.6.0 in /usr/local/lib/python3.11/dist-packages (from tensorflow->keras-rl2==1.0.5) (1.6.3)\n",
            "Requirement already satisfied: flatbuffers>=2.0 in /usr/local/lib/python3.11/dist-packages (from tensorflow->keras-rl2==1.0.5) (25.2.10)\n",
            "Requirement already satisfied: gast<=0.4.0,>=0.2.1 in /usr/local/lib/python3.11/dist-packages (from tensorflow->keras-rl2==1.0.5) (0.4.0)\n",
            "Requirement already satisfied: google-pasta>=0.1.1 in /usr/local/lib/python3.11/dist-packages (from tensorflow->keras-rl2==1.0.5) (0.2.0)\n",
            "Requirement already satisfied: grpcio<2.0,>=1.24.3 in /usr/local/lib/python3.11/dist-packages (from tensorflow->keras-rl2==1.0.5) (1.73.1)\n",
            "Requirement already satisfied: h5py>=2.9.0 in /usr/local/lib/python3.11/dist-packages (from tensorflow->keras-rl2==1.0.5) (3.14.0)\n",
            "Requirement already satisfied: jax>=0.3.15 in /usr/local/lib/python3.11/dist-packages (from tensorflow->keras-rl2==1.0.5) (0.4.30)\n",
            "Requirement already satisfied: keras<2.13,>=2.12.0 in /usr/local/lib/python3.11/dist-packages (from tensorflow->keras-rl2==1.0.5) (2.12.0)\n",
            "Requirement already satisfied: libclang>=13.0.0 in /usr/local/lib/python3.11/dist-packages (from tensorflow->keras-rl2==1.0.5) (18.1.1)\n",
            "Requirement already satisfied: numpy<1.24,>=1.22 in /usr/local/lib/python3.11/dist-packages (from tensorflow->keras-rl2==1.0.5) (1.23.5)\n",
            "Requirement already satisfied: opt-einsum>=2.3.2 in /usr/local/lib/python3.11/dist-packages (from tensorflow->keras-rl2==1.0.5) (3.4.0)\n",
            "Requirement already satisfied: packaging in /usr/local/lib/python3.11/dist-packages (from tensorflow->keras-rl2==1.0.5) (24.2)\n",
            "Requirement already satisfied: protobuf!=4.21.0,!=4.21.1,!=4.21.2,!=4.21.3,!=4.21.4,!=4.21.5,<5.0.0dev,>=3.20.3 in /usr/local/lib/python3.11/dist-packages (from tensorflow->keras-rl2==1.0.5) (4.25.8)\n",
            "Requirement already satisfied: setuptools in /usr/local/lib/python3.11/dist-packages (from tensorflow->keras-rl2==1.0.5) (75.2.0)\n",
            "Requirement already satisfied: six>=1.12.0 in /usr/local/lib/python3.11/dist-packages (from tensorflow->keras-rl2==1.0.5) (1.17.0)\n",
            "Requirement already satisfied: tensorboard<2.13,>=2.12 in /usr/local/lib/python3.11/dist-packages (from tensorflow->keras-rl2==1.0.5) (2.12.3)\n",
            "Requirement already satisfied: tensorflow-estimator<2.13,>=2.12.0 in /usr/local/lib/python3.11/dist-packages (from tensorflow->keras-rl2==1.0.5) (2.12.0)\n",
            "Requirement already satisfied: termcolor>=1.1.0 in /usr/local/lib/python3.11/dist-packages (from tensorflow->keras-rl2==1.0.5) (3.1.0)\n",
            "Requirement already satisfied: typing-extensions>=3.6.6 in /usr/local/lib/python3.11/dist-packages (from tensorflow->keras-rl2==1.0.5) (4.14.0)\n",
            "Requirement already satisfied: wrapt<1.15,>=1.11.0 in /usr/local/lib/python3.11/dist-packages (from tensorflow->keras-rl2==1.0.5) (1.14.1)\n",
            "Requirement already satisfied: tensorflow-io-gcs-filesystem>=0.23.1 in /usr/local/lib/python3.11/dist-packages (from tensorflow->keras-rl2==1.0.5) (0.37.1)\n",
            "Requirement already satisfied: wheel<1.0,>=0.23.0 in /usr/local/lib/python3.11/dist-packages (from astunparse>=1.6.0->tensorflow->keras-rl2==1.0.5) (0.45.1)\n",
            "Requirement already satisfied: jaxlib<=0.4.30,>=0.4.27 in /usr/local/lib/python3.11/dist-packages (from jax>=0.3.15->tensorflow->keras-rl2==1.0.5) (0.4.30)\n",
            "Requirement already satisfied: ml-dtypes>=0.2.0 in /usr/local/lib/python3.11/dist-packages (from jax>=0.3.15->tensorflow->keras-rl2==1.0.5) (0.4.1)\n",
            "Requirement already satisfied: scipy>=1.9 in /usr/local/lib/python3.11/dist-packages (from jax>=0.3.15->tensorflow->keras-rl2==1.0.5) (1.15.3)\n",
            "Requirement already satisfied: google-auth<3,>=1.6.3 in /usr/local/lib/python3.11/dist-packages (from tensorboard<2.13,>=2.12->tensorflow->keras-rl2==1.0.5) (2.38.0)\n",
            "Requirement already satisfied: google-auth-oauthlib<1.1,>=0.5 in /usr/local/lib/python3.11/dist-packages (from tensorboard<2.13,>=2.12->tensorflow->keras-rl2==1.0.5) (1.0.0)\n",
            "Requirement already satisfied: markdown>=2.6.8 in /usr/local/lib/python3.11/dist-packages (from tensorboard<2.13,>=2.12->tensorflow->keras-rl2==1.0.5) (3.8.2)\n",
            "Requirement already satisfied: requests<3,>=2.21.0 in /usr/local/lib/python3.11/dist-packages (from tensorboard<2.13,>=2.12->tensorflow->keras-rl2==1.0.5) (2.32.3)\n",
            "Requirement already satisfied: tensorboard-data-server<0.8.0,>=0.7.0 in /usr/local/lib/python3.11/dist-packages (from tensorboard<2.13,>=2.12->tensorflow->keras-rl2==1.0.5) (0.7.2)\n",
            "Requirement already satisfied: werkzeug>=1.0.1 in /usr/local/lib/python3.11/dist-packages (from tensorboard<2.13,>=2.12->tensorflow->keras-rl2==1.0.5) (3.1.3)\n",
            "Requirement already satisfied: cachetools<6.0,>=2.0.0 in /usr/local/lib/python3.11/dist-packages (from google-auth<3,>=1.6.3->tensorboard<2.13,>=2.12->tensorflow->keras-rl2==1.0.5) (5.5.2)\n",
            "Requirement already satisfied: pyasn1-modules>=0.2.1 in /usr/local/lib/python3.11/dist-packages (from google-auth<3,>=1.6.3->tensorboard<2.13,>=2.12->tensorflow->keras-rl2==1.0.5) (0.4.2)\n",
            "Requirement already satisfied: rsa<5,>=3.1.4 in /usr/local/lib/python3.11/dist-packages (from google-auth<3,>=1.6.3->tensorboard<2.13,>=2.12->tensorflow->keras-rl2==1.0.5) (4.9.1)\n",
            "Requirement already satisfied: requests-oauthlib>=0.7.0 in /usr/local/lib/python3.11/dist-packages (from google-auth-oauthlib<1.1,>=0.5->tensorboard<2.13,>=2.12->tensorflow->keras-rl2==1.0.5) (2.0.0)\n",
            "Requirement already satisfied: charset-normalizer<4,>=2 in /usr/local/lib/python3.11/dist-packages (from requests<3,>=2.21.0->tensorboard<2.13,>=2.12->tensorflow->keras-rl2==1.0.5) (3.4.2)\n",
            "Requirement already satisfied: idna<4,>=2.5 in /usr/local/lib/python3.11/dist-packages (from requests<3,>=2.21.0->tensorboard<2.13,>=2.12->tensorflow->keras-rl2==1.0.5) (3.10)\n",
            "Requirement already satisfied: urllib3<3,>=1.21.1 in /usr/local/lib/python3.11/dist-packages (from requests<3,>=2.21.0->tensorboard<2.13,>=2.12->tensorflow->keras-rl2==1.0.5) (2.4.0)\n",
            "Requirement already satisfied: certifi>=2017.4.17 in /usr/local/lib/python3.11/dist-packages (from requests<3,>=2.21.0->tensorboard<2.13,>=2.12->tensorflow->keras-rl2==1.0.5) (2025.6.15)\n",
            "Requirement already satisfied: MarkupSafe>=2.1.1 in /usr/local/lib/python3.11/dist-packages (from werkzeug>=1.0.1->tensorboard<2.13,>=2.12->tensorflow->keras-rl2==1.0.5) (3.0.2)\n",
            "Requirement already satisfied: pyasn1<0.7.0,>=0.6.1 in /usr/local/lib/python3.11/dist-packages (from pyasn1-modules>=0.2.1->google-auth<3,>=1.6.3->tensorboard<2.13,>=2.12->tensorflow->keras-rl2==1.0.5) (0.6.1)\n",
            "Requirement already satisfied: oauthlib>=3.0.0 in /usr/local/lib/python3.11/dist-packages (from requests-oauthlib>=0.7.0->google-auth-oauthlib<1.1,>=0.5->tensorboard<2.13,>=2.12->tensorflow->keras-rl2==1.0.5) (3.3.1)\n",
            "Requirement already satisfied: tensorflow==2.12 in /usr/local/lib/python3.11/dist-packages (2.12.0)\n",
            "Requirement already satisfied: absl-py>=1.0.0 in /usr/local/lib/python3.11/dist-packages (from tensorflow==2.12) (1.4.0)\n",
            "Requirement already satisfied: astunparse>=1.6.0 in /usr/local/lib/python3.11/dist-packages (from tensorflow==2.12) (1.6.3)\n",
            "Requirement already satisfied: flatbuffers>=2.0 in /usr/local/lib/python3.11/dist-packages (from tensorflow==2.12) (25.2.10)\n",
            "Requirement already satisfied: gast<=0.4.0,>=0.2.1 in /usr/local/lib/python3.11/dist-packages (from tensorflow==2.12) (0.4.0)\n",
            "Requirement already satisfied: google-pasta>=0.1.1 in /usr/local/lib/python3.11/dist-packages (from tensorflow==2.12) (0.2.0)\n",
            "Requirement already satisfied: grpcio<2.0,>=1.24.3 in /usr/local/lib/python3.11/dist-packages (from tensorflow==2.12) (1.73.1)\n",
            "Requirement already satisfied: h5py>=2.9.0 in /usr/local/lib/python3.11/dist-packages (from tensorflow==2.12) (3.14.0)\n",
            "Requirement already satisfied: jax>=0.3.15 in /usr/local/lib/python3.11/dist-packages (from tensorflow==2.12) (0.4.30)\n",
            "Requirement already satisfied: keras<2.13,>=2.12.0 in /usr/local/lib/python3.11/dist-packages (from tensorflow==2.12) (2.12.0)\n",
            "Requirement already satisfied: libclang>=13.0.0 in /usr/local/lib/python3.11/dist-packages (from tensorflow==2.12) (18.1.1)\n",
            "Requirement already satisfied: numpy<1.24,>=1.22 in /usr/local/lib/python3.11/dist-packages (from tensorflow==2.12) (1.23.5)\n",
            "Requirement already satisfied: opt-einsum>=2.3.2 in /usr/local/lib/python3.11/dist-packages (from tensorflow==2.12) (3.4.0)\n",
            "Requirement already satisfied: packaging in /usr/local/lib/python3.11/dist-packages (from tensorflow==2.12) (24.2)\n",
            "Requirement already satisfied: protobuf!=4.21.0,!=4.21.1,!=4.21.2,!=4.21.3,!=4.21.4,!=4.21.5,<5.0.0dev,>=3.20.3 in /usr/local/lib/python3.11/dist-packages (from tensorflow==2.12) (4.25.8)\n",
            "Requirement already satisfied: setuptools in /usr/local/lib/python3.11/dist-packages (from tensorflow==2.12) (75.2.0)\n",
            "Requirement already satisfied: six>=1.12.0 in /usr/local/lib/python3.11/dist-packages (from tensorflow==2.12) (1.17.0)\n",
            "Requirement already satisfied: tensorboard<2.13,>=2.12 in /usr/local/lib/python3.11/dist-packages (from tensorflow==2.12) (2.12.3)\n",
            "Requirement already satisfied: tensorflow-estimator<2.13,>=2.12.0 in /usr/local/lib/python3.11/dist-packages (from tensorflow==2.12) (2.12.0)\n",
            "Requirement already satisfied: termcolor>=1.1.0 in /usr/local/lib/python3.11/dist-packages (from tensorflow==2.12) (3.1.0)\n",
            "Requirement already satisfied: typing-extensions>=3.6.6 in /usr/local/lib/python3.11/dist-packages (from tensorflow==2.12) (4.14.0)\n",
            "Requirement already satisfied: wrapt<1.15,>=1.11.0 in /usr/local/lib/python3.11/dist-packages (from tensorflow==2.12) (1.14.1)\n",
            "Requirement already satisfied: tensorflow-io-gcs-filesystem>=0.23.1 in /usr/local/lib/python3.11/dist-packages (from tensorflow==2.12) (0.37.1)\n",
            "Requirement already satisfied: wheel<1.0,>=0.23.0 in /usr/local/lib/python3.11/dist-packages (from astunparse>=1.6.0->tensorflow==2.12) (0.45.1)\n",
            "Requirement already satisfied: jaxlib<=0.4.30,>=0.4.27 in /usr/local/lib/python3.11/dist-packages (from jax>=0.3.15->tensorflow==2.12) (0.4.30)\n",
            "Requirement already satisfied: ml-dtypes>=0.2.0 in /usr/local/lib/python3.11/dist-packages (from jax>=0.3.15->tensorflow==2.12) (0.4.1)\n",
            "Requirement already satisfied: scipy>=1.9 in /usr/local/lib/python3.11/dist-packages (from jax>=0.3.15->tensorflow==2.12) (1.15.3)\n",
            "Requirement already satisfied: google-auth<3,>=1.6.3 in /usr/local/lib/python3.11/dist-packages (from tensorboard<2.13,>=2.12->tensorflow==2.12) (2.38.0)\n",
            "Requirement already satisfied: google-auth-oauthlib<1.1,>=0.5 in /usr/local/lib/python3.11/dist-packages (from tensorboard<2.13,>=2.12->tensorflow==2.12) (1.0.0)\n",
            "Requirement already satisfied: markdown>=2.6.8 in /usr/local/lib/python3.11/dist-packages (from tensorboard<2.13,>=2.12->tensorflow==2.12) (3.8.2)\n",
            "Requirement already satisfied: requests<3,>=2.21.0 in /usr/local/lib/python3.11/dist-packages (from tensorboard<2.13,>=2.12->tensorflow==2.12) (2.32.3)\n",
            "Requirement already satisfied: tensorboard-data-server<0.8.0,>=0.7.0 in /usr/local/lib/python3.11/dist-packages (from tensorboard<2.13,>=2.12->tensorflow==2.12) (0.7.2)\n",
            "Requirement already satisfied: werkzeug>=1.0.1 in /usr/local/lib/python3.11/dist-packages (from tensorboard<2.13,>=2.12->tensorflow==2.12) (3.1.3)\n",
            "Requirement already satisfied: cachetools<6.0,>=2.0.0 in /usr/local/lib/python3.11/dist-packages (from google-auth<3,>=1.6.3->tensorboard<2.13,>=2.12->tensorflow==2.12) (5.5.2)\n",
            "Requirement already satisfied: pyasn1-modules>=0.2.1 in /usr/local/lib/python3.11/dist-packages (from google-auth<3,>=1.6.3->tensorboard<2.13,>=2.12->tensorflow==2.12) (0.4.2)\n",
            "Requirement already satisfied: rsa<5,>=3.1.4 in /usr/local/lib/python3.11/dist-packages (from google-auth<3,>=1.6.3->tensorboard<2.13,>=2.12->tensorflow==2.12) (4.9.1)\n",
            "Requirement already satisfied: requests-oauthlib>=0.7.0 in /usr/local/lib/python3.11/dist-packages (from google-auth-oauthlib<1.1,>=0.5->tensorboard<2.13,>=2.12->tensorflow==2.12) (2.0.0)\n",
            "Requirement already satisfied: charset-normalizer<4,>=2 in /usr/local/lib/python3.11/dist-packages (from requests<3,>=2.21.0->tensorboard<2.13,>=2.12->tensorflow==2.12) (3.4.2)\n",
            "Requirement already satisfied: idna<4,>=2.5 in /usr/local/lib/python3.11/dist-packages (from requests<3,>=2.21.0->tensorboard<2.13,>=2.12->tensorflow==2.12) (3.10)\n",
            "Requirement already satisfied: urllib3<3,>=1.21.1 in /usr/local/lib/python3.11/dist-packages (from requests<3,>=2.21.0->tensorboard<2.13,>=2.12->tensorflow==2.12) (2.4.0)\n",
            "Requirement already satisfied: certifi>=2017.4.17 in /usr/local/lib/python3.11/dist-packages (from requests<3,>=2.21.0->tensorboard<2.13,>=2.12->tensorflow==2.12) (2025.6.15)\n",
            "Requirement already satisfied: MarkupSafe>=2.1.1 in /usr/local/lib/python3.11/dist-packages (from werkzeug>=1.0.1->tensorboard<2.13,>=2.12->tensorflow==2.12) (3.0.2)\n",
            "Requirement already satisfied: pyasn1<0.7.0,>=0.6.1 in /usr/local/lib/python3.11/dist-packages (from pyasn1-modules>=0.2.1->google-auth<3,>=1.6.3->tensorboard<2.13,>=2.12->tensorflow==2.12) (0.6.1)\n",
            "Requirement already satisfied: oauthlib>=3.0.0 in /usr/local/lib/python3.11/dist-packages (from requests-oauthlib>=0.7.0->google-auth-oauthlib<1.1,>=0.5->tensorboard<2.13,>=2.12->tensorflow==2.12) (3.3.1)\n"
          ]
        }
      ],
      "source": [
        "if IN_COLAB:\n",
        "  %pip install gym==0.17.3\n",
        "  %pip install git+https://github.com/Kojoley/atari-py.git\n",
        "  %pip install keras-rl2==1.0.5\n",
        "  %pip install tensorflow==2.12  #2.8\n",
        "else:\n",
        "  %pip install gym==0.17.3\n",
        "  %pip install git+https://github.com/Kojoley/atari-py.git\n",
        "  %pip install pyglet==1.5.0\n",
        "  %pip install h5py==3.1.0\n",
        "  %pip install Pillow==9.5.0\n",
        "  %pip install keras-rl2==1.0.5\n",
        "  %pip install Keras==2.2.4\n",
        "  %pip install tensorflow==2.5.3\n",
        "  %pip install torch==2.0.1\n",
        "  %pip install agents==1.4.0"
      ]
    },
    {
      "cell_type": "markdown",
      "metadata": {
        "id": "mS60Dk-KO5e3"
      },
      "source": [
        "## **PARTE 3**. Desarrollo y preguntas\n",
        "Importar librerías"
      ]
    },
    {
      "cell_type": "code",
      "execution_count": 20,
      "metadata": {
        "id": "RX-2z9T1NPp_"
      },
      "outputs": [],
      "source": [
        "from __future__ import division\n",
        "\n",
        "from PIL import Image\n",
        "import numpy as np\n",
        "import gym\n",
        "\n",
        "from tensorflow.keras.models import Sequential\n",
        "from tensorflow.keras.layers import Dense, Activation, Flatten, Convolution2D, Permute\n",
        "#from tensorflow.keras.optimizers import Adam\n",
        "import tensorflow.keras.backend as K\n",
        "\n",
        "from rl.agents.dqn import DQNAgent\n",
        "from rl.policy import LinearAnnealedPolicy, BoltzmannQPolicy, EpsGreedyQPolicy\n",
        "from rl.memory import SequentialMemory\n",
        "from rl.core import Processor\n",
        "from rl.callbacks import FileLogger, ModelIntervalCheckpoint"
      ]
    },
    {
      "cell_type": "markdown",
      "metadata": {
        "id": "NqJbsVR7POZA"
      },
      "source": [
        "#### Configuración base"
      ]
    },
    {
      "cell_type": "code",
      "execution_count": 21,
      "metadata": {
        "colab": {
          "base_uri": "https://localhost:8080/"
        },
        "id": "0FlafEtvOKR4",
        "outputId": "9d703861-2e9c-4456-c89e-46e546d3c167"
      },
      "outputs": [
        {
          "output_type": "stream",
          "name": "stdout",
          "text": [
            "210 160 3\n",
            "Forma de la observación: (210, 160, 3)\n"
          ]
        },
        {
          "output_type": "execute_result",
          "data": {
            "text/plain": [
              "['NOOP', 'FIRE', 'RIGHT', 'LEFT', 'RIGHTFIRE', 'LEFTFIRE']"
            ]
          },
          "metadata": {},
          "execution_count": 21
        }
      ],
      "source": [
        "INPUT_SHAPE = (84, 84)\n",
        "WINDOW_LENGTH = 4\n",
        "\n",
        "env_name = 'SpaceInvaders-v0'\n",
        "env = gym.make(env_name)\n",
        "\n",
        "np.random.seed(123)\n",
        "env.seed(123)\n",
        "nb_actions = env.action_space.n\n",
        "\n",
        "#--- nuevo -- ejfm\n",
        "height, width, channels = env.observation_space.shape\n",
        "obs = env.reset()\n",
        "print(height, width, channels)\n",
        "print(\"Forma de la observación:\", obs.shape)  # Debe ser (height, width, channels)\n",
        "env.unwrapped.get_action_meanings()"
      ]
    },
    {
      "cell_type": "code",
      "execution_count": 22,
      "metadata": {
        "id": "YSGPGszsOOAw"
      },
      "outputs": [],
      "source": [
        "class AtariProcessor(Processor):\n",
        "    def process_observation(self, observation):\n",
        "        assert observation.ndim == 3  # (height, width, channel)\n",
        "        img = Image.fromarray(observation)\n",
        "        img = img.resize(INPUT_SHAPE).convert('L')\n",
        "        processed_observation = np.array(img)\n",
        "        assert processed_observation.shape == INPUT_SHAPE\n",
        "        return processed_observation.astype('uint8')\n",
        "\n",
        "    def process_state_batch(self, batch):\n",
        "        # Convertir a float y escalar\n",
        "        # Linea Agregada\n",
        "        if isinstance(batch, list):\n",
        "          batch = np.array(batch)\n",
        "\n",
        "        batch = batch.astype('float32') / 255.\n",
        "\n",
        "        # 👇 Elimina el canal innecesario si existe (forma (B, 4, 84, 84, 1))\n",
        "        if batch.ndim == 5 and batch.shape[-1] == 1:\n",
        "            batch = np.squeeze(batch, axis=-1)\n",
        "\n",
        "        return batch\n",
        "\n",
        "    def process_reward(self, reward):\n",
        "        return np.clip(reward, -1., 1.)\n"
      ]
    },
    {
      "cell_type": "markdown",
      "metadata": {
        "id": "Sg54U9vFZEBQ"
      },
      "source": [
        "## 1. EJFM Implementación de la red neuronal"
      ]
    },
    {
      "cell_type": "code",
      "execution_count": 23,
      "metadata": {
        "id": "aiE1_aXXmQM7"
      },
      "outputs": [],
      "source": [
        "import tensorflow as tf\n",
        "\n",
        "class NoisyDense(tf.keras.layers.Layer):\n",
        "    def __init__(self, units, sigma_init=0.017, **kwargs):\n",
        "        super(NoisyDense, self).__init__(**kwargs)\n",
        "        self.units = units\n",
        "        self.sigma_init = sigma_init\n",
        "\n",
        "    def build(self, input_shape):\n",
        "        input_dim = int(input_shape[-1])\n",
        "        self.mu_W = self.add_weight(\"mu_W\", shape=(input_dim, self.units),\n",
        "                                    initializer='random_uniform', trainable=True)\n",
        "        self.sigma_W = self.add_weight(\"sigma_W\", shape=(input_dim, self.units),\n",
        "                                       initializer=tf.keras.initializers.Constant(self.sigma_init), trainable=True)\n",
        "        self.mu_b = self.add_weight(\"mu_b\", shape=(self.units,),\n",
        "                                    initializer='zeros', trainable=True)\n",
        "        self.sigma_b = self.add_weight(\"sigma_b\", shape=(self.units,),\n",
        "                                       initializer=tf.keras.initializers.Constant(self.sigma_init), trainable=True)\n",
        "\n",
        "    def call(self, x):\n",
        "        epsilon_W = tf.random.normal((x.shape[-1], self.units))\n",
        "        epsilon_b = tf.random.normal((self.units,))\n",
        "        W = self.mu_W + self.sigma_W * epsilon_W\n",
        "        b = self.mu_b + self.sigma_b * epsilon_b\n",
        "        return tf.matmul(x, W) + b\n",
        "\n",
        "    def get_config(self):\n",
        "        config = super(NoisyDense, self).get_config()\n",
        "        config.update({\n",
        "            \"units\": self.units,\n",
        "            \"sigma_init\": self.sigma_init\n",
        "        })\n",
        "        return config\n"
      ]
    },
    {
      "cell_type": "code",
      "execution_count": 24,
      "metadata": {
        "colab": {
          "base_uri": "https://localhost:8080/"
        },
        "id": "pygz71TLmV2t",
        "outputId": "55f1aff8-c797-4ee2-f311-ad783875ca45"
      },
      "outputs": [
        {
          "output_type": "stream",
          "name": "stdout",
          "text": [
            "Model: \"model_3\"\n",
            "_________________________________________________________________\n",
            " Layer (type)                Output Shape              Param #   \n",
            "=================================================================\n",
            " input_2 (InputLayer)        [(None, 4, 84, 84)]       0         \n",
            "                                                                 \n",
            " permute_1 (Permute)         (None, 84, 84, 4)         0         \n",
            "                                                                 \n",
            " conv2d_3 (Conv2D)           (None, 20, 20, 32)        8224      \n",
            "                                                                 \n",
            " conv2d_4 (Conv2D)           (None, 9, 9, 64)          32832     \n",
            "                                                                 \n",
            " conv2d_5 (Conv2D)           (None, 7, 7, 64)          36928     \n",
            "                                                                 \n",
            " flatten_1 (Flatten)         (None, 3136)              0         \n",
            "                                                                 \n",
            " noisy_dense_2 (NoisyDense)  (None, 512)               3212288   \n",
            "                                                                 \n",
            " activation_1 (Activation)   (None, 512)               0         \n",
            "                                                                 \n",
            " noisy_dense_3 (NoisyDense)  (None, 6)                 6156      \n",
            "                                                                 \n",
            "=================================================================\n",
            "Total params: 3,296,428\n",
            "Trainable params: 3,296,428\n",
            "Non-trainable params: 0\n",
            "_________________________________________________________________\n"
          ]
        }
      ],
      "source": [
        "from tensorflow.keras.models import Model\n",
        "from tensorflow.keras.layers import Input, Permute, Convolution2D, Flatten, Activation\n",
        "\n",
        "input_layer = Input(shape=(WINDOW_LENGTH,) + INPUT_SHAPE)\n",
        "perm = Permute((2, 3, 1))(input_layer)  # Canal al final\n",
        "conv1 = Convolution2D(32, (8, 8), strides=(4, 4), activation='relu')(perm)\n",
        "conv2 = Convolution2D(64, (4, 4), strides=(2, 2), activation='relu')(conv1)\n",
        "conv3 = Convolution2D(64, (3, 3), strides=(1, 1), activation='relu')(conv2)\n",
        "flat = Flatten()(conv3)\n",
        "\n",
        "noisy1 = NoisyDense(512)(flat)\n",
        "noisy1 = Activation('relu')(noisy1)\n",
        "output_layer = NoisyDense(nb_actions)(noisy1)\n",
        "\n",
        "model = Model(inputs=input_layer, outputs=output_layer)\n",
        "model.summary()\n"
      ]
    },
    {
      "cell_type": "code",
      "execution_count": 25,
      "metadata": {
        "id": "_H6vbJsFsnKi"
      },
      "outputs": [],
      "source": [
        "# Registrar la capa personalizada (una sola vez en todo el código)\n",
        "from tensorflow.keras.utils import get_custom_objects\n",
        "get_custom_objects().update({'NoisyDense': NoisyDense})"
      ]
    },
    {
      "cell_type": "markdown",
      "metadata": {
        "id": "KwJoe_1sZOX4"
      },
      "source": [
        "## 2. EJFM Implementación de la solución DQN"
      ]
    },
    {
      "cell_type": "markdown",
      "metadata": {
        "id": "mANAV3rVJXt7"
      },
      "source": [
        "### Ejecución Inicial\n",
        "\n"
      ]
    },
    {
      "cell_type": "code",
      "execution_count": 26,
      "metadata": {
        "id": "KU6UKvVYXESO",
        "colab": {
          "base_uri": "https://localhost:8080/"
        },
        "outputId": "4355db68-acb2-4b37-dff8-1c9a0358317d"
      },
      "outputs": [
        {
          "output_type": "stream",
          "name": "stdout",
          "text": [
            "Creando nueva memoria...\n"
          ]
        }
      ],
      "source": [
        "####### Solución DQN #######\n",
        "\n",
        "import os\n",
        "import pickle\n",
        "\n",
        "# INTENTAR CARGAR LA MEMORIA\n",
        "memory_file = 'memory_noisy.pkl'\n",
        "if os.path.exists(memory_file):\n",
        "    print(\"Cargando memoria desde archivo...\")\n",
        "    with open(memory_file, 'rb') as f:\n",
        "        memory = pickle.load(f)\n",
        "else:\n",
        "    print(\"Creando nueva memoria...\")\n",
        "    memory = SequentialMemory(limit=1000000, window_length=4)\n",
        "\n",
        "# Crear política como de costumbre\n",
        "#policy = BoltzmannQPolicy()\n",
        "policy = EpsGreedyQPolicy(eps=0.0)\n",
        "\n",
        "# Crear agente\n",
        "dqn = DQNAgent(model=model, nb_actions=nb_actions, policy=policy, memory=memory,\n",
        "               processor=AtariProcessor(), nb_steps_warmup=50000, gamma=0.99,\n",
        "               target_model_update=10000, train_interval=4, delta_clip=5)\n",
        "\n",
        "# Compilar agente\n",
        "#dqn.compile(optimizer='adam', metrics=['mae'])\n",
        "#dqn.compile(optimizer=Adam(learning_rate=0.0001), metrics=['mae'])\n",
        "\n",
        "from tensorflow.keras.optimizers.legacy import Adam     # ← incluye get_updates\n",
        "# Compilar agente\n",
        "dqn.compile(optimizer=Adam(learning_rate=1e-4), metrics=['mae'])"
      ]
    },
    {
      "cell_type": "code",
      "execution_count": 27,
      "metadata": {
        "id": "SEmhFU4mYzh-"
      },
      "outputs": [],
      "source": [
        "####### Crear directorios  logs y checkpoints #######\n",
        "\n",
        "import os\n",
        "log_dir = os.path.join(drive_root, \"logs\")\n",
        "checkpoint_dir = os.path.join(drive_root, \"checkpoints\")\n",
        "os.makedirs(log_dir, exist_ok=True)\n",
        "os.makedirs(checkpoint_dir, exist_ok=True)\n",
        "\n",
        "# Función para restaurar pesos más adelante\n",
        "import re\n",
        "\n",
        "def load_latest_weights(agent, checkpoint_dir, prefix=\"dqn_noisy_weights_\"):\n",
        "    \"\"\"\n",
        "    Busca el checkpoint más reciente, carga los pesos y retorna info útil.\n",
        "\n",
        "    Parámetros:\n",
        "        agent: el agente DQN ya creado y compilado.\n",
        "        checkpoint_dir: carpeta con los archivos de pesos.\n",
        "        prefix: prefijo de los archivos de pesos.\n",
        "\n",
        "    Retorna:\n",
        "        (ruta_archivo, pasos_entrenados) o (None, 0) si no se encuentra nada.\n",
        "    \"\"\"\n",
        "    files = [f for f in os.listdir(checkpoint_dir) if f.endswith(\".h5\")]\n",
        "    pattern = re.compile(rf\"{re.escape(prefix)}(\\d+)\\.h5\")\n",
        "\n",
        "    candidates = []\n",
        "    for f in files:\n",
        "        match = pattern.match(f)\n",
        "        if match:\n",
        "            step = int(match.group(1))\n",
        "            candidates.append((step, f))\n",
        "\n",
        "    if not candidates:\n",
        "        print(\"⚠️ No se encontraron checkpoints en:\", checkpoint_dir)\n",
        "        return None, 0\n",
        "\n",
        "    # Escoger el de mayor número de pasos\n",
        "    latest_step, latest_file = max(candidates, key=lambda x: x[0])\n",
        "    latest_path = os.path.join(checkpoint_dir, latest_file)\n",
        "\n",
        "    print(f\"✅ Cargando pesos desde: {latest_path} (pasos entrenados: {latest_step})\")\n",
        "    agent.load_weights(latest_path)\n",
        "    return latest_path, latest_step\n"
      ]
    },
    {
      "cell_type": "code",
      "execution_count": 28,
      "metadata": {
        "colab": {
          "base_uri": "https://localhost:8080/"
        },
        "id": "n4rsQm4_zc5J",
        "outputId": "f205f726-9a5f-4274-dc53-ec3683111a3c"
      },
      "outputs": [
        {
          "output_type": "stream",
          "name": "stdout",
          "text": [
            "✅ Cargando pesos desde: /content/gdrive/My Drive/MODELO 14/checkpoints/dqn_noisy_weights_100000.h5 (pasos entrenados: 100000)\n"
          ]
        }
      ],
      "source": [
        "# Cargar pesos anteriores si existen\n",
        "_, trained_steps = load_latest_weights(dqn, checkpoint_dir)\n",
        "\n",
        "# Definir pasos a entrenar\n",
        "steps_to_train = 100000\n",
        "total_steps = trained_steps + steps_to_train\n",
        "\n",
        "# Crear paths y callbacks dinámicos\n",
        "log_path = os.path.join(log_dir, f\"dqn_noisy_log_{trained_steps}_{total_steps}.json\")\n",
        "checkpoint_path = os.path.join(checkpoint_dir, f\"dqn_noisy_weights_{total_steps}.h5\")\n",
        "\n",
        "logger_callback = FileLogger(log_path, interval=100)\n",
        "checkpoint_callback = ModelIntervalCheckpoint(checkpoint_path, interval=10000)"
      ]
    },
    {
      "cell_type": "markdown",
      "metadata": {
        "id": "Qj8CoQ2mhISX"
      },
      "source": [
        "### Primera **Ejecución**"
      ]
    },
    {
      "cell_type": "code",
      "execution_count": 29,
      "metadata": {
        "colab": {
          "base_uri": "https://localhost:8080/"
        },
        "id": "LLbFoBPFXGcV",
        "outputId": "0430d720-7454-4926-92b9-2645cec87f24"
      },
      "outputs": [
        {
          "output_type": "stream",
          "name": "stdout",
          "text": [
            "✅ Cargando pesos desde: /content/gdrive/My Drive/MODELO 14/checkpoints/dqn_noisy_weights_100000.h5 (pasos entrenados: 100000)\n",
            "Training for 100000 steps ...\n",
            "   653/100000: episode: 1, duration: 40.229s, episode steps: 653, steps per second:  16, episode reward: 13.000, mean reward:  0.020 [ 0.000,  1.000], mean action: 2.591 [0.000, 5.000],  loss: --, mae: --, mean_q: --\n",
            "  1372/100000: episode: 2, duration: 29.192s, episode steps: 719, steps per second:  25, episode reward: 15.000, mean reward:  0.021 [ 0.000,  1.000], mean action: 2.595 [0.000, 5.000],  loss: --, mae: --, mean_q: --\n",
            "  2208/100000: episode: 3, duration: 31.083s, episode steps: 836, steps per second:  27, episode reward: 18.000, mean reward:  0.022 [ 0.000,  1.000], mean action: 2.611 [0.000, 5.000],  loss: --, mae: --, mean_q: --\n",
            "  2730/100000: episode: 4, duration: 19.369s, episode steps: 522, steps per second:  27, episode reward:  8.000, mean reward:  0.015 [ 0.000,  1.000], mean action: 2.701 [0.000, 5.000],  loss: --, mae: --, mean_q: --\n",
            "  3542/100000: episode: 5, duration: 30.344s, episode steps: 812, steps per second:  27, episode reward: 23.000, mean reward:  0.028 [ 0.000,  1.000], mean action: 2.563 [0.000, 5.000],  loss: --, mae: --, mean_q: --\n",
            "  4182/100000: episode: 6, duration: 25.251s, episode steps: 640, steps per second:  25, episode reward: 10.000, mean reward:  0.016 [ 0.000,  1.000], mean action: 2.580 [0.000, 5.000],  loss: --, mae: --, mean_q: --\n",
            "  5008/100000: episode: 7, duration: 30.693s, episode steps: 826, steps per second:  27, episode reward: 18.000, mean reward:  0.022 [ 0.000,  1.000], mean action: 2.611 [0.000, 5.000],  loss: --, mae: --, mean_q: --\n",
            "  5616/100000: episode: 8, duration: 25.393s, episode steps: 608, steps per second:  24, episode reward: 11.000, mean reward:  0.018 [ 0.000,  1.000], mean action: 2.633 [0.000, 5.000],  loss: --, mae: --, mean_q: --\n",
            "  6267/100000: episode: 9, duration: 24.960s, episode steps: 651, steps per second:  26, episode reward:  9.000, mean reward:  0.014 [ 0.000,  1.000], mean action: 2.720 [0.000, 5.000],  loss: --, mae: --, mean_q: --\n",
            "  6868/100000: episode: 10, duration: 21.629s, episode steps: 601, steps per second:  28, episode reward:  9.000, mean reward:  0.015 [ 0.000,  1.000], mean action: 2.566 [0.000, 5.000],  loss: --, mae: --, mean_q: --\n",
            "  7259/100000: episode: 11, duration: 14.692s, episode steps: 391, steps per second:  27, episode reward:  4.000, mean reward:  0.010 [ 0.000,  1.000], mean action: 2.627 [0.000, 5.000],  loss: --, mae: --, mean_q: --\n",
            "  7872/100000: episode: 12, duration: 23.737s, episode steps: 613, steps per second:  26, episode reward:  9.000, mean reward:  0.015 [ 0.000,  1.000], mean action: 2.605 [0.000, 5.000],  loss: --, mae: --, mean_q: --\n",
            "  8619/100000: episode: 13, duration: 28.152s, episode steps: 747, steps per second:  27, episode reward: 13.000, mean reward:  0.017 [ 0.000,  1.000], mean action: 2.426 [0.000, 5.000],  loss: --, mae: --, mean_q: --\n",
            "  9713/100000: episode: 14, duration: 43.232s, episode steps: 1094, steps per second:  25, episode reward: 13.000, mean reward:  0.012 [ 0.000,  1.000], mean action: 2.538 [0.000, 5.000],  loss: --, mae: --, mean_q: --\n",
            " 10349/100000: episode: 15, duration: 24.811s, episode steps: 636, steps per second:  26, episode reward: 16.000, mean reward:  0.025 [ 0.000,  1.000], mean action: 2.522 [0.000, 5.000],  loss: --, mae: --, mean_q: --\n",
            " 11029/100000: episode: 16, duration: 24.793s, episode steps: 680, steps per second:  27, episode reward: 14.000, mean reward:  0.021 [ 0.000,  1.000], mean action: 2.612 [0.000, 5.000],  loss: --, mae: --, mean_q: --\n",
            " 11352/100000: episode: 17, duration: 11.889s, episode steps: 323, steps per second:  27, episode reward:  3.000, mean reward:  0.009 [ 0.000,  1.000], mean action: 2.480 [0.000, 5.000],  loss: --, mae: --, mean_q: --\n",
            " 12220/100000: episode: 18, duration: 33.883s, episode steps: 868, steps per second:  26, episode reward: 21.000, mean reward:  0.024 [ 0.000,  1.000], mean action: 2.649 [0.000, 5.000],  loss: --, mae: --, mean_q: --\n",
            " 12650/100000: episode: 19, duration: 15.931s, episode steps: 430, steps per second:  27, episode reward:  8.000, mean reward:  0.019 [ 0.000,  1.000], mean action: 2.651 [0.000, 5.000],  loss: --, mae: --, mean_q: --\n",
            " 13177/100000: episode: 20, duration: 19.143s, episode steps: 527, steps per second:  28, episode reward: 13.000, mean reward:  0.025 [ 0.000,  1.000], mean action: 2.558 [0.000, 5.000],  loss: --, mae: --, mean_q: --\n",
            " 13743/100000: episode: 21, duration: 23.933s, episode steps: 566, steps per second:  24, episode reward: 12.000, mean reward:  0.021 [ 0.000,  1.000], mean action: 2.576 [0.000, 5.000],  loss: --, mae: --, mean_q: --\n",
            " 14391/100000: episode: 22, duration: 24.117s, episode steps: 648, steps per second:  27, episode reward: 12.000, mean reward:  0.019 [ 0.000,  1.000], mean action: 2.701 [0.000, 5.000],  loss: --, mae: --, mean_q: --\n",
            " 15019/100000: episode: 23, duration: 23.240s, episode steps: 628, steps per second:  27, episode reward: 11.000, mean reward:  0.018 [ 0.000,  1.000], mean action: 2.689 [0.000, 5.000],  loss: --, mae: --, mean_q: --\n",
            " 15587/100000: episode: 24, duration: 22.242s, episode steps: 568, steps per second:  26, episode reward: 17.000, mean reward:  0.030 [ 0.000,  1.000], mean action: 2.755 [0.000, 5.000],  loss: --, mae: --, mean_q: --\n",
            " 16659/100000: episode: 25, duration: 40.200s, episode steps: 1072, steps per second:  27, episode reward: 14.000, mean reward:  0.013 [ 0.000,  1.000], mean action: 2.505 [0.000, 5.000],  loss: --, mae: --, mean_q: --\n",
            " 17302/100000: episode: 26, duration: 23.364s, episode steps: 643, steps per second:  28, episode reward: 10.000, mean reward:  0.016 [ 0.000,  1.000], mean action: 2.575 [0.000, 5.000],  loss: --, mae: --, mean_q: --\n",
            " 18012/100000: episode: 27, duration: 28.773s, episode steps: 710, steps per second:  25, episode reward: 20.000, mean reward:  0.028 [ 0.000,  1.000], mean action: 2.545 [0.000, 5.000],  loss: --, mae: --, mean_q: --\n",
            " 18713/100000: episode: 28, duration: 26.672s, episode steps: 701, steps per second:  26, episode reward: 18.000, mean reward:  0.026 [ 0.000,  1.000], mean action: 2.598 [0.000, 5.000],  loss: --, mae: --, mean_q: --\n",
            " 19217/100000: episode: 29, duration: 18.952s, episode steps: 504, steps per second:  27, episode reward: 10.000, mean reward:  0.020 [ 0.000,  1.000], mean action: 2.569 [0.000, 5.000],  loss: --, mae: --, mean_q: --\n",
            " 19609/100000: episode: 30, duration: 15.054s, episode steps: 392, steps per second:  26, episode reward:  2.000, mean reward:  0.005 [ 0.000,  1.000], mean action: 2.722 [0.000, 5.000],  loss: --, mae: --, mean_q: --\n",
            " 20725/100000: episode: 31, duration: 42.631s, episode steps: 1116, steps per second:  26, episode reward: 12.000, mean reward:  0.011 [ 0.000,  1.000], mean action: 2.542 [0.000, 5.000],  loss: --, mae: --, mean_q: --\n",
            " 21270/100000: episode: 32, duration: 20.386s, episode steps: 545, steps per second:  27, episode reward: 11.000, mean reward:  0.020 [ 0.000,  1.000], mean action: 2.717 [0.000, 5.000],  loss: --, mae: --, mean_q: --\n",
            " 22233/100000: episode: 33, duration: 37.371s, episode steps: 963, steps per second:  26, episode reward: 22.000, mean reward:  0.023 [ 0.000,  1.000], mean action: 2.618 [0.000, 5.000],  loss: --, mae: --, mean_q: --\n",
            " 22564/100000: episode: 34, duration: 12.335s, episode steps: 331, steps per second:  27, episode reward:  2.000, mean reward:  0.006 [ 0.000,  1.000], mean action: 2.559 [0.000, 5.000],  loss: --, mae: --, mean_q: --\n",
            " 23053/100000: episode: 35, duration: 19.676s, episode steps: 489, steps per second:  25, episode reward:  9.000, mean reward:  0.018 [ 0.000,  1.000], mean action: 2.722 [0.000, 5.000],  loss: --, mae: --, mean_q: --\n",
            " 23993/100000: episode: 36, duration: 34.559s, episode steps: 940, steps per second:  27, episode reward: 16.000, mean reward:  0.017 [ 0.000,  1.000], mean action: 2.543 [0.000, 5.000],  loss: --, mae: --, mean_q: --\n",
            " 24347/100000: episode: 37, duration: 13.482s, episode steps: 354, steps per second:  26, episode reward:  4.000, mean reward:  0.011 [ 0.000,  1.000], mean action: 2.681 [0.000, 5.000],  loss: --, mae: --, mean_q: --\n",
            " 25199/100000: episode: 38, duration: 31.614s, episode steps: 852, steps per second:  27, episode reward: 21.000, mean reward:  0.025 [ 0.000,  1.000], mean action: 2.717 [0.000, 5.000],  loss: --, mae: --, mean_q: --\n",
            " 26252/100000: episode: 39, duration: 41.967s, episode steps: 1053, steps per second:  25, episode reward: 21.000, mean reward:  0.020 [ 0.000,  1.000], mean action: 2.557 [0.000, 5.000],  loss: --, mae: --, mean_q: --\n",
            " 26890/100000: episode: 40, duration: 24.583s, episode steps: 638, steps per second:  26, episode reward: 10.000, mean reward:  0.016 [ 0.000,  1.000], mean action: 2.683 [0.000, 5.000],  loss: --, mae: --, mean_q: --\n",
            " 27462/100000: episode: 41, duration: 20.628s, episode steps: 572, steps per second:  28, episode reward:  6.000, mean reward:  0.010 [ 0.000,  1.000], mean action: 2.638 [0.000, 5.000],  loss: --, mae: --, mean_q: --\n",
            " 28078/100000: episode: 42, duration: 23.907s, episode steps: 616, steps per second:  26, episode reward:  8.000, mean reward:  0.013 [ 0.000,  1.000], mean action: 2.683 [0.000, 5.000],  loss: --, mae: --, mean_q: --\n",
            " 29049/100000: episode: 43, duration: 36.529s, episode steps: 971, steps per second:  27, episode reward: 18.000, mean reward:  0.019 [ 0.000,  1.000], mean action: 2.577 [0.000, 5.000],  loss: --, mae: --, mean_q: --\n",
            " 30628/100000: episode: 44, duration: 62.511s, episode steps: 1579, steps per second:  25, episode reward: 31.000, mean reward:  0.020 [ 0.000,  1.000], mean action: 2.559 [0.000, 5.000],  loss: --, mae: --, mean_q: --\n",
            " 31141/100000: episode: 45, duration: 18.718s, episode steps: 513, steps per second:  27, episode reward:  7.000, mean reward:  0.014 [ 0.000,  1.000], mean action: 2.608 [0.000, 5.000],  loss: --, mae: --, mean_q: --\n",
            " 32233/100000: episode: 46, duration: 41.438s, episode steps: 1092, steps per second:  26, episode reward: 17.000, mean reward:  0.016 [ 0.000,  1.000], mean action: 2.599 [0.000, 5.000],  loss: --, mae: --, mean_q: --\n",
            " 33386/100000: episode: 47, duration: 43.440s, episode steps: 1153, steps per second:  27, episode reward: 15.000, mean reward:  0.013 [ 0.000,  1.000], mean action: 2.646 [0.000, 5.000],  loss: --, mae: --, mean_q: --\n",
            " 34243/100000: episode: 48, duration: 34.123s, episode steps: 857, steps per second:  25, episode reward: 19.000, mean reward:  0.022 [ 0.000,  1.000], mean action: 2.474 [0.000, 5.000],  loss: --, mae: --, mean_q: --\n",
            " 35422/100000: episode: 49, duration: 45.984s, episode steps: 1179, steps per second:  26, episode reward: 15.000, mean reward:  0.013 [ 0.000,  1.000], mean action: 2.603 [0.000, 5.000],  loss: --, mae: --, mean_q: --\n",
            " 36143/100000: episode: 50, duration: 26.770s, episode steps: 721, steps per second:  27, episode reward: 16.000, mean reward:  0.022 [ 0.000,  1.000], mean action: 2.685 [0.000, 5.000],  loss: --, mae: --, mean_q: --\n",
            " 37417/100000: episode: 51, duration: 47.996s, episode steps: 1274, steps per second:  27, episode reward: 18.000, mean reward:  0.014 [ 0.000,  1.000], mean action: 2.593 [0.000, 5.000],  loss: --, mae: --, mean_q: --\n",
            " 37867/100000: episode: 52, duration: 16.564s, episode steps: 450, steps per second:  27, episode reward: 10.000, mean reward:  0.022 [ 0.000,  1.000], mean action: 2.682 [0.000, 5.000],  loss: --, mae: --, mean_q: --\n",
            " 38548/100000: episode: 53, duration: 27.904s, episode steps: 681, steps per second:  24, episode reward: 14.000, mean reward:  0.021 [ 0.000,  1.000], mean action: 2.617 [0.000, 5.000],  loss: --, mae: --, mean_q: --\n",
            " 39203/100000: episode: 54, duration: 25.119s, episode steps: 655, steps per second:  26, episode reward: 13.000, mean reward:  0.020 [ 0.000,  1.000], mean action: 2.646 [0.000, 5.000],  loss: --, mae: --, mean_q: --\n",
            " 40940/100000: episode: 55, duration: 65.595s, episode steps: 1737, steps per second:  26, episode reward: 32.000, mean reward:  0.018 [ 0.000,  1.000], mean action: 2.533 [0.000, 5.000],  loss: --, mae: --, mean_q: --\n",
            " 41500/100000: episode: 56, duration: 21.311s, episode steps: 560, steps per second:  26, episode reward: 14.000, mean reward:  0.025 [ 0.000,  1.000], mean action: 2.582 [0.000, 5.000],  loss: --, mae: --, mean_q: --\n",
            " 42489/100000: episode: 57, duration: 39.591s, episode steps: 989, steps per second:  25, episode reward: 17.000, mean reward:  0.017 [ 0.000,  1.000], mean action: 2.631 [0.000, 5.000],  loss: --, mae: --, mean_q: --\n",
            " 43177/100000: episode: 58, duration: 25.758s, episode steps: 688, steps per second:  27, episode reward: 15.000, mean reward:  0.022 [ 0.000,  1.000], mean action: 2.622 [0.000, 5.000],  loss: --, mae: --, mean_q: --\n",
            " 43993/100000: episode: 59, duration: 30.784s, episode steps: 816, steps per second:  27, episode reward: 19.000, mean reward:  0.023 [ 0.000,  1.000], mean action: 2.575 [0.000, 5.000],  loss: --, mae: --, mean_q: --\n",
            " 45081/100000: episode: 60, duration: 41.122s, episode steps: 1088, steps per second:  26, episode reward: 14.000, mean reward:  0.013 [ 0.000,  1.000], mean action: 2.539 [0.000, 5.000],  loss: --, mae: --, mean_q: --\n",
            " 46160/100000: episode: 61, duration: 39.573s, episode steps: 1079, steps per second:  27, episode reward: 17.000, mean reward:  0.016 [ 0.000,  1.000], mean action: 2.624 [0.000, 5.000],  loss: --, mae: --, mean_q: --\n",
            " 46854/100000: episode: 62, duration: 27.984s, episode steps: 694, steps per second:  25, episode reward: 13.000, mean reward:  0.019 [ 0.000,  1.000], mean action: 2.594 [0.000, 5.000],  loss: --, mae: --, mean_q: --\n",
            " 47951/100000: episode: 63, duration: 41.118s, episode steps: 1097, steps per second:  27, episode reward: 16.000, mean reward:  0.015 [ 0.000,  1.000], mean action: 2.625 [0.000, 5.000],  loss: --, mae: --, mean_q: --\n",
            " 48614/100000: episode: 64, duration: 25.409s, episode steps: 663, steps per second:  26, episode reward: 14.000, mean reward:  0.021 [ 0.000,  1.000], mean action: 2.621 [0.000, 5.000],  loss: --, mae: --, mean_q: --\n",
            " 49176/100000: episode: 65, duration: 22.062s, episode steps: 562, steps per second:  25, episode reward: 15.000, mean reward:  0.027 [ 0.000,  1.000], mean action: 2.582 [0.000, 5.000],  loss: --, mae: --, mean_q: --\n"
          ]
        },
        {
          "output_type": "stream",
          "name": "stderr",
          "text": [
            "/usr/local/lib/python3.11/dist-packages/keras/engine/training_v1.py:2359: UserWarning: `Model.state_updates` will be removed in a future version. This property should not be used in TensorFlow 2.0, as `updates` are applied automatically.\n",
            "  updates=self.state_updates,\n"
          ]
        },
        {
          "output_type": "stream",
          "name": "stdout",
          "text": [
            " 50452/100000: episode: 66, duration: 82.830s, episode steps: 1276, steps per second:  15, episode reward: 21.000, mean reward:  0.016 [ 0.000,  1.000], mean action: 2.502 [0.000, 5.000],  loss: 0.009701, mae: 0.036562, mean_q: 0.063666\n",
            " 51159/100000: episode: 67, duration: 77.032s, episode steps: 707, steps per second:   9, episode reward: 12.000, mean reward:  0.017 [ 0.000,  1.000], mean action: 2.478 [0.000, 5.000],  loss: 0.009085, mae: 0.039937, mean_q: 0.064712\n",
            " 51765/100000: episode: 68, duration: 65.742s, episode steps: 606, steps per second:   9, episode reward:  9.000, mean reward:  0.015 [ 0.000,  1.000], mean action: 2.581 [0.000, 5.000],  loss: 0.009066, mae: 0.041519, mean_q: 0.063503\n",
            " 52734/100000: episode: 69, duration: 104.492s, episode steps: 969, steps per second:   9, episode reward: 19.000, mean reward:  0.020 [ 0.000,  1.000], mean action: 2.062 [0.000, 5.000],  loss: 0.009001, mae: 0.041797, mean_q: 0.062859\n",
            " 53074/100000: episode: 70, duration: 36.883s, episode steps: 340, steps per second:   9, episode reward:  3.000, mean reward:  0.009 [ 0.000,  1.000], mean action: 1.650 [0.000, 5.000],  loss: 0.009308, mae: 0.041130, mean_q: 0.061412\n",
            " 53775/100000: episode: 71, duration: 75.855s, episode steps: 701, steps per second:   9, episode reward:  9.000, mean reward:  0.013 [ 0.000,  1.000], mean action: 1.514 [0.000, 5.000],  loss: 0.008344, mae: 0.036972, mean_q: 0.056461\n",
            " 54510/100000: episode: 72, duration: 80.105s, episode steps: 735, steps per second:   9, episode reward:  6.000, mean reward:  0.008 [ 0.000,  1.000], mean action: 2.356 [0.000, 5.000],  loss: 0.008700, mae: 0.041010, mean_q: 0.057615\n",
            " 55122/100000: episode: 73, duration: 65.985s, episode steps: 612, steps per second:   9, episode reward: 11.000, mean reward:  0.018 [ 0.000,  1.000], mean action: 2.194 [0.000, 5.000],  loss: 0.009669, mae: 0.041663, mean_q: 0.058407\n",
            " 56220/100000: episode: 74, duration: 118.372s, episode steps: 1098, steps per second:   9, episode reward: 24.000, mean reward:  0.022 [ 0.000,  1.000], mean action: 2.268 [0.000, 5.000],  loss: 0.009240, mae: 0.042104, mean_q: 0.058357\n",
            " 56978/100000: episode: 75, duration: 81.443s, episode steps: 758, steps per second:   9, episode reward:  7.000, mean reward:  0.009 [ 0.000,  1.000], mean action: 2.830 [0.000, 5.000],  loss: 0.009418, mae: 0.043181, mean_q: 0.058944\n",
            " 57814/100000: episode: 76, duration: 90.095s, episode steps: 836, steps per second:   9, episode reward: 14.000, mean reward:  0.017 [ 0.000,  1.000], mean action: 1.719 [0.000, 5.000],  loss: 0.010052, mae: 0.043758, mean_q: 0.059918\n",
            " 58977/100000: episode: 77, duration: 125.971s, episode steps: 1163, steps per second:   9, episode reward: 18.000, mean reward:  0.015 [ 0.000,  1.000], mean action: 1.775 [0.000, 5.000],  loss: 0.008474, mae: 0.042291, mean_q: 0.058405\n",
            " 59625/100000: episode: 78, duration: 69.453s, episode steps: 648, steps per second:   9, episode reward:  6.000, mean reward:  0.009 [ 0.000,  1.000], mean action: 2.054 [0.000, 5.000],  loss: 0.009056, mae: 0.043422, mean_q: 0.059092\n",
            " 60123/100000: episode: 79, duration: 56.215s, episode steps: 498, steps per second:   9, episode reward:  7.000, mean reward:  0.014 [ 0.000,  1.000], mean action: 2.038 [0.000, 5.000],  loss: 0.007843, mae: 0.041192, mean_q: 0.057580\n",
            " 60747/100000: episode: 80, duration: 65.303s, episode steps: 624, steps per second:  10, episode reward:  9.000, mean reward:  0.014 [ 0.000,  1.000], mean action: 2.654 [0.000, 5.000],  loss: 0.009648, mae: 0.067649, mean_q: 0.093177\n",
            " 61555/100000: episode: 81, duration: 87.956s, episode steps: 808, steps per second:   9, episode reward: 11.000, mean reward:  0.014 [ 0.000,  1.000], mean action: 1.724 [0.000, 5.000],  loss: 0.008431, mae: 0.067416, mean_q: 0.092338\n",
            " 62221/100000: episode: 82, duration: 71.164s, episode steps: 666, steps per second:   9, episode reward: 22.000, mean reward:  0.033 [ 0.000,  1.000], mean action: 2.179 [0.000, 5.000],  loss: 0.007656, mae: 0.065513, mean_q: 0.089682\n",
            " 63016/100000: episode: 83, duration: 86.722s, episode steps: 795, steps per second:   9, episode reward: 13.000, mean reward:  0.016 [ 0.000,  1.000], mean action: 2.475 [0.000, 5.000],  loss: 0.009134, mae: 0.070676, mean_q: 0.093537\n",
            " 63538/100000: episode: 84, duration: 55.876s, episode steps: 522, steps per second:   9, episode reward: 10.000, mean reward:  0.019 [ 0.000,  1.000], mean action: 1.906 [0.000, 5.000],  loss: 0.006461, mae: 0.064184, mean_q: 0.085754\n",
            " 64063/100000: episode: 85, duration: 58.368s, episode steps: 525, steps per second:   9, episode reward:  9.000, mean reward:  0.017 [ 0.000,  1.000], mean action: 3.006 [0.000, 5.000],  loss: 0.008207, mae: 0.068671, mean_q: 0.090278\n",
            " 64878/100000: episode: 86, duration: 87.023s, episode steps: 815, steps per second:   9, episode reward:  9.000, mean reward:  0.011 [ 0.000,  1.000], mean action: 2.467 [0.000, 5.000],  loss: 0.009576, mae: 0.071232, mean_q: 0.093855\n",
            " 65414/100000: episode: 87, duration: 59.307s, episode steps: 536, steps per second:   9, episode reward:  7.000, mean reward:  0.013 [ 0.000,  1.000], mean action: 2.284 [0.000, 5.000],  loss: 0.008031, mae: 0.067394, mean_q: 0.090182\n",
            " 66057/100000: episode: 88, duration: 70.078s, episode steps: 643, steps per second:   9, episode reward: 10.000, mean reward:  0.016 [ 0.000,  1.000], mean action: 3.381 [0.000, 5.000],  loss: 0.008613, mae: 0.069241, mean_q: 0.092176\n",
            " 66694/100000: episode: 89, duration: 70.365s, episode steps: 637, steps per second:   9, episode reward: 10.000, mean reward:  0.016 [ 0.000,  1.000], mean action: 3.703 [0.000, 5.000],  loss: 0.007501, mae: 0.066975, mean_q: 0.090894\n",
            " 67169/100000: episode: 90, duration: 49.754s, episode steps: 475, steps per second:  10, episode reward:  3.000, mean reward:  0.006 [ 0.000,  1.000], mean action: 3.665 [0.000, 5.000],  loss: 0.008446, mae: 0.068483, mean_q: 0.090391\n",
            " 67822/100000: episode: 91, duration: 70.385s, episode steps: 653, steps per second:   9, episode reward:  9.000, mean reward:  0.014 [ 0.000,  1.000], mean action: 2.982 [0.000, 5.000],  loss: 0.008832, mae: 0.069088, mean_q: 0.089546\n",
            " 68171/100000: episode: 92, duration: 39.369s, episode steps: 349, steps per second:   9, episode reward:  5.000, mean reward:  0.014 [ 0.000,  1.000], mean action: 2.355 [0.000, 5.000],  loss: 0.006922, mae: 0.064447, mean_q: 0.085481\n",
            " 68972/100000: episode: 93, duration: 85.591s, episode steps: 801, steps per second:   9, episode reward:  9.000, mean reward:  0.011 [ 0.000,  1.000], mean action: 3.042 [0.000, 5.000],  loss: 0.009570, mae: 0.073553, mean_q: 0.095758\n",
            " 69335/100000: episode: 94, duration: 41.059s, episode steps: 363, steps per second:   9, episode reward:  5.000, mean reward:  0.014 [ 0.000,  1.000], mean action: 2.686 [0.000, 5.000],  loss: 0.009224, mae: 0.067935, mean_q: 0.091857\n",
            " 70175/100000: episode: 95, duration: 90.238s, episode steps: 840, steps per second:   9, episode reward: 10.000, mean reward:  0.012 [ 0.000,  1.000], mean action: 2.611 [0.000, 5.000],  loss: 0.009126, mae: 0.077806, mean_q: 0.100572\n",
            " 71219/100000: episode: 96, duration: 113.693s, episode steps: 1044, steps per second:   9, episode reward: 20.000, mean reward:  0.019 [ 0.000,  1.000], mean action: 2.746 [0.000, 5.000],  loss: 0.008375, mae: 0.095723, mean_q: 0.123631\n",
            " 72279/100000: episode: 97, duration: 114.933s, episode steps: 1060, steps per second:   9, episode reward: 20.000, mean reward:  0.019 [ 0.000,  1.000], mean action: 2.201 [0.000, 5.000],  loss: 0.008203, mae: 0.096563, mean_q: 0.126156\n",
            " 72804/100000: episode: 98, duration: 56.440s, episode steps: 525, steps per second:   9, episode reward:  7.000, mean reward:  0.013 [ 0.000,  1.000], mean action: 1.549 [0.000, 5.000],  loss: 0.008670, mae: 0.096650, mean_q: 0.126007\n",
            " 73136/100000: episode: 99, duration: 38.416s, episode steps: 332, steps per second:   9, episode reward:  3.000, mean reward:  0.009 [ 0.000,  1.000], mean action: 1.503 [0.000, 5.000],  loss: 0.008616, mae: 0.096829, mean_q: 0.127275\n",
            " 74223/100000: episode: 100, duration: 115.707s, episode steps: 1087, steps per second:   9, episode reward: 20.000, mean reward:  0.018 [ 0.000,  1.000], mean action: 2.304 [0.000, 5.000],  loss: 0.009057, mae: 0.097999, mean_q: 0.127888\n",
            " 75188/100000: episode: 101, duration: 104.945s, episode steps: 965, steps per second:   9, episode reward: 14.000, mean reward:  0.015 [ 0.000,  1.000], mean action: 2.094 [0.000, 5.000],  loss: 0.007252, mae: 0.094956, mean_q: 0.124941\n",
            " 75748/100000: episode: 102, duration: 62.848s, episode steps: 560, steps per second:   9, episode reward:  9.000, mean reward:  0.016 [ 0.000,  1.000], mean action: 2.870 [0.000, 5.000],  loss: 0.007459, mae: 0.094157, mean_q: 0.122705\n",
            " 76183/100000: episode: 103, duration: 45.909s, episode steps: 435, steps per second:   9, episode reward:  9.000, mean reward:  0.021 [ 0.000,  1.000], mean action: 2.837 [0.000, 5.000],  loss: 0.009175, mae: 0.097549, mean_q: 0.126153\n",
            " 76769/100000: episode: 104, duration: 62.839s, episode steps: 586, steps per second:   9, episode reward: 14.000, mean reward:  0.024 [ 0.000,  1.000], mean action: 2.662 [0.000, 5.000],  loss: 0.007531, mae: 0.093781, mean_q: 0.122598\n",
            " 77130/100000: episode: 105, duration: 40.084s, episode steps: 361, steps per second:   9, episode reward:  4.000, mean reward:  0.011 [ 0.000,  1.000], mean action: 2.573 [0.000, 5.000],  loss: 0.007240, mae: 0.094153, mean_q: 0.122778\n",
            " 78139/100000: episode: 106, duration: 108.673s, episode steps: 1009, steps per second:   9, episode reward: 21.000, mean reward:  0.021 [ 0.000,  1.000], mean action: 2.106 [0.000, 5.000],  loss: 0.007902, mae: 0.094686, mean_q: 0.122722\n",
            " 78776/100000: episode: 107, duration: 70.460s, episode steps: 637, steps per second:   9, episode reward: 11.000, mean reward:  0.017 [ 0.000,  1.000], mean action: 2.214 [0.000, 5.000],  loss: 0.009447, mae: 0.098079, mean_q: 0.125675\n",
            " 79319/100000: episode: 108, duration: 57.988s, episode steps: 543, steps per second:   9, episode reward:  6.000, mean reward:  0.011 [ 0.000,  1.000], mean action: 2.584 [0.000, 5.000],  loss: 0.008245, mae: 0.096490, mean_q: 0.123259\n",
            " 79990/100000: episode: 109, duration: 73.667s, episode steps: 671, steps per second:   9, episode reward:  6.000, mean reward:  0.009 [ 0.000,  1.000], mean action: 2.244 [0.000, 5.000],  loss: 0.009409, mae: 0.099404, mean_q: 0.127629\n",
            " 80848/100000: episode: 110, duration: 95.616s, episode steps: 858, steps per second:   9, episode reward: 13.000, mean reward:  0.015 [ 0.000,  1.000], mean action: 2.284 [0.000, 5.000],  loss: 0.009795, mae: 0.124333, mean_q: 0.160935\n",
            " 81583/100000: episode: 111, duration: 77.684s, episode steps: 735, steps per second:   9, episode reward: 13.000, mean reward:  0.018 [ 0.000,  1.000], mean action: 2.829 [0.000, 5.000],  loss: 0.007508, mae: 0.120721, mean_q: 0.155284\n",
            " 82116/100000: episode: 112, duration: 58.833s, episode steps: 533, steps per second:   9, episode reward:  9.000, mean reward:  0.017 [ 0.000,  1.000], mean action: 2.754 [0.000, 5.000],  loss: 0.007652, mae: 0.120177, mean_q: 0.154339\n",
            " 83129/100000: episode: 113, duration: 108.971s, episode steps: 1013, steps per second:   9, episode reward: 17.000, mean reward:  0.017 [ 0.000,  1.000], mean action: 1.942 [0.000, 5.000],  loss: 0.009036, mae: 0.123318, mean_q: 0.157946\n",
            " 83760/100000: episode: 114, duration: 69.902s, episode steps: 631, steps per second:   9, episode reward: 11.000, mean reward:  0.017 [ 0.000,  1.000], mean action: 1.906 [0.000, 5.000],  loss: 0.008256, mae: 0.122304, mean_q: 0.158952\n",
            " 84386/100000: episode: 115, duration: 67.133s, episode steps: 626, steps per second:   9, episode reward:  6.000, mean reward:  0.010 [ 0.000,  1.000], mean action: 1.903 [0.000, 5.000],  loss: 0.006711, mae: 0.117003, mean_q: 0.150652\n",
            " 85282/100000: episode: 116, duration: 96.826s, episode steps: 896, steps per second:   9, episode reward: 18.000, mean reward:  0.020 [ 0.000,  1.000], mean action: 2.269 [0.000, 5.000],  loss: 0.007837, mae: 0.120447, mean_q: 0.153597\n",
            " 86257/100000: episode: 117, duration: 107.202s, episode steps: 975, steps per second:   9, episode reward: 16.000, mean reward:  0.016 [ 0.000,  1.000], mean action: 2.254 [0.000, 5.000],  loss: 0.009797, mae: 0.125351, mean_q: 0.160814\n",
            " 87580/100000: episode: 118, duration: 143.190s, episode steps: 1323, steps per second:   9, episode reward: 14.000, mean reward:  0.011 [ 0.000,  1.000], mean action: 2.411 [0.000, 5.000],  loss: 0.007973, mae: 0.122440, mean_q: 0.157653\n",
            " 87948/100000: episode: 119, duration: 45.397s, episode steps: 368, steps per second:   8, episode reward:  8.000, mean reward:  0.022 [ 0.000,  1.000], mean action: 1.927 [0.000, 5.000],  loss: 0.007511, mae: 0.121852, mean_q: 0.156305\n",
            " 88745/100000: episode: 120, duration: 100.300s, episode steps: 797, steps per second:   8, episode reward: 15.000, mean reward:  0.019 [ 0.000,  1.000], mean action: 2.793 [0.000, 5.000],  loss: 0.007990, mae: 0.120536, mean_q: 0.152566\n",
            " 89391/100000: episode: 121, duration: 77.079s, episode steps: 646, steps per second:   8, episode reward: 11.000, mean reward:  0.017 [ 0.000,  1.000], mean action: 2.635 [0.000, 5.000],  loss: 0.007558, mae: 0.120455, mean_q: 0.152646\n",
            " 90037/100000: episode: 122, duration: 72.308s, episode steps: 646, steps per second:   9, episode reward: 10.000, mean reward:  0.015 [ 0.000,  1.000], mean action: 1.731 [0.000, 5.000],  loss: 0.008687, mae: 0.122423, mean_q: 0.155959\n",
            " 90970/100000: episode: 123, duration: 111.596s, episode steps: 933, steps per second:   8, episode reward: 14.000, mean reward:  0.015 [ 0.000,  1.000], mean action: 2.353 [0.000, 5.000],  loss: 0.008419, mae: 0.142272, mean_q: 0.182074\n",
            " 91785/100000: episode: 124, duration: 90.948s, episode steps: 815, steps per second:   9, episode reward: 14.000, mean reward:  0.017 [ 0.000,  1.000], mean action: 2.128 [0.000, 5.000],  loss: 0.007676, mae: 0.142396, mean_q: 0.181451\n",
            " 92726/100000: episode: 125, duration: 102.894s, episode steps: 941, steps per second:   9, episode reward: 11.000, mean reward:  0.012 [ 0.000,  1.000], mean action: 1.852 [0.000, 5.000],  loss: 0.009924, mae: 0.145229, mean_q: 0.184061\n",
            " 93073/100000: episode: 126, duration: 38.138s, episode steps: 347, steps per second:   9, episode reward:  7.000, mean reward:  0.020 [ 0.000,  1.000], mean action: 2.049 [0.000, 5.000],  loss: 0.009200, mae: 0.143430, mean_q: 0.185066\n",
            " 94363/100000: episode: 127, duration: 141.278s, episode steps: 1290, steps per second:   9, episode reward: 12.000, mean reward:  0.009 [ 0.000,  1.000], mean action: 2.226 [0.000, 5.000],  loss: 0.008413, mae: 0.144064, mean_q: 0.184025\n",
            " 95182/100000: episode: 128, duration: 87.602s, episode steps: 819, steps per second:   9, episode reward: 13.000, mean reward:  0.016 [ 0.000,  1.000], mean action: 2.813 [0.000, 5.000],  loss: 0.008176, mae: 0.143099, mean_q: 0.181052\n",
            " 95897/100000: episode: 129, duration: 80.036s, episode steps: 715, steps per second:   9, episode reward:  6.000, mean reward:  0.008 [ 0.000,  1.000], mean action: 2.421 [0.000, 5.000],  loss: 0.009002, mae: 0.144844, mean_q: 0.184140\n",
            " 96270/100000: episode: 130, duration: 40.520s, episode steps: 373, steps per second:   9, episode reward:  3.000, mean reward:  0.008 [ 0.000,  1.000], mean action: 3.024 [0.000, 5.000],  loss: 0.007274, mae: 0.142708, mean_q: 0.181637\n",
            " 96907/100000: episode: 131, duration: 70.363s, episode steps: 637, steps per second:   9, episode reward: 11.000, mean reward:  0.017 [ 0.000,  1.000], mean action: 2.898 [0.000, 5.000],  loss: 0.007577, mae: 0.140570, mean_q: 0.178826\n",
            " 97600/100000: episode: 132, duration: 74.432s, episode steps: 693, steps per second:   9, episode reward:  8.000, mean reward:  0.012 [ 0.000,  1.000], mean action: 2.126 [0.000, 5.000],  loss: 0.007812, mae: 0.141518, mean_q: 0.178939\n",
            " 98260/100000: episode: 133, duration: 73.108s, episode steps: 660, steps per second:   9, episode reward:  8.000, mean reward:  0.012 [ 0.000,  1.000], mean action: 2.018 [0.000, 5.000],  loss: 0.008540, mae: 0.145225, mean_q: 0.184345\n",
            " 98906/100000: episode: 134, duration: 69.861s, episode steps: 646, steps per second:   9, episode reward:  9.000, mean reward:  0.014 [ 0.000,  1.000], mean action: 2.316 [0.000, 5.000],  loss: 0.006616, mae: 0.138852, mean_q: 0.177367\n",
            " 99403/100000: episode: 135, duration: 55.651s, episode steps: 497, steps per second:   9, episode reward:  5.000, mean reward:  0.010 [ 0.000,  1.000], mean action: 2.569 [0.000, 5.000],  loss: 0.009187, mae: 0.146066, mean_q: 0.183743\n",
            "done, took 7402.186 seconds\n"
          ]
        }
      ],
      "source": [
        "# Cargar último checkpoint\n",
        "latest_path, trained_steps = load_latest_weights(dqn, checkpoint_dir)\n",
        "\n",
        "# Entrenar agente\n",
        "dqn.fit(env, nb_steps=100000, visualize=False, verbose=2,\n",
        "        callbacks=[checkpoint_callback, logger_callback])\n",
        "\n",
        "# Guardar pesos finales en formato .h5 (compatible con load_weights)\n",
        "dqn.save_weights(os.path.join(checkpoint_dir, f\"dqn_noisy_weights_{total_steps}.h5\"), overwrite=True)\n",
        "\n",
        "# GUARDAR LA MEMORIA DE EXPERIENCIA\n",
        "import pickle\n",
        "with open('memory_noisy.pkl', 'wb') as f:\n",
        "    pickle.dump(memory, f)"
      ]
    },
    {
      "cell_type": "code",
      "source": [
        "import time\n",
        "\n",
        "print(\"Esperando 60 segundos...\")\n",
        "time.sleep(60)\n",
        "print(\"¡Tiempo de espera terminado!\")"
      ],
      "metadata": {
        "id": "hcqrLtRxi23X",
        "colab": {
          "base_uri": "https://localhost:8080/"
        },
        "outputId": "e065f91f-084a-4bfe-da67-8e3d12915802"
      },
      "execution_count": 30,
      "outputs": [
        {
          "output_type": "stream",
          "name": "stdout",
          "text": [
            "Esperando 60 segundos...\n",
            "¡Tiempo de espera terminado!\n"
          ]
        }
      ]
    },
    {
      "cell_type": "code",
      "execution_count": 31,
      "metadata": {
        "id": "fuVSBuiyi56X",
        "colab": {
          "base_uri": "https://localhost:8080/"
        },
        "outputId": "e34d4f68-3aac-4313-f7b1-4c7d6a689390"
      },
      "outputs": [
        {
          "output_type": "stream",
          "name": "stdout",
          "text": [
            "✅ Cargando pesos desde: /content/gdrive/My Drive/MODELO 14/checkpoints/dqn_noisy_weights_200000.h5 (pasos entrenados: 200000)\n",
            "Testing for 10 episodes ...\n",
            "Episode 1: reward: 15.000, steps: 614\n",
            "Episode 2: reward: 16.000, steps: 677\n",
            "Episode 3: reward: 17.000, steps: 908\n",
            "Episode 4: reward: 5.000, steps: 590\n",
            "Episode 5: reward: 33.000, steps: 1358\n",
            "Episode 6: reward: 12.000, steps: 913\n",
            "Episode 7: reward: 16.000, steps: 913\n",
            "Episode 8: reward: 23.000, steps: 1204\n",
            "Episode 9: reward: 18.000, steps: 1212\n",
            "Episode 10: reward: 5.000, steps: 521\n"
          ]
        }
      ],
      "source": [
        "# Testear desde último checkpoint\n",
        "latest_path, trained_steps = load_latest_weights(dqn, checkpoint_dir)\n",
        "if latest_path:\n",
        "    dqn.test(env, nb_episodes=10, visualize=False)"
      ]
    },
    {
      "cell_type": "markdown",
      "source": [
        "### Parte 2"
      ],
      "metadata": {
        "id": "CMKpo4cgDXND"
      }
    },
    {
      "cell_type": "code",
      "source": [
        "# Cargar pesos anteriores si existen\n",
        "latest_path, trained_steps = load_latest_weights(dqn, checkpoint_dir)\n",
        "if latest_path:\n",
        "    dqn.load_weights(latest_path)\n",
        "else:\n",
        "    trained_steps = 0\n",
        "\n",
        "# Definir pasos a entrenar\n",
        "steps_to_train = 100000\n",
        "total_steps = trained_steps + steps_to_train\n",
        "\n",
        "# Crear paths y callbacks dinámicos\n",
        "log_path = os.path.join(log_dir, f\"dqn_noisy_log_{trained_steps}_{total_steps}.json\")\n",
        "checkpoint_path = os.path.join(checkpoint_dir, f\"dqn_noisy_weights_{total_steps}.h5\")\n",
        "\n",
        "logger_callback = FileLogger(log_path, interval=100)\n",
        "checkpoint_callback = ModelIntervalCheckpoint(checkpoint_path, interval=10000)\n",
        "\n",
        "# Entrenar agente\n",
        "dqn.fit(env, nb_steps=steps_to_train, visualize=False, verbose=2,\n",
        "        callbacks=[checkpoint_callback, logger_callback])\n",
        "\n",
        "# Guardar pesos finales\n",
        "dqn.save_weights(checkpoint_path, overwrite=True)\n",
        "\n",
        "# Guardar la memoria de experiencia\n",
        "import pickle\n",
        "with open('memory_noisy.pkl', 'wb') as f:\n",
        "    pickle.dump(memory, f)\n",
        "\n",
        "print(f\"Entrenamiento hasta {total_steps} pasos completado y guardado.\")"
      ],
      "metadata": {
        "colab": {
          "base_uri": "https://localhost:8080/"
        },
        "id": "8_fQUrYHDVG2",
        "outputId": "df14b478-125e-4950-e5d7-44a57896bd82"
      },
      "execution_count": null,
      "outputs": [
        {
          "output_type": "stream",
          "name": "stdout",
          "text": [
            "✅ Cargando pesos desde: /content/gdrive/My Drive/MODELO 14/checkpoints/dqn_noisy_weights_200000.h5 (pasos entrenados: 200000)\n",
            "Training for 100000 steps ...\n",
            "   522/100000: episode: 1, duration: 20.914s, episode steps: 522, steps per second:  25, episode reward:  5.000, mean reward:  0.010 [ 0.000,  1.000], mean action: 2.174 [0.000, 5.000],  loss: --, mae: --, mean_q: --\n",
            "  1175/100000: episode: 2, duration: 25.091s, episode steps: 653, steps per second:  26, episode reward:  7.000, mean reward:  0.011 [ 0.000,  1.000], mean action: 2.538 [0.000, 5.000],  loss: --, mae: --, mean_q: --\n",
            "  1855/100000: episode: 3, duration: 25.965s, episode steps: 680, steps per second:  26, episode reward: 10.000, mean reward:  0.015 [ 0.000,  1.000], mean action: 2.488 [0.000, 5.000],  loss: --, mae: --, mean_q: --\n",
            "  2490/100000: episode: 4, duration: 22.787s, episode steps: 635, steps per second:  28, episode reward:  9.000, mean reward:  0.014 [ 0.000,  1.000], mean action: 2.490 [0.000, 5.000],  loss: --, mae: --, mean_q: --\n",
            "  2877/100000: episode: 5, duration: 14.801s, episode steps: 387, steps per second:  26, episode reward:  5.000, mean reward:  0.013 [ 0.000,  1.000], mean action: 2.444 [0.000, 5.000],  loss: --, mae: --, mean_q: --\n",
            "  3528/100000: episode: 6, duration: 24.691s, episode steps: 651, steps per second:  26, episode reward:  9.000, mean reward:  0.014 [ 0.000,  1.000], mean action: 2.376 [0.000, 5.000],  loss: --, mae: --, mean_q: --\n",
            "  4469/100000: episode: 7, duration: 38.066s, episode steps: 941, steps per second:  25, episode reward: 16.000, mean reward:  0.017 [ 0.000,  1.000], mean action: 2.670 [0.000, 5.000],  loss: --, mae: --, mean_q: --\n",
            "  4792/100000: episode: 8, duration: 12.442s, episode steps: 323, steps per second:  26, episode reward:  2.000, mean reward:  0.006 [ 0.000,  1.000], mean action: 2.687 [0.000, 5.000],  loss: --, mae: --, mean_q: --\n",
            "  5169/100000: episode: 9, duration: 14.132s, episode steps: 377, steps per second:  27, episode reward:  2.000, mean reward:  0.005 [ 0.000,  1.000], mean action: 2.496 [0.000, 5.000],  loss: --, mae: --, mean_q: --\n",
            "  6088/100000: episode: 10, duration: 41.498s, episode steps: 919, steps per second:  22, episode reward: 17.000, mean reward:  0.018 [ 0.000,  1.000], mean action: 2.481 [0.000, 5.000],  loss: --, mae: --, mean_q: --\n",
            "  6435/100000: episode: 11, duration: 12.877s, episode steps: 347, steps per second:  27, episode reward:  1.000, mean reward:  0.003 [ 0.000,  1.000], mean action: 2.262 [0.000, 5.000],  loss: --, mae: --, mean_q: --\n"
          ]
        }
      ]
    },
    {
      "cell_type": "code",
      "source": [
        "import time\n",
        "\n",
        "print(\"Esperando 60 segundos...\")\n",
        "time.sleep(60)\n",
        "print(\"¡Tiempo de espera terminado!\")"
      ],
      "metadata": {
        "id": "9x6-wgiTDbRz"
      },
      "execution_count": null,
      "outputs": []
    },
    {
      "cell_type": "code",
      "source": [
        "# Testear desde último checkpoint\n",
        "latest_path, trained_steps = load_latest_weights(dqn, checkpoint_dir)\n",
        "if latest_path:\n",
        "    dqn.test(env, nb_episodes=10, visualize=False)"
      ],
      "metadata": {
        "id": "4Fvp-zjUDenQ"
      },
      "execution_count": null,
      "outputs": []
    }
  ],
  "metadata": {
    "colab": {
      "provenance": [],
      "include_colab_link": true
    },
    "kernelspec": {
      "display_name": "Python 3",
      "name": "python3"
    },
    "language_info": {
      "name": "python"
    }
  },
  "nbformat": 4,
  "nbformat_minor": 0
}