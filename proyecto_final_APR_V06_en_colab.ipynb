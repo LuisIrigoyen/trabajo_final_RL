{
  "nbformat": 4,
  "nbformat_minor": 0,
  "metadata": {
    "colab": {
      "provenance": [],
      "gpuType": "A100",
      "machine_shape": "hm",
      "include_colab_link": true
    },
    "kernelspec": {
      "name": "python3",
      "display_name": "Python 3"
    },
    "language_info": {
      "name": "python"
    },
    "accelerator": "GPU"
  },
  "cells": [
    {
      "cell_type": "markdown",
      "metadata": {
        "id": "view-in-github",
        "colab_type": "text"
      },
      "source": [
        "<a href=\"https://colab.research.google.com/github/LuisIrigoyen/trabajo_final_RL/blob/main/proyecto_final_APR_V06_en_colab.ipynb\" target=\"_parent\"><img src=\"https://colab.research.google.com/assets/colab-badge.svg\" alt=\"Open In Colab\"/></a>"
      ]
    },
    {
      "cell_type": "code",
      "source": [],
      "metadata": {
        "id": "wVXkh8rCNl45"
      },
      "execution_count": null,
      "outputs": []
    },
    {
      "cell_type": "markdown",
      "source": [
        "## 1.2. Localizar entorno de trabajo: Google colab o local"
      ],
      "metadata": {
        "id": "D89Ue2uZNtzn"
      }
    },
    {
      "cell_type": "code",
      "execution_count": 1,
      "metadata": {
        "id": "7EQ46sNGLj22"
      },
      "outputs": [],
      "source": [
        "# ATENCIÓN!! Modificar ruta relativa a la práctica si es distinta (drive_root)\n",
        "mount='/content/gdrive'\n",
        "drive_root = mount + \"/My Drive/08_MIAR/actividades/proyecto practico\"\n",
        "\n",
        "try:\n",
        "  from google.colab import drive\n",
        "  IN_COLAB=True\n",
        "except:\n",
        "  IN_COLAB=False\n"
      ]
    },
    {
      "cell_type": "markdown",
      "source": [
        "## 1.3. Montar carpeta de datos local (solo Colab)"
      ],
      "metadata": {
        "id": "6on2PNxZN51A"
      }
    },
    {
      "cell_type": "code",
      "source": [
        "# Switch to the directory on the Google Drive that you want to use\n",
        "import os\n",
        "if IN_COLAB:\n",
        "  print(\"We're running Colab\")\n",
        "\n",
        "  if IN_COLAB:\n",
        "    # Mount the Google Drive at mount\n",
        "    print(\"Colab: mounting Google drive on \", mount)\n",
        "\n",
        "    drive.mount(mount)\n",
        "\n",
        "    # Create drive_root if it doesn't exist\n",
        "    create_drive_root = True\n",
        "    if create_drive_root:\n",
        "      print(\"\\nColab: making sure \", drive_root, \" exists.\")\n",
        "      os.makedirs(drive_root, exist_ok=True)\n",
        "\n",
        "    # Change to the directory\n",
        "    print(\"\\nColab: Changing directory to \", drive_root)\n",
        "    %cd $drive_root\n",
        "# Verify we're in the correct working directory\n",
        "%pwd\n",
        "print(\"Archivos en el directorio: \")\n",
        "print(os.listdir())"
      ],
      "metadata": {
        "colab": {
          "base_uri": "https://localhost:8080/"
        },
        "id": "inTxnmr0MKCH",
        "outputId": "1845caa1-331a-481f-c20b-daa2181e16ed"
      },
      "execution_count": 2,
      "outputs": [
        {
          "output_type": "stream",
          "name": "stdout",
          "text": [
            "We're running Colab\n",
            "Colab: mounting Google drive on  /content/gdrive\n",
            "Drive already mounted at /content/gdrive; to attempt to forcibly remount, call drive.mount(\"/content/gdrive\", force_remount=True).\n",
            "\n",
            "Colab: making sure  /content/gdrive/My Drive/08_MIAR/actividades/proyecto practico  exists.\n",
            "\n",
            "Colab: Changing directory to  /content/gdrive/My Drive/08_MIAR/actividades/proyecto practico\n",
            "/content/gdrive/My Drive/08_MIAR/actividades/proyecto practico\n",
            "Archivos en el directorio: \n",
            "['dqn_models']\n"
          ]
        }
      ]
    },
    {
      "cell_type": "markdown",
      "source": [
        "## 1.4. Instalar librerías necesarias"
      ],
      "metadata": {
        "id": "MYrJ03QWN9Hw"
      }
    },
    {
      "cell_type": "code",
      "source": [
        "if IN_COLAB:\n",
        "  %pip install gym==0.17.3\n",
        "  %pip install git+https://github.com/Kojoley/atari-py.git\n",
        "  %pip install keras-rl2==1.0.5\n",
        "  %pip install tensorflow==2.12  #2.8\n",
        "else:\n",
        "  %pip install gym==0.17.3\n",
        "  %pip install git+https://github.com/Kojoley/atari-py.git\n",
        "  %pip install pyglet==1.5.0\n",
        "  %pip install h5py==3.1.0\n",
        "  %pip install Pillow==9.5.0\n",
        "  %pip install keras-rl3\n",
        "  %pip install Keras==2.2.4\n",
        "  %pip install tensorflow==2.10.1\n",
        "  %pip install torch==2.0.1\n",
        "  %pip install agents==1.4.0"
      ],
      "metadata": {
        "colab": {
          "base_uri": "https://localhost:8080/"
        },
        "id": "zSbNMsl4MTo3",
        "outputId": "6f82b114-c2ab-4764-828c-c048e2de081a"
      },
      "execution_count": 7,
      "outputs": [
        {
          "output_type": "stream",
          "name": "stdout",
          "text": [
            "Requirement already satisfied: gym==0.17.3 in /usr/local/lib/python3.11/dist-packages (0.17.3)\n",
            "Requirement already satisfied: scipy in /usr/local/lib/python3.11/dist-packages (from gym==0.17.3) (1.15.3)\n",
            "Requirement already satisfied: numpy>=1.10.4 in /usr/local/lib/python3.11/dist-packages (from gym==0.17.3) (1.23.5)\n",
            "Requirement already satisfied: pyglet<=1.5.0,>=1.4.0 in /usr/local/lib/python3.11/dist-packages (from gym==0.17.3) (1.5.0)\n",
            "Requirement already satisfied: cloudpickle<1.7.0,>=1.2.0 in /usr/local/lib/python3.11/dist-packages (from gym==0.17.3) (1.6.0)\n",
            "Requirement already satisfied: future in /usr/local/lib/python3.11/dist-packages (from pyglet<=1.5.0,>=1.4.0->gym==0.17.3) (1.0.0)\n",
            "Collecting git+https://github.com/Kojoley/atari-py.git\n",
            "  Cloning https://github.com/Kojoley/atari-py.git to /tmp/pip-req-build-01rwxxia\n",
            "  Running command git clone --filter=blob:none --quiet https://github.com/Kojoley/atari-py.git /tmp/pip-req-build-01rwxxia\n",
            "  Resolved https://github.com/Kojoley/atari-py.git to commit 86a1e05c0a95e9e6233c3a413521fdb34ca8a089\n",
            "  Preparing metadata (setup.py) ... \u001b[?25l\u001b[?25hdone\n",
            "Requirement already satisfied: numpy in /usr/local/lib/python3.11/dist-packages (from atari-py==1.2.2) (1.23.5)\n",
            "Requirement already satisfied: keras-rl2==1.0.5 in /usr/local/lib/python3.11/dist-packages (1.0.5)\n",
            "Requirement already satisfied: tensorflow in /usr/local/lib/python3.11/dist-packages (from keras-rl2==1.0.5) (2.12.0)\n",
            "Requirement already satisfied: absl-py>=1.0.0 in /usr/local/lib/python3.11/dist-packages (from tensorflow->keras-rl2==1.0.5) (1.4.0)\n",
            "Requirement already satisfied: astunparse>=1.6.0 in /usr/local/lib/python3.11/dist-packages (from tensorflow->keras-rl2==1.0.5) (1.6.3)\n",
            "Requirement already satisfied: flatbuffers>=2.0 in /usr/local/lib/python3.11/dist-packages (from tensorflow->keras-rl2==1.0.5) (25.2.10)\n",
            "Requirement already satisfied: gast<=0.4.0,>=0.2.1 in /usr/local/lib/python3.11/dist-packages (from tensorflow->keras-rl2==1.0.5) (0.4.0)\n",
            "Requirement already satisfied: google-pasta>=0.1.1 in /usr/local/lib/python3.11/dist-packages (from tensorflow->keras-rl2==1.0.5) (0.2.0)\n",
            "Requirement already satisfied: grpcio<2.0,>=1.24.3 in /usr/local/lib/python3.11/dist-packages (from tensorflow->keras-rl2==1.0.5) (1.73.0)\n",
            "Requirement already satisfied: h5py>=2.9.0 in /usr/local/lib/python3.11/dist-packages (from tensorflow->keras-rl2==1.0.5) (3.14.0)\n",
            "Requirement already satisfied: jax>=0.3.15 in /usr/local/lib/python3.11/dist-packages (from tensorflow->keras-rl2==1.0.5) (0.4.30)\n",
            "Requirement already satisfied: keras<2.13,>=2.12.0 in /usr/local/lib/python3.11/dist-packages (from tensorflow->keras-rl2==1.0.5) (2.12.0)\n",
            "Requirement already satisfied: libclang>=13.0.0 in /usr/local/lib/python3.11/dist-packages (from tensorflow->keras-rl2==1.0.5) (18.1.1)\n",
            "Requirement already satisfied: numpy<1.24,>=1.22 in /usr/local/lib/python3.11/dist-packages (from tensorflow->keras-rl2==1.0.5) (1.23.5)\n",
            "Requirement already satisfied: opt-einsum>=2.3.2 in /usr/local/lib/python3.11/dist-packages (from tensorflow->keras-rl2==1.0.5) (3.4.0)\n",
            "Requirement already satisfied: packaging in /usr/local/lib/python3.11/dist-packages (from tensorflow->keras-rl2==1.0.5) (24.2)\n",
            "Requirement already satisfied: protobuf!=4.21.0,!=4.21.1,!=4.21.2,!=4.21.3,!=4.21.4,!=4.21.5,<5.0.0dev,>=3.20.3 in /usr/local/lib/python3.11/dist-packages (from tensorflow->keras-rl2==1.0.5) (4.25.8)\n",
            "Requirement already satisfied: setuptools in /usr/local/lib/python3.11/dist-packages (from tensorflow->keras-rl2==1.0.5) (75.2.0)\n",
            "Requirement already satisfied: six>=1.12.0 in /usr/local/lib/python3.11/dist-packages (from tensorflow->keras-rl2==1.0.5) (1.17.0)\n",
            "Requirement already satisfied: tensorboard<2.13,>=2.12 in /usr/local/lib/python3.11/dist-packages (from tensorflow->keras-rl2==1.0.5) (2.12.3)\n",
            "Requirement already satisfied: tensorflow-estimator<2.13,>=2.12.0 in /usr/local/lib/python3.11/dist-packages (from tensorflow->keras-rl2==1.0.5) (2.12.0)\n",
            "Requirement already satisfied: termcolor>=1.1.0 in /usr/local/lib/python3.11/dist-packages (from tensorflow->keras-rl2==1.0.5) (3.1.0)\n",
            "Requirement already satisfied: typing-extensions>=3.6.6 in /usr/local/lib/python3.11/dist-packages (from tensorflow->keras-rl2==1.0.5) (4.14.0)\n",
            "Requirement already satisfied: wrapt<1.15,>=1.11.0 in /usr/local/lib/python3.11/dist-packages (from tensorflow->keras-rl2==1.0.5) (1.14.1)\n",
            "Requirement already satisfied: tensorflow-io-gcs-filesystem>=0.23.1 in /usr/local/lib/python3.11/dist-packages (from tensorflow->keras-rl2==1.0.5) (0.37.1)\n",
            "Requirement already satisfied: wheel<1.0,>=0.23.0 in /usr/local/lib/python3.11/dist-packages (from astunparse>=1.6.0->tensorflow->keras-rl2==1.0.5) (0.45.1)\n",
            "Requirement already satisfied: jaxlib<=0.4.30,>=0.4.27 in /usr/local/lib/python3.11/dist-packages (from jax>=0.3.15->tensorflow->keras-rl2==1.0.5) (0.4.30)\n",
            "Requirement already satisfied: ml-dtypes>=0.2.0 in /usr/local/lib/python3.11/dist-packages (from jax>=0.3.15->tensorflow->keras-rl2==1.0.5) (0.4.1)\n",
            "Requirement already satisfied: scipy>=1.9 in /usr/local/lib/python3.11/dist-packages (from jax>=0.3.15->tensorflow->keras-rl2==1.0.5) (1.15.3)\n",
            "Requirement already satisfied: google-auth<3,>=1.6.3 in /usr/local/lib/python3.11/dist-packages (from tensorboard<2.13,>=2.12->tensorflow->keras-rl2==1.0.5) (2.38.0)\n",
            "Requirement already satisfied: google-auth-oauthlib<1.1,>=0.5 in /usr/local/lib/python3.11/dist-packages (from tensorboard<2.13,>=2.12->tensorflow->keras-rl2==1.0.5) (1.0.0)\n",
            "Requirement already satisfied: markdown>=2.6.8 in /usr/local/lib/python3.11/dist-packages (from tensorboard<2.13,>=2.12->tensorflow->keras-rl2==1.0.5) (3.8)\n",
            "Requirement already satisfied: requests<3,>=2.21.0 in /usr/local/lib/python3.11/dist-packages (from tensorboard<2.13,>=2.12->tensorflow->keras-rl2==1.0.5) (2.32.3)\n",
            "Requirement already satisfied: tensorboard-data-server<0.8.0,>=0.7.0 in /usr/local/lib/python3.11/dist-packages (from tensorboard<2.13,>=2.12->tensorflow->keras-rl2==1.0.5) (0.7.2)\n",
            "Requirement already satisfied: werkzeug>=1.0.1 in /usr/local/lib/python3.11/dist-packages (from tensorboard<2.13,>=2.12->tensorflow->keras-rl2==1.0.5) (3.1.3)\n",
            "Requirement already satisfied: cachetools<6.0,>=2.0.0 in /usr/local/lib/python3.11/dist-packages (from google-auth<3,>=1.6.3->tensorboard<2.13,>=2.12->tensorflow->keras-rl2==1.0.5) (5.5.2)\n",
            "Requirement already satisfied: pyasn1-modules>=0.2.1 in /usr/local/lib/python3.11/dist-packages (from google-auth<3,>=1.6.3->tensorboard<2.13,>=2.12->tensorflow->keras-rl2==1.0.5) (0.4.2)\n",
            "Requirement already satisfied: rsa<5,>=3.1.4 in /usr/local/lib/python3.11/dist-packages (from google-auth<3,>=1.6.3->tensorboard<2.13,>=2.12->tensorflow->keras-rl2==1.0.5) (4.9.1)\n",
            "Requirement already satisfied: requests-oauthlib>=0.7.0 in /usr/local/lib/python3.11/dist-packages (from google-auth-oauthlib<1.1,>=0.5->tensorboard<2.13,>=2.12->tensorflow->keras-rl2==1.0.5) (2.0.0)\n",
            "Requirement already satisfied: charset-normalizer<4,>=2 in /usr/local/lib/python3.11/dist-packages (from requests<3,>=2.21.0->tensorboard<2.13,>=2.12->tensorflow->keras-rl2==1.0.5) (3.4.2)\n",
            "Requirement already satisfied: idna<4,>=2.5 in /usr/local/lib/python3.11/dist-packages (from requests<3,>=2.21.0->tensorboard<2.13,>=2.12->tensorflow->keras-rl2==1.0.5) (3.10)\n",
            "Requirement already satisfied: urllib3<3,>=1.21.1 in /usr/local/lib/python3.11/dist-packages (from requests<3,>=2.21.0->tensorboard<2.13,>=2.12->tensorflow->keras-rl2==1.0.5) (2.4.0)\n",
            "Requirement already satisfied: certifi>=2017.4.17 in /usr/local/lib/python3.11/dist-packages (from requests<3,>=2.21.0->tensorboard<2.13,>=2.12->tensorflow->keras-rl2==1.0.5) (2025.4.26)\n",
            "Requirement already satisfied: MarkupSafe>=2.1.1 in /usr/local/lib/python3.11/dist-packages (from werkzeug>=1.0.1->tensorboard<2.13,>=2.12->tensorflow->keras-rl2==1.0.5) (3.0.2)\n",
            "Requirement already satisfied: pyasn1<0.7.0,>=0.6.1 in /usr/local/lib/python3.11/dist-packages (from pyasn1-modules>=0.2.1->google-auth<3,>=1.6.3->tensorboard<2.13,>=2.12->tensorflow->keras-rl2==1.0.5) (0.6.1)\n",
            "Requirement already satisfied: oauthlib>=3.0.0 in /usr/local/lib/python3.11/dist-packages (from requests-oauthlib>=0.7.0->google-auth-oauthlib<1.1,>=0.5->tensorboard<2.13,>=2.12->tensorflow->keras-rl2==1.0.5) (3.2.2)\n",
            "Requirement already satisfied: tensorflow==2.12 in /usr/local/lib/python3.11/dist-packages (2.12.0)\n",
            "Requirement already satisfied: absl-py>=1.0.0 in /usr/local/lib/python3.11/dist-packages (from tensorflow==2.12) (1.4.0)\n",
            "Requirement already satisfied: astunparse>=1.6.0 in /usr/local/lib/python3.11/dist-packages (from tensorflow==2.12) (1.6.3)\n",
            "Requirement already satisfied: flatbuffers>=2.0 in /usr/local/lib/python3.11/dist-packages (from tensorflow==2.12) (25.2.10)\n",
            "Requirement already satisfied: gast<=0.4.0,>=0.2.1 in /usr/local/lib/python3.11/dist-packages (from tensorflow==2.12) (0.4.0)\n",
            "Requirement already satisfied: google-pasta>=0.1.1 in /usr/local/lib/python3.11/dist-packages (from tensorflow==2.12) (0.2.0)\n",
            "Requirement already satisfied: grpcio<2.0,>=1.24.3 in /usr/local/lib/python3.11/dist-packages (from tensorflow==2.12) (1.73.0)\n",
            "Requirement already satisfied: h5py>=2.9.0 in /usr/local/lib/python3.11/dist-packages (from tensorflow==2.12) (3.14.0)\n",
            "Requirement already satisfied: jax>=0.3.15 in /usr/local/lib/python3.11/dist-packages (from tensorflow==2.12) (0.4.30)\n",
            "Requirement already satisfied: keras<2.13,>=2.12.0 in /usr/local/lib/python3.11/dist-packages (from tensorflow==2.12) (2.12.0)\n",
            "Requirement already satisfied: libclang>=13.0.0 in /usr/local/lib/python3.11/dist-packages (from tensorflow==2.12) (18.1.1)\n",
            "Requirement already satisfied: numpy<1.24,>=1.22 in /usr/local/lib/python3.11/dist-packages (from tensorflow==2.12) (1.23.5)\n",
            "Requirement already satisfied: opt-einsum>=2.3.2 in /usr/local/lib/python3.11/dist-packages (from tensorflow==2.12) (3.4.0)\n",
            "Requirement already satisfied: packaging in /usr/local/lib/python3.11/dist-packages (from tensorflow==2.12) (24.2)\n",
            "Requirement already satisfied: protobuf!=4.21.0,!=4.21.1,!=4.21.2,!=4.21.3,!=4.21.4,!=4.21.5,<5.0.0dev,>=3.20.3 in /usr/local/lib/python3.11/dist-packages (from tensorflow==2.12) (4.25.8)\n",
            "Requirement already satisfied: setuptools in /usr/local/lib/python3.11/dist-packages (from tensorflow==2.12) (75.2.0)\n",
            "Requirement already satisfied: six>=1.12.0 in /usr/local/lib/python3.11/dist-packages (from tensorflow==2.12) (1.17.0)\n",
            "Requirement already satisfied: tensorboard<2.13,>=2.12 in /usr/local/lib/python3.11/dist-packages (from tensorflow==2.12) (2.12.3)\n",
            "Requirement already satisfied: tensorflow-estimator<2.13,>=2.12.0 in /usr/local/lib/python3.11/dist-packages (from tensorflow==2.12) (2.12.0)\n",
            "Requirement already satisfied: termcolor>=1.1.0 in /usr/local/lib/python3.11/dist-packages (from tensorflow==2.12) (3.1.0)\n",
            "Requirement already satisfied: typing-extensions>=3.6.6 in /usr/local/lib/python3.11/dist-packages (from tensorflow==2.12) (4.14.0)\n",
            "Requirement already satisfied: wrapt<1.15,>=1.11.0 in /usr/local/lib/python3.11/dist-packages (from tensorflow==2.12) (1.14.1)\n",
            "Requirement already satisfied: tensorflow-io-gcs-filesystem>=0.23.1 in /usr/local/lib/python3.11/dist-packages (from tensorflow==2.12) (0.37.1)\n",
            "Requirement already satisfied: wheel<1.0,>=0.23.0 in /usr/local/lib/python3.11/dist-packages (from astunparse>=1.6.0->tensorflow==2.12) (0.45.1)\n",
            "Requirement already satisfied: jaxlib<=0.4.30,>=0.4.27 in /usr/local/lib/python3.11/dist-packages (from jax>=0.3.15->tensorflow==2.12) (0.4.30)\n",
            "Requirement already satisfied: ml-dtypes>=0.2.0 in /usr/local/lib/python3.11/dist-packages (from jax>=0.3.15->tensorflow==2.12) (0.4.1)\n",
            "Requirement already satisfied: scipy>=1.9 in /usr/local/lib/python3.11/dist-packages (from jax>=0.3.15->tensorflow==2.12) (1.15.3)\n",
            "Requirement already satisfied: google-auth<3,>=1.6.3 in /usr/local/lib/python3.11/dist-packages (from tensorboard<2.13,>=2.12->tensorflow==2.12) (2.38.0)\n",
            "Requirement already satisfied: google-auth-oauthlib<1.1,>=0.5 in /usr/local/lib/python3.11/dist-packages (from tensorboard<2.13,>=2.12->tensorflow==2.12) (1.0.0)\n",
            "Requirement already satisfied: markdown>=2.6.8 in /usr/local/lib/python3.11/dist-packages (from tensorboard<2.13,>=2.12->tensorflow==2.12) (3.8)\n",
            "Requirement already satisfied: requests<3,>=2.21.0 in /usr/local/lib/python3.11/dist-packages (from tensorboard<2.13,>=2.12->tensorflow==2.12) (2.32.3)\n",
            "Requirement already satisfied: tensorboard-data-server<0.8.0,>=0.7.0 in /usr/local/lib/python3.11/dist-packages (from tensorboard<2.13,>=2.12->tensorflow==2.12) (0.7.2)\n",
            "Requirement already satisfied: werkzeug>=1.0.1 in /usr/local/lib/python3.11/dist-packages (from tensorboard<2.13,>=2.12->tensorflow==2.12) (3.1.3)\n",
            "Requirement already satisfied: cachetools<6.0,>=2.0.0 in /usr/local/lib/python3.11/dist-packages (from google-auth<3,>=1.6.3->tensorboard<2.13,>=2.12->tensorflow==2.12) (5.5.2)\n",
            "Requirement already satisfied: pyasn1-modules>=0.2.1 in /usr/local/lib/python3.11/dist-packages (from google-auth<3,>=1.6.3->tensorboard<2.13,>=2.12->tensorflow==2.12) (0.4.2)\n",
            "Requirement already satisfied: rsa<5,>=3.1.4 in /usr/local/lib/python3.11/dist-packages (from google-auth<3,>=1.6.3->tensorboard<2.13,>=2.12->tensorflow==2.12) (4.9.1)\n",
            "Requirement already satisfied: requests-oauthlib>=0.7.0 in /usr/local/lib/python3.11/dist-packages (from google-auth-oauthlib<1.1,>=0.5->tensorboard<2.13,>=2.12->tensorflow==2.12) (2.0.0)\n",
            "Requirement already satisfied: charset-normalizer<4,>=2 in /usr/local/lib/python3.11/dist-packages (from requests<3,>=2.21.0->tensorboard<2.13,>=2.12->tensorflow==2.12) (3.4.2)\n",
            "Requirement already satisfied: idna<4,>=2.5 in /usr/local/lib/python3.11/dist-packages (from requests<3,>=2.21.0->tensorboard<2.13,>=2.12->tensorflow==2.12) (3.10)\n",
            "Requirement already satisfied: urllib3<3,>=1.21.1 in /usr/local/lib/python3.11/dist-packages (from requests<3,>=2.21.0->tensorboard<2.13,>=2.12->tensorflow==2.12) (2.4.0)\n",
            "Requirement already satisfied: certifi>=2017.4.17 in /usr/local/lib/python3.11/dist-packages (from requests<3,>=2.21.0->tensorboard<2.13,>=2.12->tensorflow==2.12) (2025.4.26)\n",
            "Requirement already satisfied: MarkupSafe>=2.1.1 in /usr/local/lib/python3.11/dist-packages (from werkzeug>=1.0.1->tensorboard<2.13,>=2.12->tensorflow==2.12) (3.0.2)\n",
            "Requirement already satisfied: pyasn1<0.7.0,>=0.6.1 in /usr/local/lib/python3.11/dist-packages (from pyasn1-modules>=0.2.1->google-auth<3,>=1.6.3->tensorboard<2.13,>=2.12->tensorflow==2.12) (0.6.1)\n",
            "Requirement already satisfied: oauthlib>=3.0.0 in /usr/local/lib/python3.11/dist-packages (from requests-oauthlib>=0.7.0->google-auth-oauthlib<1.1,>=0.5->tensorboard<2.13,>=2.12->tensorflow==2.12) (3.2.2)\n"
          ]
        }
      ]
    },
    {
      "cell_type": "markdown",
      "source": [
        "## **PARTE 3**. Desarrollo y preguntas\n",
        "Importar librerías"
      ],
      "metadata": {
        "id": "mS60Dk-KO5e3"
      }
    },
    {
      "cell_type": "code",
      "source": [
        "from __future__ import division\n",
        "\n",
        "from PIL import Image\n",
        "import numpy as np\n",
        "import gym\n",
        "\n",
        "from tensorflow.keras.models import Sequential\n",
        "from tensorflow.keras.layers import Dense, Activation, Flatten, Convolution2D, Permute, BatchNormalization\n",
        "#from tensorflow.keras.optimizers import Adam\n",
        "import tensorflow.keras.backend as K\n",
        "\n",
        "from rl.agents.dqn import DQNAgent\n",
        "from rl.policy import LinearAnnealedPolicy, BoltzmannQPolicy, EpsGreedyQPolicy\n",
        "from rl.memory import SequentialMemory\n",
        "from rl.core import Processor\n",
        "from rl.callbacks import FileLogger, ModelIntervalCheckpoint"
      ],
      "metadata": {
        "id": "RX-2z9T1NPp_"
      },
      "execution_count": 8,
      "outputs": []
    },
    {
      "cell_type": "markdown",
      "source": [
        "#### Configuración base"
      ],
      "metadata": {
        "id": "NqJbsVR7POZA"
      }
    },
    {
      "cell_type": "code",
      "source": [
        "INPUT_SHAPE = (84, 84)\n",
        "WINDOW_LENGTH = 4\n",
        "\n",
        "env_name = 'SpaceInvaders-v0'\n",
        "env = gym.make(env_name)\n",
        "\n",
        "np.random.seed(123)\n",
        "env.seed(123)\n",
        "nb_actions = env.action_space.n\n",
        "\n",
        "#--- nuevo -- ejfm\n",
        "height, width, channels = env.observation_space.shape\n",
        "obs = env.reset()\n",
        "print(height, width, channels)\n",
        "print(\"Forma de la observación:\", obs.shape)  # Debe ser (height, width, channels)\n",
        "env.unwrapped.get_action_meanings()"
      ],
      "metadata": {
        "colab": {
          "base_uri": "https://localhost:8080/"
        },
        "id": "0FlafEtvOKR4",
        "outputId": "20dce487-ea33-4174-8a9e-0f442b7b9e10"
      },
      "execution_count": 9,
      "outputs": [
        {
          "output_type": "stream",
          "name": "stdout",
          "text": [
            "210 160 3\n",
            "Forma de la observación: (210, 160, 3)\n"
          ]
        },
        {
          "output_type": "execute_result",
          "data": {
            "text/plain": [
              "['NOOP', 'FIRE', 'RIGHT', 'LEFT', 'RIGHTFIRE', 'LEFTFIRE']"
            ]
          },
          "metadata": {},
          "execution_count": 9
        }
      ]
    },
    {
      "cell_type": "code",
      "source": [
        "class AtariProcessor(Processor):\n",
        "    def process_observation(self, observation):\n",
        "        assert observation.ndim == 3  # (height, width, channel)\n",
        "        img = Image.fromarray(observation)\n",
        "        img = img.resize(INPUT_SHAPE).convert('L')\n",
        "        processed_observation = np.array(img)\n",
        "        assert processed_observation.shape == INPUT_SHAPE\n",
        "        return processed_observation.astype('uint8')\n",
        "\n",
        "    def process_state_batch(self, batch):\n",
        "\n",
        "        # ejfm -- modificado\n",
        "        # Agrega la dimensión de canales (axis=-1) si no está presente\n",
        "        if batch.ndim == 4:                         # Forma: (batch_size, window_length, h, w)\n",
        "            batch = np.expand_dims(batch, axis=-1)  # Nueva forma: (batch_size, window_length, h, w, 1)\n",
        "            processed_batch = batch.astype('float32') / 255.\n",
        "        return processed_batch\n",
        "\n",
        "    def process_reward(self, reward):\n",
        "        return np.clip(reward, -1., 1.)"
      ],
      "metadata": {
        "id": "YSGPGszsOOAw"
      },
      "execution_count": 10,
      "outputs": []
    },
    {
      "cell_type": "markdown",
      "source": [
        "## 1. EJFM Implementación de la red neuronal"
      ],
      "metadata": {
        "id": "Sg54U9vFZEBQ"
      }
    },
    {
      "cell_type": "code",
      "source": [
        "# Habilita estas opciones ANTES de crear el modelo\n",
        "import tensorflow as tf\n",
        "\n",
        "physical_devices = tf.config.list_physical_devices('GPU')\n",
        "if physical_devices:\n",
        "    tf.config.experimental.set_memory_growth(physical_devices[0], True)\n",
        "    tf.config.optimizer.set_jit(True)  # Habilita XLA para aceleración\n",
        "\n",
        "# Aceleración XLA (compilación optimizada)\n",
        "tf.config.optimizer.set_jit(True)"
      ],
      "metadata": {
        "id": "apBzlkW9FOWg"
      },
      "execution_count": 15,
      "outputs": []
    },
    {
      "cell_type": "code",
      "source": [
        "def build_model(height, width, channels, actions):\n",
        "    model = Sequential()\n",
        "\n",
        "    # Capa 1: Conv2D con BatchNorm y ReLU\n",
        "    model.add(Convolution2D(32, (8, 8), strides=4, padding='same', input_shape=(4,84,84,1)))\n",
        "    model.add(Activation('relu'))\n",
        "\n",
        "    # Capa 2: Conv2D con BatchNorm y ReLU\n",
        "    model.add(Convolution2D(64, (4, 4), strides=2, padding='same'))\n",
        "    model.add(Activation('relu'))\n",
        "\n",
        "    # Capa 3: Conv2D con BatchNorm y ReLU\n",
        "    model.add(Convolution2D(64, (3, 3), padding='same'))\n",
        "    model.add(Activation('relu'))\n",
        "\n",
        "    # Aplanar + Capas Dense\n",
        "    model.add(Flatten())\n",
        "\n",
        "    # Capa Fully Connected con Dropout\n",
        "    model.add(Dense(512))\n",
        "    model.add(Activation('relu'))\n",
        "\n",
        "    # Capa de salida\n",
        "    model.add(Dense(actions, activation='linear'))\n",
        "\n",
        "    return model"
      ],
      "metadata": {
        "id": "JhwO3z2oPVq3"
      },
      "execution_count": 16,
      "outputs": []
    },
    {
      "cell_type": "code",
      "source": [
        "model = build_model(84, 84, 1, nb_actions)\n",
        "model.summary()"
      ],
      "metadata": {
        "id": "3eBwiHKuZ6J_",
        "colab": {
          "base_uri": "https://localhost:8080/"
        },
        "outputId": "9e1d546c-0f5d-4ae8-81eb-17a28796f4d1"
      },
      "execution_count": 17,
      "outputs": [
        {
          "output_type": "stream",
          "name": "stdout",
          "text": [
            "Model: \"sequential\"\n",
            "_________________________________________________________________\n",
            " Layer (type)                Output Shape              Param #   \n",
            "=================================================================\n",
            " conv2d (Conv2D)             (None, 4, 21, 21, 32)     2080      \n",
            "                                                                 \n",
            " activation (Activation)     (None, 4, 21, 21, 32)     0         \n",
            "                                                                 \n",
            " conv2d_1 (Conv2D)           (None, 4, 11, 11, 64)     32832     \n",
            "                                                                 \n",
            " activation_1 (Activation)   (None, 4, 11, 11, 64)     0         \n",
            "                                                                 \n",
            " conv2d_2 (Conv2D)           (None, 4, 11, 11, 64)     36928     \n",
            "                                                                 \n",
            " activation_2 (Activation)   (None, 4, 11, 11, 64)     0         \n",
            "                                                                 \n",
            " flatten (Flatten)           (None, 30976)             0         \n",
            "                                                                 \n",
            " dense (Dense)               (None, 512)               15860224  \n",
            "                                                                 \n",
            " activation_3 (Activation)   (None, 512)               0         \n",
            "                                                                 \n",
            " dense_1 (Dense)             (None, 6)                 3078      \n",
            "                                                                 \n",
            "=================================================================\n",
            "Total params: 15,935,142\n",
            "Trainable params: 15,935,142\n",
            "Non-trainable params: 0\n",
            "_________________________________________________________________\n"
          ]
        }
      ]
    },
    {
      "cell_type": "markdown",
      "source": [
        "## 2. EJFM Implementación de la solución DQN"
      ],
      "metadata": {
        "id": "KwJoe_1sZOX4"
      }
    },
    {
      "cell_type": "code",
      "source": [
        "from rl.agents import DQNAgent\n",
        "from rl.memory import SequentialMemory\n",
        "from rl.policy import LinearAnnealedPolicy, EpsGreedyQPolicy"
      ],
      "metadata": {
        "id": "_EDlLcIIPUsf"
      },
      "execution_count": 18,
      "outputs": []
    },
    {
      "cell_type": "code",
      "source": [
        "def build_agent(model, actions):\n",
        "    policy = LinearAnnealedPolicy(\n",
        "        EpsGreedyQPolicy(),\n",
        "        attr='eps',\n",
        "        value_max=1.0,\n",
        "        value_min=0.02,\n",
        "        value_test=0.005, nb_steps=50000)\n",
        "    memory = SequentialMemory(limit=50000, window_length=4)\n",
        "    dqn = DQNAgent(model=model,\n",
        "                   memory=memory,\n",
        "                   policy=policy,\n",
        "                   enable_double_dqn=True,\n",
        "                   enable_dueling_network=True,\n",
        "                   dueling_type='avg',\n",
        "                   nb_actions=nb_actions,\n",
        "                   batch_size=64,\n",
        "                   target_model_update=2500,\n",
        "                   processor=AtariProcessor(),\n",
        "                   nb_steps_warmup=10000\n",
        "                  )\n",
        "    return dqn"
      ],
      "metadata": {
        "id": "7FbbInVqR0sg"
      },
      "execution_count": 32,
      "outputs": []
    },
    {
      "cell_type": "code",
      "source": [
        "from rl.callbacks import ModelIntervalCheckpoint\n",
        "\n",
        "# Guardar el modelo cada 10,000 pasos\n",
        "checkpoint_callback = ModelIntervalCheckpoint(\n",
        "    filepath='checkpoints/dqn_v06_weights_{step}.h5f',\n",
        "    interval=10000,\n",
        "    verbose=1\n",
        ")"
      ],
      "metadata": {
        "id": "-TmOagBXbWr4"
      },
      "execution_count": 33,
      "outputs": []
    },
    {
      "cell_type": "code",
      "source": [
        "import os\n",
        "os.makedirs(\"checkpoints\", exist_ok=True)"
      ],
      "metadata": {
        "id": "9ztUDcBVbdtJ"
      },
      "execution_count": 34,
      "outputs": []
    },
    {
      "cell_type": "code",
      "source": [
        "from keras.optimizers import Adam\n",
        "\n",
        "dqn = build_agent(model, nb_actions)\n",
        "dqn.compile(Adam(learning_rate=0.00025, epsilon=1e-4))\n"
      ],
      "metadata": {
        "id": "V-jxyOrdR0cg"
      },
      "execution_count": 36,
      "outputs": []
    },
    {
      "cell_type": "code",
      "source": [
        "from datetime import datetime\n",
        "\n",
        "print(f\"⏱ Tiempo de inicio: {datetime.now().strftime('%H:%M:%S')}\")\n",
        "\n",
        "dqn.fit(env, nb_steps=200000, visualize=False, verbose=2,callbacks=[checkpoint_callback])\n",
        "\n",
        "print(f\"⏱ Tiempo de fin: {datetime.now().strftime('%H:%M:%S')}\")\n",
        "\n",
        "# Guardando modelo\n",
        "dqn.save_weights('dqn_06_weights.h5f')\n"
      ],
      "metadata": {
        "colab": {
          "base_uri": "https://localhost:8080/"
        },
        "id": "AR2u9_7LR0WI",
        "outputId": "c3696264-7f8a-4a44-f52a-478654822c6b"
      },
      "execution_count": 37,
      "outputs": [
        {
          "metadata": {
            "tags": null
          },
          "name": "stdout",
          "output_type": "stream",
          "text": [
            "⏱ Tiempo de inicio: 19:49:57\n",
            "Training for 200000 steps ...\n"
          ]
        },
        {
          "metadata": {
            "tags": null
          },
          "name": "stderr",
          "output_type": "stream",
          "text": [
            "/usr/local/lib/python3.11/dist-packages/keras/engine/training_v1.py:2359: UserWarning: `Model.state_updates` will be removed in a future version. This property should not be used in TensorFlow 2.0, as `updates` are applied automatically.\n",
            "  updates=self.state_updates,\n"
          ]
        },
        {
          "metadata": {
            "tags": null
          },
          "name": "stdout",
          "output_type": "stream",
          "text": [
            "    718/200000: episode: 1, duration: 4.467s, episode steps: 718, steps per second: 161, episode reward: 11.000, mean reward:  0.015 [ 0.000,  1.000], mean action: 2.461 [0.000, 5.000],  loss: --, mean_q: --, mean_eps: --\n",
            "   1103/200000: episode: 2, duration: 2.230s, episode steps: 385, steps per second: 173, episode reward:  7.000, mean reward:  0.018 [ 0.000,  1.000], mean action: 2.538 [0.000, 5.000],  loss: --, mean_q: --, mean_eps: --\n",
            "   1926/200000: episode: 3, duration: 4.721s, episode steps: 823, steps per second: 174, episode reward: 12.000, mean reward:  0.015 [ 0.000,  1.000], mean action: 2.464 [0.000, 5.000],  loss: --, mean_q: --, mean_eps: --\n",
            "   2451/200000: episode: 4, duration: 3.022s, episode steps: 525, steps per second: 174, episode reward:  9.000, mean reward:  0.017 [ 0.000,  1.000], mean action: 2.505 [0.000, 5.000],  loss: --, mean_q: --, mean_eps: --\n",
            "   3773/200000: episode: 5, duration: 7.741s, episode steps: 1322, steps per second: 171, episode reward: 16.000, mean reward:  0.012 [ 0.000,  1.000], mean action: 2.465 [0.000, 5.000],  loss: --, mean_q: --, mean_eps: --\n",
            "   4373/200000: episode: 6, duration: 3.453s, episode steps: 600, steps per second: 174, episode reward: 10.000, mean reward:  0.017 [ 0.000,  1.000], mean action: 2.683 [0.000, 5.000],  loss: --, mean_q: --, mean_eps: --\n",
            "   4773/200000: episode: 7, duration: 2.370s, episode steps: 400, steps per second: 169, episode reward:  9.000, mean reward:  0.022 [ 0.000,  1.000], mean action: 2.695 [0.000, 5.000],  loss: --, mean_q: --, mean_eps: --\n",
            "   5298/200000: episode: 8, duration: 3.136s, episode steps: 525, steps per second: 167, episode reward:  8.000, mean reward:  0.015 [ 0.000,  1.000], mean action: 2.587 [0.000, 5.000],  loss: --, mean_q: --, mean_eps: --\n",
            "   5797/200000: episode: 9, duration: 2.837s, episode steps: 499, steps per second: 176, episode reward:  6.000, mean reward:  0.012 [ 0.000,  1.000], mean action: 2.573 [0.000, 5.000],  loss: --, mean_q: --, mean_eps: --\n",
            "   6437/200000: episode: 10, duration: 3.617s, episode steps: 640, steps per second: 177, episode reward: 18.000, mean reward:  0.028 [ 0.000,  1.000], mean action: 2.606 [0.000, 5.000],  loss: --, mean_q: --, mean_eps: --\n",
            "   7401/200000: episode: 11, duration: 5.552s, episode steps: 964, steps per second: 174, episode reward: 15.000, mean reward:  0.016 [ 0.000,  1.000], mean action: 2.564 [0.000, 5.000],  loss: --, mean_q: --, mean_eps: --\n",
            "   8058/200000: episode: 12, duration: 3.785s, episode steps: 657, steps per second: 174, episode reward:  8.000, mean reward:  0.012 [ 0.000,  1.000], mean action: 2.429 [0.000, 5.000],  loss: --, mean_q: --, mean_eps: --\n",
            "   8997/200000: episode: 13, duration: 5.389s, episode steps: 939, steps per second: 174, episode reward:  9.000, mean reward:  0.010 [ 0.000,  1.000], mean action: 2.581 [0.000, 5.000],  loss: --, mean_q: --, mean_eps: --\n",
            "   9947/200000: episode: 14, duration: 5.547s, episode steps: 950, steps per second: 171, episode reward: 17.000, mean reward:  0.018 [ 0.000,  1.000], mean action: 2.514 [0.000, 5.000],  loss: --, mean_q: --, mean_eps: --\n",
            "Step 10000: saving model to checkpoints/dqn_v06_weights_10000.h5f\n"
          ]
        },
        {
          "metadata": {
            "tags": null
          },
          "name": "stderr",
          "output_type": "stream",
          "text": [
            "/usr/local/lib/python3.11/dist-packages/keras/engine/training_v1.py:2359: UserWarning: `Model.state_updates` will be removed in a future version. This property should not be used in TensorFlow 2.0, as `updates` are applied automatically.\n",
            "  updates=self.state_updates,\n"
          ]
        },
        {
          "output_type": "stream",
          "name": "stdout",
          "text": [
            "  10904/200000: episode: 15, duration: 244.957s, episode steps: 957, steps per second:   4, episode reward: 15.000, mean reward:  0.016 [ 0.000,  1.000], mean action: 2.428 [0.000, 5.000],  loss: 0.007477, mean_q: 0.027210, mean_eps: 0.795141\n",
            "  11541/200000: episode: 16, duration: 172.316s, episode steps: 637, steps per second:   4, episode reward:  8.000, mean reward:  0.013 [ 0.000,  1.000], mean action: 2.454 [0.000, 5.000],  loss: 0.005559, mean_q: 0.030081, mean_eps: 0.780049\n",
            "  12044/200000: episode: 17, duration: 136.263s, episode steps: 503, steps per second:   4, episode reward:  5.000, mean reward:  0.010 [ 0.000,  1.000], mean action: 2.370 [0.000, 5.000],  loss: 0.004919, mean_q: 0.041190, mean_eps: 0.768877\n",
            "  13069/200000: episode: 18, duration: 277.354s, episode steps: 1025, steps per second:   4, episode reward: 23.000, mean reward:  0.022 [ 0.000,  1.000], mean action: 2.439 [0.000, 5.000],  loss: 0.005060, mean_q: 0.088964, mean_eps: 0.753902\n",
            "  13631/200000: episode: 19, duration: 151.828s, episode steps: 562, steps per second:   4, episode reward:  5.000, mean reward:  0.009 [ 0.000,  1.000], mean action: 2.313 [0.000, 5.000],  loss: 0.003954, mean_q: 0.122367, mean_eps: 0.738350\n",
            "  14195/200000: episode: 20, duration: 153.058s, episode steps: 564, steps per second:   4, episode reward:  6.000, mean reward:  0.011 [ 0.000,  1.000], mean action: 2.434 [0.000, 5.000],  loss: 0.002928, mean_q: 0.115298, mean_eps: 0.727315\n",
            "  15100/200000: episode: 21, duration: 244.807s, episode steps: 905, steps per second:   4, episode reward: 22.000, mean reward:  0.024 [ 0.000,  1.000], mean action: 2.450 [0.000, 5.000],  loss: 0.003307, mean_q: 0.123412, mean_eps: 0.712919\n",
            "  16151/200000: episode: 22, duration: 284.975s, episode steps: 1051, steps per second:   4, episode reward: 13.000, mean reward:  0.012 [ 0.000,  1.000], mean action: 2.560 [0.000, 5.000],  loss: 0.004117, mean_q: 0.194644, mean_eps: 0.693750\n",
            "  16532/200000: episode: 23, duration: 103.044s, episode steps: 381, steps per second:   4, episode reward:  5.000, mean reward:  0.013 [ 0.000,  1.000], mean action: 2.283 [0.000, 5.000],  loss: 0.002553, mean_q: 0.188755, mean_eps: 0.679716\n",
            "  17312/200000: episode: 24, duration: 211.046s, episode steps: 780, steps per second:   4, episode reward: 14.000, mean reward:  0.018 [ 0.000,  1.000], mean action: 2.382 [0.000, 5.000],  loss: 0.002154, mean_q: 0.183743, mean_eps: 0.668339\n",
            "  17694/200000: episode: 25, duration: 103.667s, episode steps: 382, steps per second:   4, episode reward:  6.000, mean reward:  0.016 [ 0.000,  1.000], mean action: 2.571 [0.000, 5.000],  loss: 0.005039, mean_q: 0.221516, mean_eps: 0.656951\n",
            "  18656/200000: episode: 26, duration: 260.145s, episode steps: 962, steps per second:   4, episode reward: 13.000, mean reward:  0.014 [ 0.000,  1.000], mean action: 2.561 [0.000, 5.000],  loss: 0.003796, mean_q: 0.255532, mean_eps: 0.643780\n",
            "  19576/200000: episode: 27, duration: 249.378s, episode steps: 920, steps per second:   4, episode reward: 16.000, mean reward:  0.017 [ 0.000,  1.000], mean action: 2.641 [0.000, 5.000],  loss: 0.002371, mean_q: 0.248723, mean_eps: 0.625336\n",
            "Step 20000: saving model to checkpoints/dqn_v06_weights_20000.h5f\n",
            "  20625/200000: episode: 28, duration: 284.786s, episode steps: 1049, steps per second:   4, episode reward: 18.000, mean reward:  0.017 [ 0.000,  1.000], mean action: 2.536 [0.000, 5.000],  loss: 0.004656, mean_q: 0.288653, mean_eps: 0.606040\n",
            "  21109/200000: episode: 29, duration: 131.338s, episode steps: 484, steps per second:   4, episode reward:  1.000, mean reward:  0.002 [ 0.000,  1.000], mean action: 2.331 [0.000, 5.000],  loss: 0.003614, mean_q: 0.314178, mean_eps: 0.591017\n",
            "  21779/200000: episode: 30, duration: 181.351s, episode steps: 670, steps per second:   4, episode reward:  7.000, mean reward:  0.010 [ 0.000,  1.000], mean action: 2.651 [0.000, 5.000],  loss: 0.002619, mean_q: 0.309697, mean_eps: 0.579707\n",
            "  22454/200000: episode: 31, duration: 183.749s, episode steps: 675, steps per second:   4, episode reward:  8.000, mean reward:  0.012 [ 0.000,  1.000], mean action: 2.433 [0.000, 5.000],  loss: 0.002271, mean_q: 0.307895, mean_eps: 0.566526\n",
            "  23070/200000: episode: 32, duration: 166.908s, episode steps: 616, steps per second:   4, episode reward:  7.000, mean reward:  0.011 [ 0.000,  1.000], mean action: 2.377 [0.000, 5.000],  loss: 0.005899, mean_q: 0.381216, mean_eps: 0.553875\n",
            "  23578/200000: episode: 33, duration: 137.444s, episode steps: 508, steps per second:   4, episode reward:  6.000, mean reward:  0.012 [ 0.000,  1.000], mean action: 2.299 [0.000, 5.000],  loss: 0.004088, mean_q: 0.386117, mean_eps: 0.542859\n",
            "  24414/200000: episode: 34, duration: 226.085s, episode steps: 836, steps per second:   4, episode reward: 12.000, mean reward:  0.014 [ 0.000,  1.000], mean action: 2.510 [0.000, 5.000],  loss: 0.003061, mean_q: 0.384329, mean_eps: 0.529688\n",
            "  25021/200000: episode: 35, duration: 164.257s, episode steps: 607, steps per second:   4, episode reward:  5.000, mean reward:  0.008 [ 0.000,  1.000], mean action: 2.582 [0.000, 5.000],  loss: 0.002928, mean_q: 0.380963, mean_eps: 0.515547\n",
            "  25715/200000: episode: 36, duration: 188.026s, episode steps: 694, steps per second:   4, episode reward:  7.000, mean reward:  0.010 [ 0.000,  1.000], mean action: 2.653 [0.000, 5.000],  loss: 0.005974, mean_q: 0.444991, mean_eps: 0.502797\n",
            "  26881/200000: episode: 37, duration: 315.316s, episode steps: 1166, steps per second:   4, episode reward: 17.000, mean reward:  0.015 [ 0.000,  1.000], mean action: 2.304 [0.000, 5.000],  loss: 0.003653, mean_q: 0.436970, mean_eps: 0.484569\n",
            "  27947/200000: episode: 38, duration: 288.372s, episode steps: 1066, steps per second:   4, episode reward: 21.000, mean reward:  0.020 [ 0.000,  1.000], mean action: 2.172 [0.000, 5.000],  loss: 0.004446, mean_q: 0.470363, mean_eps: 0.462695\n",
            "  28531/200000: episode: 39, duration: 158.181s, episode steps: 584, steps per second:   4, episode reward:  8.000, mean reward:  0.014 [ 0.000,  1.000], mean action: 2.586 [0.000, 5.000],  loss: 0.005096, mean_q: 0.509978, mean_eps: 0.446525\n",
            "  29146/200000: episode: 40, duration: 166.957s, episode steps: 615, steps per second:   4, episode reward:  7.000, mean reward:  0.011 [ 0.000,  1.000], mean action: 2.372 [0.000, 5.000],  loss: 0.003896, mean_q: 0.511799, mean_eps: 0.434775\n",
            "  29758/200000: episode: 41, duration: 165.922s, episode steps: 612, steps per second:   4, episode reward: 11.000, mean reward:  0.018 [ 0.000,  1.000], mean action: 2.296 [0.000, 5.000],  loss: 0.003655, mean_q: 0.506516, mean_eps: 0.422751\n",
            "Step 30000: saving model to checkpoints/dqn_v06_weights_30000.h5f\n",
            "  30150/200000: episode: 42, duration: 106.594s, episode steps: 392, steps per second:   4, episode reward:  5.000, mean reward:  0.013 [ 0.000,  1.000], mean action: 2.520 [0.000, 5.000],  loss: 0.004746, mean_q: 0.531859, mean_eps: 0.412911\n",
            "  30804/200000: episode: 43, duration: 177.158s, episode steps: 654, steps per second:   4, episode reward: 10.000, mean reward:  0.015 [ 0.000,  1.000], mean action: 2.682 [0.000, 5.000],  loss: 0.005865, mean_q: 0.569529, mean_eps: 0.402661\n",
            "  31508/200000: episode: 44, duration: 190.646s, episode steps: 704, steps per second:   4, episode reward:  8.000, mean reward:  0.011 [ 0.000,  1.000], mean action: 2.732 [0.000, 5.000],  loss: 0.004117, mean_q: 0.567349, mean_eps: 0.389352\n",
            "  32161/200000: episode: 45, duration: 176.786s, episode steps: 653, steps per second:   4, episode reward: 11.000, mean reward:  0.017 [ 0.000,  1.000], mean action: 2.292 [0.000, 5.000],  loss: 0.004105, mean_q: 0.566227, mean_eps: 0.376054\n",
            "  33110/200000: episode: 46, duration: 256.889s, episode steps: 949, steps per second:   4, episode reward: 17.000, mean reward:  0.018 [ 0.000,  1.000], mean action: 2.513 [0.000, 5.000],  loss: 0.005933, mean_q: 0.612615, mean_eps: 0.360354\n",
            "  33517/200000: episode: 47, duration: 110.310s, episode steps: 407, steps per second:   4, episode reward:  6.000, mean reward:  0.015 [ 0.000,  1.000], mean action: 2.251 [0.000, 5.000],  loss: 0.005659, mean_q: 0.634632, mean_eps: 0.347065\n",
            "  33900/200000: episode: 48, duration: 103.795s, episode steps: 383, steps per second:   4, episode reward:  5.000, mean reward:  0.013 [ 0.000,  1.000], mean action: 2.580 [0.000, 5.000],  loss: 0.004818, mean_q: 0.629219, mean_eps: 0.339323\n",
            "  34679/200000: episode: 49, duration: 210.789s, episode steps: 779, steps per second:   4, episode reward: 18.000, mean reward:  0.023 [ 0.000,  1.000], mean action: 2.479 [0.000, 5.000],  loss: 0.004688, mean_q: 0.633595, mean_eps: 0.327936\n",
            "  35360/200000: episode: 50, duration: 184.530s, episode steps: 681, steps per second:   4, episode reward: 10.000, mean reward:  0.015 [ 0.000,  1.000], mean action: 2.866 [0.000, 5.000],  loss: 0.006510, mean_q: 0.687410, mean_eps: 0.313628\n",
            "  36134/200000: episode: 51, duration: 209.753s, episode steps: 774, steps per second:   4, episode reward: 23.000, mean reward:  0.030 [ 0.000,  1.000], mean action: 2.292 [0.000, 5.000],  loss: 0.006562, mean_q: 0.719575, mean_eps: 0.299369\n",
            "  36628/200000: episode: 52, duration: 134.445s, episode steps: 494, steps per second:   4, episode reward:  7.000, mean reward:  0.014 [ 0.000,  1.000], mean action: 2.696 [0.000, 5.000],  loss: 0.005415, mean_q: 0.720123, mean_eps: 0.286942\n",
            "  37260/200000: episode: 53, duration: 171.800s, episode steps: 632, steps per second:   4, episode reward:  7.000, mean reward:  0.011 [ 0.000,  1.000], mean action: 2.358 [0.000, 5.000],  loss: 0.005371, mean_q: 0.717911, mean_eps: 0.275907\n",
            "  37616/200000: episode: 54, duration: 97.212s, episode steps: 356, steps per second:   4, episode reward:  5.000, mean reward:  0.014 [ 0.000,  1.000], mean action: 2.927 [0.000, 5.000],  loss: 0.005756, mean_q: 0.746855, mean_eps: 0.266225\n",
            "  38350/200000: episode: 55, duration: 199.070s, episode steps: 734, steps per second:   4, episode reward: 18.000, mean reward:  0.025 [ 0.000,  1.000], mean action: 2.433 [0.000, 5.000],  loss: 0.006739, mean_q: 0.774969, mean_eps: 0.255543\n",
            "  39078/200000: episode: 56, duration: 197.883s, episode steps: 728, steps per second:   4, episode reward: 14.000, mean reward:  0.019 [ 0.000,  1.000], mean action: 2.356 [0.000, 5.000],  loss: 0.005552, mean_q: 0.774966, mean_eps: 0.241215\n",
            "  39634/200000: episode: 57, duration: 150.814s, episode steps: 556, steps per second:   4, episode reward: 10.000, mean reward:  0.018 [ 0.000,  1.000], mean action: 2.052 [0.000, 5.000],  loss: 0.005075, mean_q: 0.778731, mean_eps: 0.228632\n",
            "Step 40000: saving model to checkpoints/dqn_v06_weights_40000.h5f\n",
            "  40461/200000: episode: 58, duration: 224.648s, episode steps: 827, steps per second:   4, episode reward: 15.000, mean reward:  0.018 [ 0.000,  1.000], mean action: 2.334 [0.000, 5.000],  loss: 0.006632, mean_q: 0.809197, mean_eps: 0.215079\n",
            "  41534/200000: episode: 59, duration: 291.092s, episode steps: 1073, steps per second:   4, episode reward: 13.000, mean reward:  0.012 [ 0.000,  1.000], mean action: 2.253 [0.000, 5.000],  loss: 0.006617, mean_q: 0.842362, mean_eps: 0.196459\n",
            "  42135/200000: episode: 60, duration: 163.147s, episode steps: 601, steps per second:   4, episode reward:  8.000, mean reward:  0.013 [ 0.000,  1.000], mean action: 2.436 [0.000, 5.000],  loss: 0.005783, mean_q: 0.839673, mean_eps: 0.180054\n",
            "  42889/200000: episode: 61, duration: 204.480s, episode steps: 754, steps per second:   4, episode reward: 15.000, mean reward:  0.020 [ 0.000,  1.000], mean action: 2.542 [0.000, 5.000],  loss: 0.006990, mean_q: 0.872588, mean_eps: 0.166775\n",
            "  43584/200000: episode: 62, duration: 188.576s, episode steps: 695, steps per second:   4, episode reward: 13.000, mean reward:  0.019 [ 0.000,  1.000], mean action: 2.600 [0.000, 5.000],  loss: 0.006857, mean_q: 0.909305, mean_eps: 0.152574\n",
            "  44120/200000: episode: 63, duration: 145.816s, episode steps: 536, steps per second:   4, episode reward:  9.000, mean reward:  0.017 [ 0.000,  1.000], mean action: 2.864 [0.000, 5.000],  loss: 0.006010, mean_q: 0.905438, mean_eps: 0.140511\n",
            "  45437/200000: episode: 64, duration: 357.071s, episode steps: 1317, steps per second:   4, episode reward: 27.000, mean reward:  0.021 [ 0.000,  1.000], mean action: 2.299 [0.000, 5.000],  loss: 0.006424, mean_q: 0.928926, mean_eps: 0.122351\n",
            "  46158/200000: episode: 65, duration: 195.369s, episode steps: 721, steps per second:   4, episode reward: 14.000, mean reward:  0.019 [ 0.000,  1.000], mean action: 2.261 [0.000, 5.000],  loss: 0.007294, mean_q: 0.971957, mean_eps: 0.102379\n",
            "  47284/200000: episode: 66, duration: 305.003s, episode steps: 1126, steps per second:   4, episode reward: 18.000, mean reward:  0.016 [ 0.000,  1.000], mean action: 2.208 [0.000, 5.000],  loss: 0.006223, mean_q: 0.973002, mean_eps: 0.084278\n",
            "  48173/200000: episode: 67, duration: 241.278s, episode steps: 889, steps per second:   4, episode reward: 14.000, mean reward:  0.016 [ 0.000,  1.000], mean action: 2.339 [0.000, 5.000],  loss: 0.007183, mean_q: 1.011499, mean_eps: 0.064531\n",
            "  48646/200000: episode: 68, duration: 128.470s, episode steps: 473, steps per second:   4, episode reward:  7.000, mean reward:  0.015 [ 0.000,  1.000], mean action: 2.442 [0.000, 5.000],  loss: 0.006372, mean_q: 1.015198, mean_eps: 0.051184\n",
            "  48953/200000: episode: 69, duration: 83.531s, episode steps: 307, steps per second:   4, episode reward:  2.000, mean reward:  0.007 [ 0.000,  1.000], mean action: 1.889 [0.000, 5.000],  loss: 0.006726, mean_q: 1.019561, mean_eps: 0.043540\n",
            "  49439/200000: episode: 70, duration: 132.085s, episode steps: 486, steps per second:   4, episode reward:  7.000, mean reward:  0.014 [ 0.000,  1.000], mean action: 1.979 [0.000, 5.000],  loss: 0.005970, mean_q: 1.021822, mean_eps: 0.035768\n",
            "Step 50000: saving model to checkpoints/dqn_v06_weights_50000.h5f\n",
            "  50240/200000: episode: 71, duration: 217.917s, episode steps: 801, steps per second:   4, episode reward: 11.000, mean reward:  0.014 [ 0.000,  1.000], mean action: 1.896 [0.000, 5.000],  loss: 0.006151, mean_q: 1.037322, mean_eps: 0.023857\n",
            "  51097/200000: episode: 72, duration: 233.663s, episode steps: 857, steps per second:   4, episode reward: 23.000, mean reward:  0.027 [ 0.000,  1.000], mean action: 2.369 [0.000, 5.000],  loss: 0.007113, mean_q: 1.068859, mean_eps: 0.020000\n",
            "  51488/200000: episode: 73, duration: 106.917s, episode steps: 391, steps per second:   4, episode reward:  7.000, mean reward:  0.018 [ 0.000,  1.000], mean action: 2.650 [0.000, 5.000],  loss: 0.006599, mean_q: 1.068184, mean_eps: 0.020000\n",
            "  52491/200000: episode: 74, duration: 273.370s, episode steps: 1003, steps per second:   4, episode reward: 23.000, mean reward:  0.023 [ 0.000,  1.000], mean action: 2.293 [0.000, 5.000],  loss: 0.005485, mean_q: 1.064956, mean_eps: 0.020000\n",
            "  53375/200000: episode: 75, duration: 241.038s, episode steps: 884, steps per second:   4, episode reward: 21.000, mean reward:  0.024 [ 0.000,  1.000], mean action: 2.143 [0.000, 5.000],  loss: 0.008088, mean_q: 1.125519, mean_eps: 0.020000\n",
            "  54081/200000: episode: 76, duration: 192.644s, episode steps: 706, steps per second:   4, episode reward: 14.000, mean reward:  0.020 [ 0.000,  1.000], mean action: 2.525 [0.000, 5.000],  loss: 0.006214, mean_q: 1.115574, mean_eps: 0.020000\n",
            "  55045/200000: episode: 77, duration: 262.960s, episode steps: 964, steps per second:   4, episode reward: 22.000, mean reward:  0.023 [ 0.000,  1.000], mean action: 2.286 [0.000, 5.000],  loss: 0.005576, mean_q: 1.116497, mean_eps: 0.020000\n",
            "  56004/200000: episode: 78, duration: 261.620s, episode steps: 959, steps per second:   4, episode reward: 15.000, mean reward:  0.016 [ 0.000,  1.000], mean action: 2.368 [0.000, 5.000],  loss: 0.007719, mean_q: 1.169757, mean_eps: 0.020000\n",
            "  57038/200000: episode: 79, duration: 281.912s, episode steps: 1034, steps per second:   4, episode reward: 21.000, mean reward:  0.020 [ 0.000,  1.000], mean action: 2.015 [0.000, 5.000],  loss: 0.005614, mean_q: 1.150738, mean_eps: 0.020000\n",
            "  57617/200000: episode: 80, duration: 158.079s, episode steps: 579, steps per second:   4, episode reward: 10.000, mean reward:  0.017 [ 0.000,  1.000], mean action: 2.508 [0.000, 5.000],  loss: 0.005624, mean_q: 1.149472, mean_eps: 0.020000\n",
            "  58633/200000: episode: 81, duration: 277.060s, episode steps: 1016, steps per second:   4, episode reward: 29.000, mean reward:  0.029 [ 0.000,  1.000], mean action: 1.948 [0.000, 5.000],  loss: 0.006721, mean_q: 1.196279, mean_eps: 0.020000\n",
            "  59103/200000: episode: 82, duration: 128.273s, episode steps: 470, steps per second:   4, episode reward:  9.000, mean reward:  0.019 [ 0.000,  1.000], mean action: 2.917 [0.000, 5.000],  loss: 0.005599, mean_q: 1.193361, mean_eps: 0.020000\n",
            "  59723/200000: episode: 83, duration: 169.272s, episode steps: 620, steps per second:   4, episode reward: 10.000, mean reward:  0.016 [ 0.000,  1.000], mean action: 2.173 [0.000, 5.000],  loss: 0.005158, mean_q: 1.193918, mean_eps: 0.020000\n",
            "Step 60000: saving model to checkpoints/dqn_v06_weights_60000.h5f\n",
            "  60392/200000: episode: 84, duration: 182.821s, episode steps: 669, steps per second:   4, episode reward:  9.000, mean reward:  0.013 [ 0.000,  1.000], mean action: 2.511 [0.000, 5.000],  loss: 0.006666, mean_q: 1.234324, mean_eps: 0.020000\n",
            "  61048/200000: episode: 85, duration: 179.194s, episode steps: 656, steps per second:   4, episode reward: 11.000, mean reward:  0.017 [ 0.000,  1.000], mean action: 2.360 [0.000, 5.000],  loss: 0.006818, mean_q: 1.264437, mean_eps: 0.020000\n",
            "  61810/200000: episode: 86, duration: 207.858s, episode steps: 762, steps per second:   4, episode reward: 16.000, mean reward:  0.021 [ 0.000,  1.000], mean action: 2.298 [0.000, 5.000],  loss: 0.005644, mean_q: 1.253267, mean_eps: 0.020000\n",
            "  62459/200000: episode: 87, duration: 177.201s, episode steps: 649, steps per second:   4, episode reward:  9.000, mean reward:  0.014 [ 0.000,  1.000], mean action: 2.296 [0.000, 5.000],  loss: 0.004970, mean_q: 1.249586, mean_eps: 0.020000\n",
            "  62860/200000: episode: 88, duration: 109.612s, episode steps: 401, steps per second:   4, episode reward:  6.000, mean reward:  0.015 [ 0.000,  1.000], mean action: 2.633 [0.000, 5.000],  loss: 0.006979, mean_q: 1.315092, mean_eps: 0.020000\n",
            "  63335/200000: episode: 89, duration: 129.481s, episode steps: 475, steps per second:   4, episode reward:  8.000, mean reward:  0.017 [ 0.000,  1.000], mean action: 2.387 [0.000, 5.000],  loss: 0.005726, mean_q: 1.303252, mean_eps: 0.020000\n",
            "  63717/200000: episode: 90, duration: 104.306s, episode steps: 382, steps per second:   4, episode reward:  6.000, mean reward:  0.016 [ 0.000,  1.000], mean action: 2.552 [0.000, 5.000],  loss: 0.006039, mean_q: 1.313119, mean_eps: 0.020000\n",
            "  64701/200000: episode: 91, duration: 267.915s, episode steps: 984, steps per second:   4, episode reward: 20.000, mean reward:  0.020 [ 0.000,  1.000], mean action: 2.360 [0.000, 5.000],  loss: 0.005305, mean_q: 1.305797, mean_eps: 0.020000\n",
            "  65083/200000: episode: 92, duration: 104.445s, episode steps: 382, steps per second:   4, episode reward:  9.000, mean reward:  0.024 [ 0.000,  1.000], mean action: 2.073 [0.000, 5.000],  loss: 0.005276, mean_q: 1.313913, mean_eps: 0.020000\n",
            "  65849/200000: episode: 93, duration: 208.811s, episode steps: 766, steps per second:   4, episode reward:  7.000, mean reward:  0.009 [ 0.000,  1.000], mean action: 2.009 [0.000, 5.000],  loss: 0.006103, mean_q: 1.322670, mean_eps: 0.020000\n",
            "  66740/200000: episode: 94, duration: 243.039s, episode steps: 891, steps per second:   4, episode reward: 22.000, mean reward:  0.025 [ 0.000,  1.000], mean action: 1.901 [0.000, 5.000],  loss: 0.005134, mean_q: 1.318684, mean_eps: 0.020000\n",
            "  67139/200000: episode: 95, duration: 108.948s, episode steps: 399, steps per second:   4, episode reward:  5.000, mean reward:  0.013 [ 0.000,  1.000], mean action: 2.584 [0.000, 5.000],  loss: 0.004951, mean_q: 1.310099, mean_eps: 0.020000\n",
            "  67739/200000: episode: 96, duration: 163.773s, episode steps: 600, steps per second:   4, episode reward: 10.000, mean reward:  0.017 [ 0.000,  1.000], mean action: 1.675 [0.000, 5.000],  loss: 0.005578, mean_q: 1.338830, mean_eps: 0.020000\n",
            "  68567/200000: episode: 97, duration: 225.668s, episode steps: 828, steps per second:   4, episode reward: 13.000, mean reward:  0.016 [ 0.000,  1.000], mean action: 2.059 [0.000, 5.000],  loss: 0.006190, mean_q: 1.369119, mean_eps: 0.020000\n",
            "  69087/200000: episode: 98, duration: 141.730s, episode steps: 520, steps per second:   4, episode reward: 10.000, mean reward:  0.019 [ 0.000,  1.000], mean action: 1.962 [0.000, 5.000],  loss: 0.005831, mean_q: 1.372463, mean_eps: 0.020000\n",
            "Step 70000: saving model to checkpoints/dqn_v06_weights_70000.h5f\n",
            "  70005/200000: episode: 99, duration: 250.422s, episode steps: 918, steps per second:   4, episode reward: 17.000, mean reward:  0.019 [ 0.000,  1.000], mean action: 2.245 [0.000, 5.000],  loss: 0.004781, mean_q: 1.365789, mean_eps: 0.020000\n",
            "  70587/200000: episode: 100, duration: 158.869s, episode steps: 582, steps per second:   4, episode reward:  4.000, mean reward:  0.007 [ 0.000,  1.000], mean action: 1.914 [0.000, 5.000],  loss: 0.007227, mean_q: 1.418187, mean_eps: 0.020000\n",
            "  71219/200000: episode: 101, duration: 172.526s, episode steps: 632, steps per second:   4, episode reward: 13.000, mean reward:  0.021 [ 0.000,  1.000], mean action: 2.487 [0.000, 5.000],  loss: 0.006085, mean_q: 1.408891, mean_eps: 0.020000\n",
            "  72109/200000: episode: 102, duration: 242.989s, episode steps: 890, steps per second:   4, episode reward: 16.000, mean reward:  0.018 [ 0.000,  1.000], mean action: 2.218 [0.000, 5.000],  loss: 0.005216, mean_q: 1.414030, mean_eps: 0.020000\n",
            "  72611/200000: episode: 103, duration: 137.204s, episode steps: 502, steps per second:   4, episode reward:  7.000, mean reward:  0.014 [ 0.000,  1.000], mean action: 2.665 [0.000, 5.000],  loss: 0.004898, mean_q: 1.427949, mean_eps: 0.020000\n",
            "  73063/200000: episode: 104, duration: 123.404s, episode steps: 452, steps per second:   4, episode reward:  6.000, mean reward:  0.013 [ 0.000,  1.000], mean action: 2.635 [0.000, 5.000],  loss: 0.007025, mean_q: 1.483774, mean_eps: 0.020000\n",
            "  73758/200000: episode: 105, duration: 189.659s, episode steps: 695, steps per second:   4, episode reward: 16.000, mean reward:  0.023 [ 0.000,  1.000], mean action: 2.243 [0.000, 5.000],  loss: 0.005784, mean_q: 1.478709, mean_eps: 0.020000\n",
            "  74423/200000: episode: 106, duration: 181.328s, episode steps: 665, steps per second:   4, episode reward:  8.000, mean reward:  0.012 [ 0.000,  1.000], mean action: 2.268 [0.000, 5.000],  loss: 0.005082, mean_q: 1.479191, mean_eps: 0.020000\n",
            "  75104/200000: episode: 107, duration: 185.769s, episode steps: 681, steps per second:   4, episode reward: 15.000, mean reward:  0.022 [ 0.000,  1.000], mean action: 2.480 [0.000, 5.000],  loss: 0.005627, mean_q: 1.490944, mean_eps: 0.020000\n",
            "  75689/200000: episode: 108, duration: 159.652s, episode steps: 585, steps per second:   4, episode reward:  7.000, mean reward:  0.012 [ 0.000,  1.000], mean action: 2.776 [0.000, 5.000],  loss: 0.006814, mean_q: 1.515585, mean_eps: 0.020000\n",
            "  76319/200000: episode: 109, duration: 171.831s, episode steps: 630, steps per second:   4, episode reward: 15.000, mean reward:  0.024 [ 0.000,  1.000], mean action: 2.216 [0.000, 5.000],  loss: 0.006067, mean_q: 1.509891, mean_eps: 0.020000\n",
            "  77676/200000: episode: 110, duration: 369.931s, episode steps: 1357, steps per second:   4, episode reward: 15.000, mean reward:  0.011 [ 0.000,  1.000], mean action: 1.985 [0.000, 5.000],  loss: 0.005889, mean_q: 1.518596, mean_eps: 0.020000\n",
            "  78281/200000: episode: 111, duration: 165.046s, episode steps: 605, steps per second:   4, episode reward:  7.000, mean reward:  0.012 [ 0.000,  1.000], mean action: 2.145 [0.000, 5.000],  loss: 0.006101, mean_q: 1.550110, mean_eps: 0.020000\n",
            "  79276/200000: episode: 112, duration: 271.905s, episode steps: 995, steps per second:   4, episode reward: 22.000, mean reward:  0.022 [ 0.000,  1.000], mean action: 2.357 [0.000, 5.000],  loss: 0.005389, mean_q: 1.556145, mean_eps: 0.020000\n",
            "  79867/200000: episode: 113, duration: 161.721s, episode steps: 591, steps per second:   4, episode reward:  8.000, mean reward:  0.014 [ 0.000,  1.000], mean action: 2.562 [0.000, 5.000],  loss: 0.004721, mean_q: 1.549010, mean_eps: 0.020000\n",
            "Step 80000: saving model to checkpoints/dqn_v06_weights_80000.h5f\n",
            "  80721/200000: episode: 114, duration: 233.448s, episode steps: 854, steps per second:   4, episode reward: 13.000, mean reward:  0.015 [ 0.000,  1.000], mean action: 3.047 [0.000, 5.000],  loss: 0.006127, mean_q: 1.590321, mean_eps: 0.020000\n",
            "  81825/200000: episode: 115, duration: 301.427s, episode steps: 1104, steps per second:   4, episode reward: 20.000, mean reward:  0.018 [ 0.000,  1.000], mean action: 2.225 [0.000, 5.000],  loss: 0.005447, mean_q: 1.601544, mean_eps: 0.020000\n",
            "  82772/200000: episode: 116, duration: 258.210s, episode steps: 947, steps per second:   4, episode reward: 15.000, mean reward:  0.016 [ 0.000,  1.000], mean action: 2.126 [0.000, 5.000],  loss: 0.005473, mean_q: 1.609070, mean_eps: 0.020000\n",
            "  83472/200000: episode: 117, duration: 190.879s, episode steps: 700, steps per second:   4, episode reward: 17.000, mean reward:  0.024 [ 0.000,  1.000], mean action: 2.611 [0.000, 5.000],  loss: 0.006086, mean_q: 1.646207, mean_eps: 0.020000\n",
            "  84176/200000: episode: 118, duration: 191.791s, episode steps: 704, steps per second:   4, episode reward: 15.000, mean reward:  0.021 [ 0.000,  1.000], mean action: 2.107 [0.000, 5.000],  loss: 0.005232, mean_q: 1.631619, mean_eps: 0.020000\n",
            "  84938/200000: episode: 119, duration: 207.651s, episode steps: 762, steps per second:   4, episode reward: 15.000, mean reward:  0.020 [ 0.000,  1.000], mean action: 2.396 [0.000, 5.000],  loss: 0.005051, mean_q: 1.639438, mean_eps: 0.020000\n",
            "  85816/200000: episode: 120, duration: 237.296s, episode steps: 878, steps per second:   4, episode reward: 19.000, mean reward:  0.022 [ 0.000,  1.000], mean action: 2.405 [0.000, 5.000],  loss: 0.005961, mean_q: 1.673474, mean_eps: 0.020000\n",
            "  86666/200000: episode: 121, duration: 229.679s, episode steps: 850, steps per second:   4, episode reward: 16.000, mean reward:  0.019 [ 0.000,  1.000], mean action: 2.265 [0.000, 5.000],  loss: 0.005045, mean_q: 1.674404, mean_eps: 0.020000\n",
            "  87320/200000: episode: 122, duration: 176.655s, episode steps: 654, steps per second:   4, episode reward: 11.000, mean reward:  0.017 [ 0.000,  1.000], mean action: 2.977 [0.000, 5.000],  loss: 0.004600, mean_q: 1.672442, mean_eps: 0.020000\n",
            "  87795/200000: episode: 123, duration: 128.384s, episode steps: 475, steps per second:   4, episode reward: 10.000, mean reward:  0.021 [ 0.000,  1.000], mean action: 2.851 [0.000, 5.000],  loss: 0.006023, mean_q: 1.710250, mean_eps: 0.020000\n",
            "  88455/200000: episode: 124, duration: 178.284s, episode steps: 660, steps per second:   4, episode reward:  7.000, mean reward:  0.011 [ 0.000,  1.000], mean action: 2.558 [0.000, 5.000],  loss: 0.005996, mean_q: 1.724612, mean_eps: 0.020000\n",
            "  89154/200000: episode: 125, duration: 188.710s, episode steps: 699, steps per second:   4, episode reward: 14.000, mean reward:  0.020 [ 0.000,  1.000], mean action: 2.230 [0.000, 5.000],  loss: 0.004858, mean_q: 1.715398, mean_eps: 0.020000\n",
            "  89728/200000: episode: 126, duration: 155.163s, episode steps: 574, steps per second:   4, episode reward:  8.000, mean reward:  0.014 [ 0.000,  1.000], mean action: 2.178 [0.000, 5.000],  loss: 0.004486, mean_q: 1.715878, mean_eps: 0.020000\n",
            "Step 90000: saving model to checkpoints/dqn_v06_weights_90000.h5f\n",
            "  90195/200000: episode: 127, duration: 126.511s, episode steps: 467, steps per second:   4, episode reward:  5.000, mean reward:  0.011 [ 0.000,  1.000], mean action: 2.139 [0.000, 5.000],  loss: 0.005499, mean_q: 1.734087, mean_eps: 0.020000\n",
            "  91261/200000: episode: 128, duration: 287.814s, episode steps: 1066, steps per second:   4, episode reward: 25.000, mean reward:  0.023 [ 0.000,  1.000], mean action: 2.167 [0.000, 5.000],  loss: 0.005849, mean_q: 1.745081, mean_eps: 0.020000\n",
            "  91890/200000: episode: 129, duration: 169.968s, episode steps: 629, steps per second:   4, episode reward: 12.000, mean reward:  0.019 [ 0.000,  1.000], mean action: 2.102 [0.000, 5.000],  loss: 0.004889, mean_q: 1.735605, mean_eps: 0.020000\n",
            "  92988/200000: episode: 130, duration: 296.628s, episode steps: 1098, steps per second:   4, episode reward: 25.000, mean reward:  0.023 [ 0.000,  1.000], mean action: 2.558 [0.000, 5.000],  loss: 0.005740, mean_q: 1.755017, mean_eps: 0.020000\n",
            "  93960/200000: episode: 131, duration: 262.374s, episode steps: 972, steps per second:   4, episode reward: 18.000, mean reward:  0.019 [ 0.000,  1.000], mean action: 2.583 [0.000, 5.000],  loss: 0.005491, mean_q: 1.775933, mean_eps: 0.020000\n",
            "  94479/200000: episode: 132, duration: 140.127s, episode steps: 519, steps per second:   4, episode reward: 10.000, mean reward:  0.019 [ 0.000,  1.000], mean action: 2.252 [0.000, 5.000],  loss: 0.004820, mean_q: 1.781647, mean_eps: 0.020000\n",
            "  95520/200000: episode: 133, duration: 281.117s, episode steps: 1041, steps per second:   4, episode reward: 23.000, mean reward:  0.022 [ 0.000,  1.000], mean action: 2.252 [0.000, 5.000],  loss: 0.005808, mean_q: 1.784157, mean_eps: 0.020000\n",
            "  96110/200000: episode: 134, duration: 159.426s, episode steps: 590, steps per second:   4, episode reward:  9.000, mean reward:  0.015 [ 0.000,  1.000], mean action: 2.541 [0.000, 5.000],  loss: 0.005458, mean_q: 1.786235, mean_eps: 0.020000\n",
            "  96552/200000: episode: 135, duration: 119.507s, episode steps: 442, steps per second:   4, episode reward:  7.000, mean reward:  0.016 [ 0.000,  1.000], mean action: 2.229 [0.000, 5.000],  loss: 0.005178, mean_q: 1.789989, mean_eps: 0.020000\n",
            "  96991/200000: episode: 136, duration: 118.801s, episode steps: 439, steps per second:   4, episode reward:  7.000, mean reward:  0.016 [ 0.000,  1.000], mean action: 2.367 [0.000, 5.000],  loss: 0.004408, mean_q: 1.790000, mean_eps: 0.020000\n",
            "  97624/200000: episode: 137, duration: 171.187s, episode steps: 633, steps per second:   4, episode reward: 11.000, mean reward:  0.017 [ 0.000,  1.000], mean action: 2.133 [0.000, 5.000],  loss: 0.005266, mean_q: 1.808182, mean_eps: 0.020000\n",
            "  98669/200000: episode: 138, duration: 282.205s, episode steps: 1045, steps per second:   4, episode reward: 18.000, mean reward:  0.017 [ 0.000,  1.000], mean action: 2.373 [0.000, 5.000],  loss: 0.006046, mean_q: 1.849139, mean_eps: 0.020000\n",
            "  99067/200000: episode: 139, duration: 107.734s, episode steps: 398, steps per second:   4, episode reward:  5.000, mean reward:  0.013 [ 0.000,  1.000], mean action: 2.312 [0.000, 5.000],  loss: 0.005033, mean_q: 1.852995, mean_eps: 0.020000\n",
            "  99836/200000: episode: 140, duration: 207.716s, episode steps: 769, steps per second:   4, episode reward: 15.000, mean reward:  0.020 [ 0.000,  1.000], mean action: 2.536 [0.000, 5.000],  loss: 0.004772, mean_q: 1.841383, mean_eps: 0.020000\n",
            "Step 100000: saving model to checkpoints/dqn_v06_weights_100000.h5f\n",
            " 100230/200000: episode: 141, duration: 106.841s, episode steps: 394, steps per second:   4, episode reward:  5.000, mean reward:  0.013 [ 0.000,  1.000], mean action: 2.810 [0.000, 5.000],  loss: 0.006094, mean_q: 1.881745, mean_eps: 0.020000\n",
            " 101322/200000: episode: 142, duration: 294.828s, episode steps: 1092, steps per second:   4, episode reward: 18.000, mean reward:  0.016 [ 0.000,  1.000], mean action: 2.235 [0.000, 5.000],  loss: 0.005407, mean_q: 1.900027, mean_eps: 0.020000\n",
            " 102046/200000: episode: 143, duration: 195.727s, episode steps: 724, steps per second:   4, episode reward: 18.000, mean reward:  0.025 [ 0.000,  1.000], mean action: 2.135 [0.000, 5.000],  loss: 0.004505, mean_q: 1.897175, mean_eps: 0.020000\n",
            " 102476/200000: episode: 144, duration: 116.326s, episode steps: 430, steps per second:   4, episode reward:  8.000, mean reward:  0.019 [ 0.000,  1.000], mean action: 2.144 [0.000, 5.000],  loss: 0.004480, mean_q: 1.899870, mean_eps: 0.020000\n",
            " 102998/200000: episode: 145, duration: 142.617s, episode steps: 522, steps per second:   4, episode reward: 12.000, mean reward:  0.023 [ 0.000,  1.000], mean action: 2.989 [0.000, 5.000],  loss: 0.006133, mean_q: 1.937127, mean_eps: 0.020000\n",
            " 103893/200000: episode: 146, duration: 244.151s, episode steps: 895, steps per second:   4, episode reward: 19.000, mean reward:  0.021 [ 0.000,  1.000], mean action: 2.323 [0.000, 5.000],  loss: 0.005600, mean_q: 1.932935, mean_eps: 0.020000\n",
            " 104255/200000: episode: 147, duration: 98.887s, episode steps: 362, steps per second:   4, episode reward:  6.000, mean reward:  0.017 [ 0.000,  1.000], mean action: 1.956 [0.000, 5.000],  loss: 0.005454, mean_q: 1.927608, mean_eps: 0.020000\n",
            " 104881/200000: episode: 148, duration: 170.845s, episode steps: 626, steps per second:   4, episode reward: 11.000, mean reward:  0.018 [ 0.000,  1.000], mean action: 2.602 [0.000, 5.000],  loss: 0.004796, mean_q: 1.917569, mean_eps: 0.020000\n",
            " 105799/200000: episode: 149, duration: 248.478s, episode steps: 918, steps per second:   4, episode reward: 21.000, mean reward:  0.023 [ 0.000,  1.000], mean action: 2.708 [0.000, 5.000],  loss: 0.006218, mean_q: 1.952935, mean_eps: 0.020000\n",
            " 106707/200000: episode: 150, duration: 245.383s, episode steps: 908, steps per second:   4, episode reward: 15.000, mean reward:  0.017 [ 0.000,  1.000], mean action: 2.164 [0.000, 5.000],  loss: 0.005383, mean_q: 1.956266, mean_eps: 0.020000\n",
            " 107832/200000: episode: 151, duration: 304.925s, episode steps: 1125, steps per second:   4, episode reward: 18.000, mean reward:  0.016 [ 0.000,  1.000], mean action: 2.361 [0.000, 5.000],  loss: 0.005431, mean_q: 1.971614, mean_eps: 0.020000\n",
            " 108412/200000: episode: 152, duration: 158.093s, episode steps: 580, steps per second:   4, episode reward: 12.000, mean reward:  0.021 [ 0.000,  1.000], mean action: 2.624 [0.000, 5.000],  loss: 0.005991, mean_q: 2.007345, mean_eps: 0.020000\n",
            " 108858/200000: episode: 153, duration: 121.730s, episode steps: 446, steps per second:   4, episode reward:  9.000, mean reward:  0.020 [ 0.000,  1.000], mean action: 2.040 [0.000, 5.000],  loss: 0.005737, mean_q: 2.000830, mean_eps: 0.020000\n",
            " 109484/200000: episode: 154, duration: 170.745s, episode steps: 626, steps per second:   4, episode reward: 10.000, mean reward:  0.016 [ 0.000,  1.000], mean action: 2.318 [0.000, 5.000],  loss: 0.005049, mean_q: 2.001612, mean_eps: 0.020000\n",
            "Step 110000: saving model to checkpoints/dqn_v06_weights_110000.h5f\n",
            " 110170/200000: episode: 155, duration: 187.457s, episode steps: 686, steps per second:   4, episode reward: 13.000, mean reward:  0.019 [ 0.000,  1.000], mean action: 2.144 [0.000, 5.000],  loss: 0.005353, mean_q: 2.006275, mean_eps: 0.020000\n",
            " 110805/200000: episode: 156, duration: 173.540s, episode steps: 635, steps per second:   4, episode reward: 10.000, mean reward:  0.016 [ 0.000,  1.000], mean action: 2.643 [0.000, 5.000],  loss: 0.006262, mean_q: 2.027042, mean_eps: 0.020000\n",
            " 111491/200000: episode: 157, duration: 187.226s, episode steps: 686, steps per second:   4, episode reward: 14.000, mean reward:  0.020 [ 0.000,  1.000], mean action: 2.197 [0.000, 5.000],  loss: 0.005670, mean_q: 2.022286, mean_eps: 0.020000\n",
            " 112214/200000: episode: 158, duration: 197.459s, episode steps: 723, steps per second:   4, episode reward: 12.000, mean reward:  0.017 [ 0.000,  1.000], mean action: 2.292 [0.000, 5.000],  loss: 0.004902, mean_q: 2.022743, mean_eps: 0.020000\n",
            " 112870/200000: episode: 159, duration: 179.048s, episode steps: 656, steps per second:   4, episode reward: 12.000, mean reward:  0.018 [ 0.000,  1.000], mean action: 2.700 [0.000, 5.000],  loss: 0.006004, mean_q: 2.048587, mean_eps: 0.020000\n",
            " 113865/200000: episode: 160, duration: 271.440s, episode steps: 995, steps per second:   4, episode reward: 13.000, mean reward:  0.013 [ 0.000,  1.000], mean action: 2.461 [0.000, 5.000],  loss: 0.005966, mean_q: 2.054602, mean_eps: 0.020000\n",
            " 114603/200000: episode: 161, duration: 201.541s, episode steps: 738, steps per second:   4, episode reward: 12.000, mean reward:  0.016 [ 0.000,  1.000], mean action: 2.726 [0.000, 5.000],  loss: 0.005131, mean_q: 2.042603, mean_eps: 0.020000\n",
            " 115354/200000: episode: 162, duration: 204.958s, episode steps: 751, steps per second:   4, episode reward: 15.000, mean reward:  0.020 [ 0.000,  1.000], mean action: 2.474 [0.000, 5.000],  loss: 0.006234, mean_q: 2.056648, mean_eps: 0.020000\n",
            " 115988/200000: episode: 163, duration: 173.304s, episode steps: 634, steps per second:   4, episode reward: 16.000, mean reward:  0.025 [ 0.000,  1.000], mean action: 2.615 [0.000, 5.000],  loss: 0.006964, mean_q: 2.052721, mean_eps: 0.020000\n",
            " 116992/200000: episode: 164, duration: 273.936s, episode steps: 1004, steps per second:   4, episode reward: 23.000, mean reward:  0.023 [ 0.000,  1.000], mean action: 2.653 [0.000, 5.000],  loss: 0.005523, mean_q: 2.056144, mean_eps: 0.020000\n",
            " 117699/200000: episode: 165, duration: 193.058s, episode steps: 707, steps per second:   4, episode reward: 11.000, mean reward:  0.016 [ 0.000,  1.000], mean action: 2.587 [0.000, 5.000],  loss: 0.005626, mean_q: 2.058954, mean_eps: 0.020000\n",
            " 118551/200000: episode: 166, duration: 232.330s, episode steps: 852, steps per second:   4, episode reward: 11.000, mean reward:  0.013 [ 0.000,  1.000], mean action: 2.325 [0.000, 5.000],  loss: 0.006030, mean_q: 2.112800, mean_eps: 0.020000\n",
            " 119416/200000: episode: 167, duration: 236.094s, episode steps: 865, steps per second:   4, episode reward: 15.000, mean reward:  0.017 [ 0.000,  1.000], mean action: 2.787 [0.000, 5.000],  loss: 0.005211, mean_q: 2.101963, mean_eps: 0.020000\n",
            " 119918/200000: episode: 168, duration: 137.185s, episode steps: 502, steps per second:   4, episode reward:  8.000, mean reward:  0.016 [ 0.000,  1.000], mean action: 2.839 [0.000, 5.000],  loss: 0.004285, mean_q: 2.104467, mean_eps: 0.020000\n",
            "Step 120000: saving model to checkpoints/dqn_v06_weights_120000.h5f\n",
            " 120488/200000: episode: 169, duration: 155.947s, episode steps: 570, steps per second:   4, episode reward: 13.000, mean reward:  0.023 [ 0.000,  1.000], mean action: 2.147 [0.000, 5.000],  loss: 0.005919, mean_q: 2.134013, mean_eps: 0.020000\n",
            " 121160/200000: episode: 170, duration: 183.397s, episode steps: 672, steps per second:   4, episode reward: 12.000, mean reward:  0.018 [ 0.000,  1.000], mean action: 2.347 [0.000, 5.000],  loss: 0.005806, mean_q: 2.126760, mean_eps: 0.020000\n",
            " 122005/200000: episode: 171, duration: 230.551s, episode steps: 845, steps per second:   4, episode reward: 14.000, mean reward:  0.017 [ 0.000,  1.000], mean action: 2.596 [0.000, 5.000],  loss: 0.005165, mean_q: 2.126632, mean_eps: 0.020000\n",
            " 123036/200000: episode: 172, duration: 281.201s, episode steps: 1031, steps per second:   4, episode reward: 18.000, mean reward:  0.017 [ 0.000,  1.000], mean action: 2.532 [0.000, 5.000],  loss: 0.005912, mean_q: 2.146809, mean_eps: 0.020000\n",
            " 123833/200000: episode: 173, duration: 217.342s, episode steps: 797, steps per second:   4, episode reward: 17.000, mean reward:  0.021 [ 0.000,  1.000], mean action: 2.503 [0.000, 5.000],  loss: 0.005924, mean_q: 2.177754, mean_eps: 0.020000\n",
            " 124405/200000: episode: 174, duration: 156.099s, episode steps: 572, steps per second:   4, episode reward: 16.000, mean reward:  0.028 [ 0.000,  1.000], mean action: 3.010 [0.000, 5.000],  loss: 0.005997, mean_q: 2.162479, mean_eps: 0.020000\n",
            " 125021/200000: episode: 175, duration: 168.110s, episode steps: 616, steps per second:   4, episode reward:  9.000, mean reward:  0.015 [ 0.000,  1.000], mean action: 2.432 [0.000, 5.000],  loss: 0.006070, mean_q: 2.172388, mean_eps: 0.020000\n",
            " 125577/200000: episode: 176, duration: 151.647s, episode steps: 556, steps per second:   4, episode reward:  9.000, mean reward:  0.016 [ 0.000,  1.000], mean action: 2.955 [0.000, 5.000],  loss: 0.007885, mean_q: 2.202198, mean_eps: 0.020000\n",
            " 126658/200000: episode: 177, duration: 294.781s, episode steps: 1081, steps per second:   4, episode reward: 19.000, mean reward:  0.018 [ 0.000,  1.000], mean action: 2.645 [0.000, 5.000],  loss: 0.006406, mean_q: 2.201523, mean_eps: 0.020000\n",
            " 127456/200000: episode: 178, duration: 217.539s, episode steps: 798, steps per second:   4, episode reward: 13.000, mean reward:  0.016 [ 0.000,  1.000], mean action: 2.758 [0.000, 5.000],  loss: 0.005617, mean_q: 2.191822, mean_eps: 0.020000\n",
            " 128684/200000: episode: 179, duration: 334.722s, episode steps: 1228, steps per second:   4, episode reward: 19.000, mean reward:  0.015 [ 0.000,  1.000], mean action: 2.761 [0.000, 5.000],  loss: 0.006829, mean_q: 2.207724, mean_eps: 0.020000\n",
            " 129196/200000: episode: 180, duration: 139.816s, episode steps: 512, steps per second:   4, episode reward: 10.000, mean reward:  0.020 [ 0.000,  1.000], mean action: 2.760 [0.000, 5.000],  loss: 0.006086, mean_q: 2.203167, mean_eps: 0.020000\n",
            "Step 130000: saving model to checkpoints/dqn_v06_weights_130000.h5f\n",
            " 130097/200000: episode: 181, duration: 246.045s, episode steps: 901, steps per second:   4, episode reward: 17.000, mean reward:  0.019 [ 0.000,  1.000], mean action: 2.340 [0.000, 5.000],  loss: 0.005839, mean_q: 2.214394, mean_eps: 0.020000\n",
            " 130841/200000: episode: 182, duration: 202.667s, episode steps: 744, steps per second:   4, episode reward: 19.000, mean reward:  0.026 [ 0.000,  1.000], mean action: 2.664 [0.000, 5.000],  loss: 0.007446, mean_q: 2.221579, mean_eps: 0.020000\n",
            " 131393/200000: episode: 183, duration: 150.474s, episode steps: 552, steps per second:   4, episode reward: 13.000, mean reward:  0.024 [ 0.000,  1.000], mean action: 3.230 [0.000, 5.000],  loss: 0.006530, mean_q: 2.227473, mean_eps: 0.020000\n",
            " 131735/200000: episode: 184, duration: 93.396s, episode steps: 342, steps per second:   4, episode reward:  7.000, mean reward:  0.020 [ 0.000,  1.000], mean action: 3.406 [0.000, 5.000],  loss: 0.006389, mean_q: 2.214624, mean_eps: 0.020000\n",
            " 132417/200000: episode: 185, duration: 186.026s, episode steps: 682, steps per second:   4, episode reward: 15.000, mean reward:  0.022 [ 0.000,  1.000], mean action: 2.350 [0.000, 5.000],  loss: 0.005723, mean_q: 2.219800, mean_eps: 0.020000\n",
            " 133090/200000: episode: 186, duration: 183.593s, episode steps: 673, steps per second:   4, episode reward: 13.000, mean reward:  0.019 [ 0.000,  1.000], mean action: 2.670 [0.000, 5.000],  loss: 0.007466, mean_q: 2.260625, mean_eps: 0.020000\n",
            " 133554/200000: episode: 187, duration: 126.640s, episode steps: 464, steps per second:   4, episode reward:  9.000, mean reward:  0.019 [ 0.000,  1.000], mean action: 2.627 [0.000, 5.000],  loss: 0.007432, mean_q: 2.252287, mean_eps: 0.020000\n",
            " 134562/200000: episode: 188, duration: 274.856s, episode steps: 1008, steps per second:   4, episode reward: 17.000, mean reward:  0.017 [ 0.000,  1.000], mean action: 2.395 [0.000, 5.000],  loss: 0.006238, mean_q: 2.246484, mean_eps: 0.020000\n",
            " 135391/200000: episode: 189, duration: 226.150s, episode steps: 829, steps per second:   4, episode reward: 20.000, mean reward:  0.024 [ 0.000,  1.000], mean action: 2.484 [0.000, 5.000],  loss: 0.007996, mean_q: 2.268844, mean_eps: 0.020000\n",
            " 136181/200000: episode: 190, duration: 215.431s, episode steps: 790, steps per second:   4, episode reward: 16.000, mean reward:  0.020 [ 0.000,  1.000], mean action: 3.149 [0.000, 5.000],  loss: 0.008328, mean_q: 2.284725, mean_eps: 0.020000\n",
            " 136822/200000: episode: 191, duration: 174.860s, episode steps: 641, steps per second:   4, episode reward: 12.000, mean reward:  0.019 [ 0.000,  1.000], mean action: 2.715 [0.000, 5.000],  loss: 0.007068, mean_q: 2.280185, mean_eps: 0.020000\n",
            " 137599/200000: episode: 192, duration: 211.933s, episode steps: 777, steps per second:   4, episode reward: 14.000, mean reward:  0.018 [ 0.000,  1.000], mean action: 2.479 [0.000, 5.000],  loss: 0.007596, mean_q: 2.278722, mean_eps: 0.020000\n",
            " 138070/200000: episode: 193, duration: 128.596s, episode steps: 471, steps per second:   4, episode reward: 10.000, mean reward:  0.021 [ 0.000,  1.000], mean action: 2.153 [0.000, 5.000],  loss: 0.009672, mean_q: 2.319911, mean_eps: 0.020000\n",
            " 138729/200000: episode: 194, duration: 179.771s, episode steps: 659, steps per second:   4, episode reward: 15.000, mean reward:  0.023 [ 0.000,  1.000], mean action: 2.486 [0.000, 5.000],  loss: 0.008526, mean_q: 2.317813, mean_eps: 0.020000\n",
            " 139623/200000: episode: 195, duration: 243.773s, episode steps: 894, steps per second:   4, episode reward: 22.000, mean reward:  0.025 [ 0.000,  1.000], mean action: 2.190 [0.000, 5.000],  loss: 0.007615, mean_q: 2.330921, mean_eps: 0.020000\n",
            " 139996/200000: episode: 196, duration: 101.941s, episode steps: 373, steps per second:   4, episode reward:  8.000, mean reward:  0.021 [ 0.000,  1.000], mean action: 2.397 [0.000, 5.000],  loss: 0.007503, mean_q: 2.329625, mean_eps: 0.020000\n",
            "Step 140000: saving model to checkpoints/dqn_v06_weights_140000.h5f\n",
            " 141124/200000: episode: 197, duration: 307.616s, episode steps: 1128, steps per second:   4, episode reward: 18.000, mean reward:  0.016 [ 0.000,  1.000], mean action: 2.067 [0.000, 5.000],  loss: 0.009011, mean_q: 2.357852, mean_eps: 0.020000\n",
            " 141766/200000: episode: 198, duration: 175.241s, episode steps: 642, steps per second:   4, episode reward: 11.000, mean reward:  0.017 [ 0.000,  1.000], mean action: 2.241 [0.000, 5.000],  loss: 0.007566, mean_q: 2.351841, mean_eps: 0.020000\n",
            " 142275/200000: episode: 199, duration: 138.903s, episode steps: 509, steps per second:   4, episode reward:  8.000, mean reward:  0.016 [ 0.000,  1.000], mean action: 2.593 [0.000, 5.000],  loss: 0.007425, mean_q: 2.351593, mean_eps: 0.020000\n",
            " 143090/200000: episode: 200, duration: 222.260s, episode steps: 815, steps per second:   4, episode reward: 13.000, mean reward:  0.016 [ 0.000,  1.000], mean action: 2.490 [0.000, 5.000],  loss: 0.008481, mean_q: 2.364806, mean_eps: 0.020000\n",
            " 143629/200000: episode: 201, duration: 147.059s, episode steps: 539, steps per second:   4, episode reward: 11.000, mean reward:  0.020 [ 0.000,  1.000], mean action: 3.004 [0.000, 5.000],  loss: 0.008445, mean_q: 2.371997, mean_eps: 0.020000\n",
            " 144292/200000: episode: 202, duration: 180.843s, episode steps: 663, steps per second:   4, episode reward: 15.000, mean reward:  0.023 [ 0.000,  1.000], mean action: 2.388 [0.000, 5.000],  loss: 0.008515, mean_q: 2.384244, mean_eps: 0.020000\n",
            " 144663/200000: episode: 203, duration: 101.288s, episode steps: 371, steps per second:   4, episode reward:  7.000, mean reward:  0.019 [ 0.000,  1.000], mean action: 2.957 [0.000, 5.000],  loss: 0.008304, mean_q: 2.382502, mean_eps: 0.020000\n",
            " 145337/200000: episode: 204, duration: 183.905s, episode steps: 674, steps per second:   4, episode reward: 12.000, mean reward:  0.018 [ 0.000,  1.000], mean action: 3.056 [0.000, 5.000],  loss: 0.008444, mean_q: 2.396962, mean_eps: 0.020000\n",
            " 146078/200000: episode: 205, duration: 201.985s, episode steps: 741, steps per second:   4, episode reward: 19.000, mean reward:  0.026 [ 0.000,  1.000], mean action: 2.652 [0.000, 5.000],  loss: 0.008436, mean_q: 2.413056, mean_eps: 0.020000\n",
            " 146571/200000: episode: 206, duration: 134.601s, episode steps: 493, steps per second:   4, episode reward: 11.000, mean reward:  0.022 [ 0.000,  1.000], mean action: 2.836 [0.000, 5.000],  loss: 0.007532, mean_q: 2.418972, mean_eps: 0.020000\n",
            " 147057/200000: episode: 207, duration: 132.719s, episode steps: 486, steps per second:   4, episode reward:  7.000, mean reward:  0.014 [ 0.000,  1.000], mean action: 2.912 [0.000, 5.000],  loss: 0.007571, mean_q: 2.417542, mean_eps: 0.020000\n",
            " 147490/200000: episode: 208, duration: 118.263s, episode steps: 433, steps per second:   4, episode reward: 11.000, mean reward:  0.025 [ 0.000,  1.000], mean action: 2.252 [0.000, 5.000],  loss: 0.006495, mean_q: 2.410061, mean_eps: 0.020000\n",
            " 148648/200000: episode: 209, duration: 315.904s, episode steps: 1158, steps per second:   4, episode reward: 20.000, mean reward:  0.017 [ 0.000,  1.000], mean action: 2.263 [0.000, 5.000],  loss: 0.008424, mean_q: 2.432908, mean_eps: 0.020000\n",
            " 149161/200000: episode: 210, duration: 139.955s, episode steps: 513, steps per second:   4, episode reward: 10.000, mean reward:  0.019 [ 0.000,  1.000], mean action: 2.509 [0.000, 5.000],  loss: 0.007985, mean_q: 2.438014, mean_eps: 0.020000\n",
            " 149839/200000: episode: 211, duration: 184.925s, episode steps: 678, steps per second:   4, episode reward: 11.000, mean reward:  0.016 [ 0.000,  1.000], mean action: 2.481 [0.000, 5.000],  loss: 0.007511, mean_q: 2.437969, mean_eps: 0.020000\n",
            "Step 150000: saving model to checkpoints/dqn_v06_weights_150000.h5f\n",
            " 150661/200000: episode: 212, duration: 224.598s, episode steps: 822, steps per second:   4, episode reward: 16.000, mean reward:  0.019 [ 0.000,  1.000], mean action: 2.582 [0.000, 5.000],  loss: 0.008643, mean_q: 2.478063, mean_eps: 0.020000\n",
            " 151438/200000: episode: 213, duration: 212.102s, episode steps: 777, steps per second:   4, episode reward: 20.000, mean reward:  0.026 [ 0.000,  1.000], mean action: 2.384 [0.000, 5.000],  loss: 0.008819, mean_q: 2.489846, mean_eps: 0.020000\n",
            " 152114/200000: episode: 214, duration: 184.725s, episode steps: 676, steps per second:   4, episode reward: 11.000, mean reward:  0.016 [ 0.000,  1.000], mean action: 2.257 [0.000, 5.000],  loss: 0.007887, mean_q: 2.492959, mean_eps: 0.020000\n",
            " 152615/200000: episode: 215, duration: 137.138s, episode steps: 501, steps per second:   4, episode reward: 10.000, mean reward:  0.020 [ 0.000,  1.000], mean action: 2.659 [0.000, 5.000],  loss: 0.007715, mean_q: 2.486689, mean_eps: 0.020000\n",
            " 153187/200000: episode: 216, duration: 156.439s, episode steps: 572, steps per second:   4, episode reward:  6.000, mean reward:  0.010 [ 0.000,  1.000], mean action: 2.558 [0.000, 5.000],  loss: 0.009409, mean_q: 2.500745, mean_eps: 0.020000\n",
            " 154010/200000: episode: 217, duration: 224.733s, episode steps: 823, steps per second:   4, episode reward: 21.000, mean reward:  0.026 [ 0.000,  1.000], mean action: 2.420 [0.000, 5.000],  loss: 0.008649, mean_q: 2.515622, mean_eps: 0.020000\n",
            " 154569/200000: episode: 218, duration: 152.787s, episode steps: 559, steps per second:   4, episode reward:  8.000, mean reward:  0.014 [ 0.000,  1.000], mean action: 3.195 [0.000, 5.000],  loss: 0.008359, mean_q: 2.499999, mean_eps: 0.020000\n",
            " 155302/200000: episode: 219, duration: 200.321s, episode steps: 733, steps per second:   4, episode reward: 17.000, mean reward:  0.023 [ 0.000,  1.000], mean action: 2.806 [0.000, 5.000],  loss: 0.008895, mean_q: 2.506680, mean_eps: 0.020000\n",
            " 155665/200000: episode: 220, duration: 99.370s, episode steps: 363, steps per second:   4, episode reward:  6.000, mean reward:  0.017 [ 0.000,  1.000], mean action: 2.658 [0.000, 5.000],  loss: 0.008714, mean_q: 2.523408, mean_eps: 0.020000\n",
            " 157098/200000: episode: 221, duration: 391.056s, episode steps: 1433, steps per second:   4, episode reward: 33.000, mean reward:  0.023 [ 0.000,  1.000], mean action: 2.493 [0.000, 5.000],  loss: 0.007658, mean_q: 2.518891, mean_eps: 0.020000\n",
            " 157584/200000: episode: 222, duration: 132.836s, episode steps: 486, steps per second:   4, episode reward:  9.000, mean reward:  0.019 [ 0.000,  1.000], mean action: 1.938 [0.000, 5.000],  loss: 0.007679, mean_q: 2.524277, mean_eps: 0.020000\n",
            " 158437/200000: episode: 223, duration: 232.974s, episode steps: 853, steps per second:   4, episode reward: 16.000, mean reward:  0.019 [ 0.000,  1.000], mean action: 2.397 [0.000, 5.000],  loss: 0.008421, mean_q: 2.559015, mean_eps: 0.020000\n",
            " 158909/200000: episode: 224, duration: 129.005s, episode steps: 472, steps per second:   4, episode reward:  3.000, mean reward:  0.006 [ 0.000,  1.000], mean action: 2.460 [0.000, 5.000],  loss: 0.007963, mean_q: 2.563176, mean_eps: 0.020000\n",
            " 159579/200000: episode: 225, duration: 183.088s, episode steps: 670, steps per second:   4, episode reward: 15.000, mean reward:  0.022 [ 0.000,  1.000], mean action: 2.991 [0.000, 5.000],  loss: 0.007413, mean_q: 2.549198, mean_eps: 0.020000\n",
            "Step 160000: saving model to checkpoints/dqn_v06_weights_160000.h5f\n",
            " 160616/200000: episode: 226, duration: 283.458s, episode steps: 1037, steps per second:   4, episode reward: 21.000, mean reward:  0.020 [ 0.000,  1.000], mean action: 2.130 [0.000, 5.000],  loss: 0.007674, mean_q: 2.572986, mean_eps: 0.020000\n",
            " 161345/200000: episode: 227, duration: 199.167s, episode steps: 729, steps per second:   4, episode reward: 18.000, mean reward:  0.025 [ 0.000,  1.000], mean action: 2.340 [0.000, 5.000],  loss: 0.008068, mean_q: 2.584903, mean_eps: 0.020000\n",
            " 161914/200000: episode: 228, duration: 155.433s, episode steps: 569, steps per second:   4, episode reward: 10.000, mean reward:  0.018 [ 0.000,  1.000], mean action: 2.478 [0.000, 5.000],  loss: 0.007326, mean_q: 2.590577, mean_eps: 0.020000\n",
            " 162899/200000: episode: 229, duration: 269.071s, episode steps: 985, steps per second:   4, episode reward: 20.000, mean reward:  0.020 [ 0.000,  1.000], mean action: 2.940 [0.000, 5.000],  loss: 0.007485, mean_q: 2.600587, mean_eps: 0.020000\n",
            " 164145/200000: episode: 230, duration: 340.260s, episode steps: 1246, steps per second:   4, episode reward: 23.000, mean reward:  0.018 [ 0.000,  1.000], mean action: 2.742 [0.000, 5.000],  loss: 0.006732, mean_q: 2.616061, mean_eps: 0.020000\n",
            " 165285/200000: episode: 231, duration: 311.348s, episode steps: 1140, steps per second:   4, episode reward: 19.000, mean reward:  0.017 [ 0.000,  1.000], mean action: 2.442 [0.000, 5.000],  loss: 0.007322, mean_q: 2.616893, mean_eps: 0.020000\n",
            " 166466/200000: episode: 232, duration: 322.123s, episode steps: 1181, steps per second:   4, episode reward: 30.000, mean reward:  0.025 [ 0.000,  1.000], mean action: 2.597 [0.000, 5.000],  loss: 0.006910, mean_q: 2.629981, mean_eps: 0.020000\n",
            " 167578/200000: episode: 233, duration: 303.468s, episode steps: 1112, steps per second:   4, episode reward: 24.000, mean reward:  0.022 [ 0.000,  1.000], mean action: 2.137 [0.000, 5.000],  loss: 0.006477, mean_q: 2.624038, mean_eps: 0.020000\n",
            " 168444/200000: episode: 234, duration: 236.439s, episode steps: 866, steps per second:   4, episode reward: 14.000, mean reward:  0.016 [ 0.000,  1.000], mean action: 2.550 [0.000, 5.000],  loss: 0.007054, mean_q: 2.650258, mean_eps: 0.020000\n",
            " 169060/200000: episode: 235, duration: 168.422s, episode steps: 616, steps per second:   4, episode reward: 12.000, mean reward:  0.019 [ 0.000,  1.000], mean action: 2.286 [0.000, 5.000],  loss: 0.006407, mean_q: 2.663000, mean_eps: 0.020000\n",
            "Step 170000: saving model to checkpoints/dqn_v06_weights_170000.h5f\n",
            " 170374/200000: episode: 236, duration: 358.840s, episode steps: 1314, steps per second:   4, episode reward: 24.000, mean reward:  0.018 [ 0.000,  1.000], mean action: 2.384 [0.000, 5.000],  loss: 0.006852, mean_q: 2.668772, mean_eps: 0.020000\n",
            " 171418/200000: episode: 237, duration: 285.105s, episode steps: 1044, steps per second:   4, episode reward: 17.000, mean reward:  0.016 [ 0.000,  1.000], mean action: 2.483 [0.000, 5.000],  loss: 0.006822, mean_q: 2.692705, mean_eps: 0.020000\n",
            " 172228/200000: episode: 238, duration: 221.224s, episode steps: 810, steps per second:   4, episode reward: 19.000, mean reward:  0.023 [ 0.000,  1.000], mean action: 2.516 [0.000, 5.000],  loss: 0.006320, mean_q: 2.692268, mean_eps: 0.020000\n",
            " 172872/200000: episode: 239, duration: 175.958s, episode steps: 644, steps per second:   4, episode reward:  8.000, mean reward:  0.012 [ 0.000,  1.000], mean action: 2.671 [0.000, 5.000],  loss: 0.008426, mean_q: 2.706219, mean_eps: 0.020000\n",
            " 173949/200000: episode: 240, duration: 294.048s, episode steps: 1077, steps per second:   4, episode reward: 24.000, mean reward:  0.022 [ 0.000,  1.000], mean action: 2.291 [0.000, 5.000],  loss: 0.007315, mean_q: 2.723405, mean_eps: 0.020000\n",
            " 174818/200000: episode: 241, duration: 237.330s, episode steps: 869, steps per second:   4, episode reward:  9.000, mean reward:  0.010 [ 0.000,  1.000], mean action: 2.535 [0.000, 5.000],  loss: 0.006761, mean_q: 2.718969, mean_eps: 0.020000\n",
            " 175872/200000: episode: 242, duration: 287.769s, episode steps: 1054, steps per second:   4, episode reward: 15.000, mean reward:  0.014 [ 0.000,  1.000], mean action: 2.149 [0.000, 5.000],  loss: 0.007955, mean_q: 2.752921, mean_eps: 0.020000\n",
            " 176533/200000: episode: 243, duration: 180.465s, episode steps: 661, steps per second:   4, episode reward:  8.000, mean reward:  0.012 [ 0.000,  1.000], mean action: 2.368 [0.000, 5.000],  loss: 0.006491, mean_q: 2.755043, mean_eps: 0.020000\n",
            " 177141/200000: episode: 244, duration: 166.166s, episode steps: 608, steps per second:   4, episode reward:  6.000, mean reward:  0.010 [ 0.000,  1.000], mean action: 2.214 [0.000, 5.000],  loss: 0.006874, mean_q: 2.760181, mean_eps: 0.020000\n",
            " 177887/200000: episode: 245, duration: 203.705s, episode steps: 746, steps per second:   4, episode reward: 17.000, mean reward:  0.023 [ 0.000,  1.000], mean action: 2.414 [0.000, 5.000],  loss: 0.006860, mean_q: 2.772744, mean_eps: 0.020000\n",
            " 178572/200000: episode: 246, duration: 187.150s, episode steps: 685, steps per second:   4, episode reward:  7.000, mean reward:  0.010 [ 0.000,  1.000], mean action: 2.339 [0.000, 5.000],  loss: 0.007632, mean_q: 2.789676, mean_eps: 0.020000\n",
            " 179629/200000: episode: 247, duration: 288.655s, episode steps: 1057, steps per second:   4, episode reward: 22.000, mean reward:  0.021 [ 0.000,  1.000], mean action: 2.350 [0.000, 5.000],  loss: 0.006745, mean_q: 2.797487, mean_eps: 0.020000\n",
            "Step 180000: saving model to checkpoints/dqn_v06_weights_180000.h5f\n",
            " 180536/200000: episode: 248, duration: 247.758s, episode steps: 907, steps per second:   4, episode reward: 15.000, mean reward:  0.017 [ 0.000,  1.000], mean action: 2.368 [0.000, 5.000],  loss: 0.008000, mean_q: 2.825171, mean_eps: 0.020000\n",
            " 181144/200000: episode: 249, duration: 165.923s, episode steps: 608, steps per second:   4, episode reward:  9.000, mean reward:  0.015 [ 0.000,  1.000], mean action: 2.625 [0.000, 5.000],  loss: 0.007238, mean_q: 2.844033, mean_eps: 0.020000\n",
            " 182111/200000: episode: 250, duration: 263.808s, episode steps: 967, steps per second:   4, episode reward: 18.000, mean reward:  0.019 [ 0.000,  1.000], mean action: 2.402 [0.000, 5.000],  loss: 0.006332, mean_q: 2.832063, mean_eps: 0.020000\n",
            " 183090/200000: episode: 251, duration: 267.307s, episode steps: 979, steps per second:   4, episode reward: 19.000, mean reward:  0.019 [ 0.000,  1.000], mean action: 2.443 [0.000, 5.000],  loss: 0.008605, mean_q: 2.842082, mean_eps: 0.020000\n",
            " 183809/200000: episode: 252, duration: 196.228s, episode steps: 719, steps per second:   4, episode reward: 11.000, mean reward:  0.015 [ 0.000,  1.000], mean action: 2.089 [0.000, 5.000],  loss: 0.007012, mean_q: 2.830737, mean_eps: 0.020000\n",
            " 184644/200000: episode: 253, duration: 228.185s, episode steps: 835, steps per second:   4, episode reward: 19.000, mean reward:  0.023 [ 0.000,  1.000], mean action: 2.162 [0.000, 5.000],  loss: 0.007045, mean_q: 2.833361, mean_eps: 0.020000\n",
            " 185159/200000: episode: 254, duration: 140.805s, episode steps: 515, steps per second:   4, episode reward: 10.000, mean reward:  0.019 [ 0.000,  1.000], mean action: 2.621 [0.000, 5.000],  loss: 0.007440, mean_q: 2.840571, mean_eps: 0.020000\n",
            " 186105/200000: episode: 255, duration: 258.232s, episode steps: 946, steps per second:   4, episode reward: 19.000, mean reward:  0.020 [ 0.000,  1.000], mean action: 2.163 [0.000, 5.000],  loss: 0.008195, mean_q: 2.862232, mean_eps: 0.020000\n",
            " 186661/200000: episode: 256, duration: 151.764s, episode steps: 556, steps per second:   4, episode reward:  8.000, mean reward:  0.014 [ 0.000,  1.000], mean action: 1.879 [0.000, 5.000],  loss: 0.007869, mean_q: 2.862772, mean_eps: 0.020000\n",
            " 187292/200000: episode: 257, duration: 172.425s, episode steps: 631, steps per second:   4, episode reward: 12.000, mean reward:  0.019 [ 0.000,  1.000], mean action: 2.458 [0.000, 5.000],  loss: 0.006391, mean_q: 2.865385, mean_eps: 0.020000\n",
            " 187816/200000: episode: 258, duration: 143.207s, episode steps: 524, steps per second:   4, episode reward:  8.000, mean reward:  0.015 [ 0.000,  1.000], mean action: 2.855 [0.000, 5.000],  loss: 0.008478, mean_q: 2.876199, mean_eps: 0.020000\n",
            " 189106/200000: episode: 259, duration: 352.056s, episode steps: 1290, steps per second:   4, episode reward: 27.000, mean reward:  0.021 [ 0.000,  1.000], mean action: 2.450 [0.000, 5.000],  loss: 0.008266, mean_q: 2.885988, mean_eps: 0.020000\n",
            " 189775/200000: episode: 260, duration: 182.617s, episode steps: 669, steps per second:   4, episode reward: 13.000, mean reward:  0.019 [ 0.000,  1.000], mean action: 2.064 [0.000, 5.000],  loss: 0.007801, mean_q: 2.872020, mean_eps: 0.020000\n",
            "Step 190000: saving model to checkpoints/dqn_v06_weights_190000.h5f\n",
            " 190652/200000: episode: 261, duration: 239.680s, episode steps: 877, steps per second:   4, episode reward: 25.000, mean reward:  0.029 [ 0.000,  1.000], mean action: 2.596 [0.000, 5.000],  loss: 0.008369, mean_q: 2.899446, mean_eps: 0.020000\n",
            " 191550/200000: episode: 262, duration: 244.973s, episode steps: 898, steps per second:   4, episode reward: 18.000, mean reward:  0.020 [ 0.000,  1.000], mean action: 2.384 [0.000, 5.000],  loss: 0.008415, mean_q: 2.901509, mean_eps: 0.020000\n",
            " 192040/200000: episode: 263, duration: 133.962s, episode steps: 490, steps per second:   4, episode reward:  8.000, mean reward:  0.016 [ 0.000,  1.000], mean action: 2.869 [0.000, 5.000],  loss: 0.007739, mean_q: 2.914627, mean_eps: 0.020000\n",
            " 193105/200000: episode: 264, duration: 290.646s, episode steps: 1065, steps per second:   4, episode reward: 23.000, mean reward:  0.022 [ 0.000,  1.000], mean action: 2.674 [0.000, 5.000],  loss: 0.008577, mean_q: 2.929279, mean_eps: 0.020000\n",
            " 193797/200000: episode: 265, duration: 188.881s, episode steps: 692, steps per second:   4, episode reward: 11.000, mean reward:  0.016 [ 0.000,  1.000], mean action: 2.228 [0.000, 5.000],  loss: 0.007975, mean_q: 2.941442, mean_eps: 0.020000\n",
            " 194274/200000: episode: 266, duration: 130.318s, episode steps: 477, steps per second:   4, episode reward:  9.000, mean reward:  0.019 [ 0.000,  1.000], mean action: 2.562 [0.000, 5.000],  loss: 0.006697, mean_q: 2.940486, mean_eps: 0.020000\n",
            " 194714/200000: episode: 267, duration: 120.215s, episode steps: 440, steps per second:   4, episode reward: 11.000, mean reward:  0.025 [ 0.000,  1.000], mean action: 2.630 [0.000, 5.000],  loss: 0.007348, mean_q: 2.952913, mean_eps: 0.020000\n",
            " 195257/200000: episode: 268, duration: 148.254s, episode steps: 543, steps per second:   4, episode reward:  9.000, mean reward:  0.017 [ 0.000,  1.000], mean action: 2.297 [0.000, 5.000],  loss: 0.007667, mean_q: 2.965303, mean_eps: 0.020000\n",
            " 196266/200000: episode: 269, duration: 275.216s, episode steps: 1009, steps per second:   4, episode reward: 16.000, mean reward:  0.016 [ 0.000,  1.000], mean action: 2.556 [0.000, 5.000],  loss: 0.008022, mean_q: 2.978119, mean_eps: 0.020000\n",
            " 197425/200000: episode: 270, duration: 316.046s, episode steps: 1159, steps per second:   4, episode reward: 22.000, mean reward:  0.019 [ 0.000,  1.000], mean action: 2.154 [0.000, 5.000],  loss: 0.006800, mean_q: 2.975164, mean_eps: 0.020000\n",
            " 198478/200000: episode: 271, duration: 287.497s, episode steps: 1053, steps per second:   4, episode reward: 23.000, mean reward:  0.022 [ 0.000,  1.000], mean action: 2.461 [0.000, 5.000],  loss: 0.007997, mean_q: 2.981741, mean_eps: 0.020000\n",
            " 199052/200000: episode: 272, duration: 156.884s, episode steps: 574, steps per second:   4, episode reward: 13.000, mean reward:  0.023 [ 0.000,  1.000], mean action: 2.425 [0.000, 5.000],  loss: 0.007164, mean_q: 2.976733, mean_eps: 0.020000\n",
            " 199680/200000: episode: 273, duration: 171.480s, episode steps: 628, steps per second:   4, episode reward: 11.000, mean reward:  0.018 [ 0.000,  1.000], mean action: 1.975 [0.000, 5.000],  loss: 0.007508, mean_q: 2.981063, mean_eps: 0.020000\n",
            "Step 200000: saving model to checkpoints/dqn_v06_weights_200000.h5f\n",
            "done, took 51789.005 seconds\n",
            "⏱ Tiempo de fin: 10:13:06\n",
            "[WARNING] dqn_06_weights.h5f.index already exists - overwrite? [y/n]y\n",
            "[TIP] Next time specify overwrite=True!\n"
          ]
        }
      ]
    },
    {
      "cell_type": "code",
      "source": [
        "# Testing part to calculate the mean reward\n",
        "#weights_filename = 'dqn_{}_weights.h5f'.format(env_name)\n",
        "weights_filename = 'dqn_06_weights.h5f'.format(env_name)\n",
        "dqn.load_weights(weights_filename)\n",
        "dqn.test(env, nb_episodes=10, visualize=False)"
      ],
      "metadata": {
        "id": "WSVcMgOsR0Nv",
        "colab": {
          "base_uri": "https://localhost:8080/"
        },
        "outputId": "2c7a3e95-bd42-4cb8-b862-4c2611063a13"
      },
      "execution_count": 38,
      "outputs": [
        {
          "output_type": "stream",
          "name": "stdout",
          "text": [
            "Testing for 10 episodes ...\n",
            "Episode 1: reward: 15.000, steps: 679\n",
            "Episode 2: reward: 14.000, steps: 840\n",
            "Episode 3: reward: 16.000, steps: 859\n",
            "Episode 4: reward: 22.000, steps: 1135\n",
            "Episode 5: reward: 15.000, steps: 801\n",
            "Episode 6: reward: 17.000, steps: 967\n",
            "Episode 7: reward: 16.000, steps: 726\n",
            "Episode 8: reward: 24.000, steps: 1134\n",
            "Episode 9: reward: 17.000, steps: 965\n",
            "Episode 10: reward: 24.000, steps: 964\n"
          ]
        },
        {
          "output_type": "execute_result",
          "data": {
            "text/plain": [
              "<keras.callbacks.History at 0x7d91cc3ce050>"
            ]
          },
          "metadata": {},
          "execution_count": 38
        }
      ]
    },
    {
      "cell_type": "code",
      "source": [
        "from google.colab import drive\n",
        "import shutil\n",
        "import glob  # <-- ¡Falta este import!\n",
        "import os\n",
        "\n",
        "# 1. Montar Google Drive\n",
        "#drive.mount('/content/drive')\n",
        "\n",
        "# 2. Crear directorio en Drive si no existe\n",
        "os.makedirs('/content/gdrive/MyDrive/Colab_Outputs', exist_ok=True)\n",
        "\n",
        "# 3. Buscar y copiar todos los archivos coincidentes\n",
        "archivos = glob.glob('dqn_06_weights.h5f.*')  # Encuentra todos los archivos con ese patrón\n",
        "\n",
        "for archivo in archivos:\n",
        "    shutil.copy(\n",
        "        archivo,\n",
        "        f'/content/gdrive/MyDrive/Colab_Outputs/{os.path.basename(archivo)}'\n",
        "    )\n",
        "    print(f\"¡Archivo {archivo} copiado a Drive!\")\n",
        "\n",
        "# 4. Buscar y copiar todos los archivos coincidentes\n",
        "archivos = glob.glob('checkpoints/dqn_v06_weights*')  # Encuentra todos los archivos con ese patrón\n",
        "\n",
        "for archivo in archivos:\n",
        "    shutil.copy(\n",
        "        archivo,\n",
        "        f'/content/gdrive/MyDrive/Colab_Outputs/{os.path.basename(archivo)}'\n",
        "    )\n",
        "\n",
        "print(\"✅ ¡Todos los archivos copiados!\")"
      ],
      "metadata": {
        "colab": {
          "base_uri": "https://localhost:8080/"
        },
        "id": "0UPDMrWP-lGP",
        "outputId": "ec932f39-d518-4367-f7e2-50b5e65dcabf"
      },
      "execution_count": 40,
      "outputs": [
        {
          "output_type": "stream",
          "name": "stdout",
          "text": [
            "¡Archivo dqn_06_weights.h5f.data-00000-of-00001 copiado a Drive!\n",
            "¡Archivo dqn_06_weights.h5f.index copiado a Drive!\n",
            "✅ ¡Todos los archivos copiados!\n"
          ]
        }
      ]
    }
  ]
}