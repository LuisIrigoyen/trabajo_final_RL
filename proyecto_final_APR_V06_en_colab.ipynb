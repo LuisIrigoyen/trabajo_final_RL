{
  "nbformat": 4,
  "nbformat_minor": 0,
  "metadata": {
    "colab": {
      "provenance": [],
      "gpuType": "A100",
      "machine_shape": "hm",
      "include_colab_link": true
    },
    "kernelspec": {
      "name": "python3",
      "display_name": "Python 3"
    },
    "language_info": {
      "name": "python"
    },
    "accelerator": "GPU"
  },
  "cells": [
    {
      "cell_type": "markdown",
      "metadata": {
        "id": "view-in-github",
        "colab_type": "text"
      },
      "source": [
        "<a href=\"https://colab.research.google.com/github/LuisIrigoyen/trabajo_final_RL/blob/main/proyecto_final_APR_V06_en_colab.ipynb\" target=\"_parent\"><img src=\"https://colab.research.google.com/assets/colab-badge.svg\" alt=\"Open In Colab\"/></a>"
      ]
    },
    {
      "cell_type": "code",
      "source": [],
      "metadata": {
        "id": "wVXkh8rCNl45"
      },
      "execution_count": null,
      "outputs": []
    },
    {
      "cell_type": "markdown",
      "source": [
        "## 1.2. Localizar entorno de trabajo: Google colab o local"
      ],
      "metadata": {
        "id": "D89Ue2uZNtzn"
      }
    },
    {
      "cell_type": "code",
      "execution_count": 1,
      "metadata": {
        "id": "7EQ46sNGLj22"
      },
      "outputs": [],
      "source": [
        "# ATENCIÓN!! Modificar ruta relativa a la práctica si es distinta (drive_root)\n",
        "mount='/content/gdrive'\n",
        "drive_root = mount + \"/My Drive/08_MIAR/actividades/proyecto practico\"\n",
        "\n",
        "try:\n",
        "  from google.colab import drive\n",
        "  IN_COLAB=True\n",
        "except:\n",
        "  IN_COLAB=False\n"
      ]
    },
    {
      "cell_type": "markdown",
      "source": [
        "## 1.3. Montar carpeta de datos local (solo Colab)"
      ],
      "metadata": {
        "id": "6on2PNxZN51A"
      }
    },
    {
      "cell_type": "code",
      "source": [
        "# Switch to the directory on the Google Drive that you want to use\n",
        "import os\n",
        "if IN_COLAB:\n",
        "  print(\"We're running Colab\")\n",
        "\n",
        "  if IN_COLAB:\n",
        "    # Mount the Google Drive at mount\n",
        "    print(\"Colab: mounting Google drive on \", mount)\n",
        "\n",
        "    drive.mount(mount)\n",
        "\n",
        "    # Create drive_root if it doesn't exist\n",
        "    create_drive_root = True\n",
        "    if create_drive_root:\n",
        "      print(\"\\nColab: making sure \", drive_root, \" exists.\")\n",
        "      os.makedirs(drive_root, exist_ok=True)\n",
        "\n",
        "    # Change to the directory\n",
        "    print(\"\\nColab: Changing directory to \", drive_root)\n",
        "    %cd $drive_root\n",
        "# Verify we're in the correct working directory\n",
        "%pwd\n",
        "print(\"Archivos en el directorio: \")\n",
        "print(os.listdir())"
      ],
      "metadata": {
        "colab": {
          "base_uri": "https://localhost:8080/"
        },
        "id": "inTxnmr0MKCH",
        "outputId": "799e639f-b8eb-4df9-9f6c-132e35a958cf"
      },
      "execution_count": 2,
      "outputs": [
        {
          "output_type": "stream",
          "name": "stdout",
          "text": [
            "We're running Colab\n",
            "Colab: mounting Google drive on  /content/gdrive\n",
            "Mounted at /content/gdrive\n",
            "\n",
            "Colab: making sure  /content/gdrive/My Drive/08_MIAR/actividades/proyecto practico  exists.\n",
            "\n",
            "Colab: Changing directory to  /content/gdrive/My Drive/08_MIAR/actividades/proyecto practico\n",
            "/content/gdrive/My Drive/08_MIAR/actividades/proyecto practico\n",
            "Archivos en el directorio: \n",
            "['dqn_models']\n"
          ]
        }
      ]
    },
    {
      "cell_type": "markdown",
      "source": [
        "## 1.4. Instalar librerías necesarias"
      ],
      "metadata": {
        "id": "MYrJ03QWN9Hw"
      }
    },
    {
      "cell_type": "code",
      "source": [
        "if IN_COLAB:\n",
        "  %pip install gym==0.17.3\n",
        "  %pip install git+https://github.com/Kojoley/atari-py.git\n",
        "  %pip install keras-rl2==1.0.5\n",
        "  %pip install tensorflow==2.12  #2.8\n",
        "else:\n",
        "  %pip install gymnasium[atari]==0.29.1\n",
        "  %pip install git+https://github.com/Kojoley/atari-py.git\n",
        "  %pip install pyglet==1.5.0\n",
        "  %pip install h5py==3.1.0\n",
        "  %pip install Pillow==9.5.0\n",
        "  %pip install keras-rl3\n",
        "  %pip install Keras==2.2.4\n",
        "  %pip install tensorflow==2.10.1\n",
        "  %pip install torch==2.0.1\n",
        "  %pip install agents==1.4.0"
      ],
      "metadata": {
        "colab": {
          "base_uri": "https://localhost:8080/"
        },
        "id": "zSbNMsl4MTo3",
        "outputId": "0060229c-92fc-426c-aff1-78a6323a8ef0"
      },
      "execution_count": 2,
      "outputs": [
        {
          "output_type": "stream",
          "name": "stdout",
          "text": [
            "Requirement already satisfied: gym==0.17.3 in /usr/local/lib/python3.11/dist-packages (0.17.3)\n",
            "Requirement already satisfied: scipy in /usr/local/lib/python3.11/dist-packages (from gym==0.17.3) (1.15.3)\n",
            "Requirement already satisfied: numpy>=1.10.4 in /usr/local/lib/python3.11/dist-packages (from gym==0.17.3) (1.23.5)\n",
            "Requirement already satisfied: pyglet<=1.5.0,>=1.4.0 in /usr/local/lib/python3.11/dist-packages (from gym==0.17.3) (1.5.0)\n",
            "Requirement already satisfied: cloudpickle<1.7.0,>=1.2.0 in /usr/local/lib/python3.11/dist-packages (from gym==0.17.3) (1.6.0)\n",
            "Requirement already satisfied: future in /usr/local/lib/python3.11/dist-packages (from pyglet<=1.5.0,>=1.4.0->gym==0.17.3) (1.0.0)\n",
            "Collecting git+https://github.com/Kojoley/atari-py.git\n",
            "  Cloning https://github.com/Kojoley/atari-py.git to /tmp/pip-req-build-amno_6iy\n",
            "  Running command git clone --filter=blob:none --quiet https://github.com/Kojoley/atari-py.git /tmp/pip-req-build-amno_6iy\n",
            "  Resolved https://github.com/Kojoley/atari-py.git to commit 86a1e05c0a95e9e6233c3a413521fdb34ca8a089\n",
            "  Preparing metadata (setup.py) ... \u001b[?25l\u001b[?25hdone\n",
            "Requirement already satisfied: numpy in /usr/local/lib/python3.11/dist-packages (from atari-py==1.2.2) (1.23.5)\n",
            "Requirement already satisfied: keras-rl2==1.0.5 in /usr/local/lib/python3.11/dist-packages (1.0.5)\n",
            "Requirement already satisfied: tensorflow in /usr/local/lib/python3.11/dist-packages (from keras-rl2==1.0.5) (2.12.0)\n",
            "Requirement already satisfied: absl-py>=1.0.0 in /usr/local/lib/python3.11/dist-packages (from tensorflow->keras-rl2==1.0.5) (1.4.0)\n",
            "Requirement already satisfied: astunparse>=1.6.0 in /usr/local/lib/python3.11/dist-packages (from tensorflow->keras-rl2==1.0.5) (1.6.3)\n",
            "Requirement already satisfied: flatbuffers>=2.0 in /usr/local/lib/python3.11/dist-packages (from tensorflow->keras-rl2==1.0.5) (25.2.10)\n",
            "Requirement already satisfied: gast<=0.4.0,>=0.2.1 in /usr/local/lib/python3.11/dist-packages (from tensorflow->keras-rl2==1.0.5) (0.4.0)\n",
            "Requirement already satisfied: google-pasta>=0.1.1 in /usr/local/lib/python3.11/dist-packages (from tensorflow->keras-rl2==1.0.5) (0.2.0)\n",
            "Requirement already satisfied: grpcio<2.0,>=1.24.3 in /usr/local/lib/python3.11/dist-packages (from tensorflow->keras-rl2==1.0.5) (1.73.0)\n",
            "Requirement already satisfied: h5py>=2.9.0 in /usr/local/lib/python3.11/dist-packages (from tensorflow->keras-rl2==1.0.5) (3.14.0)\n",
            "Requirement already satisfied: jax>=0.3.15 in /usr/local/lib/python3.11/dist-packages (from tensorflow->keras-rl2==1.0.5) (0.4.30)\n",
            "Requirement already satisfied: keras<2.13,>=2.12.0 in /usr/local/lib/python3.11/dist-packages (from tensorflow->keras-rl2==1.0.5) (2.12.0)\n",
            "Requirement already satisfied: libclang>=13.0.0 in /usr/local/lib/python3.11/dist-packages (from tensorflow->keras-rl2==1.0.5) (18.1.1)\n",
            "Requirement already satisfied: numpy<1.24,>=1.22 in /usr/local/lib/python3.11/dist-packages (from tensorflow->keras-rl2==1.0.5) (1.23.5)\n",
            "Requirement already satisfied: opt-einsum>=2.3.2 in /usr/local/lib/python3.11/dist-packages (from tensorflow->keras-rl2==1.0.5) (3.4.0)\n",
            "Requirement already satisfied: packaging in /usr/local/lib/python3.11/dist-packages (from tensorflow->keras-rl2==1.0.5) (24.2)\n",
            "Requirement already satisfied: protobuf!=4.21.0,!=4.21.1,!=4.21.2,!=4.21.3,!=4.21.4,!=4.21.5,<5.0.0dev,>=3.20.3 in /usr/local/lib/python3.11/dist-packages (from tensorflow->keras-rl2==1.0.5) (4.25.8)\n",
            "Requirement already satisfied: setuptools in /usr/local/lib/python3.11/dist-packages (from tensorflow->keras-rl2==1.0.5) (75.2.0)\n",
            "Requirement already satisfied: six>=1.12.0 in /usr/local/lib/python3.11/dist-packages (from tensorflow->keras-rl2==1.0.5) (1.17.0)\n",
            "Requirement already satisfied: tensorboard<2.13,>=2.12 in /usr/local/lib/python3.11/dist-packages (from tensorflow->keras-rl2==1.0.5) (2.12.3)\n",
            "Requirement already satisfied: tensorflow-estimator<2.13,>=2.12.0 in /usr/local/lib/python3.11/dist-packages (from tensorflow->keras-rl2==1.0.5) (2.12.0)\n",
            "Requirement already satisfied: termcolor>=1.1.0 in /usr/local/lib/python3.11/dist-packages (from tensorflow->keras-rl2==1.0.5) (3.1.0)\n",
            "Requirement already satisfied: typing-extensions>=3.6.6 in /usr/local/lib/python3.11/dist-packages (from tensorflow->keras-rl2==1.0.5) (4.14.0)\n",
            "Requirement already satisfied: wrapt<1.15,>=1.11.0 in /usr/local/lib/python3.11/dist-packages (from tensorflow->keras-rl2==1.0.5) (1.14.1)\n",
            "Requirement already satisfied: tensorflow-io-gcs-filesystem>=0.23.1 in /usr/local/lib/python3.11/dist-packages (from tensorflow->keras-rl2==1.0.5) (0.37.1)\n",
            "Requirement already satisfied: wheel<1.0,>=0.23.0 in /usr/local/lib/python3.11/dist-packages (from astunparse>=1.6.0->tensorflow->keras-rl2==1.0.5) (0.45.1)\n",
            "Requirement already satisfied: jaxlib<=0.4.30,>=0.4.27 in /usr/local/lib/python3.11/dist-packages (from jax>=0.3.15->tensorflow->keras-rl2==1.0.5) (0.4.30)\n",
            "Requirement already satisfied: ml-dtypes>=0.2.0 in /usr/local/lib/python3.11/dist-packages (from jax>=0.3.15->tensorflow->keras-rl2==1.0.5) (0.4.1)\n",
            "Requirement already satisfied: scipy>=1.9 in /usr/local/lib/python3.11/dist-packages (from jax>=0.3.15->tensorflow->keras-rl2==1.0.5) (1.15.3)\n",
            "Requirement already satisfied: google-auth<3,>=1.6.3 in /usr/local/lib/python3.11/dist-packages (from tensorboard<2.13,>=2.12->tensorflow->keras-rl2==1.0.5) (2.38.0)\n",
            "Requirement already satisfied: google-auth-oauthlib<1.1,>=0.5 in /usr/local/lib/python3.11/dist-packages (from tensorboard<2.13,>=2.12->tensorflow->keras-rl2==1.0.5) (1.0.0)\n",
            "Requirement already satisfied: markdown>=2.6.8 in /usr/local/lib/python3.11/dist-packages (from tensorboard<2.13,>=2.12->tensorflow->keras-rl2==1.0.5) (3.8)\n",
            "Requirement already satisfied: requests<3,>=2.21.0 in /usr/local/lib/python3.11/dist-packages (from tensorboard<2.13,>=2.12->tensorflow->keras-rl2==1.0.5) (2.32.3)\n",
            "Requirement already satisfied: tensorboard-data-server<0.8.0,>=0.7.0 in /usr/local/lib/python3.11/dist-packages (from tensorboard<2.13,>=2.12->tensorflow->keras-rl2==1.0.5) (0.7.2)\n",
            "Requirement already satisfied: werkzeug>=1.0.1 in /usr/local/lib/python3.11/dist-packages (from tensorboard<2.13,>=2.12->tensorflow->keras-rl2==1.0.5) (3.1.3)\n",
            "Requirement already satisfied: cachetools<6.0,>=2.0.0 in /usr/local/lib/python3.11/dist-packages (from google-auth<3,>=1.6.3->tensorboard<2.13,>=2.12->tensorflow->keras-rl2==1.0.5) (5.5.2)\n",
            "Requirement already satisfied: pyasn1-modules>=0.2.1 in /usr/local/lib/python3.11/dist-packages (from google-auth<3,>=1.6.3->tensorboard<2.13,>=2.12->tensorflow->keras-rl2==1.0.5) (0.4.2)\n",
            "Requirement already satisfied: rsa<5,>=3.1.4 in /usr/local/lib/python3.11/dist-packages (from google-auth<3,>=1.6.3->tensorboard<2.13,>=2.12->tensorflow->keras-rl2==1.0.5) (4.9.1)\n",
            "Requirement already satisfied: requests-oauthlib>=0.7.0 in /usr/local/lib/python3.11/dist-packages (from google-auth-oauthlib<1.1,>=0.5->tensorboard<2.13,>=2.12->tensorflow->keras-rl2==1.0.5) (2.0.0)\n",
            "Requirement already satisfied: charset-normalizer<4,>=2 in /usr/local/lib/python3.11/dist-packages (from requests<3,>=2.21.0->tensorboard<2.13,>=2.12->tensorflow->keras-rl2==1.0.5) (3.4.2)\n",
            "Requirement already satisfied: idna<4,>=2.5 in /usr/local/lib/python3.11/dist-packages (from requests<3,>=2.21.0->tensorboard<2.13,>=2.12->tensorflow->keras-rl2==1.0.5) (3.10)\n",
            "Requirement already satisfied: urllib3<3,>=1.21.1 in /usr/local/lib/python3.11/dist-packages (from requests<3,>=2.21.0->tensorboard<2.13,>=2.12->tensorflow->keras-rl2==1.0.5) (2.4.0)\n",
            "Requirement already satisfied: certifi>=2017.4.17 in /usr/local/lib/python3.11/dist-packages (from requests<3,>=2.21.0->tensorboard<2.13,>=2.12->tensorflow->keras-rl2==1.0.5) (2025.4.26)\n",
            "Requirement already satisfied: MarkupSafe>=2.1.1 in /usr/local/lib/python3.11/dist-packages (from werkzeug>=1.0.1->tensorboard<2.13,>=2.12->tensorflow->keras-rl2==1.0.5) (3.0.2)\n",
            "Requirement already satisfied: pyasn1<0.7.0,>=0.6.1 in /usr/local/lib/python3.11/dist-packages (from pyasn1-modules>=0.2.1->google-auth<3,>=1.6.3->tensorboard<2.13,>=2.12->tensorflow->keras-rl2==1.0.5) (0.6.1)\n",
            "Requirement already satisfied: oauthlib>=3.0.0 in /usr/local/lib/python3.11/dist-packages (from requests-oauthlib>=0.7.0->google-auth-oauthlib<1.1,>=0.5->tensorboard<2.13,>=2.12->tensorflow->keras-rl2==1.0.5) (3.2.2)\n",
            "Requirement already satisfied: tensorflow==2.12 in /usr/local/lib/python3.11/dist-packages (2.12.0)\n",
            "Requirement already satisfied: absl-py>=1.0.0 in /usr/local/lib/python3.11/dist-packages (from tensorflow==2.12) (1.4.0)\n",
            "Requirement already satisfied: astunparse>=1.6.0 in /usr/local/lib/python3.11/dist-packages (from tensorflow==2.12) (1.6.3)\n",
            "Requirement already satisfied: flatbuffers>=2.0 in /usr/local/lib/python3.11/dist-packages (from tensorflow==2.12) (25.2.10)\n",
            "Requirement already satisfied: gast<=0.4.0,>=0.2.1 in /usr/local/lib/python3.11/dist-packages (from tensorflow==2.12) (0.4.0)\n",
            "Requirement already satisfied: google-pasta>=0.1.1 in /usr/local/lib/python3.11/dist-packages (from tensorflow==2.12) (0.2.0)\n",
            "Requirement already satisfied: grpcio<2.0,>=1.24.3 in /usr/local/lib/python3.11/dist-packages (from tensorflow==2.12) (1.73.0)\n",
            "Requirement already satisfied: h5py>=2.9.0 in /usr/local/lib/python3.11/dist-packages (from tensorflow==2.12) (3.14.0)\n",
            "Requirement already satisfied: jax>=0.3.15 in /usr/local/lib/python3.11/dist-packages (from tensorflow==2.12) (0.4.30)\n",
            "Requirement already satisfied: keras<2.13,>=2.12.0 in /usr/local/lib/python3.11/dist-packages (from tensorflow==2.12) (2.12.0)\n",
            "Requirement already satisfied: libclang>=13.0.0 in /usr/local/lib/python3.11/dist-packages (from tensorflow==2.12) (18.1.1)\n",
            "Requirement already satisfied: numpy<1.24,>=1.22 in /usr/local/lib/python3.11/dist-packages (from tensorflow==2.12) (1.23.5)\n",
            "Requirement already satisfied: opt-einsum>=2.3.2 in /usr/local/lib/python3.11/dist-packages (from tensorflow==2.12) (3.4.0)\n",
            "Requirement already satisfied: packaging in /usr/local/lib/python3.11/dist-packages (from tensorflow==2.12) (24.2)\n",
            "Requirement already satisfied: protobuf!=4.21.0,!=4.21.1,!=4.21.2,!=4.21.3,!=4.21.4,!=4.21.5,<5.0.0dev,>=3.20.3 in /usr/local/lib/python3.11/dist-packages (from tensorflow==2.12) (4.25.8)\n",
            "Requirement already satisfied: setuptools in /usr/local/lib/python3.11/dist-packages (from tensorflow==2.12) (75.2.0)\n",
            "Requirement already satisfied: six>=1.12.0 in /usr/local/lib/python3.11/dist-packages (from tensorflow==2.12) (1.17.0)\n",
            "Requirement already satisfied: tensorboard<2.13,>=2.12 in /usr/local/lib/python3.11/dist-packages (from tensorflow==2.12) (2.12.3)\n",
            "Requirement already satisfied: tensorflow-estimator<2.13,>=2.12.0 in /usr/local/lib/python3.11/dist-packages (from tensorflow==2.12) (2.12.0)\n",
            "Requirement already satisfied: termcolor>=1.1.0 in /usr/local/lib/python3.11/dist-packages (from tensorflow==2.12) (3.1.0)\n",
            "Requirement already satisfied: typing-extensions>=3.6.6 in /usr/local/lib/python3.11/dist-packages (from tensorflow==2.12) (4.14.0)\n",
            "Requirement already satisfied: wrapt<1.15,>=1.11.0 in /usr/local/lib/python3.11/dist-packages (from tensorflow==2.12) (1.14.1)\n",
            "Requirement already satisfied: tensorflow-io-gcs-filesystem>=0.23.1 in /usr/local/lib/python3.11/dist-packages (from tensorflow==2.12) (0.37.1)\n",
            "Requirement already satisfied: wheel<1.0,>=0.23.0 in /usr/local/lib/python3.11/dist-packages (from astunparse>=1.6.0->tensorflow==2.12) (0.45.1)\n",
            "Requirement already satisfied: jaxlib<=0.4.30,>=0.4.27 in /usr/local/lib/python3.11/dist-packages (from jax>=0.3.15->tensorflow==2.12) (0.4.30)\n",
            "Requirement already satisfied: ml-dtypes>=0.2.0 in /usr/local/lib/python3.11/dist-packages (from jax>=0.3.15->tensorflow==2.12) (0.4.1)\n",
            "Requirement already satisfied: scipy>=1.9 in /usr/local/lib/python3.11/dist-packages (from jax>=0.3.15->tensorflow==2.12) (1.15.3)\n",
            "Requirement already satisfied: google-auth<3,>=1.6.3 in /usr/local/lib/python3.11/dist-packages (from tensorboard<2.13,>=2.12->tensorflow==2.12) (2.38.0)\n",
            "Requirement already satisfied: google-auth-oauthlib<1.1,>=0.5 in /usr/local/lib/python3.11/dist-packages (from tensorboard<2.13,>=2.12->tensorflow==2.12) (1.0.0)\n",
            "Requirement already satisfied: markdown>=2.6.8 in /usr/local/lib/python3.11/dist-packages (from tensorboard<2.13,>=2.12->tensorflow==2.12) (3.8)\n",
            "Requirement already satisfied: requests<3,>=2.21.0 in /usr/local/lib/python3.11/dist-packages (from tensorboard<2.13,>=2.12->tensorflow==2.12) (2.32.3)\n",
            "Requirement already satisfied: tensorboard-data-server<0.8.0,>=0.7.0 in /usr/local/lib/python3.11/dist-packages (from tensorboard<2.13,>=2.12->tensorflow==2.12) (0.7.2)\n",
            "Requirement already satisfied: werkzeug>=1.0.1 in /usr/local/lib/python3.11/dist-packages (from tensorboard<2.13,>=2.12->tensorflow==2.12) (3.1.3)\n",
            "Requirement already satisfied: cachetools<6.0,>=2.0.0 in /usr/local/lib/python3.11/dist-packages (from google-auth<3,>=1.6.3->tensorboard<2.13,>=2.12->tensorflow==2.12) (5.5.2)\n",
            "Requirement already satisfied: pyasn1-modules>=0.2.1 in /usr/local/lib/python3.11/dist-packages (from google-auth<3,>=1.6.3->tensorboard<2.13,>=2.12->tensorflow==2.12) (0.4.2)\n",
            "Requirement already satisfied: rsa<5,>=3.1.4 in /usr/local/lib/python3.11/dist-packages (from google-auth<3,>=1.6.3->tensorboard<2.13,>=2.12->tensorflow==2.12) (4.9.1)\n",
            "Requirement already satisfied: requests-oauthlib>=0.7.0 in /usr/local/lib/python3.11/dist-packages (from google-auth-oauthlib<1.1,>=0.5->tensorboard<2.13,>=2.12->tensorflow==2.12) (2.0.0)\n",
            "Requirement already satisfied: charset-normalizer<4,>=2 in /usr/local/lib/python3.11/dist-packages (from requests<3,>=2.21.0->tensorboard<2.13,>=2.12->tensorflow==2.12) (3.4.2)\n",
            "Requirement already satisfied: idna<4,>=2.5 in /usr/local/lib/python3.11/dist-packages (from requests<3,>=2.21.0->tensorboard<2.13,>=2.12->tensorflow==2.12) (3.10)\n",
            "Requirement already satisfied: urllib3<3,>=1.21.1 in /usr/local/lib/python3.11/dist-packages (from requests<3,>=2.21.0->tensorboard<2.13,>=2.12->tensorflow==2.12) (2.4.0)\n",
            "Requirement already satisfied: certifi>=2017.4.17 in /usr/local/lib/python3.11/dist-packages (from requests<3,>=2.21.0->tensorboard<2.13,>=2.12->tensorflow==2.12) (2025.4.26)\n",
            "Requirement already satisfied: MarkupSafe>=2.1.1 in /usr/local/lib/python3.11/dist-packages (from werkzeug>=1.0.1->tensorboard<2.13,>=2.12->tensorflow==2.12) (3.0.2)\n",
            "Requirement already satisfied: pyasn1<0.7.0,>=0.6.1 in /usr/local/lib/python3.11/dist-packages (from pyasn1-modules>=0.2.1->google-auth<3,>=1.6.3->tensorboard<2.13,>=2.12->tensorflow==2.12) (0.6.1)\n",
            "Requirement already satisfied: oauthlib>=3.0.0 in /usr/local/lib/python3.11/dist-packages (from requests-oauthlib>=0.7.0->google-auth-oauthlib<1.1,>=0.5->tensorboard<2.13,>=2.12->tensorflow==2.12) (3.2.2)\n"
          ]
        }
      ]
    },
    {
      "cell_type": "markdown",
      "source": [
        "## **PARTE 3**. Desarrollo y preguntas\n",
        "Importar librerías"
      ],
      "metadata": {
        "id": "mS60Dk-KO5e3"
      }
    },
    {
      "cell_type": "code",
      "source": [
        "from __future__ import division\n",
        "\n",
        "from PIL import Image\n",
        "import numpy as np\n",
        "import gym\n",
        "\n",
        "from tensorflow.keras.models import Sequential\n",
        "from tensorflow.keras.layers import Dense, Activation, Flatten, Convolution2D, Permute, BatchNormalization\n",
        "#from tensorflow.keras.optimizers import Adam\n",
        "import tensorflow.keras.backend as K\n",
        "\n",
        "from rl.agents.dqn import DQNAgent\n",
        "from rl.policy import LinearAnnealedPolicy, BoltzmannQPolicy, EpsGreedyQPolicy\n",
        "from rl.memory import SequentialMemory\n",
        "from rl.core import Processor\n",
        "from rl.callbacks import FileLogger, ModelIntervalCheckpoint"
      ],
      "metadata": {
        "id": "RX-2z9T1NPp_"
      },
      "execution_count": 3,
      "outputs": []
    },
    {
      "cell_type": "markdown",
      "source": [
        "#### Configuración base"
      ],
      "metadata": {
        "id": "NqJbsVR7POZA"
      }
    },
    {
      "cell_type": "code",
      "source": [
        "INPUT_SHAPE = (84, 84)\n",
        "WINDOW_LENGTH = 4\n",
        "\n",
        "env_name = 'SpaceInvaders-v0'\n",
        "env = gym.make(env_name, frameskip=1)\n",
        "\n",
        "np.random.seed(123)\n",
        "env.seed(123)\n",
        "nb_actions = env.action_space.n\n",
        "\n",
        "#--- nuevo -- ejfm\n",
        "height, width, channels = env.observation_space.shape\n",
        "obs = env.reset()\n",
        "print(height, width, channels)\n",
        "print(\"Forma de la observación:\", obs.shape)  # Debe ser (height, width, channels)\n",
        "env.unwrapped.get_action_meanings()"
      ],
      "metadata": {
        "colab": {
          "base_uri": "https://localhost:8080/"
        },
        "id": "0FlafEtvOKR4",
        "outputId": "0cf412df-e1eb-4d36-8122-9837432d67ef"
      },
      "execution_count": 4,
      "outputs": [
        {
          "output_type": "stream",
          "name": "stdout",
          "text": [
            "210 160 3\n",
            "Forma de la observación: (210, 160, 3)\n"
          ]
        },
        {
          "output_type": "execute_result",
          "data": {
            "text/plain": [
              "['NOOP', 'FIRE', 'RIGHT', 'LEFT', 'RIGHTFIRE', 'LEFTFIRE']"
            ]
          },
          "metadata": {},
          "execution_count": 4
        }
      ]
    },
    {
      "cell_type": "code",
      "source": [
        "class AtariProcessor(Processor):\n",
        "    def process_observation(self, observation):\n",
        "        assert observation.ndim == 3  # (height, width, channel)\n",
        "        img = Image.fromarray(observation)\n",
        "        img = img.resize(INPUT_SHAPE).convert('L')\n",
        "        processed_observation = np.array(img)\n",
        "        assert processed_observation.shape == INPUT_SHAPE\n",
        "        return processed_observation.astype('uint8')\n",
        "\n",
        "    def process_state_batch(self, batch):\n",
        "\n",
        "        # ejfm -- modificado\n",
        "        # Agrega la dimensión de canales (axis=-1) si no está presente\n",
        "        if batch.ndim == 4:                         # Forma: (batch_size, window_length, h, w)\n",
        "            batch = np.expand_dims(batch, axis=-1)  # Nueva forma: (batch_size, window_length, h, w, 1)\n",
        "            processed_batch = batch.astype('float32') / 255.\n",
        "        return processed_batch\n",
        "\n",
        "    def process_reward(self, reward):\n",
        "        return np.clip(reward, -1., 1.)"
      ],
      "metadata": {
        "id": "YSGPGszsOOAw"
      },
      "execution_count": 5,
      "outputs": []
    },
    {
      "cell_type": "markdown",
      "source": [
        "## 1. EJFM Implementación de la red neuronal"
      ],
      "metadata": {
        "id": "Sg54U9vFZEBQ"
      }
    },
    {
      "cell_type": "code",
      "source": [
        "# Habilita estas opciones ANTES de crear el modelo\n",
        "from tensorflow.config import experimental\n",
        "physical_devices = experimental.list_physical_devices('GPU')\n",
        "[experimental.set_memory_growth(gpu, True) for gpu in physical_devices]\n",
        "\n",
        "# Aceleración XLA (compilación optimizada)\n",
        "tf.config.optimizer.set_jit(True)"
      ],
      "metadata": {
        "id": "apBzlkW9FOWg"
      },
      "execution_count": null,
      "outputs": []
    },
    {
      "cell_type": "code",
      "source": [
        "def build_model(height, width, channels, actions):\n",
        "    model = Sequential()\n",
        "\n",
        "    # Capa 1: Conv2D con BatchNorm y ReLU\n",
        "    model.add(Convolution2D(32, (8, 8), strides=4, padding='same', input_shape=(4,84,84,1)))\n",
        "    model.add(Activation('relu'))\n",
        "\n",
        "    # Capa 2: Conv2D con BatchNorm y ReLU\n",
        "    model.add(Convolution2D(64, (4, 4), strides=2, padding='same'))\n",
        "    model.add(Activation('relu'))\n",
        "\n",
        "    # Capa 3: Conv2D con BatchNorm y ReLU\n",
        "    model.add(Convolution2D(64, (3, 3), padding='same'))\n",
        "    model.add(Activation('relu'))\n",
        "\n",
        "    # Aplanar + Capas Dense\n",
        "    model.add(Flatten())\n",
        "\n",
        "    # Capa Fully Connected con Dropout\n",
        "    model.add(Dense(512))\n",
        "    model.add(Activation('relu'))\n",
        "\n",
        "    # Capa de salida\n",
        "    model.add(Dense(actions, activation='linear'))\n",
        "\n",
        "    return model"
      ],
      "metadata": {
        "id": "JhwO3z2oPVq3"
      },
      "execution_count": 6,
      "outputs": []
    },
    {
      "cell_type": "code",
      "source": [
        "model = build_model(84, 84, 1, nb_actions)\n",
        "model.summary()"
      ],
      "metadata": {
        "id": "3eBwiHKuZ6J_",
        "colab": {
          "base_uri": "https://localhost:8080/"
        },
        "outputId": "4d974ee6-9e87-45ea-a0c3-81310dc58b74"
      },
      "execution_count": 7,
      "outputs": [
        {
          "output_type": "stream",
          "name": "stderr",
          "text": [
            "WARNING:tensorflow:From /usr/local/lib/python3.11/dist-packages/keras/layers/normalization/batch_normalization.py:581: _colocate_with (from tensorflow.python.framework.ops) is deprecated and will be removed in a future version.\n",
            "Instructions for updating:\n",
            "Colocations handled automatically by placer.\n"
          ]
        },
        {
          "output_type": "stream",
          "name": "stdout",
          "text": [
            "Model: \"sequential\"\n",
            "_________________________________________________________________\n",
            " Layer (type)                Output Shape              Param #   \n",
            "=================================================================\n",
            " conv2d (Conv2D)             (None, 4, 21, 21, 32)     2080      \n",
            "                                                                 \n",
            " batch_normalization (BatchN  (None, 4, 21, 21, 32)    128       \n",
            " ormalization)                                                   \n",
            "                                                                 \n",
            " activation (Activation)     (None, 4, 21, 21, 32)     0         \n",
            "                                                                 \n",
            " conv2d_1 (Conv2D)           (None, 4, 11, 11, 64)     32832     \n",
            "                                                                 \n",
            " batch_normalization_1 (Batc  (None, 4, 11, 11, 64)    256       \n",
            " hNormalization)                                                 \n",
            "                                                                 \n",
            " activation_1 (Activation)   (None, 4, 11, 11, 64)     0         \n",
            "                                                                 \n",
            " conv2d_2 (Conv2D)           (None, 4, 11, 11, 64)     36928     \n",
            "                                                                 \n",
            " batch_normalization_2 (Batc  (None, 4, 11, 11, 64)    256       \n",
            " hNormalization)                                                 \n",
            "                                                                 \n",
            " activation_2 (Activation)   (None, 4, 11, 11, 64)     0         \n",
            "                                                                 \n",
            " flatten (Flatten)           (None, 30976)             0         \n",
            "                                                                 \n",
            " dense (Dense)               (None, 512)               15860224  \n",
            "                                                                 \n",
            " batch_normalization_3 (Batc  (None, 512)              2048      \n",
            " hNormalization)                                                 \n",
            "                                                                 \n",
            " activation_3 (Activation)   (None, 512)               0         \n",
            "                                                                 \n",
            " dense_1 (Dense)             (None, 6)                 3078      \n",
            "                                                                 \n",
            "=================================================================\n",
            "Total params: 15,937,830\n",
            "Trainable params: 15,936,486\n",
            "Non-trainable params: 1,344\n",
            "_________________________________________________________________\n"
          ]
        }
      ]
    },
    {
      "cell_type": "markdown",
      "source": [
        "## 2. EJFM Implementación de la solución DQN"
      ],
      "metadata": {
        "id": "KwJoe_1sZOX4"
      }
    },
    {
      "cell_type": "code",
      "source": [
        "from rl.agents import DQNAgent\n",
        "from rl.memory import SequentialMemory\n",
        "from rl.policy import LinearAnnealedPolicy, EpsGreedyQPolicy"
      ],
      "metadata": {
        "id": "_EDlLcIIPUsf"
      },
      "execution_count": 8,
      "outputs": []
    },
    {
      "cell_type": "code",
      "source": [
        "def build_agent(model, actions):\n",
        "    policy = LinearAnnealedPolicy(\n",
        "        EpsGreedyQPolicy(),\n",
        "        attr='eps',\n",
        "        value_max=1.0,\n",
        "        value_min=0.02,\n",
        "        value_test=0.005, nb_steps=500_000)\n",
        "    memory = SequentialMemory(limit=1_000_000, window_length=4)\n",
        "    dqn = DQNAgent(model=model,\n",
        "                   memory=memory,\n",
        "                   policy=policy,\n",
        "                   enable_double_dqn=True,\n",
        "                   enable_dueling_network=True,\n",
        "                   dueling_type='avg',\n",
        "                   nb_actions=nb_actions,\n",
        "                   batch_size=128,\n",
        "                   target_model_update=2500,\n",
        "                   processor=AtariProcessor()\n",
        "                  )\n",
        "    return dqn"
      ],
      "metadata": {
        "id": "7FbbInVqR0sg"
      },
      "execution_count": 9,
      "outputs": []
    },
    {
      "cell_type": "code",
      "source": [
        "from rl.callbacks import ModelIntervalCheckpoint\n",
        "\n",
        "# Guardar el modelo cada 50,000 pasos\n",
        "checkpoint_callback = ModelIntervalCheckpoint(\n",
        "    filepath='checkpoints/dqn_v05_weights_{step}.h5f',\n",
        "    interval=50000,  # cada 50,000 pasos\n",
        "    verbose=1\n",
        ")"
      ],
      "metadata": {
        "id": "-TmOagBXbWr4"
      },
      "execution_count": 10,
      "outputs": []
    },
    {
      "cell_type": "code",
      "source": [
        "import os\n",
        "os.makedirs(\"checkpoints\", exist_ok=True)"
      ],
      "metadata": {
        "id": "9ztUDcBVbdtJ"
      },
      "execution_count": 11,
      "outputs": []
    },
    {
      "cell_type": "code",
      "source": [
        "from keras.optimizers import Adam\n",
        "\n",
        "dqn = build_agent(model, nb_actions)\n",
        "dqn.compile(Adam(learning_rate=0.00025, epsilon=1e-4))\n"
      ],
      "metadata": {
        "id": "V-jxyOrdR0cg"
      },
      "execution_count": 12,
      "outputs": []
    },
    {
      "cell_type": "code",
      "source": [
        "from datetime import datetime\n",
        "\n",
        "print(f\"⏱ Tiempo de inicio: {datetime.now().strftime('%H:%M:%S')}\")\n",
        "\n",
        "dqn.fit(env, nb_steps=200000, visualize=False, verbose=2,callbacks=[checkpoint_callback])\n",
        "\n",
        "print(f\"⏱ Tiempo de fin: {datetime.now().strftime('%H:%M:%S')}\")\n",
        "\n",
        "# Guardando modelo\n",
        "dqn.save_weights('dqn_05_weights.h5f')\n"
      ],
      "metadata": {
        "colab": {
          "base_uri": "https://localhost:8080/"
        },
        "id": "AR2u9_7LR0WI",
        "outputId": "385ed2a6-231e-48f9-e0a5-def94291179f"
      },
      "execution_count": 13,
      "outputs": [
        {
          "output_type": "stream",
          "name": "stdout",
          "text": [
            "⏱ Tiempo de inicio: 10:55:58\n",
            "Training for 200000 steps ...\n"
          ]
        },
        {
          "output_type": "stream",
          "name": "stderr",
          "text": [
            "/usr/local/lib/python3.11/dist-packages/keras/engine/training_v1.py:2359: UserWarning: `Model.state_updates` will be removed in a future version. This property should not be used in TensorFlow 2.0, as `updates` are applied automatically.\n",
            "  updates=self.state_updates,\n"
          ]
        },
        {
          "output_type": "stream",
          "name": "stdout",
          "text": [
            "   1963/200000: episode: 1, duration: 551.818s, episode steps: 1963, steps per second:   4, episode reward:  7.000, mean reward:  0.004 [ 0.000,  1.000], mean action: 2.424 [0.000, 5.000],  loss: 0.073765, mean_q: 0.144113, mean_eps: 0.998064\n",
            "   3518/200000: episode: 2, duration: 923.723s, episode steps: 1555, steps per second:   2, episode reward:  5.000, mean reward:  0.003 [ 0.000,  1.000], mean action: 2.474 [0.000, 5.000],  loss: 0.001584, mean_q: 0.075977, mean_eps: 0.996420\n",
            "   6193/200000: episode: 3, duration: 1598.897s, episode steps: 2675, steps per second:   2, episode reward: 18.000, mean reward:  0.007 [ 0.000,  1.000], mean action: 2.467 [0.000, 5.000],  loss: 0.004948, mean_q: 0.058114, mean_eps: 0.993656\n",
            "   8586/200000: episode: 4, duration: 1431.665s, episode steps: 2393, steps per second:   2, episode reward: 10.000, mean reward:  0.004 [ 0.000,  1.000], mean action: 2.491 [0.000, 5.000],  loss: 0.007002, mean_q: 0.033920, mean_eps: 0.990345\n",
            "  12119/200000: episode: 5, duration: 2112.918s, episode steps: 3533, steps per second:   2, episode reward: 22.000, mean reward:  0.006 [ 0.000,  1.000], mean action: 2.462 [0.000, 5.000],  loss: 0.016317, mean_q: -0.063803, mean_eps: 0.986473\n",
            "  14460/200000: episode: 6, duration: 1412.157s, episode steps: 2341, steps per second:   2, episode reward: 10.000, mean reward:  0.004 [ 0.000,  1.000], mean action: 2.555 [0.000, 5.000],  loss: 0.017129, mean_q: -0.127803, mean_eps: 0.982636\n",
            "  16591/200000: episode: 7, duration: 1291.857s, episode steps: 2131, steps per second:   2, episode reward: 11.000, mean reward:  0.005 [ 0.000,  1.000], mean action: 2.490 [0.000, 5.000],  loss: 0.009573, mean_q: -0.191790, mean_eps: 0.979714\n",
            "  18394/200000: episode: 8, duration: 1081.622s, episode steps: 1803, steps per second:   2, episode reward:  6.000, mean reward:  0.003 [ 0.000,  1.000], mean action: 2.571 [0.000, 5.000],  loss: 0.006673, mean_q: -0.185539, mean_eps: 0.977144\n",
            "  19609/200000: episode: 9, duration: 729.433s, episode steps: 1215, steps per second:   2, episode reward:  8.000, mean reward:  0.007 [ 0.000,  1.000], mean action: 2.485 [0.000, 5.000],  loss: 0.006758, mean_q: -0.196335, mean_eps: 0.975172\n",
            "  21126/200000: episode: 10, duration: 907.695s, episode steps: 1517, steps per second:   2, episode reward:  8.000, mean reward:  0.005 [ 0.000,  1.000], mean action: 2.465 [0.000, 5.000],  loss: 0.009269, mean_q: -0.298434, mean_eps: 0.973387\n",
            "  23275/200000: episode: 11, duration: 1285.495s, episode steps: 2149, steps per second:   2, episode reward:  9.000, mean reward:  0.004 [ 0.000,  1.000], mean action: 2.482 [0.000, 5.000],  loss: 0.009804, mean_q: -0.325468, mean_eps: 0.970992\n",
            "  26696/200000: episode: 12, duration: 2048.722s, episode steps: 3421, steps per second:   2, episode reward: 15.000, mean reward:  0.004 [ 0.000,  1.000], mean action: 2.521 [0.000, 5.000],  loss: 0.008920, mean_q: -0.285511, mean_eps: 0.967353\n",
            "  27811/200000: episode: 13, duration: 670.739s, episode steps: 1115, steps per second:   2, episode reward:  3.000, mean reward:  0.003 [ 0.000,  1.000], mean action: 2.483 [0.000, 5.000],  loss: 0.008449, mean_q: -0.221968, mean_eps: 0.964389\n",
            "  28984/200000: episode: 14, duration: 704.758s, episode steps: 1173, steps per second:   2, episode reward:  9.000, mean reward:  0.008 [ 0.000,  1.000], mean action: 2.554 [0.000, 5.000],  loss: 0.008574, mean_q: -0.174915, mean_eps: 0.962895\n",
            "  31339/200000: episode: 15, duration: 1418.430s, episode steps: 2355, steps per second:   2, episode reward: 15.000, mean reward:  0.006 [ 0.000,  1.000], mean action: 2.493 [0.000, 5.000],  loss: 0.007864, mean_q: -0.244008, mean_eps: 0.960590\n",
            "  34704/200000: episode: 16, duration: 2028.583s, episode steps: 3365, steps per second:   2, episode reward: 19.000, mean reward:  0.006 [ 0.000,  1.000], mean action: 2.459 [0.000, 5.000],  loss: 0.006974, mean_q: -0.265651, mean_eps: 0.956853\n",
            "  37445/200000: episode: 17, duration: 1647.251s, episode steps: 2741, steps per second:   2, episode reward: 17.000, mean reward:  0.006 [ 0.000,  1.000], mean action: 2.466 [0.000, 5.000],  loss: 0.005229, mean_q: -0.378960, mean_eps: 0.952863\n",
            "  39470/200000: episode: 18, duration: 1220.883s, episode steps: 2025, steps per second:   2, episode reward:  6.000, mean reward:  0.003 [ 0.000,  1.000], mean action: 2.602 [0.000, 5.000],  loss: 0.004127, mean_q: -0.394572, mean_eps: 0.949750\n",
            "  40657/200000: episode: 19, duration: 718.323s, episode steps: 1187, steps per second:   2, episode reward:  7.000, mean reward:  0.006 [ 0.000,  1.000], mean action: 2.546 [0.000, 5.000],  loss: 0.004604, mean_q: -0.411098, mean_eps: 0.947651\n",
            "done, took 23877.081 seconds\n",
            "⏱ Tiempo de fin: 17:33:55\n"
          ]
        }
      ]
    },
    {
      "cell_type": "code",
      "source": [
        "# Testing part to calculate the mean reward\n",
        "#weights_filename = 'dqn_{}_weights.h5f'.format(env_name)\n",
        "weights_filename = 'dqn_05_weights.h5f'.format(env_name)\n",
        "dqn.load_weights(weights_filename)\n",
        "dqn.test(env, nb_episodes=10, visualize=False)"
      ],
      "metadata": {
        "id": "WSVcMgOsR0Nv",
        "colab": {
          "base_uri": "https://localhost:8080/"
        },
        "outputId": "05d82423-ec9b-44f3-cdd4-9debf14c4c38"
      },
      "execution_count": 14,
      "outputs": [
        {
          "output_type": "stream",
          "name": "stdout",
          "text": [
            "Testing for 10 episodes ...\n",
            "Episode 1: reward: 11.000, steps: 2661\n",
            "Episode 2: reward: 12.000, steps: 3181\n",
            "Episode 3: reward: 21.000, steps: 4395\n",
            "Episode 4: reward: 6.000, steps: 1997\n",
            "Episode 5: reward: 18.000, steps: 4063\n",
            "Episode 6: reward: 19.000, steps: 4441\n",
            "Episode 7: reward: 5.000, steps: 1557\n",
            "Episode 8: reward: 14.000, steps: 3165\n",
            "Episode 9: reward: 4.000, steps: 1983\n",
            "Episode 10: reward: 12.000, steps: 2743\n"
          ]
        },
        {
          "output_type": "execute_result",
          "data": {
            "text/plain": [
              "<keras.callbacks.History at 0x79dd3042e7d0>"
            ]
          },
          "metadata": {},
          "execution_count": 14
        }
      ]
    },
    {
      "cell_type": "code",
      "source": [
        "from google.colab import drive\n",
        "import shutil\n",
        "import glob  # <-- ¡Falta este import!\n",
        "import os\n",
        "\n",
        "# 1. Montar Google Drive\n",
        "#drive.mount('/content/drive')\n",
        "\n",
        "# 2. Crear directorio en Drive si no existe\n",
        "os.makedirs('/content/gdrive/MyDrive/Colab_Outputs', exist_ok=True)\n",
        "\n",
        "# 3. Buscar y copiar todos los archivos coincidentes\n",
        "archivos = glob.glob('dqn_05_weights.h5f.*')  # Encuentra todos los archivos con ese patrón\n",
        "\n",
        "for archivo in archivos:\n",
        "    shutil.copy(\n",
        "        archivo,\n",
        "        f'/content/gdrive/MyDrive/Colab_Outputs/{os.path.basename(archivo)}'\n",
        "    )\n",
        "    print(f\"¡Archivo {archivo} copiado a Drive!\")\n",
        "\n",
        "print(\"✅ ¡Todos los archivos copiados!\")\n"
      ],
      "metadata": {
        "id": "3Xhh-2NERz-n",
        "colab": {
          "base_uri": "https://localhost:8080/"
        },
        "outputId": "31cccfd2-7d0c-4428-d259-bd761a5a8ebf"
      },
      "execution_count": 18,
      "outputs": [
        {
          "output_type": "stream",
          "name": "stdout",
          "text": [
            "¡Archivo dqn_05_weights.h5f.index copiado a Drive!\n",
            "¡Archivo dqn_05_weights.h5f.data-00000-of-00001 copiado a Drive!\n",
            "✅ ¡Todos los archivos copiados!\n"
          ]
        }
      ]
    },
    {
      "cell_type": "code",
      "source": [],
      "metadata": {
        "id": "0UPDMrWP-lGP"
      },
      "execution_count": null,
      "outputs": []
    }
  ]
}