{
  "nbformat": 4,
  "nbformat_minor": 0,
  "metadata": {
    "colab": {
      "provenance": [],
      "gpuType": "T4",
      "include_colab_link": true
    },
    "kernelspec": {
      "name": "python3",
      "display_name": "Python 3"
    },
    "language_info": {
      "name": "python"
    },
    "accelerator": "GPU"
  },
  "cells": [
    {
      "cell_type": "markdown",
      "metadata": {
        "id": "view-in-github",
        "colab_type": "text"
      },
      "source": [
        "<a href=\"https://colab.research.google.com/github/LuisIrigoyen/trabajo_final_RL/blob/main/proyecto_final_APR_V06_5_en_colab.ipynb\" target=\"_parent\"><img src=\"https://colab.research.google.com/assets/colab-badge.svg\" alt=\"Open In Colab\"/></a>"
      ]
    },
    {
      "cell_type": "code",
      "source": [],
      "metadata": {
        "id": "wVXkh8rCNl45"
      },
      "execution_count": null,
      "outputs": []
    },
    {
      "cell_type": "markdown",
      "source": [
        "## 1.2. Localizar entorno de trabajo: Google colab o local"
      ],
      "metadata": {
        "id": "D89Ue2uZNtzn"
      }
    },
    {
      "cell_type": "code",
      "execution_count": 1,
      "metadata": {
        "id": "7EQ46sNGLj22"
      },
      "outputs": [],
      "source": [
        "# ATENCIÓN!! Modificar ruta relativa a la práctica si es distinta (drive_root)\n",
        "mount='/content/gdrive'\n",
        "drive_root = mount + \"/My Drive/08_MIAR/actividades/proyecto practico\"\n",
        "\n",
        "try:\n",
        "  from google.colab import drive\n",
        "  IN_COLAB=True\n",
        "except:\n",
        "  IN_COLAB=False\n"
      ]
    },
    {
      "cell_type": "markdown",
      "source": [
        "## 1.3. Montar carpeta de datos local (solo Colab)"
      ],
      "metadata": {
        "id": "6on2PNxZN51A"
      }
    },
    {
      "cell_type": "code",
      "source": [
        "# Switch to the directory on the Google Drive that you want to use\n",
        "import os\n",
        "if IN_COLAB:\n",
        "  print(\"We're running Colab\")\n",
        "\n",
        "  if IN_COLAB:\n",
        "    # Mount the Google Drive at mount\n",
        "    print(\"Colab: mounting Google drive on \", mount)\n",
        "\n",
        "    drive.mount(mount)\n",
        "\n",
        "    # Create drive_root if it doesn't exist\n",
        "    create_drive_root = True\n",
        "    if create_drive_root:\n",
        "      print(\"\\nColab: making sure \", drive_root, \" exists.\")\n",
        "      os.makedirs(drive_root, exist_ok=True)\n",
        "\n",
        "    # Change to the directory\n",
        "    print(\"\\nColab: Changing directory to \", drive_root)\n",
        "    %cd $drive_root\n",
        "# Verify we're in the correct working directory\n",
        "%pwd\n",
        "print(\"Archivos en el directorio: \")\n",
        "print(os.listdir())"
      ],
      "metadata": {
        "colab": {
          "base_uri": "https://localhost:8080/"
        },
        "id": "inTxnmr0MKCH",
        "outputId": "e48ee6e8-14f0-4bf9-bc22-7d423ef05a4f"
      },
      "execution_count": 2,
      "outputs": [
        {
          "output_type": "stream",
          "name": "stdout",
          "text": [
            "We're running Colab\n",
            "Colab: mounting Google drive on  /content/gdrive\n",
            "Drive already mounted at /content/gdrive; to attempt to forcibly remount, call drive.mount(\"/content/gdrive\", force_remount=True).\n",
            "\n",
            "Colab: making sure  /content/gdrive/My Drive/08_MIAR/actividades/proyecto practico  exists.\n",
            "\n",
            "Colab: Changing directory to  /content/gdrive/My Drive/08_MIAR/actividades/proyecto practico\n",
            "/content/gdrive/My Drive/08_MIAR/actividades/proyecto practico\n",
            "Archivos en el directorio: \n",
            "['dqn_models', 'checkpoints', 'dqn_05_weights.h5f.data-00000-of-00001', 'dqn_05_weights.h5f.index', 'dqn_06_weights.h5f.index', 'dqn_06_weights.h5f.data-00000-of-00001', 'dqn_07_weights.h5f.index', 'dqn_07_weights.h5f.data-00000-of-00001', 'dqn_08_weights.h5f.data-00000-of-00001', 'dqn_08_weights.h5f.index', '.ipynb_checkpoints', 'dqn_09_weights.h5f.index', 'dqn_09_weights.h5f.data-00000-of-00001', 'dqn_06_1_weights.h5f.data-00000-of-00001', 'dqn_06_1_weights.h5f.index', 'video', 'dqn_06_3_weights.h5f.index', 'dqn_06_3_weights.h5f.data-00000-of-00001', 'dqn_06_4_weights.h5f.index', 'dqn_06_4_weights.h5f.data-00000-of-00001', 'dqn_v0_weights.h5f.index', 'dqn_v0_weights.h5f.data-00000-of-00001', 'dqn_v06_4_weights.h5f.data-00000-of-00001', 'dqn_v06_4_weights.h5f.index', 'checkpoint']\n"
          ]
        }
      ]
    },
    {
      "cell_type": "markdown",
      "source": [
        "## 1.4. Instalar librerías necesarias"
      ],
      "metadata": {
        "id": "MYrJ03QWN9Hw"
      }
    },
    {
      "cell_type": "code",
      "source": [
        "if IN_COLAB:\n",
        "  %pip install gym==0.17.3\n",
        "  %pip install git+https://github.com/Kojoley/atari-py.git\n",
        "  %pip install keras-rl2==1.0.5\n",
        "  %pip install tensorflow==2.12  #2.8\n",
        "else:\n",
        "  %pip install gym==0.17.3\n",
        "  %pip install git+https://github.com/Kojoley/atari-py.git\n",
        "  %pip install pyglet==1.5.0\n",
        "  %pip install h5py==3.1.0\n",
        "  %pip install Pillow==9.5.0\n",
        "  %pip install keras-rl2==1.05\n",
        "  %pip install Keras==2.2.4\n",
        "  %pip install tensorflow==2.1.0\n",
        "  %pip install torch==2.0.1\n",
        "  %pip install agents==1.4.0"
      ],
      "metadata": {
        "colab": {
          "base_uri": "https://localhost:8080/"
        },
        "id": "zSbNMsl4MTo3",
        "outputId": "a2b22e2e-cd56-4369-cf87-7e6e18f4237e"
      },
      "execution_count": 3,
      "outputs": [
        {
          "output_type": "stream",
          "name": "stdout",
          "text": [
            "Requirement already satisfied: gym==0.17.3 in /usr/local/lib/python3.11/dist-packages (0.17.3)\n",
            "Requirement already satisfied: scipy in /usr/local/lib/python3.11/dist-packages (from gym==0.17.3) (1.15.3)\n",
            "Requirement already satisfied: numpy>=1.10.4 in /usr/local/lib/python3.11/dist-packages (from gym==0.17.3) (1.23.5)\n",
            "Requirement already satisfied: pyglet<=1.5.0,>=1.4.0 in /usr/local/lib/python3.11/dist-packages (from gym==0.17.3) (1.5.0)\n",
            "Requirement already satisfied: cloudpickle<1.7.0,>=1.2.0 in /usr/local/lib/python3.11/dist-packages (from gym==0.17.3) (1.6.0)\n",
            "Requirement already satisfied: future in /usr/local/lib/python3.11/dist-packages (from pyglet<=1.5.0,>=1.4.0->gym==0.17.3) (1.0.0)\n",
            "Collecting git+https://github.com/Kojoley/atari-py.git\n",
            "  Cloning https://github.com/Kojoley/atari-py.git to /tmp/pip-req-build-r1s7xbmy\n",
            "  Running command git clone --filter=blob:none --quiet https://github.com/Kojoley/atari-py.git /tmp/pip-req-build-r1s7xbmy\n",
            "  Resolved https://github.com/Kojoley/atari-py.git to commit 86a1e05c0a95e9e6233c3a413521fdb34ca8a089\n",
            "  Preparing metadata (setup.py) ... \u001b[?25l\u001b[?25hdone\n",
            "Requirement already satisfied: numpy in /usr/local/lib/python3.11/dist-packages (from atari-py==1.2.2) (1.23.5)\n",
            "Requirement already satisfied: keras-rl2==1.0.5 in /usr/local/lib/python3.11/dist-packages (1.0.5)\n",
            "Requirement already satisfied: tensorflow in /usr/local/lib/python3.11/dist-packages (from keras-rl2==1.0.5) (2.12.0)\n",
            "Requirement already satisfied: absl-py>=1.0.0 in /usr/local/lib/python3.11/dist-packages (from tensorflow->keras-rl2==1.0.5) (1.4.0)\n",
            "Requirement already satisfied: astunparse>=1.6.0 in /usr/local/lib/python3.11/dist-packages (from tensorflow->keras-rl2==1.0.5) (1.6.3)\n",
            "Requirement already satisfied: flatbuffers>=2.0 in /usr/local/lib/python3.11/dist-packages (from tensorflow->keras-rl2==1.0.5) (25.2.10)\n",
            "Requirement already satisfied: gast<=0.4.0,>=0.2.1 in /usr/local/lib/python3.11/dist-packages (from tensorflow->keras-rl2==1.0.5) (0.4.0)\n",
            "Requirement already satisfied: google-pasta>=0.1.1 in /usr/local/lib/python3.11/dist-packages (from tensorflow->keras-rl2==1.0.5) (0.2.0)\n",
            "Requirement already satisfied: grpcio<2.0,>=1.24.3 in /usr/local/lib/python3.11/dist-packages (from tensorflow->keras-rl2==1.0.5) (1.73.0)\n",
            "Requirement already satisfied: h5py>=2.9.0 in /usr/local/lib/python3.11/dist-packages (from tensorflow->keras-rl2==1.0.5) (3.14.0)\n",
            "Requirement already satisfied: jax>=0.3.15 in /usr/local/lib/python3.11/dist-packages (from tensorflow->keras-rl2==1.0.5) (0.4.30)\n",
            "Requirement already satisfied: keras<2.13,>=2.12.0 in /usr/local/lib/python3.11/dist-packages (from tensorflow->keras-rl2==1.0.5) (2.12.0)\n",
            "Requirement already satisfied: libclang>=13.0.0 in /usr/local/lib/python3.11/dist-packages (from tensorflow->keras-rl2==1.0.5) (18.1.1)\n",
            "Requirement already satisfied: numpy<1.24,>=1.22 in /usr/local/lib/python3.11/dist-packages (from tensorflow->keras-rl2==1.0.5) (1.23.5)\n",
            "Requirement already satisfied: opt-einsum>=2.3.2 in /usr/local/lib/python3.11/dist-packages (from tensorflow->keras-rl2==1.0.5) (3.4.0)\n",
            "Requirement already satisfied: packaging in /usr/local/lib/python3.11/dist-packages (from tensorflow->keras-rl2==1.0.5) (24.2)\n",
            "Requirement already satisfied: protobuf!=4.21.0,!=4.21.1,!=4.21.2,!=4.21.3,!=4.21.4,!=4.21.5,<5.0.0dev,>=3.20.3 in /usr/local/lib/python3.11/dist-packages (from tensorflow->keras-rl2==1.0.5) (4.25.8)\n",
            "Requirement already satisfied: setuptools in /usr/local/lib/python3.11/dist-packages (from tensorflow->keras-rl2==1.0.5) (75.2.0)\n",
            "Requirement already satisfied: six>=1.12.0 in /usr/local/lib/python3.11/dist-packages (from tensorflow->keras-rl2==1.0.5) (1.17.0)\n",
            "Requirement already satisfied: tensorboard<2.13,>=2.12 in /usr/local/lib/python3.11/dist-packages (from tensorflow->keras-rl2==1.0.5) (2.12.3)\n",
            "Requirement already satisfied: tensorflow-estimator<2.13,>=2.12.0 in /usr/local/lib/python3.11/dist-packages (from tensorflow->keras-rl2==1.0.5) (2.12.0)\n",
            "Requirement already satisfied: termcolor>=1.1.0 in /usr/local/lib/python3.11/dist-packages (from tensorflow->keras-rl2==1.0.5) (3.1.0)\n",
            "Requirement already satisfied: typing-extensions>=3.6.6 in /usr/local/lib/python3.11/dist-packages (from tensorflow->keras-rl2==1.0.5) (4.14.0)\n",
            "Requirement already satisfied: wrapt<1.15,>=1.11.0 in /usr/local/lib/python3.11/dist-packages (from tensorflow->keras-rl2==1.0.5) (1.14.1)\n",
            "Requirement already satisfied: tensorflow-io-gcs-filesystem>=0.23.1 in /usr/local/lib/python3.11/dist-packages (from tensorflow->keras-rl2==1.0.5) (0.37.1)\n",
            "Requirement already satisfied: wheel<1.0,>=0.23.0 in /usr/local/lib/python3.11/dist-packages (from astunparse>=1.6.0->tensorflow->keras-rl2==1.0.5) (0.45.1)\n",
            "Requirement already satisfied: jaxlib<=0.4.30,>=0.4.27 in /usr/local/lib/python3.11/dist-packages (from jax>=0.3.15->tensorflow->keras-rl2==1.0.5) (0.4.30)\n",
            "Requirement already satisfied: ml-dtypes>=0.2.0 in /usr/local/lib/python3.11/dist-packages (from jax>=0.3.15->tensorflow->keras-rl2==1.0.5) (0.4.1)\n",
            "Requirement already satisfied: scipy>=1.9 in /usr/local/lib/python3.11/dist-packages (from jax>=0.3.15->tensorflow->keras-rl2==1.0.5) (1.15.3)\n",
            "Requirement already satisfied: google-auth<3,>=1.6.3 in /usr/local/lib/python3.11/dist-packages (from tensorboard<2.13,>=2.12->tensorflow->keras-rl2==1.0.5) (2.38.0)\n",
            "Requirement already satisfied: google-auth-oauthlib<1.1,>=0.5 in /usr/local/lib/python3.11/dist-packages (from tensorboard<2.13,>=2.12->tensorflow->keras-rl2==1.0.5) (1.0.0)\n",
            "Requirement already satisfied: markdown>=2.6.8 in /usr/local/lib/python3.11/dist-packages (from tensorboard<2.13,>=2.12->tensorflow->keras-rl2==1.0.5) (3.8)\n",
            "Requirement already satisfied: requests<3,>=2.21.0 in /usr/local/lib/python3.11/dist-packages (from tensorboard<2.13,>=2.12->tensorflow->keras-rl2==1.0.5) (2.32.3)\n",
            "Requirement already satisfied: tensorboard-data-server<0.8.0,>=0.7.0 in /usr/local/lib/python3.11/dist-packages (from tensorboard<2.13,>=2.12->tensorflow->keras-rl2==1.0.5) (0.7.2)\n",
            "Requirement already satisfied: werkzeug>=1.0.1 in /usr/local/lib/python3.11/dist-packages (from tensorboard<2.13,>=2.12->tensorflow->keras-rl2==1.0.5) (3.1.3)\n",
            "Requirement already satisfied: cachetools<6.0,>=2.0.0 in /usr/local/lib/python3.11/dist-packages (from google-auth<3,>=1.6.3->tensorboard<2.13,>=2.12->tensorflow->keras-rl2==1.0.5) (5.5.2)\n",
            "Requirement already satisfied: pyasn1-modules>=0.2.1 in /usr/local/lib/python3.11/dist-packages (from google-auth<3,>=1.6.3->tensorboard<2.13,>=2.12->tensorflow->keras-rl2==1.0.5) (0.4.2)\n",
            "Requirement already satisfied: rsa<5,>=3.1.4 in /usr/local/lib/python3.11/dist-packages (from google-auth<3,>=1.6.3->tensorboard<2.13,>=2.12->tensorflow->keras-rl2==1.0.5) (4.9.1)\n",
            "Requirement already satisfied: requests-oauthlib>=0.7.0 in /usr/local/lib/python3.11/dist-packages (from google-auth-oauthlib<1.1,>=0.5->tensorboard<2.13,>=2.12->tensorflow->keras-rl2==1.0.5) (2.0.0)\n",
            "Requirement already satisfied: charset-normalizer<4,>=2 in /usr/local/lib/python3.11/dist-packages (from requests<3,>=2.21.0->tensorboard<2.13,>=2.12->tensorflow->keras-rl2==1.0.5) (3.4.2)\n",
            "Requirement already satisfied: idna<4,>=2.5 in /usr/local/lib/python3.11/dist-packages (from requests<3,>=2.21.0->tensorboard<2.13,>=2.12->tensorflow->keras-rl2==1.0.5) (3.10)\n",
            "Requirement already satisfied: urllib3<3,>=1.21.1 in /usr/local/lib/python3.11/dist-packages (from requests<3,>=2.21.0->tensorboard<2.13,>=2.12->tensorflow->keras-rl2==1.0.5) (2.4.0)\n",
            "Requirement already satisfied: certifi>=2017.4.17 in /usr/local/lib/python3.11/dist-packages (from requests<3,>=2.21.0->tensorboard<2.13,>=2.12->tensorflow->keras-rl2==1.0.5) (2025.6.15)\n",
            "Requirement already satisfied: MarkupSafe>=2.1.1 in /usr/local/lib/python3.11/dist-packages (from werkzeug>=1.0.1->tensorboard<2.13,>=2.12->tensorflow->keras-rl2==1.0.5) (3.0.2)\n",
            "Requirement already satisfied: pyasn1<0.7.0,>=0.6.1 in /usr/local/lib/python3.11/dist-packages (from pyasn1-modules>=0.2.1->google-auth<3,>=1.6.3->tensorboard<2.13,>=2.12->tensorflow->keras-rl2==1.0.5) (0.6.1)\n",
            "Requirement already satisfied: oauthlib>=3.0.0 in /usr/local/lib/python3.11/dist-packages (from requests-oauthlib>=0.7.0->google-auth-oauthlib<1.1,>=0.5->tensorboard<2.13,>=2.12->tensorflow->keras-rl2==1.0.5) (3.2.2)\n",
            "Requirement already satisfied: tensorflow==2.12 in /usr/local/lib/python3.11/dist-packages (2.12.0)\n",
            "Requirement already satisfied: absl-py>=1.0.0 in /usr/local/lib/python3.11/dist-packages (from tensorflow==2.12) (1.4.0)\n",
            "Requirement already satisfied: astunparse>=1.6.0 in /usr/local/lib/python3.11/dist-packages (from tensorflow==2.12) (1.6.3)\n",
            "Requirement already satisfied: flatbuffers>=2.0 in /usr/local/lib/python3.11/dist-packages (from tensorflow==2.12) (25.2.10)\n",
            "Requirement already satisfied: gast<=0.4.0,>=0.2.1 in /usr/local/lib/python3.11/dist-packages (from tensorflow==2.12) (0.4.0)\n",
            "Requirement already satisfied: google-pasta>=0.1.1 in /usr/local/lib/python3.11/dist-packages (from tensorflow==2.12) (0.2.0)\n",
            "Requirement already satisfied: grpcio<2.0,>=1.24.3 in /usr/local/lib/python3.11/dist-packages (from tensorflow==2.12) (1.73.0)\n",
            "Requirement already satisfied: h5py>=2.9.0 in /usr/local/lib/python3.11/dist-packages (from tensorflow==2.12) (3.14.0)\n",
            "Requirement already satisfied: jax>=0.3.15 in /usr/local/lib/python3.11/dist-packages (from tensorflow==2.12) (0.4.30)\n",
            "Requirement already satisfied: keras<2.13,>=2.12.0 in /usr/local/lib/python3.11/dist-packages (from tensorflow==2.12) (2.12.0)\n",
            "Requirement already satisfied: libclang>=13.0.0 in /usr/local/lib/python3.11/dist-packages (from tensorflow==2.12) (18.1.1)\n",
            "Requirement already satisfied: numpy<1.24,>=1.22 in /usr/local/lib/python3.11/dist-packages (from tensorflow==2.12) (1.23.5)\n",
            "Requirement already satisfied: opt-einsum>=2.3.2 in /usr/local/lib/python3.11/dist-packages (from tensorflow==2.12) (3.4.0)\n",
            "Requirement already satisfied: packaging in /usr/local/lib/python3.11/dist-packages (from tensorflow==2.12) (24.2)\n",
            "Requirement already satisfied: protobuf!=4.21.0,!=4.21.1,!=4.21.2,!=4.21.3,!=4.21.4,!=4.21.5,<5.0.0dev,>=3.20.3 in /usr/local/lib/python3.11/dist-packages (from tensorflow==2.12) (4.25.8)\n",
            "Requirement already satisfied: setuptools in /usr/local/lib/python3.11/dist-packages (from tensorflow==2.12) (75.2.0)\n",
            "Requirement already satisfied: six>=1.12.0 in /usr/local/lib/python3.11/dist-packages (from tensorflow==2.12) (1.17.0)\n",
            "Requirement already satisfied: tensorboard<2.13,>=2.12 in /usr/local/lib/python3.11/dist-packages (from tensorflow==2.12) (2.12.3)\n",
            "Requirement already satisfied: tensorflow-estimator<2.13,>=2.12.0 in /usr/local/lib/python3.11/dist-packages (from tensorflow==2.12) (2.12.0)\n",
            "Requirement already satisfied: termcolor>=1.1.0 in /usr/local/lib/python3.11/dist-packages (from tensorflow==2.12) (3.1.0)\n",
            "Requirement already satisfied: typing-extensions>=3.6.6 in /usr/local/lib/python3.11/dist-packages (from tensorflow==2.12) (4.14.0)\n",
            "Requirement already satisfied: wrapt<1.15,>=1.11.0 in /usr/local/lib/python3.11/dist-packages (from tensorflow==2.12) (1.14.1)\n",
            "Requirement already satisfied: tensorflow-io-gcs-filesystem>=0.23.1 in /usr/local/lib/python3.11/dist-packages (from tensorflow==2.12) (0.37.1)\n",
            "Requirement already satisfied: wheel<1.0,>=0.23.0 in /usr/local/lib/python3.11/dist-packages (from astunparse>=1.6.0->tensorflow==2.12) (0.45.1)\n",
            "Requirement already satisfied: jaxlib<=0.4.30,>=0.4.27 in /usr/local/lib/python3.11/dist-packages (from jax>=0.3.15->tensorflow==2.12) (0.4.30)\n",
            "Requirement already satisfied: ml-dtypes>=0.2.0 in /usr/local/lib/python3.11/dist-packages (from jax>=0.3.15->tensorflow==2.12) (0.4.1)\n",
            "Requirement already satisfied: scipy>=1.9 in /usr/local/lib/python3.11/dist-packages (from jax>=0.3.15->tensorflow==2.12) (1.15.3)\n",
            "Requirement already satisfied: google-auth<3,>=1.6.3 in /usr/local/lib/python3.11/dist-packages (from tensorboard<2.13,>=2.12->tensorflow==2.12) (2.38.0)\n",
            "Requirement already satisfied: google-auth-oauthlib<1.1,>=0.5 in /usr/local/lib/python3.11/dist-packages (from tensorboard<2.13,>=2.12->tensorflow==2.12) (1.0.0)\n",
            "Requirement already satisfied: markdown>=2.6.8 in /usr/local/lib/python3.11/dist-packages (from tensorboard<2.13,>=2.12->tensorflow==2.12) (3.8)\n",
            "Requirement already satisfied: requests<3,>=2.21.0 in /usr/local/lib/python3.11/dist-packages (from tensorboard<2.13,>=2.12->tensorflow==2.12) (2.32.3)\n",
            "Requirement already satisfied: tensorboard-data-server<0.8.0,>=0.7.0 in /usr/local/lib/python3.11/dist-packages (from tensorboard<2.13,>=2.12->tensorflow==2.12) (0.7.2)\n",
            "Requirement already satisfied: werkzeug>=1.0.1 in /usr/local/lib/python3.11/dist-packages (from tensorboard<2.13,>=2.12->tensorflow==2.12) (3.1.3)\n",
            "Requirement already satisfied: cachetools<6.0,>=2.0.0 in /usr/local/lib/python3.11/dist-packages (from google-auth<3,>=1.6.3->tensorboard<2.13,>=2.12->tensorflow==2.12) (5.5.2)\n",
            "Requirement already satisfied: pyasn1-modules>=0.2.1 in /usr/local/lib/python3.11/dist-packages (from google-auth<3,>=1.6.3->tensorboard<2.13,>=2.12->tensorflow==2.12) (0.4.2)\n",
            "Requirement already satisfied: rsa<5,>=3.1.4 in /usr/local/lib/python3.11/dist-packages (from google-auth<3,>=1.6.3->tensorboard<2.13,>=2.12->tensorflow==2.12) (4.9.1)\n",
            "Requirement already satisfied: requests-oauthlib>=0.7.0 in /usr/local/lib/python3.11/dist-packages (from google-auth-oauthlib<1.1,>=0.5->tensorboard<2.13,>=2.12->tensorflow==2.12) (2.0.0)\n",
            "Requirement already satisfied: charset-normalizer<4,>=2 in /usr/local/lib/python3.11/dist-packages (from requests<3,>=2.21.0->tensorboard<2.13,>=2.12->tensorflow==2.12) (3.4.2)\n",
            "Requirement already satisfied: idna<4,>=2.5 in /usr/local/lib/python3.11/dist-packages (from requests<3,>=2.21.0->tensorboard<2.13,>=2.12->tensorflow==2.12) (3.10)\n",
            "Requirement already satisfied: urllib3<3,>=1.21.1 in /usr/local/lib/python3.11/dist-packages (from requests<3,>=2.21.0->tensorboard<2.13,>=2.12->tensorflow==2.12) (2.4.0)\n",
            "Requirement already satisfied: certifi>=2017.4.17 in /usr/local/lib/python3.11/dist-packages (from requests<3,>=2.21.0->tensorboard<2.13,>=2.12->tensorflow==2.12) (2025.6.15)\n",
            "Requirement already satisfied: MarkupSafe>=2.1.1 in /usr/local/lib/python3.11/dist-packages (from werkzeug>=1.0.1->tensorboard<2.13,>=2.12->tensorflow==2.12) (3.0.2)\n",
            "Requirement already satisfied: pyasn1<0.7.0,>=0.6.1 in /usr/local/lib/python3.11/dist-packages (from pyasn1-modules>=0.2.1->google-auth<3,>=1.6.3->tensorboard<2.13,>=2.12->tensorflow==2.12) (0.6.1)\n",
            "Requirement already satisfied: oauthlib>=3.0.0 in /usr/local/lib/python3.11/dist-packages (from requests-oauthlib>=0.7.0->google-auth-oauthlib<1.1,>=0.5->tensorboard<2.13,>=2.12->tensorflow==2.12) (3.2.2)\n"
          ]
        }
      ]
    },
    {
      "cell_type": "markdown",
      "source": [
        "## **PARTE 3**. Desarrollo y preguntas\n",
        "Importar librerías"
      ],
      "metadata": {
        "id": "mS60Dk-KO5e3"
      }
    },
    {
      "cell_type": "code",
      "source": [
        "from __future__ import division\n",
        "\n",
        "from PIL import Image\n",
        "import numpy as np\n",
        "import gym\n",
        "\n",
        "from tensorflow.keras.models import Sequential\n",
        "from tensorflow.keras.layers import Dense, Activation, Flatten, Conv2D, Permute\n",
        "#from tensorflow.keras.optimizers import Adam\n",
        "import tensorflow.keras.backend as K\n",
        "\n",
        "from rl.agents.dqn import DQNAgent\n",
        "from rl.policy import LinearAnnealedPolicy, BoltzmannQPolicy, EpsGreedyQPolicy\n",
        "from rl.memory import SequentialMemory\n",
        "from rl.core import Processor\n",
        "from rl.callbacks import FileLogger, ModelIntervalCheckpoint\n"
      ],
      "metadata": {
        "id": "RX-2z9T1NPp_"
      },
      "execution_count": 4,
      "outputs": []
    },
    {
      "cell_type": "markdown",
      "source": [
        "#### Configuración base"
      ],
      "metadata": {
        "id": "NqJbsVR7POZA"
      }
    },
    {
      "cell_type": "code",
      "source": [
        "INPUT_SHAPE = (84, 84)\n",
        "WINDOW_LENGTH = 4\n",
        "\n",
        "env_name = 'SpaceInvaders-v0'\n",
        "env = gym.make(env_name)\n",
        "\n",
        "np.random.seed(123)\n",
        "env.seed(123)\n",
        "nb_actions = env.action_space.n\n",
        "\n",
        "#--- nuevo -- ejfm\n",
        "height, width, channels = env.observation_space.shape\n",
        "obs = env.reset()\n",
        "print(height, width, channels)\n",
        "print(\"Forma de la observación:\", obs.shape)  # Debe ser (height, width, channels)\n",
        "env.unwrapped.get_action_meanings()"
      ],
      "metadata": {
        "colab": {
          "base_uri": "https://localhost:8080/"
        },
        "id": "0FlafEtvOKR4",
        "outputId": "3bfec6d7-0410-413a-c87b-ee9d9c550e56"
      },
      "execution_count": 5,
      "outputs": [
        {
          "output_type": "stream",
          "name": "stdout",
          "text": [
            "210 160 3\n",
            "Forma de la observación: (210, 160, 3)\n"
          ]
        },
        {
          "output_type": "execute_result",
          "data": {
            "text/plain": [
              "['NOOP', 'FIRE', 'RIGHT', 'LEFT', 'RIGHTFIRE', 'LEFTFIRE']"
            ]
          },
          "metadata": {},
          "execution_count": 5
        }
      ]
    },
    {
      "cell_type": "code",
      "source": [
        "class AtariProcessor(Processor):\n",
        "    def process_observation(self, observation):\n",
        "        assert observation.ndim == 3  # (height, width, channel)\n",
        "        img = Image.fromarray(observation)\n",
        "        img = img.resize(INPUT_SHAPE).convert('L')\n",
        "        processed_observation = np.array(img)\n",
        "        assert processed_observation.shape == INPUT_SHAPE\n",
        "        return processed_observation.astype('uint8')\n",
        "\n",
        "        if batch.ndim == 4:\n",
        "            batch = np.expand_dims(batch, axis=-1)\n",
        "        processed_batch = batch.astype('float32') / 255.\n",
        "        return processed_batch\n",
        "\n",
        "    def process_reward(self, reward):\n",
        "        return np.clip(reward, -1., 1.)"
      ],
      "metadata": {
        "id": "YSGPGszsOOAw"
      },
      "execution_count": 13,
      "outputs": []
    },
    {
      "cell_type": "markdown",
      "source": [
        "## 1. EJFM Implementación de la red neuronal"
      ],
      "metadata": {
        "id": "Sg54U9vFZEBQ"
      }
    },
    {
      "cell_type": "code",
      "source": [
        "def build_model(height, width, channels, actions):\n",
        "\n",
        "    model = Sequential()\n",
        "    #model.add(Permute((2, 3, 1))) # (4, 84, 84, 1) a (84, 84, 4)\n",
        "    model.add(Conv2D(32, (8, 8), strides=(4, 4),activation='relu', input_shape=(4,84,84,1)))\n",
        "    model.add(Conv2D(64, (4, 4), strides=(2, 2),activation='relu'))\n",
        "    model.add(Conv2D(64, (3, 3), strides=(1, 1),activation='relu'))\n",
        "    model.add(Flatten())\n",
        "    model.add(Dense(512, activation='relu'))\n",
        "    model.add(Dense(nb_actions, activation='linear'))\n",
        "    return model"
      ],
      "metadata": {
        "id": "JhwO3z2oPVq3"
      },
      "execution_count": 14,
      "outputs": []
    },
    {
      "cell_type": "code",
      "source": [
        "model = build_model(84, 84, 1, nb_actions)\n",
        "model.summary()"
      ],
      "metadata": {
        "id": "3eBwiHKuZ6J_",
        "colab": {
          "base_uri": "https://localhost:8080/"
        },
        "outputId": "1cc264a8-b15e-42c3-c891-3aa8cae752f2"
      },
      "execution_count": 15,
      "outputs": [
        {
          "output_type": "stream",
          "name": "stdout",
          "text": [
            "Model: \"sequential_3\"\n",
            "_________________________________________________________________\n",
            " Layer (type)                Output Shape              Param #   \n",
            "=================================================================\n",
            " conv2d_9 (Conv2D)           (None, 4, 20, 20, 32)     2080      \n",
            "                                                                 \n",
            " conv2d_10 (Conv2D)          (None, 4, 9, 9, 64)       32832     \n",
            "                                                                 \n",
            " conv2d_11 (Conv2D)          (None, 4, 7, 7, 64)       36928     \n",
            "                                                                 \n",
            " flatten_3 (Flatten)         (None, 12544)             0         \n",
            "                                                                 \n",
            " dense_6 (Dense)             (None, 512)               6423040   \n",
            "                                                                 \n",
            " dense_7 (Dense)             (None, 6)                 3078      \n",
            "                                                                 \n",
            "=================================================================\n",
            "Total params: 6,497,958\n",
            "Trainable params: 6,497,958\n",
            "Non-trainable params: 0\n",
            "_________________________________________________________________\n"
          ]
        }
      ]
    },
    {
      "cell_type": "markdown",
      "source": [
        "## 2. EJFM Implementación de la solución DQN"
      ],
      "metadata": {
        "id": "KwJoe_1sZOX4"
      }
    },
    {
      "cell_type": "code",
      "source": [
        "from rl.agents import DQNAgent\n",
        "from rl.memory import SequentialMemory\n",
        "from rl.policy import LinearAnnealedPolicy, EpsGreedyQPolicy"
      ],
      "metadata": {
        "id": "_EDlLcIIPUsf"
      },
      "execution_count": 16,
      "outputs": []
    },
    {
      "cell_type": "code",
      "source": [
        "def build_agent(model, actions):\n",
        "    policy = LinearAnnealedPolicy(\n",
        "        EpsGreedyQPolicy(),\n",
        "        attr='eps',\n",
        "        value_max=1.0,\n",
        "        value_min=0.1,\n",
        "        value_test=0.05,\n",
        "        nb_steps=1000000)\n",
        "\n",
        "    memory = SequentialMemory(\n",
        "        limit=200000,\n",
        "        window_length=4)\n",
        "\n",
        "    dqn = DQNAgent(model=model,\n",
        "                   nb_actions=nb_actions,\n",
        "                   policy=policy,\n",
        "                   memory=memory,\n",
        "                   processor=AtariProcessor(),\n",
        "                   nb_steps_warmup=50000,\n",
        "                   gamma=0.99,\n",
        "                   target_model_update=10000,\n",
        "                   train_interval=4,\n",
        "                   delta_clip=1.0,\n",
        "                   enable_double_dqn=True,\n",
        "                   enable_dueling_network=True,\n",
        "                   dueling_type='avg',\n",
        "                   batch_size=32,\n",
        "                   )\n",
        "    return dqn"
      ],
      "metadata": {
        "id": "7FbbInVqR0sg"
      },
      "execution_count": 17,
      "outputs": []
    },
    {
      "cell_type": "code",
      "source": [
        "from rl.callbacks import ModelIntervalCheckpoint\n",
        "\n",
        "# Guardar el modelo cada 10,000 pasos\n",
        "checkpoint_callback = ModelIntervalCheckpoint(\n",
        "    filepath='checkpoints/dqn_v06_5_weights_{step}.h5f',\n",
        "    interval=10000,\n",
        "    verbose=1\n",
        ")"
      ],
      "metadata": {
        "id": "-TmOagBXbWr4"
      },
      "execution_count": 18,
      "outputs": []
    },
    {
      "cell_type": "code",
      "source": [
        "import os\n",
        "os.makedirs(\"checkpoints\", exist_ok=True)"
      ],
      "metadata": {
        "id": "9ztUDcBVbdtJ"
      },
      "execution_count": 19,
      "outputs": []
    },
    {
      "cell_type": "code",
      "source": [
        "from keras.optimizers import Adam\n",
        "from tensorflow.keras.optimizers import RMSprop\n",
        "\n",
        "dqn = build_agent(model, nb_actions)\n",
        "dqn.compile(RMSprop(learning_rate=0.00025, epsilon=0.01,rho=0.95))\n"
      ],
      "metadata": {
        "id": "V-jxyOrdR0cg"
      },
      "execution_count": 20,
      "outputs": []
    },
    {
      "cell_type": "code",
      "source": [
        "from datetime import datetime\n",
        "\n",
        "print(f\"⏱ Tiempo de inicio: {datetime.now().strftime('%H:%M:%S')}\")\n",
        "\n",
        "dqn.fit(env, nb_steps=500000, visualize=False, verbose=2,callbacks=[checkpoint_callback])\n",
        "\n",
        "print(f\"⏱ Tiempo de fin: {datetime.now().strftime('%H:%M:%S')}\")\n",
        "\n",
        "# Guardando modelo\n",
        "dqn.save_weights('dqn_v06_5_weights.h5f')\n"
      ],
      "metadata": {
        "colab": {
          "base_uri": "https://localhost:8080/"
        },
        "id": "AR2u9_7LR0WI",
        "outputId": "08fa42c3-9f4a-48a7-a320-c55c979c764e"
      },
      "execution_count": null,
      "outputs": [
        {
          "output_type": "stream",
          "name": "stdout",
          "text": [
            "⏱ Tiempo de inicio: 23:26:13\n",
            "Training for 300000 steps ...\n"
          ]
        },
        {
          "output_type": "stream",
          "name": "stderr",
          "text": [
            "/usr/local/lib/python3.11/dist-packages/keras/engine/training_v1.py:2359: UserWarning: `Model.state_updates` will be removed in a future version. This property should not be used in TensorFlow 2.0, as `updates` are applied automatically.\n",
            "  updates=self.state_updates,\n"
          ]
        },
        {
          "output_type": "stream",
          "name": "stdout",
          "text": [
            "    883/300000: episode: 1, duration: 7.183s, episode steps: 883, steps per second: 123, episode reward: 14.000, mean reward:  0.016 [ 0.000,  1.000], mean action: 2.571 [0.000, 5.000],  loss: --, mean_q: --, mean_eps: --\n",
            "   1519/300000: episode: 2, duration: 4.287s, episode steps: 636, steps per second: 148, episode reward:  7.000, mean reward:  0.011 [ 0.000,  1.000], mean action: 2.495 [0.000, 5.000],  loss: --, mean_q: --, mean_eps: --\n",
            "   2239/300000: episode: 3, duration: 5.888s, episode steps: 720, steps per second: 122, episode reward:  9.000, mean reward:  0.013 [ 0.000,  1.000], mean action: 2.439 [0.000, 5.000],  loss: --, mean_q: --, mean_eps: --\n",
            "   2753/300000: episode: 4, duration: 3.342s, episode steps: 514, steps per second: 154, episode reward:  6.000, mean reward:  0.012 [ 0.000,  1.000], mean action: 2.558 [0.000, 5.000],  loss: --, mean_q: --, mean_eps: --\n",
            "   3399/300000: episode: 5, duration: 4.137s, episode steps: 646, steps per second: 156, episode reward:  7.000, mean reward:  0.011 [ 0.000,  1.000], mean action: 2.464 [0.000, 5.000],  loss: --, mean_q: --, mean_eps: --\n",
            "   3902/300000: episode: 6, duration: 3.875s, episode steps: 503, steps per second: 130, episode reward:  8.000, mean reward:  0.016 [ 0.000,  1.000], mean action: 2.483 [0.000, 5.000],  loss: --, mean_q: --, mean_eps: --\n",
            "   4403/300000: episode: 7, duration: 3.991s, episode steps: 501, steps per second: 126, episode reward:  2.000, mean reward:  0.004 [ 0.000,  1.000], mean action: 2.425 [0.000, 5.000],  loss: --, mean_q: --, mean_eps: --\n",
            "   5781/300000: episode: 8, duration: 9.390s, episode steps: 1378, steps per second: 147, episode reward: 20.000, mean reward:  0.015 [ 0.000,  1.000], mean action: 2.508 [0.000, 5.000],  loss: --, mean_q: --, mean_eps: --\n",
            "   6735/300000: episode: 9, duration: 6.932s, episode steps: 954, steps per second: 138, episode reward: 14.000, mean reward:  0.015 [ 0.000,  1.000], mean action: 2.438 [0.000, 5.000],  loss: --, mean_q: --, mean_eps: --\n",
            "   7244/300000: episode: 10, duration: 3.355s, episode steps: 509, steps per second: 152, episode reward:  6.000, mean reward:  0.012 [ 0.000,  1.000], mean action: 2.411 [0.000, 5.000],  loss: --, mean_q: --, mean_eps: --\n",
            "   7915/300000: episode: 11, duration: 5.648s, episode steps: 671, steps per second: 119, episode reward: 10.000, mean reward:  0.015 [ 0.000,  1.000], mean action: 2.437 [0.000, 5.000],  loss: --, mean_q: --, mean_eps: --\n",
            "   8444/300000: episode: 12, duration: 3.482s, episode steps: 529, steps per second: 152, episode reward: 11.000, mean reward:  0.021 [ 0.000,  1.000], mean action: 2.348 [0.000, 5.000],  loss: --, mean_q: --, mean_eps: --\n",
            "   9176/300000: episode: 13, duration: 4.670s, episode steps: 732, steps per second: 157, episode reward: 10.000, mean reward:  0.014 [ 0.000,  1.000], mean action: 2.477 [0.000, 5.000],  loss: --, mean_q: --, mean_eps: --\n",
            "   9897/300000: episode: 14, duration: 6.122s, episode steps: 721, steps per second: 118, episode reward: 12.000, mean reward:  0.017 [ 0.000,  1.000], mean action: 2.488 [0.000, 5.000],  loss: --, mean_q: --, mean_eps: --\n",
            "Step 10000: saving model to checkpoints/dqn_v06_4_weights_10000.h5f\n"
          ]
        },
        {
          "output_type": "stream",
          "name": "stderr",
          "text": [
            "/usr/local/lib/python3.11/dist-packages/keras/engine/training_v1.py:2359: UserWarning: `Model.state_updates` will be removed in a future version. This property should not be used in TensorFlow 2.0, as `updates` are applied automatically.\n",
            "  updates=self.state_updates,\n"
          ]
        },
        {
          "output_type": "stream",
          "name": "stdout",
          "text": [
            "  10487/300000: episode: 15, duration: 46.674s, episode steps: 590, steps per second:  13, episode reward:  7.000, mean reward:  0.012 [ 0.000,  1.000], mean action: 2.383 [0.000, 5.000],  loss: 0.006486, mean_q: 0.053068, mean_eps: 0.953902\n",
            "  11578/300000: episode: 16, duration: 99.048s, episode steps: 1091, steps per second:  11, episode reward: 18.000, mean reward:  0.016 [ 0.000,  1.000], mean action: 2.440 [0.000, 5.000],  loss: 0.006776, mean_q: 0.039241, mean_eps: 0.950356\n",
            "  11970/300000: episode: 17, duration: 36.252s, episode steps: 392, steps per second:  11, episode reward:  7.000, mean reward:  0.018 [ 0.000,  1.000], mean action: 2.658 [0.000, 5.000],  loss: 0.009222, mean_q: 0.044636, mean_eps: 0.947017\n",
            "  13087/300000: episode: 18, duration: 101.574s, episode steps: 1117, steps per second:  11, episode reward: 12.000, mean reward:  0.011 [ 0.000,  1.000], mean action: 2.592 [0.000, 5.000],  loss: 0.007270, mean_q: 0.043998, mean_eps: 0.943624\n",
            "  14465/300000: episode: 19, duration: 123.870s, episode steps: 1378, steps per second:  11, episode reward: 13.000, mean reward:  0.009 [ 0.000,  1.000], mean action: 2.594 [0.000, 5.000],  loss: 0.006407, mean_q: 0.045639, mean_eps: 0.938008\n",
            "  15190/300000: episode: 20, duration: 66.137s, episode steps: 725, steps per second:  11, episode reward: 14.000, mean reward:  0.019 [ 0.000,  1.000], mean action: 2.596 [0.000, 5.000],  loss: 0.004929, mean_q: 0.035065, mean_eps: 0.933274\n",
            "  16352/300000: episode: 21, duration: 104.154s, episode steps: 1162, steps per second:  11, episode reward: 17.000, mean reward:  0.015 [ 0.000,  1.000], mean action: 2.435 [0.000, 5.000],  loss: 0.005981, mean_q: 0.039805, mean_eps: 0.929035\n",
            "  17326/300000: episode: 22, duration: 89.890s, episode steps: 974, steps per second:  11, episode reward: 15.000, mean reward:  0.015 [ 0.000,  1.000], mean action: 2.386 [0.000, 5.000],  loss: 0.006322, mean_q: 0.042371, mean_eps: 0.924229\n",
            "  18581/300000: episode: 23, duration: 114.568s, episode steps: 1255, steps per second:  11, episode reward: 11.000, mean reward:  0.009 [ 0.000,  1.000], mean action: 2.563 [0.000, 5.000],  loss: 0.006641, mean_q: 0.039689, mean_eps: 0.919207\n",
            "  19210/300000: episode: 24, duration: 56.737s, episode steps: 629, steps per second:  11, episode reward:  7.000, mean reward:  0.011 [ 0.000,  1.000], mean action: 2.512 [0.000, 5.000],  loss: 0.006388, mean_q: 0.037267, mean_eps: 0.914968\n",
            "  19788/300000: episode: 25, duration: 52.783s, episode steps: 578, steps per second:  11, episode reward: 10.000, mean reward:  0.017 [ 0.000,  1.000], mean action: 2.571 [0.000, 5.000],  loss: 0.005405, mean_q: 0.043859, mean_eps: 0.912259\n",
            "Step 20000: saving model to checkpoints/dqn_v06_4_weights_20000.h5f\n",
            "  20295/300000: episode: 26, duration: 45.829s, episode steps: 507, steps per second:  11, episode reward:  6.000, mean reward:  0.012 [ 0.000,  1.000], mean action: 2.525 [0.000, 5.000],  loss: 0.007866, mean_q: 0.055789, mean_eps: 0.909820\n",
            "  20706/300000: episode: 27, duration: 37.152s, episode steps: 411, steps per second:  11, episode reward:  5.000, mean reward:  0.012 [ 0.000,  1.000], mean action: 2.423 [0.000, 5.000],  loss: 0.008712, mean_q: 0.067709, mean_eps: 0.907750\n",
            "  21772/300000: episode: 28, duration: 94.388s, episode steps: 1066, steps per second:  11, episode reward: 14.000, mean reward:  0.013 [ 0.000,  1.000], mean action: 2.541 [0.000, 5.000],  loss: 0.007009, mean_q: 0.058107, mean_eps: 0.904429\n",
            "  22572/300000: episode: 29, duration: 71.697s, episode steps: 800, steps per second:  11, episode reward: 12.000, mean reward:  0.015 [ 0.000,  1.000], mean action: 2.609 [0.000, 5.000],  loss: 0.006701, mean_q: 0.057160, mean_eps: 0.900235\n",
            "  23651/300000: episode: 30, duration: 96.998s, episode steps: 1079, steps per second:  11, episode reward: 21.000, mean reward:  0.019 [ 0.000,  1.000], mean action: 2.576 [0.000, 5.000],  loss: 0.006230, mean_q: 0.056200, mean_eps: 0.896005\n",
            "  24373/300000: episode: 31, duration: 65.339s, episode steps: 722, steps per second:  11, episode reward:  9.000, mean reward:  0.012 [ 0.000,  1.000], mean action: 2.598 [0.000, 5.000],  loss: 0.007123, mean_q: 0.059728, mean_eps: 0.891946\n",
            "  25080/300000: episode: 32, duration: 61.573s, episode steps: 707, steps per second:  11, episode reward:  7.000, mean reward:  0.010 [ 0.000,  1.000], mean action: 2.628 [0.000, 5.000],  loss: 0.007009, mean_q: 0.058644, mean_eps: 0.888733\n",
            "  25504/300000: episode: 33, duration: 39.075s, episode steps: 424, steps per second:  11, episode reward:  4.000, mean reward:  0.009 [ 0.000,  1.000], mean action: 2.436 [0.000, 5.000],  loss: 0.006136, mean_q: 0.048406, mean_eps: 0.886195\n",
            "  26652/300000: episode: 34, duration: 106.918s, episode steps: 1148, steps per second:  11, episode reward: 16.000, mean reward:  0.014 [ 0.000,  1.000], mean action: 2.594 [0.000, 5.000],  loss: 0.007710, mean_q: 0.055908, mean_eps: 0.882658\n",
            "  27181/300000: episode: 35, duration: 48.088s, episode steps: 529, steps per second:  11, episode reward:  7.000, mean reward:  0.013 [ 0.000,  1.000], mean action: 2.440 [0.000, 5.000],  loss: 0.006671, mean_q: 0.054372, mean_eps: 0.878878\n",
            "  27859/300000: episode: 36, duration: 62.404s, episode steps: 678, steps per second:  11, episode reward:  6.000, mean reward:  0.009 [ 0.000,  1.000], mean action: 2.609 [0.000, 5.000],  loss: 0.005625, mean_q: 0.050973, mean_eps: 0.876160\n",
            "  28280/300000: episode: 37, duration: 37.506s, episode steps: 421, steps per second:  11, episode reward:  9.000, mean reward:  0.021 [ 0.000,  1.000], mean action: 2.477 [0.000, 5.000],  loss: 0.006898, mean_q: 0.053905, mean_eps: 0.873694\n",
            "  29167/300000: episode: 38, duration: 81.319s, episode steps: 887, steps per second:  11, episode reward: 15.000, mean reward:  0.017 [ 0.000,  1.000], mean action: 2.528 [0.000, 5.000],  loss: 0.006901, mean_q: 0.054791, mean_eps: 0.870751\n",
            "  29689/300000: episode: 39, duration: 48.323s, episode steps: 522, steps per second:  11, episode reward:  5.000, mean reward:  0.010 [ 0.000,  1.000], mean action: 2.596 [0.000, 5.000],  loss: 0.007423, mean_q: 0.055588, mean_eps: 0.867574\n",
            "Step 30000: saving model to checkpoints/dqn_v06_4_weights_30000.h5f\n",
            "  30235/300000: episode: 40, duration: 49.491s, episode steps: 546, steps per second:  11, episode reward:  4.000, mean reward:  0.007 [ 0.000,  1.000], mean action: 2.549 [0.000, 5.000],  loss: 0.007472, mean_q: 0.064645, mean_eps: 0.865171\n",
            "  31074/300000: episode: 41, duration: 77.409s, episode steps: 839, steps per second:  11, episode reward: 13.000, mean reward:  0.015 [ 0.000,  1.000], mean action: 2.530 [0.000, 5.000],  loss: 0.007576, mean_q: 0.069933, mean_eps: 0.862057\n",
            "  31734/300000: episode: 42, duration: 60.181s, episode steps: 660, steps per second:  11, episode reward:  8.000, mean reward:  0.012 [ 0.000,  1.000], mean action: 2.524 [0.000, 5.000],  loss: 0.006016, mean_q: 0.066034, mean_eps: 0.858682\n",
            "  32617/300000: episode: 43, duration: 81.664s, episode steps: 883, steps per second:  11, episode reward: 15.000, mean reward:  0.017 [ 0.000,  1.000], mean action: 2.715 [0.000, 5.000],  loss: 0.006365, mean_q: 0.066999, mean_eps: 0.855208\n",
            "  33108/300000: episode: 44, duration: 44.767s, episode steps: 491, steps per second:  11, episode reward:  8.000, mean reward:  0.016 [ 0.000,  1.000], mean action: 2.572 [0.000, 5.000],  loss: 0.008813, mean_q: 0.076629, mean_eps: 0.852121\n",
            "  33602/300000: episode: 45, duration: 46.957s, episode steps: 494, steps per second:  11, episode reward:  6.000, mean reward:  0.012 [ 0.000,  1.000], mean action: 2.559 [0.000, 5.000],  loss: 0.006918, mean_q: 0.073373, mean_eps: 0.849907\n",
            "  34142/300000: episode: 46, duration: 48.786s, episode steps: 540, steps per second:  11, episode reward:  5.000, mean reward:  0.009 [ 0.000,  1.000], mean action: 2.646 [0.000, 5.000],  loss: 0.006032, mean_q: 0.068474, mean_eps: 0.847576\n",
            "  34833/300000: episode: 47, duration: 63.726s, episode steps: 691, steps per second:  11, episode reward: 11.000, mean reward:  0.016 [ 0.000,  1.000], mean action: 2.438 [0.000, 5.000],  loss: 0.005938, mean_q: 0.066478, mean_eps: 0.844804\n",
            "  35596/300000: episode: 48, duration: 70.125s, episode steps: 763, steps per second:  11, episode reward: 11.000, mean reward:  0.014 [ 0.000,  1.000], mean action: 2.486 [0.000, 5.000],  loss: 0.006279, mean_q: 0.065345, mean_eps: 0.841537\n",
            "  36025/300000: episode: 49, duration: 39.957s, episode steps: 429, steps per second:  11, episode reward:  3.000, mean reward:  0.007 [ 0.000,  1.000], mean action: 2.723 [0.000, 5.000],  loss: 0.006716, mean_q: 0.066601, mean_eps: 0.838855\n",
            "  36923/300000: episode: 50, duration: 81.706s, episode steps: 898, steps per second:  11, episode reward: 13.000, mean reward:  0.014 [ 0.000,  1.000], mean action: 2.607 [0.000, 5.000],  loss: 0.005867, mean_q: 0.068118, mean_eps: 0.835867\n",
            "  37617/300000: episode: 51, duration: 63.432s, episode steps: 694, steps per second:  11, episode reward: 12.000, mean reward:  0.017 [ 0.000,  1.000], mean action: 2.552 [0.000, 5.000],  loss: 0.006701, mean_q: 0.068862, mean_eps: 0.832285\n",
            "  38386/300000: episode: 52, duration: 70.487s, episode steps: 769, steps per second:  11, episode reward:  8.000, mean reward:  0.010 [ 0.000,  1.000], mean action: 2.616 [0.000, 5.000],  loss: 0.007293, mean_q: 0.071165, mean_eps: 0.828991\n",
            "  39012/300000: episode: 53, duration: 57.022s, episode steps: 626, steps per second:  11, episode reward:  7.000, mean reward:  0.011 [ 0.000,  1.000], mean action: 2.604 [0.000, 5.000],  loss: 0.006876, mean_q: 0.072617, mean_eps: 0.825859\n",
            "  39729/300000: episode: 54, duration: 66.030s, episode steps: 717, steps per second:  11, episode reward:  8.000, mean reward:  0.011 [ 0.000,  1.000], mean action: 2.537 [0.000, 5.000],  loss: 0.007335, mean_q: 0.073154, mean_eps: 0.822835\n",
            "Step 40000: saving model to checkpoints/dqn_v06_4_weights_40000.h5f\n",
            "  40529/300000: episode: 55, duration: 72.732s, episode steps: 800, steps per second:  11, episode reward: 10.000, mean reward:  0.013 [ 0.000,  1.000], mean action: 2.618 [0.000, 5.000],  loss: 0.007381, mean_q: 0.091998, mean_eps: 0.819415\n",
            "  40872/300000: episode: 56, duration: 32.237s, episode steps: 343, steps per second:  11, episode reward:  5.000, mean reward:  0.015 [ 0.000,  1.000], mean action: 2.583 [0.000, 5.000],  loss: 0.005422, mean_q: 0.099032, mean_eps: 0.816850\n",
            "  41641/300000: episode: 57, duration: 69.617s, episode steps: 769, steps per second:  11, episode reward: 16.000, mean reward:  0.021 [ 0.000,  1.000], mean action: 2.354 [0.000, 5.000],  loss: 0.006227, mean_q: 0.099372, mean_eps: 0.814348\n",
            "  42159/300000: episode: 58, duration: 46.070s, episode steps: 518, steps per second:  11, episode reward:  4.000, mean reward:  0.008 [ 0.000,  1.000], mean action: 2.548 [0.000, 5.000],  loss: 0.007737, mean_q: 0.101401, mean_eps: 0.811450\n",
            "  42573/300000: episode: 59, duration: 38.037s, episode steps: 414, steps per second:  11, episode reward:  6.000, mean reward:  0.014 [ 0.000,  1.000], mean action: 2.582 [0.000, 5.000],  loss: 0.007761, mean_q: 0.100546, mean_eps: 0.809353\n",
            "  43469/300000: episode: 60, duration: 81.008s, episode steps: 896, steps per second:  11, episode reward: 12.000, mean reward:  0.013 [ 0.000,  1.000], mean action: 2.568 [0.000, 5.000],  loss: 0.006286, mean_q: 0.094980, mean_eps: 0.806401\n",
            "  44211/300000: episode: 61, duration: 67.418s, episode steps: 742, steps per second:  11, episode reward:  9.000, mean reward:  0.012 [ 0.000,  1.000], mean action: 2.620 [0.000, 5.000],  loss: 0.006811, mean_q: 0.096663, mean_eps: 0.802720\n",
            "  44899/300000: episode: 62, duration: 62.279s, episode steps: 688, steps per second:  11, episode reward: 13.000, mean reward:  0.019 [ 0.000,  1.000], mean action: 2.709 [0.000, 5.000],  loss: 0.007051, mean_q: 0.096920, mean_eps: 0.799507\n",
            "  45575/300000: episode: 63, duration: 61.973s, episode steps: 676, steps per second:  11, episode reward: 11.000, mean reward:  0.016 [ 0.000,  1.000], mean action: 2.571 [0.000, 5.000],  loss: 0.005839, mean_q: 0.093565, mean_eps: 0.796438\n",
            "  46225/300000: episode: 64, duration: 57.597s, episode steps: 650, steps per second:  11, episode reward:  7.000, mean reward:  0.011 [ 0.000,  1.000], mean action: 2.395 [0.000, 5.000],  loss: 0.006056, mean_q: 0.096527, mean_eps: 0.793450\n",
            "  46757/300000: episode: 65, duration: 47.161s, episode steps: 532, steps per second:  11, episode reward:  8.000, mean reward:  0.015 [ 0.000,  1.000], mean action: 2.427 [0.000, 5.000],  loss: 0.007513, mean_q: 0.101775, mean_eps: 0.790786\n",
            "  47382/300000: episode: 66, duration: 55.716s, episode steps: 625, steps per second:  11, episode reward:  4.000, mean reward:  0.006 [ 0.000,  1.000], mean action: 2.477 [0.000, 5.000],  loss: 0.006268, mean_q: 0.099191, mean_eps: 0.788185\n",
            "  48058/300000: episode: 67, duration: 61.636s, episode steps: 676, steps per second:  11, episode reward:  9.000, mean reward:  0.013 [ 0.000,  1.000], mean action: 2.396 [0.000, 5.000],  loss: 0.006994, mean_q: 0.100054, mean_eps: 0.785260\n",
            "  48861/300000: episode: 68, duration: 71.058s, episode steps: 803, steps per second:  11, episode reward: 11.000, mean reward:  0.014 [ 0.000,  1.000], mean action: 2.501 [0.000, 5.000],  loss: 0.005699, mean_q: 0.095421, mean_eps: 0.781930\n",
            "  49597/300000: episode: 69, duration: 65.826s, episode steps: 736, steps per second:  11, episode reward: 10.000, mean reward:  0.014 [ 0.000,  1.000], mean action: 2.602 [0.000, 5.000],  loss: 0.006488, mean_q: 0.096173, mean_eps: 0.778465\n",
            "Step 50000: saving model to checkpoints/dqn_v06_4_weights_50000.h5f\n",
            "  50337/300000: episode: 70, duration: 66.161s, episode steps: 740, steps per second:  11, episode reward:  7.000, mean reward:  0.009 [ 0.000,  1.000], mean action: 2.580 [0.000, 5.000],  loss: 0.006164, mean_q: 0.099234, mean_eps: 0.775144\n",
            "  51125/300000: episode: 71, duration: 70.424s, episode steps: 788, steps per second:  11, episode reward: 11.000, mean reward:  0.014 [ 0.000,  1.000], mean action: 2.492 [0.000, 5.000],  loss: 0.006527, mean_q: 0.106017, mean_eps: 0.771706\n",
            "  51816/300000: episode: 72, duration: 60.597s, episode steps: 691, steps per second:  11, episode reward:  7.000, mean reward:  0.010 [ 0.000,  1.000], mean action: 2.462 [0.000, 5.000],  loss: 0.005814, mean_q: 0.102107, mean_eps: 0.768385\n",
            "  52291/300000: episode: 73, duration: 42.267s, episode steps: 475, steps per second:  11, episode reward:  6.000, mean reward:  0.013 [ 0.000,  1.000], mean action: 2.406 [0.000, 5.000],  loss: 0.007180, mean_q: 0.102344, mean_eps: 0.765766\n",
            "  52848/300000: episode: 74, duration: 51.097s, episode steps: 557, steps per second:  11, episode reward:  5.000, mean reward:  0.009 [ 0.000,  1.000], mean action: 2.542 [0.000, 5.000],  loss: 0.005794, mean_q: 0.102503, mean_eps: 0.763444\n",
            "  53448/300000: episode: 75, duration: 54.151s, episode steps: 600, steps per second:  11, episode reward:  5.000, mean reward:  0.008 [ 0.000,  1.000], mean action: 2.957 [0.000, 5.000],  loss: 0.008161, mean_q: 0.107758, mean_eps: 0.760843\n",
            "  53819/300000: episode: 76, duration: 32.876s, episode steps: 371, steps per second:  11, episode reward:  7.000, mean reward:  0.019 [ 0.000,  1.000], mean action: 2.588 [0.000, 5.000],  loss: 0.007738, mean_q: 0.104619, mean_eps: 0.758656\n",
            "  54400/300000: episode: 77, duration: 52.443s, episode steps: 581, steps per second:  11, episode reward: 10.000, mean reward:  0.017 [ 0.000,  1.000], mean action: 2.544 [0.000, 5.000],  loss: 0.005569, mean_q: 0.102668, mean_eps: 0.756514\n",
            "  55064/300000: episode: 78, duration: 59.166s, episode steps: 664, steps per second:  11, episode reward: 10.000, mean reward:  0.015 [ 0.000,  1.000], mean action: 2.411 [0.000, 5.000],  loss: 0.006805, mean_q: 0.103507, mean_eps: 0.753715\n",
            "  56148/300000: episode: 79, duration: 97.123s, episode steps: 1084, steps per second:  11, episode reward: 16.000, mean reward:  0.015 [ 0.000,  1.000], mean action: 2.484 [0.000, 5.000],  loss: 0.006782, mean_q: 0.103991, mean_eps: 0.749782\n",
            "  56624/300000: episode: 80, duration: 43.396s, episode steps: 476, steps per second:  11, episode reward:  4.000, mean reward:  0.008 [ 0.000,  1.000], mean action: 2.529 [0.000, 5.000],  loss: 0.007586, mean_q: 0.104827, mean_eps: 0.746272\n",
            "  57410/300000: episode: 81, duration: 70.515s, episode steps: 786, steps per second:  11, episode reward: 10.000, mean reward:  0.013 [ 0.000,  1.000], mean action: 2.612 [0.000, 5.000],  loss: 0.006963, mean_q: 0.103848, mean_eps: 0.743428\n",
            "  58219/300000: episode: 82, duration: 72.063s, episode steps: 809, steps per second:  11, episode reward: 11.000, mean reward:  0.014 [ 0.000,  1.000], mean action: 2.345 [0.000, 5.000],  loss: 0.007885, mean_q: 0.107030, mean_eps: 0.739837\n",
            "  59181/300000: episode: 83, duration: 88.735s, episode steps: 962, steps per second:  11, episode reward: 20.000, mean reward:  0.021 [ 0.000,  1.000], mean action: 2.549 [0.000, 5.000],  loss: 0.007113, mean_q: 0.106167, mean_eps: 0.735850\n",
            "  59569/300000: episode: 84, duration: 36.479s, episode steps: 388, steps per second:  11, episode reward:  3.000, mean reward:  0.008 [ 0.000,  1.000], mean action: 2.534 [0.000, 5.000],  loss: 0.007885, mean_q: 0.106968, mean_eps: 0.732808\n",
            "Step 60000: saving model to checkpoints/dqn_v06_4_weights_60000.h5f\n",
            "  60506/300000: episode: 85, duration: 85.159s, episode steps: 937, steps per second:  11, episode reward: 15.000, mean reward:  0.016 [ 0.000,  1.000], mean action: 2.506 [0.000, 5.000],  loss: 0.006626, mean_q: 0.114985, mean_eps: 0.729829\n",
            "  60884/300000: episode: 86, duration: 34.225s, episode steps: 378, steps per second:  11, episode reward:  3.000, mean reward:  0.008 [ 0.000,  1.000], mean action: 2.632 [0.000, 5.000],  loss: 0.006271, mean_q: 0.125902, mean_eps: 0.726877\n",
            "  61983/300000: episode: 87, duration: 98.852s, episode steps: 1099, steps per second:  11, episode reward: 21.000, mean reward:  0.019 [ 0.000,  1.000], mean action: 2.520 [0.000, 5.000],  loss: 0.006901, mean_q: 0.125739, mean_eps: 0.723556\n",
            "  62487/300000: episode: 88, duration: 44.962s, episode steps: 504, steps per second:  11, episode reward:  6.000, mean reward:  0.012 [ 0.000,  1.000], mean action: 2.325 [0.000, 5.000],  loss: 0.006584, mean_q: 0.122170, mean_eps: 0.719947\n",
            "  62957/300000: episode: 89, duration: 42.106s, episode steps: 470, steps per second:  11, episode reward:  7.000, mean reward:  0.015 [ 0.000,  1.000], mean action: 2.409 [0.000, 5.000],  loss: 0.007938, mean_q: 0.121977, mean_eps: 0.717751\n",
            "  63826/300000: episode: 90, duration: 77.703s, episode steps: 869, steps per second:  11, episode reward: 16.000, mean reward:  0.018 [ 0.000,  1.000], mean action: 2.422 [0.000, 5.000],  loss: 0.006039, mean_q: 0.117535, mean_eps: 0.714736\n",
            "  64395/300000: episode: 91, duration: 49.363s, episode steps: 569, steps per second:  12, episode reward:  6.000, mean reward:  0.011 [ 0.000,  1.000], mean action: 2.605 [0.000, 5.000],  loss: 0.005134, mean_q: 0.116823, mean_eps: 0.711505\n",
            "  65195/300000: episode: 92, duration: 70.086s, episode steps: 800, steps per second:  11, episode reward:  8.000, mean reward:  0.010 [ 0.000,  1.000], mean action: 2.336 [0.000, 5.000],  loss: 0.006851, mean_q: 0.122944, mean_eps: 0.708427\n",
            "  65753/300000: episode: 93, duration: 50.200s, episode steps: 558, steps per second:  11, episode reward:  7.000, mean reward:  0.013 [ 0.000,  1.000], mean action: 2.500 [0.000, 5.000],  loss: 0.007041, mean_q: 0.119415, mean_eps: 0.705367\n",
            "  66803/300000: episode: 94, duration: 93.395s, episode steps: 1050, steps per second:  11, episode reward: 17.000, mean reward:  0.016 [ 0.000,  1.000], mean action: 2.535 [0.000, 5.000],  loss: 0.007461, mean_q: 0.124024, mean_eps: 0.701749\n",
            "  67632/300000: episode: 95, duration: 72.183s, episode steps: 829, steps per second:  11, episode reward: 15.000, mean reward:  0.018 [ 0.000,  1.000], mean action: 2.738 [0.000, 5.000],  loss: 0.006829, mean_q: 0.121600, mean_eps: 0.697528\n",
            "  68159/300000: episode: 96, duration: 45.004s, episode steps: 527, steps per second:  12, episode reward: 10.000, mean reward:  0.019 [ 0.000,  1.000], mean action: 2.529 [0.000, 5.000],  loss: 0.007631, mean_q: 0.125330, mean_eps: 0.694477\n",
            "  69128/300000: episode: 97, duration: 84.833s, episode steps: 969, steps per second:  11, episode reward: 16.000, mean reward:  0.017 [ 0.000,  1.000], mean action: 2.608 [0.000, 5.000],  loss: 0.006395, mean_q: 0.119284, mean_eps: 0.691111\n",
            "  69516/300000: episode: 98, duration: 34.803s, episode steps: 388, steps per second:  11, episode reward:  3.000, mean reward:  0.008 [ 0.000,  1.000], mean action: 2.379 [0.000, 5.000],  loss: 0.007840, mean_q: 0.118404, mean_eps: 0.688060\n",
            "  69893/300000: episode: 99, duration: 34.174s, episode steps: 377, steps per second:  11, episode reward:  5.000, mean reward:  0.013 [ 0.000,  1.000], mean action: 3.202 [0.000, 5.000],  loss: 0.006049, mean_q: 0.115427, mean_eps: 0.686332\n",
            "Step 70000: saving model to checkpoints/dqn_v06_4_weights_70000.h5f\n",
            "  70779/300000: episode: 100, duration: 81.117s, episode steps: 886, steps per second:  11, episode reward: 17.000, mean reward:  0.019 [ 0.000,  1.000], mean action: 2.574 [0.000, 5.000],  loss: 0.007337, mean_q: 0.140265, mean_eps: 0.683488\n",
            "  71895/300000: episode: 101, duration: 98.605s, episode steps: 1116, steps per second:  11, episode reward: 18.000, mean reward:  0.016 [ 0.000,  1.000], mean action: 2.478 [0.000, 5.000],  loss: 0.006731, mean_q: 0.141311, mean_eps: 0.678988\n",
            "  72427/300000: episode: 102, duration: 45.721s, episode steps: 532, steps per second:  12, episode reward:  2.000, mean reward:  0.004 [ 0.000,  1.000], mean action: 2.226 [0.000, 5.000],  loss: 0.004814, mean_q: 0.136155, mean_eps: 0.675280\n",
            "  73192/300000: episode: 103, duration: 68.869s, episode steps: 765, steps per second:  11, episode reward: 18.000, mean reward:  0.024 [ 0.000,  1.000], mean action: 2.590 [0.000, 5.000],  loss: 0.006584, mean_q: 0.139933, mean_eps: 0.672364\n",
            "  73811/300000: episode: 104, duration: 55.375s, episode steps: 619, steps per second:  11, episode reward:  5.000, mean reward:  0.008 [ 0.000,  1.000], mean action: 2.511 [0.000, 5.000],  loss: 0.006431, mean_q: 0.140218, mean_eps: 0.669250\n",
            "  74759/300000: episode: 105, duration: 83.917s, episode steps: 948, steps per second:  11, episode reward: 17.000, mean reward:  0.018 [ 0.000,  1.000], mean action: 2.326 [0.000, 5.000],  loss: 0.007249, mean_q: 0.143463, mean_eps: 0.665722\n",
            "  75754/300000: episode: 106, duration: 86.614s, episode steps: 995, steps per second:  11, episode reward: 16.000, mean reward:  0.016 [ 0.000,  1.000], mean action: 2.465 [0.000, 5.000],  loss: 0.006164, mean_q: 0.140455, mean_eps: 0.661348\n",
            "  76809/300000: episode: 107, duration: 91.793s, episode steps: 1055, steps per second:  11, episode reward: 18.000, mean reward:  0.017 [ 0.000,  1.000], mean action: 2.454 [0.000, 5.000],  loss: 0.006028, mean_q: 0.140818, mean_eps: 0.656731\n",
            "  77192/300000: episode: 108, duration: 34.576s, episode steps: 383, steps per second:  11, episode reward:  4.000, mean reward:  0.010 [ 0.000,  1.000], mean action: 2.590 [0.000, 5.000],  loss: 0.007077, mean_q: 0.148361, mean_eps: 0.653500\n",
            "  77692/300000: episode: 109, duration: 43.459s, episode steps: 500, steps per second:  12, episode reward:  5.000, mean reward:  0.010 [ 0.000,  1.000], mean action: 2.652 [0.000, 5.000],  loss: 0.007507, mean_q: 0.148655, mean_eps: 0.651520\n",
            "  78547/300000: episode: 110, duration: 74.294s, episode steps: 855, steps per second:  12, episode reward:  8.000, mean reward:  0.009 [ 0.000,  1.000], mean action: 2.436 [0.000, 5.000],  loss: 0.006937, mean_q: 0.142218, mean_eps: 0.648469\n",
            "  79203/300000: episode: 111, duration: 58.210s, episode steps: 656, steps per second:  11, episode reward:  8.000, mean reward:  0.012 [ 0.000,  1.000], mean action: 2.739 [0.000, 5.000],  loss: 0.007710, mean_q: 0.142523, mean_eps: 0.645067\n",
            "  79825/300000: episode: 112, duration: 54.380s, episode steps: 622, steps per second:  11, episode reward: 10.000, mean reward:  0.016 [ 0.000,  1.000], mean action: 2.492 [0.000, 5.000],  loss: 0.006543, mean_q: 0.139484, mean_eps: 0.642187\n",
            "Step 80000: saving model to checkpoints/dqn_v06_4_weights_80000.h5f\n",
            "  80549/300000: episode: 113, duration: 62.612s, episode steps: 724, steps per second:  12, episode reward:  9.000, mean reward:  0.012 [ 0.000,  1.000], mean action: 2.439 [0.000, 5.000],  loss: 0.006690, mean_q: 0.161298, mean_eps: 0.639154\n",
            "  81318/300000: episode: 114, duration: 66.901s, episode steps: 769, steps per second:  11, episode reward: 10.000, mean reward:  0.013 [ 0.000,  1.000], mean action: 2.848 [0.000, 5.000],  loss: 0.008254, mean_q: 0.168058, mean_eps: 0.635797\n",
            "  81841/300000: episode: 115, duration: 45.102s, episode steps: 523, steps per second:  12, episode reward:  5.000, mean reward:  0.010 [ 0.000,  1.000], mean action: 2.686 [0.000, 5.000],  loss: 0.006237, mean_q: 0.165871, mean_eps: 0.632890\n",
            "  82645/300000: episode: 116, duration: 70.124s, episode steps: 804, steps per second:  11, episode reward:  8.000, mean reward:  0.010 [ 0.000,  1.000], mean action: 2.498 [0.000, 5.000],  loss: 0.006951, mean_q: 0.167339, mean_eps: 0.629902\n",
            "  83617/300000: episode: 117, duration: 84.754s, episode steps: 972, steps per second:  11, episode reward: 14.000, mean reward:  0.014 [ 0.000,  1.000], mean action: 2.536 [0.000, 5.000],  loss: 0.007927, mean_q: 0.169224, mean_eps: 0.625906\n",
            "  84315/300000: episode: 118, duration: 59.816s, episode steps: 698, steps per second:  12, episode reward: 16.000, mean reward:  0.023 [ 0.000,  1.000], mean action: 2.719 [0.000, 5.000],  loss: 0.006087, mean_q: 0.162659, mean_eps: 0.622153\n",
            "  85012/300000: episode: 119, duration: 60.752s, episode steps: 697, steps per second:  11, episode reward: 10.000, mean reward:  0.014 [ 0.000,  1.000], mean action: 2.598 [0.000, 5.000],  loss: 0.006320, mean_q: 0.160949, mean_eps: 0.619021\n",
            "  85549/300000: episode: 120, duration: 46.666s, episode steps: 537, steps per second:  12, episode reward:  7.000, mean reward:  0.013 [ 0.000,  1.000], mean action: 2.475 [0.000, 5.000],  loss: 0.007626, mean_q: 0.166695, mean_eps: 0.616240\n",
            "  85957/300000: episode: 121, duration: 36.068s, episode steps: 408, steps per second:  11, episode reward:  6.000, mean reward:  0.015 [ 0.000,  1.000], mean action: 2.316 [0.000, 5.000],  loss: 0.006827, mean_q: 0.160317, mean_eps: 0.614107\n",
            "  86418/300000: episode: 122, duration: 39.106s, episode steps: 461, steps per second:  12, episode reward:  6.000, mean reward:  0.013 [ 0.000,  1.000], mean action: 2.128 [0.000, 5.000],  loss: 0.006837, mean_q: 0.163550, mean_eps: 0.612154\n",
            "  87127/300000: episode: 123, duration: 61.250s, episode steps: 709, steps per second:  12, episode reward: 12.000, mean reward:  0.017 [ 0.000,  1.000], mean action: 2.487 [0.000, 5.000],  loss: 0.007389, mean_q: 0.166558, mean_eps: 0.609526\n",
            "  87735/300000: episode: 124, duration: 53.805s, episode steps: 608, steps per second:  11, episode reward:  5.000, mean reward:  0.008 [ 0.000,  1.000], mean action: 2.150 [0.000, 5.000],  loss: 0.007100, mean_q: 0.164107, mean_eps: 0.606565\n",
            "  88860/300000: episode: 125, duration: 102.046s, episode steps: 1125, steps per second:  11, episode reward: 20.000, mean reward:  0.018 [ 0.000,  1.000], mean action: 2.316 [0.000, 5.000],  loss: 0.007462, mean_q: 0.163962, mean_eps: 0.602668\n",
            "  89880/300000: episode: 126, duration: 95.326s, episode steps: 1020, steps per second:  11, episode reward: 16.000, mean reward:  0.016 [ 0.000,  1.000], mean action: 2.298 [0.000, 5.000],  loss: 0.007779, mean_q: 0.165729, mean_eps: 0.597844\n",
            "Step 90000: saving model to checkpoints/dqn_v06_4_weights_90000.h5f\n",
            "  90560/300000: episode: 127, duration: 61.574s, episode steps: 680, steps per second:  11, episode reward:  8.000, mean reward:  0.012 [ 0.000,  1.000], mean action: 2.619 [0.000, 5.000],  loss: 0.006070, mean_q: 0.174066, mean_eps: 0.594019\n",
            "  91751/300000: episode: 128, duration: 107.058s, episode steps: 1191, steps per second:  11, episode reward: 12.000, mean reward:  0.010 [ 0.000,  1.000], mean action: 2.482 [0.000, 5.000],  loss: 0.006672, mean_q: 0.180878, mean_eps: 0.589807\n",
            "  92255/300000: episode: 129, duration: 46.820s, episode steps: 504, steps per second:  11, episode reward:  6.000, mean reward:  0.012 [ 0.000,  1.000], mean action: 2.601 [0.000, 5.000],  loss: 0.007106, mean_q: 0.177692, mean_eps: 0.585991\n",
            "  93335/300000: episode: 130, duration: 98.843s, episode steps: 1080, steps per second:  11, episode reward: 12.000, mean reward:  0.011 [ 0.000,  1.000], mean action: 2.369 [0.000, 5.000],  loss: 0.007841, mean_q: 0.179776, mean_eps: 0.582427\n",
            "  94242/300000: episode: 131, duration: 82.155s, episode steps: 907, steps per second:  11, episode reward: 18.000, mean reward:  0.020 [ 0.000,  1.000], mean action: 2.706 [0.000, 5.000],  loss: 0.007085, mean_q: 0.176611, mean_eps: 0.577954\n",
            "  94714/300000: episode: 132, duration: 42.216s, episode steps: 472, steps per second:  11, episode reward:  6.000, mean reward:  0.013 [ 0.000,  1.000], mean action: 2.419 [0.000, 5.000],  loss: 0.005513, mean_q: 0.170825, mean_eps: 0.574849\n",
            "  95529/300000: episode: 133, duration: 73.065s, episode steps: 815, steps per second:  11, episode reward: 15.000, mean reward:  0.018 [ 0.000,  1.000], mean action: 2.625 [0.000, 5.000],  loss: 0.007077, mean_q: 0.176434, mean_eps: 0.571951\n",
            "  96736/300000: episode: 134, duration: 109.594s, episode steps: 1207, steps per second:  11, episode reward: 19.000, mean reward:  0.016 [ 0.000,  1.000], mean action: 2.457 [0.000, 5.000],  loss: 0.007002, mean_q: 0.176357, mean_eps: 0.567406\n",
            "  97579/300000: episode: 135, duration: 77.734s, episode steps: 843, steps per second:  11, episode reward: 19.000, mean reward:  0.023 [ 0.000,  1.000], mean action: 2.268 [0.000, 5.000],  loss: 0.006062, mean_q: 0.176667, mean_eps: 0.562798\n",
            "  98355/300000: episode: 136, duration: 69.816s, episode steps: 776, steps per second:  11, episode reward: 11.000, mean reward:  0.014 [ 0.000,  1.000], mean action: 2.514 [0.000, 5.000],  loss: 0.005672, mean_q: 0.171448, mean_eps: 0.559153\n",
            "  99116/300000: episode: 137, duration: 68.668s, episode steps: 761, steps per second:  11, episode reward:  9.000, mean reward:  0.012 [ 0.000,  1.000], mean action: 1.993 [0.000, 5.000],  loss: 0.007551, mean_q: 0.179004, mean_eps: 0.555697\n",
            "  99751/300000: episode: 138, duration: 57.230s, episode steps: 635, steps per second:  11, episode reward:  7.000, mean reward:  0.011 [ 0.000,  1.000], mean action: 2.387 [0.000, 5.000],  loss: 0.006893, mean_q: 0.177832, mean_eps: 0.552556\n",
            "Step 100000: saving model to checkpoints/dqn_v06_4_weights_100000.h5f\n",
            " 101181/300000: episode: 139, duration: 128.768s, episode steps: 1430, steps per second:  11, episode reward: 24.000, mean reward:  0.017 [ 0.000,  1.000], mean action: 2.460 [0.000, 5.000],  loss: 0.006477, mean_q: 0.188492, mean_eps: 0.547903\n",
            " 101705/300000: episode: 140, duration: 47.132s, episode steps: 524, steps per second:  11, episode reward:  6.000, mean reward:  0.011 [ 0.000,  1.000], mean action: 2.414 [0.000, 5.000],  loss: 0.007270, mean_q: 0.195609, mean_eps: 0.543502\n",
            " 102626/300000: episode: 141, duration: 84.572s, episode steps: 921, steps per second:  11, episode reward: 14.000, mean reward:  0.015 [ 0.000,  1.000], mean action: 2.446 [0.000, 5.000],  loss: 0.006709, mean_q: 0.193670, mean_eps: 0.540253\n",
            " 103451/300000: episode: 142, duration: 73.473s, episode steps: 825, steps per second:  11, episode reward: 15.000, mean reward:  0.018 [ 0.000,  1.000], mean action: 2.244 [0.000, 5.000],  loss: 0.006776, mean_q: 0.192696, mean_eps: 0.536329\n",
            " 103822/300000: episode: 143, duration: 33.836s, episode steps: 371, steps per second:  11, episode reward:  6.000, mean reward:  0.016 [ 0.000,  1.000], mean action: 2.801 [0.000, 5.000],  loss: 0.007120, mean_q: 0.190597, mean_eps: 0.533638\n",
            " 104224/300000: episode: 144, duration: 35.615s, episode steps: 402, steps per second:  11, episode reward:  6.000, mean reward:  0.015 [ 0.000,  1.000], mean action: 2.338 [0.000, 5.000],  loss: 0.007068, mean_q: 0.193461, mean_eps: 0.531901\n",
            " 104679/300000: episode: 145, duration: 39.786s, episode steps: 455, steps per second:  11, episode reward:  4.000, mean reward:  0.009 [ 0.000,  1.000], mean action: 2.385 [0.000, 5.000],  loss: 0.006645, mean_q: 0.194118, mean_eps: 0.529975\n",
            " 105703/300000: episode: 146, duration: 92.767s, episode steps: 1024, steps per second:  11, episode reward: 20.000, mean reward:  0.020 [ 0.000,  1.000], mean action: 2.380 [0.000, 5.000],  loss: 0.006149, mean_q: 0.189674, mean_eps: 0.526645\n",
            " 106194/300000: episode: 147, duration: 45.516s, episode steps: 491, steps per second:  11, episode reward:  7.000, mean reward:  0.014 [ 0.000,  1.000], mean action: 2.521 [0.000, 5.000],  loss: 0.005699, mean_q: 0.188973, mean_eps: 0.523234\n",
            " 106835/300000: episode: 148, duration: 59.800s, episode steps: 641, steps per second:  11, episode reward: 12.000, mean reward:  0.019 [ 0.000,  1.000], mean action: 2.563 [0.000, 5.000],  loss: 0.007114, mean_q: 0.194369, mean_eps: 0.520687\n",
            " 107656/300000: episode: 149, duration: 73.743s, episode steps: 821, steps per second:  11, episode reward: 17.000, mean reward:  0.021 [ 0.000,  1.000], mean action: 2.133 [0.000, 5.000],  loss: 0.007598, mean_q: 0.193909, mean_eps: 0.517402\n",
            " 108356/300000: episode: 150, duration: 65.804s, episode steps: 700, steps per second:  11, episode reward:  9.000, mean reward:  0.013 [ 0.000,  1.000], mean action: 2.206 [0.000, 5.000],  loss: 0.007335, mean_q: 0.192256, mean_eps: 0.513982\n",
            " 109108/300000: episode: 151, duration: 68.653s, episode steps: 752, steps per second:  11, episode reward: 10.000, mean reward:  0.013 [ 0.000,  1.000], mean action: 2.645 [0.000, 5.000],  loss: 0.007119, mean_q: 0.193608, mean_eps: 0.510715\n",
            " 109776/300000: episode: 152, duration: 59.238s, episode steps: 668, steps per second:  11, episode reward:  9.000, mean reward:  0.013 [ 0.000,  1.000], mean action: 2.308 [0.000, 5.000],  loss: 0.006857, mean_q: 0.194055, mean_eps: 0.507520\n",
            "Step 110000: saving model to checkpoints/dqn_v06_4_weights_110000.h5f\n",
            " 110481/300000: episode: 153, duration: 63.702s, episode steps: 705, steps per second:  11, episode reward:  7.000, mean reward:  0.010 [ 0.000,  1.000], mean action: 2.742 [0.000, 5.000],  loss: 0.007072, mean_q: 0.215046, mean_eps: 0.504424\n",
            " 111524/300000: episode: 154, duration: 90.577s, episode steps: 1043, steps per second:  12, episode reward: 20.000, mean reward:  0.019 [ 0.000,  1.000], mean action: 2.519 [0.000, 5.000],  loss: 0.006760, mean_q: 0.222111, mean_eps: 0.500491\n",
            " 112483/300000: episode: 155, duration: 83.409s, episode steps: 959, steps per second:  11, episode reward: 12.000, mean reward:  0.013 [ 0.000,  1.000], mean action: 2.496 [0.000, 5.000],  loss: 0.006895, mean_q: 0.221261, mean_eps: 0.495991\n",
            " 113192/300000: episode: 156, duration: 62.657s, episode steps: 709, steps per second:  11, episode reward: 11.000, mean reward:  0.016 [ 0.000,  1.000], mean action: 2.429 [0.000, 5.000],  loss: 0.006792, mean_q: 0.220842, mean_eps: 0.492238\n",
            " 113909/300000: episode: 157, duration: 63.422s, episode steps: 717, steps per second:  11, episode reward:  8.000, mean reward:  0.011 [ 0.000,  1.000], mean action: 2.308 [0.000, 5.000],  loss: 0.007412, mean_q: 0.219685, mean_eps: 0.489025\n",
            " 115216/300000: episode: 158, duration: 113.156s, episode steps: 1307, steps per second:  12, episode reward: 15.000, mean reward:  0.011 [ 0.000,  1.000], mean action: 2.184 [0.000, 5.000],  loss: 0.007450, mean_q: 0.222490, mean_eps: 0.484471\n",
            " 115697/300000: episode: 159, duration: 41.913s, episode steps: 481, steps per second:  11, episode reward:  4.000, mean reward:  0.008 [ 0.000,  1.000], mean action: 1.821 [0.000, 5.000],  loss: 0.008843, mean_q: 0.226280, mean_eps: 0.480448\n",
            " 116191/300000: episode: 160, duration: 41.974s, episode steps: 494, steps per second:  12, episode reward:  6.000, mean reward:  0.012 [ 0.000,  1.000], mean action: 1.812 [0.000, 5.000],  loss: 0.006821, mean_q: 0.219047, mean_eps: 0.478252\n",
            " 116945/300000: episode: 161, duration: 65.595s, episode steps: 754, steps per second:  11, episode reward:  8.000, mean reward:  0.011 [ 0.000,  1.000], mean action: 2.658 [0.000, 5.000],  loss: 0.007002, mean_q: 0.222493, mean_eps: 0.475444\n",
            " 117545/300000: episode: 162, duration: 52.889s, episode steps: 600, steps per second:  11, episode reward:  4.000, mean reward:  0.007 [ 0.000,  1.000], mean action: 2.078 [0.000, 5.000],  loss: 0.006481, mean_q: 0.217161, mean_eps: 0.472393\n",
            " 118475/300000: episode: 163, duration: 80.356s, episode steps: 930, steps per second:  12, episode reward: 15.000, mean reward:  0.016 [ 0.000,  1.000], mean action: 2.776 [0.000, 5.000],  loss: 0.007550, mean_q: 0.221932, mean_eps: 0.468955\n",
            " 118885/300000: episode: 164, duration: 34.649s, episode steps: 410, steps per second:  12, episode reward:  6.000, mean reward:  0.015 [ 0.000,  1.000], mean action: 2.498 [0.000, 5.000],  loss: 0.008636, mean_q: 0.228457, mean_eps: 0.465940\n",
            " 119556/300000: episode: 165, duration: 59.197s, episode steps: 671, steps per second:  11, episode reward:  7.000, mean reward:  0.010 [ 0.000,  1.000], mean action: 2.285 [0.000, 5.000],  loss: 0.007001, mean_q: 0.219651, mean_eps: 0.463510\n",
            " 119958/300000: episode: 166, duration: 33.852s, episode steps: 402, steps per second:  12, episode reward:  4.000, mean reward:  0.010 [ 0.000,  1.000], mean action: 2.776 [0.000, 5.000],  loss: 0.007365, mean_q: 0.222022, mean_eps: 0.461098\n",
            "Step 120000: saving model to checkpoints/dqn_v06_4_weights_120000.h5f\n",
            " 120598/300000: episode: 167, duration: 55.864s, episode steps: 640, steps per second:  11, episode reward:  7.000, mean reward:  0.011 [ 0.000,  1.000], mean action: 2.492 [0.000, 5.000],  loss: 0.006427, mean_q: 0.246096, mean_eps: 0.458749\n",
            " 121666/300000: episode: 168, duration: 92.854s, episode steps: 1068, steps per second:  12, episode reward: 21.000, mean reward:  0.020 [ 0.000,  1.000], mean action: 2.550 [0.000, 5.000],  loss: 0.006874, mean_q: 0.242066, mean_eps: 0.454906\n",
            " 122812/300000: episode: 169, duration: 99.578s, episode steps: 1146, steps per second:  12, episode reward: 18.000, mean reward:  0.016 [ 0.000,  1.000], mean action: 2.878 [0.000, 5.000],  loss: 0.007172, mean_q: 0.240275, mean_eps: 0.449929\n",
            " 123227/300000: episode: 170, duration: 35.930s, episode steps: 415, steps per second:  12, episode reward:  4.000, mean reward:  0.010 [ 0.000,  1.000], mean action: 2.284 [0.000, 5.000],  loss: 0.006445, mean_q: 0.231441, mean_eps: 0.446419\n",
            " 123640/300000: episode: 171, duration: 36.397s, episode steps: 413, steps per second:  11, episode reward:  4.000, mean reward:  0.010 [ 0.000,  1.000], mean action: 2.455 [0.000, 5.000],  loss: 0.006947, mean_q: 0.241284, mean_eps: 0.444556\n",
            " 124567/300000: episode: 172, duration: 80.768s, episode steps: 927, steps per second:  11, episode reward: 20.000, mean reward:  0.022 [ 0.000,  1.000], mean action: 2.525 [0.000, 5.000],  loss: 0.007259, mean_q: 0.241716, mean_eps: 0.441541\n",
            " 126312/300000: episode: 173, duration: 155.297s, episode steps: 1745, steps per second:  11, episode reward: 29.000, mean reward:  0.017 [ 0.000,  1.000], mean action: 2.593 [0.000, 5.000],  loss: 0.007413, mean_q: 0.242771, mean_eps: 0.435529\n",
            " 128633/300000: episode: 174, duration: 207.015s, episode steps: 2321, steps per second:  11, episode reward: 43.000, mean reward:  0.019 [ 0.000,  1.000], mean action: 2.488 [0.000, 5.000],  loss: 0.007315, mean_q: 0.241614, mean_eps: 0.426376\n",
            " 129416/300000: episode: 175, duration: 68.450s, episode steps: 783, steps per second:  11, episode reward:  7.000, mean reward:  0.009 [ 0.000,  1.000], mean action: 2.946 [0.000, 5.000],  loss: 0.006816, mean_q: 0.233122, mean_eps: 0.419392\n",
            "Step 130000: saving model to checkpoints/dqn_v06_4_weights_130000.h5f\n",
            " 130093/300000: episode: 176, duration: 60.685s, episode steps: 677, steps per second:  11, episode reward:  8.000, mean reward:  0.012 [ 0.000,  1.000], mean action: 2.502 [0.000, 5.000],  loss: 0.007551, mean_q: 0.239540, mean_eps: 0.416107\n",
            " 130567/300000: episode: 177, duration: 41.326s, episode steps: 474, steps per second:  11, episode reward:  3.000, mean reward:  0.006 [ 0.000,  1.000], mean action: 2.679 [0.000, 5.000],  loss: 0.006135, mean_q: 0.255050, mean_eps: 0.413515\n",
            " 131219/300000: episode: 178, duration: 57.186s, episode steps: 652, steps per second:  11, episode reward: 11.000, mean reward:  0.017 [ 0.000,  1.000], mean action: 2.764 [0.000, 5.000],  loss: 0.007551, mean_q: 0.256408, mean_eps: 0.410986\n",
            " 132415/300000: episode: 179, duration: 107.828s, episode steps: 1196, steps per second:  11, episode reward: 12.000, mean reward:  0.010 [ 0.000,  1.000], mean action: 2.477 [0.000, 5.000],  loss: 0.007521, mean_q: 0.254662, mean_eps: 0.406828\n",
            " 132788/300000: episode: 180, duration: 33.499s, episode steps: 373, steps per second:  11, episode reward:  5.000, mean reward:  0.013 [ 0.000,  1.000], mean action: 2.732 [0.000, 5.000],  loss: 0.007606, mean_q: 0.251945, mean_eps: 0.403300\n",
            " 133353/300000: episode: 181, duration: 51.629s, episode steps: 565, steps per second:  11, episode reward:  8.000, mean reward:  0.014 [ 0.000,  1.000], mean action: 2.692 [0.000, 5.000],  loss: 0.007778, mean_q: 0.250532, mean_eps: 0.401185\n",
            " 133872/300000: episode: 182, duration: 46.175s, episode steps: 519, steps per second:  11, episode reward:  7.000, mean reward:  0.013 [ 0.000,  1.000], mean action: 2.744 [0.000, 5.000],  loss: 0.007623, mean_q: 0.254520, mean_eps: 0.398746\n",
            " 134864/300000: episode: 183, duration: 91.367s, episode steps: 992, steps per second:  11, episode reward: 12.000, mean reward:  0.012 [ 0.000,  1.000], mean action: 2.195 [0.000, 5.000],  loss: 0.007733, mean_q: 0.251495, mean_eps: 0.395353\n",
            " 135511/300000: episode: 184, duration: 58.189s, episode steps: 647, steps per second:  11, episode reward:  7.000, mean reward:  0.011 [ 0.000,  1.000], mean action: 2.400 [0.000, 5.000],  loss: 0.007669, mean_q: 0.248744, mean_eps: 0.391663\n",
            " 136081/300000: episode: 185, duration: 51.644s, episode steps: 570, steps per second:  11, episode reward:  7.000, mean reward:  0.012 [ 0.000,  1.000], mean action: 2.421 [0.000, 5.000],  loss: 0.006232, mean_q: 0.245705, mean_eps: 0.388918\n",
            " 137010/300000: episode: 186, duration: 83.538s, episode steps: 929, steps per second:  11, episode reward: 17.000, mean reward:  0.018 [ 0.000,  1.000], mean action: 2.249 [0.000, 5.000],  loss: 0.007828, mean_q: 0.253090, mean_eps: 0.385543\n",
            " 137658/300000: episode: 187, duration: 58.393s, episode steps: 648, steps per second:  11, episode reward:  5.000, mean reward:  0.008 [ 0.000,  1.000], mean action: 2.474 [0.000, 5.000],  loss: 0.007541, mean_q: 0.251088, mean_eps: 0.381997\n",
            " 138568/300000: episode: 188, duration: 82.743s, episode steps: 910, steps per second:  11, episode reward: 15.000, mean reward:  0.016 [ 0.000,  1.000], mean action: 2.455 [0.000, 5.000],  loss: 0.006917, mean_q: 0.248776, mean_eps: 0.378496\n",
            " 138966/300000: episode: 189, duration: 37.070s, episode steps: 398, steps per second:  11, episode reward:  8.000, mean reward:  0.020 [ 0.000,  1.000], mean action: 2.286 [0.000, 5.000],  loss: 0.007875, mean_q: 0.251135, mean_eps: 0.375553\n",
            " 139981/300000: episode: 190, duration: 90.455s, episode steps: 1015, steps per second:  11, episode reward: 19.000, mean reward:  0.019 [ 0.000,  1.000], mean action: 2.757 [0.000, 5.000],  loss: 0.006975, mean_q: 0.248663, mean_eps: 0.372367\n",
            "Step 140000: saving model to checkpoints/dqn_v06_4_weights_140000.h5f\n",
            " 140854/300000: episode: 191, duration: 78.775s, episode steps: 873, steps per second:  11, episode reward: 14.000, mean reward:  0.016 [ 0.000,  1.000], mean action: 2.735 [0.000, 5.000],  loss: 0.007709, mean_q: 0.273068, mean_eps: 0.368119\n",
            " 141795/300000: episode: 192, duration: 83.461s, episode steps: 941, steps per second:  11, episode reward: 17.000, mean reward:  0.018 [ 0.000,  1.000], mean action: 2.224 [0.000, 5.000],  loss: 0.006907, mean_q: 0.268426, mean_eps: 0.364042\n",
            " 142601/300000: episode: 193, duration: 72.197s, episode steps: 806, steps per second:  11, episode reward: 11.000, mean reward:  0.014 [ 0.000,  1.000], mean action: 2.953 [0.000, 5.000],  loss: 0.007661, mean_q: 0.273181, mean_eps: 0.360109\n",
            " 143189/300000: episode: 194, duration: 51.554s, episode steps: 588, steps per second:  11, episode reward:  8.000, mean reward:  0.014 [ 0.000,  1.000], mean action: 2.180 [0.000, 5.000],  loss: 0.007398, mean_q: 0.271341, mean_eps: 0.356968\n",
            " 143574/300000: episode: 195, duration: 34.860s, episode steps: 385, steps per second:  11, episode reward:  5.000, mean reward:  0.013 [ 0.000,  1.000], mean action: 1.979 [0.000, 5.000],  loss: 0.007763, mean_q: 0.266924, mean_eps: 0.354781\n",
            " 144892/300000: episode: 196, duration: 117.907s, episode steps: 1318, steps per second:  11, episode reward: 22.000, mean reward:  0.017 [ 0.000,  1.000], mean action: 2.709 [0.000, 5.000],  loss: 0.008393, mean_q: 0.272693, mean_eps: 0.350956\n",
            " 145517/300000: episode: 197, duration: 57.058s, episode steps: 625, steps per second:  11, episode reward:  5.000, mean reward:  0.008 [ 0.000,  1.000], mean action: 2.635 [0.000, 5.000],  loss: 0.007738, mean_q: 0.268731, mean_eps: 0.346582\n",
            " 146295/300000: episode: 198, duration: 69.663s, episode steps: 778, steps per second:  11, episode reward:  9.000, mean reward:  0.012 [ 0.000,  1.000], mean action: 2.460 [0.000, 5.000],  loss: 0.007483, mean_q: 0.271686, mean_eps: 0.343423\n",
            " 146874/300000: episode: 199, duration: 50.913s, episode steps: 579, steps per second:  11, episode reward:  4.000, mean reward:  0.007 [ 0.000,  1.000], mean action: 2.611 [0.000, 5.000],  loss: 0.008832, mean_q: 0.269159, mean_eps: 0.340372\n",
            " 147708/300000: episode: 200, duration: 75.041s, episode steps: 834, steps per second:  11, episode reward: 10.000, mean reward:  0.012 [ 0.000,  1.000], mean action: 2.058 [0.000, 5.000],  loss: 0.007600, mean_q: 0.269669, mean_eps: 0.337195\n",
            " 148234/300000: episode: 201, duration: 46.192s, episode steps: 526, steps per second:  11, episode reward:  6.000, mean reward:  0.011 [ 0.000,  1.000], mean action: 2.409 [0.000, 5.000],  loss: 0.007931, mean_q: 0.272718, mean_eps: 0.334135\n",
            " 148589/300000: episode: 202, duration: 32.447s, episode steps: 355, steps per second:  11, episode reward:  5.000, mean reward:  0.014 [ 0.000,  1.000], mean action: 2.496 [0.000, 5.000],  loss: 0.006472, mean_q: 0.264642, mean_eps: 0.332146\n",
            " 148994/300000: episode: 203, duration: 35.047s, episode steps: 405, steps per second:  12, episode reward:  2.000, mean reward:  0.005 [ 0.000,  1.000], mean action: 2.410 [0.000, 5.000],  loss: 0.008474, mean_q: 0.271119, mean_eps: 0.330436\n",
            " 149944/300000: episode: 204, duration: 85.855s, episode steps: 950, steps per second:  11, episode reward: 11.000, mean reward:  0.012 [ 0.000,  1.000], mean action: 2.481 [0.000, 5.000],  loss: 0.007660, mean_q: 0.269087, mean_eps: 0.327394\n",
            "Step 150000: saving model to checkpoints/dqn_v06_4_weights_150000.h5f\n",
            " 150657/300000: episode: 205, duration: 65.058s, episode steps: 713, steps per second:  11, episode reward:  6.000, mean reward:  0.008 [ 0.000,  1.000], mean action: 3.115 [0.000, 5.000],  loss: 0.007778, mean_q: 0.300047, mean_eps: 0.323650\n",
            " 151071/300000: episode: 206, duration: 37.935s, episode steps: 414, steps per second:  11, episode reward:  4.000, mean reward:  0.010 [ 0.000,  1.000], mean action: 2.106 [0.000, 5.000],  loss: 0.006201, mean_q: 0.290399, mean_eps: 0.321112\n",
            " 151510/300000: episode: 207, duration: 40.062s, episode steps: 439, steps per second:  11, episode reward:  6.000, mean reward:  0.014 [ 0.000,  1.000], mean action: 2.852 [0.000, 5.000],  loss: 0.008474, mean_q: 0.297186, mean_eps: 0.319195\n",
            " 152172/300000: episode: 208, duration: 58.556s, episode steps: 662, steps per second:  11, episode reward:  9.000, mean reward:  0.014 [ 0.000,  1.000], mean action: 2.856 [0.000, 5.000],  loss: 0.007838, mean_q: 0.298715, mean_eps: 0.316720\n",
            " 152697/300000: episode: 209, duration: 46.424s, episode steps: 525, steps per second:  11, episode reward:  5.000, mean reward:  0.010 [ 0.000,  1.000], mean action: 2.238 [0.000, 5.000],  loss: 0.007746, mean_q: 0.302216, mean_eps: 0.314047\n",
            " 153368/300000: episode: 210, duration: 59.420s, episode steps: 671, steps per second:  11, episode reward: 15.000, mean reward:  0.022 [ 0.000,  1.000], mean action: 2.292 [0.000, 5.000],  loss: 0.007592, mean_q: 0.295439, mean_eps: 0.311356\n",
            " 154383/300000: episode: 211, duration: 89.055s, episode steps: 1015, steps per second:  11, episode reward: 23.000, mean reward:  0.023 [ 0.000,  1.000], mean action: 2.432 [0.000, 5.000],  loss: 0.007803, mean_q: 0.293234, mean_eps: 0.307567\n",
            " 155080/300000: episode: 212, duration: 63.751s, episode steps: 697, steps per second:  11, episode reward:  8.000, mean reward:  0.011 [ 0.000,  1.000], mean action: 2.317 [0.000, 5.000],  loss: 0.007540, mean_q: 0.295207, mean_eps: 0.303715\n",
            " 155877/300000: episode: 213, duration: 71.166s, episode steps: 797, steps per second:  11, episode reward: 12.000, mean reward:  0.015 [ 0.000,  1.000], mean action: 2.802 [0.000, 5.000],  loss: 0.008281, mean_q: 0.296547, mean_eps: 0.300349\n",
            " 156551/300000: episode: 214, duration: 61.133s, episode steps: 674, steps per second:  11, episode reward:  7.000, mean reward:  0.010 [ 0.000,  1.000], mean action: 2.266 [0.000, 5.000],  loss: 0.008292, mean_q: 0.293302, mean_eps: 0.297037\n",
            " 157247/300000: episode: 215, duration: 60.908s, episode steps: 696, steps per second:  11, episode reward:  8.000, mean reward:  0.011 [ 0.000,  1.000], mean action: 2.774 [0.000, 5.000],  loss: 0.008047, mean_q: 0.297077, mean_eps: 0.293959\n",
            " 158006/300000: episode: 216, duration: 68.277s, episode steps: 759, steps per second:  11, episode reward:  9.000, mean reward:  0.012 [ 0.000,  1.000], mean action: 2.320 [0.000, 5.000],  loss: 0.008350, mean_q: 0.299193, mean_eps: 0.290683\n",
            " 158400/300000: episode: 217, duration: 36.428s, episode steps: 394, steps per second:  11, episode reward:  5.000, mean reward:  0.013 [ 0.000,  1.000], mean action: 1.893 [0.000, 5.000],  loss: 0.008280, mean_q: 0.292509, mean_eps: 0.288091\n",
            " 158983/300000: episode: 218, duration: 51.699s, episode steps: 583, steps per second:  11, episode reward:  7.000, mean reward:  0.012 [ 0.000,  1.000], mean action: 3.075 [0.000, 5.000],  loss: 0.008816, mean_q: 0.298901, mean_eps: 0.285895\n",
            " 159660/300000: episode: 219, duration: 61.165s, episode steps: 677, steps per second:  11, episode reward:  9.000, mean reward:  0.013 [ 0.000,  1.000], mean action: 2.690 [0.000, 5.000],  loss: 0.008583, mean_q: 0.299608, mean_eps: 0.283060\n",
            "Step 160000: saving model to checkpoints/dqn_v06_4_weights_160000.h5f\n",
            " 160415/300000: episode: 220, duration: 67.628s, episode steps: 755, steps per second:  11, episode reward: 11.000, mean reward:  0.015 [ 0.000,  1.000], mean action: 2.744 [0.000, 5.000],  loss: 0.008369, mean_q: 0.312195, mean_eps: 0.279838\n",
            " 161474/300000: episode: 221, duration: 93.966s, episode steps: 1059, steps per second:  11, episode reward: 21.000, mean reward:  0.020 [ 0.000,  1.000], mean action: 2.281 [0.000, 5.000],  loss: 0.008071, mean_q: 0.323086, mean_eps: 0.275752\n",
            " 162418/300000: episode: 222, duration: 84.445s, episode steps: 944, steps per second:  11, episode reward: 13.000, mean reward:  0.014 [ 0.000,  1.000], mean action: 2.770 [0.000, 5.000],  loss: 0.008076, mean_q: 0.315141, mean_eps: 0.271243\n",
            " 162943/300000: episode: 223, duration: 46.270s, episode steps: 525, steps per second:  11, episode reward:  7.000, mean reward:  0.013 [ 0.000,  1.000], mean action: 2.790 [0.000, 5.000],  loss: 0.008883, mean_q: 0.327413, mean_eps: 0.267940\n",
            " 163932/300000: episode: 224, duration: 89.620s, episode steps: 989, steps per second:  11, episode reward: 19.000, mean reward:  0.019 [ 0.000,  1.000], mean action: 2.536 [0.000, 5.000],  loss: 0.007341, mean_q: 0.313391, mean_eps: 0.264538\n",
            " 165015/300000: episode: 225, duration: 96.414s, episode steps: 1083, steps per second:  11, episode reward: 27.000, mean reward:  0.025 [ 0.000,  1.000], mean action: 2.507 [0.000, 5.000],  loss: 0.008071, mean_q: 0.319040, mean_eps: 0.259876\n",
            " 165684/300000: episode: 226, duration: 59.330s, episode steps: 669, steps per second:  11, episode reward:  7.000, mean reward:  0.010 [ 0.000,  1.000], mean action: 2.266 [0.000, 5.000],  loss: 0.007589, mean_q: 0.310526, mean_eps: 0.255934\n",
            " 166208/300000: episode: 227, duration: 47.917s, episode steps: 524, steps per second:  11, episode reward: 10.000, mean reward:  0.019 [ 0.000,  1.000], mean action: 2.359 [0.000, 5.000],  loss: 0.007679, mean_q: 0.318956, mean_eps: 0.253252\n",
            " 166647/300000: episode: 228, duration: 39.214s, episode steps: 439, steps per second:  11, episode reward:  6.000, mean reward:  0.014 [ 0.000,  1.000], mean action: 2.091 [0.000, 5.000],  loss: 0.008319, mean_q: 0.324054, mean_eps: 0.251083\n",
            " 167504/300000: episode: 229, duration: 77.942s, episode steps: 857, steps per second:  11, episode reward: 16.000, mean reward:  0.019 [ 0.000,  1.000], mean action: 2.693 [0.000, 5.000],  loss: 0.008900, mean_q: 0.317396, mean_eps: 0.248167\n",
            " 167843/300000: episode: 230, duration: 30.004s, episode steps: 339, steps per second:  11, episode reward:  4.000, mean reward:  0.012 [ 0.000,  1.000], mean action: 2.785 [0.000, 5.000],  loss: 0.007764, mean_q: 0.314007, mean_eps: 0.245476\n",
            " 168745/300000: episode: 231, duration: 80.832s, episode steps: 902, steps per second:  11, episode reward:  9.000, mean reward:  0.010 [ 0.000,  1.000], mean action: 2.212 [0.000, 5.000],  loss: 0.007521, mean_q: 0.321080, mean_eps: 0.242677\n",
            " 169463/300000: episode: 232, duration: 66.866s, episode steps: 718, steps per second:  11, episode reward: 15.000, mean reward:  0.021 [ 0.000,  1.000], mean action: 2.935 [0.000, 5.000],  loss: 0.008446, mean_q: 0.316731, mean_eps: 0.239032\n",
            "Step 170000: saving model to checkpoints/dqn_v06_4_weights_170000.h5f\n",
            " 170113/300000: episode: 233, duration: 60.710s, episode steps: 650, steps per second:  11, episode reward:  9.000, mean reward:  0.014 [ 0.000,  1.000], mean action: 2.055 [0.000, 5.000],  loss: 0.007542, mean_q: 0.316961, mean_eps: 0.235954\n",
            " 170829/300000: episode: 234, duration: 65.024s, episode steps: 716, steps per second:  11, episode reward: 11.000, mean reward:  0.015 [ 0.000,  1.000], mean action: 2.479 [0.000, 5.000],  loss: 0.007056, mean_q: 0.327624, mean_eps: 0.232876\n",
            " 171203/300000: episode: 235, duration: 34.652s, episode steps: 374, steps per second:  11, episode reward:  8.000, mean reward:  0.021 [ 0.000,  1.000], mean action: 2.353 [0.000, 5.000],  loss: 0.010554, mean_q: 0.334029, mean_eps: 0.230428\n",
            " 171984/300000: episode: 236, duration: 71.414s, episode steps: 781, steps per second:  11, episode reward: 11.000, mean reward:  0.014 [ 0.000,  1.000], mean action: 1.823 [0.000, 5.000],  loss: 0.007895, mean_q: 0.333493, mean_eps: 0.227836\n",
            " 172724/300000: episode: 237, duration: 67.950s, episode steps: 740, steps per second:  11, episode reward: 15.000, mean reward:  0.020 [ 0.000,  1.000], mean action: 2.786 [0.000, 5.000],  loss: 0.007287, mean_q: 0.330530, mean_eps: 0.224416\n",
            " 173546/300000: episode: 238, duration: 73.830s, episode steps: 822, steps per second:  11, episode reward: 13.000, mean reward:  0.016 [ 0.000,  1.000], mean action: 2.161 [0.000, 5.000],  loss: 0.007521, mean_q: 0.329538, mean_eps: 0.220897\n",
            " 174247/300000: episode: 239, duration: 63.530s, episode steps: 701, steps per second:  11, episode reward:  9.000, mean reward:  0.013 [ 0.000,  1.000], mean action: 2.769 [0.000, 5.000],  loss: 0.007183, mean_q: 0.329717, mean_eps: 0.217468\n",
            " 175062/300000: episode: 240, duration: 73.558s, episode steps: 815, steps per second:  11, episode reward: 13.000, mean reward:  0.016 [ 0.000,  1.000], mean action: 2.725 [0.000, 5.000],  loss: 0.007872, mean_q: 0.330070, mean_eps: 0.214057\n",
            " 175450/300000: episode: 241, duration: 35.979s, episode steps: 388, steps per second:  11, episode reward:  3.000, mean reward:  0.008 [ 0.000,  1.000], mean action: 2.049 [0.000, 5.000],  loss: 0.009356, mean_q: 0.325669, mean_eps: 0.211348\n",
            " 176238/300000: episode: 242, duration: 71.742s, episode steps: 788, steps per second:  11, episode reward: 12.000, mean reward:  0.015 [ 0.000,  1.000], mean action: 2.756 [0.000, 5.000],  loss: 0.008340, mean_q: 0.333370, mean_eps: 0.208702\n",
            " 177378/300000: episode: 243, duration: 102.824s, episode steps: 1140, steps per second:  11, episode reward: 19.000, mean reward:  0.017 [ 0.000,  1.000], mean action: 2.339 [0.000, 5.000],  loss: 0.009491, mean_q: 0.330591, mean_eps: 0.204364\n",
            " 178211/300000: episode: 244, duration: 76.209s, episode steps: 833, steps per second:  11, episode reward: 11.000, mean reward:  0.013 [ 0.000,  1.000], mean action: 2.371 [0.000, 5.000],  loss: 0.006336, mean_q: 0.324304, mean_eps: 0.199927\n",
            " 179211/300000: episode: 245, duration: 91.245s, episode steps: 1000, steps per second:  11, episode reward: 15.000, mean reward:  0.015 [ 0.000,  1.000], mean action: 2.110 [0.000, 5.000],  loss: 0.007983, mean_q: 0.332313, mean_eps: 0.195805\n",
            "Step 180000: saving model to checkpoints/dqn_v06_4_weights_180000.h5f\n",
            " 180134/300000: episode: 246, duration: 84.513s, episode steps: 923, steps per second:  11, episode reward: 15.000, mean reward:  0.016 [ 0.000,  1.000], mean action: 2.406 [0.000, 5.000],  loss: 0.008137, mean_q: 0.336899, mean_eps: 0.191476\n",
            " 181101/300000: episode: 247, duration: 88.102s, episode steps: 967, steps per second:  11, episode reward: 13.000, mean reward:  0.013 [ 0.000,  1.000], mean action: 2.292 [0.000, 5.000],  loss: 0.008286, mean_q: 0.355830, mean_eps: 0.187219\n",
            " 182029/300000: episode: 248, duration: 84.757s, episode steps: 928, steps per second:  11, episode reward: 14.000, mean reward:  0.015 [ 0.000,  1.000], mean action: 2.058 [0.000, 5.000],  loss: 0.008833, mean_q: 0.361688, mean_eps: 0.182953\n",
            " 182447/300000: episode: 249, duration: 38.364s, episode steps: 418, steps per second:  11, episode reward:  6.000, mean reward:  0.014 [ 0.000,  1.000], mean action: 2.234 [0.000, 5.000],  loss: 0.009516, mean_q: 0.353421, mean_eps: 0.179929\n",
            " 183172/300000: episode: 250, duration: 66.094s, episode steps: 725, steps per second:  11, episode reward: 18.000, mean reward:  0.025 [ 0.000,  1.000], mean action: 2.372 [0.000, 5.000],  loss: 0.007256, mean_q: 0.349891, mean_eps: 0.177364\n",
            " 183819/300000: episode: 251, duration: 58.958s, episode steps: 647, steps per second:  11, episode reward: 12.000, mean reward:  0.019 [ 0.000,  1.000], mean action: 2.669 [0.000, 5.000],  loss: 0.007658, mean_q: 0.354971, mean_eps: 0.174277\n",
            " 184565/300000: episode: 252, duration: 68.203s, episode steps: 746, steps per second:  11, episode reward: 10.000, mean reward:  0.013 [ 0.000,  1.000], mean action: 1.956 [0.000, 5.000],  loss: 0.008132, mean_q: 0.351974, mean_eps: 0.171136\n",
            " 185421/300000: episode: 253, duration: 78.246s, episode steps: 856, steps per second:  11, episode reward: 15.000, mean reward:  0.018 [ 0.000,  1.000], mean action: 2.658 [0.000, 5.000],  loss: 0.007775, mean_q: 0.354246, mean_eps: 0.167527\n",
            " 186034/300000: episode: 254, duration: 56.773s, episode steps: 613, steps per second:  11, episode reward: 10.000, mean reward:  0.016 [ 0.000,  1.000], mean action: 2.346 [0.000, 5.000],  loss: 0.007053, mean_q: 0.342494, mean_eps: 0.164224\n",
            " 186622/300000: episode: 255, duration: 53.396s, episode steps: 588, steps per second:  11, episode reward:  9.000, mean reward:  0.015 [ 0.000,  1.000], mean action: 2.833 [0.000, 5.000],  loss: 0.008600, mean_q: 0.357965, mean_eps: 0.161524\n",
            " 186965/300000: episode: 256, duration: 31.379s, episode steps: 343, steps per second:  11, episode reward:  4.000, mean reward:  0.012 [ 0.000,  1.000], mean action: 2.041 [0.000, 5.000],  loss: 0.007182, mean_q: 0.342663, mean_eps: 0.159427\n",
            " 187346/300000: episode: 257, duration: 34.106s, episode steps: 381, steps per second:  11, episode reward:  2.000, mean reward:  0.005 [ 0.000,  1.000], mean action: 2.793 [0.000, 5.000],  loss: 0.007444, mean_q: 0.352847, mean_eps: 0.157798\n",
            " 188040/300000: episode: 258, duration: 64.173s, episode steps: 694, steps per second:  11, episode reward: 12.000, mean reward:  0.017 [ 0.000,  1.000], mean action: 2.334 [0.000, 5.000],  loss: 0.008973, mean_q: 0.361177, mean_eps: 0.155386\n",
            " 188528/300000: episode: 259, duration: 45.433s, episode steps: 488, steps per second:  11, episode reward:  3.000, mean reward:  0.006 [ 0.000,  1.000], mean action: 2.324 [0.000, 5.000],  loss: 0.008023, mean_q: 0.345983, mean_eps: 0.152731\n",
            " 189424/300000: episode: 260, duration: 83.910s, episode steps: 896, steps per second:  11, episode reward: 12.000, mean reward:  0.013 [ 0.000,  1.000], mean action: 1.857 [0.000, 5.000],  loss: 0.008368, mean_q: 0.353454, mean_eps: 0.149617\n",
            "Step 190000: saving model to checkpoints/dqn_v06_4_weights_190000.h5f\n",
            " 190021/300000: episode: 261, duration: 56.501s, episode steps: 597, steps per second:  11, episode reward:  9.000, mean reward:  0.015 [ 0.000,  1.000], mean action: 2.055 [0.000, 5.000],  loss: 0.007872, mean_q: 0.345048, mean_eps: 0.146251\n",
            " 190673/300000: episode: 262, duration: 61.716s, episode steps: 652, steps per second:  11, episode reward:  9.000, mean reward:  0.014 [ 0.000,  1.000], mean action: 2.590 [0.000, 5.000],  loss: 0.008317, mean_q: 0.371800, mean_eps: 0.143434\n",
            " 192025/300000: episode: 263, duration: 124.916s, episode steps: 1352, steps per second:  11, episode reward: 23.000, mean reward:  0.017 [ 0.000,  1.000], mean action: 2.353 [0.000, 5.000],  loss: 0.007622, mean_q: 0.371216, mean_eps: 0.138925\n",
            " 192901/300000: episode: 264, duration: 79.577s, episode steps: 876, steps per second:  11, episode reward: 21.000, mean reward:  0.024 [ 0.000,  1.000], mean action: 2.689 [0.000, 5.000],  loss: 0.008768, mean_q: 0.373778, mean_eps: 0.133912\n",
            " 193511/300000: episode: 265, duration: 54.360s, episode steps: 610, steps per second:  11, episode reward:  9.000, mean reward:  0.015 [ 0.000,  1.000], mean action: 3.169 [0.000, 5.000],  loss: 0.008569, mean_q: 0.374692, mean_eps: 0.130573\n",
            " 194685/300000: episode: 266, duration: 105.623s, episode steps: 1174, steps per second:  11, episode reward: 22.000, mean reward:  0.019 [ 0.000,  1.000], mean action: 2.405 [0.000, 5.000],  loss: 0.008009, mean_q: 0.367535, mean_eps: 0.126559\n",
            " 195166/300000: episode: 267, duration: 43.498s, episode steps: 481, steps per second:  11, episode reward:  4.000, mean reward:  0.008 [ 0.000,  1.000], mean action: 1.570 [0.000, 5.000],  loss: 0.007920, mean_q: 0.364707, mean_eps: 0.122833\n",
            " 196144/300000: episode: 268, duration: 89.865s, episode steps: 978, steps per second:  11, episode reward: 23.000, mean reward:  0.024 [ 0.000,  1.000], mean action: 2.389 [0.000, 5.000],  loss: 0.008037, mean_q: 0.366571, mean_eps: 0.119557\n",
            " 196520/300000: episode: 269, duration: 34.114s, episode steps: 376, steps per second:  11, episode reward:  4.000, mean reward:  0.011 [ 0.000,  1.000], mean action: 2.231 [0.000, 5.000],  loss: 0.008438, mean_q: 0.373449, mean_eps: 0.116515\n",
            " 197522/300000: episode: 270, duration: 92.855s, episode steps: 1002, steps per second:  11, episode reward: 18.000, mean reward:  0.018 [ 0.000,  1.000], mean action: 1.945 [0.000, 5.000],  loss: 0.008301, mean_q: 0.371152, mean_eps: 0.113410\n",
            " 198726/300000: episode: 271, duration: 109.790s, episode steps: 1204, steps per second:  11, episode reward: 20.000, mean reward:  0.017 [ 0.000,  1.000], mean action: 2.099 [0.000, 5.000],  loss: 0.008340, mean_q: 0.371268, mean_eps: 0.108442\n",
            " 199466/300000: episode: 272, duration: 68.431s, episode steps: 740, steps per second:  11, episode reward:  9.000, mean reward:  0.012 [ 0.000,  1.000], mean action: 2.780 [0.000, 5.000],  loss: 0.007280, mean_q: 0.365776, mean_eps: 0.104068\n",
            " 199887/300000: episode: 273, duration: 38.875s, episode steps: 421, steps per second:  11, episode reward:  3.000, mean reward:  0.007 [ 0.000,  1.000], mean action: 2.511 [0.000, 5.000],  loss: 0.007173, mean_q: 0.369113, mean_eps: 0.101458\n",
            "Step 200000: saving model to checkpoints/dqn_v06_4_weights_200000.h5f\n",
            " 200710/300000: episode: 274, duration: 74.644s, episode steps: 823, steps per second:  11, episode reward: 12.000, mean reward:  0.015 [ 0.000,  1.000], mean action: 2.486 [0.000, 5.000],  loss: 0.008839, mean_q: 0.400323, mean_eps: 0.100035\n",
            " 201315/300000: episode: 275, duration: 55.153s, episode steps: 605, steps per second:  11, episode reward: 10.000, mean reward:  0.017 [ 0.000,  1.000], mean action: 3.256 [0.000, 5.000],  loss: 0.009518, mean_q: 0.411275, mean_eps: 0.100000\n",
            " 201840/300000: episode: 276, duration: 49.329s, episode steps: 525, steps per second:  11, episode reward:  4.000, mean reward:  0.008 [ 0.000,  1.000], mean action: 3.067 [0.000, 5.000],  loss: 0.008776, mean_q: 0.409925, mean_eps: 0.100000\n",
            " 202196/300000: episode: 277, duration: 32.035s, episode steps: 356, steps per second:  11, episode reward:  5.000, mean reward:  0.014 [ 0.000,  1.000], mean action: 3.163 [0.000, 5.000],  loss: 0.008999, mean_q: 0.405735, mean_eps: 0.100000\n",
            " 202566/300000: episode: 278, duration: 34.613s, episode steps: 370, steps per second:  11, episode reward:  4.000, mean reward:  0.011 [ 0.000,  1.000], mean action: 2.197 [0.000, 5.000],  loss: 0.009441, mean_q: 0.405575, mean_eps: 0.100000\n",
            " 203478/300000: episode: 279, duration: 83.299s, episode steps: 912, steps per second:  11, episode reward: 11.000, mean reward:  0.012 [ 0.000,  1.000], mean action: 2.107 [0.000, 5.000],  loss: 0.008372, mean_q: 0.410195, mean_eps: 0.100000\n",
            " 204589/300000: episode: 280, duration: 102.968s, episode steps: 1111, steps per second:  11, episode reward: 18.000, mean reward:  0.016 [ 0.000,  1.000], mean action: 1.995 [0.000, 5.000],  loss: 0.008930, mean_q: 0.406581, mean_eps: 0.100000\n",
            " 205548/300000: episode: 281, duration: 88.689s, episode steps: 959, steps per second:  11, episode reward: 18.000, mean reward:  0.019 [ 0.000,  1.000], mean action: 2.233 [0.000, 5.000],  loss: 0.008281, mean_q: 0.405642, mean_eps: 0.100000\n",
            " 206069/300000: episode: 282, duration: 48.925s, episode steps: 521, steps per second:  11, episode reward:  1.000, mean reward:  0.002 [ 0.000,  1.000], mean action: 1.975 [0.000, 5.000],  loss: 0.007576, mean_q: 0.403643, mean_eps: 0.100000\n",
            " 206739/300000: episode: 283, duration: 63.244s, episode steps: 670, steps per second:  11, episode reward: 10.000, mean reward:  0.015 [ 0.000,  1.000], mean action: 2.287 [0.000, 5.000],  loss: 0.006819, mean_q: 0.398872, mean_eps: 0.100000\n",
            " 207637/300000: episode: 284, duration: 80.488s, episode steps: 898, steps per second:  11, episode reward: 17.000, mean reward:  0.019 [ 0.000,  1.000], mean action: 2.040 [0.000, 5.000],  loss: 0.008634, mean_q: 0.403062, mean_eps: 0.100000\n",
            " 208149/300000: episode: 285, duration: 47.285s, episode steps: 512, steps per second:  11, episode reward:  3.000, mean reward:  0.006 [ 0.000,  1.000], mean action: 2.279 [0.000, 5.000],  loss: 0.007821, mean_q: 0.398059, mean_eps: 0.100000\n",
            " 209108/300000: episode: 286, duration: 87.625s, episode steps: 959, steps per second:  11, episode reward: 15.000, mean reward:  0.016 [ 0.000,  1.000], mean action: 2.414 [0.000, 5.000],  loss: 0.008710, mean_q: 0.403821, mean_eps: 0.100000\n",
            " 209772/300000: episode: 287, duration: 61.948s, episode steps: 664, steps per second:  11, episode reward: 10.000, mean reward:  0.015 [ 0.000,  1.000], mean action: 2.633 [0.000, 5.000],  loss: 0.007939, mean_q: 0.405435, mean_eps: 0.100000\n",
            "Step 210000: saving model to checkpoints/dqn_v06_4_weights_210000.h5f\n",
            " 210828/300000: episode: 288, duration: 96.241s, episode steps: 1056, steps per second:  11, episode reward: 22.000, mean reward:  0.021 [ 0.000,  1.000], mean action: 2.790 [0.000, 5.000],  loss: 0.008116, mean_q: 0.433163, mean_eps: 0.100000\n",
            " 211315/300000: episode: 289, duration: 44.013s, episode steps: 487, steps per second:  11, episode reward:  2.000, mean reward:  0.004 [ 0.000,  1.000], mean action: 2.296 [0.000, 5.000],  loss: 0.008331, mean_q: 0.430166, mean_eps: 0.100000\n",
            " 212214/300000: episode: 290, duration: 81.224s, episode steps: 899, steps per second:  11, episode reward: 14.000, mean reward:  0.016 [ 0.000,  1.000], mean action: 2.595 [0.000, 5.000],  loss: 0.008344, mean_q: 0.425766, mean_eps: 0.100000\n",
            " 212776/300000: episode: 291, duration: 51.345s, episode steps: 562, steps per second:  11, episode reward:  6.000, mean reward:  0.011 [ 0.000,  1.000], mean action: 2.167 [0.000, 5.000],  loss: 0.009168, mean_q: 0.422268, mean_eps: 0.100000\n",
            " 213899/300000: episode: 292, duration: 102.320s, episode steps: 1123, steps per second:  11, episode reward: 17.000, mean reward:  0.015 [ 0.000,  1.000], mean action: 2.715 [0.000, 5.000],  loss: 0.008356, mean_q: 0.422809, mean_eps: 0.100000\n",
            " 215171/300000: episode: 293, duration: 117.479s, episode steps: 1272, steps per second:  11, episode reward: 27.000, mean reward:  0.021 [ 0.000,  1.000], mean action: 2.965 [0.000, 5.000],  loss: 0.009400, mean_q: 0.427832, mean_eps: 0.100000\n",
            " 215555/300000: episode: 294, duration: 34.504s, episode steps: 384, steps per second:  11, episode reward:  6.000, mean reward:  0.016 [ 0.000,  1.000], mean action: 2.497 [0.000, 5.000],  loss: 0.007318, mean_q: 0.415368, mean_eps: 0.100000\n",
            " 216382/300000: episode: 295, duration: 76.629s, episode steps: 827, steps per second:  11, episode reward: 14.000, mean reward:  0.017 [ 0.000,  1.000], mean action: 1.770 [0.000, 5.000],  loss: 0.009288, mean_q: 0.427983, mean_eps: 0.100000\n",
            " 217094/300000: episode: 296, duration: 63.830s, episode steps: 712, steps per second:  11, episode reward: 12.000, mean reward:  0.017 [ 0.000,  1.000], mean action: 3.136 [0.000, 5.000],  loss: 0.006567, mean_q: 0.420124, mean_eps: 0.100000\n",
            " 217818/300000: episode: 297, duration: 66.022s, episode steps: 724, steps per second:  11, episode reward: 10.000, mean reward:  0.014 [ 0.000,  1.000], mean action: 2.403 [0.000, 5.000],  loss: 0.008941, mean_q: 0.426893, mean_eps: 0.100000\n",
            " 219035/300000: episode: 298, duration: 109.386s, episode steps: 1217, steps per second:  11, episode reward: 24.000, mean reward:  0.020 [ 0.000,  1.000], mean action: 2.456 [0.000, 5.000],  loss: 0.008553, mean_q: 0.425924, mean_eps: 0.100000\n",
            " 219471/300000: episode: 299, duration: 38.810s, episode steps: 436, steps per second:  11, episode reward:  3.000, mean reward:  0.007 [ 0.000,  1.000], mean action: 2.211 [0.000, 5.000],  loss: 0.008374, mean_q: 0.425244, mean_eps: 0.100000\n",
            "Step 220000: saving model to checkpoints/dqn_v06_4_weights_220000.h5f\n",
            " 220147/300000: episode: 300, duration: 60.708s, episode steps: 676, steps per second:  11, episode reward: 15.000, mean reward:  0.022 [ 0.000,  1.000], mean action: 2.157 [0.000, 5.000],  loss: 0.008606, mean_q: 0.433924, mean_eps: 0.100000\n",
            " 220840/300000: episode: 301, duration: 62.703s, episode steps: 693, steps per second:  11, episode reward:  6.000, mean reward:  0.009 [ 0.000,  1.000], mean action: 2.911 [0.000, 5.000],  loss: 0.008606, mean_q: 0.450753, mean_eps: 0.100000\n",
            " 221360/300000: episode: 302, duration: 45.831s, episode steps: 520, steps per second:  11, episode reward:  9.000, mean reward:  0.017 [ 0.000,  1.000], mean action: 2.356 [0.000, 5.000],  loss: 0.009357, mean_q: 0.440590, mean_eps: 0.100000\n",
            " 222443/300000: episode: 303, duration: 101.800s, episode steps: 1083, steps per second:  11, episode reward: 14.000, mean reward:  0.013 [ 0.000,  1.000], mean action: 2.633 [0.000, 5.000],  loss: 0.009249, mean_q: 0.442359, mean_eps: 0.100000\n",
            " 222859/300000: episode: 304, duration: 36.260s, episode steps: 416, steps per second:  11, episode reward:  5.000, mean reward:  0.012 [ 0.000,  1.000], mean action: 3.257 [0.000, 5.000],  loss: 0.009074, mean_q: 0.435704, mean_eps: 0.100000\n",
            " 223243/300000: episode: 305, duration: 35.382s, episode steps: 384, steps per second:  11, episode reward:  7.000, mean reward:  0.018 [ 0.000,  1.000], mean action: 2.714 [0.000, 5.000],  loss: 0.008265, mean_q: 0.442859, mean_eps: 0.100000\n",
            " 224432/300000: episode: 306, duration: 106.375s, episode steps: 1189, steps per second:  11, episode reward: 26.000, mean reward:  0.022 [ 0.000,  1.000], mean action: 2.081 [0.000, 5.000],  loss: 0.007926, mean_q: 0.443424, mean_eps: 0.100000\n",
            " 225154/300000: episode: 307, duration: 64.975s, episode steps: 722, steps per second:  11, episode reward:  9.000, mean reward:  0.012 [ 0.000,  1.000], mean action: 2.353 [0.000, 5.000],  loss: 0.008242, mean_q: 0.437591, mean_eps: 0.100000\n",
            " 225557/300000: episode: 308, duration: 36.177s, episode steps: 403, steps per second:  11, episode reward:  5.000, mean reward:  0.012 [ 0.000,  1.000], mean action: 1.342 [0.000, 5.000],  loss: 0.007516, mean_q: 0.434191, mean_eps: 0.100000\n",
            " 226608/300000: episode: 309, duration: 93.897s, episode steps: 1051, steps per second:  11, episode reward: 18.000, mean reward:  0.017 [ 0.000,  1.000], mean action: 2.369 [0.000, 5.000],  loss: 0.008877, mean_q: 0.438773, mean_eps: 0.100000\n",
            " 227174/300000: episode: 310, duration: 50.991s, episode steps: 566, steps per second:  11, episode reward:  6.000, mean reward:  0.011 [ 0.000,  1.000], mean action: 2.424 [0.000, 5.000],  loss: 0.008587, mean_q: 0.439301, mean_eps: 0.100000\n",
            " 227904/300000: episode: 311, duration: 65.216s, episode steps: 730, steps per second:  11, episode reward: 14.000, mean reward:  0.019 [ 0.000,  1.000], mean action: 2.155 [0.000, 5.000],  loss: 0.007715, mean_q: 0.432301, mean_eps: 0.100000\n",
            " 228484/300000: episode: 312, duration: 52.303s, episode steps: 580, steps per second:  11, episode reward: 10.000, mean reward:  0.017 [ 0.000,  1.000], mean action: 2.760 [0.000, 5.000],  loss: 0.008242, mean_q: 0.443298, mean_eps: 0.100000\n",
            " 229155/300000: episode: 313, duration: 61.749s, episode steps: 671, steps per second:  11, episode reward:  9.000, mean reward:  0.013 [ 0.000,  1.000], mean action: 2.286 [0.000, 5.000],  loss: 0.008986, mean_q: 0.444233, mean_eps: 0.100000\n",
            " 229832/300000: episode: 314, duration: 60.481s, episode steps: 677, steps per second:  11, episode reward: 10.000, mean reward:  0.015 [ 0.000,  1.000], mean action: 2.756 [0.000, 5.000],  loss: 0.008094, mean_q: 0.436732, mean_eps: 0.100000\n",
            "Step 230000: saving model to checkpoints/dqn_v06_4_weights_230000.h5f\n",
            " 230588/300000: episode: 315, duration: 68.988s, episode steps: 756, steps per second:  11, episode reward: 10.000, mean reward:  0.013 [ 0.000,  1.000], mean action: 1.675 [0.000, 5.000],  loss: 0.008899, mean_q: 0.460185, mean_eps: 0.100000\n",
            " 231561/300000: episode: 316, duration: 88.756s, episode steps: 973, steps per second:  11, episode reward: 18.000, mean reward:  0.018 [ 0.000,  1.000], mean action: 2.033 [0.000, 5.000],  loss: 0.007431, mean_q: 0.458752, mean_eps: 0.100000\n",
            " 232334/300000: episode: 317, duration: 69.170s, episode steps: 773, steps per second:  11, episode reward: 10.000, mean reward:  0.013 [ 0.000,  1.000], mean action: 2.624 [0.000, 5.000],  loss: 0.008583, mean_q: 0.468169, mean_eps: 0.100000\n",
            " 232709/300000: episode: 318, duration: 32.774s, episode steps: 375, steps per second:  11, episode reward:  7.000, mean reward:  0.019 [ 0.000,  1.000], mean action: 2.424 [0.000, 5.000],  loss: 0.006811, mean_q: 0.458262, mean_eps: 0.100000\n",
            " 233497/300000: episode: 319, duration: 70.801s, episode steps: 788, steps per second:  11, episode reward: 16.000, mean reward:  0.020 [ 0.000,  1.000], mean action: 2.251 [0.000, 5.000],  loss: 0.009633, mean_q: 0.464558, mean_eps: 0.100000\n",
            " 234014/300000: episode: 320, duration: 47.059s, episode steps: 517, steps per second:  11, episode reward: 10.000, mean reward:  0.019 [ 0.000,  1.000], mean action: 2.511 [0.000, 5.000],  loss: 0.008884, mean_q: 0.455902, mean_eps: 0.100000\n",
            " 235002/300000: episode: 321, duration: 87.621s, episode steps: 988, steps per second:  11, episode reward: 18.000, mean reward:  0.018 [ 0.000,  1.000], mean action: 2.135 [0.000, 5.000],  loss: 0.009498, mean_q: 0.467452, mean_eps: 0.100000\n",
            " 235903/300000: episode: 322, duration: 80.544s, episode steps: 901, steps per second:  11, episode reward: 19.000, mean reward:  0.021 [ 0.000,  1.000], mean action: 2.280 [0.000, 5.000],  loss: 0.008668, mean_q: 0.459623, mean_eps: 0.100000\n",
            " 236540/300000: episode: 323, duration: 57.080s, episode steps: 637, steps per second:  11, episode reward:  9.000, mean reward:  0.014 [ 0.000,  1.000], mean action: 2.892 [0.000, 5.000],  loss: 0.008067, mean_q: 0.458754, mean_eps: 0.100000\n",
            " 237466/300000: episode: 324, duration: 83.450s, episode steps: 926, steps per second:  11, episode reward: 14.000, mean reward:  0.015 [ 0.000,  1.000], mean action: 2.792 [0.000, 5.000],  loss: 0.008821, mean_q: 0.463883, mean_eps: 0.100000\n",
            " 238005/300000: episode: 325, duration: 49.299s, episode steps: 539, steps per second:  11, episode reward: 10.000, mean reward:  0.019 [ 0.000,  1.000], mean action: 2.629 [0.000, 5.000],  loss: 0.007887, mean_q: 0.452493, mean_eps: 0.100000\n",
            " 239198/300000: episode: 326, duration: 107.933s, episode steps: 1193, steps per second:  11, episode reward: 24.000, mean reward:  0.020 [ 0.000,  1.000], mean action: 2.662 [0.000, 5.000],  loss: 0.008874, mean_q: 0.458635, mean_eps: 0.100000\n",
            "Step 240000: saving model to checkpoints/dqn_v06_4_weights_240000.h5f\n",
            " 240359/300000: episode: 327, duration: 104.305s, episode steps: 1161, steps per second:  11, episode reward: 19.000, mean reward:  0.016 [ 0.000,  1.000], mean action: 2.381 [0.000, 5.000],  loss: 0.008926, mean_q: 0.474135, mean_eps: 0.100000\n",
            " 240870/300000: episode: 328, duration: 47.111s, episode steps: 511, steps per second:  11, episode reward: 15.000, mean reward:  0.029 [ 0.000,  1.000], mean action: 3.151 [0.000, 5.000],  loss: 0.007985, mean_q: 0.505458, mean_eps: 0.100000\n",
            " 241795/300000: episode: 329, duration: 83.768s, episode steps: 925, steps per second:  11, episode reward: 16.000, mean reward:  0.017 [ 0.000,  1.000], mean action: 2.496 [0.000, 5.000],  loss: 0.009227, mean_q: 0.504277, mean_eps: 0.100000\n",
            " 242476/300000: episode: 330, duration: 60.897s, episode steps: 681, steps per second:  11, episode reward: 16.000, mean reward:  0.023 [ 0.000,  1.000], mean action: 3.214 [0.000, 5.000],  loss: 0.009249, mean_q: 0.497605, mean_eps: 0.100000\n",
            " 242936/300000: episode: 331, duration: 42.031s, episode steps: 460, steps per second:  11, episode reward:  7.000, mean reward:  0.015 [ 0.000,  1.000], mean action: 2.804 [0.000, 5.000],  loss: 0.010220, mean_q: 0.511621, mean_eps: 0.100000\n",
            " 243573/300000: episode: 332, duration: 58.705s, episode steps: 637, steps per second:  11, episode reward:  9.000, mean reward:  0.014 [ 0.000,  1.000], mean action: 2.267 [0.000, 5.000],  loss: 0.010110, mean_q: 0.492527, mean_eps: 0.100000\n",
            " 244119/300000: episode: 333, duration: 49.163s, episode steps: 546, steps per second:  11, episode reward:  8.000, mean reward:  0.015 [ 0.000,  1.000], mean action: 2.337 [0.000, 5.000],  loss: 0.009950, mean_q: 0.498191, mean_eps: 0.100000\n",
            " 244853/300000: episode: 334, duration: 66.700s, episode steps: 734, steps per second:  11, episode reward:  9.000, mean reward:  0.012 [ 0.000,  1.000], mean action: 2.193 [0.000, 5.000],  loss: 0.008158, mean_q: 0.502031, mean_eps: 0.100000\n",
            " 245623/300000: episode: 335, duration: 69.004s, episode steps: 770, steps per second:  11, episode reward: 13.000, mean reward:  0.017 [ 0.000,  1.000], mean action: 2.291 [0.000, 5.000],  loss: 0.008846, mean_q: 0.503688, mean_eps: 0.100000\n",
            " 246489/300000: episode: 336, duration: 78.768s, episode steps: 866, steps per second:  11, episode reward: 14.000, mean reward:  0.016 [ 0.000,  1.000], mean action: 1.997 [0.000, 5.000],  loss: 0.009129, mean_q: 0.495891, mean_eps: 0.100000\n",
            " 247502/300000: episode: 337, duration: 89.715s, episode steps: 1013, steps per second:  11, episode reward: 21.000, mean reward:  0.021 [ 0.000,  1.000], mean action: 2.346 [0.000, 5.000],  loss: 0.009086, mean_q: 0.498950, mean_eps: 0.100000\n",
            " 248592/300000: episode: 338, duration: 99.463s, episode steps: 1090, steps per second:  11, episode reward: 20.000, mean reward:  0.018 [ 0.000,  1.000], mean action: 2.925 [0.000, 5.000],  loss: 0.009576, mean_q: 0.506154, mean_eps: 0.100000\n",
            " 249040/300000: episode: 339, duration: 40.326s, episode steps: 448, steps per second:  11, episode reward:  8.000, mean reward:  0.018 [ 0.000,  1.000], mean action: 3.049 [0.000, 5.000],  loss: 0.009261, mean_q: 0.504158, mean_eps: 0.100000\n",
            " 249721/300000: episode: 340, duration: 62.356s, episode steps: 681, steps per second:  11, episode reward: 12.000, mean reward:  0.018 [ 0.000,  1.000], mean action: 2.366 [0.000, 5.000],  loss: 0.009478, mean_q: 0.501491, mean_eps: 0.100000\n",
            "Step 250000: saving model to checkpoints/dqn_v06_4_weights_250000.h5f\n",
            " 250877/300000: episode: 341, duration: 105.873s, episode steps: 1156, steps per second:  11, episode reward: 20.000, mean reward:  0.017 [ 0.000,  1.000], mean action: 2.481 [0.000, 5.000],  loss: 0.008910, mean_q: 0.532965, mean_eps: 0.100000\n",
            " 251636/300000: episode: 342, duration: 68.330s, episode steps: 759, steps per second:  11, episode reward: 14.000, mean reward:  0.018 [ 0.000,  1.000], mean action: 2.343 [0.000, 5.000],  loss: 0.009260, mean_q: 0.547137, mean_eps: 0.100000\n",
            " 252047/300000: episode: 343, duration: 36.019s, episode steps: 411, steps per second:  11, episode reward:  5.000, mean reward:  0.012 [ 0.000,  1.000], mean action: 2.178 [0.000, 5.000],  loss: 0.008798, mean_q: 0.535975, mean_eps: 0.100000\n",
            " 252550/300000: episode: 344, duration: 45.956s, episode steps: 503, steps per second:  11, episode reward:  6.000, mean reward:  0.012 [ 0.000,  1.000], mean action: 3.209 [0.000, 5.000],  loss: 0.009374, mean_q: 0.546427, mean_eps: 0.100000\n",
            " 253535/300000: episode: 345, duration: 88.063s, episode steps: 985, steps per second:  11, episode reward: 20.000, mean reward:  0.020 [ 0.000,  1.000], mean action: 2.580 [0.000, 5.000],  loss: 0.010109, mean_q: 0.540705, mean_eps: 0.100000\n",
            " 254692/300000: episode: 346, duration: 104.873s, episode steps: 1157, steps per second:  11, episode reward: 18.000, mean reward:  0.016 [ 0.000,  1.000], mean action: 2.334 [0.000, 5.000],  loss: 0.009056, mean_q: 0.536482, mean_eps: 0.100000\n",
            " 255101/300000: episode: 347, duration: 36.045s, episode steps: 409, steps per second:  11, episode reward:  9.000, mean reward:  0.022 [ 0.000,  1.000], mean action: 2.667 [0.000, 5.000],  loss: 0.010053, mean_q: 0.549583, mean_eps: 0.100000\n",
            " 256110/300000: episode: 348, duration: 90.899s, episode steps: 1009, steps per second:  11, episode reward: 24.000, mean reward:  0.024 [ 0.000,  1.000], mean action: 2.188 [0.000, 5.000],  loss: 0.007890, mean_q: 0.532844, mean_eps: 0.100000\n",
            " 256613/300000: episode: 349, duration: 44.715s, episode steps: 503, steps per second:  11, episode reward:  7.000, mean reward:  0.014 [ 0.000,  1.000], mean action: 1.600 [0.000, 5.000],  loss: 0.009246, mean_q: 0.540995, mean_eps: 0.100000\n",
            " 257167/300000: episode: 350, duration: 50.254s, episode steps: 554, steps per second:  11, episode reward:  8.000, mean reward:  0.014 [ 0.000,  1.000], mean action: 2.004 [0.000, 5.000],  loss: 0.010024, mean_q: 0.551307, mean_eps: 0.100000\n",
            " 258142/300000: episode: 351, duration: 87.350s, episode steps: 975, steps per second:  11, episode reward: 13.000, mean reward:  0.013 [ 0.000,  1.000], mean action: 2.106 [0.000, 5.000],  loss: 0.008688, mean_q: 0.539318, mean_eps: 0.100000\n",
            " 258630/300000: episode: 352, duration: 44.362s, episode steps: 488, steps per second:  11, episode reward:  8.000, mean reward:  0.016 [ 0.000,  1.000], mean action: 2.301 [0.000, 5.000],  loss: 0.008590, mean_q: 0.537529, mean_eps: 0.100000\n",
            " 259625/300000: episode: 353, duration: 90.820s, episode steps: 995, steps per second:  11, episode reward: 13.000, mean reward:  0.013 [ 0.000,  1.000], mean action: 2.577 [0.000, 5.000],  loss: 0.008766, mean_q: 0.534044, mean_eps: 0.100000\n",
            "Step 260000: saving model to checkpoints/dqn_v06_4_weights_260000.h5f\n",
            " 260302/300000: episode: 354, duration: 60.428s, episode steps: 677, steps per second:  11, episode reward: 10.000, mean reward:  0.015 [ 0.000,  1.000], mean action: 2.514 [0.000, 5.000],  loss: 0.007826, mean_q: 0.536431, mean_eps: 0.100000\n",
            " 260956/300000: episode: 355, duration: 59.763s, episode steps: 654, steps per second:  11, episode reward: 10.000, mean reward:  0.015 [ 0.000,  1.000], mean action: 2.584 [0.000, 5.000],  loss: 0.008682, mean_q: 0.542049, mean_eps: 0.100000\n",
            " 261589/300000: episode: 356, duration: 56.935s, episode steps: 633, steps per second:  11, episode reward: 14.000, mean reward:  0.022 [ 0.000,  1.000], mean action: 3.243 [0.000, 5.000],  loss: 0.008153, mean_q: 0.531844, mean_eps: 0.100000\n",
            " 262143/300000: episode: 357, duration: 49.029s, episode steps: 554, steps per second:  11, episode reward: 17.000, mean reward:  0.031 [ 0.000,  1.000], mean action: 2.478 [0.000, 5.000],  loss: 0.008568, mean_q: 0.535053, mean_eps: 0.100000\n",
            " 262543/300000: episode: 358, duration: 36.313s, episode steps: 400, steps per second:  11, episode reward:  9.000, mean reward:  0.022 [ 0.000,  1.000], mean action: 1.817 [0.000, 5.000],  loss: 0.009474, mean_q: 0.539578, mean_eps: 0.100000\n",
            " 263283/300000: episode: 359, duration: 67.297s, episode steps: 740, steps per second:  11, episode reward: 14.000, mean reward:  0.019 [ 0.000,  1.000], mean action: 1.850 [0.000, 5.000],  loss: 0.010087, mean_q: 0.547361, mean_eps: 0.100000\n",
            " 264065/300000: episode: 360, duration: 70.471s, episode steps: 782, steps per second:  11, episode reward: 12.000, mean reward:  0.015 [ 0.000,  1.000], mean action: 2.409 [0.000, 5.000],  loss: 0.009185, mean_q: 0.537999, mean_eps: 0.100000\n",
            " 265085/300000: episode: 361, duration: 92.918s, episode steps: 1020, steps per second:  11, episode reward: 21.000, mean reward:  0.021 [ 0.000,  1.000], mean action: 2.179 [0.000, 5.000],  loss: 0.007844, mean_q: 0.539223, mean_eps: 0.100000\n",
            " 266003/300000: episode: 362, duration: 83.087s, episode steps: 918, steps per second:  11, episode reward: 15.000, mean reward:  0.016 [ 0.000,  1.000], mean action: 2.862 [0.000, 5.000],  loss: 0.009753, mean_q: 0.542505, mean_eps: 0.100000\n",
            " 266876/300000: episode: 363, duration: 79.485s, episode steps: 873, steps per second:  11, episode reward: 17.000, mean reward:  0.019 [ 0.000,  1.000], mean action: 2.064 [0.000, 5.000],  loss: 0.009898, mean_q: 0.541938, mean_eps: 0.100000\n",
            " 267389/300000: episode: 364, duration: 45.496s, episode steps: 513, steps per second:  11, episode reward:  9.000, mean reward:  0.018 [ 0.000,  1.000], mean action: 2.893 [0.000, 5.000],  loss: 0.007211, mean_q: 0.535800, mean_eps: 0.100000\n",
            " 268390/300000: episode: 365, duration: 90.357s, episode steps: 1001, steps per second:  11, episode reward: 16.000, mean reward:  0.016 [ 0.000,  1.000], mean action: 2.477 [0.000, 5.000],  loss: 0.009261, mean_q: 0.535624, mean_eps: 0.100000\n",
            " 269612/300000: episode: 366, duration: 111.008s, episode steps: 1222, steps per second:  11, episode reward: 24.000, mean reward:  0.020 [ 0.000,  1.000], mean action: 2.930 [0.000, 5.000],  loss: 0.009246, mean_q: 0.545864, mean_eps: 0.100000\n",
            "Step 270000: saving model to checkpoints/dqn_v06_4_weights_270000.h5f\n",
            " 270965/300000: episode: 367, duration: 122.330s, episode steps: 1353, steps per second:  11, episode reward: 27.000, mean reward:  0.020 [ 0.000,  1.000], mean action: 2.165 [0.000, 5.000],  loss: 0.008128, mean_q: 0.552237, mean_eps: 0.100000\n",
            " 271843/300000: episode: 368, duration: 79.136s, episode steps: 878, steps per second:  11, episode reward: 15.000, mean reward:  0.017 [ 0.000,  1.000], mean action: 2.872 [0.000, 5.000],  loss: 0.007627, mean_q: 0.552151, mean_eps: 0.100000\n",
            " 272450/300000: episode: 369, duration: 54.782s, episode steps: 607, steps per second:  11, episode reward:  7.000, mean reward:  0.012 [ 0.000,  1.000], mean action: 2.928 [0.000, 5.000],  loss: 0.009214, mean_q: 0.549552, mean_eps: 0.100000\n",
            " 273056/300000: episode: 370, duration: 54.884s, episode steps: 606, steps per second:  11, episode reward: 11.000, mean reward:  0.018 [ 0.000,  1.000], mean action: 2.614 [0.000, 5.000],  loss: 0.010098, mean_q: 0.559257, mean_eps: 0.100000\n",
            " 273632/300000: episode: 371, duration: 52.662s, episode steps: 576, steps per second:  11, episode reward: 11.000, mean reward:  0.019 [ 0.000,  1.000], mean action: 2.438 [0.000, 5.000],  loss: 0.007900, mean_q: 0.541213, mean_eps: 0.100000\n",
            " 274412/300000: episode: 372, duration: 70.977s, episode steps: 780, steps per second:  11, episode reward: 19.000, mean reward:  0.024 [ 0.000,  1.000], mean action: 2.595 [0.000, 5.000],  loss: 0.008260, mean_q: 0.552356, mean_eps: 0.100000\n",
            " 275089/300000: episode: 373, duration: 62.986s, episode steps: 677, steps per second:  11, episode reward: 10.000, mean reward:  0.015 [ 0.000,  1.000], mean action: 1.443 [0.000, 5.000],  loss: 0.008583, mean_q: 0.549241, mean_eps: 0.100000\n",
            " 275800/300000: episode: 374, duration: 65.204s, episode steps: 711, steps per second:  11, episode reward: 15.000, mean reward:  0.021 [ 0.000,  1.000], mean action: 2.098 [0.000, 5.000],  loss: 0.007167, mean_q: 0.539806, mean_eps: 0.100000\n",
            " 276529/300000: episode: 375, duration: 66.213s, episode steps: 729, steps per second:  11, episode reward: 13.000, mean reward:  0.018 [ 0.000,  1.000], mean action: 1.682 [0.000, 5.000],  loss: 0.007973, mean_q: 0.544926, mean_eps: 0.100000\n",
            " 276889/300000: episode: 376, duration: 34.049s, episode steps: 360, steps per second:  11, episode reward:  6.000, mean reward:  0.017 [ 0.000,  1.000], mean action: 2.294 [0.000, 5.000],  loss: 0.009084, mean_q: 0.553932, mean_eps: 0.100000\n",
            " 277371/300000: episode: 377, duration: 43.689s, episode steps: 482, steps per second:  11, episode reward:  7.000, mean reward:  0.015 [ 0.000,  1.000], mean action: 1.583 [0.000, 5.000],  loss: 0.009585, mean_q: 0.544721, mean_eps: 0.100000\n",
            " 277881/300000: episode: 378, duration: 46.174s, episode steps: 510, steps per second:  11, episode reward: 10.000, mean reward:  0.020 [ 0.000,  1.000], mean action: 2.429 [0.000, 5.000],  loss: 0.008897, mean_q: 0.545518, mean_eps: 0.100000\n",
            " 278616/300000: episode: 379, duration: 67.152s, episode steps: 735, steps per second:  11, episode reward: 15.000, mean reward:  0.020 [ 0.000,  1.000], mean action: 2.812 [0.000, 5.000],  loss: 0.009001, mean_q: 0.551908, mean_eps: 0.100000\n",
            " 279390/300000: episode: 380, duration: 68.905s, episode steps: 774, steps per second:  11, episode reward: 13.000, mean reward:  0.017 [ 0.000,  1.000], mean action: 2.681 [0.000, 5.000],  loss: 0.009962, mean_q: 0.553127, mean_eps: 0.100000\n",
            "Step 280000: saving model to checkpoints/dqn_v06_4_weights_280000.h5f\n",
            " 280131/300000: episode: 381, duration: 65.957s, episode steps: 741, steps per second:  11, episode reward: 17.000, mean reward:  0.023 [ 0.000,  1.000], mean action: 3.687 [0.000, 5.000],  loss: 0.009266, mean_q: 0.553270, mean_eps: 0.100000\n",
            " 281173/300000: episode: 382, duration: 92.988s, episode steps: 1042, steps per second:  11, episode reward: 21.000, mean reward:  0.020 [ 0.000,  1.000], mean action: 2.702 [0.000, 5.000],  loss: 0.008635, mean_q: 0.579449, mean_eps: 0.100000\n",
            " 281782/300000: episode: 383, duration: 54.140s, episode steps: 609, steps per second:  11, episode reward: 17.000, mean reward:  0.028 [ 0.000,  1.000], mean action: 2.437 [0.000, 5.000],  loss: 0.008557, mean_q: 0.581256, mean_eps: 0.100000\n",
            " 282508/300000: episode: 384, duration: 64.521s, episode steps: 726, steps per second:  11, episode reward: 16.000, mean reward:  0.022 [ 0.000,  1.000], mean action: 3.055 [0.000, 5.000],  loss: 0.009577, mean_q: 0.578999, mean_eps: 0.100000\n",
            " 283032/300000: episode: 385, duration: 46.509s, episode steps: 524, steps per second:  11, episode reward: 11.000, mean reward:  0.021 [ 0.000,  1.000], mean action: 2.298 [0.000, 5.000],  loss: 0.008837, mean_q: 0.569125, mean_eps: 0.100000\n",
            " 283756/300000: episode: 386, duration: 64.618s, episode steps: 724, steps per second:  11, episode reward: 14.000, mean reward:  0.019 [ 0.000,  1.000], mean action: 3.021 [0.000, 5.000],  loss: 0.008161, mean_q: 0.567735, mean_eps: 0.100000\n",
            " 284276/300000: episode: 387, duration: 46.026s, episode steps: 520, steps per second:  11, episode reward: 14.000, mean reward:  0.027 [ 0.000,  1.000], mean action: 2.981 [0.000, 5.000],  loss: 0.009327, mean_q: 0.576650, mean_eps: 0.100000\n",
            " 284995/300000: episode: 388, duration: 65.091s, episode steps: 719, steps per second:  11, episode reward: 20.000, mean reward:  0.028 [ 0.000,  1.000], mean action: 2.743 [0.000, 5.000],  loss: 0.009088, mean_q: 0.570960, mean_eps: 0.100000\n",
            " 285958/300000: episode: 389, duration: 86.189s, episode steps: 963, steps per second:  11, episode reward: 15.000, mean reward:  0.016 [ 0.000,  1.000], mean action: 2.184 [0.000, 5.000],  loss: 0.009545, mean_q: 0.578163, mean_eps: 0.100000\n",
            " 286625/300000: episode: 390, duration: 60.434s, episode steps: 667, steps per second:  11, episode reward: 14.000, mean reward:  0.021 [ 0.000,  1.000], mean action: 2.922 [0.000, 5.000],  loss: 0.008346, mean_q: 0.576175, mean_eps: 0.100000\n",
            " 287635/300000: episode: 391, duration: 91.414s, episode steps: 1010, steps per second:  11, episode reward: 18.000, mean reward:  0.018 [ 0.000,  1.000], mean action: 2.534 [0.000, 5.000],  loss: 0.010329, mean_q: 0.585994, mean_eps: 0.100000\n",
            " 288670/300000: episode: 392, duration: 95.077s, episode steps: 1035, steps per second:  11, episode reward: 18.000, mean reward:  0.017 [ 0.000,  1.000], mean action: 2.438 [0.000, 5.000],  loss: 0.008659, mean_q: 0.577804, mean_eps: 0.100000\n",
            " 289527/300000: episode: 393, duration: 77.788s, episode steps: 857, steps per second:  11, episode reward: 15.000, mean reward:  0.018 [ 0.000,  1.000], mean action: 1.986 [0.000, 5.000],  loss: 0.007768, mean_q: 0.568660, mean_eps: 0.100000\n",
            "Step 290000: saving model to checkpoints/dqn_v06_4_weights_290000.h5f\n",
            " 290335/300000: episode: 394, duration: 72.402s, episode steps: 808, steps per second:  11, episode reward: 19.000, mean reward:  0.024 [ 0.000,  1.000], mean action: 2.899 [0.000, 5.000],  loss: 0.009791, mean_q: 0.585307, mean_eps: 0.100000\n",
            " 291076/300000: episode: 395, duration: 67.223s, episode steps: 741, steps per second:  11, episode reward: 15.000, mean reward:  0.020 [ 0.000,  1.000], mean action: 2.312 [0.000, 5.000],  loss: 0.008958, mean_q: 0.593478, mean_eps: 0.100000\n",
            " 292009/300000: episode: 396, duration: 82.989s, episode steps: 933, steps per second:  11, episode reward: 22.000, mean reward:  0.024 [ 0.000,  1.000], mean action: 2.794 [0.000, 5.000],  loss: 0.010357, mean_q: 0.602721, mean_eps: 0.100000\n",
            " 292669/300000: episode: 397, duration: 58.064s, episode steps: 660, steps per second:  11, episode reward: 14.000, mean reward:  0.021 [ 0.000,  1.000], mean action: 3.205 [0.000, 5.000],  loss: 0.008904, mean_q: 0.588675, mean_eps: 0.100000\n",
            " 293517/300000: episode: 398, duration: 75.960s, episode steps: 848, steps per second:  11, episode reward: 17.000, mean reward:  0.020 [ 0.000,  1.000], mean action: 2.917 [0.000, 5.000],  loss: 0.009885, mean_q: 0.589340, mean_eps: 0.100000\n",
            " 294347/300000: episode: 399, duration: 72.885s, episode steps: 830, steps per second:  11, episode reward: 15.000, mean reward:  0.018 [ 0.000,  1.000], mean action: 2.280 [0.000, 5.000],  loss: 0.008233, mean_q: 0.596917, mean_eps: 0.100000\n",
            " 295388/300000: episode: 400, duration: 93.255s, episode steps: 1041, steps per second:  11, episode reward: 15.000, mean reward:  0.014 [ 0.000,  1.000], mean action: 1.555 [0.000, 5.000],  loss: 0.009278, mean_q: 0.595879, mean_eps: 0.100000\n",
            " 296207/300000: episode: 401, duration: 72.722s, episode steps: 819, steps per second:  11, episode reward: 14.000, mean reward:  0.017 [ 0.000,  1.000], mean action: 2.254 [0.000, 5.000],  loss: 0.008435, mean_q: 0.584574, mean_eps: 0.100000\n",
            " 296996/300000: episode: 402, duration: 70.683s, episode steps: 789, steps per second:  11, episode reward: 18.000, mean reward:  0.023 [ 0.000,  1.000], mean action: 2.972 [0.000, 5.000],  loss: 0.010830, mean_q: 0.595242, mean_eps: 0.100000\n",
            " 297771/300000: episode: 403, duration: 69.257s, episode steps: 775, steps per second:  11, episode reward: 14.000, mean reward:  0.018 [ 0.000,  1.000], mean action: 3.072 [0.000, 5.000],  loss: 0.009129, mean_q: 0.592791, mean_eps: 0.100000\n",
            " 298362/300000: episode: 404, duration: 53.740s, episode steps: 591, steps per second:  11, episode reward:  9.000, mean reward:  0.015 [ 0.000,  1.000], mean action: 2.702 [0.000, 5.000],  loss: 0.009070, mean_q: 0.588823, mean_eps: 0.100000\n",
            " 299139/300000: episode: 405, duration: 71.032s, episode steps: 777, steps per second:  11, episode reward: 15.000, mean reward:  0.019 [ 0.000,  1.000], mean action: 2.481 [0.000, 5.000],  loss: 0.008831, mean_q: 0.591171, mean_eps: 0.100000\n",
            " 299777/300000: episode: 406, duration: 57.731s, episode steps: 638, steps per second:  11, episode reward: 11.000, mean reward:  0.017 [ 0.000,  1.000], mean action: 2.183 [0.000, 5.000],  loss: 0.008664, mean_q: 0.593754, mean_eps: 0.100000\n",
            "Step 300000: saving model to checkpoints/dqn_v06_4_weights_300000.h5f\n",
            "done, took 26207.421 seconds\n",
            "⏱ Tiempo de fin: 06:43:01\n"
          ]
        }
      ]
    },
    {
      "cell_type": "code",
      "source": [
        "# Testing part to calculate the mean reward\n",
        "#weights_filename = 'dqn_{}_weights.h5f'.format(env_name)\n",
        "weights_filename = 'dqn_v06_5_weights.h5f'.format(env_name)\n",
        "dqn.load_weights(weights_filename)\n",
        "dqn.test(env, nb_episodes=10, visualize=False)"
      ],
      "metadata": {
        "id": "WSVcMgOsR0Nv",
        "colab": {
          "base_uri": "https://localhost:8080/"
        },
        "outputId": "dc60c9ab-bda3-4f68-a93f-836ddcaed950"
      },
      "execution_count": null,
      "outputs": [
        {
          "output_type": "stream",
          "name": "stdout",
          "text": [
            "Testing for 10 episodes ...\n",
            "Episode 1: reward: 22.000, steps: 916\n",
            "Episode 2: reward: 7.000, steps: 402\n",
            "Episode 3: reward: 6.000, steps: 379\n",
            "Episode 4: reward: 8.000, steps: 510\n",
            "Episode 5: reward: 9.000, steps: 617\n",
            "Episode 6: reward: 10.000, steps: 646\n",
            "Episode 7: reward: 8.000, steps: 440\n",
            "Episode 8: reward: 9.000, steps: 696\n",
            "Episode 9: reward: 6.000, steps: 385\n",
            "Episode 10: reward: 3.000, steps: 364\n"
          ]
        },
        {
          "output_type": "execute_result",
          "data": {
            "text/plain": [
              "<keras.callbacks.History at 0x7aecc05d0e90>"
            ]
          },
          "metadata": {},
          "execution_count": 39
        }
      ]
    },
    {
      "cell_type": "code",
      "source": [
        "from google.colab import drive\n",
        "import shutil\n",
        "import glob  # <-- ¡Falta este import!\n",
        "import os\n",
        "\n",
        "# 1. Montar Google Drive\n",
        "#drive.mount('/content/drive')\n",
        "\n",
        "# 2. Crear directorio en Drive si no existe\n",
        "os.makedirs('/content/gdrive/MyDrive/Colab_Outputs', exist_ok=True)\n",
        "\n",
        "# 3. Buscar y copiar todos los archivos coincidentes\n",
        "archivos = glob.glob('dqn_v06_5_weights*')  # Encuentra todos los archivos con ese patrón\n",
        "\n",
        "for archivo in archivos:\n",
        "    shutil.copy(\n",
        "        archivo,\n",
        "        f'/content/gdrive/MyDrive/Colab_Outputs/{os.path.basename(archivo)}'\n",
        "    )\n",
        "    print(f\"¡Archivo {archivo} copiado a Drive!\")\n",
        "\n",
        "# 4. Buscar y copiar todos los archivos coincidentes\n",
        "archivos = glob.glob('checkpoints/dqn_v06_5_weights*')  # Encuentra todos los archivos con ese patrón\n",
        "\n",
        "for archivo in archivos:\n",
        "    shutil.copy(\n",
        "        archivo,\n",
        "        f'/content/gdrive/MyDrive/Colab_Outputs/{os.path.basename(archivo)}'\n",
        "    )\n",
        "\n",
        "print(\"✅ ¡Todos los archivos copiados!\")"
      ],
      "metadata": {
        "colab": {
          "base_uri": "https://localhost:8080/",
          "height": 568
        },
        "id": "0UPDMrWP-lGP",
        "outputId": "47363498-bd3e-44c2-bfe6-fccf908a65cd"
      },
      "execution_count": null,
      "outputs": [
        {
          "output_type": "stream",
          "name": "stdout",
          "text": [
            "¡Archivo dqn_v06_4_weights.h5f.data-00000-of-00001 copiado a Drive!\n",
            "¡Archivo dqn_v06_4_weights.h5f.index copiado a Drive!\n"
          ]
        },
        {
          "output_type": "error",
          "ename": "OSError",
          "evalue": "[Errno 107] Transport endpoint is not connected",
          "traceback": [
            "\u001b[0;31m---------------------------------------------------------------------------\u001b[0m",
            "\u001b[0;31mOSError\u001b[0m                                   Traceback (most recent call last)",
            "\u001b[0;32m/usr/lib/python3.11/shutil.py\u001b[0m in \u001b[0;36mcopyfile\u001b[0;34m(src, dst, follow_symlinks)\u001b[0m\n\u001b[1;32m    268\u001b[0m                         \u001b[0;32mtry\u001b[0m\u001b[0;34m:\u001b[0m\u001b[0;34m\u001b[0m\u001b[0;34m\u001b[0m\u001b[0m\n\u001b[0;32m--> 269\u001b[0;31m                             \u001b[0m_fastcopy_sendfile\u001b[0m\u001b[0;34m(\u001b[0m\u001b[0mfsrc\u001b[0m\u001b[0;34m,\u001b[0m \u001b[0mfdst\u001b[0m\u001b[0;34m)\u001b[0m\u001b[0;34m\u001b[0m\u001b[0;34m\u001b[0m\u001b[0m\n\u001b[0m\u001b[1;32m    270\u001b[0m                             \u001b[0;32mreturn\u001b[0m \u001b[0mdst\u001b[0m\u001b[0;34m\u001b[0m\u001b[0;34m\u001b[0m\u001b[0m\n",
            "\u001b[0;32m/usr/lib/python3.11/shutil.py\u001b[0m in \u001b[0;36m_fastcopy_sendfile\u001b[0;34m(fsrc, fdst)\u001b[0m\n\u001b[1;32m    163\u001b[0m \u001b[0;34m\u001b[0m\u001b[0m\n\u001b[0;32m--> 164\u001b[0;31m             \u001b[0;32mraise\u001b[0m \u001b[0merr\u001b[0m\u001b[0;34m\u001b[0m\u001b[0;34m\u001b[0m\u001b[0m\n\u001b[0m\u001b[1;32m    165\u001b[0m         \u001b[0;32melse\u001b[0m\u001b[0;34m:\u001b[0m\u001b[0;34m\u001b[0m\u001b[0;34m\u001b[0m\u001b[0m\n",
            "\u001b[0;32m/usr/lib/python3.11/shutil.py\u001b[0m in \u001b[0;36m_fastcopy_sendfile\u001b[0;34m(fsrc, fdst)\u001b[0m\n\u001b[1;32m    143\u001b[0m         \u001b[0;32mtry\u001b[0m\u001b[0;34m:\u001b[0m\u001b[0;34m\u001b[0m\u001b[0;34m\u001b[0m\u001b[0m\n\u001b[0;32m--> 144\u001b[0;31m             \u001b[0msent\u001b[0m \u001b[0;34m=\u001b[0m \u001b[0mos\u001b[0m\u001b[0;34m.\u001b[0m\u001b[0msendfile\u001b[0m\u001b[0;34m(\u001b[0m\u001b[0moutfd\u001b[0m\u001b[0;34m,\u001b[0m \u001b[0minfd\u001b[0m\u001b[0;34m,\u001b[0m \u001b[0moffset\u001b[0m\u001b[0;34m,\u001b[0m \u001b[0mblocksize\u001b[0m\u001b[0;34m)\u001b[0m\u001b[0;34m\u001b[0m\u001b[0;34m\u001b[0m\u001b[0m\n\u001b[0m\u001b[1;32m    145\u001b[0m         \u001b[0;32mexcept\u001b[0m \u001b[0mOSError\u001b[0m \u001b[0;32mas\u001b[0m \u001b[0merr\u001b[0m\u001b[0;34m:\u001b[0m\u001b[0;34m\u001b[0m\u001b[0;34m\u001b[0m\u001b[0m\n",
            "\u001b[0;31mOSError\u001b[0m: [Errno 107] Transport endpoint is not connected: 'checkpoints/dqn_v06_4_weights_20000.h5f.data-00000-of-00001' -> '/content/gdrive/MyDrive/Colab_Outputs/dqn_v06_4_weights_20000.h5f.data-00000-of-00001'",
            "\nDuring handling of the above exception, another exception occurred:\n",
            "\u001b[0;31mOSError\u001b[0m                                   Traceback (most recent call last)",
            "\u001b[0;32m/usr/lib/python3.11/shutil.py\u001b[0m in \u001b[0;36mcopyfile\u001b[0;34m(src, dst, follow_symlinks)\u001b[0m\n\u001b[1;32m    257\u001b[0m             \u001b[0;32mtry\u001b[0m\u001b[0;34m:\u001b[0m\u001b[0;34m\u001b[0m\u001b[0;34m\u001b[0m\u001b[0m\n\u001b[0;32m--> 258\u001b[0;31m                 \u001b[0;32mwith\u001b[0m \u001b[0mopen\u001b[0m\u001b[0;34m(\u001b[0m\u001b[0mdst\u001b[0m\u001b[0;34m,\u001b[0m \u001b[0;34m'wb'\u001b[0m\u001b[0;34m)\u001b[0m \u001b[0;32mas\u001b[0m \u001b[0mfdst\u001b[0m\u001b[0;34m:\u001b[0m\u001b[0;34m\u001b[0m\u001b[0;34m\u001b[0m\u001b[0m\n\u001b[0m\u001b[1;32m    259\u001b[0m                     \u001b[0;31m# macOS\u001b[0m\u001b[0;34m\u001b[0m\u001b[0;34m\u001b[0m\u001b[0m\n",
            "\u001b[0;31mOSError\u001b[0m: [Errno 107] Transport endpoint is not connected",
            "\nDuring handling of the above exception, another exception occurred:\n",
            "\u001b[0;31mOSError\u001b[0m                                   Traceback (most recent call last)",
            "\u001b[0;32m/tmp/ipython-input-40-1479948104.py\u001b[0m in \u001b[0;36m<cell line: 0>\u001b[0;34m()\u001b[0m\n\u001b[1;32m     24\u001b[0m \u001b[0;34m\u001b[0m\u001b[0m\n\u001b[1;32m     25\u001b[0m \u001b[0;32mfor\u001b[0m \u001b[0marchivo\u001b[0m \u001b[0;32min\u001b[0m \u001b[0marchivos\u001b[0m\u001b[0;34m:\u001b[0m\u001b[0;34m\u001b[0m\u001b[0;34m\u001b[0m\u001b[0m\n\u001b[0;32m---> 26\u001b[0;31m     shutil.copy(\n\u001b[0m\u001b[1;32m     27\u001b[0m         \u001b[0marchivo\u001b[0m\u001b[0;34m,\u001b[0m\u001b[0;34m\u001b[0m\u001b[0;34m\u001b[0m\u001b[0m\n\u001b[1;32m     28\u001b[0m         \u001b[0;34mf'/content/gdrive/MyDrive/Colab_Outputs/{os.path.basename(archivo)}'\u001b[0m\u001b[0;34m\u001b[0m\u001b[0;34m\u001b[0m\u001b[0m\n",
            "\u001b[0;32m/usr/lib/python3.11/shutil.py\u001b[0m in \u001b[0;36mcopy\u001b[0;34m(src, dst, follow_symlinks)\u001b[0m\n\u001b[1;32m    429\u001b[0m     \u001b[0;32mif\u001b[0m \u001b[0mos\u001b[0m\u001b[0;34m.\u001b[0m\u001b[0mpath\u001b[0m\u001b[0;34m.\u001b[0m\u001b[0misdir\u001b[0m\u001b[0;34m(\u001b[0m\u001b[0mdst\u001b[0m\u001b[0;34m)\u001b[0m\u001b[0;34m:\u001b[0m\u001b[0;34m\u001b[0m\u001b[0;34m\u001b[0m\u001b[0m\n\u001b[1;32m    430\u001b[0m         \u001b[0mdst\u001b[0m \u001b[0;34m=\u001b[0m \u001b[0mos\u001b[0m\u001b[0;34m.\u001b[0m\u001b[0mpath\u001b[0m\u001b[0;34m.\u001b[0m\u001b[0mjoin\u001b[0m\u001b[0;34m(\u001b[0m\u001b[0mdst\u001b[0m\u001b[0;34m,\u001b[0m \u001b[0mos\u001b[0m\u001b[0;34m.\u001b[0m\u001b[0mpath\u001b[0m\u001b[0;34m.\u001b[0m\u001b[0mbasename\u001b[0m\u001b[0;34m(\u001b[0m\u001b[0msrc\u001b[0m\u001b[0;34m)\u001b[0m\u001b[0;34m)\u001b[0m\u001b[0;34m\u001b[0m\u001b[0;34m\u001b[0m\u001b[0m\n\u001b[0;32m--> 431\u001b[0;31m     \u001b[0mcopyfile\u001b[0m\u001b[0;34m(\u001b[0m\u001b[0msrc\u001b[0m\u001b[0;34m,\u001b[0m \u001b[0mdst\u001b[0m\u001b[0;34m,\u001b[0m \u001b[0mfollow_symlinks\u001b[0m\u001b[0;34m=\u001b[0m\u001b[0mfollow_symlinks\u001b[0m\u001b[0;34m)\u001b[0m\u001b[0;34m\u001b[0m\u001b[0;34m\u001b[0m\u001b[0m\n\u001b[0m\u001b[1;32m    432\u001b[0m     \u001b[0mcopymode\u001b[0m\u001b[0;34m(\u001b[0m\u001b[0msrc\u001b[0m\u001b[0;34m,\u001b[0m \u001b[0mdst\u001b[0m\u001b[0;34m,\u001b[0m \u001b[0mfollow_symlinks\u001b[0m\u001b[0;34m=\u001b[0m\u001b[0mfollow_symlinks\u001b[0m\u001b[0;34m)\u001b[0m\u001b[0;34m\u001b[0m\u001b[0;34m\u001b[0m\u001b[0m\n\u001b[1;32m    433\u001b[0m     \u001b[0;32mreturn\u001b[0m \u001b[0mdst\u001b[0m\u001b[0;34m\u001b[0m\u001b[0;34m\u001b[0m\u001b[0m\n",
            "\u001b[0;32m/usr/lib/python3.11/shutil.py\u001b[0m in \u001b[0;36mcopyfile\u001b[0;34m(src, dst, follow_symlinks)\u001b[0m\n\u001b[1;32m    254\u001b[0m         \u001b[0mos\u001b[0m\u001b[0;34m.\u001b[0m\u001b[0msymlink\u001b[0m\u001b[0;34m(\u001b[0m\u001b[0mos\u001b[0m\u001b[0;34m.\u001b[0m\u001b[0mreadlink\u001b[0m\u001b[0;34m(\u001b[0m\u001b[0msrc\u001b[0m\u001b[0;34m)\u001b[0m\u001b[0;34m,\u001b[0m \u001b[0mdst\u001b[0m\u001b[0;34m)\u001b[0m\u001b[0;34m\u001b[0m\u001b[0;34m\u001b[0m\u001b[0m\n\u001b[1;32m    255\u001b[0m     \u001b[0;32melse\u001b[0m\u001b[0;34m:\u001b[0m\u001b[0;34m\u001b[0m\u001b[0;34m\u001b[0m\u001b[0m\n\u001b[0;32m--> 256\u001b[0;31m         \u001b[0;32mwith\u001b[0m \u001b[0mopen\u001b[0m\u001b[0;34m(\u001b[0m\u001b[0msrc\u001b[0m\u001b[0;34m,\u001b[0m \u001b[0;34m'rb'\u001b[0m\u001b[0;34m)\u001b[0m \u001b[0;32mas\u001b[0m \u001b[0mfsrc\u001b[0m\u001b[0;34m:\u001b[0m\u001b[0;34m\u001b[0m\u001b[0;34m\u001b[0m\u001b[0m\n\u001b[0m\u001b[1;32m    257\u001b[0m             \u001b[0;32mtry\u001b[0m\u001b[0;34m:\u001b[0m\u001b[0;34m\u001b[0m\u001b[0;34m\u001b[0m\u001b[0m\n\u001b[1;32m    258\u001b[0m                 \u001b[0;32mwith\u001b[0m \u001b[0mopen\u001b[0m\u001b[0;34m(\u001b[0m\u001b[0mdst\u001b[0m\u001b[0;34m,\u001b[0m \u001b[0;34m'wb'\u001b[0m\u001b[0;34m)\u001b[0m \u001b[0;32mas\u001b[0m \u001b[0mfdst\u001b[0m\u001b[0;34m:\u001b[0m\u001b[0;34m\u001b[0m\u001b[0;34m\u001b[0m\u001b[0m\n",
            "\u001b[0;31mOSError\u001b[0m: [Errno 107] Transport endpoint is not connected"
          ]
        }
      ]
    }
  ]
}