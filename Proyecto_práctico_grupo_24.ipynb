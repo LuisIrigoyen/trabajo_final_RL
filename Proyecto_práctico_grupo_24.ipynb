{
  "cells": [
    {
      "cell_type": "markdown",
      "metadata": {
        "id": "view-in-github",
        "colab_type": "text"
      },
      "source": [
        "<a href=\"https://colab.research.google.com/github/LuisIrigoyen/trabajo_final_RL/blob/eduardo/Proyecto_pra%CC%81ctico_grupo_24.ipynb\" target=\"_parent\"><img src=\"https://colab.research.google.com/assets/colab-badge.svg\" alt=\"Open In Colab\"/></a>"
      ]
    },
    {
      "cell_type": "markdown",
      "metadata": {
        "id": "jUehXgCyIRdq"
      },
      "source": [
        "# Actividad - Proyecto práctico\n",
        "\n",
        "\n",
        "> La actividad se desarrollará en grupos pre-definidos de 2-3 alumnos. Se debe indicar los nombres en orden alfabético (de apellidos). Recordad que esta actividad se corresponde con un 30% de la nota final de la asignatura. Se debe entregar entregar el trabajo en la presente notebook.\n",
        "*   Alumno 1:\n",
        "*   Alumno 2:\n",
        "*   Alumno 3:\n",
        "\n",
        "\n",
        "\n",
        "\n"
      ]
    },
    {
      "cell_type": "markdown",
      "metadata": {
        "id": "JwpYlnjWJhS9"
      },
      "source": [
        "---\n",
        "## **PARTE 1** - Instalación y requisitos previos\n",
        "\n",
        "> Las prácticas han sido preparadas para poder realizarse en el entorno de trabajo de Google Colab. Sin embargo, esta plataforma presenta ciertas incompatibilidades a la hora de visualizar la renderización en gym. Por ello, para obtener estas visualizaciones, se deberá trasladar el entorno de trabajo a local. Por ello, el presente dosier presenta instrucciones para poder trabajar en ambos entornos. Siga los siguientes pasos para un correcto funcionamiento:\n",
        "1.   **LOCAL:** Preparar el enviroment, siguiendo las intrucciones detalladas en la sección *1.1.Preparar enviroment*.\n",
        "2.  **AMBOS:** Modificar las variables \"mount\" y \"drive_mount\" a la carpeta de trabajo en drive en el caso de estar en Colab, y ejecturar la celda *1.2.Localizar entorno de trabajo*.\n",
        "3. **COLAB:** se deberá ejecutar las celdas correspondientes al montaje de la carpeta de trabajo en Drive. Esta corresponde a la sección *1.3.Montar carpeta de datos local*.\n",
        "4.  **AMBOS:** Instalar las librerías necesarias, siguiendo la sección *1.4.Instalar librerías necesarias*.\n"
      ]
    },
    {
      "cell_type": "markdown",
      "metadata": {
        "id": "RU2BPrK2JkP0"
      },
      "source": [
        "---\n",
        "### 1.1. Preparar enviroment (solo local)\n",
        "\n",
        "\n",
        "\n",
        "> Para preparar el entorno de trabajo en local, se han seguido los siguientes pasos:\n",
        "1. En Windows, puede ser necesario instalar las C++ Build Tools. Para ello, siga los siguientes pasos: https://towardsdatascience.com/how-to-install-openai-gym-in-a-windows-environment-338969e24d30.\n",
        "2. Instalar Anaconda\n",
        "3. Siguiendo el código que se presenta comentado en la próxima celda: Crear un enviroment, cambiar la ruta de trabajo, e instalar librerías básicas.\n",
        "\n",
        "\n",
        "```\n",
        "conda create --name miar_rl python=3.8\n",
        "conda activate miar_rl\n",
        "cd \"PATH_TO_FOLDER\"\n",
        "conda install git\n",
        "pip install jupyter\n",
        "```\n",
        "\n",
        "\n",
        "4. Abrir la notebook con *jupyter-notebook*.\n",
        "\n",
        "\n",
        "\n",
        "```\n",
        "jupyter-notebook\n",
        "```\n"
      ]
    },
    {
      "cell_type": "markdown",
      "metadata": {
        "id": "w-kixNPiJqTc"
      },
      "source": [
        "---\n",
        "### 1.2. Localizar entorno de trabajo: Google colab o local"
      ]
    },
    {
      "cell_type": "code",
      "execution_count": null,
      "metadata": {
        "id": "S_YDFwZ-JscI"
      },
      "outputs": [],
      "source": [
        "# ATENCIÓN!! Modificar ruta relativa a la práctica si es distinta (drive_root)\n",
        "mount='/content/gdrive'\n",
        "drive_root = mount + \"/MyDrive/dqn_spaceinvaders_checkpoints\"\n",
        "try:\n",
        "  from google.colab import drive\n",
        "  IN_COLAB=True\n",
        "except:\n",
        "  IN_COLAB=False"
      ]
    },
    {
      "cell_type": "markdown",
      "metadata": {
        "id": "8Dp_a1iBJ0tf"
      },
      "source": [
        "---\n",
        "### 1.3. Montar carpeta de datos local (solo Colab)"
      ]
    },
    {
      "cell_type": "code",
      "execution_count": null,
      "metadata": {
        "colab": {
          "base_uri": "https://localhost:8080/"
        },
        "id": "I6n7MIefJ21i",
        "outputId": "09d49ced-2a7f-4b43-b3fb-f51b332f466e"
      },
      "outputs": [
        {
          "output_type": "stream",
          "name": "stdout",
          "text": [
            "We're running Colab\n",
            "Colab: mounting Google drive on  /content/gdrive\n",
            "Drive already mounted at /content/gdrive; to attempt to forcibly remount, call drive.mount(\"/content/gdrive\", force_remount=True).\n",
            "\n",
            "Colab: making sure  /content/gdrive/MyDrive/dqn_spaceinvaders_checkpoints  exists.\n",
            "\n",
            "Colab: Changing directory to  /content/gdrive/MyDrive/dqn_spaceinvaders_checkpoints\n",
            "/content/gdrive/MyDrive/dqn_spaceinvaders_checkpoints\n",
            "Archivos en el directorio: \n",
            "['video', 'logs', 'checkpoint', 'dqn_SpaceInvaders-v0_weights.h5f.data-00000-of-00001', 'dqn_SpaceInvaders-v0_weights.h5f.index', '400k.zip', 'sequential_memory_2.pkl.zip', 'weightsv2.2', 'weightsv2.3', 'sequential_memory_2.3.pkl.zip', 'legacy', 'weightsv4', 'puntuacion 18.3 weigths 5', 'weights_5', 'sequential_memory_5.pkl', 'weights_6', 'wrapper', 'sequential_memory_6.pkl.zip', 'sequential_memory.pkl.zip', 'cut', 'sequential_memory_cut.pkl', 'cutv2', 'sequential_memory_cutv2.pkl']\n"
          ]
        }
      ],
      "source": [
        "# Switch to the directory on the Google Drive that you want to use\n",
        "import os\n",
        "if IN_COLAB:\n",
        "  print(\"We're running Colab\")\n",
        "\n",
        "  if IN_COLAB:\n",
        "    # Mount the Google Drive at mount\n",
        "    print(\"Colab: mounting Google drive on \", mount)\n",
        "\n",
        "    drive.mount(mount)\n",
        "\n",
        "    # Create drive_root if it doesn't exist\n",
        "    create_drive_root = True\n",
        "    if create_drive_root:\n",
        "      print(\"\\nColab: making sure \", drive_root, \" exists.\")\n",
        "      os.makedirs(drive_root, exist_ok=True)\n",
        "\n",
        "    # Change to the directory\n",
        "    print(\"\\nColab: Changing directory to \", drive_root)\n",
        "    %cd $drive_root\n",
        "# Verify we're in the correct working directory\n",
        "%pwd\n",
        "print(\"Archivos en el directorio: \")\n",
        "print(os.listdir())"
      ]
    },
    {
      "cell_type": "markdown",
      "metadata": {
        "id": "i1ZSL5bpJ560"
      },
      "source": [
        "---\n",
        "### 1.4. Instalar librerías necesarias"
      ]
    },
    {
      "cell_type": "code",
      "execution_count": null,
      "metadata": {
        "colab": {
          "base_uri": "https://localhost:8080/",
          "height": 1000
        },
        "id": "UbVRjvHCJ8UF",
        "outputId": "a5cfce69-f39d-4f56-e357-ae42b1efaa62"
      },
      "outputs": [
        {
          "output_type": "stream",
          "name": "stdout",
          "text": [
            "Collecting gym==0.17.3\n",
            "  Downloading gym-0.17.3.tar.gz (1.6 MB)\n",
            "\u001b[2K     \u001b[90m━━━━━━━━━━━━━━━━━━━━━━━━━━━━━━━━━━━━━━━━\u001b[0m \u001b[32m1.6/1.6 MB\u001b[0m \u001b[31m15.8 MB/s\u001b[0m eta \u001b[36m0:00:00\u001b[0m\n",
            "\u001b[?25h  Preparing metadata (setup.py) ... \u001b[?25l\u001b[?25hdone\n",
            "Requirement already satisfied: scipy in /usr/local/lib/python3.11/dist-packages (from gym==0.17.3) (1.15.3)\n",
            "Requirement already satisfied: numpy>=1.10.4 in /usr/local/lib/python3.11/dist-packages (from gym==0.17.3) (2.0.2)\n",
            "Collecting pyglet<=1.5.0,>=1.4.0 (from gym==0.17.3)\n",
            "  Downloading pyglet-1.5.0-py2.py3-none-any.whl.metadata (7.6 kB)\n",
            "Collecting cloudpickle<1.7.0,>=1.2.0 (from gym==0.17.3)\n",
            "  Downloading cloudpickle-1.6.0-py3-none-any.whl.metadata (4.3 kB)\n",
            "Requirement already satisfied: future in /usr/local/lib/python3.11/dist-packages (from pyglet<=1.5.0,>=1.4.0->gym==0.17.3) (1.0.0)\n",
            "Downloading cloudpickle-1.6.0-py3-none-any.whl (23 kB)\n",
            "Downloading pyglet-1.5.0-py2.py3-none-any.whl (1.0 MB)\n",
            "\u001b[2K   \u001b[90m━━━━━━━━━━━━━━━━━━━━━━━━━━━━━━━━━━━━━━━━\u001b[0m \u001b[32m1.0/1.0 MB\u001b[0m \u001b[31m49.3 MB/s\u001b[0m eta \u001b[36m0:00:00\u001b[0m\n",
            "\u001b[?25hBuilding wheels for collected packages: gym\n",
            "  Building wheel for gym (setup.py) ... \u001b[?25l\u001b[?25hdone\n",
            "  Created wheel for gym: filename=gym-0.17.3-py3-none-any.whl size=1654617 sha256=a7fc139c037fde3cc6ede75d069b1374e0c7f50d5fa21f52a97c4a1c3942e3f7\n",
            "  Stored in directory: /root/.cache/pip/wheels/07/8b/b7/570cb90b10f17e85ccb291ba1f04af41ec697745104a2263eb\n",
            "Successfully built gym\n",
            "Installing collected packages: pyglet, cloudpickle, gym\n",
            "  Attempting uninstall: cloudpickle\n",
            "    Found existing installation: cloudpickle 3.1.1\n",
            "    Uninstalling cloudpickle-3.1.1:\n",
            "      Successfully uninstalled cloudpickle-3.1.1\n",
            "  Attempting uninstall: gym\n",
            "    Found existing installation: gym 0.25.2\n",
            "    Uninstalling gym-0.25.2:\n",
            "      Successfully uninstalled gym-0.25.2\n",
            "\u001b[31mERROR: pip's dependency resolver does not currently take into account all the packages that are installed. This behaviour is the source of the following dependency conflicts.\n",
            "bigframes 2.8.0 requires cloudpickle>=2.0.0, but you have cloudpickle 1.6.0 which is incompatible.\n",
            "distributed 2024.12.1 requires cloudpickle>=3.0.0, but you have cloudpickle 1.6.0 which is incompatible.\n",
            "dask 2024.12.1 requires cloudpickle>=3.0.0, but you have cloudpickle 1.6.0 which is incompatible.\u001b[0m\u001b[31m\n",
            "\u001b[0mSuccessfully installed cloudpickle-1.6.0 gym-0.17.3 pyglet-1.5.0\n",
            "Collecting git+https://github.com/Kojoley/atari-py.git\n",
            "  Cloning https://github.com/Kojoley/atari-py.git to /tmp/pip-req-build-i_uuw2ov\n",
            "  Running command git clone --filter=blob:none --quiet https://github.com/Kojoley/atari-py.git /tmp/pip-req-build-i_uuw2ov\n",
            "  Resolved https://github.com/Kojoley/atari-py.git to commit 86a1e05c0a95e9e6233c3a413521fdb34ca8a089\n",
            "  Preparing metadata (setup.py) ... \u001b[?25l\u001b[?25hdone\n",
            "Requirement already satisfied: numpy in /usr/local/lib/python3.11/dist-packages (from atari-py==1.2.2) (2.0.2)\n",
            "Building wheels for collected packages: atari-py\n",
            "  Building wheel for atari-py (setup.py) ... \u001b[?25l\u001b[?25hdone\n",
            "  Created wheel for atari-py: filename=atari_py-1.2.2-cp311-cp311-linux_x86_64.whl size=4738555 sha256=7b8dd34c518bd06b27aef50d644169b92cc91f1b8534427503fd233979f1ba55\n",
            "  Stored in directory: /tmp/pip-ephem-wheel-cache-t4xr4t3p/wheels/1a/58/b3/3baab9d1509939ecce2dfd9ca349c222b7ee6590f4bd6097a1\n",
            "Successfully built atari-py\n",
            "Installing collected packages: atari-py\n",
            "Successfully installed atari-py-1.2.2\n",
            "Collecting keras-rl2==1.0.5\n",
            "  Downloading keras_rl2-1.0.5-py3-none-any.whl.metadata (304 bytes)\n",
            "Requirement already satisfied: tensorflow in /usr/local/lib/python3.11/dist-packages (from keras-rl2==1.0.5) (2.18.0)\n",
            "Requirement already satisfied: absl-py>=1.0.0 in /usr/local/lib/python3.11/dist-packages (from tensorflow->keras-rl2==1.0.5) (1.4.0)\n",
            "Requirement already satisfied: astunparse>=1.6.0 in /usr/local/lib/python3.11/dist-packages (from tensorflow->keras-rl2==1.0.5) (1.6.3)\n",
            "Requirement already satisfied: flatbuffers>=24.3.25 in /usr/local/lib/python3.11/dist-packages (from tensorflow->keras-rl2==1.0.5) (25.2.10)\n",
            "Requirement already satisfied: gast!=0.5.0,!=0.5.1,!=0.5.2,>=0.2.1 in /usr/local/lib/python3.11/dist-packages (from tensorflow->keras-rl2==1.0.5) (0.6.0)\n",
            "Requirement already satisfied: google-pasta>=0.1.1 in /usr/local/lib/python3.11/dist-packages (from tensorflow->keras-rl2==1.0.5) (0.2.0)\n",
            "Requirement already satisfied: libclang>=13.0.0 in /usr/local/lib/python3.11/dist-packages (from tensorflow->keras-rl2==1.0.5) (18.1.1)\n",
            "Requirement already satisfied: opt-einsum>=2.3.2 in /usr/local/lib/python3.11/dist-packages (from tensorflow->keras-rl2==1.0.5) (3.4.0)\n",
            "Requirement already satisfied: packaging in /usr/local/lib/python3.11/dist-packages (from tensorflow->keras-rl2==1.0.5) (24.2)\n",
            "Requirement already satisfied: protobuf!=4.21.0,!=4.21.1,!=4.21.2,!=4.21.3,!=4.21.4,!=4.21.5,<6.0.0dev,>=3.20.3 in /usr/local/lib/python3.11/dist-packages (from tensorflow->keras-rl2==1.0.5) (5.29.5)\n",
            "Requirement already satisfied: requests<3,>=2.21.0 in /usr/local/lib/python3.11/dist-packages (from tensorflow->keras-rl2==1.0.5) (2.32.3)\n",
            "Requirement already satisfied: setuptools in /usr/local/lib/python3.11/dist-packages (from tensorflow->keras-rl2==1.0.5) (75.2.0)\n",
            "Requirement already satisfied: six>=1.12.0 in /usr/local/lib/python3.11/dist-packages (from tensorflow->keras-rl2==1.0.5) (1.17.0)\n",
            "Requirement already satisfied: termcolor>=1.1.0 in /usr/local/lib/python3.11/dist-packages (from tensorflow->keras-rl2==1.0.5) (3.1.0)\n",
            "Requirement already satisfied: typing-extensions>=3.6.6 in /usr/local/lib/python3.11/dist-packages (from tensorflow->keras-rl2==1.0.5) (4.14.0)\n",
            "Requirement already satisfied: wrapt>=1.11.0 in /usr/local/lib/python3.11/dist-packages (from tensorflow->keras-rl2==1.0.5) (1.17.2)\n",
            "Requirement already satisfied: grpcio<2.0,>=1.24.3 in /usr/local/lib/python3.11/dist-packages (from tensorflow->keras-rl2==1.0.5) (1.73.0)\n",
            "Requirement already satisfied: tensorboard<2.19,>=2.18 in /usr/local/lib/python3.11/dist-packages (from tensorflow->keras-rl2==1.0.5) (2.18.0)\n",
            "Requirement already satisfied: keras>=3.5.0 in /usr/local/lib/python3.11/dist-packages (from tensorflow->keras-rl2==1.0.5) (3.8.0)\n",
            "Requirement already satisfied: numpy<2.1.0,>=1.26.0 in /usr/local/lib/python3.11/dist-packages (from tensorflow->keras-rl2==1.0.5) (2.0.2)\n",
            "Requirement already satisfied: h5py>=3.11.0 in /usr/local/lib/python3.11/dist-packages (from tensorflow->keras-rl2==1.0.5) (3.14.0)\n",
            "Requirement already satisfied: ml-dtypes<0.5.0,>=0.4.0 in /usr/local/lib/python3.11/dist-packages (from tensorflow->keras-rl2==1.0.5) (0.4.1)\n",
            "Requirement already satisfied: tensorflow-io-gcs-filesystem>=0.23.1 in /usr/local/lib/python3.11/dist-packages (from tensorflow->keras-rl2==1.0.5) (0.37.1)\n",
            "Requirement already satisfied: wheel<1.0,>=0.23.0 in /usr/local/lib/python3.11/dist-packages (from astunparse>=1.6.0->tensorflow->keras-rl2==1.0.5) (0.45.1)\n",
            "Requirement already satisfied: rich in /usr/local/lib/python3.11/dist-packages (from keras>=3.5.0->tensorflow->keras-rl2==1.0.5) (13.9.4)\n",
            "Requirement already satisfied: namex in /usr/local/lib/python3.11/dist-packages (from keras>=3.5.0->tensorflow->keras-rl2==1.0.5) (0.1.0)\n",
            "Requirement already satisfied: optree in /usr/local/lib/python3.11/dist-packages (from keras>=3.5.0->tensorflow->keras-rl2==1.0.5) (0.16.0)\n",
            "Requirement already satisfied: charset-normalizer<4,>=2 in /usr/local/lib/python3.11/dist-packages (from requests<3,>=2.21.0->tensorflow->keras-rl2==1.0.5) (3.4.2)\n",
            "Requirement already satisfied: idna<4,>=2.5 in /usr/local/lib/python3.11/dist-packages (from requests<3,>=2.21.0->tensorflow->keras-rl2==1.0.5) (3.10)\n",
            "Requirement already satisfied: urllib3<3,>=1.21.1 in /usr/local/lib/python3.11/dist-packages (from requests<3,>=2.21.0->tensorflow->keras-rl2==1.0.5) (2.4.0)\n",
            "Requirement already satisfied: certifi>=2017.4.17 in /usr/local/lib/python3.11/dist-packages (from requests<3,>=2.21.0->tensorflow->keras-rl2==1.0.5) (2025.6.15)\n",
            "Requirement already satisfied: markdown>=2.6.8 in /usr/local/lib/python3.11/dist-packages (from tensorboard<2.19,>=2.18->tensorflow->keras-rl2==1.0.5) (3.8.2)\n",
            "Requirement already satisfied: tensorboard-data-server<0.8.0,>=0.7.0 in /usr/local/lib/python3.11/dist-packages (from tensorboard<2.19,>=2.18->tensorflow->keras-rl2==1.0.5) (0.7.2)\n",
            "Requirement already satisfied: werkzeug>=1.0.1 in /usr/local/lib/python3.11/dist-packages (from tensorboard<2.19,>=2.18->tensorflow->keras-rl2==1.0.5) (3.1.3)\n",
            "Requirement already satisfied: MarkupSafe>=2.1.1 in /usr/local/lib/python3.11/dist-packages (from werkzeug>=1.0.1->tensorboard<2.19,>=2.18->tensorflow->keras-rl2==1.0.5) (3.0.2)\n",
            "Requirement already satisfied: markdown-it-py>=2.2.0 in /usr/local/lib/python3.11/dist-packages (from rich->keras>=3.5.0->tensorflow->keras-rl2==1.0.5) (3.0.0)\n",
            "Requirement already satisfied: pygments<3.0.0,>=2.13.0 in /usr/local/lib/python3.11/dist-packages (from rich->keras>=3.5.0->tensorflow->keras-rl2==1.0.5) (2.19.2)\n",
            "Requirement already satisfied: mdurl~=0.1 in /usr/local/lib/python3.11/dist-packages (from markdown-it-py>=2.2.0->rich->keras>=3.5.0->tensorflow->keras-rl2==1.0.5) (0.1.2)\n",
            "Downloading keras_rl2-1.0.5-py3-none-any.whl (52 kB)\n",
            "\u001b[2K   \u001b[90m━━━━━━━━━━━━━━━━━━━━━━━━━━━━━━━━━━━━━━━━\u001b[0m \u001b[32m52.1/52.1 kB\u001b[0m \u001b[31m1.6 MB/s\u001b[0m eta \u001b[36m0:00:00\u001b[0m\n",
            "\u001b[?25hInstalling collected packages: keras-rl2\n",
            "Successfully installed keras-rl2-1.0.5\n",
            "Collecting tensorflow==2.12\n",
            "  Downloading tensorflow-2.12.0-cp311-cp311-manylinux_2_17_x86_64.manylinux2014_x86_64.whl.metadata (3.4 kB)\n",
            "Requirement already satisfied: absl-py>=1.0.0 in /usr/local/lib/python3.11/dist-packages (from tensorflow==2.12) (1.4.0)\n",
            "Requirement already satisfied: astunparse>=1.6.0 in /usr/local/lib/python3.11/dist-packages (from tensorflow==2.12) (1.6.3)\n",
            "Requirement already satisfied: flatbuffers>=2.0 in /usr/local/lib/python3.11/dist-packages (from tensorflow==2.12) (25.2.10)\n",
            "Collecting gast<=0.4.0,>=0.2.1 (from tensorflow==2.12)\n",
            "  Downloading gast-0.4.0-py3-none-any.whl.metadata (1.1 kB)\n",
            "Requirement already satisfied: google-pasta>=0.1.1 in /usr/local/lib/python3.11/dist-packages (from tensorflow==2.12) (0.2.0)\n",
            "Requirement already satisfied: grpcio<2.0,>=1.24.3 in /usr/local/lib/python3.11/dist-packages (from tensorflow==2.12) (1.73.0)\n",
            "Requirement already satisfied: h5py>=2.9.0 in /usr/local/lib/python3.11/dist-packages (from tensorflow==2.12) (3.14.0)\n",
            "Requirement already satisfied: jax>=0.3.15 in /usr/local/lib/python3.11/dist-packages (from tensorflow==2.12) (0.5.2)\n",
            "Collecting keras<2.13,>=2.12.0 (from tensorflow==2.12)\n",
            "  Downloading keras-2.12.0-py2.py3-none-any.whl.metadata (1.4 kB)\n",
            "Requirement already satisfied: libclang>=13.0.0 in /usr/local/lib/python3.11/dist-packages (from tensorflow==2.12) (18.1.1)\n",
            "Collecting numpy<1.24,>=1.22 (from tensorflow==2.12)\n",
            "  Downloading numpy-1.23.5-cp311-cp311-manylinux_2_17_x86_64.manylinux2014_x86_64.whl.metadata (2.3 kB)\n",
            "Requirement already satisfied: opt-einsum>=2.3.2 in /usr/local/lib/python3.11/dist-packages (from tensorflow==2.12) (3.4.0)\n",
            "Requirement already satisfied: packaging in /usr/local/lib/python3.11/dist-packages (from tensorflow==2.12) (24.2)\n",
            "Collecting protobuf!=4.21.0,!=4.21.1,!=4.21.2,!=4.21.3,!=4.21.4,!=4.21.5,<5.0.0dev,>=3.20.3 (from tensorflow==2.12)\n",
            "  Downloading protobuf-4.25.8-cp37-abi3-manylinux2014_x86_64.whl.metadata (541 bytes)\n",
            "Requirement already satisfied: setuptools in /usr/local/lib/python3.11/dist-packages (from tensorflow==2.12) (75.2.0)\n",
            "Requirement already satisfied: six>=1.12.0 in /usr/local/lib/python3.11/dist-packages (from tensorflow==2.12) (1.17.0)\n",
            "Collecting tensorboard<2.13,>=2.12 (from tensorflow==2.12)\n",
            "  Downloading tensorboard-2.12.3-py3-none-any.whl.metadata (1.8 kB)\n",
            "Collecting tensorflow-estimator<2.13,>=2.12.0 (from tensorflow==2.12)\n",
            "  Downloading tensorflow_estimator-2.12.0-py2.py3-none-any.whl.metadata (1.3 kB)\n",
            "Requirement already satisfied: termcolor>=1.1.0 in /usr/local/lib/python3.11/dist-packages (from tensorflow==2.12) (3.1.0)\n",
            "Requirement already satisfied: typing-extensions>=3.6.6 in /usr/local/lib/python3.11/dist-packages (from tensorflow==2.12) (4.14.0)\n",
            "Collecting wrapt<1.15,>=1.11.0 (from tensorflow==2.12)\n",
            "  Downloading wrapt-1.14.1-cp311-cp311-manylinux_2_5_x86_64.manylinux1_x86_64.manylinux_2_17_x86_64.manylinux2014_x86_64.whl.metadata (6.7 kB)\n",
            "Requirement already satisfied: tensorflow-io-gcs-filesystem>=0.23.1 in /usr/local/lib/python3.11/dist-packages (from tensorflow==2.12) (0.37.1)\n",
            "Requirement already satisfied: wheel<1.0,>=0.23.0 in /usr/local/lib/python3.11/dist-packages (from astunparse>=1.6.0->tensorflow==2.12) (0.45.1)\n",
            "Requirement already satisfied: jaxlib<=0.5.2,>=0.5.1 in /usr/local/lib/python3.11/dist-packages (from jax>=0.3.15->tensorflow==2.12) (0.5.1)\n",
            "Requirement already satisfied: ml_dtypes>=0.4.0 in /usr/local/lib/python3.11/dist-packages (from jax>=0.3.15->tensorflow==2.12) (0.4.1)\n",
            "INFO: pip is looking at multiple versions of jax to determine which version is compatible with other requirements. This could take a while.\n",
            "Collecting jax>=0.3.15 (from tensorflow==2.12)\n",
            "  Downloading jax-0.6.2-py3-none-any.whl.metadata (13 kB)\n",
            "Collecting jaxlib<=0.6.2,>=0.6.2 (from jax>=0.3.15->tensorflow==2.12)\n",
            "  Downloading jaxlib-0.6.2-cp311-cp311-manylinux2014_x86_64.whl.metadata (1.3 kB)\n",
            "Collecting ml_dtypes>=0.5.0 (from jax>=0.3.15->tensorflow==2.12)\n",
            "  Downloading ml_dtypes-0.5.1-cp311-cp311-manylinux_2_17_x86_64.manylinux2014_x86_64.whl.metadata (21 kB)\n",
            "Collecting jax>=0.3.15 (from tensorflow==2.12)\n",
            "  Downloading jax-0.6.1-py3-none-any.whl.metadata (13 kB)\n",
            "Collecting jaxlib<=0.6.1,>=0.6.1 (from jax>=0.3.15->tensorflow==2.12)\n",
            "  Downloading jaxlib-0.6.1-cp311-cp311-manylinux2014_x86_64.whl.metadata (1.2 kB)\n",
            "Collecting jax>=0.3.15 (from tensorflow==2.12)\n",
            "  Downloading jax-0.6.0-py3-none-any.whl.metadata (22 kB)\n",
            "Collecting jaxlib<=0.6.0,>=0.6.0 (from jax>=0.3.15->tensorflow==2.12)\n",
            "  Downloading jaxlib-0.6.0-cp311-cp311-manylinux2014_x86_64.whl.metadata (1.2 kB)\n",
            "Collecting jax>=0.3.15 (from tensorflow==2.12)\n",
            "  Downloading jax-0.5.3-py3-none-any.whl.metadata (22 kB)\n",
            "Collecting jaxlib<=0.5.3,>=0.5.3 (from jax>=0.3.15->tensorflow==2.12)\n",
            "  Downloading jaxlib-0.5.3-cp311-cp311-manylinux2014_x86_64.whl.metadata (1.2 kB)\n",
            "Collecting jax>=0.3.15 (from tensorflow==2.12)\n",
            "  Downloading jax-0.5.1-py3-none-any.whl.metadata (22 kB)\n",
            "  Downloading jax-0.5.0-py3-none-any.whl.metadata (22 kB)\n",
            "Collecting jaxlib<=0.5.0,>=0.5.0 (from jax>=0.3.15->tensorflow==2.12)\n",
            "  Downloading jaxlib-0.5.0-cp311-cp311-manylinux2014_x86_64.whl.metadata (978 bytes)\n",
            "Collecting jax>=0.3.15 (from tensorflow==2.12)\n",
            "  Downloading jax-0.4.38-py3-none-any.whl.metadata (22 kB)\n",
            "Collecting jaxlib<=0.4.38,>=0.4.38 (from jax>=0.3.15->tensorflow==2.12)\n",
            "  Downloading jaxlib-0.4.38-cp311-cp311-manylinux2014_x86_64.whl.metadata (1.0 kB)\n",
            "INFO: pip is still looking at multiple versions of jax to determine which version is compatible with other requirements. This could take a while.\n",
            "Collecting jax>=0.3.15 (from tensorflow==2.12)\n",
            "  Downloading jax-0.4.37-py3-none-any.whl.metadata (22 kB)\n",
            "Collecting jaxlib<=0.4.37,>=0.4.36 (from jax>=0.3.15->tensorflow==2.12)\n",
            "  Downloading jaxlib-0.4.36-cp311-cp311-manylinux2014_x86_64.whl.metadata (1.0 kB)\n",
            "Collecting jax>=0.3.15 (from tensorflow==2.12)\n",
            "  Downloading jax-0.4.36-py3-none-any.whl.metadata (22 kB)\n",
            "  Downloading jax-0.4.35-py3-none-any.whl.metadata (22 kB)\n",
            "Collecting jaxlib<=0.4.35,>=0.4.34 (from jax>=0.3.15->tensorflow==2.12)\n",
            "  Downloading jaxlib-0.4.35-cp311-cp311-manylinux2014_x86_64.whl.metadata (983 bytes)\n",
            "Collecting jax>=0.3.15 (from tensorflow==2.12)\n",
            "  Downloading jax-0.4.34-py3-none-any.whl.metadata (22 kB)\n",
            "Collecting jaxlib<=0.4.34,>=0.4.34 (from jax>=0.3.15->tensorflow==2.12)\n",
            "  Downloading jaxlib-0.4.34-cp311-cp311-manylinux2014_x86_64.whl.metadata (983 bytes)\n",
            "Collecting jax>=0.3.15 (from tensorflow==2.12)\n",
            "  Downloading jax-0.4.33-py3-none-any.whl.metadata (22 kB)\n",
            "Collecting jaxlib<=0.4.33,>=0.4.33 (from jax>=0.3.15->tensorflow==2.12)\n",
            "  Downloading jaxlib-0.4.33-cp311-cp311-manylinux2014_x86_64.whl.metadata (983 bytes)\n",
            "INFO: This is taking longer than usual. You might need to provide the dependency resolver with stricter constraints to reduce runtime. See https://pip.pypa.io/warnings/backtracking for guidance. If you want to abort this run, press Ctrl + C.\n",
            "Collecting jax>=0.3.15 (from tensorflow==2.12)\n",
            "  Downloading jax-0.4.31-py3-none-any.whl.metadata (22 kB)\n",
            "Collecting jaxlib<=0.4.31,>=0.4.30 (from jax>=0.3.15->tensorflow==2.12)\n",
            "  Downloading jaxlib-0.4.31-cp311-cp311-manylinux2014_x86_64.whl.metadata (983 bytes)\n",
            "Collecting jax>=0.3.15 (from tensorflow==2.12)\n",
            "  Downloading jax-0.4.30-py3-none-any.whl.metadata (22 kB)\n",
            "Collecting jaxlib<=0.4.30,>=0.4.27 (from jax>=0.3.15->tensorflow==2.12)\n",
            "  Downloading jaxlib-0.4.30-cp311-cp311-manylinux2014_x86_64.whl.metadata (1.0 kB)\n",
            "Requirement already satisfied: scipy>=1.9 in /usr/local/lib/python3.11/dist-packages (from jax>=0.3.15->tensorflow==2.12) (1.15.3)\n",
            "Requirement already satisfied: google-auth<3,>=1.6.3 in /usr/local/lib/python3.11/dist-packages (from tensorboard<2.13,>=2.12->tensorflow==2.12) (2.38.0)\n",
            "Collecting google-auth-oauthlib<1.1,>=0.5 (from tensorboard<2.13,>=2.12->tensorflow==2.12)\n",
            "  Downloading google_auth_oauthlib-1.0.0-py2.py3-none-any.whl.metadata (2.7 kB)\n",
            "Requirement already satisfied: markdown>=2.6.8 in /usr/local/lib/python3.11/dist-packages (from tensorboard<2.13,>=2.12->tensorflow==2.12) (3.8.2)\n",
            "Requirement already satisfied: requests<3,>=2.21.0 in /usr/local/lib/python3.11/dist-packages (from tensorboard<2.13,>=2.12->tensorflow==2.12) (2.32.3)\n",
            "Requirement already satisfied: tensorboard-data-server<0.8.0,>=0.7.0 in /usr/local/lib/python3.11/dist-packages (from tensorboard<2.13,>=2.12->tensorflow==2.12) (0.7.2)\n",
            "Requirement already satisfied: werkzeug>=1.0.1 in /usr/local/lib/python3.11/dist-packages (from tensorboard<2.13,>=2.12->tensorflow==2.12) (3.1.3)\n",
            "Requirement already satisfied: cachetools<6.0,>=2.0.0 in /usr/local/lib/python3.11/dist-packages (from google-auth<3,>=1.6.3->tensorboard<2.13,>=2.12->tensorflow==2.12) (5.5.2)\n",
            "Requirement already satisfied: pyasn1-modules>=0.2.1 in /usr/local/lib/python3.11/dist-packages (from google-auth<3,>=1.6.3->tensorboard<2.13,>=2.12->tensorflow==2.12) (0.4.2)\n",
            "Requirement already satisfied: rsa<5,>=3.1.4 in /usr/local/lib/python3.11/dist-packages (from google-auth<3,>=1.6.3->tensorboard<2.13,>=2.12->tensorflow==2.12) (4.9.1)\n",
            "Requirement already satisfied: requests-oauthlib>=0.7.0 in /usr/local/lib/python3.11/dist-packages (from google-auth-oauthlib<1.1,>=0.5->tensorboard<2.13,>=2.12->tensorflow==2.12) (2.0.0)\n",
            "Requirement already satisfied: charset-normalizer<4,>=2 in /usr/local/lib/python3.11/dist-packages (from requests<3,>=2.21.0->tensorboard<2.13,>=2.12->tensorflow==2.12) (3.4.2)\n",
            "Requirement already satisfied: idna<4,>=2.5 in /usr/local/lib/python3.11/dist-packages (from requests<3,>=2.21.0->tensorboard<2.13,>=2.12->tensorflow==2.12) (3.10)\n",
            "Requirement already satisfied: urllib3<3,>=1.21.1 in /usr/local/lib/python3.11/dist-packages (from requests<3,>=2.21.0->tensorboard<2.13,>=2.12->tensorflow==2.12) (2.4.0)\n",
            "Requirement already satisfied: certifi>=2017.4.17 in /usr/local/lib/python3.11/dist-packages (from requests<3,>=2.21.0->tensorboard<2.13,>=2.12->tensorflow==2.12) (2025.6.15)\n",
            "Requirement already satisfied: MarkupSafe>=2.1.1 in /usr/local/lib/python3.11/dist-packages (from werkzeug>=1.0.1->tensorboard<2.13,>=2.12->tensorflow==2.12) (3.0.2)\n",
            "Requirement already satisfied: pyasn1<0.7.0,>=0.6.1 in /usr/local/lib/python3.11/dist-packages (from pyasn1-modules>=0.2.1->google-auth<3,>=1.6.3->tensorboard<2.13,>=2.12->tensorflow==2.12) (0.6.1)\n",
            "Requirement already satisfied: oauthlib>=3.0.0 in /usr/local/lib/python3.11/dist-packages (from requests-oauthlib>=0.7.0->google-auth-oauthlib<1.1,>=0.5->tensorboard<2.13,>=2.12->tensorflow==2.12) (3.3.1)\n",
            "Downloading tensorflow-2.12.0-cp311-cp311-manylinux_2_17_x86_64.manylinux2014_x86_64.whl (586.0 MB)\n",
            "\u001b[2K   \u001b[90m━━━━━━━━━━━━━━━━━━━━━━━━━━━━━━━━━━━━━━━━\u001b[0m \u001b[32m586.0/586.0 MB\u001b[0m \u001b[31m1.4 MB/s\u001b[0m eta \u001b[36m0:00:00\u001b[0m\n",
            "\u001b[?25hDownloading gast-0.4.0-py3-none-any.whl (9.8 kB)\n",
            "Downloading jax-0.4.30-py3-none-any.whl (2.0 MB)\n",
            "\u001b[2K   \u001b[90m━━━━━━━━━━━━━━━━━━━━━━━━━━━━━━━━━━━━━━━━\u001b[0m \u001b[32m2.0/2.0 MB\u001b[0m \u001b[31m43.5 MB/s\u001b[0m eta \u001b[36m0:00:00\u001b[0m\n",
            "\u001b[?25hDownloading keras-2.12.0-py2.py3-none-any.whl (1.7 MB)\n",
            "\u001b[2K   \u001b[90m━━━━━━━━━━━━━━━━━━━━━━━━━━━━━━━━━━━━━━━━\u001b[0m \u001b[32m1.7/1.7 MB\u001b[0m \u001b[31m30.3 MB/s\u001b[0m eta \u001b[36m0:00:00\u001b[0m\n",
            "\u001b[?25hDownloading numpy-1.23.5-cp311-cp311-manylinux_2_17_x86_64.manylinux2014_x86_64.whl (17.1 MB)\n",
            "\u001b[2K   \u001b[90m━━━━━━━━━━━━━━━━━━━━━━━━━━━━━━━━━━━━━━━━\u001b[0m \u001b[32m17.1/17.1 MB\u001b[0m \u001b[31m30.6 MB/s\u001b[0m eta \u001b[36m0:00:00\u001b[0m\n",
            "\u001b[?25hDownloading protobuf-4.25.8-cp37-abi3-manylinux2014_x86_64.whl (294 kB)\n",
            "\u001b[2K   \u001b[90m━━━━━━━━━━━━━━━━━━━━━━━━━━━━━━━━━━━━━━━━\u001b[0m \u001b[32m294.9/294.9 kB\u001b[0m \u001b[31m12.4 MB/s\u001b[0m eta \u001b[36m0:00:00\u001b[0m\n",
            "\u001b[?25hDownloading tensorboard-2.12.3-py3-none-any.whl (5.6 MB)\n",
            "\u001b[2K   \u001b[90m━━━━━━━━━━━━━━━━━━━━━━━━━━━━━━━━━━━━━━━━\u001b[0m \u001b[32m5.6/5.6 MB\u001b[0m \u001b[31m33.0 MB/s\u001b[0m eta \u001b[36m0:00:00\u001b[0m\n",
            "\u001b[?25hDownloading tensorflow_estimator-2.12.0-py2.py3-none-any.whl (440 kB)\n",
            "\u001b[2K   \u001b[90m━━━━━━━━━━━━━━━━━━━━━━━━━━━━━━━━━━━━━━━━\u001b[0m \u001b[32m440.7/440.7 kB\u001b[0m \u001b[31m17.9 MB/s\u001b[0m eta \u001b[36m0:00:00\u001b[0m\n",
            "\u001b[?25hDownloading wrapt-1.14.1-cp311-cp311-manylinux_2_5_x86_64.manylinux1_x86_64.manylinux_2_17_x86_64.manylinux2014_x86_64.whl (78 kB)\n",
            "\u001b[2K   \u001b[90m━━━━━━━━━━━━━━━━━━━━━━━━━━━━━━━━━━━━━━━━\u001b[0m \u001b[32m78.4/78.4 kB\u001b[0m \u001b[31m2.6 MB/s\u001b[0m eta \u001b[36m0:00:00\u001b[0m\n",
            "\u001b[?25hDownloading google_auth_oauthlib-1.0.0-py2.py3-none-any.whl (18 kB)\n",
            "Downloading jaxlib-0.4.30-cp311-cp311-manylinux2014_x86_64.whl (79.6 MB)\n",
            "\u001b[2K   \u001b[90m━━━━━━━━━━━━━━━━━━━━━━━━━━━━━━━━━━━━━━━━\u001b[0m \u001b[32m79.6/79.6 MB\u001b[0m \u001b[31m8.8 MB/s\u001b[0m eta \u001b[36m0:00:00\u001b[0m\n",
            "\u001b[?25hInstalling collected packages: wrapt, tensorflow-estimator, protobuf, numpy, keras, gast, jaxlib, google-auth-oauthlib, tensorboard, jax, tensorflow\n",
            "  Attempting uninstall: wrapt\n",
            "    Found existing installation: wrapt 1.17.2\n",
            "    Uninstalling wrapt-1.17.2:\n",
            "      Successfully uninstalled wrapt-1.17.2\n",
            "  Attempting uninstall: protobuf\n",
            "    Found existing installation: protobuf 5.29.5\n",
            "    Uninstalling protobuf-5.29.5:\n",
            "      Successfully uninstalled protobuf-5.29.5\n",
            "  Attempting uninstall: numpy\n",
            "    Found existing installation: numpy 2.0.2\n",
            "    Uninstalling numpy-2.0.2:\n",
            "      Successfully uninstalled numpy-2.0.2\n",
            "  Attempting uninstall: keras\n",
            "    Found existing installation: keras 3.8.0\n",
            "    Uninstalling keras-3.8.0:\n",
            "      Successfully uninstalled keras-3.8.0\n",
            "  Attempting uninstall: gast\n",
            "    Found existing installation: gast 0.6.0\n",
            "    Uninstalling gast-0.6.0:\n",
            "      Successfully uninstalled gast-0.6.0\n",
            "  Attempting uninstall: jaxlib\n",
            "    Found existing installation: jaxlib 0.5.1\n",
            "    Uninstalling jaxlib-0.5.1:\n",
            "      Successfully uninstalled jaxlib-0.5.1\n",
            "  Attempting uninstall: google-auth-oauthlib\n",
            "    Found existing installation: google-auth-oauthlib 1.2.2\n",
            "    Uninstalling google-auth-oauthlib-1.2.2:\n",
            "      Successfully uninstalled google-auth-oauthlib-1.2.2\n",
            "  Attempting uninstall: tensorboard\n",
            "    Found existing installation: tensorboard 2.18.0\n",
            "    Uninstalling tensorboard-2.18.0:\n",
            "      Successfully uninstalled tensorboard-2.18.0\n",
            "  Attempting uninstall: jax\n",
            "    Found existing installation: jax 0.5.2\n",
            "    Uninstalling jax-0.5.2:\n",
            "      Successfully uninstalled jax-0.5.2\n",
            "  Attempting uninstall: tensorflow\n",
            "    Found existing installation: tensorflow 2.18.0\n",
            "    Uninstalling tensorflow-2.18.0:\n",
            "      Successfully uninstalled tensorflow-2.18.0\n",
            "\u001b[31mERROR: pip's dependency resolver does not currently take into account all the packages that are installed. This behaviour is the source of the following dependency conflicts.\n",
            "scikit-image 0.25.2 requires numpy>=1.24, but you have numpy 1.23.5 which is incompatible.\n",
            "tensorflow-decision-forests 1.11.0 requires tensorflow==2.18.0, but you have tensorflow 2.12.0 which is incompatible.\n",
            "tf-keras 2.18.0 requires tensorflow<2.19,>=2.18, but you have tensorflow 2.12.0 which is incompatible.\n",
            "bigframes 2.8.0 requires cloudpickle>=2.0.0, but you have cloudpickle 1.6.0 which is incompatible.\n",
            "bigframes 2.8.0 requires numpy>=1.24.0, but you have numpy 1.23.5 which is incompatible.\n",
            "ydf 0.12.0 requires protobuf<6.0.0,>=5.29.1, but you have protobuf 4.25.8 which is incompatible.\n",
            "treescope 0.1.9 requires numpy>=1.25.2, but you have numpy 1.23.5 which is incompatible.\n",
            "pymc 5.23.0 requires numpy>=1.25.0, but you have numpy 1.23.5 which is incompatible.\n",
            "xarray 2025.3.1 requires numpy>=1.24, but you have numpy 1.23.5 which is incompatible.\n",
            "thinc 8.3.6 requires numpy<3.0.0,>=2.0.0, but you have numpy 1.23.5 which is incompatible.\n",
            "albucore 0.0.24 requires numpy>=1.24.4, but you have numpy 1.23.5 which is incompatible.\n",
            "grpcio-status 1.71.0 requires protobuf<6.0dev,>=5.26.1, but you have protobuf 4.25.8 which is incompatible.\n",
            "orbax-checkpoint 0.11.16 requires jax>=0.5.0, but you have jax 0.4.30 which is incompatible.\n",
            "tensorflow-text 2.18.1 requires tensorflow<2.19,>=2.18.0, but you have tensorflow 2.12.0 which is incompatible.\n",
            "flax 0.10.6 requires jax>=0.5.1, but you have jax 0.4.30 which is incompatible.\n",
            "albumentations 2.0.8 requires numpy>=1.24.4, but you have numpy 1.23.5 which is incompatible.\n",
            "db-dtypes 1.4.3 requires numpy>=1.24.0, but you have numpy 1.23.5 which is incompatible.\n",
            "imbalanced-learn 0.13.0 requires numpy<3,>=1.24.3, but you have numpy 1.23.5 which is incompatible.\n",
            "xarray-einstats 0.9.1 requires numpy>=1.25, but you have numpy 1.23.5 which is incompatible.\n",
            "chex 0.1.89 requires numpy>=1.24.1, but you have numpy 1.23.5 which is incompatible.\n",
            "blosc2 3.5.0 requires numpy>=1.26, but you have numpy 1.23.5 which is incompatible.\u001b[0m\u001b[31m\n",
            "\u001b[0mSuccessfully installed gast-0.4.0 google-auth-oauthlib-1.0.0 jax-0.4.30 jaxlib-0.4.30 keras-2.12.0 numpy-1.23.5 protobuf-4.25.8 tensorboard-2.12.3 tensorflow-2.12.0 tensorflow-estimator-2.12.0 wrapt-1.14.1\n"
          ]
        },
        {
          "output_type": "display_data",
          "data": {
            "application/vnd.colab-display-data+json": {
              "pip_warning": {
                "packages": [
                  "google",
                  "numpy"
                ]
              },
              "id": "74c24e1fbdd7452e86241b2bad4c7432"
            }
          },
          "metadata": {}
        }
      ],
      "source": [
        "if IN_COLAB:\n",
        "  %pip install gym==0.17.3\n",
        "  %pip install git+https://github.com/Kojoley/atari-py.git\n",
        "  %pip install keras-rl2==1.0.5\n",
        "  %pip install tensorflow==2.12  #2.8\n",
        "else:\n",
        "  %pip install gym==0.17.3\n",
        "  %pip install git+https://github.com/Kojoley/atari-py.git\n",
        "  %pip install pyglet==1.5.0\n",
        "  %pip install h5py==3.1.0\n",
        "  %pip install Pillow==9.5.0\n",
        "  %pip install keras-rl2==1.0.5\n",
        "  %pip install Keras==2.2.4\n",
        "  %pip install tensorflow==2.5.3\n",
        "  %pip install torch==2.0.1\n",
        "  %pip install agents==1.4.0"
      ]
    },
    {
      "cell_type": "markdown",
      "metadata": {
        "id": "4hzP_5ZuGb2X"
      },
      "source": [
        "---\n",
        "## **PARTE 2**. Enunciado\n",
        "\n",
        "Consideraciones a tener en cuenta:\n",
        "\n",
        "- El entorno sobre el que trabajaremos será _SpaceInvaders-v0_ y el algoritmo que usaremos será _DQN_.\n",
        "\n",
        "- Para nuestro ejercicio, el requisito mínimo será alcanzado cuando el agente consiga una **media de recompensa por encima de 20 puntos en modo test**. Por ello, esta media de la recompensa se calculará a partir del código de test en la última celda del notebook.\n",
        "\n",
        "Este proyecto práctico consta de tres partes:\n",
        "\n",
        "1.   Implementar la red neuronal que se usará en la solución\n",
        "2.   Implementar las distintas piezas de la solución DQN\n",
        "3.   Justificar la respuesta en relación a los resultados obtenidos\n",
        "\n",
        "**Rúbrica**: Se valorará la originalidad en la solución aportada, así como la capacidad de discutir los resultados de forma detallada. El requisito mínimo servirá para aprobar la actividad, bajo premisa de que la discusión del resultado sera apropiada.\n",
        "\n",
        "IMPORTANTE:\n",
        "\n",
        "* Si no se consigue una puntuación óptima, responder sobre la mejor puntuación obtenida.\n",
        "* Para entrenamientos largos, recordad que podéis usar checkpoints de vuestros modelos para retomar los entrenamientos. En este caso, recordad cambiar los parámetros adecuadamente (sobre todo los relacionados con el proceso de exploración).\n",
        "* Se deberá entregar unicamente el notebook y los pesos del mejor modelo en un fichero .zip, de forma organizada.\n",
        "* Cada alumno deberá de subir la solución de forma individual."
      ]
    },
    {
      "cell_type": "markdown",
      "metadata": {
        "id": "6_b3mzw8IzJP"
      },
      "source": [
        "---\n",
        "## **PARTE 3**. Desarrollo y preguntas"
      ]
    },
    {
      "cell_type": "markdown",
      "metadata": {
        "id": "duPmUNOVGb2a"
      },
      "source": [
        "#### Importar librerías"
      ]
    },
    {
      "cell_type": "code",
      "execution_count": null,
      "metadata": {
        "id": "j3eRhgI-Gb2a"
      },
      "outputs": [],
      "source": [
        "from __future__ import division\n",
        "\n",
        "from PIL import Image\n",
        "import numpy as np\n",
        "import gym\n",
        "\n",
        "from tensorflow.keras.models import Sequential\n",
        "from tensorflow.keras.layers import Dense, Activation, Flatten, Convolution2D, Permute\n",
        "# from keras.optimizers import Adam  # from tensorflow.keras.optimizers import Adam\n",
        "# from tensorflow.keras.optimizers import Adam\n",
        "from keras.optimizers import Adam\n",
        "import tensorflow.keras.backend as K\n",
        "\n",
        "from rl.agents.dqn import DQNAgent\n",
        "from rl.policy import LinearAnnealedPolicy, BoltzmannQPolicy, EpsGreedyQPolicy\n",
        "from rl.memory import SequentialMemory\n",
        "from rl.core import Processor\n",
        "from rl.callbacks import FileLogger, ModelIntervalCheckpoint"
      ]
    },
    {
      "cell_type": "markdown",
      "metadata": {
        "id": "f4jgQjzoGb2a"
      },
      "source": [
        "#### Configuración base"
      ]
    },
    {
      "cell_type": "code",
      "execution_count": null,
      "metadata": {
        "id": "jwOE6I_KGb2a"
      },
      "outputs": [],
      "source": [
        "INPUT_SHAPE = (84, 84)\n",
        "WINDOW_LENGTH = 4\n",
        "\n",
        "env_name = 'SpaceInvaders-v0'\n",
        "env = gym.make(env_name)\n",
        "\n",
        "np.random.seed(123)\n",
        "env.seed(123)\n",
        "nb_actions = env.action_space.n"
      ]
    },
    {
      "cell_type": "code",
      "source": [
        "class AtariProcessor(Processor):\n",
        "    def process_observation(self, observation):\n",
        "        assert observation.ndim == 3  # (height, width, channel)\n",
        "        img = Image.fromarray(observation)\n",
        "        img = img.resize(INPUT_SHAPE).convert('L')\n",
        "        processed_observation = np.array(img)\n",
        "        assert processed_observation.shape == INPUT_SHAPE\n",
        "        return processed_observation.astype('uint8')\n",
        "\n",
        "    def process_state_batch(self, batch):\n",
        "        processed_batch = batch.astype('float32') / 255.\n",
        "        return processed_batch\n",
        "\n",
        "    def process_reward(self, reward):\n",
        "        return np.clip(reward, -1., 1.)"
      ],
      "metadata": {
        "id": "uRl-zPaXr4iQ"
      },
      "execution_count": null,
      "outputs": []
    },
    {
      "cell_type": "code",
      "execution_count": null,
      "metadata": {
        "id": "ayFHvtRSPH7F"
      },
      "outputs": [],
      "source": [
        "processor = AtariProcessor()"
      ]
    },
    {
      "cell_type": "markdown",
      "metadata": {
        "id": "7yitXTADGb2b"
      },
      "source": [
        "## 1. Implementación de la red neuronal"
      ]
    },
    {
      "cell_type": "code",
      "execution_count": null,
      "metadata": {
        "id": "3QmA5qbKpKpW"
      },
      "outputs": [],
      "source": [
        "from tensorflow.keras.layers import Conv2D, Flatten, Dense, Permute"
      ]
    },
    {
      "cell_type": "code",
      "execution_count": null,
      "metadata": {
        "colab": {
          "base_uri": "https://localhost:8080/"
        },
        "id": "O4GKrfWSGb2b",
        "outputId": "c34d35b7-2323-4105-df0d-2ed963e7aad6"
      },
      "outputs": [
        {
          "output_type": "stream",
          "name": "stdout",
          "text": [
            "Model: \"sequential\"\n",
            "_________________________________________________________________\n",
            " Layer (type)                Output Shape              Param #   \n",
            "=================================================================\n",
            " permute (Permute)           (None, 84, 84, 4)         0         \n",
            "                                                                 \n",
            " conv2d (Conv2D)             (None, 20, 20, 32)        8224      \n",
            "                                                                 \n",
            " conv2d_1 (Conv2D)           (None, 9, 9, 64)          32832     \n",
            "                                                                 \n",
            " conv2d_2 (Conv2D)           (None, 7, 7, 64)          36928     \n",
            "                                                                 \n",
            " flatten (Flatten)           (None, 3136)              0         \n",
            "                                                                 \n",
            " dense (Dense)               (None, 512)               1606144   \n",
            "                                                                 \n",
            " dense_1 (Dense)             (None, 6)                 3078      \n",
            "                                                                 \n",
            "=================================================================\n",
            "Total params: 1,687,206\n",
            "Trainable params: 1,687,206\n",
            "Non-trainable params: 0\n",
            "_________________________________________________________________\n",
            "None\n"
          ]
        }
      ],
      "source": [
        "# Red neuronal\n",
        "model = Sequential()\n",
        "model.add(Permute((2, 3, 1), input_shape=(WINDOW_LENGTH, 84, 84)))\n",
        "model.add(Conv2D(32, (8, 8), strides=(4, 4), activation='relu'))\n",
        "model.add(Conv2D(64, (4, 4), strides=(2, 2), activation='relu'))\n",
        "model.add(Conv2D(64, (3, 3), strides=(1, 1), activation='relu'))\n",
        "model.add(Flatten())\n",
        "model.add(Dense(512, activation='relu'))\n",
        "model.add(Dense(nb_actions, activation='linear'))\n",
        "\n",
        "print(model.summary())"
      ]
    },
    {
      "cell_type": "markdown",
      "metadata": {
        "id": "OB9-_5HPGb2b"
      },
      "source": [
        "## 2. Implementación de la solución DQN"
      ]
    },
    {
      "cell_type": "markdown",
      "source": [
        "### Código Eduardo (Después cambiamos el nombre de esta sección)"
      ],
      "metadata": {
        "id": "kHZLDmwlq3ud"
      }
    },
    {
      "cell_type": "markdown",
      "source": [
        "Primero hacemos una modificación del preprocesador, ya que en las observaciones (imágenes del juego) se incluye una barra superior que muestra el puntaje actual. Sin embargo, esta región de la imagen no forma parte del estado del juego que el agente necesita para tomar decisiones óptimas, ya que el puntaje refleja el rendimiento pasado, no información sobre la situación actual en el entorno (como la posición de enemigos o del jugador). Además, incluir el puntaje en las observaciones puede inducir sesgos. Originalmente las observaciones se ven de la siguiente manera:"
      ],
      "metadata": {
        "id": "BuZ3-c0LlDZI"
      }
    },
    {
      "cell_type": "code",
      "source": [
        "processor = AtariProcessor()"
      ],
      "metadata": {
        "id": "Ao4K3o1vrXB1"
      },
      "execution_count": null,
      "outputs": []
    },
    {
      "cell_type": "code",
      "execution_count": null,
      "metadata": {
        "colab": {
          "base_uri": "https://localhost:8080/",
          "height": 428
        },
        "id": "amf0W7J0O1Ea",
        "outputId": "98e94451-7067-400e-f6e5-09becf7ec205"
      },
      "outputs": [
        {
          "output_type": "display_data",
          "data": {
            "text/plain": [
              "<Figure size 640x480 with 1 Axes>"
            ],
            "image/png": "[encoded data removed]"
          },
          "metadata": {}
        }
      ],
      "source": [
        "import matplotlib.pyplot as plt\n",
        "\n",
        "frame = env.reset()\n",
        "processed_frame = processor.process_observation(frame)\n",
        "\n",
        "plt.imshow(processed_frame, cmap='gray')\n",
        "plt.title(\"Processed Frame\")\n",
        "plt.axis('off')\n",
        "plt.show()"
      ]
    },
    {
      "cell_type": "markdown",
      "source": [
        "Por lo que procedemos a quitar esta región de la imagen agregando al preprocesador la línea: `cropped_observation = observation[34:194, :, :]`"
      ],
      "metadata": {
        "id": "gynlkWTxoFcV"
      }
    },
    {
      "cell_type": "code",
      "execution_count": null,
      "metadata": {
        "id": "PofZgFA1OoJS"
      },
      "outputs": [],
      "source": [
        "from PIL import Image\n",
        "import numpy as np\n",
        "\n",
        "class AtariProcessor(Processor):\n",
        "    def process_observation(self, observation):\n",
        "        assert observation.ndim == 3  # (height, width, channel)\n",
        "\n",
        "        # 1. Recortar imagen (eliminar HUD, solo zona de juego)\n",
        "        # Gym Atari frames suelen ser 210x160x3, recortamos y=34:194\n",
        "        cropped_observation = observation[34:194, :, :]\n",
        "\n",
        "        # 2. Convertir a PIL, escala de grises, redimensionar\n",
        "        img = Image.fromarray(cropped_observation)\n",
        "        img = img.resize(INPUT_SHAPE).convert('L')  # INPUT_SHAPE usualmente (84, 84)\n",
        "\n",
        "        processed_observation = np.array(img)\n",
        "        assert processed_observation.shape == INPUT_SHAPE\n",
        "        return processed_observation.astype('uint8')\n",
        "\n",
        "    def process_state_batch(self, batch):\n",
        "        processed_batch = batch.astype('float32') / 255.\n",
        "        return processed_batch\n",
        "\n",
        "    def process_reward(self, reward):\n",
        "        return np.clip(reward, -1., 1.)"
      ]
    },
    {
      "cell_type": "code",
      "execution_count": null,
      "metadata": {
        "colab": {
          "base_uri": "https://localhost:8080/",
          "height": 428
        },
        "id": "zOvkptkyP1t6",
        "outputId": "aa52da7d-2a4a-4010-ed02-68663d952096"
      },
      "outputs": [
        {
          "output_type": "display_data",
          "data": {
            "text/plain": [
              "<Figure size 640x480 with 1 Axes>"
            ],
            "image/png": "[encoded data removed]"
          },
          "metadata": {}
        }
      ],
      "source": [
        "import matplotlib.pyplot as plt\n",
        "\n",
        "frame = env.reset()\n",
        "processed_frame = processor.process_observation(frame)\n",
        "\n",
        "plt.imshow(processed_frame, cmap='gray')\n",
        "plt.title(\"Processed Frame\")\n",
        "plt.axis('off')\n",
        "plt.show()"
      ]
    },
    {
      "cell_type": "markdown",
      "metadata": {
        "id": "tMxBpewG7GsH"
      },
      "source": [
        "Usamos un wrapper que termina el episodio al perder una vida, así reducimos la duración media de cada episodio, lo cual permite realizar más iteraciones de entrenamiento en menos tiempo real, donde el agente puede sobrevivir por largo tiempo en las vidas siguientes, incluso sin mejorar significativamente su política."
      ]
    },
    {
      "cell_type": "code",
      "execution_count": null,
      "metadata": {
        "id": "LXGZHQ4_8nVe"
      },
      "outputs": [],
      "source": [
        "import gym\n",
        "\n",
        "class LifeTerminatingWrapper(gym.Wrapper):\n",
        "    def __init__(self, env):\n",
        "        super().__init__(env)\n",
        "        self.lives = 0\n",
        "        self.was_real_done = True\n",
        "        self.steps_since_enemy_kill = 0  # Nuevo contador\n",
        "        self.consecutive_shots = 0\n",
        "\n",
        "    def step(self, action):\n",
        "        obs, reward, done, info = self.env.step(action)\n",
        "\n",
        "        # --- Terminar episodio si pierde una vida ---\n",
        "        lives = info.get('ale.lives', 0)\n",
        "        if self.lives > lives > 0:\n",
        "            done = True\n",
        "        self.lives = lives\n",
        "\n",
        "        return obs, reward, done, info\n",
        "\n",
        "    def reset(self, **kwargs):\n",
        "        if self.was_real_done:\n",
        "            obs = self.env.reset(**kwargs)\n",
        "        else:\n",
        "            obs, _, _, _ = self.env.step(0)\n",
        "        self.lives = self.env.unwrapped.ale.lives()\n",
        "        self.last_direction = None\n",
        "        self.direction_streak = 0\n",
        "        return obs"
      ]
    },
    {
      "cell_type": "code",
      "execution_count": null,
      "metadata": {
        "id": "mtOZyg8Wo2KR"
      },
      "outputs": [],
      "source": [
        "import os\n",
        "from gym.wrappers import Monitor\n",
        "\n",
        "checkpoint_dir = drive_root\n",
        "os.makedirs(checkpoint_dir, exist_ok=True)"
      ]
    },
    {
      "cell_type": "markdown",
      "source": [
        "También se ha implementado un callback que permite guardar checkpoints del modelo en intervalos regulares de pasos durante el entrenamiento, así como registrar las recompensas acumuladas al final de cada episodio"
      ],
      "metadata": {
        "id": "tshlDjfqdXsV"
      }
    },
    {
      "cell_type": "code",
      "execution_count": null,
      "metadata": {
        "id": "kYEJLlV0sQeK"
      },
      "outputs": [],
      "source": [
        "from rl.callbacks import Callback\n",
        "\n",
        "class SaveCheckpointCallback(Callback):\n",
        "    def __init__(self, interval, path_template, reward_log_path):\n",
        "        self.interval = interval\n",
        "        self.path_template = path_template\n",
        "        self.reward_log_path = reward_log_path\n",
        "        self.episode_rewards = []\n",
        "\n",
        "        # Crear carpeta para rewards si es necesario\n",
        "        if self.reward_log_path:\n",
        "            reward_dir = os.path.dirname(self.reward_log_path)\n",
        "            if reward_dir and not os.path.exists(reward_dir):\n",
        "                os.makedirs(reward_dir)\n",
        "                print(f\"📂 Carpeta creada: {reward_dir}\")\n",
        "\n",
        "    def on_step_end(self, step, logs={}):\n",
        "        if step % self.interval == 0:\n",
        "            filename = self.path_template.format(step=step)\n",
        "            print(f\"\\n💾 Guardando pesos en: {filename}\")\n",
        "            self.model.save_weights(filename, overwrite=True)\n",
        "\n",
        "\n",
        "    def on_episode_end(self, episode, logs={}):\n",
        "        reward = logs.get('episode_reward', 0)\n",
        "        self.episode_rewards.append(reward)\n",
        "        if self.reward_log_path:\n",
        "            np.save(self.reward_log_path, np.array(self.episode_rewards))"
      ]
    },
    {
      "cell_type": "code",
      "execution_count": null,
      "metadata": {
        "id": "Q-QmXS59pdPS"
      },
      "outputs": [],
      "source": [
        "memory = SequentialMemory(limit=330000, window_length=WINDOW_LENGTH)"
      ]
    },
    {
      "cell_type": "markdown",
      "source": [
        "Creamos el entorno de entrenamiento y se envuelve con LifeTerminatingWrapper"
      ],
      "metadata": {
        "id": "lSMixTgMudHk"
      }
    },
    {
      "cell_type": "code",
      "execution_count": null,
      "metadata": {
        "id": "RlCT0pUP6OXa"
      },
      "outputs": [],
      "source": [
        "env = gym.make(env_name)\n",
        "env = LifeTerminatingWrapper(env)"
      ]
    },
    {
      "cell_type": "markdown",
      "metadata": {
        "id": "MnGIkWsfUSHx"
      },
      "source": [
        "#### Entrenamiento parte 1"
      ]
    },
    {
      "cell_type": "markdown",
      "source": [
        "En este primer entrenamiento, se utiliza una política de exploración basada en ε-greedy con un esquema de disminución lineal del parámetro ε desde 1.0 hasta 0.1, lo cual permite al agente explorar ampliamente al inicio y luego reducir progresivamente la aleatoriedad en sus acciones. Esta disminución ocurre a lo largo de 300,000 pasos (nb_steps_annealing), de un total de 400,000 pasos de entrenamiento (nb_steps). Durante los últimos 100,000 pasos, el valor de ε se mantiene constante en 0.1, permitiendo una fase de ajuste fino con menor aleatoriedad. También es importante que el warmup no sea menor de 40,000 pasos, ya que durante esta fase el agente recopila suficientes experiencias en la memoria antes de comenzar a entrenar, lo cual es crucial para evitar aprender a partir de datos poco variados o no representativos.\n",
        "\n",
        "El agente se configura con un Double DQN `(enable_double_dqn=True)` para mitigar la sobreestimación de valores Q que ocurre en el DQN estándar, mejorando así la estabilidad del entrenamiento. La actualización del modelo objetivo se realiza cada 8500 pasos para mantener un equilibrio entre estabilidad y adaptabilidad: actualizaciones muy frecuentes pueden introducir ruido, mientras que actualizaciones muy espaciadas ralentizan el aprendizaje. Se utiliza clipping del error temporal con `delta_clip=1.0` para limitar la magnitud de las actualizaciones y evitar que errores grandes desestabilicen el entrenamiento. Finalmente, se emplea el optimizador Adam con una tasa de aprendizaje de 0.0001, ya que proporciona una convergencia eficiente, y un valor bajo de lr evita oscilaciones excesivas en las primeras fases del entrenamiento."
      ],
      "metadata": {
        "id": "kFzL6L7jv-DR"
      }
    },
    {
      "cell_type": "code",
      "execution_count": null,
      "metadata": {
        "id": "SRFy2z18UbZ2"
      },
      "outputs": [],
      "source": [
        "# Exploracion 1 a 0.1, # steps -> 400k\n",
        "nb_steps = 400000\n",
        "nb_steps_annealing = 300000\n",
        "nb_steps_warmup=40000\n",
        "\n",
        "policy = LinearAnnealedPolicy(EpsGreedyQPolicy(),\n",
        "                              attr='eps',\n",
        "                              value_max=1, #0.22 # 0.24 # 0.35\n",
        "                              value_min=0.1, # 0.08\n",
        "                              value_test=0.0,\n",
        "                              nb_steps=nb_steps_annealing)\n",
        "\n",
        "\n",
        "dqn = DQNAgent(model=model,\n",
        "               nb_actions=nb_actions,\n",
        "               policy=policy,\n",
        "               memory=memory,\n",
        "               processor=processor,\n",
        "               nb_steps_warmup=nb_steps_warmup, #30000\n",
        "               enable_double_dqn=True,\n",
        "               gamma=0.99, # 0.99\n",
        "               target_model_update=8500,\n",
        "               train_interval=4,\n",
        "               delta_clip=1.0) # si el loss no baja, probar bajarlo a 0.5\n",
        "\n",
        "dqn.compile(Adam(learning_rate=0.0001), metrics=['mae']) # antes 0.00025"
      ]
    },
    {
      "cell_type": "markdown",
      "source": [
        "Se define una ruta para guardar los checkpoints del modelo y otra para registrar las recompensas por episodio y procedemos a entrenar el agente"
      ],
      "metadata": {
        "id": "oPGmkkany-3w"
      }
    },
    {
      "cell_type": "code",
      "source": [
        "checkpoint_path = os.path.join(checkpoint_dir, 'cut/dqn_SpaceInvaders-v0_weights.h5f')\n",
        "reward_log_path = os.path.join(checkpoint_dir, 'logs/episode_rewards_cut.npy')\n",
        "\n",
        "checkpoint_callback = SaveCheckpointCallback(interval=10000, path_template=checkpoint_path, reward_log_path=reward_log_path)\n",
        "\n",
        "dqn.fit(env,\n",
        "        nb_steps=nb_steps,\n",
        "        visualize=False,\n",
        "        verbose=2,\n",
        "        callbacks=[checkpoint_callback])"
      ],
      "metadata": {
        "id": "i1V6iy0Xuw4k"
      },
      "execution_count": null,
      "outputs": []
    },
    {
      "cell_type": "markdown",
      "source": [
        "Podemos visualizar las recompensas acumuladas por episodio en el tiempo. Y vemos que desde el episodio 800 el agente mejora su rendimiento, obteniendo puntuaciones mayores (Se debe tener en cuenta que debido al wrapper del entorno, el agente está jugando con 1 sola vida, por lo que si quitamos el wrapper y el agente juega con las 3 vidas su rendimiento será mejor)"
      ],
      "metadata": {
        "id": "FsmhCfOIzgnt"
      }
    },
    {
      "cell_type": "code",
      "execution_count": null,
      "metadata": {
        "colab": {
          "base_uri": "https://localhost:8080/",
          "height": 472
        },
        "id": "2-B0Ju5PlaXA",
        "outputId": "31196e4c-d911-4d26-beb2-1f3b90305304"
      },
      "outputs": [
        {
          "output_type": "display_data",
          "data": {
            "text/plain": [
              "<Figure size 640x480 with 1 Axes>"
            ],
            "image/png": "[encoded data removed]"
          },
          "metadata": {}
        }
      ],
      "source": [
        "import matplotlib.pyplot as plt\n",
        "import numpy as np\n",
        "\n",
        "episode_rewards = np.load('logs/episode_rewards_cut.npy')\n",
        "\n",
        "plt.plot(episode_rewards)\n",
        "plt.xlabel('Episodio')\n",
        "plt.ylabel('Reward total')\n",
        "plt.title('Evolución del entrenamiento')\n",
        "plt.grid()\n",
        "plt.show()"
      ]
    },
    {
      "cell_type": "markdown",
      "source": [
        "Se guarda la `memory` del agente porque contiene trazas diversas acumuladas durante el entrenamiento, valiosas al haberse recolectado con un valor de ε que disminuye desde 1.0 a 0.1. Esta diversidad de transiciones permite retomar el entrenamiento en el futuro con una base rica y variada, lo cual contribuye a una mayor estabilidad en el aprendizaje."
      ],
      "metadata": {
        "id": "tVTpBXpF0RwB"
      }
    },
    {
      "cell_type": "code",
      "execution_count": null,
      "metadata": {
        "id": "IVznFIXzlcD5"
      },
      "outputs": [],
      "source": [
        "# Guardar\n",
        "import pickle\n",
        "\n",
        "# Suponiendo que `memory` es tu SequentialMemory\n",
        "with open('sequential_memory_cut.pkl', 'wb') as f:\n",
        "    pickle.dump(memory, f)"
      ]
    },
    {
      "cell_type": "markdown",
      "source": [
        "Para obtener el rendimiento promedio del agente, volvemos a definir el entorno, pero esta vez sin el wrapper que limita a una sola vida. De modo que probamos el agente en el entorno de juego original"
      ],
      "metadata": {
        "id": "nn-2thtw14Pv"
      }
    },
    {
      "cell_type": "code",
      "execution_count": null,
      "metadata": {
        "id": "E2gp5LHiAYef"
      },
      "outputs": [],
      "source": [
        "env = gym.make(env_name)"
      ]
    },
    {
      "cell_type": "markdown",
      "source": [
        "Probamos por 50 episodios para obtener una buena medida del rendimiento promedio"
      ],
      "metadata": {
        "id": "eCSdwF9b2s8p"
      }
    },
    {
      "cell_type": "code",
      "execution_count": null,
      "metadata": {
        "colab": {
          "base_uri": "https://localhost:8080/"
        },
        "id": "IDHkowdllubK",
        "outputId": "59345d92-c7a4-462b-c7a7-9942b05c1180"
      },
      "outputs": [
        {
          "output_type": "stream",
          "name": "stdout",
          "text": [
            "Testing for 50 episodes ...\n",
            "Episode 1: reward: 13.000, steps: 677\n",
            "Episode 2: reward: 25.000, steps: 925\n",
            "Episode 3: reward: 12.000, steps: 495\n",
            "Episode 4: reward: 24.000, steps: 1296\n",
            "Episode 5: reward: 17.000, steps: 1028\n",
            "Episode 6: reward: 10.000, steps: 531\n",
            "Episode 7: reward: 15.000, steps: 626\n",
            "Episode 8: reward: 15.000, steps: 914\n",
            "Episode 9: reward: 10.000, steps: 486\n",
            "Episode 10: reward: 14.000, steps: 953\n",
            "Episode 11: reward: 11.000, steps: 602\n",
            "Episode 12: reward: 26.000, steps: 1287\n",
            "Episode 13: reward: 14.000, steps: 956\n",
            "Episode 14: reward: 20.000, steps: 944\n",
            "Episode 15: reward: 12.000, steps: 663\n",
            "Episode 16: reward: 17.000, steps: 1266\n",
            "Episode 17: reward: 26.000, steps: 1752\n",
            "Episode 18: reward: 15.000, steps: 1296\n",
            "Episode 19: reward: 7.000, steps: 413\n",
            "Episode 20: reward: 16.000, steps: 838\n",
            "Episode 21: reward: 13.000, steps: 731\n",
            "Episode 22: reward: 10.000, steps: 596\n",
            "Episode 23: reward: 14.000, steps: 951\n",
            "Episode 24: reward: 11.000, steps: 601\n",
            "Episode 25: reward: 13.000, steps: 671\n",
            "Episode 26: reward: 28.000, steps: 1046\n",
            "Episode 27: reward: 10.000, steps: 563\n",
            "Episode 28: reward: 24.000, steps: 945\n",
            "Episode 29: reward: 20.000, steps: 945\n",
            "Episode 30: reward: 12.000, steps: 1012\n",
            "Episode 31: reward: 17.000, steps: 1088\n",
            "Episode 32: reward: 11.000, steps: 686\n",
            "Episode 33: reward: 22.000, steps: 858\n",
            "Episode 34: reward: 16.000, steps: 1318\n",
            "Episode 35: reward: 23.000, steps: 1166\n",
            "Episode 36: reward: 13.000, steps: 842\n",
            "Episode 37: reward: 10.000, steps: 628\n",
            "Episode 38: reward: 10.000, steps: 543\n",
            "Episode 39: reward: 22.000, steps: 1374\n",
            "Episode 40: reward: 22.000, steps: 879\n",
            "Episode 41: reward: 23.000, steps: 1325\n",
            "Episode 42: reward: 16.000, steps: 894\n",
            "Episode 43: reward: 11.000, steps: 515\n",
            "Episode 44: reward: 10.000, steps: 955\n",
            "Episode 45: reward: 15.000, steps: 710\n",
            "Episode 46: reward: 27.000, steps: 1241\n",
            "Episode 47: reward: 10.000, steps: 614\n",
            "Episode 48: reward: 24.000, steps: 996\n",
            "Episode 49: reward: 23.000, steps: 1068\n",
            "Episode 50: reward: 11.000, steps: 677\n"
          ]
        }
      ],
      "source": [
        "# Testing part to calculate the mean reward\n",
        "weights_filename = checkpoint_dir + '/cut/dqn_{}_weights.h5f'.format(env_name)\n",
        "dqn.load_weights(weights_filename)\n",
        "env = Monitor(env, './video', force=True)\n",
        "history = dqn.test(env, nb_episodes=50, visualize=False)"
      ]
    },
    {
      "cell_type": "markdown",
      "source": [
        "El rendimiento promedio es de 16.2, por lo que volveremos a entrenar el agente pero partiendo de estos pesos que ya han logrado una mejora en el rendimiento"
      ],
      "metadata": {
        "id": "CR6GU3kS2_Y1"
      }
    },
    {
      "cell_type": "code",
      "execution_count": null,
      "metadata": {
        "colab": {
          "base_uri": "https://localhost:8080/"
        },
        "id": "sKO5uy6Ll2MZ",
        "outputId": "9d658fef-c39f-4d2f-9aef-22cacece8eb9"
      },
      "outputs": [
        {
          "output_type": "stream",
          "name": "stdout",
          "text": [
            "Recompensa promedio: 16.2\n"
          ]
        }
      ],
      "source": [
        "# Access episode rewards\n",
        "episode_rewards = history.history['episode_reward']\n",
        "\n",
        "# Calcular el promedio\n",
        "promedio = np.mean(episode_rewards)\n",
        "\n",
        "print(f\"Recompensa promedio: {promedio}\")"
      ]
    },
    {
      "cell_type": "markdown",
      "source": [
        "#### Entrenamiento parte 2"
      ],
      "metadata": {
        "id": "BNZom_vaHyEy"
      }
    },
    {
      "cell_type": "markdown",
      "source": [
        "Volvemos a ejecutar el wrapper que hace que el agente juegue una sola vida"
      ],
      "metadata": {
        "id": "gxFEhwyLbdRl"
      }
    },
    {
      "cell_type": "code",
      "source": [
        "env = gym.make(env_name)\n",
        "env = LifeTerminatingWrapper(env)"
      ],
      "metadata": {
        "id": "saHuuPGS6lrp"
      },
      "execution_count": null,
      "outputs": []
    },
    {
      "cell_type": "markdown",
      "source": [
        "Ahora realizamos un entrenamiento con una menor cantidad de pasos que antes, esto debido a que ya no haremos el entrenamiento del agente desde cero sino con del agente que ya aprendió una estrategia. Además, se escogió iniciar el entrenamiento con un valor de ε relativamente alto (0.4) para fomentar la exploración y evitar que el agente se estanque en una política subóptima, ya que estamos continuando el entrenamiento previo"
      ],
      "metadata": {
        "id": "kgGvEXJCbn7N"
      }
    },
    {
      "cell_type": "code",
      "source": [
        "# Exploracion 1 a 0.1, # steps -> 400k\n",
        "nb_steps = 200000\n",
        "nb_steps_annealing = 180000\n",
        "nb_steps_warmup=40000\n",
        "\n",
        "policy = LinearAnnealedPolicy(EpsGreedyQPolicy(),\n",
        "                              attr='eps',\n",
        "                              value_max=0.4, #0.22 # 0.24 # 0.35\n",
        "                              value_min=0.1, # 0.08\n",
        "                              value_test=0.0,\n",
        "                              nb_steps=nb_steps_annealing)\n",
        "\n",
        "\n",
        "dqn = DQNAgent(model=model,\n",
        "               nb_actions=nb_actions,\n",
        "               policy=policy,\n",
        "               memory=memory,\n",
        "               processor=processor,\n",
        "               nb_steps_warmup=nb_steps_warmup, #30000\n",
        "               enable_double_dqn=True,\n",
        "               gamma=0.99, # 0.99\n",
        "               target_model_update=8500,\n",
        "               train_interval=4,\n",
        "               delta_clip=1.0) # si el loss no baja, probar bajarlo a 0.5\n",
        "\n",
        "dqn.compile(Adam(learning_rate=0.0001), metrics=['mae']) # antes 0.00025"
      ],
      "metadata": {
        "id": "w8kxvvvmHXrQ"
      },
      "execution_count": null,
      "outputs": []
    },
    {
      "cell_type": "markdown",
      "source": [
        "Cargamos los pesos anteriores"
      ],
      "metadata": {
        "id": "jfnHvFese3WW"
      }
    },
    {
      "cell_type": "code",
      "source": [
        "weights_filename = checkpoint_dir + '/cut/dqn_{}_weights.h5f'.format(env_name)\n",
        "dqn.load_weights(weights_filename)"
      ],
      "metadata": {
        "id": "1yxP_Xp5KWsQ"
      },
      "execution_count": null,
      "outputs": []
    },
    {
      "cell_type": "markdown",
      "source": [
        "Y entrenamos"
      ],
      "metadata": {
        "id": "WsxrzjM-e7z1"
      }
    },
    {
      "cell_type": "code",
      "source": [
        "checkpoint_path = os.path.join(checkpoint_dir, 'cutv3/dqn_SpaceInvaders-v0_weights.h5f')\n",
        "reward_log_path = os.path.join(checkpoint_dir, 'logs/episode_rewards_cutv3.npy')\n",
        "\n",
        "checkpoint_callback = SaveCheckpointCallback(interval=10000, path_template=checkpoint_path, reward_log_path=reward_log_path)\n",
        "\n",
        "dqn.fit(env,\n",
        "        nb_steps=nb_steps,\n",
        "        visualize=False,\n",
        "        verbose=2,\n",
        "        callbacks=[checkpoint_callback])"
      ],
      "metadata": {
        "id": "ined2vgKe8nU"
      },
      "execution_count": null,
      "outputs": []
    },
    {
      "cell_type": "markdown",
      "source": [
        "Podemos ver que al final se produce una mejora"
      ],
      "metadata": {
        "id": "suYcKdqRfEoP"
      }
    },
    {
      "cell_type": "code",
      "source": [
        "import matplotlib.pyplot as plt\n",
        "import numpy as np\n",
        "\n",
        "episode_rewards = np.load('logs/episode_rewards_cutv3.npy')\n",
        "\n",
        "plt.plot(episode_rewards)\n",
        "plt.xlabel('Episodio')\n",
        "plt.ylabel('Reward total')\n",
        "plt.title('Evolución del entrenamiento')\n",
        "plt.grid()\n",
        "plt.show()"
      ],
      "metadata": {
        "id": "c4HweY_0J43Y",
        "colab": {
          "base_uri": "https://localhost:8080/",
          "height": 472
        },
        "outputId": "0cbd6e89-2376-4aa5-83ec-42c76361deaf"
      },
      "execution_count": null,
      "outputs": [
        {
          "output_type": "display_data",
          "data": {
            "text/plain": [
              "<Figure size 640x480 with 1 Axes>"
            ],
            "image/png": "[encoded data removed]"
          },
          "metadata": {}
        }
      ]
    },
    {
      "cell_type": "code",
      "source": [
        "# Guardar\n",
        "import pickle\n",
        "\n",
        "# Suponiendo que `memory` es tu SequentialMemory\n",
        "with open('sequential_memory_cutv3.pkl', 'wb') as f:\n",
        "    pickle.dump(memory, f)"
      ],
      "metadata": {
        "id": "kyRS7sbTJ5ZN"
      },
      "execution_count": null,
      "outputs": []
    },
    {
      "cell_type": "markdown",
      "source": [
        "Volvemos a establecer el entorno original de Atari para realizar el test"
      ],
      "metadata": {
        "id": "QGMQ7_0WfPDG"
      }
    },
    {
      "cell_type": "code",
      "source": [
        "env = gym.make(env_name)"
      ],
      "metadata": {
        "id": "1A_ClTrEKEfD"
      },
      "execution_count": null,
      "outputs": []
    },
    {
      "cell_type": "code",
      "source": [
        "# Testing part to calculate the mean reward\n",
        "weights_filename = checkpoint_dir + '/cutv3/dqn_{}_weights.h5f'.format(env_name)\n",
        "dqn.load_weights(weights_filename)\n",
        "env = Monitor(env, './video', force=True)\n",
        "history = dqn.test(env, nb_episodes=50, visualize=False)"
      ],
      "metadata": {
        "id": "OcA3Ee1uKKHF",
        "colab": {
          "base_uri": "https://localhost:8080/"
        },
        "outputId": "50155d46-6f55-4aef-8547-1ad57726887d"
      },
      "execution_count": null,
      "outputs": [
        {
          "output_type": "stream",
          "name": "stdout",
          "text": [
            "Testing for 50 episodes ...\n"
          ]
        },
        {
          "output_type": "stream",
          "name": "stderr",
          "text": [
            "/usr/local/lib/python3.11/dist-packages/keras/engine/training_v1.py:2359: UserWarning: `Model.state_updates` will be removed in a future version. This property should not be used in TensorFlow 2.0, as `updates` are applied automatically.\n",
            "  updates=self.state_updates,\n"
          ]
        },
        {
          "output_type": "stream",
          "name": "stdout",
          "text": [
            "Episode 1: reward: 22.000, steps: 1257\n",
            "Episode 2: reward: 24.000, steps: 962\n",
            "Episode 3: reward: 28.000, steps: 1093\n",
            "Episode 4: reward: 9.000, steps: 526\n",
            "Episode 5: reward: 17.000, steps: 851\n",
            "Episode 6: reward: 17.000, steps: 742\n",
            "Episode 7: reward: 24.000, steps: 1057\n",
            "Episode 8: reward: 18.000, steps: 1136\n",
            "Episode 9: reward: 14.000, steps: 643\n",
            "Episode 10: reward: 21.000, steps: 887\n",
            "Episode 11: reward: 25.000, steps: 1033\n",
            "Episode 12: reward: 28.000, steps: 1248\n",
            "Episode 13: reward: 19.000, steps: 851\n",
            "Episode 14: reward: 27.000, steps: 1230\n",
            "Episode 15: reward: 13.000, steps: 729\n",
            "Episode 16: reward: 23.000, steps: 1114\n",
            "Episode 17: reward: 12.000, steps: 695\n",
            "Episode 18: reward: 10.000, steps: 558\n",
            "Episode 19: reward: 21.000, steps: 951\n",
            "Episode 20: reward: 31.000, steps: 1811\n",
            "Episode 21: reward: 14.000, steps: 663\n",
            "Episode 22: reward: 13.000, steps: 1135\n",
            "Episode 23: reward: 15.000, steps: 655\n",
            "Episode 24: reward: 26.000, steps: 1256\n",
            "Episode 25: reward: 24.000, steps: 858\n",
            "Episode 26: reward: 16.000, steps: 943\n",
            "Episode 27: reward: 22.000, steps: 890\n",
            "Episode 28: reward: 19.000, steps: 815\n",
            "Episode 29: reward: 10.000, steps: 760\n",
            "Episode 30: reward: 16.000, steps: 968\n",
            "Episode 31: reward: 15.000, steps: 848\n",
            "Episode 32: reward: 13.000, steps: 734\n",
            "Episode 33: reward: 20.000, steps: 869\n",
            "Episode 34: reward: 12.000, steps: 544\n",
            "Episode 35: reward: 22.000, steps: 919\n",
            "Episode 36: reward: 12.000, steps: 699\n",
            "Episode 37: reward: 31.000, steps: 1467\n",
            "Episode 38: reward: 29.000, steps: 1442\n",
            "Episode 39: reward: 10.000, steps: 521\n",
            "Episode 40: reward: 12.000, steps: 642\n",
            "Episode 41: reward: 22.000, steps: 855\n",
            "Episode 42: reward: 24.000, steps: 1012\n",
            "Episode 43: reward: 19.000, steps: 1271\n",
            "Episode 44: reward: 24.000, steps: 911\n",
            "Episode 45: reward: 18.000, steps: 899\n",
            "Episode 46: reward: 28.000, steps: 1503\n",
            "Episode 47: reward: 20.000, steps: 918\n",
            "Episode 48: reward: 21.000, steps: 870\n",
            "Episode 49: reward: 22.000, steps: 1162\n",
            "Episode 50: reward: 15.000, steps: 793\n"
          ]
        }
      ]
    },
    {
      "cell_type": "markdown",
      "source": [
        "Vemos que se obtiene un 19.34 de promedio tras 50 juegos, muy cerca del objetivo de promedio 20"
      ],
      "metadata": {
        "id": "mGMCg7iMfXL0"
      }
    },
    {
      "cell_type": "code",
      "source": [
        "# Access episode rewards\n",
        "episode_rewards = history.history['episode_reward']\n",
        "\n",
        "# Calcular el promedio\n",
        "promedio = np.mean(episode_rewards)\n",
        "\n",
        "print(f\"Recompensa promedio: {promedio}\")"
      ],
      "metadata": {
        "id": "WjJks1wzLFTV",
        "colab": {
          "base_uri": "https://localhost:8080/"
        },
        "outputId": "54c3b19b-d178-4530-ba07-4b6eeae58e0a"
      },
      "execution_count": null,
      "outputs": [
        {
          "output_type": "stream",
          "name": "stdout",
          "text": [
            "Recompensa promedio: 19.34\n"
          ]
        }
      ]
    },
    {
      "cell_type": "markdown",
      "source": [
        "#### Entrenamiento parte 3"
      ],
      "metadata": {
        "id": "E41TMUkd2qLS"
      }
    },
    {
      "cell_type": "code",
      "source": [
        "memory = SequentialMemory(limit=330000, window_length=WINDOW_LENGTH)"
      ],
      "metadata": {
        "id": "qHZDIkm-ven-"
      },
      "execution_count": null,
      "outputs": []
    },
    {
      "cell_type": "markdown",
      "source": [
        "Con el objetivo de realizar un ajuste fino final, se cargan las trazas generadas durante el entrenamiento previo, lo que permite contar con una memoria de experiencias más diversa. Esta diversidad contribuye a un entrenamiento más estable, el cual es clave en esta fase donde se busca refinar la estrategia sin introducir inestabilidad en el aprendizaje.\n"
      ],
      "metadata": {
        "id": "x2z6i9nNudZn"
      }
    },
    {
      "cell_type": "code",
      "source": [
        "# Cargar\n",
        "import pickle\n",
        "\n",
        "with open('sequential_memory_cut.pkl', 'rb') as f:\n",
        "    memory = pickle.load(f)"
      ],
      "metadata": {
        "id": "qw53To9h3FkZ"
      },
      "execution_count": null,
      "outputs": []
    },
    {
      "cell_type": "markdown",
      "source": [
        "Configuramos el wrapper para que el episodio termine tras una sola vida"
      ],
      "metadata": {
        "id": "oTMhWYzeuVdy"
      }
    },
    {
      "cell_type": "code",
      "source": [
        "env = gym.make(env_name)\n",
        "env = LifeTerminatingWrapper(env)"
      ],
      "metadata": {
        "id": "sUq0AYiC6Uhd"
      },
      "execution_count": null,
      "outputs": []
    },
    {
      "cell_type": "markdown",
      "source": [
        "Y realizamos el ajuste fino con un epsilon que va desde 0.1 hasta 0.08 en 50,000 pasos"
      ],
      "metadata": {
        "id": "Sd8T85sey1qU"
      }
    },
    {
      "cell_type": "code",
      "source": [
        "nb_steps = 50000\n",
        "nb_steps_annealing = 50000\n",
        "nb_steps_warmup=0\n",
        "\n",
        "policy = LinearAnnealedPolicy(EpsGreedyQPolicy(),\n",
        "                              attr='eps',\n",
        "                              value_max=0.1, #0.22 # 0.24 # 0.35\n",
        "                              value_min=0.08, # 0.08\n",
        "                              value_test=0.0,\n",
        "                              nb_steps=nb_steps_annealing)\n",
        "\n",
        "\n",
        "dqn = DQNAgent(model=model,\n",
        "               nb_actions=nb_actions,\n",
        "               policy=policy,\n",
        "               memory=memory,\n",
        "               processor=processor,\n",
        "               nb_steps_warmup=nb_steps_warmup, #30000\n",
        "               enable_double_dqn=True,\n",
        "               gamma=0.99, # 0.99\n",
        "               target_model_update=8500,\n",
        "               train_interval=4,\n",
        "               delta_clip=1.0) # si el loss no baja, probar bajarlo a 0.5\n",
        "\n",
        "dqn.compile(Adam(learning_rate=0.0001), metrics=['mae']) # antes 0.00025"
      ],
      "metadata": {
        "id": "F0iL00662lIZ"
      },
      "execution_count": null,
      "outputs": []
    },
    {
      "cell_type": "markdown",
      "source": [
        "Cargamos los pesos del modelo que ya teniamos y volvemos a entrenar"
      ],
      "metadata": {
        "id": "WHJXxUj31mlz"
      }
    },
    {
      "cell_type": "code",
      "source": [
        "weights_filename = checkpoint_dir + '/cutv3/dqn_{}_weights.h5f'.format(env_name)\n",
        "dqn.load_weights(weights_filename)"
      ],
      "metadata": {
        "id": "UAjEKxUp4_HE"
      },
      "execution_count": null,
      "outputs": []
    },
    {
      "cell_type": "code",
      "source": [
        "checkpoint_path = os.path.join(checkpoint_dir, 'cutv4/dqn_SpaceInvaders-v0_weights.h5f')\n",
        "reward_log_path = os.path.join(checkpoint_dir, 'logs/episode_rewards_cutv4.npy')\n",
        "\n",
        "checkpoint_callback = SaveCheckpointCallback(interval=10000, path_template=checkpoint_path, reward_log_path=reward_log_path)\n",
        "\n",
        "dqn.fit(env,\n",
        "        nb_steps=nb_steps,\n",
        "        visualize=False,\n",
        "        verbose=2,\n",
        "        callbacks=[checkpoint_callback])"
      ],
      "metadata": {
        "id": "xEoY3z8rtDQv"
      },
      "execution_count": null,
      "outputs": []
    },
    {
      "cell_type": "code",
      "source": [
        "import matplotlib.pyplot as plt\n",
        "import numpy as np\n",
        "\n",
        "episode_rewards = np.load('logs/episode_rewards_cutv4.npy')\n",
        "\n",
        "plt.plot(episode_rewards)\n",
        "plt.xlabel('Episodio')\n",
        "plt.ylabel('Reward total')\n",
        "plt.title('Evolución del entrenamiento')\n",
        "plt.grid()\n",
        "plt.show()"
      ],
      "metadata": {
        "colab": {
          "base_uri": "https://localhost:8080/",
          "height": 472
        },
        "id": "A4VAada952zV",
        "outputId": "362308ed-2953-43b1-a15d-3d774ab90ee8"
      },
      "execution_count": null,
      "outputs": [
        {
          "output_type": "display_data",
          "data": {
            "text/plain": [
              "<Figure size 640x480 with 1 Axes>"
            ],
            "image/png": "[encoded data removed]"
          },
          "metadata": {}
        }
      ]
    },
    {
      "cell_type": "code",
      "source": [
        "# Guardar\n",
        "import pickle\n",
        "\n",
        "# Suponiendo que `memory` es tu SequentialMemory\n",
        "with open('sequential_memory_cutv4.pkl', 'wb') as f:\n",
        "    pickle.dump(memory, f)"
      ],
      "metadata": {
        "id": "RznMlTMO56-s"
      },
      "execution_count": null,
      "outputs": []
    },
    {
      "cell_type": "markdown",
      "source": [
        "Volvemos a definir el entorno original"
      ],
      "metadata": {
        "id": "kmf_-ME53Fhh"
      }
    },
    {
      "cell_type": "code",
      "source": [
        "env = gym.make(env_name)"
      ],
      "metadata": {
        "id": "kESpyuoj6DMO"
      },
      "execution_count": null,
      "outputs": []
    },
    {
      "cell_type": "markdown",
      "source": [
        "Test"
      ],
      "metadata": {
        "id": "Z30LtwUR-ooH"
      }
    },
    {
      "cell_type": "code",
      "source": [
        "# Testing part to calculate the mean reward 02\n",
        "weights_filename = checkpoint_dir + '/cutv4/dqn_{}_weights.h5f'.format(env_name)\n",
        "dqn.load_weights(weights_filename)\n",
        "env = Monitor(env, './video', force=True)\n",
        "history = dqn.test(env, nb_episodes=50, visualize=False)"
      ],
      "metadata": {
        "colab": {
          "base_uri": "https://localhost:8080/"
        },
        "id": "s5P6kIxSAhvO",
        "outputId": "1a2f1fe5-472a-4369-c36b-bc7176993142"
      },
      "execution_count": null,
      "outputs": [
        {
          "output_type": "stream",
          "name": "stdout",
          "text": [
            "Testing for 50 episodes ...\n",
            "Episode 1: reward: 35.000, steps: 1809\n",
            "Episode 2: reward: 17.000, steps: 837\n",
            "Episode 3: reward: 21.000, steps: 800\n",
            "Episode 4: reward: 27.000, steps: 1133\n",
            "Episode 5: reward: 22.000, steps: 942\n",
            "Episode 6: reward: 19.000, steps: 1104\n",
            "Episode 7: reward: 22.000, steps: 1542\n",
            "Episode 8: reward: 29.000, steps: 1409\n",
            "Episode 9: reward: 20.000, steps: 992\n",
            "Episode 10: reward: 16.000, steps: 711\n",
            "Episode 11: reward: 34.000, steps: 1463\n",
            "Episode 12: reward: 16.000, steps: 870\n",
            "Episode 13: reward: 19.000, steps: 692\n",
            "Episode 14: reward: 23.000, steps: 1057\n",
            "Episode 15: reward: 21.000, steps: 1054\n",
            "Episode 16: reward: 20.000, steps: 663\n",
            "Episode 17: reward: 12.000, steps: 538\n",
            "Episode 18: reward: 22.000, steps: 917\n",
            "Episode 19: reward: 22.000, steps: 1084\n",
            "Episode 20: reward: 22.000, steps: 1010\n",
            "Episode 21: reward: 10.000, steps: 675\n",
            "Episode 22: reward: 11.000, steps: 643\n",
            "Episode 23: reward: 15.000, steps: 690\n",
            "Episode 24: reward: 20.000, steps: 1347\n",
            "Episode 25: reward: 27.000, steps: 995\n",
            "Episode 26: reward: 10.000, steps: 489\n",
            "Episode 27: reward: 22.000, steps: 900\n",
            "Episode 28: reward: 20.000, steps: 880\n",
            "Episode 29: reward: 27.000, steps: 1108\n",
            "Episode 30: reward: 25.000, steps: 976\n",
            "Episode 31: reward: 20.000, steps: 921\n",
            "Episode 32: reward: 16.000, steps: 704\n",
            "Episode 33: reward: 20.000, steps: 750\n",
            "Episode 34: reward: 13.000, steps: 737\n",
            "Episode 35: reward: 17.000, steps: 1278\n",
            "Episode 36: reward: 34.000, steps: 1926\n",
            "Episode 37: reward: 10.000, steps: 484\n",
            "Episode 38: reward: 19.000, steps: 883\n",
            "Episode 39: reward: 22.000, steps: 926\n",
            "Episode 40: reward: 15.000, steps: 659\n",
            "Episode 41: reward: 27.000, steps: 1110\n",
            "Episode 42: reward: 14.000, steps: 1488\n",
            "Episode 43: reward: 25.000, steps: 1309\n",
            "Episode 44: reward: 21.000, steps: 845\n",
            "Episode 45: reward: 26.000, steps: 1106\n",
            "Episode 46: reward: 26.000, steps: 1234\n",
            "Episode 47: reward: 10.000, steps: 753\n",
            "Episode 48: reward: 24.000, steps: 1158\n",
            "Episode 49: reward: 11.000, steps: 637\n",
            "Episode 50: reward: 29.000, steps: 1568\n"
          ]
        }
      ]
    },
    {
      "cell_type": "markdown",
      "source": [
        "Y finalmente hemos alcanzado el promedio superior a 20"
      ],
      "metadata": {
        "id": "yec4IyFi3VTj"
      }
    },
    {
      "cell_type": "code",
      "source": [
        "# Access episode rewards\n",
        "episode_rewards = history.history['episode_reward']\n",
        "\n",
        "# Calcular el promedio\n",
        "promedio = np.mean(episode_rewards)\n",
        "\n",
        "print(f\"Recompensa promedio: {promedio}\")"
      ],
      "metadata": {
        "colab": {
          "base_uri": "https://localhost:8080/"
        },
        "id": "JpQ0GzCjAriG",
        "outputId": "f0301258-2c21-4973-ddfa-a73e694340a1"
      },
      "execution_count": null,
      "outputs": [
        {
          "output_type": "stream",
          "name": "stdout",
          "text": [
            "Recompensa promedio: 20.5\n"
          ]
        }
      ]
    },
    {
      "cell_type": "markdown",
      "source": [
        "### Código Edward (Después cambiamos el nombre de esta sección)"
      ],
      "metadata": {
        "id": "R2cKxphGu4_u"
      }
    },
    {
      "cell_type": "markdown",
      "source": [
        "### Código Luis (Después cambiamos el nombre de esta sección)"
      ],
      "metadata": {
        "id": "P_LoDa_fvHlS"
      }
    },
    {
      "cell_type": "markdown",
      "source": [
        "### Código Carlos (Después cambiamos el nombre de esta sección)"
      ],
      "metadata": {
        "id": "lIClkG0tvIPa"
      }
    },
    {
      "cell_type": "markdown",
      "metadata": {
        "id": "-NAlu8b1Gb2b"
      },
      "source": [
        "## 3. Justificación de los parámetros seleccionados y de los resultados obtenidos"
      ]
    },
    {
      "cell_type": "markdown",
      "source": [
        "### Eduardo"
      ],
      "metadata": {
        "id": "VZgTa3gCvjJp"
      }
    },
    {
      "cell_type": "markdown",
      "source": [
        "### Edward"
      ],
      "metadata": {
        "id": "u-kRWJD6voEI"
      }
    },
    {
      "cell_type": "markdown",
      "source": [
        "### Luis"
      ],
      "metadata": {
        "id": "TsfWcIlfvqMR"
      }
    },
    {
      "cell_type": "markdown",
      "source": [
        "### Carlos"
      ],
      "metadata": {
        "id": "5MzLdSpevsRX"
      }
    },
    {
      "cell_type": "markdown",
      "metadata": {
        "id": "ANFQiicXK3sO"
      },
      "source": [
        "---"
      ]
    }
  ],
  "metadata": {
    "colab": {
      "provenance": [],
      "toc_visible": true,
      "include_colab_link": true
    },
    "kernelspec": {
      "display_name": "Python 3",
      "name": "python3"
    },
    "language_info": {
      "codemirror_mode": {
        "name": "ipython",
        "version": 3
      },
      "file_extension": ".py",
      "mimetype": "text/x-python",
      "name": "python",
      "nbconvert_exporter": "python",
      "pygments_lexer": "ipython3",
      "version": "3.7.9"
    }
  },
  "nbformat": 4,
  "nbformat_minor": 0
}