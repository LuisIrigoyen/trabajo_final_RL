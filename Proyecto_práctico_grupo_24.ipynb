{
  "cells": [
    {
      "cell_type": "markdown",
      "metadata": {
        "id": "view-in-github",
        "colab_type": "text"
      },
      "source": [
        "<a href=\"https://colab.research.google.com/github/LuisIrigoyen/trabajo_final_RL/blob/main/Proyecto_pra%CC%81ctico_grupo_24.ipynb\" target=\"_parent\"><img src=\"https://colab.research.google.com/assets/colab-badge.svg\" alt=\"Open In Colab\"/></a>"
      ]
    },
    {
      "cell_type": "markdown",
      "metadata": {
        "id": "jUehXgCyIRdq"
      },
      "source": [
        "# Actividad - Proyecto práctico\n",
        "\n",
        "\n",
        "> La actividad se desarrollará en grupos pre-definidos de 4 alumnos. Se debe indicar los nombres en orden alfabético (de apellidos). Recordad que esta actividad se corresponde con un 30% de la nota final de la asignatura. Se debe entregar entregar el trabajo en la presente notebook.\n",
        "*   Alumno 1: Eduardo Antonio Ayora Ochoa\n",
        "*   Alumno 2: Edward José Flores Masias\n",
        "*   Alumno 3: Luis Irigoyen Peña\n",
        "*   Alumno 4: Carlos Jesús Fernando Kong Ramos\n",
        "\n",
        "\n",
        "\n",
        "\n"
      ]
    },
    {
      "cell_type": "markdown",
      "source": [
        "**GitHub del proyecto:** https://github.com/LuisIrigoyen/trabajo_final_RL"
      ],
      "metadata": {
        "id": "W__zjo2Y9Odd"
      }
    },
    {
      "cell_type": "markdown",
      "metadata": {
        "id": "JwpYlnjWJhS9"
      },
      "source": [
        "---\n",
        "## **PARTE 1** - Instalación y requisitos previos\n",
        "\n",
        "> Las prácticas han sido preparadas para poder realizarse en el entorno de trabajo de Google Colab. Sin embargo, esta plataforma presenta ciertas incompatibilidades a la hora de visualizar la renderización en gym. Por ello, para obtener estas visualizaciones, se deberá trasladar el entorno de trabajo a local. Por ello, el presente dosier presenta instrucciones para poder trabajar en ambos entornos. Siga los siguientes pasos para un correcto funcionamiento:\n",
        "1.   **LOCAL:** Preparar el enviroment, siguiendo las intrucciones detalladas en la sección *1.1.Preparar enviroment*.\n",
        "2.  **AMBOS:** Modificar las variables \"mount\" y \"drive_mount\" a la carpeta de trabajo en drive en el caso de estar en Colab, y ejecturar la celda *1.2.Localizar entorno de trabajo*.\n",
        "3. **COLAB:** se deberá ejecutar las celdas correspondientes al montaje de la carpeta de trabajo en Drive. Esta corresponde a la sección *1.3.Montar carpeta de datos local*.\n",
        "4.  **AMBOS:** Instalar las librerías necesarias, siguiendo la sección *1.4.Instalar librerías necesarias*.\n"
      ]
    },
    {
      "cell_type": "markdown",
      "metadata": {
        "id": "RU2BPrK2JkP0"
      },
      "source": [
        "---\n",
        "### 1.1. Preparar enviroment (solo local)\n",
        "\n",
        "\n",
        "\n",
        "> Para preparar el entorno de trabajo en local, se han seguido los siguientes pasos:\n",
        "1. En Windows, puede ser necesario instalar las C++ Build Tools. Para ello, siga los siguientes pasos: https://towardsdatascience.com/how-to-install-openai-gym-in-a-windows-environment-338969e24d30.\n",
        "2. Instalar Anaconda\n",
        "3. Siguiendo el código que se presenta comentado en la próxima celda: Crear un enviroment, cambiar la ruta de trabajo, e instalar librerías básicas.\n",
        "\n",
        "\n",
        "```\n",
        "conda create --name miar_rl python=3.8\n",
        "conda activate miar_rl\n",
        "cd \"PATH_TO_FOLDER\"\n",
        "conda install git\n",
        "pip install jupyter\n",
        "```\n",
        "\n",
        "\n",
        "4. Abrir la notebook con *jupyter-notebook*.\n",
        "\n",
        "\n",
        "\n",
        "```\n",
        "jupyter-notebook\n",
        "```\n"
      ]
    },
    {
      "cell_type": "markdown",
      "metadata": {
        "id": "w-kixNPiJqTc"
      },
      "source": [
        "---\n",
        "### 1.2. Localizar entorno de trabajo: Google colab o local"
      ]
    },
    {
      "cell_type": "code",
      "execution_count": null,
      "metadata": {
        "id": "S_YDFwZ-JscI"
      },
      "outputs": [],
      "source": [
        "# ATENCIÓN!! Modificar ruta relativa a la práctica si es distinta (drive_root)\n",
        "mount='/content/gdrive'\n",
        "drive_root = mount + \"/MyDrive/dqn_spaceinvaders_checkpoints\"\n",
        "try:\n",
        "  from google.colab import drive\n",
        "  IN_COLAB=True\n",
        "except:\n",
        "  IN_COLAB=False"
      ]
    },
    {
      "cell_type": "markdown",
      "metadata": {
        "id": "8Dp_a1iBJ0tf"
      },
      "source": [
        "---\n",
        "### 1.3. Montar carpeta de datos local (solo Colab)"
      ]
    },
    {
      "cell_type": "code",
      "execution_count": null,
      "metadata": {
        "colab": {
          "base_uri": "https://localhost:8080/"
        },
        "id": "I6n7MIefJ21i",
        "outputId": "4b4cb20a-aa84-40c5-cee9-97c180906788"
      },
      "outputs": [
        {
          "output_type": "stream",
          "name": "stdout",
          "text": [
            "We're running Colab\n",
            "Colab: mounting Google drive on  /content/gdrive\n",
            "Drive already mounted at /content/gdrive; to attempt to forcibly remount, call drive.mount(\"/content/gdrive\", force_remount=True).\n",
            "\n",
            "Colab: making sure  /content/gdrive/MyDrive/dqn_spaceinvaders_checkpoints  exists.\n",
            "\n",
            "Colab: Changing directory to  /content/gdrive/MyDrive/dqn_spaceinvaders_checkpoints\n",
            "/content/gdrive/MyDrive/dqn_spaceinvaders_checkpoints\n",
            "Archivos en el directorio: \n",
            "['video', 'logs', 'checkpoint', 'dqn_SpaceInvaders-v0_weights.h5f.data-00000-of-00001', 'dqn_SpaceInvaders-v0_weights.h5f.index', '400k.zip', 'sequential_memory_2.pkl.zip', 'weightsv2.2', 'weightsv2.3', 'sequential_memory_2.3.pkl.zip', 'legacy', 'weightsv4', 'puntuacion 18.3 weigths 5', 'weights_5', 'weights_6', 'wrapper', 'sequential_memory_6.pkl.zip', 'sequential_memory.pkl.zip', 'cut', 'sequential_memory_cut.pkl', 'cutv2', 'cutv3', 'sequential_memory_cutv3.pkl.zip', 'cutv4', 'sequential_memory_cut.pkl.zip', 'sequential_memory_cutv2.pkl.zip', 'sequential_memory_cutv4.pkl']\n"
          ]
        }
      ],
      "source": [
        "# Switch to the directory on the Google Drive that you want to use\n",
        "import os\n",
        "if IN_COLAB:\n",
        "  print(\"We're running Colab\")\n",
        "\n",
        "  if IN_COLAB:\n",
        "    # Mount the Google Drive at mount\n",
        "    print(\"Colab: mounting Google drive on \", mount)\n",
        "\n",
        "    drive.mount(mount)\n",
        "\n",
        "    # Create drive_root if it doesn't exist\n",
        "    create_drive_root = True\n",
        "    if create_drive_root:\n",
        "      print(\"\\nColab: making sure \", drive_root, \" exists.\")\n",
        "      os.makedirs(drive_root, exist_ok=True)\n",
        "\n",
        "    # Change to the directory\n",
        "    print(\"\\nColab: Changing directory to \", drive_root)\n",
        "    %cd $drive_root\n",
        "# Verify we're in the correct working directory\n",
        "%pwd\n",
        "print(\"Archivos en el directorio: \")\n",
        "print(os.listdir())"
      ]
    },
    {
      "cell_type": "markdown",
      "metadata": {
        "id": "i1ZSL5bpJ560"
      },
      "source": [
        "---\n",
        "### 1.4. Instalar librerías necesarias"
      ]
    },
    {
      "cell_type": "code",
      "execution_count": null,
      "metadata": {
        "colab": {
          "base_uri": "https://localhost:8080/",
          "height": 1000
        },
        "id": "UbVRjvHCJ8UF",
        "outputId": "8d55b62d-f6fb-4c3b-9481-05b30079aa88"
      },
      "outputs": [
        {
          "output_type": "stream",
          "name": "stdout",
          "text": [
            "Collecting gym==0.17.3\n",
            "  Downloading gym-0.17.3.tar.gz (1.6 MB)\n",
            "\u001b[?25l     \u001b[90m━━━━━━━━━━━━━━━━━━━━━━━━━━━━━━━━━━━━━━━━\u001b[0m \u001b[32m0.0/1.6 MB\u001b[0m \u001b[31m?\u001b[0m eta \u001b[36m-:--:--\u001b[0m\r\u001b[2K     \u001b[91m━━━━━━━━━━━━━━━━━━━━━━━━━━\u001b[0m\u001b[91m╸\u001b[0m\u001b[90m━━━━━━━━━━━━━\u001b[0m \u001b[32m1.0/1.6 MB\u001b[0m \u001b[31m32.7 MB/s\u001b[0m eta \u001b[36m0:00:01\u001b[0m\r\u001b[2K     \u001b[91m━━━━━━━━━━━━━━━━━━━━━━━━━━\u001b[0m\u001b[91m╸\u001b[0m\u001b[90m━━━━━━━━━━━━━\u001b[0m \u001b[32m1.0/1.6 MB\u001b[0m \u001b[31m32.7 MB/s\u001b[0m eta \u001b[36m0:00:01\u001b[0m\r\u001b[2K     \u001b[91m━━━━━━━━━━━━━━━━━━━━━━━━━━━━━━━━━━━━━━━\u001b[0m\u001b[91m╸\u001b[0m \u001b[32m1.6/1.6 MB\u001b[0m \u001b[31m16.2 MB/s\u001b[0m eta \u001b[36m0:00:01\u001b[0m\r\u001b[2K     \u001b[90m━━━━━━━━━━━━━━━━━━━━━━━━━━━━━━━━━━━━━━━━\u001b[0m \u001b[32m1.6/1.6 MB\u001b[0m \u001b[31m14.3 MB/s\u001b[0m eta \u001b[36m0:00:00\u001b[0m\n",
            "\u001b[?25h  Preparing metadata (setup.py) ... \u001b[?25l\u001b[?25hdone\n",
            "Requirement already satisfied: scipy in /usr/local/lib/python3.11/dist-packages (from gym==0.17.3) (1.15.3)\n",
            "Requirement already satisfied: numpy>=1.10.4 in /usr/local/lib/python3.11/dist-packages (from gym==0.17.3) (2.0.2)\n",
            "Collecting pyglet<=1.5.0,>=1.4.0 (from gym==0.17.3)\n",
            "  Downloading pyglet-1.5.0-py2.py3-none-any.whl.metadata (7.6 kB)\n",
            "Collecting cloudpickle<1.7.0,>=1.2.0 (from gym==0.17.3)\n",
            "  Downloading cloudpickle-1.6.0-py3-none-any.whl.metadata (4.3 kB)\n",
            "Requirement already satisfied: future in /usr/local/lib/python3.11/dist-packages (from pyglet<=1.5.0,>=1.4.0->gym==0.17.3) (1.0.0)\n",
            "Downloading cloudpickle-1.6.0-py3-none-any.whl (23 kB)\n",
            "Downloading pyglet-1.5.0-py2.py3-none-any.whl (1.0 MB)\n",
            "\u001b[2K   \u001b[90m━━━━━━━━━━━━━━━━━━━━━━━━━━━━━━━━━━━━━━━━\u001b[0m \u001b[32m1.0/1.0 MB\u001b[0m \u001b[31m59.6 MB/s\u001b[0m eta \u001b[36m0:00:00\u001b[0m\n",
            "\u001b[?25hBuilding wheels for collected packages: gym\n",
            "  Building wheel for gym (setup.py) ... \u001b[?25l\u001b[?25hdone\n",
            "  Created wheel for gym: filename=gym-0.17.3-py3-none-any.whl size=1654617 sha256=269cf78513b39dd6ea5d48f379b69e17d657c5ac6e84ea7baa5253771bdddffb\n",
            "  Stored in directory: /root/.cache/pip/wheels/07/8b/b7/570cb90b10f17e85ccb291ba1f04af41ec697745104a2263eb\n",
            "Successfully built gym\n",
            "Installing collected packages: pyglet, cloudpickle, gym\n",
            "  Attempting uninstall: cloudpickle\n",
            "    Found existing installation: cloudpickle 3.1.1\n",
            "    Uninstalling cloudpickle-3.1.1:\n",
            "      Successfully uninstalled cloudpickle-3.1.1\n",
            "  Attempting uninstall: gym\n",
            "    Found existing installation: gym 0.25.2\n",
            "    Uninstalling gym-0.25.2:\n",
            "      Successfully uninstalled gym-0.25.2\n",
            "\u001b[31mERROR: pip's dependency resolver does not currently take into account all the packages that are installed. This behaviour is the source of the following dependency conflicts.\n",
            "dask 2024.12.1 requires cloudpickle>=3.0.0, but you have cloudpickle 1.6.0 which is incompatible.\n",
            "distributed 2024.12.1 requires cloudpickle>=3.0.0, but you have cloudpickle 1.6.0 which is incompatible.\n",
            "bigframes 2.8.0 requires cloudpickle>=2.0.0, but you have cloudpickle 1.6.0 which is incompatible.\u001b[0m\u001b[31m\n",
            "\u001b[0mSuccessfully installed cloudpickle-1.6.0 gym-0.17.3 pyglet-1.5.0\n",
            "Collecting git+https://github.com/Kojoley/atari-py.git\n",
            "  Cloning https://github.com/Kojoley/atari-py.git to /tmp/pip-req-build-pm3y3zoq\n",
            "  Running command git clone --filter=blob:none --quiet https://github.com/Kojoley/atari-py.git /tmp/pip-req-build-pm3y3zoq\n",
            "  Resolved https://github.com/Kojoley/atari-py.git to commit 86a1e05c0a95e9e6233c3a413521fdb34ca8a089\n",
            "  Preparing metadata (setup.py) ... \u001b[?25l\u001b[?25hdone\n",
            "Requirement already satisfied: numpy in /usr/local/lib/python3.11/dist-packages (from atari-py==1.2.2) (2.0.2)\n",
            "Building wheels for collected packages: atari-py\n",
            "  Building wheel for atari-py (setup.py) ... \u001b[?25l\u001b[?25hdone\n",
            "  Created wheel for atari-py: filename=atari_py-1.2.2-cp311-cp311-linux_x86_64.whl size=4738556 sha256=18e521dbf72e97698673cdf282c6efa2a94d2cd7fe706da031b110ed4f0a26db\n",
            "  Stored in directory: /tmp/pip-ephem-wheel-cache-1u70hv05/wheels/1a/58/b3/3baab9d1509939ecce2dfd9ca349c222b7ee6590f4bd6097a1\n",
            "Successfully built atari-py\n",
            "Installing collected packages: atari-py\n",
            "Successfully installed atari-py-1.2.2\n",
            "Collecting keras-rl2==1.0.5\n",
            "  Downloading keras_rl2-1.0.5-py3-none-any.whl.metadata (304 bytes)\n",
            "Requirement already satisfied: tensorflow in /usr/local/lib/python3.11/dist-packages (from keras-rl2==1.0.5) (2.18.0)\n",
            "Requirement already satisfied: absl-py>=1.0.0 in /usr/local/lib/python3.11/dist-packages (from tensorflow->keras-rl2==1.0.5) (1.4.0)\n",
            "Requirement already satisfied: astunparse>=1.6.0 in /usr/local/lib/python3.11/dist-packages (from tensorflow->keras-rl2==1.0.5) (1.6.3)\n",
            "Requirement already satisfied: flatbuffers>=24.3.25 in /usr/local/lib/python3.11/dist-packages (from tensorflow->keras-rl2==1.0.5) (25.2.10)\n",
            "Requirement already satisfied: gast!=0.5.0,!=0.5.1,!=0.5.2,>=0.2.1 in /usr/local/lib/python3.11/dist-packages (from tensorflow->keras-rl2==1.0.5) (0.6.0)\n",
            "Requirement already satisfied: google-pasta>=0.1.1 in /usr/local/lib/python3.11/dist-packages (from tensorflow->keras-rl2==1.0.5) (0.2.0)\n",
            "Requirement already satisfied: libclang>=13.0.0 in /usr/local/lib/python3.11/dist-packages (from tensorflow->keras-rl2==1.0.5) (18.1.1)\n",
            "Requirement already satisfied: opt-einsum>=2.3.2 in /usr/local/lib/python3.11/dist-packages (from tensorflow->keras-rl2==1.0.5) (3.4.0)\n",
            "Requirement already satisfied: packaging in /usr/local/lib/python3.11/dist-packages (from tensorflow->keras-rl2==1.0.5) (24.2)\n",
            "Requirement already satisfied: protobuf!=4.21.0,!=4.21.1,!=4.21.2,!=4.21.3,!=4.21.4,!=4.21.5,<6.0.0dev,>=3.20.3 in /usr/local/lib/python3.11/dist-packages (from tensorflow->keras-rl2==1.0.5) (5.29.5)\n",
            "Requirement already satisfied: requests<3,>=2.21.0 in /usr/local/lib/python3.11/dist-packages (from tensorflow->keras-rl2==1.0.5) (2.32.3)\n",
            "Requirement already satisfied: setuptools in /usr/local/lib/python3.11/dist-packages (from tensorflow->keras-rl2==1.0.5) (75.2.0)\n",
            "Requirement already satisfied: six>=1.12.0 in /usr/local/lib/python3.11/dist-packages (from tensorflow->keras-rl2==1.0.5) (1.17.0)\n",
            "Requirement already satisfied: termcolor>=1.1.0 in /usr/local/lib/python3.11/dist-packages (from tensorflow->keras-rl2==1.0.5) (3.1.0)\n",
            "Requirement already satisfied: typing-extensions>=3.6.6 in /usr/local/lib/python3.11/dist-packages (from tensorflow->keras-rl2==1.0.5) (4.14.0)\n",
            "Requirement already satisfied: wrapt>=1.11.0 in /usr/local/lib/python3.11/dist-packages (from tensorflow->keras-rl2==1.0.5) (1.17.2)\n",
            "Requirement already satisfied: grpcio<2.0,>=1.24.3 in /usr/local/lib/python3.11/dist-packages (from tensorflow->keras-rl2==1.0.5) (1.73.1)\n",
            "Requirement already satisfied: tensorboard<2.19,>=2.18 in /usr/local/lib/python3.11/dist-packages (from tensorflow->keras-rl2==1.0.5) (2.18.0)\n",
            "Requirement already satisfied: keras>=3.5.0 in /usr/local/lib/python3.11/dist-packages (from tensorflow->keras-rl2==1.0.5) (3.8.0)\n",
            "Requirement already satisfied: numpy<2.1.0,>=1.26.0 in /usr/local/lib/python3.11/dist-packages (from tensorflow->keras-rl2==1.0.5) (2.0.2)\n",
            "Requirement already satisfied: h5py>=3.11.0 in /usr/local/lib/python3.11/dist-packages (from tensorflow->keras-rl2==1.0.5) (3.14.0)\n",
            "Requirement already satisfied: ml-dtypes<0.5.0,>=0.4.0 in /usr/local/lib/python3.11/dist-packages (from tensorflow->keras-rl2==1.0.5) (0.4.1)\n",
            "Requirement already satisfied: tensorflow-io-gcs-filesystem>=0.23.1 in /usr/local/lib/python3.11/dist-packages (from tensorflow->keras-rl2==1.0.5) (0.37.1)\n",
            "Requirement already satisfied: wheel<1.0,>=0.23.0 in /usr/local/lib/python3.11/dist-packages (from astunparse>=1.6.0->tensorflow->keras-rl2==1.0.5) (0.45.1)\n",
            "Requirement already satisfied: rich in /usr/local/lib/python3.11/dist-packages (from keras>=3.5.0->tensorflow->keras-rl2==1.0.5) (13.9.4)\n",
            "Requirement already satisfied: namex in /usr/local/lib/python3.11/dist-packages (from keras>=3.5.0->tensorflow->keras-rl2==1.0.5) (0.1.0)\n",
            "Requirement already satisfied: optree in /usr/local/lib/python3.11/dist-packages (from keras>=3.5.0->tensorflow->keras-rl2==1.0.5) (0.16.0)\n",
            "Requirement already satisfied: charset-normalizer<4,>=2 in /usr/local/lib/python3.11/dist-packages (from requests<3,>=2.21.0->tensorflow->keras-rl2==1.0.5) (3.4.2)\n",
            "Requirement already satisfied: idna<4,>=2.5 in /usr/local/lib/python3.11/dist-packages (from requests<3,>=2.21.0->tensorflow->keras-rl2==1.0.5) (3.10)\n",
            "Requirement already satisfied: urllib3<3,>=1.21.1 in /usr/local/lib/python3.11/dist-packages (from requests<3,>=2.21.0->tensorflow->keras-rl2==1.0.5) (2.4.0)\n",
            "Requirement already satisfied: certifi>=2017.4.17 in /usr/local/lib/python3.11/dist-packages (from requests<3,>=2.21.0->tensorflow->keras-rl2==1.0.5) (2025.6.15)\n",
            "Requirement already satisfied: markdown>=2.6.8 in /usr/local/lib/python3.11/dist-packages (from tensorboard<2.19,>=2.18->tensorflow->keras-rl2==1.0.5) (3.8.2)\n",
            "Requirement already satisfied: tensorboard-data-server<0.8.0,>=0.7.0 in /usr/local/lib/python3.11/dist-packages (from tensorboard<2.19,>=2.18->tensorflow->keras-rl2==1.0.5) (0.7.2)\n",
            "Requirement already satisfied: werkzeug>=1.0.1 in /usr/local/lib/python3.11/dist-packages (from tensorboard<2.19,>=2.18->tensorflow->keras-rl2==1.0.5) (3.1.3)\n",
            "Requirement already satisfied: MarkupSafe>=2.1.1 in /usr/local/lib/python3.11/dist-packages (from werkzeug>=1.0.1->tensorboard<2.19,>=2.18->tensorflow->keras-rl2==1.0.5) (3.0.2)\n",
            "Requirement already satisfied: markdown-it-py>=2.2.0 in /usr/local/lib/python3.11/dist-packages (from rich->keras>=3.5.0->tensorflow->keras-rl2==1.0.5) (3.0.0)\n",
            "Requirement already satisfied: pygments<3.0.0,>=2.13.0 in /usr/local/lib/python3.11/dist-packages (from rich->keras>=3.5.0->tensorflow->keras-rl2==1.0.5) (2.19.2)\n",
            "Requirement already satisfied: mdurl~=0.1 in /usr/local/lib/python3.11/dist-packages (from markdown-it-py>=2.2.0->rich->keras>=3.5.0->tensorflow->keras-rl2==1.0.5) (0.1.2)\n",
            "Downloading keras_rl2-1.0.5-py3-none-any.whl (52 kB)\n",
            "\u001b[2K   \u001b[90m━━━━━━━━━━━━━━━━━━━━━━━━━━━━━━━━━━━━━━━━\u001b[0m \u001b[32m52.1/52.1 kB\u001b[0m \u001b[31m2.9 MB/s\u001b[0m eta \u001b[36m0:00:00\u001b[0m\n",
            "\u001b[?25hInstalling collected packages: keras-rl2\n",
            "Successfully installed keras-rl2-1.0.5\n",
            "Collecting tensorflow==2.12\n",
            "  Downloading tensorflow-2.12.0-cp311-cp311-manylinux_2_17_x86_64.manylinux2014_x86_64.whl.metadata (3.4 kB)\n",
            "Requirement already satisfied: absl-py>=1.0.0 in /usr/local/lib/python3.11/dist-packages (from tensorflow==2.12) (1.4.0)\n",
            "Requirement already satisfied: astunparse>=1.6.0 in /usr/local/lib/python3.11/dist-packages (from tensorflow==2.12) (1.6.3)\n",
            "Requirement already satisfied: flatbuffers>=2.0 in /usr/local/lib/python3.11/dist-packages (from tensorflow==2.12) (25.2.10)\n",
            "Collecting gast<=0.4.0,>=0.2.1 (from tensorflow==2.12)\n",
            "  Downloading gast-0.4.0-py3-none-any.whl.metadata (1.1 kB)\n",
            "Requirement already satisfied: google-pasta>=0.1.1 in /usr/local/lib/python3.11/dist-packages (from tensorflow==2.12) (0.2.0)\n",
            "Requirement already satisfied: grpcio<2.0,>=1.24.3 in /usr/local/lib/python3.11/dist-packages (from tensorflow==2.12) (1.73.1)\n",
            "Requirement already satisfied: h5py>=2.9.0 in /usr/local/lib/python3.11/dist-packages (from tensorflow==2.12) (3.14.0)\n",
            "Requirement already satisfied: jax>=0.3.15 in /usr/local/lib/python3.11/dist-packages (from tensorflow==2.12) (0.5.2)\n",
            "Collecting keras<2.13,>=2.12.0 (from tensorflow==2.12)\n",
            "  Downloading keras-2.12.0-py2.py3-none-any.whl.metadata (1.4 kB)\n",
            "Requirement already satisfied: libclang>=13.0.0 in /usr/local/lib/python3.11/dist-packages (from tensorflow==2.12) (18.1.1)\n",
            "Collecting numpy<1.24,>=1.22 (from tensorflow==2.12)\n",
            "  Downloading numpy-1.23.5-cp311-cp311-manylinux_2_17_x86_64.manylinux2014_x86_64.whl.metadata (2.3 kB)\n",
            "Requirement already satisfied: opt-einsum>=2.3.2 in /usr/local/lib/python3.11/dist-packages (from tensorflow==2.12) (3.4.0)\n",
            "Requirement already satisfied: packaging in /usr/local/lib/python3.11/dist-packages (from tensorflow==2.12) (24.2)\n",
            "Collecting protobuf!=4.21.0,!=4.21.1,!=4.21.2,!=4.21.3,!=4.21.4,!=4.21.5,<5.0.0dev,>=3.20.3 (from tensorflow==2.12)\n",
            "  Downloading protobuf-4.25.8-cp37-abi3-manylinux2014_x86_64.whl.metadata (541 bytes)\n",
            "Requirement already satisfied: setuptools in /usr/local/lib/python3.11/dist-packages (from tensorflow==2.12) (75.2.0)\n",
            "Requirement already satisfied: six>=1.12.0 in /usr/local/lib/python3.11/dist-packages (from tensorflow==2.12) (1.17.0)\n",
            "Collecting tensorboard<2.13,>=2.12 (from tensorflow==2.12)\n",
            "  Downloading tensorboard-2.12.3-py3-none-any.whl.metadata (1.8 kB)\n",
            "Collecting tensorflow-estimator<2.13,>=2.12.0 (from tensorflow==2.12)\n",
            "  Downloading tensorflow_estimator-2.12.0-py2.py3-none-any.whl.metadata (1.3 kB)\n",
            "Requirement already satisfied: termcolor>=1.1.0 in /usr/local/lib/python3.11/dist-packages (from tensorflow==2.12) (3.1.0)\n",
            "Requirement already satisfied: typing-extensions>=3.6.6 in /usr/local/lib/python3.11/dist-packages (from tensorflow==2.12) (4.14.0)\n",
            "Collecting wrapt<1.15,>=1.11.0 (from tensorflow==2.12)\n",
            "  Downloading wrapt-1.14.1-cp311-cp311-manylinux_2_5_x86_64.manylinux1_x86_64.manylinux_2_17_x86_64.manylinux2014_x86_64.whl.metadata (6.7 kB)\n",
            "Requirement already satisfied: tensorflow-io-gcs-filesystem>=0.23.1 in /usr/local/lib/python3.11/dist-packages (from tensorflow==2.12) (0.37.1)\n",
            "Requirement already satisfied: wheel<1.0,>=0.23.0 in /usr/local/lib/python3.11/dist-packages (from astunparse>=1.6.0->tensorflow==2.12) (0.45.1)\n",
            "Requirement already satisfied: jaxlib<=0.5.2,>=0.5.1 in /usr/local/lib/python3.11/dist-packages (from jax>=0.3.15->tensorflow==2.12) (0.5.1)\n",
            "Requirement already satisfied: ml_dtypes>=0.4.0 in /usr/local/lib/python3.11/dist-packages (from jax>=0.3.15->tensorflow==2.12) (0.4.1)\n",
            "INFO: pip is looking at multiple versions of jax to determine which version is compatible with other requirements. This could take a while.\n",
            "Collecting jax>=0.3.15 (from tensorflow==2.12)\n",
            "  Downloading jax-0.6.2-py3-none-any.whl.metadata (13 kB)\n",
            "Collecting jaxlib<=0.6.2,>=0.6.2 (from jax>=0.3.15->tensorflow==2.12)\n",
            "  Downloading jaxlib-0.6.2-cp311-cp311-manylinux2014_x86_64.whl.metadata (1.3 kB)\n",
            "Collecting ml_dtypes>=0.5.0 (from jax>=0.3.15->tensorflow==2.12)\n",
            "  Downloading ml_dtypes-0.5.1-cp311-cp311-manylinux_2_17_x86_64.manylinux2014_x86_64.whl.metadata (21 kB)\n",
            "Collecting jax>=0.3.15 (from tensorflow==2.12)\n",
            "  Downloading jax-0.6.1-py3-none-any.whl.metadata (13 kB)\n",
            "Collecting jaxlib<=0.6.1,>=0.6.1 (from jax>=0.3.15->tensorflow==2.12)\n",
            "  Downloading jaxlib-0.6.1-cp311-cp311-manylinux2014_x86_64.whl.metadata (1.2 kB)\n",
            "Collecting jax>=0.3.15 (from tensorflow==2.12)\n",
            "  Downloading jax-0.6.0-py3-none-any.whl.metadata (22 kB)\n",
            "Collecting jaxlib<=0.6.0,>=0.6.0 (from jax>=0.3.15->tensorflow==2.12)\n",
            "  Downloading jaxlib-0.6.0-cp311-cp311-manylinux2014_x86_64.whl.metadata (1.2 kB)\n",
            "Collecting jax>=0.3.15 (from tensorflow==2.12)\n",
            "  Downloading jax-0.5.3-py3-none-any.whl.metadata (22 kB)\n",
            "Collecting jaxlib<=0.5.3,>=0.5.3 (from jax>=0.3.15->tensorflow==2.12)\n",
            "  Downloading jaxlib-0.5.3-cp311-cp311-manylinux2014_x86_64.whl.metadata (1.2 kB)\n",
            "Collecting jax>=0.3.15 (from tensorflow==2.12)\n",
            "  Downloading jax-0.5.1-py3-none-any.whl.metadata (22 kB)\n",
            "  Downloading jax-0.5.0-py3-none-any.whl.metadata (22 kB)\n",
            "Collecting jaxlib<=0.5.0,>=0.5.0 (from jax>=0.3.15->tensorflow==2.12)\n",
            "  Downloading jaxlib-0.5.0-cp311-cp311-manylinux2014_x86_64.whl.metadata (978 bytes)\n",
            "Collecting jax>=0.3.15 (from tensorflow==2.12)\n",
            "  Downloading jax-0.4.38-py3-none-any.whl.metadata (22 kB)\n",
            "Collecting jaxlib<=0.4.38,>=0.4.38 (from jax>=0.3.15->tensorflow==2.12)\n",
            "  Downloading jaxlib-0.4.38-cp311-cp311-manylinux2014_x86_64.whl.metadata (1.0 kB)\n",
            "INFO: pip is still looking at multiple versions of jax to determine which version is compatible with other requirements. This could take a while.\n",
            "Collecting jax>=0.3.15 (from tensorflow==2.12)\n",
            "  Downloading jax-0.4.37-py3-none-any.whl.metadata (22 kB)\n",
            "Collecting jaxlib<=0.4.37,>=0.4.36 (from jax>=0.3.15->tensorflow==2.12)\n",
            "  Downloading jaxlib-0.4.36-cp311-cp311-manylinux2014_x86_64.whl.metadata (1.0 kB)\n",
            "Collecting jax>=0.3.15 (from tensorflow==2.12)\n",
            "  Downloading jax-0.4.36-py3-none-any.whl.metadata (22 kB)\n",
            "  Downloading jax-0.4.35-py3-none-any.whl.metadata (22 kB)\n",
            "Collecting jaxlib<=0.4.35,>=0.4.34 (from jax>=0.3.15->tensorflow==2.12)\n",
            "  Downloading jaxlib-0.4.35-cp311-cp311-manylinux2014_x86_64.whl.metadata (983 bytes)\n",
            "Collecting jax>=0.3.15 (from tensorflow==2.12)\n",
            "  Downloading jax-0.4.34-py3-none-any.whl.metadata (22 kB)\n",
            "Collecting jaxlib<=0.4.34,>=0.4.34 (from jax>=0.3.15->tensorflow==2.12)\n",
            "  Downloading jaxlib-0.4.34-cp311-cp311-manylinux2014_x86_64.whl.metadata (983 bytes)\n",
            "Collecting jax>=0.3.15 (from tensorflow==2.12)\n",
            "  Downloading jax-0.4.33-py3-none-any.whl.metadata (22 kB)\n",
            "Collecting jaxlib<=0.4.33,>=0.4.33 (from jax>=0.3.15->tensorflow==2.12)\n",
            "  Downloading jaxlib-0.4.33-cp311-cp311-manylinux2014_x86_64.whl.metadata (983 bytes)\n",
            "INFO: This is taking longer than usual. You might need to provide the dependency resolver with stricter constraints to reduce runtime. See https://pip.pypa.io/warnings/backtracking for guidance. If you want to abort this run, press Ctrl + C.\n",
            "Collecting jax>=0.3.15 (from tensorflow==2.12)\n",
            "  Downloading jax-0.4.31-py3-none-any.whl.metadata (22 kB)\n",
            "Collecting jaxlib<=0.4.31,>=0.4.30 (from jax>=0.3.15->tensorflow==2.12)\n",
            "  Downloading jaxlib-0.4.31-cp311-cp311-manylinux2014_x86_64.whl.metadata (983 bytes)\n",
            "Collecting jax>=0.3.15 (from tensorflow==2.12)\n",
            "  Downloading jax-0.4.30-py3-none-any.whl.metadata (22 kB)\n",
            "Collecting jaxlib<=0.4.30,>=0.4.27 (from jax>=0.3.15->tensorflow==2.12)\n",
            "  Downloading jaxlib-0.4.30-cp311-cp311-manylinux2014_x86_64.whl.metadata (1.0 kB)\n",
            "Requirement already satisfied: scipy>=1.9 in /usr/local/lib/python3.11/dist-packages (from jax>=0.3.15->tensorflow==2.12) (1.15.3)\n",
            "Requirement already satisfied: google-auth<3,>=1.6.3 in /usr/local/lib/python3.11/dist-packages (from tensorboard<2.13,>=2.12->tensorflow==2.12) (2.38.0)\n",
            "Collecting google-auth-oauthlib<1.1,>=0.5 (from tensorboard<2.13,>=2.12->tensorflow==2.12)\n",
            "  Downloading google_auth_oauthlib-1.0.0-py2.py3-none-any.whl.metadata (2.7 kB)\n",
            "Requirement already satisfied: markdown>=2.6.8 in /usr/local/lib/python3.11/dist-packages (from tensorboard<2.13,>=2.12->tensorflow==2.12) (3.8.2)\n",
            "Requirement already satisfied: requests<3,>=2.21.0 in /usr/local/lib/python3.11/dist-packages (from tensorboard<2.13,>=2.12->tensorflow==2.12) (2.32.3)\n",
            "Requirement already satisfied: tensorboard-data-server<0.8.0,>=0.7.0 in /usr/local/lib/python3.11/dist-packages (from tensorboard<2.13,>=2.12->tensorflow==2.12) (0.7.2)\n",
            "Requirement already satisfied: werkzeug>=1.0.1 in /usr/local/lib/python3.11/dist-packages (from tensorboard<2.13,>=2.12->tensorflow==2.12) (3.1.3)\n",
            "Requirement already satisfied: cachetools<6.0,>=2.0.0 in /usr/local/lib/python3.11/dist-packages (from google-auth<3,>=1.6.3->tensorboard<2.13,>=2.12->tensorflow==2.12) (5.5.2)\n",
            "Requirement already satisfied: pyasn1-modules>=0.2.1 in /usr/local/lib/python3.11/dist-packages (from google-auth<3,>=1.6.3->tensorboard<2.13,>=2.12->tensorflow==2.12) (0.4.2)\n",
            "Requirement already satisfied: rsa<5,>=3.1.4 in /usr/local/lib/python3.11/dist-packages (from google-auth<3,>=1.6.3->tensorboard<2.13,>=2.12->tensorflow==2.12) (4.9.1)\n",
            "Requirement already satisfied: requests-oauthlib>=0.7.0 in /usr/local/lib/python3.11/dist-packages (from google-auth-oauthlib<1.1,>=0.5->tensorboard<2.13,>=2.12->tensorflow==2.12) (2.0.0)\n",
            "Requirement already satisfied: charset-normalizer<4,>=2 in /usr/local/lib/python3.11/dist-packages (from requests<3,>=2.21.0->tensorboard<2.13,>=2.12->tensorflow==2.12) (3.4.2)\n",
            "Requirement already satisfied: idna<4,>=2.5 in /usr/local/lib/python3.11/dist-packages (from requests<3,>=2.21.0->tensorboard<2.13,>=2.12->tensorflow==2.12) (3.10)\n",
            "Requirement already satisfied: urllib3<3,>=1.21.1 in /usr/local/lib/python3.11/dist-packages (from requests<3,>=2.21.0->tensorboard<2.13,>=2.12->tensorflow==2.12) (2.4.0)\n",
            "Requirement already satisfied: certifi>=2017.4.17 in /usr/local/lib/python3.11/dist-packages (from requests<3,>=2.21.0->tensorboard<2.13,>=2.12->tensorflow==2.12) (2025.6.15)\n",
            "Requirement already satisfied: MarkupSafe>=2.1.1 in /usr/local/lib/python3.11/dist-packages (from werkzeug>=1.0.1->tensorboard<2.13,>=2.12->tensorflow==2.12) (3.0.2)\n",
            "Requirement already satisfied: pyasn1<0.7.0,>=0.6.1 in /usr/local/lib/python3.11/dist-packages (from pyasn1-modules>=0.2.1->google-auth<3,>=1.6.3->tensorboard<2.13,>=2.12->tensorflow==2.12) (0.6.1)\n",
            "Requirement already satisfied: oauthlib>=3.0.0 in /usr/local/lib/python3.11/dist-packages (from requests-oauthlib>=0.7.0->google-auth-oauthlib<1.1,>=0.5->tensorboard<2.13,>=2.12->tensorflow==2.12) (3.3.1)\n",
            "Downloading tensorflow-2.12.0-cp311-cp311-manylinux_2_17_x86_64.manylinux2014_x86_64.whl (586.0 MB)\n",
            "\u001b[2K   \u001b[90m━━━━━━━━━━━━━━━━━━━━━━━━━━━━━━━━━━━━━━━━\u001b[0m \u001b[32m586.0/586.0 MB\u001b[0m \u001b[31m1.4 MB/s\u001b[0m eta \u001b[36m0:00:00\u001b[0m\n",
            "\u001b[?25hDownloading gast-0.4.0-py3-none-any.whl (9.8 kB)\n",
            "Downloading jax-0.4.30-py3-none-any.whl (2.0 MB)\n",
            "\u001b[2K   \u001b[90m━━━━━━━━━━━━━━━━━━━━━━━━━━━━━━━━━━━━━━━━\u001b[0m \u001b[32m2.0/2.0 MB\u001b[0m \u001b[31m92.4 MB/s\u001b[0m eta \u001b[36m0:00:00\u001b[0m\n",
            "\u001b[?25hDownloading keras-2.12.0-py2.py3-none-any.whl (1.7 MB)\n",
            "\u001b[2K   \u001b[90m━━━━━━━━━━━━━━━━━━━━━━━━━━━━━━━━━━━━━━━━\u001b[0m \u001b[32m1.7/1.7 MB\u001b[0m \u001b[31m69.7 MB/s\u001b[0m eta \u001b[36m0:00:00\u001b[0m\n",
            "\u001b[?25hDownloading numpy-1.23.5-cp311-cp311-manylinux_2_17_x86_64.manylinux2014_x86_64.whl (17.1 MB)\n",
            "\u001b[2K   \u001b[90m━━━━━━━━━━━━━━━━━━━━━━━━━━━━━━━━━━━━━━━━\u001b[0m \u001b[32m17.1/17.1 MB\u001b[0m \u001b[31m112.9 MB/s\u001b[0m eta \u001b[36m0:00:00\u001b[0m\n",
            "\u001b[?25hDownloading protobuf-4.25.8-cp37-abi3-manylinux2014_x86_64.whl (294 kB)\n",
            "\u001b[2K   \u001b[90m━━━━━━━━━━━━━━━━━━━━━━━━━━━━━━━━━━━━━━━━\u001b[0m \u001b[32m294.9/294.9 kB\u001b[0m \u001b[31m27.0 MB/s\u001b[0m eta \u001b[36m0:00:00\u001b[0m\n",
            "\u001b[?25hDownloading tensorboard-2.12.3-py3-none-any.whl (5.6 MB)\n",
            "\u001b[2K   \u001b[90m━━━━━━━━━━━━━━━━━━━━━━━━━━━━━━━━━━━━━━━━\u001b[0m \u001b[32m5.6/5.6 MB\u001b[0m \u001b[31m113.6 MB/s\u001b[0m eta \u001b[36m0:00:00\u001b[0m\n",
            "\u001b[?25hDownloading tensorflow_estimator-2.12.0-py2.py3-none-any.whl (440 kB)\n",
            "\u001b[2K   \u001b[90m━━━━━━━━━━━━━━━━━━━━━━━━━━━━━━━━━━━━━━━━\u001b[0m \u001b[32m440.7/440.7 kB\u001b[0m \u001b[31m37.1 MB/s\u001b[0m eta \u001b[36m0:00:00\u001b[0m\n",
            "\u001b[?25hDownloading wrapt-1.14.1-cp311-cp311-manylinux_2_5_x86_64.manylinux1_x86_64.manylinux_2_17_x86_64.manylinux2014_x86_64.whl (78 kB)\n",
            "\u001b[2K   \u001b[90m━━━━━━━━━━━━━━━━━━━━━━━━━━━━━━━━━━━━━━━━\u001b[0m \u001b[32m78.4/78.4 kB\u001b[0m \u001b[31m7.8 MB/s\u001b[0m eta \u001b[36m0:00:00\u001b[0m\n",
            "\u001b[?25hDownloading google_auth_oauthlib-1.0.0-py2.py3-none-any.whl (18 kB)\n",
            "Downloading jaxlib-0.4.30-cp311-cp311-manylinux2014_x86_64.whl (79.6 MB)\n",
            "\u001b[2K   \u001b[90m━━━━━━━━━━━━━━━━━━━━━━━━━━━━━━━━━━━━━━━━\u001b[0m \u001b[32m79.6/79.6 MB\u001b[0m \u001b[31m7.7 MB/s\u001b[0m eta \u001b[36m0:00:00\u001b[0m\n",
            "\u001b[?25hInstalling collected packages: wrapt, tensorflow-estimator, protobuf, numpy, keras, gast, jaxlib, google-auth-oauthlib, tensorboard, jax, tensorflow\n",
            "  Attempting uninstall: wrapt\n",
            "    Found existing installation: wrapt 1.17.2\n",
            "    Uninstalling wrapt-1.17.2:\n",
            "      Successfully uninstalled wrapt-1.17.2\n",
            "  Attempting uninstall: protobuf\n",
            "    Found existing installation: protobuf 5.29.5\n",
            "    Uninstalling protobuf-5.29.5:\n",
            "      Successfully uninstalled protobuf-5.29.5\n",
            "  Attempting uninstall: numpy\n",
            "    Found existing installation: numpy 2.0.2\n",
            "    Uninstalling numpy-2.0.2:\n",
            "      Successfully uninstalled numpy-2.0.2\n",
            "  Attempting uninstall: keras\n",
            "    Found existing installation: keras 3.8.0\n",
            "    Uninstalling keras-3.8.0:\n",
            "      Successfully uninstalled keras-3.8.0\n",
            "  Attempting uninstall: gast\n",
            "    Found existing installation: gast 0.6.0\n",
            "    Uninstalling gast-0.6.0:\n",
            "      Successfully uninstalled gast-0.6.0\n",
            "  Attempting uninstall: jaxlib\n",
            "    Found existing installation: jaxlib 0.5.1\n",
            "    Uninstalling jaxlib-0.5.1:\n",
            "      Successfully uninstalled jaxlib-0.5.1\n",
            "  Attempting uninstall: google-auth-oauthlib\n",
            "    Found existing installation: google-auth-oauthlib 1.2.2\n",
            "    Uninstalling google-auth-oauthlib-1.2.2:\n",
            "      Successfully uninstalled google-auth-oauthlib-1.2.2\n",
            "  Attempting uninstall: tensorboard\n",
            "    Found existing installation: tensorboard 2.18.0\n",
            "    Uninstalling tensorboard-2.18.0:\n",
            "      Successfully uninstalled tensorboard-2.18.0\n",
            "  Attempting uninstall: jax\n",
            "    Found existing installation: jax 0.5.2\n",
            "    Uninstalling jax-0.5.2:\n",
            "      Successfully uninstalled jax-0.5.2\n",
            "  Attempting uninstall: tensorflow\n",
            "    Found existing installation: tensorflow 2.18.0\n",
            "    Uninstalling tensorflow-2.18.0:\n",
            "      Successfully uninstalled tensorflow-2.18.0\n",
            "\u001b[31mERROR: pip's dependency resolver does not currently take into account all the packages that are installed. This behaviour is the source of the following dependency conflicts.\n",
            "blosc2 3.5.0 requires numpy>=1.26, but you have numpy 1.23.5 which is incompatible.\n",
            "scikit-image 0.25.2 requires numpy>=1.24, but you have numpy 1.23.5 which is incompatible.\n",
            "treescope 0.1.9 requires numpy>=1.25.2, but you have numpy 1.23.5 which is incompatible.\n",
            "ydf 0.12.0 requires protobuf<6.0.0,>=5.29.1, but you have protobuf 4.25.8 which is incompatible.\n",
            "orbax-checkpoint 0.11.16 requires jax>=0.5.0, but you have jax 0.4.30 which is incompatible.\n",
            "tensorflow-text 2.18.1 requires tensorflow<2.19,>=2.18.0, but you have tensorflow 2.12.0 which is incompatible.\n",
            "albumentations 2.0.8 requires numpy>=1.24.4, but you have numpy 1.23.5 which is incompatible.\n",
            "xarray-einstats 0.9.1 requires numpy>=1.25, but you have numpy 1.23.5 which is incompatible.\n",
            "xarray 2025.3.1 requires numpy>=1.24, but you have numpy 1.23.5 which is incompatible.\n",
            "pymc 5.23.0 requires numpy>=1.25.0, but you have numpy 1.23.5 which is incompatible.\n",
            "albucore 0.0.24 requires numpy>=1.24.4, but you have numpy 1.23.5 which is incompatible.\n",
            "bigframes 2.8.0 requires cloudpickle>=2.0.0, but you have cloudpickle 1.6.0 which is incompatible.\n",
            "bigframes 2.8.0 requires numpy>=1.24.0, but you have numpy 1.23.5 which is incompatible.\n",
            "imbalanced-learn 0.13.0 requires numpy<3,>=1.24.3, but you have numpy 1.23.5 which is incompatible.\n",
            "grpcio-status 1.71.2 requires protobuf<6.0dev,>=5.26.1, but you have protobuf 4.25.8 which is incompatible.\n",
            "thinc 8.3.6 requires numpy<3.0.0,>=2.0.0, but you have numpy 1.23.5 which is incompatible.\n",
            "tensorflow-decision-forests 1.11.0 requires tensorflow==2.18.0, but you have tensorflow 2.12.0 which is incompatible.\n",
            "tf-keras 2.18.0 requires tensorflow<2.19,>=2.18, but you have tensorflow 2.12.0 which is incompatible.\n",
            "flax 0.10.6 requires jax>=0.5.1, but you have jax 0.4.30 which is incompatible.\n",
            "db-dtypes 1.4.3 requires numpy>=1.24.0, but you have numpy 1.23.5 which is incompatible.\n",
            "chex 0.1.89 requires numpy>=1.24.1, but you have numpy 1.23.5 which is incompatible.\u001b[0m\u001b[31m\n",
            "\u001b[0mSuccessfully installed gast-0.4.0 google-auth-oauthlib-1.0.0 jax-0.4.30 jaxlib-0.4.30 keras-2.12.0 numpy-1.23.5 protobuf-4.25.8 tensorboard-2.12.3 tensorflow-2.12.0 tensorflow-estimator-2.12.0 wrapt-1.14.1\n"
          ]
        },
        {
          "output_type": "display_data",
          "data": {
            "application/vnd.colab-display-data+json": {
              "pip_warning": {
                "packages": [
                  "google",
                  "numpy"
                ]
              },
              "id": "3ef32cbcc223487fb0383c91a9bf8fbb"
            }
          },
          "metadata": {}
        }
      ],
      "source": [
        "if IN_COLAB:\n",
        "  %pip install gym==0.17.3\n",
        "  %pip install git+https://github.com/Kojoley/atari-py.git\n",
        "  %pip install keras-rl2==1.0.5\n",
        "  %pip install tensorflow==2.12  #2.8\n",
        "else:\n",
        "  %pip install gym==0.17.3\n",
        "  %pip install git+https://github.com/Kojoley/atari-py.git\n",
        "  %pip install pyglet==1.5.0\n",
        "  %pip install h5py==3.1.0\n",
        "  %pip install Pillow==9.5.0\n",
        "  %pip install keras-rl2==1.0.5\n",
        "  %pip install Keras==2.2.4\n",
        "  %pip install tensorflow==2.5.3\n",
        "  %pip install torch==2.0.1\n",
        "  %pip install agents==1.4.0"
      ]
    },
    {
      "cell_type": "markdown",
      "metadata": {
        "id": "4hzP_5ZuGb2X"
      },
      "source": [
        "---\n",
        "## **PARTE 2**. Enunciado\n",
        "\n",
        "Consideraciones a tener en cuenta:\n",
        "\n",
        "- El entorno sobre el que trabajaremos será _SpaceInvaders-v0_ y el algoritmo que usaremos será _DQN_.\n",
        "\n",
        "- Para nuestro ejercicio, el requisito mínimo será alcanzado cuando el agente consiga una **media de recompensa por encima de 20 puntos en modo test**. Por ello, esta media de la recompensa se calculará a partir del código de test en la última celda del notebook.\n",
        "\n",
        "Este proyecto práctico consta de tres partes:\n",
        "\n",
        "1.   Implementar la red neuronal que se usará en la solución\n",
        "2.   Implementar las distintas piezas de la solución DQN\n",
        "3.   Justificar la respuesta en relación a los resultados obtenidos\n",
        "\n",
        "**Rúbrica**: Se valorará la originalidad en la solución aportada, así como la capacidad de discutir los resultados de forma detallada. El requisito mínimo servirá para aprobar la actividad, bajo premisa de que la discusión del resultado sera apropiada.\n",
        "\n",
        "IMPORTANTE:\n",
        "\n",
        "* Si no se consigue una puntuación óptima, responder sobre la mejor puntuación obtenida.\n",
        "* Para entrenamientos largos, recordad que podéis usar checkpoints de vuestros modelos para retomar los entrenamientos. En este caso, recordad cambiar los parámetros adecuadamente (sobre todo los relacionados con el proceso de exploración).\n",
        "* Se deberá entregar unicamente el notebook y los pesos del mejor modelo en un fichero .zip, de forma organizada.\n",
        "* Cada alumno deberá de subir la solución de forma individual."
      ]
    },
    {
      "cell_type": "markdown",
      "metadata": {
        "id": "6_b3mzw8IzJP"
      },
      "source": [
        "---\n",
        "## **PARTE 3**. Desarrollo y preguntas"
      ]
    },
    {
      "cell_type": "markdown",
      "metadata": {
        "id": "duPmUNOVGb2a"
      },
      "source": [
        "#### Importar librerías"
      ]
    },
    {
      "cell_type": "code",
      "execution_count": null,
      "metadata": {
        "id": "j3eRhgI-Gb2a"
      },
      "outputs": [],
      "source": [
        "from __future__ import division\n",
        "\n",
        "from PIL import Image\n",
        "import numpy as np\n",
        "import gym\n",
        "\n",
        "from tensorflow.keras.models import Sequential\n",
        "from tensorflow.keras.layers import Dense, Activation, Flatten, Convolution2D, Permute\n",
        "# from keras.optimizers import Adam  # from tensorflow.keras.optimizers import Adam\n",
        "# from tensorflow.keras.optimizers import Adam\n",
        "from keras.optimizers import Adam\n",
        "import tensorflow.keras.backend as K\n",
        "\n",
        "from rl.agents.dqn import DQNAgent\n",
        "from rl.policy import LinearAnnealedPolicy, BoltzmannQPolicy, EpsGreedyQPolicy\n",
        "from rl.memory import SequentialMemory\n",
        "from rl.core import Processor\n",
        "from rl.callbacks import FileLogger, ModelIntervalCheckpoint"
      ]
    },
    {
      "cell_type": "markdown",
      "metadata": {
        "id": "f4jgQjzoGb2a"
      },
      "source": [
        "#### Configuración base"
      ]
    },
    {
      "cell_type": "code",
      "execution_count": null,
      "metadata": {
        "id": "jwOE6I_KGb2a"
      },
      "outputs": [],
      "source": [
        "INPUT_SHAPE = (84, 84)\n",
        "WINDOW_LENGTH = 4\n",
        "\n",
        "env_name = 'SpaceInvaders-v0'\n",
        "env = gym.make(env_name)\n",
        "\n",
        "np.random.seed(123)\n",
        "env.seed(123)\n",
        "nb_actions = env.action_space.n"
      ]
    },
    {
      "cell_type": "code",
      "source": [
        "class AtariProcessor(Processor):\n",
        "    def process_observation(self, observation):\n",
        "        assert observation.ndim == 3  # (height, width, channel)\n",
        "        img = Image.fromarray(observation)\n",
        "        img = img.resize(INPUT_SHAPE).convert('L')\n",
        "        processed_observation = np.array(img)\n",
        "        assert processed_observation.shape == INPUT_SHAPE\n",
        "        return processed_observation.astype('uint8')\n",
        "\n",
        "    def process_state_batch(self, batch):\n",
        "        processed_batch = batch.astype('float32') / 255.\n",
        "        return processed_batch\n",
        "\n",
        "    def process_reward(self, reward):\n",
        "        return np.clip(reward, -1., 1.)"
      ],
      "metadata": {
        "id": "uRl-zPaXr4iQ"
      },
      "execution_count": null,
      "outputs": []
    },
    {
      "cell_type": "code",
      "execution_count": null,
      "metadata": {
        "id": "ayFHvtRSPH7F"
      },
      "outputs": [],
      "source": [
        "processor = AtariProcessor()"
      ]
    },
    {
      "cell_type": "markdown",
      "metadata": {
        "id": "7yitXTADGb2b"
      },
      "source": [
        "## 1. Implementación de la red neuronal"
      ]
    },
    {
      "cell_type": "code",
      "execution_count": null,
      "metadata": {
        "id": "3QmA5qbKpKpW"
      },
      "outputs": [],
      "source": [
        "from tensorflow.keras.layers import Conv2D, Flatten, Dense, Permute"
      ]
    },
    {
      "cell_type": "code",
      "execution_count": null,
      "metadata": {
        "colab": {
          "base_uri": "https://localhost:8080/"
        },
        "id": "O4GKrfWSGb2b",
        "outputId": "671d6cae-589f-420f-97b0-e20a88c7bd42"
      },
      "outputs": [
        {
          "output_type": "stream",
          "name": "stdout",
          "text": [
            "Model: \"sequential\"\n",
            "_________________________________________________________________\n",
            " Layer (type)                Output Shape              Param #   \n",
            "=================================================================\n",
            " permute (Permute)           (None, 84, 84, 4)         0         \n",
            "                                                                 \n",
            " conv2d (Conv2D)             (None, 20, 20, 32)        8224      \n",
            "                                                                 \n",
            " conv2d_1 (Conv2D)           (None, 9, 9, 64)          32832     \n",
            "                                                                 \n",
            " conv2d_2 (Conv2D)           (None, 7, 7, 64)          36928     \n",
            "                                                                 \n",
            " flatten (Flatten)           (None, 3136)              0         \n",
            "                                                                 \n",
            " dense (Dense)               (None, 512)               1606144   \n",
            "                                                                 \n",
            " dense_1 (Dense)             (None, 6)                 3078      \n",
            "                                                                 \n",
            "=================================================================\n",
            "Total params: 1,687,206\n",
            "Trainable params: 1,687,206\n",
            "Non-trainable params: 0\n",
            "_________________________________________________________________\n",
            "None\n"
          ]
        }
      ],
      "source": [
        "# Red neuronal\n",
        "model = Sequential()\n",
        "model.add(Permute((2, 3, 1), input_shape=(WINDOW_LENGTH, 84, 84)))\n",
        "model.add(Conv2D(32, (8, 8), strides=(4, 4), activation='relu'))\n",
        "model.add(Conv2D(64, (4, 4), strides=(2, 2), activation='relu'))\n",
        "model.add(Conv2D(64, (3, 3), strides=(1, 1), activation='relu'))\n",
        "model.add(Flatten())\n",
        "model.add(Dense(512, activation='relu'))\n",
        "model.add(Dense(nb_actions, activation='linear'))\n",
        "\n",
        "print(model.summary())"
      ]
    },
    {
      "cell_type": "markdown",
      "metadata": {
        "id": "OB9-_5HPGb2b"
      },
      "source": [
        "## 2. Implementación de la solución DQN"
      ]
    },
    {
      "cell_type": "markdown",
      "source": [
        "En este trabajo hemos probado cuatro enfoques diferentes, a continuación los presentamos:"
      ],
      "metadata": {
        "id": "m8Gu05YdjnQi"
      }
    },
    {
      "cell_type": "markdown",
      "source": [
        "### Primer enfoque: Mejorar progresivamente mediante entrenamientos sucesivos"
      ],
      "metadata": {
        "id": "kHZLDmwlq3ud"
      }
    },
    {
      "cell_type": "markdown",
      "source": [
        "Este enfoque consiste en múltiples fases donde el agente mejora progresivamente. Se parte de un entrenamiento inicial con alta exploración y, en etapas posteriores, se ajusta gradualmente el nivel de aleatoriedad (epsilon) para consolidar lo aprendido y refinar la estrategia. Además, se incorporan diversas mejoras adicionales que contribuyen a optimizar el aprendizaje."
      ],
      "metadata": {
        "id": "NW2aCtQ3YHEA"
      }
    },
    {
      "cell_type": "markdown",
      "source": [
        "Primero hacemos una modificación del preprocesador, ya que en las observaciones (imágenes del juego) se incluye una barra superior que muestra el puntaje actual. Sin embargo, esta región de la imagen no forma parte del estado del juego que el agente necesita para tomar decisiones óptimas, ya que el puntaje refleja el rendimiento pasado, no información sobre la situación actual en el entorno (como la posición de enemigos o del jugador). Además, incluir la puntuación del juego en las observaciones puede introducir sesgos en el aprendizaje del agente, ya que podría comenzar a tomar decisiones basándose en el puntaje acumulado en lugar de en la información como la posición de los enemigos\n",
        "\n",
        "Originalmente las observaciones se ven de la siguiente manera (Podemos ver la puntuación en la parte superior):"
      ],
      "metadata": {
        "id": "BuZ3-c0LlDZI"
      }
    },
    {
      "cell_type": "code",
      "source": [
        "processor = AtariProcessor()"
      ],
      "metadata": {
        "id": "Ao4K3o1vrXB1"
      },
      "execution_count": null,
      "outputs": []
    },
    {
      "cell_type": "code",
      "execution_count": null,
      "metadata": {
        "colab": {
          "base_uri": "https://localhost:8080/",
          "height": 428
        },
        "id": "amf0W7J0O1Ea",
        "outputId": "98e94451-7067-400e-f6e5-09becf7ec205"
      },
      "outputs": [
        {
          "output_type": "display_data",
          "data": {
            "text/plain": [
              "<Figure size 640x480 with 1 Axes>"
            ],
            "image/png": "[encoded data removed]"
          },
          "metadata": {}
        }
      ],
      "source": [
        "import matplotlib.pyplot as plt\n",
        "\n",
        "frame = env.reset()\n",
        "processed_frame = processor.process_observation(frame)\n",
        "\n",
        "plt.imshow(processed_frame, cmap='gray')\n",
        "plt.title(\"Processed Frame\")\n",
        "plt.axis('off')\n",
        "plt.show()"
      ]
    },
    {
      "cell_type": "markdown",
      "source": [
        "Por lo que procedemos a quitar esta región de la imagen agregando al preprocesador la línea: `cropped_observation = observation[34:194, :, :]`"
      ],
      "metadata": {
        "id": "gynlkWTxoFcV"
      }
    },
    {
      "cell_type": "code",
      "execution_count": null,
      "metadata": {
        "id": "PofZgFA1OoJS"
      },
      "outputs": [],
      "source": [
        "from PIL import Image\n",
        "import numpy as np\n",
        "\n",
        "class AtariProcessor(Processor):\n",
        "    def process_observation(self, observation):\n",
        "        assert observation.ndim == 3  # (height, width, channel)\n",
        "\n",
        "        # 1. Recortar imagen (eliminar HUD, solo zona de juego)\n",
        "        # Gym Atari frames suelen ser 210x160x3, recortamos y=34:194\n",
        "        cropped_observation = observation[34:194, :, :]\n",
        "\n",
        "        # 2. Convertir a PIL, escala de grises, redimensionar\n",
        "        img = Image.fromarray(cropped_observation)\n",
        "        img = img.resize(INPUT_SHAPE).convert('L')  # INPUT_SHAPE usualmente (84, 84)\n",
        "\n",
        "        processed_observation = np.array(img)\n",
        "        assert processed_observation.shape == INPUT_SHAPE\n",
        "        return processed_observation.astype('uint8')\n",
        "\n",
        "    def process_state_batch(self, batch):\n",
        "        processed_batch = batch.astype('float32') / 255.\n",
        "        return processed_batch\n",
        "\n",
        "    def process_reward(self, reward):\n",
        "        return np.clip(reward, -1., 1.)"
      ]
    },
    {
      "cell_type": "markdown",
      "source": [
        "Se ha quitado la puntuación:"
      ],
      "metadata": {
        "id": "eV8bmbxBeFvj"
      }
    },
    {
      "cell_type": "code",
      "execution_count": null,
      "metadata": {
        "colab": {
          "base_uri": "https://localhost:8080/",
          "height": 428
        },
        "id": "zOvkptkyP1t6",
        "outputId": "aa52da7d-2a4a-4010-ed02-68663d952096"
      },
      "outputs": [
        {
          "output_type": "display_data",
          "data": {
            "text/plain": [
              "<Figure size 640x480 with 1 Axes>"
            ],
            "image/png": "[encoded data removed]"
          },
          "metadata": {}
        }
      ],
      "source": [
        "import matplotlib.pyplot as plt\n",
        "\n",
        "frame = env.reset()\n",
        "processed_frame = processor.process_observation(frame)\n",
        "\n",
        "plt.imshow(processed_frame, cmap='gray')\n",
        "plt.title(\"Processed Frame\")\n",
        "plt.axis('off')\n",
        "plt.show()"
      ]
    },
    {
      "cell_type": "markdown",
      "metadata": {
        "id": "tMxBpewG7GsH"
      },
      "source": [
        "Una vez cambiado el preprocesador, ahora hacemos una modificación al entorno de entrenamiento (Esta modificación se la usa solo para entrenar, cuando se haga el test se utilizará el entorno original, sin modificaciones).\n",
        "\n",
        "Se utilizó un wrapper que finaliza el episodio al perder una vida. Esta modificación reduce la duración promedio de los episodios, lo que permite realizar más iteraciones de entrenamiento en menos tiempo. Además evita que el agente sobreviva por largo tiempo en las vidas siguientes, sin haber mejorado significativamente su estrategia."
      ]
    },
    {
      "cell_type": "code",
      "execution_count": null,
      "metadata": {
        "id": "LXGZHQ4_8nVe"
      },
      "outputs": [],
      "source": [
        "import gym\n",
        "\n",
        "class LifeTerminatingWrapper(gym.Wrapper):\n",
        "    def __init__(self, env):\n",
        "        super().__init__(env)\n",
        "        self.lives = 0\n",
        "        self.was_real_done = True\n",
        "        self.steps_since_enemy_kill = 0  # Nuevo contador\n",
        "        self.consecutive_shots = 0\n",
        "\n",
        "    def step(self, action):\n",
        "        obs, reward, done, info = self.env.step(action)\n",
        "\n",
        "        # --- Terminar episodio si pierde una vida ---\n",
        "        lives = info.get('ale.lives', 0)\n",
        "        if self.lives > lives > 0:\n",
        "            done = True\n",
        "        self.lives = lives\n",
        "\n",
        "        return obs, reward, done, info\n",
        "\n",
        "    def reset(self, **kwargs):\n",
        "        if self.was_real_done:\n",
        "            obs = self.env.reset(**kwargs)\n",
        "        else:\n",
        "            obs, _, _, _ = self.env.step(0)\n",
        "        self.lives = self.env.unwrapped.ale.lives()\n",
        "        self.last_direction = None\n",
        "        self.direction_streak = 0\n",
        "        return obs"
      ]
    },
    {
      "cell_type": "code",
      "execution_count": null,
      "metadata": {
        "id": "mtOZyg8Wo2KR"
      },
      "outputs": [],
      "source": [
        "import os\n",
        "from gym.wrappers import Monitor\n",
        "\n",
        "checkpoint_dir = drive_root\n",
        "os.makedirs(checkpoint_dir, exist_ok=True)"
      ]
    },
    {
      "cell_type": "markdown",
      "source": [
        "También se ha implementado un Callback que permite guardar checkpoints de los pesos del modelo en intervalos regulares de pasos durante el entrenamiento, así como registrar las recompensas acumuladas al final de cada episodio."
      ],
      "metadata": {
        "id": "tshlDjfqdXsV"
      }
    },
    {
      "cell_type": "code",
      "execution_count": null,
      "metadata": {
        "id": "kYEJLlV0sQeK"
      },
      "outputs": [],
      "source": [
        "from rl.callbacks import Callback\n",
        "\n",
        "class SaveCheckpointCallback(Callback):\n",
        "    def __init__(self, interval, path_template, reward_log_path):\n",
        "        self.interval = interval\n",
        "        self.path_template = path_template\n",
        "        self.reward_log_path = reward_log_path\n",
        "        self.episode_rewards = []\n",
        "\n",
        "        # Crear carpeta para rewards si es necesario\n",
        "        if self.reward_log_path:\n",
        "            reward_dir = os.path.dirname(self.reward_log_path)\n",
        "            if reward_dir and not os.path.exists(reward_dir):\n",
        "                os.makedirs(reward_dir)\n",
        "                print(f\"📂 Carpeta creada: {reward_dir}\")\n",
        "\n",
        "    def on_step_end(self, step, logs={}):\n",
        "        if step % self.interval == 0:\n",
        "            filename = self.path_template.format(step=step)\n",
        "            print(f\"\\n💾 Guardando pesos en: {filename}\")\n",
        "            self.model.save_weights(filename, overwrite=True)\n",
        "\n",
        "\n",
        "    def on_episode_end(self, episode, logs={}):\n",
        "        reward = logs.get('episode_reward', 0)\n",
        "        self.episode_rewards.append(reward)\n",
        "        if self.reward_log_path:\n",
        "            np.save(self.reward_log_path, np.array(self.episode_rewards))"
      ]
    },
    {
      "cell_type": "code",
      "execution_count": null,
      "metadata": {
        "id": "Q-QmXS59pdPS"
      },
      "outputs": [],
      "source": [
        "memory = SequentialMemory(limit=330000, window_length=WINDOW_LENGTH)"
      ]
    },
    {
      "cell_type": "markdown",
      "source": [
        "Creamos el entorno de entrenamiento y lo modificamos envolviéndolo con `LifeTerminatingWrapper` (el episodio termina tras una vida)"
      ],
      "metadata": {
        "id": "lSMixTgMudHk"
      }
    },
    {
      "cell_type": "code",
      "execution_count": null,
      "metadata": {
        "id": "RlCT0pUP6OXa"
      },
      "outputs": [],
      "source": [
        "env = gym.make(env_name)\n",
        "env = LifeTerminatingWrapper(env)"
      ]
    },
    {
      "cell_type": "markdown",
      "metadata": {
        "id": "MnGIkWsfUSHx"
      },
      "source": [
        "#### Primer entrenamiento"
      ]
    },
    {
      "cell_type": "markdown",
      "source": [
        "En este primer entrenamiento, se utiliza una estrategia de exploración basada en ε-greedy con una disminución lineal del parámetro ε desde 1.0 hasta 0.1, lo cual permite al agente explorar ampliamente al inicio y luego reducir progresivamente la aleatoriedad en sus acciones. Esta disminución ocurre a lo largo de 300,000 pasos (nb_steps_annealing), de un total de 400,000 pasos de entrenamiento (nb_steps). Durante los últimos 100,000 pasos, el valor de ε se mantiene constante en 0.1, permitiendo una fase de ajuste fino con menor aleatoriedad. También es importante que el warmup no sea menor de 40,000 pasos, ya que durante esta fase el agente recopila suficientes experiencias en la memoria antes de comenzar a entrenar, lo cual es crucial para evitar aprender a partir de datos poco variados o no representativos.\n",
        "\n",
        "El agente se configura con un Double DQN `(enable_double_dqn=True)` para mitigar la sobreestimación de valores Q que ocurre en el DQN estándar, mejorando así la estabilidad del entrenamiento. La actualización de la red target se realiza cada 8500 pasos para mantener un equilibrio entre estabilidad y adaptabilidad: actualizaciones muy frecuentes pueden introducir ruido, mientras que actualizaciones muy espaciadas ralentizan el aprendizaje.\n",
        "\n",
        "Se utiliza clipping del error temporal con `delta_clip=1.0` para limitar la magnitud de las actualizaciones y evitar que errores grandes desestabilicen el entrenamiento. Finalmente, se emplea el optimizador Adam con una tasa de aprendizaje de 0.0001, ya que proporciona una convergencia eficiente, y un valor bajo de lr evita oscilaciones excesivas en las primeras fases del entrenamiento."
      ],
      "metadata": {
        "id": "kFzL6L7jv-DR"
      }
    },
    {
      "cell_type": "code",
      "execution_count": null,
      "metadata": {
        "id": "SRFy2z18UbZ2"
      },
      "outputs": [],
      "source": [
        "# Exploracion 1 a 0.1\n",
        "nb_steps = 400000\n",
        "nb_steps_annealing = 300000\n",
        "nb_steps_warmup=40000\n",
        "\n",
        "policy = LinearAnnealedPolicy(EpsGreedyQPolicy(),\n",
        "                              attr='eps',\n",
        "                              value_max=1,\n",
        "                              value_min=0.1,\n",
        "                              value_test=0.0,\n",
        "                              nb_steps=nb_steps_annealing)\n",
        "\n",
        "\n",
        "dqn = DQNAgent(model=model,\n",
        "               nb_actions=nb_actions,\n",
        "               policy=policy,\n",
        "               memory=memory,\n",
        "               processor=processor,\n",
        "               nb_steps_warmup=nb_steps_warmup,\n",
        "               enable_double_dqn=True,\n",
        "               gamma=0.99,\n",
        "               target_model_update=8500,\n",
        "               train_interval=4,\n",
        "               delta_clip=1.0)\n",
        "\n",
        "dqn.compile(Adam(learning_rate=0.0001), metrics=['mae'])"
      ]
    },
    {
      "cell_type": "markdown",
      "source": [
        "Se define una ruta para guardar los checkpoints del modelo y otra para registrar las recompensas por episodio y procedemos a entrenar el agente"
      ],
      "metadata": {
        "id": "oPGmkkany-3w"
      }
    },
    {
      "cell_type": "code",
      "source": [
        "checkpoint_path = os.path.join(checkpoint_dir, 'cut/dqn_SpaceInvaders-v0_weights.h5f')\n",
        "reward_log_path = os.path.join(checkpoint_dir, 'logs/episode_rewards_cut.npy')\n",
        "\n",
        "checkpoint_callback = SaveCheckpointCallback(interval=10000, path_template=checkpoint_path, reward_log_path=reward_log_path)\n",
        "\n",
        "dqn.fit(env,\n",
        "        nb_steps=nb_steps,\n",
        "        visualize=False,\n",
        "        verbose=2,\n",
        "        callbacks=[checkpoint_callback])"
      ],
      "metadata": {
        "id": "i1V6iy0Xuw4k"
      },
      "execution_count": null,
      "outputs": []
    },
    {
      "cell_type": "markdown",
      "source": [
        "Podemos visualizar las recompensas acumuladas por episodio en el tiempo (guardadas en `logs/episode_rewards_cut.npy`). Y vemos que desde el episodio 800 el agente mejora su rendimiento, obteniendo puntuaciones mayores (Se debe tener en cuenta que debido al `LifeTerminatingWrapper` del entorno, el agente está jugando con 1 sola vida, por lo que si quitamos el wrapper y el agente juega con las 3 vidas obtendrá una puntuación mayor)"
      ],
      "metadata": {
        "id": "FsmhCfOIzgnt"
      }
    },
    {
      "cell_type": "code",
      "execution_count": null,
      "metadata": {
        "colab": {
          "base_uri": "https://localhost:8080/",
          "height": 472
        },
        "id": "2-B0Ju5PlaXA",
        "outputId": "31196e4c-d911-4d26-beb2-1f3b90305304"
      },
      "outputs": [
        {
          "output_type": "display_data",
          "data": {
            "text/plain": [
              "<Figure size 640x480 with 1 Axes>"
            ],
            "image/png": "[encoded data removed]"
          },
          "metadata": {}
        }
      ],
      "source": [
        "import matplotlib.pyplot as plt\n",
        "import numpy as np\n",
        "\n",
        "episode_rewards = np.load('logs/episode_rewards_cut.npy')\n",
        "\n",
        "plt.plot(episode_rewards)\n",
        "plt.xlabel('Episodio')\n",
        "plt.ylabel('Reward total')\n",
        "plt.title('Evolución del entrenamiento')\n",
        "plt.grid()\n",
        "plt.show()"
      ]
    },
    {
      "cell_type": "markdown",
      "source": [
        "Se guarda la `memory` del agente porque contiene trazas diversas acumuladas durante el entrenamiento, valiosas al haberse recolectado con un valor de ε que disminuye desde 1 a 0.1. Esta diversidad de transiciones permite retomar el entrenamiento en el futuro con una base variada, lo cual contribuye a una mayor estabilidad en el aprendizaje."
      ],
      "metadata": {
        "id": "tVTpBXpF0RwB"
      }
    },
    {
      "cell_type": "code",
      "execution_count": null,
      "metadata": {
        "id": "IVznFIXzlcD5"
      },
      "outputs": [],
      "source": [
        "# Guardar\n",
        "import pickle\n",
        "\n",
        "# Suponiendo que `memory` es tu SequentialMemory\n",
        "with open('sequential_memory_cut.pkl', 'wb') as f:\n",
        "    pickle.dump(memory, f)"
      ]
    },
    {
      "cell_type": "markdown",
      "source": [
        "Para obtener el rendimiento promedio del agente, se redefine el entorno sin utilizar el `LifeTerminatingWrapper` permitiéndole jugar con las tres vidas originales del juego. De este modo, se prueba al agente en las condiciones estándar del entorno"
      ],
      "metadata": {
        "id": "nn-2thtw14Pv"
      }
    },
    {
      "cell_type": "code",
      "execution_count": null,
      "metadata": {
        "id": "E2gp5LHiAYef"
      },
      "outputs": [],
      "source": [
        "env = gym.make(env_name)"
      ]
    },
    {
      "cell_type": "markdown",
      "source": [
        "Se evalúa al agente durante 50 episodios para obtener una medida confiable de su desempeño promedio."
      ],
      "metadata": {
        "id": "eCSdwF9b2s8p"
      }
    },
    {
      "cell_type": "code",
      "execution_count": null,
      "metadata": {
        "colab": {
          "base_uri": "https://localhost:8080/"
        },
        "id": "IDHkowdllubK",
        "outputId": "59345d92-c7a4-462b-c7a7-9942b05c1180"
      },
      "outputs": [
        {
          "output_type": "stream",
          "name": "stdout",
          "text": [
            "Testing for 50 episodes ...\n",
            "Episode 1: reward: 13.000, steps: 677\n",
            "Episode 2: reward: 25.000, steps: 925\n",
            "Episode 3: reward: 12.000, steps: 495\n",
            "Episode 4: reward: 24.000, steps: 1296\n",
            "Episode 5: reward: 17.000, steps: 1028\n",
            "Episode 6: reward: 10.000, steps: 531\n",
            "Episode 7: reward: 15.000, steps: 626\n",
            "Episode 8: reward: 15.000, steps: 914\n",
            "Episode 9: reward: 10.000, steps: 486\n",
            "Episode 10: reward: 14.000, steps: 953\n",
            "Episode 11: reward: 11.000, steps: 602\n",
            "Episode 12: reward: 26.000, steps: 1287\n",
            "Episode 13: reward: 14.000, steps: 956\n",
            "Episode 14: reward: 20.000, steps: 944\n",
            "Episode 15: reward: 12.000, steps: 663\n",
            "Episode 16: reward: 17.000, steps: 1266\n",
            "Episode 17: reward: 26.000, steps: 1752\n",
            "Episode 18: reward: 15.000, steps: 1296\n",
            "Episode 19: reward: 7.000, steps: 413\n",
            "Episode 20: reward: 16.000, steps: 838\n",
            "Episode 21: reward: 13.000, steps: 731\n",
            "Episode 22: reward: 10.000, steps: 596\n",
            "Episode 23: reward: 14.000, steps: 951\n",
            "Episode 24: reward: 11.000, steps: 601\n",
            "Episode 25: reward: 13.000, steps: 671\n",
            "Episode 26: reward: 28.000, steps: 1046\n",
            "Episode 27: reward: 10.000, steps: 563\n",
            "Episode 28: reward: 24.000, steps: 945\n",
            "Episode 29: reward: 20.000, steps: 945\n",
            "Episode 30: reward: 12.000, steps: 1012\n",
            "Episode 31: reward: 17.000, steps: 1088\n",
            "Episode 32: reward: 11.000, steps: 686\n",
            "Episode 33: reward: 22.000, steps: 858\n",
            "Episode 34: reward: 16.000, steps: 1318\n",
            "Episode 35: reward: 23.000, steps: 1166\n",
            "Episode 36: reward: 13.000, steps: 842\n",
            "Episode 37: reward: 10.000, steps: 628\n",
            "Episode 38: reward: 10.000, steps: 543\n",
            "Episode 39: reward: 22.000, steps: 1374\n",
            "Episode 40: reward: 22.000, steps: 879\n",
            "Episode 41: reward: 23.000, steps: 1325\n",
            "Episode 42: reward: 16.000, steps: 894\n",
            "Episode 43: reward: 11.000, steps: 515\n",
            "Episode 44: reward: 10.000, steps: 955\n",
            "Episode 45: reward: 15.000, steps: 710\n",
            "Episode 46: reward: 27.000, steps: 1241\n",
            "Episode 47: reward: 10.000, steps: 614\n",
            "Episode 48: reward: 24.000, steps: 996\n",
            "Episode 49: reward: 23.000, steps: 1068\n",
            "Episode 50: reward: 11.000, steps: 677\n"
          ]
        }
      ],
      "source": [
        "# Testing part to calculate the mean reward\n",
        "weights_filename = checkpoint_dir + '/cut/dqn_{}_weights.h5f'.format(env_name)\n",
        "dqn.load_weights(weights_filename)\n",
        "env = Monitor(env, './video', force=True)\n",
        "history = dqn.test(env, nb_episodes=50, visualize=False)"
      ]
    },
    {
      "cell_type": "markdown",
      "source": [
        "El agente alcanza un rendimiento promedio de 16.2, por lo que se realizarán nuevos entrenamientos partiendo de los pesos actuales, aprovechando el progreso logrado hasta el momento para continuar optimizando su desempeño."
      ],
      "metadata": {
        "id": "CR6GU3kS2_Y1"
      }
    },
    {
      "cell_type": "code",
      "execution_count": null,
      "metadata": {
        "colab": {
          "base_uri": "https://localhost:8080/"
        },
        "id": "sKO5uy6Ll2MZ",
        "outputId": "9d658fef-c39f-4d2f-9aef-22cacece8eb9"
      },
      "outputs": [
        {
          "output_type": "stream",
          "name": "stdout",
          "text": [
            "Recompensa promedio: 16.2\n"
          ]
        }
      ],
      "source": [
        "# Access episode rewards\n",
        "episode_rewards = history.history['episode_reward']\n",
        "\n",
        "# Calcular el promedio\n",
        "promedio = np.mean(episode_rewards)\n",
        "\n",
        "print(f\"Recompensa promedio: {promedio}\")"
      ]
    },
    {
      "cell_type": "markdown",
      "source": [
        "#### Segundo entrenamiento"
      ],
      "metadata": {
        "id": "BNZom_vaHyEy"
      }
    },
    {
      "cell_type": "markdown",
      "source": [
        "Se redefine el entorno utilizando nuevamente el wrapper que limita al agente a jugar con una sola vida"
      ],
      "metadata": {
        "id": "gxFEhwyLbdRl"
      }
    },
    {
      "cell_type": "code",
      "source": [
        "env = gym.make(env_name)\n",
        "env = LifeTerminatingWrapper(env)"
      ],
      "metadata": {
        "id": "saHuuPGS6lrp"
      },
      "execution_count": null,
      "outputs": []
    },
    {
      "cell_type": "markdown",
      "source": [
        "En esta fase, se realiza un entrenamiento con una menor cantidad de pasos (200000), ya que no se parte desde cero, sino desde un agente que ya ha aprendido una estrategia inicial. Además, se escogió iniciar el entrenamiento con un valor de ε relativamente alto (0.4) para fomentar la exploración y evitar que el agente se estanque en una estrategia subóptima. Esto es importante dado que el entrenamiento previo ya había sido ajustado durante los últimos 100,000 pasos con un ε fijo de 0.1, lo que podría limitar la diversidad de experiencias recientes."
      ],
      "metadata": {
        "id": "kgGvEXJCbn7N"
      }
    },
    {
      "cell_type": "code",
      "source": [
        "nb_steps = 200000\n",
        "nb_steps_annealing = 180000\n",
        "nb_steps_warmup=40000\n",
        "\n",
        "policy = LinearAnnealedPolicy(EpsGreedyQPolicy(),\n",
        "                              attr='eps',\n",
        "                              value_max=0.4,\n",
        "                              value_min=0.1,\n",
        "                              value_test=0.0,\n",
        "                              nb_steps=nb_steps_annealing)\n",
        "\n",
        "\n",
        "dqn = DQNAgent(model=model,\n",
        "               nb_actions=nb_actions,\n",
        "               policy=policy,\n",
        "               memory=memory,\n",
        "               processor=processor,\n",
        "               nb_steps_warmup=nb_steps_warmup,\n",
        "               enable_double_dqn=True,\n",
        "               gamma=0.99,\n",
        "               target_model_update=8500,\n",
        "               train_interval=4,\n",
        "               delta_clip=1.0)\n",
        "\n",
        "dqn.compile(Adam(learning_rate=0.0001), metrics=['mae'])"
      ],
      "metadata": {
        "id": "w8kxvvvmHXrQ"
      },
      "execution_count": null,
      "outputs": []
    },
    {
      "cell_type": "markdown",
      "source": [
        "Cargamos los pesos anteriores"
      ],
      "metadata": {
        "id": "jfnHvFese3WW"
      }
    },
    {
      "cell_type": "code",
      "source": [
        "weights_filename = checkpoint_dir + '/cut/dqn_{}_weights.h5f'.format(env_name)\n",
        "dqn.load_weights(weights_filename)"
      ],
      "metadata": {
        "id": "1yxP_Xp5KWsQ"
      },
      "execution_count": null,
      "outputs": []
    },
    {
      "cell_type": "markdown",
      "source": [
        "Y ejecutamos el nuevo entrenamiento"
      ],
      "metadata": {
        "id": "WsxrzjM-e7z1"
      }
    },
    {
      "cell_type": "code",
      "source": [
        "checkpoint_path = os.path.join(checkpoint_dir, 'cutv3/dqn_SpaceInvaders-v0_weights.h5f')\n",
        "reward_log_path = os.path.join(checkpoint_dir, 'logs/episode_rewards_cutv3.npy')\n",
        "\n",
        "checkpoint_callback = SaveCheckpointCallback(interval=10000, path_template=checkpoint_path, reward_log_path=reward_log_path)\n",
        "\n",
        "dqn.fit(env,\n",
        "        nb_steps=nb_steps,\n",
        "        visualize=False,\n",
        "        verbose=2,\n",
        "        callbacks=[checkpoint_callback])"
      ],
      "metadata": {
        "id": "ined2vgKe8nU"
      },
      "execution_count": null,
      "outputs": []
    },
    {
      "cell_type": "markdown",
      "source": [
        "Podemos ver que al final del entrenamiento se produce una mejora"
      ],
      "metadata": {
        "id": "suYcKdqRfEoP"
      }
    },
    {
      "cell_type": "code",
      "source": [
        "import matplotlib.pyplot as plt\n",
        "import numpy as np\n",
        "\n",
        "episode_rewards = np.load('logs/episode_rewards_cutv3.npy')\n",
        "\n",
        "plt.plot(episode_rewards)\n",
        "plt.xlabel('Episodio')\n",
        "plt.ylabel('Reward total')\n",
        "plt.title('Evolución del entrenamiento')\n",
        "plt.grid()\n",
        "plt.show()"
      ],
      "metadata": {
        "id": "c4HweY_0J43Y",
        "colab": {
          "base_uri": "https://localhost:8080/",
          "height": 472
        },
        "outputId": "0cbd6e89-2376-4aa5-83ec-42c76361deaf"
      },
      "execution_count": null,
      "outputs": [
        {
          "output_type": "display_data",
          "data": {
            "text/plain": [
              "<Figure size 640x480 with 1 Axes>"
            ],
            "image/png": "[encoded data removed]"
          },
          "metadata": {}
        }
      ]
    },
    {
      "cell_type": "code",
      "source": [
        "# Guardar\n",
        "import pickle\n",
        "\n",
        "# Suponiendo que `memory` es tu SequentialMemory\n",
        "with open('sequential_memory_cutv3.pkl', 'wb') as f:\n",
        "    pickle.dump(memory, f)"
      ],
      "metadata": {
        "id": "kyRS7sbTJ5ZN"
      },
      "execution_count": null,
      "outputs": []
    },
    {
      "cell_type": "markdown",
      "source": [
        "Volvemos a establecer el entorno original de Atari para realizar el test"
      ],
      "metadata": {
        "id": "QGMQ7_0WfPDG"
      }
    },
    {
      "cell_type": "code",
      "source": [
        "env = gym.make(env_name)"
      ],
      "metadata": {
        "id": "1A_ClTrEKEfD"
      },
      "execution_count": null,
      "outputs": []
    },
    {
      "cell_type": "code",
      "source": [
        "# Testing part to calculate the mean reward\n",
        "weights_filename = checkpoint_dir + '/cutv3/dqn_{}_weights.h5f'.format(env_name)\n",
        "dqn.load_weights(weights_filename)\n",
        "env = Monitor(env, './video', force=True)\n",
        "history = dqn.test(env, nb_episodes=50, visualize=False)"
      ],
      "metadata": {
        "id": "OcA3Ee1uKKHF",
        "colab": {
          "base_uri": "https://localhost:8080/"
        },
        "outputId": "50155d46-6f55-4aef-8547-1ad57726887d"
      },
      "execution_count": null,
      "outputs": [
        {
          "output_type": "stream",
          "name": "stdout",
          "text": [
            "Testing for 50 episodes ...\n"
          ]
        },
        {
          "output_type": "stream",
          "name": "stderr",
          "text": [
            "/usr/local/lib/python3.11/dist-packages/keras/engine/training_v1.py:2359: UserWarning: `Model.state_updates` will be removed in a future version. This property should not be used in TensorFlow 2.0, as `updates` are applied automatically.\n",
            "  updates=self.state_updates,\n"
          ]
        },
        {
          "output_type": "stream",
          "name": "stdout",
          "text": [
            "Episode 1: reward: 22.000, steps: 1257\n",
            "Episode 2: reward: 24.000, steps: 962\n",
            "Episode 3: reward: 28.000, steps: 1093\n",
            "Episode 4: reward: 9.000, steps: 526\n",
            "Episode 5: reward: 17.000, steps: 851\n",
            "Episode 6: reward: 17.000, steps: 742\n",
            "Episode 7: reward: 24.000, steps: 1057\n",
            "Episode 8: reward: 18.000, steps: 1136\n",
            "Episode 9: reward: 14.000, steps: 643\n",
            "Episode 10: reward: 21.000, steps: 887\n",
            "Episode 11: reward: 25.000, steps: 1033\n",
            "Episode 12: reward: 28.000, steps: 1248\n",
            "Episode 13: reward: 19.000, steps: 851\n",
            "Episode 14: reward: 27.000, steps: 1230\n",
            "Episode 15: reward: 13.000, steps: 729\n",
            "Episode 16: reward: 23.000, steps: 1114\n",
            "Episode 17: reward: 12.000, steps: 695\n",
            "Episode 18: reward: 10.000, steps: 558\n",
            "Episode 19: reward: 21.000, steps: 951\n",
            "Episode 20: reward: 31.000, steps: 1811\n",
            "Episode 21: reward: 14.000, steps: 663\n",
            "Episode 22: reward: 13.000, steps: 1135\n",
            "Episode 23: reward: 15.000, steps: 655\n",
            "Episode 24: reward: 26.000, steps: 1256\n",
            "Episode 25: reward: 24.000, steps: 858\n",
            "Episode 26: reward: 16.000, steps: 943\n",
            "Episode 27: reward: 22.000, steps: 890\n",
            "Episode 28: reward: 19.000, steps: 815\n",
            "Episode 29: reward: 10.000, steps: 760\n",
            "Episode 30: reward: 16.000, steps: 968\n",
            "Episode 31: reward: 15.000, steps: 848\n",
            "Episode 32: reward: 13.000, steps: 734\n",
            "Episode 33: reward: 20.000, steps: 869\n",
            "Episode 34: reward: 12.000, steps: 544\n",
            "Episode 35: reward: 22.000, steps: 919\n",
            "Episode 36: reward: 12.000, steps: 699\n",
            "Episode 37: reward: 31.000, steps: 1467\n",
            "Episode 38: reward: 29.000, steps: 1442\n",
            "Episode 39: reward: 10.000, steps: 521\n",
            "Episode 40: reward: 12.000, steps: 642\n",
            "Episode 41: reward: 22.000, steps: 855\n",
            "Episode 42: reward: 24.000, steps: 1012\n",
            "Episode 43: reward: 19.000, steps: 1271\n",
            "Episode 44: reward: 24.000, steps: 911\n",
            "Episode 45: reward: 18.000, steps: 899\n",
            "Episode 46: reward: 28.000, steps: 1503\n",
            "Episode 47: reward: 20.000, steps: 918\n",
            "Episode 48: reward: 21.000, steps: 870\n",
            "Episode 49: reward: 22.000, steps: 1162\n",
            "Episode 50: reward: 15.000, steps: 793\n"
          ]
        }
      ]
    },
    {
      "cell_type": "markdown",
      "source": [
        "Se obtiene un rendimiento promedio de 19.34 tras 50 episodios de prueba, lo cual indica que el agente está muy cerca de alcanzar el objetivo establecido de un promedio de 20"
      ],
      "metadata": {
        "id": "mGMCg7iMfXL0"
      }
    },
    {
      "cell_type": "code",
      "source": [
        "# Access episode rewards\n",
        "episode_rewards = history.history['episode_reward']\n",
        "\n",
        "# Calcular el promedio\n",
        "promedio = np.mean(episode_rewards)\n",
        "\n",
        "print(f\"Recompensa promedio: {promedio}\")"
      ],
      "metadata": {
        "id": "WjJks1wzLFTV",
        "colab": {
          "base_uri": "https://localhost:8080/"
        },
        "outputId": "54c3b19b-d178-4530-ba07-4b6eeae58e0a"
      },
      "execution_count": null,
      "outputs": [
        {
          "output_type": "stream",
          "name": "stdout",
          "text": [
            "Recompensa promedio: 19.34\n"
          ]
        }
      ]
    },
    {
      "cell_type": "markdown",
      "source": [
        "#### Tercer entrenamiento"
      ],
      "metadata": {
        "id": "E41TMUkd2qLS"
      }
    },
    {
      "cell_type": "code",
      "source": [
        "memory = SequentialMemory(limit=330000, window_length=WINDOW_LENGTH)"
      ],
      "metadata": {
        "id": "qHZDIkm-ven-"
      },
      "execution_count": null,
      "outputs": []
    },
    {
      "cell_type": "markdown",
      "source": [
        "Con el objetivo de realizar un ajuste fino final, se cargan las trazas generadas durante el entrenamiento previo, lo que permite contar con una memoria de experiencias diversa. Esta diversidad contribuye a un entrenamiento más estable, el cual es clave en esta fase donde se busca refinar la estrategia sin introducir inestabilidad en el aprendizaje.\n"
      ],
      "metadata": {
        "id": "x2z6i9nNudZn"
      }
    },
    {
      "cell_type": "code",
      "source": [
        "# Cargar\n",
        "import pickle\n",
        "\n",
        "with open('sequential_memory_cut.pkl', 'rb') as f:\n",
        "    memory = pickle.load(f)"
      ],
      "metadata": {
        "id": "qw53To9h3FkZ"
      },
      "execution_count": null,
      "outputs": []
    },
    {
      "cell_type": "markdown",
      "source": [
        "Configuramos el wrapper para que el episodio termine tras una sola vida"
      ],
      "metadata": {
        "id": "oTMhWYzeuVdy"
      }
    },
    {
      "cell_type": "code",
      "source": [
        "env = gym.make(env_name)\n",
        "env = LifeTerminatingWrapper(env)"
      ],
      "metadata": {
        "id": "sUq0AYiC6Uhd"
      },
      "execution_count": null,
      "outputs": []
    },
    {
      "cell_type": "markdown",
      "source": [
        "Y realizamos el ajuste fino con un epsilon que va desde 0.1 hasta 0.08 en 50,000 pasos"
      ],
      "metadata": {
        "id": "Sd8T85sey1qU"
      }
    },
    {
      "cell_type": "code",
      "source": [
        "nb_steps = 50000\n",
        "nb_steps_annealing = 50000\n",
        "nb_steps_warmup=0\n",
        "\n",
        "policy = LinearAnnealedPolicy(EpsGreedyQPolicy(),\n",
        "                              attr='eps',\n",
        "                              value_max=0.1,\n",
        "                              value_min=0.08,\n",
        "                              value_test=0.0,\n",
        "                              nb_steps=nb_steps_annealing)\n",
        "\n",
        "\n",
        "dqn = DQNAgent(model=model,\n",
        "               nb_actions=nb_actions,\n",
        "               policy=policy,\n",
        "               memory=memory,\n",
        "               processor=processor,\n",
        "               nb_steps_warmup=nb_steps_warmup,\n",
        "               enable_double_dqn=True,\n",
        "               gamma=0.99,\n",
        "               target_model_update=8500,\n",
        "               train_interval=4,\n",
        "               delta_clip=1.0)\n",
        "\n",
        "dqn.compile(Adam(learning_rate=0.0001), metrics=['mae'])"
      ],
      "metadata": {
        "id": "F0iL00662lIZ"
      },
      "execution_count": null,
      "outputs": []
    },
    {
      "cell_type": "markdown",
      "source": [
        "Cargamos los pesos del modelo que ya teniamos y volvemos a entrenar"
      ],
      "metadata": {
        "id": "WHJXxUj31mlz"
      }
    },
    {
      "cell_type": "code",
      "source": [
        "weights_filename = checkpoint_dir + '/cutv3/dqn_{}_weights.h5f'.format(env_name)\n",
        "dqn.load_weights(weights_filename)"
      ],
      "metadata": {
        "id": "UAjEKxUp4_HE"
      },
      "execution_count": null,
      "outputs": []
    },
    {
      "cell_type": "code",
      "source": [
        "checkpoint_path = os.path.join(checkpoint_dir, 'cutv4/dqn_SpaceInvaders-v0_weights.h5f')\n",
        "reward_log_path = os.path.join(checkpoint_dir, 'logs/episode_rewards_cutv4.npy')\n",
        "\n",
        "checkpoint_callback = SaveCheckpointCallback(interval=10000, path_template=checkpoint_path, reward_log_path=reward_log_path)\n",
        "\n",
        "dqn.fit(env,\n",
        "        nb_steps=nb_steps,\n",
        "        visualize=False,\n",
        "        verbose=2,\n",
        "        callbacks=[checkpoint_callback])"
      ],
      "metadata": {
        "id": "xEoY3z8rtDQv"
      },
      "execution_count": null,
      "outputs": []
    },
    {
      "cell_type": "markdown",
      "source": [
        "En este caso la mejora del agente es muy leve, y no se ve una diferencia notable en la gráfica. Sin embargo, al evaluar el desempeño en el test y obtener el promedio, se observa que se ha superado el promedio de 20"
      ],
      "metadata": {
        "id": "_x2AJyGi4LaU"
      }
    },
    {
      "cell_type": "code",
      "source": [
        "import matplotlib.pyplot as plt\n",
        "import numpy as np\n",
        "\n",
        "episode_rewards = np.load('logs/episode_rewards_cutv4.npy')\n",
        "\n",
        "plt.plot(episode_rewards)\n",
        "plt.xlabel('Episodio')\n",
        "plt.ylabel('Reward total')\n",
        "plt.title('Evolución del entrenamiento')\n",
        "plt.grid()\n",
        "plt.show()"
      ],
      "metadata": {
        "colab": {
          "base_uri": "https://localhost:8080/",
          "height": 472
        },
        "id": "A4VAada952zV",
        "outputId": "362308ed-2953-43b1-a15d-3d774ab90ee8"
      },
      "execution_count": null,
      "outputs": [
        {
          "output_type": "display_data",
          "data": {
            "text/plain": [
              "<Figure size 640x480 with 1 Axes>"
            ],
            "image/png": "[encoded data removed]"
          },
          "metadata": {}
        }
      ]
    },
    {
      "cell_type": "code",
      "source": [
        "# Guardar\n",
        "import pickle\n",
        "\n",
        "# Suponiendo que `memory` es tu SequentialMemory\n",
        "with open('sequential_memory_cutv4.pkl', 'wb') as f:\n",
        "    pickle.dump(memory, f)"
      ],
      "metadata": {
        "id": "RznMlTMO56-s"
      },
      "execution_count": null,
      "outputs": []
    },
    {
      "cell_type": "markdown",
      "source": [
        "Volvemos a definir el entorno original"
      ],
      "metadata": {
        "id": "kmf_-ME53Fhh"
      }
    },
    {
      "cell_type": "code",
      "source": [
        "env = gym.make(env_name)"
      ],
      "metadata": {
        "id": "kESpyuoj6DMO"
      },
      "execution_count": null,
      "outputs": []
    },
    {
      "cell_type": "code",
      "source": [
        "# Testing part to calculate the mean reward 02\n",
        "weights_filename = checkpoint_dir + '/cutv4/dqn_{}_weights.h5f'.format(env_name)\n",
        "dqn.load_weights(weights_filename)\n",
        "env = Monitor(env, './video', force=True)\n",
        "history = dqn.test(env, nb_episodes=50, visualize=False)"
      ],
      "metadata": {
        "colab": {
          "base_uri": "https://localhost:8080/"
        },
        "id": "s5P6kIxSAhvO",
        "outputId": "1a2f1fe5-472a-4369-c36b-bc7176993142"
      },
      "execution_count": null,
      "outputs": [
        {
          "output_type": "stream",
          "name": "stdout",
          "text": [
            "Testing for 50 episodes ...\n",
            "Episode 1: reward: 35.000, steps: 1809\n",
            "Episode 2: reward: 17.000, steps: 837\n",
            "Episode 3: reward: 21.000, steps: 800\n",
            "Episode 4: reward: 27.000, steps: 1133\n",
            "Episode 5: reward: 22.000, steps: 942\n",
            "Episode 6: reward: 19.000, steps: 1104\n",
            "Episode 7: reward: 22.000, steps: 1542\n",
            "Episode 8: reward: 29.000, steps: 1409\n",
            "Episode 9: reward: 20.000, steps: 992\n",
            "Episode 10: reward: 16.000, steps: 711\n",
            "Episode 11: reward: 34.000, steps: 1463\n",
            "Episode 12: reward: 16.000, steps: 870\n",
            "Episode 13: reward: 19.000, steps: 692\n",
            "Episode 14: reward: 23.000, steps: 1057\n",
            "Episode 15: reward: 21.000, steps: 1054\n",
            "Episode 16: reward: 20.000, steps: 663\n",
            "Episode 17: reward: 12.000, steps: 538\n",
            "Episode 18: reward: 22.000, steps: 917\n",
            "Episode 19: reward: 22.000, steps: 1084\n",
            "Episode 20: reward: 22.000, steps: 1010\n",
            "Episode 21: reward: 10.000, steps: 675\n",
            "Episode 22: reward: 11.000, steps: 643\n",
            "Episode 23: reward: 15.000, steps: 690\n",
            "Episode 24: reward: 20.000, steps: 1347\n",
            "Episode 25: reward: 27.000, steps: 995\n",
            "Episode 26: reward: 10.000, steps: 489\n",
            "Episode 27: reward: 22.000, steps: 900\n",
            "Episode 28: reward: 20.000, steps: 880\n",
            "Episode 29: reward: 27.000, steps: 1108\n",
            "Episode 30: reward: 25.000, steps: 976\n",
            "Episode 31: reward: 20.000, steps: 921\n",
            "Episode 32: reward: 16.000, steps: 704\n",
            "Episode 33: reward: 20.000, steps: 750\n",
            "Episode 34: reward: 13.000, steps: 737\n",
            "Episode 35: reward: 17.000, steps: 1278\n",
            "Episode 36: reward: 34.000, steps: 1926\n",
            "Episode 37: reward: 10.000, steps: 484\n",
            "Episode 38: reward: 19.000, steps: 883\n",
            "Episode 39: reward: 22.000, steps: 926\n",
            "Episode 40: reward: 15.000, steps: 659\n",
            "Episode 41: reward: 27.000, steps: 1110\n",
            "Episode 42: reward: 14.000, steps: 1488\n",
            "Episode 43: reward: 25.000, steps: 1309\n",
            "Episode 44: reward: 21.000, steps: 845\n",
            "Episode 45: reward: 26.000, steps: 1106\n",
            "Episode 46: reward: 26.000, steps: 1234\n",
            "Episode 47: reward: 10.000, steps: 753\n",
            "Episode 48: reward: 24.000, steps: 1158\n",
            "Episode 49: reward: 11.000, steps: 637\n",
            "Episode 50: reward: 29.000, steps: 1568\n"
          ]
        }
      ]
    },
    {
      "cell_type": "markdown",
      "source": [
        "Y finalmente hemos alcanzado el promedio superior a 20"
      ],
      "metadata": {
        "id": "yec4IyFi3VTj"
      }
    },
    {
      "cell_type": "code",
      "source": [
        "# Access episode rewards\n",
        "episode_rewards = history.history['episode_reward']\n",
        "\n",
        "# Calcular el promedio\n",
        "promedio = np.mean(episode_rewards)\n",
        "\n",
        "print(f\"Recompensa promedio: {promedio}\")"
      ],
      "metadata": {
        "colab": {
          "base_uri": "https://localhost:8080/"
        },
        "id": "JpQ0GzCjAriG",
        "outputId": "f0301258-2c21-4973-ddfa-a73e694340a1"
      },
      "execution_count": null,
      "outputs": [
        {
          "output_type": "stream",
          "name": "stdout",
          "text": [
            "Recompensa promedio: 20.5\n"
          ]
        }
      ]
    },
    {
      "cell_type": "code",
      "source": [
        "env = gym.make(env_name)\n",
        "env = IntrinsecRewardWrapper(env)"
      ],
      "metadata": {
        "id": "2Bt4m_pjFDNu"
      },
      "execution_count": null,
      "outputs": []
    },
    {
      "cell_type": "markdown",
      "source": [
        "### Segundo enfoque: Entrenamiento con double DQN"
      ],
      "metadata": {
        "id": "R2cKxphGu4_u"
      }
    },
    {
      "cell_type": "markdown",
      "source": [
        "El enfoque presentado implementa un agente con mejoras orientadas a estabilizar y acelerar el proceso de entrenamiento, lo cual lo convierte en una solución robusta. El agente aprende una policy óptima utilizando experiencias almacenadas en un replay buffer (SequentialMemory), sin depender exclusivamente de la policy con la que se generan dichas experiencias. Se emplea una policy de exploración ε-greedy con decaimiento lineal, que permite un equilibrio efectivo entre exploración y explotación, disminuyendo progresivamente la aleatoriedad desde 1.0 hasta 0.1 a lo largo de 400,000 pasos, y alcanzando un valor de test de 0.05. Además, se incluyen dos mejoras fundamentales: Double DQN, que reduce el sobreajuste al valor estimado al separar la selección y evaluación de acciones, y Dueling Network DQN, que introduce una arquitectura separada para estimar el valor del estado y la ventaja de cada acción, permitiendo decisiones más eficientes especialmente cuando algunas acciones no afectan significativamente el valor del estado. El agente también actualiza su red objetivo cada 10,000 pasos, lo que mejora la estabilidad del aprendizaje al evitar oscilaciones en los valores Q. El entrenamiento se realiza con un intervalo de actualización cada 4 pasos que permite un uso más eficiente de la experiencia recolectada, y se limita la magnitud de los errores TD mediante delta_clip=1.0 para evitar actualizaciones inestables. En conjunto, este enfoque ofrece un balance avanzado entre precisión, estabilidad y eficiencia en el entrenamiento de agentes inteligentes capaces de aprender estrategias óptimas en entornos dinámicos y de alta dimensionalidad, tomando como base el estudio realizado por Mnih, V. et al (2015) y mejorando algunos parámetros para alcanzar el objetivo deseado."
      ],
      "metadata": {
        "id": "Zsl6d70Pf9sV"
      }
    },
    {
      "cell_type": "code",
      "source": [
        "INPUT_SHAPE = (84, 84)\n",
        "WINDOW_LENGTH = 4\n",
        "\n",
        "env_name = 'SpaceInvaders-v0'\n",
        "env = gym.make(env_name)\n",
        "\n",
        "np.random.seed(123)\n",
        "env.seed(123)\n",
        "nb_actions = env.action_space.n\n",
        "\n",
        "height, width, channels = env.observation_space.shape\n",
        "obs = env.reset()\n",
        "print(height, width, channels)\n",
        "print(\"Forma de la observación:\", obs.shape)  # Debe ser (height, width, channels)\n",
        "env.unwrapped.get_action_meanings()"
      ],
      "metadata": {
        "colab": {
          "base_uri": "https://localhost:8080/"
        },
        "id": "xLlIeiMmkYVd",
        "outputId": "26b900f2-c76a-45e0-db71-32be68f16e7d"
      },
      "execution_count": null,
      "outputs": [
        {
          "output_type": "stream",
          "name": "stdout",
          "text": [
            "210 160 3\n",
            "Forma de la observación: (210, 160, 3)\n"
          ]
        },
        {
          "output_type": "execute_result",
          "data": {
            "text/plain": [
              "['NOOP', 'FIRE', 'RIGHT', 'LEFT', 'RIGHTFIRE', 'LEFTFIRE']"
            ]
          },
          "metadata": {},
          "execution_count": 5
        }
      ]
    },
    {
      "cell_type": "code",
      "source": [
        "class AtariProcessor(Processor):\n",
        "    def process_observation(self, observation):\n",
        "        assert observation.ndim == 3  # (height, width, channel)\n",
        "        img = Image.fromarray(observation)\n",
        "        img = img.resize(INPUT_SHAPE).convert('L')\n",
        "        processed_observation = np.array(img)\n",
        "        assert processed_observation.shape == INPUT_SHAPE\n",
        "        return processed_observation.astype('uint8')\n",
        "\n",
        "    def process_state_batch(self, batch):\n",
        "        processed_batch = batch.astype('float32') / 255.\n",
        "        return processed_batch\n",
        "\n",
        "    def process_reward(self, reward):\n",
        "        return np.clip(reward, -1., 1.)\n"
      ],
      "metadata": {
        "id": "dyNWdTHIkl4B"
      },
      "execution_count": null,
      "outputs": []
    },
    {
      "cell_type": "code",
      "source": [
        "from rl.callbacks import ModelIntervalCheckpoint,Callback\n",
        "\n",
        "class EpisodeRewardRecorder(Callback):\n",
        "    def __init__(self):\n",
        "        self.episode_rewards = []\n",
        "\n",
        "    def on_episode_end(self, episode, logs={}):\n",
        "        reward = logs.get('episode_reward')\n",
        "        self.episode_rewards.append(reward)\n",
        "\n",
        "# Guardar el modelo cada 50,000 pasos\n",
        "checkpoint_callback = ModelIntervalCheckpoint(\n",
        "    filepath='checkpoints/dqn_v18_weights_{step}.h5f',\n",
        "    interval=50000,\n",
        "    verbose=1\n",
        ")\n",
        "\n",
        "import os\n",
        "os.makedirs(\"checkpoints\", exist_ok=True)\n",
        "\n",
        "from keras.optimizers import Adam\n",
        "\n",
        "dqn = build_agent(model, nb_actions)\n",
        "dqn.compile(Adam(learning_rate=0.00025, epsilon=0.001))"
      ],
      "metadata": {
        "id": "VkWvLkETklpW"
      },
      "execution_count": null,
      "outputs": []
    },
    {
      "cell_type": "markdown",
      "source": [
        "####1. Implementación de la red neuronal"
      ],
      "metadata": {
        "id": "KofmPox1p0RP"
      }
    },
    {
      "cell_type": "code",
      "source": [
        "def build_model(height, width, channels, actions):\n",
        "\n",
        "    model = Sequential()\n",
        "    model.add(Permute((2, 3, 1), input_shape=(4, 84, 84)))  # WINDOW_LENGTH, H, W\n",
        "    model.add(Conv2D(32, (8, 8), strides=(4, 4), activation='relu')) #, input_shape=(4, 84, 84), data_format='channels_first')) #input_shape=(4,84,84,1)))\n",
        "    model.add(Conv2D(64, (4, 4), strides=(2, 2), activation='relu'))\n",
        "    model.add(Conv2D(64, (3, 3), strides=(1, 1), activation='relu'))\n",
        "    model.add(Flatten())\n",
        "    model.add(Dense(512, activation='relu'))\n",
        "    model.add(Dense(nb_actions, activation='linear'))\n",
        "    return model"
      ],
      "metadata": {
        "id": "wPtwikIEoRM5"
      },
      "execution_count": null,
      "outputs": []
    },
    {
      "cell_type": "code",
      "source": [
        "model = build_model(84, 84, 1, nb_actions)\n",
        "model.summary()"
      ],
      "metadata": {
        "id": "ZxIlK6FfoRJo"
      },
      "execution_count": null,
      "outputs": []
    },
    {
      "cell_type": "markdown",
      "source": [
        "####2. Implementación de la solución DQN"
      ],
      "metadata": {
        "id": "4J42yhfFqDQI"
      }
    },
    {
      "cell_type": "code",
      "source": [
        "from rl.agents import DQNAgent\n",
        "from rl.memory import SequentialMemory\n",
        "from rl.policy import LinearAnnealedPolicy, EpsGreedyQPolicy"
      ],
      "metadata": {
        "id": "u6l5XWEWoRF5"
      },
      "execution_count": null,
      "outputs": []
    },
    {
      "cell_type": "code",
      "source": [
        "def build_agent(model, actions):\n",
        "    policy = LinearAnnealedPolicy(\n",
        "        EpsGreedyQPolicy(),\n",
        "        attr='eps',\n",
        "        value_max=1.0,\n",
        "        value_min=0.1,\n",
        "        value_test=0.05,\n",
        "        nb_steps=400000)                    # Pasos de exploración\n",
        "\n",
        "    memory = SequentialMemory(\n",
        "        limit=400000,                       # Replay Buffer (Memoria de experiencias pasadas en total (s,a,r,s'))\n",
        "        window_length=4)\n",
        "\n",
        "    dqn = DQNAgent(model=model,\n",
        "                   nb_actions=nb_actions,\n",
        "                   policy=policy,\n",
        "                   memory=memory,\n",
        "                   processor=AtariProcessor(),\n",
        "                   nb_steps_warmup=100000,    # Llena en buffer de pasos previos (s,a,r,s') sin evaluar aún.\n",
        "                   gamma=0.99,\n",
        "                   target_model_update=10000, # cada 10,000 steps actualiza la red objetivo\n",
        "                   train_interval=4,          # Solo entrena cada n pasos de interacción con el entorno\n",
        "                   delta_clip=1.0,            # Valor utilizado para recortar los errores TD (diferencia temporal) durante el entrenamiento para evitar fluctuaciones externas\n",
        "                   enable_double_dqn=True,\n",
        "                   enable_dueling_network=True,\n",
        "                   dueling_type='avg',\n",
        "                   batch_size=32,\n",
        "                   )\n",
        "    return dqn"
      ],
      "metadata": {
        "id": "dn3AeQRVoRAi"
      },
      "execution_count": null,
      "outputs": []
    },
    {
      "cell_type": "code",
      "source": [
        "from rl.callbacks import ModelIntervalCheckpoint,Callback\n",
        "\n",
        "class EpisodeRewardRecorder(Callback):\n",
        "    def __init__(self):\n",
        "        self.episode_rewards = []\n",
        "\n",
        "    def on_episode_end(self, episode, logs={}):\n",
        "        reward = logs.get('episode_reward')\n",
        "        self.episode_rewards.append(reward)\n",
        "\n",
        "# Guardar el modelo cada 50,000 pasos\n",
        "checkpoint_callback = ModelIntervalCheckpoint(\n",
        "    filepath='checkpoints/dqn_v16_weights_{step}.h5f',\n",
        "    interval=50000,\n",
        "    verbose=1\n",
        ")"
      ],
      "metadata": {
        "id": "DjJYgCX6oQ84"
      },
      "execution_count": null,
      "outputs": []
    },
    {
      "cell_type": "code",
      "source": [
        "import os\n",
        "os.makedirs(\"checkpoints\", exist_ok=True)"
      ],
      "metadata": {
        "id": "XJLPUmhCoQoA"
      },
      "execution_count": null,
      "outputs": []
    },
    {
      "cell_type": "code",
      "source": [
        "from keras.optimizers import Adam\n",
        "\n",
        "dqn = build_agent(model, nb_actions)\n",
        "dqn.compile(Adam(learning_rate=0.00025, epsilon=0.001))"
      ],
      "metadata": {
        "id": "1E5bJ1UOqe_s"
      },
      "execution_count": null,
      "outputs": []
    },
    {
      "cell_type": "markdown",
      "source": [
        "####Ejecución"
      ],
      "metadata": {
        "id": "lZ2pObtVteBo"
      }
    },
    {
      "cell_type": "code",
      "source": [
        "from datetime import datetime\n",
        "\n",
        "print(f\"⏱ Tiempo de inicio: {datetime.now().strftime('%H:%M:%S')}\")\n",
        "\n",
        "reward_logger = EpisodeRewardRecorder()\n",
        "historial = dqn.fit(env, nb_steps=1250000, visualize=False, verbose=2,callbacks=[checkpoint_callback,reward_logger])\n",
        "\n",
        "print(f\"⏱ Tiempo de fin: {datetime.now().strftime('%H:%M:%S')}\")\n",
        "\n",
        "# Guardando modelo\n",
        "rewards = reward_logger.episode_rewards\n",
        "dqn.save_weights('dqn_v16_weights.h5f')\n"
      ],
      "metadata": {
        "id": "BE-RadF9qfFY"
      },
      "execution_count": null,
      "outputs": []
    },
    {
      "cell_type": "markdown",
      "source": [
        "####Terminada la ejecución se procede con el test de validación para 5 eventos."
      ],
      "metadata": {
        "id": "bFTGnCuwq5og"
      }
    },
    {
      "cell_type": "code",
      "source": [
        "import numpy as np\n",
        "import random\n",
        "import matplotlib\n",
        "import matplotlib.pyplot as plt\n",
        "\n",
        "weights_filename = 'dqn_v16_weights.h5f'.format(env_name)\n",
        "\n",
        "#Número pruebas de validación\n",
        "test = 5\n",
        "\n",
        "print(f\"Versión del fichero final: {weights_filename}\")\n",
        "\n",
        "medias = []\n",
        "episode_rewards = []\n",
        "\n",
        "for i in range(1, test + 1):\n",
        "\n",
        "    dqn.load_weights(weights_filename)\n",
        "    # Ejecuta 10 episodios sin explorar (ε=0)\n",
        "    hist = dqn.test(env, nb_episodes=10, visualize=False)\n",
        "\n",
        "    # Calcula la media\n",
        "    media = np.mean(hist.history[\"episode_reward\"])\n",
        "    medias.append(media)\n",
        "\n",
        "    # Emite resultado\n",
        "    print(f\"Ejecución {i}: media = {media:.2f} \\n\")\n",
        "\n",
        "    # Guardando resultados\n",
        "    episode_reward = hist.history[\"episode_reward\"]\n",
        "    episode_rewards.append(episode_reward)\n",
        "\n",
        "n = sum(m >= 20 for m in medias)\n",
        "print(f\"{n} de {test} pruebas realizadas de 10 episodios cada una.\")\n",
        "\n",
        "# Graficar\n",
        "plt.figure(figsize=(10, 5))\n",
        "for i, episode_reward in enumerate(episode_rewards):\n",
        "    plt.plot(range(1, len(episode_reward) + 1), episode_reward, marker='o', label=f'Ejecución {i + 1}')\n",
        "plt.xlabel(\"Episodio\")\n",
        "plt.ylabel(\"Recompensa obtenida\")\n",
        "plt.title(\"Recompensa por episodio en prueba\")\n",
        "plt.grid(True)\n",
        "plt.tight_layout()\n",
        "plt.show()\n"
      ],
      "metadata": {
        "colab": {
          "base_uri": "https://localhost:8080/",
          "height": 1000
        },
        "id": "Uf0D4ZwQqfIg",
        "outputId": "c3af5342-de86-4513-e198-fc234e3107b7"
      },
      "execution_count": null,
      "outputs": [
        {
          "output_type": "stream",
          "name": "stdout",
          "text": [
            "Versión del fichero final: dqn_v16_weights.h5f\n",
            "Testing for 10 episodes ...\n",
            "Episode 1: reward: 34.000, steps: 1385\n",
            "Episode 2: reward: 18.000, steps: 695\n",
            "Episode 3: reward: 19.000, steps: 638\n",
            "Episode 4: reward: 18.000, steps: 665\n",
            "Episode 5: reward: 28.000, steps: 1121\n",
            "Episode 6: reward: 29.000, steps: 1239\n",
            "Episode 7: reward: 17.000, steps: 567\n",
            "Episode 8: reward: 24.000, steps: 754\n",
            "Episode 9: reward: 32.000, steps: 1337\n",
            "Episode 10: reward: 22.000, steps: 802\n",
            "Ejecución 1: media = 24.10 \n",
            "\n",
            "Testing for 10 episodes ...\n",
            "Episode 1: reward: 31.000, steps: 1244\n",
            "Episode 2: reward: 25.000, steps: 817\n",
            "Episode 3: reward: 14.000, steps: 516\n",
            "Episode 4: reward: 26.000, steps: 979\n",
            "Episode 5: reward: 29.000, steps: 1030\n",
            "Episode 6: reward: 26.000, steps: 848\n",
            "Episode 7: reward: 29.000, steps: 1311\n",
            "Episode 8: reward: 26.000, steps: 795\n",
            "Episode 9: reward: 30.000, steps: 1210\n",
            "Episode 10: reward: 25.000, steps: 948\n",
            "Ejecución 2: media = 26.10 \n",
            "\n",
            "Testing for 10 episodes ...\n",
            "Episode 1: reward: 23.000, steps: 893\n",
            "Episode 2: reward: 31.000, steps: 1078\n",
            "Episode 3: reward: 29.000, steps: 1102\n",
            "Episode 4: reward: 29.000, steps: 984\n",
            "Episode 5: reward: 25.000, steps: 876\n",
            "Episode 6: reward: 29.000, steps: 945\n",
            "Episode 7: reward: 40.000, steps: 1374\n",
            "Episode 8: reward: 35.000, steps: 1603\n",
            "Episode 9: reward: 27.000, steps: 961\n",
            "Episode 10: reward: 38.000, steps: 1753\n",
            "Ejecución 3: media = 30.60 \n",
            "\n",
            "Testing for 10 episodes ...\n",
            "Episode 1: reward: 28.000, steps: 1140\n",
            "Episode 2: reward: 26.000, steps: 948\n",
            "Episode 3: reward: 19.000, steps: 700\n",
            "Episode 4: reward: 30.000, steps: 980\n",
            "Episode 5: reward: 26.000, steps: 820\n",
            "Episode 6: reward: 14.000, steps: 492\n",
            "Episode 7: reward: 40.000, steps: 1341\n",
            "Episode 8: reward: 33.000, steps: 1050\n",
            "Episode 9: reward: 29.000, steps: 955\n",
            "Episode 10: reward: 32.000, steps: 1081\n",
            "Ejecución 4: media = 27.70 \n",
            "\n",
            "Testing for 10 episodes ...\n",
            "Episode 1: reward: 27.000, steps: 1046\n",
            "Episode 2: reward: 34.000, steps: 1547\n",
            "Episode 3: reward: 25.000, steps: 896\n",
            "Episode 4: reward: 25.000, steps: 872\n",
            "Episode 5: reward: 23.000, steps: 743\n",
            "Episode 6: reward: 34.000, steps: 1752\n",
            "Episode 7: reward: 24.000, steps: 824\n",
            "Episode 8: reward: 27.000, steps: 764\n",
            "Episode 9: reward: 32.000, steps: 1388\n",
            "Episode 10: reward: 29.000, steps: 1162\n",
            "Ejecución 5: media = 28.00 \n",
            "\n",
            "5 de 5 pruebas realizadas de 10 episodios cada una.\n"
          ]
        },
        {
          "output_type": "display_data",
          "data": {
            "text/plain": [
              "<Figure size 1000x500 with 1 Axes>"
            ],
            "image/png": "[encoded data removed]"
          },
          "metadata": {}
        }
      ]
    },
    {
      "cell_type": "markdown",
      "source": [
        "#### **Interpretación de la gráfica**"
      ],
      "metadata": {
        "id": "TpgEQxEBpTJu"
      }
    },
    {
      "cell_type": "markdown",
      "source": [
        "La gráfica representa los resultados de 5 pruebas independientes (tests) ejecutadas sobre un agente en el entorno SpaceInvaders-v0, durante 10 episodios cada una. En el eje X se representa el número de episodios (del 1 al 10), y el eje Y se representa la recompensa obtenida. La gráfica obtenida indica además fluctuación episodio a episodio en cada test, por ejemplo, en la línea roja (4.° test), hay una recompensa muy baja en el episodio 6 de 14 puntos, y una recompensa altísima en el episodio 7 de 40 puntos, esto refleja el carácter estocástico del entorno y posiblemente también inestabilidad en la Tercer enfoque: Arquitectura DQN Noisy ~ Deep Q-Network con Noisy Networks y Double DQN aprendida a pesar que se cumplió el objetivo de tener una media sobre los 20 puntos. La mayoría de las recompensas por episodio oscilan entre 15 y 35 puntos, con algunos picos de hasta 40 puntos."
      ],
      "metadata": {
        "id": "SQiuas4rpbDv"
      }
    },
    {
      "cell_type": "markdown",
      "source": [
        "Del mismo modo, para la implementación del DQN se tuvo como referencia inicial los parámetros encontrados en el artículo titulado Human-level control through deep reinforcement learning, del autor Mnih, V. et al (2015), quién identificó unos parámetros base para obtener recompensas aceptables, sin embargo, al realizar la ejecución sobre 1 millón de pasos se identificó que no había resultados satisfactorios aún, por lo que se decidió comenzar a realizar algunas pruebas moviendo los parámetros iniciales y realizando las ejecuciones.  "
      ],
      "metadata": {
        "id": "DpMUsyyUwHnc"
      }
    },
    {
      "cell_type": "markdown",
      "source": [
        "Además, se identificó que determinados parámetros permitián modificar significativamente los resultados, con los cual, se realizaron más pruebas y se obtuvo una combinación que permitió cumplir el objetivo con una poca cantidad de pasos, (1250000). Se indica poca cantidad debido a que la mayor cantidad de la literatura encontrada recomienda 2000000 de pasos como mínimo para su ejecución."
      ],
      "metadata": {
        "id": "7vqCRfvzxZ_1"
      }
    },
    {
      "cell_type": "markdown",
      "source": [
        "Los parámetros modificados que permiten mejores resultados son los siguientes:\n",
        "\n",
        "*   Menor pasos de exploración: de 1MM a 400,000\n",
        "*   Menor cantidad de pasos previos: 100000\n",
        "*   Habilitación de enable_double_dqn=True\n",
        "*   Uso de Adam en vez de RMSProp\n",
        "*   Epsilon más pequeño (epsilon=0.001)"
      ],
      "metadata": {
        "id": "2Ykk0Li3yETF"
      }
    },
    {
      "cell_type": "markdown",
      "source": [
        "Por último, también se pudo identificar que una red densa con varias capas ocultas no necesariamente da mejores resultados, pero si aumenta significativamente el tiempo de ejecución"
      ],
      "metadata": {
        "id": "MbCRatlP164z"
      }
    },
    {
      "cell_type": "markdown",
      "source": [
        "**Referencias:**\n",
        "\n",
        "Mnih, V., Kavukcuoglu, K., Silver, D., Rusu, A. A., Veness, J., Bellemare, M. G., Graves, A., Riedmiller, M., Fidjeland, A. K., Ostrovski, G., Petersen, S., Beattie, C., Sadik, A., Antonoglou, I., King, H., Kumaran, D., Wierstra, D., Legg, S., & Hassabis, D. (2015). Human-level control through deep reinforcement learning. Nature, 518(7540), 529-533. https://doi.org/10.1038/nature14236\n",
        "\n",
        "Yao, G., Zhang, N., Duan, Z., & Tian, C. (2024). Improved SARSA and DQN algorithms for reinforcement learning. Theoretical Computer Science, 115025. https://doi.org/10.1016/j.tcs.2024.115025\n",
        "\n",
        "\n",
        "\n"
      ],
      "metadata": {
        "id": "CPVYVnfr2Q1S"
      }
    },
    {
      "cell_type": "markdown",
      "source": [
        "### Tercer enfoque: Arquitectura DQN Noisy ~ Deep Q-Network con Noisy Networks y Double DQN"
      ],
      "metadata": {
        "id": "P_LoDa_fvHlS"
      }
    },
    {
      "cell_type": "markdown",
      "source": [
        "El siguiente modelo que probaremos está basado en una red neuronal convolucional que sigue una arquitectura inspirada en el paper original de Deep Q-Network (DQN) de DeepMind (Mnih et al., 2015). Sin embargo, le hemos introducido una mejora conocida como Noisy Layers, una técnica que reemplaza las capas densas finales por versiones ruidosas para favorecer la exploración pero reemplazando la policy ε-greedy tradicional por una exploración implícita gracias a las Noisy Networks, introducidas por Fortunato et al. (2017).\n"
      ],
      "metadata": {
        "id": "_NYy7WgpWCwv"
      }
    },
    {
      "cell_type": "markdown",
      "source": [
        "#### Implementacion de la red neuronal"
      ],
      "metadata": {
        "id": "uPvJShLYWXUt"
      }
    },
    {
      "cell_type": "markdown",
      "source": [
        "En esta celda  de código definimos una capa personalizada de Keras llamada NoisyDense, fundamental para el algoritmo Noisy DQN. A diferencia de las capas densas tradicionales, buscamos introducir un ruido aprendible en sus pesos y sesgos (mu_W, sigma_W, mu_b, sigma_b).\n",
        "\n",
        "\n",
        "Este ruido se genera estocásticamente utilizando el truco de reparametrización (epsilon_W, epsilon_b), permitiendo que el modelo aprenda no solo los parámetros de la red, sino también la intensidad óptima de la exploración, lo que mejora la eficiencia del agente en la búsqueda de soluciones."
      ],
      "metadata": {
        "id": "XWYtYnikg_oj"
      }
    },
    {
      "cell_type": "code",
      "source": [
        "import tensorflow as tf\n",
        "\n",
        "class NoisyDense(tf.keras.layers.Layer):\n",
        "    def __init__(self, units, sigma_init=0.05, **kwargs):\n",
        "        super(NoisyDense, self).__init__(**kwargs)\n",
        "        self.units = units\n",
        "        self.sigma_init = sigma_init\n",
        "\n",
        "    def build(self, input_shape):\n",
        "        input_dim = int(input_shape[-1])\n",
        "        self.mu_W = self.add_weight(\"mu_W\", shape=(input_dim, self.units),\n",
        "                                    initializer='random_uniform', trainable=True)\n",
        "        self.sigma_W = self.add_weight(\"sigma_W\", shape=(input_dim, self.units),\n",
        "                                       initializer=tf.keras.initializers.Constant(self.sigma_init), trainable=True)\n",
        "        self.mu_b = self.add_weight(\"mu_b\", shape=(self.units,),\n",
        "                                    initializer='zeros', trainable=True)\n",
        "        self.sigma_b = self.add_weight(\"sigma_b\", shape=(self.units,),\n",
        "                                       initializer=tf.keras.initializers.Constant(self.sigma_init), trainable=True)\n",
        "\n",
        "    def call(self, x):\n",
        "        epsilon_W = tf.random.normal((x.shape[-1], self.units))\n",
        "        epsilon_b = tf.random.normal((self.units,))\n",
        "        W = self.mu_W + self.sigma_W * epsilon_W\n",
        "        b = self.mu_b + self.sigma_b * epsilon_b\n",
        "        return tf.matmul(x, W) + b\n",
        "\n",
        "    def get_config(self):\n",
        "        config = super(NoisyDense, self).get_config()\n",
        "        config.update({\n",
        "            \"units\": self.units,\n",
        "            \"sigma_init\": self.sigma_init\n",
        "        })\n",
        "        return config"
      ],
      "metadata": {
        "id": "f1Nz2T0jqfRD"
      },
      "execution_count": null,
      "outputs": []
    },
    {
      "cell_type": "markdown",
      "source": [
        "Ahora pasamos a definir la arquitectura de la red neuronal para el agente Noisy DQN. Comenzamos con capas convolucionales para extraer características de los fotogramas del juego apilados, las cuales luego se aplanan. Posteriormente utilizamos capas NoisyDense personalizadas para las partes totalmente conectadas del modelo permitiendo que la red aprenda intrínsecamente cómo explorar el entorno antes de generar las Q-values para cada acción posible."
      ],
      "metadata": {
        "id": "rsSGKlWohxMX"
      }
    },
    {
      "cell_type": "code",
      "source": [
        "from tensorflow.keras.models import Model\n",
        "from tensorflow.keras.layers import Input, Permute, Convolution2D, Flatten, Activation\n",
        "\n",
        "input_layer = Input(shape=(WINDOW_LENGTH,) + INPUT_SHAPE)\n",
        "perm = Permute((2, 3, 1))(input_layer)\n",
        "conv1 = Convolution2D(32, (8, 8), strides=(4, 4), activation='relu')(perm)\n",
        "conv2 = Convolution2D(64, (4, 4), strides=(2, 2), activation='relu')(conv1)\n",
        "conv3 = Convolution2D(64, (3, 3), strides=(1, 1), activation='relu')(conv2)\n",
        "flat = Flatten()(conv3)\n",
        "\n",
        "noisy1 = NoisyDense(512)(flat)\n",
        "noisy1 = Activation('relu')(noisy1)\n",
        "output_layer = NoisyDense(nb_actions)(noisy1)\n",
        "\n",
        "model = Model(inputs=input_layer, outputs=output_layer)\n",
        "model.summary()"
      ],
      "metadata": {
        "id": "S9inqxUP2Hqk",
        "colab": {
          "base_uri": "https://localhost:8080/"
        },
        "outputId": "ae3357fe-3e09-4f8d-854c-0657376f0f8e"
      },
      "execution_count": null,
      "outputs": [
        {
          "output_type": "stream",
          "name": "stdout",
          "text": [
            "Model: \"model_2\"\n",
            "_________________________________________________________________\n",
            " Layer (type)                Output Shape              Param #   \n",
            "=================================================================\n",
            " input_2 (InputLayer)        [(None, 4, 84, 84)]       0         \n",
            "                                                                 \n",
            " permute_1 (Permute)         (None, 84, 84, 4)         0         \n",
            "                                                                 \n",
            " conv2d_3 (Conv2D)           (None, 20, 20, 32)        8224      \n",
            "                                                                 \n",
            " conv2d_4 (Conv2D)           (None, 9, 9, 64)          32832     \n",
            "                                                                 \n",
            " conv2d_5 (Conv2D)           (None, 7, 7, 64)          36928     \n",
            "                                                                 \n",
            " flatten_1 (Flatten)         (None, 3136)              0         \n",
            "                                                                 \n",
            " noisy_dense_2 (NoisyDense)  (None, 512)               3212288   \n",
            "                                                                 \n",
            " activation_1 (Activation)   (None, 512)               0         \n",
            "                                                                 \n",
            " noisy_dense_3 (NoisyDense)  (None, 6)                 6156      \n",
            "                                                                 \n",
            "=================================================================\n",
            "Total params: 3,296,428\n",
            "Trainable params: 3,296,428\n",
            "Non-trainable params: 0\n",
            "_________________________________________________________________\n"
          ]
        }
      ]
    },
    {
      "cell_type": "code",
      "source": [
        "# Registrar la capa personalizada\n",
        "from tensorflow.keras.utils import get_custom_objects\n",
        "get_custom_objects().update({'NoisyDense': NoisyDense})"
      ],
      "metadata": {
        "id": "ROLj2gHP2Ho6"
      },
      "execution_count": null,
      "outputs": []
    },
    {
      "cell_type": "markdown",
      "source": [
        "#### Implementación de la Solución DQN"
      ],
      "metadata": {
        "id": "YUpI6EsCWddU"
      }
    },
    {
      "cell_type": "markdown",
      "source": [
        "En este bloque de código configuramos los componentes clave del agente Noisy DQN: carga la memoria de experiencias guardada o crea una nueva, establecemos una policy de exploración que desactiva el epsilon-greedy (eps=0.0) para depender del ruido intrínseco de las capas NoisyDense, instancia el agente con parámetros esenciales (como el preprocesador y el factor de descuento), y finalmente lo compilamos con el optimizador Adam y una tasa de aprendizaje específica."
      ],
      "metadata": {
        "id": "nQHFPggriHyC"
      }
    },
    {
      "cell_type": "code",
      "source": [
        "import os\n",
        "import pickle\n",
        "\n",
        "# Cargar la Memory\n",
        "memory_file = 'memory_noisy.pkl'\n",
        "if os.path.exists(memory_file):\n",
        "    print(\"Cargando memoria desde archivo...\")\n",
        "    with open(memory_file, 'rb') as f:\n",
        "        memory = pickle.load(f)\n",
        "else:\n",
        "    print(\"Creando nueva memoria...\")\n",
        "    memory = SequentialMemory(limit=1000000, window_length=4)\n",
        "\n",
        "# Implementar Policy\n",
        "policy = EpsGreedyQPolicy(eps=0.0)\n",
        "\n",
        "# Crear agente\n",
        "dqn = DQNAgent(model=model, nb_actions=nb_actions, policy=policy, memory=memory,\n",
        "               processor=AtariProcessor(), nb_steps_warmup=50000, gamma=0.99,\n",
        "               target_model_update=10000, train_interval=4, delta_clip=5)\n",
        "\n",
        "\n",
        "from tensorflow.keras.optimizers.legacy import Adam\n",
        "# Compilar agente\n",
        "dqn.compile(optimizer=Adam(learning_rate=5e-5), metrics=['mae'])"
      ],
      "metadata": {
        "id": "drUufbk72Hjj"
      },
      "execution_count": null,
      "outputs": []
    },
    {
      "cell_type": "code",
      "source": [
        "log_dir = os.path.join(drive_root, \"logs\")\n",
        "checkpoint_dir = os.path.join(drive_root, \"checkpoints\")\n",
        "os.makedirs(log_dir, exist_ok=True)\n",
        "os.makedirs(checkpoint_dir, exist_ok=True)\n",
        "\n",
        "# Función para restaurar pesos más adelante\n",
        "import re\n",
        "\n",
        "def load_latest_weights(agent, checkpoint_dir, prefix=\"dqn_noisy_weights_\"):\n",
        "    files = [f for f in os.listdir(checkpoint_dir) if f.endswith(\".h5\")]\n",
        "    pattern = re.compile(rf\"{re.escape(prefix)}(\\d+)\\.h5\")\n",
        "\n",
        "    candidates = []\n",
        "    for f in files:\n",
        "        match = pattern.match(f)\n",
        "        if match:\n",
        "            step = int(match.group(1))\n",
        "            candidates.append((step, f))\n",
        "\n",
        "    if not candidates:\n",
        "        print(\"No se encontraron checkpoints en:\", checkpoint_dir)\n",
        "        return None, 0\n",
        "\n",
        "    # Escoger el de mayor número de pasos\n",
        "    latest_step, latest_file = max(candidates, key=lambda x: x[0])\n",
        "    latest_path = os.path.join(checkpoint_dir, latest_file)\n",
        "\n",
        "    print(f\"Cargando pesos desde: {latest_path} (pasos entrenados: {latest_step})\")\n",
        "    agent.load_weights(latest_path)\n",
        "    return latest_path, latest_step"
      ],
      "metadata": {
        "id": "Mj7fFn3UW_HI"
      },
      "execution_count": null,
      "outputs": []
    },
    {
      "cell_type": "code",
      "source": [
        "# Cargar pesos anteriores si existen\n",
        "_, trained_steps = load_latest_weights(dqn, checkpoint_dir)\n",
        "\n",
        "# Definir pasos a entrenar\n",
        "steps_to_train = 100000\n",
        "total_steps = trained_steps + steps_to_train\n",
        "\n",
        "# Crear paths y callbacks dinámicos\n",
        "log_path = os.path.join(log_dir, f\"dqn_noisy_log_{trained_steps}_{total_steps}.json\")\n",
        "checkpoint_path = os.path.join(checkpoint_dir, f\"dqn_noisy_weights_{total_steps}.h5\")\n",
        "\n",
        "logger_callback = FileLogger(log_path, interval=100)\n",
        "checkpoint_callback = ModelIntervalCheckpoint(checkpoint_path, interval=10000)"
      ],
      "metadata": {
        "id": "zewMCH9AXJ0A"
      },
      "execution_count": null,
      "outputs": []
    },
    {
      "cell_type": "code",
      "source": [
        "# Cargar último checkpoint\n",
        "latest_path, trained_steps = load_latest_weights(dqn, checkpoint_dir)\n",
        "\n",
        "# Entrenar agente\n",
        "dqn.fit(env, nb_steps=100000, visualize=False, verbose=2,\n",
        "        callbacks=[checkpoint_callback, logger_callback])\n",
        "\n",
        "# Guardar pesos finales en formato .h5 (compatible con load_weights)\n",
        "dqn.save_weights(os.path.join(checkpoint_dir, f\"dqn_noisy_weights_{total_steps}.h5\"), overwrite=True)"
      ],
      "metadata": {
        "id": "KqaOB0WvXVSc"
      },
      "execution_count": null,
      "outputs": []
    },
    {
      "cell_type": "code",
      "source": [
        "# Guardar la memoria\n",
        "import pickle\n",
        "with open('memory_noisy.pkl', 'wb') as f:\n",
        "    pickle.dump(memory, f)"
      ],
      "metadata": {
        "id": "xgBTKxq_XYwe"
      },
      "execution_count": null,
      "outputs": []
    },
    {
      "cell_type": "markdown",
      "source": [
        "#### Entrenamiento parte 1"
      ],
      "metadata": {
        "id": "OTxB6WaVX7Rl"
      }
    },
    {
      "cell_type": "markdown",
      "source": [
        "Se ha entrenado al modelo por 2 millones de pasos. Al testear el modelo luego del entrenamiento entrenar el modelo tenemos los siguientes resultados para 10 episodios:"
      ],
      "metadata": {
        "id": "vGki8iVM56Lc"
      }
    },
    {
      "cell_type": "code",
      "source": [
        "# Testear desde último checkpoint\n",
        "latest_path, trained_steps = load_latest_weights(dqn, checkpoint_dir)\n",
        "if latest_path:\n",
        "    dqn.test(env, nb_episodes=10, visualize=False)"
      ],
      "metadata": {
        "colab": {
          "base_uri": "https://localhost:8080/"
        },
        "id": "6-5J3EwcVyuQ",
        "outputId": "0f478177-65d6-4acf-dee5-1e3b5dcb4c70"
      },
      "execution_count": null,
      "outputs": [
        {
          "output_type": "stream",
          "name": "stdout",
          "text": [
            "Testing for 10 episodes ...\n"
          ]
        },
        {
          "output_type": "stream",
          "name": "stderr",
          "text": [
            "/usr/local/lib/python3.11/dist-packages/keras/engine/training_v1.py:2359: UserWarning: `Model.state_updates` will be removed in a future version. This property should not be used in TensorFlow 2.0, as `updates` are applied automatically.\n",
            "  updates=self.state_updates,\n"
          ]
        },
        {
          "output_type": "stream",
          "name": "stdout",
          "text": [
            "Episode 1: reward: 11.000, steps: 494\n",
            "Episode 2: reward: 8.000, steps: 382\n",
            "Episode 3: reward: 16.000, steps: 703\n",
            "Episode 4: reward: 26.000, steps: 999\n",
            "Episode 5: reward: 23.000, steps: 908\n",
            "Episode 6: reward: 9.000, steps: 425\n",
            "Episode 7: reward: 23.000, steps: 820\n",
            "Episode 8: reward: 21.000, steps: 738\n",
            "Episode 9: reward: 24.000, steps: 778\n",
            "Episode 10: reward: 28.000, steps: 972\n"
          ]
        }
      ]
    },
    {
      "cell_type": "markdown",
      "source": [
        "La media obtenida es de 18.9 puntos de recompensa. Veremos la evolución del Mean Q a lo largo del entrenamiento:"
      ],
      "metadata": {
        "id": "AyL47tqGYjea"
      }
    },
    {
      "cell_type": "code",
      "source": [
        "plt.figure(figsize=(9, 5))\n",
        "plt.plot(final_steps, mean_q_smoothed, linewidth=2, label=f\"Mean Q (ventana ={window_size})\")\n",
        "\n",
        "plt.title(\"Evolución de Mean Q-Value a lo largo del entrenamiento (Suavizado)\", fontsize=10)\n",
        "plt.xlabel(\"Pasos de Entrenamiento\", fontsize=9)\n",
        "plt.ylabel(\"Mean Q-Value\", fontsize=9)\n",
        "plt.grid(True, linestyle=\"--\", alpha=0.7)\n",
        "plt.ticklabel_format(style=\"plain\", axis=\"x\")\n",
        "plt.ylim(bottom=0)\n",
        "plt.legend(fontsize=14)\n",
        "plt.tight_layout()\n",
        "plt.show()\n",
        "\n",
        "print(f\"\\nGráfica de 'mean_q' combinada y suavizada generada exitosamente.\")"
      ],
      "metadata": {
        "colab": {
          "base_uri": "https://localhost:8080/",
          "height": 542
        },
        "id": "qH43TtU_HDXn",
        "outputId": "028ff793-33a2-4e1d-bec4-345c65928c16"
      },
      "execution_count": null,
      "outputs": [
        {
          "output_type": "display_data",
          "data": {
            "text/plain": [
              "<Figure size 900x500 with 1 Axes>"
            ],
            "image/png": "[encoded data removed]"
          },
          "metadata": {}
        },
        {
          "output_type": "stream",
          "name": "stdout",
          "text": [
            "\n",
            "Gráfica de 'mean_q' combinada y suavizada generada exitosamente.\n"
          ]
        }
      ]
    },
    {
      "cell_type": "markdown",
      "source": [
        "Dado que el modelo no estaba alcanzando una media de recompensa adecuada (< 20) y la gráfica mostraba un estancamiento en el rendimiento a pesar de que los valores Q mejoraban, podemos plantearnos aumentar la tasa de aprendizaje (learning_rate de 5e-5 a 1e-4) para buscar acelerar la convergencia y permitir que el modelo superara posibles estancamientos. Luego, al reducir sigma_init (de 0.05 a 0.017) podrìamos estabilizar la fase inicial de exploración, evitando una aleatoriedad excesiva que pudiera dificultar un aprendizaje robusto desde el principio."
      ],
      "metadata": {
        "id": "WiJee0ooieb5"
      }
    },
    {
      "cell_type": "markdown",
      "source": [
        "#### Entrenamiento parte 2"
      ],
      "metadata": {
        "id": "S7i6ao9gYBf1"
      }
    },
    {
      "cell_type": "markdown",
      "source": [
        "Para este segundo entrenamiento vamos a modificar los siguientes parámetros:\n",
        "\n",
        "- Cambio paramétro dqn.compile(optimizer=Adam(learning_rate)) de 5e-5 a 1e-4\n",
        "- Cambio sigma_init de 0.05 a 0.017\n",
        "\n",
        "Entrenaremos por 2 millones de pasos adicionales para asegurar convergencia:"
      ],
      "metadata": {
        "id": "TwwWRwTs6BCY"
      }
    },
    {
      "cell_type": "code",
      "source": [
        "class NoisyDense(tf.keras.layers.Layer):\n",
        "    def __init__(self, units, sigma_init=0.017, **kwargs):\n",
        "        super(NoisyDense, self).__init__(**kwargs)\n",
        "        self.units = units\n",
        "        self.sigma_init = sigma_init\n",
        "\n",
        "    def build(self, input_shape):\n",
        "        input_dim = int(input_shape[-1])\n",
        "        self.mu_W = self.add_weight(\"mu_W\", shape=(input_dim, self.units),\n",
        "                                    initializer='random_uniform', trainable=True)\n",
        "        self.sigma_W = self.add_weight(\"sigma_W\", shape=(input_dim, self.units),\n",
        "                                       initializer=tf.keras.initializers.Constant(self.sigma_init), trainable=True)\n",
        "        self.mu_b = self.add_weight(\"mu_b\", shape=(self.units,),\n",
        "                                    initializer='zeros', trainable=True)\n",
        "        self.sigma_b = self.add_weight(\"sigma_b\", shape=(self.units,),\n",
        "                                       initializer=tf.keras.initializers.Constant(self.sigma_init), trainable=True)\n",
        "\n",
        "    def call(self, x):\n",
        "        epsilon_W = tf.random.normal((x.shape[-1], self.units))\n",
        "        epsilon_b = tf.random.normal((self.units,))\n",
        "        W = self.mu_W + self.sigma_W * epsilon_W\n",
        "        b = self.mu_b + self.sigma_b * epsilon_b\n",
        "        return tf.matmul(x, W) + b\n",
        "\n",
        "    def get_config(self):\n",
        "        config = super(NoisyDense, self).get_config()\n",
        "        config.update({\n",
        "            \"units\": self.units,\n",
        "            \"sigma_init\": self.sigma_init\n",
        "        })\n",
        "        return config"
      ],
      "metadata": {
        "id": "GM4UEAvjPYkw"
      },
      "execution_count": null,
      "outputs": []
    },
    {
      "cell_type": "code",
      "source": [
        "# Implementar policy\n",
        "policy = EpsGreedyQPolicy(eps=0.0)\n",
        "\n",
        "# Crear agente\n",
        "dqn = DQNAgent(model=model, nb_actions=nb_actions, policy=policy, memory=memory,\n",
        "               processor=AtariProcessor(), nb_steps_warmup=50000, gamma=0.99,\n",
        "               target_model_update=10000, train_interval=4, delta_clip=5)\n",
        "\n",
        "from tensorflow.keras.optimizers.legacy import Adam\n",
        "# Compilar agente\n",
        "dqn.compile(optimizer=Adam(learning_rate=1e-4), metrics=['mae'])"
      ],
      "metadata": {
        "id": "Rkm0M204PsWI"
      },
      "execution_count": null,
      "outputs": []
    },
    {
      "cell_type": "markdown",
      "source": [
        "Evaluamos el reward obtenido con estas modificaciones:"
      ],
      "metadata": {
        "id": "SUuqiOLVaFDn"
      }
    },
    {
      "cell_type": "code",
      "source": [
        "# Testear desde último checkpoint\n",
        "latest_path, trained_steps = load_latest_weights(dqn, checkpoint_dir)\n",
        "if latest_path:\n",
        "    dqn.test(env, nb_episodes=10, visualize=False)"
      ],
      "metadata": {
        "colab": {
          "base_uri": "https://localhost:8080/"
        },
        "id": "m3zhpC6WVOuG",
        "outputId": "5d8d3eb5-4128-4f60-eb89-bcc0b6341486"
      },
      "execution_count": null,
      "outputs": [
        {
          "output_type": "stream",
          "name": "stdout",
          "text": [
            "Testing for 10 episodes ...\n"
          ]
        },
        {
          "output_type": "stream",
          "name": "stderr",
          "text": [
            "/usr/local/lib/python3.11/dist-packages/keras/engine/training_v1.py:2359: UserWarning: `Model.state_updates` will be removed in a future version. This property should not be used in TensorFlow 2.0, as `updates` are applied automatically.\n",
            "  updates=self.state_updates,\n"
          ]
        },
        {
          "output_type": "stream",
          "name": "stdout",
          "text": [
            "Episode 1: reward: 15.000, steps: 881\n",
            "Episode 2: reward: 25.000, steps: 718\n",
            "Episode 3: reward: 12.000, steps: 598\n",
            "Episode 4: reward: 21.000, steps: 721\n",
            "Episode 5: reward: 28.000, steps: 852\n",
            "Episode 6: reward: 22.000, steps: 897\n",
            "Episode 7: reward: 26.000, steps: 771\n",
            "Episode 8: reward: 26.000, steps: 803\n",
            "Episode 9: reward: 18.000, steps: 924\n",
            "Episode 10: reward: 25.000, steps: 954\n"
          ]
        }
      ]
    },
    {
      "cell_type": "markdown",
      "source": [
        "La media obtenida es de 22.8 puntos de recompensa.\n",
        "\n",
        "---\n",
        "\n"
      ],
      "metadata": {
        "id": "dIoxeTA0X5PK"
      }
    },
    {
      "cell_type": "markdown",
      "source": [
        "Visualizamos la evolución del Q Value durante el entrenamiento con estas modificaciones:"
      ],
      "metadata": {
        "id": "76ugH598QE_s"
      }
    },
    {
      "cell_type": "code",
      "source": [
        "plt.figure(figsize=(9, 5))\n",
        "plt.plot(final_steps, mean_q_smoothed, linewidth=2, label=f\"Mean Q\")\n",
        "\n",
        "plt.title(\"Evolución de Mean Q-Value a lo largo del entrenamiento (Suavizado)\", fontsize=10)\n",
        "plt.xlabel(\"Pasos de Entrenamiento\", fontsize=9)\n",
        "plt.ylabel(\"Mean Q-Value\", fontsize=9)\n",
        "plt.grid(True, linestyle=\"--\", alpha=0.7)\n",
        "plt.ticklabel_format(style=\"plain\", axis=\"x\")\n",
        "plt.ylim(bottom=0)\n",
        "plt.legend(fontsize=14)\n",
        "plt.tight_layout()\n",
        "plt.show()\n",
        "\n",
        "print(f\"\\nGráfica de 'mean_q' combinada y suavizada generada exitosamente.\")"
      ],
      "metadata": {
        "colab": {
          "base_uri": "https://localhost:8080/",
          "height": 542
        },
        "id": "3VxfxNX9HccA",
        "outputId": "c8519f4b-4b72-4b33-8db8-3cc02885264d"
      },
      "execution_count": null,
      "outputs": [
        {
          "output_type": "display_data",
          "data": {
            "text/plain": [
              "<Figure size 900x500 with 1 Axes>"
            ],
            "image/png": "[encoded data removed]"
          },
          "metadata": {}
        },
        {
          "output_type": "stream",
          "name": "stdout",
          "text": [
            "\n",
            "Gráfica de 'mean_q' combinada y suavizada generada exitosamente.\n"
          ]
        }
      ]
    },
    {
      "cell_type": "markdown",
      "source": [
        "Los nuevos resultados muestran que los ajustes funcionaron: el modelo ahora aprende mucho mejor, con las recompensas promedio subiendo consistentemente y dejando de estancarse y los valores Q aumentando de forma robusta indicando que la estrategia actual es efectiva. Testeamos la recompensa por 50 episodios para confirmar la consistencia en los resultados:"
      ],
      "metadata": {
        "id": "L7-CAGjJQNdp"
      }
    },
    {
      "cell_type": "code",
      "source": [
        "# Testear desde último checkpoint\n",
        "latest_path, trained_steps = load_latest_weights(dqn, checkpoint_dir)\n",
        "if latest_path:\n",
        "    dqn.test(env, nb_episodes=50, visualize=False)"
      ],
      "metadata": {
        "colab": {
          "base_uri": "https://localhost:8080/"
        },
        "id": "Bt7IRSXM67Vj",
        "outputId": "a2063da6-d018-48d5-fbe7-023502946e03"
      },
      "execution_count": null,
      "outputs": [
        {
          "output_type": "stream",
          "name": "stdout",
          "text": [
            "Testing for 50 episodes ...\n"
          ]
        },
        {
          "output_type": "stream",
          "name": "stderr",
          "text": [
            "/usr/local/lib/python3.11/dist-packages/keras/engine/training_v1.py:2359: UserWarning: `Model.state_updates` will be removed in a future version. This property should not be used in TensorFlow 2.0, as `updates` are applied automatically.\n",
            "  updates=self.state_updates,\n"
          ]
        },
        {
          "output_type": "stream",
          "name": "stdout",
          "text": [
            "Episode 1: reward: 13.000, steps: 500\n",
            "Episode 2: reward: 23.000, steps: 825\n",
            "Episode 3: reward: 19.000, steps: 734\n",
            "Episode 4: reward: 13.000, steps: 503\n",
            "Episode 5: reward: 13.000, steps: 522\n",
            "Episode 6: reward: 23.000, steps: 817\n",
            "Episode 7: reward: 26.000, steps: 828\n",
            "Episode 8: reward: 14.000, steps: 609\n",
            "Episode 9: reward: 20.000, steps: 677\n",
            "Episode 10: reward: 23.000, steps: 864\n",
            "Episode 11: reward: 26.000, steps: 1033\n",
            "Episode 12: reward: 23.000, steps: 843\n",
            "Episode 13: reward: 22.000, steps: 718\n",
            "Episode 14: reward: 24.000, steps: 927\n",
            "Episode 15: reward: 22.000, steps: 798\n",
            "Episode 16: reward: 17.000, steps: 672\n",
            "Episode 17: reward: 20.000, steps: 899\n",
            "Episode 18: reward: 35.000, steps: 1496\n",
            "Episode 19: reward: 24.000, steps: 903\n",
            "Episode 20: reward: 19.000, steps: 769\n",
            "Episode 21: reward: 14.000, steps: 648\n",
            "Episode 22: reward: 23.000, steps: 800\n",
            "Episode 23: reward: 27.000, steps: 889\n",
            "Episode 24: reward: 22.000, steps: 757\n",
            "Episode 25: reward: 18.000, steps: 933\n",
            "Episode 26: reward: 34.000, steps: 1781\n",
            "Episode 27: reward: 26.000, steps: 915\n",
            "Episode 28: reward: 25.000, steps: 855\n",
            "Episode 29: reward: 15.000, steps: 583\n",
            "Episode 30: reward: 24.000, steps: 870\n",
            "Episode 31: reward: 25.000, steps: 900\n",
            "Episode 32: reward: 28.000, steps: 941\n",
            "Episode 33: reward: 23.000, steps: 906\n",
            "Episode 34: reward: 28.000, steps: 869\n",
            "Episode 35: reward: 12.000, steps: 608\n",
            "Episode 36: reward: 28.000, steps: 862\n",
            "Episode 37: reward: 24.000, steps: 899\n",
            "Episode 38: reward: 26.000, steps: 922\n",
            "Episode 39: reward: 23.000, steps: 850\n",
            "Episode 40: reward: 24.000, steps: 832\n",
            "Episode 41: reward: 25.000, steps: 1170\n",
            "Episode 42: reward: 33.000, steps: 1145\n",
            "Episode 43: reward: 20.000, steps: 744\n",
            "Episode 44: reward: 27.000, steps: 862\n",
            "Episode 45: reward: 21.000, steps: 888\n",
            "Episode 46: reward: 21.000, steps: 866\n",
            "Episode 47: reward: 27.000, steps: 839\n",
            "Episode 48: reward: 23.000, steps: 1111\n",
            "Episode 49: reward: 23.000, steps: 839\n",
            "Episode 50: reward: 33.000, steps: 1327\n"
          ]
        }
      ]
    },
    {
      "cell_type": "markdown",
      "source": [
        "Como podemos observar, la media en 50 episodios es de 22.82, lo que demuestra que se ha logrado el objetivo de manera consistente."
      ],
      "metadata": {
        "id": "swfwQmbuQhOU"
      }
    },
    {
      "cell_type": "markdown",
      "source": [
        "\n",
        "### Cuarto enfoque: Arquitectura Dueling Network ~Dueling Deep Q-Network"
      ],
      "metadata": {
        "id": "lIClkG0tvIPa"
      }
    },
    {
      "cell_type": "markdown",
      "source": [
        "#### Definimos una red neuronal también para la arquitectura Dueling DQN:"
      ],
      "metadata": {
        "id": "J616bDZ8Wt-u"
      }
    },
    {
      "cell_type": "code",
      "execution_count": null,
      "metadata": {
        "id": "JhwO3z2oPVq3"
      },
      "outputs": [],
      "source": [
        "def build_model(height, width, channels, actions):\n",
        "    model = Sequential()\n",
        "\n",
        "    # Capa 1: Conv2D con BatchNorm y ReLU\n",
        "    model.add(Convolution2D(32, (8, 8), strides=(4, 4), padding='same', input_shape=(4,84,84,1)))\n",
        "    model.add(BatchNormalization())\n",
        "    model.add(Activation('relu'))\n",
        "\n",
        "    # Capa 2: Conv2D con BatchNorm y ReLU\n",
        "    model.add(Convolution2D(64, (4, 4), strides=(2, 2), padding='same'))\n",
        "    model.add(BatchNormalization())\n",
        "    model.add(Activation('relu'))\n",
        "\n",
        "    # Capa 3: Conv2D con BatchNorm y ReLU\n",
        "    model.add(Convolution2D(64, (3, 3), strides=(1, 1), padding='same'))\n",
        "    model.add(BatchNormalization())\n",
        "    model.add(Activation('relu'))\n",
        "\n",
        "    # Aplanar + Capas Dense\n",
        "    model.add(Flatten())\n",
        "\n",
        "    # Capa Fully Connected con Dropout\n",
        "    model.add(Dense(512))\n",
        "    model.add(BatchNormalization())\n",
        "    model.add(Activation('relu'))\n",
        "    # model.add(Dropout(0.3))  # Opcional para evitar overfitting\n",
        "\n",
        "    # Capa de salida\n",
        "    model.add(Dense(actions, activation='linear'))\n",
        "\n",
        "    return model"
      ]
    },
    {
      "cell_type": "markdown",
      "source": [],
      "metadata": {
        "id": "K93-fNbEXJku"
      }
    },
    {
      "cell_type": "code",
      "execution_count": null,
      "metadata": {
        "colab": {
          "base_uri": "https://localhost:8080/"
        },
        "id": "3eBwiHKuZ6J_",
        "outputId": "02d7fc3e-eb0b-4ffb-b592-fb2994514c1e"
      },
      "outputs": [
        {
          "name": "stdout",
          "output_type": "stream",
          "text": [
            "WARNING:tensorflow:From C:\\Users\\curso\\anaconda3\\envs\\miar_rl\\lib\\site-packages\\tensorflow\\python\\keras\\layers\\normalization.py:534: _colocate_with (from tensorflow.python.framework.ops) is deprecated and will be removed in a future version.\n",
            "Instructions for updating:\n",
            "Colocations handled automatically by placer.\n",
            "Model: \"sequential\"\n",
            "_________________________________________________________________\n",
            "Layer (type)                 Output Shape              Param #   \n",
            "=================================================================\n",
            "conv2d (Conv2D)              (None, 4, 21, 21, 32)     2080      \n",
            "_________________________________________________________________\n",
            "batch_normalization (BatchNo (None, 4, 21, 21, 32)     128       \n",
            "_________________________________________________________________\n",
            "activation (Activation)      (None, 4, 21, 21, 32)     0         \n",
            "_________________________________________________________________\n",
            "conv2d_1 (Conv2D)            (None, 4, 11, 11, 64)     32832     \n",
            "_________________________________________________________________\n",
            "batch_normalization_1 (Batch (None, 4, 11, 11, 64)     256       \n",
            "_________________________________________________________________\n",
            "activation_1 (Activation)    (None, 4, 11, 11, 64)     0         \n",
            "_________________________________________________________________\n",
            "conv2d_2 (Conv2D)            (None, 4, 11, 11, 64)     36928     \n",
            "_________________________________________________________________\n",
            "batch_normalization_2 (Batch (None, 4, 11, 11, 64)     256       \n",
            "_________________________________________________________________\n",
            "activation_2 (Activation)    (None, 4, 11, 11, 64)     0         \n",
            "_________________________________________________________________\n",
            "flatten (Flatten)            (None, 30976)             0         \n",
            "_________________________________________________________________\n",
            "dense (Dense)                (None, 512)               15860224  \n",
            "_________________________________________________________________\n",
            "batch_normalization_3 (Batch (None, 512)               2048      \n",
            "_________________________________________________________________\n",
            "activation_3 (Activation)    (None, 512)               0         \n",
            "_________________________________________________________________\n",
            "dense_1 (Dense)              (None, 6)                 3078      \n",
            "=================================================================\n",
            "Total params: 15,937,830\n",
            "Trainable params: 15,936,486\n",
            "Non-trainable params: 1,344\n",
            "_________________________________________________________________\n"
          ]
        }
      ],
      "source": [
        "model = build_model(84, 84, 1, nb_actions)\n",
        "model.summary()"
      ]
    },
    {
      "cell_type": "markdown",
      "source": [
        "Para realizar la implementación se creó una red neuronal convolucional para tareas de visión por computadora. La arquitectura se eligió considerando buenas prácticas validadas en literatura como el paper original de DeepMind (Mnih et al., 2015), adaptándola con batch normalization y capacidad para extenderse hacia variantes como Double DQN o Dueling DQN.\n",
        "\n",
        "Así mismo, a continuación justificamos la estructura:\n",
        "- Entrada de 4 frames apilados: Lo que permite capturar la dinámica temporal del entorno.\n",
        "- 3 Capas convolucionales profundas: Que nos permite extraer patrones visuales progresivamente desde bordes simples hasta características más complejas.\n",
        "- Batch Normalization: Que sirve para mejorar la estabilidad y acelera la convergencia, siendo especialmente útil cuando se entrenan en sesiones de tiempo limitado (como en el caso de este modelo, que fue ejecutado empleando Colab).\n",
        "- Capa densa de 512 neuronas: Que actuó como codificador del estado de la toma de decisiones.\n",
        "- Capa de salida lineal: Que produjo los valores Q para cada acción posible, sin necesidad de usar el softmax.\n",
        "\n",
        "**Antecedentes técnicos y de uso**:\n",
        "Debido a que en mi caso no contaba con recursos de cómputo locales con GPU integrado, opté por desarrollar y entrenar el modelo usando Google Colab, aprovechando:\n",
        "1.   Acceso gratuito a GPU.\n",
        "1.   Facilidad de colaboración en línea con el equipo de trabajo.\n",
        "1.   Soporte integrado para librerias requeridas.\n",
        "1.   Cabe resaltar, que por la disponibilidad de Colab, se almacenaron los pesos paulatinamente en una ruta de Drive para no perder el entrenamiento."
      ],
      "metadata": {
        "id": "8bpkfX1JZd-n"
      }
    },
    {
      "cell_type": "markdown",
      "source": [
        "En esta conffiguración se construye un agente DQN que incorpora una policy de exploración epsilon greedy con disminución lineal, utilizando la clase \"LinearAnnealedPolicy\". Con el valor de epsilon empezando en 1.0, permitiendo una máxima exploración en las primeras etapas, y decreciendo gradualmente hasta 0.01 a lo largo de los steps.\n",
        "\n",
        "Durante las pruebas, se fijó en 0.005, garantizando una policy casi completamente explotativa. Este esquema le permitió al agente aprender progresivamente a tomar decisiones más deterministas basadas en la experiencia acumulada, sin eliminar completamente la capacidad de explorar."
      ],
      "metadata": {
        "id": "NcuKFNNAniu4"
      }
    },
    {
      "cell_type": "code",
      "execution_count": null,
      "metadata": {
        "id": "_EDlLcIIPUsf"
      },
      "outputs": [],
      "source": [
        "from rl.agents import DQNAgent\n",
        "from rl.memory import SequentialMemory\n",
        "from rl.policy import LinearAnnealedPolicy, EpsGreedyQPolicy"
      ]
    },
    {
      "cell_type": "code",
      "execution_count": null,
      "metadata": {
        "id": "7FbbInVqR0sg"
      },
      "outputs": [],
      "source": [
        "def build_agent(model, actions):\n",
        "    policy = LinearAnnealedPolicy(EpsGreedyQPolicy(), attr='eps', value_max=1., value_min=0.01, value_test=0.005, nb_steps=1000000)\n",
        "    memory = SequentialMemory(limit=500000, window_length=4)\n",
        "    dqn = DQNAgent(model=model, memory=memory, policy=policy,\n",
        "                  enable_dueling_network=True, dueling_type='avg',\n",
        "                   nb_actions=nb_actions, nb_steps_warmup=1000,\n",
        "                   batch_size=32,\n",
        "                   processor=AtariProcessor()\n",
        "                  )\n",
        "    return dqn"
      ]
    },
    {
      "cell_type": "markdown",
      "source": [
        "Así mismo, se definió una memoria secuencial (sequentialmemory) con una capacidad de 500,000 transiciones y una ventana de 4 pasos. Así mismo, el entrenamiento inicia tras un corto periodo de \"calentamiento\" o warm-up de 1000 pasos, en el cual el agente acumula experiencias antes de comenzar a actualizar los pesos de la red.\n",
        "\n",
        "Además, se activó la arquitectura del modelo Dueling DQN empleando el comando: \"Enable_dueling_network = TRUE\", con un tipo de agregación \"avg\", el cual separa la estimación del valor del estado (V) y la ventaja de cada acción (A), ayudando al agente a distinguir de manera más clara entre la calidad del estado y la calidad de las acciones disponibles. Esto permite mejorar el aprendizaje en escenarios donde muchas acciones tienen efectos similares.\n",
        "\n",
        "Finalmente, optamos por compilar el modelo con el optimizador ADAM y una tasa de aprendizaje de 0.0001, un valor comúnmente empleado por el balance entre velocidad de convergencia y estabilidad. También, se configuraron callbacks para guardar los pesos del modelo cada 10,000 pasos. Lo que permite retomar el entrenamiento o analizar versiones intermedias del agente. Aunque posteriormente, por temas de memoria en el Drive se empezaron a crear cada 25,000 pasos."
      ],
      "metadata": {
        "id": "ymH3lfyYoTog"
      }
    },
    {
      "cell_type": "markdown",
      "source": [
        "\n",
        "\n",
        "---\n",
        "\n"
      ],
      "metadata": {
        "id": "VBridsNeoQFJ"
      }
    },
    {
      "cell_type": "code",
      "execution_count": null,
      "metadata": {
        "id": "MnuIYPrTUE1X"
      },
      "outputs": [],
      "source": [
        "from rl.callbacks import ModelIntervalCheckpoint\n",
        "\n",
        "# Guardar el modelo cada 50,000 pasos\n",
        "checkpoint_callback = ModelIntervalCheckpoint(\n",
        "    filepath='checkpoints/dqn_weights_{step}.h5f',\n",
        "    interval=10000,  # cada 10,000 pasos\n",
        "    verbose=1\n",
        ")"
      ]
    },
    {
      "cell_type": "code",
      "execution_count": null,
      "metadata": {
        "id": "tL513wUlUE1X"
      },
      "outputs": [],
      "source": [
        "import os\n",
        "os.makedirs(\"checkpoints\", exist_ok=True)"
      ]
    },
    {
      "cell_type": "code",
      "execution_count": null,
      "metadata": {
        "id": "V-jxyOrdR0cg"
      },
      "outputs": [],
      "source": [
        "dqn = build_agent(model, nb_actions)\n",
        "dqn.compile(Adam(learning_rate=1e-4))"
      ]
    },
    {
      "cell_type": "markdown",
      "source": [
        "La implementación del agente DQN presentada se justifica por su adecuación a entornos complejos como los videojuegos tipo Atari, donde las observaciones son visuales y secuenciales. Para ello, se emplea un procesador especializado (AtariProcessor) y una memoria de experiencia con window_length=4, lo que permite al agente capturar la dinámica temporal del entorno. El uso de la policy epsilon-greedy con decaimiento lineal favorece una exploración intensiva en las primeras etapas del entrenamiento y una explotación eficiente en las fases finales, distribuyendo el aprendizaje de forma progresiva y estable.\n",
        "\n",
        "Además, se activa la arquitectura Dueling DQN, que separa la estimación del valor del estado y la ventaja de cada acción, permitiendo al agente aprender de forma más robusta incluso en estados donde algunas acciones tienen poco efecto. Esta mejora arquitectónica, combinada con la memoria de repetición y un tamaño de lote adecuado, contribuye a reducir la varianza y mejorar la estabilidad del aprendizaje.\n",
        "\n",
        "Finalmente, el modelo se entrena con el optimizador Adam y se configura un sistema de guardado periódico que permite preservar versiones del agente a lo largo del entrenamiento, facilitando la recuperación y el análisis posterior del desempeño."
      ],
      "metadata": {
        "id": "PXY7DyFucMzb"
      }
    },
    {
      "cell_type": "markdown",
      "metadata": {
        "id": "QK6SMHjHeRX2"
      },
      "source": [
        "#### Entrenamiento parte 1"
      ]
    },
    {
      "cell_type": "code",
      "source": [
        "from datetime import datetime\n",
        "\n",
        "print(f\"⏱ Tiempo de inicio: {datetime.now().strftime('%H:%M:%S')}\")\n",
        "\n",
        "dqn.fit(env, nb_steps=300000, visualize=False, verbose=2,callbacks=[checkpoint_callback])\n",
        "\n",
        "print(f\"⏱ Tiempo de fin: {datetime.now().strftime('%H:%M:%S')}\")"
      ],
      "metadata": {
        "id": "i_HqYzsbiefN"
      },
      "execution_count": null,
      "outputs": []
    },
    {
      "cell_type": "code",
      "execution_count": null,
      "metadata": {
        "id": "ae8n7eplpE_u",
        "outputId": "1bd0bbb3-113b-4394-f0fc-f817f0136e4f"
      },
      "outputs": [
        {
          "name": "stdin",
          "output_type": "stream",
          "text": [
            "[WARNING] dqn_04_weights.h5f.index already exists - overwrite? [y/n] y\n"
          ]
        },
        {
          "name": "stdout",
          "output_type": "stream",
          "text": [
            "[TIP] Next time specify overwrite=True!\n"
          ]
        }
      ],
      "source": [
        "dqn.save_weights('dqn_04_weights.h5f')"
      ]
    },
    {
      "cell_type": "code",
      "execution_count": null,
      "metadata": {
        "colab": {
          "base_uri": "https://localhost:8080/"
        },
        "id": "WSVcMgOsR0Nv",
        "outputId": "5208ce9f-fe6e-41eb-af05-f797d4db9370"
      },
      "outputs": [
        {
          "name": "stdout",
          "output_type": "stream",
          "text": [
            "Testing for 10 episodes ...\n",
            "Episode 1: reward: 13.000, steps: 697\n",
            "Episode 2: reward: 15.000, steps: 912\n",
            "Episode 3: reward: 11.000, steps: 669\n",
            "Episode 4: reward: 13.000, steps: 671\n",
            "Episode 5: reward: 4.000, steps: 429\n",
            "Episode 6: reward: 15.000, steps: 940\n",
            "Episode 7: reward: 22.000, steps: 920\n",
            "Episode 8: reward: 18.000, steps: 861\n",
            "Episode 9: reward: 12.000, steps: 907\n",
            "Episode 10: reward: 17.000, steps: 1029\n"
          ]
        },
        {
          "data": {
            "text/plain": [
              "<tensorflow.python.keras.callbacks.History at 0x27afbcfd850>"
            ]
          },
          "execution_count": 63,
          "metadata": {},
          "output_type": "execute_result"
        }
      ],
      "source": [
        "weights_filename = 'dqn_04_weights.h5f'.format(env_name)\n",
        "dqn.load_weights(weights_filename)\n",
        "dqn.test(env, nb_episodes=10, visualize=False)"
      ]
    },
    {
      "cell_type": "markdown",
      "source": [
        "#### Entrenamiento parte 2"
      ],
      "metadata": {
        "id": "aVZc0X-Igxos"
      }
    },
    {
      "cell_type": "markdown",
      "source": [
        "En el siguiente bloque se implementa la continuación del entrenamiento del agente DQN a partir de un modelo previamente entrenado, lo que permite acumular más pasos sin reiniciar desde cero. Se cargan los pesos guardados del checkpoint correspondiente a los 75,000 pasos de entrenamiento y se establece cesta marca como el nuevo punto de partida. Para de esta manera continuar el entrenamiento hasta completar un total de 200,000 pasos planificados en esta fase.\n",
        "\n",
        "Esta estrategia fue definida debido a las limitaciones identificadas empleando el entorno gratuito de Colab para hacer un entrenamiento incremental y controlado. Ya que requeríamos detener y reanudar los procesos por la limitante de 12 horas de ambiente gratis."
      ],
      "metadata": {
        "id": "LQuFHFApq_Ln"
      }
    },
    {
      "cell_type": "code",
      "source": [
        "#dqn_weights_100000.h5f\n",
        "#Continuación al 325000 + 100000 + 100000+75000+100000 = 800000\n",
        "\n",
        "dqn.load_weights(\"dqn_weights_75000.h5f\")\n",
        "# 🔢 Paso de partida 3\n",
        "starting_step = 75000 #ultimo weight actualizado\n",
        "remaining_steps = 200000 - starting_step\n",
        "\n",
        "\n",
        "# 🧩 Callback personalizado para continuar numeración de checkpoints\n",
        "class OffsetModelCheckpoint(ModelIntervalCheckpoint):\n",
        "    def __init__(self, filepath, interval, offset):\n",
        "        super().__init__(filepath, interval)\n",
        "        self.offset = offset\n",
        "\n",
        "    def on_step_end(self, step, logs={}):\n",
        "        # Ajusta el número de paso en el nombre del archivo\n",
        "        self.step = step + self.offset\n",
        "        super().on_step_end(step, logs)\n",
        "\n",
        "# 🚀 Entrenamiento con pasos continuados desde 100000\n",
        "dqn.fit(env, nb_steps=remaining_steps, visualize=False, verbose=2,\n",
        "        callbacks=[\n",
        "            FileLogger(\"dqn_log_continuacion.json\", interval=10000),\n",
        "            OffsetModelCheckpoint(\"dqn_weights_{step}.h5f\", interval=25000, offset=starting_step)\n",
        "        ])"
      ],
      "metadata": {
        "id": "7GjWhlRBiiJd"
      },
      "execution_count": null,
      "outputs": []
    },
    {
      "cell_type": "code",
      "source": [
        "\n",
        "weights_filename = 'dqn_weights_125000.h5f'.format(env)\n",
        "dqn.load_weights(weights_filename)\n",
        "dqn.test(env, nb_episodes=10, visualize=False)"
      ],
      "metadata": {
        "colab": {
          "base_uri": "https://localhost:8080/"
        },
        "id": "B-P1haTn_Goo",
        "outputId": "0b71a628-8cc2-4cab-defe-bff7ab8d5f4d"
      },
      "execution_count": null,
      "outputs": [
        {
          "output_type": "stream",
          "name": "stdout",
          "text": [
            "Testing for 10 episodes ...\n",
            "Episode 1: reward: 9.000, steps: 520\n",
            "Episode 2: reward: 22.000, steps: 980\n",
            "Episode 3: reward: 10.000, steps: 601\n",
            "Episode 4: reward: 22.000, steps: 953\n",
            "Episode 5: reward: 21.000, steps: 1026\n",
            "Episode 6: reward: 10.000, steps: 638\n",
            "Episode 7: reward: 6.000, steps: 477\n",
            "Episode 8: reward: 9.000, steps: 522\n",
            "Episode 9: reward: 8.000, steps: 688\n",
            "Episode 10: reward: 7.000, steps: 598\n"
          ]
        },
        {
          "output_type": "execute_result",
          "data": {
            "text/plain": [
              "<keras.callbacks.History at 0x7a92e8fe7990>"
            ]
          },
          "metadata": {},
          "execution_count": 7
        }
      ]
    },
    {
      "cell_type": "markdown",
      "source": [
        "#### Entrenamiento parte 3"
      ],
      "metadata": {
        "id": "1WNhfeASg9VN"
      }
    },
    {
      "cell_type": "markdown",
      "source": [
        "Se estableció un warm-up de 50,000 pasos en el que el agente recolecta experiencias sin actualizar la red, garantizando una base diversa y representativa en la memoria. Luego la red objetivo se actualiza cada 10,000 pasos proporcionando un balance entre estabilidad y capacidad de adaptación.\n",
        "\n",
        "Seguimos empleando el optimizador ADAM y una tasa de aprendizaje del 0.00025, para equilibrar la velocidad de convergencia y estabilidad en este tipo de arquitecturas.\n",
        "\n",
        "Así mismo, se continpuan guardando los pesos del modelo cada 25,000 pasos y se registran métricas como perdida y recompensa cada 10,000 pasos en un archivo JSON."
      ],
      "metadata": {
        "id": "9OnM2peRlx0D"
      }
    },
    {
      "cell_type": "code",
      "source": [
        "# AGENTE DQN\n",
        "dqn = DQNAgent(model=model, nb_actions=nb_actions, memory=memory,\n",
        "               nb_steps_warmup=50000, enable_double_dqn=True,\n",
        "               enable_dueling_network=True, dueling_type='avg',\n",
        "               target_model_update=10000, policy=policy,\n",
        "               processor=AtariProcessor())\n",
        "\n",
        "from keras.optimizers import Adam\n",
        "dqn.compile(Adam(lr=0.00025), metrics=['mae'])\n",
        "\n",
        "# CHECKPOINTS Y LOGGING\n",
        "checkpoint_path = drive_root + '/dqn_weights_{step}.h5f'\n",
        "weights_filename = drive_root + '/dqn_final_weights.h5f'\n",
        "\n",
        "callbacks = [\n",
        "    ModelIntervalCheckpoint(checkpoint_path, interval=25000),\n",
        "    FileLogger(drive_root + '/dqn_log.json', interval=10000)\n",
        "]"
      ],
      "metadata": {
        "colab": {
          "base_uri": "https://localhost:8080/"
        },
        "id": "vsZNx4gAH8Da",
        "outputId": "324b5c3e-ded5-4ec3-9f1d-c18a3b65bc18"
      },
      "execution_count": null,
      "outputs": [
        {
          "output_type": "stream",
          "name": "stderr",
          "text": [
            "/usr/local/lib/python3.11/dist-packages/keras/optimizers/legacy/adam.py:117: UserWarning: The `lr` argument is deprecated, use `learning_rate` instead.\n",
            "  super().__init__(name, **kwargs)\n"
          ]
        }
      ]
    },
    {
      "cell_type": "code",
      "source": [
        "# ENTRENAMIENTO\n",
        "dqn.fit(env, nb_steps=1000000, visualize=False, verbose=2, callbacks=callbacks)\n",
        "dqn.save_weights(weights_filename, overwrite=True)"
      ],
      "metadata": {
        "id": "HQuJOc_ZinA7"
      },
      "execution_count": null,
      "outputs": []
    },
    {
      "cell_type": "code",
      "source": [
        "#Continuando con la ejecución en el peso 325,000\n",
        "\n",
        "# Cargar pesos desde el paso 325,000\n",
        "dqn.load_weights(\"dqn_weights_325000.h5f\")"
      ],
      "metadata": {
        "id": "6hdiK0kNIYgj"
      },
      "execution_count": null,
      "outputs": []
    },
    {
      "cell_type": "code",
      "source": [
        "# Paso de partida\n",
        "starting_step = 325000\n",
        "remaining_steps = 1000000 - starting_step\n",
        "\n",
        "\n",
        "# Callback personalizado para continuar numeración de checkpoints\n",
        "class OffsetModelCheckpoint(ModelIntervalCheckpoint):\n",
        "    def __init__(self, filepath, interval, offset):\n",
        "        super().__init__(filepath, interval)\n",
        "        self.offset = offset\n",
        "\n",
        "    def on_step_end(self, step, logs={}):\n",
        "        # Ajusta el número de paso en el nombre del archivo\n",
        "        self.step = step + self.offset\n",
        "        super().on_step_end(step, logs)\n",
        "\n",
        "#  Entrenamiento con pasos continuados desde 325000\n",
        "dqn.fit(env, nb_steps=remaining_steps, visualize=False, verbose=2,\n",
        "        callbacks=[\n",
        "            FileLogger(\"dqn_log_continuacion.json\", interval=10000),\n",
        "            OffsetModelCheckpoint(\"dqn_weights_{step}.h5f\", interval=25000, offset=starting_step)\n",
        "        ])\n"
      ],
      "metadata": {
        "id": "MYcXBw8nkW4m"
      },
      "execution_count": null,
      "outputs": []
    },
    {
      "cell_type": "code",
      "source": [
        "#dqn_weights_100000.h5f\n",
        "#Continuación al 325000 + 100000 = 425000\n",
        "\n",
        "# Paso de partida 2\n",
        "starting_step = 100000 #ultimo weight actualizado\n",
        "remaining_steps = 200000 - starting_step\n",
        "\n",
        "\n",
        "# Callback personalizado para continuar numeración de checkpoints\n",
        "class OffsetModelCheckpoint(ModelIntervalCheckpoint):\n",
        "    def __init__(self, filepath, interval, offset):\n",
        "        super().__init__(filepath, interval)\n",
        "        self.offset = offset\n",
        "\n",
        "    def on_step_end(self, step, logs={}):\n",
        "        # Ajusta el número de paso en el nombre del archivo\n",
        "        self.step = step + self.offset\n",
        "        super().on_step_end(step, logs)\n",
        "\n",
        "# Entrenamiento con pasos continuados desde 100000\n",
        "dqn.fit(env, nb_steps=remaining_steps, visualize=False, verbose=2,\n",
        "        callbacks=[\n",
        "            FileLogger(\"dqn_log_continuacion.json\", interval=10000),\n",
        "            OffsetModelCheckpoint(\"dqn_weights_{step}.h5f\", interval=25000, offset=starting_step)\n",
        "        ])\n"
      ],
      "metadata": {
        "id": "F21B8eU-ka60"
      },
      "execution_count": null,
      "outputs": []
    },
    {
      "cell_type": "code",
      "source": [
        "dqn.load_weights(\"dqn_weights_100000.h5f\")\n",
        "\n",
        "# Test sin visualizar\n",
        "test_episodes = 10\n",
        "results = dqn.test(env, nb_episodes=test_episodes, visualize=False)\n"
      ],
      "metadata": {
        "colab": {
          "base_uri": "https://localhost:8080/"
        },
        "id": "L1oxC2S-w6Ws",
        "outputId": "972cc29a-f76f-4a49-e068-5ec87f0fabb4"
      },
      "execution_count": null,
      "outputs": [
        {
          "output_type": "stream",
          "name": "stdout",
          "text": [
            "Testing for 10 episodes ...\n",
            "Episode 1: reward: 8.000, steps: 575\n",
            "Episode 2: reward: 11.000, steps: 775\n",
            "Episode 3: reward: 9.000, steps: 821\n",
            "Episode 4: reward: 7.000, steps: 662\n",
            "Episode 5: reward: 17.000, steps: 1113\n",
            "Episode 6: reward: 7.000, steps: 749\n",
            "Episode 7: reward: 6.000, steps: 593\n",
            "Episode 8: reward: 10.000, steps: 697\n",
            "Episode 9: reward: 13.000, steps: 842\n",
            "Episode 10: reward: 6.000, steps: 537\n"
          ]
        }
      ]
    },
    {
      "cell_type": "code",
      "source": [
        "#dqn_weights_100000.h5f\n",
        "#Continuación al 325000 + 100000 + 100000 = 525000\n",
        "\n",
        "# Paso de partida 3\n",
        "starting_step = 100000 #ultimo weight actualizado\n",
        "remaining_steps = 200000 - starting_step\n",
        "\n",
        "\n",
        "# Callback personalizado para continuar numeración de checkpoints\n",
        "class OffsetModelCheckpoint(ModelIntervalCheckpoint):\n",
        "    def __init__(self, filepath, interval, offset):\n",
        "        super().__init__(filepath, interval)\n",
        "        self.offset = offset\n",
        "\n",
        "    def on_step_end(self, step, logs={}):\n",
        "        # Ajusta el número de paso en el nombre del archivo\n",
        "        self.step = step + self.offset\n",
        "        super().on_step_end(step, logs)\n",
        "\n",
        "# Entrenamiento con pasos continuados desde 100000\n",
        "dqn.fit(env, nb_steps=remaining_steps, visualize=False, verbose=2,\n",
        "        callbacks=[\n",
        "            FileLogger(\"dqn_log_continuacion.json\", interval=10000),\n",
        "            OffsetModelCheckpoint(\"dqn_weights_{step}.h5f\", interval=25000, offset=starting_step)\n",
        "        ])"
      ],
      "metadata": {
        "id": "uy6zniVlkf8s"
      },
      "execution_count": null,
      "outputs": []
    },
    {
      "cell_type": "code",
      "source": [
        "dqn.load_weights(\"dqn_weights_100000.h5f\")\n",
        "test_episodes = 10\n",
        "results = dqn.test(env, nb_episodes=test_episodes, visualize=False)"
      ],
      "metadata": {
        "colab": {
          "base_uri": "https://localhost:8080/"
        },
        "id": "Ng-v5wQnkec0",
        "outputId": "c2db62d9-fe02-4e03-ad40-36e141f51519"
      },
      "execution_count": null,
      "outputs": [
        {
          "output_type": "stream",
          "name": "stdout",
          "text": [
            "Testing for 10 episodes ...\n",
            "Episode 1: reward: 4.000, steps: 396\n",
            "Episode 2: reward: 4.000, steps: 411\n",
            "Episode 3: reward: 14.000, steps: 903\n",
            "Episode 4: reward: 23.000, steps: 1126\n",
            "Episode 5: reward: 10.000, steps: 697\n",
            "Episode 6: reward: 10.000, steps: 618\n",
            "Episode 7: reward: 12.000, steps: 682\n",
            "Episode 8: reward: 6.000, steps: 404\n",
            "Episode 9: reward: 6.000, steps: 570\n",
            "Episode 10: reward: 9.000, steps: 484\n"
          ]
        }
      ]
    },
    {
      "cell_type": "code",
      "source": [
        "#dqn_weights_100000.h5f\n",
        "#Continuación al 325000 + 100000 + 100000+100000 = 625000\n",
        "\n",
        "dqn.load_weights(\"dqn_weights_100000.h5f\")\n",
        "# Paso de partida 3\n",
        "starting_step = 100000 #ultimo weight actualizado\n",
        "remaining_steps = 200000 - starting_step\n",
        "\n",
        "\n",
        "# Callback personalizado para continuar numeración de checkpoints\n",
        "class OffsetModelCheckpoint(ModelIntervalCheckpoint):\n",
        "    def __init__(self, filepath, interval, offset):\n",
        "        super().__init__(filepath, interval)\n",
        "        self.offset = offset\n",
        "\n",
        "    def on_step_end(self, step, logs={}):\n",
        "        # Ajusta el número de paso en el nombre del archivo\n",
        "        self.step = step + self.offset\n",
        "        super().on_step_end(step, logs)\n",
        "\n",
        "# Entrenamiento con pasos continuados desde 100000\n",
        "dqn.fit(env, nb_steps=remaining_steps, visualize=False, verbose=2,\n",
        "        callbacks=[\n",
        "            FileLogger(\"dqn_log_continuacion.json\", interval=10000),\n",
        "            OffsetModelCheckpoint(\"dqn_weights_{step}.h5f\", interval=25000, offset=starting_step)\n",
        "        ])"
      ],
      "metadata": {
        "id": "WP2nTzhUkiir"
      },
      "execution_count": null,
      "outputs": []
    },
    {
      "cell_type": "code",
      "source": [
        "test_episodes = 100\n",
        "results = dqn.test(env, nb_episodes=test_episodes, visualize=False)"
      ],
      "metadata": {
        "colab": {
          "base_uri": "https://localhost:8080/"
        },
        "id": "3CaJs3WSdSjg",
        "outputId": "02269040-4a12-46d3-d359-21cd9c068652"
      },
      "execution_count": null,
      "outputs": [
        {
          "output_type": "stream",
          "name": "stdout",
          "text": [
            "Testing for 100 episodes ...\n",
            "Episode 1: reward: 20.000, steps: 979\n",
            "Episode 2: reward: 22.000, steps: 971\n",
            "Episode 3: reward: 26.000, steps: 1098\n",
            "Episode 4: reward: 4.000, steps: 531\n",
            "Episode 5: reward: 8.000, steps: 710\n",
            "Episode 6: reward: 14.000, steps: 854\n",
            "Episode 7: reward: 15.000, steps: 662\n",
            "Episode 8: reward: 10.000, steps: 916\n",
            "Episode 9: reward: 11.000, steps: 679\n",
            "Episode 10: reward: 36.000, steps: 1685\n",
            "Episode 11: reward: 19.000, steps: 963\n",
            "Episode 12: reward: 9.000, steps: 504\n",
            "Episode 13: reward: 20.000, steps: 991\n",
            "Episode 14: reward: 16.000, steps: 834\n",
            "Episode 15: reward: 20.000, steps: 990\n",
            "Episode 16: reward: 24.000, steps: 1014\n",
            "Episode 17: reward: 20.000, steps: 1088\n",
            "Episode 18: reward: 8.000, steps: 521\n",
            "Episode 19: reward: 13.000, steps: 654\n",
            "Episode 20: reward: 14.000, steps: 644\n",
            "Episode 21: reward: 20.000, steps: 1171\n",
            "Episode 22: reward: 5.000, steps: 589\n",
            "Episode 23: reward: 13.000, steps: 906\n",
            "Episode 24: reward: 12.000, steps: 807\n",
            "Episode 25: reward: 16.000, steps: 989\n",
            "Episode 26: reward: 8.000, steps: 681\n",
            "Episode 27: reward: 4.000, steps: 379\n",
            "Episode 28: reward: 6.000, steps: 506\n",
            "Episode 29: reward: 17.000, steps: 853\n",
            "Episode 30: reward: 11.000, steps: 744\n",
            "Episode 31: reward: 7.000, steps: 501\n",
            "Episode 32: reward: 9.000, steps: 500\n",
            "Episode 33: reward: 14.000, steps: 771\n",
            "Episode 34: reward: 16.000, steps: 1013\n",
            "Episode 35: reward: 17.000, steps: 975\n",
            "Episode 36: reward: 10.000, steps: 641\n",
            "Episode 37: reward: 19.000, steps: 905\n",
            "Episode 38: reward: 7.000, steps: 449\n",
            "Episode 39: reward: 13.000, steps: 739\n",
            "Episode 40: reward: 20.000, steps: 862\n",
            "Episode 41: reward: 4.000, steps: 322\n",
            "Episode 42: reward: 8.000, steps: 499\n",
            "Episode 43: reward: 9.000, steps: 769\n",
            "Episode 44: reward: 13.000, steps: 776\n",
            "Episode 45: reward: 6.000, steps: 488\n",
            "Episode 46: reward: 23.000, steps: 1233\n",
            "Episode 47: reward: 11.000, steps: 692\n",
            "Episode 48: reward: 16.000, steps: 758\n",
            "Episode 49: reward: 6.000, steps: 529\n",
            "Episode 50: reward: 15.000, steps: 934\n",
            "Episode 51: reward: 10.000, steps: 455\n",
            "Episode 52: reward: 8.000, steps: 651\n",
            "Episode 53: reward: 25.000, steps: 955\n",
            "Episode 54: reward: 10.000, steps: 657\n",
            "Episode 55: reward: 6.000, steps: 497\n",
            "Episode 56: reward: 13.000, steps: 702\n",
            "Episode 57: reward: 14.000, steps: 667\n",
            "Episode 58: reward: 16.000, steps: 886\n",
            "Episode 59: reward: 9.000, steps: 526\n",
            "Episode 60: reward: 7.000, steps: 520\n",
            "Episode 61: reward: 20.000, steps: 1085\n",
            "Episode 62: reward: 7.000, steps: 656\n",
            "Episode 63: reward: 17.000, steps: 733\n",
            "Episode 64: reward: 13.000, steps: 644\n",
            "Episode 65: reward: 17.000, steps: 1087\n",
            "Episode 66: reward: 17.000, steps: 1194\n",
            "Episode 67: reward: 13.000, steps: 815\n",
            "Episode 68: reward: 14.000, steps: 790\n",
            "Episode 69: reward: 8.000, steps: 449\n",
            "Episode 70: reward: 15.000, steps: 925\n",
            "Episode 71: reward: 12.000, steps: 660\n",
            "Episode 72: reward: 4.000, steps: 519\n",
            "Episode 73: reward: 16.000, steps: 907\n",
            "Episode 74: reward: 12.000, steps: 794\n",
            "Episode 75: reward: 12.000, steps: 774\n",
            "Episode 76: reward: 5.000, steps: 528\n",
            "Episode 77: reward: 13.000, steps: 672\n",
            "Episode 78: reward: 8.000, steps: 395\n",
            "Episode 79: reward: 11.000, steps: 576\n",
            "Episode 80: reward: 19.000, steps: 845\n",
            "Episode 81: reward: 5.000, steps: 500\n",
            "Episode 82: reward: 10.000, steps: 506\n",
            "Episode 83: reward: 10.000, steps: 687\n",
            "Episode 84: reward: 10.000, steps: 513\n",
            "Episode 85: reward: 10.000, steps: 617\n",
            "Episode 86: reward: 14.000, steps: 951\n",
            "Episode 87: reward: 10.000, steps: 498\n",
            "Episode 88: reward: 14.000, steps: 652\n",
            "Episode 89: reward: 17.000, steps: 614\n",
            "Episode 90: reward: 5.000, steps: 384\n",
            "Episode 91: reward: 21.000, steps: 1046\n",
            "Episode 92: reward: 15.000, steps: 667\n",
            "Episode 93: reward: 10.000, steps: 732\n",
            "Episode 94: reward: 11.000, steps: 646\n",
            "Episode 95: reward: 10.000, steps: 389\n",
            "Episode 96: reward: 26.000, steps: 1044\n",
            "Episode 97: reward: 20.000, steps: 719\n",
            "Episode 98: reward: 11.000, steps: 495\n",
            "Episode 99: reward: 13.000, steps: 711\n",
            "Episode 100: reward: 17.000, steps: 870\n"
          ]
        }
      ]
    },
    {
      "cell_type": "markdown",
      "source": [
        "Promedio de la corrida anterior: 6.66"
      ],
      "metadata": {
        "id": "PRC09qPGQBRU"
      }
    },
    {
      "cell_type": "code",
      "source": [
        "#dqn_weights_100000.h5f\n",
        "#Continuación al 325000 + 100000 + 100000+100000+100000 = 725000\n",
        "\n",
        "dqn.load_weights(\"dqn_weights_100000.h5f\")\n",
        "# Paso de partida 3\n",
        "starting_step = 100000 #ultimo weight actualizado\n",
        "remaining_steps = 200000 - starting_step\n",
        "\n",
        "\n",
        "# Callback personalizado para continuar numeración de checkpoints\n",
        "class OffsetModelCheckpoint(ModelIntervalCheckpoint):\n",
        "    def __init__(self, filepath, interval, offset):\n",
        "        super().__init__(filepath, interval)\n",
        "        self.offset = offset\n",
        "\n",
        "    def on_step_end(self, step, logs={}):\n",
        "        # Ajusta el número de paso en el nombre del archivo\n",
        "        self.step = step + self.offset\n",
        "        super().on_step_end(step, logs)\n",
        "\n",
        "# Entrenamiento con pasos continuados desde 100000\n",
        "dqn.fit(env, nb_steps=remaining_steps, visualize=False, verbose=2,\n",
        "        callbacks=[\n",
        "            FileLogger(\"dqn_log_continuacion.json\", interval=10000),\n",
        "            OffsetModelCheckpoint(\"dqn_weights_{step}.h5f\", interval=25000, offset=starting_step)\n",
        "        ])"
      ],
      "metadata": {
        "id": "2kwDWNVgkmhs"
      },
      "execution_count": null,
      "outputs": []
    },
    {
      "cell_type": "code",
      "source": [
        "dqn.load_weights(\"dqn_weights_100000.h5f\")\n",
        "test_episodes = 10\n",
        "results = dqn.test(env,nb_episodes=test_episodes, visualize=False)"
      ],
      "metadata": {
        "colab": {
          "base_uri": "https://localhost:8080/"
        },
        "id": "DizYvdoZTlgs",
        "outputId": "095e8c17-5cd1-48e1-cfce-167c909ddb8c"
      },
      "execution_count": null,
      "outputs": [
        {
          "output_type": "stream",
          "name": "stdout",
          "text": [
            "Testing for 10 episodes ...\n",
            "Episode 1: reward: 8.000, steps: 381\n",
            "Episode 2: reward: 5.000, steps: 439\n",
            "Episode 3: reward: 9.000, steps: 523\n",
            "Episode 4: reward: 18.000, steps: 894\n",
            "Episode 5: reward: 14.000, steps: 888\n",
            "Episode 6: reward: 12.000, steps: 555\n",
            "Episode 7: reward: 26.000, steps: 1096\n",
            "Episode 8: reward: 4.000, steps: 410\n",
            "Episode 9: reward: 16.000, steps: 778\n",
            "Episode 10: reward: 20.000, steps: 1140\n"
          ]
        }
      ]
    },
    {
      "cell_type": "markdown",
      "source": [
        "Promedio de corrida: 13,2 (mejoró el doble ya que empezó con un 6,66). Sin embargo, no llegó al objetivo de una media de recompensa mayor o igual a 20 puntos. Por lo que apartir de estos resultados, se proponen las siguientes recomendaciones para mejorar el entrenamiento:\n",
        "1. Realizar una exploración más prolongada: Se recomienda revisar el rango y la duración del decaimiento del epsilon en las policy epsilon-greedy. En algunos casos, mantener una exploración mínima en torno al 0.05 y el 0.1 durante más pasos puede evitar el estancamiento en policys subóptimas.\n",
        "2. Incrementar los pasos totales si el entorno lo requiere: Para algunos entornos se requieren más de 1 millón de pasos para converger en una policy competitiva. Si se observa una mejora progresiva, vale la pena extender el entrenamiento a 2 millones de pasos o más.\n",
        "3. Realizar ajustes finos al learning rate y target update: Considerando que la tasa de aprendizaje se puede ajustar dinámicamente o probarse con valores más bajos (por ejemplo: 0.0001) si se detectan oscilaciones o divergencia. Así mismo, la frecuencia de actualización del modelo objetivo debería probarse entre 5000 y 15000 pasos según la estabilidad observada."
      ],
      "metadata": {
        "id": "cU6hDN2bV3mq"
      }
    },
    {
      "cell_type": "markdown",
      "metadata": {
        "id": "-NAlu8b1Gb2b"
      },
      "source": [
        "## 3. Justificación de los parámetros seleccionados y de los resultados obtenidos"
      ]
    },
    {
      "cell_type": "markdown",
      "source": [
        "### Justificación de primer enfoque: Mejorar progresivamente mediante entrenamientos sucesivos"
      ],
      "metadata": {
        "id": "VZgTa3gCvjJp"
      }
    },
    {
      "cell_type": "markdown",
      "source": [
        "Como vimos, en este enfoque se realizó tres entrenamientos:"
      ],
      "metadata": {
        "id": "mG1n7a7mbCHS"
      }
    },
    {
      "cell_type": "markdown",
      "source": [
        "#### Primer entrenamiento\n",
        "\n",
        "* Se utilizó una estrategia de exploración con disminución lineal de ε desde 1.0 hasta 0.1 a lo largo de 300,000 pasos. Este diseño permite una exploración amplia en las etapas iniciales (fundamental para evitar estrategias subóptimas tempranas) y una transición progresiva hacia la explotación en los últimos 100,000 pasos, donde ε se mantiene constante en 0.1.\n",
        "* El período de warm-up se fijó en 40,000 pasos para garantizar que el agente acumulara una cantidad suficiente de experiencias antes de comenzar a actualizar la red. Esto es importante para evitar el sobreajuste a muestras tempranas no representativas. Para prevenir grandes saltos en los valores de Q debido a errores puntuales, se utilizó un clipping del error temporal con delta_clip=1.0.\n",
        "* El agente se entrenó con el optimizador Adam, usando una tasa de aprendizaje de 0.0001, valor elegido por su estabilidad y buen desempeño en la convergencia, en entornos Atari."
      ],
      "metadata": {
        "id": "0YKbmMZLLGMA"
      }
    },
    {
      "cell_type": "markdown",
      "source": [
        "#### Segundo entrenamiento"
      ],
      "metadata": {
        "id": "f62mXAh9nwaw"
      }
    },
    {
      "cell_type": "markdown",
      "source": [
        "* Se realizó un entrenamiento más corto (50,000 pasos), dado que el agente ya poseía una estrategia razonable. Para evitar que se estancara en comportamientos subóptimos, se reintrodujo exploración moderada, comenzando con un ε de 0.4 y reduciéndolo hasta 0.2. Esta estrategia permite al agente seguir explorando posibles mejoras, sin perder completamente la explotación de lo aprendido.\n",
        "* Los resultados mostraron una mejora con respecto al entrenamiento anterior, alcanzando un promedio de 19.34 puntos tras 50 episodios de evaluación, acercándose al objetivo de 20 puntos."
      ],
      "metadata": {
        "id": "vnhv0oLMnyrz"
      }
    },
    {
      "cell_type": "markdown",
      "source": [
        "#### Tercer entrenamiento (ajuste fino)\n",
        "\n",
        "* Para refinar el comportamiento del agente, se realizó un ajuste fino a partir del modelo y la memoria previa. Esta fase se centró en pequeñas mejoras a través de una exploración mínima: se redujo ε de 0.1 a 0.08 en 50,000 pasos. El uso de la memoria existente aseguró una base de entrenamiento diversa, lo cual es fundamental en esta etapa donde se busca evitar oscilaciones o desajustes importantes en la estrategia aprendida.\n",
        "* Aunque la mejora fue leve, la evaluación cuantitativa mostró que el agente logró superar el umbral de rendimiento, alcanzando finalmente un promedio superior a 20 puntos tras 50 episodios de test, cumpliendo así con el objetivo propuesto."
      ],
      "metadata": {
        "id": "v41sSx-Soc0S"
      }
    },
    {
      "cell_type": "markdown",
      "source": [
        "### Justificación de segundo enfoque: Entrenamiento con double DQN"
      ],
      "metadata": {
        "id": "u-kRWJD6voEI"
      }
    },
    {
      "cell_type": "markdown",
      "source": [
        "Para la implementación del DQN se tuvo como referencia inicial los parámetros encontrados en el artículo titulado Human-level control through deep reinforcement learning, del autor Mnih, V. et al (2015), quién identificó unos parámetros base para obtener recompensas aceptables, sin embargo, al realizar la ejecución sobre 1 millón de pasos se identificó que no había resultados satisfactorios aún, por lo que se decidió comenzar a realizar algunas pruebas moviendo los parámetros iniciales y realizando las ejecuciones.\n",
        "\n",
        "Además, se identificó que determinados parámetros permitieron modificar significativamente los resultados, con los cuales se realizaron más pruebas y se obtuvo una combinación que permitió cumplir el objetivo con una poca cantidad de pasos, (1250000). Se indica poca cantidad debido a que la mayor cantidad de la literatura encontrada recomienda 2000000 de pasos como mínimo para su ejecución.\n",
        "\n",
        "Los parámetros modificados que permiten mejores resultados son los siguientes:\n",
        "\n",
        "Menor pasos de exploración: de 1MM a 400,000\n",
        "Menor cantidad de pasos previos: 100000\n",
        "Habilitación de enable_double_dqn=True\n",
        "Uso de Adam en vez de RMSProp\n",
        "Epsilon más pequeño (epsilon=0.001)"
      ],
      "metadata": {
        "id": "-po0vUPTuUYL"
      }
    },
    {
      "cell_type": "markdown",
      "source": [
        "### Justificación de tercer enfoque: Arquitectura DQN Noisy ~ Deep Q-Network con Noisy Networks y Double DQN"
      ],
      "metadata": {
        "id": "TsfWcIlfvqMR"
      }
    },
    {
      "cell_type": "markdown",
      "source": [
        " la elección de Noisy DQN en comparación con una DQN regular para entrenar al agente está fundamentada en su superioridad en la gestión de la exploración, un aspecto crítico en el aprendizaje por refuerzo. Los cambios en los parámetros para reducir la exploración en la segunda parte del entrenamiento se complementan y mejoran significativamente con la adopción de Noisy DQN, que aborda la exploración de una manera más intrínseca y eficiente.\n"
      ],
      "metadata": {
        "id": "2a-23JHRcYyn"
      }
    },
    {
      "cell_type": "markdown",
      "source": [
        "##### Justificación de la elección del enfoque:"
      ],
      "metadata": {
        "id": "o1K5OWEtc2kP"
      }
    },
    {
      "cell_type": "markdown",
      "source": [
        "La principal razón para preferir Noisy DQN es su capacidad para integrar la exploración directamente en las capas de la red neuronal del agente (NoisyNet-DQN, n.d.; The concept of noisy networks, n.d.). A diferencia de las estrategias de exploración basadas en ϵ-greedy, que introducen aleatoriedad de forma externa y a menudo ciega (donde la probabilidad de exploración es fija o decae linealmente), Noisy DQN añade ruido paramétrico a los pesos y/o sesgos de las capas lineales. Este ruido se aprende junto con los pesos de la red durante el proceso de entrenamiento (NoisyNet-DQN, n.d.).\n",
        "\n",
        "Este enfoque ofrece varias ventajas clave:\n",
        "\n",
        "- **Exploración Basada en el Estado:** El ruido en Noisy DQN no es aleatorio en cada paso de tiempo de forma independiente (como en ϵ-greedy), sino que es una función de la entrada del estado. Esto significa que el agente puede tener comportamientos de exploración consistentes en diferentes partes del espacio de estados, fomentando una exploración más dirigida y eficiente (The concept of noisy networks, n.d.; What is NoisyNet, n.d.).\n",
        "\n",
        "- **Eficiencia de Muestreo:** Al tener el ruido integrado en los parámetros de la red, Noisy DQN fomenta una exploración más eficiente, ya que el agente puede aprender a explorar diferentes acciones sin depender de heurísticas de exploración convencionales (What is NoisyNet, n.d.). Esto puede llevar a una convergencia más rápida y estable, especialmente en entornos complejos o con recompensas dispersas (NoisyNet-DQN, n.d.).\n",
        "\n",
        "- **Eliminación de la Programación de Epsilon:** Con Noisy DQN, la necesidad de programar una policy de exploración ϵ-greedy (por ejemplo, definir un valor inicial de ϵ y una tasa de decaimiento) se elimina o se simplifica. El ruido en las capas de la red se ajusta automáticamente, permitiendo que la exploración disminuya naturalmente a medida que el agente se vuelve más seguro de sus estimaciones de valores Q (NoisyNet-DQN, n.d.). La desactivación explícita de EpsGreedyQPolicy(eps=0.0) en tu configuración refuerza que la exploración está siendo manejada por las capas ruidosas."
      ],
      "metadata": {
        "id": "CeouBWaOc6sn"
      }
    },
    {
      "cell_type": "markdown",
      "source": [
        "#### Justificación de los Parámetros y Configuraciones Utilizadas"
      ],
      "metadata": {
        "id": "g_rKwmXgeLkv"
      }
    },
    {
      "cell_type": "markdown",
      "source": [
        "La configuración que hicimos del modelo Noisy DQN se basa en prácticas estándar en el aprendizaje por refuerzo profundo, con adaptaciones específicas para el ruido."
      ],
      "metadata": {
        "id": "Heuxyob1eZ7r"
      }
    },
    {
      "cell_type": "markdown",
      "source": [
        "- **Cambio en la Tasa de Aprendizaje (learning_rate) de 5e-5 a 1e-4:** La tasa de aprendizaje del optimizador Adam se incrementó de 0.00005 a 0.0001. La elección de la tasa de aprendizaje es crucial en el entrenamiento de modelos de aprendizaje profundo, incluyendo el aprendizaje por refuerzo. Una tasa de aprendizaje adecuada puede acelerar la convergencia, mientras que una tasa demasiado alta puede causar inestabilidad y divergencia, y una demasiado baja puede ralentizar el aprendizaje (Samia, n.d.). Este ajuste es común para encontrar un equilibrio óptimo en diferentes entornos.\n",
        "\n",
        "- **Uso de EpsGreedyQPolicy(eps=0.0)**: policys como BoltzmannQPolicy introducen una exploración estocástica donde las acciones con valores Q estimados más altos tenían mayor probabilidad de ser seleccionadas. Al usar como policy a EpsGreedyQPolicy(eps=0.0), se ha deshabilitado la exploración basada en ϵ-greedy externa. En el contexto de Noisy DQN, esto es un punto clave, ya que la exploración ya no se delega a una estrategia/policy externa, sino que se maneja intrínsecamente por el ruido paramétrico de las capas Noisy (NoisyNet-DQN, n.d.).\n",
        "\n",
        "- **Cambio de sigma_init de 0.05 a 0.017**: El parámetro sigma_init en la capa NoisyDense es el valor inicial de la desviación estándar del ruido agregado a los pesos y sesgos de la red (What is NoisyNet, n.d.). Un sigma_init más alto (0.05) implicaría una mayor exploración inicial. Reducir sigma_init a 0.017 indica una decisión para tener una exploración inicial menos agresiva. Este ajuste puede ser beneficioso para estabilizar el entrenamiento en las primeras etapas o si se observa que una exploración excesiva al principio es perjudicial para el rendimiento. La efectividad de sigma_init reside en que el agente aprende a ajustar la intensidad del ruido automáticamente durante el entrenamiento (NoisyNet-DQN, n.d.).\n",
        "\n",
        "- **SequentialMemory para Experience Replay:** La memoria de repetición (SequentialMemory) almacena las transiciones de experiencia del agente (estado, acción, recompensa, nuevo estado). Esto permite que el agente aprenda de datos muestreados aleatoriamente de experiencias pasadas, lo que rompe las correlaciones temporales en la secuencia de datos y estabiliza el proceso de entrenamiento de la red neuronal, abordando el problema de la correlación de datos y la no estacionaridad en el aprendizaje por refuerzo (Playing Atari with Deep Reinforcement Learning, n.d.-a).\n",
        "\n",
        "En resumen, la elección de Noisy DQN se justifica por su enfoque más sofisticado e intrínseco de la exploración, que supera las limitaciones de las estrategias de exploración basadas en reglas. Los ajustes de parámetros, como el cambio en la tasa de aprendizaje y la reducción de sigma_init, junto con la eliminación de la policy de exploración eps-greedy, reflejan una optimización cuidadosa para aprovechar al máximo las capacidades de Noisy DQN en la tarea específica. Las configuraciones de preprocesamiento son prácticas estándar que garantizan que el modelo reciba entradas adecuadas para un aprendizaje eficiente en el entorno de Atari."
      ],
      "metadata": {
        "id": "_FmXRvDJepmL"
      }
    },
    {
      "cell_type": "markdown",
      "source": [
        "\n",
        "**Referencias**\n",
        "\n",
        "NoisyNet-DQN: Enhancing Deep Q-Network Exploration. (n.d.). Serp.ai. Recuperado de https://serp.ai/posts/noisynet-dqn/\n",
        "\n",
        "Playing Atari with Deep Reinforcement Learning. (n.d.-a). GitHub. Recuperado de https://github.com/adhiiisetiawan/atari-dqn\n",
        "\n",
        "Playing Atari with Deep Reinforcement Learning. (n.d.-b). Notes by Lex. Recuperado de https://notesbylex.com/playing-atari-with-deep-reinforcement-learning\n",
        "\n",
        "Samia, S. (n.d.). How to choose the right learning rate in deep learning (with PyTorch). Medium. Recuperado de https://medium.com/@sahin.samia/how-to-choose-the-right-learning-rate-in-deep-learning-with-pytorch-690de782b405\n",
        "\n",
        "The concept of noisy networks. (n.d.). ResearchGate. Recuperado de https://www.researchgate.net/figure/The-concept-of-noisy-networks_fig3_373550702\n",
        "\n",
        "What is NoisyNet. (n.d.). Activeloop.ai. Recuperado de https://www.activeloop.ai/resources/glossary/noisy-net/"
      ],
      "metadata": {
        "id": "vUKVKM87fmRq"
      }
    },
    {
      "cell_type": "markdown",
      "source": [
        "### Justificación de cuarto enfoque: Arquitectura Dueling Network ~Dueling Deep Q-Network"
      ],
      "metadata": {
        "id": "5MzLdSpevsRX"
      }
    },
    {
      "cell_type": "markdown",
      "metadata": {
        "id": "ANFQiicXK3sO"
      },
      "source": [
        "3.2.1 Modelo\n",
        "El modelo utilizado se basa en la arquitectura Dueling Double DQN, propuesta como una mejora al Deep Q-Network original de Mnih et al. (2015). Esta arquitectura incorpora dos mejoras clave:\n",
        "\n",
        "Double DQN: Introducida por Van Hasselt et al. (2016), reduce la sobreestimación de los valores Q al separar las redes utilizadas para seleccionar y evaluar acciones.\n",
        "\n",
        "Dueling DQN: Propuesta por Wang et al. (2016), separa la estimación del valor del estado (V(s)) de la ventaja de cada acción (A(s,a)), lo que permite al agente aprender a evaluar correctamente estados incluso si no conoce el efecto de todas las acciones disponibles.\n",
        "\n",
        "Referencias:\n",
        "\n",
        "- Van Hasselt, H., Guez, A., & Silver, D. (2016). Deep Reinforcement Learning with Double Q-learning. https://arxiv.org/abs/1509.06461\n",
        "\n",
        "- Wang, Z., Schaul, T., Hessel, M., Hasselt, H. V., Lanctot, M., & de Freitas, N. (2016). Dueling Network Architectures for Deep Reinforcement Learning. https://arxiv.org/abs/1511.06581"
      ]
    },
    {
      "cell_type": "markdown",
      "source": [
        "3.2.2 Evolución de los hiperparámetros probados\n",
        "\n",
        "Durante el desarrollo del modelo se exploraron distintos valores de los siguientes hiperparámetros:\n",
        "\n",
        "- LEARNING_RATE: Se probó con 0.00025 y 0.0001. Este último mostró mayor estabilidad en fases tempranas.\n",
        "\n",
        "- MEMORY_SIZE: Se fijó en 500,000 transiciones, lo que permitió una buena diversidad de experiencias sin afectar el rendimiento.\n",
        "\n",
        "- POLICY_NB_STEPS: epsilon decayó linealmente desde 1.0 hasta 0.1 o 0.01, con un total de 300,000 a 1,000,000 pasos según el experimento.\n",
        "\n",
        "- WARMUP_STEPS: Se utilizaron 40,000 y 50,000 pasos de warm-up, durante los cuales solo se almacenan transiciones.\n",
        "\n",
        "- MODEL_UPDATE: El target model se actualizó cada 8,500 o 10,000 pasos, buscando equilibrio entre estabilidad y capacidad de adaptación.\n",
        "\n",
        "- MODEL_CHECKPOINT_INTERVAL: Se guardaron modelos cada 10,000 o 25,000 pasos. Esto facilitó la continuidad en sesiones prolongadas.\n",
        "\n",
        "- TRAIN_NB_STEPS: Se realizaron entrenamientos desde 400,000 hasta 1,000,000 pasos, según la ejecución.\n",
        "\n",
        "- TRAIN_INTERVAL: El modelo actualizó sus pesos cada 4 pasos, como se recomienda en los papers base.\n",
        "\n",
        "- CURRENT_STRATEGY: Policy EpsGreedyQPolicy con LinearAnnealedPolicy.\n",
        "\n",
        "Estas configuraciones fueron ajustadas con base en experimentación directa, revisiones bibliográficas y pruebas comparativas internas. Si bien no se alcanzó la media de 20 puntos, el modelo logró un rendimiento promedio de 13.2 puntos en 1,000,000 pasos, lo cual demuestra aprendizaje efectivo y proporciona una base sólida para futuras mejoras."
      ],
      "metadata": {
        "id": "PJuTj9A_FOBj"
      }
    },
    {
      "cell_type": "markdown",
      "source": [
        "3.3 Conclusiones\n",
        "\n",
        "El entrenamiento de modelos DQN avanzados requiere iteración constante, validación de múltiples combinaciones de hiperparámetros y una comprensión clara del comportamiento del entorno. En este caso, si bien no se alcanzó el umbral de 20 puntos, se logró una policy funcional que mejora significativamente respecto al comportamiento aleatorio, validando la efectividad de la arquitectura Dueling Double DQN.\n",
        "\n",
        "Los resultados obtenidos muestran que:\n",
        "\n",
        "- El modelo está aprendiendo una policy válida.\n",
        "\n",
        "- La configuración es estable y permite mejoras incrementales.\n",
        "\n",
        "- Es posible mejorar el rendimiento incluyendo técnicas adicionales como prioritized replay, multi-step targets, o entrenamientos más largos.\n",
        "\n",
        "Esta etapa permite consolidar aprendizajes clave y orientar los próximos entrenamientos del equipo hacia arquitecturas más robustas y estrategias de exploración más eficaces."
      ],
      "metadata": {
        "id": "u_BVduI2JEW7"
      }
    },
    {
      "cell_type": "markdown",
      "source": [
        "### Método seleccionado y conclusión\n",
        "\n",
        "Tras implementar y analizar cuatro enfoques para el entrenamiento de agentes en el entorno SpaceInvaders, se puede concluir que el segundo enfoque, basado en el uso combinado de Double DQN y Dueling DQN, fue el más eficiente y equilibrado en cuanto a rendimiento, estabilidad y tiempo de entrenamiento.\n",
        "\n",
        "A diferencia del primer enfoque, que se basó en múltiples etapas de entrenamiento progresivo con ajustes manuales del parámetro ε, el segundo enfoque logró resultados superiores con una sola fase de entrenamiento optimizada. Este diseño evitó la necesidad de fases adicionales de ajuste fino, lo que simplificó el proceso sin sacrificar desempeño.\n",
        "\n",
        "Por otro lado, aunque el tercer enfoque con Noisy Networks introdujo un mecanismo innovador de exploración implícita, no superó en consistencia ni eficiencia al segundo enfoque. A pesar de entrenarse por 4 millones de pasos en total, solo logró una media de 22.8 puntos, y su comportamiento presentó mayor variabilidad, lo cual sugiere que si bien tiene potencial, requiere una sintonización más delicada de sus hiperparámetros para obtener resultados comparables.\n",
        "\n",
        "El segundo enfoque destacó por su combinación de técnicas consolidadas y mejoras clave como:\n",
        "•⁠  ⁠Reducción del sobreajuste con Double DQN\n",
        "•⁠  ⁠Decisiones más informadas con Dueling DQN\n",
        "•⁠  ⁠Actualizaciones estables con target_model_update=10000\n",
        "•⁠  ⁠Y un uso efectivo del replay buffer y clipping de errores\n",
        "\n",
        "En conjunto, esta configuración permitió alcanzar el objetivo con menor complejidad operativa y un rendimiento general más robusto, consolidándose como la solución más efectiva para este problema."
      ],
      "metadata": {
        "id": "0HZP2n_M6p5Y"
      }
    }
  ],
  "metadata": {
    "colab": {
      "provenance": [],
      "toc_visible": true,
      "gpuType": "T4",
      "include_colab_link": true
    },
    "kernelspec": {
      "display_name": "Python 3",
      "name": "python3"
    },
    "language_info": {
      "codemirror_mode": {
        "name": "ipython",
        "version": 3
      },
      "file_extension": ".py",
      "mimetype": "text/x-python",
      "name": "python",
      "nbconvert_exporter": "python",
      "pygments_lexer": "ipython3",
      "version": "3.7.9"
    },
    "accelerator": "GPU"
  },
  "nbformat": 4,
  "nbformat_minor": 0
}