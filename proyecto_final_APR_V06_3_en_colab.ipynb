{
  "nbformat": 4,
  "nbformat_minor": 0,
  "metadata": {
    "colab": {
      "provenance": [],
      "gpuType": "A100",
      "machine_shape": "hm",
      "include_colab_link": true
    },
    "kernelspec": {
      "name": "python3",
      "display_name": "Python 3"
    },
    "language_info": {
      "name": "python"
    },
    "accelerator": "GPU"
  },
  "cells": [
    {
      "cell_type": "markdown",
      "metadata": {
        "id": "view-in-github",
        "colab_type": "text"
      },
      "source": [
        "<a href=\"https://colab.research.google.com/github/LuisIrigoyen/trabajo_final_RL/blob/main/proyecto_final_APR_V06_3_en_colab.ipynb\" target=\"_parent\"><img src=\"https://colab.research.google.com/assets/colab-badge.svg\" alt=\"Open In Colab\"/></a>"
      ]
    },
    {
      "cell_type": "code",
      "source": [],
      "metadata": {
        "id": "wVXkh8rCNl45"
      },
      "execution_count": null,
      "outputs": []
    },
    {
      "cell_type": "markdown",
      "source": [
        "## 1.2. Localizar entorno de trabajo: Google colab o local"
      ],
      "metadata": {
        "id": "D89Ue2uZNtzn"
      }
    },
    {
      "cell_type": "code",
      "execution_count": 1,
      "metadata": {
        "id": "7EQ46sNGLj22"
      },
      "outputs": [],
      "source": [
        "# ATENCIÓN!! Modificar ruta relativa a la práctica si es distinta (drive_root)\n",
        "mount='/content/gdrive'\n",
        "drive_root = mount + \"/My Drive/08_MIAR/actividades/proyecto practico\"\n",
        "\n",
        "try:\n",
        "  from google.colab import drive\n",
        "  IN_COLAB=True\n",
        "except:\n",
        "  IN_COLAB=False\n"
      ]
    },
    {
      "cell_type": "markdown",
      "source": [
        "## 1.3. Montar carpeta de datos local (solo Colab)"
      ],
      "metadata": {
        "id": "6on2PNxZN51A"
      }
    },
    {
      "cell_type": "code",
      "source": [
        "# Switch to the directory on the Google Drive that you want to use\n",
        "import os\n",
        "if IN_COLAB:\n",
        "  print(\"We're running Colab\")\n",
        "\n",
        "  if IN_COLAB:\n",
        "    # Mount the Google Drive at mount\n",
        "    print(\"Colab: mounting Google drive on \", mount)\n",
        "\n",
        "    drive.mount(mount)\n",
        "\n",
        "    # Create drive_root if it doesn't exist\n",
        "    create_drive_root = True\n",
        "    if create_drive_root:\n",
        "      print(\"\\nColab: making sure \", drive_root, \" exists.\")\n",
        "      os.makedirs(drive_root, exist_ok=True)\n",
        "\n",
        "    # Change to the directory\n",
        "    print(\"\\nColab: Changing directory to \", drive_root)\n",
        "    %cd $drive_root\n",
        "# Verify we're in the correct working directory\n",
        "%pwd\n",
        "print(\"Archivos en el directorio: \")\n",
        "print(os.listdir())"
      ],
      "metadata": {
        "colab": {
          "base_uri": "https://localhost:8080/"
        },
        "id": "inTxnmr0MKCH",
        "outputId": "8eca3fa7-a839-4a60-ceba-48acb49fc0d1"
      },
      "execution_count": 2,
      "outputs": [
        {
          "output_type": "stream",
          "name": "stdout",
          "text": [
            "We're running Colab\n",
            "Colab: mounting Google drive on  /content/gdrive\n",
            "Drive already mounted at /content/gdrive; to attempt to forcibly remount, call drive.mount(\"/content/gdrive\", force_remount=True).\n",
            "\n",
            "Colab: making sure  /content/gdrive/My Drive/08_MIAR/actividades/proyecto practico  exists.\n",
            "\n",
            "Colab: Changing directory to  /content/gdrive/My Drive/08_MIAR/actividades/proyecto practico\n",
            "/content/gdrive/My Drive/08_MIAR/actividades/proyecto practico\n",
            "Archivos en el directorio: \n",
            "['dqn_models', 'checkpoints', 'dqn_05_weights.h5f.data-00000-of-00001', 'dqn_05_weights.h5f.index', 'dqn_06_weights.h5f.index', 'dqn_06_weights.h5f.data-00000-of-00001', 'dqn_07_weights.h5f.index', 'dqn_07_weights.h5f.data-00000-of-00001', 'dqn_08_weights.h5f.data-00000-of-00001', 'dqn_08_weights.h5f.index', '.ipynb_checkpoints', 'dqn_09_weights.h5f.index', 'dqn_09_weights.h5f.data-00000-of-00001', 'dqn_06_1_weights.h5f.data-00000-of-00001', 'dqn_06_1_weights.h5f.index', 'checkpoint']\n"
          ]
        }
      ]
    },
    {
      "cell_type": "markdown",
      "source": [
        "## 1.4. Instalar librerías necesarias"
      ],
      "metadata": {
        "id": "MYrJ03QWN9Hw"
      }
    },
    {
      "cell_type": "code",
      "source": [
        "if IN_COLAB:\n",
        "  %pip install gym==0.17.3\n",
        "  %pip install git+https://github.com/Kojoley/atari-py.git\n",
        "  %pip install keras-rl2==1.0.5\n",
        "  %pip install tensorflow==2.12  #2.8\n",
        "else:\n",
        "  %pip install gym==0.17.3\n",
        "  %pip install git+https://github.com/Kojoley/atari-py.git\n",
        "  %pip install pyglet==1.5.0\n",
        "  %pip install h5py==3.1.0\n",
        "  %pip install Pillow==9.5.0\n",
        "  %pip install keras-rl2==1.05\n",
        "  %pip install Keras==2.2.4\n",
        "  %pip install tensorflow==2.1.0\n",
        "  %pip install torch==2.0.1\n",
        "  %pip install agents==1.4.0"
      ],
      "metadata": {
        "colab": {
          "base_uri": "https://localhost:8080/"
        },
        "id": "zSbNMsl4MTo3",
        "outputId": "ee8c6aa4-7685-43ea-c4bf-344e29501436"
      },
      "execution_count": 3,
      "outputs": [
        {
          "output_type": "stream",
          "name": "stdout",
          "text": [
            "Requirement already satisfied: gym==0.17.3 in /usr/local/lib/python3.11/dist-packages (0.17.3)\n",
            "Requirement already satisfied: scipy in /usr/local/lib/python3.11/dist-packages (from gym==0.17.3) (1.15.3)\n",
            "Requirement already satisfied: numpy>=1.10.4 in /usr/local/lib/python3.11/dist-packages (from gym==0.17.3) (1.23.5)\n",
            "Requirement already satisfied: pyglet<=1.5.0,>=1.4.0 in /usr/local/lib/python3.11/dist-packages (from gym==0.17.3) (1.5.0)\n",
            "Requirement already satisfied: cloudpickle<1.7.0,>=1.2.0 in /usr/local/lib/python3.11/dist-packages (from gym==0.17.3) (1.6.0)\n",
            "Requirement already satisfied: future in /usr/local/lib/python3.11/dist-packages (from pyglet<=1.5.0,>=1.4.0->gym==0.17.3) (1.0.0)\n",
            "Collecting git+https://github.com/Kojoley/atari-py.git\n",
            "  Cloning https://github.com/Kojoley/atari-py.git to /tmp/pip-req-build-fxv5jt36\n",
            "  Running command git clone --filter=blob:none --quiet https://github.com/Kojoley/atari-py.git /tmp/pip-req-build-fxv5jt36\n",
            "  Resolved https://github.com/Kojoley/atari-py.git to commit 86a1e05c0a95e9e6233c3a413521fdb34ca8a089\n",
            "  Preparing metadata (setup.py) ... \u001b[?25l\u001b[?25hdone\n",
            "Requirement already satisfied: numpy in /usr/local/lib/python3.11/dist-packages (from atari-py==1.2.2) (1.23.5)\n",
            "Requirement already satisfied: keras-rl2==1.0.5 in /usr/local/lib/python3.11/dist-packages (1.0.5)\n",
            "Requirement already satisfied: tensorflow in /usr/local/lib/python3.11/dist-packages (from keras-rl2==1.0.5) (2.12.0)\n",
            "Requirement already satisfied: absl-py>=1.0.0 in /usr/local/lib/python3.11/dist-packages (from tensorflow->keras-rl2==1.0.5) (1.4.0)\n",
            "Requirement already satisfied: astunparse>=1.6.0 in /usr/local/lib/python3.11/dist-packages (from tensorflow->keras-rl2==1.0.5) (1.6.3)\n",
            "Requirement already satisfied: flatbuffers>=2.0 in /usr/local/lib/python3.11/dist-packages (from tensorflow->keras-rl2==1.0.5) (25.2.10)\n",
            "Requirement already satisfied: gast<=0.4.0,>=0.2.1 in /usr/local/lib/python3.11/dist-packages (from tensorflow->keras-rl2==1.0.5) (0.4.0)\n",
            "Requirement already satisfied: google-pasta>=0.1.1 in /usr/local/lib/python3.11/dist-packages (from tensorflow->keras-rl2==1.0.5) (0.2.0)\n",
            "Requirement already satisfied: grpcio<2.0,>=1.24.3 in /usr/local/lib/python3.11/dist-packages (from tensorflow->keras-rl2==1.0.5) (1.73.0)\n",
            "Requirement already satisfied: h5py>=2.9.0 in /usr/local/lib/python3.11/dist-packages (from tensorflow->keras-rl2==1.0.5) (3.14.0)\n",
            "Requirement already satisfied: jax>=0.3.15 in /usr/local/lib/python3.11/dist-packages (from tensorflow->keras-rl2==1.0.5) (0.4.30)\n",
            "Requirement already satisfied: keras<2.13,>=2.12.0 in /usr/local/lib/python3.11/dist-packages (from tensorflow->keras-rl2==1.0.5) (2.12.0)\n",
            "Requirement already satisfied: libclang>=13.0.0 in /usr/local/lib/python3.11/dist-packages (from tensorflow->keras-rl2==1.0.5) (18.1.1)\n",
            "Requirement already satisfied: numpy<1.24,>=1.22 in /usr/local/lib/python3.11/dist-packages (from tensorflow->keras-rl2==1.0.5) (1.23.5)\n",
            "Requirement already satisfied: opt-einsum>=2.3.2 in /usr/local/lib/python3.11/dist-packages (from tensorflow->keras-rl2==1.0.5) (3.4.0)\n",
            "Requirement already satisfied: packaging in /usr/local/lib/python3.11/dist-packages (from tensorflow->keras-rl2==1.0.5) (24.2)\n",
            "Requirement already satisfied: protobuf!=4.21.0,!=4.21.1,!=4.21.2,!=4.21.3,!=4.21.4,!=4.21.5,<5.0.0dev,>=3.20.3 in /usr/local/lib/python3.11/dist-packages (from tensorflow->keras-rl2==1.0.5) (4.25.8)\n",
            "Requirement already satisfied: setuptools in /usr/local/lib/python3.11/dist-packages (from tensorflow->keras-rl2==1.0.5) (75.2.0)\n",
            "Requirement already satisfied: six>=1.12.0 in /usr/local/lib/python3.11/dist-packages (from tensorflow->keras-rl2==1.0.5) (1.17.0)\n",
            "Requirement already satisfied: tensorboard<2.13,>=2.12 in /usr/local/lib/python3.11/dist-packages (from tensorflow->keras-rl2==1.0.5) (2.12.3)\n",
            "Requirement already satisfied: tensorflow-estimator<2.13,>=2.12.0 in /usr/local/lib/python3.11/dist-packages (from tensorflow->keras-rl2==1.0.5) (2.12.0)\n",
            "Requirement already satisfied: termcolor>=1.1.0 in /usr/local/lib/python3.11/dist-packages (from tensorflow->keras-rl2==1.0.5) (3.1.0)\n",
            "Requirement already satisfied: typing-extensions>=3.6.6 in /usr/local/lib/python3.11/dist-packages (from tensorflow->keras-rl2==1.0.5) (4.14.0)\n",
            "Requirement already satisfied: wrapt<1.15,>=1.11.0 in /usr/local/lib/python3.11/dist-packages (from tensorflow->keras-rl2==1.0.5) (1.14.1)\n",
            "Requirement already satisfied: tensorflow-io-gcs-filesystem>=0.23.1 in /usr/local/lib/python3.11/dist-packages (from tensorflow->keras-rl2==1.0.5) (0.37.1)\n",
            "Requirement already satisfied: wheel<1.0,>=0.23.0 in /usr/local/lib/python3.11/dist-packages (from astunparse>=1.6.0->tensorflow->keras-rl2==1.0.5) (0.45.1)\n",
            "Requirement already satisfied: jaxlib<=0.4.30,>=0.4.27 in /usr/local/lib/python3.11/dist-packages (from jax>=0.3.15->tensorflow->keras-rl2==1.0.5) (0.4.30)\n",
            "Requirement already satisfied: ml-dtypes>=0.2.0 in /usr/local/lib/python3.11/dist-packages (from jax>=0.3.15->tensorflow->keras-rl2==1.0.5) (0.4.1)\n",
            "Requirement already satisfied: scipy>=1.9 in /usr/local/lib/python3.11/dist-packages (from jax>=0.3.15->tensorflow->keras-rl2==1.0.5) (1.15.3)\n",
            "Requirement already satisfied: google-auth<3,>=1.6.3 in /usr/local/lib/python3.11/dist-packages (from tensorboard<2.13,>=2.12->tensorflow->keras-rl2==1.0.5) (2.38.0)\n",
            "Requirement already satisfied: google-auth-oauthlib<1.1,>=0.5 in /usr/local/lib/python3.11/dist-packages (from tensorboard<2.13,>=2.12->tensorflow->keras-rl2==1.0.5) (1.0.0)\n",
            "Requirement already satisfied: markdown>=2.6.8 in /usr/local/lib/python3.11/dist-packages (from tensorboard<2.13,>=2.12->tensorflow->keras-rl2==1.0.5) (3.8)\n",
            "Requirement already satisfied: requests<3,>=2.21.0 in /usr/local/lib/python3.11/dist-packages (from tensorboard<2.13,>=2.12->tensorflow->keras-rl2==1.0.5) (2.32.3)\n",
            "Requirement already satisfied: tensorboard-data-server<0.8.0,>=0.7.0 in /usr/local/lib/python3.11/dist-packages (from tensorboard<2.13,>=2.12->tensorflow->keras-rl2==1.0.5) (0.7.2)\n",
            "Requirement already satisfied: werkzeug>=1.0.1 in /usr/local/lib/python3.11/dist-packages (from tensorboard<2.13,>=2.12->tensorflow->keras-rl2==1.0.5) (3.1.3)\n",
            "Requirement already satisfied: cachetools<6.0,>=2.0.0 in /usr/local/lib/python3.11/dist-packages (from google-auth<3,>=1.6.3->tensorboard<2.13,>=2.12->tensorflow->keras-rl2==1.0.5) (5.5.2)\n",
            "Requirement already satisfied: pyasn1-modules>=0.2.1 in /usr/local/lib/python3.11/dist-packages (from google-auth<3,>=1.6.3->tensorboard<2.13,>=2.12->tensorflow->keras-rl2==1.0.5) (0.4.2)\n",
            "Requirement already satisfied: rsa<5,>=3.1.4 in /usr/local/lib/python3.11/dist-packages (from google-auth<3,>=1.6.3->tensorboard<2.13,>=2.12->tensorflow->keras-rl2==1.0.5) (4.9.1)\n",
            "Requirement already satisfied: requests-oauthlib>=0.7.0 in /usr/local/lib/python3.11/dist-packages (from google-auth-oauthlib<1.1,>=0.5->tensorboard<2.13,>=2.12->tensorflow->keras-rl2==1.0.5) (2.0.0)\n",
            "Requirement already satisfied: charset-normalizer<4,>=2 in /usr/local/lib/python3.11/dist-packages (from requests<3,>=2.21.0->tensorboard<2.13,>=2.12->tensorflow->keras-rl2==1.0.5) (3.4.2)\n",
            "Requirement already satisfied: idna<4,>=2.5 in /usr/local/lib/python3.11/dist-packages (from requests<3,>=2.21.0->tensorboard<2.13,>=2.12->tensorflow->keras-rl2==1.0.5) (3.10)\n",
            "Requirement already satisfied: urllib3<3,>=1.21.1 in /usr/local/lib/python3.11/dist-packages (from requests<3,>=2.21.0->tensorboard<2.13,>=2.12->tensorflow->keras-rl2==1.0.5) (2.4.0)\n",
            "Requirement already satisfied: certifi>=2017.4.17 in /usr/local/lib/python3.11/dist-packages (from requests<3,>=2.21.0->tensorboard<2.13,>=2.12->tensorflow->keras-rl2==1.0.5) (2025.6.15)\n",
            "Requirement already satisfied: MarkupSafe>=2.1.1 in /usr/local/lib/python3.11/dist-packages (from werkzeug>=1.0.1->tensorboard<2.13,>=2.12->tensorflow->keras-rl2==1.0.5) (3.0.2)\n",
            "Requirement already satisfied: pyasn1<0.7.0,>=0.6.1 in /usr/local/lib/python3.11/dist-packages (from pyasn1-modules>=0.2.1->google-auth<3,>=1.6.3->tensorboard<2.13,>=2.12->tensorflow->keras-rl2==1.0.5) (0.6.1)\n",
            "Requirement already satisfied: oauthlib>=3.0.0 in /usr/local/lib/python3.11/dist-packages (from requests-oauthlib>=0.7.0->google-auth-oauthlib<1.1,>=0.5->tensorboard<2.13,>=2.12->tensorflow->keras-rl2==1.0.5) (3.2.2)\n",
            "Requirement already satisfied: tensorflow==2.12 in /usr/local/lib/python3.11/dist-packages (2.12.0)\n",
            "Requirement already satisfied: absl-py>=1.0.0 in /usr/local/lib/python3.11/dist-packages (from tensorflow==2.12) (1.4.0)\n",
            "Requirement already satisfied: astunparse>=1.6.0 in /usr/local/lib/python3.11/dist-packages (from tensorflow==2.12) (1.6.3)\n",
            "Requirement already satisfied: flatbuffers>=2.0 in /usr/local/lib/python3.11/dist-packages (from tensorflow==2.12) (25.2.10)\n",
            "Requirement already satisfied: gast<=0.4.0,>=0.2.1 in /usr/local/lib/python3.11/dist-packages (from tensorflow==2.12) (0.4.0)\n",
            "Requirement already satisfied: google-pasta>=0.1.1 in /usr/local/lib/python3.11/dist-packages (from tensorflow==2.12) (0.2.0)\n",
            "Requirement already satisfied: grpcio<2.0,>=1.24.3 in /usr/local/lib/python3.11/dist-packages (from tensorflow==2.12) (1.73.0)\n",
            "Requirement already satisfied: h5py>=2.9.0 in /usr/local/lib/python3.11/dist-packages (from tensorflow==2.12) (3.14.0)\n",
            "Requirement already satisfied: jax>=0.3.15 in /usr/local/lib/python3.11/dist-packages (from tensorflow==2.12) (0.4.30)\n",
            "Requirement already satisfied: keras<2.13,>=2.12.0 in /usr/local/lib/python3.11/dist-packages (from tensorflow==2.12) (2.12.0)\n",
            "Requirement already satisfied: libclang>=13.0.0 in /usr/local/lib/python3.11/dist-packages (from tensorflow==2.12) (18.1.1)\n",
            "Requirement already satisfied: numpy<1.24,>=1.22 in /usr/local/lib/python3.11/dist-packages (from tensorflow==2.12) (1.23.5)\n",
            "Requirement already satisfied: opt-einsum>=2.3.2 in /usr/local/lib/python3.11/dist-packages (from tensorflow==2.12) (3.4.0)\n",
            "Requirement already satisfied: packaging in /usr/local/lib/python3.11/dist-packages (from tensorflow==2.12) (24.2)\n",
            "Requirement already satisfied: protobuf!=4.21.0,!=4.21.1,!=4.21.2,!=4.21.3,!=4.21.4,!=4.21.5,<5.0.0dev,>=3.20.3 in /usr/local/lib/python3.11/dist-packages (from tensorflow==2.12) (4.25.8)\n",
            "Requirement already satisfied: setuptools in /usr/local/lib/python3.11/dist-packages (from tensorflow==2.12) (75.2.0)\n",
            "Requirement already satisfied: six>=1.12.0 in /usr/local/lib/python3.11/dist-packages (from tensorflow==2.12) (1.17.0)\n",
            "Requirement already satisfied: tensorboard<2.13,>=2.12 in /usr/local/lib/python3.11/dist-packages (from tensorflow==2.12) (2.12.3)\n",
            "Requirement already satisfied: tensorflow-estimator<2.13,>=2.12.0 in /usr/local/lib/python3.11/dist-packages (from tensorflow==2.12) (2.12.0)\n",
            "Requirement already satisfied: termcolor>=1.1.0 in /usr/local/lib/python3.11/dist-packages (from tensorflow==2.12) (3.1.0)\n",
            "Requirement already satisfied: typing-extensions>=3.6.6 in /usr/local/lib/python3.11/dist-packages (from tensorflow==2.12) (4.14.0)\n",
            "Requirement already satisfied: wrapt<1.15,>=1.11.0 in /usr/local/lib/python3.11/dist-packages (from tensorflow==2.12) (1.14.1)\n",
            "Requirement already satisfied: tensorflow-io-gcs-filesystem>=0.23.1 in /usr/local/lib/python3.11/dist-packages (from tensorflow==2.12) (0.37.1)\n",
            "Requirement already satisfied: wheel<1.0,>=0.23.0 in /usr/local/lib/python3.11/dist-packages (from astunparse>=1.6.0->tensorflow==2.12) (0.45.1)\n",
            "Requirement already satisfied: jaxlib<=0.4.30,>=0.4.27 in /usr/local/lib/python3.11/dist-packages (from jax>=0.3.15->tensorflow==2.12) (0.4.30)\n",
            "Requirement already satisfied: ml-dtypes>=0.2.0 in /usr/local/lib/python3.11/dist-packages (from jax>=0.3.15->tensorflow==2.12) (0.4.1)\n",
            "Requirement already satisfied: scipy>=1.9 in /usr/local/lib/python3.11/dist-packages (from jax>=0.3.15->tensorflow==2.12) (1.15.3)\n",
            "Requirement already satisfied: google-auth<3,>=1.6.3 in /usr/local/lib/python3.11/dist-packages (from tensorboard<2.13,>=2.12->tensorflow==2.12) (2.38.0)\n",
            "Requirement already satisfied: google-auth-oauthlib<1.1,>=0.5 in /usr/local/lib/python3.11/dist-packages (from tensorboard<2.13,>=2.12->tensorflow==2.12) (1.0.0)\n",
            "Requirement already satisfied: markdown>=2.6.8 in /usr/local/lib/python3.11/dist-packages (from tensorboard<2.13,>=2.12->tensorflow==2.12) (3.8)\n",
            "Requirement already satisfied: requests<3,>=2.21.0 in /usr/local/lib/python3.11/dist-packages (from tensorboard<2.13,>=2.12->tensorflow==2.12) (2.32.3)\n",
            "Requirement already satisfied: tensorboard-data-server<0.8.0,>=0.7.0 in /usr/local/lib/python3.11/dist-packages (from tensorboard<2.13,>=2.12->tensorflow==2.12) (0.7.2)\n",
            "Requirement already satisfied: werkzeug>=1.0.1 in /usr/local/lib/python3.11/dist-packages (from tensorboard<2.13,>=2.12->tensorflow==2.12) (3.1.3)\n",
            "Requirement already satisfied: cachetools<6.0,>=2.0.0 in /usr/local/lib/python3.11/dist-packages (from google-auth<3,>=1.6.3->tensorboard<2.13,>=2.12->tensorflow==2.12) (5.5.2)\n",
            "Requirement already satisfied: pyasn1-modules>=0.2.1 in /usr/local/lib/python3.11/dist-packages (from google-auth<3,>=1.6.3->tensorboard<2.13,>=2.12->tensorflow==2.12) (0.4.2)\n",
            "Requirement already satisfied: rsa<5,>=3.1.4 in /usr/local/lib/python3.11/dist-packages (from google-auth<3,>=1.6.3->tensorboard<2.13,>=2.12->tensorflow==2.12) (4.9.1)\n",
            "Requirement already satisfied: requests-oauthlib>=0.7.0 in /usr/local/lib/python3.11/dist-packages (from google-auth-oauthlib<1.1,>=0.5->tensorboard<2.13,>=2.12->tensorflow==2.12) (2.0.0)\n",
            "Requirement already satisfied: charset-normalizer<4,>=2 in /usr/local/lib/python3.11/dist-packages (from requests<3,>=2.21.0->tensorboard<2.13,>=2.12->tensorflow==2.12) (3.4.2)\n",
            "Requirement already satisfied: idna<4,>=2.5 in /usr/local/lib/python3.11/dist-packages (from requests<3,>=2.21.0->tensorboard<2.13,>=2.12->tensorflow==2.12) (3.10)\n",
            "Requirement already satisfied: urllib3<3,>=1.21.1 in /usr/local/lib/python3.11/dist-packages (from requests<3,>=2.21.0->tensorboard<2.13,>=2.12->tensorflow==2.12) (2.4.0)\n",
            "Requirement already satisfied: certifi>=2017.4.17 in /usr/local/lib/python3.11/dist-packages (from requests<3,>=2.21.0->tensorboard<2.13,>=2.12->tensorflow==2.12) (2025.6.15)\n",
            "Requirement already satisfied: MarkupSafe>=2.1.1 in /usr/local/lib/python3.11/dist-packages (from werkzeug>=1.0.1->tensorboard<2.13,>=2.12->tensorflow==2.12) (3.0.2)\n",
            "Requirement already satisfied: pyasn1<0.7.0,>=0.6.1 in /usr/local/lib/python3.11/dist-packages (from pyasn1-modules>=0.2.1->google-auth<3,>=1.6.3->tensorboard<2.13,>=2.12->tensorflow==2.12) (0.6.1)\n",
            "Requirement already satisfied: oauthlib>=3.0.0 in /usr/local/lib/python3.11/dist-packages (from requests-oauthlib>=0.7.0->google-auth-oauthlib<1.1,>=0.5->tensorboard<2.13,>=2.12->tensorflow==2.12) (3.2.2)\n"
          ]
        }
      ]
    },
    {
      "cell_type": "markdown",
      "source": [
        "## **PARTE 3**. Desarrollo y preguntas\n",
        "Importar librerías"
      ],
      "metadata": {
        "id": "mS60Dk-KO5e3"
      }
    },
    {
      "cell_type": "code",
      "source": [
        "from __future__ import division\n",
        "\n",
        "from PIL import Image\n",
        "import numpy as np\n",
        "import gym\n",
        "\n",
        "from tensorflow.keras.models import Sequential\n",
        "from tensorflow.keras.layers import Dense, Activation, Flatten, Conv2D\n",
        "#from tensorflow.keras.optimizers import Adam\n",
        "import tensorflow.keras.backend as K\n",
        "\n",
        "from rl.agents.dqn import DQNAgent\n",
        "from rl.policy import LinearAnnealedPolicy, BoltzmannQPolicy, EpsGreedyQPolicy\n",
        "from rl.memory import SequentialMemory\n",
        "from rl.core import Processor\n",
        "from rl.callbacks import FileLogger, ModelIntervalCheckpoint\n"
      ],
      "metadata": {
        "id": "RX-2z9T1NPp_"
      },
      "execution_count": 4,
      "outputs": []
    },
    {
      "cell_type": "markdown",
      "source": [
        "#### Configuración base"
      ],
      "metadata": {
        "id": "NqJbsVR7POZA"
      }
    },
    {
      "cell_type": "code",
      "source": [
        "INPUT_SHAPE = (84, 84)\n",
        "WINDOW_LENGTH = 4\n",
        "\n",
        "env_name = 'SpaceInvaders-v0'\n",
        "env = gym.make(env_name)\n",
        "\n",
        "np.random.seed(123)\n",
        "env.seed(123)\n",
        "nb_actions = env.action_space.n\n",
        "\n",
        "#--- nuevo -- ejfm\n",
        "height, width, channels = env.observation_space.shape\n",
        "obs = env.reset()\n",
        "print(height, width, channels)\n",
        "print(\"Forma de la observación:\", obs.shape)  # Debe ser (height, width, channels)\n",
        "env.unwrapped.get_action_meanings()"
      ],
      "metadata": {
        "colab": {
          "base_uri": "https://localhost:8080/"
        },
        "id": "0FlafEtvOKR4",
        "outputId": "0a51137f-9777-4649-c983-afd3c3f752a7"
      },
      "execution_count": 6,
      "outputs": [
        {
          "output_type": "stream",
          "name": "stdout",
          "text": [
            "210 160 3\n",
            "Forma de la observación: (210, 160, 3)\n"
          ]
        },
        {
          "output_type": "execute_result",
          "data": {
            "text/plain": [
              "['NOOP', 'FIRE', 'RIGHT', 'LEFT', 'RIGHTFIRE', 'LEFTFIRE']"
            ]
          },
          "metadata": {},
          "execution_count": 6
        }
      ]
    },
    {
      "cell_type": "code",
      "source": [
        "class AtariProcessor(Processor):\n",
        "    def process_observation(self, observation):\n",
        "        assert observation.ndim == 3  # (height, width, channel)\n",
        "        img = Image.fromarray(observation)\n",
        "        img = img.resize(INPUT_SHAPE).convert('L')\n",
        "        processed_observation = np.array(img)\n",
        "        assert processed_observation.shape == INPUT_SHAPE\n",
        "        return processed_observation.astype('uint8')\n",
        "\n",
        "    def process_state_batch(self, batch):\n",
        "\n",
        "        if batch.ndim == 4:\n",
        "            batch = np.expand_dims(batch, axis=-1)\n",
        "        processed_batch = batch.astype('float32') / 255.\n",
        "        return processed_batch\n",
        "\n",
        "    def process_reward(self, reward):\n",
        "        return np.clip(reward, -1., 1.)"
      ],
      "metadata": {
        "id": "YSGPGszsOOAw"
      },
      "execution_count": 26,
      "outputs": []
    },
    {
      "cell_type": "markdown",
      "source": [
        "## 1. EJFM Implementación de la red neuronal"
      ],
      "metadata": {
        "id": "Sg54U9vFZEBQ"
      }
    },
    {
      "cell_type": "code",
      "source": [
        "def build_model(height, width, channels, actions):\n",
        "\n",
        "    model = Sequential()\n",
        "    model.add(Conv2D(32, (8, 8), strides=(4, 4), activation='relu', input_shape=(4,84,84,1)))\n",
        "    model.add(Conv2D(64, (4, 4), strides=(2, 2), activation='relu'))\n",
        "    model.add(Conv2D(64, (3, 3), activation='relu'))\n",
        "    model.add(Flatten())\n",
        "    model.add(Dense(512, activation='relu'))\n",
        "    model.add(Dense(nb_actions, activation='linear'))\n",
        "    return model"
      ],
      "metadata": {
        "id": "JhwO3z2oPVq3"
      },
      "execution_count": 27,
      "outputs": []
    },
    {
      "cell_type": "code",
      "source": [
        "model = build_model(84, 84, 1, nb_actions)\n",
        "model.summary()"
      ],
      "metadata": {
        "id": "3eBwiHKuZ6J_",
        "colab": {
          "base_uri": "https://localhost:8080/"
        },
        "outputId": "06a04a7c-0fa6-4cd9-fa6f-d6767d7e0ebe"
      },
      "execution_count": 28,
      "outputs": [
        {
          "output_type": "stream",
          "name": "stdout",
          "text": [
            "Model: \"sequential_2\"\n",
            "_________________________________________________________________\n",
            " Layer (type)                Output Shape              Param #   \n",
            "=================================================================\n",
            " conv2d_4 (Conv2D)           (None, 4, 20, 20, 32)     2080      \n",
            "                                                                 \n",
            " conv2d_5 (Conv2D)           (None, 4, 9, 9, 64)       32832     \n",
            "                                                                 \n",
            " conv2d_6 (Conv2D)           (None, 4, 7, 7, 64)       36928     \n",
            "                                                                 \n",
            " flatten_1 (Flatten)         (None, 12544)             0         \n",
            "                                                                 \n",
            " dense_5 (Dense)             (None, 512)               6423040   \n",
            "                                                                 \n",
            " dense_6 (Dense)             (None, 6)                 3078      \n",
            "                                                                 \n",
            "=================================================================\n",
            "Total params: 6,497,958\n",
            "Trainable params: 6,497,958\n",
            "Non-trainable params: 0\n",
            "_________________________________________________________________\n"
          ]
        }
      ]
    },
    {
      "cell_type": "markdown",
      "source": [
        "## 2. EJFM Implementación de la solución DQN"
      ],
      "metadata": {
        "id": "KwJoe_1sZOX4"
      }
    },
    {
      "cell_type": "code",
      "source": [
        "from rl.agents import DQNAgent\n",
        "from rl.memory import SequentialMemory\n",
        "from rl.policy import LinearAnnealedPolicy, EpsGreedyQPolicy"
      ],
      "metadata": {
        "id": "_EDlLcIIPUsf"
      },
      "execution_count": 29,
      "outputs": []
    },
    {
      "cell_type": "code",
      "source": [
        "def build_agent(model, actions):\n",
        "    policy = LinearAnnealedPolicy(\n",
        "        EpsGreedyQPolicy(),\n",
        "        attr='eps',\n",
        "        value_max=1.0,\n",
        "        value_min=0.1,\n",
        "        value_test=0.005,\n",
        "        nb_steps=200000)\n",
        "    memory = SequentialMemory(limit=100000, window_length=4)\n",
        "    dqn = DQNAgent(model=model,\n",
        "                   memory=memory,\n",
        "                   policy=policy,\n",
        "                   enable_dueling_network=True,\n",
        "                   dueling_type='avg',\n",
        "                   nb_actions=nb_actions,\n",
        "                   batch_size=32,\n",
        "                   target_model_update=1000,\n",
        "                   processor=AtariProcessor(),\n",
        "                   nb_steps_warmup=10000\n",
        "                  )\n",
        "    return dqn"
      ],
      "metadata": {
        "id": "7FbbInVqR0sg"
      },
      "execution_count": 30,
      "outputs": []
    },
    {
      "cell_type": "code",
      "source": [
        "from rl.callbacks import ModelIntervalCheckpoint\n",
        "\n",
        "# Guardar el modelo cada 10,000 pasos\n",
        "checkpoint_callback = ModelIntervalCheckpoint(\n",
        "    filepath='checkpoints/dqn_v06_3_weights_{step}.h5f',\n",
        "    interval=10000,\n",
        "    verbose=1\n",
        ")"
      ],
      "metadata": {
        "id": "-TmOagBXbWr4"
      },
      "execution_count": 31,
      "outputs": []
    },
    {
      "cell_type": "code",
      "source": [
        "import os\n",
        "os.makedirs(\"checkpoints\", exist_ok=True)"
      ],
      "metadata": {
        "id": "9ztUDcBVbdtJ"
      },
      "execution_count": 32,
      "outputs": []
    },
    {
      "cell_type": "code",
      "source": [
        "from keras.optimizers import Adam\n",
        "\n",
        "dqn = build_agent(model, nb_actions)\n",
        "dqn.compile(Adam(learning_rate=0.00025, epsilon=1e-4))\n"
      ],
      "metadata": {
        "id": "V-jxyOrdR0cg"
      },
      "execution_count": 33,
      "outputs": []
    },
    {
      "cell_type": "code",
      "source": [
        "from datetime import datetime\n",
        "\n",
        "print(f\"⏱ Tiempo de inicio: {datetime.now().strftime('%H:%M:%S')}\")\n",
        "\n",
        "dqn.fit(env, nb_steps=300000, visualize=False, verbose=2,callbacks=[checkpoint_callback])\n",
        "\n",
        "print(f\"⏱ Tiempo de fin: {datetime.now().strftime('%H:%M:%S')}\")\n",
        "\n",
        "# Guardando modelo\n",
        "dqn.save_weights('dqn_06_3_weights.h5f')\n"
      ],
      "metadata": {
        "colab": {
          "base_uri": "https://localhost:8080/"
        },
        "id": "AR2u9_7LR0WI",
        "outputId": "a203f9ce-bc62-40f6-f607-da4b12f4b94a"
      },
      "execution_count": 34,
      "outputs": [
        {
          "output_type": "stream",
          "name": "stdout",
          "text": [
            "⏱ Tiempo de inicio: 16:59:53\n",
            "Training for 300000 steps ...\n"
          ]
        },
        {
          "output_type": "stream",
          "name": "stderr",
          "text": [
            "/usr/local/lib/python3.11/dist-packages/keras/engine/training_v1.py:2359: UserWarning: `Model.state_updates` will be removed in a future version. This property should not be used in TensorFlow 2.0, as `updates` are applied automatically.\n",
            "  updates=self.state_updates,\n"
          ]
        },
        {
          "output_type": "stream",
          "name": "stdout",
          "text": [
            "    476/300000: episode: 1, duration: 2.834s, episode steps: 476, steps per second: 168, episode reward:  4.000, mean reward:  0.008 [ 0.000,  1.000], mean action: 2.433 [0.000, 5.000],  loss: --, mean_q: --, mean_eps: --\n",
            "   1501/300000: episode: 2, duration: 4.938s, episode steps: 1025, steps per second: 208, episode reward: 19.000, mean reward:  0.019 [ 0.000,  1.000], mean action: 2.448 [0.000, 5.000],  loss: --, mean_q: --, mean_eps: --\n",
            "   1868/300000: episode: 3, duration: 1.793s, episode steps: 367, steps per second: 205, episode reward:  2.000, mean reward:  0.005 [ 0.000,  1.000], mean action: 2.444 [0.000, 5.000],  loss: --, mean_q: --, mean_eps: --\n",
            "   2716/300000: episode: 4, duration: 4.024s, episode steps: 848, steps per second: 211, episode reward: 16.000, mean reward:  0.019 [ 0.000,  1.000], mean action: 2.522 [0.000, 5.000],  loss: --, mean_q: --, mean_eps: --\n",
            "   3110/300000: episode: 5, duration: 1.908s, episode steps: 394, steps per second: 206, episode reward:  6.000, mean reward:  0.015 [ 0.000,  1.000], mean action: 2.764 [0.000, 5.000],  loss: --, mean_q: --, mean_eps: --\n",
            "   3486/300000: episode: 6, duration: 1.793s, episode steps: 376, steps per second: 210, episode reward:  4.000, mean reward:  0.011 [ 0.000,  1.000], mean action: 2.513 [0.000, 5.000],  loss: --, mean_q: --, mean_eps: --\n",
            "   4224/300000: episode: 7, duration: 3.568s, episode steps: 738, steps per second: 207, episode reward: 10.000, mean reward:  0.014 [ 0.000,  1.000], mean action: 2.459 [0.000, 5.000],  loss: --, mean_q: --, mean_eps: --\n",
            "   4943/300000: episode: 8, duration: 3.906s, episode steps: 719, steps per second: 184, episode reward: 11.000, mean reward:  0.015 [ 0.000,  1.000], mean action: 2.636 [0.000, 5.000],  loss: --, mean_q: --, mean_eps: --\n",
            "   5618/300000: episode: 9, duration: 3.265s, episode steps: 675, steps per second: 207, episode reward: 11.000, mean reward:  0.016 [ 0.000,  1.000], mean action: 2.496 [0.000, 5.000],  loss: --, mean_q: --, mean_eps: --\n",
            "   6243/300000: episode: 10, duration: 3.006s, episode steps: 625, steps per second: 208, episode reward: 10.000, mean reward:  0.016 [ 0.000,  1.000], mean action: 2.573 [0.000, 5.000],  loss: --, mean_q: --, mean_eps: --\n",
            "   7216/300000: episode: 11, duration: 4.812s, episode steps: 973, steps per second: 202, episode reward: 11.000, mean reward:  0.011 [ 0.000,  1.000], mean action: 2.507 [0.000, 5.000],  loss: --, mean_q: --, mean_eps: --\n",
            "   8137/300000: episode: 12, duration: 4.358s, episode steps: 921, steps per second: 211, episode reward: 15.000, mean reward:  0.016 [ 0.000,  1.000], mean action: 2.498 [0.000, 5.000],  loss: --, mean_q: --, mean_eps: --\n",
            "   8759/300000: episode: 13, duration: 2.961s, episode steps: 622, steps per second: 210, episode reward:  2.000, mean reward:  0.003 [ 0.000,  1.000], mean action: 2.457 [0.000, 5.000],  loss: --, mean_q: --, mean_eps: --\n",
            "   9694/300000: episode: 14, duration: 4.506s, episode steps: 935, steps per second: 207, episode reward: 16.000, mean reward:  0.017 [ 0.000,  1.000], mean action: 2.574 [0.000, 5.000],  loss: --, mean_q: --, mean_eps: --\n",
            "Step 10000: saving model to checkpoints/dqn_v06_3_weights_10000.h5f\n"
          ]
        },
        {
          "output_type": "stream",
          "name": "stderr",
          "text": [
            "/usr/local/lib/python3.11/dist-packages/keras/engine/training_v1.py:2359: UserWarning: `Model.state_updates` will be removed in a future version. This property should not be used in TensorFlow 2.0, as `updates` are applied automatically.\n",
            "  updates=self.state_updates,\n"
          ]
        },
        {
          "output_type": "stream",
          "name": "stdout",
          "text": [
            "  10131/300000: episode: 15, duration: 18.110s, episode steps: 437, steps per second:  24, episode reward:  3.000, mean reward:  0.007 [ 0.000,  1.000], mean action: 2.579 [0.000, 5.000],  loss: 0.005750, mean_q: 0.042665, mean_eps: 0.954705\n",
            "  11216/300000: episode: 16, duration: 129.978s, episode steps: 1085, steps per second:   8, episode reward: 13.000, mean reward:  0.012 [ 0.000,  1.000], mean action: 2.495 [0.000, 5.000],  loss: 0.006656, mean_q: 0.053420, mean_eps: 0.951971\n",
            "  11732/300000: episode: 17, duration: 62.055s, episode steps: 516, steps per second:   8, episode reward:  8.000, mean reward:  0.016 [ 0.000,  1.000], mean action: 2.597 [0.000, 5.000],  loss: 0.007587, mean_q: 0.082515, mean_eps: 0.948369\n",
            "  12563/300000: episode: 18, duration: 99.186s, episode steps: 831, steps per second:   8, episode reward: 11.000, mean reward:  0.013 [ 0.000,  1.000], mean action: 2.526 [0.000, 5.000],  loss: 0.006488, mean_q: 0.099772, mean_eps: 0.945338\n",
            "  13189/300000: episode: 19, duration: 74.903s, episode steps: 626, steps per second:   8, episode reward: 11.000, mean reward:  0.018 [ 0.000,  1.000], mean action: 2.489 [0.000, 5.000],  loss: 0.006332, mean_q: 0.121337, mean_eps: 0.942060\n",
            "  13923/300000: episode: 20, duration: 88.207s, episode steps: 734, steps per second:   8, episode reward:  9.000, mean reward:  0.012 [ 0.000,  1.000], mean action: 2.571 [0.000, 5.000],  loss: 0.006937, mean_q: 0.146528, mean_eps: 0.939000\n",
            "  14575/300000: episode: 21, duration: 78.260s, episode steps: 652, steps per second:   8, episode reward:  7.000, mean reward:  0.011 [ 0.000,  1.000], mean action: 2.477 [0.000, 5.000],  loss: 0.006701, mean_q: 0.188848, mean_eps: 0.935882\n",
            "  15766/300000: episode: 22, duration: 143.687s, episode steps: 1191, steps per second:   8, episode reward: 13.000, mean reward:  0.011 [ 0.000,  1.000], mean action: 2.467 [0.000, 5.000],  loss: 0.006508, mean_q: 0.220484, mean_eps: 0.931735\n",
            "  16222/300000: episode: 23, duration: 54.928s, episode steps: 456, steps per second:   8, episode reward:  4.000, mean reward:  0.009 [ 0.000,  1.000], mean action: 2.581 [0.000, 5.000],  loss: 0.006725, mean_q: 0.262962, mean_eps: 0.928029\n",
            "  17080/300000: episode: 24, duration: 103.521s, episode steps: 858, steps per second:   8, episode reward: 15.000, mean reward:  0.017 [ 0.000,  1.000], mean action: 2.512 [0.000, 5.000],  loss: 0.006229, mean_q: 0.297271, mean_eps: 0.925073\n",
            "  17473/300000: episode: 25, duration: 47.517s, episode steps: 393, steps per second:   8, episode reward:  7.000, mean reward:  0.018 [ 0.000,  1.000], mean action: 2.608 [0.000, 5.000],  loss: 0.006687, mean_q: 0.340911, mean_eps: 0.922258\n",
            "  18062/300000: episode: 26, duration: 71.096s, episode steps: 589, steps per second:   8, episode reward:  9.000, mean reward:  0.015 [ 0.000,  1.000], mean action: 2.465 [0.000, 5.000],  loss: 0.006545, mean_q: 0.352545, mean_eps: 0.920048\n",
            "  18617/300000: episode: 27, duration: 67.164s, episode steps: 555, steps per second:   8, episode reward:  4.000, mean reward:  0.007 [ 0.000,  1.000], mean action: 2.432 [0.000, 5.000],  loss: 0.006586, mean_q: 0.392670, mean_eps: 0.917475\n",
            "  19263/300000: episode: 28, duration: 77.714s, episode steps: 646, steps per second:   8, episode reward: 12.000, mean reward:  0.019 [ 0.000,  1.000], mean action: 2.622 [0.000, 5.000],  loss: 0.006896, mean_q: 0.409205, mean_eps: 0.914772\n",
            "  19640/300000: episode: 29, duration: 45.444s, episode steps: 377, steps per second:   8, episode reward:  5.000, mean reward:  0.013 [ 0.000,  1.000], mean action: 2.639 [0.000, 5.000],  loss: 0.007078, mean_q: 0.435930, mean_eps: 0.912471\n",
            "  19994/300000: episode: 30, duration: 42.641s, episode steps: 354, steps per second:   8, episode reward:  5.000, mean reward:  0.014 [ 0.000,  1.000], mean action: 2.641 [0.000, 5.000],  loss: 0.005893, mean_q: 0.428997, mean_eps: 0.910826\n",
            "Step 20000: saving model to checkpoints/dqn_v06_3_weights_20000.h5f\n",
            "  20647/300000: episode: 31, duration: 78.865s, episode steps: 653, steps per second:   8, episode reward:  7.000, mean reward:  0.011 [ 0.000,  1.000], mean action: 2.557 [0.000, 5.000],  loss: 0.006857, mean_q: 0.470724, mean_eps: 0.908560\n",
            "  21127/300000: episode: 32, duration: 57.807s, episode steps: 480, steps per second:   8, episode reward:  3.000, mean reward:  0.006 [ 0.000,  1.000], mean action: 2.467 [0.000, 5.000],  loss: 0.007676, mean_q: 0.489977, mean_eps: 0.906011\n",
            "  21541/300000: episode: 33, duration: 49.803s, episode steps: 414, steps per second:   8, episode reward:  9.000, mean reward:  0.022 [ 0.000,  1.000], mean action: 2.372 [0.000, 5.000],  loss: 0.008113, mean_q: 0.544900, mean_eps: 0.903999\n",
            "  22073/300000: episode: 34, duration: 64.025s, episode steps: 532, steps per second:   8, episode reward:  9.000, mean reward:  0.017 [ 0.000,  1.000], mean action: 2.419 [0.000, 5.000],  loss: 0.008041, mean_q: 0.555456, mean_eps: 0.901871\n",
            "  22538/300000: episode: 35, duration: 55.887s, episode steps: 465, steps per second:   8, episode reward:  3.000, mean reward:  0.006 [ 0.000,  1.000], mean action: 2.598 [0.000, 5.000],  loss: 0.008722, mean_q: 0.618259, mean_eps: 0.899627\n",
            "  23258/300000: episode: 36, duration: 86.645s, episode steps: 720, steps per second:   8, episode reward:  8.000, mean reward:  0.011 [ 0.000,  1.000], mean action: 2.424 [0.000, 5.000],  loss: 0.008515, mean_q: 0.641102, mean_eps: 0.896961\n",
            "  23936/300000: episode: 37, duration: 81.341s, episode steps: 678, steps per second:   8, episode reward: 12.000, mean reward:  0.018 [ 0.000,  1.000], mean action: 2.409 [0.000, 5.000],  loss: 0.008396, mean_q: 0.683992, mean_eps: 0.893816\n",
            "  24562/300000: episode: 38, duration: 75.477s, episode steps: 626, steps per second:   8, episode reward: 10.000, mean reward:  0.016 [ 0.000,  1.000], mean action: 2.502 [0.000, 5.000],  loss: 0.008380, mean_q: 0.702442, mean_eps: 0.890882\n",
            "  25432/300000: episode: 39, duration: 104.607s, episode steps: 870, steps per second:   8, episode reward: 16.000, mean reward:  0.018 [ 0.000,  1.000], mean action: 2.518 [0.000, 5.000],  loss: 0.009000, mean_q: 0.736592, mean_eps: 0.887516\n",
            "  25951/300000: episode: 40, duration: 62.473s, episode steps: 519, steps per second:   8, episode reward:  8.000, mean reward:  0.015 [ 0.000,  1.000], mean action: 2.468 [0.000, 5.000],  loss: 0.008423, mean_q: 0.769174, mean_eps: 0.884390\n",
            "  26580/300000: episode: 41, duration: 75.564s, episode steps: 629, steps per second:   8, episode reward:  7.000, mean reward:  0.011 [ 0.000,  1.000], mean action: 2.653 [0.000, 5.000],  loss: 0.009803, mean_q: 0.825398, mean_eps: 0.881807\n",
            "  27510/300000: episode: 42, duration: 111.885s, episode steps: 930, steps per second:   8, episode reward: 15.000, mean reward:  0.016 [ 0.000,  1.000], mean action: 2.411 [0.000, 5.000],  loss: 0.010151, mean_q: 0.862512, mean_eps: 0.878300\n",
            "  28196/300000: episode: 43, duration: 82.632s, episode steps: 686, steps per second:   8, episode reward:  9.000, mean reward:  0.013 [ 0.000,  1.000], mean action: 2.410 [0.000, 5.000],  loss: 0.010323, mean_q: 0.914480, mean_eps: 0.874664\n",
            "  28608/300000: episode: 44, duration: 49.545s, episode steps: 412, steps per second:   8, episode reward:  5.000, mean reward:  0.012 [ 0.000,  1.000], mean action: 2.456 [0.000, 5.000],  loss: 0.011933, mean_q: 0.981568, mean_eps: 0.872193\n",
            "  29490/300000: episode: 45, duration: 105.943s, episode steps: 882, steps per second:   8, episode reward: 16.000, mean reward:  0.018 [ 0.000,  1.000], mean action: 2.469 [0.000, 5.000],  loss: 0.012494, mean_q: 1.021748, mean_eps: 0.869282\n",
            "Step 30000: saving model to checkpoints/dqn_v06_3_weights_30000.h5f\n",
            "  30340/300000: episode: 46, duration: 102.458s, episode steps: 850, steps per second:   8, episode reward: 14.000, mean reward:  0.016 [ 0.000,  1.000], mean action: 2.584 [0.000, 5.000],  loss: 0.012778, mean_q: 1.066664, mean_eps: 0.865385\n",
            "  31164/300000: episode: 47, duration: 99.056s, episode steps: 824, steps per second:   8, episode reward: 10.000, mean reward:  0.012 [ 0.000,  1.000], mean action: 2.522 [0.000, 5.000],  loss: 0.011834, mean_q: 1.100187, mean_eps: 0.861618\n",
            "  31947/300000: episode: 48, duration: 94.162s, episode steps: 783, steps per second:   8, episode reward:  9.000, mean reward:  0.011 [ 0.000,  1.000], mean action: 2.529 [0.000, 5.000],  loss: 0.014543, mean_q: 1.150411, mean_eps: 0.858003\n",
            "  33094/300000: episode: 49, duration: 138.122s, episode steps: 1147, steps per second:   8, episode reward: 21.000, mean reward:  0.018 [ 0.000,  1.000], mean action: 2.527 [0.000, 5.000],  loss: 0.014684, mean_q: 1.259841, mean_eps: 0.853660\n",
            "  34155/300000: episode: 50, duration: 127.509s, episode steps: 1061, steps per second:   8, episode reward: 20.000, mean reward:  0.019 [ 0.000,  1.000], mean action: 2.445 [0.000, 5.000],  loss: 0.013012, mean_q: 1.289560, mean_eps: 0.848692\n",
            "  35008/300000: episode: 51, duration: 102.829s, episode steps: 853, steps per second:   8, episode reward: 14.000, mean reward:  0.016 [ 0.000,  1.000], mean action: 2.543 [0.000, 5.000],  loss: 0.013774, mean_q: 1.379670, mean_eps: 0.844386\n",
            "  35641/300000: episode: 52, duration: 76.230s, episode steps: 633, steps per second:   8, episode reward:  4.000, mean reward:  0.006 [ 0.000,  1.000], mean action: 2.464 [0.000, 5.000],  loss: 0.014758, mean_q: 1.438797, mean_eps: 0.841042\n",
            "  36251/300000: episode: 53, duration: 73.561s, episode steps: 610, steps per second:   8, episode reward: 10.000, mean reward:  0.016 [ 0.000,  1.000], mean action: 2.402 [0.000, 5.000],  loss: 0.013935, mean_q: 1.482329, mean_eps: 0.838245\n",
            "  37087/300000: episode: 54, duration: 100.590s, episode steps: 836, steps per second:   8, episode reward: 12.000, mean reward:  0.014 [ 0.000,  1.000], mean action: 2.401 [0.000, 5.000],  loss: 0.015287, mean_q: 1.547900, mean_eps: 0.834992\n",
            "  37981/300000: episode: 55, duration: 107.751s, episode steps: 894, steps per second:   8, episode reward: 16.000, mean reward:  0.018 [ 0.000,  1.000], mean action: 2.393 [0.000, 5.000],  loss: 0.017614, mean_q: 1.623310, mean_eps: 0.831099\n",
            "  38380/300000: episode: 56, duration: 48.133s, episode steps: 399, steps per second:   8, episode reward:  8.000, mean reward:  0.020 [ 0.000,  1.000], mean action: 2.659 [0.000, 5.000],  loss: 0.015083, mean_q: 1.691790, mean_eps: 0.828190\n",
            "  39067/300000: episode: 57, duration: 82.667s, episode steps: 687, steps per second:   8, episode reward: 12.000, mean reward:  0.017 [ 0.000,  1.000], mean action: 2.539 [0.000, 5.000],  loss: 0.015725, mean_q: 1.722114, mean_eps: 0.825747\n",
            "  39807/300000: episode: 58, duration: 89.450s, episode steps: 740, steps per second:   8, episode reward: 14.000, mean reward:  0.019 [ 0.000,  1.000], mean action: 2.446 [0.000, 5.000],  loss: 0.019554, mean_q: 1.805402, mean_eps: 0.822536\n",
            "Step 40000: saving model to checkpoints/dqn_v06_3_weights_40000.h5f\n",
            "  40518/300000: episode: 59, duration: 85.934s, episode steps: 711, steps per second:   8, episode reward: 12.000, mean reward:  0.017 [ 0.000,  1.000], mean action: 2.425 [0.000, 5.000],  loss: 0.017792, mean_q: 1.865662, mean_eps: 0.819271\n",
            "  40974/300000: episode: 60, duration: 55.042s, episode steps: 456, steps per second:   8, episode reward:  7.000, mean reward:  0.015 [ 0.000,  1.000], mean action: 2.535 [0.000, 5.000],  loss: 0.019894, mean_q: 1.889500, mean_eps: 0.816645\n",
            "  41657/300000: episode: 61, duration: 82.313s, episode steps: 683, steps per second:   8, episode reward: 10.000, mean reward:  0.015 [ 0.000,  1.000], mean action: 2.477 [0.000, 5.000],  loss: 0.019992, mean_q: 1.978817, mean_eps: 0.814083\n",
            "  42020/300000: episode: 62, duration: 43.780s, episode steps: 363, steps per second:   8, episode reward:  5.000, mean reward:  0.014 [ 0.000,  1.000], mean action: 2.664 [0.000, 5.000],  loss: 0.016656, mean_q: 1.998999, mean_eps: 0.811729\n",
            "  42597/300000: episode: 63, duration: 69.677s, episode steps: 577, steps per second:   8, episode reward:  8.000, mean reward:  0.014 [ 0.000,  1.000], mean action: 2.633 [0.000, 5.000],  loss: 0.020296, mean_q: 2.131245, mean_eps: 0.809614\n",
            "  43042/300000: episode: 64, duration: 54.335s, episode steps: 445, steps per second:   8, episode reward:  6.000, mean reward:  0.013 [ 0.000,  1.000], mean action: 2.726 [0.000, 5.000],  loss: 0.019414, mean_q: 2.130396, mean_eps: 0.807315\n",
            "  43536/300000: episode: 65, duration: 59.624s, episode steps: 494, steps per second:   8, episode reward:  7.000, mean reward:  0.014 [ 0.000,  1.000], mean action: 2.502 [0.000, 5.000],  loss: 0.024368, mean_q: 2.178171, mean_eps: 0.805202\n",
            "  44566/300000: episode: 66, duration: 124.251s, episode steps: 1030, steps per second:   8, episode reward: 23.000, mean reward:  0.022 [ 0.000,  1.000], mean action: 2.446 [0.000, 5.000],  loss: 0.020125, mean_q: 2.220212, mean_eps: 0.801773\n",
            "  45756/300000: episode: 67, duration: 143.434s, episode steps: 1190, steps per second:   8, episode reward: 26.000, mean reward:  0.022 [ 0.000,  1.000], mean action: 2.611 [0.000, 5.000],  loss: 0.019176, mean_q: 2.296738, mean_eps: 0.796778\n",
            "  46757/300000: episode: 68, duration: 120.661s, episode steps: 1001, steps per second:   8, episode reward: 15.000, mean reward:  0.015 [ 0.000,  1.000], mean action: 2.419 [0.000, 5.000],  loss: 0.018951, mean_q: 2.370476, mean_eps: 0.791848\n",
            "  47525/300000: episode: 69, duration: 92.606s, episode steps: 768, steps per second:   8, episode reward:  8.000, mean reward:  0.010 [ 0.000,  1.000], mean action: 2.384 [0.000, 5.000],  loss: 0.016991, mean_q: 2.456796, mean_eps: 0.787868\n",
            "  47973/300000: episode: 70, duration: 53.929s, episode steps: 448, steps per second:   8, episode reward:  9.000, mean reward:  0.020 [ 0.000,  1.000], mean action: 2.685 [0.000, 5.000],  loss: 0.019831, mean_q: 2.501798, mean_eps: 0.785132\n",
            "  48668/300000: episode: 71, duration: 83.951s, episode steps: 695, steps per second:   8, episode reward:  7.000, mean reward:  0.010 [ 0.000,  1.000], mean action: 2.423 [0.000, 5.000],  loss: 0.022181, mean_q: 2.571449, mean_eps: 0.782560\n",
            "  49586/300000: episode: 72, duration: 110.796s, episode steps: 918, steps per second:   8, episode reward: 16.000, mean reward:  0.017 [ 0.000,  1.000], mean action: 2.426 [0.000, 5.000],  loss: 0.018542, mean_q: 2.600320, mean_eps: 0.778931\n",
            "Step 50000: saving model to checkpoints/dqn_v06_3_weights_50000.h5f\n",
            "  50291/300000: episode: 73, duration: 85.151s, episode steps: 705, steps per second:   8, episode reward: 10.000, mean reward:  0.014 [ 0.000,  1.000], mean action: 2.515 [0.000, 5.000],  loss: 0.017956, mean_q: 2.674970, mean_eps: 0.775279\n",
            "  50689/300000: episode: 74, duration: 47.997s, episode steps: 398, steps per second:   8, episode reward:  6.000, mean reward:  0.015 [ 0.000,  1.000], mean action: 2.465 [0.000, 5.000],  loss: 0.017651, mean_q: 2.735174, mean_eps: 0.772797\n",
            "  51490/300000: episode: 75, duration: 96.738s, episode steps: 801, steps per second:   8, episode reward: 15.000, mean reward:  0.019 [ 0.000,  1.000], mean action: 2.436 [0.000, 5.000],  loss: 0.019803, mean_q: 2.798975, mean_eps: 0.770100\n",
            "  51974/300000: episode: 76, duration: 58.573s, episode steps: 484, steps per second:   8, episode reward:  6.000, mean reward:  0.012 [ 0.000,  1.000], mean action: 2.638 [0.000, 5.000],  loss: 0.017930, mean_q: 2.846102, mean_eps: 0.767208\n",
            "  52537/300000: episode: 77, duration: 68.078s, episode steps: 563, steps per second:   8, episode reward:  9.000, mean reward:  0.016 [ 0.000,  1.000], mean action: 2.497 [0.000, 5.000],  loss: 0.023866, mean_q: 2.959726, mean_eps: 0.764853\n",
            "  52922/300000: episode: 78, duration: 46.576s, episode steps: 385, steps per second:   8, episode reward:  6.000, mean reward:  0.016 [ 0.000,  1.000], mean action: 2.465 [0.000, 5.000],  loss: 0.023643, mean_q: 2.966351, mean_eps: 0.762719\n",
            "  53806/300000: episode: 79, duration: 106.574s, episode steps: 884, steps per second:   8, episode reward: 20.000, mean reward:  0.023 [ 0.000,  1.000], mean action: 2.436 [0.000, 5.000],  loss: 0.025405, mean_q: 3.063819, mean_eps: 0.759864\n",
            "  54644/300000: episode: 80, duration: 101.030s, episode steps: 838, steps per second:   8, episode reward: 16.000, mean reward:  0.019 [ 0.000,  1.000], mean action: 2.455 [0.000, 5.000],  loss: 0.019859, mean_q: 3.073965, mean_eps: 0.755990\n",
            "  55219/300000: episode: 81, duration: 69.663s, episode steps: 575, steps per second:   8, episode reward: 10.000, mean reward:  0.017 [ 0.000,  1.000], mean action: 2.544 [0.000, 5.000],  loss: 0.020049, mean_q: 3.097363, mean_eps: 0.752811\n",
            "  55691/300000: episode: 82, duration: 57.023s, episode steps: 472, steps per second:   8, episode reward:  7.000, mean reward:  0.015 [ 0.000,  1.000], mean action: 2.697 [0.000, 5.000],  loss: 0.021702, mean_q: 3.169755, mean_eps: 0.750455\n",
            "  56117/300000: episode: 83, duration: 51.523s, episode steps: 426, steps per second:   8, episode reward:  7.000, mean reward:  0.016 [ 0.000,  1.000], mean action: 2.596 [0.000, 5.000],  loss: 0.021399, mean_q: 3.173597, mean_eps: 0.748434\n",
            "  57057/300000: episode: 84, duration: 113.612s, episode steps: 940, steps per second:   8, episode reward: 17.000, mean reward:  0.018 [ 0.000,  1.000], mean action: 2.591 [0.000, 5.000],  loss: 0.022154, mean_q: 3.190596, mean_eps: 0.745361\n",
            "  57778/300000: episode: 85, duration: 87.252s, episode steps: 721, steps per second:   8, episode reward: 12.000, mean reward:  0.017 [ 0.000,  1.000], mean action: 2.498 [0.000, 5.000],  loss: 0.019956, mean_q: 3.243097, mean_eps: 0.741623\n",
            "  58373/300000: episode: 86, duration: 71.987s, episode steps: 595, steps per second:   8, episode reward:  7.000, mean reward:  0.012 [ 0.000,  1.000], mean action: 2.645 [0.000, 5.000],  loss: 0.022855, mean_q: 3.239403, mean_eps: 0.738662\n",
            "  59169/300000: episode: 87, duration: 96.216s, episode steps: 796, steps per second:   8, episode reward: 10.000, mean reward:  0.013 [ 0.000,  1.000], mean action: 2.647 [0.000, 5.000],  loss: 0.022012, mean_q: 3.275552, mean_eps: 0.735533\n",
            "  59938/300000: episode: 88, duration: 93.012s, episode steps: 769, steps per second:   8, episode reward: 12.000, mean reward:  0.016 [ 0.000,  1.000], mean action: 2.590 [0.000, 5.000],  loss: 0.018940, mean_q: 3.311383, mean_eps: 0.732012\n",
            "Step 60000: saving model to checkpoints/dqn_v06_3_weights_60000.h5f\n",
            "  60483/300000: episode: 89, duration: 66.016s, episode steps: 545, steps per second:   8, episode reward:  8.000, mean reward:  0.015 [ 0.000,  1.000], mean action: 2.398 [0.000, 5.000],  loss: 0.021241, mean_q: 3.339738, mean_eps: 0.729055\n",
            "  61353/300000: episode: 90, duration: 105.229s, episode steps: 870, steps per second:   8, episode reward: 15.000, mean reward:  0.017 [ 0.000,  1.000], mean action: 2.362 [0.000, 5.000],  loss: 0.024872, mean_q: 3.380437, mean_eps: 0.725871\n",
            "  62121/300000: episode: 91, duration: 92.975s, episode steps: 768, steps per second:   8, episode reward: 11.000, mean reward:  0.014 [ 0.000,  1.000], mean action: 2.462 [0.000, 5.000],  loss: 0.025390, mean_q: 3.449841, mean_eps: 0.722186\n",
            "  62967/300000: episode: 92, duration: 102.227s, episode steps: 846, steps per second:   8, episode reward: 13.000, mean reward:  0.015 [ 0.000,  1.000], mean action: 2.480 [0.000, 5.000],  loss: 0.020800, mean_q: 3.527879, mean_eps: 0.718554\n",
            "  63813/300000: episode: 93, duration: 102.491s, episode steps: 846, steps per second:   8, episode reward: 13.000, mean reward:  0.015 [ 0.000,  1.000], mean action: 2.478 [0.000, 5.000],  loss: 0.024241, mean_q: 3.674951, mean_eps: 0.714747\n",
            "  64572/300000: episode: 94, duration: 92.022s, episode steps: 759, steps per second:   8, episode reward: 12.000, mean reward:  0.016 [ 0.000,  1.000], mean action: 2.549 [0.000, 5.000],  loss: 0.023383, mean_q: 3.690005, mean_eps: 0.711136\n",
            "  65077/300000: episode: 95, duration: 61.287s, episode steps: 505, steps per second:   8, episode reward: 11.000, mean reward:  0.022 [ 0.000,  1.000], mean action: 2.545 [0.000, 5.000],  loss: 0.025920, mean_q: 3.676173, mean_eps: 0.708292\n",
            "  65621/300000: episode: 96, duration: 65.828s, episode steps: 544, steps per second:   8, episode reward: 10.000, mean reward:  0.018 [ 0.000,  1.000], mean action: 2.531 [0.000, 5.000],  loss: 0.026746, mean_q: 3.781086, mean_eps: 0.705932\n",
            "  66243/300000: episode: 97, duration: 75.382s, episode steps: 622, steps per second:   8, episode reward:  9.000, mean reward:  0.014 [ 0.000,  1.000], mean action: 2.487 [0.000, 5.000],  loss: 0.026293, mean_q: 3.800658, mean_eps: 0.703308\n",
            "  66756/300000: episode: 98, duration: 62.129s, episode steps: 513, steps per second:   8, episode reward:  7.000, mean reward:  0.014 [ 0.000,  1.000], mean action: 2.600 [0.000, 5.000],  loss: 0.025423, mean_q: 3.875201, mean_eps: 0.700754\n",
            "  67403/300000: episode: 99, duration: 78.418s, episode steps: 647, steps per second:   8, episode reward: 12.000, mean reward:  0.019 [ 0.000,  1.000], mean action: 2.355 [0.000, 5.000],  loss: 0.026230, mean_q: 3.957495, mean_eps: 0.698145\n",
            "  68203/300000: episode: 100, duration: 96.878s, episode steps: 800, steps per second:   8, episode reward: 12.000, mean reward:  0.015 [ 0.000,  1.000], mean action: 2.592 [0.000, 5.000],  loss: 0.030230, mean_q: 4.016224, mean_eps: 0.694889\n",
            "  68985/300000: episode: 101, duration: 94.790s, episode steps: 782, steps per second:   8, episode reward: 10.000, mean reward:  0.013 [ 0.000,  1.000], mean action: 2.616 [0.000, 5.000],  loss: 0.029184, mean_q: 4.104581, mean_eps: 0.691329\n",
            "  69521/300000: episode: 102, duration: 64.982s, episode steps: 536, steps per second:   8, episode reward:  6.000, mean reward:  0.011 [ 0.000,  1.000], mean action: 2.619 [0.000, 5.000],  loss: 0.036523, mean_q: 4.147064, mean_eps: 0.688364\n",
            "Step 70000: saving model to checkpoints/dqn_v06_3_weights_70000.h5f\n",
            "  70143/300000: episode: 103, duration: 75.503s, episode steps: 622, steps per second:   8, episode reward: 11.000, mean reward:  0.018 [ 0.000,  1.000], mean action: 2.455 [0.000, 5.000],  loss: 0.029593, mean_q: 4.132161, mean_eps: 0.685758\n",
            "  71061/300000: episode: 104, duration: 110.997s, episode steps: 918, steps per second:   8, episode reward: 17.000, mean reward:  0.019 [ 0.000,  1.000], mean action: 2.395 [0.000, 5.000],  loss: 0.029492, mean_q: 4.209364, mean_eps: 0.682293\n",
            "  71971/300000: episode: 105, duration: 110.292s, episode steps: 910, steps per second:   8, episode reward: 16.000, mean reward:  0.018 [ 0.000,  1.000], mean action: 2.529 [0.000, 5.000],  loss: 0.028358, mean_q: 4.262367, mean_eps: 0.678180\n",
            "  72615/300000: episode: 106, duration: 78.167s, episode steps: 644, steps per second:   8, episode reward: 10.000, mean reward:  0.016 [ 0.000,  1.000], mean action: 2.449 [0.000, 5.000],  loss: 0.031898, mean_q: 4.260893, mean_eps: 0.674684\n",
            "  73005/300000: episode: 107, duration: 47.324s, episode steps: 390, steps per second:   8, episode reward:  7.000, mean reward:  0.018 [ 0.000,  1.000], mean action: 2.521 [0.000, 5.000],  loss: 0.030958, mean_q: 4.257833, mean_eps: 0.672357\n",
            "  73995/300000: episode: 108, duration: 120.105s, episode steps: 990, steps per second:   8, episode reward: 19.000, mean reward:  0.019 [ 0.000,  1.000], mean action: 2.401 [0.000, 5.000],  loss: 0.037066, mean_q: 4.351907, mean_eps: 0.669252\n",
            "  74839/300000: episode: 109, duration: 102.361s, episode steps: 844, steps per second:   8, episode reward: 13.000, mean reward:  0.015 [ 0.000,  1.000], mean action: 2.677 [0.000, 5.000],  loss: 0.035121, mean_q: 4.476876, mean_eps: 0.665126\n",
            "  75497/300000: episode: 110, duration: 79.777s, episode steps: 658, steps per second:   8, episode reward: 11.000, mean reward:  0.017 [ 0.000,  1.000], mean action: 2.532 [0.000, 5.000],  loss: 0.032144, mean_q: 4.527868, mean_eps: 0.661746\n",
            "  76160/300000: episode: 111, duration: 80.481s, episode steps: 663, steps per second:   8, episode reward: 12.000, mean reward:  0.018 [ 0.000,  1.000], mean action: 2.449 [0.000, 5.000],  loss: 0.045531, mean_q: 4.582096, mean_eps: 0.658774\n",
            "  76778/300000: episode: 112, duration: 74.998s, episode steps: 618, steps per second:   8, episode reward:  9.000, mean reward:  0.015 [ 0.000,  1.000], mean action: 2.650 [0.000, 5.000],  loss: 0.033545, mean_q: 4.622583, mean_eps: 0.655892\n",
            "  77527/300000: episode: 113, duration: 90.924s, episode steps: 749, steps per second:   8, episode reward: 16.000, mean reward:  0.021 [ 0.000,  1.000], mean action: 2.546 [0.000, 5.000],  loss: 0.037992, mean_q: 4.711210, mean_eps: 0.652816\n",
            "  78417/300000: episode: 114, duration: 108.117s, episode steps: 890, steps per second:   8, episode reward: 20.000, mean reward:  0.022 [ 0.000,  1.000], mean action: 2.412 [0.000, 5.000],  loss: 0.035104, mean_q: 4.805351, mean_eps: 0.649128\n",
            "  79277/300000: episode: 115, duration: 104.458s, episode steps: 860, steps per second:   8, episode reward: 15.000, mean reward:  0.017 [ 0.000,  1.000], mean action: 2.501 [0.000, 5.000],  loss: 0.039477, mean_q: 4.840352, mean_eps: 0.645191\n",
            "  79934/300000: episode: 116, duration: 79.844s, episode steps: 657, steps per second:   8, episode reward: 11.000, mean reward:  0.017 [ 0.000,  1.000], mean action: 2.437 [0.000, 5.000],  loss: 0.045700, mean_q: 4.863733, mean_eps: 0.641778\n",
            "Step 80000: saving model to checkpoints/dqn_v06_3_weights_80000.h5f\n",
            "  80723/300000: episode: 117, duration: 95.897s, episode steps: 789, steps per second:   8, episode reward: 18.000, mean reward:  0.023 [ 0.000,  1.000], mean action: 2.577 [0.000, 5.000],  loss: 0.038847, mean_q: 4.859683, mean_eps: 0.638524\n",
            "  81903/300000: episode: 118, duration: 143.474s, episode steps: 1180, steps per second:   8, episode reward: 24.000, mean reward:  0.020 [ 0.000,  1.000], mean action: 2.415 [0.000, 5.000],  loss: 0.051491, mean_q: 4.845568, mean_eps: 0.634094\n",
            "  82600/300000: episode: 119, duration: 84.640s, episode steps: 697, steps per second:   8, episode reward:  8.000, mean reward:  0.011 [ 0.000,  1.000], mean action: 2.218 [0.000, 5.000],  loss: 0.035107, mean_q: 4.891795, mean_eps: 0.629870\n",
            "  83524/300000: episode: 120, duration: 112.340s, episode steps: 924, steps per second:   8, episode reward: 19.000, mean reward:  0.021 [ 0.000,  1.000], mean action: 2.377 [0.000, 5.000],  loss: 0.042581, mean_q: 4.983743, mean_eps: 0.626223\n",
            "  84000/300000: episode: 121, duration: 58.081s, episode steps: 476, steps per second:   8, episode reward:  8.000, mean reward:  0.017 [ 0.000,  1.000], mean action: 2.309 [0.000, 5.000],  loss: 0.035583, mean_q: 5.014153, mean_eps: 0.623073\n",
            "  84643/300000: episode: 122, duration: 78.264s, episode steps: 643, steps per second:   8, episode reward: 12.000, mean reward:  0.019 [ 0.000,  1.000], mean action: 2.638 [0.000, 5.000],  loss: 0.031109, mean_q: 5.193693, mean_eps: 0.620555\n",
            "  85355/300000: episode: 123, duration: 86.451s, episode steps: 712, steps per second:   8, episode reward: 11.000, mean reward:  0.015 [ 0.000,  1.000], mean action: 2.438 [0.000, 5.000],  loss: 0.030541, mean_q: 5.202125, mean_eps: 0.617507\n",
            "  86320/300000: episode: 124, duration: 117.236s, episode steps: 965, steps per second:   8, episode reward: 16.000, mean reward:  0.017 [ 0.000,  1.000], mean action: 2.376 [0.000, 5.000],  loss: 0.041252, mean_q: 5.182018, mean_eps: 0.613733\n",
            "  87403/300000: episode: 125, duration: 132.035s, episode steps: 1083, steps per second:   8, episode reward: 13.000, mean reward:  0.012 [ 0.000,  1.000], mean action: 2.500 [0.000, 5.000],  loss: 0.033988, mean_q: 5.190993, mean_eps: 0.609125\n",
            "  88045/300000: episode: 126, duration: 78.166s, episode steps: 642, steps per second:   8, episode reward: 10.000, mean reward:  0.016 [ 0.000,  1.000], mean action: 2.417 [0.000, 5.000],  loss: 0.055702, mean_q: 5.284228, mean_eps: 0.605244\n",
            "  88593/300000: episode: 127, duration: 66.596s, episode steps: 548, steps per second:   8, episode reward:  8.000, mean reward:  0.015 [ 0.000,  1.000], mean action: 2.692 [0.000, 5.000],  loss: 0.029980, mean_q: 5.288491, mean_eps: 0.602567\n",
            "  89296/300000: episode: 128, duration: 85.351s, episode steps: 703, steps per second:   8, episode reward: 13.000, mean reward:  0.018 [ 0.000,  1.000], mean action: 2.639 [0.000, 5.000],  loss: 0.030313, mean_q: 5.260181, mean_eps: 0.599752\n",
            "Step 90000: saving model to checkpoints/dqn_v06_3_weights_90000.h5f\n",
            "  90446/300000: episode: 129, duration: 139.941s, episode steps: 1150, steps per second:   8, episode reward: 28.000, mean reward:  0.024 [ 0.000,  1.000], mean action: 2.533 [0.000, 5.000],  loss: 0.033744, mean_q: 5.326658, mean_eps: 0.595583\n",
            "  91330/300000: episode: 130, duration: 107.673s, episode steps: 884, steps per second:   8, episode reward: 17.000, mean reward:  0.019 [ 0.000,  1.000], mean action: 2.699 [0.000, 5.000],  loss: 0.043809, mean_q: 5.432918, mean_eps: 0.591006\n",
            "  92108/300000: episode: 131, duration: 94.945s, episode steps: 778, steps per second:   8, episode reward: 15.000, mean reward:  0.019 [ 0.000,  1.000], mean action: 2.429 [0.000, 5.000],  loss: 0.035210, mean_q: 5.440250, mean_eps: 0.587267\n",
            "  93074/300000: episode: 132, duration: 117.588s, episode steps: 966, steps per second:   8, episode reward: 17.000, mean reward:  0.018 [ 0.000,  1.000], mean action: 2.381 [0.000, 5.000],  loss: 0.043828, mean_q: 5.518708, mean_eps: 0.583343\n",
            "  93455/300000: episode: 133, duration: 46.532s, episode steps: 381, steps per second:   8, episode reward:  4.000, mean reward:  0.010 [ 0.000,  1.000], mean action: 2.672 [0.000, 5.000],  loss: 0.040313, mean_q: 5.625454, mean_eps: 0.580312\n",
            "  94124/300000: episode: 134, duration: 81.839s, episode steps: 669, steps per second:   8, episode reward:  9.000, mean reward:  0.013 [ 0.000,  1.000], mean action: 2.649 [0.000, 5.000],  loss: 0.048004, mean_q: 5.630963, mean_eps: 0.577950\n",
            "  94719/300000: episode: 135, duration: 72.550s, episode steps: 595, steps per second:   8, episode reward:  8.000, mean reward:  0.013 [ 0.000,  1.000], mean action: 2.617 [0.000, 5.000],  loss: 0.041756, mean_q: 5.586918, mean_eps: 0.575105\n",
            "  95241/300000: episode: 136, duration: 63.772s, episode steps: 522, steps per second:   8, episode reward:  5.000, mean reward:  0.010 [ 0.000,  1.000], mean action: 2.318 [0.000, 5.000],  loss: 0.038894, mean_q: 5.574844, mean_eps: 0.572592\n",
            "  95747/300000: episode: 137, duration: 61.641s, episode steps: 506, steps per second:   8, episode reward:  8.000, mean reward:  0.016 [ 0.000,  1.000], mean action: 2.680 [0.000, 5.000],  loss: 0.049812, mean_q: 5.623681, mean_eps: 0.570279\n",
            "  96143/300000: episode: 138, duration: 48.379s, episode steps: 396, steps per second:   8, episode reward:  5.000, mean reward:  0.013 [ 0.000,  1.000], mean action: 2.614 [0.000, 5.000],  loss: 0.034148, mean_q: 5.617099, mean_eps: 0.568250\n",
            "  97316/300000: episode: 139, duration: 142.527s, episode steps: 1173, steps per second:   8, episode reward: 24.000, mean reward:  0.020 [ 0.000,  1.000], mean action: 2.599 [0.000, 5.000],  loss: 0.039569, mean_q: 5.728197, mean_eps: 0.564720\n",
            "  98274/300000: episode: 140, duration: 116.630s, episode steps: 958, steps per second:   8, episode reward: 22.000, mean reward:  0.023 [ 0.000,  1.000], mean action: 2.569 [0.000, 5.000],  loss: 0.057565, mean_q: 5.834405, mean_eps: 0.559925\n",
            "  99144/300000: episode: 141, duration: 105.996s, episode steps: 870, steps per second:   8, episode reward: 14.000, mean reward:  0.016 [ 0.000,  1.000], mean action: 2.570 [0.000, 5.000],  loss: 0.042719, mean_q: 5.862121, mean_eps: 0.555812\n",
            "  99955/300000: episode: 142, duration: 98.737s, episode steps: 811, steps per second:   8, episode reward: 14.000, mean reward:  0.017 [ 0.000,  1.000], mean action: 2.726 [0.000, 5.000],  loss: 0.045908, mean_q: 5.867546, mean_eps: 0.552029\n",
            "Step 100000: saving model to checkpoints/dqn_v06_3_weights_100000.h5f\n",
            " 100747/300000: episode: 143, duration: 97.010s, episode steps: 792, steps per second:   8, episode reward: 12.000, mean reward:  0.015 [ 0.000,  1.000], mean action: 2.367 [0.000, 5.000],  loss: 0.046597, mean_q: 5.856579, mean_eps: 0.548423\n",
            " 101371/300000: episode: 144, duration: 76.289s, episode steps: 624, steps per second:   8, episode reward: 15.000, mean reward:  0.024 [ 0.000,  1.000], mean action: 2.391 [0.000, 5.000],  loss: 0.053247, mean_q: 5.857127, mean_eps: 0.545237\n",
            " 101770/300000: episode: 145, duration: 48.728s, episode steps: 399, steps per second:   8, episode reward:  7.000, mean reward:  0.018 [ 0.000,  1.000], mean action: 2.336 [0.000, 5.000],  loss: 0.081447, mean_q: 5.857149, mean_eps: 0.542935\n",
            " 102238/300000: episode: 146, duration: 57.243s, episode steps: 468, steps per second:   8, episode reward:  9.000, mean reward:  0.019 [ 0.000,  1.000], mean action: 2.654 [0.000, 5.000],  loss: 0.068094, mean_q: 5.838283, mean_eps: 0.540984\n",
            " 102797/300000: episode: 147, duration: 68.470s, episode steps: 559, steps per second:   8, episode reward:  9.000, mean reward:  0.016 [ 0.000,  1.000], mean action: 2.572 [0.000, 5.000],  loss: 0.065218, mean_q: 5.830598, mean_eps: 0.538674\n",
            " 103199/300000: episode: 148, duration: 49.187s, episode steps: 402, steps per second:   8, episode reward:  3.000, mean reward:  0.007 [ 0.000,  1.000], mean action: 2.607 [0.000, 5.000],  loss: 0.037268, mean_q: 5.857710, mean_eps: 0.536511\n",
            " 104020/300000: episode: 149, duration: 100.082s, episode steps: 821, steps per second:   8, episode reward: 18.000, mean reward:  0.022 [ 0.000,  1.000], mean action: 2.357 [0.000, 5.000],  loss: 0.041507, mean_q: 5.894186, mean_eps: 0.533759\n",
            " 104517/300000: episode: 150, duration: 60.774s, episode steps: 497, steps per second:   8, episode reward:  7.000, mean reward:  0.014 [ 0.000,  1.000], mean action: 2.169 [0.000, 5.000],  loss: 0.089280, mean_q: 6.016817, mean_eps: 0.530794\n",
            " 105146/300000: episode: 151, duration: 76.792s, episode steps: 629, steps per second:   8, episode reward:  9.000, mean reward:  0.014 [ 0.000,  1.000], mean action: 2.300 [0.000, 5.000],  loss: 0.050283, mean_q: 5.995125, mean_eps: 0.528261\n",
            " 106416/300000: episode: 152, duration: 154.985s, episode steps: 1270, steps per second:   8, episode reward: 26.000, mean reward:  0.020 [ 0.000,  1.000], mean action: 2.573 [0.000, 5.000],  loss: 0.097440, mean_q: 6.079420, mean_eps: 0.523988\n",
            " 107039/300000: episode: 153, duration: 76.342s, episode steps: 623, steps per second:   8, episode reward: 10.000, mean reward:  0.016 [ 0.000,  1.000], mean action: 2.231 [0.000, 5.000],  loss: 0.105035, mean_q: 6.168076, mean_eps: 0.519729\n",
            " 107590/300000: episode: 154, duration: 67.288s, episode steps: 551, steps per second:   8, episode reward:  8.000, mean reward:  0.015 [ 0.000,  1.000], mean action: 2.249 [0.000, 5.000],  loss: 0.062947, mean_q: 6.221216, mean_eps: 0.517087\n",
            " 108354/300000: episode: 155, duration: 93.467s, episode steps: 764, steps per second:   8, episode reward:  7.000, mean reward:  0.009 [ 0.000,  1.000], mean action: 2.580 [0.000, 5.000],  loss: 0.085195, mean_q: 6.237668, mean_eps: 0.514128\n",
            " 108749/300000: episode: 156, duration: 48.208s, episode steps: 395, steps per second:   8, episode reward:  7.000, mean reward:  0.018 [ 0.000,  1.000], mean action: 2.575 [0.000, 5.000],  loss: 0.104814, mean_q: 6.264440, mean_eps: 0.511521\n",
            " 109424/300000: episode: 157, duration: 82.624s, episode steps: 675, steps per second:   8, episode reward:  8.000, mean reward:  0.012 [ 0.000,  1.000], mean action: 2.698 [0.000, 5.000],  loss: 0.047630, mean_q: 6.286487, mean_eps: 0.509113\n",
            " 109917/300000: episode: 158, duration: 60.320s, episode steps: 493, steps per second:   8, episode reward:  5.000, mean reward:  0.010 [ 0.000,  1.000], mean action: 2.394 [0.000, 5.000],  loss: 0.094484, mean_q: 6.360206, mean_eps: 0.506485\n",
            "Step 110000: saving model to checkpoints/dqn_v06_3_weights_110000.h5f\n",
            " 110426/300000: episode: 159, duration: 62.449s, episode steps: 509, steps per second:   8, episode reward:  6.000, mean reward:  0.012 [ 0.000,  1.000], mean action: 2.611 [0.000, 5.000],  loss: 0.083194, mean_q: 6.339962, mean_eps: 0.504231\n",
            " 111220/300000: episode: 160, duration: 97.077s, episode steps: 794, steps per second:   8, episode reward: 10.000, mean reward:  0.013 [ 0.000,  1.000], mean action: 2.836 [0.000, 5.000],  loss: 0.105668, mean_q: 6.420267, mean_eps: 0.501299\n",
            " 111993/300000: episode: 161, duration: 94.599s, episode steps: 773, steps per second:   8, episode reward: 16.000, mean reward:  0.021 [ 0.000,  1.000], mean action: 2.532 [0.000, 5.000],  loss: 0.141240, mean_q: 6.494008, mean_eps: 0.497773\n",
            " 112587/300000: episode: 162, duration: 72.498s, episode steps: 594, steps per second:   8, episode reward:  8.000, mean reward:  0.013 [ 0.000,  1.000], mean action: 2.904 [0.000, 5.000],  loss: 0.171963, mean_q: 6.316296, mean_eps: 0.494697\n",
            " 113202/300000: episode: 163, duration: 75.239s, episode steps: 615, steps per second:   8, episode reward:  8.000, mean reward:  0.013 [ 0.000,  1.000], mean action: 2.580 [0.000, 5.000],  loss: 0.066960, mean_q: 6.314200, mean_eps: 0.491977\n",
            " 113857/300000: episode: 164, duration: 80.134s, episode steps: 655, steps per second:   8, episode reward:  6.000, mean reward:  0.009 [ 0.000,  1.000], mean action: 2.627 [0.000, 5.000],  loss: 0.055454, mean_q: 6.391902, mean_eps: 0.489119\n",
            " 114257/300000: episode: 165, duration: 48.953s, episode steps: 400, steps per second:   8, episode reward:  7.000, mean reward:  0.018 [ 0.000,  1.000], mean action: 2.953 [0.000, 5.000],  loss: 0.100327, mean_q: 6.416245, mean_eps: 0.486746\n",
            " 114893/300000: episode: 166, duration: 77.633s, episode steps: 636, steps per second:   8, episode reward:  7.000, mean reward:  0.011 [ 0.000,  1.000], mean action: 2.459 [0.000, 5.000],  loss: 0.083960, mean_q: 6.429317, mean_eps: 0.484415\n",
            " 115343/300000: episode: 167, duration: 55.066s, episode steps: 450, steps per second:   8, episode reward:  5.000, mean reward:  0.011 [ 0.000,  1.000], mean action: 2.356 [0.000, 5.000],  loss: 0.066949, mean_q: 6.440492, mean_eps: 0.481971\n",
            " 115735/300000: episode: 168, duration: 47.924s, episode steps: 392, steps per second:   8, episode reward:  3.000, mean reward:  0.008 [ 0.000,  1.000], mean action: 2.939 [0.000, 5.000],  loss: 0.119087, mean_q: 6.471468, mean_eps: 0.480077\n",
            " 116328/300000: episode: 169, duration: 72.417s, episode steps: 593, steps per second:   8, episode reward:  5.000, mean reward:  0.008 [ 0.000,  1.000], mean action: 2.411 [0.000, 5.000],  loss: 0.072548, mean_q: 6.438204, mean_eps: 0.477861\n",
            " 117092/300000: episode: 170, duration: 93.339s, episode steps: 764, steps per second:   8, episode reward: 10.000, mean reward:  0.013 [ 0.000,  1.000], mean action: 2.361 [0.000, 5.000],  loss: 0.277648, mean_q: 6.475807, mean_eps: 0.474807\n",
            " 117708/300000: episode: 171, duration: 75.287s, episode steps: 616, steps per second:   8, episode reward:  6.000, mean reward:  0.010 [ 0.000,  1.000], mean action: 2.557 [0.000, 5.000],  loss: 0.040262, mean_q: 6.483258, mean_eps: 0.471702\n",
            " 118429/300000: episode: 172, duration: 88.102s, episode steps: 721, steps per second:   8, episode reward: 11.000, mean reward:  0.015 [ 0.000,  1.000], mean action: 2.594 [0.000, 5.000],  loss: 0.062428, mean_q: 6.503943, mean_eps: 0.468694\n",
            "done, took 13264.586 seconds\n",
            "⏱ Tiempo de fin: 20:40:58\n",
            "[WARNING] dqn_06_3_weights.h5f.index already exists - overwrite? [y/n]y\n",
            "[TIP] Next time specify overwrite=True!\n"
          ]
        }
      ]
    },
    {
      "cell_type": "code",
      "source": [
        "#Ejecutando a partir de un callbacks\n",
        "env.close()  # Asegúrate de cerrar entorno anterior\n",
        "env = gym.make(\"SpaceInvaders-v0\")\n"
      ],
      "metadata": {
        "id": "EFiUsc98P1Gv"
      },
      "execution_count": 92,
      "outputs": []
    },
    {
      "cell_type": "code",
      "source": [
        "# Construir modelo y agente exactamente como en el entrenamiento\n",
        "model = build_model(84, 84, 1, nb_actions)  # Usa tu propia función build_model\n",
        "dqn = build_agent(model, nb_actions)        # Usa tu propia función build_agent\n",
        "\n",
        "# Compilar el agente (necesario antes de usarlo)\n",
        "from keras.optimizers import Adam\n",
        "dqn.compile(Adam(learning_rate=0.00025, epsilon=1e-4))\n",
        "\n",
        "# Cargar los pesos desde el checkpoint\n",
        "dqn.load_weights(\"checkpoints/dqn_v06_3_weights_90000.h5f\")\n",
        "\n",
        "# Continuar entrenamiento\n",
        "from datetime import datetime\n",
        "print(f\"⏱ Inicio nuevo entrenamiento: {datetime.now().strftime('%H:%M:%S')}\")\n",
        "\n",
        "dqn.fit(env, nb_steps=120000, visualize=False, verbose=2, callbacks=[checkpoint_callback])\n",
        "\n",
        "print(f\"⏱ Fin nuevo entrenamiento: {datetime.now().strftime('%H:%M:%S')}\")\n"
      ],
      "metadata": {
        "colab": {
          "base_uri": "https://localhost:8080/"
        },
        "id": "3k690IQcMWAq",
        "outputId": "39684fd5-43f7-4d2f-a306-3dbaf33be16a"
      },
      "execution_count": 89,
      "outputs": [
        {
          "output_type": "stream",
          "name": "stdout",
          "text": [
            "⏱ Inicio nuevo entrenamiento: 21:30:22\n",
            "Training for 120000 steps ...\n"
          ]
        },
        {
          "output_type": "stream",
          "name": "stderr",
          "text": [
            "/usr/local/lib/python3.11/dist-packages/keras/engine/training_v1.py:2359: UserWarning: `Model.state_updates` will be removed in a future version. This property should not be used in TensorFlow 2.0, as `updates` are applied automatically.\n",
            "  updates=self.state_updates,\n"
          ]
        },
        {
          "output_type": "stream",
          "name": "stdout",
          "text": [
            "    845/120000: episode: 1, duration: 5.069s, episode steps: 845, steps per second: 167, episode reward: 10.000, mean reward:  0.012 [ 0.000,  1.000], mean action: 2.399 [0.000, 5.000],  loss: --, mean_q: --, mean_eps: --\n",
            "   1574/120000: episode: 2, duration: 3.993s, episode steps: 729, steps per second: 183, episode reward:  6.000, mean reward:  0.008 [ 0.000,  1.000], mean action: 2.432 [0.000, 5.000],  loss: --, mean_q: --, mean_eps: --\n",
            "   2344/120000: episode: 3, duration: 4.252s, episode steps: 770, steps per second: 181, episode reward: 11.000, mean reward:  0.014 [ 0.000,  1.000], mean action: 2.409 [0.000, 5.000],  loss: --, mean_q: --, mean_eps: --\n",
            "   2816/120000: episode: 4, duration: 2.642s, episode steps: 472, steps per second: 179, episode reward:  7.000, mean reward:  0.015 [ 0.000,  1.000], mean action: 2.475 [0.000, 5.000],  loss: --, mean_q: --, mean_eps: --\n",
            "   3593/120000: episode: 5, duration: 4.261s, episode steps: 777, steps per second: 182, episode reward: 11.000, mean reward:  0.014 [ 0.000,  1.000], mean action: 2.533 [0.000, 5.000],  loss: --, mean_q: --, mean_eps: --\n",
            "   4502/120000: episode: 6, duration: 4.949s, episode steps: 909, steps per second: 184, episode reward: 14.000, mean reward:  0.015 [ 0.000,  1.000], mean action: 2.503 [0.000, 5.000],  loss: --, mean_q: --, mean_eps: --\n",
            "   5124/120000: episode: 7, duration: 3.375s, episode steps: 622, steps per second: 184, episode reward:  9.000, mean reward:  0.014 [ 0.000,  1.000], mean action: 2.415 [0.000, 5.000],  loss: --, mean_q: --, mean_eps: --\n",
            "   5948/120000: episode: 8, duration: 4.431s, episode steps: 824, steps per second: 186, episode reward: 13.000, mean reward:  0.016 [ 0.000,  1.000], mean action: 2.522 [0.000, 5.000],  loss: --, mean_q: --, mean_eps: --\n",
            "   7261/120000: episode: 9, duration: 7.097s, episode steps: 1313, steps per second: 185, episode reward: 22.000, mean reward:  0.017 [ 0.000,  1.000], mean action: 2.505 [0.000, 5.000],  loss: --, mean_q: --, mean_eps: --\n",
            "Step 130000: saving model to checkpoints/dqn_v06_3_weights_130000.h5f\n",
            "   8106/120000: episode: 10, duration: 5.090s, episode steps: 845, steps per second: 166, episode reward: 15.000, mean reward:  0.018 [ 0.000,  1.000], mean action: 2.388 [0.000, 5.000],  loss: --, mean_q: --, mean_eps: --\n",
            "   8891/120000: episode: 11, duration: 4.258s, episode steps: 785, steps per second: 184, episode reward: 10.000, mean reward:  0.013 [ 0.000,  1.000], mean action: 2.501 [0.000, 5.000],  loss: --, mean_q: --, mean_eps: --\n",
            "   9413/120000: episode: 12, duration: 2.860s, episode steps: 522, steps per second: 183, episode reward:  4.000, mean reward:  0.008 [ 0.000,  1.000], mean action: 2.567 [0.000, 5.000],  loss: --, mean_q: --, mean_eps: --\n"
          ]
        },
        {
          "output_type": "stream",
          "name": "stderr",
          "text": [
            "/usr/local/lib/python3.11/dist-packages/keras/engine/training_v1.py:2359: UserWarning: `Model.state_updates` will be removed in a future version. This property should not be used in TensorFlow 2.0, as `updates` are applied automatically.\n",
            "  updates=self.state_updates,\n"
          ]
        },
        {
          "output_type": "stream",
          "name": "stdout",
          "text": [
            "  10028/120000: episode: 13, duration: 9.388s, episode steps: 615, steps per second:  66, episode reward:  8.000, mean reward:  0.013 [ 0.000,  1.000], mean action: 2.494 [0.000, 5.000],  loss: 0.041838, mean_q: 5.543542, mean_eps: 0.954937\n",
            "  10984/120000: episode: 14, duration: 119.720s, episode steps: 956, steps per second:   8, episode reward: 13.000, mean reward:  0.014 [ 0.000,  1.000], mean action: 2.492 [0.000, 5.000],  loss: 0.035422, mean_q: 5.479570, mean_eps: 0.952725\n",
            "  11363/120000: episode: 15, duration: 47.558s, episode steps: 379, steps per second:   8, episode reward:  5.000, mean reward:  0.013 [ 0.000,  1.000], mean action: 2.430 [0.000, 5.000],  loss: 0.033018, mean_q: 5.519955, mean_eps: 0.949722\n",
            "  11987/120000: episode: 16, duration: 78.071s, episode steps: 624, steps per second:   8, episode reward:  7.000, mean reward:  0.011 [ 0.000,  1.000], mean action: 2.462 [0.000, 5.000],  loss: 0.033763, mean_q: 5.539098, mean_eps: 0.947465\n",
            "  12467/120000: episode: 17, duration: 59.761s, episode steps: 480, steps per second:   8, episode reward:  6.000, mean reward:  0.013 [ 0.000,  1.000], mean action: 2.538 [0.000, 5.000],  loss: 0.030423, mean_q: 5.556347, mean_eps: 0.944981\n",
            "  13006/120000: episode: 18, duration: 67.575s, episode steps: 539, steps per second:   8, episode reward:  7.000, mean reward:  0.013 [ 0.000,  1.000], mean action: 2.436 [0.000, 5.000],  loss: 0.026194, mean_q: 5.550614, mean_eps: 0.942688\n",
            "  13603/120000: episode: 19, duration: 74.735s, episode steps: 597, steps per second:   8, episode reward:  6.000, mean reward:  0.010 [ 0.000,  1.000], mean action: 2.476 [0.000, 5.000],  loss: 0.032138, mean_q: 5.667600, mean_eps: 0.940132\n",
            "  14184/120000: episode: 20, duration: 72.941s, episode steps: 581, steps per second:   8, episode reward:  6.000, mean reward:  0.010 [ 0.000,  1.000], mean action: 2.492 [0.000, 5.000],  loss: 0.027608, mean_q: 5.662985, mean_eps: 0.937481\n",
            "done, took 622.867 seconds\n",
            "⏱ Fin nuevo entrenamiento: 21:40:44\n"
          ]
        }
      ]
    },
    {
      "cell_type": "code",
      "source": [
        "# Testing part to calculate the mean reward\n",
        "#weights_filename = 'dqn_{}_weights.h5f'.format(env_name)\n",
        "weights_filename = 'dqn_06_3_weights.h5f'.format(env_name)\n",
        "dqn.load_weights(weights_filename)\n",
        "dqn.test(env, nb_episodes=10, visualize=False)"
      ],
      "metadata": {
        "colab": {
          "base_uri": "https://localhost:8080/"
        },
        "id": "ozll_lPELUpl",
        "outputId": "0fadc038-a584-4129-dda0-7bdb6173b5b5"
      },
      "execution_count": 91,
      "outputs": [
        {
          "output_type": "stream",
          "name": "stdout",
          "text": [
            "Testing for 10 episodes ...\n",
            "Episode 1: reward: 11.000, steps: 625\n",
            "Episode 2: reward: 6.000, steps: 520\n",
            "Episode 3: reward: 8.000, steps: 407\n",
            "Episode 4: reward: 10.000, steps: 887\n",
            "Episode 5: reward: 15.000, steps: 779\n",
            "Episode 6: reward: 18.000, steps: 1118\n",
            "Episode 7: reward: 24.000, steps: 1295\n",
            "Episode 8: reward: 7.000, steps: 732\n",
            "Episode 9: reward: 8.000, steps: 454\n",
            "Episode 10: reward: 19.000, steps: 806\n"
          ]
        },
        {
          "output_type": "execute_result",
          "data": {
            "text/plain": [
              "<keras.callbacks.History at 0x7d10b26d96d0>"
            ]
          },
          "metadata": {},
          "execution_count": 91
        }
      ]
    },
    {
      "cell_type": "code",
      "source": [
        "from google.colab import drive\n",
        "import shutil\n",
        "import glob  # <-- ¡Falta este import!\n",
        "import os\n",
        "\n",
        "# 1. Montar Google Drive\n",
        "#drive.mount('/content/drive')\n",
        "\n",
        "# 2. Crear directorio en Drive si no existe\n",
        "os.makedirs('/content/gdrive/MyDrive/Colab_Outputs', exist_ok=True)\n",
        "\n",
        "# 3. Buscar y copiar todos los archivos coincidentes\n",
        "archivos = glob.glob('dqn_06_3_weights*')  # Encuentra todos los archivos con ese patrón\n",
        "\n",
        "for archivo in archivos:\n",
        "    shutil.copy(\n",
        "        archivo,\n",
        "        f'/content/gdrive/MyDrive/Colab_Outputs/{os.path.basename(archivo)}'\n",
        "    )\n",
        "    print(f\"¡Archivo {archivo} copiado a Drive!\")\n",
        "\n",
        "# 4. Buscar y copiar todos los archivos coincidentes\n",
        "archivos = glob.glob('checkpoints/dqn_v06_3_weights*')  # Encuentra todos los archivos con ese patrón\n",
        "\n",
        "for archivo in archivos:\n",
        "    shutil.copy(\n",
        "        archivo,\n",
        "        f'/content/gdrive/MyDrive/Colab_Outputs/{os.path.basename(archivo)}'\n",
        "    )\n",
        "\n",
        "print(\"✅ ¡Todos los archivos copiados!\")"
      ],
      "metadata": {
        "colab": {
          "base_uri": "https://localhost:8080/"
        },
        "id": "0UPDMrWP-lGP",
        "outputId": "3ba93e17-70ad-4b3e-c658-18e946c55f97"
      },
      "execution_count": 46,
      "outputs": [
        {
          "output_type": "stream",
          "name": "stdout",
          "text": [
            "¡Archivo dqn_06_3_weights.h5f.data-00000-of-00001 copiado a Drive!\n",
            "¡Archivo dqn_06_3_weights.h5f.index copiado a Drive!\n",
            "✅ ¡Todos los archivos copiados!\n"
          ]
        }
      ]
    }
  ]
}