{
  "nbformat": 4,
  "nbformat_minor": 0,
  "metadata": {
    "colab": {
      "provenance": [],
      "machine_shape": "hm",
      "gpuType": "A100",
      "authorship_tag": "ABX9TyM18OXEfPFoCqQvkcgkMeOC",
      "include_colab_link": true
    },
    "kernelspec": {
      "name": "python3",
      "display_name": "Python 3"
    },
    "language_info": {
      "name": "python"
    },
    "accelerator": "GPU"
  },
  "cells": [
    {
      "cell_type": "markdown",
      "metadata": {
        "id": "view-in-github",
        "colab_type": "text"
      },
      "source": [
        "<a href=\"https://colab.research.google.com/github/LuisIrigoyen/trabajo_final_RL/blob/main/proyecto_final_APR_V08_en_colab.ipynb\" target=\"_parent\"><img src=\"https://colab.research.google.com/assets/colab-badge.svg\" alt=\"Open In Colab\"/></a>"
      ]
    },
    {
      "cell_type": "code",
      "execution_count": 1,
      "metadata": {
        "id": "ILVf4aBr-pCt"
      },
      "outputs": [],
      "source": [
        "# ATENCIÓN!! Modificar ruta relativa a la práctica si es distinta (drive_root)\n",
        "mount='/content/gdrive'\n",
        "drive_root = mount + \"/My Drive/08_MIAR/actividades/proyecto practico\"\n",
        "\n",
        "try:\n",
        "  from google.colab import drive\n",
        "  IN_COLAB=True\n",
        "except:\n",
        "  IN_COLAB=False"
      ]
    },
    {
      "cell_type": "code",
      "source": [
        "# Switch to the directory on the Google Drive that you want to use\n",
        "import os\n",
        "if IN_COLAB:\n",
        "  print(\"We're running Colab\")\n",
        "\n",
        "  if IN_COLAB:\n",
        "    # Mount the Google Drive at mount\n",
        "    print(\"Colab: mounting Google drive on \", mount)\n",
        "\n",
        "    drive.mount(mount)\n",
        "\n",
        "    # Create drive_root if it doesn't exist\n",
        "    create_drive_root = True\n",
        "    if create_drive_root:\n",
        "      print(\"\\nColab: making sure \", drive_root, \" exists.\")\n",
        "      os.makedirs(drive_root, exist_ok=True)\n",
        "\n",
        "    # Change to the directory\n",
        "    print(\"\\nColab: Changing directory to \", drive_root)\n",
        "    %cd $drive_root\n",
        "# Verify we're in the correct working directory\n",
        "%pwd\n",
        "print(\"Archivos en el directorio: \")\n",
        "print(os.listdir())"
      ],
      "metadata": {
        "colab": {
          "base_uri": "https://localhost:8080/"
        },
        "id": "EgD9c713-uOI",
        "outputId": "b4242382-c2c4-41b3-99ec-7f91f4f6eaed"
      },
      "execution_count": 2,
      "outputs": [
        {
          "output_type": "stream",
          "name": "stdout",
          "text": [
            "We're running Colab\n",
            "Colab: mounting Google drive on  /content/gdrive\n",
            "Drive already mounted at /content/gdrive; to attempt to forcibly remount, call drive.mount(\"/content/gdrive\", force_remount=True).\n",
            "\n",
            "Colab: making sure  /content/gdrive/My Drive/08_MIAR/actividades/proyecto practico  exists.\n",
            "\n",
            "Colab: Changing directory to  /content/gdrive/My Drive/08_MIAR/actividades/proyecto practico\n",
            "/content/gdrive/My Drive/08_MIAR/actividades/proyecto practico\n",
            "Archivos en el directorio: \n",
            "['dqn_models', 'checkpoints', 'dqn_05_weights.h5f.data-00000-of-00001', 'dqn_05_weights.h5f.index', 'dqn_06_weights.h5f.index', 'dqn_06_weights.h5f.data-00000-of-00001', 'dqn_07_weights.h5f.index', 'checkpoint', 'dqn_07_weights.h5f.data-00000-of-00001']\n"
          ]
        }
      ]
    },
    {
      "cell_type": "code",
      "source": [
        "if IN_COLAB:\n",
        "  %pip install gym==0.17.3\n",
        "  %pip install git+https://github.com/Kojoley/atari-py.git\n",
        "  %pip install keras-rl2==1.0.5\n",
        "  %pip install tensorflow==2.12  #2.8\n",
        "else:\n",
        "  %pip install gym==0.17.3\n",
        "  %pip install git+https://github.com/Kojoley/atari-py.git\n",
        "  %pip install pyglet==1.5.0\n",
        "  %pip install h5py==3.1.0\n",
        "  %pip install Pillow==9.5.0\n",
        "  %pip install keras-rl3\n",
        "  %pip install Keras==2.2.4\n",
        "  %pip install tensorflow==2.10.1\n",
        "  %pip install torch==2.0.1\n",
        "  %pip install agents==1.4.0"
      ],
      "metadata": {
        "colab": {
          "base_uri": "https://localhost:8080/"
        },
        "id": "HRh4Ggnz-xBw",
        "outputId": "5759ae2b-0dc4-4551-b0f9-8e622edbffac"
      },
      "execution_count": 3,
      "outputs": [
        {
          "output_type": "stream",
          "name": "stdout",
          "text": [
            "Requirement already satisfied: gym==0.17.3 in /usr/local/lib/python3.11/dist-packages (0.17.3)\n",
            "Requirement already satisfied: scipy in /usr/local/lib/python3.11/dist-packages (from gym==0.17.3) (1.15.3)\n",
            "Requirement already satisfied: numpy>=1.10.4 in /usr/local/lib/python3.11/dist-packages (from gym==0.17.3) (1.23.5)\n",
            "Requirement already satisfied: pyglet<=1.5.0,>=1.4.0 in /usr/local/lib/python3.11/dist-packages (from gym==0.17.3) (1.5.0)\n",
            "Requirement already satisfied: cloudpickle<1.7.0,>=1.2.0 in /usr/local/lib/python3.11/dist-packages (from gym==0.17.3) (1.6.0)\n",
            "Requirement already satisfied: future in /usr/local/lib/python3.11/dist-packages (from pyglet<=1.5.0,>=1.4.0->gym==0.17.3) (1.0.0)\n",
            "Collecting git+https://github.com/Kojoley/atari-py.git\n",
            "  Cloning https://github.com/Kojoley/atari-py.git to /tmp/pip-req-build-zoumysri\n",
            "  Running command git clone --filter=blob:none --quiet https://github.com/Kojoley/atari-py.git /tmp/pip-req-build-zoumysri\n",
            "  Resolved https://github.com/Kojoley/atari-py.git to commit 86a1e05c0a95e9e6233c3a413521fdb34ca8a089\n",
            "  Preparing metadata (setup.py) ... \u001b[?25l\u001b[?25hdone\n",
            "Requirement already satisfied: numpy in /usr/local/lib/python3.11/dist-packages (from atari-py==1.2.2) (1.23.5)\n",
            "Requirement already satisfied: keras-rl2==1.0.5 in /usr/local/lib/python3.11/dist-packages (1.0.5)\n",
            "Requirement already satisfied: tensorflow in /usr/local/lib/python3.11/dist-packages (from keras-rl2==1.0.5) (2.12.0)\n",
            "Requirement already satisfied: absl-py>=1.0.0 in /usr/local/lib/python3.11/dist-packages (from tensorflow->keras-rl2==1.0.5) (1.4.0)\n",
            "Requirement already satisfied: astunparse>=1.6.0 in /usr/local/lib/python3.11/dist-packages (from tensorflow->keras-rl2==1.0.5) (1.6.3)\n",
            "Requirement already satisfied: flatbuffers>=2.0 in /usr/local/lib/python3.11/dist-packages (from tensorflow->keras-rl2==1.0.5) (25.2.10)\n",
            "Requirement already satisfied: gast<=0.4.0,>=0.2.1 in /usr/local/lib/python3.11/dist-packages (from tensorflow->keras-rl2==1.0.5) (0.4.0)\n",
            "Requirement already satisfied: google-pasta>=0.1.1 in /usr/local/lib/python3.11/dist-packages (from tensorflow->keras-rl2==1.0.5) (0.2.0)\n",
            "Requirement already satisfied: grpcio<2.0,>=1.24.3 in /usr/local/lib/python3.11/dist-packages (from tensorflow->keras-rl2==1.0.5) (1.73.0)\n",
            "Requirement already satisfied: h5py>=2.9.0 in /usr/local/lib/python3.11/dist-packages (from tensorflow->keras-rl2==1.0.5) (3.14.0)\n",
            "Requirement already satisfied: jax>=0.3.15 in /usr/local/lib/python3.11/dist-packages (from tensorflow->keras-rl2==1.0.5) (0.4.30)\n",
            "Requirement already satisfied: keras<2.13,>=2.12.0 in /usr/local/lib/python3.11/dist-packages (from tensorflow->keras-rl2==1.0.5) (2.12.0)\n",
            "Requirement already satisfied: libclang>=13.0.0 in /usr/local/lib/python3.11/dist-packages (from tensorflow->keras-rl2==1.0.5) (18.1.1)\n",
            "Requirement already satisfied: numpy<1.24,>=1.22 in /usr/local/lib/python3.11/dist-packages (from tensorflow->keras-rl2==1.0.5) (1.23.5)\n",
            "Requirement already satisfied: opt-einsum>=2.3.2 in /usr/local/lib/python3.11/dist-packages (from tensorflow->keras-rl2==1.0.5) (3.4.0)\n",
            "Requirement already satisfied: packaging in /usr/local/lib/python3.11/dist-packages (from tensorflow->keras-rl2==1.0.5) (24.2)\n",
            "Requirement already satisfied: protobuf!=4.21.0,!=4.21.1,!=4.21.2,!=4.21.3,!=4.21.4,!=4.21.5,<5.0.0dev,>=3.20.3 in /usr/local/lib/python3.11/dist-packages (from tensorflow->keras-rl2==1.0.5) (4.25.8)\n",
            "Requirement already satisfied: setuptools in /usr/local/lib/python3.11/dist-packages (from tensorflow->keras-rl2==1.0.5) (75.2.0)\n",
            "Requirement already satisfied: six>=1.12.0 in /usr/local/lib/python3.11/dist-packages (from tensorflow->keras-rl2==1.0.5) (1.17.0)\n",
            "Requirement already satisfied: tensorboard<2.13,>=2.12 in /usr/local/lib/python3.11/dist-packages (from tensorflow->keras-rl2==1.0.5) (2.12.3)\n",
            "Requirement already satisfied: tensorflow-estimator<2.13,>=2.12.0 in /usr/local/lib/python3.11/dist-packages (from tensorflow->keras-rl2==1.0.5) (2.12.0)\n",
            "Requirement already satisfied: termcolor>=1.1.0 in /usr/local/lib/python3.11/dist-packages (from tensorflow->keras-rl2==1.0.5) (3.1.0)\n",
            "Requirement already satisfied: typing-extensions>=3.6.6 in /usr/local/lib/python3.11/dist-packages (from tensorflow->keras-rl2==1.0.5) (4.14.0)\n",
            "Requirement already satisfied: wrapt<1.15,>=1.11.0 in /usr/local/lib/python3.11/dist-packages (from tensorflow->keras-rl2==1.0.5) (1.14.1)\n",
            "Requirement already satisfied: tensorflow-io-gcs-filesystem>=0.23.1 in /usr/local/lib/python3.11/dist-packages (from tensorflow->keras-rl2==1.0.5) (0.37.1)\n",
            "Requirement already satisfied: wheel<1.0,>=0.23.0 in /usr/local/lib/python3.11/dist-packages (from astunparse>=1.6.0->tensorflow->keras-rl2==1.0.5) (0.45.1)\n",
            "Requirement already satisfied: jaxlib<=0.4.30,>=0.4.27 in /usr/local/lib/python3.11/dist-packages (from jax>=0.3.15->tensorflow->keras-rl2==1.0.5) (0.4.30)\n",
            "Requirement already satisfied: ml-dtypes>=0.2.0 in /usr/local/lib/python3.11/dist-packages (from jax>=0.3.15->tensorflow->keras-rl2==1.0.5) (0.4.1)\n",
            "Requirement already satisfied: scipy>=1.9 in /usr/local/lib/python3.11/dist-packages (from jax>=0.3.15->tensorflow->keras-rl2==1.0.5) (1.15.3)\n",
            "Requirement already satisfied: google-auth<3,>=1.6.3 in /usr/local/lib/python3.11/dist-packages (from tensorboard<2.13,>=2.12->tensorflow->keras-rl2==1.0.5) (2.38.0)\n",
            "Requirement already satisfied: google-auth-oauthlib<1.1,>=0.5 in /usr/local/lib/python3.11/dist-packages (from tensorboard<2.13,>=2.12->tensorflow->keras-rl2==1.0.5) (1.0.0)\n",
            "Requirement already satisfied: markdown>=2.6.8 in /usr/local/lib/python3.11/dist-packages (from tensorboard<2.13,>=2.12->tensorflow->keras-rl2==1.0.5) (3.8)\n",
            "Requirement already satisfied: requests<3,>=2.21.0 in /usr/local/lib/python3.11/dist-packages (from tensorboard<2.13,>=2.12->tensorflow->keras-rl2==1.0.5) (2.32.3)\n",
            "Requirement already satisfied: tensorboard-data-server<0.8.0,>=0.7.0 in /usr/local/lib/python3.11/dist-packages (from tensorboard<2.13,>=2.12->tensorflow->keras-rl2==1.0.5) (0.7.2)\n",
            "Requirement already satisfied: werkzeug>=1.0.1 in /usr/local/lib/python3.11/dist-packages (from tensorboard<2.13,>=2.12->tensorflow->keras-rl2==1.0.5) (3.1.3)\n",
            "Requirement already satisfied: cachetools<6.0,>=2.0.0 in /usr/local/lib/python3.11/dist-packages (from google-auth<3,>=1.6.3->tensorboard<2.13,>=2.12->tensorflow->keras-rl2==1.0.5) (5.5.2)\n",
            "Requirement already satisfied: pyasn1-modules>=0.2.1 in /usr/local/lib/python3.11/dist-packages (from google-auth<3,>=1.6.3->tensorboard<2.13,>=2.12->tensorflow->keras-rl2==1.0.5) (0.4.2)\n",
            "Requirement already satisfied: rsa<5,>=3.1.4 in /usr/local/lib/python3.11/dist-packages (from google-auth<3,>=1.6.3->tensorboard<2.13,>=2.12->tensorflow->keras-rl2==1.0.5) (4.9.1)\n",
            "Requirement already satisfied: requests-oauthlib>=0.7.0 in /usr/local/lib/python3.11/dist-packages (from google-auth-oauthlib<1.1,>=0.5->tensorboard<2.13,>=2.12->tensorflow->keras-rl2==1.0.5) (2.0.0)\n",
            "Requirement already satisfied: charset-normalizer<4,>=2 in /usr/local/lib/python3.11/dist-packages (from requests<3,>=2.21.0->tensorboard<2.13,>=2.12->tensorflow->keras-rl2==1.0.5) (3.4.2)\n",
            "Requirement already satisfied: idna<4,>=2.5 in /usr/local/lib/python3.11/dist-packages (from requests<3,>=2.21.0->tensorboard<2.13,>=2.12->tensorflow->keras-rl2==1.0.5) (3.10)\n",
            "Requirement already satisfied: urllib3<3,>=1.21.1 in /usr/local/lib/python3.11/dist-packages (from requests<3,>=2.21.0->tensorboard<2.13,>=2.12->tensorflow->keras-rl2==1.0.5) (2.4.0)\n",
            "Requirement already satisfied: certifi>=2017.4.17 in /usr/local/lib/python3.11/dist-packages (from requests<3,>=2.21.0->tensorboard<2.13,>=2.12->tensorflow->keras-rl2==1.0.5) (2025.4.26)\n",
            "Requirement already satisfied: MarkupSafe>=2.1.1 in /usr/local/lib/python3.11/dist-packages (from werkzeug>=1.0.1->tensorboard<2.13,>=2.12->tensorflow->keras-rl2==1.0.5) (3.0.2)\n",
            "Requirement already satisfied: pyasn1<0.7.0,>=0.6.1 in /usr/local/lib/python3.11/dist-packages (from pyasn1-modules>=0.2.1->google-auth<3,>=1.6.3->tensorboard<2.13,>=2.12->tensorflow->keras-rl2==1.0.5) (0.6.1)\n",
            "Requirement already satisfied: oauthlib>=3.0.0 in /usr/local/lib/python3.11/dist-packages (from requests-oauthlib>=0.7.0->google-auth-oauthlib<1.1,>=0.5->tensorboard<2.13,>=2.12->tensorflow->keras-rl2==1.0.5) (3.2.2)\n",
            "Requirement already satisfied: tensorflow==2.12 in /usr/local/lib/python3.11/dist-packages (2.12.0)\n",
            "Requirement already satisfied: absl-py>=1.0.0 in /usr/local/lib/python3.11/dist-packages (from tensorflow==2.12) (1.4.0)\n",
            "Requirement already satisfied: astunparse>=1.6.0 in /usr/local/lib/python3.11/dist-packages (from tensorflow==2.12) (1.6.3)\n",
            "Requirement already satisfied: flatbuffers>=2.0 in /usr/local/lib/python3.11/dist-packages (from tensorflow==2.12) (25.2.10)\n",
            "Requirement already satisfied: gast<=0.4.0,>=0.2.1 in /usr/local/lib/python3.11/dist-packages (from tensorflow==2.12) (0.4.0)\n",
            "Requirement already satisfied: google-pasta>=0.1.1 in /usr/local/lib/python3.11/dist-packages (from tensorflow==2.12) (0.2.0)\n",
            "Requirement already satisfied: grpcio<2.0,>=1.24.3 in /usr/local/lib/python3.11/dist-packages (from tensorflow==2.12) (1.73.0)\n",
            "Requirement already satisfied: h5py>=2.9.0 in /usr/local/lib/python3.11/dist-packages (from tensorflow==2.12) (3.14.0)\n",
            "Requirement already satisfied: jax>=0.3.15 in /usr/local/lib/python3.11/dist-packages (from tensorflow==2.12) (0.4.30)\n",
            "Requirement already satisfied: keras<2.13,>=2.12.0 in /usr/local/lib/python3.11/dist-packages (from tensorflow==2.12) (2.12.0)\n",
            "Requirement already satisfied: libclang>=13.0.0 in /usr/local/lib/python3.11/dist-packages (from tensorflow==2.12) (18.1.1)\n",
            "Requirement already satisfied: numpy<1.24,>=1.22 in /usr/local/lib/python3.11/dist-packages (from tensorflow==2.12) (1.23.5)\n",
            "Requirement already satisfied: opt-einsum>=2.3.2 in /usr/local/lib/python3.11/dist-packages (from tensorflow==2.12) (3.4.0)\n",
            "Requirement already satisfied: packaging in /usr/local/lib/python3.11/dist-packages (from tensorflow==2.12) (24.2)\n",
            "Requirement already satisfied: protobuf!=4.21.0,!=4.21.1,!=4.21.2,!=4.21.3,!=4.21.4,!=4.21.5,<5.0.0dev,>=3.20.3 in /usr/local/lib/python3.11/dist-packages (from tensorflow==2.12) (4.25.8)\n",
            "Requirement already satisfied: setuptools in /usr/local/lib/python3.11/dist-packages (from tensorflow==2.12) (75.2.0)\n",
            "Requirement already satisfied: six>=1.12.0 in /usr/local/lib/python3.11/dist-packages (from tensorflow==2.12) (1.17.0)\n",
            "Requirement already satisfied: tensorboard<2.13,>=2.12 in /usr/local/lib/python3.11/dist-packages (from tensorflow==2.12) (2.12.3)\n",
            "Requirement already satisfied: tensorflow-estimator<2.13,>=2.12.0 in /usr/local/lib/python3.11/dist-packages (from tensorflow==2.12) (2.12.0)\n",
            "Requirement already satisfied: termcolor>=1.1.0 in /usr/local/lib/python3.11/dist-packages (from tensorflow==2.12) (3.1.0)\n",
            "Requirement already satisfied: typing-extensions>=3.6.6 in /usr/local/lib/python3.11/dist-packages (from tensorflow==2.12) (4.14.0)\n",
            "Requirement already satisfied: wrapt<1.15,>=1.11.0 in /usr/local/lib/python3.11/dist-packages (from tensorflow==2.12) (1.14.1)\n",
            "Requirement already satisfied: tensorflow-io-gcs-filesystem>=0.23.1 in /usr/local/lib/python3.11/dist-packages (from tensorflow==2.12) (0.37.1)\n",
            "Requirement already satisfied: wheel<1.0,>=0.23.0 in /usr/local/lib/python3.11/dist-packages (from astunparse>=1.6.0->tensorflow==2.12) (0.45.1)\n",
            "Requirement already satisfied: jaxlib<=0.4.30,>=0.4.27 in /usr/local/lib/python3.11/dist-packages (from jax>=0.3.15->tensorflow==2.12) (0.4.30)\n",
            "Requirement already satisfied: ml-dtypes>=0.2.0 in /usr/local/lib/python3.11/dist-packages (from jax>=0.3.15->tensorflow==2.12) (0.4.1)\n",
            "Requirement already satisfied: scipy>=1.9 in /usr/local/lib/python3.11/dist-packages (from jax>=0.3.15->tensorflow==2.12) (1.15.3)\n",
            "Requirement already satisfied: google-auth<3,>=1.6.3 in /usr/local/lib/python3.11/dist-packages (from tensorboard<2.13,>=2.12->tensorflow==2.12) (2.38.0)\n",
            "Requirement already satisfied: google-auth-oauthlib<1.1,>=0.5 in /usr/local/lib/python3.11/dist-packages (from tensorboard<2.13,>=2.12->tensorflow==2.12) (1.0.0)\n",
            "Requirement already satisfied: markdown>=2.6.8 in /usr/local/lib/python3.11/dist-packages (from tensorboard<2.13,>=2.12->tensorflow==2.12) (3.8)\n",
            "Requirement already satisfied: requests<3,>=2.21.0 in /usr/local/lib/python3.11/dist-packages (from tensorboard<2.13,>=2.12->tensorflow==2.12) (2.32.3)\n",
            "Requirement already satisfied: tensorboard-data-server<0.8.0,>=0.7.0 in /usr/local/lib/python3.11/dist-packages (from tensorboard<2.13,>=2.12->tensorflow==2.12) (0.7.2)\n",
            "Requirement already satisfied: werkzeug>=1.0.1 in /usr/local/lib/python3.11/dist-packages (from tensorboard<2.13,>=2.12->tensorflow==2.12) (3.1.3)\n",
            "Requirement already satisfied: cachetools<6.0,>=2.0.0 in /usr/local/lib/python3.11/dist-packages (from google-auth<3,>=1.6.3->tensorboard<2.13,>=2.12->tensorflow==2.12) (5.5.2)\n",
            "Requirement already satisfied: pyasn1-modules>=0.2.1 in /usr/local/lib/python3.11/dist-packages (from google-auth<3,>=1.6.3->tensorboard<2.13,>=2.12->tensorflow==2.12) (0.4.2)\n",
            "Requirement already satisfied: rsa<5,>=3.1.4 in /usr/local/lib/python3.11/dist-packages (from google-auth<3,>=1.6.3->tensorboard<2.13,>=2.12->tensorflow==2.12) (4.9.1)\n",
            "Requirement already satisfied: requests-oauthlib>=0.7.0 in /usr/local/lib/python3.11/dist-packages (from google-auth-oauthlib<1.1,>=0.5->tensorboard<2.13,>=2.12->tensorflow==2.12) (2.0.0)\n",
            "Requirement already satisfied: charset-normalizer<4,>=2 in /usr/local/lib/python3.11/dist-packages (from requests<3,>=2.21.0->tensorboard<2.13,>=2.12->tensorflow==2.12) (3.4.2)\n",
            "Requirement already satisfied: idna<4,>=2.5 in /usr/local/lib/python3.11/dist-packages (from requests<3,>=2.21.0->tensorboard<2.13,>=2.12->tensorflow==2.12) (3.10)\n",
            "Requirement already satisfied: urllib3<3,>=1.21.1 in /usr/local/lib/python3.11/dist-packages (from requests<3,>=2.21.0->tensorboard<2.13,>=2.12->tensorflow==2.12) (2.4.0)\n",
            "Requirement already satisfied: certifi>=2017.4.17 in /usr/local/lib/python3.11/dist-packages (from requests<3,>=2.21.0->tensorboard<2.13,>=2.12->tensorflow==2.12) (2025.4.26)\n",
            "Requirement already satisfied: MarkupSafe>=2.1.1 in /usr/local/lib/python3.11/dist-packages (from werkzeug>=1.0.1->tensorboard<2.13,>=2.12->tensorflow==2.12) (3.0.2)\n",
            "Requirement already satisfied: pyasn1<0.7.0,>=0.6.1 in /usr/local/lib/python3.11/dist-packages (from pyasn1-modules>=0.2.1->google-auth<3,>=1.6.3->tensorboard<2.13,>=2.12->tensorflow==2.12) (0.6.1)\n",
            "Requirement already satisfied: oauthlib>=3.0.0 in /usr/local/lib/python3.11/dist-packages (from requests-oauthlib>=0.7.0->google-auth-oauthlib<1.1,>=0.5->tensorboard<2.13,>=2.12->tensorflow==2.12) (3.2.2)\n"
          ]
        }
      ]
    },
    {
      "cell_type": "code",
      "source": [],
      "metadata": {
        "id": "Kym3W5vxck6G"
      },
      "execution_count": null,
      "outputs": []
    },
    {
      "cell_type": "code",
      "source": [
        "from __future__ import division\n",
        "\n",
        "from PIL import Image\n",
        "import numpy as np\n",
        "import gym\n",
        "\n",
        "from tensorflow.keras.models import Sequential\n",
        "from tensorflow.keras.layers import Dense, Activation, Flatten, Convolution2D, Permute, BatchNormalization\n",
        "#from tensorflow.keras.optimizers import Adam\n",
        "import tensorflow.keras.backend as K\n",
        "\n",
        "from rl.agents.dqn import DQNAgent\n",
        "from rl.policy import LinearAnnealedPolicy, BoltzmannQPolicy, EpsGreedyQPolicy\n",
        "from rl.memory import SequentialMemory\n",
        "from rl.core import Processor\n",
        "from rl.callbacks import FileLogger, ModelIntervalCheckpoint"
      ],
      "metadata": {
        "id": "KF9GHSpp-z0n"
      },
      "execution_count": 4,
      "outputs": []
    },
    {
      "cell_type": "code",
      "source": [
        "INPUT_SHAPE = (84, 84)\n",
        "WINDOW_LENGTH = 4\n",
        "\n",
        "env_name = 'SpaceInvaders-v0'\n",
        "env = gym.make(env_name)\n",
        "\n",
        "np.random.seed(123)\n",
        "env.seed(123)\n",
        "nb_actions = env.action_space.n\n",
        "\n",
        "#--- nuevo -- ejfm\n",
        "height, width, channels = env.observation_space.shape\n",
        "obs = env.reset()\n",
        "print(height, width, channels)\n",
        "print(\"Forma de la observación:\", obs.shape)  # Debe ser (height, width, channels)\n",
        "env.unwrapped.get_action_meanings()"
      ],
      "metadata": {
        "colab": {
          "base_uri": "https://localhost:8080/"
        },
        "id": "Q-V9OUO_XRgT",
        "outputId": "c12e5e0b-a84e-44ee-c421-fcfa511be7a6"
      },
      "execution_count": 5,
      "outputs": [
        {
          "output_type": "stream",
          "name": "stdout",
          "text": [
            "210 160 3\n",
            "Forma de la observación: (210, 160, 3)\n"
          ]
        },
        {
          "output_type": "execute_result",
          "data": {
            "text/plain": [
              "['NOOP', 'FIRE', 'RIGHT', 'LEFT', 'RIGHTFIRE', 'LEFTFIRE']"
            ]
          },
          "metadata": {},
          "execution_count": 5
        }
      ]
    },
    {
      "cell_type": "code",
      "source": [
        "class AtariProcessor(Processor):\n",
        "    def process_observation(self, observation):\n",
        "        assert observation.ndim == 3  # (height, width, channel)\n",
        "        img = Image.fromarray(observation)\n",
        "        img = img.resize(INPUT_SHAPE).convert('L')\n",
        "        processed_observation = np.array(img)\n",
        "        assert processed_observation.shape == INPUT_SHAPE\n",
        "        return processed_observation.astype('uint8')\n",
        "\n",
        "    def process_state_batch(self, batch):\n",
        "\n",
        "        # ejfm -- modificado\n",
        "        # Agrega la dimensión de canales (axis=-1) si no está presente\n",
        "        if batch.ndim == 4:                         # Forma: (batch_size, window_length, h, w)\n",
        "            batch = np.expand_dims(batch, axis=-1)  # Nueva forma: (batch_size, window_length, h, w, 1)\n",
        "            processed_batch = batch.astype('float32') / 255.\n",
        "        return processed_batch\n",
        "\n",
        "    def process_reward(self, reward):\n",
        "        return np.clip(reward, -1., 1.)"
      ],
      "metadata": {
        "id": "6Mcsz5KbXRdl"
      },
      "execution_count": 6,
      "outputs": []
    },
    {
      "cell_type": "markdown",
      "source": [
        "## 1. EJFM Implementación de la red neuronal"
      ],
      "metadata": {
        "id": "hXOzGSC6XcjO"
      }
    },
    {
      "cell_type": "code",
      "source": [
        "# Habilita estas opciones ANTES de crear el modelo\n",
        "import tensorflow as tf\n",
        "\n",
        "physical_devices = tf.config.list_physical_devices('GPU')\n",
        "if physical_devices:\n",
        "    tf.config.experimental.set_memory_growth(physical_devices[0], True)\n",
        "    tf.config.optimizer.set_jit(True)  # Habilita XLA para aceleración\n",
        "\n",
        "# Aceleración XLA (compilación optimizada)\n",
        "tf.config.optimizer.set_jit(True)"
      ],
      "metadata": {
        "id": "djdXwKekcq1G"
      },
      "execution_count": 7,
      "outputs": []
    },
    {
      "cell_type": "code",
      "source": [
        "def build_model(height, width, channels, actions):\n",
        "    model = Sequential()\n",
        "\n",
        "    model.add(Convolution2D(16, (3, 3), strides=2, padding='same', input_shape=(4,84,84,1)))\n",
        "    model.add(Activation('relu'))\n",
        "\n",
        "    model.add(Convolution2D(32, (3, 3), strides=2, padding='same'))\n",
        "    model.add(Activation('relu'))\n",
        "\n",
        "    model.add(Convolution2D(64, (3, 3), strides=2, padding='same'))\n",
        "    model.add(Activation('relu'))\n",
        "\n",
        "    model.add(Flatten())\n",
        "\n",
        "    model.add(Dense(516))\n",
        "    model.add(Activation('relu'))\n",
        "\n",
        "    # Capa de salida\n",
        "    model.add(Dense(actions, activation='linear'))\n",
        "\n",
        "    return model\n",
        "\n",
        "model = build_model(84, 84, 1, nb_actions)\n",
        "model.summary()\n"
      ],
      "metadata": {
        "colab": {
          "base_uri": "https://localhost:8080/"
        },
        "id": "AqkyU9asApI3",
        "outputId": "c0a4b1c4-8991-40d3-e774-a06a730fc8e9"
      },
      "execution_count": 8,
      "outputs": [
        {
          "output_type": "stream",
          "name": "stdout",
          "text": [
            "Model: \"sequential\"\n",
            "_________________________________________________________________\n",
            " Layer (type)                Output Shape              Param #   \n",
            "=================================================================\n",
            " conv2d (Conv2D)             (None, 4, 42, 42, 16)     160       \n",
            "                                                                 \n",
            " activation (Activation)     (None, 4, 42, 42, 16)     0         \n",
            "                                                                 \n",
            " conv2d_1 (Conv2D)           (None, 4, 21, 21, 32)     4640      \n",
            "                                                                 \n",
            " activation_1 (Activation)   (None, 4, 21, 21, 32)     0         \n",
            "                                                                 \n",
            " conv2d_2 (Conv2D)           (None, 4, 11, 11, 64)     18496     \n",
            "                                                                 \n",
            " activation_2 (Activation)   (None, 4, 11, 11, 64)     0         \n",
            "                                                                 \n",
            " flatten (Flatten)           (None, 30976)             0         \n",
            "                                                                 \n",
            " dense (Dense)               (None, 516)               15984132  \n",
            "                                                                 \n",
            " activation_3 (Activation)   (None, 516)               0         \n",
            "                                                                 \n",
            " dense_1 (Dense)             (None, 6)                 3102      \n",
            "                                                                 \n",
            "=================================================================\n",
            "Total params: 16,010,530\n",
            "Trainable params: 16,010,530\n",
            "Non-trainable params: 0\n",
            "_________________________________________________________________\n"
          ]
        }
      ]
    },
    {
      "cell_type": "markdown",
      "source": [
        "## 2. EJFM Implementación de la solución DQN"
      ],
      "metadata": {
        "id": "T5UDH1WDXrp_"
      }
    },
    {
      "cell_type": "code",
      "source": [
        "from rl.agents import DQNAgent\n",
        "from rl.memory import SequentialMemory\n",
        "from rl.policy import LinearAnnealedPolicy, EpsGreedyQPolicy\n",
        "from keras.optimizers import Adam\n",
        "\n",
        "def build_agent(model, actions):\n",
        "    policy = LinearAnnealedPolicy(\n",
        "        EpsGreedyQPolicy(),\n",
        "        attr='eps',\n",
        "        value_max=1.0,\n",
        "        value_min=0.2,\n",
        "        value_test=0.1,\n",
        "        nb_steps=200000)\n",
        "\n",
        "    memory = SequentialMemory(limit=200000, window_length=4)\n",
        "\n",
        "    dqn = DQNAgent(model=model,\n",
        "                   memory=memory,\n",
        "                   policy=policy,\n",
        "                   enable_double_dqn=True,\n",
        "                   enable_dueling_network=True,\n",
        "                   dueling_type='avg',\n",
        "                   nb_actions=nb_actions,\n",
        "                   batch_size=32,\n",
        "                   target_model_update=10000,\n",
        "                   processor=AtariProcessor(),\n",
        "                   nb_steps_warmup=20000\n",
        "                  )\n",
        "    return dqn\n",
        "\n",
        "dqn = build_agent(model, nb_actions)\n",
        "dqn.compile(Adam(learning_rate=0.0005, epsilon=1e-4))"
      ],
      "metadata": {
        "id": "SkpdX366XhF_"
      },
      "execution_count": 9,
      "outputs": []
    },
    {
      "cell_type": "code",
      "source": [
        "from rl.callbacks import ModelIntervalCheckpoint\n",
        "import os\n",
        "\n",
        "# Guardar el modelo cada 10,000 pasos\n",
        "checkpoint_callback = ModelIntervalCheckpoint(\n",
        "    filepath='checkpoints/dqn_v08_weights_{step}.h5f',\n",
        "    interval=10000,\n",
        "    verbose=1\n",
        ")\n",
        "\n",
        "os.makedirs(\"checkpoints\", exist_ok=True)"
      ],
      "metadata": {
        "id": "7S8IKCWMXhDH"
      },
      "execution_count": 10,
      "outputs": []
    },
    {
      "cell_type": "code",
      "source": [
        "from datetime import datetime\n",
        "\n",
        "print(f\"⏱ Tiempo de inicio: {datetime.now().strftime('%H:%M:%S')}\")\n",
        "\n",
        "dqn.fit(env, nb_steps=200000, visualize=False, verbose=2,callbacks=[checkpoint_callback])\n",
        "\n",
        "print(f\"⏱ Tiempo de fin: {datetime.now().strftime('%H:%M:%S')}\")\n",
        "\n",
        "# Guardando modelo\n",
        "dqn.save_weights('dqn_08_weights.h5f')"
      ],
      "metadata": {
        "colab": {
          "base_uri": "https://localhost:8080/"
        },
        "id": "wWjlymMSXhAe",
        "outputId": "1ef3f368-2167-4a21-8f6d-4d52a8549978"
      },
      "execution_count": null,
      "outputs": [
        {
          "output_type": "stream",
          "name": "stdout",
          "text": [
            "⏱ Tiempo de inicio: 14:34:34\n",
            "Training for 200000 steps ...\n"
          ]
        },
        {
          "output_type": "stream",
          "name": "stderr",
          "text": [
            "/usr/local/lib/python3.11/dist-packages/keras/engine/training_v1.py:2359: UserWarning: `Model.state_updates` will be removed in a future version. This property should not be used in TensorFlow 2.0, as `updates` are applied automatically.\n",
            "  updates=self.state_updates,\n"
          ]
        },
        {
          "output_type": "stream",
          "name": "stdout",
          "text": [
            "    553/200000: episode: 1, duration: 3.255s, episode steps: 553, steps per second: 170, episode reward:  6.000, mean reward:  0.011 [ 0.000,  1.000], mean action: 2.508 [0.000, 5.000],  loss: --, mean_q: --, mean_eps: --\n",
            "   1255/200000: episode: 2, duration: 3.921s, episode steps: 702, steps per second: 179, episode reward: 15.000, mean reward:  0.021 [ 0.000,  1.000], mean action: 2.389 [0.000, 5.000],  loss: --, mean_q: --, mean_eps: --\n",
            "   1877/200000: episode: 3, duration: 3.550s, episode steps: 622, steps per second: 175, episode reward:  6.000, mean reward:  0.010 [ 0.000,  1.000], mean action: 2.423 [0.000, 5.000],  loss: --, mean_q: --, mean_eps: --\n",
            "   2445/200000: episode: 4, duration: 3.159s, episode steps: 568, steps per second: 180, episode reward:  7.000, mean reward:  0.012 [ 0.000,  1.000], mean action: 2.366 [0.000, 5.000],  loss: --, mean_q: --, mean_eps: --\n",
            "   3032/200000: episode: 5, duration: 3.270s, episode steps: 587, steps per second: 179, episode reward:  1.000, mean reward:  0.002 [ 0.000,  1.000], mean action: 2.545 [0.000, 5.000],  loss: --, mean_q: --, mean_eps: --\n",
            "   3634/200000: episode: 6, duration: 3.417s, episode steps: 602, steps per second: 176, episode reward: 10.000, mean reward:  0.017 [ 0.000,  1.000], mean action: 2.457 [0.000, 5.000],  loss: --, mean_q: --, mean_eps: --\n",
            "   4294/200000: episode: 7, duration: 3.740s, episode steps: 660, steps per second: 176, episode reward: 10.000, mean reward:  0.015 [ 0.000,  1.000], mean action: 2.471 [0.000, 5.000],  loss: --, mean_q: --, mean_eps: --\n",
            "   5485/200000: episode: 8, duration: 6.591s, episode steps: 1191, steps per second: 181, episode reward: 14.000, mean reward:  0.012 [ 0.000,  1.000], mean action: 2.468 [0.000, 5.000],  loss: --, mean_q: --, mean_eps: --\n",
            "   6209/200000: episode: 9, duration: 4.172s, episode steps: 724, steps per second: 174, episode reward:  7.000, mean reward:  0.010 [ 0.000,  1.000], mean action: 2.525 [0.000, 5.000],  loss: --, mean_q: --, mean_eps: --\n",
            "   6694/200000: episode: 10, duration: 2.716s, episode steps: 485, steps per second: 179, episode reward:  4.000, mean reward:  0.008 [ 0.000,  1.000], mean action: 2.487 [0.000, 5.000],  loss: --, mean_q: --, mean_eps: --\n",
            "   7200/200000: episode: 11, duration: 2.843s, episode steps: 506, steps per second: 178, episode reward:  6.000, mean reward:  0.012 [ 0.000,  1.000], mean action: 2.429 [0.000, 5.000],  loss: --, mean_q: --, mean_eps: --\n",
            "   7967/200000: episode: 12, duration: 4.329s, episode steps: 767, steps per second: 177, episode reward:  7.000, mean reward:  0.009 [ 0.000,  1.000], mean action: 2.503 [0.000, 5.000],  loss: --, mean_q: --, mean_eps: --\n",
            "   9042/200000: episode: 13, duration: 6.066s, episode steps: 1075, steps per second: 177, episode reward: 20.000, mean reward:  0.019 [ 0.000,  1.000], mean action: 2.576 [0.000, 5.000],  loss: --, mean_q: --, mean_eps: --\n",
            "   9730/200000: episode: 14, duration: 3.826s, episode steps: 688, steps per second: 180, episode reward: 12.000, mean reward:  0.017 [ 0.000,  1.000], mean action: 2.458 [0.000, 5.000],  loss: --, mean_q: --, mean_eps: --\n",
            "Step 10000: saving model to checkpoints/dqn_v08_weights_10000.h5f\n",
            "  10541/200000: episode: 15, duration: 5.734s, episode steps: 811, steps per second: 141, episode reward: 12.000, mean reward:  0.015 [ 0.000,  1.000], mean action: 2.455 [0.000, 5.000],  loss: --, mean_q: --, mean_eps: --\n",
            "  11255/200000: episode: 16, duration: 3.963s, episode steps: 714, steps per second: 180, episode reward: 12.000, mean reward:  0.017 [ 0.000,  1.000], mean action: 2.455 [0.000, 5.000],  loss: --, mean_q: --, mean_eps: --\n",
            "  11753/200000: episode: 17, duration: 2.778s, episode steps: 498, steps per second: 179, episode reward:  5.000, mean reward:  0.010 [ 0.000,  1.000], mean action: 2.480 [0.000, 5.000],  loss: --, mean_q: --, mean_eps: --\n",
            "  12637/200000: episode: 18, duration: 5.091s, episode steps: 884, steps per second: 174, episode reward: 13.000, mean reward:  0.015 [ 0.000,  1.000], mean action: 2.568 [0.000, 5.000],  loss: --, mean_q: --, mean_eps: --\n",
            "  13256/200000: episode: 19, duration: 3.486s, episode steps: 619, steps per second: 178, episode reward: 11.000, mean reward:  0.018 [ 0.000,  1.000], mean action: 2.506 [0.000, 5.000],  loss: --, mean_q: --, mean_eps: --\n",
            "  13759/200000: episode: 20, duration: 2.805s, episode steps: 503, steps per second: 179, episode reward:  5.000, mean reward:  0.010 [ 0.000,  1.000], mean action: 2.636 [0.000, 5.000],  loss: --, mean_q: --, mean_eps: --\n",
            "  14324/200000: episode: 21, duration: 3.159s, episode steps: 565, steps per second: 179, episode reward:  8.000, mean reward:  0.014 [ 0.000,  1.000], mean action: 2.591 [0.000, 5.000],  loss: --, mean_q: --, mean_eps: --\n",
            "  15035/200000: episode: 22, duration: 4.045s, episode steps: 711, steps per second: 176, episode reward: 11.000, mean reward:  0.015 [ 0.000,  1.000], mean action: 2.475 [0.000, 5.000],  loss: --, mean_q: --, mean_eps: --\n",
            "  15721/200000: episode: 23, duration: 3.830s, episode steps: 686, steps per second: 179, episode reward:  8.000, mean reward:  0.012 [ 0.000,  1.000], mean action: 2.519 [0.000, 5.000],  loss: --, mean_q: --, mean_eps: --\n",
            "  16096/200000: episode: 24, duration: 2.090s, episode steps: 375, steps per second: 179, episode reward:  5.000, mean reward:  0.013 [ 0.000,  1.000], mean action: 2.560 [0.000, 5.000],  loss: --, mean_q: --, mean_eps: --\n",
            "  16557/200000: episode: 25, duration: 2.608s, episode steps: 461, steps per second: 177, episode reward:  8.000, mean reward:  0.017 [ 0.000,  1.000], mean action: 2.482 [0.000, 5.000],  loss: --, mean_q: --, mean_eps: --\n",
            "  16969/200000: episode: 26, duration: 2.396s, episode steps: 412, steps per second: 172, episode reward:  5.000, mean reward:  0.012 [ 0.000,  1.000], mean action: 2.529 [0.000, 5.000],  loss: --, mean_q: --, mean_eps: --\n",
            "  17365/200000: episode: 27, duration: 2.203s, episode steps: 396, steps per second: 180, episode reward:  3.000, mean reward:  0.008 [ 0.000,  1.000], mean action: 2.763 [0.000, 5.000],  loss: --, mean_q: --, mean_eps: --\n",
            "  18032/200000: episode: 28, duration: 3.713s, episode steps: 667, steps per second: 180, episode reward: 12.000, mean reward:  0.018 [ 0.000,  1.000], mean action: 2.582 [0.000, 5.000],  loss: --, mean_q: --, mean_eps: --\n",
            "  18536/200000: episode: 29, duration: 2.810s, episode steps: 504, steps per second: 179, episode reward:  4.000, mean reward:  0.008 [ 0.000,  1.000], mean action: 2.482 [0.000, 5.000],  loss: --, mean_q: --, mean_eps: --\n",
            "  19344/200000: episode: 30, duration: 4.621s, episode steps: 808, steps per second: 175, episode reward: 14.000, mean reward:  0.017 [ 0.000,  1.000], mean action: 2.446 [0.000, 5.000],  loss: --, mean_q: --, mean_eps: --\n",
            "Step 20000: saving model to checkpoints/dqn_v08_weights_20000.h5f\n"
          ]
        },
        {
          "output_type": "stream",
          "name": "stderr",
          "text": [
            "/usr/local/lib/python3.11/dist-packages/keras/engine/training_v1.py:2359: UserWarning: `Model.state_updates` will be removed in a future version. This property should not be used in TensorFlow 2.0, as `updates` are applied automatically.\n",
            "  updates=self.state_updates,\n"
          ]
        },
        {
          "output_type": "stream",
          "name": "stdout",
          "text": [
            "  20001/200000: episode: 31, duration: 5.316s, episode steps: 657, steps per second: 124, episode reward:  9.000, mean reward:  0.014 [ 0.000,  1.000], mean action: 2.458 [0.000, 5.000],  loss: --, mean_q: --, mean_eps: --\n",
            "  20624/200000: episode: 32, duration: 93.150s, episode steps: 623, steps per second:   7, episode reward:  6.000, mean reward:  0.010 [ 0.000,  1.000], mean action: 2.478 [0.000, 5.000],  loss: 0.006396, mean_q: 0.025591, mean_eps: 0.918752\n",
            "  21009/200000: episode: 33, duration: 57.350s, episode steps: 385, steps per second:   7, episode reward:  5.000, mean reward:  0.013 [ 0.000,  1.000], mean action: 2.551 [0.000, 5.000],  loss: 0.006563, mean_q: 0.029520, mean_eps: 0.916736\n",
            "  21537/200000: episode: 34, duration: 79.230s, episode steps: 528, steps per second:   7, episode reward:  8.000, mean reward:  0.015 [ 0.000,  1.000], mean action: 2.377 [0.000, 5.000],  loss: 0.006385, mean_q: 0.028865, mean_eps: 0.914910\n",
            "  22214/200000: episode: 35, duration: 101.327s, episode steps: 677, steps per second:   7, episode reward:  4.000, mean reward:  0.006 [ 0.000,  1.000], mean action: 2.530 [0.000, 5.000],  loss: 0.006520, mean_q: 0.028305, mean_eps: 0.912500\n",
            "  22771/200000: episode: 36, duration: 84.024s, episode steps: 557, steps per second:   7, episode reward:  8.000, mean reward:  0.014 [ 0.000,  1.000], mean action: 2.463 [0.000, 5.000],  loss: 0.006248, mean_q: 0.025452, mean_eps: 0.910032\n",
            "  23507/200000: episode: 37, duration: 110.455s, episode steps: 736, steps per second:   7, episode reward:  9.000, mean reward:  0.012 [ 0.000,  1.000], mean action: 2.490 [0.000, 5.000],  loss: 0.006370, mean_q: 0.028695, mean_eps: 0.907446\n",
            "  24076/200000: episode: 38, duration: 85.307s, episode steps: 569, steps per second:   7, episode reward:  5.000, mean reward:  0.009 [ 0.000,  1.000], mean action: 2.420 [0.000, 5.000],  loss: 0.006509, mean_q: 0.027727, mean_eps: 0.904836\n",
            "  24638/200000: episode: 39, duration: 84.102s, episode steps: 562, steps per second:   7, episode reward:  6.000, mean reward:  0.011 [ 0.000,  1.000], mean action: 2.665 [0.000, 5.000],  loss: 0.006402, mean_q: 0.026951, mean_eps: 0.902574\n",
            "  25433/200000: episode: 40, duration: 119.071s, episode steps: 795, steps per second:   7, episode reward: 12.000, mean reward:  0.015 [ 0.000,  1.000], mean action: 2.425 [0.000, 5.000],  loss: 0.006235, mean_q: 0.028356, mean_eps: 0.899860\n",
            "  25830/200000: episode: 41, duration: 59.331s, episode steps: 397, steps per second:   7, episode reward:  6.000, mean reward:  0.015 [ 0.000,  1.000], mean action: 2.436 [0.000, 5.000],  loss: 0.006807, mean_q: 0.025868, mean_eps: 0.897476\n",
            "  26334/200000: episode: 42, duration: 75.516s, episode steps: 504, steps per second:   7, episode reward:  5.000, mean reward:  0.010 [ 0.000,  1.000], mean action: 2.438 [0.000, 5.000],  loss: 0.006175, mean_q: 0.026484, mean_eps: 0.895674\n",
            "  27505/200000: episode: 43, duration: 175.355s, episode steps: 1171, steps per second:   7, episode reward: 18.000, mean reward:  0.015 [ 0.000,  1.000], mean action: 2.463 [0.000, 5.000],  loss: 0.006410, mean_q: 0.026012, mean_eps: 0.892324\n",
            "  28577/200000: episode: 44, duration: 160.344s, episode steps: 1072, steps per second:   7, episode reward: 19.000, mean reward:  0.018 [ 0.000,  1.000], mean action: 2.579 [0.000, 5.000],  loss: 0.006460, mean_q: 0.030546, mean_eps: 0.887838\n",
            "  29813/200000: episode: 45, duration: 185.464s, episode steps: 1236, steps per second:   7, episode reward: 18.000, mean reward:  0.015 [ 0.000,  1.000], mean action: 2.545 [0.000, 5.000],  loss: 0.006290, mean_q: 0.028774, mean_eps: 0.883222\n",
            "Step 30000: saving model to checkpoints/dqn_v08_weights_30000.h5f\n",
            "  30526/200000: episode: 46, duration: 107.356s, episode steps: 713, steps per second:   7, episode reward: 11.000, mean reward:  0.015 [ 0.000,  1.000], mean action: 2.536 [0.000, 5.000],  loss: 0.006989, mean_q: 0.056198, mean_eps: 0.879324\n",
            "  31082/200000: episode: 47, duration: 83.981s, episode steps: 556, steps per second:   7, episode reward:  4.000, mean reward:  0.007 [ 0.000,  1.000], mean action: 2.475 [0.000, 5.000],  loss: 0.007451, mean_q: 0.067750, mean_eps: 0.876786\n",
            "  31745/200000: episode: 48, duration: 99.634s, episode steps: 663, steps per second:   7, episode reward: 11.000, mean reward:  0.017 [ 0.000,  1.000], mean action: 2.469 [0.000, 5.000],  loss: 0.006965, mean_q: 0.064316, mean_eps: 0.874348\n",
            "  32507/200000: episode: 49, duration: 114.333s, episode steps: 762, steps per second:   7, episode reward: 11.000, mean reward:  0.014 [ 0.000,  1.000], mean action: 2.399 [0.000, 5.000],  loss: 0.006356, mean_q: 0.061817, mean_eps: 0.871498\n",
            "  33342/200000: episode: 50, duration: 125.682s, episode steps: 835, steps per second:   7, episode reward: 12.000, mean reward:  0.014 [ 0.000,  1.000], mean action: 2.350 [0.000, 5.000],  loss: 0.006192, mean_q: 0.063153, mean_eps: 0.868304\n",
            "  33834/200000: episode: 51, duration: 73.803s, episode steps: 492, steps per second:   7, episode reward:  5.000, mean reward:  0.010 [ 0.000,  1.000], mean action: 2.518 [0.000, 5.000],  loss: 0.006843, mean_q: 0.064608, mean_eps: 0.865650\n",
            "  34415/200000: episode: 52, duration: 87.227s, episode steps: 581, steps per second:   7, episode reward:  7.000, mean reward:  0.012 [ 0.000,  1.000], mean action: 2.460 [0.000, 5.000],  loss: 0.006248, mean_q: 0.062864, mean_eps: 0.863504\n",
            "  35061/200000: episode: 53, duration: 97.556s, episode steps: 646, steps per second:   7, episode reward:  5.000, mean reward:  0.008 [ 0.000,  1.000], mean action: 2.446 [0.000, 5.000],  loss: 0.006019, mean_q: 0.060919, mean_eps: 0.861050\n",
            "  35642/200000: episode: 54, duration: 87.204s, episode steps: 581, steps per second:   7, episode reward: 13.000, mean reward:  0.022 [ 0.000,  1.000], mean action: 2.508 [0.000, 5.000],  loss: 0.006218, mean_q: 0.061207, mean_eps: 0.858596\n",
            "  36126/200000: episode: 55, duration: 72.467s, episode steps: 484, steps per second:   7, episode reward:  6.000, mean reward:  0.012 [ 0.000,  1.000], mean action: 2.459 [0.000, 5.000],  loss: 0.005973, mean_q: 0.062975, mean_eps: 0.856466\n",
            "  36743/200000: episode: 56, duration: 92.365s, episode steps: 617, steps per second:   7, episode reward:  4.000, mean reward:  0.006 [ 0.000,  1.000], mean action: 2.545 [0.000, 5.000],  loss: 0.006064, mean_q: 0.064045, mean_eps: 0.854264\n",
            "  37871/200000: episode: 57, duration: 168.931s, episode steps: 1128, steps per second:   7, episode reward: 19.000, mean reward:  0.017 [ 0.000,  1.000], mean action: 2.408 [0.000, 5.000],  loss: 0.006591, mean_q: 0.069068, mean_eps: 0.850774\n",
            "  38616/200000: episode: 58, duration: 111.595s, episode steps: 745, steps per second:   7, episode reward:  7.000, mean reward:  0.009 [ 0.000,  1.000], mean action: 2.553 [0.000, 5.000],  loss: 0.005758, mean_q: 0.067125, mean_eps: 0.847028\n",
            "  39355/200000: episode: 59, duration: 110.667s, episode steps: 739, steps per second:   7, episode reward: 10.000, mean reward:  0.014 [ 0.000,  1.000], mean action: 2.645 [0.000, 5.000],  loss: 0.005645, mean_q: 0.067107, mean_eps: 0.844060\n",
            "Step 40000: saving model to checkpoints/dqn_v08_weights_40000.h5f\n",
            "  40565/200000: episode: 60, duration: 181.608s, episode steps: 1210, steps per second:   7, episode reward: 23.000, mean reward:  0.019 [ 0.000,  1.000], mean action: 2.527 [0.000, 5.000],  loss: 0.005978, mean_q: 0.080518, mean_eps: 0.840162\n",
            "  41504/200000: episode: 61, duration: 141.091s, episode steps: 939, steps per second:   7, episode reward: 12.000, mean reward:  0.013 [ 0.000,  1.000], mean action: 2.523 [0.000, 5.000],  loss: 0.006217, mean_q: 0.095531, mean_eps: 0.835864\n",
            "  42020/200000: episode: 62, duration: 77.675s, episode steps: 516, steps per second:   7, episode reward:  4.000, mean reward:  0.008 [ 0.000,  1.000], mean action: 2.463 [0.000, 5.000],  loss: 0.005711, mean_q: 0.093595, mean_eps: 0.832954\n",
            "  42999/200000: episode: 63, duration: 146.686s, episode steps: 979, steps per second:   7, episode reward: 12.000, mean reward:  0.012 [ 0.000,  1.000], mean action: 2.523 [0.000, 5.000],  loss: 0.005649, mean_q: 0.092032, mean_eps: 0.829964\n",
            "  43788/200000: episode: 64, duration: 118.432s, episode steps: 789, steps per second:   7, episode reward: 13.000, mean reward:  0.016 [ 0.000,  1.000], mean action: 2.549 [0.000, 5.000],  loss: 0.005835, mean_q: 0.094722, mean_eps: 0.826428\n",
            "  44306/200000: episode: 65, duration: 77.637s, episode steps: 518, steps per second:   7, episode reward:  7.000, mean reward:  0.014 [ 0.000,  1.000], mean action: 2.486 [0.000, 5.000],  loss: 0.005800, mean_q: 0.097699, mean_eps: 0.823814\n",
            "  45053/200000: episode: 66, duration: 112.120s, episode steps: 747, steps per second:   7, episode reward: 19.000, mean reward:  0.025 [ 0.000,  1.000], mean action: 2.426 [0.000, 5.000],  loss: 0.005273, mean_q: 0.094643, mean_eps: 0.821284\n",
            "  45716/200000: episode: 67, duration: 99.634s, episode steps: 663, steps per second:   7, episode reward:  6.000, mean reward:  0.009 [ 0.000,  1.000], mean action: 2.561 [0.000, 5.000],  loss: 0.004526, mean_q: 0.089573, mean_eps: 0.818464\n",
            "  46871/200000: episode: 68, duration: 173.067s, episode steps: 1155, steps per second:   7, episode reward: 19.000, mean reward:  0.016 [ 0.000,  1.000], mean action: 2.459 [0.000, 5.000],  loss: 0.005076, mean_q: 0.097242, mean_eps: 0.814828\n",
            "  47565/200000: episode: 69, duration: 104.152s, episode steps: 694, steps per second:   7, episode reward:  7.000, mean reward:  0.010 [ 0.000,  1.000], mean action: 2.540 [0.000, 5.000],  loss: 0.004801, mean_q: 0.093525, mean_eps: 0.811130\n",
            "  48299/200000: episode: 70, duration: 110.417s, episode steps: 734, steps per second:   7, episode reward:  9.000, mean reward:  0.012 [ 0.000,  1.000], mean action: 2.455 [0.000, 5.000],  loss: 0.004767, mean_q: 0.093462, mean_eps: 0.808274\n",
            "  49139/200000: episode: 71, duration: 126.093s, episode steps: 840, steps per second:   7, episode reward: 14.000, mean reward:  0.017 [ 0.000,  1.000], mean action: 2.498 [0.000, 5.000],  loss: 0.004547, mean_q: 0.096801, mean_eps: 0.805126\n",
            "  49739/200000: episode: 72, duration: 90.270s, episode steps: 600, steps per second:   7, episode reward:  7.000, mean reward:  0.012 [ 0.000,  1.000], mean action: 2.525 [0.000, 5.000],  loss: 0.005012, mean_q: 0.098787, mean_eps: 0.802246\n",
            "Step 50000: saving model to checkpoints/dqn_v08_weights_50000.h5f\n",
            "  50373/200000: episode: 73, duration: 95.670s, episode steps: 634, steps per second:   7, episode reward:  8.000, mean reward:  0.013 [ 0.000,  1.000], mean action: 2.691 [0.000, 5.000],  loss: 0.006033, mean_q: 0.126827, mean_eps: 0.799778\n",
            "  50767/200000: episode: 74, duration: 59.213s, episode steps: 394, steps per second:   7, episode reward:  6.000, mean reward:  0.015 [ 0.000,  1.000], mean action: 2.510 [0.000, 5.000],  loss: 0.006196, mean_q: 0.139208, mean_eps: 0.797722\n",
            "  51354/200000: episode: 75, duration: 88.659s, episode steps: 587, steps per second:   7, episode reward:  9.000, mean reward:  0.015 [ 0.000,  1.000], mean action: 2.538 [0.000, 5.000],  loss: 0.005768, mean_q: 0.135148, mean_eps: 0.795760\n",
            "  51903/200000: episode: 76, duration: 82.641s, episode steps: 549, steps per second:   7, episode reward: 11.000, mean reward:  0.020 [ 0.000,  1.000], mean action: 2.494 [0.000, 5.000],  loss: 0.005261, mean_q: 0.132907, mean_eps: 0.793488\n",
            "  53088/200000: episode: 77, duration: 178.519s, episode steps: 1185, steps per second:   7, episode reward: 15.000, mean reward:  0.013 [ 0.000,  1.000], mean action: 2.458 [0.000, 5.000],  loss: 0.005100, mean_q: 0.137687, mean_eps: 0.790020\n",
            "  53653/200000: episode: 78, duration: 85.164s, episode steps: 565, steps per second:   7, episode reward:  9.000, mean reward:  0.016 [ 0.000,  1.000], mean action: 2.412 [0.000, 5.000],  loss: 0.004824, mean_q: 0.131874, mean_eps: 0.786520\n",
            "  54475/200000: episode: 79, duration: 123.770s, episode steps: 822, steps per second:   7, episode reward: 13.000, mean reward:  0.016 [ 0.000,  1.000], mean action: 2.504 [0.000, 5.000],  loss: 0.004408, mean_q: 0.132349, mean_eps: 0.783746\n",
            "  55623/200000: episode: 80, duration: 173.553s, episode steps: 1148, steps per second:   7, episode reward: 20.000, mean reward:  0.017 [ 0.000,  1.000], mean action: 2.506 [0.000, 5.000],  loss: 0.004300, mean_q: 0.128998, mean_eps: 0.779806\n",
            "  56179/200000: episode: 81, duration: 84.887s, episode steps: 556, steps per second:   7, episode reward: 10.000, mean reward:  0.018 [ 0.000,  1.000], mean action: 2.295 [0.000, 5.000],  loss: 0.004277, mean_q: 0.129860, mean_eps: 0.776398\n",
            "  57145/200000: episode: 82, duration: 146.115s, episode steps: 966, steps per second:   7, episode reward: 14.000, mean reward:  0.014 [ 0.000,  1.000], mean action: 2.548 [0.000, 5.000],  loss: 0.003976, mean_q: 0.126427, mean_eps: 0.773354\n",
            "  57825/200000: episode: 83, duration: 102.939s, episode steps: 680, steps per second:   7, episode reward: 11.000, mean reward:  0.016 [ 0.000,  1.000], mean action: 2.526 [0.000, 5.000],  loss: 0.003993, mean_q: 0.129009, mean_eps: 0.770062\n",
            "  58265/200000: episode: 84, duration: 66.750s, episode steps: 440, steps per second:   7, episode reward:  4.000, mean reward:  0.009 [ 0.000,  1.000], mean action: 2.395 [0.000, 5.000],  loss: 0.003526, mean_q: 0.122612, mean_eps: 0.767822\n",
            "  58807/200000: episode: 85, duration: 81.691s, episode steps: 542, steps per second:   7, episode reward:  6.000, mean reward:  0.011 [ 0.000,  1.000], mean action: 2.423 [0.000, 5.000],  loss: 0.003105, mean_q: 0.123585, mean_eps: 0.765858\n",
            "  59574/200000: episode: 86, duration: 115.666s, episode steps: 767, steps per second:   7, episode reward:  9.000, mean reward:  0.012 [ 0.000,  1.000], mean action: 2.548 [0.000, 5.000],  loss: 0.003999, mean_q: 0.127759, mean_eps: 0.763240\n",
            "Step 60000: saving model to checkpoints/dqn_v08_weights_60000.h5f\n",
            "  60361/200000: episode: 87, duration: 118.629s, episode steps: 787, steps per second:   7, episode reward:  9.000, mean reward:  0.011 [ 0.000,  1.000], mean action: 2.600 [0.000, 5.000],  loss: 0.005240, mean_q: 0.155655, mean_eps: 0.760132\n",
            "  61024/200000: episode: 88, duration: 99.785s, episode steps: 663, steps per second:   7, episode reward: 11.000, mean reward:  0.017 [ 0.000,  1.000], mean action: 2.496 [0.000, 5.000],  loss: 0.007052, mean_q: 0.182535, mean_eps: 0.757232\n",
            "  61978/200000: episode: 89, duration: 143.497s, episode steps: 954, steps per second:   7, episode reward: 12.000, mean reward:  0.013 [ 0.000,  1.000], mean action: 2.491 [0.000, 5.000],  loss: 0.005970, mean_q: 0.180867, mean_eps: 0.753998\n",
            "  63007/200000: episode: 90, duration: 154.993s, episode steps: 1029, steps per second:   7, episode reward: 13.000, mean reward:  0.013 [ 0.000,  1.000], mean action: 2.406 [0.000, 5.000],  loss: 0.005068, mean_q: 0.180469, mean_eps: 0.750032\n",
            "  63937/200000: episode: 91, duration: 140.079s, episode steps: 930, steps per second:   7, episode reward: 18.000, mean reward:  0.019 [ 0.000,  1.000], mean action: 2.440 [0.000, 5.000],  loss: 0.004724, mean_q: 0.178999, mean_eps: 0.746114\n",
            "  64458/200000: episode: 92, duration: 78.503s, episode steps: 521, steps per second:   7, episode reward:  5.000, mean reward:  0.010 [ 0.000,  1.000], mean action: 2.388 [0.000, 5.000],  loss: 0.004697, mean_q: 0.176246, mean_eps: 0.743212\n",
            "  65024/200000: episode: 93, duration: 85.319s, episode steps: 566, steps per second:   7, episode reward: 11.000, mean reward:  0.019 [ 0.000,  1.000], mean action: 2.560 [0.000, 5.000],  loss: 0.004454, mean_q: 0.176573, mean_eps: 0.741038\n",
            "  65616/200000: episode: 94, duration: 89.446s, episode steps: 592, steps per second:   7, episode reward:  9.000, mean reward:  0.015 [ 0.000,  1.000], mean action: 2.588 [0.000, 5.000],  loss: 0.004279, mean_q: 0.171854, mean_eps: 0.738722\n",
            "  65998/200000: episode: 95, duration: 57.747s, episode steps: 382, steps per second:   7, episode reward:  6.000, mean reward:  0.016 [ 0.000,  1.000], mean action: 2.298 [0.000, 5.000],  loss: 0.003859, mean_q: 0.168475, mean_eps: 0.736774\n",
            "  66641/200000: episode: 96, duration: 97.928s, episode steps: 643, steps per second:   7, episode reward:  8.000, mean reward:  0.012 [ 0.000,  1.000], mean action: 2.429 [0.000, 5.000],  loss: 0.004247, mean_q: 0.169174, mean_eps: 0.734724\n",
            "  67248/200000: episode: 97, duration: 92.354s, episode steps: 607, steps per second:   7, episode reward:  7.000, mean reward:  0.012 [ 0.000,  1.000], mean action: 2.514 [0.000, 5.000],  loss: 0.003977, mean_q: 0.171852, mean_eps: 0.732224\n",
            "  67940/200000: episode: 98, duration: 105.508s, episode steps: 692, steps per second:   7, episode reward: 10.000, mean reward:  0.014 [ 0.000,  1.000], mean action: 2.247 [0.000, 5.000],  loss: 0.003688, mean_q: 0.169892, mean_eps: 0.729626\n",
            "  68406/200000: episode: 99, duration: 71.111s, episode steps: 466, steps per second:   7, episode reward:  5.000, mean reward:  0.011 [ 0.000,  1.000], mean action: 2.446 [0.000, 5.000],  loss: 0.003661, mean_q: 0.167732, mean_eps: 0.727310\n",
            "  68888/200000: episode: 100, duration: 73.482s, episode steps: 482, steps per second:   7, episode reward:  3.000, mean reward:  0.006 [ 0.000,  1.000], mean action: 2.239 [0.000, 5.000],  loss: 0.003798, mean_q: 0.174445, mean_eps: 0.725414\n",
            "  69669/200000: episode: 101, duration: 118.753s, episode steps: 781, steps per second:   7, episode reward:  9.000, mean reward:  0.012 [ 0.000,  1.000], mean action: 2.565 [0.000, 5.000],  loss: 0.003378, mean_q: 0.169464, mean_eps: 0.722888\n",
            "Step 70000: saving model to checkpoints/dqn_v08_weights_70000.h5f\n",
            "  70338/200000: episode: 102, duration: 101.144s, episode steps: 669, steps per second:   7, episode reward: 10.000, mean reward:  0.015 [ 0.000,  1.000], mean action: 2.776 [0.000, 5.000],  loss: 0.005046, mean_q: 0.188963, mean_eps: 0.719988\n",
            "  70980/200000: episode: 103, duration: 96.617s, episode steps: 642, steps per second:   7, episode reward:  6.000, mean reward:  0.009 [ 0.000,  1.000], mean action: 2.508 [0.000, 5.000],  loss: 0.006220, mean_q: 0.204705, mean_eps: 0.717366\n",
            "  71615/200000: episode: 104, duration: 95.979s, episode steps: 635, steps per second:   7, episode reward:  6.000, mean reward:  0.009 [ 0.000,  1.000], mean action: 2.430 [0.000, 5.000],  loss: 0.005664, mean_q: 0.202508, mean_eps: 0.714812\n",
            "  72298/200000: episode: 105, duration: 103.011s, episode steps: 683, steps per second:   7, episode reward:  9.000, mean reward:  0.013 [ 0.000,  1.000], mean action: 2.594 [0.000, 5.000],  loss: 0.004901, mean_q: 0.200279, mean_eps: 0.712176\n",
            "  72798/200000: episode: 106, duration: 75.414s, episode steps: 500, steps per second:   7, episode reward:  4.000, mean reward:  0.008 [ 0.000,  1.000], mean action: 2.592 [0.000, 5.000],  loss: 0.004774, mean_q: 0.199367, mean_eps: 0.709810\n",
            "  73248/200000: episode: 107, duration: 67.812s, episode steps: 450, steps per second:   7, episode reward: 11.000, mean reward:  0.024 [ 0.000,  1.000], mean action: 2.440 [0.000, 5.000],  loss: 0.004365, mean_q: 0.200600, mean_eps: 0.707910\n",
            "  73766/200000: episode: 108, duration: 77.991s, episode steps: 518, steps per second:   7, episode reward:  8.000, mean reward:  0.015 [ 0.000,  1.000], mean action: 2.569 [0.000, 5.000],  loss: 0.004127, mean_q: 0.194847, mean_eps: 0.705974\n",
            "  74764/200000: episode: 109, duration: 150.710s, episode steps: 998, steps per second:   7, episode reward: 19.000, mean reward:  0.019 [ 0.000,  1.000], mean action: 2.502 [0.000, 5.000],  loss: 0.004204, mean_q: 0.197936, mean_eps: 0.702942\n",
            "  75434/200000: episode: 110, duration: 101.037s, episode steps: 670, steps per second:   7, episode reward:  8.000, mean reward:  0.012 [ 0.000,  1.000], mean action: 2.331 [0.000, 5.000],  loss: 0.003682, mean_q: 0.194404, mean_eps: 0.699606\n",
            "  76107/200000: episode: 111, duration: 101.616s, episode steps: 673, steps per second:   7, episode reward: 14.000, mean reward:  0.021 [ 0.000,  1.000], mean action: 2.397 [0.000, 5.000],  loss: 0.003484, mean_q: 0.195908, mean_eps: 0.696920\n",
            "  77006/200000: episode: 112, duration: 135.509s, episode steps: 899, steps per second:   7, episode reward: 10.000, mean reward:  0.011 [ 0.000,  1.000], mean action: 2.467 [0.000, 5.000],  loss: 0.003563, mean_q: 0.192991, mean_eps: 0.693776\n",
            "  77919/200000: episode: 113, duration: 137.540s, episode steps: 913, steps per second:   7, episode reward: 17.000, mean reward:  0.019 [ 0.000,  1.000], mean action: 2.494 [0.000, 5.000],  loss: 0.003443, mean_q: 0.192363, mean_eps: 0.690152\n",
            "  78954/200000: episode: 114, duration: 156.096s, episode steps: 1035, steps per second:   7, episode reward: 18.000, mean reward:  0.017 [ 0.000,  1.000], mean action: 2.493 [0.000, 5.000],  loss: 0.003597, mean_q: 0.196712, mean_eps: 0.686256\n",
            "  79475/200000: episode: 115, duration: 79.368s, episode steps: 521, steps per second:   7, episode reward:  5.000, mean reward:  0.010 [ 0.000,  1.000], mean action: 2.591 [0.000, 5.000],  loss: 0.003240, mean_q: 0.194086, mean_eps: 0.683144\n",
            "Step 80000: saving model to checkpoints/dqn_v08_weights_80000.h5f\n",
            "  80225/200000: episode: 116, duration: 113.959s, episode steps: 750, steps per second:   7, episode reward:  7.000, mean reward:  0.009 [ 0.000,  1.000], mean action: 2.652 [0.000, 5.000],  loss: 0.004482, mean_q: 0.205144, mean_eps: 0.680602\n",
            "  80714/200000: episode: 117, duration: 73.946s, episode steps: 489, steps per second:   7, episode reward:  1.000, mean reward:  0.002 [ 0.000,  1.000], mean action: 2.380 [0.000, 5.000],  loss: 0.006898, mean_q: 0.243587, mean_eps: 0.678124\n",
            "  81186/200000: episode: 118, duration: 71.475s, episode steps: 472, steps per second:   7, episode reward:  7.000, mean reward:  0.015 [ 0.000,  1.000], mean action: 2.439 [0.000, 5.000],  loss: 0.005789, mean_q: 0.234469, mean_eps: 0.676202\n",
            "  81910/200000: episode: 119, duration: 109.405s, episode steps: 724, steps per second:   7, episode reward:  8.000, mean reward:  0.011 [ 0.000,  1.000], mean action: 2.395 [0.000, 5.000],  loss: 0.005420, mean_q: 0.229515, mean_eps: 0.673810\n",
            "  83254/200000: episode: 120, duration: 202.805s, episode steps: 1344, steps per second:   7, episode reward: 17.000, mean reward:  0.013 [ 0.000,  1.000], mean action: 2.449 [0.000, 5.000],  loss: 0.005163, mean_q: 0.235291, mean_eps: 0.669674\n",
            "  83743/200000: episode: 121, duration: 74.101s, episode steps: 489, steps per second:   7, episode reward:  9.000, mean reward:  0.018 [ 0.000,  1.000], mean action: 2.419 [0.000, 5.000],  loss: 0.004683, mean_q: 0.233340, mean_eps: 0.666008\n",
            "  84296/200000: episode: 122, duration: 84.275s, episode steps: 553, steps per second:   7, episode reward:  7.000, mean reward:  0.013 [ 0.000,  1.000], mean action: 2.398 [0.000, 5.000],  loss: 0.004669, mean_q: 0.237018, mean_eps: 0.663924\n",
            "  85080/200000: episode: 123, duration: 120.390s, episode steps: 784, steps per second:   7, episode reward: 12.000, mean reward:  0.015 [ 0.000,  1.000], mean action: 2.469 [0.000, 5.000],  loss: 0.004459, mean_q: 0.233820, mean_eps: 0.661250\n",
            "  85604/200000: episode: 124, duration: 80.576s, episode steps: 524, steps per second:   7, episode reward:  7.000, mean reward:  0.013 [ 0.000,  1.000], mean action: 2.647 [0.000, 5.000],  loss: 0.004195, mean_q: 0.232136, mean_eps: 0.658634\n",
            "  86141/200000: episode: 125, duration: 82.207s, episode steps: 537, steps per second:   7, episode reward: 11.000, mean reward:  0.020 [ 0.000,  1.000], mean action: 2.464 [0.000, 5.000],  loss: 0.004044, mean_q: 0.233445, mean_eps: 0.656512\n",
            "  86832/200000: episode: 126, duration: 106.401s, episode steps: 691, steps per second:   6, episode reward: 11.000, mean reward:  0.016 [ 0.000,  1.000], mean action: 2.331 [0.000, 5.000],  loss: 0.003991, mean_q: 0.233002, mean_eps: 0.654056\n",
            "  87571/200000: episode: 127, duration: 113.508s, episode steps: 739, steps per second:   7, episode reward: 13.000, mean reward:  0.018 [ 0.000,  1.000], mean action: 2.379 [0.000, 5.000],  loss: 0.003594, mean_q: 0.226889, mean_eps: 0.651196\n",
            "  88573/200000: episode: 128, duration: 153.724s, episode steps: 1002, steps per second:   7, episode reward: 24.000, mean reward:  0.024 [ 0.000,  1.000], mean action: 2.572 [0.000, 5.000],  loss: 0.003747, mean_q: 0.227128, mean_eps: 0.647714\n",
            "  89199/200000: episode: 129, duration: 96.273s, episode steps: 626, steps per second:   7, episode reward:  8.000, mean reward:  0.013 [ 0.000,  1.000], mean action: 2.518 [0.000, 5.000],  loss: 0.003695, mean_q: 0.228541, mean_eps: 0.644458\n",
            "  89696/200000: episode: 130, duration: 76.327s, episode steps: 497, steps per second:   7, episode reward:  7.000, mean reward:  0.014 [ 0.000,  1.000], mean action: 2.549 [0.000, 5.000],  loss: 0.003804, mean_q: 0.225489, mean_eps: 0.642212\n",
            "Step 90000: saving model to checkpoints/dqn_v08_weights_90000.h5f\n",
            "  90301/200000: episode: 131, duration: 92.886s, episode steps: 605, steps per second:   7, episode reward:  7.000, mean reward:  0.012 [ 0.000,  1.000], mean action: 2.516 [0.000, 5.000],  loss: 0.006400, mean_q: 0.254503, mean_eps: 0.640008\n",
            "  91366/200000: episode: 132, duration: 163.055s, episode steps: 1065, steps per second:   7, episode reward: 18.000, mean reward:  0.017 [ 0.000,  1.000], mean action: 2.650 [0.000, 5.000],  loss: 0.007607, mean_q: 0.275322, mean_eps: 0.636668\n",
            "  91732/200000: episode: 133, duration: 56.009s, episode steps: 366, steps per second:   7, episode reward:  5.000, mean reward:  0.014 [ 0.000,  1.000], mean action: 2.339 [0.000, 5.000],  loss: 0.006321, mean_q: 0.273580, mean_eps: 0.633806\n",
            "  92711/200000: episode: 134, duration: 149.783s, episode steps: 979, steps per second:   7, episode reward: 17.000, mean reward:  0.017 [ 0.000,  1.000], mean action: 2.564 [0.000, 5.000],  loss: 0.005496, mean_q: 0.275188, mean_eps: 0.631116\n",
            "  93095/200000: episode: 135, duration: 58.667s, episode steps: 384, steps per second:   7, episode reward:  7.000, mean reward:  0.018 [ 0.000,  1.000], mean action: 2.508 [0.000, 5.000],  loss: 0.005149, mean_q: 0.271288, mean_eps: 0.628390\n",
            "  93598/200000: episode: 136, duration: 75.851s, episode steps: 503, steps per second:   7, episode reward:  2.000, mean reward:  0.004 [ 0.000,  1.000], mean action: 2.793 [0.000, 5.000],  loss: 0.005191, mean_q: 0.272109, mean_eps: 0.626616\n",
            "  94157/200000: episode: 137, duration: 84.613s, episode steps: 559, steps per second:   7, episode reward:  8.000, mean reward:  0.014 [ 0.000,  1.000], mean action: 2.442 [0.000, 5.000],  loss: 0.005265, mean_q: 0.276409, mean_eps: 0.624492\n",
            "  94663/200000: episode: 138, duration: 76.822s, episode steps: 506, steps per second:   7, episode reward:  8.000, mean reward:  0.016 [ 0.000,  1.000], mean action: 2.508 [0.000, 5.000],  loss: 0.004632, mean_q: 0.268485, mean_eps: 0.622362\n",
            "  95702/200000: episode: 139, duration: 157.383s, episode steps: 1039, steps per second:   7, episode reward: 14.000, mean reward:  0.013 [ 0.000,  1.000], mean action: 2.508 [0.000, 5.000],  loss: 0.004800, mean_q: 0.270844, mean_eps: 0.619272\n",
            "  96235/200000: episode: 140, duration: 80.862s, episode steps: 533, steps per second:   7, episode reward:  9.000, mean reward:  0.017 [ 0.000,  1.000], mean action: 2.630 [0.000, 5.000],  loss: 0.004501, mean_q: 0.266107, mean_eps: 0.616128\n",
            "  96776/200000: episode: 141, duration: 82.238s, episode steps: 541, steps per second:   7, episode reward:  4.000, mean reward:  0.007 [ 0.000,  1.000], mean action: 2.669 [0.000, 5.000],  loss: 0.004596, mean_q: 0.270277, mean_eps: 0.613980\n",
            "  97521/200000: episode: 142, duration: 113.228s, episode steps: 745, steps per second:   7, episode reward:  8.000, mean reward:  0.011 [ 0.000,  1.000], mean action: 2.686 [0.000, 5.000],  loss: 0.004570, mean_q: 0.266747, mean_eps: 0.611408\n",
            "  98088/200000: episode: 143, duration: 86.207s, episode steps: 567, steps per second:   7, episode reward: 11.000, mean reward:  0.019 [ 0.000,  1.000], mean action: 2.441 [0.000, 5.000],  loss: 0.004349, mean_q: 0.271593, mean_eps: 0.608784\n",
            "  98714/200000: episode: 144, duration: 95.182s, episode steps: 626, steps per second:   7, episode reward:  8.000, mean reward:  0.013 [ 0.000,  1.000], mean action: 2.495 [0.000, 5.000],  loss: 0.004226, mean_q: 0.268711, mean_eps: 0.606398\n",
            "  99379/200000: episode: 145, duration: 101.128s, episode steps: 665, steps per second:   7, episode reward: 12.000, mean reward:  0.018 [ 0.000,  1.000], mean action: 2.552 [0.000, 5.000],  loss: 0.004189, mean_q: 0.267741, mean_eps: 0.603816\n",
            "Step 100000: saving model to checkpoints/dqn_v08_weights_100000.h5f\n",
            " 100010/200000: episode: 146, duration: 96.327s, episode steps: 631, steps per second:   7, episode reward:  8.000, mean reward:  0.013 [ 0.000,  1.000], mean action: 2.677 [0.000, 5.000],  loss: 0.003719, mean_q: 0.266959, mean_eps: 0.601224\n",
            " 100387/200000: episode: 147, duration: 57.501s, episode steps: 377, steps per second:   7, episode reward:  5.000, mean reward:  0.013 [ 0.000,  1.000], mean action: 2.817 [0.000, 5.000],  loss: 0.007122, mean_q: 0.308832, mean_eps: 0.599208\n",
            " 100937/200000: episode: 148, duration: 83.764s, episode steps: 550, steps per second:   7, episode reward:  7.000, mean reward:  0.013 [ 0.000,  1.000], mean action: 2.611 [0.000, 5.000],  loss: 0.007350, mean_q: 0.304574, mean_eps: 0.597354\n",
            " 101528/200000: episode: 149, duration: 89.739s, episode steps: 591, steps per second:   7, episode reward:  9.000, mean reward:  0.015 [ 0.000,  1.000], mean action: 2.481 [0.000, 5.000],  loss: 0.006481, mean_q: 0.298667, mean_eps: 0.595072\n",
            " 102507/200000: episode: 150, duration: 149.853s, episode steps: 979, steps per second:   7, episode reward: 18.000, mean reward:  0.018 [ 0.000,  1.000], mean action: 2.645 [0.000, 5.000],  loss: 0.006371, mean_q: 0.303282, mean_eps: 0.591932\n",
            " 102904/200000: episode: 151, duration: 60.426s, episode steps: 397, steps per second:   7, episode reward:  7.000, mean reward:  0.018 [ 0.000,  1.000], mean action: 2.708 [0.000, 5.000],  loss: 0.005685, mean_q: 0.306528, mean_eps: 0.589180\n",
            " 103245/200000: episode: 152, duration: 51.907s, episode steps: 341, steps per second:   7, episode reward:  4.000, mean reward:  0.012 [ 0.000,  1.000], mean action: 2.877 [0.000, 5.000],  loss: 0.005703, mean_q: 0.302288, mean_eps: 0.587704\n",
            " 103836/200000: episode: 153, duration: 89.892s, episode steps: 591, steps per second:   7, episode reward:  8.000, mean reward:  0.014 [ 0.000,  1.000], mean action: 2.599 [0.000, 5.000],  loss: 0.005462, mean_q: 0.302080, mean_eps: 0.585840\n",
            " 104453/200000: episode: 154, duration: 93.781s, episode steps: 617, steps per second:   7, episode reward: 10.000, mean reward:  0.016 [ 0.000,  1.000], mean action: 2.606 [0.000, 5.000],  loss: 0.005203, mean_q: 0.299800, mean_eps: 0.583424\n",
            " 104994/200000: episode: 155, duration: 82.298s, episode steps: 541, steps per second:   7, episode reward:  5.000, mean reward:  0.009 [ 0.000,  1.000], mean action: 2.786 [0.000, 5.000],  loss: 0.004945, mean_q: 0.299459, mean_eps: 0.581108\n",
            " 105757/200000: episode: 156, duration: 116.096s, episode steps: 763, steps per second:   7, episode reward: 10.000, mean reward:  0.013 [ 0.000,  1.000], mean action: 2.368 [0.000, 5.000],  loss: 0.004769, mean_q: 0.302374, mean_eps: 0.578500\n",
            " 106473/200000: episode: 157, duration: 108.899s, episode steps: 716, steps per second:   7, episode reward: 11.000, mean reward:  0.015 [ 0.000,  1.000], mean action: 2.468 [0.000, 5.000],  loss: 0.004880, mean_q: 0.298130, mean_eps: 0.575542\n",
            " 106967/200000: episode: 158, duration: 75.224s, episode steps: 494, steps per second:   7, episode reward:  5.000, mean reward:  0.010 [ 0.000,  1.000], mean action: 2.506 [0.000, 5.000],  loss: 0.004238, mean_q: 0.297114, mean_eps: 0.573122\n",
            " 107560/200000: episode: 159, duration: 90.163s, episode steps: 593, steps per second:   7, episode reward: 10.000, mean reward:  0.017 [ 0.000,  1.000], mean action: 2.580 [0.000, 5.000],  loss: 0.004479, mean_q: 0.296746, mean_eps: 0.570948\n",
            " 108052/200000: episode: 160, duration: 74.760s, episode steps: 492, steps per second:   7, episode reward:  6.000, mean reward:  0.012 [ 0.000,  1.000], mean action: 2.730 [0.000, 5.000],  loss: 0.004467, mean_q: 0.298760, mean_eps: 0.568778\n",
            " 108682/200000: episode: 161, duration: 95.943s, episode steps: 630, steps per second:   7, episode reward: 10.000, mean reward:  0.016 [ 0.000,  1.000], mean action: 2.627 [0.000, 5.000],  loss: 0.004404, mean_q: 0.295590, mean_eps: 0.566534\n",
            " 109317/200000: episode: 162, duration: 96.697s, episode steps: 635, steps per second:   7, episode reward: 11.000, mean reward:  0.017 [ 0.000,  1.000], mean action: 2.721 [0.000, 5.000],  loss: 0.004385, mean_q: 0.302754, mean_eps: 0.564004\n",
            " 109850/200000: episode: 163, duration: 81.292s, episode steps: 533, steps per second:   7, episode reward:  8.000, mean reward:  0.015 [ 0.000,  1.000], mean action: 2.467 [0.000, 5.000],  loss: 0.004047, mean_q: 0.297316, mean_eps: 0.561668\n",
            "Step 110000: saving model to checkpoints/dqn_v08_weights_110000.h5f\n",
            " 110186/200000: episode: 164, duration: 51.464s, episode steps: 336, steps per second:   7, episode reward:  5.000, mean reward:  0.015 [ 0.000,  1.000], mean action: 2.545 [0.000, 5.000],  loss: 0.006137, mean_q: 0.324316, mean_eps: 0.559930\n",
            " 111210/200000: episode: 165, duration: 155.886s, episode steps: 1024, steps per second:   7, episode reward: 14.000, mean reward:  0.014 [ 0.000,  1.000], mean action: 2.581 [0.000, 5.000],  loss: 0.007769, mean_q: 0.338527, mean_eps: 0.557210\n",
            " 111730/200000: episode: 166, duration: 79.228s, episode steps: 520, steps per second:   7, episode reward: 10.000, mean reward:  0.019 [ 0.000,  1.000], mean action: 2.700 [0.000, 5.000],  loss: 0.007363, mean_q: 0.333618, mean_eps: 0.554122\n",
            " 112176/200000: episode: 167, duration: 68.054s, episode steps: 446, steps per second:   7, episode reward:  7.000, mean reward:  0.016 [ 0.000,  1.000], mean action: 2.399 [0.000, 5.000],  loss: 0.006849, mean_q: 0.343068, mean_eps: 0.552190\n",
            " 112561/200000: episode: 168, duration: 58.765s, episode steps: 385, steps per second:   7, episode reward:  6.000, mean reward:  0.016 [ 0.000,  1.000], mean action: 2.587 [0.000, 5.000],  loss: 0.006438, mean_q: 0.339823, mean_eps: 0.550528\n",
            " 113055/200000: episode: 169, duration: 75.344s, episode steps: 494, steps per second:   7, episode reward: 10.000, mean reward:  0.020 [ 0.000,  1.000], mean action: 2.547 [0.000, 5.000],  loss: 0.007083, mean_q: 0.349346, mean_eps: 0.548770\n",
            " 113405/200000: episode: 170, duration: 53.496s, episode steps: 350, steps per second:   7, episode reward:  4.000, mean reward:  0.011 [ 0.000,  1.000], mean action: 2.640 [0.000, 5.000],  loss: 0.006004, mean_q: 0.332855, mean_eps: 0.547082\n",
            " 114435/200000: episode: 171, duration: 156.833s, episode steps: 1030, steps per second:   7, episode reward: 17.000, mean reward:  0.017 [ 0.000,  1.000], mean action: 2.609 [0.000, 5.000],  loss: 0.006275, mean_q: 0.338986, mean_eps: 0.544322\n",
            " 115185/200000: episode: 172, duration: 114.286s, episode steps: 750, steps per second:   7, episode reward: 10.000, mean reward:  0.013 [ 0.000,  1.000], mean action: 2.633 [0.000, 5.000],  loss: 0.005550, mean_q: 0.338115, mean_eps: 0.540762\n",
            " 115733/200000: episode: 173, duration: 83.404s, episode steps: 548, steps per second:   7, episode reward:  8.000, mean reward:  0.015 [ 0.000,  1.000], mean action: 2.666 [0.000, 5.000],  loss: 0.005773, mean_q: 0.339894, mean_eps: 0.538166\n",
            " 116385/200000: episode: 174, duration: 99.340s, episode steps: 652, steps per second:   7, episode reward:  9.000, mean reward:  0.014 [ 0.000,  1.000], mean action: 2.469 [0.000, 5.000],  loss: 0.005324, mean_q: 0.335086, mean_eps: 0.535766\n",
            " 116925/200000: episode: 175, duration: 82.664s, episode steps: 540, steps per second:   7, episode reward:  9.000, mean reward:  0.017 [ 0.000,  1.000], mean action: 2.509 [0.000, 5.000],  loss: 0.005160, mean_q: 0.337334, mean_eps: 0.533382\n",
            " 117479/200000: episode: 176, duration: 84.640s, episode steps: 554, steps per second:   7, episode reward:  7.000, mean reward:  0.013 [ 0.000,  1.000], mean action: 2.601 [0.000, 5.000],  loss: 0.005208, mean_q: 0.332754, mean_eps: 0.531194\n",
            " 117996/200000: episode: 177, duration: 78.922s, episode steps: 517, steps per second:   7, episode reward:  6.000, mean reward:  0.012 [ 0.000,  1.000], mean action: 2.745 [0.000, 5.000],  loss: 0.005005, mean_q: 0.338841, mean_eps: 0.529052\n",
            " 119304/200000: episode: 178, duration: 199.697s, episode steps: 1308, steps per second:   7, episode reward: 17.000, mean reward:  0.013 [ 0.000,  1.000], mean action: 2.488 [0.000, 5.000],  loss: 0.004737, mean_q: 0.335115, mean_eps: 0.525402\n",
            " 119933/200000: episode: 179, duration: 96.037s, episode steps: 629, steps per second:   7, episode reward: 10.000, mean reward:  0.016 [ 0.000,  1.000], mean action: 2.188 [0.000, 5.000],  loss: 0.005156, mean_q: 0.335760, mean_eps: 0.521528\n",
            "Step 120000: saving model to checkpoints/dqn_v08_weights_120000.h5f\n",
            " 120497/200000: episode: 180, duration: 86.543s, episode steps: 564, steps per second:   7, episode reward: 11.000, mean reward:  0.020 [ 0.000,  1.000], mean action: 2.402 [0.000, 5.000],  loss: 0.008324, mean_q: 0.388328, mean_eps: 0.519142\n",
            " 121448/200000: episode: 181, duration: 145.342s, episode steps: 951, steps per second:   7, episode reward: 13.000, mean reward:  0.014 [ 0.000,  1.000], mean action: 2.653 [0.000, 5.000],  loss: 0.008750, mean_q: 0.384581, mean_eps: 0.516112\n",
            " 121997/200000: episode: 182, duration: 83.859s, episode steps: 549, steps per second:   7, episode reward: 10.000, mean reward:  0.018 [ 0.000,  1.000], mean action: 2.492 [0.000, 5.000],  loss: 0.007695, mean_q: 0.384132, mean_eps: 0.513112\n",
            " 122575/200000: episode: 183, duration: 88.491s, episode steps: 578, steps per second:   7, episode reward: 11.000, mean reward:  0.019 [ 0.000,  1.000], mean action: 2.479 [0.000, 5.000],  loss: 0.006676, mean_q: 0.384121, mean_eps: 0.510858\n",
            " 123172/200000: episode: 184, duration: 91.206s, episode steps: 597, steps per second:   7, episode reward: 11.000, mean reward:  0.018 [ 0.000,  1.000], mean action: 2.529 [0.000, 5.000],  loss: 0.007121, mean_q: 0.383956, mean_eps: 0.508508\n",
            " 123941/200000: episode: 185, duration: 117.340s, episode steps: 769, steps per second:   7, episode reward: 13.000, mean reward:  0.017 [ 0.000,  1.000], mean action: 2.671 [0.000, 5.000],  loss: 0.006553, mean_q: 0.380097, mean_eps: 0.505776\n",
            " 124452/200000: episode: 186, duration: 78.089s, episode steps: 511, steps per second:   7, episode reward:  7.000, mean reward:  0.014 [ 0.000,  1.000], mean action: 2.552 [0.000, 5.000],  loss: 0.006029, mean_q: 0.377397, mean_eps: 0.503216\n",
            " 124865/200000: episode: 187, duration: 63.094s, episode steps: 413, steps per second:   7, episode reward:  7.000, mean reward:  0.017 [ 0.000,  1.000], mean action: 2.242 [0.000, 5.000],  loss: 0.006414, mean_q: 0.386281, mean_eps: 0.501368\n",
            " 125482/200000: episode: 188, duration: 94.236s, episode steps: 617, steps per second:   7, episode reward:  8.000, mean reward:  0.013 [ 0.000,  1.000], mean action: 2.313 [0.000, 5.000],  loss: 0.005868, mean_q: 0.382532, mean_eps: 0.499308\n",
            " 126044/200000: episode: 189, duration: 86.128s, episode steps: 562, steps per second:   7, episode reward: 11.000, mean reward:  0.020 [ 0.000,  1.000], mean action: 2.488 [0.000, 5.000],  loss: 0.005994, mean_q: 0.379669, mean_eps: 0.496950\n",
            " 126714/200000: episode: 190, duration: 102.502s, episode steps: 670, steps per second:   7, episode reward: 12.000, mean reward:  0.018 [ 0.000,  1.000], mean action: 2.543 [0.000, 5.000],  loss: 0.005521, mean_q: 0.377316, mean_eps: 0.494486\n",
            " 127500/200000: episode: 191, duration: 120.377s, episode steps: 786, steps per second:   7, episode reward: 14.000, mean reward:  0.018 [ 0.000,  1.000], mean action: 2.457 [0.000, 5.000],  loss: 0.005662, mean_q: 0.375392, mean_eps: 0.491574\n",
            " 128079/200000: episode: 192, duration: 88.737s, episode steps: 579, steps per second:   7, episode reward:  8.000, mean reward:  0.014 [ 0.000,  1.000], mean action: 2.615 [0.000, 5.000],  loss: 0.005210, mean_q: 0.374521, mean_eps: 0.488844\n",
            " 128733/200000: episode: 193, duration: 100.106s, episode steps: 654, steps per second:   7, episode reward: 10.000, mean reward:  0.015 [ 0.000,  1.000], mean action: 2.414 [0.000, 5.000],  loss: 0.005112, mean_q: 0.375463, mean_eps: 0.486378\n",
            " 129409/200000: episode: 194, duration: 103.525s, episode steps: 676, steps per second:   7, episode reward: 12.000, mean reward:  0.018 [ 0.000,  1.000], mean action: 2.457 [0.000, 5.000],  loss: 0.005315, mean_q: 0.376811, mean_eps: 0.483718\n"
          ]
        }
      ]
    },
    {
      "cell_type": "code",
      "source": [
        "# Testing part to calculate the mean reward\n",
        "#weights_filename = 'dqn_{}_weights.h5f'.format(env_name)\n",
        "weights_filename = 'dqn_08_weights.h5f'.format(env_name)\n",
        "dqn.load_weights(weights_filename)\n",
        "dqn.test(env, nb_episodes=10, visualize=False)"
      ],
      "metadata": {
        "id": "37-hUon1Xg2P"
      },
      "execution_count": null,
      "outputs": []
    },
    {
      "cell_type": "code",
      "source": [
        "from google.colab import drive\n",
        "import shutil\n",
        "import glob  # <-- ¡Falta este import!\n",
        "import os\n",
        "\n",
        "# 1. Montar Google Drive\n",
        "#drive.mount('/content/drive')\n",
        "\n",
        "# 2. Crear directorio en Drive si no existe\n",
        "os.makedirs('/content/gdrive/MyDrive/Colab_Outputs', exist_ok=True)\n",
        "\n",
        "# 3. Buscar y copiar todos los archivos coincidentes\n",
        "archivos = glob.glob('dqn_08_weights.h5f.*')  # Encuentra todos los archivos con ese patrón\n",
        "\n",
        "for archivo in archivos:\n",
        "    shutil.copy(\n",
        "        archivo,\n",
        "        f'/content/gdrive/MyDrive/Colab_Outputs/{os.path.basename(archivo)}'\n",
        "    )\n",
        "    print(f\"¡Archivo {archivo} copiado a Drive!\")\n",
        "\n",
        "# 4. Buscar y copiar todos los archivos coincidentes\n",
        "archivos = glob.glob('checkpoints/dqn_v08_weights*')  # Encuentra todos los archivos con ese patrón\n",
        "\n",
        "for archivo in archivos:\n",
        "    shutil.copy(\n",
        "        archivo,\n",
        "        f'/content/gdrive/MyDrive/Colab_Outputs/{os.path.basename(archivo)}'\n",
        "    )\n",
        "\n",
        "print(\"✅ ¡Todos los archivos copiados!\")"
      ],
      "metadata": {
        "id": "xyxqMBo9YEKG"
      },
      "execution_count": null,
      "outputs": []
    }
  ]
}