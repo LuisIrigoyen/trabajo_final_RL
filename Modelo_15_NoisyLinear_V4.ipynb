{
  "cells": [
    {
      "cell_type": "markdown",
      "metadata": {
        "id": "view-in-github",
        "colab_type": "text"
      },
      "source": [
        "<a href=\"https://colab.research.google.com/github/LuisIrigoyen/trabajo_final_RL/blob/pruebas_LuisIrigoyen/Modelo_15_NoisyLinear_V4.ipynb\" target=\"_parent\"><img src=\"https://colab.research.google.com/assets/colab-badge.svg\" alt=\"Open In Colab\"/></a>"
      ]
    },
    {
      "cell_type": "markdown",
      "metadata": {
        "id": "D89Ue2uZNtzn"
      },
      "source": [
        "## 1.2. Localizar entorno de trabajo: Google colab o local"
      ]
    },
    {
      "cell_type": "markdown",
      "metadata": {
        "id": "piJ-XjXrzhdZ"
      },
      "source": [
        "- Igual que 12, cambio paramétro: dqn.compile(optimizer=Adam(learning_rate=0.0001)\n",
        "- luego se modificó a dqn.compile(optimizer=Adam(learning_rate=1e-4)\n",
        "- se cambió policy = BoltzmannQPolicy() a policy = EpsGreedyQPolicy(eps=0.0)\n",
        "- cambio sigma_init en NoisyDense: sigma_init=0.017 a 0.05\n",
        "- learning_rate aún más bajo para Adam: de 1e-4 a 5e-5"
      ]
    },
    {
      "cell_type": "code",
      "execution_count": 12,
      "metadata": {
        "id": "7EQ46sNGLj22"
      },
      "outputs": [],
      "source": [
        "# ATENCIÓN!! Modificar ruta relativa a la práctica si es distinta (drive_root)\n",
        "mount='/content/gdrive'\n",
        "drive_root = mount + \"/My Drive/MODELO 15/\"\n",
        "\n",
        "try:\n",
        "  from google.colab import drive\n",
        "  IN_COLAB=True\n",
        "except:\n",
        "  IN_COLAB=False"
      ]
    },
    {
      "cell_type": "markdown",
      "metadata": {
        "id": "6on2PNxZN51A"
      },
      "source": [
        "## 1.3. Montar carpeta de datos local (solo Colab)"
      ]
    },
    {
      "cell_type": "code",
      "execution_count": 13,
      "metadata": {
        "colab": {
          "base_uri": "https://localhost:8080/"
        },
        "id": "inTxnmr0MKCH",
        "outputId": "c177083d-e78c-48f5-adb8-75ff9ede1b1d"
      },
      "outputs": [
        {
          "output_type": "stream",
          "name": "stdout",
          "text": [
            "We're running Colab\n",
            "Colab: mounting Google drive on  /content/gdrive\n",
            "Drive already mounted at /content/gdrive; to attempt to forcibly remount, call drive.mount(\"/content/gdrive\", force_remount=True).\n",
            "\n",
            "Colab: making sure  /content/gdrive/My Drive/MODELO 15/  exists.\n",
            "\n",
            "Colab: Changing directory to  /content/gdrive/My Drive/MODELO 15/\n",
            "/content/gdrive/My Drive/MODELO 15\n",
            "Archivos en el directorio: \n",
            "['logs', 'checkpoints']\n"
          ]
        }
      ],
      "source": [
        "# Switch to the directory on the Google Drive that you want to use\n",
        "import os\n",
        "if IN_COLAB:\n",
        "  print(\"We're running Colab\")\n",
        "\n",
        "  if IN_COLAB:\n",
        "    # Mount the Google Drive at mount\n",
        "    print(\"Colab: mounting Google drive on \", mount)\n",
        "\n",
        "    drive.mount(mount)\n",
        "\n",
        "    # Create drive_root if it doesn't exist\n",
        "    create_drive_root = True\n",
        "    if create_drive_root:\n",
        "      print(\"\\nColab: making sure \", drive_root, \" exists.\")\n",
        "      os.makedirs(drive_root, exist_ok=True)\n",
        "\n",
        "    # Change to the directory\n",
        "    print(\"\\nColab: Changing directory to \", drive_root)\n",
        "    %cd $drive_root\n",
        "# Verify we're in the correct working directory\n",
        "%pwd\n",
        "print(\"Archivos en el directorio: \")\n",
        "print(os.listdir())"
      ]
    },
    {
      "cell_type": "markdown",
      "metadata": {
        "id": "MYrJ03QWN9Hw"
      },
      "source": [
        "## 1.4. Instalar librerías necesarias"
      ]
    },
    {
      "cell_type": "code",
      "execution_count": 14,
      "metadata": {
        "colab": {
          "base_uri": "https://localhost:8080/"
        },
        "id": "zSbNMsl4MTo3",
        "outputId": "babafd57-412b-4832-fe60-2dd839a6ecd7"
      },
      "outputs": [
        {
          "output_type": "stream",
          "name": "stdout",
          "text": [
            "Requirement already satisfied: gym==0.17.3 in /usr/local/lib/python3.11/dist-packages (0.17.3)\n",
            "Requirement already satisfied: scipy in /usr/local/lib/python3.11/dist-packages (from gym==0.17.3) (1.15.3)\n",
            "Requirement already satisfied: numpy>=1.10.4 in /usr/local/lib/python3.11/dist-packages (from gym==0.17.3) (1.23.5)\n",
            "Requirement already satisfied: pyglet<=1.5.0,>=1.4.0 in /usr/local/lib/python3.11/dist-packages (from gym==0.17.3) (1.5.0)\n",
            "Requirement already satisfied: cloudpickle<1.7.0,>=1.2.0 in /usr/local/lib/python3.11/dist-packages (from gym==0.17.3) (1.6.0)\n",
            "Requirement already satisfied: future in /usr/local/lib/python3.11/dist-packages (from pyglet<=1.5.0,>=1.4.0->gym==0.17.3) (1.0.0)\n",
            "Collecting git+https://github.com/Kojoley/atari-py.git\n",
            "  Cloning https://github.com/Kojoley/atari-py.git to /tmp/pip-req-build-hzlmjfip\n",
            "  Running command git clone --filter=blob:none --quiet https://github.com/Kojoley/atari-py.git /tmp/pip-req-build-hzlmjfip\n",
            "  Resolved https://github.com/Kojoley/atari-py.git to commit 86a1e05c0a95e9e6233c3a413521fdb34ca8a089\n",
            "  Preparing metadata (setup.py) ... \u001b[?25l\u001b[?25hdone\n",
            "Requirement already satisfied: numpy in /usr/local/lib/python3.11/dist-packages (from atari-py==1.2.2) (1.23.5)\n",
            "Requirement already satisfied: keras-rl2==1.0.5 in /usr/local/lib/python3.11/dist-packages (1.0.5)\n",
            "Requirement already satisfied: tensorflow in /usr/local/lib/python3.11/dist-packages (from keras-rl2==1.0.5) (2.12.0)\n",
            "Requirement already satisfied: absl-py>=1.0.0 in /usr/local/lib/python3.11/dist-packages (from tensorflow->keras-rl2==1.0.5) (1.4.0)\n",
            "Requirement already satisfied: astunparse>=1.6.0 in /usr/local/lib/python3.11/dist-packages (from tensorflow->keras-rl2==1.0.5) (1.6.3)\n",
            "Requirement already satisfied: flatbuffers>=2.0 in /usr/local/lib/python3.11/dist-packages (from tensorflow->keras-rl2==1.0.5) (25.2.10)\n",
            "Requirement already satisfied: gast<=0.4.0,>=0.2.1 in /usr/local/lib/python3.11/dist-packages (from tensorflow->keras-rl2==1.0.5) (0.4.0)\n",
            "Requirement already satisfied: google-pasta>=0.1.1 in /usr/local/lib/python3.11/dist-packages (from tensorflow->keras-rl2==1.0.5) (0.2.0)\n",
            "Requirement already satisfied: grpcio<2.0,>=1.24.3 in /usr/local/lib/python3.11/dist-packages (from tensorflow->keras-rl2==1.0.5) (1.73.1)\n",
            "Requirement already satisfied: h5py>=2.9.0 in /usr/local/lib/python3.11/dist-packages (from tensorflow->keras-rl2==1.0.5) (3.14.0)\n",
            "Requirement already satisfied: jax>=0.3.15 in /usr/local/lib/python3.11/dist-packages (from tensorflow->keras-rl2==1.0.5) (0.4.30)\n",
            "Requirement already satisfied: keras<2.13,>=2.12.0 in /usr/local/lib/python3.11/dist-packages (from tensorflow->keras-rl2==1.0.5) (2.12.0)\n",
            "Requirement already satisfied: libclang>=13.0.0 in /usr/local/lib/python3.11/dist-packages (from tensorflow->keras-rl2==1.0.5) (18.1.1)\n",
            "Requirement already satisfied: numpy<1.24,>=1.22 in /usr/local/lib/python3.11/dist-packages (from tensorflow->keras-rl2==1.0.5) (1.23.5)\n",
            "Requirement already satisfied: opt-einsum>=2.3.2 in /usr/local/lib/python3.11/dist-packages (from tensorflow->keras-rl2==1.0.5) (3.4.0)\n",
            "Requirement already satisfied: packaging in /usr/local/lib/python3.11/dist-packages (from tensorflow->keras-rl2==1.0.5) (24.2)\n",
            "Requirement already satisfied: protobuf!=4.21.0,!=4.21.1,!=4.21.2,!=4.21.3,!=4.21.4,!=4.21.5,<5.0.0dev,>=3.20.3 in /usr/local/lib/python3.11/dist-packages (from tensorflow->keras-rl2==1.0.5) (4.25.8)\n",
            "Requirement already satisfied: setuptools in /usr/local/lib/python3.11/dist-packages (from tensorflow->keras-rl2==1.0.5) (75.2.0)\n",
            "Requirement already satisfied: six>=1.12.0 in /usr/local/lib/python3.11/dist-packages (from tensorflow->keras-rl2==1.0.5) (1.17.0)\n",
            "Requirement already satisfied: tensorboard<2.13,>=2.12 in /usr/local/lib/python3.11/dist-packages (from tensorflow->keras-rl2==1.0.5) (2.12.3)\n",
            "Requirement already satisfied: tensorflow-estimator<2.13,>=2.12.0 in /usr/local/lib/python3.11/dist-packages (from tensorflow->keras-rl2==1.0.5) (2.12.0)\n",
            "Requirement already satisfied: termcolor>=1.1.0 in /usr/local/lib/python3.11/dist-packages (from tensorflow->keras-rl2==1.0.5) (3.1.0)\n",
            "Requirement already satisfied: typing-extensions>=3.6.6 in /usr/local/lib/python3.11/dist-packages (from tensorflow->keras-rl2==1.0.5) (4.14.0)\n",
            "Requirement already satisfied: wrapt<1.15,>=1.11.0 in /usr/local/lib/python3.11/dist-packages (from tensorflow->keras-rl2==1.0.5) (1.14.1)\n",
            "Requirement already satisfied: tensorflow-io-gcs-filesystem>=0.23.1 in /usr/local/lib/python3.11/dist-packages (from tensorflow->keras-rl2==1.0.5) (0.37.1)\n",
            "Requirement already satisfied: wheel<1.0,>=0.23.0 in /usr/local/lib/python3.11/dist-packages (from astunparse>=1.6.0->tensorflow->keras-rl2==1.0.5) (0.45.1)\n",
            "Requirement already satisfied: jaxlib<=0.4.30,>=0.4.27 in /usr/local/lib/python3.11/dist-packages (from jax>=0.3.15->tensorflow->keras-rl2==1.0.5) (0.4.30)\n",
            "Requirement already satisfied: ml-dtypes>=0.2.0 in /usr/local/lib/python3.11/dist-packages (from jax>=0.3.15->tensorflow->keras-rl2==1.0.5) (0.4.1)\n",
            "Requirement already satisfied: scipy>=1.9 in /usr/local/lib/python3.11/dist-packages (from jax>=0.3.15->tensorflow->keras-rl2==1.0.5) (1.15.3)\n",
            "Requirement already satisfied: google-auth<3,>=1.6.3 in /usr/local/lib/python3.11/dist-packages (from tensorboard<2.13,>=2.12->tensorflow->keras-rl2==1.0.5) (2.38.0)\n",
            "Requirement already satisfied: google-auth-oauthlib<1.1,>=0.5 in /usr/local/lib/python3.11/dist-packages (from tensorboard<2.13,>=2.12->tensorflow->keras-rl2==1.0.5) (1.0.0)\n",
            "Requirement already satisfied: markdown>=2.6.8 in /usr/local/lib/python3.11/dist-packages (from tensorboard<2.13,>=2.12->tensorflow->keras-rl2==1.0.5) (3.8.2)\n",
            "Requirement already satisfied: requests<3,>=2.21.0 in /usr/local/lib/python3.11/dist-packages (from tensorboard<2.13,>=2.12->tensorflow->keras-rl2==1.0.5) (2.32.3)\n",
            "Requirement already satisfied: tensorboard-data-server<0.8.0,>=0.7.0 in /usr/local/lib/python3.11/dist-packages (from tensorboard<2.13,>=2.12->tensorflow->keras-rl2==1.0.5) (0.7.2)\n",
            "Requirement already satisfied: werkzeug>=1.0.1 in /usr/local/lib/python3.11/dist-packages (from tensorboard<2.13,>=2.12->tensorflow->keras-rl2==1.0.5) (3.1.3)\n",
            "Requirement already satisfied: cachetools<6.0,>=2.0.0 in /usr/local/lib/python3.11/dist-packages (from google-auth<3,>=1.6.3->tensorboard<2.13,>=2.12->tensorflow->keras-rl2==1.0.5) (5.5.2)\n",
            "Requirement already satisfied: pyasn1-modules>=0.2.1 in /usr/local/lib/python3.11/dist-packages (from google-auth<3,>=1.6.3->tensorboard<2.13,>=2.12->tensorflow->keras-rl2==1.0.5) (0.4.2)\n",
            "Requirement already satisfied: rsa<5,>=3.1.4 in /usr/local/lib/python3.11/dist-packages (from google-auth<3,>=1.6.3->tensorboard<2.13,>=2.12->tensorflow->keras-rl2==1.0.5) (4.9.1)\n",
            "Requirement already satisfied: requests-oauthlib>=0.7.0 in /usr/local/lib/python3.11/dist-packages (from google-auth-oauthlib<1.1,>=0.5->tensorboard<2.13,>=2.12->tensorflow->keras-rl2==1.0.5) (2.0.0)\n",
            "Requirement already satisfied: charset-normalizer<4,>=2 in /usr/local/lib/python3.11/dist-packages (from requests<3,>=2.21.0->tensorboard<2.13,>=2.12->tensorflow->keras-rl2==1.0.5) (3.4.2)\n",
            "Requirement already satisfied: idna<4,>=2.5 in /usr/local/lib/python3.11/dist-packages (from requests<3,>=2.21.0->tensorboard<2.13,>=2.12->tensorflow->keras-rl2==1.0.5) (3.10)\n",
            "Requirement already satisfied: urllib3<3,>=1.21.1 in /usr/local/lib/python3.11/dist-packages (from requests<3,>=2.21.0->tensorboard<2.13,>=2.12->tensorflow->keras-rl2==1.0.5) (2.4.0)\n",
            "Requirement already satisfied: certifi>=2017.4.17 in /usr/local/lib/python3.11/dist-packages (from requests<3,>=2.21.0->tensorboard<2.13,>=2.12->tensorflow->keras-rl2==1.0.5) (2025.6.15)\n",
            "Requirement already satisfied: MarkupSafe>=2.1.1 in /usr/local/lib/python3.11/dist-packages (from werkzeug>=1.0.1->tensorboard<2.13,>=2.12->tensorflow->keras-rl2==1.0.5) (3.0.2)\n",
            "Requirement already satisfied: pyasn1<0.7.0,>=0.6.1 in /usr/local/lib/python3.11/dist-packages (from pyasn1-modules>=0.2.1->google-auth<3,>=1.6.3->tensorboard<2.13,>=2.12->tensorflow->keras-rl2==1.0.5) (0.6.1)\n",
            "Requirement already satisfied: oauthlib>=3.0.0 in /usr/local/lib/python3.11/dist-packages (from requests-oauthlib>=0.7.0->google-auth-oauthlib<1.1,>=0.5->tensorboard<2.13,>=2.12->tensorflow->keras-rl2==1.0.5) (3.3.1)\n",
            "Requirement already satisfied: tensorflow==2.12 in /usr/local/lib/python3.11/dist-packages (2.12.0)\n",
            "Requirement already satisfied: absl-py>=1.0.0 in /usr/local/lib/python3.11/dist-packages (from tensorflow==2.12) (1.4.0)\n",
            "Requirement already satisfied: astunparse>=1.6.0 in /usr/local/lib/python3.11/dist-packages (from tensorflow==2.12) (1.6.3)\n",
            "Requirement already satisfied: flatbuffers>=2.0 in /usr/local/lib/python3.11/dist-packages (from tensorflow==2.12) (25.2.10)\n",
            "Requirement already satisfied: gast<=0.4.0,>=0.2.1 in /usr/local/lib/python3.11/dist-packages (from tensorflow==2.12) (0.4.0)\n",
            "Requirement already satisfied: google-pasta>=0.1.1 in /usr/local/lib/python3.11/dist-packages (from tensorflow==2.12) (0.2.0)\n",
            "Requirement already satisfied: grpcio<2.0,>=1.24.3 in /usr/local/lib/python3.11/dist-packages (from tensorflow==2.12) (1.73.1)\n",
            "Requirement already satisfied: h5py>=2.9.0 in /usr/local/lib/python3.11/dist-packages (from tensorflow==2.12) (3.14.0)\n",
            "Requirement already satisfied: jax>=0.3.15 in /usr/local/lib/python3.11/dist-packages (from tensorflow==2.12) (0.4.30)\n",
            "Requirement already satisfied: keras<2.13,>=2.12.0 in /usr/local/lib/python3.11/dist-packages (from tensorflow==2.12) (2.12.0)\n",
            "Requirement already satisfied: libclang>=13.0.0 in /usr/local/lib/python3.11/dist-packages (from tensorflow==2.12) (18.1.1)\n",
            "Requirement already satisfied: numpy<1.24,>=1.22 in /usr/local/lib/python3.11/dist-packages (from tensorflow==2.12) (1.23.5)\n",
            "Requirement already satisfied: opt-einsum>=2.3.2 in /usr/local/lib/python3.11/dist-packages (from tensorflow==2.12) (3.4.0)\n",
            "Requirement already satisfied: packaging in /usr/local/lib/python3.11/dist-packages (from tensorflow==2.12) (24.2)\n",
            "Requirement already satisfied: protobuf!=4.21.0,!=4.21.1,!=4.21.2,!=4.21.3,!=4.21.4,!=4.21.5,<5.0.0dev,>=3.20.3 in /usr/local/lib/python3.11/dist-packages (from tensorflow==2.12) (4.25.8)\n",
            "Requirement already satisfied: setuptools in /usr/local/lib/python3.11/dist-packages (from tensorflow==2.12) (75.2.0)\n",
            "Requirement already satisfied: six>=1.12.0 in /usr/local/lib/python3.11/dist-packages (from tensorflow==2.12) (1.17.0)\n",
            "Requirement already satisfied: tensorboard<2.13,>=2.12 in /usr/local/lib/python3.11/dist-packages (from tensorflow==2.12) (2.12.3)\n",
            "Requirement already satisfied: tensorflow-estimator<2.13,>=2.12.0 in /usr/local/lib/python3.11/dist-packages (from tensorflow==2.12) (2.12.0)\n",
            "Requirement already satisfied: termcolor>=1.1.0 in /usr/local/lib/python3.11/dist-packages (from tensorflow==2.12) (3.1.0)\n",
            "Requirement already satisfied: typing-extensions>=3.6.6 in /usr/local/lib/python3.11/dist-packages (from tensorflow==2.12) (4.14.0)\n",
            "Requirement already satisfied: wrapt<1.15,>=1.11.0 in /usr/local/lib/python3.11/dist-packages (from tensorflow==2.12) (1.14.1)\n",
            "Requirement already satisfied: tensorflow-io-gcs-filesystem>=0.23.1 in /usr/local/lib/python3.11/dist-packages (from tensorflow==2.12) (0.37.1)\n",
            "Requirement already satisfied: wheel<1.0,>=0.23.0 in /usr/local/lib/python3.11/dist-packages (from astunparse>=1.6.0->tensorflow==2.12) (0.45.1)\n",
            "Requirement already satisfied: jaxlib<=0.4.30,>=0.4.27 in /usr/local/lib/python3.11/dist-packages (from jax>=0.3.15->tensorflow==2.12) (0.4.30)\n",
            "Requirement already satisfied: ml-dtypes>=0.2.0 in /usr/local/lib/python3.11/dist-packages (from jax>=0.3.15->tensorflow==2.12) (0.4.1)\n",
            "Requirement already satisfied: scipy>=1.9 in /usr/local/lib/python3.11/dist-packages (from jax>=0.3.15->tensorflow==2.12) (1.15.3)\n",
            "Requirement already satisfied: google-auth<3,>=1.6.3 in /usr/local/lib/python3.11/dist-packages (from tensorboard<2.13,>=2.12->tensorflow==2.12) (2.38.0)\n",
            "Requirement already satisfied: google-auth-oauthlib<1.1,>=0.5 in /usr/local/lib/python3.11/dist-packages (from tensorboard<2.13,>=2.12->tensorflow==2.12) (1.0.0)\n",
            "Requirement already satisfied: markdown>=2.6.8 in /usr/local/lib/python3.11/dist-packages (from tensorboard<2.13,>=2.12->tensorflow==2.12) (3.8.2)\n",
            "Requirement already satisfied: requests<3,>=2.21.0 in /usr/local/lib/python3.11/dist-packages (from tensorboard<2.13,>=2.12->tensorflow==2.12) (2.32.3)\n",
            "Requirement already satisfied: tensorboard-data-server<0.8.0,>=0.7.0 in /usr/local/lib/python3.11/dist-packages (from tensorboard<2.13,>=2.12->tensorflow==2.12) (0.7.2)\n",
            "Requirement already satisfied: werkzeug>=1.0.1 in /usr/local/lib/python3.11/dist-packages (from tensorboard<2.13,>=2.12->tensorflow==2.12) (3.1.3)\n",
            "Requirement already satisfied: cachetools<6.0,>=2.0.0 in /usr/local/lib/python3.11/dist-packages (from google-auth<3,>=1.6.3->tensorboard<2.13,>=2.12->tensorflow==2.12) (5.5.2)\n",
            "Requirement already satisfied: pyasn1-modules>=0.2.1 in /usr/local/lib/python3.11/dist-packages (from google-auth<3,>=1.6.3->tensorboard<2.13,>=2.12->tensorflow==2.12) (0.4.2)\n",
            "Requirement already satisfied: rsa<5,>=3.1.4 in /usr/local/lib/python3.11/dist-packages (from google-auth<3,>=1.6.3->tensorboard<2.13,>=2.12->tensorflow==2.12) (4.9.1)\n",
            "Requirement already satisfied: requests-oauthlib>=0.7.0 in /usr/local/lib/python3.11/dist-packages (from google-auth-oauthlib<1.1,>=0.5->tensorboard<2.13,>=2.12->tensorflow==2.12) (2.0.0)\n",
            "Requirement already satisfied: charset-normalizer<4,>=2 in /usr/local/lib/python3.11/dist-packages (from requests<3,>=2.21.0->tensorboard<2.13,>=2.12->tensorflow==2.12) (3.4.2)\n",
            "Requirement already satisfied: idna<4,>=2.5 in /usr/local/lib/python3.11/dist-packages (from requests<3,>=2.21.0->tensorboard<2.13,>=2.12->tensorflow==2.12) (3.10)\n",
            "Requirement already satisfied: urllib3<3,>=1.21.1 in /usr/local/lib/python3.11/dist-packages (from requests<3,>=2.21.0->tensorboard<2.13,>=2.12->tensorflow==2.12) (2.4.0)\n",
            "Requirement already satisfied: certifi>=2017.4.17 in /usr/local/lib/python3.11/dist-packages (from requests<3,>=2.21.0->tensorboard<2.13,>=2.12->tensorflow==2.12) (2025.6.15)\n",
            "Requirement already satisfied: MarkupSafe>=2.1.1 in /usr/local/lib/python3.11/dist-packages (from werkzeug>=1.0.1->tensorboard<2.13,>=2.12->tensorflow==2.12) (3.0.2)\n",
            "Requirement already satisfied: pyasn1<0.7.0,>=0.6.1 in /usr/local/lib/python3.11/dist-packages (from pyasn1-modules>=0.2.1->google-auth<3,>=1.6.3->tensorboard<2.13,>=2.12->tensorflow==2.12) (0.6.1)\n",
            "Requirement already satisfied: oauthlib>=3.0.0 in /usr/local/lib/python3.11/dist-packages (from requests-oauthlib>=0.7.0->google-auth-oauthlib<1.1,>=0.5->tensorboard<2.13,>=2.12->tensorflow==2.12) (3.3.1)\n"
          ]
        }
      ],
      "source": [
        "if IN_COLAB:\n",
        "  %pip install gym==0.17.3\n",
        "  %pip install git+https://github.com/Kojoley/atari-py.git\n",
        "  %pip install keras-rl2==1.0.5\n",
        "  %pip install tensorflow==2.12  #2.8\n",
        "else:\n",
        "  %pip install gym==0.17.3\n",
        "  %pip install git+https://github.com/Kojoley/atari-py.git\n",
        "  %pip install pyglet==1.5.0\n",
        "  %pip install h5py==3.1.0\n",
        "  %pip install Pillow==9.5.0\n",
        "  %pip install keras-rl2==1.0.5\n",
        "  %pip install Keras==2.2.4\n",
        "  %pip install tensorflow==2.5.3\n",
        "  %pip install torch==2.0.1\n",
        "  %pip install agents==1.4.0"
      ]
    },
    {
      "cell_type": "markdown",
      "metadata": {
        "id": "mS60Dk-KO5e3"
      },
      "source": [
        "## **PARTE 3**. Desarrollo y preguntas\n",
        "Importar librerías"
      ]
    },
    {
      "cell_type": "code",
      "execution_count": 15,
      "metadata": {
        "id": "RX-2z9T1NPp_"
      },
      "outputs": [],
      "source": [
        "from __future__ import division\n",
        "\n",
        "from PIL import Image\n",
        "import numpy as np\n",
        "import gym\n",
        "\n",
        "from tensorflow.keras.models import Sequential\n",
        "from tensorflow.keras.layers import Dense, Activation, Flatten, Convolution2D, Permute\n",
        "#from tensorflow.keras.optimizers import Adam\n",
        "import tensorflow.keras.backend as K\n",
        "\n",
        "from rl.agents.dqn import DQNAgent\n",
        "from rl.policy import LinearAnnealedPolicy, BoltzmannQPolicy, EpsGreedyQPolicy\n",
        "from rl.memory import SequentialMemory\n",
        "from rl.core import Processor\n",
        "from rl.callbacks import FileLogger, ModelIntervalCheckpoint"
      ]
    },
    {
      "cell_type": "markdown",
      "metadata": {
        "id": "NqJbsVR7POZA"
      },
      "source": [
        "#### Configuración base"
      ]
    },
    {
      "cell_type": "code",
      "execution_count": 16,
      "metadata": {
        "colab": {
          "base_uri": "https://localhost:8080/"
        },
        "id": "0FlafEtvOKR4",
        "outputId": "ea03885c-6937-49ab-c3d9-fa0615acbc99"
      },
      "outputs": [
        {
          "output_type": "stream",
          "name": "stdout",
          "text": [
            "210 160 3\n",
            "Forma de la observación: (210, 160, 3)\n"
          ]
        },
        {
          "output_type": "execute_result",
          "data": {
            "text/plain": [
              "['NOOP', 'FIRE', 'RIGHT', 'LEFT', 'RIGHTFIRE', 'LEFTFIRE']"
            ]
          },
          "metadata": {},
          "execution_count": 16
        }
      ],
      "source": [
        "INPUT_SHAPE = (84, 84)\n",
        "WINDOW_LENGTH = 4\n",
        "\n",
        "env_name = 'SpaceInvaders-v0'\n",
        "env = gym.make(env_name)\n",
        "\n",
        "np.random.seed(123)\n",
        "env.seed(123)\n",
        "nb_actions = env.action_space.n\n",
        "\n",
        "#--- nuevo -- ejfm\n",
        "height, width, channels = env.observation_space.shape\n",
        "obs = env.reset()\n",
        "print(height, width, channels)\n",
        "print(\"Forma de la observación:\", obs.shape)  # Debe ser (height, width, channels)\n",
        "env.unwrapped.get_action_meanings()"
      ]
    },
    {
      "cell_type": "code",
      "execution_count": 17,
      "metadata": {
        "id": "YSGPGszsOOAw"
      },
      "outputs": [],
      "source": [
        "class AtariProcessor(Processor):\n",
        "    def process_observation(self, observation):\n",
        "        assert observation.ndim == 3  # (height, width, channel)\n",
        "        img = Image.fromarray(observation)\n",
        "        img = img.resize(INPUT_SHAPE).convert('L')\n",
        "        processed_observation = np.array(img)\n",
        "        assert processed_observation.shape == INPUT_SHAPE\n",
        "        return processed_observation.astype('uint8')\n",
        "\n",
        "    def process_state_batch(self, batch):\n",
        "        # Convertir a float y escalar\n",
        "        # Linea Agregada\n",
        "        if isinstance(batch, list):\n",
        "          batch = np.array(batch)\n",
        "\n",
        "        batch = batch.astype('float32') / 255.\n",
        "\n",
        "        # 👇 Elimina el canal innecesario si existe (forma (B, 4, 84, 84, 1))\n",
        "        if batch.ndim == 5 and batch.shape[-1] == 1:\n",
        "            batch = np.squeeze(batch, axis=-1)\n",
        "\n",
        "        return batch\n",
        "\n",
        "    def process_reward(self, reward):\n",
        "        return np.clip(reward, -1., 1.)\n"
      ]
    },
    {
      "cell_type": "markdown",
      "metadata": {
        "id": "Sg54U9vFZEBQ"
      },
      "source": [
        "## 1. EJFM Implementación de la red neuronal"
      ]
    },
    {
      "cell_type": "code",
      "execution_count": 18,
      "metadata": {
        "id": "aiE1_aXXmQM7"
      },
      "outputs": [],
      "source": [
        "import tensorflow as tf\n",
        "\n",
        "class NoisyDense(tf.keras.layers.Layer):\n",
        "    def __init__(self, units, sigma_init=0.05, **kwargs):\n",
        "        super(NoisyDense, self).__init__(**kwargs)\n",
        "        self.units = units\n",
        "        self.sigma_init = sigma_init\n",
        "\n",
        "    def build(self, input_shape):\n",
        "        input_dim = int(input_shape[-1])\n",
        "        self.mu_W = self.add_weight(\"mu_W\", shape=(input_dim, self.units),\n",
        "                                    initializer='random_uniform', trainable=True)\n",
        "        self.sigma_W = self.add_weight(\"sigma_W\", shape=(input_dim, self.units),\n",
        "                                       initializer=tf.keras.initializers.Constant(self.sigma_init), trainable=True)\n",
        "        self.mu_b = self.add_weight(\"mu_b\", shape=(self.units,),\n",
        "                                    initializer='zeros', trainable=True)\n",
        "        self.sigma_b = self.add_weight(\"sigma_b\", shape=(self.units,),\n",
        "                                       initializer=tf.keras.initializers.Constant(self.sigma_init), trainable=True)\n",
        "\n",
        "    def call(self, x):\n",
        "        epsilon_W = tf.random.normal((x.shape[-1], self.units))\n",
        "        epsilon_b = tf.random.normal((self.units,))\n",
        "        W = self.mu_W + self.sigma_W * epsilon_W\n",
        "        b = self.mu_b + self.sigma_b * epsilon_b\n",
        "        return tf.matmul(x, W) + b\n",
        "\n",
        "    def get_config(self):\n",
        "        config = super(NoisyDense, self).get_config()\n",
        "        config.update({\n",
        "            \"units\": self.units,\n",
        "            \"sigma_init\": self.sigma_init\n",
        "        })\n",
        "        return config\n"
      ]
    },
    {
      "cell_type": "code",
      "execution_count": 19,
      "metadata": {
        "colab": {
          "base_uri": "https://localhost:8080/"
        },
        "id": "pygz71TLmV2t",
        "outputId": "0c47dfc1-d9d5-4df4-d56d-5978795791d3"
      },
      "outputs": [
        {
          "output_type": "stream",
          "name": "stdout",
          "text": [
            "Model: \"model_1\"\n",
            "_________________________________________________________________\n",
            " Layer (type)                Output Shape              Param #   \n",
            "=================================================================\n",
            " input_2 (InputLayer)        [(None, 4, 84, 84)]       0         \n",
            "                                                                 \n",
            " permute_1 (Permute)         (None, 84, 84, 4)         0         \n",
            "                                                                 \n",
            " conv2d_3 (Conv2D)           (None, 20, 20, 32)        8224      \n",
            "                                                                 \n",
            " conv2d_4 (Conv2D)           (None, 9, 9, 64)          32832     \n",
            "                                                                 \n",
            " conv2d_5 (Conv2D)           (None, 7, 7, 64)          36928     \n",
            "                                                                 \n",
            " flatten_1 (Flatten)         (None, 3136)              0         \n",
            "                                                                 \n",
            " noisy_dense_2 (NoisyDense)  (None, 512)               3212288   \n",
            "                                                                 \n",
            " activation_1 (Activation)   (None, 512)               0         \n",
            "                                                                 \n",
            " noisy_dense_3 (NoisyDense)  (None, 6)                 6156      \n",
            "                                                                 \n",
            "=================================================================\n",
            "Total params: 3,296,428\n",
            "Trainable params: 3,296,428\n",
            "Non-trainable params: 0\n",
            "_________________________________________________________________\n"
          ]
        }
      ],
      "source": [
        "from tensorflow.keras.models import Model\n",
        "from tensorflow.keras.layers import Input, Permute, Convolution2D, Flatten, Activation\n",
        "\n",
        "input_layer = Input(shape=(WINDOW_LENGTH,) + INPUT_SHAPE)\n",
        "perm = Permute((2, 3, 1))(input_layer)  # Canal al final\n",
        "conv1 = Convolution2D(32, (8, 8), strides=(4, 4), activation='relu')(perm)\n",
        "conv2 = Convolution2D(64, (4, 4), strides=(2, 2), activation='relu')(conv1)\n",
        "conv3 = Convolution2D(64, (3, 3), strides=(1, 1), activation='relu')(conv2)\n",
        "flat = Flatten()(conv3)\n",
        "\n",
        "noisy1 = NoisyDense(512)(flat)\n",
        "noisy1 = Activation('relu')(noisy1)\n",
        "output_layer = NoisyDense(nb_actions)(noisy1)\n",
        "\n",
        "model = Model(inputs=input_layer, outputs=output_layer)\n",
        "model.summary()\n"
      ]
    },
    {
      "cell_type": "code",
      "execution_count": 20,
      "metadata": {
        "id": "_H6vbJsFsnKi"
      },
      "outputs": [],
      "source": [
        "# Registrar la capa personalizada (una sola vez en todo el código)\n",
        "from tensorflow.keras.utils import get_custom_objects\n",
        "get_custom_objects().update({'NoisyDense': NoisyDense})"
      ]
    },
    {
      "cell_type": "markdown",
      "metadata": {
        "id": "KwJoe_1sZOX4"
      },
      "source": [
        "## 2. EJFM Implementación de la solución DQN"
      ]
    },
    {
      "cell_type": "markdown",
      "metadata": {
        "id": "mANAV3rVJXt7"
      },
      "source": [
        "### Ejecución Inicial\n",
        "\n"
      ]
    },
    {
      "cell_type": "code",
      "execution_count": 21,
      "metadata": {
        "colab": {
          "base_uri": "https://localhost:8080/"
        },
        "id": "KU6UKvVYXESO",
        "outputId": "0cfd3f9d-ddea-490d-e1e2-dd05fbcb91ec"
      },
      "outputs": [
        {
          "output_type": "stream",
          "name": "stdout",
          "text": [
            "Creando nueva memoria...\n"
          ]
        }
      ],
      "source": [
        "####### Solución DQN #######\n",
        "\n",
        "import os\n",
        "import pickle\n",
        "\n",
        "# INTENTAR CARGAR LA MEMORIA\n",
        "memory_file = 'memory_noisy.pkl'\n",
        "if os.path.exists(memory_file):\n",
        "    print(\"Cargando memoria desde archivo...\")\n",
        "    with open(memory_file, 'rb') as f:\n",
        "        memory = pickle.load(f)\n",
        "else:\n",
        "    print(\"Creando nueva memoria...\")\n",
        "    memory = SequentialMemory(limit=1000000, window_length=4)\n",
        "\n",
        "# Crear política como de costumbre\n",
        "#policy = BoltzmannQPolicy()\n",
        "policy = EpsGreedyQPolicy(eps=0.0)\n",
        "\n",
        "# Crear agente\n",
        "dqn = DQNAgent(model=model, nb_actions=nb_actions, policy=policy, memory=memory,\n",
        "               processor=AtariProcessor(), nb_steps_warmup=50000, gamma=0.99,\n",
        "               target_model_update=10000, train_interval=4, delta_clip=5)\n",
        "\n",
        "# Compilar agente\n",
        "#dqn.compile(optimizer='adam', metrics=['mae'])\n",
        "#dqn.compile(optimizer=Adam(learning_rate=0.0001), metrics=['mae'])\n",
        "\n",
        "from tensorflow.keras.optimizers.legacy import Adam     # ← incluye get_updates\n",
        "# Compilar agente\n",
        "dqn.compile(optimizer=Adam(learning_rate=5e-5), metrics=['mae'])"
      ]
    },
    {
      "cell_type": "code",
      "execution_count": 22,
      "metadata": {
        "id": "SEmhFU4mYzh-"
      },
      "outputs": [],
      "source": [
        "####### Crear directorios  logs y checkpoints #######\n",
        "\n",
        "import os\n",
        "log_dir = os.path.join(drive_root, \"logs\")\n",
        "checkpoint_dir = os.path.join(drive_root, \"checkpoints\")\n",
        "os.makedirs(log_dir, exist_ok=True)\n",
        "os.makedirs(checkpoint_dir, exist_ok=True)\n",
        "\n",
        "# Función para restaurar pesos más adelante\n",
        "import re\n",
        "\n",
        "def load_latest_weights(agent, checkpoint_dir, prefix=\"dqn_noisy_weights_\"):\n",
        "    \"\"\"\n",
        "    Busca el checkpoint más reciente, carga los pesos y retorna info útil.\n",
        "\n",
        "    Parámetros:\n",
        "        agent: el agente DQN ya creado y compilado.\n",
        "        checkpoint_dir: carpeta con los archivos de pesos.\n",
        "        prefix: prefijo de los archivos de pesos.\n",
        "\n",
        "    Retorna:\n",
        "        (ruta_archivo, pasos_entrenados) o (None, 0) si no se encuentra nada.\n",
        "    \"\"\"\n",
        "    files = [f for f in os.listdir(checkpoint_dir) if f.endswith(\".h5\")]\n",
        "    pattern = re.compile(rf\"{re.escape(prefix)}(\\d+)\\.h5\")\n",
        "\n",
        "    candidates = []\n",
        "    for f in files:\n",
        "        match = pattern.match(f)\n",
        "        if match:\n",
        "            step = int(match.group(1))\n",
        "            candidates.append((step, f))\n",
        "\n",
        "    if not candidates:\n",
        "        print(\"⚠️ No se encontraron checkpoints en:\", checkpoint_dir)\n",
        "        return None, 0\n",
        "\n",
        "    # Escoger el de mayor número de pasos\n",
        "    latest_step, latest_file = max(candidates, key=lambda x: x[0])\n",
        "    latest_path = os.path.join(checkpoint_dir, latest_file)\n",
        "\n",
        "    print(f\"✅ Cargando pesos desde: {latest_path} (pasos entrenados: {latest_step})\")\n",
        "    agent.load_weights(latest_path)\n",
        "    return latest_path, latest_step\n"
      ]
    },
    {
      "cell_type": "code",
      "execution_count": 23,
      "metadata": {
        "colab": {
          "base_uri": "https://localhost:8080/"
        },
        "id": "n4rsQm4_zc5J",
        "outputId": "4d0e716b-82f8-4162-9918-4faa7d937e80"
      },
      "outputs": [
        {
          "output_type": "stream",
          "name": "stdout",
          "text": [
            "⚠️ No se encontraron checkpoints en: /content/gdrive/My Drive/MODELO 15/checkpoints\n"
          ]
        }
      ],
      "source": [
        "# Cargar pesos anteriores si existen\n",
        "_, trained_steps = load_latest_weights(dqn, checkpoint_dir)\n",
        "\n",
        "# Definir pasos a entrenar\n",
        "steps_to_train = 100000\n",
        "total_steps = trained_steps + steps_to_train\n",
        "\n",
        "# Crear paths y callbacks dinámicos\n",
        "log_path = os.path.join(log_dir, f\"dqn_noisy_log_{trained_steps}_{total_steps}.json\")\n",
        "checkpoint_path = os.path.join(checkpoint_dir, f\"dqn_noisy_weights_{total_steps}.h5\")\n",
        "\n",
        "logger_callback = FileLogger(log_path, interval=100)\n",
        "checkpoint_callback = ModelIntervalCheckpoint(checkpoint_path, interval=10000)"
      ]
    },
    {
      "cell_type": "markdown",
      "metadata": {
        "id": "Qj8CoQ2mhISX"
      },
      "source": [
        "### Primera **Ejecución**"
      ]
    },
    {
      "cell_type": "code",
      "execution_count": 24,
      "metadata": {
        "colab": {
          "base_uri": "https://localhost:8080/"
        },
        "id": "LLbFoBPFXGcV",
        "outputId": "af902357-84e0-4d99-bf19-bdf1c0de9b8b"
      },
      "outputs": [
        {
          "output_type": "stream",
          "name": "stdout",
          "text": [
            "⚠️ No se encontraron checkpoints en: /content/gdrive/My Drive/MODELO 15/checkpoints\n",
            "Training for 100000 steps ...\n"
          ]
        },
        {
          "output_type": "stream",
          "name": "stderr",
          "text": [
            "/usr/local/lib/python3.11/dist-packages/keras/engine/training_v1.py:2359: UserWarning: `Model.state_updates` will be removed in a future version. This property should not be used in TensorFlow 2.0, as `updates` are applied automatically.\n",
            "  updates=self.state_updates,\n"
          ]
        },
        {
          "output_type": "stream",
          "name": "stdout",
          "text": [
            "  1045/100000: episode: 1, duration: 49.809s, episode steps: 1045, steps per second:  21, episode reward: 18.000, mean reward:  0.017 [ 0.000,  1.000], mean action: 2.068 [0.000, 5.000],  loss: --, mae: --, mean_q: --\n",
            "  1765/100000: episode: 2, duration: 27.290s, episode steps: 720, steps per second:  26, episode reward: 10.000, mean reward:  0.014 [ 0.000,  1.000], mean action: 2.014 [0.000, 5.000],  loss: --, mae: --, mean_q: --\n",
            "  2728/100000: episode: 3, duration: 37.665s, episode steps: 963, steps per second:  26, episode reward: 17.000, mean reward:  0.018 [ 0.000,  1.000], mean action: 2.015 [0.000, 5.000],  loss: --, mae: --, mean_q: --\n",
            "  3272/100000: episode: 4, duration: 21.636s, episode steps: 544, steps per second:  25, episode reward:  8.000, mean reward:  0.015 [ 0.000,  1.000], mean action: 2.070 [0.000, 5.000],  loss: --, mae: --, mean_q: --\n",
            "  3919/100000: episode: 5, duration: 24.962s, episode steps: 647, steps per second:  26, episode reward: 14.000, mean reward:  0.022 [ 0.000,  1.000], mean action: 2.063 [0.000, 5.000],  loss: --, mae: --, mean_q: --\n",
            "  4613/100000: episode: 6, duration: 27.445s, episode steps: 694, steps per second:  25, episode reward: 14.000, mean reward:  0.020 [ 0.000,  1.000], mean action: 2.095 [0.000, 5.000],  loss: --, mae: --, mean_q: --\n",
            "  5307/100000: episode: 7, duration: 26.580s, episode steps: 694, steps per second:  26, episode reward:  9.000, mean reward:  0.013 [ 0.000,  1.000], mean action: 2.042 [0.000, 5.000],  loss: --, mae: --, mean_q: --\n",
            "  5965/100000: episode: 8, duration: 29.589s, episode steps: 658, steps per second:  22, episode reward:  9.000, mean reward:  0.014 [ 0.000,  1.000], mean action: 1.982 [0.000, 5.000],  loss: --, mae: --, mean_q: --\n",
            "  6665/100000: episode: 9, duration: 26.807s, episode steps: 700, steps per second:  26, episode reward: 14.000, mean reward:  0.020 [ 0.000,  1.000], mean action: 2.163 [0.000, 5.000],  loss: --, mae: --, mean_q: --\n",
            "  7891/100000: episode: 10, duration: 47.703s, episode steps: 1226, steps per second:  26, episode reward: 19.000, mean reward:  0.015 [ 0.000,  1.000], mean action: 2.095 [0.000, 5.000],  loss: --, mae: --, mean_q: --\n",
            "  8342/100000: episode: 11, duration: 16.833s, episode steps: 451, steps per second:  27, episode reward:  7.000, mean reward:  0.016 [ 0.000,  1.000], mean action: 1.978 [0.000, 5.000],  loss: --, mae: --, mean_q: --\n",
            "  8830/100000: episode: 12, duration: 19.798s, episode steps: 488, steps per second:  25, episode reward: 10.000, mean reward:  0.020 [ 0.000,  1.000], mean action: 2.090 [0.000, 5.000],  loss: --, mae: --, mean_q: --\n",
            "  9362/100000: episode: 13, duration: 19.431s, episode steps: 532, steps per second:  27, episode reward:  5.000, mean reward:  0.009 [ 0.000,  1.000], mean action: 1.996 [0.000, 5.000],  loss: --, mae: --, mean_q: --\n",
            " 10565/100000: episode: 14, duration: 45.481s, episode steps: 1203, steps per second:  26, episode reward: 24.000, mean reward:  0.020 [ 0.000,  1.000], mean action: 2.115 [0.000, 5.000],  loss: --, mae: --, mean_q: --\n",
            " 11649/100000: episode: 15, duration: 42.946s, episode steps: 1084, steps per second:  25, episode reward: 19.000, mean reward:  0.018 [ 0.000,  1.000], mean action: 2.096 [0.000, 5.000],  loss: --, mae: --, mean_q: --\n",
            " 12053/100000: episode: 16, duration: 15.233s, episode steps: 404, steps per second:  27, episode reward:  8.000, mean reward:  0.020 [ 0.000,  1.000], mean action: 2.005 [0.000, 5.000],  loss: --, mae: --, mean_q: --\n",
            " 12867/100000: episode: 17, duration: 32.859s, episode steps: 814, steps per second:  25, episode reward:  8.000, mean reward:  0.010 [ 0.000,  1.000], mean action: 2.160 [0.000, 5.000],  loss: --, mae: --, mean_q: --\n",
            " 13381/100000: episode: 18, duration: 18.907s, episode steps: 514, steps per second:  27, episode reward:  4.000, mean reward:  0.008 [ 0.000,  1.000], mean action: 2.099 [0.000, 5.000],  loss: --, mae: --, mean_q: --\n",
            " 13984/100000: episode: 19, duration: 23.543s, episode steps: 603, steps per second:  26, episode reward: 10.000, mean reward:  0.017 [ 0.000,  1.000], mean action: 1.940 [0.000, 5.000],  loss: --, mae: --, mean_q: --\n",
            " 14466/100000: episode: 20, duration: 17.731s, episode steps: 482, steps per second:  27, episode reward:  9.000, mean reward:  0.019 [ 0.000,  1.000], mean action: 2.131 [0.000, 5.000],  loss: --, mae: --, mean_q: --\n",
            " 15145/100000: episode: 21, duration: 27.841s, episode steps: 679, steps per second:  24, episode reward:  7.000, mean reward:  0.010 [ 0.000,  1.000], mean action: 2.052 [0.000, 5.000],  loss: --, mae: --, mean_q: --\n",
            " 16082/100000: episode: 22, duration: 34.609s, episode steps: 937, steps per second:  27, episode reward: 14.000, mean reward:  0.015 [ 0.000,  1.000], mean action: 2.053 [0.000, 5.000],  loss: --, mae: --, mean_q: --\n",
            " 16486/100000: episode: 23, duration: 15.684s, episode steps: 404, steps per second:  26, episode reward:  6.000, mean reward:  0.015 [ 0.000,  1.000], mean action: 1.839 [0.000, 5.000],  loss: --, mae: --, mean_q: --\n",
            " 16994/100000: episode: 24, duration: 19.974s, episode steps: 508, steps per second:  25, episode reward: 10.000, mean reward:  0.020 [ 0.000,  1.000], mean action: 2.100 [0.000, 5.000],  loss: --, mae: --, mean_q: --\n",
            " 17530/100000: episode: 25, duration: 19.582s, episode steps: 536, steps per second:  27, episode reward:  5.000, mean reward:  0.009 [ 0.000,  1.000], mean action: 1.991 [0.000, 5.000],  loss: --, mae: --, mean_q: --\n",
            " 18619/100000: episode: 26, duration: 41.365s, episode steps: 1089, steps per second:  26, episode reward: 15.000, mean reward:  0.014 [ 0.000,  1.000], mean action: 2.071 [0.000, 5.000],  loss: --, mae: --, mean_q: --\n",
            " 19290/100000: episode: 27, duration: 27.515s, episode steps: 671, steps per second:  24, episode reward:  8.000, mean reward:  0.012 [ 0.000,  1.000], mean action: 1.984 [0.000, 5.000],  loss: --, mae: --, mean_q: --\n",
            " 20085/100000: episode: 28, duration: 30.235s, episode steps: 795, steps per second:  26, episode reward: 13.000, mean reward:  0.016 [ 0.000,  1.000], mean action: 2.135 [0.000, 5.000],  loss: --, mae: --, mean_q: --\n",
            " 20733/100000: episode: 29, duration: 25.130s, episode steps: 648, steps per second:  26, episode reward: 12.000, mean reward:  0.019 [ 0.000,  1.000], mean action: 2.150 [0.000, 5.000],  loss: --, mae: --, mean_q: --\n",
            " 21504/100000: episode: 30, duration: 29.217s, episode steps: 771, steps per second:  26, episode reward: 11.000, mean reward:  0.014 [ 0.000,  1.000], mean action: 2.054 [0.000, 5.000],  loss: --, mae: --, mean_q: --\n",
            " 22322/100000: episode: 31, duration: 30.636s, episode steps: 818, steps per second:  27, episode reward: 11.000, mean reward:  0.013 [ 0.000,  1.000], mean action: 2.005 [0.000, 5.000],  loss: --, mae: --, mean_q: --\n",
            " 23475/100000: episode: 32, duration: 45.891s, episode steps: 1153, steps per second:  25, episode reward: 21.000, mean reward:  0.018 [ 0.000,  1.000], mean action: 2.070 [0.000, 5.000],  loss: --, mae: --, mean_q: --\n",
            " 24128/100000: episode: 33, duration: 24.434s, episode steps: 653, steps per second:  27, episode reward:  9.000, mean reward:  0.014 [ 0.000,  1.000], mean action: 2.012 [0.000, 5.000],  loss: --, mae: --, mean_q: --\n",
            " 24973/100000: episode: 34, duration: 32.295s, episode steps: 845, steps per second:  26, episode reward: 15.000, mean reward:  0.018 [ 0.000,  1.000], mean action: 1.916 [0.000, 5.000],  loss: --, mae: --, mean_q: --\n",
            " 25406/100000: episode: 35, duration: 17.213s, episode steps: 433, steps per second:  25, episode reward:  7.000, mean reward:  0.016 [ 0.000,  1.000], mean action: 1.995 [0.000, 5.000],  loss: --, mae: --, mean_q: --\n",
            " 25866/100000: episode: 36, duration: 17.028s, episode steps: 460, steps per second:  27, episode reward:  4.000, mean reward:  0.009 [ 0.000,  1.000], mean action: 1.993 [0.000, 5.000],  loss: --, mae: --, mean_q: --\n",
            " 27236/100000: episode: 37, duration: 53.947s, episode steps: 1370, steps per second:  25, episode reward: 28.000, mean reward:  0.020 [ 0.000,  1.000], mean action: 2.035 [0.000, 5.000],  loss: --, mae: --, mean_q: --\n",
            " 28279/100000: episode: 38, duration: 38.532s, episode steps: 1043, steps per second:  27, episode reward: 20.000, mean reward:  0.019 [ 0.000,  1.000], mean action: 2.172 [0.000, 5.000],  loss: --, mae: --, mean_q: --\n",
            " 28669/100000: episode: 39, duration: 14.712s, episode steps: 390, steps per second:  27, episode reward:  7.000, mean reward:  0.018 [ 0.000,  1.000], mean action: 2.059 [0.000, 5.000],  loss: --, mae: --, mean_q: --\n",
            " 29161/100000: episode: 40, duration: 19.880s, episode steps: 492, steps per second:  25, episode reward: 10.000, mean reward:  0.020 [ 0.000,  1.000], mean action: 2.093 [0.000, 5.000],  loss: --, mae: --, mean_q: --\n",
            " 30049/100000: episode: 41, duration: 33.337s, episode steps: 888, steps per second:  27, episode reward: 25.000, mean reward:  0.028 [ 0.000,  1.000], mean action: 2.036 [0.000, 5.000],  loss: --, mae: --, mean_q: --\n",
            " 30685/100000: episode: 42, duration: 24.868s, episode steps: 636, steps per second:  26, episode reward:  9.000, mean reward:  0.014 [ 0.000,  1.000], mean action: 1.857 [0.000, 5.000],  loss: --, mae: --, mean_q: --\n",
            " 31054/100000: episode: 43, duration: 14.037s, episode steps: 369, steps per second:  26, episode reward:  4.000, mean reward:  0.011 [ 0.000,  1.000], mean action: 2.033 [0.000, 5.000],  loss: --, mae: --, mean_q: --\n",
            " 31502/100000: episode: 44, duration: 18.597s, episode steps: 448, steps per second:  24, episode reward:  7.000, mean reward:  0.016 [ 0.000,  1.000], mean action: 1.967 [0.000, 5.000],  loss: --, mae: --, mean_q: --\n",
            " 32033/100000: episode: 45, duration: 19.371s, episode steps: 531, steps per second:  27, episode reward:  4.000, mean reward:  0.008 [ 0.000,  1.000], mean action: 1.979 [0.000, 5.000],  loss: --, mae: --, mean_q: --\n",
            " 32848/100000: episode: 46, duration: 31.442s, episode steps: 815, steps per second:  26, episode reward: 13.000, mean reward:  0.016 [ 0.000,  1.000], mean action: 2.011 [0.000, 5.000],  loss: --, mae: --, mean_q: --\n",
            " 33252/100000: episode: 47, duration: 16.015s, episode steps: 404, steps per second:  25, episode reward:  4.000, mean reward:  0.010 [ 0.000,  1.000], mean action: 1.960 [0.000, 5.000],  loss: --, mae: --, mean_q: --\n",
            " 34026/100000: episode: 48, duration: 29.325s, episode steps: 774, steps per second:  26, episode reward: 14.000, mean reward:  0.018 [ 0.000,  1.000], mean action: 1.981 [0.000, 5.000],  loss: --, mae: --, mean_q: --\n",
            " 34639/100000: episode: 49, duration: 22.110s, episode steps: 613, steps per second:  28, episode reward:  8.000, mean reward:  0.013 [ 0.000,  1.000], mean action: 2.077 [0.000, 5.000],  loss: --, mae: --, mean_q: --\n",
            " 35307/100000: episode: 50, duration: 25.667s, episode steps: 668, steps per second:  26, episode reward:  8.000, mean reward:  0.012 [ 0.000,  1.000], mean action: 2.057 [0.000, 5.000],  loss: --, mae: --, mean_q: --\n",
            " 35888/100000: episode: 51, duration: 24.693s, episode steps: 581, steps per second:  24, episode reward:  7.000, mean reward:  0.012 [ 0.000,  1.000], mean action: 2.022 [0.000, 5.000],  loss: --, mae: --, mean_q: --\n",
            " 36641/100000: episode: 52, duration: 28.571s, episode steps: 753, steps per second:  26, episode reward: 12.000, mean reward:  0.016 [ 0.000,  1.000], mean action: 1.985 [0.000, 5.000],  loss: --, mae: --, mean_q: --\n",
            " 37258/100000: episode: 53, duration: 22.307s, episode steps: 617, steps per second:  28, episode reward: 13.000, mean reward:  0.021 [ 0.000,  1.000], mean action: 2.167 [0.000, 5.000],  loss: --, mae: --, mean_q: --\n",
            " 37919/100000: episode: 54, duration: 25.545s, episode steps: 661, steps per second:  26, episode reward:  9.000, mean reward:  0.014 [ 0.000,  1.000], mean action: 1.995 [0.000, 5.000],  loss: --, mae: --, mean_q: --\n",
            " 38702/100000: episode: 55, duration: 29.590s, episode steps: 783, steps per second:  26, episode reward: 18.000, mean reward:  0.023 [ 0.000,  1.000], mean action: 2.011 [0.000, 5.000],  loss: --, mae: --, mean_q: --\n",
            " 39344/100000: episode: 56, duration: 24.973s, episode steps: 642, steps per second:  26, episode reward:  8.000, mean reward:  0.012 [ 0.000,  1.000], mean action: 2.014 [0.000, 5.000],  loss: --, mae: --, mean_q: --\n",
            " 40129/100000: episode: 57, duration: 31.943s, episode steps: 785, steps per second:  25, episode reward:  8.000, mean reward:  0.010 [ 0.000,  1.000], mean action: 1.981 [0.000, 5.000],  loss: --, mae: --, mean_q: --\n",
            " 40815/100000: episode: 58, duration: 26.506s, episode steps: 686, steps per second:  26, episode reward: 12.000, mean reward:  0.017 [ 0.000,  1.000], mean action: 2.133 [0.000, 5.000],  loss: --, mae: --, mean_q: --\n",
            " 41437/100000: episode: 59, duration: 24.145s, episode steps: 622, steps per second:  26, episode reward:  8.000, mean reward:  0.013 [ 0.000,  1.000], mean action: 2.043 [0.000, 5.000],  loss: --, mae: --, mean_q: --\n",
            " 42202/100000: episode: 60, duration: 30.278s, episode steps: 765, steps per second:  25, episode reward:  7.000, mean reward:  0.009 [ 0.000,  1.000], mean action: 2.110 [0.000, 5.000],  loss: --, mae: --, mean_q: --\n",
            " 42890/100000: episode: 61, duration: 27.355s, episode steps: 688, steps per second:  25, episode reward:  9.000, mean reward:  0.013 [ 0.000,  1.000], mean action: 1.987 [0.000, 5.000],  loss: --, mae: --, mean_q: --\n",
            " 43434/100000: episode: 62, duration: 19.857s, episode steps: 544, steps per second:  27, episode reward:  7.000, mean reward:  0.013 [ 0.000,  1.000], mean action: 1.869 [0.000, 5.000],  loss: --, mae: --, mean_q: --\n",
            " 44033/100000: episode: 63, duration: 25.181s, episode steps: 599, steps per second:  24, episode reward:  5.000, mean reward:  0.008 [ 0.000,  1.000], mean action: 2.058 [0.000, 5.000],  loss: --, mae: --, mean_q: --\n",
            " 44860/100000: episode: 64, duration: 31.064s, episode steps: 827, steps per second:  27, episode reward: 13.000, mean reward:  0.016 [ 0.000,  1.000], mean action: 1.967 [0.000, 5.000],  loss: --, mae: --, mean_q: --\n",
            " 46013/100000: episode: 65, duration: 43.470s, episode steps: 1153, steps per second:  27, episode reward: 25.000, mean reward:  0.022 [ 0.000,  1.000], mean action: 2.041 [0.000, 5.000],  loss: --, mae: --, mean_q: --\n",
            " 46946/100000: episode: 66, duration: 36.050s, episode steps: 933, steps per second:  26, episode reward: 23.000, mean reward:  0.025 [ 0.000,  1.000], mean action: 2.063 [0.000, 5.000],  loss: --, mae: --, mean_q: --\n",
            " 47683/100000: episode: 67, duration: 27.882s, episode steps: 737, steps per second:  26, episode reward: 12.000, mean reward:  0.016 [ 0.000,  1.000], mean action: 1.932 [0.000, 5.000],  loss: --, mae: --, mean_q: --\n",
            " 48601/100000: episode: 68, duration: 35.689s, episode steps: 918, steps per second:  26, episode reward: 16.000, mean reward:  0.017 [ 0.000,  1.000], mean action: 2.059 [0.000, 5.000],  loss: --, mae: --, mean_q: --\n",
            " 49335/100000: episode: 69, duration: 27.734s, episode steps: 734, steps per second:  26, episode reward: 13.000, mean reward:  0.018 [ 0.000,  1.000], mean action: 2.157 [0.000, 5.000],  loss: --, mae: --, mean_q: --\n",
            " 49998/100000: episode: 70, duration: 25.530s, episode steps: 663, steps per second:  26, episode reward:  3.000, mean reward:  0.005 [ 0.000,  1.000], mean action: 2.078 [0.000, 5.000],  loss: --, mae: --, mean_q: --\n"
          ]
        },
        {
          "output_type": "stream",
          "name": "stderr",
          "text": [
            "/usr/local/lib/python3.11/dist-packages/keras/engine/training_v1.py:2359: UserWarning: `Model.state_updates` will be removed in a future version. This property should not be used in TensorFlow 2.0, as `updates` are applied automatically.\n",
            "  updates=self.state_updates,\n"
          ]
        },
        {
          "output_type": "stream",
          "name": "stdout",
          "text": [
            " 50725/100000: episode: 71, duration: 80.163s, episode steps: 727, steps per second:   9, episode reward: 10.000, mean reward:  0.014 [ 0.000,  1.000], mean action: 2.146 [0.000, 5.000],  loss: 0.014971, mae: 0.095978, mean_q: 0.181718\n",
            " 51547/100000: episode: 72, duration: 90.090s, episode steps: 822, steps per second:   9, episode reward: 12.000, mean reward:  0.015 [ 0.000,  1.000], mean action: 2.405 [0.000, 5.000],  loss: 0.012494, mae: 0.112217, mean_q: 0.209987\n",
            " 52010/100000: episode: 73, duration: 48.892s, episode steps: 463, steps per second:   9, episode reward:  3.000, mean reward:  0.006 [ 0.000,  1.000], mean action: 2.371 [0.000, 5.000],  loss: 0.011076, mae: 0.110747, mean_q: 0.199082\n",
            " 52812/100000: episode: 74, duration: 89.258s, episode steps: 802, steps per second:   9, episode reward: 11.000, mean reward:  0.014 [ 0.000,  1.000], mean action: 2.368 [0.000, 5.000],  loss: 0.011672, mae: 0.110413, mean_q: 0.197434\n",
            " 53261/100000: episode: 75, duration: 48.182s, episode steps: 449, steps per second:   9, episode reward:  5.000, mean reward:  0.011 [ 0.000,  1.000], mean action: 2.374 [0.000, 5.000],  loss: 0.011532, mae: 0.109202, mean_q: 0.190246\n",
            " 53946/100000: episode: 76, duration: 75.031s, episode steps: 685, steps per second:   9, episode reward:  7.000, mean reward:  0.010 [ 0.000,  1.000], mean action: 2.521 [0.000, 5.000],  loss: 0.009705, mae: 0.111190, mean_q: 0.191393\n",
            " 54838/100000: episode: 77, duration: 96.253s, episode steps: 892, steps per second:   9, episode reward: 10.000, mean reward:  0.011 [ 0.000,  1.000], mean action: 2.364 [0.000, 5.000],  loss: 0.011209, mae: 0.109894, mean_q: 0.187433\n",
            " 55801/100000: episode: 78, duration: 104.898s, episode steps: 963, steps per second:   9, episode reward: 10.000, mean reward:  0.010 [ 0.000,  1.000], mean action: 2.348 [0.000, 5.000],  loss: 0.011172, mae: 0.111153, mean_q: 0.183357\n",
            " 56978/100000: episode: 79, duration: 126.721s, episode steps: 1177, steps per second:   9, episode reward: 19.000, mean reward:  0.016 [ 0.000,  1.000], mean action: 2.359 [0.000, 5.000],  loss: 0.009427, mae: 0.111998, mean_q: 0.183902\n",
            " 57700/100000: episode: 80, duration: 80.398s, episode steps: 722, steps per second:   9, episode reward:  9.000, mean reward:  0.012 [ 0.000,  1.000], mean action: 2.334 [0.000, 5.000],  loss: 0.008126, mae: 0.106198, mean_q: 0.173501\n",
            " 58496/100000: episode: 81, duration: 85.936s, episode steps: 796, steps per second:   9, episode reward: 10.000, mean reward:  0.013 [ 0.000,  1.000], mean action: 2.379 [0.000, 5.000],  loss: 0.010017, mae: 0.109152, mean_q: 0.172649\n",
            " 59213/100000: episode: 82, duration: 78.524s, episode steps: 717, steps per second:   9, episode reward:  8.000, mean reward:  0.011 [ 0.000,  1.000], mean action: 2.261 [0.000, 5.000],  loss: 0.009993, mae: 0.109729, mean_q: 0.171345\n",
            " 59993/100000: episode: 83, duration: 83.957s, episode steps: 780, steps per second:   9, episode reward: 13.000, mean reward:  0.017 [ 0.000,  1.000], mean action: 2.335 [0.000, 5.000],  loss: 0.010198, mae: 0.105275, mean_q: 0.164853\n",
            " 60710/100000: episode: 84, duration: 80.867s, episode steps: 717, steps per second:   9, episode reward: 12.000, mean reward:  0.017 [ 0.000,  1.000], mean action: 2.329 [0.000, 5.000],  loss: 0.008741, mae: 0.140339, mean_q: 0.213564\n",
            " 62200/100000: episode: 85, duration: 161.469s, episode steps: 1490, steps per second:   9, episode reward: 12.000, mean reward:  0.008 [ 0.000,  1.000], mean action: 2.453 [0.000, 5.000],  loss: 0.009354, mae: 0.149033, mean_q: 0.223224\n",
            " 62702/100000: episode: 86, duration: 54.409s, episode steps: 502, steps per second:   9, episode reward:  7.000, mean reward:  0.014 [ 0.000,  1.000], mean action: 2.454 [0.000, 5.000],  loss: 0.009679, mae: 0.148670, mean_q: 0.221564\n",
            " 63093/100000: episode: 87, duration: 42.355s, episode steps: 391, steps per second:   9, episode reward:  9.000, mean reward:  0.023 [ 0.000,  1.000], mean action: 2.292 [0.000, 5.000],  loss: 0.008568, mae: 0.148317, mean_q: 0.215518\n",
            " 63792/100000: episode: 88, duration: 76.612s, episode steps: 699, steps per second:   9, episode reward: 13.000, mean reward:  0.019 [ 0.000,  1.000], mean action: 2.598 [0.000, 5.000],  loss: 0.008926, mae: 0.147359, mean_q: 0.215882\n",
            " 64512/100000: episode: 89, duration: 79.112s, episode steps: 720, steps per second:   9, episode reward:  8.000, mean reward:  0.011 [ 0.000,  1.000], mean action: 2.422 [0.000, 5.000],  loss: 0.008379, mae: 0.149783, mean_q: 0.219867\n",
            " 65023/100000: episode: 90, duration: 57.056s, episode steps: 511, steps per second:   9, episode reward:  7.000, mean reward:  0.014 [ 0.000,  1.000], mean action: 2.331 [0.000, 5.000],  loss: 0.008369, mae: 0.145954, mean_q: 0.213765\n",
            " 65895/100000: episode: 91, duration: 93.378s, episode steps: 872, steps per second:   9, episode reward: 16.000, mean reward:  0.018 [ 0.000,  1.000], mean action: 2.359 [0.000, 5.000],  loss: 0.008588, mae: 0.149982, mean_q: 0.216798\n",
            " 66861/100000: episode: 92, duration: 107.567s, episode steps: 966, steps per second:   9, episode reward: 15.000, mean reward:  0.016 [ 0.000,  1.000], mean action: 2.542 [0.000, 5.000],  loss: 0.008207, mae: 0.149235, mean_q: 0.214285\n",
            " 67431/100000: episode: 93, duration: 61.140s, episode steps: 570, steps per second:   9, episode reward:  6.000, mean reward:  0.011 [ 0.000,  1.000], mean action: 2.430 [0.000, 5.000],  loss: 0.009932, mae: 0.151381, mean_q: 0.217361\n",
            " 68289/100000: episode: 94, duration: 93.817s, episode steps: 858, steps per second:   9, episode reward: 13.000, mean reward:  0.015 [ 0.000,  1.000], mean action: 2.375 [0.000, 5.000],  loss: 0.009011, mae: 0.152805, mean_q: 0.214522\n",
            " 68920/100000: episode: 95, duration: 69.216s, episode steps: 631, steps per second:   9, episode reward:  7.000, mean reward:  0.011 [ 0.000,  1.000], mean action: 2.512 [0.000, 5.000],  loss: 0.008214, mae: 0.148256, mean_q: 0.209047\n",
            " 69403/100000: episode: 96, duration: 52.896s, episode steps: 483, steps per second:   9, episode reward:  6.000, mean reward:  0.012 [ 0.000,  1.000], mean action: 2.472 [0.000, 5.000],  loss: 0.010014, mae: 0.154523, mean_q: 0.218854\n",
            " 69848/100000: episode: 97, duration: 47.801s, episode steps: 445, steps per second:   9, episode reward:  7.000, mean reward:  0.016 [ 0.000,  1.000], mean action: 2.276 [0.000, 5.000],  loss: 0.008637, mae: 0.152625, mean_q: 0.216126\n",
            " 70244/100000: episode: 98, duration: 47.492s, episode steps: 396, steps per second:   8, episode reward:  3.000, mean reward:  0.008 [ 0.000,  1.000], mean action: 2.528 [0.000, 5.000],  loss: 0.009708, mae: 0.165200, mean_q: 0.231204\n",
            " 71061/100000: episode: 99, duration: 88.129s, episode steps: 817, steps per second:   9, episode reward: 12.000, mean reward:  0.015 [ 0.000,  1.000], mean action: 2.447 [0.000, 5.000],  loss: 0.009264, mae: 0.183446, mean_q: 0.254859\n",
            " 71738/100000: episode: 100, duration: 74.468s, episode steps: 677, steps per second:   9, episode reward: 10.000, mean reward:  0.015 [ 0.000,  1.000], mean action: 2.422 [0.000, 5.000],  loss: 0.008578, mae: 0.184679, mean_q: 0.256709\n",
            " 72168/100000: episode: 101, duration: 46.009s, episode steps: 430, steps per second:   9, episode reward:  5.000, mean reward:  0.012 [ 0.000,  1.000], mean action: 2.279 [0.000, 5.000],  loss: 0.008584, mae: 0.183439, mean_q: 0.254078\n",
            " 72679/100000: episode: 102, duration: 55.121s, episode steps: 511, steps per second:   9, episode reward:  7.000, mean reward:  0.014 [ 0.000,  1.000], mean action: 2.423 [0.000, 5.000],  loss: 0.007924, mae: 0.178184, mean_q: 0.246144\n",
            " 73190/100000: episode: 103, duration: 55.257s, episode steps: 511, steps per second:   9, episode reward:  8.000, mean reward:  0.016 [ 0.000,  1.000], mean action: 2.239 [0.000, 5.000],  loss: 0.008796, mae: 0.183332, mean_q: 0.250557\n",
            " 74334/100000: episode: 104, duration: 126.256s, episode steps: 1144, steps per second:   9, episode reward: 17.000, mean reward:  0.015 [ 0.000,  1.000], mean action: 2.281 [0.000, 5.000],  loss: 0.007435, mae: 0.179232, mean_q: 0.245935\n",
            " 74841/100000: episode: 105, duration: 55.118s, episode steps: 507, steps per second:   9, episode reward:  5.000, mean reward:  0.010 [ 0.000,  1.000], mean action: 2.302 [0.000, 5.000],  loss: 0.007977, mae: 0.183854, mean_q: 0.252255\n",
            " 75637/100000: episode: 106, duration: 87.503s, episode steps: 796, steps per second:   9, episode reward: 10.000, mean reward:  0.013 [ 0.000,  1.000], mean action: 2.303 [0.000, 5.000],  loss: 0.008817, mae: 0.183670, mean_q: 0.250141\n",
            " 76273/100000: episode: 107, duration: 68.847s, episode steps: 636, steps per second:   9, episode reward:  6.000, mean reward:  0.009 [ 0.000,  1.000], mean action: 2.354 [0.000, 5.000],  loss: 0.007565, mae: 0.182517, mean_q: 0.248572\n",
            " 76870/100000: episode: 108, duration: 66.857s, episode steps: 597, steps per second:   9, episode reward:  7.000, mean reward:  0.012 [ 0.000,  1.000], mean action: 2.358 [0.000, 5.000],  loss: 0.009078, mae: 0.184587, mean_q: 0.250411\n",
            " 77408/100000: episode: 109, duration: 58.152s, episode steps: 538, steps per second:   9, episode reward:  7.000, mean reward:  0.013 [ 0.000,  1.000], mean action: 1.924 [0.000, 5.000],  loss: 0.009171, mae: 0.184653, mean_q: 0.252392\n",
            " 78275/100000: episode: 110, duration: 92.543s, episode steps: 867, steps per second:   9, episode reward: 14.000, mean reward:  0.016 [ 0.000,  1.000], mean action: 2.170 [0.000, 5.000],  loss: 0.008990, mae: 0.184307, mean_q: 0.250063\n",
            " 79661/100000: episode: 111, duration: 152.169s, episode steps: 1386, steps per second:   9, episode reward: 24.000, mean reward:  0.017 [ 0.000,  1.000], mean action: 2.484 [0.000, 5.000],  loss: 0.007184, mae: 0.181259, mean_q: 0.243447\n",
            " 80210/100000: episode: 112, duration: 61.492s, episode steps: 549, steps per second:   9, episode reward:  7.000, mean reward:  0.013 [ 0.000,  1.000], mean action: 2.543 [0.000, 5.000],  loss: 0.007474, mae: 0.192035, mean_q: 0.259344\n",
            " 80857/100000: episode: 113, duration: 78.547s, episode steps: 647, steps per second:   8, episode reward:  7.000, mean reward:  0.011 [ 0.000,  1.000], mean action: 2.400 [0.000, 5.000],  loss: 0.009046, mae: 0.214301, mean_q: 0.285714\n",
            " 81275/100000: episode: 114, duration: 44.599s, episode steps: 418, steps per second:   9, episode reward:  6.000, mean reward:  0.014 [ 0.000,  1.000], mean action: 2.519 [0.000, 5.000],  loss: 0.005788, mae: 0.211038, mean_q: 0.283396\n",
            " 82164/100000: episode: 115, duration: 98.946s, episode steps: 889, steps per second:   9, episode reward: 18.000, mean reward:  0.020 [ 0.000,  1.000], mean action: 2.570 [0.000, 5.000],  loss: 0.008493, mae: 0.217986, mean_q: 0.289815\n",
            " 83092/100000: episode: 116, duration: 100.380s, episode steps: 928, steps per second:   9, episode reward: 19.000, mean reward:  0.020 [ 0.000,  1.000], mean action: 2.582 [0.000, 5.000],  loss: 0.007799, mae: 0.214297, mean_q: 0.283522\n",
            " 83876/100000: episode: 117, duration: 86.585s, episode steps: 784, steps per second:   9, episode reward: 12.000, mean reward:  0.015 [ 0.000,  1.000], mean action: 2.510 [0.000, 5.000],  loss: 0.008557, mae: 0.216139, mean_q: 0.287189\n",
            " 84971/100000: episode: 118, duration: 117.449s, episode steps: 1095, steps per second:   9, episode reward: 16.000, mean reward:  0.015 [ 0.000,  1.000], mean action: 2.553 [0.000, 5.000],  loss: 0.009595, mae: 0.218700, mean_q: 0.289343\n",
            " 85518/100000: episode: 119, duration: 60.592s, episode steps: 547, steps per second:   9, episode reward:  4.000, mean reward:  0.007 [ 0.000,  1.000], mean action: 2.702 [0.000, 5.000],  loss: 0.009872, mae: 0.216645, mean_q: 0.284033\n",
            " 86389/100000: episode: 120, duration: 94.538s, episode steps: 871, steps per second:   9, episode reward: 19.000, mean reward:  0.022 [ 0.000,  1.000], mean action: 2.564 [0.000, 5.000],  loss: 0.007568, mae: 0.213899, mean_q: 0.282533\n",
            " 87549/100000: episode: 121, duration: 127.133s, episode steps: 1160, steps per second:   9, episode reward: 19.000, mean reward:  0.016 [ 0.000,  1.000], mean action: 2.410 [0.000, 5.000],  loss: 0.008070, mae: 0.215967, mean_q: 0.283749\n",
            " 88352/100000: episode: 122, duration: 86.622s, episode steps: 803, steps per second:   9, episode reward: 11.000, mean reward:  0.014 [ 0.000,  1.000], mean action: 2.608 [0.000, 5.000],  loss: 0.007935, mae: 0.213645, mean_q: 0.281306\n",
            " 89146/100000: episode: 123, duration: 87.701s, episode steps: 794, steps per second:   9, episode reward: 11.000, mean reward:  0.014 [ 0.000,  1.000], mean action: 2.547 [0.000, 5.000],  loss: 0.006587, mae: 0.215521, mean_q: 0.284413\n",
            " 89850/100000: episode: 124, duration: 76.428s, episode steps: 704, steps per second:   9, episode reward: 10.000, mean reward:  0.014 [ 0.000,  1.000], mean action: 2.401 [0.000, 5.000],  loss: 0.007902, mae: 0.212263, mean_q: 0.277348\n",
            " 90507/100000: episode: 125, duration: 73.680s, episode steps: 657, steps per second:   9, episode reward:  6.000, mean reward:  0.009 [ 0.000,  1.000], mean action: 2.621 [0.000, 5.000],  loss: 0.008739, mae: 0.240662, mean_q: 0.314221\n",
            " 91270/100000: episode: 126, duration: 81.157s, episode steps: 763, steps per second:   9, episode reward:  7.000, mean reward:  0.009 [ 0.000,  1.000], mean action: 2.291 [0.000, 5.000],  loss: 0.007634, mae: 0.249894, mean_q: 0.326556\n",
            " 91813/100000: episode: 127, duration: 59.434s, episode steps: 543, steps per second:   9, episode reward:  7.000, mean reward:  0.013 [ 0.000,  1.000], mean action: 2.462 [0.000, 5.000],  loss: 0.007082, mae: 0.247764, mean_q: 0.324478\n",
            " 92303/100000: episode: 128, duration: 54.276s, episode steps: 490, steps per second:   9, episode reward:  6.000, mean reward:  0.012 [ 0.000,  1.000], mean action: 2.522 [0.000, 5.000],  loss: 0.009001, mae: 0.251673, mean_q: 0.328012\n",
            " 92796/100000: episode: 129, duration: 54.113s, episode steps: 493, steps per second:   9, episode reward:  6.000, mean reward:  0.012 [ 0.000,  1.000], mean action: 2.584 [0.000, 5.000],  loss: 0.008007, mae: 0.249773, mean_q: 0.325062\n",
            " 93654/100000: episode: 130, duration: 93.770s, episode steps: 858, steps per second:   9, episode reward: 11.000, mean reward:  0.013 [ 0.000,  1.000], mean action: 2.528 [0.000, 5.000],  loss: 0.007729, mae: 0.247808, mean_q: 0.320433\n",
            " 94300/100000: episode: 131, duration: 72.129s, episode steps: 646, steps per second:   9, episode reward: 10.000, mean reward:  0.015 [ 0.000,  1.000], mean action: 2.576 [0.000, 5.000],  loss: 0.009399, mae: 0.253956, mean_q: 0.327722\n",
            " 95861/100000: episode: 132, duration: 171.089s, episode steps: 1561, steps per second:   9, episode reward: 26.000, mean reward:  0.017 [ 0.000,  1.000], mean action: 2.604 [0.000, 5.000],  loss: 0.008604, mae: 0.250629, mean_q: 0.324389\n",
            " 96512/100000: episode: 133, duration: 70.411s, episode steps: 651, steps per second:   9, episode reward:  6.000, mean reward:  0.009 [ 0.000,  1.000], mean action: 2.599 [0.000, 5.000],  loss: 0.008047, mae: 0.250795, mean_q: 0.322115\n",
            " 97180/100000: episode: 134, duration: 72.950s, episode steps: 668, steps per second:   9, episode reward:  7.000, mean reward:  0.010 [ 0.000,  1.000], mean action: 2.430 [0.000, 5.000],  loss: 0.008618, mae: 0.253771, mean_q: 0.324822\n",
            " 97850/100000: episode: 135, duration: 74.441s, episode steps: 670, steps per second:   9, episode reward: 10.000, mean reward:  0.015 [ 0.000,  1.000], mean action: 2.630 [0.000, 5.000],  loss: 0.007130, mae: 0.249243, mean_q: 0.319353\n",
            " 98552/100000: episode: 136, duration: 75.577s, episode steps: 702, steps per second:   9, episode reward:  6.000, mean reward:  0.009 [ 0.000,  1.000], mean action: 2.407 [0.000, 5.000],  loss: 0.008661, mae: 0.249806, mean_q: 0.320111\n",
            " 99699/100000: episode: 137, duration: 127.173s, episode steps: 1147, steps per second:   9, episode reward: 22.000, mean reward:  0.019 [ 0.000,  1.000], mean action: 2.437 [0.000, 5.000],  loss: 0.007809, mae: 0.249953, mean_q: 0.321586\n",
            "done, took 7414.907 seconds\n"
          ]
        }
      ],
      "source": [
        "# Cargar último checkpoint\n",
        "latest_path, trained_steps = load_latest_weights(dqn, checkpoint_dir)\n",
        "\n",
        "# Entrenar agente\n",
        "dqn.fit(env, nb_steps=100000, visualize=False, verbose=2,\n",
        "        callbacks=[checkpoint_callback, logger_callback])\n",
        "\n",
        "# Guardar pesos finales en formato .h5 (compatible con load_weights)\n",
        "dqn.save_weights(os.path.join(checkpoint_dir, f\"dqn_noisy_weights_{total_steps}.h5\"), overwrite=True)\n",
        "\n",
        "# GUARDAR LA MEMORIA DE EXPERIENCIA\n",
        "import pickle\n",
        "with open('memory_noisy.pkl', 'wb') as f:\n",
        "    pickle.dump(memory, f)"
      ]
    },
    {
      "cell_type": "code",
      "execution_count": 25,
      "metadata": {
        "id": "hcqrLtRxi23X",
        "colab": {
          "base_uri": "https://localhost:8080/"
        },
        "outputId": "dccb9fe0-a79b-4ed7-c84a-4790d3d5770c"
      },
      "outputs": [
        {
          "output_type": "stream",
          "name": "stdout",
          "text": [
            "Esperando 60 segundos...\n",
            "¡Tiempo de espera terminado!\n"
          ]
        }
      ],
      "source": [
        "import time\n",
        "\n",
        "print(\"Esperando 60 segundos...\")\n",
        "time.sleep(60)\n",
        "print(\"¡Tiempo de espera terminado!\")"
      ]
    },
    {
      "cell_type": "code",
      "execution_count": 26,
      "metadata": {
        "id": "fuVSBuiyi56X",
        "colab": {
          "base_uri": "https://localhost:8080/"
        },
        "outputId": "5e562973-fb8d-4252-a37c-80c9c2acca59"
      },
      "outputs": [
        {
          "output_type": "stream",
          "name": "stdout",
          "text": [
            "✅ Cargando pesos desde: /content/gdrive/My Drive/MODELO 15/checkpoints/dqn_noisy_weights_100000.h5 (pasos entrenados: 100000)\n",
            "Testing for 10 episodes ...\n",
            "Episode 1: reward: 8.000, steps: 631\n",
            "Episode 2: reward: 16.000, steps: 963\n",
            "Episode 3: reward: 4.000, steps: 458\n",
            "Episode 4: reward: 10.000, steps: 538\n",
            "Episode 5: reward: 8.000, steps: 647\n",
            "Episode 6: reward: 4.000, steps: 353\n",
            "Episode 7: reward: 11.000, steps: 727\n",
            "Episode 8: reward: 5.000, steps: 401\n",
            "Episode 9: reward: 13.000, steps: 722\n",
            "Episode 10: reward: 11.000, steps: 698\n"
          ]
        }
      ],
      "source": [
        "# Testear desde último checkpoint\n",
        "latest_path, trained_steps = load_latest_weights(dqn, checkpoint_dir)\n",
        "if latest_path:\n",
        "    dqn.test(env, nb_episodes=10, visualize=False)"
      ]
    },
    {
      "cell_type": "markdown",
      "metadata": {
        "id": "CMKpo4cgDXND"
      },
      "source": [
        "### Parte 2"
      ]
    },
    {
      "cell_type": "code",
      "execution_count": null,
      "metadata": {
        "id": "8_fQUrYHDVG2",
        "colab": {
          "base_uri": "https://localhost:8080/"
        },
        "outputId": "0b884402-7611-4981-9b44-388efe035b33"
      },
      "outputs": [
        {
          "output_type": "stream",
          "name": "stdout",
          "text": [
            "✅ Cargando pesos desde: /content/gdrive/My Drive/MODELO 15/checkpoints/dqn_noisy_weights_100000.h5 (pasos entrenados: 100000)\n",
            "Training for 100000 steps ...\n",
            "   852/100000: episode: 1, duration: 31.737s, episode steps: 852, steps per second:  27, episode reward: 19.000, mean reward:  0.022 [ 0.000,  1.000], mean action: 2.170 [0.000, 5.000],  loss: --, mae: --, mean_q: --\n",
            "  1460/100000: episode: 2, duration: 23.680s, episode steps: 608, steps per second:  26, episode reward: 10.000, mean reward:  0.016 [ 0.000,  1.000], mean action: 2.188 [0.000, 5.000],  loss: --, mae: --, mean_q: --\n",
            "  2408/100000: episode: 3, duration: 36.453s, episode steps: 948, steps per second:  26, episode reward: 13.000, mean reward:  0.014 [ 0.000,  1.000], mean action: 2.134 [0.000, 5.000],  loss: --, mae: --, mean_q: --\n",
            "  2832/100000: episode: 4, duration: 16.155s, episode steps: 424, steps per second:  26, episode reward:  6.000, mean reward:  0.014 [ 0.000,  1.000], mean action: 2.170 [0.000, 5.000],  loss: --, mae: --, mean_q: --\n",
            "  3221/100000: episode: 5, duration: 14.960s, episode steps: 389, steps per second:  26, episode reward:  8.000, mean reward:  0.021 [ 0.000,  1.000], mean action: 2.082 [0.000, 5.000],  loss: --, mae: --, mean_q: --\n",
            "  3761/100000: episode: 6, duration: 19.717s, episode steps: 540, steps per second:  27, episode reward: 10.000, mean reward:  0.019 [ 0.000,  1.000], mean action: 2.148 [0.000, 5.000],  loss: --, mae: --, mean_q: --\n",
            "  4292/100000: episode: 7, duration: 22.964s, episode steps: 531, steps per second:  23, episode reward:  7.000, mean reward:  0.013 [ 0.000,  1.000], mean action: 2.247 [0.000, 5.000],  loss: --, mae: --, mean_q: --\n",
            "  5470/100000: episode: 8, duration: 44.510s, episode steps: 1178, steps per second:  26, episode reward: 24.000, mean reward:  0.020 [ 0.000,  1.000], mean action: 2.246 [0.000, 5.000],  loss: --, mae: --, mean_q: --\n",
            "  5972/100000: episode: 9, duration: 18.526s, episode steps: 502, steps per second:  27, episode reward:  7.000, mean reward:  0.014 [ 0.000,  1.000], mean action: 2.207 [0.000, 5.000],  loss: --, mae: --, mean_q: --\n",
            "  6651/100000: episode: 10, duration: 26.119s, episode steps: 679, steps per second:  26, episode reward: 10.000, mean reward:  0.015 [ 0.000,  1.000], mean action: 2.212 [0.000, 5.000],  loss: --, mae: --, mean_q: --\n",
            "  7263/100000: episode: 11, duration: 24.033s, episode steps: 612, steps per second:  25, episode reward: 10.000, mean reward:  0.016 [ 0.000,  1.000], mean action: 2.059 [0.000, 5.000],  loss: --, mae: --, mean_q: --\n",
            "  8579/100000: episode: 12, duration: 54.510s, episode steps: 1316, steps per second:  24, episode reward: 30.000, mean reward:  0.023 [ 0.000,  1.000], mean action: 2.119 [0.000, 5.000],  loss: --, mae: --, mean_q: --\n",
            "  9287/100000: episode: 13, duration: 29.160s, episode steps: 708, steps per second:  24, episode reward: 14.000, mean reward:  0.020 [ 0.000,  1.000], mean action: 2.162 [0.000, 5.000],  loss: --, mae: --, mean_q: --\n",
            "  9838/100000: episode: 14, duration: 20.809s, episode steps: 551, steps per second:  26, episode reward:  5.000, mean reward:  0.009 [ 0.000,  1.000], mean action: 2.122 [0.000, 5.000],  loss: --, mae: --, mean_q: --\n",
            " 10598/100000: episode: 15, duration: 29.051s, episode steps: 760, steps per second:  26, episode reward: 17.000, mean reward:  0.022 [ 0.000,  1.000], mean action: 2.155 [0.000, 5.000],  loss: --, mae: --, mean_q: --\n",
            " 11356/100000: episode: 16, duration: 28.763s, episode steps: 758, steps per second:  26, episode reward: 11.000, mean reward:  0.015 [ 0.000,  1.000], mean action: 2.100 [0.000, 5.000],  loss: --, mae: --, mean_q: --\n",
            " 12285/100000: episode: 17, duration: 36.040s, episode steps: 929, steps per second:  26, episode reward: 15.000, mean reward:  0.016 [ 0.000,  1.000], mean action: 2.206 [0.000, 5.000],  loss: --, mae: --, mean_q: --\n",
            " 13219/100000: episode: 18, duration: 34.800s, episode steps: 934, steps per second:  27, episode reward: 16.000, mean reward:  0.017 [ 0.000,  1.000], mean action: 2.161 [0.000, 5.000],  loss: --, mae: --, mean_q: --\n",
            " 13761/100000: episode: 19, duration: 23.515s, episode steps: 542, steps per second:  23, episode reward:  8.000, mean reward:  0.015 [ 0.000,  1.000], mean action: 2.229 [0.000, 5.000],  loss: --, mae: --, mean_q: --\n",
            " 14271/100000: episode: 20, duration: 18.852s, episode steps: 510, steps per second:  27, episode reward:  4.000, mean reward:  0.008 [ 0.000,  1.000], mean action: 2.110 [0.000, 5.000],  loss: --, mae: --, mean_q: --\n",
            " 14964/100000: episode: 21, duration: 26.721s, episode steps: 693, steps per second:  26, episode reward: 15.000, mean reward:  0.022 [ 0.000,  1.000], mean action: 2.100 [0.000, 5.000],  loss: --, mae: --, mean_q: --\n",
            " 15472/100000: episode: 22, duration: 19.134s, episode steps: 508, steps per second:  27, episode reward:  6.000, mean reward:  0.012 [ 0.000,  1.000], mean action: 2.213 [0.000, 5.000],  loss: --, mae: --, mean_q: --\n",
            " 15940/100000: episode: 23, duration: 18.271s, episode steps: 468, steps per second:  26, episode reward: 10.000, mean reward:  0.021 [ 0.000,  1.000], mean action: 2.224 [0.000, 5.000],  loss: --, mae: --, mean_q: --\n",
            " 16600/100000: episode: 24, duration: 24.861s, episode steps: 660, steps per second:  27, episode reward:  8.000, mean reward:  0.012 [ 0.000,  1.000], mean action: 2.242 [0.000, 5.000],  loss: --, mae: --, mean_q: --\n",
            " 17613/100000: episode: 25, duration: 39.139s, episode steps: 1013, steps per second:  26, episode reward: 16.000, mean reward:  0.016 [ 0.000,  1.000], mean action: 2.115 [0.000, 5.000],  loss: --, mae: --, mean_q: --\n",
            " 18137/100000: episode: 26, duration: 19.204s, episode steps: 524, steps per second:  27, episode reward:  7.000, mean reward:  0.013 [ 0.000,  1.000], mean action: 2.000 [0.000, 5.000],  loss: --, mae: --, mean_q: --\n",
            " 18606/100000: episode: 27, duration: 20.423s, episode steps: 469, steps per second:  23, episode reward:  8.000, mean reward:  0.017 [ 0.000,  1.000], mean action: 2.258 [0.000, 5.000],  loss: --, mae: --, mean_q: --\n",
            " 19261/100000: episode: 28, duration: 24.355s, episode steps: 655, steps per second:  27, episode reward: 10.000, mean reward:  0.015 [ 0.000,  1.000], mean action: 2.160 [0.000, 5.000],  loss: --, mae: --, mean_q: --\n",
            " 19939/100000: episode: 29, duration: 26.009s, episode steps: 678, steps per second:  26, episode reward: 14.000, mean reward:  0.021 [ 0.000,  1.000], mean action: 2.128 [0.000, 5.000],  loss: --, mae: --, mean_q: --\n",
            " 21069/100000: episode: 30, duration: 43.421s, episode steps: 1130, steps per second:  26, episode reward: 14.000, mean reward:  0.012 [ 0.000,  1.000], mean action: 2.206 [0.000, 5.000],  loss: --, mae: --, mean_q: --\n",
            " 21746/100000: episode: 31, duration: 26.019s, episode steps: 677, steps per second:  26, episode reward:  9.000, mean reward:  0.013 [ 0.000,  1.000], mean action: 2.134 [0.000, 5.000],  loss: --, mae: --, mean_q: --\n",
            " 22752/100000: episode: 32, duration: 38.712s, episode steps: 1006, steps per second:  26, episode reward: 21.000, mean reward:  0.021 [ 0.000,  1.000], mean action: 2.068 [0.000, 5.000],  loss: --, mae: --, mean_q: --\n",
            " 23651/100000: episode: 33, duration: 35.571s, episode steps: 899, steps per second:  25, episode reward: 18.000, mean reward:  0.020 [ 0.000,  1.000], mean action: 2.255 [0.000, 5.000],  loss: --, mae: --, mean_q: --\n",
            " 24146/100000: episode: 34, duration: 18.196s, episode steps: 495, steps per second:  27, episode reward:  7.000, mean reward:  0.014 [ 0.000,  1.000], mean action: 2.253 [0.000, 5.000],  loss: --, mae: --, mean_q: --\n",
            " 24497/100000: episode: 35, duration: 13.411s, episode steps: 351, steps per second:  26, episode reward:  5.000, mean reward:  0.014 [ 0.000,  1.000], mean action: 2.108 [0.000, 5.000],  loss: --, mae: --, mean_q: --\n",
            " 25536/100000: episode: 36, duration: 39.627s, episode steps: 1039, steps per second:  26, episode reward: 24.000, mean reward:  0.023 [ 0.000,  1.000], mean action: 2.138 [0.000, 5.000],  loss: --, mae: --, mean_q: --\n",
            " 25967/100000: episode: 37, duration: 16.081s, episode steps: 431, steps per second:  27, episode reward:  4.000, mean reward:  0.009 [ 0.000,  1.000], mean action: 2.135 [0.000, 5.000],  loss: --, mae: --, mean_q: --\n",
            " 27091/100000: episode: 38, duration: 42.661s, episode steps: 1124, steps per second:  26, episode reward: 19.000, mean reward:  0.017 [ 0.000,  1.000], mean action: 2.184 [0.000, 5.000],  loss: --, mae: --, mean_q: --\n",
            " 27562/100000: episode: 39, duration: 17.767s, episode steps: 471, steps per second:  27, episode reward:  4.000, mean reward:  0.008 [ 0.000,  1.000], mean action: 2.130 [0.000, 5.000],  loss: --, mae: --, mean_q: --\n",
            " 28503/100000: episode: 40, duration: 38.069s, episode steps: 941, steps per second:  25, episode reward: 14.000, mean reward:  0.015 [ 0.000,  1.000], mean action: 2.154 [0.000, 5.000],  loss: --, mae: --, mean_q: --\n",
            " 29450/100000: episode: 41, duration: 35.067s, episode steps: 947, steps per second:  27, episode reward: 16.000, mean reward:  0.017 [ 0.000,  1.000], mean action: 2.211 [0.000, 5.000],  loss: --, mae: --, mean_q: --\n",
            " 30108/100000: episode: 42, duration: 25.807s, episode steps: 658, steps per second:  25, episode reward:  9.000, mean reward:  0.014 [ 0.000,  1.000], mean action: 2.141 [0.000, 5.000],  loss: --, mae: --, mean_q: --\n",
            " 31013/100000: episode: 43, duration: 35.439s, episode steps: 905, steps per second:  26, episode reward: 12.000, mean reward:  0.013 [ 0.000,  1.000], mean action: 2.199 [0.000, 5.000],  loss: --, mae: --, mean_q: --\n",
            " 31593/100000: episode: 44, duration: 20.980s, episode steps: 580, steps per second:  28, episode reward:  6.000, mean reward:  0.010 [ 0.000,  1.000], mean action: 2.141 [0.000, 5.000],  loss: --, mae: --, mean_q: --\n",
            " 32642/100000: episode: 45, duration: 40.076s, episode steps: 1049, steps per second:  26, episode reward: 19.000, mean reward:  0.018 [ 0.000,  1.000], mean action: 2.196 [0.000, 5.000],  loss: --, mae: --, mean_q: --\n",
            " 33094/100000: episode: 46, duration: 16.755s, episode steps: 452, steps per second:  27, episode reward:  7.000, mean reward:  0.015 [ 0.000,  1.000], mean action: 2.250 [0.000, 5.000],  loss: --, mae: --, mean_q: --\n",
            " 33508/100000: episode: 47, duration: 17.402s, episode steps: 414, steps per second:  24, episode reward:  4.000, mean reward:  0.010 [ 0.000,  1.000], mean action: 2.181 [0.000, 5.000],  loss: --, mae: --, mean_q: --\n",
            " 34471/100000: episode: 48, duration: 37.212s, episode steps: 963, steps per second:  26, episode reward: 15.000, mean reward:  0.016 [ 0.000,  1.000], mean action: 2.070 [0.000, 5.000],  loss: --, mae: --, mean_q: --\n",
            " 34977/100000: episode: 49, duration: 18.508s, episode steps: 506, steps per second:  27, episode reward: 10.000, mean reward:  0.020 [ 0.000,  1.000], mean action: 2.077 [0.000, 5.000],  loss: --, mae: --, mean_q: --\n",
            " 35950/100000: episode: 50, duration: 37.551s, episode steps: 973, steps per second:  26, episode reward: 18.000, mean reward:  0.018 [ 0.000,  1.000], mean action: 2.086 [0.000, 5.000],  loss: --, mae: --, mean_q: --\n",
            " 36654/100000: episode: 51, duration: 27.048s, episode steps: 704, steps per second:  26, episode reward: 10.000, mean reward:  0.014 [ 0.000,  1.000], mean action: 2.074 [0.000, 5.000],  loss: --, mae: --, mean_q: --\n",
            " 37202/100000: episode: 52, duration: 19.985s, episode steps: 548, steps per second:  27, episode reward: 10.000, mean reward:  0.018 [ 0.000,  1.000], mean action: 2.141 [0.000, 5.000],  loss: --, mae: --, mean_q: --\n",
            " 37640/100000: episode: 53, duration: 16.308s, episode steps: 438, steps per second:  27, episode reward:  6.000, mean reward:  0.014 [ 0.000,  1.000], mean action: 2.080 [0.000, 5.000],  loss: --, mae: --, mean_q: --\n",
            " 38074/100000: episode: 54, duration: 16.586s, episode steps: 434, steps per second:  26, episode reward:  4.000, mean reward:  0.009 [ 0.000,  1.000], mean action: 2.256 [0.000, 5.000],  loss: --, mae: --, mean_q: --\n",
            " 38763/100000: episode: 55, duration: 27.976s, episode steps: 689, steps per second:  25, episode reward:  6.000, mean reward:  0.009 [ 0.000,  1.000], mean action: 2.219 [0.000, 5.000],  loss: --, mae: --, mean_q: --\n",
            " 39506/100000: episode: 56, duration: 28.259s, episode steps: 743, steps per second:  26, episode reward: 10.000, mean reward:  0.013 [ 0.000,  1.000], mean action: 2.236 [0.000, 5.000],  loss: --, mae: --, mean_q: --\n",
            " 40123/100000: episode: 57, duration: 24.291s, episode steps: 617, steps per second:  25, episode reward:  7.000, mean reward:  0.011 [ 0.000,  1.000], mean action: 2.160 [0.000, 5.000],  loss: --, mae: --, mean_q: --\n",
            " 40783/100000: episode: 58, duration: 25.535s, episode steps: 660, steps per second:  26, episode reward:  9.000, mean reward:  0.014 [ 0.000,  1.000], mean action: 2.211 [0.000, 5.000],  loss: --, mae: --, mean_q: --\n",
            " 41538/100000: episode: 59, duration: 28.577s, episode steps: 755, steps per second:  26, episode reward: 13.000, mean reward:  0.017 [ 0.000,  1.000], mean action: 2.171 [0.000, 5.000],  loss: --, mae: --, mean_q: --\n",
            " 41997/100000: episode: 60, duration: 17.066s, episode steps: 459, steps per second:  27, episode reward:  8.000, mean reward:  0.017 [ 0.000,  1.000], mean action: 2.237 [0.000, 5.000],  loss: --, mae: --, mean_q: --\n",
            " 42364/100000: episode: 61, duration: 13.963s, episode steps: 367, steps per second:  26, episode reward:  6.000, mean reward:  0.016 [ 0.000,  1.000], mean action: 2.166 [0.000, 5.000],  loss: --, mae: --, mean_q: --\n",
            " 42920/100000: episode: 62, duration: 20.369s, episode steps: 556, steps per second:  27, episode reward: 10.000, mean reward:  0.018 [ 0.000,  1.000], mean action: 2.119 [0.000, 5.000],  loss: --, mae: --, mean_q: --\n",
            " 43850/100000: episode: 63, duration: 37.932s, episode steps: 930, steps per second:  25, episode reward: 18.000, mean reward:  0.019 [ 0.000,  1.000], mean action: 2.191 [0.000, 5.000],  loss: --, mae: --, mean_q: --\n",
            " 44956/100000: episode: 64, duration: 41.989s, episode steps: 1106, steps per second:  26, episode reward: 22.000, mean reward:  0.020 [ 0.000,  1.000], mean action: 2.206 [0.000, 5.000],  loss: --, mae: --, mean_q: --\n",
            " 45336/100000: episode: 65, duration: 14.390s, episode steps: 380, steps per second:  26, episode reward:  6.000, mean reward:  0.016 [ 0.000,  1.000], mean action: 2.024 [0.000, 5.000],  loss: --, mae: --, mean_q: --\n",
            " 45788/100000: episode: 66, duration: 16.844s, episode steps: 452, steps per second:  27, episode reward:  8.000, mean reward:  0.018 [ 0.000,  1.000], mean action: 2.157 [0.000, 5.000],  loss: --, mae: --, mean_q: --\n",
            " 46397/100000: episode: 67, duration: 23.783s, episode steps: 609, steps per second:  26, episode reward: 13.000, mean reward:  0.021 [ 0.000,  1.000], mean action: 2.135 [0.000, 5.000],  loss: --, mae: --, mean_q: --\n",
            " 47013/100000: episode: 68, duration: 22.295s, episode steps: 616, steps per second:  28, episode reward: 13.000, mean reward:  0.021 [ 0.000,  1.000], mean action: 2.274 [0.000, 5.000],  loss: --, mae: --, mean_q: --\n",
            " 47980/100000: episode: 69, duration: 39.218s, episode steps: 967, steps per second:  25, episode reward: 15.000, mean reward:  0.016 [ 0.000,  1.000], mean action: 2.130 [0.000, 5.000],  loss: --, mae: --, mean_q: --\n",
            " 48583/100000: episode: 70, duration: 23.657s, episode steps: 603, steps per second:  25, episode reward:  5.000, mean reward:  0.008 [ 0.000,  1.000], mean action: 2.184 [0.000, 5.000],  loss: --, mae: --, mean_q: --\n",
            " 49130/100000: episode: 71, duration: 20.234s, episode steps: 547, steps per second:  27, episode reward:  7.000, mean reward:  0.013 [ 0.000,  1.000], mean action: 2.080 [0.000, 5.000],  loss: --, mae: --, mean_q: --\n",
            " 50179/100000: episode: 72, duration: 53.284s, episode steps: 1049, steps per second:  20, episode reward: 25.000, mean reward:  0.024 [ 0.000,  1.000], mean action: 2.204 [0.000, 5.000],  loss: 0.006702, mae: 0.261313, mean_q: 0.336069\n",
            " 50756/100000: episode: 73, duration: 62.243s, episode steps: 577, steps per second:   9, episode reward:  7.000, mean reward:  0.012 [ 0.000,  1.000], mean action: 2.544 [0.000, 5.000],  loss: 0.007936, mae: 0.270612, mean_q: 0.344059\n",
            " 51403/100000: episode: 74, duration: 72.928s, episode steps: 647, steps per second:   9, episode reward:  6.000, mean reward:  0.009 [ 0.000,  1.000], mean action: 2.360 [0.000, 5.000],  loss: 0.007763, mae: 0.268678, mean_q: 0.341696\n",
            " 52004/100000: episode: 75, duration: 66.162s, episode steps: 601, steps per second:   9, episode reward:  7.000, mean reward:  0.012 [ 0.000,  1.000], mean action: 2.160 [0.000, 5.000],  loss: 0.007162, mae: 0.269357, mean_q: 0.343023\n",
            " 52992/100000: episode: 76, duration: 110.752s, episode steps: 988, steps per second:   9, episode reward: 12.000, mean reward:  0.012 [ 0.000,  1.000], mean action: 2.455 [0.000, 5.000],  loss: 0.007509, mae: 0.271533, mean_q: 0.345509\n",
            " 53638/100000: episode: 77, duration: 70.542s, episode steps: 646, steps per second:   9, episode reward:  8.000, mean reward:  0.012 [ 0.000,  1.000], mean action: 2.534 [0.000, 5.000],  loss: 0.008363, mae: 0.271208, mean_q: 0.343872\n",
            " 54281/100000: episode: 78, duration: 70.773s, episode steps: 643, steps per second:   9, episode reward:  7.000, mean reward:  0.011 [ 0.000,  1.000], mean action: 2.523 [0.000, 5.000],  loss: 0.007039, mae: 0.266025, mean_q: 0.338273\n",
            " 54969/100000: episode: 79, duration: 76.311s, episode steps: 688, steps per second:   9, episode reward:  8.000, mean reward:  0.012 [ 0.000,  1.000], mean action: 2.779 [0.000, 5.000],  loss: 0.008319, mae: 0.271917, mean_q: 0.344551\n",
            " 55628/100000: episode: 80, duration: 72.241s, episode steps: 659, steps per second:   9, episode reward:  9.000, mean reward:  0.014 [ 0.000,  1.000], mean action: 2.678 [0.000, 5.000],  loss: 0.007829, mae: 0.271228, mean_q: 0.343229\n",
            " 56229/100000: episode: 81, duration: 68.665s, episode steps: 601, steps per second:   9, episode reward:  6.000, mean reward:  0.010 [ 0.000,  1.000], mean action: 2.496 [0.000, 5.000],  loss: 0.007685, mae: 0.268827, mean_q: 0.339519\n",
            " 56756/100000: episode: 82, duration: 57.841s, episode steps: 527, steps per second:   9, episode reward:  4.000, mean reward:  0.008 [ 0.000,  1.000], mean action: 2.537 [0.000, 5.000],  loss: 0.007721, mae: 0.270204, mean_q: 0.341416\n",
            " 57597/100000: episode: 83, duration: 91.354s, episode steps: 841, steps per second:   9, episode reward: 13.000, mean reward:  0.015 [ 0.000,  1.000], mean action: 2.792 [0.000, 5.000],  loss: 0.006829, mae: 0.268345, mean_q: 0.338402\n",
            " 58255/100000: episode: 84, duration: 74.447s, episode steps: 658, steps per second:   9, episode reward:  9.000, mean reward:  0.014 [ 0.000,  1.000], mean action: 2.502 [0.000, 5.000],  loss: 0.007615, mae: 0.272078, mean_q: 0.341644\n",
            " 59253/100000: episode: 85, duration: 108.789s, episode steps: 998, steps per second:   9, episode reward: 13.000, mean reward:  0.013 [ 0.000,  1.000], mean action: 2.443 [0.000, 5.000],  loss: 0.008720, mae: 0.273127, mean_q: 0.342386\n",
            " 59924/100000: episode: 86, duration: 74.751s, episode steps: 671, steps per second:   9, episode reward:  6.000, mean reward:  0.009 [ 0.000,  1.000], mean action: 2.349 [0.000, 5.000],  loss: 0.007417, mae: 0.268575, mean_q: 0.338234\n",
            " 60775/100000: episode: 87, duration: 94.376s, episode steps: 851, steps per second:   9, episode reward: 13.000, mean reward:  0.015 [ 0.000,  1.000], mean action: 2.698 [0.000, 5.000],  loss: 0.008771, mae: 0.306068, mean_q: 0.383739\n",
            " 61829/100000: episode: 88, duration: 116.761s, episode steps: 1054, steps per second:   9, episode reward: 18.000, mean reward:  0.017 [ 0.000,  1.000], mean action: 2.564 [0.000, 5.000],  loss: 0.007749, mae: 0.306373, mean_q: 0.385438\n",
            " 62568/100000: episode: 89, duration: 81.305s, episode steps: 739, steps per second:   9, episode reward: 15.000, mean reward:  0.020 [ 0.000,  1.000], mean action: 2.543 [0.000, 5.000],  loss: 0.008641, mae: 0.307939, mean_q: 0.383959\n",
            " 64081/100000: episode: 90, duration: 167.572s, episode steps: 1513, steps per second:   9, episode reward: 16.000, mean reward:  0.011 [ 0.000,  1.000], mean action: 2.561 [0.000, 5.000],  loss: 0.007803, mae: 0.306170, mean_q: 0.381648\n",
            " 64828/100000: episode: 91, duration: 82.990s, episode steps: 747, steps per second:   9, episode reward:  7.000, mean reward:  0.009 [ 0.000,  1.000], mean action: 2.588 [0.000, 5.000],  loss: 0.007955, mae: 0.309887, mean_q: 0.385964\n",
            " 65851/100000: episode: 92, duration: 111.970s, episode steps: 1023, steps per second:   9, episode reward: 18.000, mean reward:  0.018 [ 0.000,  1.000], mean action: 2.467 [0.000, 5.000],  loss: 0.007121, mae: 0.304070, mean_q: 0.378948\n",
            " 66963/100000: episode: 93, duration: 124.451s, episode steps: 1112, steps per second:   9, episode reward: 17.000, mean reward:  0.015 [ 0.000,  1.000], mean action: 2.586 [0.000, 5.000],  loss: 0.007511, mae: 0.307172, mean_q: 0.381465\n"
          ]
        }
      ],
      "source": [
        "# Cargar pesos anteriores si existen\n",
        "latest_path, trained_steps = load_latest_weights(dqn, checkpoint_dir)\n",
        "if latest_path:\n",
        "    dqn.load_weights(latest_path)\n",
        "else:\n",
        "    trained_steps = 0\n",
        "\n",
        "# Definir pasos a entrenar\n",
        "steps_to_train = 100000\n",
        "total_steps = trained_steps + steps_to_train\n",
        "\n",
        "# Crear paths y callbacks dinámicos\n",
        "log_path = os.path.join(log_dir, f\"dqn_noisy_log_{trained_steps}_{total_steps}.json\")\n",
        "checkpoint_path = os.path.join(checkpoint_dir, f\"dqn_noisy_weights_{total_steps}.h5\")\n",
        "\n",
        "logger_callback = FileLogger(log_path, interval=100)\n",
        "checkpoint_callback = ModelIntervalCheckpoint(checkpoint_path, interval=10000)\n",
        "\n",
        "# Entrenar agente\n",
        "dqn.fit(env, nb_steps=steps_to_train, visualize=False, verbose=2,\n",
        "        callbacks=[checkpoint_callback, logger_callback])\n",
        "\n",
        "# Guardar pesos finales\n",
        "dqn.save_weights(checkpoint_path, overwrite=True)\n",
        "\n",
        "# Guardar la memoria de experiencia\n",
        "import pickle\n",
        "with open('memory_noisy.pkl', 'wb') as f:\n",
        "    pickle.dump(memory, f)\n",
        "\n",
        "print(f\"Entrenamiento hasta {total_steps} pasos completado y guardado.\")"
      ]
    },
    {
      "cell_type": "code",
      "execution_count": null,
      "metadata": {
        "id": "9x6-wgiTDbRz"
      },
      "outputs": [],
      "source": [
        "import time\n",
        "\n",
        "print(\"Esperando 60 segundos...\")\n",
        "time.sleep(60)\n",
        "print(\"¡Tiempo de espera terminado!\")"
      ]
    },
    {
      "cell_type": "code",
      "execution_count": null,
      "metadata": {
        "id": "4Fvp-zjUDenQ"
      },
      "outputs": [],
      "source": [
        "# Testear desde último checkpoint\n",
        "latest_path, trained_steps = load_latest_weights(dqn, checkpoint_dir)\n",
        "if latest_path:\n",
        "    dqn.test(env, nb_episodes=10, visualize=False)"
      ]
    }
  ],
  "metadata": {
    "colab": {
      "provenance": [],
      "include_colab_link": true
    },
    "kernelspec": {
      "display_name": "Python 3",
      "name": "python3"
    },
    "language_info": {
      "name": "python"
    }
  },
  "nbformat": 4,
  "nbformat_minor": 0
}