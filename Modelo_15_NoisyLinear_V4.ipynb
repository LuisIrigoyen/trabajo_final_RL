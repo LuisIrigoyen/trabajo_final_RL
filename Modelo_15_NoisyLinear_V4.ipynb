{
  "cells": [
    {
      "cell_type": "markdown",
      "metadata": {
        "id": "view-in-github",
        "colab_type": "text"
      },
      "source": [
        "<a href=\"https://colab.research.google.com/github/LuisIrigoyen/trabajo_final_RL/blob/pruebas_LuisIrigoyen/Modelo_15_NoisyLinear_V4.ipynb\" target=\"_parent\"><img src=\"https://colab.research.google.com/assets/colab-badge.svg\" alt=\"Open In Colab\"/></a>"
      ]
    },
    {
      "cell_type": "markdown",
      "metadata": {
        "id": "D89Ue2uZNtzn"
      },
      "source": [
        "## 1.2. Localizar entorno de trabajo: Google colab o local"
      ]
    },
    {
      "cell_type": "markdown",
      "source": [
        "- Igual que 12, cambio paramétro: dqn.compile(optimizer=Adam(learning_rate=0.0001)\n",
        "- luego se modificó a dqn.compile(optimizer=Adam(learning_rate=1e-4)\n",
        "- se cambió policy = BoltzmannQPolicy() a policy = EpsGreedyQPolicy(eps=0.0)\n",
        "- cambio sigma_init en NoisyDense: sigma_init=0.017 a 0.05\n",
        "- learning_rate aún más bajo para Adam: de 1e-4 a 5e-5"
      ],
      "metadata": {
        "id": "piJ-XjXrzhdZ"
      }
    },
    {
      "cell_type": "code",
      "execution_count": 3,
      "metadata": {
        "id": "7EQ46sNGLj22"
      },
      "outputs": [],
      "source": [
        "# ATENCIÓN!! Modificar ruta relativa a la práctica si es distinta (drive_root)\n",
        "mount='/content/gdrive'\n",
        "drive_root = mount + \"/My Drive/MODELO 15/\"\n",
        "\n",
        "try:\n",
        "  from google.colab import drive\n",
        "  IN_COLAB=True\n",
        "except:\n",
        "  IN_COLAB=False"
      ]
    },
    {
      "cell_type": "markdown",
      "metadata": {
        "id": "6on2PNxZN51A"
      },
      "source": [
        "## 1.3. Montar carpeta de datos local (solo Colab)"
      ]
    },
    {
      "cell_type": "code",
      "execution_count": 4,
      "metadata": {
        "id": "inTxnmr0MKCH",
        "colab": {
          "base_uri": "https://localhost:8080/"
        },
        "outputId": "b962b616-48d9-4c3a-8c6c-8a1fc7a509fa"
      },
      "outputs": [
        {
          "output_type": "stream",
          "name": "stdout",
          "text": [
            "We're running Colab\n",
            "Colab: mounting Google drive on  /content/gdrive\n",
            "Drive already mounted at /content/gdrive; to attempt to forcibly remount, call drive.mount(\"/content/gdrive\", force_remount=True).\n",
            "\n",
            "Colab: making sure  /content/gdrive/My Drive/MODELO 15/  exists.\n",
            "\n",
            "Colab: Changing directory to  /content/gdrive/My Drive/MODELO 15/\n",
            "/content/gdrive/My Drive/MODELO 15\n",
            "Archivos en el directorio: \n",
            "[]\n"
          ]
        }
      ],
      "source": [
        "# Switch to the directory on the Google Drive that you want to use\n",
        "import os\n",
        "if IN_COLAB:\n",
        "  print(\"We're running Colab\")\n",
        "\n",
        "  if IN_COLAB:\n",
        "    # Mount the Google Drive at mount\n",
        "    print(\"Colab: mounting Google drive on \", mount)\n",
        "\n",
        "    drive.mount(mount)\n",
        "\n",
        "    # Create drive_root if it doesn't exist\n",
        "    create_drive_root = True\n",
        "    if create_drive_root:\n",
        "      print(\"\\nColab: making sure \", drive_root, \" exists.\")\n",
        "      os.makedirs(drive_root, exist_ok=True)\n",
        "\n",
        "    # Change to the directory\n",
        "    print(\"\\nColab: Changing directory to \", drive_root)\n",
        "    %cd $drive_root\n",
        "# Verify we're in the correct working directory\n",
        "%pwd\n",
        "print(\"Archivos en el directorio: \")\n",
        "print(os.listdir())"
      ]
    },
    {
      "cell_type": "markdown",
      "metadata": {
        "id": "MYrJ03QWN9Hw"
      },
      "source": [
        "## 1.4. Instalar librerías necesarias"
      ]
    },
    {
      "cell_type": "code",
      "execution_count": 5,
      "metadata": {
        "colab": {
          "base_uri": "https://localhost:8080/"
        },
        "id": "zSbNMsl4MTo3",
        "outputId": "234d318a-6445-48ae-9e08-52c12a0a5421"
      },
      "outputs": [
        {
          "output_type": "stream",
          "name": "stdout",
          "text": [
            "Requirement already satisfied: gym==0.17.3 in /usr/local/lib/python3.11/dist-packages (0.17.3)\n",
            "Requirement already satisfied: scipy in /usr/local/lib/python3.11/dist-packages (from gym==0.17.3) (1.15.3)\n",
            "Requirement already satisfied: numpy>=1.10.4 in /usr/local/lib/python3.11/dist-packages (from gym==0.17.3) (1.23.5)\n",
            "Requirement already satisfied: pyglet<=1.5.0,>=1.4.0 in /usr/local/lib/python3.11/dist-packages (from gym==0.17.3) (1.5.0)\n",
            "Requirement already satisfied: cloudpickle<1.7.0,>=1.2.0 in /usr/local/lib/python3.11/dist-packages (from gym==0.17.3) (1.6.0)\n",
            "Requirement already satisfied: future in /usr/local/lib/python3.11/dist-packages (from pyglet<=1.5.0,>=1.4.0->gym==0.17.3) (1.0.0)\n",
            "Collecting git+https://github.com/Kojoley/atari-py.git\n",
            "  Cloning https://github.com/Kojoley/atari-py.git to /tmp/pip-req-build-6i_2h1hq\n",
            "  Running command git clone --filter=blob:none --quiet https://github.com/Kojoley/atari-py.git /tmp/pip-req-build-6i_2h1hq\n",
            "  Resolved https://github.com/Kojoley/atari-py.git to commit 86a1e05c0a95e9e6233c3a413521fdb34ca8a089\n",
            "  Preparing metadata (setup.py) ... \u001b[?25l\u001b[?25hdone\n",
            "Requirement already satisfied: numpy in /usr/local/lib/python3.11/dist-packages (from atari-py==1.2.2) (1.23.5)\n",
            "Requirement already satisfied: keras-rl2==1.0.5 in /usr/local/lib/python3.11/dist-packages (1.0.5)\n",
            "Requirement already satisfied: tensorflow in /usr/local/lib/python3.11/dist-packages (from keras-rl2==1.0.5) (2.12.0)\n",
            "Requirement already satisfied: absl-py>=1.0.0 in /usr/local/lib/python3.11/dist-packages (from tensorflow->keras-rl2==1.0.5) (1.4.0)\n",
            "Requirement already satisfied: astunparse>=1.6.0 in /usr/local/lib/python3.11/dist-packages (from tensorflow->keras-rl2==1.0.5) (1.6.3)\n",
            "Requirement already satisfied: flatbuffers>=2.0 in /usr/local/lib/python3.11/dist-packages (from tensorflow->keras-rl2==1.0.5) (25.2.10)\n",
            "Requirement already satisfied: gast<=0.4.0,>=0.2.1 in /usr/local/lib/python3.11/dist-packages (from tensorflow->keras-rl2==1.0.5) (0.4.0)\n",
            "Requirement already satisfied: google-pasta>=0.1.1 in /usr/local/lib/python3.11/dist-packages (from tensorflow->keras-rl2==1.0.5) (0.2.0)\n",
            "Requirement already satisfied: grpcio<2.0,>=1.24.3 in /usr/local/lib/python3.11/dist-packages (from tensorflow->keras-rl2==1.0.5) (1.73.1)\n",
            "Requirement already satisfied: h5py>=2.9.0 in /usr/local/lib/python3.11/dist-packages (from tensorflow->keras-rl2==1.0.5) (3.14.0)\n",
            "Requirement already satisfied: jax>=0.3.15 in /usr/local/lib/python3.11/dist-packages (from tensorflow->keras-rl2==1.0.5) (0.4.30)\n",
            "Requirement already satisfied: keras<2.13,>=2.12.0 in /usr/local/lib/python3.11/dist-packages (from tensorflow->keras-rl2==1.0.5) (2.12.0)\n",
            "Requirement already satisfied: libclang>=13.0.0 in /usr/local/lib/python3.11/dist-packages (from tensorflow->keras-rl2==1.0.5) (18.1.1)\n",
            "Requirement already satisfied: numpy<1.24,>=1.22 in /usr/local/lib/python3.11/dist-packages (from tensorflow->keras-rl2==1.0.5) (1.23.5)\n",
            "Requirement already satisfied: opt-einsum>=2.3.2 in /usr/local/lib/python3.11/dist-packages (from tensorflow->keras-rl2==1.0.5) (3.4.0)\n",
            "Requirement already satisfied: packaging in /usr/local/lib/python3.11/dist-packages (from tensorflow->keras-rl2==1.0.5) (24.2)\n",
            "Requirement already satisfied: protobuf!=4.21.0,!=4.21.1,!=4.21.2,!=4.21.3,!=4.21.4,!=4.21.5,<5.0.0dev,>=3.20.3 in /usr/local/lib/python3.11/dist-packages (from tensorflow->keras-rl2==1.0.5) (4.25.8)\n",
            "Requirement already satisfied: setuptools in /usr/local/lib/python3.11/dist-packages (from tensorflow->keras-rl2==1.0.5) (75.2.0)\n",
            "Requirement already satisfied: six>=1.12.0 in /usr/local/lib/python3.11/dist-packages (from tensorflow->keras-rl2==1.0.5) (1.17.0)\n",
            "Requirement already satisfied: tensorboard<2.13,>=2.12 in /usr/local/lib/python3.11/dist-packages (from tensorflow->keras-rl2==1.0.5) (2.12.3)\n",
            "Requirement already satisfied: tensorflow-estimator<2.13,>=2.12.0 in /usr/local/lib/python3.11/dist-packages (from tensorflow->keras-rl2==1.0.5) (2.12.0)\n",
            "Requirement already satisfied: termcolor>=1.1.0 in /usr/local/lib/python3.11/dist-packages (from tensorflow->keras-rl2==1.0.5) (3.1.0)\n",
            "Requirement already satisfied: typing-extensions>=3.6.6 in /usr/local/lib/python3.11/dist-packages (from tensorflow->keras-rl2==1.0.5) (4.14.0)\n",
            "Requirement already satisfied: wrapt<1.15,>=1.11.0 in /usr/local/lib/python3.11/dist-packages (from tensorflow->keras-rl2==1.0.5) (1.14.1)\n",
            "Requirement already satisfied: tensorflow-io-gcs-filesystem>=0.23.1 in /usr/local/lib/python3.11/dist-packages (from tensorflow->keras-rl2==1.0.5) (0.37.1)\n",
            "Requirement already satisfied: wheel<1.0,>=0.23.0 in /usr/local/lib/python3.11/dist-packages (from astunparse>=1.6.0->tensorflow->keras-rl2==1.0.5) (0.45.1)\n",
            "Requirement already satisfied: jaxlib<=0.4.30,>=0.4.27 in /usr/local/lib/python3.11/dist-packages (from jax>=0.3.15->tensorflow->keras-rl2==1.0.5) (0.4.30)\n",
            "Requirement already satisfied: ml-dtypes>=0.2.0 in /usr/local/lib/python3.11/dist-packages (from jax>=0.3.15->tensorflow->keras-rl2==1.0.5) (0.4.1)\n",
            "Requirement already satisfied: scipy>=1.9 in /usr/local/lib/python3.11/dist-packages (from jax>=0.3.15->tensorflow->keras-rl2==1.0.5) (1.15.3)\n",
            "Requirement already satisfied: google-auth<3,>=1.6.3 in /usr/local/lib/python3.11/dist-packages (from tensorboard<2.13,>=2.12->tensorflow->keras-rl2==1.0.5) (2.38.0)\n",
            "Requirement already satisfied: google-auth-oauthlib<1.1,>=0.5 in /usr/local/lib/python3.11/dist-packages (from tensorboard<2.13,>=2.12->tensorflow->keras-rl2==1.0.5) (1.0.0)\n",
            "Requirement already satisfied: markdown>=2.6.8 in /usr/local/lib/python3.11/dist-packages (from tensorboard<2.13,>=2.12->tensorflow->keras-rl2==1.0.5) (3.8.2)\n",
            "Requirement already satisfied: requests<3,>=2.21.0 in /usr/local/lib/python3.11/dist-packages (from tensorboard<2.13,>=2.12->tensorflow->keras-rl2==1.0.5) (2.32.3)\n",
            "Requirement already satisfied: tensorboard-data-server<0.8.0,>=0.7.0 in /usr/local/lib/python3.11/dist-packages (from tensorboard<2.13,>=2.12->tensorflow->keras-rl2==1.0.5) (0.7.2)\n",
            "Requirement already satisfied: werkzeug>=1.0.1 in /usr/local/lib/python3.11/dist-packages (from tensorboard<2.13,>=2.12->tensorflow->keras-rl2==1.0.5) (3.1.3)\n",
            "Requirement already satisfied: cachetools<6.0,>=2.0.0 in /usr/local/lib/python3.11/dist-packages (from google-auth<3,>=1.6.3->tensorboard<2.13,>=2.12->tensorflow->keras-rl2==1.0.5) (5.5.2)\n",
            "Requirement already satisfied: pyasn1-modules>=0.2.1 in /usr/local/lib/python3.11/dist-packages (from google-auth<3,>=1.6.3->tensorboard<2.13,>=2.12->tensorflow->keras-rl2==1.0.5) (0.4.2)\n",
            "Requirement already satisfied: rsa<5,>=3.1.4 in /usr/local/lib/python3.11/dist-packages (from google-auth<3,>=1.6.3->tensorboard<2.13,>=2.12->tensorflow->keras-rl2==1.0.5) (4.9.1)\n",
            "Requirement already satisfied: requests-oauthlib>=0.7.0 in /usr/local/lib/python3.11/dist-packages (from google-auth-oauthlib<1.1,>=0.5->tensorboard<2.13,>=2.12->tensorflow->keras-rl2==1.0.5) (2.0.0)\n",
            "Requirement already satisfied: charset-normalizer<4,>=2 in /usr/local/lib/python3.11/dist-packages (from requests<3,>=2.21.0->tensorboard<2.13,>=2.12->tensorflow->keras-rl2==1.0.5) (3.4.2)\n",
            "Requirement already satisfied: idna<4,>=2.5 in /usr/local/lib/python3.11/dist-packages (from requests<3,>=2.21.0->tensorboard<2.13,>=2.12->tensorflow->keras-rl2==1.0.5) (3.10)\n",
            "Requirement already satisfied: urllib3<3,>=1.21.1 in /usr/local/lib/python3.11/dist-packages (from requests<3,>=2.21.0->tensorboard<2.13,>=2.12->tensorflow->keras-rl2==1.0.5) (2.4.0)\n",
            "Requirement already satisfied: certifi>=2017.4.17 in /usr/local/lib/python3.11/dist-packages (from requests<3,>=2.21.0->tensorboard<2.13,>=2.12->tensorflow->keras-rl2==1.0.5) (2025.6.15)\n",
            "Requirement already satisfied: MarkupSafe>=2.1.1 in /usr/local/lib/python3.11/dist-packages (from werkzeug>=1.0.1->tensorboard<2.13,>=2.12->tensorflow->keras-rl2==1.0.5) (3.0.2)\n",
            "Requirement already satisfied: pyasn1<0.7.0,>=0.6.1 in /usr/local/lib/python3.11/dist-packages (from pyasn1-modules>=0.2.1->google-auth<3,>=1.6.3->tensorboard<2.13,>=2.12->tensorflow->keras-rl2==1.0.5) (0.6.1)\n",
            "Requirement already satisfied: oauthlib>=3.0.0 in /usr/local/lib/python3.11/dist-packages (from requests-oauthlib>=0.7.0->google-auth-oauthlib<1.1,>=0.5->tensorboard<2.13,>=2.12->tensorflow->keras-rl2==1.0.5) (3.3.1)\n",
            "Requirement already satisfied: tensorflow==2.12 in /usr/local/lib/python3.11/dist-packages (2.12.0)\n",
            "Requirement already satisfied: absl-py>=1.0.0 in /usr/local/lib/python3.11/dist-packages (from tensorflow==2.12) (1.4.0)\n",
            "Requirement already satisfied: astunparse>=1.6.0 in /usr/local/lib/python3.11/dist-packages (from tensorflow==2.12) (1.6.3)\n",
            "Requirement already satisfied: flatbuffers>=2.0 in /usr/local/lib/python3.11/dist-packages (from tensorflow==2.12) (25.2.10)\n",
            "Requirement already satisfied: gast<=0.4.0,>=0.2.1 in /usr/local/lib/python3.11/dist-packages (from tensorflow==2.12) (0.4.0)\n",
            "Requirement already satisfied: google-pasta>=0.1.1 in /usr/local/lib/python3.11/dist-packages (from tensorflow==2.12) (0.2.0)\n",
            "Requirement already satisfied: grpcio<2.0,>=1.24.3 in /usr/local/lib/python3.11/dist-packages (from tensorflow==2.12) (1.73.1)\n",
            "Requirement already satisfied: h5py>=2.9.0 in /usr/local/lib/python3.11/dist-packages (from tensorflow==2.12) (3.14.0)\n",
            "Requirement already satisfied: jax>=0.3.15 in /usr/local/lib/python3.11/dist-packages (from tensorflow==2.12) (0.4.30)\n",
            "Requirement already satisfied: keras<2.13,>=2.12.0 in /usr/local/lib/python3.11/dist-packages (from tensorflow==2.12) (2.12.0)\n",
            "Requirement already satisfied: libclang>=13.0.0 in /usr/local/lib/python3.11/dist-packages (from tensorflow==2.12) (18.1.1)\n",
            "Requirement already satisfied: numpy<1.24,>=1.22 in /usr/local/lib/python3.11/dist-packages (from tensorflow==2.12) (1.23.5)\n",
            "Requirement already satisfied: opt-einsum>=2.3.2 in /usr/local/lib/python3.11/dist-packages (from tensorflow==2.12) (3.4.0)\n",
            "Requirement already satisfied: packaging in /usr/local/lib/python3.11/dist-packages (from tensorflow==2.12) (24.2)\n",
            "Requirement already satisfied: protobuf!=4.21.0,!=4.21.1,!=4.21.2,!=4.21.3,!=4.21.4,!=4.21.5,<5.0.0dev,>=3.20.3 in /usr/local/lib/python3.11/dist-packages (from tensorflow==2.12) (4.25.8)\n",
            "Requirement already satisfied: setuptools in /usr/local/lib/python3.11/dist-packages (from tensorflow==2.12) (75.2.0)\n",
            "Requirement already satisfied: six>=1.12.0 in /usr/local/lib/python3.11/dist-packages (from tensorflow==2.12) (1.17.0)\n",
            "Requirement already satisfied: tensorboard<2.13,>=2.12 in /usr/local/lib/python3.11/dist-packages (from tensorflow==2.12) (2.12.3)\n",
            "Requirement already satisfied: tensorflow-estimator<2.13,>=2.12.0 in /usr/local/lib/python3.11/dist-packages (from tensorflow==2.12) (2.12.0)\n",
            "Requirement already satisfied: termcolor>=1.1.0 in /usr/local/lib/python3.11/dist-packages (from tensorflow==2.12) (3.1.0)\n",
            "Requirement already satisfied: typing-extensions>=3.6.6 in /usr/local/lib/python3.11/dist-packages (from tensorflow==2.12) (4.14.0)\n",
            "Requirement already satisfied: wrapt<1.15,>=1.11.0 in /usr/local/lib/python3.11/dist-packages (from tensorflow==2.12) (1.14.1)\n",
            "Requirement already satisfied: tensorflow-io-gcs-filesystem>=0.23.1 in /usr/local/lib/python3.11/dist-packages (from tensorflow==2.12) (0.37.1)\n",
            "Requirement already satisfied: wheel<1.0,>=0.23.0 in /usr/local/lib/python3.11/dist-packages (from astunparse>=1.6.0->tensorflow==2.12) (0.45.1)\n",
            "Requirement already satisfied: jaxlib<=0.4.30,>=0.4.27 in /usr/local/lib/python3.11/dist-packages (from jax>=0.3.15->tensorflow==2.12) (0.4.30)\n",
            "Requirement already satisfied: ml-dtypes>=0.2.0 in /usr/local/lib/python3.11/dist-packages (from jax>=0.3.15->tensorflow==2.12) (0.4.1)\n",
            "Requirement already satisfied: scipy>=1.9 in /usr/local/lib/python3.11/dist-packages (from jax>=0.3.15->tensorflow==2.12) (1.15.3)\n",
            "Requirement already satisfied: google-auth<3,>=1.6.3 in /usr/local/lib/python3.11/dist-packages (from tensorboard<2.13,>=2.12->tensorflow==2.12) (2.38.0)\n",
            "Requirement already satisfied: google-auth-oauthlib<1.1,>=0.5 in /usr/local/lib/python3.11/dist-packages (from tensorboard<2.13,>=2.12->tensorflow==2.12) (1.0.0)\n",
            "Requirement already satisfied: markdown>=2.6.8 in /usr/local/lib/python3.11/dist-packages (from tensorboard<2.13,>=2.12->tensorflow==2.12) (3.8.2)\n",
            "Requirement already satisfied: requests<3,>=2.21.0 in /usr/local/lib/python3.11/dist-packages (from tensorboard<2.13,>=2.12->tensorflow==2.12) (2.32.3)\n",
            "Requirement already satisfied: tensorboard-data-server<0.8.0,>=0.7.0 in /usr/local/lib/python3.11/dist-packages (from tensorboard<2.13,>=2.12->tensorflow==2.12) (0.7.2)\n",
            "Requirement already satisfied: werkzeug>=1.0.1 in /usr/local/lib/python3.11/dist-packages (from tensorboard<2.13,>=2.12->tensorflow==2.12) (3.1.3)\n",
            "Requirement already satisfied: cachetools<6.0,>=2.0.0 in /usr/local/lib/python3.11/dist-packages (from google-auth<3,>=1.6.3->tensorboard<2.13,>=2.12->tensorflow==2.12) (5.5.2)\n",
            "Requirement already satisfied: pyasn1-modules>=0.2.1 in /usr/local/lib/python3.11/dist-packages (from google-auth<3,>=1.6.3->tensorboard<2.13,>=2.12->tensorflow==2.12) (0.4.2)\n",
            "Requirement already satisfied: rsa<5,>=3.1.4 in /usr/local/lib/python3.11/dist-packages (from google-auth<3,>=1.6.3->tensorboard<2.13,>=2.12->tensorflow==2.12) (4.9.1)\n",
            "Requirement already satisfied: requests-oauthlib>=0.7.0 in /usr/local/lib/python3.11/dist-packages (from google-auth-oauthlib<1.1,>=0.5->tensorboard<2.13,>=2.12->tensorflow==2.12) (2.0.0)\n",
            "Requirement already satisfied: charset-normalizer<4,>=2 in /usr/local/lib/python3.11/dist-packages (from requests<3,>=2.21.0->tensorboard<2.13,>=2.12->tensorflow==2.12) (3.4.2)\n",
            "Requirement already satisfied: idna<4,>=2.5 in /usr/local/lib/python3.11/dist-packages (from requests<3,>=2.21.0->tensorboard<2.13,>=2.12->tensorflow==2.12) (3.10)\n",
            "Requirement already satisfied: urllib3<3,>=1.21.1 in /usr/local/lib/python3.11/dist-packages (from requests<3,>=2.21.0->tensorboard<2.13,>=2.12->tensorflow==2.12) (2.4.0)\n",
            "Requirement already satisfied: certifi>=2017.4.17 in /usr/local/lib/python3.11/dist-packages (from requests<3,>=2.21.0->tensorboard<2.13,>=2.12->tensorflow==2.12) (2025.6.15)\n",
            "Requirement already satisfied: MarkupSafe>=2.1.1 in /usr/local/lib/python3.11/dist-packages (from werkzeug>=1.0.1->tensorboard<2.13,>=2.12->tensorflow==2.12) (3.0.2)\n",
            "Requirement already satisfied: pyasn1<0.7.0,>=0.6.1 in /usr/local/lib/python3.11/dist-packages (from pyasn1-modules>=0.2.1->google-auth<3,>=1.6.3->tensorboard<2.13,>=2.12->tensorflow==2.12) (0.6.1)\n",
            "Requirement already satisfied: oauthlib>=3.0.0 in /usr/local/lib/python3.11/dist-packages (from requests-oauthlib>=0.7.0->google-auth-oauthlib<1.1,>=0.5->tensorboard<2.13,>=2.12->tensorflow==2.12) (3.3.1)\n"
          ]
        }
      ],
      "source": [
        "if IN_COLAB:\n",
        "  %pip install gym==0.17.3\n",
        "  %pip install git+https://github.com/Kojoley/atari-py.git\n",
        "  %pip install keras-rl2==1.0.5\n",
        "  %pip install tensorflow==2.12  #2.8\n",
        "else:\n",
        "  %pip install gym==0.17.3\n",
        "  %pip install git+https://github.com/Kojoley/atari-py.git\n",
        "  %pip install pyglet==1.5.0\n",
        "  %pip install h5py==3.1.0\n",
        "  %pip install Pillow==9.5.0\n",
        "  %pip install keras-rl2==1.0.5\n",
        "  %pip install Keras==2.2.4\n",
        "  %pip install tensorflow==2.5.3\n",
        "  %pip install torch==2.0.1\n",
        "  %pip install agents==1.4.0"
      ]
    },
    {
      "cell_type": "markdown",
      "metadata": {
        "id": "mS60Dk-KO5e3"
      },
      "source": [
        "## **PARTE 3**. Desarrollo y preguntas\n",
        "Importar librerías"
      ]
    },
    {
      "cell_type": "code",
      "execution_count": 6,
      "metadata": {
        "id": "RX-2z9T1NPp_"
      },
      "outputs": [],
      "source": [
        "from __future__ import division\n",
        "\n",
        "from PIL import Image\n",
        "import numpy as np\n",
        "import gym\n",
        "\n",
        "from tensorflow.keras.models import Sequential\n",
        "from tensorflow.keras.layers import Dense, Activation, Flatten, Convolution2D, Permute\n",
        "#from tensorflow.keras.optimizers import Adam\n",
        "import tensorflow.keras.backend as K\n",
        "\n",
        "from rl.agents.dqn import DQNAgent\n",
        "from rl.policy import LinearAnnealedPolicy, BoltzmannQPolicy, EpsGreedyQPolicy\n",
        "from rl.memory import SequentialMemory\n",
        "from rl.core import Processor\n",
        "from rl.callbacks import FileLogger, ModelIntervalCheckpoint"
      ]
    },
    {
      "cell_type": "markdown",
      "metadata": {
        "id": "NqJbsVR7POZA"
      },
      "source": [
        "#### Configuración base"
      ]
    },
    {
      "cell_type": "code",
      "execution_count": 7,
      "metadata": {
        "colab": {
          "base_uri": "https://localhost:8080/"
        },
        "id": "0FlafEtvOKR4",
        "outputId": "8774655e-9d2f-4337-f9ea-193126bb2b99"
      },
      "outputs": [
        {
          "output_type": "stream",
          "name": "stdout",
          "text": [
            "210 160 3\n",
            "Forma de la observación: (210, 160, 3)\n"
          ]
        },
        {
          "output_type": "execute_result",
          "data": {
            "text/plain": [
              "['NOOP', 'FIRE', 'RIGHT', 'LEFT', 'RIGHTFIRE', 'LEFTFIRE']"
            ]
          },
          "metadata": {},
          "execution_count": 7
        }
      ],
      "source": [
        "INPUT_SHAPE = (84, 84)\n",
        "WINDOW_LENGTH = 4\n",
        "\n",
        "env_name = 'SpaceInvaders-v0'\n",
        "env = gym.make(env_name)\n",
        "\n",
        "np.random.seed(123)\n",
        "env.seed(123)\n",
        "nb_actions = env.action_space.n\n",
        "\n",
        "#--- nuevo -- ejfm\n",
        "height, width, channels = env.observation_space.shape\n",
        "obs = env.reset()\n",
        "print(height, width, channels)\n",
        "print(\"Forma de la observación:\", obs.shape)  # Debe ser (height, width, channels)\n",
        "env.unwrapped.get_action_meanings()"
      ]
    },
    {
      "cell_type": "code",
      "execution_count": 8,
      "metadata": {
        "id": "YSGPGszsOOAw"
      },
      "outputs": [],
      "source": [
        "class AtariProcessor(Processor):\n",
        "    def process_observation(self, observation):\n",
        "        assert observation.ndim == 3  # (height, width, channel)\n",
        "        img = Image.fromarray(observation)\n",
        "        img = img.resize(INPUT_SHAPE).convert('L')\n",
        "        processed_observation = np.array(img)\n",
        "        assert processed_observation.shape == INPUT_SHAPE\n",
        "        return processed_observation.astype('uint8')\n",
        "\n",
        "    def process_state_batch(self, batch):\n",
        "        # Convertir a float y escalar\n",
        "        # Linea Agregada\n",
        "        if isinstance(batch, list):\n",
        "          batch = np.array(batch)\n",
        "\n",
        "        batch = batch.astype('float32') / 255.\n",
        "\n",
        "        # 👇 Elimina el canal innecesario si existe (forma (B, 4, 84, 84, 1))\n",
        "        if batch.ndim == 5 and batch.shape[-1] == 1:\n",
        "            batch = np.squeeze(batch, axis=-1)\n",
        "\n",
        "        return batch\n",
        "\n",
        "    def process_reward(self, reward):\n",
        "        return np.clip(reward, -1., 1.)\n"
      ]
    },
    {
      "cell_type": "markdown",
      "metadata": {
        "id": "Sg54U9vFZEBQ"
      },
      "source": [
        "## 1. EJFM Implementación de la red neuronal"
      ]
    },
    {
      "cell_type": "code",
      "execution_count": 9,
      "metadata": {
        "id": "aiE1_aXXmQM7"
      },
      "outputs": [],
      "source": [
        "import tensorflow as tf\n",
        "\n",
        "class NoisyDense(tf.keras.layers.Layer):\n",
        "    def __init__(self, units, sigma_init=0.05, **kwargs):\n",
        "        super(NoisyDense, self).__init__(**kwargs)\n",
        "        self.units = units\n",
        "        self.sigma_init = sigma_init\n",
        "\n",
        "    def build(self, input_shape):\n",
        "        input_dim = int(input_shape[-1])\n",
        "        self.mu_W = self.add_weight(\"mu_W\", shape=(input_dim, self.units),\n",
        "                                    initializer='random_uniform', trainable=True)\n",
        "        self.sigma_W = self.add_weight(\"sigma_W\", shape=(input_dim, self.units),\n",
        "                                       initializer=tf.keras.initializers.Constant(self.sigma_init), trainable=True)\n",
        "        self.mu_b = self.add_weight(\"mu_b\", shape=(self.units,),\n",
        "                                    initializer='zeros', trainable=True)\n",
        "        self.sigma_b = self.add_weight(\"sigma_b\", shape=(self.units,),\n",
        "                                       initializer=tf.keras.initializers.Constant(self.sigma_init), trainable=True)\n",
        "\n",
        "    def call(self, x):\n",
        "        epsilon_W = tf.random.normal((x.shape[-1], self.units))\n",
        "        epsilon_b = tf.random.normal((self.units,))\n",
        "        W = self.mu_W + self.sigma_W * epsilon_W\n",
        "        b = self.mu_b + self.sigma_b * epsilon_b\n",
        "        return tf.matmul(x, W) + b\n",
        "\n",
        "    def get_config(self):\n",
        "        config = super(NoisyDense, self).get_config()\n",
        "        config.update({\n",
        "            \"units\": self.units,\n",
        "            \"sigma_init\": self.sigma_init\n",
        "        })\n",
        "        return config\n"
      ]
    },
    {
      "cell_type": "code",
      "execution_count": 10,
      "metadata": {
        "colab": {
          "base_uri": "https://localhost:8080/"
        },
        "id": "pygz71TLmV2t",
        "outputId": "56cf67c0-7eed-417d-ab10-d016538f0d07"
      },
      "outputs": [
        {
          "output_type": "stream",
          "name": "stdout",
          "text": [
            "Model: \"model\"\n",
            "_________________________________________________________________\n",
            " Layer (type)                Output Shape              Param #   \n",
            "=================================================================\n",
            " input_1 (InputLayer)        [(None, 4, 84, 84)]       0         \n",
            "                                                                 \n",
            " permute (Permute)           (None, 84, 84, 4)         0         \n",
            "                                                                 \n",
            " conv2d (Conv2D)             (None, 20, 20, 32)        8224      \n",
            "                                                                 \n",
            " conv2d_1 (Conv2D)           (None, 9, 9, 64)          32832     \n",
            "                                                                 \n",
            " conv2d_2 (Conv2D)           (None, 7, 7, 64)          36928     \n",
            "                                                                 \n",
            " flatten (Flatten)           (None, 3136)              0         \n",
            "                                                                 \n",
            " noisy_dense (NoisyDense)    (None, 512)               3212288   \n",
            "                                                                 \n",
            " activation (Activation)     (None, 512)               0         \n",
            "                                                                 \n",
            " noisy_dense_1 (NoisyDense)  (None, 6)                 6156      \n",
            "                                                                 \n",
            "=================================================================\n",
            "Total params: 3,296,428\n",
            "Trainable params: 3,296,428\n",
            "Non-trainable params: 0\n",
            "_________________________________________________________________\n"
          ]
        }
      ],
      "source": [
        "from tensorflow.keras.models import Model\n",
        "from tensorflow.keras.layers import Input, Permute, Convolution2D, Flatten, Activation\n",
        "\n",
        "input_layer = Input(shape=(WINDOW_LENGTH,) + INPUT_SHAPE)\n",
        "perm = Permute((2, 3, 1))(input_layer)  # Canal al final\n",
        "conv1 = Convolution2D(32, (8, 8), strides=(4, 4), activation='relu')(perm)\n",
        "conv2 = Convolution2D(64, (4, 4), strides=(2, 2), activation='relu')(conv1)\n",
        "conv3 = Convolution2D(64, (3, 3), strides=(1, 1), activation='relu')(conv2)\n",
        "flat = Flatten()(conv3)\n",
        "\n",
        "noisy1 = NoisyDense(512)(flat)\n",
        "noisy1 = Activation('relu')(noisy1)\n",
        "output_layer = NoisyDense(nb_actions)(noisy1)\n",
        "\n",
        "model = Model(inputs=input_layer, outputs=output_layer)\n",
        "model.summary()\n"
      ]
    },
    {
      "cell_type": "code",
      "execution_count": 11,
      "metadata": {
        "id": "_H6vbJsFsnKi"
      },
      "outputs": [],
      "source": [
        "# Registrar la capa personalizada (una sola vez en todo el código)\n",
        "from tensorflow.keras.utils import get_custom_objects\n",
        "get_custom_objects().update({'NoisyDense': NoisyDense})"
      ]
    },
    {
      "cell_type": "markdown",
      "metadata": {
        "id": "KwJoe_1sZOX4"
      },
      "source": [
        "## 2. EJFM Implementación de la solución DQN"
      ]
    },
    {
      "cell_type": "markdown",
      "metadata": {
        "id": "mANAV3rVJXt7"
      },
      "source": [
        "### Ejecución Inicial\n",
        "\n"
      ]
    },
    {
      "cell_type": "code",
      "execution_count": 12,
      "metadata": {
        "id": "KU6UKvVYXESO",
        "colab": {
          "base_uri": "https://localhost:8080/"
        },
        "outputId": "d979c6dd-bc12-4c7c-86fe-30cfd18af993"
      },
      "outputs": [
        {
          "output_type": "stream",
          "name": "stdout",
          "text": [
            "Creando nueva memoria...\n"
          ]
        }
      ],
      "source": [
        "####### Solución DQN #######\n",
        "\n",
        "import os\n",
        "import pickle\n",
        "\n",
        "# INTENTAR CARGAR LA MEMORIA\n",
        "memory_file = 'memory_noisy.pkl'\n",
        "if os.path.exists(memory_file):\n",
        "    print(\"Cargando memoria desde archivo...\")\n",
        "    with open(memory_file, 'rb') as f:\n",
        "        memory = pickle.load(f)\n",
        "else:\n",
        "    print(\"Creando nueva memoria...\")\n",
        "    memory = SequentialMemory(limit=1000000, window_length=4)\n",
        "\n",
        "# Crear política como de costumbre\n",
        "#policy = BoltzmannQPolicy()\n",
        "policy = EpsGreedyQPolicy(eps=0.0)\n",
        "\n",
        "# Crear agente\n",
        "dqn = DQNAgent(model=model, nb_actions=nb_actions, policy=policy, memory=memory,\n",
        "               processor=AtariProcessor(), nb_steps_warmup=50000, gamma=0.99,\n",
        "               target_model_update=10000, train_interval=4, delta_clip=5)\n",
        "\n",
        "# Compilar agente\n",
        "#dqn.compile(optimizer='adam', metrics=['mae'])\n",
        "#dqn.compile(optimizer=Adam(learning_rate=0.0001), metrics=['mae'])\n",
        "\n",
        "from tensorflow.keras.optimizers.legacy import Adam     # ← incluye get_updates\n",
        "# Compilar agente\n",
        "dqn.compile(optimizer=Adam(learning_rate=5e-5), metrics=['mae'])"
      ]
    },
    {
      "cell_type": "code",
      "execution_count": 13,
      "metadata": {
        "id": "SEmhFU4mYzh-"
      },
      "outputs": [],
      "source": [
        "####### Crear directorios  logs y checkpoints #######\n",
        "\n",
        "import os\n",
        "log_dir = os.path.join(drive_root, \"logs\")\n",
        "checkpoint_dir = os.path.join(drive_root, \"checkpoints\")\n",
        "os.makedirs(log_dir, exist_ok=True)\n",
        "os.makedirs(checkpoint_dir, exist_ok=True)\n",
        "\n",
        "# Función para restaurar pesos más adelante\n",
        "import re\n",
        "\n",
        "def load_latest_weights(agent, checkpoint_dir, prefix=\"dqn_noisy_weights_\"):\n",
        "    \"\"\"\n",
        "    Busca el checkpoint más reciente, carga los pesos y retorna info útil.\n",
        "\n",
        "    Parámetros:\n",
        "        agent: el agente DQN ya creado y compilado.\n",
        "        checkpoint_dir: carpeta con los archivos de pesos.\n",
        "        prefix: prefijo de los archivos de pesos.\n",
        "\n",
        "    Retorna:\n",
        "        (ruta_archivo, pasos_entrenados) o (None, 0) si no se encuentra nada.\n",
        "    \"\"\"\n",
        "    files = [f for f in os.listdir(checkpoint_dir) if f.endswith(\".h5\")]\n",
        "    pattern = re.compile(rf\"{re.escape(prefix)}(\\d+)\\.h5\")\n",
        "\n",
        "    candidates = []\n",
        "    for f in files:\n",
        "        match = pattern.match(f)\n",
        "        if match:\n",
        "            step = int(match.group(1))\n",
        "            candidates.append((step, f))\n",
        "\n",
        "    if not candidates:\n",
        "        print(\"⚠️ No se encontraron checkpoints en:\", checkpoint_dir)\n",
        "        return None, 0\n",
        "\n",
        "    # Escoger el de mayor número de pasos\n",
        "    latest_step, latest_file = max(candidates, key=lambda x: x[0])\n",
        "    latest_path = os.path.join(checkpoint_dir, latest_file)\n",
        "\n",
        "    print(f\"✅ Cargando pesos desde: {latest_path} (pasos entrenados: {latest_step})\")\n",
        "    agent.load_weights(latest_path)\n",
        "    return latest_path, latest_step\n"
      ]
    },
    {
      "cell_type": "code",
      "execution_count": 14,
      "metadata": {
        "colab": {
          "base_uri": "https://localhost:8080/"
        },
        "id": "n4rsQm4_zc5J",
        "outputId": "027560c9-17ae-4ef6-e88b-9ed10903eb68"
      },
      "outputs": [
        {
          "output_type": "stream",
          "name": "stdout",
          "text": [
            "⚠️ No se encontraron checkpoints en: /content/gdrive/My Drive/MODELO 15/checkpoints\n"
          ]
        }
      ],
      "source": [
        "# Cargar pesos anteriores si existen\n",
        "_, trained_steps = load_latest_weights(dqn, checkpoint_dir)\n",
        "\n",
        "# Definir pasos a entrenar\n",
        "steps_to_train = 100000\n",
        "total_steps = trained_steps + steps_to_train\n",
        "\n",
        "# Crear paths y callbacks dinámicos\n",
        "log_path = os.path.join(log_dir, f\"dqn_noisy_log_{trained_steps}_{total_steps}.json\")\n",
        "checkpoint_path = os.path.join(checkpoint_dir, f\"dqn_noisy_weights_{total_steps}.h5\")\n",
        "\n",
        "logger_callback = FileLogger(log_path, interval=100)\n",
        "checkpoint_callback = ModelIntervalCheckpoint(checkpoint_path, interval=10000)"
      ]
    },
    {
      "cell_type": "markdown",
      "metadata": {
        "id": "Qj8CoQ2mhISX"
      },
      "source": [
        "### Primera **Ejecución**"
      ]
    },
    {
      "cell_type": "code",
      "execution_count": null,
      "metadata": {
        "colab": {
          "base_uri": "https://localhost:8080/"
        },
        "id": "LLbFoBPFXGcV",
        "outputId": "7d53a630-44fc-4f1b-a133-34ab539e7508"
      },
      "outputs": [
        {
          "output_type": "stream",
          "name": "stdout",
          "text": [
            "⚠️ No se encontraron checkpoints en: /content/gdrive/My Drive/MODELO 15/checkpoints\n",
            "Training for 100000 steps ...\n"
          ]
        },
        {
          "output_type": "stream",
          "name": "stderr",
          "text": [
            "/usr/local/lib/python3.11/dist-packages/keras/engine/training_v1.py:2359: UserWarning: `Model.state_updates` will be removed in a future version. This property should not be used in TensorFlow 2.0, as `updates` are applied automatically.\n",
            "  updates=self.state_updates,\n"
          ]
        }
      ],
      "source": [
        "# Cargar último checkpoint\n",
        "latest_path, trained_steps = load_latest_weights(dqn, checkpoint_dir)\n",
        "\n",
        "# Entrenar agente\n",
        "dqn.fit(env, nb_steps=100000, visualize=False, verbose=2,\n",
        "        callbacks=[checkpoint_callback, logger_callback])\n",
        "\n",
        "# Guardar pesos finales en formato .h5 (compatible con load_weights)\n",
        "dqn.save_weights(os.path.join(checkpoint_dir, f\"dqn_noisy_weights_{total_steps}.h5\"), overwrite=True)\n",
        "\n",
        "# GUARDAR LA MEMORIA DE EXPERIENCIA\n",
        "import pickle\n",
        "with open('memory_noisy.pkl', 'wb') as f:\n",
        "    pickle.dump(memory, f)"
      ]
    },
    {
      "cell_type": "code",
      "source": [
        "import time\n",
        "\n",
        "print(\"Esperando 60 segundos...\")\n",
        "time.sleep(60)\n",
        "print(\"¡Tiempo de espera terminado!\")"
      ],
      "metadata": {
        "id": "hcqrLtRxi23X"
      },
      "execution_count": null,
      "outputs": []
    },
    {
      "cell_type": "code",
      "execution_count": null,
      "metadata": {
        "id": "fuVSBuiyi56X"
      },
      "outputs": [],
      "source": [
        "# Testear desde último checkpoint\n",
        "latest_path, trained_steps = load_latest_weights(dqn, checkpoint_dir)\n",
        "if latest_path:\n",
        "    dqn.test(env, nb_episodes=10, visualize=False)"
      ]
    },
    {
      "cell_type": "markdown",
      "source": [
        "### Parte 2"
      ],
      "metadata": {
        "id": "CMKpo4cgDXND"
      }
    },
    {
      "cell_type": "code",
      "source": [
        "# Cargar pesos anteriores si existen\n",
        "latest_path, trained_steps = load_latest_weights(dqn, checkpoint_dir)\n",
        "if latest_path:\n",
        "    dqn.load_weights(latest_path)\n",
        "else:\n",
        "    trained_steps = 0\n",
        "\n",
        "# Definir pasos a entrenar\n",
        "steps_to_train = 100000\n",
        "total_steps = trained_steps + steps_to_train\n",
        "\n",
        "# Crear paths y callbacks dinámicos\n",
        "log_path = os.path.join(log_dir, f\"dqn_noisy_log_{trained_steps}_{total_steps}.json\")\n",
        "checkpoint_path = os.path.join(checkpoint_dir, f\"dqn_noisy_weights_{total_steps}.h5\")\n",
        "\n",
        "logger_callback = FileLogger(log_path, interval=100)\n",
        "checkpoint_callback = ModelIntervalCheckpoint(checkpoint_path, interval=10000)\n",
        "\n",
        "# Entrenar agente\n",
        "dqn.fit(env, nb_steps=steps_to_train, visualize=False, verbose=2,\n",
        "        callbacks=[checkpoint_callback, logger_callback])\n",
        "\n",
        "# Guardar pesos finales\n",
        "dqn.save_weights(checkpoint_path, overwrite=True)\n",
        "\n",
        "# Guardar la memoria de experiencia\n",
        "import pickle\n",
        "with open('memory_noisy.pkl', 'wb') as f:\n",
        "    pickle.dump(memory, f)\n",
        "\n",
        "print(f\"Entrenamiento hasta {total_steps} pasos completado y guardado.\")"
      ],
      "metadata": {
        "id": "8_fQUrYHDVG2"
      },
      "execution_count": null,
      "outputs": []
    },
    {
      "cell_type": "code",
      "source": [
        "import time\n",
        "\n",
        "print(\"Esperando 60 segundos...\")\n",
        "time.sleep(60)\n",
        "print(\"¡Tiempo de espera terminado!\")"
      ],
      "metadata": {
        "id": "9x6-wgiTDbRz"
      },
      "execution_count": null,
      "outputs": []
    },
    {
      "cell_type": "code",
      "source": [
        "# Testear desde último checkpoint\n",
        "latest_path, trained_steps = load_latest_weights(dqn, checkpoint_dir)\n",
        "if latest_path:\n",
        "    dqn.test(env, nb_episodes=10, visualize=False)"
      ],
      "metadata": {
        "id": "4Fvp-zjUDenQ"
      },
      "execution_count": null,
      "outputs": []
    }
  ],
  "metadata": {
    "colab": {
      "provenance": [],
      "include_colab_link": true
    },
    "kernelspec": {
      "display_name": "Python 3",
      "name": "python3"
    },
    "language_info": {
      "name": "python"
    }
  },
  "nbformat": 4,
  "nbformat_minor": 0
}