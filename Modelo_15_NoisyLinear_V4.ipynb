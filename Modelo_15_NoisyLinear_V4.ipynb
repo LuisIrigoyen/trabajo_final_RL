{
  "cells": [
    {
      "cell_type": "markdown",
      "metadata": {
        "id": "view-in-github",
        "colab_type": "text"
      },
      "source": [
        "<a href=\"https://colab.research.google.com/github/LuisIrigoyen/trabajo_final_RL/blob/pruebas_LuisIrigoyen/Modelo_15_NoisyLinear_V4.ipynb\" target=\"_parent\"><img src=\"https://colab.research.google.com/assets/colab-badge.svg\" alt=\"Open In Colab\"/></a>"
      ]
    },
    {
      "cell_type": "markdown",
      "metadata": {
        "id": "D89Ue2uZNtzn"
      },
      "source": [
        "## 1.2. Localizar entorno de trabajo: Google colab o local"
      ]
    },
    {
      "cell_type": "markdown",
      "metadata": {
        "id": "piJ-XjXrzhdZ"
      },
      "source": [
        "- Igual que 12, cambio paramétro: dqn.compile(optimizer=Adam(learning_rate=0.0001)\n",
        "- luego se modificó a dqn.compile(optimizer=Adam(learning_rate=1e-4)\n",
        "- se cambió policy = BoltzmannQPolicy() a policy = EpsGreedyQPolicy(eps=0.0)\n",
        "- cambio sigma_init en NoisyDense: sigma_init=0.017 a 0.05\n",
        "- learning_rate aún más bajo para Adam: de 1e-4 a 5e-5"
      ]
    },
    {
      "cell_type": "code",
      "execution_count": null,
      "metadata": {
        "id": "7EQ46sNGLj22"
      },
      "outputs": [],
      "source": [
        "# ATENCIÓN!! Modificar ruta relativa a la práctica si es distinta (drive_root)\n",
        "mount='/content/gdrive'\n",
        "drive_root = mount + \"/My Drive/MODELO 15/\"\n",
        "\n",
        "try:\n",
        "  from google.colab import drive\n",
        "  IN_COLAB=True\n",
        "except:\n",
        "  IN_COLAB=False"
      ]
    },
    {
      "cell_type": "markdown",
      "metadata": {
        "id": "6on2PNxZN51A"
      },
      "source": [
        "## 1.3. Montar carpeta de datos local (solo Colab)"
      ]
    },
    {
      "cell_type": "code",
      "execution_count": null,
      "metadata": {
        "colab": {
          "base_uri": "https://localhost:8080/"
        },
        "id": "inTxnmr0MKCH",
        "outputId": "544520f6-c7de-4873-97b3-58ab35b43efc"
      },
      "outputs": [
        {
          "output_type": "stream",
          "name": "stdout",
          "text": [
            "We're running Colab\n",
            "Colab: mounting Google drive on  /content/gdrive\n",
            "Drive already mounted at /content/gdrive; to attempt to forcibly remount, call drive.mount(\"/content/gdrive\", force_remount=True).\n",
            "\n",
            "Colab: making sure  /content/gdrive/My Drive/MODELO 15/  exists.\n",
            "\n",
            "Colab: Changing directory to  /content/gdrive/My Drive/MODELO 15/\n",
            "/content/gdrive/My Drive/MODELO 15\n",
            "Archivos en el directorio: \n",
            "['logs', 'checkpoints', 'memory_noisy-ant.pkl', 'memory_noisy.pkl']\n"
          ]
        }
      ],
      "source": [
        "# Switch to the directory on the Google Drive that you want to use\n",
        "import os\n",
        "if IN_COLAB:\n",
        "  print(\"We're running Colab\")\n",
        "\n",
        "  if IN_COLAB:\n",
        "    # Mount the Google Drive at mount\n",
        "    print(\"Colab: mounting Google drive on \", mount)\n",
        "\n",
        "    drive.mount(mount)\n",
        "\n",
        "    # Create drive_root if it doesn't exist\n",
        "    create_drive_root = True\n",
        "    if create_drive_root:\n",
        "      print(\"\\nColab: making sure \", drive_root, \" exists.\")\n",
        "      os.makedirs(drive_root, exist_ok=True)\n",
        "\n",
        "    # Change to the directory\n",
        "    print(\"\\nColab: Changing directory to \", drive_root)\n",
        "    %cd $drive_root\n",
        "# Verify we're in the correct working directory\n",
        "%pwd\n",
        "print(\"Archivos en el directorio: \")\n",
        "print(os.listdir())"
      ]
    },
    {
      "cell_type": "markdown",
      "metadata": {
        "id": "MYrJ03QWN9Hw"
      },
      "source": [
        "## 1.4. Instalar librerías necesarias"
      ]
    },
    {
      "cell_type": "code",
      "execution_count": null,
      "metadata": {
        "colab": {
          "base_uri": "https://localhost:8080/"
        },
        "id": "zSbNMsl4MTo3",
        "outputId": "fc792658-ca59-45be-80b9-f307caf918c3"
      },
      "outputs": [
        {
          "output_type": "stream",
          "name": "stdout",
          "text": [
            "Requirement already satisfied: gym==0.17.3 in /usr/local/lib/python3.11/dist-packages (0.17.3)\n",
            "Requirement already satisfied: scipy in /usr/local/lib/python3.11/dist-packages (from gym==0.17.3) (1.15.3)\n",
            "Requirement already satisfied: numpy>=1.10.4 in /usr/local/lib/python3.11/dist-packages (from gym==0.17.3) (1.23.5)\n",
            "Requirement already satisfied: pyglet<=1.5.0,>=1.4.0 in /usr/local/lib/python3.11/dist-packages (from gym==0.17.3) (1.5.0)\n",
            "Requirement already satisfied: cloudpickle<1.7.0,>=1.2.0 in /usr/local/lib/python3.11/dist-packages (from gym==0.17.3) (1.6.0)\n",
            "Requirement already satisfied: future in /usr/local/lib/python3.11/dist-packages (from pyglet<=1.5.0,>=1.4.0->gym==0.17.3) (1.0.0)\n",
            "Collecting git+https://github.com/Kojoley/atari-py.git\n",
            "  Cloning https://github.com/Kojoley/atari-py.git to /tmp/pip-req-build-ibr3wjor\n",
            "  Running command git clone --filter=blob:none --quiet https://github.com/Kojoley/atari-py.git /tmp/pip-req-build-ibr3wjor\n",
            "  Resolved https://github.com/Kojoley/atari-py.git to commit 86a1e05c0a95e9e6233c3a413521fdb34ca8a089\n",
            "  Preparing metadata (setup.py) ... \u001b[?25l\u001b[?25hdone\n",
            "Requirement already satisfied: numpy in /usr/local/lib/python3.11/dist-packages (from atari-py==1.2.2) (1.23.5)\n",
            "Requirement already satisfied: keras-rl2==1.0.5 in /usr/local/lib/python3.11/dist-packages (1.0.5)\n",
            "Requirement already satisfied: tensorflow in /usr/local/lib/python3.11/dist-packages (from keras-rl2==1.0.5) (2.12.0)\n",
            "Requirement already satisfied: absl-py>=1.0.0 in /usr/local/lib/python3.11/dist-packages (from tensorflow->keras-rl2==1.0.5) (1.4.0)\n",
            "Requirement already satisfied: astunparse>=1.6.0 in /usr/local/lib/python3.11/dist-packages (from tensorflow->keras-rl2==1.0.5) (1.6.3)\n",
            "Requirement already satisfied: flatbuffers>=2.0 in /usr/local/lib/python3.11/dist-packages (from tensorflow->keras-rl2==1.0.5) (25.2.10)\n",
            "Requirement already satisfied: gast<=0.4.0,>=0.2.1 in /usr/local/lib/python3.11/dist-packages (from tensorflow->keras-rl2==1.0.5) (0.4.0)\n",
            "Requirement already satisfied: google-pasta>=0.1.1 in /usr/local/lib/python3.11/dist-packages (from tensorflow->keras-rl2==1.0.5) (0.2.0)\n",
            "Requirement already satisfied: grpcio<2.0,>=1.24.3 in /usr/local/lib/python3.11/dist-packages (from tensorflow->keras-rl2==1.0.5) (1.73.1)\n",
            "Requirement already satisfied: h5py>=2.9.0 in /usr/local/lib/python3.11/dist-packages (from tensorflow->keras-rl2==1.0.5) (3.14.0)\n",
            "Requirement already satisfied: jax>=0.3.15 in /usr/local/lib/python3.11/dist-packages (from tensorflow->keras-rl2==1.0.5) (0.4.30)\n",
            "Requirement already satisfied: keras<2.13,>=2.12.0 in /usr/local/lib/python3.11/dist-packages (from tensorflow->keras-rl2==1.0.5) (2.12.0)\n",
            "Requirement already satisfied: libclang>=13.0.0 in /usr/local/lib/python3.11/dist-packages (from tensorflow->keras-rl2==1.0.5) (18.1.1)\n",
            "Requirement already satisfied: numpy<1.24,>=1.22 in /usr/local/lib/python3.11/dist-packages (from tensorflow->keras-rl2==1.0.5) (1.23.5)\n",
            "Requirement already satisfied: opt-einsum>=2.3.2 in /usr/local/lib/python3.11/dist-packages (from tensorflow->keras-rl2==1.0.5) (3.4.0)\n",
            "Requirement already satisfied: packaging in /usr/local/lib/python3.11/dist-packages (from tensorflow->keras-rl2==1.0.5) (24.2)\n",
            "Requirement already satisfied: protobuf!=4.21.0,!=4.21.1,!=4.21.2,!=4.21.3,!=4.21.4,!=4.21.5,<5.0.0dev,>=3.20.3 in /usr/local/lib/python3.11/dist-packages (from tensorflow->keras-rl2==1.0.5) (4.25.8)\n",
            "Requirement already satisfied: setuptools in /usr/local/lib/python3.11/dist-packages (from tensorflow->keras-rl2==1.0.5) (75.2.0)\n",
            "Requirement already satisfied: six>=1.12.0 in /usr/local/lib/python3.11/dist-packages (from tensorflow->keras-rl2==1.0.5) (1.17.0)\n",
            "Requirement already satisfied: tensorboard<2.13,>=2.12 in /usr/local/lib/python3.11/dist-packages (from tensorflow->keras-rl2==1.0.5) (2.12.3)\n",
            "Requirement already satisfied: tensorflow-estimator<2.13,>=2.12.0 in /usr/local/lib/python3.11/dist-packages (from tensorflow->keras-rl2==1.0.5) (2.12.0)\n",
            "Requirement already satisfied: termcolor>=1.1.0 in /usr/local/lib/python3.11/dist-packages (from tensorflow->keras-rl2==1.0.5) (3.1.0)\n",
            "Requirement already satisfied: typing-extensions>=3.6.6 in /usr/local/lib/python3.11/dist-packages (from tensorflow->keras-rl2==1.0.5) (4.14.0)\n",
            "Requirement already satisfied: wrapt<1.15,>=1.11.0 in /usr/local/lib/python3.11/dist-packages (from tensorflow->keras-rl2==1.0.5) (1.14.1)\n",
            "Requirement already satisfied: tensorflow-io-gcs-filesystem>=0.23.1 in /usr/local/lib/python3.11/dist-packages (from tensorflow->keras-rl2==1.0.5) (0.37.1)\n",
            "Requirement already satisfied: wheel<1.0,>=0.23.0 in /usr/local/lib/python3.11/dist-packages (from astunparse>=1.6.0->tensorflow->keras-rl2==1.0.5) (0.45.1)\n",
            "Requirement already satisfied: jaxlib<=0.4.30,>=0.4.27 in /usr/local/lib/python3.11/dist-packages (from jax>=0.3.15->tensorflow->keras-rl2==1.0.5) (0.4.30)\n",
            "Requirement already satisfied: ml-dtypes>=0.2.0 in /usr/local/lib/python3.11/dist-packages (from jax>=0.3.15->tensorflow->keras-rl2==1.0.5) (0.4.1)\n",
            "Requirement already satisfied: scipy>=1.9 in /usr/local/lib/python3.11/dist-packages (from jax>=0.3.15->tensorflow->keras-rl2==1.0.5) (1.15.3)\n",
            "Requirement already satisfied: google-auth<3,>=1.6.3 in /usr/local/lib/python3.11/dist-packages (from tensorboard<2.13,>=2.12->tensorflow->keras-rl2==1.0.5) (2.38.0)\n",
            "Requirement already satisfied: google-auth-oauthlib<1.1,>=0.5 in /usr/local/lib/python3.11/dist-packages (from tensorboard<2.13,>=2.12->tensorflow->keras-rl2==1.0.5) (1.0.0)\n",
            "Requirement already satisfied: markdown>=2.6.8 in /usr/local/lib/python3.11/dist-packages (from tensorboard<2.13,>=2.12->tensorflow->keras-rl2==1.0.5) (3.8.2)\n",
            "Requirement already satisfied: requests<3,>=2.21.0 in /usr/local/lib/python3.11/dist-packages (from tensorboard<2.13,>=2.12->tensorflow->keras-rl2==1.0.5) (2.32.3)\n",
            "Requirement already satisfied: tensorboard-data-server<0.8.0,>=0.7.0 in /usr/local/lib/python3.11/dist-packages (from tensorboard<2.13,>=2.12->tensorflow->keras-rl2==1.0.5) (0.7.2)\n",
            "Requirement already satisfied: werkzeug>=1.0.1 in /usr/local/lib/python3.11/dist-packages (from tensorboard<2.13,>=2.12->tensorflow->keras-rl2==1.0.5) (3.1.3)\n",
            "Requirement already satisfied: cachetools<6.0,>=2.0.0 in /usr/local/lib/python3.11/dist-packages (from google-auth<3,>=1.6.3->tensorboard<2.13,>=2.12->tensorflow->keras-rl2==1.0.5) (5.5.2)\n",
            "Requirement already satisfied: pyasn1-modules>=0.2.1 in /usr/local/lib/python3.11/dist-packages (from google-auth<3,>=1.6.3->tensorboard<2.13,>=2.12->tensorflow->keras-rl2==1.0.5) (0.4.2)\n",
            "Requirement already satisfied: rsa<5,>=3.1.4 in /usr/local/lib/python3.11/dist-packages (from google-auth<3,>=1.6.3->tensorboard<2.13,>=2.12->tensorflow->keras-rl2==1.0.5) (4.9.1)\n",
            "Requirement already satisfied: requests-oauthlib>=0.7.0 in /usr/local/lib/python3.11/dist-packages (from google-auth-oauthlib<1.1,>=0.5->tensorboard<2.13,>=2.12->tensorflow->keras-rl2==1.0.5) (2.0.0)\n",
            "Requirement already satisfied: charset-normalizer<4,>=2 in /usr/local/lib/python3.11/dist-packages (from requests<3,>=2.21.0->tensorboard<2.13,>=2.12->tensorflow->keras-rl2==1.0.5) (3.4.2)\n",
            "Requirement already satisfied: idna<4,>=2.5 in /usr/local/lib/python3.11/dist-packages (from requests<3,>=2.21.0->tensorboard<2.13,>=2.12->tensorflow->keras-rl2==1.0.5) (3.10)\n",
            "Requirement already satisfied: urllib3<3,>=1.21.1 in /usr/local/lib/python3.11/dist-packages (from requests<3,>=2.21.0->tensorboard<2.13,>=2.12->tensorflow->keras-rl2==1.0.5) (2.4.0)\n",
            "Requirement already satisfied: certifi>=2017.4.17 in /usr/local/lib/python3.11/dist-packages (from requests<3,>=2.21.0->tensorboard<2.13,>=2.12->tensorflow->keras-rl2==1.0.5) (2025.6.15)\n",
            "Requirement already satisfied: MarkupSafe>=2.1.1 in /usr/local/lib/python3.11/dist-packages (from werkzeug>=1.0.1->tensorboard<2.13,>=2.12->tensorflow->keras-rl2==1.0.5) (3.0.2)\n",
            "Requirement already satisfied: pyasn1<0.7.0,>=0.6.1 in /usr/local/lib/python3.11/dist-packages (from pyasn1-modules>=0.2.1->google-auth<3,>=1.6.3->tensorboard<2.13,>=2.12->tensorflow->keras-rl2==1.0.5) (0.6.1)\n",
            "Requirement already satisfied: oauthlib>=3.0.0 in /usr/local/lib/python3.11/dist-packages (from requests-oauthlib>=0.7.0->google-auth-oauthlib<1.1,>=0.5->tensorboard<2.13,>=2.12->tensorflow->keras-rl2==1.0.5) (3.3.1)\n",
            "Requirement already satisfied: tensorflow==2.12 in /usr/local/lib/python3.11/dist-packages (2.12.0)\n",
            "Requirement already satisfied: absl-py>=1.0.0 in /usr/local/lib/python3.11/dist-packages (from tensorflow==2.12) (1.4.0)\n",
            "Requirement already satisfied: astunparse>=1.6.0 in /usr/local/lib/python3.11/dist-packages (from tensorflow==2.12) (1.6.3)\n",
            "Requirement already satisfied: flatbuffers>=2.0 in /usr/local/lib/python3.11/dist-packages (from tensorflow==2.12) (25.2.10)\n",
            "Requirement already satisfied: gast<=0.4.0,>=0.2.1 in /usr/local/lib/python3.11/dist-packages (from tensorflow==2.12) (0.4.0)\n",
            "Requirement already satisfied: google-pasta>=0.1.1 in /usr/local/lib/python3.11/dist-packages (from tensorflow==2.12) (0.2.0)\n",
            "Requirement already satisfied: grpcio<2.0,>=1.24.3 in /usr/local/lib/python3.11/dist-packages (from tensorflow==2.12) (1.73.1)\n",
            "Requirement already satisfied: h5py>=2.9.0 in /usr/local/lib/python3.11/dist-packages (from tensorflow==2.12) (3.14.0)\n",
            "Requirement already satisfied: jax>=0.3.15 in /usr/local/lib/python3.11/dist-packages (from tensorflow==2.12) (0.4.30)\n",
            "Requirement already satisfied: keras<2.13,>=2.12.0 in /usr/local/lib/python3.11/dist-packages (from tensorflow==2.12) (2.12.0)\n",
            "Requirement already satisfied: libclang>=13.0.0 in /usr/local/lib/python3.11/dist-packages (from tensorflow==2.12) (18.1.1)\n",
            "Requirement already satisfied: numpy<1.24,>=1.22 in /usr/local/lib/python3.11/dist-packages (from tensorflow==2.12) (1.23.5)\n",
            "Requirement already satisfied: opt-einsum>=2.3.2 in /usr/local/lib/python3.11/dist-packages (from tensorflow==2.12) (3.4.0)\n",
            "Requirement already satisfied: packaging in /usr/local/lib/python3.11/dist-packages (from tensorflow==2.12) (24.2)\n",
            "Requirement already satisfied: protobuf!=4.21.0,!=4.21.1,!=4.21.2,!=4.21.3,!=4.21.4,!=4.21.5,<5.0.0dev,>=3.20.3 in /usr/local/lib/python3.11/dist-packages (from tensorflow==2.12) (4.25.8)\n",
            "Requirement already satisfied: setuptools in /usr/local/lib/python3.11/dist-packages (from tensorflow==2.12) (75.2.0)\n",
            "Requirement already satisfied: six>=1.12.0 in /usr/local/lib/python3.11/dist-packages (from tensorflow==2.12) (1.17.0)\n",
            "Requirement already satisfied: tensorboard<2.13,>=2.12 in /usr/local/lib/python3.11/dist-packages (from tensorflow==2.12) (2.12.3)\n",
            "Requirement already satisfied: tensorflow-estimator<2.13,>=2.12.0 in /usr/local/lib/python3.11/dist-packages (from tensorflow==2.12) (2.12.0)\n",
            "Requirement already satisfied: termcolor>=1.1.0 in /usr/local/lib/python3.11/dist-packages (from tensorflow==2.12) (3.1.0)\n",
            "Requirement already satisfied: typing-extensions>=3.6.6 in /usr/local/lib/python3.11/dist-packages (from tensorflow==2.12) (4.14.0)\n",
            "Requirement already satisfied: wrapt<1.15,>=1.11.0 in /usr/local/lib/python3.11/dist-packages (from tensorflow==2.12) (1.14.1)\n",
            "Requirement already satisfied: tensorflow-io-gcs-filesystem>=0.23.1 in /usr/local/lib/python3.11/dist-packages (from tensorflow==2.12) (0.37.1)\n",
            "Requirement already satisfied: wheel<1.0,>=0.23.0 in /usr/local/lib/python3.11/dist-packages (from astunparse>=1.6.0->tensorflow==2.12) (0.45.1)\n",
            "Requirement already satisfied: jaxlib<=0.4.30,>=0.4.27 in /usr/local/lib/python3.11/dist-packages (from jax>=0.3.15->tensorflow==2.12) (0.4.30)\n",
            "Requirement already satisfied: ml-dtypes>=0.2.0 in /usr/local/lib/python3.11/dist-packages (from jax>=0.3.15->tensorflow==2.12) (0.4.1)\n",
            "Requirement already satisfied: scipy>=1.9 in /usr/local/lib/python3.11/dist-packages (from jax>=0.3.15->tensorflow==2.12) (1.15.3)\n",
            "Requirement already satisfied: google-auth<3,>=1.6.3 in /usr/local/lib/python3.11/dist-packages (from tensorboard<2.13,>=2.12->tensorflow==2.12) (2.38.0)\n",
            "Requirement already satisfied: google-auth-oauthlib<1.1,>=0.5 in /usr/local/lib/python3.11/dist-packages (from tensorboard<2.13,>=2.12->tensorflow==2.12) (1.0.0)\n",
            "Requirement already satisfied: markdown>=2.6.8 in /usr/local/lib/python3.11/dist-packages (from tensorboard<2.13,>=2.12->tensorflow==2.12) (3.8.2)\n",
            "Requirement already satisfied: requests<3,>=2.21.0 in /usr/local/lib/python3.11/dist-packages (from tensorboard<2.13,>=2.12->tensorflow==2.12) (2.32.3)\n",
            "Requirement already satisfied: tensorboard-data-server<0.8.0,>=0.7.0 in /usr/local/lib/python3.11/dist-packages (from tensorboard<2.13,>=2.12->tensorflow==2.12) (0.7.2)\n",
            "Requirement already satisfied: werkzeug>=1.0.1 in /usr/local/lib/python3.11/dist-packages (from tensorboard<2.13,>=2.12->tensorflow==2.12) (3.1.3)\n",
            "Requirement already satisfied: cachetools<6.0,>=2.0.0 in /usr/local/lib/python3.11/dist-packages (from google-auth<3,>=1.6.3->tensorboard<2.13,>=2.12->tensorflow==2.12) (5.5.2)\n",
            "Requirement already satisfied: pyasn1-modules>=0.2.1 in /usr/local/lib/python3.11/dist-packages (from google-auth<3,>=1.6.3->tensorboard<2.13,>=2.12->tensorflow==2.12) (0.4.2)\n",
            "Requirement already satisfied: rsa<5,>=3.1.4 in /usr/local/lib/python3.11/dist-packages (from google-auth<3,>=1.6.3->tensorboard<2.13,>=2.12->tensorflow==2.12) (4.9.1)\n",
            "Requirement already satisfied: requests-oauthlib>=0.7.0 in /usr/local/lib/python3.11/dist-packages (from google-auth-oauthlib<1.1,>=0.5->tensorboard<2.13,>=2.12->tensorflow==2.12) (2.0.0)\n",
            "Requirement already satisfied: charset-normalizer<4,>=2 in /usr/local/lib/python3.11/dist-packages (from requests<3,>=2.21.0->tensorboard<2.13,>=2.12->tensorflow==2.12) (3.4.2)\n",
            "Requirement already satisfied: idna<4,>=2.5 in /usr/local/lib/python3.11/dist-packages (from requests<3,>=2.21.0->tensorboard<2.13,>=2.12->tensorflow==2.12) (3.10)\n",
            "Requirement already satisfied: urllib3<3,>=1.21.1 in /usr/local/lib/python3.11/dist-packages (from requests<3,>=2.21.0->tensorboard<2.13,>=2.12->tensorflow==2.12) (2.4.0)\n",
            "Requirement already satisfied: certifi>=2017.4.17 in /usr/local/lib/python3.11/dist-packages (from requests<3,>=2.21.0->tensorboard<2.13,>=2.12->tensorflow==2.12) (2025.6.15)\n",
            "Requirement already satisfied: MarkupSafe>=2.1.1 in /usr/local/lib/python3.11/dist-packages (from werkzeug>=1.0.1->tensorboard<2.13,>=2.12->tensorflow==2.12) (3.0.2)\n",
            "Requirement already satisfied: pyasn1<0.7.0,>=0.6.1 in /usr/local/lib/python3.11/dist-packages (from pyasn1-modules>=0.2.1->google-auth<3,>=1.6.3->tensorboard<2.13,>=2.12->tensorflow==2.12) (0.6.1)\n",
            "Requirement already satisfied: oauthlib>=3.0.0 in /usr/local/lib/python3.11/dist-packages (from requests-oauthlib>=0.7.0->google-auth-oauthlib<1.1,>=0.5->tensorboard<2.13,>=2.12->tensorflow==2.12) (3.3.1)\n"
          ]
        }
      ],
      "source": [
        "if IN_COLAB:\n",
        "  %pip install gym==0.17.3\n",
        "  %pip install git+https://github.com/Kojoley/atari-py.git\n",
        "  %pip install keras-rl2==1.0.5\n",
        "  %pip install tensorflow==2.12  #2.8\n",
        "else:\n",
        "  %pip install gym==0.17.3\n",
        "  %pip install git+https://github.com/Kojoley/atari-py.git\n",
        "  %pip install pyglet==1.5.0\n",
        "  %pip install h5py==3.1.0\n",
        "  %pip install Pillow==9.5.0\n",
        "  %pip install keras-rl2==1.0.5\n",
        "  %pip install Keras==2.2.4\n",
        "  %pip install tensorflow==2.5.3\n",
        "  %pip install torch==2.0.1\n",
        "  %pip install agents==1.4.0"
      ]
    },
    {
      "cell_type": "markdown",
      "metadata": {
        "id": "mS60Dk-KO5e3"
      },
      "source": [
        "## **PARTE 3**. Desarrollo y preguntas\n",
        "Importar librerías"
      ]
    },
    {
      "cell_type": "code",
      "execution_count": null,
      "metadata": {
        "id": "RX-2z9T1NPp_"
      },
      "outputs": [],
      "source": [
        "from __future__ import division\n",
        "\n",
        "from PIL import Image\n",
        "import numpy as np\n",
        "import gym\n",
        "\n",
        "from tensorflow.keras.models import Sequential\n",
        "from tensorflow.keras.layers import Dense, Activation, Flatten, Convolution2D, Permute\n",
        "#from tensorflow.keras.optimizers import Adam\n",
        "import tensorflow.keras.backend as K\n",
        "\n",
        "from rl.agents.dqn import DQNAgent\n",
        "from rl.policy import LinearAnnealedPolicy, BoltzmannQPolicy, EpsGreedyQPolicy\n",
        "from rl.memory import SequentialMemory\n",
        "from rl.core import Processor\n",
        "from rl.callbacks import FileLogger, ModelIntervalCheckpoint"
      ]
    },
    {
      "cell_type": "markdown",
      "metadata": {
        "id": "NqJbsVR7POZA"
      },
      "source": [
        "#### Configuración base"
      ]
    },
    {
      "cell_type": "code",
      "execution_count": null,
      "metadata": {
        "colab": {
          "base_uri": "https://localhost:8080/"
        },
        "id": "0FlafEtvOKR4",
        "outputId": "2e9b020b-9594-4dbe-a33e-fac34881a19e"
      },
      "outputs": [
        {
          "output_type": "stream",
          "name": "stdout",
          "text": [
            "210 160 3\n",
            "Forma de la observación: (210, 160, 3)\n"
          ]
        },
        {
          "output_type": "execute_result",
          "data": {
            "text/plain": [
              "['NOOP', 'FIRE', 'RIGHT', 'LEFT', 'RIGHTFIRE', 'LEFTFIRE']"
            ]
          },
          "metadata": {},
          "execution_count": 5
        }
      ],
      "source": [
        "INPUT_SHAPE = (84, 84)\n",
        "WINDOW_LENGTH = 4\n",
        "\n",
        "env_name = 'SpaceInvaders-v0'\n",
        "env = gym.make(env_name)\n",
        "\n",
        "np.random.seed(123)\n",
        "env.seed(123)\n",
        "nb_actions = env.action_space.n\n",
        "\n",
        "#--- nuevo -- ejfm\n",
        "height, width, channels = env.observation_space.shape\n",
        "obs = env.reset()\n",
        "print(height, width, channels)\n",
        "print(\"Forma de la observación:\", obs.shape)  # Debe ser (height, width, channels)\n",
        "env.unwrapped.get_action_meanings()"
      ]
    },
    {
      "cell_type": "code",
      "execution_count": null,
      "metadata": {
        "id": "YSGPGszsOOAw"
      },
      "outputs": [],
      "source": [
        "class AtariProcessor(Processor):\n",
        "    def process_observation(self, observation):\n",
        "        assert observation.ndim == 3  # (height, width, channel)\n",
        "        img = Image.fromarray(observation)\n",
        "        img = img.resize(INPUT_SHAPE).convert('L')\n",
        "        processed_observation = np.array(img)\n",
        "        assert processed_observation.shape == INPUT_SHAPE\n",
        "        return processed_observation.astype('uint8')\n",
        "\n",
        "    def process_state_batch(self, batch):\n",
        "        # Convertir a float y escalar\n",
        "        # Linea Agregada\n",
        "        if isinstance(batch, list):\n",
        "          batch = np.array(batch)\n",
        "\n",
        "        batch = batch.astype('float32') / 255.\n",
        "\n",
        "        # 👇 Elimina el canal innecesario si existe (forma (B, 4, 84, 84, 1))\n",
        "        if batch.ndim == 5 and batch.shape[-1] == 1:\n",
        "            batch = np.squeeze(batch, axis=-1)\n",
        "\n",
        "        return batch\n",
        "\n",
        "    def process_reward(self, reward):\n",
        "        return np.clip(reward, -1., 1.)\n"
      ]
    },
    {
      "cell_type": "markdown",
      "metadata": {
        "id": "Sg54U9vFZEBQ"
      },
      "source": [
        "## 1. EJFM Implementación de la red neuronal"
      ]
    },
    {
      "cell_type": "code",
      "execution_count": null,
      "metadata": {
        "id": "aiE1_aXXmQM7"
      },
      "outputs": [],
      "source": [
        "import tensorflow as tf\n",
        "\n",
        "class NoisyDense(tf.keras.layers.Layer):\n",
        "    def __init__(self, units, sigma_init=0.05, **kwargs):\n",
        "        super(NoisyDense, self).__init__(**kwargs)\n",
        "        self.units = units\n",
        "        self.sigma_init = sigma_init\n",
        "\n",
        "    def build(self, input_shape):\n",
        "        input_dim = int(input_shape[-1])\n",
        "        self.mu_W = self.add_weight(\"mu_W\", shape=(input_dim, self.units),\n",
        "                                    initializer='random_uniform', trainable=True)\n",
        "        self.sigma_W = self.add_weight(\"sigma_W\", shape=(input_dim, self.units),\n",
        "                                       initializer=tf.keras.initializers.Constant(self.sigma_init), trainable=True)\n",
        "        self.mu_b = self.add_weight(\"mu_b\", shape=(self.units,),\n",
        "                                    initializer='zeros', trainable=True)\n",
        "        self.sigma_b = self.add_weight(\"sigma_b\", shape=(self.units,),\n",
        "                                       initializer=tf.keras.initializers.Constant(self.sigma_init), trainable=True)\n",
        "\n",
        "    def call(self, x):\n",
        "        epsilon_W = tf.random.normal((x.shape[-1], self.units))\n",
        "        epsilon_b = tf.random.normal((self.units,))\n",
        "        W = self.mu_W + self.sigma_W * epsilon_W\n",
        "        b = self.mu_b + self.sigma_b * epsilon_b\n",
        "        return tf.matmul(x, W) + b\n",
        "\n",
        "    def get_config(self):\n",
        "        config = super(NoisyDense, self).get_config()\n",
        "        config.update({\n",
        "            \"units\": self.units,\n",
        "            \"sigma_init\": self.sigma_init\n",
        "        })\n",
        "        return config\n"
      ]
    },
    {
      "cell_type": "code",
      "execution_count": null,
      "metadata": {
        "colab": {
          "base_uri": "https://localhost:8080/"
        },
        "id": "pygz71TLmV2t",
        "outputId": "5edfb2ab-29d2-420d-ecd4-f973c25d9442"
      },
      "outputs": [
        {
          "output_type": "stream",
          "name": "stdout",
          "text": [
            "Model: \"model\"\n",
            "_________________________________________________________________\n",
            " Layer (type)                Output Shape              Param #   \n",
            "=================================================================\n",
            " input_1 (InputLayer)        [(None, 4, 84, 84)]       0         \n",
            "                                                                 \n",
            " permute (Permute)           (None, 84, 84, 4)         0         \n",
            "                                                                 \n",
            " conv2d (Conv2D)             (None, 20, 20, 32)        8224      \n",
            "                                                                 \n",
            " conv2d_1 (Conv2D)           (None, 9, 9, 64)          32832     \n",
            "                                                                 \n",
            " conv2d_2 (Conv2D)           (None, 7, 7, 64)          36928     \n",
            "                                                                 \n",
            " flatten (Flatten)           (None, 3136)              0         \n",
            "                                                                 \n",
            " noisy_dense (NoisyDense)    (None, 512)               3212288   \n",
            "                                                                 \n",
            " activation (Activation)     (None, 512)               0         \n",
            "                                                                 \n",
            " noisy_dense_1 (NoisyDense)  (None, 6)                 6156      \n",
            "                                                                 \n",
            "=================================================================\n",
            "Total params: 3,296,428\n",
            "Trainable params: 3,296,428\n",
            "Non-trainable params: 0\n",
            "_________________________________________________________________\n"
          ]
        }
      ],
      "source": [
        "from tensorflow.keras.models import Model\n",
        "from tensorflow.keras.layers import Input, Permute, Convolution2D, Flatten, Activation\n",
        "\n",
        "input_layer = Input(shape=(WINDOW_LENGTH,) + INPUT_SHAPE)\n",
        "perm = Permute((2, 3, 1))(input_layer)  # Canal al final\n",
        "conv1 = Convolution2D(32, (8, 8), strides=(4, 4), activation='relu')(perm)\n",
        "conv2 = Convolution2D(64, (4, 4), strides=(2, 2), activation='relu')(conv1)\n",
        "conv3 = Convolution2D(64, (3, 3), strides=(1, 1), activation='relu')(conv2)\n",
        "flat = Flatten()(conv3)\n",
        "\n",
        "noisy1 = NoisyDense(512)(flat)\n",
        "noisy1 = Activation('relu')(noisy1)\n",
        "output_layer = NoisyDense(nb_actions)(noisy1)\n",
        "\n",
        "model = Model(inputs=input_layer, outputs=output_layer)\n",
        "model.summary()\n"
      ]
    },
    {
      "cell_type": "code",
      "execution_count": null,
      "metadata": {
        "id": "_H6vbJsFsnKi"
      },
      "outputs": [],
      "source": [
        "# Registrar la capa personalizada (una sola vez en todo el código)\n",
        "from tensorflow.keras.utils import get_custom_objects\n",
        "get_custom_objects().update({'NoisyDense': NoisyDense})"
      ]
    },
    {
      "cell_type": "markdown",
      "metadata": {
        "id": "KwJoe_1sZOX4"
      },
      "source": [
        "## 2. EJFM Implementación de la solución DQN"
      ]
    },
    {
      "cell_type": "markdown",
      "metadata": {
        "id": "mANAV3rVJXt7"
      },
      "source": [
        "### Ejecución Inicial\n",
        "\n"
      ]
    },
    {
      "cell_type": "code",
      "execution_count": null,
      "metadata": {
        "colab": {
          "base_uri": "https://localhost:8080/",
          "height": 228
        },
        "id": "KU6UKvVYXESO",
        "outputId": "c37e7b70-9b59-4bf0-bdb1-11bbfe318a79"
      },
      "outputs": [
        {
          "output_type": "stream",
          "name": "stdout",
          "text": [
            "Cargando memoria desde archivo...\n"
          ]
        },
        {
          "output_type": "error",
          "ename": "EOFError",
          "evalue": "Ran out of input",
          "traceback": [
            "\u001b[0;31m---------------------------------------------------------------------------\u001b[0m",
            "\u001b[0;31mEOFError\u001b[0m                                  Traceback (most recent call last)",
            "\u001b[0;32m/tmp/ipython-input-10-1274454822.py\u001b[0m in \u001b[0;36m<cell line: 0>\u001b[0;34m()\u001b[0m\n\u001b[1;32m      9\u001b[0m     \u001b[0mprint\u001b[0m\u001b[0;34m(\u001b[0m\u001b[0;34m\"Cargando memoria desde archivo...\"\u001b[0m\u001b[0;34m)\u001b[0m\u001b[0;34m\u001b[0m\u001b[0;34m\u001b[0m\u001b[0m\n\u001b[1;32m     10\u001b[0m     \u001b[0;32mwith\u001b[0m \u001b[0mopen\u001b[0m\u001b[0;34m(\u001b[0m\u001b[0mmemory_file\u001b[0m\u001b[0;34m,\u001b[0m \u001b[0;34m'rb'\u001b[0m\u001b[0;34m)\u001b[0m \u001b[0;32mas\u001b[0m \u001b[0mf\u001b[0m\u001b[0;34m:\u001b[0m\u001b[0;34m\u001b[0m\u001b[0;34m\u001b[0m\u001b[0m\n\u001b[0;32m---> 11\u001b[0;31m         \u001b[0mmemory\u001b[0m \u001b[0;34m=\u001b[0m \u001b[0mpickle\u001b[0m\u001b[0;34m.\u001b[0m\u001b[0mload\u001b[0m\u001b[0;34m(\u001b[0m\u001b[0mf\u001b[0m\u001b[0;34m)\u001b[0m\u001b[0;34m\u001b[0m\u001b[0;34m\u001b[0m\u001b[0m\n\u001b[0m\u001b[1;32m     12\u001b[0m \u001b[0;32melse\u001b[0m\u001b[0;34m:\u001b[0m\u001b[0;34m\u001b[0m\u001b[0;34m\u001b[0m\u001b[0m\n\u001b[1;32m     13\u001b[0m     \u001b[0mprint\u001b[0m\u001b[0;34m(\u001b[0m\u001b[0;34m\"Creando nueva memoria...\"\u001b[0m\u001b[0;34m)\u001b[0m\u001b[0;34m\u001b[0m\u001b[0;34m\u001b[0m\u001b[0m\n",
            "\u001b[0;31mEOFError\u001b[0m: Ran out of input"
          ]
        }
      ],
      "source": [
        "####### Solución DQN #######\n",
        "\n",
        "import os\n",
        "import pickle\n",
        "\n",
        "# INTENTAR CARGAR LA MEMORIA\n",
        "memory_file = 'memory_noisy.pkl'\n",
        "if os.path.exists(memory_file):\n",
        "    print(\"Cargando memoria desde archivo...\")\n",
        "    with open(memory_file, 'rb') as f:\n",
        "        memory = pickle.load(f)\n",
        "else:\n",
        "    print(\"Creando nueva memoria...\")\n",
        "    memory = SequentialMemory(limit=1000000, window_length=4)\n",
        "\n",
        "# Crear política como de costumbre\n",
        "#policy = BoltzmannQPolicy()\n",
        "policy = EpsGreedyQPolicy(eps=0.0)\n",
        "\n",
        "# Crear agente\n",
        "dqn = DQNAgent(model=model, nb_actions=nb_actions, policy=policy, memory=memory,\n",
        "               processor=AtariProcessor(), nb_steps_warmup=50000, gamma=0.99,\n",
        "               target_model_update=10000, train_interval=4, delta_clip=5)\n",
        "\n",
        "# Compilar agente\n",
        "#dqn.compile(optimizer='adam', metrics=['mae'])\n",
        "#dqn.compile(optimizer=Adam(learning_rate=0.0001), metrics=['mae'])\n",
        "\n",
        "from tensorflow.keras.optimizers.legacy import Adam     # ← incluye get_updates\n",
        "# Compilar agente\n",
        "dqn.compile(optimizer=Adam(learning_rate=5e-5), metrics=['mae'])"
      ]
    },
    {
      "cell_type": "code",
      "execution_count": null,
      "metadata": {
        "id": "SEmhFU4mYzh-"
      },
      "outputs": [],
      "source": [
        "####### Crear directorios  logs y checkpoints #######\n",
        "\n",
        "import os\n",
        "log_dir = os.path.join(drive_root, \"logs\")\n",
        "checkpoint_dir = os.path.join(drive_root, \"checkpoints\")\n",
        "os.makedirs(log_dir, exist_ok=True)\n",
        "os.makedirs(checkpoint_dir, exist_ok=True)\n",
        "\n",
        "# Función para restaurar pesos más adelante\n",
        "import re\n",
        "\n",
        "def load_latest_weights(agent, checkpoint_dir, prefix=\"dqn_noisy_weights_\"):\n",
        "    \"\"\"\n",
        "    Busca el checkpoint más reciente, carga los pesos y retorna info útil.\n",
        "\n",
        "    Parámetros:\n",
        "        agent: el agente DQN ya creado y compilado.\n",
        "        checkpoint_dir: carpeta con los archivos de pesos.\n",
        "        prefix: prefijo de los archivos de pesos.\n",
        "\n",
        "    Retorna:\n",
        "        (ruta_archivo, pasos_entrenados) o (None, 0) si no se encuentra nada.\n",
        "    \"\"\"\n",
        "    files = [f for f in os.listdir(checkpoint_dir) if f.endswith(\".h5\")]\n",
        "    pattern = re.compile(rf\"{re.escape(prefix)}(\\d+)\\.h5\")\n",
        "\n",
        "    candidates = []\n",
        "    for f in files:\n",
        "        match = pattern.match(f)\n",
        "        if match:\n",
        "            step = int(match.group(1))\n",
        "            candidates.append((step, f))\n",
        "\n",
        "    if not candidates:\n",
        "        print(\"⚠️ No se encontraron checkpoints en:\", checkpoint_dir)\n",
        "        return None, 0\n",
        "\n",
        "    # Escoger el de mayor número de pasos\n",
        "    latest_step, latest_file = max(candidates, key=lambda x: x[0])\n",
        "    latest_path = os.path.join(checkpoint_dir, latest_file)\n",
        "\n",
        "    print(f\"✅ Cargando pesos desde: {latest_path} (pasos entrenados: {latest_step})\")\n",
        "    agent.load_weights(latest_path)\n",
        "    return latest_path, latest_step\n"
      ]
    },
    {
      "cell_type": "code",
      "execution_count": null,
      "metadata": {
        "id": "n4rsQm4_zc5J"
      },
      "outputs": [],
      "source": [
        "# Cargar pesos anteriores si existen\n",
        "_, trained_steps = load_latest_weights(dqn, checkpoint_dir)\n",
        "\n",
        "# Definir pasos a entrenar\n",
        "steps_to_train = 100000\n",
        "total_steps = trained_steps + steps_to_train\n",
        "\n",
        "# Crear paths y callbacks dinámicos\n",
        "log_path = os.path.join(log_dir, f\"dqn_noisy_log_{trained_steps}_{total_steps}.json\")\n",
        "checkpoint_path = os.path.join(checkpoint_dir, f\"dqn_noisy_weights_{total_steps}.h5\")\n",
        "\n",
        "logger_callback = FileLogger(log_path, interval=100)\n",
        "checkpoint_callback = ModelIntervalCheckpoint(checkpoint_path, interval=10000)"
      ]
    },
    {
      "cell_type": "markdown",
      "metadata": {
        "id": "Qj8CoQ2mhISX"
      },
      "source": [
        "### Primera **Ejecución**"
      ]
    },
    {
      "cell_type": "code",
      "execution_count": null,
      "metadata": {
        "colab": {
          "base_uri": "https://localhost:8080/"
        },
        "id": "LLbFoBPFXGcV",
        "outputId": "57a5a9cd-889c-4cc8-beb9-e9f11813d9d5"
      },
      "outputs": [
        {
          "output_type": "stream",
          "name": "stdout",
          "text": [
            "✅ Cargando pesos desde: /content/gdrive/My Drive/MODELO 15/checkpoints/dqn_noisy_weights_800000.h5 (pasos entrenados: 800000)\n",
            "Training for 100000 steps ...\n"
          ]
        },
        {
          "output_type": "stream",
          "name": "stderr",
          "text": [
            "/usr/local/lib/python3.11/dist-packages/keras/engine/training_v1.py:2359: UserWarning: `Model.state_updates` will be removed in a future version. This property should not be used in TensorFlow 2.0, as `updates` are applied automatically.\n",
            "  updates=self.state_updates,\n"
          ]
        },
        {
          "output_type": "stream",
          "name": "stdout",
          "text": [
            "   636/100000: episode: 1, duration: 25.070s, episode steps: 636, steps per second:  25, episode reward: 13.000, mean reward:  0.020 [ 0.000,  1.000], mean action: 2.008 [0.000, 5.000],  loss: --, mae: --, mean_q: --\n",
            "  1348/100000: episode: 2, duration: 28.303s, episode steps: 712, steps per second:  25, episode reward: 15.000, mean reward:  0.021 [ 0.000,  1.000], mean action: 2.066 [0.000, 5.000],  loss: --, mae: --, mean_q: --\n",
            "  2431/100000: episode: 3, duration: 40.294s, episode steps: 1083, steps per second:  27, episode reward: 18.000, mean reward:  0.017 [ 0.000,  1.000], mean action: 2.024 [0.000, 5.000],  loss: --, mae: --, mean_q: --\n",
            "  3493/100000: episode: 4, duration: 39.207s, episode steps: 1062, steps per second:  27, episode reward: 21.000, mean reward:  0.020 [ 0.000,  1.000], mean action: 2.127 [0.000, 5.000],  loss: --, mae: --, mean_q: --\n",
            "  4204/100000: episode: 5, duration: 28.864s, episode steps: 711, steps per second:  25, episode reward: 12.000, mean reward:  0.017 [ 0.000,  1.000], mean action: 2.219 [0.000, 5.000],  loss: --, mae: --, mean_q: --\n",
            "  4853/100000: episode: 6, duration: 25.002s, episode steps: 649, steps per second:  26, episode reward: 12.000, mean reward:  0.018 [ 0.000,  1.000], mean action: 2.076 [0.000, 5.000],  loss: --, mae: --, mean_q: --\n",
            "  5531/100000: episode: 7, duration: 25.947s, episode steps: 678, steps per second:  26, episode reward: 15.000, mean reward:  0.022 [ 0.000,  1.000], mean action: 2.096 [0.000, 5.000],  loss: --, mae: --, mean_q: --\n",
            "  5932/100000: episode: 8, duration: 15.056s, episode steps: 401, steps per second:  27, episode reward:  5.000, mean reward:  0.012 [ 0.000,  1.000], mean action: 2.045 [0.000, 5.000],  loss: --, mae: --, mean_q: --\n",
            "  6466/100000: episode: 9, duration: 19.445s, episode steps: 534, steps per second:  27, episode reward:  7.000, mean reward:  0.013 [ 0.000,  1.000], mean action: 2.146 [0.000, 5.000],  loss: --, mae: --, mean_q: --\n",
            "  6882/100000: episode: 10, duration: 15.579s, episode steps: 416, steps per second:  27, episode reward:  6.000, mean reward:  0.014 [ 0.000,  1.000], mean action: 2.106 [0.000, 5.000],  loss: --, mae: --, mean_q: --\n",
            "  7656/100000: episode: 11, duration: 29.802s, episode steps: 774, steps per second:  26, episode reward: 10.000, mean reward:  0.013 [ 0.000,  1.000], mean action: 2.145 [0.000, 5.000],  loss: --, mae: --, mean_q: --\n",
            "  8705/100000: episode: 12, duration: 41.429s, episode steps: 1049, steps per second:  25, episode reward: 20.000, mean reward:  0.019 [ 0.000,  1.000], mean action: 2.232 [0.000, 5.000],  loss: --, mae: --, mean_q: --\n",
            "  9092/100000: episode: 13, duration: 14.845s, episode steps: 387, steps per second:  26, episode reward:  7.000, mean reward:  0.018 [ 0.000,  1.000], mean action: 1.917 [0.000, 5.000],  loss: --, mae: --, mean_q: --\n",
            "  9893/100000: episode: 14, duration: 31.556s, episode steps: 801, steps per second:  25, episode reward: 15.000, mean reward:  0.019 [ 0.000,  1.000], mean action: 2.035 [0.000, 5.000],  loss: --, mae: --, mean_q: --\n",
            " 10587/100000: episode: 15, duration: 25.477s, episode steps: 694, steps per second:  27, episode reward:  9.000, mean reward:  0.013 [ 0.000,  1.000], mean action: 2.146 [0.000, 5.000],  loss: --, mae: --, mean_q: --\n",
            " 10918/100000: episode: 16, duration: 12.586s, episode steps: 331, steps per second:  26, episode reward:  3.000, mean reward:  0.009 [ 0.000,  1.000], mean action: 2.106 [0.000, 5.000],  loss: --, mae: --, mean_q: --\n",
            " 11548/100000: episode: 17, duration: 27.595s, episode steps: 630, steps per second:  23, episode reward: 13.000, mean reward:  0.021 [ 0.000,  1.000], mean action: 2.163 [0.000, 5.000],  loss: --, mae: --, mean_q: --\n",
            " 12187/100000: episode: 18, duration: 26.679s, episode steps: 639, steps per second:  24, episode reward: 14.000, mean reward:  0.022 [ 0.000,  1.000], mean action: 2.130 [0.000, 5.000],  loss: --, mae: --, mean_q: --\n",
            " 12584/100000: episode: 19, duration: 14.975s, episode steps: 397, steps per second:  27, episode reward:  7.000, mean reward:  0.018 [ 0.000,  1.000], mean action: 2.071 [0.000, 5.000],  loss: --, mae: --, mean_q: --\n",
            " 13487/100000: episode: 20, duration: 33.494s, episode steps: 903, steps per second:  27, episode reward: 17.000, mean reward:  0.019 [ 0.000,  1.000], mean action: 2.031 [0.000, 5.000],  loss: --, mae: --, mean_q: --\n",
            " 13988/100000: episode: 21, duration: 20.294s, episode steps: 501, steps per second:  25, episode reward:  3.000, mean reward:  0.006 [ 0.000,  1.000], mean action: 2.146 [0.000, 5.000],  loss: --, mae: --, mean_q: --\n",
            " 14871/100000: episode: 22, duration: 32.888s, episode steps: 883, steps per second:  27, episode reward: 16.000, mean reward:  0.018 [ 0.000,  1.000], mean action: 2.108 [0.000, 5.000],  loss: --, mae: --, mean_q: --\n",
            " 15780/100000: episode: 23, duration: 34.101s, episode steps: 909, steps per second:  27, episode reward: 16.000, mean reward:  0.018 [ 0.000,  1.000], mean action: 2.094 [0.000, 5.000],  loss: --, mae: --, mean_q: --\n",
            " 16290/100000: episode: 24, duration: 21.941s, episode steps: 510, steps per second:  23, episode reward:  7.000, mean reward:  0.014 [ 0.000,  1.000], mean action: 2.090 [0.000, 5.000],  loss: --, mae: --, mean_q: --\n",
            " 16955/100000: episode: 25, duration: 25.729s, episode steps: 665, steps per second:  26, episode reward:  9.000, mean reward:  0.014 [ 0.000,  1.000], mean action: 2.056 [0.000, 5.000],  loss: --, mae: --, mean_q: --\n",
            " 17650/100000: episode: 26, duration: 26.038s, episode steps: 695, steps per second:  27, episode reward: 15.000, mean reward:  0.022 [ 0.000,  1.000], mean action: 2.158 [0.000, 5.000],  loss: --, mae: --, mean_q: --\n",
            " 18011/100000: episode: 27, duration: 13.293s, episode steps: 361, steps per second:  27, episode reward:  6.000, mean reward:  0.017 [ 0.000,  1.000], mean action: 2.053 [0.000, 5.000],  loss: --, mae: --, mean_q: --\n",
            " 18399/100000: episode: 28, duration: 14.815s, episode steps: 388, steps per second:  26, episode reward:  6.000, mean reward:  0.015 [ 0.000,  1.000], mean action: 2.198 [0.000, 5.000],  loss: --, mae: --, mean_q: --\n",
            " 19306/100000: episode: 29, duration: 34.583s, episode steps: 907, steps per second:  26, episode reward: 15.000, mean reward:  0.017 [ 0.000,  1.000], mean action: 2.138 [0.000, 5.000],  loss: --, mae: --, mean_q: --\n",
            " 20655/100000: episode: 30, duration: 54.027s, episode steps: 1349, steps per second:  25, episode reward: 25.000, mean reward:  0.019 [ 0.000,  1.000], mean action: 2.161 [0.000, 5.000],  loss: --, mae: --, mean_q: --\n",
            " 21307/100000: episode: 31, duration: 23.583s, episode steps: 652, steps per second:  28, episode reward: 11.000, mean reward:  0.017 [ 0.000,  1.000], mean action: 2.201 [0.000, 5.000],  loss: --, mae: --, mean_q: --\n",
            " 21696/100000: episode: 32, duration: 14.575s, episode steps: 389, steps per second:  27, episode reward:  6.000, mean reward:  0.015 [ 0.000,  1.000], mean action: 2.085 [0.000, 5.000],  loss: --, mae: --, mean_q: --\n",
            " 22691/100000: episode: 33, duration: 38.381s, episode steps: 995, steps per second:  26, episode reward: 14.000, mean reward:  0.014 [ 0.000,  1.000], mean action: 2.122 [0.000, 5.000],  loss: --, mae: --, mean_q: --\n",
            " 23072/100000: episode: 34, duration: 14.680s, episode steps: 381, steps per second:  26, episode reward:  5.000, mean reward:  0.013 [ 0.000,  1.000], mean action: 2.003 [0.000, 5.000],  loss: --, mae: --, mean_q: --\n",
            " 23885/100000: episode: 35, duration: 30.547s, episode steps: 813, steps per second:  27, episode reward: 13.000, mean reward:  0.016 [ 0.000,  1.000], mean action: 2.010 [0.000, 5.000],  loss: --, mae: --, mean_q: --\n",
            " 24286/100000: episode: 36, duration: 15.106s, episode steps: 401, steps per second:  27, episode reward:  9.000, mean reward:  0.022 [ 0.000,  1.000], mean action: 2.115 [0.000, 5.000],  loss: --, mae: --, mean_q: --\n",
            " 25097/100000: episode: 37, duration: 34.084s, episode steps: 811, steps per second:  24, episode reward: 14.000, mean reward:  0.017 [ 0.000,  1.000], mean action: 2.022 [0.000, 5.000],  loss: --, mae: --, mean_q: --\n",
            " 25985/100000: episode: 38, duration: 33.327s, episode steps: 888, steps per second:  27, episode reward: 14.000, mean reward:  0.016 [ 0.000,  1.000], mean action: 1.971 [0.000, 5.000],  loss: --, mae: --, mean_q: --\n",
            " 26772/100000: episode: 39, duration: 32.332s, episode steps: 787, steps per second:  24, episode reward: 13.000, mean reward:  0.017 [ 0.000,  1.000], mean action: 2.010 [0.000, 5.000],  loss: --, mae: --, mean_q: --\n",
            " 27437/100000: episode: 40, duration: 25.641s, episode steps: 665, steps per second:  26, episode reward: 14.000, mean reward:  0.021 [ 0.000,  1.000], mean action: 2.132 [0.000, 5.000],  loss: --, mae: --, mean_q: --\n",
            " 28073/100000: episode: 41, duration: 24.652s, episode steps: 636, steps per second:  26, episode reward: 13.000, mean reward:  0.020 [ 0.000,  1.000], mean action: 2.129 [0.000, 5.000],  loss: --, mae: --, mean_q: --\n",
            " 28771/100000: episode: 42, duration: 26.559s, episode steps: 698, steps per second:  26, episode reward: 12.000, mean reward:  0.017 [ 0.000,  1.000], mean action: 2.242 [0.000, 5.000],  loss: --, mae: --, mean_q: --\n",
            " 29709/100000: episode: 43, duration: 36.714s, episode steps: 938, steps per second:  26, episode reward: 16.000, mean reward:  0.017 [ 0.000,  1.000], mean action: 2.011 [0.000, 5.000],  loss: --, mae: --, mean_q: --\n",
            " 30363/100000: episode: 44, duration: 25.787s, episode steps: 654, steps per second:  25, episode reward: 12.000, mean reward:  0.018 [ 0.000,  1.000], mean action: 1.835 [0.000, 5.000],  loss: --, mae: --, mean_q: --\n",
            " 31177/100000: episode: 45, duration: 30.497s, episode steps: 814, steps per second:  27, episode reward: 10.000, mean reward:  0.012 [ 0.000,  1.000], mean action: 2.118 [0.000, 5.000],  loss: --, mae: --, mean_q: --\n",
            " 31564/100000: episode: 46, duration: 14.611s, episode steps: 387, steps per second:  26, episode reward:  6.000, mean reward:  0.016 [ 0.000,  1.000], mean action: 1.863 [0.000, 5.000],  loss: --, mae: --, mean_q: --\n",
            " 31917/100000: episode: 47, duration: 13.432s, episode steps: 353, steps per second:  26, episode reward:  5.000, mean reward:  0.014 [ 0.000,  1.000], mean action: 2.062 [0.000, 5.000],  loss: --, mae: --, mean_q: --\n",
            " 32597/100000: episode: 48, duration: 26.160s, episode steps: 680, steps per second:  26, episode reward: 11.000, mean reward:  0.016 [ 0.000,  1.000], mean action: 2.090 [0.000, 5.000],  loss: --, mae: --, mean_q: --\n",
            " 33228/100000: episode: 49, duration: 25.921s, episode steps: 631, steps per second:  24, episode reward:  4.000, mean reward:  0.006 [ 0.000,  1.000], mean action: 2.030 [0.000, 5.000],  loss: --, mae: --, mean_q: --\n",
            " 34009/100000: episode: 50, duration: 30.365s, episode steps: 781, steps per second:  26, episode reward: 12.000, mean reward:  0.015 [ 0.000,  1.000], mean action: 2.120 [0.000, 5.000],  loss: --, mae: --, mean_q: --\n",
            " 34927/100000: episode: 51, duration: 34.208s, episode steps: 918, steps per second:  27, episode reward: 15.000, mean reward:  0.016 [ 0.000,  1.000], mean action: 2.011 [0.000, 5.000],  loss: --, mae: --, mean_q: --\n",
            " 35706/100000: episode: 52, duration: 29.499s, episode steps: 779, steps per second:  26, episode reward: 17.000, mean reward:  0.022 [ 0.000,  1.000], mean action: 2.195 [0.000, 5.000],  loss: --, mae: --, mean_q: --\n",
            " 36346/100000: episode: 53, duration: 24.894s, episode steps: 640, steps per second:  26, episode reward: 12.000, mean reward:  0.019 [ 0.000,  1.000], mean action: 2.106 [0.000, 5.000],  loss: --, mae: --, mean_q: --\n",
            " 37174/100000: episode: 54, duration: 31.079s, episode steps: 828, steps per second:  27, episode reward: 16.000, mean reward:  0.019 [ 0.000,  1.000], mean action: 2.233 [0.000, 5.000],  loss: --, mae: --, mean_q: --\n",
            " 38160/100000: episode: 55, duration: 40.030s, episode steps: 986, steps per second:  25, episode reward: 24.000, mean reward:  0.024 [ 0.000,  1.000], mean action: 1.864 [0.000, 5.000],  loss: --, mae: --, mean_q: --\n",
            " 39219/100000: episode: 56, duration: 40.715s, episode steps: 1059, steps per second:  26, episode reward: 22.000, mean reward:  0.021 [ 0.000,  1.000], mean action: 2.044 [0.000, 5.000],  loss: --, mae: --, mean_q: --\n",
            " 40337/100000: episode: 57, duration: 43.262s, episode steps: 1118, steps per second:  26, episode reward: 26.000, mean reward:  0.023 [ 0.000,  1.000], mean action: 2.139 [0.000, 5.000],  loss: --, mae: --, mean_q: --\n",
            " 40979/100000: episode: 58, duration: 24.488s, episode steps: 642, steps per second:  26, episode reward: 10.000, mean reward:  0.016 [ 0.000,  1.000], mean action: 2.028 [0.000, 5.000],  loss: --, mae: --, mean_q: --\n",
            " 41607/100000: episode: 59, duration: 23.409s, episode steps: 628, steps per second:  27, episode reward: 12.000, mean reward:  0.019 [ 0.000,  1.000], mean action: 1.981 [0.000, 5.000],  loss: --, mae: --, mean_q: --\n",
            " 42321/100000: episode: 60, duration: 29.682s, episode steps: 714, steps per second:  24, episode reward: 13.000, mean reward:  0.018 [ 0.000,  1.000], mean action: 2.063 [0.000, 5.000],  loss: --, mae: --, mean_q: --\n",
            " 42813/100000: episode: 61, duration: 20.046s, episode steps: 492, steps per second:  25, episode reward:  5.000, mean reward:  0.010 [ 0.000,  1.000], mean action: 1.994 [0.000, 5.000],  loss: --, mae: --, mean_q: --\n",
            " 43180/100000: episode: 62, duration: 14.026s, episode steps: 367, steps per second:  26, episode reward:  7.000, mean reward:  0.019 [ 0.000,  1.000], mean action: 2.174 [0.000, 5.000],  loss: --, mae: --, mean_q: --\n",
            " 43992/100000: episode: 63, duration: 30.612s, episode steps: 812, steps per second:  27, episode reward: 17.000, mean reward:  0.021 [ 0.000,  1.000], mean action: 2.047 [0.000, 5.000],  loss: --, mae: --, mean_q: --\n",
            " 44946/100000: episode: 64, duration: 35.275s, episode steps: 954, steps per second:  27, episode reward: 15.000, mean reward:  0.016 [ 0.000,  1.000], mean action: 2.251 [0.000, 5.000],  loss: --, mae: --, mean_q: --\n",
            " 45654/100000: episode: 65, duration: 27.190s, episode steps: 708, steps per second:  26, episode reward: 13.000, mean reward:  0.018 [ 0.000,  1.000], mean action: 1.843 [0.000, 5.000],  loss: --, mae: --, mean_q: --\n",
            " 46002/100000: episode: 66, duration: 13.332s, episode steps: 348, steps per second:  26, episode reward:  4.000, mean reward:  0.011 [ 0.000,  1.000], mean action: 1.966 [0.000, 5.000],  loss: --, mae: --, mean_q: --\n",
            " 46523/100000: episode: 67, duration: 21.979s, episode steps: 521, steps per second:  24, episode reward:  7.000, mean reward:  0.013 [ 0.000,  1.000], mean action: 2.056 [0.000, 5.000],  loss: --, mae: --, mean_q: --\n",
            " 47509/100000: episode: 68, duration: 37.221s, episode steps: 986, steps per second:  26, episode reward: 15.000, mean reward:  0.015 [ 0.000,  1.000], mean action: 2.103 [0.000, 5.000],  loss: --, mae: --, mean_q: --\n",
            " 47878/100000: episode: 69, duration: 14.300s, episode steps: 369, steps per second:  26, episode reward:  7.000, mean reward:  0.019 [ 0.000,  1.000], mean action: 2.051 [0.000, 5.000],  loss: --, mae: --, mean_q: --\n",
            " 48564/100000: episode: 70, duration: 26.502s, episode steps: 686, steps per second:  26, episode reward: 15.000, mean reward:  0.022 [ 0.000,  1.000], mean action: 2.152 [0.000, 5.000],  loss: --, mae: --, mean_q: --\n",
            " 49312/100000: episode: 71, duration: 28.431s, episode steps: 748, steps per second:  26, episode reward: 15.000, mean reward:  0.020 [ 0.000,  1.000], mean action: 2.151 [0.000, 5.000],  loss: --, mae: --, mean_q: --\n",
            " 49684/100000: episode: 72, duration: 14.171s, episode steps: 372, steps per second:  26, episode reward:  6.000, mean reward:  0.016 [ 0.000,  1.000], mean action: 2.051 [0.000, 5.000],  loss: --, mae: --, mean_q: --\n"
          ]
        },
        {
          "output_type": "stream",
          "name": "stderr",
          "text": [
            "/usr/local/lib/python3.11/dist-packages/keras/engine/training_v1.py:2359: UserWarning: `Model.state_updates` will be removed in a future version. This property should not be used in TensorFlow 2.0, as `updates` are applied automatically.\n",
            "  updates=self.state_updates,\n"
          ]
        },
        {
          "output_type": "stream",
          "name": "stdout",
          "text": [
            " 50078/100000: episode: 73, duration: 24.857s, episode steps: 394, steps per second:  16, episode reward:  4.000, mean reward:  0.010 [ 0.000,  1.000], mean action: 1.947 [0.000, 5.000],  loss: 0.010102, mae: 0.740091, mean_q: 0.884434\n",
            " 51125/100000: episode: 74, duration: 127.838s, episode steps: 1047, steps per second:   8, episode reward: 23.000, mean reward:  0.022 [ 0.000,  1.000], mean action: 3.171 [0.000, 5.000],  loss: 0.008814, mae: 0.718426, mean_q: 0.862103\n",
            " 52118/100000: episode: 75, duration: 120.267s, episode steps: 993, steps per second:   8, episode reward: 16.000, mean reward:  0.016 [ 0.000,  1.000], mean action: 2.963 [0.000, 5.000],  loss: 0.008860, mae: 0.723741, mean_q: 0.868825\n",
            " 52929/100000: episode: 76, duration: 98.843s, episode steps: 811, steps per second:   8, episode reward: 15.000, mean reward:  0.018 [ 0.000,  1.000], mean action: 2.744 [0.000, 5.000],  loss: 0.008252, mae: 0.719867, mean_q: 0.863891\n",
            " 53291/100000: episode: 77, duration: 43.003s, episode steps: 362, steps per second:   8, episode reward:  5.000, mean reward:  0.014 [ 0.000,  1.000], mean action: 3.135 [0.000, 5.000],  loss: 0.009505, mae: 0.715807, mean_q: 0.857952\n",
            " 54003/100000: episode: 78, duration: 83.878s, episode steps: 712, steps per second:   8, episode reward: 13.000, mean reward:  0.018 [ 0.000,  1.000], mean action: 2.503 [0.000, 5.000],  loss: 0.008381, mae: 0.714596, mean_q: 0.858931\n",
            " 54516/100000: episode: 79, duration: 63.542s, episode steps: 513, steps per second:   8, episode reward: 12.000, mean reward:  0.023 [ 0.000,  1.000], mean action: 3.394 [0.000, 5.000],  loss: 0.007442, mae: 0.712651, mean_q: 0.858482\n",
            " 55192/100000: episode: 80, duration: 79.290s, episode steps: 676, steps per second:   9, episode reward: 11.000, mean reward:  0.016 [ 0.000,  1.000], mean action: 2.880 [0.000, 5.000],  loss: 0.009087, mae: 0.723018, mean_q: 0.869405\n",
            " 56214/100000: episode: 81, duration: 121.541s, episode steps: 1022, steps per second:   8, episode reward: 28.000, mean reward:  0.027 [ 0.000,  1.000], mean action: 3.159 [0.000, 5.000],  loss: 0.007655, mae: 0.721008, mean_q: 0.865296\n",
            " 56712/100000: episode: 82, duration: 58.520s, episode steps: 498, steps per second:   9, episode reward:  9.000, mean reward:  0.018 [ 0.000,  1.000], mean action: 3.514 [0.000, 5.000],  loss: 0.008455, mae: 0.729377, mean_q: 0.876856\n",
            " 57886/100000: episode: 83, duration: 139.746s, episode steps: 1174, steps per second:   8, episode reward: 25.000, mean reward:  0.021 [ 0.000,  1.000], mean action: 3.033 [0.000, 5.000],  loss: 0.008473, mae: 0.724121, mean_q: 0.868863\n",
            " 58961/100000: episode: 84, duration: 128.466s, episode steps: 1075, steps per second:   8, episode reward: 19.000, mean reward:  0.018 [ 0.000,  1.000], mean action: 2.734 [0.000, 5.000],  loss: 0.008356, mae: 0.728102, mean_q: 0.874012\n",
            " 59940/100000: episode: 85, duration: 116.470s, episode steps: 979, steps per second:   8, episode reward: 16.000, mean reward:  0.016 [ 0.000,  1.000], mean action: 3.680 [0.000, 5.000],  loss: 0.009251, mae: 0.725333, mean_q: 0.871755\n",
            " 61022/100000: episode: 86, duration: 131.082s, episode steps: 1082, steps per second:   8, episode reward: 18.000, mean reward:  0.017 [ 0.000,  1.000], mean action: 3.418 [0.000, 5.000],  loss: 0.008230, mae: 0.735588, mean_q: 0.884304\n",
            " 61667/100000: episode: 87, duration: 77.787s, episode steps: 645, steps per second:   8, episode reward: 11.000, mean reward:  0.017 [ 0.000,  1.000], mean action: 2.926 [0.000, 5.000],  loss: 0.007174, mae: 0.741964, mean_q: 0.891417\n",
            " 62172/100000: episode: 88, duration: 61.255s, episode steps: 505, steps per second:   8, episode reward: 11.000, mean reward:  0.022 [ 0.000,  1.000], mean action: 2.313 [0.000, 5.000],  loss: 0.008809, mae: 0.745528, mean_q: 0.895694\n",
            " 63084/100000: episode: 89, duration: 108.359s, episode steps: 912, steps per second:   8, episode reward: 17.000, mean reward:  0.019 [ 0.000,  1.000], mean action: 2.605 [0.000, 5.000],  loss: 0.009255, mae: 0.734411, mean_q: 0.882900\n",
            " 63734/100000: episode: 90, duration: 77.769s, episode steps: 650, steps per second:   8, episode reward:  6.000, mean reward:  0.009 [ 0.000,  1.000], mean action: 2.071 [0.000, 5.000],  loss: 0.008503, mae: 0.737074, mean_q: 0.887213\n",
            " 64411/100000: episode: 91, duration: 80.104s, episode steps: 677, steps per second:   8, episode reward:  6.000, mean reward:  0.009 [ 0.000,  1.000], mean action: 2.609 [0.000, 5.000],  loss: 0.008431, mae: 0.734346, mean_q: 0.882411\n",
            " 65388/100000: episode: 92, duration: 116.741s, episode steps: 977, steps per second:   8, episode reward: 16.000, mean reward:  0.016 [ 0.000,  1.000], mean action: 3.037 [0.000, 5.000],  loss: 0.008657, mae: 0.741781, mean_q: 0.890150\n",
            " 65762/100000: episode: 93, duration: 46.006s, episode steps: 374, steps per second:   8, episode reward:  8.000, mean reward:  0.021 [ 0.000,  1.000], mean action: 2.695 [0.000, 5.000],  loss: 0.009673, mae: 0.748548, mean_q: 0.897546\n",
            " 66643/100000: episode: 94, duration: 103.967s, episode steps: 881, steps per second:   8, episode reward: 10.000, mean reward:  0.011 [ 0.000,  1.000], mean action: 2.171 [0.000, 5.000],  loss: 0.009387, mae: 0.746560, mean_q: 0.895660\n",
            " 67299/100000: episode: 95, duration: 81.102s, episode steps: 656, steps per second:   8, episode reward: 12.000, mean reward:  0.018 [ 0.000,  1.000], mean action: 2.230 [0.000, 5.000],  loss: 0.008384, mae: 0.733913, mean_q: 0.880311\n",
            " 67652/100000: episode: 96, duration: 43.475s, episode steps: 353, steps per second:   8, episode reward:  6.000, mean reward:  0.017 [ 0.000,  1.000], mean action: 2.771 [0.000, 5.000],  loss: 0.008096, mae: 0.735436, mean_q: 0.882083\n",
            " 68671/100000: episode: 97, duration: 122.598s, episode steps: 1019, steps per second:   8, episode reward: 16.000, mean reward:  0.016 [ 0.000,  1.000], mean action: 3.278 [0.000, 5.000],  loss: 0.008706, mae: 0.743828, mean_q: 0.893320\n",
            " 69776/100000: episode: 98, duration: 134.228s, episode steps: 1105, steps per second:   8, episode reward: 17.000, mean reward:  0.015 [ 0.000,  1.000], mean action: 3.202 [0.000, 5.000],  loss: 0.007134, mae: 0.737378, mean_q: 0.887554\n",
            " 70859/100000: episode: 99, duration: 130.462s, episode steps: 1083, steps per second:   8, episode reward: 19.000, mean reward:  0.018 [ 0.000,  1.000], mean action: 3.384 [0.000, 5.000],  loss: 0.008378, mae: 0.741034, mean_q: 0.891649\n",
            " 71366/100000: episode: 100, duration: 61.461s, episode steps: 507, steps per second:   8, episode reward:  6.000, mean reward:  0.012 [ 0.000,  1.000], mean action: 2.548 [0.000, 5.000],  loss: 0.009069, mae: 0.743135, mean_q: 0.891780\n",
            " 72006/100000: episode: 101, duration: 77.770s, episode steps: 640, steps per second:   8, episode reward:  7.000, mean reward:  0.011 [ 0.000,  1.000], mean action: 2.064 [0.000, 5.000],  loss: 0.008336, mae: 0.741155, mean_q: 0.889518\n",
            " 72355/100000: episode: 102, duration: 41.535s, episode steps: 349, steps per second:   8, episode reward:  5.000, mean reward:  0.014 [ 0.000,  1.000], mean action: 2.112 [0.000, 5.000],  loss: 0.008682, mae: 0.739973, mean_q: 0.888570\n",
            " 72869/100000: episode: 103, duration: 62.406s, episode steps: 514, steps per second:   8, episode reward:  6.000, mean reward:  0.012 [ 0.000,  1.000], mean action: 2.440 [0.000, 5.000],  loss: 0.008684, mae: 0.740749, mean_q: 0.889280\n",
            " 73715/100000: episode: 104, duration: 99.939s, episode steps: 846, steps per second:   8, episode reward: 12.000, mean reward:  0.014 [ 0.000,  1.000], mean action: 3.530 [0.000, 5.000],  loss: 0.008018, mae: 0.741513, mean_q: 0.892049\n",
            " 74343/100000: episode: 105, duration: 83.580s, episode steps: 628, steps per second:   8, episode reward: 10.000, mean reward:  0.016 [ 0.000,  1.000], mean action: 2.720 [0.000, 5.000],  loss: 0.009033, mae: 0.746362, mean_q: 0.895845\n",
            " 74909/100000: episode: 106, duration: 67.703s, episode steps: 566, steps per second:   8, episode reward: 11.000, mean reward:  0.019 [ 0.000,  1.000], mean action: 2.546 [0.000, 5.000],  loss: 0.007377, mae: 0.739850, mean_q: 0.887232\n",
            " 75583/100000: episode: 107, duration: 81.814s, episode steps: 674, steps per second:   8, episode reward:  9.000, mean reward:  0.013 [ 0.000,  1.000], mean action: 2.503 [0.000, 5.000],  loss: 0.009093, mae: 0.744294, mean_q: 0.894636\n",
            " 76259/100000: episode: 108, duration: 80.490s, episode steps: 676, steps per second:   8, episode reward: 11.000, mean reward:  0.016 [ 0.000,  1.000], mean action: 2.722 [0.000, 5.000],  loss: 0.008422, mae: 0.742784, mean_q: 0.891404\n",
            " 76930/100000: episode: 109, duration: 81.081s, episode steps: 671, steps per second:   8, episode reward: 11.000, mean reward:  0.016 [ 0.000,  1.000], mean action: 2.227 [0.000, 5.000],  loss: 0.009519, mae: 0.739901, mean_q: 0.889346\n",
            " 77571/100000: episode: 110, duration: 76.834s, episode steps: 641, steps per second:   8, episode reward: 10.000, mean reward:  0.016 [ 0.000,  1.000], mean action: 2.768 [0.000, 5.000],  loss: 0.008486, mae: 0.745537, mean_q: 0.894770\n",
            " 78490/100000: episode: 111, duration: 109.911s, episode steps: 919, steps per second:   8, episode reward: 16.000, mean reward:  0.017 [ 0.000,  1.000], mean action: 3.328 [0.000, 5.000],  loss: 0.008594, mae: 0.745628, mean_q: 0.895398\n",
            " 79300/100000: episode: 112, duration: 104.314s, episode steps: 810, steps per second:   8, episode reward: 11.000, mean reward:  0.014 [ 0.000,  1.000], mean action: 3.132 [0.000, 5.000],  loss: 0.008293, mae: 0.740418, mean_q: 0.889897\n",
            " 80154/100000: episode: 113, duration: 106.201s, episode steps: 854, steps per second:   8, episode reward: 12.000, mean reward:  0.014 [ 0.000,  1.000], mean action: 2.132 [0.000, 5.000],  loss: 0.009257, mae: 0.748234, mean_q: 0.898134\n",
            " 80987/100000: episode: 114, duration: 100.168s, episode steps: 833, steps per second:   8, episode reward: 12.000, mean reward:  0.014 [ 0.000,  1.000], mean action: 2.418 [0.000, 5.000],  loss: 0.009215, mae: 0.754017, mean_q: 0.904592\n",
            " 81675/100000: episode: 115, duration: 84.433s, episode steps: 688, steps per second:   8, episode reward: 12.000, mean reward:  0.017 [ 0.000,  1.000], mean action: 2.366 [0.000, 5.000],  loss: 0.009297, mae: 0.757113, mean_q: 0.907408\n",
            " 82546/100000: episode: 116, duration: 103.728s, episode steps: 871, steps per second:   8, episode reward: 11.000, mean reward:  0.013 [ 0.000,  1.000], mean action: 3.596 [0.000, 5.000],  loss: 0.008688, mae: 0.762119, mean_q: 0.915781\n",
            " 83522/100000: episode: 117, duration: 120.556s, episode steps: 976, steps per second:   8, episode reward: 16.000, mean reward:  0.016 [ 0.000,  1.000], mean action: 2.383 [0.000, 5.000],  loss: 0.008260, mae: 0.753911, mean_q: 0.906566\n",
            " 84165/100000: episode: 118, duration: 78.720s, episode steps: 643, steps per second:   8, episode reward: 11.000, mean reward:  0.017 [ 0.000,  1.000], mean action: 2.243 [0.000, 5.000],  loss: 0.007999, mae: 0.762239, mean_q: 0.915397\n",
            " 85411/100000: episode: 119, duration: 148.788s, episode steps: 1246, steps per second:   8, episode reward: 24.000, mean reward:  0.019 [ 0.000,  1.000], mean action: 2.228 [0.000, 5.000],  loss: 0.008440, mae: 0.760000, mean_q: 0.912146\n",
            " 86092/100000: episode: 120, duration: 83.091s, episode steps: 681, steps per second:   8, episode reward: 11.000, mean reward:  0.016 [ 0.000,  1.000], mean action: 3.028 [0.000, 5.000],  loss: 0.008944, mae: 0.760288, mean_q: 0.912137\n",
            " 86751/100000: episode: 121, duration: 78.300s, episode steps: 659, steps per second:   8, episode reward: 15.000, mean reward:  0.023 [ 0.000,  1.000], mean action: 2.370 [0.000, 5.000],  loss: 0.007746, mae: 0.749460, mean_q: 0.899917\n",
            " 87379/100000: episode: 122, duration: 77.973s, episode steps: 628, steps per second:   8, episode reward:  7.000, mean reward:  0.011 [ 0.000,  1.000], mean action: 1.868 [0.000, 5.000],  loss: 0.009003, mae: 0.762399, mean_q: 0.914304\n",
            " 88356/100000: episode: 123, duration: 118.158s, episode steps: 977, steps per second:   8, episode reward: 16.000, mean reward:  0.016 [ 0.000,  1.000], mean action: 3.059 [0.000, 5.000],  loss: 0.008804, mae: 0.756688, mean_q: 0.908086\n",
            " 88729/100000: episode: 124, duration: 46.621s, episode steps: 373, steps per second:   8, episode reward:  6.000, mean reward:  0.016 [ 0.000,  1.000], mean action: 3.182 [0.000, 5.000],  loss: 0.008934, mae: 0.762152, mean_q: 0.914722\n",
            " 89425/100000: episode: 125, duration: 83.287s, episode steps: 696, steps per second:   8, episode reward: 11.000, mean reward:  0.016 [ 0.000,  1.000], mean action: 1.714 [0.000, 5.000],  loss: 0.007735, mae: 0.753400, mean_q: 0.904331\n",
            " 90845/100000: episode: 126, duration: 173.439s, episode steps: 1420, steps per second:   8, episode reward: 24.000, mean reward:  0.017 [ 0.000,  1.000], mean action: 3.144 [0.000, 5.000],  loss: 0.008846, mae: 0.767836, mean_q: 0.921053\n",
            " 91982/100000: episode: 127, duration: 139.153s, episode steps: 1137, steps per second:   8, episode reward: 23.000, mean reward:  0.020 [ 0.000,  1.000], mean action: 3.254 [0.000, 5.000],  loss: 0.007988, mae: 0.770495, mean_q: 0.925399\n",
            " 92675/100000: episode: 128, duration: 84.036s, episode steps: 693, steps per second:   8, episode reward: 11.000, mean reward:  0.016 [ 0.000,  1.000], mean action: 3.055 [0.000, 5.000],  loss: 0.008334, mae: 0.771667, mean_q: 0.925855\n",
            " 93381/100000: episode: 129, duration: 86.694s, episode steps: 706, steps per second:   8, episode reward: 12.000, mean reward:  0.017 [ 0.000,  1.000], mean action: 2.235 [0.000, 5.000],  loss: 0.007956, mae: 0.778230, mean_q: 0.934854\n",
            " 94137/100000: episode: 130, duration: 92.165s, episode steps: 756, steps per second:   8, episode reward: 17.000, mean reward:  0.022 [ 0.000,  1.000], mean action: 3.222 [0.000, 5.000],  loss: 0.008495, mae: 0.782905, mean_q: 0.940397\n",
            " 94777/100000: episode: 131, duration: 79.098s, episode steps: 640, steps per second:   8, episode reward: 15.000, mean reward:  0.023 [ 0.000,  1.000], mean action: 2.875 [0.000, 5.000],  loss: 0.009199, mae: 0.781187, mean_q: 0.938599\n",
            " 95685/100000: episode: 132, duration: 113.675s, episode steps: 908, steps per second:   8, episode reward: 16.000, mean reward:  0.018 [ 0.000,  1.000], mean action: 3.029 [0.000, 5.000],  loss: 0.009422, mae: 0.771054, mean_q: 0.925169\n",
            " 96723/100000: episode: 133, duration: 126.643s, episode steps: 1038, steps per second:   8, episode reward: 19.000, mean reward:  0.018 [ 0.000,  1.000], mean action: 3.318 [0.000, 5.000],  loss: 0.010075, mae: 0.778393, mean_q: 0.933439\n",
            " 97802/100000: episode: 134, duration: 133.018s, episode steps: 1079, steps per second:   8, episode reward: 20.000, mean reward:  0.019 [ 0.000,  1.000], mean action: 2.798 [0.000, 5.000],  loss: 0.009048, mae: 0.785599, mean_q: 0.942416\n",
            " 98269/100000: episode: 135, duration: 57.030s, episode steps: 467, steps per second:   8, episode reward:  3.000, mean reward:  0.006 [ 0.000,  1.000], mean action: 1.199 [0.000, 5.000],  loss: 0.009630, mae: 0.778073, mean_q: 0.934684\n",
            " 99530/100000: episode: 136, duration: 154.110s, episode steps: 1261, steps per second:   8, episode reward: 23.000, mean reward:  0.018 [ 0.000,  1.000], mean action: 2.514 [0.000, 5.000],  loss: 0.008227, mae: 0.773523, mean_q: 0.928360\n",
            "done, took 7996.070 seconds\n"
          ]
        }
      ],
      "source": [
        "# Cargar último checkpoint\n",
        "latest_path, trained_steps = load_latest_weights(dqn, checkpoint_dir)\n",
        "\n",
        "# Entrenar agente\n",
        "dqn.fit(env, nb_steps=100000, visualize=False, verbose=2,\n",
        "        callbacks=[checkpoint_callback, logger_callback])\n",
        "\n",
        "# Guardar pesos finales en formato .h5 (compatible con load_weights)\n",
        "dqn.save_weights(os.path.join(checkpoint_dir, f\"dqn_noisy_weights_{total_steps}.h5\"), overwrite=True)"
      ]
    },
    {
      "cell_type": "code",
      "source": [
        "# GUARDAR LA MEMORIA DE EXPERIENCIA\n",
        "import pickle\n",
        "with open('memory_noisy.pkl', 'wb') as f:\n",
        "    pickle.dump(memory, f)"
      ],
      "metadata": {
        "id": "q6uzjpCftpj_"
      },
      "execution_count": null,
      "outputs": []
    },
    {
      "cell_type": "code",
      "execution_count": null,
      "metadata": {
        "id": "hcqrLtRxi23X"
      },
      "outputs": [],
      "source": [
        "import time\n",
        "\n",
        "print(\"Esperando 60 segundos...\")\n",
        "time.sleep(60)\n",
        "print(\"¡Tiempo de espera terminado!\")"
      ]
    },
    {
      "cell_type": "code",
      "execution_count": null,
      "metadata": {
        "id": "fuVSBuiyi56X"
      },
      "outputs": [],
      "source": [
        "# Testear desde último checkpoint\n",
        "latest_path, trained_steps = load_latest_weights(dqn, checkpoint_dir)\n",
        "if latest_path:\n",
        "    dqn.test(env, nb_episodes=10, visualize=False)"
      ]
    },
    {
      "cell_type": "markdown",
      "metadata": {
        "id": "CMKpo4cgDXND"
      },
      "source": [
        "### Parte 2"
      ]
    },
    {
      "cell_type": "code",
      "execution_count": null,
      "metadata": {
        "id": "8_fQUrYHDVG2"
      },
      "outputs": [],
      "source": [
        "# Cargar pesos anteriores si existen\n",
        "latest_path, trained_steps = load_latest_weights(dqn, checkpoint_dir)\n",
        "if latest_path:\n",
        "    dqn.load_weights(latest_path)\n",
        "else:\n",
        "    trained_steps = 0\n",
        "\n",
        "# Definir pasos a entrenar\n",
        "steps_to_train = 100000\n",
        "total_steps = trained_steps + steps_to_train\n",
        "\n",
        "# Crear paths y callbacks dinámicos\n",
        "log_path = os.path.join(log_dir, f\"dqn_noisy_log_{trained_steps}_{total_steps}.json\")\n",
        "checkpoint_path = os.path.join(checkpoint_dir, f\"dqn_noisy_weights_{total_steps}.h5\")\n",
        "\n",
        "logger_callback = FileLogger(log_path, interval=100)\n",
        "checkpoint_callback = ModelIntervalCheckpoint(checkpoint_path, interval=10000)\n",
        "\n",
        "# Entrenar agente\n",
        "dqn.fit(env, nb_steps=steps_to_train, visualize=False, verbose=2,\n",
        "        callbacks=[checkpoint_callback, logger_callback])\n",
        "\n",
        "# Guardar pesos finales\n",
        "dqn.save_weights(checkpoint_path, overwrite=True)"
      ]
    },
    {
      "cell_type": "code",
      "source": [
        "# Guardar la memoria de experiencia\n",
        "import pickle\n",
        "with open('memory_noisy.pkl', 'wb') as f:\n",
        "    pickle.dump(memory, f)\n",
        "\n",
        "print(f\"Entrenamiento hasta {total_steps} pasos completado y guardado.\")"
      ],
      "metadata": {
        "id": "ukjcqO3Zttk7"
      },
      "execution_count": null,
      "outputs": []
    },
    {
      "cell_type": "code",
      "execution_count": null,
      "metadata": {
        "id": "9x6-wgiTDbRz"
      },
      "outputs": [],
      "source": [
        "import time\n",
        "\n",
        "print(\"Esperando 60 segundos...\")\n",
        "time.sleep(60)\n",
        "print(\"¡Tiempo de espera terminado!\")"
      ]
    },
    {
      "cell_type": "code",
      "execution_count": null,
      "metadata": {
        "id": "4Fvp-zjUDenQ"
      },
      "outputs": [],
      "source": [
        "# Testear desde último checkpoint\n",
        "latest_path, trained_steps = load_latest_weights(dqn, checkpoint_dir)\n",
        "if latest_path:\n",
        "    dqn.test(env, nb_episodes=10, visualize=False)"
      ]
    },
    {
      "cell_type": "markdown",
      "source": [
        "Parte 3"
      ],
      "metadata": {
        "id": "HH-nim-7h4Je"
      }
    },
    {
      "cell_type": "code",
      "source": [
        "# Cargar pesos anteriores si existen\n",
        "latest_path, trained_steps = load_latest_weights(dqn, checkpoint_dir)\n",
        "if latest_path:\n",
        "    dqn.load_weights(latest_path)\n",
        "else:\n",
        "    trained_steps = 0\n",
        "\n",
        "# Definir pasos a entrenar\n",
        "steps_to_train = 100000\n",
        "total_steps = trained_steps + steps_to_train\n",
        "\n",
        "# Crear paths y callbacks dinámicos\n",
        "log_path = os.path.join(log_dir, f\"dqn_noisy_log_{trained_steps}_{total_steps}.json\")\n",
        "checkpoint_path = os.path.join(checkpoint_dir, f\"dqn_noisy_weights_{total_steps}.h5\")\n",
        "\n",
        "logger_callback = FileLogger(log_path, interval=100)\n",
        "checkpoint_callback = ModelIntervalCheckpoint(checkpoint_path, interval=10000)\n",
        "\n",
        "# Entrenar agente\n",
        "dqn.fit(env, nb_steps=steps_to_train, visualize=False, verbose=2,\n",
        "        callbacks=[checkpoint_callback, logger_callback])\n",
        "\n",
        "# Guardar pesos finales\n",
        "dqn.save_weights(checkpoint_path, overwrite=True)"
      ],
      "metadata": {
        "id": "nQMM5CJsh58v"
      },
      "execution_count": null,
      "outputs": []
    },
    {
      "cell_type": "code",
      "source": [
        "# Guardar la memoria de experiencia\n",
        "import pickle\n",
        "with open('memory_noisy.pkl', 'wb') as f:\n",
        "    pickle.dump(memory, f)\n",
        "\n",
        "print(f\"Entrenamiento hasta {total_steps} pasos completado y guardado.\")"
      ],
      "metadata": {
        "id": "3ADvW_lJtxM-"
      },
      "execution_count": null,
      "outputs": []
    },
    {
      "cell_type": "code",
      "source": [
        "import time\n",
        "\n",
        "print(\"Esperando 60 segundos...\")\n",
        "time.sleep(60)\n",
        "print(\"¡Tiempo de espera terminado!\")"
      ],
      "metadata": {
        "id": "54xD4zIWh-Jp"
      },
      "execution_count": null,
      "outputs": []
    },
    {
      "cell_type": "code",
      "source": [
        "# Testear desde último checkpoint\n",
        "latest_path, trained_steps = load_latest_weights(dqn, checkpoint_dir)\n",
        "if latest_path:\n",
        "    dqn.test(env, nb_episodes=10, visualize=False)"
      ],
      "metadata": {
        "id": "42ul4qa_h_-W"
      },
      "execution_count": null,
      "outputs": []
    }
  ],
  "metadata": {
    "colab": {
      "provenance": [],
      "include_colab_link": true
    },
    "kernelspec": {
      "display_name": "Python 3",
      "name": "python3"
    },
    "language_info": {
      "name": "python"
    }
  },
  "nbformat": 4,
  "nbformat_minor": 0
}