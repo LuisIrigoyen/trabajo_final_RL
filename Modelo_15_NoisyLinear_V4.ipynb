{
  "cells": [
    {
      "cell_type": "markdown",
      "metadata": {
        "id": "view-in-github",
        "colab_type": "text"
      },
      "source": [
        "<a href=\"https://colab.research.google.com/github/LuisIrigoyen/trabajo_final_RL/blob/pruebas_LuisIrigoyen/Modelo_15_NoisyLinear_V4.ipynb\" target=\"_parent\"><img src=\"https://colab.research.google.com/assets/colab-badge.svg\" alt=\"Open In Colab\"/></a>"
      ]
    },
    {
      "cell_type": "markdown",
      "metadata": {
        "id": "D89Ue2uZNtzn"
      },
      "source": [
        "## 1.2. Localizar entorno de trabajo: Google colab o local"
      ]
    },
    {
      "cell_type": "markdown",
      "metadata": {
        "id": "piJ-XjXrzhdZ"
      },
      "source": [
        "- Igual que 12, cambio paramétro: dqn.compile(optimizer=Adam(learning_rate=0.0001)\n",
        "- luego se modificó a dqn.compile(optimizer=Adam(learning_rate=1e-4)\n",
        "- se cambió policy = BoltzmannQPolicy() a policy = EpsGreedyQPolicy(eps=0.0)\n",
        "- cambio sigma_init en NoisyDense: sigma_init=0.017 a 0.05\n",
        "- learning_rate aún más bajo para Adam: de 1e-4 a 5e-5"
      ]
    },
    {
      "cell_type": "code",
      "execution_count": null,
      "metadata": {
        "id": "7EQ46sNGLj22"
      },
      "outputs": [],
      "source": [
        "# ATENCIÓN!! Modificar ruta relativa a la práctica si es distinta (drive_root)\n",
        "mount='/content/gdrive'\n",
        "drive_root = mount + \"/My Drive/MODELO 15/\"\n",
        "\n",
        "try:\n",
        "  from google.colab import drive\n",
        "  IN_COLAB=True\n",
        "except:\n",
        "  IN_COLAB=False"
      ]
    },
    {
      "cell_type": "markdown",
      "metadata": {
        "id": "6on2PNxZN51A"
      },
      "source": [
        "## 1.3. Montar carpeta de datos local (solo Colab)"
      ]
    },
    {
      "cell_type": "code",
      "execution_count": null,
      "metadata": {
        "colab": {
          "base_uri": "https://localhost:8080/"
        },
        "id": "inTxnmr0MKCH",
        "outputId": "d04058d2-be11-4a23-e5a6-aea8df4f04ab"
      },
      "outputs": [
        {
          "output_type": "stream",
          "name": "stdout",
          "text": [
            "We're running Colab\n",
            "Colab: mounting Google drive on  /content/gdrive\n",
            "Drive already mounted at /content/gdrive; to attempt to forcibly remount, call drive.mount(\"/content/gdrive\", force_remount=True).\n",
            "\n",
            "Colab: making sure  /content/gdrive/My Drive/MODELO 15/  exists.\n",
            "\n",
            "Colab: Changing directory to  /content/gdrive/My Drive/MODELO 15/\n",
            "/content/gdrive/My Drive/MODELO 15\n",
            "Archivos en el directorio: \n",
            "['logs', 'checkpoints', 'memory_noisy.pkl']\n"
          ]
        }
      ],
      "source": [
        "# Switch to the directory on the Google Drive that you want to use\n",
        "import os\n",
        "if IN_COLAB:\n",
        "  print(\"We're running Colab\")\n",
        "\n",
        "  if IN_COLAB:\n",
        "    # Mount the Google Drive at mount\n",
        "    print(\"Colab: mounting Google drive on \", mount)\n",
        "\n",
        "    drive.mount(mount)\n",
        "\n",
        "    # Create drive_root if it doesn't exist\n",
        "    create_drive_root = True\n",
        "    if create_drive_root:\n",
        "      print(\"\\nColab: making sure \", drive_root, \" exists.\")\n",
        "      os.makedirs(drive_root, exist_ok=True)\n",
        "\n",
        "    # Change to the directory\n",
        "    print(\"\\nColab: Changing directory to \", drive_root)\n",
        "    %cd $drive_root\n",
        "# Verify we're in the correct working directory\n",
        "%pwd\n",
        "print(\"Archivos en el directorio: \")\n",
        "print(os.listdir())"
      ]
    },
    {
      "cell_type": "markdown",
      "metadata": {
        "id": "MYrJ03QWN9Hw"
      },
      "source": [
        "## 1.4. Instalar librerías necesarias"
      ]
    },
    {
      "cell_type": "code",
      "execution_count": null,
      "metadata": {
        "colab": {
          "base_uri": "https://localhost:8080/"
        },
        "id": "zSbNMsl4MTo3",
        "outputId": "b0da5b2c-8f55-47bf-8eef-55b05e0073af"
      },
      "outputs": [
        {
          "output_type": "stream",
          "name": "stdout",
          "text": [
            "Requirement already satisfied: gym==0.17.3 in /usr/local/lib/python3.11/dist-packages (0.17.3)\n",
            "Requirement already satisfied: scipy in /usr/local/lib/python3.11/dist-packages (from gym==0.17.3) (1.15.3)\n",
            "Requirement already satisfied: numpy>=1.10.4 in /usr/local/lib/python3.11/dist-packages (from gym==0.17.3) (1.23.5)\n",
            "Requirement already satisfied: pyglet<=1.5.0,>=1.4.0 in /usr/local/lib/python3.11/dist-packages (from gym==0.17.3) (1.5.0)\n",
            "Requirement already satisfied: cloudpickle<1.7.0,>=1.2.0 in /usr/local/lib/python3.11/dist-packages (from gym==0.17.3) (1.6.0)\n",
            "Requirement already satisfied: future in /usr/local/lib/python3.11/dist-packages (from pyglet<=1.5.0,>=1.4.0->gym==0.17.3) (1.0.0)\n",
            "Collecting git+https://github.com/Kojoley/atari-py.git\n",
            "  Cloning https://github.com/Kojoley/atari-py.git to /tmp/pip-req-build-6n7pb52t\n",
            "  Running command git clone --filter=blob:none --quiet https://github.com/Kojoley/atari-py.git /tmp/pip-req-build-6n7pb52t\n",
            "  Resolved https://github.com/Kojoley/atari-py.git to commit 86a1e05c0a95e9e6233c3a413521fdb34ca8a089\n",
            "  Preparing metadata (setup.py) ... \u001b[?25l\u001b[?25hdone\n",
            "Requirement already satisfied: numpy in /usr/local/lib/python3.11/dist-packages (from atari-py==1.2.2) (1.23.5)\n",
            "Requirement already satisfied: keras-rl2==1.0.5 in /usr/local/lib/python3.11/dist-packages (1.0.5)\n",
            "Requirement already satisfied: tensorflow in /usr/local/lib/python3.11/dist-packages (from keras-rl2==1.0.5) (2.12.0)\n",
            "Requirement already satisfied: absl-py>=1.0.0 in /usr/local/lib/python3.11/dist-packages (from tensorflow->keras-rl2==1.0.5) (1.4.0)\n",
            "Requirement already satisfied: astunparse>=1.6.0 in /usr/local/lib/python3.11/dist-packages (from tensorflow->keras-rl2==1.0.5) (1.6.3)\n",
            "Requirement already satisfied: flatbuffers>=2.0 in /usr/local/lib/python3.11/dist-packages (from tensorflow->keras-rl2==1.0.5) (25.2.10)\n",
            "Requirement already satisfied: gast<=0.4.0,>=0.2.1 in /usr/local/lib/python3.11/dist-packages (from tensorflow->keras-rl2==1.0.5) (0.4.0)\n",
            "Requirement already satisfied: google-pasta>=0.1.1 in /usr/local/lib/python3.11/dist-packages (from tensorflow->keras-rl2==1.0.5) (0.2.0)\n",
            "Requirement already satisfied: grpcio<2.0,>=1.24.3 in /usr/local/lib/python3.11/dist-packages (from tensorflow->keras-rl2==1.0.5) (1.73.1)\n",
            "Requirement already satisfied: h5py>=2.9.0 in /usr/local/lib/python3.11/dist-packages (from tensorflow->keras-rl2==1.0.5) (3.14.0)\n",
            "Requirement already satisfied: jax>=0.3.15 in /usr/local/lib/python3.11/dist-packages (from tensorflow->keras-rl2==1.0.5) (0.4.30)\n",
            "Requirement already satisfied: keras<2.13,>=2.12.0 in /usr/local/lib/python3.11/dist-packages (from tensorflow->keras-rl2==1.0.5) (2.12.0)\n",
            "Requirement already satisfied: libclang>=13.0.0 in /usr/local/lib/python3.11/dist-packages (from tensorflow->keras-rl2==1.0.5) (18.1.1)\n",
            "Requirement already satisfied: numpy<1.24,>=1.22 in /usr/local/lib/python3.11/dist-packages (from tensorflow->keras-rl2==1.0.5) (1.23.5)\n",
            "Requirement already satisfied: opt-einsum>=2.3.2 in /usr/local/lib/python3.11/dist-packages (from tensorflow->keras-rl2==1.0.5) (3.4.0)\n",
            "Requirement already satisfied: packaging in /usr/local/lib/python3.11/dist-packages (from tensorflow->keras-rl2==1.0.5) (24.2)\n",
            "Requirement already satisfied: protobuf!=4.21.0,!=4.21.1,!=4.21.2,!=4.21.3,!=4.21.4,!=4.21.5,<5.0.0dev,>=3.20.3 in /usr/local/lib/python3.11/dist-packages (from tensorflow->keras-rl2==1.0.5) (4.25.8)\n",
            "Requirement already satisfied: setuptools in /usr/local/lib/python3.11/dist-packages (from tensorflow->keras-rl2==1.0.5) (75.2.0)\n",
            "Requirement already satisfied: six>=1.12.0 in /usr/local/lib/python3.11/dist-packages (from tensorflow->keras-rl2==1.0.5) (1.17.0)\n",
            "Requirement already satisfied: tensorboard<2.13,>=2.12 in /usr/local/lib/python3.11/dist-packages (from tensorflow->keras-rl2==1.0.5) (2.12.3)\n",
            "Requirement already satisfied: tensorflow-estimator<2.13,>=2.12.0 in /usr/local/lib/python3.11/dist-packages (from tensorflow->keras-rl2==1.0.5) (2.12.0)\n",
            "Requirement already satisfied: termcolor>=1.1.0 in /usr/local/lib/python3.11/dist-packages (from tensorflow->keras-rl2==1.0.5) (3.1.0)\n",
            "Requirement already satisfied: typing-extensions>=3.6.6 in /usr/local/lib/python3.11/dist-packages (from tensorflow->keras-rl2==1.0.5) (4.14.0)\n",
            "Requirement already satisfied: wrapt<1.15,>=1.11.0 in /usr/local/lib/python3.11/dist-packages (from tensorflow->keras-rl2==1.0.5) (1.14.1)\n",
            "Requirement already satisfied: tensorflow-io-gcs-filesystem>=0.23.1 in /usr/local/lib/python3.11/dist-packages (from tensorflow->keras-rl2==1.0.5) (0.37.1)\n",
            "Requirement already satisfied: wheel<1.0,>=0.23.0 in /usr/local/lib/python3.11/dist-packages (from astunparse>=1.6.0->tensorflow->keras-rl2==1.0.5) (0.45.1)\n",
            "Requirement already satisfied: jaxlib<=0.4.30,>=0.4.27 in /usr/local/lib/python3.11/dist-packages (from jax>=0.3.15->tensorflow->keras-rl2==1.0.5) (0.4.30)\n",
            "Requirement already satisfied: ml-dtypes>=0.2.0 in /usr/local/lib/python3.11/dist-packages (from jax>=0.3.15->tensorflow->keras-rl2==1.0.5) (0.4.1)\n",
            "Requirement already satisfied: scipy>=1.9 in /usr/local/lib/python3.11/dist-packages (from jax>=0.3.15->tensorflow->keras-rl2==1.0.5) (1.15.3)\n",
            "Requirement already satisfied: google-auth<3,>=1.6.3 in /usr/local/lib/python3.11/dist-packages (from tensorboard<2.13,>=2.12->tensorflow->keras-rl2==1.0.5) (2.38.0)\n",
            "Requirement already satisfied: google-auth-oauthlib<1.1,>=0.5 in /usr/local/lib/python3.11/dist-packages (from tensorboard<2.13,>=2.12->tensorflow->keras-rl2==1.0.5) (1.0.0)\n",
            "Requirement already satisfied: markdown>=2.6.8 in /usr/local/lib/python3.11/dist-packages (from tensorboard<2.13,>=2.12->tensorflow->keras-rl2==1.0.5) (3.8.2)\n",
            "Requirement already satisfied: requests<3,>=2.21.0 in /usr/local/lib/python3.11/dist-packages (from tensorboard<2.13,>=2.12->tensorflow->keras-rl2==1.0.5) (2.32.3)\n",
            "Requirement already satisfied: tensorboard-data-server<0.8.0,>=0.7.0 in /usr/local/lib/python3.11/dist-packages (from tensorboard<2.13,>=2.12->tensorflow->keras-rl2==1.0.5) (0.7.2)\n",
            "Requirement already satisfied: werkzeug>=1.0.1 in /usr/local/lib/python3.11/dist-packages (from tensorboard<2.13,>=2.12->tensorflow->keras-rl2==1.0.5) (3.1.3)\n",
            "Requirement already satisfied: cachetools<6.0,>=2.0.0 in /usr/local/lib/python3.11/dist-packages (from google-auth<3,>=1.6.3->tensorboard<2.13,>=2.12->tensorflow->keras-rl2==1.0.5) (5.5.2)\n",
            "Requirement already satisfied: pyasn1-modules>=0.2.1 in /usr/local/lib/python3.11/dist-packages (from google-auth<3,>=1.6.3->tensorboard<2.13,>=2.12->tensorflow->keras-rl2==1.0.5) (0.4.2)\n",
            "Requirement already satisfied: rsa<5,>=3.1.4 in /usr/local/lib/python3.11/dist-packages (from google-auth<3,>=1.6.3->tensorboard<2.13,>=2.12->tensorflow->keras-rl2==1.0.5) (4.9.1)\n",
            "Requirement already satisfied: requests-oauthlib>=0.7.0 in /usr/local/lib/python3.11/dist-packages (from google-auth-oauthlib<1.1,>=0.5->tensorboard<2.13,>=2.12->tensorflow->keras-rl2==1.0.5) (2.0.0)\n",
            "Requirement already satisfied: charset-normalizer<4,>=2 in /usr/local/lib/python3.11/dist-packages (from requests<3,>=2.21.0->tensorboard<2.13,>=2.12->tensorflow->keras-rl2==1.0.5) (3.4.2)\n",
            "Requirement already satisfied: idna<4,>=2.5 in /usr/local/lib/python3.11/dist-packages (from requests<3,>=2.21.0->tensorboard<2.13,>=2.12->tensorflow->keras-rl2==1.0.5) (3.10)\n",
            "Requirement already satisfied: urllib3<3,>=1.21.1 in /usr/local/lib/python3.11/dist-packages (from requests<3,>=2.21.0->tensorboard<2.13,>=2.12->tensorflow->keras-rl2==1.0.5) (2.4.0)\n",
            "Requirement already satisfied: certifi>=2017.4.17 in /usr/local/lib/python3.11/dist-packages (from requests<3,>=2.21.0->tensorboard<2.13,>=2.12->tensorflow->keras-rl2==1.0.5) (2025.6.15)\n",
            "Requirement already satisfied: MarkupSafe>=2.1.1 in /usr/local/lib/python3.11/dist-packages (from werkzeug>=1.0.1->tensorboard<2.13,>=2.12->tensorflow->keras-rl2==1.0.5) (3.0.2)\n",
            "Requirement already satisfied: pyasn1<0.7.0,>=0.6.1 in /usr/local/lib/python3.11/dist-packages (from pyasn1-modules>=0.2.1->google-auth<3,>=1.6.3->tensorboard<2.13,>=2.12->tensorflow->keras-rl2==1.0.5) (0.6.1)\n",
            "Requirement already satisfied: oauthlib>=3.0.0 in /usr/local/lib/python3.11/dist-packages (from requests-oauthlib>=0.7.0->google-auth-oauthlib<1.1,>=0.5->tensorboard<2.13,>=2.12->tensorflow->keras-rl2==1.0.5) (3.3.1)\n",
            "Requirement already satisfied: tensorflow==2.12 in /usr/local/lib/python3.11/dist-packages (2.12.0)\n",
            "Requirement already satisfied: absl-py>=1.0.0 in /usr/local/lib/python3.11/dist-packages (from tensorflow==2.12) (1.4.0)\n",
            "Requirement already satisfied: astunparse>=1.6.0 in /usr/local/lib/python3.11/dist-packages (from tensorflow==2.12) (1.6.3)\n",
            "Requirement already satisfied: flatbuffers>=2.0 in /usr/local/lib/python3.11/dist-packages (from tensorflow==2.12) (25.2.10)\n",
            "Requirement already satisfied: gast<=0.4.0,>=0.2.1 in /usr/local/lib/python3.11/dist-packages (from tensorflow==2.12) (0.4.0)\n",
            "Requirement already satisfied: google-pasta>=0.1.1 in /usr/local/lib/python3.11/dist-packages (from tensorflow==2.12) (0.2.0)\n",
            "Requirement already satisfied: grpcio<2.0,>=1.24.3 in /usr/local/lib/python3.11/dist-packages (from tensorflow==2.12) (1.73.1)\n",
            "Requirement already satisfied: h5py>=2.9.0 in /usr/local/lib/python3.11/dist-packages (from tensorflow==2.12) (3.14.0)\n",
            "Requirement already satisfied: jax>=0.3.15 in /usr/local/lib/python3.11/dist-packages (from tensorflow==2.12) (0.4.30)\n",
            "Requirement already satisfied: keras<2.13,>=2.12.0 in /usr/local/lib/python3.11/dist-packages (from tensorflow==2.12) (2.12.0)\n",
            "Requirement already satisfied: libclang>=13.0.0 in /usr/local/lib/python3.11/dist-packages (from tensorflow==2.12) (18.1.1)\n",
            "Requirement already satisfied: numpy<1.24,>=1.22 in /usr/local/lib/python3.11/dist-packages (from tensorflow==2.12) (1.23.5)\n",
            "Requirement already satisfied: opt-einsum>=2.3.2 in /usr/local/lib/python3.11/dist-packages (from tensorflow==2.12) (3.4.0)\n",
            "Requirement already satisfied: packaging in /usr/local/lib/python3.11/dist-packages (from tensorflow==2.12) (24.2)\n",
            "Requirement already satisfied: protobuf!=4.21.0,!=4.21.1,!=4.21.2,!=4.21.3,!=4.21.4,!=4.21.5,<5.0.0dev,>=3.20.3 in /usr/local/lib/python3.11/dist-packages (from tensorflow==2.12) (4.25.8)\n",
            "Requirement already satisfied: setuptools in /usr/local/lib/python3.11/dist-packages (from tensorflow==2.12) (75.2.0)\n",
            "Requirement already satisfied: six>=1.12.0 in /usr/local/lib/python3.11/dist-packages (from tensorflow==2.12) (1.17.0)\n",
            "Requirement already satisfied: tensorboard<2.13,>=2.12 in /usr/local/lib/python3.11/dist-packages (from tensorflow==2.12) (2.12.3)\n",
            "Requirement already satisfied: tensorflow-estimator<2.13,>=2.12.0 in /usr/local/lib/python3.11/dist-packages (from tensorflow==2.12) (2.12.0)\n",
            "Requirement already satisfied: termcolor>=1.1.0 in /usr/local/lib/python3.11/dist-packages (from tensorflow==2.12) (3.1.0)\n",
            "Requirement already satisfied: typing-extensions>=3.6.6 in /usr/local/lib/python3.11/dist-packages (from tensorflow==2.12) (4.14.0)\n",
            "Requirement already satisfied: wrapt<1.15,>=1.11.0 in /usr/local/lib/python3.11/dist-packages (from tensorflow==2.12) (1.14.1)\n",
            "Requirement already satisfied: tensorflow-io-gcs-filesystem>=0.23.1 in /usr/local/lib/python3.11/dist-packages (from tensorflow==2.12) (0.37.1)\n",
            "Requirement already satisfied: wheel<1.0,>=0.23.0 in /usr/local/lib/python3.11/dist-packages (from astunparse>=1.6.0->tensorflow==2.12) (0.45.1)\n",
            "Requirement already satisfied: jaxlib<=0.4.30,>=0.4.27 in /usr/local/lib/python3.11/dist-packages (from jax>=0.3.15->tensorflow==2.12) (0.4.30)\n",
            "Requirement already satisfied: ml-dtypes>=0.2.0 in /usr/local/lib/python3.11/dist-packages (from jax>=0.3.15->tensorflow==2.12) (0.4.1)\n",
            "Requirement already satisfied: scipy>=1.9 in /usr/local/lib/python3.11/dist-packages (from jax>=0.3.15->tensorflow==2.12) (1.15.3)\n",
            "Requirement already satisfied: google-auth<3,>=1.6.3 in /usr/local/lib/python3.11/dist-packages (from tensorboard<2.13,>=2.12->tensorflow==2.12) (2.38.0)\n",
            "Requirement already satisfied: google-auth-oauthlib<1.1,>=0.5 in /usr/local/lib/python3.11/dist-packages (from tensorboard<2.13,>=2.12->tensorflow==2.12) (1.0.0)\n",
            "Requirement already satisfied: markdown>=2.6.8 in /usr/local/lib/python3.11/dist-packages (from tensorboard<2.13,>=2.12->tensorflow==2.12) (3.8.2)\n",
            "Requirement already satisfied: requests<3,>=2.21.0 in /usr/local/lib/python3.11/dist-packages (from tensorboard<2.13,>=2.12->tensorflow==2.12) (2.32.3)\n",
            "Requirement already satisfied: tensorboard-data-server<0.8.0,>=0.7.0 in /usr/local/lib/python3.11/dist-packages (from tensorboard<2.13,>=2.12->tensorflow==2.12) (0.7.2)\n",
            "Requirement already satisfied: werkzeug>=1.0.1 in /usr/local/lib/python3.11/dist-packages (from tensorboard<2.13,>=2.12->tensorflow==2.12) (3.1.3)\n",
            "Requirement already satisfied: cachetools<6.0,>=2.0.0 in /usr/local/lib/python3.11/dist-packages (from google-auth<3,>=1.6.3->tensorboard<2.13,>=2.12->tensorflow==2.12) (5.5.2)\n",
            "Requirement already satisfied: pyasn1-modules>=0.2.1 in /usr/local/lib/python3.11/dist-packages (from google-auth<3,>=1.6.3->tensorboard<2.13,>=2.12->tensorflow==2.12) (0.4.2)\n",
            "Requirement already satisfied: rsa<5,>=3.1.4 in /usr/local/lib/python3.11/dist-packages (from google-auth<3,>=1.6.3->tensorboard<2.13,>=2.12->tensorflow==2.12) (4.9.1)\n",
            "Requirement already satisfied: requests-oauthlib>=0.7.0 in /usr/local/lib/python3.11/dist-packages (from google-auth-oauthlib<1.1,>=0.5->tensorboard<2.13,>=2.12->tensorflow==2.12) (2.0.0)\n",
            "Requirement already satisfied: charset-normalizer<4,>=2 in /usr/local/lib/python3.11/dist-packages (from requests<3,>=2.21.0->tensorboard<2.13,>=2.12->tensorflow==2.12) (3.4.2)\n",
            "Requirement already satisfied: idna<4,>=2.5 in /usr/local/lib/python3.11/dist-packages (from requests<3,>=2.21.0->tensorboard<2.13,>=2.12->tensorflow==2.12) (3.10)\n",
            "Requirement already satisfied: urllib3<3,>=1.21.1 in /usr/local/lib/python3.11/dist-packages (from requests<3,>=2.21.0->tensorboard<2.13,>=2.12->tensorflow==2.12) (2.4.0)\n",
            "Requirement already satisfied: certifi>=2017.4.17 in /usr/local/lib/python3.11/dist-packages (from requests<3,>=2.21.0->tensorboard<2.13,>=2.12->tensorflow==2.12) (2025.6.15)\n",
            "Requirement already satisfied: MarkupSafe>=2.1.1 in /usr/local/lib/python3.11/dist-packages (from werkzeug>=1.0.1->tensorboard<2.13,>=2.12->tensorflow==2.12) (3.0.2)\n",
            "Requirement already satisfied: pyasn1<0.7.0,>=0.6.1 in /usr/local/lib/python3.11/dist-packages (from pyasn1-modules>=0.2.1->google-auth<3,>=1.6.3->tensorboard<2.13,>=2.12->tensorflow==2.12) (0.6.1)\n",
            "Requirement already satisfied: oauthlib>=3.0.0 in /usr/local/lib/python3.11/dist-packages (from requests-oauthlib>=0.7.0->google-auth-oauthlib<1.1,>=0.5->tensorboard<2.13,>=2.12->tensorflow==2.12) (3.3.1)\n"
          ]
        }
      ],
      "source": [
        "if IN_COLAB:\n",
        "  %pip install gym==0.17.3\n",
        "  %pip install git+https://github.com/Kojoley/atari-py.git\n",
        "  %pip install keras-rl2==1.0.5\n",
        "  %pip install tensorflow==2.12  #2.8\n",
        "else:\n",
        "  %pip install gym==0.17.3\n",
        "  %pip install git+https://github.com/Kojoley/atari-py.git\n",
        "  %pip install pyglet==1.5.0\n",
        "  %pip install h5py==3.1.0\n",
        "  %pip install Pillow==9.5.0\n",
        "  %pip install keras-rl2==1.0.5\n",
        "  %pip install Keras==2.2.4\n",
        "  %pip install tensorflow==2.5.3\n",
        "  %pip install torch==2.0.1\n",
        "  %pip install agents==1.4.0"
      ]
    },
    {
      "cell_type": "markdown",
      "metadata": {
        "id": "mS60Dk-KO5e3"
      },
      "source": [
        "## **PARTE 3**. Desarrollo y preguntas\n",
        "Importar librerías"
      ]
    },
    {
      "cell_type": "code",
      "execution_count": null,
      "metadata": {
        "id": "RX-2z9T1NPp_"
      },
      "outputs": [],
      "source": [
        "from __future__ import division\n",
        "\n",
        "from PIL import Image\n",
        "import numpy as np\n",
        "import gym\n",
        "\n",
        "from tensorflow.keras.models import Sequential\n",
        "from tensorflow.keras.layers import Dense, Activation, Flatten, Convolution2D, Permute\n",
        "#from tensorflow.keras.optimizers import Adam\n",
        "import tensorflow.keras.backend as K\n",
        "\n",
        "from rl.agents.dqn import DQNAgent\n",
        "from rl.policy import LinearAnnealedPolicy, BoltzmannQPolicy, EpsGreedyQPolicy\n",
        "from rl.memory import SequentialMemory\n",
        "from rl.core import Processor\n",
        "from rl.callbacks import FileLogger, ModelIntervalCheckpoint"
      ]
    },
    {
      "cell_type": "markdown",
      "metadata": {
        "id": "NqJbsVR7POZA"
      },
      "source": [
        "#### Configuración base"
      ]
    },
    {
      "cell_type": "code",
      "execution_count": null,
      "metadata": {
        "colab": {
          "base_uri": "https://localhost:8080/"
        },
        "id": "0FlafEtvOKR4",
        "outputId": "1320a4b4-4ff7-4036-ab23-b532c153494d"
      },
      "outputs": [
        {
          "output_type": "stream",
          "name": "stdout",
          "text": [
            "210 160 3\n",
            "Forma de la observación: (210, 160, 3)\n"
          ]
        },
        {
          "output_type": "execute_result",
          "data": {
            "text/plain": [
              "['NOOP', 'FIRE', 'RIGHT', 'LEFT', 'RIGHTFIRE', 'LEFTFIRE']"
            ]
          },
          "metadata": {},
          "execution_count": 5
        }
      ],
      "source": [
        "INPUT_SHAPE = (84, 84)\n",
        "WINDOW_LENGTH = 4\n",
        "\n",
        "env_name = 'SpaceInvaders-v0'\n",
        "env = gym.make(env_name)\n",
        "\n",
        "np.random.seed(123)\n",
        "env.seed(123)\n",
        "nb_actions = env.action_space.n\n",
        "\n",
        "#--- nuevo -- ejfm\n",
        "height, width, channels = env.observation_space.shape\n",
        "obs = env.reset()\n",
        "print(height, width, channels)\n",
        "print(\"Forma de la observación:\", obs.shape)  # Debe ser (height, width, channels)\n",
        "env.unwrapped.get_action_meanings()"
      ]
    },
    {
      "cell_type": "code",
      "execution_count": null,
      "metadata": {
        "id": "YSGPGszsOOAw"
      },
      "outputs": [],
      "source": [
        "class AtariProcessor(Processor):\n",
        "    def process_observation(self, observation):\n",
        "        assert observation.ndim == 3  # (height, width, channel)\n",
        "        img = Image.fromarray(observation)\n",
        "        img = img.resize(INPUT_SHAPE).convert('L')\n",
        "        processed_observation = np.array(img)\n",
        "        assert processed_observation.shape == INPUT_SHAPE\n",
        "        return processed_observation.astype('uint8')\n",
        "\n",
        "    def process_state_batch(self, batch):\n",
        "        # Convertir a float y escalar\n",
        "        # Linea Agregada\n",
        "        if isinstance(batch, list):\n",
        "          batch = np.array(batch)\n",
        "\n",
        "        batch = batch.astype('float32') / 255.\n",
        "\n",
        "        # 👇 Elimina el canal innecesario si existe (forma (B, 4, 84, 84, 1))\n",
        "        if batch.ndim == 5 and batch.shape[-1] == 1:\n",
        "            batch = np.squeeze(batch, axis=-1)\n",
        "\n",
        "        return batch\n",
        "\n",
        "    def process_reward(self, reward):\n",
        "        return np.clip(reward, -1., 1.)\n"
      ]
    },
    {
      "cell_type": "markdown",
      "metadata": {
        "id": "Sg54U9vFZEBQ"
      },
      "source": [
        "## 1. EJFM Implementación de la red neuronal"
      ]
    },
    {
      "cell_type": "code",
      "execution_count": null,
      "metadata": {
        "id": "aiE1_aXXmQM7"
      },
      "outputs": [],
      "source": [
        "import tensorflow as tf\n",
        "\n",
        "class NoisyDense(tf.keras.layers.Layer):\n",
        "    def __init__(self, units, sigma_init=0.05, **kwargs):\n",
        "        super(NoisyDense, self).__init__(**kwargs)\n",
        "        self.units = units\n",
        "        self.sigma_init = sigma_init\n",
        "\n",
        "    def build(self, input_shape):\n",
        "        input_dim = int(input_shape[-1])\n",
        "        self.mu_W = self.add_weight(\"mu_W\", shape=(input_dim, self.units),\n",
        "                                    initializer='random_uniform', trainable=True)\n",
        "        self.sigma_W = self.add_weight(\"sigma_W\", shape=(input_dim, self.units),\n",
        "                                       initializer=tf.keras.initializers.Constant(self.sigma_init), trainable=True)\n",
        "        self.mu_b = self.add_weight(\"mu_b\", shape=(self.units,),\n",
        "                                    initializer='zeros', trainable=True)\n",
        "        self.sigma_b = self.add_weight(\"sigma_b\", shape=(self.units,),\n",
        "                                       initializer=tf.keras.initializers.Constant(self.sigma_init), trainable=True)\n",
        "\n",
        "    def call(self, x):\n",
        "        epsilon_W = tf.random.normal((x.shape[-1], self.units))\n",
        "        epsilon_b = tf.random.normal((self.units,))\n",
        "        W = self.mu_W + self.sigma_W * epsilon_W\n",
        "        b = self.mu_b + self.sigma_b * epsilon_b\n",
        "        return tf.matmul(x, W) + b\n",
        "\n",
        "    def get_config(self):\n",
        "        config = super(NoisyDense, self).get_config()\n",
        "        config.update({\n",
        "            \"units\": self.units,\n",
        "            \"sigma_init\": self.sigma_init\n",
        "        })\n",
        "        return config\n"
      ]
    },
    {
      "cell_type": "code",
      "execution_count": null,
      "metadata": {
        "colab": {
          "base_uri": "https://localhost:8080/"
        },
        "id": "pygz71TLmV2t",
        "outputId": "ff582e4a-c26f-46b9-b027-91a6e9f65a82"
      },
      "outputs": [
        {
          "output_type": "stream",
          "name": "stdout",
          "text": [
            "Model: \"model\"\n",
            "_________________________________________________________________\n",
            " Layer (type)                Output Shape              Param #   \n",
            "=================================================================\n",
            " input_1 (InputLayer)        [(None, 4, 84, 84)]       0         \n",
            "                                                                 \n",
            " permute (Permute)           (None, 84, 84, 4)         0         \n",
            "                                                                 \n",
            " conv2d (Conv2D)             (None, 20, 20, 32)        8224      \n",
            "                                                                 \n",
            " conv2d_1 (Conv2D)           (None, 9, 9, 64)          32832     \n",
            "                                                                 \n",
            " conv2d_2 (Conv2D)           (None, 7, 7, 64)          36928     \n",
            "                                                                 \n",
            " flatten (Flatten)           (None, 3136)              0         \n",
            "                                                                 \n",
            " noisy_dense (NoisyDense)    (None, 512)               3212288   \n",
            "                                                                 \n",
            " activation (Activation)     (None, 512)               0         \n",
            "                                                                 \n",
            " noisy_dense_1 (NoisyDense)  (None, 6)                 6156      \n",
            "                                                                 \n",
            "=================================================================\n",
            "Total params: 3,296,428\n",
            "Trainable params: 3,296,428\n",
            "Non-trainable params: 0\n",
            "_________________________________________________________________\n"
          ]
        }
      ],
      "source": [
        "from tensorflow.keras.models import Model\n",
        "from tensorflow.keras.layers import Input, Permute, Convolution2D, Flatten, Activation\n",
        "\n",
        "input_layer = Input(shape=(WINDOW_LENGTH,) + INPUT_SHAPE)\n",
        "perm = Permute((2, 3, 1))(input_layer)  # Canal al final\n",
        "conv1 = Convolution2D(32, (8, 8), strides=(4, 4), activation='relu')(perm)\n",
        "conv2 = Convolution2D(64, (4, 4), strides=(2, 2), activation='relu')(conv1)\n",
        "conv3 = Convolution2D(64, (3, 3), strides=(1, 1), activation='relu')(conv2)\n",
        "flat = Flatten()(conv3)\n",
        "\n",
        "noisy1 = NoisyDense(512)(flat)\n",
        "noisy1 = Activation('relu')(noisy1)\n",
        "output_layer = NoisyDense(nb_actions)(noisy1)\n",
        "\n",
        "model = Model(inputs=input_layer, outputs=output_layer)\n",
        "model.summary()\n"
      ]
    },
    {
      "cell_type": "code",
      "execution_count": null,
      "metadata": {
        "id": "_H6vbJsFsnKi"
      },
      "outputs": [],
      "source": [
        "# Registrar la capa personalizada (una sola vez en todo el código)\n",
        "from tensorflow.keras.utils import get_custom_objects\n",
        "get_custom_objects().update({'NoisyDense': NoisyDense})"
      ]
    },
    {
      "cell_type": "markdown",
      "metadata": {
        "id": "KwJoe_1sZOX4"
      },
      "source": [
        "## 2. EJFM Implementación de la solución DQN"
      ]
    },
    {
      "cell_type": "markdown",
      "metadata": {
        "id": "mANAV3rVJXt7"
      },
      "source": [
        "### Ejecución Inicial\n",
        "\n"
      ]
    },
    {
      "cell_type": "code",
      "execution_count": null,
      "metadata": {
        "colab": {
          "base_uri": "https://localhost:8080/"
        },
        "id": "KU6UKvVYXESO",
        "outputId": "4669bbb8-49d9-4418-b731-efa4c68eb53d"
      },
      "outputs": [
        {
          "output_type": "stream",
          "name": "stdout",
          "text": [
            "Cargando memoria desde archivo...\n"
          ]
        }
      ],
      "source": [
        "####### Solución DQN #######\n",
        "\n",
        "import os\n",
        "import pickle\n",
        "\n",
        "# INTENTAR CARGAR LA MEMORIA\n",
        "memory_file = 'memory_noisy.pkl'\n",
        "if os.path.exists(memory_file):\n",
        "    print(\"Cargando memoria desde archivo...\")\n",
        "    with open(memory_file, 'rb') as f:\n",
        "        memory = pickle.load(f)\n",
        "else:\n",
        "    print(\"Creando nueva memoria...\")\n",
        "    memory = SequentialMemory(limit=1000000, window_length=4)\n",
        "\n",
        "# Crear política como de costumbre\n",
        "#policy = BoltzmannQPolicy()\n",
        "policy = EpsGreedyQPolicy(eps=0.0)\n",
        "\n",
        "# Crear agente\n",
        "dqn = DQNAgent(model=model, nb_actions=nb_actions, policy=policy, memory=memory,\n",
        "               processor=AtariProcessor(), nb_steps_warmup=50000, gamma=0.99,\n",
        "               target_model_update=10000, train_interval=4, delta_clip=5)\n",
        "\n",
        "# Compilar agente\n",
        "#dqn.compile(optimizer='adam', metrics=['mae'])\n",
        "#dqn.compile(optimizer=Adam(learning_rate=0.0001), metrics=['mae'])\n",
        "\n",
        "from tensorflow.keras.optimizers.legacy import Adam     # ← incluye get_updates\n",
        "# Compilar agente\n",
        "dqn.compile(optimizer=Adam(learning_rate=5e-5), metrics=['mae'])"
      ]
    },
    {
      "cell_type": "code",
      "execution_count": null,
      "metadata": {
        "id": "SEmhFU4mYzh-"
      },
      "outputs": [],
      "source": [
        "####### Crear directorios  logs y checkpoints #######\n",
        "\n",
        "import os\n",
        "log_dir = os.path.join(drive_root, \"logs\")\n",
        "checkpoint_dir = os.path.join(drive_root, \"checkpoints\")\n",
        "os.makedirs(log_dir, exist_ok=True)\n",
        "os.makedirs(checkpoint_dir, exist_ok=True)\n",
        "\n",
        "# Función para restaurar pesos más adelante\n",
        "import re\n",
        "\n",
        "def load_latest_weights(agent, checkpoint_dir, prefix=\"dqn_noisy_weights_\"):\n",
        "    \"\"\"\n",
        "    Busca el checkpoint más reciente, carga los pesos y retorna info útil.\n",
        "\n",
        "    Parámetros:\n",
        "        agent: el agente DQN ya creado y compilado.\n",
        "        checkpoint_dir: carpeta con los archivos de pesos.\n",
        "        prefix: prefijo de los archivos de pesos.\n",
        "\n",
        "    Retorna:\n",
        "        (ruta_archivo, pasos_entrenados) o (None, 0) si no se encuentra nada.\n",
        "    \"\"\"\n",
        "    files = [f for f in os.listdir(checkpoint_dir) if f.endswith(\".h5\")]\n",
        "    pattern = re.compile(rf\"{re.escape(prefix)}(\\d+)\\.h5\")\n",
        "\n",
        "    candidates = []\n",
        "    for f in files:\n",
        "        match = pattern.match(f)\n",
        "        if match:\n",
        "            step = int(match.group(1))\n",
        "            candidates.append((step, f))\n",
        "\n",
        "    if not candidates:\n",
        "        print(\"⚠️ No se encontraron checkpoints en:\", checkpoint_dir)\n",
        "        return None, 0\n",
        "\n",
        "    # Escoger el de mayor número de pasos\n",
        "    latest_step, latest_file = max(candidates, key=lambda x: x[0])\n",
        "    latest_path = os.path.join(checkpoint_dir, latest_file)\n",
        "\n",
        "    print(f\"✅ Cargando pesos desde: {latest_path} (pasos entrenados: {latest_step})\")\n",
        "    agent.load_weights(latest_path)\n",
        "    return latest_path, latest_step\n"
      ]
    },
    {
      "cell_type": "code",
      "execution_count": null,
      "metadata": {
        "colab": {
          "base_uri": "https://localhost:8080/"
        },
        "id": "n4rsQm4_zc5J",
        "outputId": "3cc66350-96e1-437f-a5f6-e5d0a71cb071"
      },
      "outputs": [
        {
          "output_type": "stream",
          "name": "stdout",
          "text": [
            "✅ Cargando pesos desde: /content/gdrive/My Drive/MODELO 15/checkpoints/dqn_noisy_weights_300000.h5 (pasos entrenados: 300000)\n"
          ]
        }
      ],
      "source": [
        "# Cargar pesos anteriores si existen\n",
        "_, trained_steps = load_latest_weights(dqn, checkpoint_dir)\n",
        "\n",
        "# Definir pasos a entrenar\n",
        "steps_to_train = 100000\n",
        "total_steps = trained_steps + steps_to_train\n",
        "\n",
        "# Crear paths y callbacks dinámicos\n",
        "log_path = os.path.join(log_dir, f\"dqn_noisy_log_{trained_steps}_{total_steps}.json\")\n",
        "checkpoint_path = os.path.join(checkpoint_dir, f\"dqn_noisy_weights_{total_steps}.h5\")\n",
        "\n",
        "logger_callback = FileLogger(log_path, interval=100)\n",
        "checkpoint_callback = ModelIntervalCheckpoint(checkpoint_path, interval=10000)"
      ]
    },
    {
      "cell_type": "markdown",
      "metadata": {
        "id": "Qj8CoQ2mhISX"
      },
      "source": [
        "### Primera **Ejecución**"
      ]
    },
    {
      "cell_type": "code",
      "execution_count": null,
      "metadata": {
        "colab": {
          "base_uri": "https://localhost:8080/"
        },
        "id": "LLbFoBPFXGcV",
        "outputId": "b5521725-630b-46f7-b0de-b9c0d8ca3593"
      },
      "outputs": [
        {
          "output_type": "stream",
          "name": "stdout",
          "text": [
            "✅ Cargando pesos desde: /content/gdrive/My Drive/MODELO 15/checkpoints/dqn_noisy_weights_300000.h5 (pasos entrenados: 300000)\n",
            "Training for 100000 steps ...\n"
          ]
        },
        {
          "output_type": "stream",
          "name": "stderr",
          "text": [
            "/usr/local/lib/python3.11/dist-packages/keras/engine/training_v1.py:2359: UserWarning: `Model.state_updates` will be removed in a future version. This property should not be used in TensorFlow 2.0, as `updates` are applied automatically.\n",
            "  updates=self.state_updates,\n"
          ]
        },
        {
          "output_type": "stream",
          "name": "stdout",
          "text": [
            "   851/100000: episode: 1, duration: 22.121s, episode steps: 851, steps per second:  38, episode reward: 12.000, mean reward:  0.014 [ 0.000,  1.000], mean action: 3.141 [0.000, 5.000],  loss: --, mae: --, mean_q: --\n",
            "  1560/100000: episode: 2, duration: 17.543s, episode steps: 709, steps per second:  40, episode reward:  6.000, mean reward:  0.008 [ 0.000,  1.000], mean action: 3.185 [0.000, 5.000],  loss: --, mae: --, mean_q: --\n",
            "  2209/100000: episode: 3, duration: 17.059s, episode steps: 649, steps per second:  38, episode reward:  6.000, mean reward:  0.009 [ 0.000,  1.000], mean action: 3.163 [0.000, 5.000],  loss: --, mae: --, mean_q: --\n",
            "  3020/100000: episode: 4, duration: 20.015s, episode steps: 811, steps per second:  41, episode reward: 10.000, mean reward:  0.012 [ 0.000,  1.000], mean action: 3.200 [0.000, 5.000],  loss: --, mae: --, mean_q: --\n",
            "  3849/100000: episode: 5, duration: 21.986s, episode steps: 829, steps per second:  38, episode reward: 12.000, mean reward:  0.014 [ 0.000,  1.000], mean action: 3.174 [0.000, 5.000],  loss: --, mae: --, mean_q: --\n",
            "  4680/100000: episode: 6, duration: 21.343s, episode steps: 831, steps per second:  39, episode reward: 12.000, mean reward:  0.014 [ 0.000,  1.000], mean action: 3.041 [0.000, 5.000],  loss: --, mae: --, mean_q: --\n",
            "  5493/100000: episode: 7, duration: 20.808s, episode steps: 813, steps per second:  39, episode reward: 12.000, mean reward:  0.015 [ 0.000,  1.000], mean action: 3.205 [0.000, 5.000],  loss: --, mae: --, mean_q: --\n",
            "  6168/100000: episode: 8, duration: 16.972s, episode steps: 675, steps per second:  40, episode reward:  7.000, mean reward:  0.010 [ 0.000,  1.000], mean action: 3.181 [0.000, 5.000],  loss: --, mae: --, mean_q: --\n",
            "  6997/100000: episode: 9, duration: 21.321s, episode steps: 829, steps per second:  39, episode reward: 11.000, mean reward:  0.013 [ 0.000,  1.000], mean action: 3.037 [0.000, 5.000],  loss: --, mae: --, mean_q: --\n",
            "  7828/100000: episode: 10, duration: 25.545s, episode steps: 831, steps per second:  33, episode reward: 11.000, mean reward:  0.013 [ 0.000,  1.000], mean action: 3.226 [0.000, 5.000],  loss: --, mae: --, mean_q: --\n",
            "  8633/100000: episode: 11, duration: 20.861s, episode steps: 805, steps per second:  39, episode reward: 10.000, mean reward:  0.012 [ 0.000,  1.000], mean action: 3.170 [0.000, 5.000],  loss: --, mae: --, mean_q: --\n",
            "  9456/100000: episode: 12, duration: 21.672s, episode steps: 823, steps per second:  38, episode reward: 11.000, mean reward:  0.013 [ 0.000,  1.000], mean action: 3.158 [0.000, 5.000],  loss: --, mae: --, mean_q: --\n",
            " 10296/100000: episode: 13, duration: 20.897s, episode steps: 840, steps per second:  40, episode reward: 11.000, mean reward:  0.013 [ 0.000,  1.000], mean action: 3.267 [0.000, 5.000],  loss: --, mae: --, mean_q: --\n",
            " 11623/100000: episode: 14, duration: 33.973s, episode steps: 1327, steps per second:  39, episode reward: 19.000, mean reward:  0.014 [ 0.000,  1.000], mean action: 3.203 [0.000, 5.000],  loss: --, mae: --, mean_q: --\n",
            " 12586/100000: episode: 15, duration: 24.513s, episode steps: 963, steps per second:  39, episode reward: 16.000, mean reward:  0.017 [ 0.000,  1.000], mean action: 3.209 [0.000, 5.000],  loss: --, mae: --, mean_q: --\n",
            " 13442/100000: episode: 16, duration: 21.981s, episode steps: 856, steps per second:  39, episode reward: 12.000, mean reward:  0.014 [ 0.000,  1.000], mean action: 3.148 [0.000, 5.000],  loss: --, mae: --, mean_q: --\n",
            " 14289/100000: episode: 17, duration: 21.814s, episode steps: 847, steps per second:  39, episode reward: 12.000, mean reward:  0.014 [ 0.000,  1.000], mean action: 3.285 [0.000, 5.000],  loss: --, mae: --, mean_q: --\n",
            " 15146/100000: episode: 18, duration: 22.082s, episode steps: 857, steps per second:  39, episode reward: 12.000, mean reward:  0.014 [ 0.000,  1.000], mean action: 3.134 [0.000, 5.000],  loss: --, mae: --, mean_q: --\n",
            " 15832/100000: episode: 19, duration: 17.204s, episode steps: 686, steps per second:  40, episode reward:  6.000, mean reward:  0.009 [ 0.000,  1.000], mean action: 3.061 [0.000, 5.000],  loss: --, mae: --, mean_q: --\n",
            " 16662/100000: episode: 20, duration: 21.359s, episode steps: 830, steps per second:  39, episode reward: 12.000, mean reward:  0.014 [ 0.000,  1.000], mean action: 3.204 [0.000, 5.000],  loss: --, mae: --, mean_q: --\n",
            " 17451/100000: episode: 21, duration: 20.906s, episode steps: 789, steps per second:  38, episode reward:  9.000, mean reward:  0.011 [ 0.000,  1.000], mean action: 3.196 [0.000, 5.000],  loss: --, mae: --, mean_q: --\n",
            " 17871/100000: episode: 22, duration: 10.925s, episode steps: 420, steps per second:  38, episode reward:  3.000, mean reward:  0.007 [ 0.000,  1.000], mean action: 3.221 [0.000, 5.000],  loss: --, mae: --, mean_q: --\n",
            " 18666/100000: episode: 23, duration: 20.463s, episode steps: 795, steps per second:  39, episode reward: 10.000, mean reward:  0.013 [ 0.000,  1.000], mean action: 3.086 [0.000, 5.000],  loss: --, mae: --, mean_q: --\n",
            " 19482/100000: episode: 24, duration: 21.499s, episode steps: 816, steps per second:  38, episode reward:  9.000, mean reward:  0.011 [ 0.000,  1.000], mean action: 3.184 [0.000, 5.000],  loss: --, mae: --, mean_q: --\n",
            " 20329/100000: episode: 25, duration: 26.757s, episode steps: 847, steps per second:  32, episode reward: 12.000, mean reward:  0.014 [ 0.000,  1.000], mean action: 3.277 [0.000, 5.000],  loss: --, mae: --, mean_q: --\n",
            " 20736/100000: episode: 26, duration: 10.730s, episode steps: 407, steps per second:  38, episode reward:  4.000, mean reward:  0.010 [ 0.000,  1.000], mean action: 3.219 [0.000, 5.000],  loss: --, mae: --, mean_q: --\n",
            " 21689/100000: episode: 27, duration: 24.353s, episode steps: 953, steps per second:  39, episode reward: 14.000, mean reward:  0.015 [ 0.000,  1.000], mean action: 3.178 [0.000, 5.000],  loss: --, mae: --, mean_q: --\n",
            " 22543/100000: episode: 28, duration: 21.957s, episode steps: 854, steps per second:  39, episode reward: 12.000, mean reward:  0.014 [ 0.000,  1.000], mean action: 3.187 [0.000, 5.000],  loss: --, mae: --, mean_q: --\n",
            " 23356/100000: episode: 29, duration: 21.482s, episode steps: 813, steps per second:  38, episode reward: 10.000, mean reward:  0.012 [ 0.000,  1.000], mean action: 3.145 [0.000, 5.000],  loss: --, mae: --, mean_q: --\n",
            " 24135/100000: episode: 30, duration: 20.663s, episode steps: 779, steps per second:  38, episode reward: 10.000, mean reward:  0.013 [ 0.000,  1.000], mean action: 3.085 [0.000, 5.000],  loss: --, mae: --, mean_q: --\n",
            " 24783/100000: episode: 31, duration: 16.690s, episode steps: 648, steps per second:  39, episode reward:  6.000, mean reward:  0.009 [ 0.000,  1.000], mean action: 3.185 [0.000, 5.000],  loss: --, mae: --, mean_q: --\n",
            " 25625/100000: episode: 32, duration: 22.427s, episode steps: 842, steps per second:  38, episode reward: 13.000, mean reward:  0.015 [ 0.000,  1.000], mean action: 3.135 [0.000, 5.000],  loss: --, mae: --, mean_q: --\n",
            " 26413/100000: episode: 33, duration: 21.037s, episode steps: 788, steps per second:  37, episode reward: 10.000, mean reward:  0.013 [ 0.000,  1.000], mean action: 3.190 [0.000, 5.000],  loss: --, mae: --, mean_q: --\n",
            " 27830/100000: episode: 34, duration: 37.403s, episode steps: 1417, steps per second:  38, episode reward: 19.000, mean reward:  0.013 [ 0.000,  1.000], mean action: 3.198 [0.000, 5.000],  loss: --, mae: --, mean_q: --\n",
            " 28799/100000: episode: 35, duration: 25.227s, episode steps: 969, steps per second:  38, episode reward: 15.000, mean reward:  0.015 [ 0.000,  1.000], mean action: 3.124 [0.000, 5.000],  loss: --, mae: --, mean_q: --\n",
            " 29881/100000: episode: 36, duration: 27.936s, episode steps: 1082, steps per second:  39, episode reward: 20.000, mean reward:  0.018 [ 0.000,  1.000], mean action: 3.055 [0.000, 5.000],  loss: --, mae: --, mean_q: --\n",
            " 30528/100000: episode: 37, duration: 17.877s, episode steps: 647, steps per second:  36, episode reward:  6.000, mean reward:  0.009 [ 0.000,  1.000], mean action: 3.244 [0.000, 5.000],  loss: --, mae: --, mean_q: --\n",
            " 31493/100000: episode: 38, duration: 25.055s, episode steps: 965, steps per second:  39, episode reward: 17.000, mean reward:  0.018 [ 0.000,  1.000], mean action: 3.132 [0.000, 5.000],  loss: --, mae: --, mean_q: --\n",
            " 32273/100000: episode: 39, duration: 19.985s, episode steps: 780, steps per second:  39, episode reward: 10.000, mean reward:  0.013 [ 0.000,  1.000], mean action: 3.197 [0.000, 5.000],  loss: --, mae: --, mean_q: --\n",
            " 33272/100000: episode: 40, duration: 26.359s, episode steps: 999, steps per second:  38, episode reward: 16.000, mean reward:  0.016 [ 0.000,  1.000], mean action: 3.056 [0.000, 5.000],  loss: --, mae: --, mean_q: --\n",
            " 34060/100000: episode: 41, duration: 20.140s, episode steps: 788, steps per second:  39, episode reward:  8.000, mean reward:  0.010 [ 0.000,  1.000], mean action: 3.234 [0.000, 5.000],  loss: --, mae: --, mean_q: --\n",
            " 34716/100000: episode: 42, duration: 17.421s, episode steps: 656, steps per second:  38, episode reward:  6.000, mean reward:  0.009 [ 0.000,  1.000], mean action: 3.146 [0.000, 5.000],  loss: --, mae: --, mean_q: --\n",
            " 35542/100000: episode: 43, duration: 21.577s, episode steps: 826, steps per second:  38, episode reward: 12.000, mean reward:  0.015 [ 0.000,  1.000], mean action: 3.224 [0.000, 5.000],  loss: --, mae: --, mean_q: --\n",
            " 36395/100000: episode: 44, duration: 21.314s, episode steps: 853, steps per second:  40, episode reward: 12.000, mean reward:  0.014 [ 0.000,  1.000], mean action: 3.227 [0.000, 5.000],  loss: --, mae: --, mean_q: --\n",
            " 37253/100000: episode: 45, duration: 22.104s, episode steps: 858, steps per second:  39, episode reward: 11.000, mean reward:  0.013 [ 0.000,  1.000], mean action: 3.232 [0.000, 5.000],  loss: --, mae: --, mean_q: --\n",
            " 38071/100000: episode: 46, duration: 21.565s, episode steps: 818, steps per second:  38, episode reward: 10.000, mean reward:  0.012 [ 0.000,  1.000], mean action: 3.115 [0.000, 5.000],  loss: --, mae: --, mean_q: --\n",
            " 38894/100000: episode: 47, duration: 22.472s, episode steps: 823, steps per second:  37, episode reward: 12.000, mean reward:  0.015 [ 0.000,  1.000], mean action: 3.219 [0.000, 5.000],  loss: --, mae: --, mean_q: --\n",
            " 39769/100000: episode: 48, duration: 23.394s, episode steps: 875, steps per second:  37, episode reward: 12.000, mean reward:  0.014 [ 0.000,  1.000], mean action: 3.106 [0.000, 5.000],  loss: --, mae: --, mean_q: --\n",
            " 40405/100000: episode: 49, duration: 17.146s, episode steps: 636, steps per second:  37, episode reward:  6.000, mean reward:  0.009 [ 0.000,  1.000], mean action: 3.198 [0.000, 5.000],  loss: --, mae: --, mean_q: --\n",
            " 41068/100000: episode: 50, duration: 17.755s, episode steps: 663, steps per second:  37, episode reward:  7.000, mean reward:  0.011 [ 0.000,  1.000], mean action: 3.109 [0.000, 5.000],  loss: --, mae: --, mean_q: --\n",
            " 41852/100000: episode: 51, duration: 20.085s, episode steps: 784, steps per second:  39, episode reward: 11.000, mean reward:  0.014 [ 0.000,  1.000], mean action: 3.195 [0.000, 5.000],  loss: --, mae: --, mean_q: --\n",
            " 42674/100000: episode: 52, duration: 21.638s, episode steps: 822, steps per second:  38, episode reward: 10.000, mean reward:  0.012 [ 0.000,  1.000], mean action: 3.120 [0.000, 5.000],  loss: --, mae: --, mean_q: --\n",
            " 43477/100000: episode: 53, duration: 23.986s, episode steps: 803, steps per second:  33, episode reward: 11.000, mean reward:  0.014 [ 0.000,  1.000], mean action: 3.356 [0.000, 5.000],  loss: --, mae: --, mean_q: --\n",
            " 44441/100000: episode: 54, duration: 24.967s, episode steps: 964, steps per second:  39, episode reward: 16.000, mean reward:  0.017 [ 0.000,  1.000], mean action: 3.151 [0.000, 5.000],  loss: --, mae: --, mean_q: --\n",
            " 45447/100000: episode: 55, duration: 26.041s, episode steps: 1006, steps per second:  39, episode reward: 19.000, mean reward:  0.019 [ 0.000,  1.000], mean action: 3.093 [0.000, 5.000],  loss: --, mae: --, mean_q: --\n",
            " 46271/100000: episode: 56, duration: 21.566s, episode steps: 824, steps per second:  38, episode reward: 12.000, mean reward:  0.015 [ 0.000,  1.000], mean action: 3.131 [0.000, 5.000],  loss: --, mae: --, mean_q: --\n",
            " 47098/100000: episode: 57, duration: 21.567s, episode steps: 827, steps per second:  38, episode reward: 12.000, mean reward:  0.015 [ 0.000,  1.000], mean action: 3.179 [0.000, 5.000],  loss: --, mae: --, mean_q: --\n",
            " 47779/100000: episode: 58, duration: 17.784s, episode steps: 681, steps per second:  38, episode reward:  6.000, mean reward:  0.009 [ 0.000,  1.000], mean action: 3.169 [0.000, 5.000],  loss: --, mae: --, mean_q: --\n",
            " 48560/100000: episode: 59, duration: 20.379s, episode steps: 781, steps per second:  38, episode reward: 11.000, mean reward:  0.014 [ 0.000,  1.000], mean action: 3.083 [0.000, 5.000],  loss: --, mae: --, mean_q: --\n",
            " 49365/100000: episode: 60, duration: 21.476s, episode steps: 805, steps per second:  37, episode reward:  8.000, mean reward:  0.010 [ 0.000,  1.000], mean action: 3.123 [0.000, 5.000],  loss: --, mae: --, mean_q: --\n"
          ]
        },
        {
          "output_type": "stream",
          "name": "stderr",
          "text": [
            "/usr/local/lib/python3.11/dist-packages/keras/engine/training_v1.py:2359: UserWarning: `Model.state_updates` will be removed in a future version. This property should not be used in TensorFlow 2.0, as `updates` are applied automatically.\n",
            "  updates=self.state_updates,\n"
          ]
        },
        {
          "output_type": "stream",
          "name": "stdout",
          "text": [
            " 50177/100000: episode: 61, duration: 33.702s, episode steps: 812, steps per second:  24, episode reward:  9.000, mean reward:  0.011 [ 0.000,  1.000], mean action: 2.950 [0.000, 5.000],  loss: 0.007399, mae: 0.460153, mean_q: 0.554312\n",
            " 50729/100000: episode: 62, duration: 45.413s, episode steps: 552, steps per second:  12, episode reward:  5.000, mean reward:  0.009 [ 0.000,  1.000], mean action: 2.250 [0.000, 5.000],  loss: 0.008036, mae: 0.465000, mean_q: 0.560381\n",
            " 51475/100000: episode: 63, duration: 56.369s, episode steps: 746, steps per second:  13, episode reward: 17.000, mean reward:  0.023 [ 0.000,  1.000], mean action: 1.761 [0.000, 5.000],  loss: 0.005965, mae: 0.460746, mean_q: 0.556332\n",
            " 51913/100000: episode: 64, duration: 32.901s, episode steps: 438, steps per second:  13, episode reward:  3.000, mean reward:  0.007 [ 0.000,  1.000], mean action: 2.283 [0.000, 5.000],  loss: 0.006331, mae: 0.459741, mean_q: 0.555523\n",
            " 52318/100000: episode: 65, duration: 31.141s, episode steps: 405, steps per second:  13, episode reward:  4.000, mean reward:  0.010 [ 0.000,  1.000], mean action: 3.064 [0.000, 5.000],  loss: 0.006138, mae: 0.456715, mean_q: 0.550873\n",
            " 53142/100000: episode: 66, duration: 64.021s, episode steps: 824, steps per second:  13, episode reward: 10.000, mean reward:  0.012 [ 0.000,  1.000], mean action: 2.039 [0.000, 5.000],  loss: 0.008586, mae: 0.463719, mean_q: 0.557603\n",
            " 53580/100000: episode: 67, duration: 34.358s, episode steps: 438, steps per second:  13, episode reward:  6.000, mean reward:  0.014 [ 0.000,  1.000], mean action: 2.126 [0.000, 5.000],  loss: 0.008106, mae: 0.463448, mean_q: 0.557676\n",
            " 54265/100000: episode: 68, duration: 50.707s, episode steps: 685, steps per second:  14, episode reward:  7.000, mean reward:  0.010 [ 0.000,  1.000], mean action: 2.603 [0.000, 5.000],  loss: 0.007369, mae: 0.462682, mean_q: 0.556848\n",
            " 54877/100000: episode: 69, duration: 45.579s, episode steps: 612, steps per second:  13, episode reward: 15.000, mean reward:  0.025 [ 0.000,  1.000], mean action: 2.899 [0.000, 5.000],  loss: 0.009244, mae: 0.465747, mean_q: 0.559499\n",
            " 55564/100000: episode: 70, duration: 50.483s, episode steps: 687, steps per second:  14, episode reward: 14.000, mean reward:  0.020 [ 0.000,  1.000], mean action: 2.694 [0.000, 5.000],  loss: 0.008271, mae: 0.465637, mean_q: 0.559251\n",
            " 55924/100000: episode: 71, duration: 28.393s, episode steps: 360, steps per second:  13, episode reward:  3.000, mean reward:  0.008 [ 0.000,  1.000], mean action: 3.144 [0.000, 5.000],  loss: 0.006177, mae: 0.461455, mean_q: 0.556490\n",
            " 56585/100000: episode: 72, duration: 48.988s, episode steps: 661, steps per second:  13, episode reward: 10.000, mean reward:  0.015 [ 0.000,  1.000], mean action: 3.368 [0.000, 5.000],  loss: 0.007721, mae: 0.464220, mean_q: 0.558738\n",
            " 57393/100000: episode: 73, duration: 60.349s, episode steps: 808, steps per second:  13, episode reward: 13.000, mean reward:  0.016 [ 0.000,  1.000], mean action: 3.271 [0.000, 5.000],  loss: 0.007800, mae: 0.462335, mean_q: 0.559193\n",
            " 58238/100000: episode: 74, duration: 63.554s, episode steps: 845, steps per second:  13, episode reward: 12.000, mean reward:  0.014 [ 0.000,  1.000], mean action: 2.991 [0.000, 5.000],  loss: 0.006754, mae: 0.459577, mean_q: 0.554975\n",
            " 58591/100000: episode: 75, duration: 26.206s, episode steps: 353, steps per second:  13, episode reward:  3.000, mean reward:  0.008 [ 0.000,  1.000], mean action: 3.187 [0.000, 5.000],  loss: 0.006314, mae: 0.459511, mean_q: 0.554541\n",
            " 59422/100000: episode: 76, duration: 61.068s, episode steps: 831, steps per second:  14, episode reward: 12.000, mean reward:  0.014 [ 0.000,  1.000], mean action: 3.840 [0.000, 5.000],  loss: 0.007248, mae: 0.461112, mean_q: 0.555648\n",
            " 60208/100000: episode: 77, duration: 57.859s, episode steps: 786, steps per second:  14, episode reward:  8.000, mean reward:  0.010 [ 0.000,  1.000], mean action: 2.817 [0.000, 5.000],  loss: 0.007979, mae: 0.468777, mean_q: 0.564001\n",
            " 60918/100000: episode: 78, duration: 51.624s, episode steps: 710, steps per second:  14, episode reward: 13.000, mean reward:  0.018 [ 0.000,  1.000], mean action: 3.565 [0.000, 5.000],  loss: 0.007225, mae: 0.482037, mean_q: 0.583545\n",
            " 61668/100000: episode: 79, duration: 55.020s, episode steps: 750, steps per second:  14, episode reward: 17.000, mean reward:  0.023 [ 0.000,  1.000], mean action: 1.949 [0.000, 5.000],  loss: 0.008172, mae: 0.482050, mean_q: 0.579715\n",
            " 62782/100000: episode: 80, duration: 82.415s, episode steps: 1114, steps per second:  14, episode reward: 22.000, mean reward:  0.020 [ 0.000,  1.000], mean action: 2.391 [0.000, 5.000],  loss: 0.008143, mae: 0.481597, mean_q: 0.579640\n",
            " 63142/100000: episode: 81, duration: 26.507s, episode steps: 360, steps per second:  14, episode reward:  3.000, mean reward:  0.008 [ 0.000,  1.000], mean action: 2.331 [0.000, 5.000],  loss: 0.005938, mae: 0.472732, mean_q: 0.569213\n",
            " 63974/100000: episode: 82, duration: 60.601s, episode steps: 832, steps per second:  14, episode reward: 15.000, mean reward:  0.018 [ 0.000,  1.000], mean action: 2.688 [0.000, 5.000],  loss: 0.008271, mae: 0.483095, mean_q: 0.581183\n",
            " 64278/100000: episode: 83, duration: 22.141s, episode steps: 304, steps per second:  14, episode reward:  4.000, mean reward:  0.013 [ 0.000,  1.000], mean action: 3.385 [0.000, 5.000],  loss: 0.007074, mae: 0.477321, mean_q: 0.575300\n",
            " 64942/100000: episode: 84, duration: 48.416s, episode steps: 664, steps per second:  14, episode reward: 14.000, mean reward:  0.021 [ 0.000,  1.000], mean action: 3.306 [0.000, 5.000],  loss: 0.007554, mae: 0.482678, mean_q: 0.583815\n",
            " 65567/100000: episode: 85, duration: 45.875s, episode steps: 625, steps per second:  14, episode reward: 12.000, mean reward:  0.019 [ 0.000,  1.000], mean action: 2.645 [0.000, 5.000],  loss: 0.008819, mae: 0.481974, mean_q: 0.579738\n",
            " 66065/100000: episode: 86, duration: 36.696s, episode steps: 498, steps per second:  14, episode reward:  2.000, mean reward:  0.004 [ 0.000,  1.000], mean action: 2.303 [0.000, 5.000],  loss: 0.007763, mae: 0.483722, mean_q: 0.581981\n",
            " 66772/100000: episode: 87, duration: 51.450s, episode steps: 707, steps per second:  14, episode reward: 11.000, mean reward:  0.016 [ 0.000,  1.000], mean action: 2.242 [0.000, 5.000],  loss: 0.008465, mae: 0.483741, mean_q: 0.580827\n",
            " 67413/100000: episode: 88, duration: 46.983s, episode steps: 641, steps per second:  14, episode reward:  6.000, mean reward:  0.009 [ 0.000,  1.000], mean action: 2.579 [0.000, 5.000],  loss: 0.008207, mae: 0.481936, mean_q: 0.579806\n",
            " 68221/100000: episode: 89, duration: 58.822s, episode steps: 808, steps per second:  14, episode reward:  6.000, mean reward:  0.007 [ 0.000,  1.000], mean action: 2.868 [0.000, 5.000],  loss: 0.008219, mae: 0.482903, mean_q: 0.581371\n",
            " 69017/100000: episode: 90, duration: 58.012s, episode steps: 796, steps per second:  14, episode reward: 12.000, mean reward:  0.015 [ 0.000,  1.000], mean action: 2.466 [0.000, 5.000],  loss: 0.008935, mae: 0.486388, mean_q: 0.584658\n",
            " 69376/100000: episode: 91, duration: 26.092s, episode steps: 359, steps per second:  14, episode reward:  2.000, mean reward:  0.006 [ 0.000,  1.000], mean action: 2.279 [0.000, 5.000],  loss: 0.009155, mae: 0.483310, mean_q: 0.581311\n",
            " 69989/100000: episode: 92, duration: 44.901s, episode steps: 613, steps per second:  14, episode reward:  8.000, mean reward:  0.013 [ 0.000,  1.000], mean action: 2.883 [0.000, 5.000],  loss: 0.006884, mae: 0.477625, mean_q: 0.576258\n",
            " 70396/100000: episode: 93, duration: 29.971s, episode steps: 407, steps per second:  14, episode reward:  5.000, mean reward:  0.012 [ 0.000,  1.000], mean action: 3.206 [0.000, 5.000],  loss: 0.008707, mae: 0.504016, mean_q: 0.606789\n",
            " 71437/100000: episode: 94, duration: 76.341s, episode steps: 1041, steps per second:  14, episode reward: 23.000, mean reward:  0.022 [ 0.000,  1.000], mean action: 3.289 [0.000, 5.000],  loss: 0.008080, mae: 0.503763, mean_q: 0.607601\n",
            " 72097/100000: episode: 95, duration: 47.501s, episode steps: 660, steps per second:  14, episode reward: 11.000, mean reward:  0.017 [ 0.000,  1.000], mean action: 2.970 [0.000, 5.000],  loss: 0.008736, mae: 0.507203, mean_q: 0.609271\n",
            " 72912/100000: episode: 96, duration: 58.381s, episode steps: 815, steps per second:  14, episode reward: 11.000, mean reward:  0.013 [ 0.000,  1.000], mean action: 2.993 [0.000, 5.000],  loss: 0.007785, mae: 0.508230, mean_q: 0.612748\n",
            " 73595/100000: episode: 97, duration: 49.568s, episode steps: 683, steps per second:  14, episode reward: 14.000, mean reward:  0.020 [ 0.000,  1.000], mean action: 2.960 [0.000, 5.000],  loss: 0.008392, mae: 0.508976, mean_q: 0.612966\n",
            " 74570/100000: episode: 98, duration: 70.554s, episode steps: 975, steps per second:  14, episode reward: 12.000, mean reward:  0.012 [ 0.000,  1.000], mean action: 2.310 [0.000, 5.000],  loss: 0.007871, mae: 0.503967, mean_q: 0.606178\n",
            " 75246/100000: episode: 99, duration: 49.223s, episode steps: 676, steps per second:  14, episode reward:  7.000, mean reward:  0.010 [ 0.000,  1.000], mean action: 2.004 [0.000, 5.000],  loss: 0.008748, mae: 0.507867, mean_q: 0.610904\n",
            " 76061/100000: episode: 100, duration: 59.438s, episode steps: 815, steps per second:  14, episode reward: 11.000, mean reward:  0.013 [ 0.000,  1.000], mean action: 2.229 [0.000, 5.000],  loss: 0.008511, mae: 0.506706, mean_q: 0.608659\n",
            " 76650/100000: episode: 101, duration: 42.605s, episode steps: 589, steps per second:  14, episode reward: 10.000, mean reward:  0.017 [ 0.000,  1.000], mean action: 1.883 [0.000, 5.000],  loss: 0.008651, mae: 0.507921, mean_q: 0.610554\n",
            " 78179/100000: episode: 102, duration: 112.237s, episode steps: 1529, steps per second:  14, episode reward: 22.000, mean reward:  0.014 [ 0.000,  1.000], mean action: 2.758 [0.000, 5.000],  loss: 0.008395, mae: 0.507473, mean_q: 0.611172\n",
            " 78806/100000: episode: 103, duration: 45.250s, episode steps: 627, steps per second:  14, episode reward:  7.000, mean reward:  0.011 [ 0.000,  1.000], mean action: 2.761 [0.000, 5.000],  loss: 0.009465, mae: 0.509354, mean_q: 0.613598\n",
            " 79444/100000: episode: 104, duration: 46.637s, episode steps: 638, steps per second:  14, episode reward: 12.000, mean reward:  0.019 [ 0.000,  1.000], mean action: 2.779 [0.000, 5.000],  loss: 0.007163, mae: 0.501231, mean_q: 0.603824\n",
            " 80225/100000: episode: 105, duration: 58.396s, episode steps: 781, steps per second:  13, episode reward: 11.000, mean reward:  0.014 [ 0.000,  1.000], mean action: 3.227 [0.000, 5.000],  loss: 0.007688, mae: 0.509175, mean_q: 0.612240\n",
            " 81145/100000: episode: 106, duration: 68.124s, episode steps: 920, steps per second:  14, episode reward: 14.000, mean reward:  0.015 [ 0.000,  1.000], mean action: 3.263 [0.000, 5.000],  loss: 0.008074, mae: 0.522873, mean_q: 0.629496\n",
            " 81754/100000: episode: 107, duration: 46.365s, episode steps: 609, steps per second:  13, episode reward: 13.000, mean reward:  0.021 [ 0.000,  1.000], mean action: 2.547 [0.000, 5.000],  loss: 0.007281, mae: 0.523758, mean_q: 0.629910\n",
            " 82350/100000: episode: 108, duration: 44.768s, episode steps: 596, steps per second:  13, episode reward:  6.000, mean reward:  0.010 [ 0.000,  1.000], mean action: 3.275 [0.000, 5.000],  loss: 0.008094, mae: 0.524369, mean_q: 0.631343\n",
            " 83130/100000: episode: 109, duration: 56.959s, episode steps: 780, steps per second:  14, episode reward:  9.000, mean reward:  0.012 [ 0.000,  1.000], mean action: 2.424 [0.000, 5.000],  loss: 0.007636, mae: 0.518362, mean_q: 0.623375\n",
            " 83729/100000: episode: 110, duration: 44.194s, episode steps: 599, steps per second:  14, episode reward:  6.000, mean reward:  0.010 [ 0.000,  1.000], mean action: 2.840 [0.000, 5.000],  loss: 0.007349, mae: 0.520772, mean_q: 0.625604\n",
            " 84664/100000: episode: 111, duration: 68.724s, episode steps: 935, steps per second:  14, episode reward: 15.000, mean reward:  0.016 [ 0.000,  1.000], mean action: 2.988 [0.000, 5.000],  loss: 0.007092, mae: 0.520144, mean_q: 0.626172\n",
            " 85645/100000: episode: 112, duration: 72.784s, episode steps: 981, steps per second:  13, episode reward: 16.000, mean reward:  0.016 [ 0.000,  1.000], mean action: 3.131 [0.000, 5.000],  loss: 0.009479, mae: 0.524777, mean_q: 0.631106\n",
            " 86438/100000: episode: 113, duration: 58.921s, episode steps: 793, steps per second:  13, episode reward: 16.000, mean reward:  0.020 [ 0.000,  1.000], mean action: 3.296 [0.000, 5.000],  loss: 0.008696, mae: 0.523252, mean_q: 0.629907\n",
            " 87261/100000: episode: 114, duration: 60.783s, episode steps: 823, steps per second:  14, episode reward: 11.000, mean reward:  0.013 [ 0.000,  1.000], mean action: 2.751 [0.000, 5.000],  loss: 0.008459, mae: 0.522917, mean_q: 0.627985\n",
            " 87887/100000: episode: 115, duration: 46.406s, episode steps: 626, steps per second:  13, episode reward: 11.000, mean reward:  0.018 [ 0.000,  1.000], mean action: 2.879 [0.000, 5.000],  loss: 0.007716, mae: 0.516758, mean_q: 0.621548\n",
            " 88587/100000: episode: 116, duration: 52.016s, episode steps: 700, steps per second:  13, episode reward: 10.000, mean reward:  0.014 [ 0.000,  1.000], mean action: 2.189 [0.000, 5.000],  loss: 0.007738, mae: 0.524863, mean_q: 0.630494\n",
            " 89420/100000: episode: 117, duration: 61.690s, episode steps: 833, steps per second:  14, episode reward: 11.000, mean reward:  0.013 [ 0.000,  1.000], mean action: 1.609 [0.000, 5.000],  loss: 0.008836, mae: 0.526285, mean_q: 0.634098\n",
            " 90140/100000: episode: 118, duration: 54.424s, episode steps: 720, steps per second:  13, episode reward: 15.000, mean reward:  0.021 [ 0.000,  1.000], mean action: 2.542 [0.000, 5.000],  loss: 0.007870, mae: 0.525974, mean_q: 0.632872\n",
            " 90808/100000: episode: 119, duration: 49.770s, episode steps: 668, steps per second:  13, episode reward: 15.000, mean reward:  0.022 [ 0.000,  1.000], mean action: 2.165 [0.000, 5.000],  loss: 0.007579, mae: 0.534274, mean_q: 0.642746\n",
            " 91475/100000: episode: 120, duration: 49.483s, episode steps: 667, steps per second:  13, episode reward: 14.000, mean reward:  0.021 [ 0.000,  1.000], mean action: 2.472 [0.000, 5.000],  loss: 0.008305, mae: 0.538922, mean_q: 0.648481\n",
            " 91876/100000: episode: 121, duration: 30.067s, episode steps: 401, steps per second:  13, episode reward:  3.000, mean reward:  0.007 [ 0.000,  1.000], mean action: 2.805 [0.000, 5.000],  loss: 0.007044, mae: 0.539186, mean_q: 0.650716\n",
            " 92987/100000: episode: 122, duration: 82.620s, episode steps: 1111, steps per second:  13, episode reward: 17.000, mean reward:  0.015 [ 0.000,  1.000], mean action: 2.132 [0.000, 5.000],  loss: 0.008114, mae: 0.537613, mean_q: 0.647240\n",
            " 93770/100000: episode: 123, duration: 57.403s, episode steps: 783, steps per second:  14, episode reward: 12.000, mean reward:  0.015 [ 0.000,  1.000], mean action: 2.078 [0.000, 5.000],  loss: 0.007197, mae: 0.537232, mean_q: 0.646692\n",
            " 94560/100000: episode: 124, duration: 58.592s, episode steps: 790, steps per second:  13, episode reward:  9.000, mean reward:  0.011 [ 0.000,  1.000], mean action: 2.742 [0.000, 5.000],  loss: 0.007573, mae: 0.538101, mean_q: 0.647398\n",
            " 95508/100000: episode: 125, duration: 70.498s, episode steps: 948, steps per second:  13, episode reward: 20.000, mean reward:  0.021 [ 0.000,  1.000], mean action: 3.209 [0.000, 5.000],  loss: 0.007908, mae: 0.534820, mean_q: 0.643169\n",
            " 96294/100000: episode: 126, duration: 58.942s, episode steps: 786, steps per second:  13, episode reward: 10.000, mean reward:  0.013 [ 0.000,  1.000], mean action: 2.812 [0.000, 5.000],  loss: 0.008493, mae: 0.540231, mean_q: 0.649258\n",
            " 96662/100000: episode: 127, duration: 28.424s, episode steps: 368, steps per second:  13, episode reward:  3.000, mean reward:  0.008 [ 0.000,  1.000], mean action: 3.076 [0.000, 5.000],  loss: 0.008454, mae: 0.536243, mean_q: 0.643381\n",
            " 97051/100000: episode: 128, duration: 29.562s, episode steps: 389, steps per second:  13, episode reward:  6.000, mean reward:  0.015 [ 0.000,  1.000], mean action: 2.116 [0.000, 5.000],  loss: 0.008672, mae: 0.537992, mean_q: 0.645968\n",
            " 97708/100000: episode: 129, duration: 49.495s, episode steps: 657, steps per second:  13, episode reward: 10.000, mean reward:  0.015 [ 0.000,  1.000], mean action: 2.067 [0.000, 5.000],  loss: 0.008054, mae: 0.536950, mean_q: 0.645146\n",
            " 98378/100000: episode: 130, duration: 49.870s, episode steps: 670, steps per second:  13, episode reward:  7.000, mean reward:  0.010 [ 0.000,  1.000], mean action: 1.975 [0.000, 5.000],  loss: 0.007519, mae: 0.533852, mean_q: 0.642558\n",
            " 99014/100000: episode: 131, duration: 47.628s, episode steps: 636, steps per second:  13, episode reward: 10.000, mean reward:  0.016 [ 0.000,  1.000], mean action: 2.429 [0.000, 5.000],  loss: 0.006727, mae: 0.533403, mean_q: 0.641975\n",
            " 99357/100000: episode: 132, duration: 25.580s, episode steps: 343, steps per second:  13, episode reward:  2.000, mean reward:  0.006 [ 0.000,  1.000], mean action: 2.306 [0.000, 5.000],  loss: 0.007119, mae: 0.527415, mean_q: 0.635613\n",
            "done, took 5020.847 seconds\n"
          ]
        }
      ],
      "source": [
        "# Cargar último checkpoint\n",
        "latest_path, trained_steps = load_latest_weights(dqn, checkpoint_dir)\n",
        "\n",
        "# Entrenar agente\n",
        "dqn.fit(env, nb_steps=100000, visualize=False, verbose=2,\n",
        "        callbacks=[checkpoint_callback, logger_callback])\n",
        "\n",
        "# Guardar pesos finales en formato .h5 (compatible con load_weights)\n",
        "dqn.save_weights(os.path.join(checkpoint_dir, f\"dqn_noisy_weights_{total_steps}.h5\"), overwrite=True)\n",
        "\n",
        "# GUARDAR LA MEMORIA DE EXPERIENCIA\n",
        "import pickle\n",
        "with open('memory_noisy.pkl', 'wb') as f:\n",
        "    pickle.dump(memory, f)"
      ]
    },
    {
      "cell_type": "code",
      "execution_count": null,
      "metadata": {
        "id": "hcqrLtRxi23X",
        "colab": {
          "base_uri": "https://localhost:8080/"
        },
        "outputId": "15e8bbc4-d9e2-41ec-af19-415c2fb28cc7"
      },
      "outputs": [
        {
          "output_type": "stream",
          "name": "stdout",
          "text": [
            "Esperando 60 segundos...\n",
            "¡Tiempo de espera terminado!\n"
          ]
        }
      ],
      "source": [
        "import time\n",
        "\n",
        "print(\"Esperando 60 segundos...\")\n",
        "time.sleep(60)\n",
        "print(\"¡Tiempo de espera terminado!\")"
      ]
    },
    {
      "cell_type": "code",
      "execution_count": null,
      "metadata": {
        "id": "fuVSBuiyi56X",
        "colab": {
          "base_uri": "https://localhost:8080/"
        },
        "outputId": "37d5378b-f677-4f50-c82a-e8429e4411a7"
      },
      "outputs": [
        {
          "output_type": "stream",
          "name": "stdout",
          "text": [
            "✅ Cargando pesos desde: /content/gdrive/My Drive/MODELO 15/checkpoints/dqn_noisy_weights_400000.h5 (pasos entrenados: 400000)\n",
            "Testing for 10 episodes ...\n",
            "Episode 1: reward: 5.000, steps: 529\n",
            "Episode 2: reward: 15.000, steps: 989\n",
            "Episode 3: reward: 12.000, steps: 1107\n",
            "Episode 4: reward: 5.000, steps: 345\n",
            "Episode 5: reward: 11.000, steps: 628\n",
            "Episode 6: reward: 18.000, steps: 979\n",
            "Episode 7: reward: 9.000, steps: 625\n",
            "Episode 8: reward: 5.000, steps: 428\n",
            "Episode 9: reward: 7.000, steps: 458\n",
            "Episode 10: reward: 23.000, steps: 1056\n"
          ]
        }
      ],
      "source": [
        "# Testear desde último checkpoint\n",
        "latest_path, trained_steps = load_latest_weights(dqn, checkpoint_dir)\n",
        "if latest_path:\n",
        "    dqn.test(env, nb_episodes=10, visualize=False)"
      ]
    },
    {
      "cell_type": "markdown",
      "metadata": {
        "id": "CMKpo4cgDXND"
      },
      "source": [
        "### Parte 2"
      ]
    },
    {
      "cell_type": "code",
      "execution_count": null,
      "metadata": {
        "id": "8_fQUrYHDVG2",
        "colab": {
          "base_uri": "https://localhost:8080/"
        },
        "outputId": "3e645521-21f0-46d7-d81f-b1e6d735e068"
      },
      "outputs": [
        {
          "output_type": "stream",
          "name": "stdout",
          "text": [
            "✅ Cargando pesos desde: /content/gdrive/My Drive/MODELO 15/checkpoints/dqn_noisy_weights_400000.h5 (pasos entrenados: 400000)\n",
            "Training for 100000 steps ...\n",
            "   523/100000: episode: 1, duration: 13.380s, episode steps: 523, steps per second:  39, episode reward: 10.000, mean reward:  0.019 [ 0.000,  1.000], mean action: 1.996 [0.000, 5.000],  loss: --, mae: --, mean_q: --\n",
            "  1179/100000: episode: 2, duration: 16.643s, episode steps: 656, steps per second:  39, episode reward:  7.000, mean reward:  0.011 [ 0.000,  1.000], mean action: 2.290 [0.000, 5.000],  loss: --, mae: --, mean_q: --\n",
            "  2171/100000: episode: 3, duration: 26.349s, episode steps: 992, steps per second:  38, episode reward: 21.000, mean reward:  0.021 [ 0.000,  1.000], mean action: 2.369 [0.000, 5.000],  loss: --, mae: --, mean_q: --\n",
            "  2659/100000: episode: 4, duration: 12.514s, episode steps: 488, steps per second:  39, episode reward:  6.000, mean reward:  0.012 [ 0.000,  1.000], mean action: 2.158 [0.000, 5.000],  loss: --, mae: --, mean_q: --\n",
            "  3154/100000: episode: 5, duration: 12.653s, episode steps: 495, steps per second:  39, episode reward:  7.000, mean reward:  0.014 [ 0.000,  1.000], mean action: 2.374 [0.000, 5.000],  loss: --, mae: --, mean_q: --\n",
            "  4013/100000: episode: 6, duration: 22.109s, episode steps: 859, steps per second:  39, episode reward: 14.000, mean reward:  0.016 [ 0.000,  1.000], mean action: 1.951 [0.000, 5.000],  loss: --, mae: --, mean_q: --\n",
            "  4902/100000: episode: 7, duration: 22.149s, episode steps: 889, steps per second:  40, episode reward: 14.000, mean reward:  0.016 [ 0.000,  1.000], mean action: 2.317 [0.000, 5.000],  loss: --, mae: --, mean_q: --\n",
            "  5783/100000: episode: 8, duration: 22.664s, episode steps: 881, steps per second:  39, episode reward: 16.000, mean reward:  0.018 [ 0.000,  1.000], mean action: 2.200 [0.000, 5.000],  loss: --, mae: --, mean_q: --\n",
            "  6325/100000: episode: 9, duration: 15.444s, episode steps: 542, steps per second:  35, episode reward:  8.000, mean reward:  0.015 [ 0.000,  1.000], mean action: 2.096 [0.000, 5.000],  loss: --, mae: --, mean_q: --\n",
            "  7303/100000: episode: 10, duration: 25.022s, episode steps: 978, steps per second:  39, episode reward: 22.000, mean reward:  0.022 [ 0.000,  1.000], mean action: 2.307 [0.000, 5.000],  loss: --, mae: --, mean_q: --\n",
            "  7967/100000: episode: 11, duration: 16.726s, episode steps: 664, steps per second:  40, episode reward:  8.000, mean reward:  0.012 [ 0.000,  1.000], mean action: 2.053 [0.000, 5.000],  loss: --, mae: --, mean_q: --\n",
            "  8626/100000: episode: 12, duration: 17.331s, episode steps: 659, steps per second:  38, episode reward: 10.000, mean reward:  0.015 [ 0.000,  1.000], mean action: 2.167 [0.000, 5.000],  loss: --, mae: --, mean_q: --\n",
            "  9032/100000: episode: 13, duration: 9.918s, episode steps: 406, steps per second:  41, episode reward:  8.000, mean reward:  0.020 [ 0.000,  1.000], mean action: 1.975 [0.000, 5.000],  loss: --, mae: --, mean_q: --\n",
            "  9959/100000: episode: 14, duration: 24.037s, episode steps: 927, steps per second:  39, episode reward: 18.000, mean reward:  0.019 [ 0.000,  1.000], mean action: 2.354 [0.000, 5.000],  loss: --, mae: --, mean_q: --\n",
            " 10777/100000: episode: 15, duration: 21.444s, episode steps: 818, steps per second:  38, episode reward: 17.000, mean reward:  0.021 [ 0.000,  1.000], mean action: 2.037 [0.000, 5.000],  loss: --, mae: --, mean_q: --\n",
            " 11389/100000: episode: 16, duration: 20.221s, episode steps: 612, steps per second:  30, episode reward:  9.000, mean reward:  0.015 [ 0.000,  1.000], mean action: 2.255 [0.000, 5.000],  loss: --, mae: --, mean_q: --\n",
            " 12035/100000: episode: 17, duration: 17.135s, episode steps: 646, steps per second:  38, episode reward: 10.000, mean reward:  0.015 [ 0.000,  1.000], mean action: 1.889 [0.000, 5.000],  loss: --, mae: --, mean_q: --\n",
            " 12832/100000: episode: 18, duration: 20.740s, episode steps: 797, steps per second:  38, episode reward: 11.000, mean reward:  0.014 [ 0.000,  1.000], mean action: 2.143 [0.000, 5.000],  loss: --, mae: --, mean_q: --\n",
            " 13339/100000: episode: 19, duration: 12.958s, episode steps: 507, steps per second:  39, episode reward:  8.000, mean reward:  0.016 [ 0.000,  1.000], mean action: 2.097 [0.000, 5.000],  loss: --, mae: --, mean_q: --\n",
            " 14114/100000: episode: 20, duration: 19.645s, episode steps: 775, steps per second:  39, episode reward: 17.000, mean reward:  0.022 [ 0.000,  1.000], mean action: 2.255 [0.000, 5.000],  loss: --, mae: --, mean_q: --\n",
            " 14593/100000: episode: 21, duration: 12.570s, episode steps: 479, steps per second:  38, episode reward:  5.000, mean reward:  0.010 [ 0.000,  1.000], mean action: 2.190 [0.000, 5.000],  loss: --, mae: --, mean_q: --\n",
            " 15233/100000: episode: 22, duration: 16.530s, episode steps: 640, steps per second:  39, episode reward: 13.000, mean reward:  0.020 [ 0.000,  1.000], mean action: 2.161 [0.000, 5.000],  loss: --, mae: --, mean_q: --\n",
            " 15811/100000: episode: 23, duration: 14.575s, episode steps: 578, steps per second:  40, episode reward:  6.000, mean reward:  0.010 [ 0.000,  1.000], mean action: 2.100 [0.000, 5.000],  loss: --, mae: --, mean_q: --\n",
            " 16788/100000: episode: 24, duration: 24.863s, episode steps: 977, steps per second:  39, episode reward: 12.000, mean reward:  0.012 [ 0.000,  1.000], mean action: 1.984 [0.000, 5.000],  loss: --, mae: --, mean_q: --\n",
            " 17504/100000: episode: 25, duration: 18.660s, episode steps: 716, steps per second:  38, episode reward: 10.000, mean reward:  0.014 [ 0.000,  1.000], mean action: 1.992 [0.000, 5.000],  loss: --, mae: --, mean_q: --\n",
            " 18202/100000: episode: 26, duration: 17.610s, episode steps: 698, steps per second:  40, episode reward:  8.000, mean reward:  0.011 [ 0.000,  1.000], mean action: 2.023 [0.000, 5.000],  loss: --, mae: --, mean_q: --\n",
            " 18883/100000: episode: 27, duration: 18.037s, episode steps: 681, steps per second:  38, episode reward: 12.000, mean reward:  0.018 [ 0.000,  1.000], mean action: 2.070 [0.000, 5.000],  loss: --, mae: --, mean_q: --\n",
            " 19445/100000: episode: 28, duration: 14.416s, episode steps: 562, steps per second:  39, episode reward: 11.000, mean reward:  0.020 [ 0.000,  1.000], mean action: 2.093 [0.000, 5.000],  loss: --, mae: --, mean_q: --\n",
            " 20177/100000: episode: 29, duration: 19.619s, episode steps: 732, steps per second:  37, episode reward: 11.000, mean reward:  0.015 [ 0.000,  1.000], mean action: 2.003 [0.000, 5.000],  loss: --, mae: --, mean_q: --\n",
            " 20568/100000: episode: 30, duration: 9.668s, episode steps: 391, steps per second:  40, episode reward:  6.000, mean reward:  0.015 [ 0.000,  1.000], mean action: 2.465 [0.000, 5.000],  loss: --, mae: --, mean_q: --\n",
            " 20946/100000: episode: 31, duration: 9.833s, episode steps: 378, steps per second:  38, episode reward:  5.000, mean reward:  0.013 [ 0.000,  1.000], mean action: 2.418 [0.000, 5.000],  loss: --, mae: --, mean_q: --\n",
            " 21491/100000: episode: 32, duration: 13.820s, episode steps: 545, steps per second:  39, episode reward:  9.000, mean reward:  0.017 [ 0.000,  1.000], mean action: 2.294 [0.000, 5.000],  loss: --, mae: --, mean_q: --\n",
            " 22144/100000: episode: 33, duration: 17.270s, episode steps: 653, steps per second:  38, episode reward:  9.000, mean reward:  0.014 [ 0.000,  1.000], mean action: 2.263 [0.000, 5.000],  loss: --, mae: --, mean_q: --\n",
            " 23106/100000: episode: 34, duration: 24.665s, episode steps: 962, steps per second:  39, episode reward: 16.000, mean reward:  0.017 [ 0.000,  1.000], mean action: 2.025 [0.000, 5.000],  loss: --, mae: --, mean_q: --\n",
            " 23806/100000: episode: 35, duration: 17.528s, episode steps: 700, steps per second:  40, episode reward: 10.000, mean reward:  0.014 [ 0.000,  1.000], mean action: 1.930 [0.000, 5.000],  loss: --, mae: --, mean_q: --\n",
            " 24890/100000: episode: 36, duration: 28.517s, episode steps: 1084, steps per second:  38, episode reward: 19.000, mean reward:  0.018 [ 0.000,  1.000], mean action: 2.203 [0.000, 5.000],  loss: --, mae: --, mean_q: --\n",
            " 25468/100000: episode: 37, duration: 14.801s, episode steps: 578, steps per second:  39, episode reward:  5.000, mean reward:  0.009 [ 0.000,  1.000], mean action: 1.924 [0.000, 5.000],  loss: --, mae: --, mean_q: --\n",
            " 26124/100000: episode: 38, duration: 16.605s, episode steps: 656, steps per second:  40, episode reward: 11.000, mean reward:  0.017 [ 0.000,  1.000], mean action: 2.284 [0.000, 5.000],  loss: --, mae: --, mean_q: --\n",
            " 26600/100000: episode: 39, duration: 12.216s, episode steps: 476, steps per second:  39, episode reward:  6.000, mean reward:  0.013 [ 0.000,  1.000], mean action: 2.139 [0.000, 5.000],  loss: --, mae: --, mean_q: --\n",
            " 27081/100000: episode: 40, duration: 12.343s, episode steps: 481, steps per second:  39, episode reward:  8.000, mean reward:  0.017 [ 0.000,  1.000], mean action: 2.218 [0.000, 5.000],  loss: --, mae: --, mean_q: --\n",
            " 27621/100000: episode: 41, duration: 14.504s, episode steps: 540, steps per second:  37, episode reward:  6.000, mean reward:  0.011 [ 0.000,  1.000], mean action: 2.133 [0.000, 5.000],  loss: --, mae: --, mean_q: --\n",
            " 27979/100000: episode: 42, duration: 8.660s, episode steps: 358, steps per second:  41, episode reward:  7.000, mean reward:  0.020 [ 0.000,  1.000], mean action: 2.101 [0.000, 5.000],  loss: --, mae: --, mean_q: --\n",
            " 28631/100000: episode: 43, duration: 17.205s, episode steps: 652, steps per second:  38, episode reward: 13.000, mean reward:  0.020 [ 0.000,  1.000], mean action: 2.324 [0.000, 5.000],  loss: --, mae: --, mean_q: --\n",
            " 29316/100000: episode: 44, duration: 17.172s, episode steps: 685, steps per second:  40, episode reward: 11.000, mean reward:  0.016 [ 0.000,  1.000], mean action: 1.985 [0.000, 5.000],  loss: --, mae: --, mean_q: --\n",
            " 29839/100000: episode: 45, duration: 13.318s, episode steps: 523, steps per second:  39, episode reward: 11.000, mean reward:  0.021 [ 0.000,  1.000], mean action: 2.201 [0.000, 5.000],  loss: --, mae: --, mean_q: --\n",
            " 30783/100000: episode: 46, duration: 24.873s, episode steps: 944, steps per second:  38, episode reward: 17.000, mean reward:  0.018 [ 0.000,  1.000], mean action: 2.072 [0.000, 5.000],  loss: --, mae: --, mean_q: --\n",
            " 31436/100000: episode: 47, duration: 17.147s, episode steps: 653, steps per second:  38, episode reward: 12.000, mean reward:  0.018 [ 0.000,  1.000], mean action: 2.221 [0.000, 5.000],  loss: --, mae: --, mean_q: --\n",
            " 31781/100000: episode: 48, duration: 8.635s, episode steps: 345, steps per second:  40, episode reward:  7.000, mean reward:  0.020 [ 0.000,  1.000], mean action: 2.267 [0.000, 5.000],  loss: --, mae: --, mean_q: --\n",
            " 32309/100000: episode: 49, duration: 13.846s, episode steps: 528, steps per second:  38, episode reward:  8.000, mean reward:  0.015 [ 0.000,  1.000], mean action: 2.034 [0.000, 5.000],  loss: --, mae: --, mean_q: --\n",
            " 33052/100000: episode: 50, duration: 18.619s, episode steps: 743, steps per second:  40, episode reward: 15.000, mean reward:  0.020 [ 0.000,  1.000], mean action: 2.445 [0.000, 5.000],  loss: --, mae: --, mean_q: --\n",
            " 33851/100000: episode: 51, duration: 20.659s, episode steps: 799, steps per second:  39, episode reward: 14.000, mean reward:  0.018 [ 0.000,  1.000], mean action: 2.076 [0.000, 5.000],  loss: --, mae: --, mean_q: --\n",
            " 34354/100000: episode: 52, duration: 12.848s, episode steps: 503, steps per second:  39, episode reward:  5.000, mean reward:  0.010 [ 0.000,  1.000], mean action: 2.374 [0.000, 5.000],  loss: --, mae: --, mean_q: --\n",
            " 34965/100000: episode: 53, duration: 19.707s, episode steps: 611, steps per second:  31, episode reward:  8.000, mean reward:  0.013 [ 0.000,  1.000], mean action: 2.151 [0.000, 5.000],  loss: --, mae: --, mean_q: --\n",
            " 35602/100000: episode: 54, duration: 16.219s, episode steps: 637, steps per second:  39, episode reward: 10.000, mean reward:  0.016 [ 0.000,  1.000], mean action: 2.052 [0.000, 5.000],  loss: --, mae: --, mean_q: --\n",
            " 36200/100000: episode: 55, duration: 15.224s, episode steps: 598, steps per second:  39, episode reward:  7.000, mean reward:  0.012 [ 0.000,  1.000], mean action: 1.923 [0.000, 5.000],  loss: --, mae: --, mean_q: --\n",
            " 36842/100000: episode: 56, duration: 17.050s, episode steps: 642, steps per second:  38, episode reward: 11.000, mean reward:  0.017 [ 0.000,  1.000], mean action: 2.461 [0.000, 5.000],  loss: --, mae: --, mean_q: --\n",
            " 37341/100000: episode: 57, duration: 12.822s, episode steps: 499, steps per second:  39, episode reward:  5.000, mean reward:  0.010 [ 0.000,  1.000], mean action: 2.257 [0.000, 5.000],  loss: --, mae: --, mean_q: --\n",
            " 37879/100000: episode: 58, duration: 13.732s, episode steps: 538, steps per second:  39, episode reward:  5.000, mean reward:  0.009 [ 0.000,  1.000], mean action: 2.225 [0.000, 5.000],  loss: --, mae: --, mean_q: --\n",
            " 39082/100000: episode: 59, duration: 30.297s, episode steps: 1203, steps per second:  40, episode reward: 15.000, mean reward:  0.012 [ 0.000,  1.000], mean action: 2.038 [0.000, 5.000],  loss: --, mae: --, mean_q: --\n",
            " 39468/100000: episode: 60, duration: 10.070s, episode steps: 386, steps per second:  38, episode reward:  5.000, mean reward:  0.013 [ 0.000,  1.000], mean action: 2.290 [0.000, 5.000],  loss: --, mae: --, mean_q: --\n",
            " 40329/100000: episode: 61, duration: 22.811s, episode steps: 861, steps per second:  38, episode reward: 17.000, mean reward:  0.020 [ 0.000,  1.000], mean action: 2.114 [0.000, 5.000],  loss: --, mae: --, mean_q: --\n",
            " 41144/100000: episode: 62, duration: 21.125s, episode steps: 815, steps per second:  39, episode reward: 15.000, mean reward:  0.018 [ 0.000,  1.000], mean action: 2.043 [0.000, 5.000],  loss: --, mae: --, mean_q: --\n",
            " 41741/100000: episode: 63, duration: 15.088s, episode steps: 597, steps per second:  40, episode reward:  9.000, mean reward:  0.015 [ 0.000,  1.000], mean action: 2.422 [0.000, 5.000],  loss: --, mae: --, mean_q: --\n",
            " 42339/100000: episode: 64, duration: 15.097s, episode steps: 598, steps per second:  40, episode reward:  8.000, mean reward:  0.013 [ 0.000,  1.000], mean action: 1.970 [0.000, 5.000],  loss: --, mae: --, mean_q: --\n",
            " 42983/100000: episode: 65, duration: 17.110s, episode steps: 644, steps per second:  38, episode reward: 11.000, mean reward:  0.017 [ 0.000,  1.000], mean action: 2.216 [0.000, 5.000],  loss: --, mae: --, mean_q: --\n",
            " 43935/100000: episode: 66, duration: 24.505s, episode steps: 952, steps per second:  39, episode reward: 14.000, mean reward:  0.015 [ 0.000,  1.000], mean action: 2.095 [0.000, 5.000],  loss: --, mae: --, mean_q: --\n",
            " 44733/100000: episode: 67, duration: 21.064s, episode steps: 798, steps per second:  38, episode reward: 10.000, mean reward:  0.013 [ 0.000,  1.000], mean action: 2.117 [0.000, 5.000],  loss: --, mae: --, mean_q: --\n",
            " 45549/100000: episode: 68, duration: 20.475s, episode steps: 816, steps per second:  40, episode reward:  9.000, mean reward:  0.011 [ 0.000,  1.000], mean action: 2.102 [0.000, 5.000],  loss: --, mae: --, mean_q: --\n",
            " 46158/100000: episode: 69, duration: 16.337s, episode steps: 609, steps per second:  37, episode reward:  8.000, mean reward:  0.013 [ 0.000,  1.000], mean action: 2.049 [0.000, 5.000],  loss: --, mae: --, mean_q: --\n",
            " 46699/100000: episode: 70, duration: 13.754s, episode steps: 541, steps per second:  39, episode reward: 10.000, mean reward:  0.018 [ 0.000,  1.000], mean action: 2.181 [0.000, 5.000],  loss: --, mae: --, mean_q: --\n",
            " 47197/100000: episode: 71, duration: 12.766s, episode steps: 498, steps per second:  39, episode reward:  8.000, mean reward:  0.016 [ 0.000,  1.000], mean action: 2.193 [0.000, 5.000],  loss: --, mae: --, mean_q: --\n",
            " 47983/100000: episode: 72, duration: 20.524s, episode steps: 786, steps per second:  38, episode reward: 14.000, mean reward:  0.018 [ 0.000,  1.000], mean action: 2.088 [0.000, 5.000],  loss: --, mae: --, mean_q: --\n",
            " 48581/100000: episode: 73, duration: 15.693s, episode steps: 598, steps per second:  38, episode reward:  8.000, mean reward:  0.013 [ 0.000,  1.000], mean action: 1.783 [0.000, 5.000],  loss: --, mae: --, mean_q: --\n",
            " 49295/100000: episode: 74, duration: 18.036s, episode steps: 714, steps per second:  40, episode reward: 17.000, mean reward:  0.024 [ 0.000,  1.000], mean action: 2.345 [0.000, 5.000],  loss: --, mae: --, mean_q: --\n",
            " 49976/100000: episode: 75, duration: 18.465s, episode steps: 681, steps per second:  37, episode reward: 11.000, mean reward:  0.016 [ 0.000,  1.000], mean action: 2.082 [0.000, 5.000],  loss: --, mae: --, mean_q: --\n",
            " 50670/100000: episode: 76, duration: 57.225s, episode steps: 694, steps per second:  12, episode reward:  9.000, mean reward:  0.013 [ 0.000,  1.000], mean action: 2.179 [0.000, 5.000],  loss: 0.007391, mae: 0.564681, mean_q: 0.679832\n",
            " 51479/100000: episode: 77, duration: 65.013s, episode steps: 809, steps per second:  12, episode reward: 13.000, mean reward:  0.016 [ 0.000,  1.000], mean action: 2.466 [0.000, 5.000],  loss: 0.007132, mae: 0.566762, mean_q: 0.681943\n",
            " 52288/100000: episode: 78, duration: 65.266s, episode steps: 809, steps per second:  12, episode reward: 15.000, mean reward:  0.019 [ 0.000,  1.000], mean action: 2.318 [0.000, 5.000],  loss: 0.007660, mae: 0.566467, mean_q: 0.682032\n",
            " 52891/100000: episode: 79, duration: 48.209s, episode steps: 603, steps per second:  13, episode reward:  8.000, mean reward:  0.013 [ 0.000,  1.000], mean action: 2.716 [0.000, 5.000],  loss: 0.007821, mae: 0.566443, mean_q: 0.682371\n",
            " 54090/100000: episode: 80, duration: 98.198s, episode steps: 1199, steps per second:  12, episode reward: 12.000, mean reward:  0.010 [ 0.000,  1.000], mean action: 1.480 [0.000, 5.000],  loss: 0.008025, mae: 0.570689, mean_q: 0.687247\n",
            " 54478/100000: episode: 81, duration: 31.429s, episode steps: 388, steps per second:  12, episode reward:  4.000, mean reward:  0.010 [ 0.000,  1.000], mean action: 3.686 [0.000, 5.000],  loss: 0.008153, mae: 0.567321, mean_q: 0.683206\n",
            " 55154/100000: episode: 82, duration: 54.601s, episode steps: 676, steps per second:  12, episode reward:  7.000, mean reward:  0.010 [ 0.000,  1.000], mean action: 2.395 [0.000, 5.000],  loss: 0.008151, mae: 0.568416, mean_q: 0.683064\n",
            " 55532/100000: episode: 83, duration: 29.732s, episode steps: 378, steps per second:  13, episode reward:  4.000, mean reward:  0.011 [ 0.000,  1.000], mean action: 2.259 [0.000, 5.000],  loss: 0.009183, mae: 0.571812, mean_q: 0.687192\n",
            " 56468/100000: episode: 84, duration: 75.059s, episode steps: 936, steps per second:  12, episode reward: 14.000, mean reward:  0.015 [ 0.000,  1.000], mean action: 2.767 [0.000, 5.000],  loss: 0.006484, mae: 0.565193, mean_q: 0.680810\n",
            " 56905/100000: episode: 85, duration: 35.165s, episode steps: 437, steps per second:  12, episode reward:  7.000, mean reward:  0.016 [ 0.000,  1.000], mean action: 2.597 [0.000, 5.000],  loss: 0.008333, mae: 0.567502, mean_q: 0.682809\n",
            " 57671/100000: episode: 86, duration: 60.784s, episode steps: 766, steps per second:  13, episode reward:  8.000, mean reward:  0.010 [ 0.000,  1.000], mean action: 2.383 [0.000, 5.000],  loss: 0.008116, mae: 0.571863, mean_q: 0.687273\n",
            " 59524/100000: episode: 87, duration: 146.968s, episode steps: 1853, steps per second:  13, episode reward: 32.000, mean reward:  0.017 [ 0.000,  1.000], mean action: 2.808 [0.000, 5.000],  loss: 0.008153, mae: 0.567795, mean_q: 0.683147\n",
            " 60221/100000: episode: 88, duration: 55.154s, episode steps: 697, steps per second:  13, episode reward: 15.000, mean reward:  0.022 [ 0.000,  1.000], mean action: 1.824 [0.000, 5.000],  loss: 0.007530, mae: 0.564450, mean_q: 0.679476\n",
            " 61186/100000: episode: 89, duration: 75.645s, episode steps: 965, steps per second:  13, episode reward: 10.000, mean reward:  0.010 [ 0.000,  1.000], mean action: 2.005 [0.000, 5.000],  loss: 0.009211, mae: 0.580548, mean_q: 0.698134\n",
            " 61492/100000: episode: 90, duration: 24.337s, episode steps: 306, steps per second:  13, episode reward:  2.000, mean reward:  0.007 [ 0.000,  1.000], mean action: 1.794 [0.000, 5.000],  loss: 0.008321, mae: 0.581272, mean_q: 0.699134\n",
            " 62198/100000: episode: 91, duration: 55.607s, episode steps: 706, steps per second:  13, episode reward: 16.000, mean reward:  0.023 [ 0.000,  1.000], mean action: 1.351 [0.000, 5.000],  loss: 0.008548, mae: 0.576411, mean_q: 0.694466\n",
            " 63350/100000: episode: 92, duration: 92.418s, episode steps: 1152, steps per second:  12, episode reward: 21.000, mean reward:  0.018 [ 0.000,  1.000], mean action: 1.746 [0.000, 5.000],  loss: 0.007568, mae: 0.576040, mean_q: 0.692756\n",
            " 63974/100000: episode: 93, duration: 49.242s, episode steps: 624, steps per second:  13, episode reward:  6.000, mean reward:  0.010 [ 0.000,  1.000], mean action: 1.349 [0.000, 5.000],  loss: 0.007989, mae: 0.575947, mean_q: 0.693046\n",
            " 64438/100000: episode: 94, duration: 37.109s, episode steps: 464, steps per second:  13, episode reward:  6.000, mean reward:  0.013 [ 0.000,  1.000], mean action: 2.028 [0.000, 5.000],  loss: 0.007636, mae: 0.570900, mean_q: 0.686750\n",
            " 65354/100000: episode: 95, duration: 74.221s, episode steps: 916, steps per second:  12, episode reward:  9.000, mean reward:  0.010 [ 0.000,  1.000], mean action: 2.288 [0.000, 5.000],  loss: 0.008773, mae: 0.577006, mean_q: 0.692427\n",
            " 66772/100000: episode: 96, duration: 112.249s, episode steps: 1418, steps per second:  13, episode reward: 30.000, mean reward:  0.021 [ 0.000,  1.000], mean action: 2.502 [0.000, 5.000],  loss: 0.007627, mae: 0.577573, mean_q: 0.694610\n",
            " 67468/100000: episode: 97, duration: 56.965s, episode steps: 696, steps per second:  12, episode reward: 10.000, mean reward:  0.014 [ 0.000,  1.000], mean action: 3.260 [0.000, 5.000],  loss: 0.008635, mae: 0.575238, mean_q: 0.691506\n",
            " 68152/100000: episode: 98, duration: 55.147s, episode steps: 684, steps per second:  12, episode reward: 11.000, mean reward:  0.016 [ 0.000,  1.000], mean action: 3.202 [0.000, 5.000],  loss: 0.007736, mae: 0.575889, mean_q: 0.692742\n",
            " 68654/100000: episode: 99, duration: 40.757s, episode steps: 502, steps per second:  12, episode reward:  6.000, mean reward:  0.012 [ 0.000,  1.000], mean action: 2.948 [0.000, 5.000],  loss: 0.008713, mae: 0.571373, mean_q: 0.685430\n",
            " 69211/100000: episode: 100, duration: 44.516s, episode steps: 557, steps per second:  13, episode reward:  3.000, mean reward:  0.005 [ 0.000,  1.000], mean action: 2.499 [0.000, 5.000],  loss: 0.009900, mae: 0.580839, mean_q: 0.695992\n",
            " 69592/100000: episode: 101, duration: 31.138s, episode steps: 381, steps per second:  12, episode reward:  4.000, mean reward:  0.010 [ 0.000,  1.000], mean action: 2.530 [0.000, 5.000],  loss: 0.006116, mae: 0.562426, mean_q: 0.676630\n",
            " 70339/100000: episode: 102, duration: 60.447s, episode steps: 747, steps per second:  12, episode reward: 17.000, mean reward:  0.023 [ 0.000,  1.000], mean action: 1.602 [0.000, 5.000],  loss: 0.008635, mae: 0.577271, mean_q: 0.693969\n",
            " 71440/100000: episode: 103, duration: 87.120s, episode steps: 1101, steps per second:  13, episode reward: 10.000, mean reward:  0.009 [ 0.000,  1.000], mean action: 1.851 [0.000, 5.000],  loss: 0.007265, mae: 0.588218, mean_q: 0.707484\n",
            " 71971/100000: episode: 104, duration: 43.672s, episode steps: 531, steps per second:  12, episode reward: 10.000, mean reward:  0.019 [ 0.000,  1.000], mean action: 2.418 [0.000, 5.000],  loss: 0.008442, mae: 0.584729, mean_q: 0.703650\n",
            " 72755/100000: episode: 105, duration: 62.866s, episode steps: 784, steps per second:  12, episode reward:  8.000, mean reward:  0.010 [ 0.000,  1.000], mean action: 2.298 [0.000, 5.000],  loss: 0.008259, mae: 0.590042, mean_q: 0.709307\n",
            " 73150/100000: episode: 106, duration: 31.481s, episode steps: 395, steps per second:  13, episode reward:  4.000, mean reward:  0.010 [ 0.000,  1.000], mean action: 2.876 [0.000, 5.000],  loss: 0.008315, mae: 0.589787, mean_q: 0.707729\n",
            " 73563/100000: episode: 107, duration: 33.041s, episode steps: 413, steps per second:  12, episode reward:  7.000, mean reward:  0.017 [ 0.000,  1.000], mean action: 2.746 [0.000, 5.000],  loss: 0.008073, mae: 0.587878, mean_q: 0.706645\n",
            " 74214/100000: episode: 108, duration: 51.365s, episode steps: 651, steps per second:  13, episode reward: 11.000, mean reward:  0.017 [ 0.000,  1.000], mean action: 2.539 [0.000, 5.000],  loss: 0.008002, mae: 0.589517, mean_q: 0.707998\n",
            " 74932/100000: episode: 109, duration: 56.422s, episode steps: 718, steps per second:  13, episode reward: 11.000, mean reward:  0.015 [ 0.000,  1.000], mean action: 2.943 [0.000, 5.000],  loss: 0.006974, mae: 0.589463, mean_q: 0.708749\n",
            " 75618/100000: episode: 110, duration: 53.920s, episode steps: 686, steps per second:  13, episode reward: 10.000, mean reward:  0.015 [ 0.000,  1.000], mean action: 2.860 [0.000, 5.000],  loss: 0.008185, mae: 0.589242, mean_q: 0.708098\n",
            " 76099/100000: episode: 111, duration: 37.244s, episode steps: 481, steps per second:  13, episode reward:  8.000, mean reward:  0.017 [ 0.000,  1.000], mean action: 2.370 [0.000, 5.000],  loss: 0.009097, mae: 0.594916, mean_q: 0.714472\n",
            " 77170/100000: episode: 112, duration: 84.656s, episode steps: 1071, steps per second:  13, episode reward: 14.000, mean reward:  0.013 [ 0.000,  1.000], mean action: 2.275 [0.000, 5.000],  loss: 0.008840, mae: 0.591156, mean_q: 0.711557\n",
            " 78103/100000: episode: 113, duration: 74.828s, episode steps: 933, steps per second:  12, episode reward: 12.000, mean reward:  0.013 [ 0.000,  1.000], mean action: 2.442 [0.000, 5.000],  loss: 0.008356, mae: 0.591727, mean_q: 0.710129\n",
            " 79056/100000: episode: 114, duration: 75.215s, episode steps: 953, steps per second:  13, episode reward: 14.000, mean reward:  0.015 [ 0.000,  1.000], mean action: 3.145 [0.000, 5.000],  loss: 0.007857, mae: 0.589460, mean_q: 0.708838\n",
            " 79566/100000: episode: 115, duration: 40.333s, episode steps: 510, steps per second:  13, episode reward:  8.000, mean reward:  0.016 [ 0.000,  1.000], mean action: 3.006 [0.000, 5.000],  loss: 0.010454, mae: 0.601356, mean_q: 0.721167\n",
            " 80181/100000: episode: 116, duration: 49.333s, episode steps: 615, steps per second:  12, episode reward:  7.000, mean reward:  0.011 [ 0.000,  1.000], mean action: 2.915 [0.000, 5.000],  loss: 0.006925, mae: 0.588225, mean_q: 0.706611\n",
            " 80702/100000: episode: 117, duration: 41.467s, episode steps: 521, steps per second:  13, episode reward:  6.000, mean reward:  0.012 [ 0.000,  1.000], mean action: 2.856 [0.000, 5.000],  loss: 0.007258, mae: 0.590811, mean_q: 0.710275\n",
            " 81746/100000: episode: 118, duration: 81.808s, episode steps: 1044, steps per second:  13, episode reward: 19.000, mean reward:  0.018 [ 0.000,  1.000], mean action: 2.698 [0.000, 5.000],  loss: 0.008027, mae: 0.597923, mean_q: 0.718687\n",
            " 82704/100000: episode: 119, duration: 75.181s, episode steps: 958, steps per second:  13, episode reward: 17.000, mean reward:  0.018 [ 0.000,  1.000], mean action: 3.219 [0.000, 5.000],  loss: 0.007634, mae: 0.597162, mean_q: 0.718307\n",
            " 83198/100000: episode: 120, duration: 39.277s, episode steps: 494, steps per second:  13, episode reward:  6.000, mean reward:  0.012 [ 0.000,  1.000], mean action: 2.715 [0.000, 5.000],  loss: 0.007969, mae: 0.590943, mean_q: 0.710408\n",
            " 84123/100000: episode: 121, duration: 74.138s, episode steps: 925, steps per second:  12, episode reward: 16.000, mean reward:  0.017 [ 0.000,  1.000], mean action: 2.265 [0.000, 5.000],  loss: 0.007675, mae: 0.596973, mean_q: 0.716507\n",
            " 84798/100000: episode: 122, duration: 53.585s, episode steps: 675, steps per second:  13, episode reward: 14.000, mean reward:  0.021 [ 0.000,  1.000], mean action: 2.634 [0.000, 5.000],  loss: 0.007497, mae: 0.596780, mean_q: 0.716862\n",
            " 85587/100000: episode: 123, duration: 62.383s, episode steps: 789, steps per second:  13, episode reward: 11.000, mean reward:  0.014 [ 0.000,  1.000], mean action: 2.568 [0.000, 5.000],  loss: 0.007459, mae: 0.597809, mean_q: 0.718308\n",
            " 86203/100000: episode: 124, duration: 48.825s, episode steps: 616, steps per second:  13, episode reward:  7.000, mean reward:  0.011 [ 0.000,  1.000], mean action: 3.334 [0.000, 5.000],  loss: 0.007978, mae: 0.602892, mean_q: 0.724379\n",
            " 86861/100000: episode: 125, duration: 52.763s, episode steps: 658, steps per second:  12, episode reward: 12.000, mean reward:  0.018 [ 0.000,  1.000], mean action: 2.014 [0.000, 5.000],  loss: 0.008726, mae: 0.596004, mean_q: 0.714758\n",
            " 88373/100000: episode: 126, duration: 122.195s, episode steps: 1512, steps per second:  12, episode reward: 21.000, mean reward:  0.014 [ 0.000,  1.000], mean action: 2.185 [0.000, 5.000],  loss: 0.007467, mae: 0.593760, mean_q: 0.713497\n",
            " 88830/100000: episode: 127, duration: 36.100s, episode steps: 457, steps per second:  13, episode reward: 10.000, mean reward:  0.022 [ 0.000,  1.000], mean action: 2.199 [0.000, 5.000],  loss: 0.008895, mae: 0.600828, mean_q: 0.722427\n",
            " 89203/100000: episode: 128, duration: 29.384s, episode steps: 373, steps per second:  13, episode reward:  2.000, mean reward:  0.005 [ 0.000,  1.000], mean action: 2.566 [0.000, 5.000],  loss: 0.007364, mae: 0.593412, mean_q: 0.713094\n",
            " 89988/100000: episode: 129, duration: 63.881s, episode steps: 785, steps per second:  12, episode reward: 11.000, mean reward:  0.014 [ 0.000,  1.000], mean action: 2.977 [0.000, 5.000],  loss: 0.007688, mae: 0.597645, mean_q: 0.717754\n",
            " 90981/100000: episode: 130, duration: 82.905s, episode steps: 993, steps per second:  12, episode reward: 17.000, mean reward:  0.017 [ 0.000,  1.000], mean action: 2.823 [0.000, 5.000],  loss: 0.008288, mae: 0.602787, mean_q: 0.723759\n",
            " 91657/100000: episode: 131, duration: 55.407s, episode steps: 676, steps per second:  12, episode reward: 15.000, mean reward:  0.022 [ 0.000,  1.000], mean action: 2.496 [0.000, 5.000],  loss: 0.007496, mae: 0.598081, mean_q: 0.718407\n",
            " 92475/100000: episode: 132, duration: 66.466s, episode steps: 818, steps per second:  12, episode reward: 11.000, mean reward:  0.013 [ 0.000,  1.000], mean action: 2.510 [0.000, 5.000],  loss: 0.008870, mae: 0.602147, mean_q: 0.723676\n",
            " 93557/100000: episode: 133, duration: 88.164s, episode steps: 1082, steps per second:  12, episode reward: 30.000, mean reward:  0.028 [ 0.000,  1.000], mean action: 1.988 [0.000, 5.000],  loss: 0.007880, mae: 0.602388, mean_q: 0.723446\n",
            " 93900/100000: episode: 134, duration: 29.602s, episode steps: 343, steps per second:  12, episode reward:  3.000, mean reward:  0.009 [ 0.000,  1.000], mean action: 2.522 [0.000, 5.000],  loss: 0.007404, mae: 0.600467, mean_q: 0.720931\n",
            " 94237/100000: episode: 135, duration: 28.049s, episode steps: 337, steps per second:  12, episode reward:  5.000, mean reward:  0.015 [ 0.000,  1.000], mean action: 1.890 [0.000, 5.000],  loss: 0.009437, mae: 0.607612, mean_q: 0.728677\n",
            " 94927/100000: episode: 136, duration: 57.916s, episode steps: 690, steps per second:  12, episode reward: 16.000, mean reward:  0.023 [ 0.000,  1.000], mean action: 1.103 [0.000, 5.000],  loss: 0.008979, mae: 0.605214, mean_q: 0.728157\n",
            " 95443/100000: episode: 137, duration: 42.615s, episode steps: 516, steps per second:  12, episode reward:  5.000, mean reward:  0.010 [ 0.000,  1.000], mean action: 1.992 [0.000, 5.000],  loss: 0.008412, mae: 0.605759, mean_q: 0.726740\n",
            " 96145/100000: episode: 138, duration: 56.230s, episode steps: 702, steps per second:  12, episode reward: 12.000, mean reward:  0.017 [ 0.000,  1.000], mean action: 2.590 [0.000, 5.000],  loss: 0.008033, mae: 0.601458, mean_q: 0.723163\n",
            " 97001/100000: episode: 139, duration: 67.435s, episode steps: 856, steps per second:  13, episode reward: 10.000, mean reward:  0.012 [ 0.000,  1.000], mean action: 2.403 [0.000, 5.000],  loss: 0.007235, mae: 0.597305, mean_q: 0.718038\n",
            " 97799/100000: episode: 140, duration: 62.992s, episode steps: 798, steps per second:  13, episode reward: 10.000, mean reward:  0.013 [ 0.000,  1.000], mean action: 2.496 [0.000, 5.000],  loss: 0.008361, mae: 0.600027, mean_q: 0.720172\n",
            " 98502/100000: episode: 141, duration: 56.986s, episode steps: 703, steps per second:  12, episode reward: 10.000, mean reward:  0.014 [ 0.000,  1.000], mean action: 2.580 [0.000, 5.000],  loss: 0.008669, mae: 0.606331, mean_q: 0.729446\n"
          ]
        }
      ],
      "source": [
        "# Cargar pesos anteriores si existen\n",
        "latest_path, trained_steps = load_latest_weights(dqn, checkpoint_dir)\n",
        "if latest_path:\n",
        "    dqn.load_weights(latest_path)\n",
        "else:\n",
        "    trained_steps = 0\n",
        "\n",
        "# Definir pasos a entrenar\n",
        "steps_to_train = 100000\n",
        "total_steps = trained_steps + steps_to_train\n",
        "\n",
        "# Crear paths y callbacks dinámicos\n",
        "log_path = os.path.join(log_dir, f\"dqn_noisy_log_{trained_steps}_{total_steps}.json\")\n",
        "checkpoint_path = os.path.join(checkpoint_dir, f\"dqn_noisy_weights_{total_steps}.h5\")\n",
        "\n",
        "logger_callback = FileLogger(log_path, interval=100)\n",
        "checkpoint_callback = ModelIntervalCheckpoint(checkpoint_path, interval=10000)\n",
        "\n",
        "# Entrenar agente\n",
        "dqn.fit(env, nb_steps=steps_to_train, visualize=False, verbose=2,\n",
        "        callbacks=[checkpoint_callback, logger_callback])\n",
        "\n",
        "# Guardar pesos finales\n",
        "dqn.save_weights(checkpoint_path, overwrite=True)\n",
        "\n",
        "# Guardar la memoria de experiencia\n",
        "import pickle\n",
        "with open('memory_noisy.pkl', 'wb') as f:\n",
        "    pickle.dump(memory, f)\n",
        "\n",
        "print(f\"Entrenamiento hasta {total_steps} pasos completado y guardado.\")"
      ]
    },
    {
      "cell_type": "code",
      "execution_count": null,
      "metadata": {
        "id": "9x6-wgiTDbRz"
      },
      "outputs": [],
      "source": [
        "import time\n",
        "\n",
        "print(\"Esperando 60 segundos...\")\n",
        "time.sleep(60)\n",
        "print(\"¡Tiempo de espera terminado!\")"
      ]
    },
    {
      "cell_type": "code",
      "execution_count": null,
      "metadata": {
        "id": "4Fvp-zjUDenQ"
      },
      "outputs": [],
      "source": [
        "# Testear desde último checkpoint\n",
        "latest_path, trained_steps = load_latest_weights(dqn, checkpoint_dir)\n",
        "if latest_path:\n",
        "    dqn.test(env, nb_episodes=10, visualize=False)"
      ]
    },
    {
      "cell_type": "markdown",
      "source": [
        "Parte 3"
      ],
      "metadata": {
        "id": "HH-nim-7h4Je"
      }
    },
    {
      "cell_type": "code",
      "source": [
        "# Cargar pesos anteriores si existen\n",
        "latest_path, trained_steps = load_latest_weights(dqn, checkpoint_dir)\n",
        "if latest_path:\n",
        "    dqn.load_weights(latest_path)\n",
        "else:\n",
        "    trained_steps = 0\n",
        "\n",
        "# Definir pasos a entrenar\n",
        "steps_to_train = 100000\n",
        "total_steps = trained_steps + steps_to_train\n",
        "\n",
        "# Crear paths y callbacks dinámicos\n",
        "log_path = os.path.join(log_dir, f\"dqn_noisy_log_{trained_steps}_{total_steps}.json\")\n",
        "checkpoint_path = os.path.join(checkpoint_dir, f\"dqn_noisy_weights_{total_steps}.h5\")\n",
        "\n",
        "logger_callback = FileLogger(log_path, interval=100)\n",
        "checkpoint_callback = ModelIntervalCheckpoint(checkpoint_path, interval=10000)\n",
        "\n",
        "# Entrenar agente\n",
        "dqn.fit(env, nb_steps=steps_to_train, visualize=False, verbose=2,\n",
        "        callbacks=[checkpoint_callback, logger_callback])\n",
        "\n",
        "# Guardar pesos finales\n",
        "dqn.save_weights(checkpoint_path, overwrite=True)\n",
        "\n",
        "# Guardar la memoria de experiencia\n",
        "import pickle\n",
        "with open('memory_noisy.pkl', 'wb') as f:\n",
        "    pickle.dump(memory, f)\n",
        "\n",
        "print(f\"Entrenamiento hasta {total_steps} pasos completado y guardado.\")"
      ],
      "metadata": {
        "id": "nQMM5CJsh58v"
      },
      "execution_count": null,
      "outputs": []
    },
    {
      "cell_type": "code",
      "source": [
        "import time\n",
        "\n",
        "print(\"Esperando 60 segundos...\")\n",
        "time.sleep(60)\n",
        "print(\"¡Tiempo de espera terminado!\")"
      ],
      "metadata": {
        "id": "54xD4zIWh-Jp"
      },
      "execution_count": null,
      "outputs": []
    },
    {
      "cell_type": "code",
      "source": [
        "# Testear desde último checkpoint\n",
        "latest_path, trained_steps = load_latest_weights(dqn, checkpoint_dir)\n",
        "if latest_path:\n",
        "    dqn.test(env, nb_episodes=10, visualize=False)"
      ],
      "metadata": {
        "id": "42ul4qa_h_-W"
      },
      "execution_count": null,
      "outputs": []
    }
  ],
  "metadata": {
    "colab": {
      "provenance": [],
      "include_colab_link": true
    },
    "kernelspec": {
      "display_name": "Python 3",
      "name": "python3"
    },
    "language_info": {
      "name": "python"
    }
  },
  "nbformat": 4,
  "nbformat_minor": 0
}